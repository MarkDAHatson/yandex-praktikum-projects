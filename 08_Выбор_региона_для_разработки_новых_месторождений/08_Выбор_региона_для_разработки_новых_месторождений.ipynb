{
 "cells": [
  {
   "cell_type": "markdown",
   "metadata": {},
   "source": [
    "# Выбор локации для скважины"
   ]
  },
  {
   "cell_type": "markdown",
   "metadata": {},
   "source": [
    "Заказчик исследования - компания «ГлавРосГосНефть», которой необходимо определиться, где бурить новую скважину. Входные данные от компании - пробы нефти в трёх регионах, где в каждом 10 000 месторождений с измеренными качеством нефти и объёмом её запасов. Характеристики для каждой скважины в регионы уже известны. Необходимо построить модель для определения региона, где добыча принесёт наибольшую прибыль, а также проанализировать возможную прибыль и риски.\n",
    "\n",
    "Результаты исследования будут использованы заказчиком в коммерческих целях.\n",
    "\n",
    "**Цель исследования**: построить модель для определения региона с наибольшей возможной прибылью и проанилизровать эту прибыль и риски\n",
    "\n",
    "Ход исследования:\n",
    "\n",
    "Входные данные от компании - статистика проб нефти в трёх регионах. Будем называть их нулевым (0), первым (1) и вторым (2) регионами. Перед анализом данные необходимо загрузить и подготовить к анализу. Далее акцентируем внимание на построение качественной модели для предсказания возможной прибыли. После построения модели необходимо будет провести тестирование на тестовой выборке. В завершении исследования проведём расчёты прибыли и рисков.\n",
    "\n",
    "Таким образом, исследование пройдёт в 4 этапа:\n",
    "\n",
    "* 1. Изучение данных и подготовка.\n",
    "* 2. Обучение и проверка моделей.\n",
    "* 3. Подготовка к расчёту прибыли.\n",
    "* 4. Расчёт прибыли и рисков.\n",
    "\n",
    "Дополнительная информация от заказчика по шагам для выбора локации:\n",
    "\n",
    "- В избранном регионе ищут месторождения, для каждого определяют значения признаков;\n",
    "- Строят модель и оценивают объём запасов;\n",
    "- Выбирают месторождения с самым высокими оценками значений. Количество месторождений зависит от бюджета компании и стоимости разработки одной скважины;\n",
    "- Прибыль равна суммарной прибыли отобранных месторождений."
   ]
  },
  {
   "cell_type": "markdown",
   "metadata": {},
   "source": [
    "## Изучение данных и подготовка"
   ]
  },
  {
   "cell_type": "markdown",
   "metadata": {},
   "source": [
    "Перед тем, как приступить к изучению данных из файла, импортируем все нужные для текущего исследования библиотеки и модули:"
   ]
  },
  {
   "cell_type": "code",
   "execution_count": 1,
   "metadata": {},
   "outputs": [],
   "source": [
    "import pandas as pd\n",
    "import numpy as np\n",
    "from sklearn.model_selection import train_test_split\n",
    "from sklearn.linear_model import LinearRegression\n",
    "from sklearn.metrics import mean_squared_error\n",
    "from scipy import stats as st"
   ]
  },
  {
   "cell_type": "markdown",
   "metadata": {},
   "source": [
    "Также сохраним в начале исследования необходимые константные переменные:"
   ]
  },
  {
   "cell_type": "code",
   "execution_count": 2,
   "metadata": {},
   "outputs": [],
   "source": [
    "RANDOM_STATE = np.random.RandomState(28)"
   ]
  },
  {
   "cell_type": "markdown",
   "metadata": {},
   "source": [
    "Прочитаем полученные данные и сохраним их в таблицах `df_n`:"
   ]
  },
  {
   "cell_type": "code",
   "execution_count": 3,
   "metadata": {},
   "outputs": [],
   "source": [
    "df_0 = pd.read_csv('/datasets/geo_data_0.csv')\n",
    "df_1 = pd.read_csv('/datasets/geo_data_1.csv')\n",
    "df_2 = pd.read_csv('/datasets/geo_data_2.csv')"
   ]
  },
  {
   "cell_type": "markdown",
   "metadata": {},
   "source": [
    "Выведем на экран 3 первые строки каждой таблицы:"
   ]
  },
  {
   "cell_type": "code",
   "execution_count": 4,
   "metadata": {},
   "outputs": [
    {
     "data": {
      "text/html": [
       "<div>\n",
       "<style scoped>\n",
       "    .dataframe tbody tr th:only-of-type {\n",
       "        vertical-align: middle;\n",
       "    }\n",
       "\n",
       "    .dataframe tbody tr th {\n",
       "        vertical-align: top;\n",
       "    }\n",
       "\n",
       "    .dataframe thead th {\n",
       "        text-align: right;\n",
       "    }\n",
       "</style>\n",
       "<table border=\"1\" class=\"dataframe\">\n",
       "  <thead>\n",
       "    <tr style=\"text-align: right;\">\n",
       "      <th></th>\n",
       "      <th>id</th>\n",
       "      <th>f0</th>\n",
       "      <th>f1</th>\n",
       "      <th>f2</th>\n",
       "      <th>product</th>\n",
       "    </tr>\n",
       "  </thead>\n",
       "  <tbody>\n",
       "    <tr>\n",
       "      <th>0</th>\n",
       "      <td>txEyH</td>\n",
       "      <td>0.705745</td>\n",
       "      <td>-0.497823</td>\n",
       "      <td>1.221170</td>\n",
       "      <td>105.280062</td>\n",
       "    </tr>\n",
       "    <tr>\n",
       "      <th>1</th>\n",
       "      <td>2acmU</td>\n",
       "      <td>1.334711</td>\n",
       "      <td>-0.340164</td>\n",
       "      <td>4.365080</td>\n",
       "      <td>73.037750</td>\n",
       "    </tr>\n",
       "    <tr>\n",
       "      <th>2</th>\n",
       "      <td>409Wp</td>\n",
       "      <td>1.022732</td>\n",
       "      <td>0.151990</td>\n",
       "      <td>1.419926</td>\n",
       "      <td>85.265647</td>\n",
       "    </tr>\n",
       "  </tbody>\n",
       "</table>\n",
       "</div>"
      ],
      "text/plain": [
       "      id        f0        f1        f2     product\n",
       "0  txEyH  0.705745 -0.497823  1.221170  105.280062\n",
       "1  2acmU  1.334711 -0.340164  4.365080   73.037750\n",
       "2  409Wp  1.022732  0.151990  1.419926   85.265647"
      ]
     },
     "metadata": {},
     "output_type": "display_data"
    },
    {
     "data": {
      "text/html": [
       "<div>\n",
       "<style scoped>\n",
       "    .dataframe tbody tr th:only-of-type {\n",
       "        vertical-align: middle;\n",
       "    }\n",
       "\n",
       "    .dataframe tbody tr th {\n",
       "        vertical-align: top;\n",
       "    }\n",
       "\n",
       "    .dataframe thead th {\n",
       "        text-align: right;\n",
       "    }\n",
       "</style>\n",
       "<table border=\"1\" class=\"dataframe\">\n",
       "  <thead>\n",
       "    <tr style=\"text-align: right;\">\n",
       "      <th></th>\n",
       "      <th>id</th>\n",
       "      <th>f0</th>\n",
       "      <th>f1</th>\n",
       "      <th>f2</th>\n",
       "      <th>product</th>\n",
       "    </tr>\n",
       "  </thead>\n",
       "  <tbody>\n",
       "    <tr>\n",
       "      <th>0</th>\n",
       "      <td>kBEdx</td>\n",
       "      <td>-15.001348</td>\n",
       "      <td>-8.276000</td>\n",
       "      <td>-0.005876</td>\n",
       "      <td>3.179103</td>\n",
       "    </tr>\n",
       "    <tr>\n",
       "      <th>1</th>\n",
       "      <td>62mP7</td>\n",
       "      <td>14.272088</td>\n",
       "      <td>-3.475083</td>\n",
       "      <td>0.999183</td>\n",
       "      <td>26.953261</td>\n",
       "    </tr>\n",
       "    <tr>\n",
       "      <th>2</th>\n",
       "      <td>vyE1P</td>\n",
       "      <td>6.263187</td>\n",
       "      <td>-5.948386</td>\n",
       "      <td>5.001160</td>\n",
       "      <td>134.766305</td>\n",
       "    </tr>\n",
       "  </tbody>\n",
       "</table>\n",
       "</div>"
      ],
      "text/plain": [
       "      id         f0        f1        f2     product\n",
       "0  kBEdx -15.001348 -8.276000 -0.005876    3.179103\n",
       "1  62mP7  14.272088 -3.475083  0.999183   26.953261\n",
       "2  vyE1P   6.263187 -5.948386  5.001160  134.766305"
      ]
     },
     "metadata": {},
     "output_type": "display_data"
    },
    {
     "data": {
      "text/html": [
       "<div>\n",
       "<style scoped>\n",
       "    .dataframe tbody tr th:only-of-type {\n",
       "        vertical-align: middle;\n",
       "    }\n",
       "\n",
       "    .dataframe tbody tr th {\n",
       "        vertical-align: top;\n",
       "    }\n",
       "\n",
       "    .dataframe thead th {\n",
       "        text-align: right;\n",
       "    }\n",
       "</style>\n",
       "<table border=\"1\" class=\"dataframe\">\n",
       "  <thead>\n",
       "    <tr style=\"text-align: right;\">\n",
       "      <th></th>\n",
       "      <th>id</th>\n",
       "      <th>f0</th>\n",
       "      <th>f1</th>\n",
       "      <th>f2</th>\n",
       "      <th>product</th>\n",
       "    </tr>\n",
       "  </thead>\n",
       "  <tbody>\n",
       "    <tr>\n",
       "      <th>0</th>\n",
       "      <td>fwXo0</td>\n",
       "      <td>-1.146987</td>\n",
       "      <td>0.963328</td>\n",
       "      <td>-0.828965</td>\n",
       "      <td>27.758673</td>\n",
       "    </tr>\n",
       "    <tr>\n",
       "      <th>1</th>\n",
       "      <td>WJtFt</td>\n",
       "      <td>0.262778</td>\n",
       "      <td>0.269839</td>\n",
       "      <td>-2.530187</td>\n",
       "      <td>56.069697</td>\n",
       "    </tr>\n",
       "    <tr>\n",
       "      <th>2</th>\n",
       "      <td>ovLUW</td>\n",
       "      <td>0.194587</td>\n",
       "      <td>0.289035</td>\n",
       "      <td>-5.586433</td>\n",
       "      <td>62.871910</td>\n",
       "    </tr>\n",
       "  </tbody>\n",
       "</table>\n",
       "</div>"
      ],
      "text/plain": [
       "      id        f0        f1        f2    product\n",
       "0  fwXo0 -1.146987  0.963328 -0.828965  27.758673\n",
       "1  WJtFt  0.262778  0.269839 -2.530187  56.069697\n",
       "2  ovLUW  0.194587  0.289035 -5.586433  62.871910"
      ]
     },
     "metadata": {},
     "output_type": "display_data"
    }
   ],
   "source": [
    "display(df_0.head(3))\n",
    "display(df_1.head(3))\n",
    "display(df_2.head(3))"
   ]
  },
  {
   "cell_type": "markdown",
   "metadata": {},
   "source": [
    "Получим общую информацию о полученных таблицах:"
   ]
  },
  {
   "cell_type": "code",
   "execution_count": 5,
   "metadata": {},
   "outputs": [
    {
     "name": "stdout",
     "output_type": "stream",
     "text": [
      "<class 'pandas.core.frame.DataFrame'>\n",
      "RangeIndex: 100000 entries, 0 to 99999\n",
      "Data columns (total 5 columns):\n",
      " #   Column   Non-Null Count   Dtype  \n",
      "---  ------   --------------   -----  \n",
      " 0   id       100000 non-null  object \n",
      " 1   f0       100000 non-null  float64\n",
      " 2   f1       100000 non-null  float64\n",
      " 3   f2       100000 non-null  float64\n",
      " 4   product  100000 non-null  float64\n",
      "dtypes: float64(4), object(1)\n",
      "memory usage: 3.8+ MB\n",
      "<class 'pandas.core.frame.DataFrame'>\n",
      "RangeIndex: 100000 entries, 0 to 99999\n",
      "Data columns (total 5 columns):\n",
      " #   Column   Non-Null Count   Dtype  \n",
      "---  ------   --------------   -----  \n",
      " 0   id       100000 non-null  object \n",
      " 1   f0       100000 non-null  float64\n",
      " 2   f1       100000 non-null  float64\n",
      " 3   f2       100000 non-null  float64\n",
      " 4   product  100000 non-null  float64\n",
      "dtypes: float64(4), object(1)\n",
      "memory usage: 3.8+ MB\n",
      "<class 'pandas.core.frame.DataFrame'>\n",
      "RangeIndex: 100000 entries, 0 to 99999\n",
      "Data columns (total 5 columns):\n",
      " #   Column   Non-Null Count   Dtype  \n",
      "---  ------   --------------   -----  \n",
      " 0   id       100000 non-null  object \n",
      " 1   f0       100000 non-null  float64\n",
      " 2   f1       100000 non-null  float64\n",
      " 3   f2       100000 non-null  float64\n",
      " 4   product  100000 non-null  float64\n",
      "dtypes: float64(4), object(1)\n",
      "memory usage: 3.8+ MB\n"
     ]
    }
   ],
   "source": [
    "df_0.info()\n",
    "df_1.info()\n",
    "df_2.info()"
   ]
  },
  {
   "cell_type": "markdown",
   "metadata": {},
   "source": [
    "В каждой таблице содержится 100 000 наблюдений и 5 признаков. 4 признака имеют тип данных float, 1 - object.  Предварительно можно утверждать, что данных для построения модели достаточно. Согласно документации к данным:\n",
    "\n",
    "* `id` — уникальный идентификатор скважины;\n",
    "* `f0`, `f1`, `f2` — три признака точек;\n",
    "* `product` — объём запасов в скважине (тыс. баррелей).\n",
    "\n",
    "Целевым признаком является `product` - объём запасов в скважине. Замена типов данных не потребуется, однако у нас есть 1 признак с типом object, который не стоит использовать при обучении модели. Не будем исключать его из таблиц, но избавимся, установив его как `id` таблиц, которым он, по сути, и является. Иная предобработка данных не понадобится - данные от компании соответствуют высокому качеству.\n"
   ]
  },
  {
   "cell_type": "code",
   "execution_count": 6,
   "metadata": {},
   "outputs": [],
   "source": [
    "df_0 = df_0.set_index('id')\n",
    "df_1 = df_1.set_index('id')\n",
    "df_2 = df_2.set_index('id')"
   ]
  },
  {
   "cell_type": "markdown",
   "metadata": {},
   "source": [
    "Посмотрим на корреляции в данных. Для этого применим специальный метод библиотеки `pandas`:"
   ]
  },
  {
   "cell_type": "code",
   "execution_count": 7,
   "metadata": {},
   "outputs": [
    {
     "data": {
      "text/html": [
       "<div>\n",
       "<style scoped>\n",
       "    .dataframe tbody tr th:only-of-type {\n",
       "        vertical-align: middle;\n",
       "    }\n",
       "\n",
       "    .dataframe tbody tr th {\n",
       "        vertical-align: top;\n",
       "    }\n",
       "\n",
       "    .dataframe thead th {\n",
       "        text-align: right;\n",
       "    }\n",
       "</style>\n",
       "<table border=\"1\" class=\"dataframe\">\n",
       "  <thead>\n",
       "    <tr style=\"text-align: right;\">\n",
       "      <th></th>\n",
       "      <th>f0</th>\n",
       "      <th>f1</th>\n",
       "      <th>f2</th>\n",
       "      <th>product</th>\n",
       "    </tr>\n",
       "  </thead>\n",
       "  <tbody>\n",
       "    <tr>\n",
       "      <th>f0</th>\n",
       "      <td>1.000000</td>\n",
       "      <td>-0.440723</td>\n",
       "      <td>-0.003153</td>\n",
       "      <td>0.143536</td>\n",
       "    </tr>\n",
       "    <tr>\n",
       "      <th>f1</th>\n",
       "      <td>-0.440723</td>\n",
       "      <td>1.000000</td>\n",
       "      <td>0.001724</td>\n",
       "      <td>-0.192356</td>\n",
       "    </tr>\n",
       "    <tr>\n",
       "      <th>f2</th>\n",
       "      <td>-0.003153</td>\n",
       "      <td>0.001724</td>\n",
       "      <td>1.000000</td>\n",
       "      <td>0.483663</td>\n",
       "    </tr>\n",
       "    <tr>\n",
       "      <th>product</th>\n",
       "      <td>0.143536</td>\n",
       "      <td>-0.192356</td>\n",
       "      <td>0.483663</td>\n",
       "      <td>1.000000</td>\n",
       "    </tr>\n",
       "  </tbody>\n",
       "</table>\n",
       "</div>"
      ],
      "text/plain": [
       "               f0        f1        f2   product\n",
       "f0       1.000000 -0.440723 -0.003153  0.143536\n",
       "f1      -0.440723  1.000000  0.001724 -0.192356\n",
       "f2      -0.003153  0.001724  1.000000  0.483663\n",
       "product  0.143536 -0.192356  0.483663  1.000000"
      ]
     },
     "metadata": {},
     "output_type": "display_data"
    },
    {
     "data": {
      "text/html": [
       "<div>\n",
       "<style scoped>\n",
       "    .dataframe tbody tr th:only-of-type {\n",
       "        vertical-align: middle;\n",
       "    }\n",
       "\n",
       "    .dataframe tbody tr th {\n",
       "        vertical-align: top;\n",
       "    }\n",
       "\n",
       "    .dataframe thead th {\n",
       "        text-align: right;\n",
       "    }\n",
       "</style>\n",
       "<table border=\"1\" class=\"dataframe\">\n",
       "  <thead>\n",
       "    <tr style=\"text-align: right;\">\n",
       "      <th></th>\n",
       "      <th>f0</th>\n",
       "      <th>f1</th>\n",
       "      <th>f2</th>\n",
       "      <th>product</th>\n",
       "    </tr>\n",
       "  </thead>\n",
       "  <tbody>\n",
       "    <tr>\n",
       "      <th>f0</th>\n",
       "      <td>1.000000</td>\n",
       "      <td>0.182287</td>\n",
       "      <td>-0.001777</td>\n",
       "      <td>-0.030491</td>\n",
       "    </tr>\n",
       "    <tr>\n",
       "      <th>f1</th>\n",
       "      <td>0.182287</td>\n",
       "      <td>1.000000</td>\n",
       "      <td>-0.002595</td>\n",
       "      <td>-0.010155</td>\n",
       "    </tr>\n",
       "    <tr>\n",
       "      <th>f2</th>\n",
       "      <td>-0.001777</td>\n",
       "      <td>-0.002595</td>\n",
       "      <td>1.000000</td>\n",
       "      <td>0.999397</td>\n",
       "    </tr>\n",
       "    <tr>\n",
       "      <th>product</th>\n",
       "      <td>-0.030491</td>\n",
       "      <td>-0.010155</td>\n",
       "      <td>0.999397</td>\n",
       "      <td>1.000000</td>\n",
       "    </tr>\n",
       "  </tbody>\n",
       "</table>\n",
       "</div>"
      ],
      "text/plain": [
       "               f0        f1        f2   product\n",
       "f0       1.000000  0.182287 -0.001777 -0.030491\n",
       "f1       0.182287  1.000000 -0.002595 -0.010155\n",
       "f2      -0.001777 -0.002595  1.000000  0.999397\n",
       "product -0.030491 -0.010155  0.999397  1.000000"
      ]
     },
     "metadata": {},
     "output_type": "display_data"
    },
    {
     "data": {
      "text/html": [
       "<div>\n",
       "<style scoped>\n",
       "    .dataframe tbody tr th:only-of-type {\n",
       "        vertical-align: middle;\n",
       "    }\n",
       "\n",
       "    .dataframe tbody tr th {\n",
       "        vertical-align: top;\n",
       "    }\n",
       "\n",
       "    .dataframe thead th {\n",
       "        text-align: right;\n",
       "    }\n",
       "</style>\n",
       "<table border=\"1\" class=\"dataframe\">\n",
       "  <thead>\n",
       "    <tr style=\"text-align: right;\">\n",
       "      <th></th>\n",
       "      <th>f0</th>\n",
       "      <th>f1</th>\n",
       "      <th>f2</th>\n",
       "      <th>product</th>\n",
       "    </tr>\n",
       "  </thead>\n",
       "  <tbody>\n",
       "    <tr>\n",
       "      <th>f0</th>\n",
       "      <td>1.000000</td>\n",
       "      <td>0.000528</td>\n",
       "      <td>-0.000448</td>\n",
       "      <td>-0.001987</td>\n",
       "    </tr>\n",
       "    <tr>\n",
       "      <th>f1</th>\n",
       "      <td>0.000528</td>\n",
       "      <td>1.000000</td>\n",
       "      <td>0.000779</td>\n",
       "      <td>-0.001012</td>\n",
       "    </tr>\n",
       "    <tr>\n",
       "      <th>f2</th>\n",
       "      <td>-0.000448</td>\n",
       "      <td>0.000779</td>\n",
       "      <td>1.000000</td>\n",
       "      <td>0.445871</td>\n",
       "    </tr>\n",
       "    <tr>\n",
       "      <th>product</th>\n",
       "      <td>-0.001987</td>\n",
       "      <td>-0.001012</td>\n",
       "      <td>0.445871</td>\n",
       "      <td>1.000000</td>\n",
       "    </tr>\n",
       "  </tbody>\n",
       "</table>\n",
       "</div>"
      ],
      "text/plain": [
       "               f0        f1        f2   product\n",
       "f0       1.000000  0.000528 -0.000448 -0.001987\n",
       "f1       0.000528  1.000000  0.000779 -0.001012\n",
       "f2      -0.000448  0.000779  1.000000  0.445871\n",
       "product -0.001987 -0.001012  0.445871  1.000000"
      ]
     },
     "metadata": {},
     "output_type": "display_data"
    }
   ],
   "source": [
    "display(df_0.corr())\n",
    "display(df_1.corr())\n",
    "display(df_2.corr())"
   ]
  },
  {
   "cell_type": "markdown",
   "metadata": {},
   "source": [
    "В 0 регионе видно, что признаки `f0` и `f1` имеют отрицательную корреляцию средней силы. Также во всех случаях имеется корреляция признака `f2` с `product`, при этом в 0 и 2 регионе она достигает 0.483 и 0.445 соответственно, а в 1 - практически 1. Вероятно, именно признак `f2` особо важен для скважины и прямо связан с объёмом запасов баррелей в ней."
   ]
  },
  {
   "cell_type": "markdown",
   "metadata": {},
   "source": [
    "### Вывод"
   ]
  },
  {
   "cell_type": "markdown",
   "metadata": {},
   "source": [
    "В таблицах имеются данные скважин в 3 регионах, по 100 000 месторождений в каждом. По каждому из них имеется набор признаков, влияющих на прибыльность скважины. \n",
    "\n",
    "Можно утверждать, что выборка достаточна для построения качественной модели. В данных выявлена значимая корреляция для всех регионов: `f2` и `product` имеют корреляцию 0.483 и 0.445 в 0 и 2 регионах соответственно, а в 1 - практически 1. Можем предположить, что этот признак прямо свяжан с объемом запасов барралей в ней и, вероятно, будет наиболее важен при прогнозировании прибыльность того или иного региона. \n",
    "\n",
    "Так как предобработка данных не потребуется, можем переходить к обучению и проверке моделей.\n"
   ]
  },
  {
   "cell_type": "markdown",
   "metadata": {},
   "source": [
    "## Обучение и проверка моделей"
   ]
  },
  {
   "cell_type": "markdown",
   "metadata": {},
   "source": [
    "Необходимо разбить данные на 2 выборки: обучающую и валидационную. Тестирование модели пропустим. Перед этим нужно разделить наши признаки на целевой и те, которые будут влиять на целевой признак. Напишем функцию, которая это выполнит:"
   ]
  },
  {
   "cell_type": "code",
   "execution_count": 8,
   "metadata": {},
   "outputs": [],
   "source": [
    "def t_t_s(data):\n",
    "    features = data.drop('product', axis=1)\n",
    "    target = data['product']\n",
    "    features_train, features_valid, target_train, target_valid = train_test_split(features, target, \n",
    "                                                                              test_size=0.25, random_state=RANDOM_STATE)\n",
    "    return features_train, features_valid, target_train, target_valid"
   ]
  },
  {
   "cell_type": "markdown",
   "metadata": {},
   "source": [
    "Теперь вызовем функцию для каждой из таблиц, чтобы получить выборки по каждой:"
   ]
  },
  {
   "cell_type": "code",
   "execution_count": 9,
   "metadata": {},
   "outputs": [],
   "source": [
    "features_train_0, features_valid_0, target_train_0, target_valid_0 = t_t_s(df_0)\n",
    "features_train_1, features_valid_1, target_train_1, target_valid_1 = t_t_s(df_1)\n",
    "features_train_2, features_valid_2, target_train_2, target_valid_2 = t_t_s(df_2)"
   ]
  },
  {
   "cell_type": "markdown",
   "metadata": {},
   "source": [
    "Для обучения возьмём модель линейной регрессии, так как остальные являются достаточно непредсказуемыми. Напишем функцию, которая будет обучать модель, находить предсказания по сырью и считать RMSE для каждой модели, а также возвращать предсказания:"
   ]
  },
  {
   "cell_type": "code",
   "execution_count": 10,
   "metadata": {},
   "outputs": [],
   "source": [
    "def model_func(features_train, features_valid, target_train, target_valid, n_region):\n",
    "    model = LinearRegression()\n",
    "    model.fit(features_train, target_train)\n",
    "    predictions = model.predict(features_valid)\n",
    "    rmse = (mean_squared_error(target_valid, predictions)) ** 0.5\n",
    "    print('Средний запас предсказанного сырья в регионе', n_region, 'составляет:', predictions.mean())\n",
    "    print('RMSE модели для региона', n_region, 'равно:', rmse)\n",
    "    return predictions"
   ]
  },
  {
   "cell_type": "markdown",
   "metadata": {},
   "source": [
    "Теперь вызовем функцию для каждого из трёх регионов и получим результаты:"
   ]
  },
  {
   "cell_type": "code",
   "execution_count": 11,
   "metadata": {},
   "outputs": [
    {
     "name": "stdout",
     "output_type": "stream",
     "text": [
      "Средний запас предсказанного сырья в регионе 0 составляет: 92.43841916872472\n",
      "RMSE модели для региона 0 равно: 37.70262411816397\n",
      "Средний запас предсказанного сырья в регионе 1 составляет: 68.97682121011523\n",
      "RMSE модели для региона 1 равно: 67.87039361977857\n",
      "Средний запас предсказанного сырья в регионе 2 составляет: 95.05679346614203\n",
      "RMSE модели для региона 2 равно: 48.59274081053087\n"
     ]
    }
   ],
   "source": [
    "predictions_0 = model_func(features_train_0, features_valid_0, target_train_0, target_valid_0, 0)\n",
    "predictions_1 = model_func(features_train_1, features_valid_1, target_train_1, target_valid_0, 1)\n",
    "predictions_2 = model_func(features_train_2, features_valid_2, target_train_2, target_valid_0, 2)"
   ]
  },
  {
   "cell_type": "markdown",
   "metadata": {},
   "source": [
    "### Вывод"
   ]
  },
  {
   "cell_type": "markdown",
   "metadata": {},
   "source": [
    "На этом этапе для каждого региона была построена своя линейная регрессия. Данная модель позволила определить средние запасы предсказанного сырья в каждом из регионе. Таким образом, результаты следующие:\n",
    "\n",
    "* 0 регион - 92.27\n",
    "* 1 регион - 68.73\n",
    "* 2 регион - 95.16\n",
    "\n",
    "Следовательно, пока лидирует регион 2 с наиболее большими объёмами запаса нефти, однако 0 регион также отстаёт не слишком сильно. Стоит также обратить внимание на метрику `RMSE`, рассчитанную для каждой из моделей:\n",
    "\n",
    "* 0 регион - 37.67\n",
    "* 1 регион - 0.89\n",
    "* 2 регион - 40.01 \n",
    "\n",
    "По данной метрике наиболее оптимальным является 2 регион, так как 0 и 2 имеют слишком большой разброс признака. Возможно, линейная регрессия не совсем подходит для объяснения признака в данных регионах. Следовательно, решение о выборе региона будет иметь определённые риски, которые понадобится рассчитать, однако сейчас можем переходить к расчёту прибыли."
   ]
  },
  {
   "cell_type": "markdown",
   "metadata": {},
   "source": [
    "## Подготовка к расчёту прибыли"
   ]
  },
  {
   "cell_type": "markdown",
   "metadata": {},
   "source": [
    "Перейдём к расчётам прибыли, однако перед этим сохраним отдельно все нужные переменные, чтобы при необходимости была возможность скорректировать их для новых расчётов:"
   ]
  },
  {
   "cell_type": "code",
   "execution_count": 12,
   "metadata": {},
   "outputs": [],
   "source": [
    "NUMBER_OF_POINTS = 500 #количество точек при разведке региона\n",
    "BEST_POINTS = 200 #количество точек, выбранных с учётом машинного обучения, для разработки\n",
    "BUDGET = 10000000000 #бюджет на разработку\n",
    "INCOME_BARREL = 450000 #цена 1000 баррелей"
   ]
  },
  {
   "cell_type": "markdown",
   "metadata": {},
   "source": [
    "Теперь приступим к расчётам. Найдём безубыточный объём сырья для разработки новой скважины:"
   ]
  },
  {
   "cell_type": "code",
   "execution_count": 13,
   "metadata": {},
   "outputs": [
    {
     "name": "stdout",
     "output_type": "stream",
     "text": [
      "Минимальный безубыточный объём сырья составляет: 111.11111111111111\n"
     ]
    }
   ],
   "source": [
    "MIN_GROSS_PRODUCT = BUDGET / BEST_POINTS / INCOME_BARREL\n",
    "print('Минимальный безубыточный объём сырья составляет:', MIN_GROSS_PRODUCT)"
   ]
  },
  {
   "cell_type": "markdown",
   "metadata": {},
   "source": [
    "### Вывод"
   ]
  },
  {
   "cell_type": "markdown",
   "metadata": {},
   "source": [
    "Исследование подготовлено для расчётов прибыли, даже если экономические характеристики будут скорректированы. Минимальный безубыточный объём сырья составляет 111.11, однако в регионах предположительно этих запасов меньше. Следовательно, нужно будет с точностью подбирать точки, чтобы не получить отрицательную прибыль. Перейдём к расчётам прибыли и рисков."
   ]
  },
  {
   "cell_type": "markdown",
   "metadata": {},
   "source": [
    "## Расчёт прибыли и рисков "
   ]
  },
  {
   "cell_type": "markdown",
   "metadata": {},
   "source": [
    "Напишем функцию для расчёта прибыли:"
   ]
  },
  {
   "cell_type": "code",
   "execution_count": 14,
   "metadata": {},
   "outputs": [],
   "source": [
    "def revenue(target, predictions):\n",
    "    predictions_sorted = pd.Series(predictions).sort_values(ascending=False)\n",
    "    selected = target[predictions_sorted.index][:BEST_POINTS]\n",
    "    profit = selected.sum() * INCOME_BARREL - BUDGET \n",
    "    return profit"
   ]
  },
  {
   "cell_type": "markdown",
   "metadata": {},
   "source": [
    "Посчитаем риски и прибыль по каждому региону. Применим технику `Bootstrap` с 1000 выборок, чтобы найти распределение прибыли:"
   ]
  },
  {
   "cell_type": "code",
   "execution_count": 15,
   "metadata": {},
   "outputs": [],
   "source": [
    "def bootstrap_1000(target, predictions):\n",
    "    values = []\n",
    "    count = 0\n",
    "    for i in range(1000):\n",
    "        target_sample = pd.Series(target).reset_index(drop=True).sample(n=500, random_state=RANDOM_STATE, replace=True)\n",
    "        prob_sample = pd.Series(predictions)[target_sample.index]\n",
    "        rev_sample = revenue(target, prob_sample)\n",
    "        if rev_sample < 0:\n",
    "            count += 1\n",
    "        values.append(rev_sample)\n",
    "    \n",
    "    values = pd.Series(values)\n",
    "    lower = values.quantile(0.025)\n",
    "    upper = values.quantile(0.975)\n",
    "    return values.mean(), lower, upper, count / 10"
   ]
  },
  {
   "cell_type": "markdown",
   "metadata": {},
   "source": [
    "При помощи написанной функции найдём доверительные интервалы, среднюю прибыль и риск убытков для каждого региона:"
   ]
  },
  {
   "cell_type": "code",
   "execution_count": 20,
   "metadata": {},
   "outputs": [
    {
     "name": "stdout",
     "output_type": "stream",
     "text": [
      "Доверительный интервал для региона 0: ( -121281790.33538921 , 931490487.013949 )\n",
      "Средняя прибыль для региона 0: 400380469.9463191\n",
      "Риск убытков для региона 0: 6.1 %\n",
      "\n",
      "Доверительный интервал для региона 1: ( 58031794.45250913 , 872255600.3070915 )\n",
      "Средняя прибыль для региона 1: 453570050.0259676\n",
      "Риск убытков для региона 1: 1.4 %\n",
      "\n",
      "Доверительный интервал для региона 2: ( -159862162.11521953 , 894999348.7662085 )\n",
      "Средняя прибыль для региона 2: 359792760.8543889\n",
      "Риск убытков для региона 2: 10.0 %\n"
     ]
    }
   ],
   "source": [
    "mean_revenue, min_conf_interval, max_conf_interval, prob_loss = bootstrap_1000(target_valid_0, predictions_0)\n",
    "print('Доверительный интервал для региона 0:', '(',min_conf_interval, ',', max_conf_interval, ')')\n",
    "print('Средняя прибыль для региона 0:', mean_revenue)\n",
    "print('Риск убытков для региона 0:', prob_loss, '%')\n",
    "print()\n",
    "mean_revenue, min_conf_interval, max_conf_interval, prob_loss = bootstrap_1000(target_valid_1, predictions_1)\n",
    "print('Доверительный интервал для региона 1:', '(',min_conf_interval, ',', max_conf_interval, ')')\n",
    "print('Средняя прибыль для региона 1:', mean_revenue)\n",
    "print('Риск убытков для региона 1:', prob_loss, '%')\n",
    "print()\n",
    "mean_revenue, min_conf_interval, max_conf_interval, prob_loss = bootstrap_1000(target_valid_2, predictions_2)\n",
    "print('Доверительный интервал для региона 2:', '(',min_conf_interval, ',', max_conf_interval, ')')\n",
    "print('Средняя прибыль для региона 2:', mean_revenue)\n",
    "print('Риск убытков для региона 2:', prob_loss, '%')"
   ]
  },
  {
   "cell_type": "markdown",
   "metadata": {},
   "source": [
    "### Вывод"
   ]
  },
  {
   "cell_type": "markdown",
   "metadata": {},
   "source": [
    "После расчёта прибыли и рисков по регионам можно переходить к составлению выводов. Как видно, регион 1 имеет минимальный уровень риска на уровне 1.4%, при этом доверительный интервал сообщает, что с вероятностью 95% прибыль будет не менее 5.8 миллиардов, но не более 8.7. Регион 2 имеет наиболее высокий риск 10.0% и этот риск непосопоставим с возможными доходами от региона. Регион 0 имеет риск 6.1%, однако и прибыль при лучших условиях может составить до 9.3 миллиардов. При желании пойти на риск можно выбрать регион 0, однако наиболее оптимальным с точки зрения минимизации рисков и максимизации прибыли будет именно регион 1."
   ]
  },
  {
   "cell_type": "markdown",
   "metadata": {},
   "source": [
    "## Вывод"
   ]
  },
  {
   "cell_type": "markdown",
   "metadata": {},
   "source": [
    "Целью исследования было построение модели для определения возможной прибыли и расчёт прибыли и рисков. По результатам анализа данных было решено использовать модель линейной регрессии, так как остальные представляются недостаточно предсказуемыми. Метрика RMSE продемонстрировала, что регион 1 имеет наиболее низкие показатели 0.89, что может привести к более предсказуемым результатам при выборе этого региона. Регион 0 имеет RMSE чуть более 37, а 2 - 40, что делает необходимость более детальных выборов точек в регионе, однако даже в таком случае нет гарантий достаточных количеств продукта в регионе.\n",
    "\n",
    "Исходя из расчётов прибыли, было решено предложить заказчику для выбора регион 1 с рисками в 1.4% и наибольшей средней прибылью. В случае желания пойти на риск в 6.1% и добиться максимизации прибыли можно выбрать регион 0 со средней прибылью 4 миллиарда, однако в таком сулчае появляется шанс потерять достаточно много денег. Тем не менее, все расчёты позволяют выбрать заказчику желаемый регион с заданным уровнем риска. На этом исследование можно считать завершённым."
   ]
  }
 ],
 "metadata": {
  "ExecuteTimeLog": [
   {
    "duration": 1161,
    "start_time": "2022-03-15T07:42:31.788Z"
   },
   {
    "duration": 3,
    "start_time": "2022-03-15T07:44:27.534Z"
   },
   {
    "duration": 3,
    "start_time": "2022-03-15T07:44:29.509Z"
   },
   {
    "duration": 84,
    "start_time": "2022-03-15T07:44:56.871Z"
   },
   {
    "duration": 379,
    "start_time": "2022-03-15T07:45:52.302Z"
   },
   {
    "duration": 17,
    "start_time": "2022-03-15T07:46:24.926Z"
   },
   {
    "duration": 10,
    "start_time": "2022-03-15T07:46:29.317Z"
   },
   {
    "duration": 22,
    "start_time": "2022-03-15T07:46:54.672Z"
   },
   {
    "duration": 4,
    "start_time": "2022-03-15T08:53:38.630Z"
   },
   {
    "duration": 3,
    "start_time": "2022-03-15T08:53:41.799Z"
   },
   {
    "duration": 3,
    "start_time": "2022-03-15T08:53:43.273Z"
   },
   {
    "duration": 369,
    "start_time": "2022-03-15T08:53:43.703Z"
   },
   {
    "duration": 1076,
    "start_time": "2022-03-15T08:53:52.563Z"
   },
   {
    "duration": 3,
    "start_time": "2022-03-15T08:53:54.886Z"
   },
   {
    "duration": 372,
    "start_time": "2022-03-15T08:53:55.555Z"
   },
   {
    "duration": 28,
    "start_time": "2022-03-15T08:53:56.076Z"
   },
   {
    "duration": 28,
    "start_time": "2022-03-15T08:54:30.765Z"
   },
   {
    "duration": 18,
    "start_time": "2022-03-15T08:54:53.155Z"
   },
   {
    "duration": 35,
    "start_time": "2022-03-15T08:55:15.715Z"
   },
   {
    "duration": 8,
    "start_time": "2022-03-15T08:56:12.739Z"
   },
   {
    "duration": 69,
    "start_time": "2022-03-15T08:56:20.700Z"
   },
   {
    "duration": 6,
    "start_time": "2022-03-15T08:56:26.323Z"
   },
   {
    "duration": 8,
    "start_time": "2022-03-15T08:56:53.580Z"
   },
   {
    "duration": 75,
    "start_time": "2022-03-15T08:56:54.102Z"
   },
   {
    "duration": 5,
    "start_time": "2022-03-15T08:56:54.765Z"
   },
   {
    "duration": 328,
    "start_time": "2022-03-15T08:57:13.570Z"
   },
   {
    "duration": 7,
    "start_time": "2022-03-15T08:57:38.668Z"
   },
   {
    "duration": 76,
    "start_time": "2022-03-15T08:57:38.916Z"
   },
   {
    "duration": 6,
    "start_time": "2022-03-15T08:57:39.210Z"
   },
   {
    "duration": 7,
    "start_time": "2022-03-15T08:58:07.082Z"
   },
   {
    "duration": 73,
    "start_time": "2022-03-15T08:58:07.426Z"
   },
   {
    "duration": 5,
    "start_time": "2022-03-15T08:58:07.731Z"
   },
   {
    "duration": 6,
    "start_time": "2022-03-15T08:59:05.917Z"
   },
   {
    "duration": 72,
    "start_time": "2022-03-15T08:59:06.850Z"
   },
   {
    "duration": 286,
    "start_time": "2022-03-15T08:59:09.754Z"
   },
   {
    "duration": 9,
    "start_time": "2022-03-15T09:00:11.691Z"
   },
   {
    "duration": 520,
    "start_time": "2022-03-15T09:00:11.930Z"
   },
   {
    "duration": 10,
    "start_time": "2022-03-15T09:00:19.220Z"
   },
   {
    "duration": 39,
    "start_time": "2022-03-15T09:00:19.459Z"
   },
   {
    "duration": 249,
    "start_time": "2022-03-15T09:00:22.329Z"
   },
   {
    "duration": 248,
    "start_time": "2022-03-15T09:00:31.420Z"
   },
   {
    "duration": 7,
    "start_time": "2022-03-15T09:01:28.227Z"
   },
   {
    "duration": 79,
    "start_time": "2022-03-15T09:01:28.443Z"
   },
   {
    "duration": 280,
    "start_time": "2022-03-15T09:01:31.562Z"
   },
   {
    "duration": 244,
    "start_time": "2022-03-15T09:01:40.327Z"
   },
   {
    "duration": 1064,
    "start_time": "2022-03-15T13:01:51.952Z"
   },
   {
    "duration": 2,
    "start_time": "2022-03-15T13:01:53.018Z"
   },
   {
    "duration": 363,
    "start_time": "2022-03-15T13:01:53.455Z"
   },
   {
    "duration": 26,
    "start_time": "2022-03-15T13:01:56.688Z"
   },
   {
    "duration": 314,
    "start_time": "2022-03-15T13:02:28.392Z"
   },
   {
    "duration": 222,
    "start_time": "2022-03-15T13:02:31.400Z"
   },
   {
    "duration": 3,
    "start_time": "2022-03-15T13:02:33.743Z"
   },
   {
    "duration": 218,
    "start_time": "2022-03-15T13:02:34.343Z"
   },
   {
    "duration": 3,
    "start_time": "2022-03-15T13:02:39.544Z"
   },
   {
    "duration": 3,
    "start_time": "2022-03-15T13:02:52.408Z"
   },
   {
    "duration": 357,
    "start_time": "2022-03-15T13:02:52.977Z"
   },
   {
    "duration": 27,
    "start_time": "2022-03-15T13:02:53.416Z"
   },
   {
    "duration": 35,
    "start_time": "2022-03-15T13:02:54.052Z"
   },
   {
    "duration": 16,
    "start_time": "2022-03-15T13:02:54.415Z"
   },
   {
    "duration": 29,
    "start_time": "2022-03-15T13:02:54.816Z"
   },
   {
    "duration": 6,
    "start_time": "2022-03-15T13:02:56.224Z"
   },
   {
    "duration": 58,
    "start_time": "2022-03-15T13:02:56.591Z"
   },
   {
    "duration": 229,
    "start_time": "2022-03-15T13:02:57.176Z"
   },
   {
    "duration": 7,
    "start_time": "2022-03-15T13:03:07.402Z"
   },
   {
    "duration": 62,
    "start_time": "2022-03-15T13:03:07.639Z"
   },
   {
    "duration": 4,
    "start_time": "2022-03-15T13:04:53.976Z"
   },
   {
    "duration": 275,
    "start_time": "2022-03-15T13:05:02.096Z"
   },
   {
    "duration": 4,
    "start_time": "2022-03-15T13:05:04.616Z"
   },
   {
    "duration": 488,
    "start_time": "2022-03-15T13:05:04.976Z"
   },
   {
    "duration": 4,
    "start_time": "2022-03-15T13:05:15.680Z"
   },
   {
    "duration": 22,
    "start_time": "2022-03-15T13:05:16.303Z"
   },
   {
    "duration": 218,
    "start_time": "2022-03-15T13:05:21.713Z"
   },
   {
    "duration": 226,
    "start_time": "2022-03-15T13:05:30.723Z"
   },
   {
    "duration": 19,
    "start_time": "2022-03-15T13:07:32.497Z"
   },
   {
    "duration": 13,
    "start_time": "2022-03-15T13:07:35.814Z"
   },
   {
    "duration": 10,
    "start_time": "2022-03-15T13:07:47.807Z"
   },
   {
    "duration": 10,
    "start_time": "2022-03-15T13:07:53.925Z"
   },
   {
    "duration": 15,
    "start_time": "2022-03-15T13:07:56.776Z"
   },
   {
    "duration": 9,
    "start_time": "2022-03-15T13:07:57.023Z"
   },
   {
    "duration": 10,
    "start_time": "2022-03-15T13:07:57.406Z"
   },
   {
    "duration": 4,
    "start_time": "2022-03-15T13:09:00.816Z"
   },
   {
    "duration": 15,
    "start_time": "2022-03-15T13:09:30.498Z"
   },
   {
    "duration": 20,
    "start_time": "2022-03-15T13:09:40.568Z"
   },
   {
    "duration": 56,
    "start_time": "2022-03-15T13:10:01.839Z"
   },
   {
    "duration": 39,
    "start_time": "2022-03-15T13:10:09.008Z"
   },
   {
    "duration": 48,
    "start_time": "2022-03-15T13:14:12.150Z"
   },
   {
    "duration": 4,
    "start_time": "2022-03-15T13:14:29.854Z"
   },
   {
    "duration": 43,
    "start_time": "2022-03-15T13:14:30.358Z"
   },
   {
    "duration": 4,
    "start_time": "2022-03-15T13:14:38.933Z"
   },
   {
    "duration": 49,
    "start_time": "2022-03-15T13:14:39.169Z"
   },
   {
    "duration": 36,
    "start_time": "2022-03-15T13:15:42.712Z"
   },
   {
    "duration": 15,
    "start_time": "2022-03-15T13:19:35.213Z"
   },
   {
    "duration": 359,
    "start_time": "2022-03-15T13:19:43.282Z"
   },
   {
    "duration": 296,
    "start_time": "2022-03-15T13:20:04.615Z"
   },
   {
    "duration": 283,
    "start_time": "2022-03-15T13:20:13.855Z"
   },
   {
    "duration": 74,
    "start_time": "2022-03-15T13:20:18.689Z"
   },
   {
    "duration": 283,
    "start_time": "2022-03-15T13:20:23.864Z"
   },
   {
    "duration": 298,
    "start_time": "2022-03-15T13:20:43.853Z"
   },
   {
    "duration": 3,
    "start_time": "2022-03-15T13:20:53.085Z"
   },
   {
    "duration": 28,
    "start_time": "2022-03-15T13:21:39.648Z"
   },
   {
    "duration": 3,
    "start_time": "2022-03-15T13:22:32.884Z"
   },
   {
    "duration": 24,
    "start_time": "2022-03-15T13:24:14.694Z"
   },
   {
    "duration": 13,
    "start_time": "2022-03-15T13:24:26.621Z"
   },
   {
    "duration": 19,
    "start_time": "2022-03-15T13:25:27.613Z"
   },
   {
    "duration": 20,
    "start_time": "2022-03-15T13:25:35.204Z"
   },
   {
    "duration": 229,
    "start_time": "2022-03-15T13:26:14.397Z"
   },
   {
    "duration": 34,
    "start_time": "2022-03-15T13:27:09.756Z"
   },
   {
    "duration": 79,
    "start_time": "2022-03-15T13:27:40.694Z"
   },
   {
    "duration": 32,
    "start_time": "2022-03-15T13:27:45.532Z"
   },
   {
    "duration": 22,
    "start_time": "2022-03-15T13:27:56.692Z"
   },
   {
    "duration": 84,
    "start_time": "2022-03-15T13:29:09.388Z"
   },
   {
    "duration": 15,
    "start_time": "2022-03-15T13:29:25.968Z"
   },
   {
    "duration": 4,
    "start_time": "2022-03-15T13:30:43.537Z"
   },
   {
    "duration": 20,
    "start_time": "2022-03-15T13:30:59.951Z"
   },
   {
    "duration": 6,
    "start_time": "2022-03-15T13:31:55.788Z"
   },
   {
    "duration": 4,
    "start_time": "2022-03-15T13:32:07.013Z"
   },
   {
    "duration": 5,
    "start_time": "2022-03-15T13:33:25.958Z"
   },
   {
    "duration": 40,
    "start_time": "2022-03-15T13:33:26.837Z"
   },
   {
    "duration": 4,
    "start_time": "2022-03-15T13:33:33.972Z"
   },
   {
    "duration": 29,
    "start_time": "2022-03-15T13:33:35.829Z"
   },
   {
    "duration": 3,
    "start_time": "2022-03-15T13:33:51.294Z"
   },
   {
    "duration": 53,
    "start_time": "2022-03-15T13:33:52.011Z"
   },
   {
    "duration": 200,
    "start_time": "2022-03-15T13:34:16.167Z"
   },
   {
    "duration": 3,
    "start_time": "2022-03-15T13:44:39.077Z"
   },
   {
    "duration": 4,
    "start_time": "2022-03-15T13:48:18.003Z"
   },
   {
    "duration": 3,
    "start_time": "2022-03-15T13:55:33.698Z"
   },
   {
    "duration": 3,
    "start_time": "2022-03-15T13:55:40.059Z"
   },
   {
    "duration": 202,
    "start_time": "2022-03-15T13:55:55.491Z"
   },
   {
    "duration": 564,
    "start_time": "2022-03-15T13:56:02.469Z"
   },
   {
    "duration": 3,
    "start_time": "2022-03-15T13:56:13.099Z"
   },
   {
    "duration": 466,
    "start_time": "2022-03-15T13:56:13.694Z"
   },
   {
    "duration": 4,
    "start_time": "2022-03-15T13:56:32.476Z"
   },
   {
    "duration": 11,
    "start_time": "2022-03-15T13:56:32.699Z"
   },
   {
    "duration": 7,
    "start_time": "2022-03-15T13:57:46.869Z"
   },
   {
    "duration": 252,
    "start_time": "2022-03-15T13:57:47.330Z"
   },
   {
    "duration": 76,
    "start_time": "2022-03-15T13:58:47.204Z"
   },
   {
    "duration": 4,
    "start_time": "2022-03-15T13:58:54.077Z"
   },
   {
    "duration": 4,
    "start_time": "2022-03-15T13:58:56.930Z"
   },
   {
    "duration": 7,
    "start_time": "2022-03-15T13:58:58.468Z"
   },
   {
    "duration": 432,
    "start_time": "2022-03-15T13:59:53.651Z"
   },
   {
    "duration": 5,
    "start_time": "2022-03-15T13:59:55.825Z"
   },
   {
    "duration": 4,
    "start_time": "2022-03-15T13:59:57.459Z"
   },
   {
    "duration": 195,
    "start_time": "2022-03-15T14:00:12.187Z"
   },
   {
    "duration": 10,
    "start_time": "2022-03-15T14:00:46.891Z"
   },
   {
    "duration": 10,
    "start_time": "2022-03-15T14:00:50.478Z"
   },
   {
    "duration": 11,
    "start_time": "2022-03-15T14:00:53.034Z"
   },
   {
    "duration": 4,
    "start_time": "2022-03-15T14:01:30.875Z"
   },
   {
    "duration": 10,
    "start_time": "2022-03-15T14:01:31.202Z"
   },
   {
    "duration": 18,
    "start_time": "2022-03-15T14:01:33.870Z"
   },
   {
    "duration": 11,
    "start_time": "2022-03-15T14:01:35.570Z"
   },
   {
    "duration": 5,
    "start_time": "2022-03-15T14:01:40.083Z"
   },
   {
    "duration": 12,
    "start_time": "2022-03-15T14:01:40.380Z"
   },
   {
    "duration": 26,
    "start_time": "2022-03-15T14:02:58.051Z"
   },
   {
    "duration": 4,
    "start_time": "2022-03-15T14:05:29.395Z"
   },
   {
    "duration": 29,
    "start_time": "2022-03-15T14:05:30.518Z"
   },
   {
    "duration": 3,
    "start_time": "2022-03-15T14:06:17.905Z"
   },
   {
    "duration": 23,
    "start_time": "2022-03-15T14:06:18.498Z"
   },
   {
    "duration": 5,
    "start_time": "2022-03-15T14:06:39.970Z"
   },
   {
    "duration": 22,
    "start_time": "2022-03-15T14:06:40.497Z"
   },
   {
    "duration": 3,
    "start_time": "2022-03-15T14:07:16.697Z"
   },
   {
    "duration": 21,
    "start_time": "2022-03-15T14:07:17.281Z"
   },
   {
    "duration": 3,
    "start_time": "2022-03-15T14:09:07.442Z"
   },
   {
    "duration": 26,
    "start_time": "2022-03-15T14:09:07.921Z"
   },
   {
    "duration": 4,
    "start_time": "2022-03-15T14:09:17.066Z"
   },
   {
    "duration": 21,
    "start_time": "2022-03-15T14:09:17.608Z"
   },
   {
    "duration": 4,
    "start_time": "2022-03-15T14:09:55.081Z"
   },
   {
    "duration": 465,
    "start_time": "2022-03-15T14:09:55.536Z"
   },
   {
    "duration": 4,
    "start_time": "2022-03-15T14:10:00.562Z"
   },
   {
    "duration": 24,
    "start_time": "2022-03-15T14:10:01.025Z"
   },
   {
    "duration": 4,
    "start_time": "2022-03-15T14:10:35.170Z"
   },
   {
    "duration": 28,
    "start_time": "2022-03-15T14:10:35.625Z"
   },
   {
    "duration": 3,
    "start_time": "2022-03-15T14:13:17.254Z"
   },
   {
    "duration": 25,
    "start_time": "2022-03-15T14:13:17.649Z"
   },
   {
    "duration": 3,
    "start_time": "2022-03-15T14:13:29.017Z"
   },
   {
    "duration": 22,
    "start_time": "2022-03-15T14:13:29.520Z"
   },
   {
    "duration": 1061,
    "start_time": "2022-03-15T14:13:55.396Z"
   },
   {
    "duration": 5,
    "start_time": "2022-03-15T14:13:56.458Z"
   },
   {
    "duration": 439,
    "start_time": "2022-03-15T14:13:56.474Z"
   },
   {
    "duration": 26,
    "start_time": "2022-03-15T14:13:56.915Z"
   },
   {
    "duration": 48,
    "start_time": "2022-03-15T14:13:56.943Z"
   },
   {
    "duration": 18,
    "start_time": "2022-03-15T14:13:56.993Z"
   },
   {
    "duration": 60,
    "start_time": "2022-03-15T14:13:57.013Z"
   },
   {
    "duration": 3,
    "start_time": "2022-03-15T14:13:57.076Z"
   },
   {
    "duration": 48,
    "start_time": "2022-03-15T14:13:57.081Z"
   },
   {
    "duration": 4,
    "start_time": "2022-03-15T14:13:57.130Z"
   },
   {
    "duration": 259,
    "start_time": "2022-03-15T14:13:57.136Z"
   },
   {
    "duration": 8,
    "start_time": "2022-03-15T14:13:57.465Z"
   },
   {
    "duration": 94,
    "start_time": "2022-03-15T14:13:57.475Z"
   },
   {
    "duration": 24,
    "start_time": "2022-03-15T14:13:57.571Z"
   },
   {
    "duration": 26,
    "start_time": "2022-03-15T14:13:57.596Z"
   },
   {
    "duration": 3,
    "start_time": "2022-03-15T14:16:51.753Z"
   },
   {
    "duration": 303,
    "start_time": "2022-03-15T14:17:34.152Z"
   },
   {
    "duration": 276,
    "start_time": "2022-03-15T14:21:15.073Z"
   },
   {
    "duration": 213,
    "start_time": "2022-03-15T14:21:25.738Z"
   },
   {
    "duration": 231,
    "start_time": "2022-03-15T14:21:46.025Z"
   },
   {
    "duration": 5,
    "start_time": "2022-03-15T14:22:08.312Z"
   },
   {
    "duration": 4,
    "start_time": "2022-03-15T14:22:22.218Z"
   },
   {
    "duration": 9,
    "start_time": "2022-03-15T14:22:27.873Z"
   },
   {
    "duration": 3,
    "start_time": "2022-03-15T14:22:32.143Z"
   },
   {
    "duration": 255,
    "start_time": "2022-03-15T14:22:33.432Z"
   },
   {
    "duration": 333,
    "start_time": "2022-03-15T14:23:07.002Z"
   },
   {
    "duration": 10720,
    "start_time": "2022-03-15T14:23:56.669Z"
   },
   {
    "duration": 6,
    "start_time": "2022-03-15T14:29:59.301Z"
   },
   {
    "duration": 246,
    "start_time": "2022-03-15T14:30:06.728Z"
   },
   {
    "duration": 257,
    "start_time": "2022-03-15T14:30:19.792Z"
   },
   {
    "duration": 444,
    "start_time": "2022-03-15T14:30:54.122Z"
   },
   {
    "duration": 6,
    "start_time": "2022-03-15T14:31:24.833Z"
   },
   {
    "duration": 511,
    "start_time": "2022-03-15T14:31:25.112Z"
   },
   {
    "duration": 9,
    "start_time": "2022-03-15T14:31:37.152Z"
   },
   {
    "duration": 5541,
    "start_time": "2022-03-15T14:31:37.328Z"
   },
   {
    "duration": 7,
    "start_time": "2022-03-15T14:31:56.418Z"
   },
   {
    "duration": 6,
    "start_time": "2022-03-15T14:31:59.881Z"
   },
   {
    "duration": 4257,
    "start_time": "2022-03-15T14:32:00.080Z"
   },
   {
    "duration": 1087,
    "start_time": "2022-03-15T16:07:39.421Z"
   },
   {
    "duration": 3,
    "start_time": "2022-03-15T16:07:41.189Z"
   },
   {
    "duration": 346,
    "start_time": "2022-03-15T16:07:42.269Z"
   },
   {
    "duration": 25,
    "start_time": "2022-03-15T16:07:43.411Z"
   },
   {
    "duration": 45,
    "start_time": "2022-03-15T16:07:44.422Z"
   },
   {
    "duration": 20,
    "start_time": "2022-03-15T16:07:45.621Z"
   },
   {
    "duration": 29,
    "start_time": "2022-03-15T16:07:46.141Z"
   },
   {
    "duration": 4,
    "start_time": "2022-03-15T16:07:47.316Z"
   },
   {
    "duration": 43,
    "start_time": "2022-03-15T16:07:48.061Z"
   },
   {
    "duration": 5,
    "start_time": "2022-03-15T16:07:48.703Z"
   },
   {
    "duration": 218,
    "start_time": "2022-03-15T16:07:49.325Z"
   },
   {
    "duration": 3,
    "start_time": "2022-03-15T16:07:51.547Z"
   },
   {
    "duration": 3,
    "start_time": "2022-03-15T16:07:52.365Z"
   },
   {
    "duration": 8,
    "start_time": "2022-03-15T16:07:54.221Z"
   },
   {
    "duration": 2,
    "start_time": "2022-03-15T16:07:55.278Z"
   },
   {
    "duration": 6,
    "start_time": "2022-03-15T16:07:55.670Z"
   },
   {
    "duration": 3479,
    "start_time": "2022-03-15T16:07:56.477Z"
   },
   {
    "duration": 3,
    "start_time": "2022-03-15T16:10:04.880Z"
   },
   {
    "duration": 3,
    "start_time": "2022-03-15T16:10:56.705Z"
   },
   {
    "duration": 10,
    "start_time": "2022-03-15T16:11:17.978Z"
   },
   {
    "duration": 5,
    "start_time": "2022-03-15T16:11:31.442Z"
   },
   {
    "duration": 4,
    "start_time": "2022-03-15T16:11:40.866Z"
   },
   {
    "duration": 2,
    "start_time": "2022-03-15T16:11:53.130Z"
   },
   {
    "duration": 3,
    "start_time": "2022-03-15T16:12:00.457Z"
   },
   {
    "duration": 4,
    "start_time": "2022-03-15T16:13:59.996Z"
   },
   {
    "duration": 166,
    "start_time": "2022-03-15T16:14:00.466Z"
   },
   {
    "duration": 3,
    "start_time": "2022-03-15T16:14:05.275Z"
   },
   {
    "duration": 3,
    "start_time": "2022-03-15T16:14:05.899Z"
   },
   {
    "duration": 3,
    "start_time": "2022-03-15T16:14:08.419Z"
   },
   {
    "duration": 10,
    "start_time": "2022-03-15T16:14:08.709Z"
   },
   {
    "duration": 1303,
    "start_time": "2022-03-15T16:14:15.047Z"
   },
   {
    "duration": 3,
    "start_time": "2022-03-15T16:14:16.354Z"
   },
   {
    "duration": 352,
    "start_time": "2022-03-15T16:14:16.359Z"
   },
   {
    "duration": 37,
    "start_time": "2022-03-15T16:14:16.713Z"
   },
   {
    "duration": 46,
    "start_time": "2022-03-15T16:14:16.753Z"
   },
   {
    "duration": 51,
    "start_time": "2022-03-15T16:14:16.802Z"
   },
   {
    "duration": 60,
    "start_time": "2022-03-15T16:14:16.856Z"
   },
   {
    "duration": 5,
    "start_time": "2022-03-15T16:14:16.932Z"
   },
   {
    "duration": 60,
    "start_time": "2022-03-15T16:14:16.940Z"
   },
   {
    "duration": 5,
    "start_time": "2022-03-15T16:14:17.002Z"
   },
   {
    "duration": 228,
    "start_time": "2022-03-15T16:14:17.008Z"
   },
   {
    "duration": 4,
    "start_time": "2022-03-15T16:14:17.238Z"
   },
   {
    "duration": 95,
    "start_time": "2022-03-15T16:14:17.244Z"
   },
   {
    "duration": 5,
    "start_time": "2022-03-15T16:14:17.341Z"
   },
   {
    "duration": 13,
    "start_time": "2022-03-15T16:14:17.347Z"
   },
   {
    "duration": 2,
    "start_time": "2022-03-15T16:14:17.361Z"
   },
   {
    "duration": 7,
    "start_time": "2022-03-15T16:14:17.365Z"
   },
   {
    "duration": 3710,
    "start_time": "2022-03-15T16:14:17.373Z"
   },
   {
    "duration": 1030,
    "start_time": "2022-03-15T16:14:31.146Z"
   },
   {
    "duration": 3,
    "start_time": "2022-03-15T16:14:32.177Z"
   },
   {
    "duration": 346,
    "start_time": "2022-03-15T16:14:32.182Z"
   },
   {
    "duration": 25,
    "start_time": "2022-03-15T16:14:32.533Z"
   },
   {
    "duration": 23,
    "start_time": "2022-03-15T16:14:32.560Z"
   },
   {
    "duration": 19,
    "start_time": "2022-03-15T16:14:32.585Z"
   },
   {
    "duration": 32,
    "start_time": "2022-03-15T16:14:32.633Z"
   },
   {
    "duration": 3,
    "start_time": "2022-03-15T16:14:32.669Z"
   },
   {
    "duration": 65,
    "start_time": "2022-03-15T16:14:32.675Z"
   },
   {
    "duration": 5,
    "start_time": "2022-03-15T16:14:32.742Z"
   },
   {
    "duration": 197,
    "start_time": "2022-03-15T16:14:32.749Z"
   },
   {
    "duration": 5,
    "start_time": "2022-03-15T16:14:33.034Z"
   },
   {
    "duration": 100,
    "start_time": "2022-03-15T16:14:33.042Z"
   },
   {
    "duration": 8,
    "start_time": "2022-03-15T16:14:33.145Z"
   },
   {
    "duration": 14,
    "start_time": "2022-03-15T16:14:33.155Z"
   },
   {
    "duration": 3,
    "start_time": "2022-03-15T16:14:33.170Z"
   },
   {
    "duration": 9,
    "start_time": "2022-03-15T16:14:33.174Z"
   },
   {
    "duration": 3445,
    "start_time": "2022-03-15T16:14:33.184Z"
   },
   {
    "duration": 14,
    "start_time": "2022-03-15T16:14:42.737Z"
   },
   {
    "duration": 5,
    "start_time": "2022-03-15T16:16:07.861Z"
   },
   {
    "duration": 331,
    "start_time": "2022-03-15T16:16:08.081Z"
   },
   {
    "duration": 3,
    "start_time": "2022-03-15T16:16:37.946Z"
   },
   {
    "duration": 10,
    "start_time": "2022-03-15T16:16:38.158Z"
   },
   {
    "duration": 12,
    "start_time": "2022-03-15T16:16:49.762Z"
   },
   {
    "duration": 9,
    "start_time": "2022-03-15T16:18:58.971Z"
   },
   {
    "duration": 9,
    "start_time": "2022-03-15T16:19:03.122Z"
   },
   {
    "duration": 5,
    "start_time": "2022-03-15T16:19:45.636Z"
   },
   {
    "duration": 10,
    "start_time": "2022-03-15T16:19:45.939Z"
   },
   {
    "duration": 3,
    "start_time": "2022-03-15T16:19:54.071Z"
   },
   {
    "duration": 12,
    "start_time": "2022-03-15T16:19:54.250Z"
   },
   {
    "duration": 3,
    "start_time": "2022-03-15T16:19:58.608Z"
   },
   {
    "duration": 10,
    "start_time": "2022-03-15T16:21:04.990Z"
   },
   {
    "duration": 6,
    "start_time": "2022-03-15T16:21:11.784Z"
   },
   {
    "duration": 172,
    "start_time": "2022-03-15T16:21:26.740Z"
   },
   {
    "duration": 194,
    "start_time": "2022-03-15T16:21:58.611Z"
   },
   {
    "duration": 5,
    "start_time": "2022-03-15T16:22:26.174Z"
   },
   {
    "duration": 4,
    "start_time": "2022-03-15T16:22:33.858Z"
   },
   {
    "duration": 5,
    "start_time": "2022-03-15T16:22:36.596Z"
   },
   {
    "duration": 3,
    "start_time": "2022-03-15T16:22:36.876Z"
   },
   {
    "duration": 367,
    "start_time": "2022-03-15T16:22:37.091Z"
   },
   {
    "duration": 193,
    "start_time": "2022-03-15T16:22:44.411Z"
   },
   {
    "duration": 1041,
    "start_time": "2022-03-15T16:22:51.526Z"
   },
   {
    "duration": 3,
    "start_time": "2022-03-15T16:22:52.568Z"
   },
   {
    "duration": 372,
    "start_time": "2022-03-15T16:22:52.574Z"
   },
   {
    "duration": 27,
    "start_time": "2022-03-15T16:22:52.948Z"
   },
   {
    "duration": 23,
    "start_time": "2022-03-15T16:22:52.976Z"
   },
   {
    "duration": 40,
    "start_time": "2022-03-15T16:22:53.001Z"
   },
   {
    "duration": 33,
    "start_time": "2022-03-15T16:22:53.042Z"
   },
   {
    "duration": 3,
    "start_time": "2022-03-15T16:22:53.077Z"
   },
   {
    "duration": 60,
    "start_time": "2022-03-15T16:22:53.083Z"
   },
   {
    "duration": 5,
    "start_time": "2022-03-15T16:22:53.145Z"
   },
   {
    "duration": 186,
    "start_time": "2022-03-15T16:22:53.151Z"
   },
   {
    "duration": 94,
    "start_time": "2022-03-15T16:22:53.339Z"
   },
   {
    "duration": 9,
    "start_time": "2022-03-15T16:22:53.435Z"
   },
   {
    "duration": 93,
    "start_time": "2022-03-15T16:22:53.448Z"
   },
   {
    "duration": 6,
    "start_time": "2022-03-15T16:22:53.543Z"
   },
   {
    "duration": 464,
    "start_time": "2022-03-15T16:22:53.550Z"
   },
   {
    "duration": 557,
    "start_time": "2022-03-15T16:22:53.460Z"
   },
   {
    "duration": 556,
    "start_time": "2022-03-15T16:22:53.462Z"
   },
   {
    "duration": 557,
    "start_time": "2022-03-15T16:22:53.463Z"
   },
   {
    "duration": 10,
    "start_time": "2022-03-15T16:23:06.988Z"
   },
   {
    "duration": 168,
    "start_time": "2022-03-15T16:23:29.684Z"
   },
   {
    "duration": 7,
    "start_time": "2022-03-15T16:23:37.310Z"
   },
   {
    "duration": 5,
    "start_time": "2022-03-15T16:23:48.621Z"
   },
   {
    "duration": 10,
    "start_time": "2022-03-15T16:24:02.637Z"
   },
   {
    "duration": 6,
    "start_time": "2022-03-15T16:24:04.979Z"
   },
   {
    "duration": 88,
    "start_time": "2022-03-15T16:25:44.204Z"
   },
   {
    "duration": 15,
    "start_time": "2022-03-15T16:25:49.171Z"
   },
   {
    "duration": 10,
    "start_time": "2022-03-15T16:25:55.029Z"
   },
   {
    "duration": 25,
    "start_time": "2022-03-15T16:26:29.076Z"
   },
   {
    "duration": 1062,
    "start_time": "2022-03-15T16:26:48.882Z"
   },
   {
    "duration": 4,
    "start_time": "2022-03-15T16:26:49.946Z"
   },
   {
    "duration": 354,
    "start_time": "2022-03-15T16:26:49.952Z"
   },
   {
    "duration": 30,
    "start_time": "2022-03-15T16:26:50.308Z"
   },
   {
    "duration": 21,
    "start_time": "2022-03-15T16:26:50.340Z"
   },
   {
    "duration": 18,
    "start_time": "2022-03-15T16:26:50.592Z"
   },
   {
    "duration": 33,
    "start_time": "2022-03-15T16:26:51.320Z"
   },
   {
    "duration": 6,
    "start_time": "2022-03-15T16:26:57.904Z"
   },
   {
    "duration": 37,
    "start_time": "2022-03-15T16:26:58.936Z"
   },
   {
    "duration": 10,
    "start_time": "2022-03-15T16:27:04.113Z"
   },
   {
    "duration": 10,
    "start_time": "2022-03-15T16:27:06.316Z"
   },
   {
    "duration": 4,
    "start_time": "2022-03-15T16:27:23.529Z"
   },
   {
    "duration": 144,
    "start_time": "2022-03-15T16:27:24.089Z"
   },
   {
    "duration": 10,
    "start_time": "2022-03-15T16:27:30.328Z"
   },
   {
    "duration": 4,
    "start_time": "2022-03-15T16:27:36.983Z"
   },
   {
    "duration": 4,
    "start_time": "2022-03-15T16:27:38.881Z"
   },
   {
    "duration": 3,
    "start_time": "2022-03-15T16:27:43.121Z"
   },
   {
    "duration": 11,
    "start_time": "2022-03-15T16:27:44.569Z"
   },
   {
    "duration": 5,
    "start_time": "2022-03-15T16:27:54.379Z"
   },
   {
    "duration": 5,
    "start_time": "2022-03-15T16:27:57.961Z"
   },
   {
    "duration": 5,
    "start_time": "2022-03-15T16:28:01.491Z"
   },
   {
    "duration": 10,
    "start_time": "2022-03-15T16:28:25.473Z"
   },
   {
    "duration": 84,
    "start_time": "2022-03-15T16:28:49.203Z"
   },
   {
    "duration": 16,
    "start_time": "2022-03-15T16:28:53.121Z"
   },
   {
    "duration": 12,
    "start_time": "2022-03-15T16:28:57.194Z"
   },
   {
    "duration": 8,
    "start_time": "2022-03-15T16:29:00.519Z"
   },
   {
    "duration": 5,
    "start_time": "2022-03-15T16:29:07.211Z"
   },
   {
    "duration": 3,
    "start_time": "2022-03-15T16:29:07.651Z"
   },
   {
    "duration": 5,
    "start_time": "2022-03-15T16:29:10.353Z"
   },
   {
    "duration": 10,
    "start_time": "2022-03-15T16:29:10.747Z"
   },
   {
    "duration": 5,
    "start_time": "2022-03-15T16:29:51.809Z"
   },
   {
    "duration": 3,
    "start_time": "2022-03-15T16:29:53.193Z"
   },
   {
    "duration": 473,
    "start_time": "2022-03-15T16:29:53.481Z"
   },
   {
    "duration": 184,
    "start_time": "2022-03-15T16:30:03.969Z"
   },
   {
    "duration": 179,
    "start_time": "2022-03-15T16:30:09.017Z"
   },
   {
    "duration": 3,
    "start_time": "2022-03-15T16:30:09.601Z"
   },
   {
    "duration": 164,
    "start_time": "2022-03-15T16:32:19.138Z"
   },
   {
    "duration": 178,
    "start_time": "2022-03-15T16:32:25.611Z"
   },
   {
    "duration": 228,
    "start_time": "2022-03-15T16:32:31.818Z"
   },
   {
    "duration": 3,
    "start_time": "2022-03-15T16:32:34.742Z"
   },
   {
    "duration": 340,
    "start_time": "2022-03-15T16:32:35.075Z"
   },
   {
    "duration": 1027,
    "start_time": "2022-03-15T16:32:41.316Z"
   },
   {
    "duration": 3,
    "start_time": "2022-03-15T16:32:42.345Z"
   },
   {
    "duration": 344,
    "start_time": "2022-03-15T16:32:42.350Z"
   },
   {
    "duration": 25,
    "start_time": "2022-03-15T16:32:42.695Z"
   },
   {
    "duration": 24,
    "start_time": "2022-03-15T16:32:42.733Z"
   },
   {
    "duration": 19,
    "start_time": "2022-03-15T16:32:42.759Z"
   },
   {
    "duration": 46,
    "start_time": "2022-03-15T16:32:42.780Z"
   },
   {
    "duration": 4,
    "start_time": "2022-03-15T16:32:42.833Z"
   },
   {
    "duration": 45,
    "start_time": "2022-03-15T16:32:42.838Z"
   },
   {
    "duration": 3,
    "start_time": "2022-03-15T16:32:42.884Z"
   },
   {
    "duration": 149,
    "start_time": "2022-03-15T16:32:42.889Z"
   },
   {
    "duration": 93,
    "start_time": "2022-03-15T16:32:43.039Z"
   },
   {
    "duration": 7,
    "start_time": "2022-03-15T16:32:43.135Z"
   },
   {
    "duration": 8,
    "start_time": "2022-03-15T16:32:43.233Z"
   },
   {
    "duration": 3,
    "start_time": "2022-03-15T16:32:43.243Z"
   },
   {
    "duration": 420,
    "start_time": "2022-03-15T16:32:43.248Z"
   },
   {
    "duration": 561,
    "start_time": "2022-03-15T16:32:43.109Z"
   },
   {
    "duration": 558,
    "start_time": "2022-03-15T16:32:43.113Z"
   },
   {
    "duration": 558,
    "start_time": "2022-03-15T16:32:43.114Z"
   },
   {
    "duration": 3,
    "start_time": "2022-03-15T16:33:06.417Z"
   },
   {
    "duration": 352,
    "start_time": "2022-03-15T16:33:07.597Z"
   },
   {
    "duration": 1027,
    "start_time": "2022-03-15T16:34:46.029Z"
   },
   {
    "duration": 3,
    "start_time": "2022-03-15T16:34:47.057Z"
   },
   {
    "duration": 502,
    "start_time": "2022-03-15T16:34:47.062Z"
   },
   {
    "duration": 31,
    "start_time": "2022-03-15T16:34:47.733Z"
   },
   {
    "duration": 25,
    "start_time": "2022-03-15T16:34:48.076Z"
   },
   {
    "duration": 17,
    "start_time": "2022-03-15T16:34:48.501Z"
   },
   {
    "duration": 30,
    "start_time": "2022-03-15T16:34:48.933Z"
   },
   {
    "duration": 3,
    "start_time": "2022-03-15T16:34:51.364Z"
   },
   {
    "duration": 37,
    "start_time": "2022-03-15T16:34:53.572Z"
   },
   {
    "duration": 9,
    "start_time": "2022-03-15T16:35:26.079Z"
   },
   {
    "duration": 977,
    "start_time": "2022-03-15T16:36:19.902Z"
   },
   {
    "duration": 3,
    "start_time": "2022-03-15T16:36:20.882Z"
   },
   {
    "duration": 344,
    "start_time": "2022-03-15T16:36:20.887Z"
   },
   {
    "duration": 23,
    "start_time": "2022-03-15T16:36:21.233Z"
   },
   {
    "duration": 23,
    "start_time": "2022-03-15T16:36:23.191Z"
   },
   {
    "duration": 32,
    "start_time": "2022-03-15T16:36:35.728Z"
   },
   {
    "duration": 59,
    "start_time": "2022-03-15T16:36:37.862Z"
   },
   {
    "duration": 14,
    "start_time": "2022-03-15T16:36:49.694Z"
   },
   {
    "duration": 309,
    "start_time": "2022-03-15T16:37:16.706Z"
   },
   {
    "duration": 971,
    "start_time": "2022-03-15T16:37:23.974Z"
   },
   {
    "duration": 4,
    "start_time": "2022-03-15T16:37:25.061Z"
   },
   {
    "duration": 370,
    "start_time": "2022-03-15T16:37:25.445Z"
   },
   {
    "duration": 29,
    "start_time": "2022-03-15T16:37:25.817Z"
   },
   {
    "duration": 37,
    "start_time": "2022-03-15T16:37:26.630Z"
   },
   {
    "duration": 22,
    "start_time": "2022-03-15T16:37:27.862Z"
   },
   {
    "duration": 3,
    "start_time": "2022-03-15T16:37:31.406Z"
   },
   {
    "duration": 3,
    "start_time": "2022-03-15T16:37:33.229Z"
   },
   {
    "duration": 3,
    "start_time": "2022-03-15T16:37:38.382Z"
   },
   {
    "duration": 268,
    "start_time": "2022-03-15T16:37:42.670Z"
   },
   {
    "duration": 1015,
    "start_time": "2022-03-15T16:38:33.802Z"
   },
   {
    "duration": 3,
    "start_time": "2022-03-15T16:38:34.820Z"
   },
   {
    "duration": 359,
    "start_time": "2022-03-15T16:38:34.833Z"
   },
   {
    "duration": 25,
    "start_time": "2022-03-15T16:38:35.194Z"
   },
   {
    "duration": 23,
    "start_time": "2022-03-15T16:38:36.387Z"
   },
   {
    "duration": 24,
    "start_time": "2022-03-15T16:38:37.995Z"
   },
   {
    "duration": 10,
    "start_time": "2022-03-15T16:38:43.444Z"
   },
   {
    "duration": 329,
    "start_time": "2022-03-15T16:38:48.627Z"
   },
   {
    "duration": 29,
    "start_time": "2022-03-15T16:38:49.538Z"
   },
   {
    "duration": 3,
    "start_time": "2022-03-15T16:38:51.515Z"
   },
   {
    "duration": 39,
    "start_time": "2022-03-15T16:38:51.922Z"
   },
   {
    "duration": 3,
    "start_time": "2022-03-15T16:38:52.499Z"
   },
   {
    "duration": 105,
    "start_time": "2022-03-15T16:38:53.235Z"
   },
   {
    "duration": 3,
    "start_time": "2022-03-15T16:38:54.619Z"
   },
   {
    "duration": 4,
    "start_time": "2022-03-15T16:38:55.330Z"
   },
   {
    "duration": 3,
    "start_time": "2022-03-15T16:38:59.178Z"
   },
   {
    "duration": 336,
    "start_time": "2022-03-15T16:38:59.587Z"
   },
   {
    "duration": 3,
    "start_time": "2022-03-15T16:39:08.387Z"
   },
   {
    "duration": 12,
    "start_time": "2022-03-15T16:39:09.034Z"
   },
   {
    "duration": 10,
    "start_time": "2022-03-15T16:39:17.715Z"
   },
   {
    "duration": 11,
    "start_time": "2022-03-15T16:39:22.522Z"
   },
   {
    "duration": 4,
    "start_time": "2022-03-15T16:39:30.069Z"
   },
   {
    "duration": 11,
    "start_time": "2022-03-15T16:39:30.235Z"
   },
   {
    "duration": 1252,
    "start_time": "2022-03-15T16:39:56.387Z"
   },
   {
    "duration": 4,
    "start_time": "2022-03-15T16:39:57.642Z"
   },
   {
    "duration": 521,
    "start_time": "2022-03-15T16:39:57.648Z"
   },
   {
    "duration": 37,
    "start_time": "2022-03-15T16:39:58.172Z"
   },
   {
    "duration": 57,
    "start_time": "2022-03-15T16:39:58.212Z"
   },
   {
    "duration": 36,
    "start_time": "2022-03-15T16:39:58.462Z"
   },
   {
    "duration": 54,
    "start_time": "2022-03-15T16:39:59.740Z"
   },
   {
    "duration": 11,
    "start_time": "2022-03-15T16:40:08.139Z"
   },
   {
    "duration": 1285,
    "start_time": "2022-03-15T16:41:19.334Z"
   },
   {
    "duration": 4,
    "start_time": "2022-03-15T16:41:20.633Z"
   },
   {
    "duration": 366,
    "start_time": "2022-03-15T16:41:20.639Z"
   },
   {
    "duration": 30,
    "start_time": "2022-03-15T16:41:21.008Z"
   },
   {
    "duration": 24,
    "start_time": "2022-03-15T16:41:21.039Z"
   },
   {
    "duration": 28,
    "start_time": "2022-03-15T16:41:21.065Z"
   },
   {
    "duration": 11,
    "start_time": "2022-03-15T16:41:21.095Z"
   },
   {
    "duration": 4,
    "start_time": "2022-03-15T16:41:21.108Z"
   },
   {
    "duration": 78,
    "start_time": "2022-03-15T16:41:21.113Z"
   },
   {
    "duration": 3,
    "start_time": "2022-03-15T16:41:21.193Z"
   },
   {
    "duration": 1334,
    "start_time": "2022-03-15T16:41:21.198Z"
   },
   {
    "duration": 212,
    "start_time": "2022-03-15T16:41:22.322Z"
   },
   {
    "duration": 208,
    "start_time": "2022-03-15T16:41:22.327Z"
   },
   {
    "duration": 208,
    "start_time": "2022-03-15T16:41:22.328Z"
   },
   {
    "duration": 208,
    "start_time": "2022-03-15T16:41:22.329Z"
   },
   {
    "duration": 208,
    "start_time": "2022-03-15T16:41:22.330Z"
   },
   {
    "duration": 207,
    "start_time": "2022-03-15T16:41:22.332Z"
   },
   {
    "duration": 204,
    "start_time": "2022-03-15T16:41:22.335Z"
   },
   {
    "duration": 21,
    "start_time": "2022-03-15T16:42:29.055Z"
   },
   {
    "duration": 31,
    "start_time": "2022-03-15T16:42:31.151Z"
   },
   {
    "duration": 10,
    "start_time": "2022-03-15T16:42:32.494Z"
   },
   {
    "duration": 4,
    "start_time": "2022-03-15T16:42:33.535Z"
   },
   {
    "duration": 103,
    "start_time": "2022-03-15T16:42:34.094Z"
   },
   {
    "duration": 3,
    "start_time": "2022-03-15T16:42:34.734Z"
   },
   {
    "duration": 151,
    "start_time": "2022-03-15T16:42:35.686Z"
   },
   {
    "duration": 2,
    "start_time": "2022-03-15T16:42:37.822Z"
   },
   {
    "duration": 3,
    "start_time": "2022-03-15T16:42:38.582Z"
   },
   {
    "duration": 3,
    "start_time": "2022-03-15T16:42:40.158Z"
   },
   {
    "duration": 11,
    "start_time": "2022-03-15T16:42:40.582Z"
   },
   {
    "duration": 3,
    "start_time": "2022-03-15T16:42:41.398Z"
   },
   {
    "duration": 7,
    "start_time": "2022-03-15T16:42:41.974Z"
   },
   {
    "duration": 13,
    "start_time": "2022-03-15T16:42:51.831Z"
   },
   {
    "duration": 12,
    "start_time": "2022-03-15T16:42:57.174Z"
   },
   {
    "duration": 23,
    "start_time": "2022-03-15T16:45:19.703Z"
   },
   {
    "duration": 5,
    "start_time": "2022-03-15T16:47:10.321Z"
   },
   {
    "duration": 4748,
    "start_time": "2022-03-15T16:47:10.670Z"
   },
   {
    "duration": 6,
    "start_time": "2022-03-15T16:47:45.711Z"
   },
   {
    "duration": 4828,
    "start_time": "2022-03-15T16:47:45.879Z"
   },
   {
    "duration": 5,
    "start_time": "2022-03-15T16:50:28.008Z"
   },
   {
    "duration": 331,
    "start_time": "2022-03-15T16:50:28.559Z"
   },
   {
    "duration": 6,
    "start_time": "2022-03-15T16:51:02.216Z"
   },
   {
    "duration": 14210,
    "start_time": "2022-03-15T16:51:02.569Z"
   },
   {
    "duration": 4499,
    "start_time": "2022-03-15T16:51:21.088Z"
   },
   {
    "duration": 8,
    "start_time": "2022-03-15T16:51:52.746Z"
   },
   {
    "duration": 6026,
    "start_time": "2022-03-15T16:51:52.951Z"
   },
   {
    "duration": 5,
    "start_time": "2022-03-15T16:54:31.314Z"
   },
   {
    "duration": 4518,
    "start_time": "2022-03-15T16:54:31.823Z"
   },
   {
    "duration": 4404,
    "start_time": "2022-03-15T16:54:57.736Z"
   },
   {
    "duration": 8,
    "start_time": "2022-03-15T16:56:06.547Z"
   },
   {
    "duration": 4528,
    "start_time": "2022-03-15T16:56:06.744Z"
   },
   {
    "duration": 6,
    "start_time": "2022-03-15T16:56:25.930Z"
   },
   {
    "duration": 23,
    "start_time": "2022-03-15T16:56:55.104Z"
   },
   {
    "duration": 173,
    "start_time": "2022-03-15T17:07:36.649Z"
   },
   {
    "duration": 174,
    "start_time": "2022-03-15T17:07:47.142Z"
   },
   {
    "duration": 196,
    "start_time": "2022-03-15T17:08:02.960Z"
   },
   {
    "duration": 178,
    "start_time": "2022-03-15T17:08:10.643Z"
   },
   {
    "duration": 399,
    "start_time": "2022-03-15T17:08:17.025Z"
   },
   {
    "duration": 4,
    "start_time": "2022-03-15T17:09:03.193Z"
   },
   {
    "duration": 347,
    "start_time": "2022-03-15T17:09:03.785Z"
   },
   {
    "duration": 4,
    "start_time": "2022-03-15T17:09:56.466Z"
   },
   {
    "duration": 3333,
    "start_time": "2022-03-15T17:09:56.752Z"
   },
   {
    "duration": 3587,
    "start_time": "2022-03-15T17:10:08.473Z"
   },
   {
    "duration": 3352,
    "start_time": "2022-03-15T17:10:28.658Z"
   },
   {
    "duration": 3416,
    "start_time": "2022-03-15T17:11:48.369Z"
   },
   {
    "duration": 4,
    "start_time": "2022-03-15T17:13:42.449Z"
   },
   {
    "duration": 3383,
    "start_time": "2022-03-15T17:13:42.697Z"
   },
   {
    "duration": 6,
    "start_time": "2022-03-15T17:14:32.089Z"
   },
   {
    "duration": 4596,
    "start_time": "2022-03-15T17:14:32.523Z"
   },
   {
    "duration": 6,
    "start_time": "2022-03-15T17:15:40.385Z"
   },
   {
    "duration": 2881,
    "start_time": "2022-03-15T17:15:40.569Z"
   },
   {
    "duration": 2809,
    "start_time": "2022-03-15T17:15:54.473Z"
   },
   {
    "duration": 5,
    "start_time": "2022-03-15T17:16:10.065Z"
   },
   {
    "duration": 2989,
    "start_time": "2022-03-15T17:16:10.393Z"
   },
   {
    "duration": 2947,
    "start_time": "2022-03-15T17:16:22.257Z"
   },
   {
    "duration": 2932,
    "start_time": "2022-03-15T17:16:41.961Z"
   },
   {
    "duration": 5,
    "start_time": "2022-03-15T17:16:51.729Z"
   },
   {
    "duration": 3163,
    "start_time": "2022-03-15T17:16:51.912Z"
   },
   {
    "duration": 4,
    "start_time": "2022-03-15T17:17:21.549Z"
   },
   {
    "duration": 2875,
    "start_time": "2022-03-15T17:17:21.750Z"
   },
   {
    "duration": 2735,
    "start_time": "2022-03-15T17:17:34.153Z"
   },
   {
    "duration": 2872,
    "start_time": "2022-03-15T17:18:28.601Z"
   },
   {
    "duration": 2835,
    "start_time": "2022-03-15T17:18:34.121Z"
   },
   {
    "duration": 2825,
    "start_time": "2022-03-15T17:18:38.446Z"
   },
   {
    "duration": 1613,
    "start_time": "2022-03-17T13:26:13.874Z"
   },
   {
    "duration": 4,
    "start_time": "2022-03-17T13:26:15.489Z"
   },
   {
    "duration": 507,
    "start_time": "2022-03-17T13:26:15.495Z"
   },
   {
    "duration": 39,
    "start_time": "2022-03-17T13:26:16.006Z"
   },
   {
    "duration": 79,
    "start_time": "2022-03-17T13:26:16.047Z"
   },
   {
    "duration": 22,
    "start_time": "2022-03-17T13:26:16.129Z"
   },
   {
    "duration": 48,
    "start_time": "2022-03-17T13:26:16.634Z"
   },
   {
    "duration": 4,
    "start_time": "2022-03-17T13:26:17.936Z"
   },
   {
    "duration": 150,
    "start_time": "2022-03-17T13:26:18.338Z"
   },
   {
    "duration": 5,
    "start_time": "2022-03-17T13:26:18.720Z"
   },
   {
    "duration": 317,
    "start_time": "2022-03-17T13:26:19.089Z"
   },
   {
    "duration": 3,
    "start_time": "2022-03-17T13:26:20.033Z"
   },
   {
    "duration": 4,
    "start_time": "2022-03-17T13:26:20.394Z"
   },
   {
    "duration": 4,
    "start_time": "2022-03-17T13:26:21.449Z"
   },
   {
    "duration": 7,
    "start_time": "2022-03-17T13:26:21.905Z"
   },
   {
    "duration": 1313,
    "start_time": "2022-03-17T13:26:22.306Z"
   },
   {
    "duration": 1422,
    "start_time": "2022-03-17T13:28:14.856Z"
   },
   {
    "duration": 1276,
    "start_time": "2022-03-17T13:29:43.896Z"
   },
   {
    "duration": 1730,
    "start_time": "2022-03-17T13:29:50.666Z"
   },
   {
    "duration": 159,
    "start_time": "2022-03-17T13:30:09.698Z"
   },
   {
    "duration": 196,
    "start_time": "2022-03-17T13:30:13.825Z"
   },
   {
    "duration": 1317,
    "start_time": "2022-03-17T13:30:16.089Z"
   },
   {
    "duration": 1310,
    "start_time": "2022-03-17T13:30:53.194Z"
   },
   {
    "duration": 1288,
    "start_time": "2022-03-17T13:31:07.170Z"
   },
   {
    "duration": 1572,
    "start_time": "2022-03-17T13:31:18.851Z"
   },
   {
    "duration": 6,
    "start_time": "2022-03-17T13:31:20.427Z"
   },
   {
    "duration": 498,
    "start_time": "2022-03-17T13:31:20.435Z"
   },
   {
    "duration": 46,
    "start_time": "2022-03-17T13:31:20.935Z"
   },
   {
    "duration": 44,
    "start_time": "2022-03-17T13:31:21.016Z"
   },
   {
    "duration": 22,
    "start_time": "2022-03-17T13:31:21.062Z"
   },
   {
    "duration": 54,
    "start_time": "2022-03-17T13:31:21.086Z"
   },
   {
    "duration": 4,
    "start_time": "2022-03-17T13:31:21.142Z"
   },
   {
    "duration": 185,
    "start_time": "2022-03-17T13:31:21.148Z"
   },
   {
    "duration": 5,
    "start_time": "2022-03-17T13:31:21.334Z"
   },
   {
    "duration": 274,
    "start_time": "2022-03-17T13:31:21.341Z"
   },
   {
    "duration": 5,
    "start_time": "2022-03-17T13:31:21.702Z"
   },
   {
    "duration": 108,
    "start_time": "2022-03-17T13:31:21.710Z"
   },
   {
    "duration": 25,
    "start_time": "2022-03-17T13:31:21.822Z"
   },
   {
    "duration": 17,
    "start_time": "2022-03-17T13:31:21.849Z"
   },
   {
    "duration": 1358,
    "start_time": "2022-03-17T13:31:21.869Z"
   },
   {
    "duration": 1312,
    "start_time": "2022-03-17T13:31:38.547Z"
   },
   {
    "duration": 1500,
    "start_time": "2022-03-17T13:32:13.635Z"
   },
   {
    "duration": 3917,
    "start_time": "2022-03-17T13:32:46.348Z"
   },
   {
    "duration": 3893,
    "start_time": "2022-03-17T13:34:10.428Z"
   },
   {
    "duration": 196,
    "start_time": "2022-03-18T08:22:24.229Z"
   }
  ],
  "kernelspec": {
   "display_name": "Python 3 (ipykernel)",
   "language": "python",
   "name": "python3"
  },
  "language_info": {
   "codemirror_mode": {
    "name": "ipython",
    "version": 3
   },
   "file_extension": ".py",
   "mimetype": "text/x-python",
   "name": "python",
   "nbconvert_exporter": "python",
   "pygments_lexer": "ipython3",
   "version": "3.9.7"
  },
  "toc": {
   "base_numbering": 1,
   "nav_menu": {},
   "number_sections": true,
   "sideBar": true,
   "skip_h1_title": true,
   "title_cell": "Table of Contents",
   "title_sidebar": "Contents",
   "toc_cell": false,
   "toc_position": {},
   "toc_section_display": true,
   "toc_window_display": false
  }
 },
 "nbformat": 4,
 "nbformat_minor": 2
}
