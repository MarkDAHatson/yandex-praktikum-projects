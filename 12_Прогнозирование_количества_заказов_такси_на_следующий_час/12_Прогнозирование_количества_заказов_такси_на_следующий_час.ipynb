{
 "cells": [
  {
   "cell_type": "markdown",
   "metadata": {},
   "source": [
    " <div class=\"alert alert-success\" style=\"border-color: green; border-radius: 5px\">\n",
    "    <font color='green'> <b><u>КОММЕНТАРИЙ РЕВЬЮЕРА</u></b>\n",
    "\n",
    "Данила, доброго дня! рад приветствовать тебя) <br />\n",
    "<br />\n",
    "Меня зовут Николай Шавлюго. <br />И на этом этапе твоего движения к новой профессии от меня будут комментарии по написанному коду. <br />Чтобы меньше \"мусорить эфир\" и чтобы максимально наглядно отделяться от основного кода, есть предложение условиться в некоторых обозначениях:<br /> <br />\n",
    "<div class=\"alert alert-success\" style=\"border-color: green; border-radius: 5px\">\n",
    "    <p><u><b>✅ КОММЕНТАРИЙ РЕВЬЮЕРА</b></u></p>\n",
    "    <p>Всё хорошо.</p>\n",
    "</div>\n",
    "\n",
    "<div class=\"alert alert-warning\" style=\"border-color: darkorange; border-radius: 5px\">\n",
    "    <p><u><b>⚠️ КОММЕНТАРИЙ РЕВЬЮЕРА</b></u></p>\n",
    "    <p>Обрати внимание, есть потенциал</p>\n",
    "</div>\n",
    "\n",
    "<div class=\"alert alert-danger\" style=\"border-color: darkred; border-radius: 5px\">\n",
    "    <p><u><b>❌ КОММЕНТАРИЙ РЕВЬЮЕРА</b></u></p>\n",
    "    <p>Нужно ещё раз глянуть</p>\n",
    "</div>\n",
    "</font><br /><br />\n",
    "<font color='green'>Моей целью является не \"уличить\" в не знании, а просто высказать сверху твоих знаний - свой опыт, что бы тебе использовать его для своего дальнейшего успеха) И очень здорово будет, если удастся задавать вопросы, да и вообще - всячески доставать меня, если я по каким-то причинам не приму проект:) При этом, из своего опыта скажу, хорошо и важно, когда переписка ревьюера и студента - сохраняется на следующие проекты и даже на будущую практическую деятельность.<br>\n",
    "<br> Я сразу же начал общаться на ты:) но если это не очень удобно, то дай знать)) <BR> В ПУТЬ!<br></div>"
   ]
  },
  {
   "cell_type": "markdown",
   "metadata": {
    "toc": true
   },
   "source": [
    "<h1>Содержание<span class=\"tocSkip\"></span></h1>\n",
    "<div class=\"toc\"><ul class=\"toc-item\"><li><span><a href=\"#Подготовка\" data-toc-modified-id=\"Подготовка-1\"><span class=\"toc-item-num\">1&nbsp;&nbsp;</span>Подготовка</a></span><ul class=\"toc-item\"><li><span><a href=\"#Разведочный-анализ-данных\" data-toc-modified-id=\"Разведочный-анализ-данных-1.1\"><span class=\"toc-item-num\">1.1&nbsp;&nbsp;</span>Разведочный анализ данных</a></span></li><li><span><a href=\"#Предобработка-данных\" data-toc-modified-id=\"Предобработка-данных-1.2\"><span class=\"toc-item-num\">1.2&nbsp;&nbsp;</span>Предобработка данных</a></span></li><li><span><a href=\"#Вывод\" data-toc-modified-id=\"Вывод-1.3\"><span class=\"toc-item-num\">1.3&nbsp;&nbsp;</span>Вывод</a></span></li></ul></li><li><span><a href=\"#Анализ\" data-toc-modified-id=\"Анализ-2\"><span class=\"toc-item-num\">2&nbsp;&nbsp;</span>Анализ</a></span><ul class=\"toc-item\"><li><span><a href=\"#Вывод\" data-toc-modified-id=\"Вывод-2.1\"><span class=\"toc-item-num\">2.1&nbsp;&nbsp;</span>Вывод</a></span></li></ul></li><li><span><a href=\"#Обучение\" data-toc-modified-id=\"Обучение-3\"><span class=\"toc-item-num\">3&nbsp;&nbsp;</span>Обучение</a></span><ul class=\"toc-item\"><li><span><a href=\"#Линейная-регрессия\" data-toc-modified-id=\"Линейная-регрессия-3.1\"><span class=\"toc-item-num\">3.1&nbsp;&nbsp;</span>Линейная регрессия</a></span></li><li><span><a href=\"#Случайный-лес\" data-toc-modified-id=\"Случайный-лес-3.2\"><span class=\"toc-item-num\">3.2&nbsp;&nbsp;</span>Случайный лес</a></span></li><li><span><a href=\"#Градиентный-бустинг\" data-toc-modified-id=\"Градиентный-бустинг-3.3\"><span class=\"toc-item-num\">3.3&nbsp;&nbsp;</span>Градиентный бустинг</a></span></li><li><span><a href=\"#Вывод\" data-toc-modified-id=\"Вывод-3.4\"><span class=\"toc-item-num\">3.4&nbsp;&nbsp;</span>Вывод</a></span></li></ul></li><li><span><a href=\"#Тестирование\" data-toc-modified-id=\"Тестирование-4\"><span class=\"toc-item-num\">4&nbsp;&nbsp;</span>Тестирование</a></span><ul class=\"toc-item\"><li><span><a href=\"#Вывод\" data-toc-modified-id=\"Вывод-4.1\"><span class=\"toc-item-num\">4.1&nbsp;&nbsp;</span>Вывод</a></span></li></ul></li><li><span><a href=\"#Вывод\" data-toc-modified-id=\"Вывод-5\"><span class=\"toc-item-num\">5&nbsp;&nbsp;</span>Вывод</a></span></li><li><span><a href=\"#Чек-лист-проверки\" data-toc-modified-id=\"Чек-лист-проверки-6\"><span class=\"toc-item-num\">6&nbsp;&nbsp;</span>Чек-лист проверки</a></span></li></ul></div>"
   ]
  },
  {
   "cell_type": "markdown",
   "metadata": {},
   "source": [
    "#  Прогнозирование заказов такси"
   ]
  },
  {
   "cell_type": "markdown",
   "metadata": {},
   "source": [
    "Заказчик исследования - компания \"Чётенькое такси\". Компания предоставляет пользователям услуги сервиса такси и в данный момент пытается определить период пиковой нагрузки на сервис в аэропортах, чтобы спрогнозировать количество заказов такси на следующий час. Необходимо построить модель для определения этого предсказания. Входные данные - исторические данные о заказах такси в аэропортах. Заказчик отметил, что хотел бы увидеть значение метрики `RMSE` на тестовой выборке не более 48.\n",
    "\n",
    "Результаты исследования будут использованы заказчиком в коммерческих целях.\n",
    "\n",
    "**Цель исследования:** разработать несколько моделей прогнозирования количества заказов такси на следующий час по историческим данным, а затем выбрать наилучшую по критериям заказчика\n",
    "\n",
    "Ход исследования:\n",
    "\n",
    "Перед анализом данные необходимо загрузить и предобработать. Затем нужно будет проанализировать данные. После этого понадобится обучить несколько разных моделей с различными гиперпараметрами, далее - выбрать наилучшую из них по критериям заказчика. \n",
    "Таким образом, исследование пройдёт в 4 этапа:\n",
    "\n",
    "1. Подготовка данных;\n",
    "2. Анализ данных;\n",
    "3. Обучение моделей;\n",
    "4. Тестирование моделей."
   ]
  },
  {
   "cell_type": "markdown",
   "metadata": {},
   "source": [
    "## Подготовка"
   ]
  },
  {
   "cell_type": "markdown",
   "metadata": {},
   "source": [
    "### Разведочный анализ данных"
   ]
  },
  {
   "cell_type": "markdown",
   "metadata": {},
   "source": [
    "Перед тем, как приступить к изучению данных из файла, импортируем все нужные для текущего исследования библиотеки и модули, а также сохраним в начале исследования необходимые константные переменные и вызовем функции библиотек для всего исследования:"
   ]
  },
  {
   "cell_type": "code",
   "execution_count": 1,
   "metadata": {},
   "outputs": [],
   "source": [
    "import pandas as pd\n",
    "import numpy as np\n",
    "import warnings\n",
    "from statsmodels.tsa.seasonal import seasonal_decompose\n",
    "from sklearn.model_selection import train_test_split\n",
    "from sklearn.linear_model import LinearRegression\n",
    "from sklearn.metrics import mean_squared_error\n",
    "from sklearn.ensemble import RandomForestRegressor\n",
    "from catboost import CatBoostRegressor\n",
    "from catboost import Pool, cv\n",
    "\n",
    "#Задаём случайное состояние для воспроизводимости результатов\n",
    "RANDOM_STATE = np.random.RandomState(2106)\n",
    "#Избавляемся от ненужных выводимых плашек библиотек\n",
    "warnings.filterwarnings('ignore')"
   ]
  },
  {
   "cell_type": "markdown",
   "metadata": {},
   "source": [
    "Прочитаем полученный файл с данными от заказчика и сохраним его в отдельную переменную. Сразу обозначим индексами таблицы признак `datetime` для последующей удобной работы:"
   ]
  },
  {
   "cell_type": "code",
   "execution_count": 2,
   "metadata": {},
   "outputs": [],
   "source": [
    "df = pd.read_csv('/datasets/taxi.csv', parse_dates=[0], index_col=[0])"
   ]
  },
  {
   "cell_type": "markdown",
   "metadata": {},
   "source": [
    "Выведем на экран первые 5 строк таблицы:"
   ]
  },
  {
   "cell_type": "code",
   "execution_count": 3,
   "metadata": {},
   "outputs": [
    {
     "data": {
      "text/html": [
       "<div>\n",
       "<style scoped>\n",
       "    .dataframe tbody tr th:only-of-type {\n",
       "        vertical-align: middle;\n",
       "    }\n",
       "\n",
       "    .dataframe tbody tr th {\n",
       "        vertical-align: top;\n",
       "    }\n",
       "\n",
       "    .dataframe thead th {\n",
       "        text-align: right;\n",
       "    }\n",
       "</style>\n",
       "<table border=\"1\" class=\"dataframe\">\n",
       "  <thead>\n",
       "    <tr style=\"text-align: right;\">\n",
       "      <th></th>\n",
       "      <th>num_orders</th>\n",
       "    </tr>\n",
       "    <tr>\n",
       "      <th>datetime</th>\n",
       "      <th></th>\n",
       "    </tr>\n",
       "  </thead>\n",
       "  <tbody>\n",
       "    <tr>\n",
       "      <th>2018-03-01 00:00:00</th>\n",
       "      <td>9</td>\n",
       "    </tr>\n",
       "    <tr>\n",
       "      <th>2018-03-01 00:10:00</th>\n",
       "      <td>14</td>\n",
       "    </tr>\n",
       "    <tr>\n",
       "      <th>2018-03-01 00:20:00</th>\n",
       "      <td>28</td>\n",
       "    </tr>\n",
       "    <tr>\n",
       "      <th>2018-03-01 00:30:00</th>\n",
       "      <td>20</td>\n",
       "    </tr>\n",
       "    <tr>\n",
       "      <th>2018-03-01 00:40:00</th>\n",
       "      <td>32</td>\n",
       "    </tr>\n",
       "  </tbody>\n",
       "</table>\n",
       "</div>"
      ],
      "text/plain": [
       "                     num_orders\n",
       "datetime                       \n",
       "2018-03-01 00:00:00           9\n",
       "2018-03-01 00:10:00          14\n",
       "2018-03-01 00:20:00          28\n",
       "2018-03-01 00:30:00          20\n",
       "2018-03-01 00:40:00          32"
      ]
     },
     "execution_count": 3,
     "metadata": {},
     "output_type": "execute_result"
    }
   ],
   "source": [
    "df.head()"
   ]
  },
  {
   "cell_type": "markdown",
   "metadata": {},
   "source": [
    "Проверим, является ли расположение индексов в таблице хронологически достоверным:"
   ]
  },
  {
   "cell_type": "code",
   "execution_count": 4,
   "metadata": {},
   "outputs": [
    {
     "name": "stdout",
     "output_type": "stream",
     "text": [
      "Расположение индексов в таблице хронологически достоверно\n"
     ]
    }
   ],
   "source": [
    "if df.index.is_monotonic == True:\n",
    "    print('Расположение индексов в таблице хронологически достоверно')\n",
    "else:\n",
    "    print('Расположение индексов некорректно для исследования')"
   ]
  },
  {
   "cell_type": "markdown",
   "metadata": {},
   "source": [
    "Получим общую информацию о таблице:"
   ]
  },
  {
   "cell_type": "code",
   "execution_count": 5,
   "metadata": {},
   "outputs": [
    {
     "name": "stdout",
     "output_type": "stream",
     "text": [
      "<class 'pandas.core.frame.DataFrame'>\n",
      "DatetimeIndex: 26496 entries, 2018-03-01 00:00:00 to 2018-08-31 23:50:00\n",
      "Data columns (total 1 columns):\n",
      " #   Column      Non-Null Count  Dtype\n",
      "---  ------      --------------  -----\n",
      " 0   num_orders  26496 non-null  int64\n",
      "dtypes: int64(1)\n",
      "memory usage: 414.0 KB\n"
     ]
    }
   ],
   "source": [
    "df.info()"
   ]
  },
  {
   "cell_type": "markdown",
   "metadata": {},
   "source": [
    "В таблице представлен 1 признак с типом данных `int`. Согласно документации к данным имеем следующее:\n",
    "\n",
    "* `num_orders` - число заказов\n",
    "\n",
    "Этот признак и будет являться целевым для нашего исследования."
   ]
  },
  {
   "cell_type": "markdown",
   "metadata": {},
   "source": [
    "Выведем описательную статистику всего датафрейма, чтобы ознакомиться с ним подробнее:"
   ]
  },
  {
   "cell_type": "code",
   "execution_count": 6,
   "metadata": {},
   "outputs": [
    {
     "data": {
      "text/html": [
       "<div>\n",
       "<style scoped>\n",
       "    .dataframe tbody tr th:only-of-type {\n",
       "        vertical-align: middle;\n",
       "    }\n",
       "\n",
       "    .dataframe tbody tr th {\n",
       "        vertical-align: top;\n",
       "    }\n",
       "\n",
       "    .dataframe thead th {\n",
       "        text-align: right;\n",
       "    }\n",
       "</style>\n",
       "<table border=\"1\" class=\"dataframe\">\n",
       "  <thead>\n",
       "    <tr style=\"text-align: right;\">\n",
       "      <th></th>\n",
       "      <th>num_orders</th>\n",
       "    </tr>\n",
       "  </thead>\n",
       "  <tbody>\n",
       "    <tr>\n",
       "      <th>count</th>\n",
       "      <td>26496.000000</td>\n",
       "    </tr>\n",
       "    <tr>\n",
       "      <th>mean</th>\n",
       "      <td>14.070463</td>\n",
       "    </tr>\n",
       "    <tr>\n",
       "      <th>std</th>\n",
       "      <td>9.211330</td>\n",
       "    </tr>\n",
       "    <tr>\n",
       "      <th>min</th>\n",
       "      <td>0.000000</td>\n",
       "    </tr>\n",
       "    <tr>\n",
       "      <th>25%</th>\n",
       "      <td>8.000000</td>\n",
       "    </tr>\n",
       "    <tr>\n",
       "      <th>50%</th>\n",
       "      <td>13.000000</td>\n",
       "    </tr>\n",
       "    <tr>\n",
       "      <th>75%</th>\n",
       "      <td>19.000000</td>\n",
       "    </tr>\n",
       "    <tr>\n",
       "      <th>max</th>\n",
       "      <td>119.000000</td>\n",
       "    </tr>\n",
       "  </tbody>\n",
       "</table>\n",
       "</div>"
      ],
      "text/plain": [
       "         num_orders\n",
       "count  26496.000000\n",
       "mean      14.070463\n",
       "std        9.211330\n",
       "min        0.000000\n",
       "25%        8.000000\n",
       "50%       13.000000\n",
       "75%       19.000000\n",
       "max      119.000000"
      ]
     },
     "execution_count": 6,
     "metadata": {},
     "output_type": "execute_result"
    }
   ],
   "source": [
    "df.describe()"
   ]
  },
  {
   "cell_type": "markdown",
   "metadata": {},
   "source": [
    "В рамках всего представленного временного промежутка среднее количество заказов в час - 14, при этом стандартное отклонение достаточно высокое - 9. Это говорит о том, что скорее всего существуют часы пиковой нагрузки, когда заказов слишком много, и часы пониженного спроса - когда количество таксистов может быть сокращено для экономии финансовых затрат компании. Наконец, посмотрим, какой временной промежуток представлен в таблице:"
   ]
  },
  {
   "cell_type": "code",
   "execution_count": 7,
   "metadata": {},
   "outputs": [
    {
     "name": "stdout",
     "output_type": "stream",
     "text": [
      "Начало временного промежутка в данных: 2018-03-01 00:00:00\n",
      "Окончание временного промежутка в данных: 2018-08-31 23:50:00\n"
     ]
    }
   ],
   "source": [
    "print(f'Начало временного промежутка в данных: {df.index.min()}')\n",
    "print(f'Окончание временного промежутка в данных: {df.index.max()}')"
   ]
  },
  {
   "cell_type": "markdown",
   "metadata": {},
   "source": [
    "Данные представлены с марта 2018-ого года по август 2018-ого. Однако, эти данные представлены отдельными строками через каждые 10 минут, что не очень удобно для исследования. Изменим это на следующем этапе. "
   ]
  },
  {
   "cell_type": "markdown",
   "metadata": {},
   "source": [
    "<div class=\"alert alert-success\" style=\"border-color: green; border-radius: 5px\">\n",
    "    <p><u><b>✅ КОММЕНТАРИЙ РЕВЬЮЕРА</b></u></p>ОК, Данные на базе"
   ]
  },
  {
   "cell_type": "markdown",
   "metadata": {},
   "source": [
    "### Предобработка данных"
   ]
  },
  {
   "cell_type": "markdown",
   "metadata": {},
   "source": [
    "В целом, никаких проблем в данных обнаружено не было, поэтому можем сразу переходить к подготовке таблицы к анализу. Выполним ресемплирование данных с расчётом суммы за этот промежуток времени:"
   ]
  },
  {
   "cell_type": "code",
   "execution_count": 8,
   "metadata": {},
   "outputs": [],
   "source": [
    "df = df.resample('1H').sum()"
   ]
  },
  {
   "cell_type": "markdown",
   "metadata": {},
   "source": [
    "Также рассчитаем и добавим в таблицу несколько дополнительных признаков. Напишем функцию, которая будет рассчитывать календарные признаки, отстающие и скользящее среднее для данных:"
   ]
  },
  {
   "cell_type": "code",
   "execution_count": 9,
   "metadata": {},
   "outputs": [],
   "source": [
    "def temp_features(data, max_lag, rolling_mean_size):\n",
    "    #расчёт календарных признаков\n",
    "    data['year'] = data.index.year\n",
    "    data['day_of_week'] = data.index.dayofweek\n",
    "    data['month'] = data.index.month\n",
    "    data['hour'] = data.index.hour\n",
    "    #расчёт отстающих признаков\n",
    "    for lag in range(1, max_lag + 1):\n",
    "        data['lag_{}'.format(lag)] = data['num_orders'].shift(lag)\n",
    "    #расчёт скользящего среднего по данным\n",
    "    data['rolling_mean'] = data['num_orders'].shift().rolling(rolling_mean_size).mean()"
   ]
  },
  {
   "cell_type": "markdown",
   "metadata": {},
   "source": [
    "<div class=\"alert alert-danger\" style=\"border-color: darkred; border-radius: 5px\">\n",
    "    <p><u><b>❌ КОММЕНТАРИЙ РЕВЬЮЕРА</b></u></p>\n",
    "На мой взгляд: не все факторы подходят, чисто логически. Выскажу свою позицию:<br><br>\n",
    "\n",
    "1) Фактор год: НЕТ, однозначно не подходит. У нас данных меньше года. Поэтому будет просто константа.<br>\n",
    "2) Фактор месяц: НЕТ, аналогично году, у нас в истории всего один март, май.... Да и горизоно прогноза - часы. Поэтому сезонность времени года будет просто в тренде уже заложена.<br>\n",
    "3) Фактор день: НЕТ, также не подходит, будет просто последовательность чисел<br>\n",
    "4) Фактор день недели: ДА, т.к. у нас есть недельная сезонность<br>\n",
    "5) Фактор час: ДА, т.к. есть часовая (суточная) сезонность.<br>\n",
    "6) Факто lag: ДА, это параметр авторегрессии - учёт влияния вчерашних событий на сегодняшние.<br>\n",
    "7) Фактор rolling: ДА, это аналог тренда. Чем больше окно сглаживания, тем ровнее линия тренда <br>\n",
    "\n",
    "Как ты думаешь?</div>"
   ]
  },
  {
   "cell_type": "markdown",
   "metadata": {},
   "source": [
    "<div class=\"alert alert-block alert-info\">\n",
    "<b>Комментарий студента:</b> Относительно года - действительно, я полностью согласен с тем, что он не влияет, потому как константный. В то же время, это никак не скажется на моделях машинного обучения, однако мне этот столбец помогает рисовать графики в исследовательском анализе, а без него что-то не вышло, поэтому оставил его. По поводу месяца не соглашусь немного. Попробовал найти метрики всех моделей без столбца месяца - получается на несколько пунктов хуже. Предполагаю, что улучшение качества моделей оправдывает добавление этого столбца, даже если в рамках конкретно этого проекта это получается случайностью :) Фактор дня - такой фактор я и не добавлял даже изначально. По поводу всего остального полностью согласен\n",
    "</div>"
   ]
  },
  {
   "cell_type": "markdown",
   "metadata": {},
   "source": [
    "<div class=\"alert alert-success\" style=\"border-color: green; border-radius: 5px\">\n",
    "    <p><u><b>✅ КОММЕНТАРИЙ РЕВЬЮЕРА 2</b></u></p>\n",
    "    <p>👍👍 Добавлю только, что цель моделирования - не метрика как таковая. А построение модели, отражающей сам бизнес продаж. Вот ниже оставлю небольшой текст на эту тему:</p>\n",
    "</div>"
   ]
  },
  {
   "cell_type": "markdown",
   "metadata": {},
   "source": [
    "<div class=\"alert alert-success\" style=\"border-color: green; border-radius: 5px\">\n",
    "    <p><u><b>✅ КОММЕНТАРИЙ РЕВЬЮЕРА 2</b></u></p>\n",
    "Тут надо принять, что временной ряд - это отображение реальных продаж бизнеса.<br>\n",
    "А на продажи действуют фаткоры. Часть из которых мы называем тренд и сезонность.<br>\n",
    "Что это такое:\n",
    "Возьмём для примера упрощённое видение<br>\n",
    "есть город, в нём 100 человек жиыёт<br>\n",
    "Каждый из них покупает себе бутылку воды<br>\n",
    "Итого у нас продажи: 100 бутылок каждый день - прямая линия на графике.<br>\n",
    "    \n",
    "Предположим дополнительную ситуацию: количество жителей увеличивается на 1 каждый день. И каждый из них - тоже водохлёб<br>\n",
    "Тогда наши продажи бубут увеличиваться на 1 каждый день - т.е будет тренд<br>\n",
    "Т.е. наклонная линия на графике<br>\n",
    "    \n",
    "Следующая ситуация: <br>\n",
    "Летом воды пьём больше, зимой меньше. Причём так: летом по 2 бутылки, зимой по одной<br>\n",
    "И если наложить эту ситуацию на первый случай (просто 100 человек)<br>\n",
    "то будем иметь на графике прямую волнистую линию - синусоду.<br>\n",
    "Это есть сезонность времени года.<br>\n",
    "    \n",
    "А если наложить эту ситуацию на второй случай (прибавление населения города)<br>\n",
    "то будем иметь на графике восходящую волнистую линию - синусоду вверх.<br>\n",
    "\n",
    "Что всё это демонстрирует:<br>\n",
    "продажи = тренд + сезонность.<br> \n",
    "    \n",
    "А если наложить жизненые обстоятельства: кто-то хотел пойти купить бутылку воды, но подскользнулся, упал сломал ногу - остался без воды. А у нас продажи не случились. И допусти м таких случае много. ТОгда имеем ещё одну составляющую ряда - шум.<br>\n",
    "Это то, что нельзя предсказать ни как. Это не определённость. (Чем она меньше, тем лучше. Но есть предел неопределённости, который нам не преодолеть. Т.е. есть всегда минимальная ошибка)<br>\n",
    "Продажи = тренд + сезонность + шум\n",
    "    \n",
    "Вот именно эти сосатвляющие даёт декомпозиция<br>\n",
    "    \n",
    "Но жизнь сложнее....и есть вторая сезонность - недельная: по выходным пьём больше (сушняк)))<br>\n",
    "Продажи = тренд + сезонность1 + сезонность2 + шум<br>\n",
    "    \n",
    "А теперь, наши маркетологи придумали акции, и в один из месяцев провели акцию<br>\n",
    "Продажи = тренд + сезонность1 + сезонность2 + акция + шум<br>    \n",
    "    \n",
    "А есть ещё влияние продаж предыдущего дня (месяца): вчерашние продажи влияют на сегодняшние (у вас это обозначен lag)<br>\n",
    "Продажи = тренд + сезонность1 + сезонность2 + акция + lag_1 + шум<br>       \n",
    "    \n",
    "А если внешний фактор - погода (температура воздуха) - тоже влияет<br>\n",
    "Продажи = тренд + сезонность1 + сезонность2 + акция + lag_1 + ВНЕШНИЙ ФАКТОР(Температура) + шум<br>     \n",
    "\n",
    "И т.д. Это и есть факторы продаж временного ряда. А по сути факторы продаж, которые мы и хотим учесть в моделях, чтобы иметь наиболее точный прогноз и анализ влияния каждого фактора.<br>\n",
    "Как они соотносятся - это у каждого бизнеса - по разному.<br>\n",
    "\n",
    "И тут важжным является то, как аналитик понимает тот бизнес, который хочет прогнозировать. От этого будет подбирать факторы.<br>\n",
    "А потом уже модели подбирать<br>    \n",
    "\n",
    "Как они соотносятся - это у каждого бизнеса - по разному.<br>"
   ]
  },
  {
   "cell_type": "markdown",
   "metadata": {},
   "source": [
    "<div class=\"alert alert-success\" style=\"border-color: green; border-radius: 5px\">\n",
    "    <p><u><b>✅ КОММЕНТАРИЙ РЕВЬЮЕРА</b></u></p> Сразу пару строк о факторе месяц:<br>\n",
    "Если нам брать горизонт прогноза месяц или два , то фактор месяц - очень важне  это факт. А если брать горизонт прогноза несколько часов, то фактор времени года - на таком отрезке времени и не заметен. К тому же, он уже присутствует в тренде (скользящем среднем). Т.е. его участие локально как бы и есть.<br>\n",
    "\n",
    "То, что сейчас месяц может увеличивать точность - это случайно. Он ведь представлен как числа от 1 до 8 и ещё есть тренд, как раз. Т.е. произошло наложение тренда и номера месяца. А вот если продажи буду уходить вниз (или перестанут расти), а мы будем продолжать пользовться моделью, то модель будет предсказывать рост на сентябрь (цифра 9), на октябпрь (цифра 10)... т.е. чиссто числовая тенденция)<br>\n",
    "    \n",
    "Поэтому, рекомендация для будущих проетов на эту тему:<br>\n",
    "Учитывать горизонт прогноза: если задача стоит среднесрочного и долгосрочного прогноза, то месяц нам в помощь (при этом данных должно быть не меннее 2-х / 3-х лет). Если задача краткосрочного прогнозирования - месяц не надо использовать, он уже в тренде заложен.</div>"
   ]
  },
  {
   "cell_type": "markdown",
   "metadata": {},
   "source": [
    "Теперь вызовем эту функцию для наших данных:"
   ]
  },
  {
   "cell_type": "code",
   "execution_count": 10,
   "metadata": {},
   "outputs": [],
   "source": [
    "temp_features(df, 20, 12)"
   ]
  },
  {
   "cell_type": "markdown",
   "metadata": {},
   "source": [
    "<div class=\"alert alert-success\" style=\"border-color: green; border-radius: 5px\">\n",
    "    <p><u><b>✅ КОММЕНТАРИЙ РЕВЬЮЕРА</b></u></p>Пару строк по фактору лаг и скользящее среднее:<br>\n",
    "Lag: его называют ещё параметром авторегрессии. На бытовом уровне его можно понять так: допустим вчера мы собрались с друзьями и не много закусили.... повлияет ли это на сегодняшний настрой на жизнь? Скорее да)))) Так вот с авторегрессией также. Допустим lag=1 - учитывает (для удобства будем считать, что продажи собраны по дням) как вчерашние продажи - вчерашние события - воалияли на сегоняшние.Lag=2: учитывает как позавчерашние продажи влияютна сегодняшние.....<br>\n",
    "    \n",
    "По скользящему среднего:<br>\n",
    "Предположим rolling=10 - скользящее среднее. По сути, ищем среднее по 10 точкам, потом следующие 10 точек, и т.д. - это некое подобие тренда будет - средней линии. Т.е. - сглаживание колебаний/выбросов. Это легко увидеть на пределе: допустим длина ряда 100 дней. rolling(100) - это просто одно число - среднее всего ряда. <br>\n",
    "    \n",
    "Поэтому, если выставить сезонности - hour и деньНедели, то дополнительные факторы могут быть такие: лаг =1 (максимум 2), а скользящее среднее = 24 (среднее за сутки). Т.е. начинать с этого. В итоге модель будет приемлемая по точности и не много факторов.. а это значит и для бизнеса будет легче доносить решение)</div>"
   ]
  },
  {
   "cell_type": "markdown",
   "metadata": {},
   "source": [
    "<div class=\"alert alert-block alert-info\">\n",
    "<b>Комментарий студента:</b> Очень понятное объяснение, спасибо. Наконец-то конкретно понял, что есть lag и зачем вводить их более одного. Единственное - относительно 2 лагов и 20 в скользящем среднем - что-то в моём проекте с такими значениями не выходит хорошей метрики, поэтому подобрал вот эти, чтобы получить желаемые < 48 :(\n",
    "</div>"
   ]
  },
  {
   "cell_type": "markdown",
   "metadata": {},
   "source": [
    "<div class=\"alert alert-success\" style=\"border-color: green; border-radius: 5px\">\n",
    "    <p><u><b>✅ КОММЕНТАРИЙ РЕВЬЮЕРА 2</b></u></p>\n",
    "    <p>👍👍👍</p>\n",
    "</div>"
   ]
  },
  {
   "cell_type": "markdown",
   "metadata": {},
   "source": [
    "Заполним все образовавшиеся пропущенные значения нулями:"
   ]
  },
  {
   "cell_type": "code",
   "execution_count": 11,
   "metadata": {},
   "outputs": [],
   "source": [
    "df = df.fillna(0, axis=1)"
   ]
  },
  {
   "cell_type": "markdown",
   "metadata": {},
   "source": [
    "В завершении этапа посмотрим, как выглядит таблица перед анализом:"
   ]
  },
  {
   "cell_type": "code",
   "execution_count": 12,
   "metadata": {},
   "outputs": [
    {
     "data": {
      "text/html": [
       "<div>\n",
       "<style scoped>\n",
       "    .dataframe tbody tr th:only-of-type {\n",
       "        vertical-align: middle;\n",
       "    }\n",
       "\n",
       "    .dataframe tbody tr th {\n",
       "        vertical-align: top;\n",
       "    }\n",
       "\n",
       "    .dataframe thead th {\n",
       "        text-align: right;\n",
       "    }\n",
       "</style>\n",
       "<table border=\"1\" class=\"dataframe\">\n",
       "  <thead>\n",
       "    <tr style=\"text-align: right;\">\n",
       "      <th></th>\n",
       "      <th>num_orders</th>\n",
       "      <th>year</th>\n",
       "      <th>day_of_week</th>\n",
       "      <th>month</th>\n",
       "      <th>hour</th>\n",
       "      <th>lag_1</th>\n",
       "      <th>lag_2</th>\n",
       "      <th>lag_3</th>\n",
       "      <th>lag_4</th>\n",
       "      <th>lag_5</th>\n",
       "      <th>...</th>\n",
       "      <th>lag_12</th>\n",
       "      <th>lag_13</th>\n",
       "      <th>lag_14</th>\n",
       "      <th>lag_15</th>\n",
       "      <th>lag_16</th>\n",
       "      <th>lag_17</th>\n",
       "      <th>lag_18</th>\n",
       "      <th>lag_19</th>\n",
       "      <th>lag_20</th>\n",
       "      <th>rolling_mean</th>\n",
       "    </tr>\n",
       "    <tr>\n",
       "      <th>datetime</th>\n",
       "      <th></th>\n",
       "      <th></th>\n",
       "      <th></th>\n",
       "      <th></th>\n",
       "      <th></th>\n",
       "      <th></th>\n",
       "      <th></th>\n",
       "      <th></th>\n",
       "      <th></th>\n",
       "      <th></th>\n",
       "      <th></th>\n",
       "      <th></th>\n",
       "      <th></th>\n",
       "      <th></th>\n",
       "      <th></th>\n",
       "      <th></th>\n",
       "      <th></th>\n",
       "      <th></th>\n",
       "      <th></th>\n",
       "      <th></th>\n",
       "      <th></th>\n",
       "    </tr>\n",
       "  </thead>\n",
       "  <tbody>\n",
       "    <tr>\n",
       "      <th>2018-03-01 00:00:00</th>\n",
       "      <td>124</td>\n",
       "      <td>2018</td>\n",
       "      <td>3</td>\n",
       "      <td>3</td>\n",
       "      <td>0</td>\n",
       "      <td>0.0</td>\n",
       "      <td>0.0</td>\n",
       "      <td>0.0</td>\n",
       "      <td>0.0</td>\n",
       "      <td>0.0</td>\n",
       "      <td>...</td>\n",
       "      <td>0.0</td>\n",
       "      <td>0.0</td>\n",
       "      <td>0.0</td>\n",
       "      <td>0.0</td>\n",
       "      <td>0.0</td>\n",
       "      <td>0.0</td>\n",
       "      <td>0.0</td>\n",
       "      <td>0.0</td>\n",
       "      <td>0.0</td>\n",
       "      <td>0.0</td>\n",
       "    </tr>\n",
       "    <tr>\n",
       "      <th>2018-03-01 01:00:00</th>\n",
       "      <td>85</td>\n",
       "      <td>2018</td>\n",
       "      <td>3</td>\n",
       "      <td>3</td>\n",
       "      <td>1</td>\n",
       "      <td>124.0</td>\n",
       "      <td>0.0</td>\n",
       "      <td>0.0</td>\n",
       "      <td>0.0</td>\n",
       "      <td>0.0</td>\n",
       "      <td>...</td>\n",
       "      <td>0.0</td>\n",
       "      <td>0.0</td>\n",
       "      <td>0.0</td>\n",
       "      <td>0.0</td>\n",
       "      <td>0.0</td>\n",
       "      <td>0.0</td>\n",
       "      <td>0.0</td>\n",
       "      <td>0.0</td>\n",
       "      <td>0.0</td>\n",
       "      <td>0.0</td>\n",
       "    </tr>\n",
       "    <tr>\n",
       "      <th>2018-03-01 02:00:00</th>\n",
       "      <td>71</td>\n",
       "      <td>2018</td>\n",
       "      <td>3</td>\n",
       "      <td>3</td>\n",
       "      <td>2</td>\n",
       "      <td>85.0</td>\n",
       "      <td>124.0</td>\n",
       "      <td>0.0</td>\n",
       "      <td>0.0</td>\n",
       "      <td>0.0</td>\n",
       "      <td>...</td>\n",
       "      <td>0.0</td>\n",
       "      <td>0.0</td>\n",
       "      <td>0.0</td>\n",
       "      <td>0.0</td>\n",
       "      <td>0.0</td>\n",
       "      <td>0.0</td>\n",
       "      <td>0.0</td>\n",
       "      <td>0.0</td>\n",
       "      <td>0.0</td>\n",
       "      <td>0.0</td>\n",
       "    </tr>\n",
       "    <tr>\n",
       "      <th>2018-03-01 03:00:00</th>\n",
       "      <td>66</td>\n",
       "      <td>2018</td>\n",
       "      <td>3</td>\n",
       "      <td>3</td>\n",
       "      <td>3</td>\n",
       "      <td>71.0</td>\n",
       "      <td>85.0</td>\n",
       "      <td>124.0</td>\n",
       "      <td>0.0</td>\n",
       "      <td>0.0</td>\n",
       "      <td>...</td>\n",
       "      <td>0.0</td>\n",
       "      <td>0.0</td>\n",
       "      <td>0.0</td>\n",
       "      <td>0.0</td>\n",
       "      <td>0.0</td>\n",
       "      <td>0.0</td>\n",
       "      <td>0.0</td>\n",
       "      <td>0.0</td>\n",
       "      <td>0.0</td>\n",
       "      <td>0.0</td>\n",
       "    </tr>\n",
       "    <tr>\n",
       "      <th>2018-03-01 04:00:00</th>\n",
       "      <td>43</td>\n",
       "      <td>2018</td>\n",
       "      <td>3</td>\n",
       "      <td>3</td>\n",
       "      <td>4</td>\n",
       "      <td>66.0</td>\n",
       "      <td>71.0</td>\n",
       "      <td>85.0</td>\n",
       "      <td>124.0</td>\n",
       "      <td>0.0</td>\n",
       "      <td>...</td>\n",
       "      <td>0.0</td>\n",
       "      <td>0.0</td>\n",
       "      <td>0.0</td>\n",
       "      <td>0.0</td>\n",
       "      <td>0.0</td>\n",
       "      <td>0.0</td>\n",
       "      <td>0.0</td>\n",
       "      <td>0.0</td>\n",
       "      <td>0.0</td>\n",
       "      <td>0.0</td>\n",
       "    </tr>\n",
       "    <tr>\n",
       "      <th>2018-03-01 05:00:00</th>\n",
       "      <td>6</td>\n",
       "      <td>2018</td>\n",
       "      <td>3</td>\n",
       "      <td>3</td>\n",
       "      <td>5</td>\n",
       "      <td>43.0</td>\n",
       "      <td>66.0</td>\n",
       "      <td>71.0</td>\n",
       "      <td>85.0</td>\n",
       "      <td>124.0</td>\n",
       "      <td>...</td>\n",
       "      <td>0.0</td>\n",
       "      <td>0.0</td>\n",
       "      <td>0.0</td>\n",
       "      <td>0.0</td>\n",
       "      <td>0.0</td>\n",
       "      <td>0.0</td>\n",
       "      <td>0.0</td>\n",
       "      <td>0.0</td>\n",
       "      <td>0.0</td>\n",
       "      <td>0.0</td>\n",
       "    </tr>\n",
       "  </tbody>\n",
       "</table>\n",
       "<p>6 rows × 26 columns</p>\n",
       "</div>"
      ],
      "text/plain": [
       "                     num_orders  year  day_of_week  month  hour  lag_1  lag_2  \\\n",
       "datetime                                                                        \n",
       "2018-03-01 00:00:00         124  2018            3      3     0    0.0    0.0   \n",
       "2018-03-01 01:00:00          85  2018            3      3     1  124.0    0.0   \n",
       "2018-03-01 02:00:00          71  2018            3      3     2   85.0  124.0   \n",
       "2018-03-01 03:00:00          66  2018            3      3     3   71.0   85.0   \n",
       "2018-03-01 04:00:00          43  2018            3      3     4   66.0   71.0   \n",
       "2018-03-01 05:00:00           6  2018            3      3     5   43.0   66.0   \n",
       "\n",
       "                     lag_3  lag_4  lag_5  ...  lag_12  lag_13  lag_14  lag_15  \\\n",
       "datetime                                  ...                                   \n",
       "2018-03-01 00:00:00    0.0    0.0    0.0  ...     0.0     0.0     0.0     0.0   \n",
       "2018-03-01 01:00:00    0.0    0.0    0.0  ...     0.0     0.0     0.0     0.0   \n",
       "2018-03-01 02:00:00    0.0    0.0    0.0  ...     0.0     0.0     0.0     0.0   \n",
       "2018-03-01 03:00:00  124.0    0.0    0.0  ...     0.0     0.0     0.0     0.0   \n",
       "2018-03-01 04:00:00   85.0  124.0    0.0  ...     0.0     0.0     0.0     0.0   \n",
       "2018-03-01 05:00:00   71.0   85.0  124.0  ...     0.0     0.0     0.0     0.0   \n",
       "\n",
       "                     lag_16  lag_17  lag_18  lag_19  lag_20  rolling_mean  \n",
       "datetime                                                                   \n",
       "2018-03-01 00:00:00     0.0     0.0     0.0     0.0     0.0           0.0  \n",
       "2018-03-01 01:00:00     0.0     0.0     0.0     0.0     0.0           0.0  \n",
       "2018-03-01 02:00:00     0.0     0.0     0.0     0.0     0.0           0.0  \n",
       "2018-03-01 03:00:00     0.0     0.0     0.0     0.0     0.0           0.0  \n",
       "2018-03-01 04:00:00     0.0     0.0     0.0     0.0     0.0           0.0  \n",
       "2018-03-01 05:00:00     0.0     0.0     0.0     0.0     0.0           0.0  \n",
       "\n",
       "[6 rows x 26 columns]"
      ]
     },
     "execution_count": 12,
     "metadata": {},
     "output_type": "execute_result"
    }
   ],
   "source": [
    "df.head(6)"
   ]
  },
  {
   "cell_type": "markdown",
   "metadata": {},
   "source": [
    "### Вывод"
   ]
  },
  {
   "cell_type": "markdown",
   "metadata": {},
   "source": [
    "На этапе подготовки данных были проведены разведочный анализ данных и первичная предобработка. Стало ясно, что имеются данные с 2018-03-01 по 2018-08-31, то есть за 7 полных месяцев. Для удобства исследования данные были разбиты на часовые промежетки вместо десятиминутных. \n",
    "\n",
    "Проблемы в данных не были обнаружены. Также для дальнейших аналитических расчётов в таблицу были добавлены некоторые дополнительные признаки:\n",
    "* Календарные;\n",
    "* Отстающие;\n",
    "* Скользящее среднее\n",
    "\n",
    "Далее можно переходить к этапу анализа данных."
   ]
  },
  {
   "cell_type": "markdown",
   "metadata": {},
   "source": [
    "## Анализ"
   ]
  },
  {
   "cell_type": "markdown",
   "metadata": {},
   "source": [
    "Посмотрим, как менялось среднее арифметическое количество заказов в час с марта по август. Сгруппируем данные по месяцу, а затем посчитаем среднее количество заказов в час в каждом:"
   ]
  },
  {
   "cell_type": "code",
   "execution_count": 13,
   "metadata": {},
   "outputs": [
    {
     "data": {
      "image/png": "[encoded data removed]",
      "text/plain": [
       "<Figure size 432x288 with 1 Axes>"
      ]
     },
     "metadata": {
      "needs_background": "light"
     },
     "output_type": "display_data"
    }
   ],
   "source": [
    "pivot_month_orders = pd.pivot_table(data=df, index=['month'], columns=['year'], values=['num_orders'], aggfunc='mean')\n",
    "pivot_month_orders_plot = pivot_month_orders.plot(kind='bar', legend=False, title='Average number of taxi orders by month')"
   ]
  },
  {
   "cell_type": "markdown",
   "metadata": {},
   "source": [
    "Видна положительная динамика: с каждым месяцем количество заказов только увеличивалось. На это может быть несколько причин: либо это сезонное изменение, связанное с потеплением на улице, в результате чего пользователи чаще выходят из дома и заказывают такси; либо сервис постепенно привлекает всё больше пользователей при помощи своих реклам и предложений. Первую гипотезу проверить не выйдет - нет данных за несколько лет. Посмотрим, имеется ли связь количества заказов с днём недели:"
   ]
  },
  {
   "cell_type": "code",
   "execution_count": 14,
   "metadata": {},
   "outputs": [
    {
     "data": {
      "image/png": "[encoded data removed]",
      "text/plain": [
       "<Figure size 432x288 with 1 Axes>"
      ]
     },
     "metadata": {
      "needs_background": "light"
     },
     "output_type": "display_data"
    }
   ],
   "source": [
    "pivot_day_orders = pd.pivot_table(data=df, index=['day_of_week'], columns=['year'], values=['num_orders'], aggfunc='mean')\n",
    "pivot_day_orders_plot = pivot_day_orders.plot(kind='bar', legend=False, \n",
    "                                              title='Average number of taxi orders by day of the week')"
   ]
  },
  {
   "cell_type": "markdown",
   "metadata": {},
   "source": [
    "Особо выделяющихся закономерностей найти не удалось: в среднем пользователи в час любого дня недели делают около 70 заказов. Значит, пики нагрузки не связаны с выходными или рабочими днями - тогда стоит рассмотреть данные еще глубже, обратившись к часу заказа:"
   ]
  },
  {
   "cell_type": "code",
   "execution_count": 15,
   "metadata": {},
   "outputs": [
    {
     "data": {
      "image/png": "[encoded data removed]",
      "text/plain": [
       "<Figure size 432x288 with 1 Axes>"
      ]
     },
     "metadata": {
      "needs_background": "light"
     },
     "output_type": "display_data"
    }
   ],
   "source": [
    "pivot_hour_orders = pd.pivot_table(data=df, index=['hour'], columns=['year'], values=['num_orders'], aggfunc='mean')\n",
    "pivot_hour_orders_plot = pivot_hour_orders.plot(kind='bar', legend=False, title='Average number of taxi orders by hour')"
   ]
  },
  {
   "cell_type": "markdown",
   "metadata": {},
   "source": [
    "Наблюдаем некоторые закономерности: самые утренние часы (5 - 7 утра) имеют минимальную загруженность около 20 заказов в час, когда ближе к полуночи начинается постепенное увеличение количества заказов, а в полночь и вовсе пик. Также небольшой спад приходится на обеденное время, а 16 часов - вновь загруженность. \n",
    "\n",
    "Воспользуемся специальным методом для последующего анализа данных. Разложим временной ряд на тренд, сезонность и остаток."
   ]
  },
  {
   "cell_type": "code",
   "execution_count": 16,
   "metadata": {},
   "outputs": [],
   "source": [
    "decomposed = seasonal_decompose(df['num_orders'])"
   ]
  },
  {
   "cell_type": "markdown",
   "metadata": {},
   "source": [
    "Теперь посмотрим график тренда по временному ряду:"
   ]
  },
  {
   "cell_type": "code",
   "execution_count": 17,
   "metadata": {},
   "outputs": [
    {
     "data": {
      "image/png": "[encoded data removed]",
      "text/plain": [
       "<Figure size 432x288 with 1 Axes>"
      ]
     },
     "metadata": {
      "needs_background": "light"
     },
     "output_type": "display_data"
    }
   ],
   "source": [
    "plt = decomposed.trend.plot(title='Trend graph of the number of taxi orders by time series')"
   ]
  },
  {
   "cell_type": "markdown",
   "metadata": {},
   "source": [
    "Увиденное на гистограмме подтвердилось: количество заказов становится выше с каждым месяцем. Сезонную составляющую рассматривать не будем, так как для этого недостаточно много данных, а остатки необъяснимы, поэтому и выводить их не нужно. Остаётся только перейти к обучению различных моделей."
   ]
  },
  {
   "cell_type": "markdown",
   "metadata": {},
   "source": [
    "<div class=\"alert alert-success\" style=\"border-color: green; border-radius: 5px\">\n",
    "    <p><u><b>✅ КОММЕНТАРИЙ РЕВЬЮЕРА</b></u></p>\n",
    "    <p>\n",
    "Исследование - понятно.<br>\n",
    "Инструмент декомпозиции в частности, а графический анализ временных рядов как в принципе - важный этап моделирования рядов.<br> Позволяет увидеть продажи визуально, а это помогает сделать предвариетльные выводы<br>\n",
    "    \n",
    "Хочу озвучить ещё такой момент<br>\n",
    "В реальности бизнеса есть все три вида сезонности:<br>\n",
    "1) дневная сезонность -  данные собраны по дням, т.е. будни и выходные имеют разные продажи<br>\n",
    "2) внутрисуточная сезонность: когда продажи утром отличаются от продаж вечером <br>\n",
    "3) месячная сезонность: когда продажи лета и осени - разные.<br><br>\n",
    "И если строить прогноз на длительный период времени, то без учёта всех видов сезонности  - не обойтись<br>\n",
    "Например: есть в данных восходящий тренд. Но вопрос такой возникает: <br>\n",
    "этот подъём действительно за счёт роста компании (чаще всего тренд - это отражение роста компании) или есть ещё влияние месячной сезнности? (летом - продаж в рост, например, и именно этот момент мы наблюдаем в данных)<br>\n",
    "Ответ на вопрос - не протой на имеющихся данных - у нас данных меньше года. А это означает, что месячную сезонность нам не просто вычислить адекватно - т.е. не внести в модель корректтировки месяцев(<br>\n",
    "Поэтому, я бы дал такой совет:<br>\n",
    "на горизонте прогнозирования - несколько часов или дней - можно предположить что у нас тренд.<br>\n",
    "А если строить прогноз на несколько недель - вот тут утверждать наличие тренда надо с большой осторожностью))))<br><br>\n",
    "Ну, а если вернуться к постановке задаче - построить прогноз на час (очень маленький горизонт), то двух сезонности часовой и дневной - должно хватить."
   ]
  },
  {
   "cell_type": "markdown",
   "metadata": {},
   "source": [
    "<div class=\"alert alert-block alert-info\">\n",
    "<b>Комментарий студента:</b> Окей, понял, принял. Вот тогда вопрос: а как вывести график тренда или сезонности при помощи seasonal_decompose в нужных нам часах, а не выводимых им месяцев? Не нашёл чего-то в документации\n",
    "</div>"
   ]
  },
  {
   "cell_type": "markdown",
   "metadata": {},
   "source": [
    "<div class=\"alert alert-success\" style=\"border-color: green; border-radius: 5px\">\n",
    "    <p><u><b>✅ КОММЕНТАРИЙ РЕВЬЮЕРА 2</b></u></p>\n",
    "    <p>Тут так: как агрегированы данные - так декомпозиция и посчитает. Вот если данные агрегиованы за час - часовую сезонную. Если агрегировать данные в день, то декомпозиция покажет дневную сезонность и т.д.</p>\n",
    "</div>"
   ]
  },
  {
   "cell_type": "markdown",
   "metadata": {},
   "source": [
    "### Вывод"
   ]
  },
  {
   "cell_type": "markdown",
   "metadata": {},
   "source": [
    "На этапе анализа данных были разобраны зависимости, которые имеют место быть в наших данных. Так, выявили следующее:\n",
    "* Среднее количество заказов растёт ежемесячно;\n",
    "* Среднее количество заказов не зависит от дня недели;\n",
    "* Утренние часы (5 - 7) утра имеют минимальную загруженность, а к полуночи количество заказов начинает резко увеличиваться до пика в полночь\n",
    "\n",
    "Разложение временного ряда на составляющие продемонстрировали, что первая гипотеза действительно может подтверждаться на исследовательском уровне. Далее обратимся к машинному обучению."
   ]
  },
  {
   "cell_type": "markdown",
   "metadata": {},
   "source": [
    "## Обучение"
   ]
  },
  {
   "cell_type": "markdown",
   "metadata": {},
   "source": [
    "Перед началом обучения моделей разобьём наши данные на 2 выборки: обучающую и тестовую в пропорции 9:1:"
   ]
  },
  {
   "cell_type": "code",
   "execution_count": 18,
   "metadata": {},
   "outputs": [],
   "source": [
    "train, test = train_test_split(df, shuffle=False, test_size=0.1)"
   ]
  },
  {
   "cell_type": "markdown",
   "metadata": {},
   "source": [
    "<div class=\"alert alert-success\" style=\"border-color: green; border-radius: 5px\">\n",
    "    <p><u><b>✅ КОММЕНТАРИЙ РЕВЬЮЕРА</b></u></p>\n",
    "ОК"
   ]
  },
  {
   "cell_type": "markdown",
   "metadata": {},
   "source": [
    "Удостоверимся, что получили необходимую размерность выборок:"
   ]
  },
  {
   "cell_type": "code",
   "execution_count": 19,
   "metadata": {},
   "outputs": [
    {
     "name": "stdout",
     "output_type": "stream",
     "text": [
      "Количество строк в обучающей выборке: 0.9\n",
      "Количество строк в тестовой выборке: 0.1\n"
     ]
    }
   ],
   "source": [
    "print(f'Количество строк в обучающей выборке: {len(train) / len(df):.2}')\n",
    "print(f'Количество строк в тестовой выборке: {len(test) / len(df):.2}')"
   ]
  },
  {
   "cell_type": "markdown",
   "metadata": {},
   "source": [
    "В каждой выборке разделим признаки и целевой признак:"
   ]
  },
  {
   "cell_type": "code",
   "execution_count": 20,
   "metadata": {},
   "outputs": [],
   "source": [
    "features_train = train.drop('num_orders', axis=1)\n",
    "target_train = train['num_orders']\n",
    "\n",
    "features_test = test.drop('num_orders', axis=1)\n",
    "target_test = test['num_orders']"
   ]
  },
  {
   "cell_type": "markdown",
   "metadata": {},
   "source": [
    "### Линейная регрессия"
   ]
  },
  {
   "cell_type": "markdown",
   "metadata": {},
   "source": [
    "Начнём обучения с одной из наиболее простых моделей - линейной регрессии. Обучим её:"
   ]
  },
  {
   "cell_type": "code",
   "execution_count": 21,
   "metadata": {},
   "outputs": [
    {
     "name": "stdout",
     "output_type": "stream",
     "text": [
      "Модель линейной регрессии успешно обучена\n"
     ]
    }
   ],
   "source": [
    "model_lr = LinearRegression()\n",
    "model_lr.fit(features_train, target_train)\n",
    "print('Модель линейной регрессии успешно обучена')"
   ]
  },
  {
   "cell_type": "markdown",
   "metadata": {},
   "source": [
    "Найдём её предсказания:"
   ]
  },
  {
   "cell_type": "code",
   "execution_count": 22,
   "metadata": {},
   "outputs": [],
   "source": [
    "predictions_lr = model_lr.predict(features_test)"
   ]
  },
  {
   "cell_type": "markdown",
   "metadata": {},
   "source": [
    "Наконец, рассчитаем метрику качества модели - `RMSE`:"
   ]
  },
  {
   "cell_type": "code",
   "execution_count": 23,
   "metadata": {},
   "outputs": [
    {
     "name": "stdout",
     "output_type": "stream",
     "text": [
      "RMSE линейной регресии составляет: 54.20198232623502\n"
     ]
    }
   ],
   "source": [
    "print(f'RMSE линейной регресии составляет: {mean_squared_error(target_test, predictions_lr, squared=False)}')"
   ]
  },
  {
   "cell_type": "markdown",
   "metadata": {},
   "source": [
    "Построим график реальных значений и предсказанных на 2 дня, чтобы увидеть, на сколько близка модель к истине:"
   ]
  },
  {
   "cell_type": "code",
   "execution_count": 24,
   "metadata": {},
   "outputs": [
    {
     "data": {
      "image/png": "[encoded data removed]",
      "text/plain": [
       "<Figure size 432x288 with 1 Axes>"
      ]
     },
     "metadata": {
      "needs_background": "light"
     },
     "output_type": "display_data"
    }
   ],
   "source": [
    "pred = pd.DataFrame(index=test.index, data=predictions_lr, columns=['Predicted values'])\n",
    "plt = pred['2018-08-14': '2018-08-15'].plot(title='Comparison of real values with linear regression predictions')\n",
    "plt = target_test['2018-08-14': '2018-08-15'].plot(xlabel='Time', grid=True, ylabel='Number of orders')"
   ]
  },
  {
   "cell_type": "markdown",
   "metadata": {},
   "source": [
    "Модель в среднем ошибается на примерно 54 заказа в час. Охарактеризовать, достаточно ли это много, сможем чуть позже, а пока можно лишь теоретически прикинуть, что ошибка в 54 заказа на следующий час - это много. Такое количество заказов вполне может перепутать период пика и сделать его минимум загрузки, из-за чего сервис сильно пострадает. Рассмотрим модель случайного леса."
   ]
  },
  {
   "cell_type": "markdown",
   "metadata": {},
   "source": [
    "<div class=\"alert alert-success\" style=\"border-color: green; border-radius: 5px\">\n",
    "    <p><u><b>✅ КОММЕНТАРИЙ РЕВЬЮЕРА</b></u></p>\n",
    "есть контакт)"
   ]
  },
  {
   "cell_type": "markdown",
   "metadata": {},
   "source": [
    "### Случайный лес"
   ]
  },
  {
   "cell_type": "markdown",
   "metadata": {},
   "source": [
    "Также начнём с обучения модели:"
   ]
  },
  {
   "cell_type": "code",
   "execution_count": 25,
   "metadata": {},
   "outputs": [
    {
     "name": "stdout",
     "output_type": "stream",
     "text": [
      "Модель случайного леса успешно обучена\n"
     ]
    }
   ],
   "source": [
    "model_rfr = RandomForestRegressor(random_state=RANDOM_STATE)\n",
    "model_rfr.fit(features_train, target_train)\n",
    "print('Модель случайного леса успешно обучена')"
   ]
  },
  {
   "cell_type": "markdown",
   "metadata": {},
   "source": [
    "Получим предсказания получившейся модели:"
   ]
  },
  {
   "cell_type": "code",
   "execution_count": 26,
   "metadata": {},
   "outputs": [],
   "source": [
    "predictions_rfr = model_rfr.predict(features_test)"
   ]
  },
  {
   "cell_type": "markdown",
   "metadata": {},
   "source": [
    "Рассчитаем метрику `RMSE` случайного леса:"
   ]
  },
  {
   "cell_type": "code",
   "execution_count": 27,
   "metadata": {},
   "outputs": [
    {
     "name": "stdout",
     "output_type": "stream",
     "text": [
      "RMSE случайного леса составляет: 44.386339338917125\n"
     ]
    }
   ],
   "source": [
    "print(f'RMSE случайного леса составляет: {mean_squared_error(target_test, predictions_rfr, squared=False)}')"
   ]
  },
  {
   "cell_type": "markdown",
   "metadata": {},
   "source": [
    "Вновь построим график сравнения реальных значений с предсказанными случайным лесом:"
   ]
  },
  {
   "cell_type": "code",
   "execution_count": 28,
   "metadata": {},
   "outputs": [
    {
     "data": {
      "image/png": "[encoded data removed]",
      "text/plain": [
       "<Figure size 432x288 with 1 Axes>"
      ]
     },
     "metadata": {
      "needs_background": "light"
     },
     "output_type": "display_data"
    }
   ],
   "source": [
    "pred = pd.DataFrame(index=test.index, data=predictions_rfr, columns=['Predicted values'])\n",
    "plt = pred['2018-08-14': '2018-08-15'].plot(title='Comparison of real values with random forest predictions')\n",
    "plt = target_test['2018-08-14': '2018-08-15'].plot(xlabel='Time', grid=True, ylabel='Number of orders')"
   ]
  },
  {
   "cell_type": "markdown",
   "metadata": {},
   "source": [
    "Модель ошибается на примерно 44 заказа. Получилось сильно лучше, чем у линейной регрессии. Более того, данный показатель полностью удовлетворяет пожелания заказчика относительно качества модели. Тем не менее, попробуем также проверить более сложную модель - градиентный бустинг."
   ]
  },
  {
   "cell_type": "markdown",
   "metadata": {},
   "source": [
    "### Градиентный бустинг"
   ]
  },
  {
   "cell_type": "markdown",
   "metadata": {},
   "source": [
    "Инициализируем модель градиентного бустинга. Для этого воспользуемся библиотекой `Catboost`:"
   ]
  },
  {
   "cell_type": "code",
   "execution_count": 29,
   "metadata": {},
   "outputs": [],
   "source": [
    "model_cat = CatBoostRegressor()"
   ]
  },
  {
   "cell_type": "markdown",
   "metadata": {},
   "source": [
    "Проведём кроссвалидацию и визуализируем процесс. Посмотрим, как меняется значение метрики `RMSE` на каждом этапе итерации:"
   ]
  },
  {
   "cell_type": "code",
   "execution_count": 30,
   "metadata": {},
   "outputs": [
    {
     "data": {
      "application/vnd.jupyter.widget-view+json": {
       "model_id": "3df1aa010489429aa5dd8701e2ec7058",
       "version_major": 2,
       "version_minor": 0
      },
      "text/plain": [
       "MetricVisualizer(layout=Layout(align_self='stretch', height='500px'))"
      ]
     },
     "metadata": {},
     "output_type": "display_data"
    },
    {
     "name": "stdout",
     "output_type": "stream",
     "text": [
      "Training on fold [0/2]\n",
      "\n",
      "bestTest = 26.093248\n",
      "bestIteration = 99\n",
      "\n",
      "Training on fold [1/2]\n",
      "\n",
      "bestTest = 26.55353031\n",
      "bestIteration = 99\n",
      "\n"
     ]
    }
   ],
   "source": [
    "params = {\"iterations\": 100, \"depth\": 8, \"loss_function\": \"RMSE\", \"verbose\": False}\n",
    "\n",
    "cv_dataset = Pool(data=features_train, label=target_train)\n",
    "scores = cv(cv_dataset, params, fold_count=2, plot=\"True\")"
   ]
  },
  {
   "cell_type": "markdown",
   "metadata": {},
   "source": [
    "Теперь обучим модель на наиболее подходящих параметрах:"
   ]
  },
  {
   "cell_type": "code",
   "execution_count": 31,
   "metadata": {},
   "outputs": [
    {
     "name": "stdout",
     "output_type": "stream",
     "text": [
      "Learning rate set to 0.333738\n",
      "0:\tlearn: 32.7163836\ttotal: 24.1ms\tremaining: 2.36s\n",
      "10:\tlearn: 21.2029650\ttotal: 165ms\tremaining: 1.32s\n",
      "20:\tlearn: 19.1915307\ttotal: 312ms\tremaining: 1.16s\n",
      "30:\tlearn: 17.5023884\ttotal: 449ms\tremaining: 984ms\n",
      "40:\tlearn: 15.7947980\ttotal: 587ms\tremaining: 830ms\n",
      "50:\tlearn: 14.5784790\ttotal: 729ms\tremaining: 686ms\n",
      "60:\tlearn: 13.3833858\ttotal: 866ms\tremaining: 539ms\n",
      "70:\tlearn: 12.2708729\ttotal: 1s\tremaining: 396ms\n",
      "80:\tlearn: 11.3562252\ttotal: 1.15s\tremaining: 255ms\n",
      "90:\tlearn: 10.6359099\ttotal: 1.29s\tremaining: 113ms\n",
      "98:\tlearn: 9.9911868\ttotal: 1.4s\tremaining: 0us\n"
     ]
    },
    {
     "data": {
      "text/plain": [
       "<catboost.core.CatBoostRegressor at 0x7fc378346730>"
      ]
     },
     "execution_count": 31,
     "metadata": {},
     "output_type": "execute_result"
    }
   ],
   "source": [
    "model = CatBoostRegressor(iterations=99, depth=8, loss_function='RMSE', verbose=False)\n",
    "model.fit(features_train, target_train, verbose=10)"
   ]
  },
  {
   "cell_type": "markdown",
   "metadata": {},
   "source": [
    "Наконец, нужно получить предсказания модели и рассчитать метрику качества `RMSE`:"
   ]
  },
  {
   "cell_type": "code",
   "execution_count": 32,
   "metadata": {},
   "outputs": [
    {
     "name": "stdout",
     "output_type": "stream",
     "text": [
      "RMSE модели градиентного бустинга составляет: 43.7110187167023\n"
     ]
    }
   ],
   "source": [
    "predictions = model.predict(features_test)\n",
    "\n",
    "rmse = mean_squared_error(target_test, predictions, squared=False)\n",
    "print('RMSE модели градиентного бустинга составляет:', rmse)"
   ]
  },
  {
   "cell_type": "markdown",
   "metadata": {},
   "source": [
    "Построим график реальных и предсказанных значений, чтобы наглядно увидеть, как отличаются прогнозы этой модели от реальности:"
   ]
  },
  {
   "cell_type": "code",
   "execution_count": 33,
   "metadata": {},
   "outputs": [
    {
     "data": {
      "image/png": "[encoded data removed]",
      "text/plain": [
       "<Figure size 432x288 with 1 Axes>"
      ]
     },
     "metadata": {
      "needs_background": "light"
     },
     "output_type": "display_data"
    }
   ],
   "source": [
    "pred = pd.DataFrame(index=test.index, data=predictions, columns=['Predicted values'])\n",
    "plt = pred['2018-08-14': '2018-08-15'].plot(title='Comparison of real values with gradient boosting predictions')\n",
    "plt = target_test['2018-08-14': '2018-08-15'].plot(xlabel='Time', grid=True, ylabel='Number of orders')"
   ]
  },
  {
   "cell_type": "markdown",
   "metadata": {},
   "source": [
    "### Вывод"
   ]
  },
  {
   "cell_type": "markdown",
   "metadata": {},
   "source": [
    "На этапе обучения удалось построить 3 различных модели. В целом, скорость обучения и предсказания у всех моделей вышла достаточно близкой друг к другу, поэтому этот параметр оценки можно опустить. Метрика `RMSE` вышла следующей:\n",
    "* Линейная регрессия - 54.2\n",
    "* Случайный лес - 44.38\n",
    "* Градиентный бустинг - 43.71\n",
    "\n",
    "Как видно, наилучшей оказалась модель градиентного бустинга, хотя случайный лес отстал совсем не сильно. Модель линейной регрессии не подходит нам по требованиям заказчика. Тем не менее, перед окончательным выводом проверим, на сколько наши модели лучше, чем модели без машинного обучения."
   ]
  },
  {
   "cell_type": "markdown",
   "metadata": {},
   "source": [
    "## Тестирование"
   ]
  },
  {
   "cell_type": "markdown",
   "metadata": {},
   "source": [
    "Посмотрим на модели без машинного обучения. Одной из таковых является прогноз константой, например, медианой. Рассчитаем метрику такого прогноза:"
   ]
  },
  {
   "cell_type": "code",
   "execution_count": 34,
   "metadata": {},
   "outputs": [
    {
     "name": "stdout",
     "output_type": "stream",
     "text": [
      "RMSE прогноза константой: 155.42642426922205\n"
     ]
    }
   ],
   "source": [
    "pred_median = np.ones(test.shape) * train['num_orders'].median() \n",
    "print(\"RMSE прогноза константой:\", mean_squared_error(test, pred_median, squared=False))"
   ]
  },
  {
   "cell_type": "markdown",
   "metadata": {},
   "source": [
    "155 - это много, даже очень. Модели машинного обучения показали куда более лучший результат в сравнении с простым предсказанием медианой. Возможно, предсказания предыдущим значением ряда выйдет чуть лучше. Проверим его:"
   ]
  },
  {
   "cell_type": "code",
   "execution_count": 35,
   "metadata": {},
   "outputs": [
    {
     "name": "stdout",
     "output_type": "stream",
     "text": [
      "RMSE прогноза предыдущим значением: 58.856486242815066\n"
     ]
    }
   ],
   "source": [
    "pred_previous = test['num_orders'].shift(fill_value=train['num_orders'].iloc[-1])\n",
    "print(\"RMSE прогноза предыдущим значением:\", mean_squared_error(test['num_orders'], pred_previous, squared=False)) "
   ]
  },
  {
   "cell_type": "markdown",
   "metadata": {},
   "source": [
    "Предыдущее значение делает чуть лучшие прогнозы - метрика составила 58.85. С одной стороны, такая модель видит подъём и спад спроса, но с другой - она не определит, когда пик закончился, отсюда и её неэффективность в сравнении с машинным обучением. "
   ]
  },
  {
   "cell_type": "markdown",
   "metadata": {},
   "source": [
    "### Вывод"
   ]
  },
  {
   "cell_type": "markdown",
   "metadata": {},
   "source": [
    "На этапе тестирования модели были сравнены с моделями без машинного обучения - прогнозом константой и предыдущим значением. Несмотря на довольно неплохие показатели у второй модели, градиентный бустинг по-прежнему остаётся более подходящей моделью с метрикой качества 43.71. Таким образом, можем переходить к основному выводу исследования."
   ]
  },
  {
   "cell_type": "markdown",
   "metadata": {},
   "source": [
    "## Вывод"
   ]
  },
  {
   "cell_type": "markdown",
   "metadata": {},
   "source": [
    "По требованиям исследования было необходимо разработать модель, которая предсказывала бы количество заказов такси на следующей час с метрикой `RMSE` не более 48. Для этой цели были обучены 3 модели с расчётом метрики для каждой из них:\n",
    "\n",
    "* Линейная регрессия - 54.2\n",
    "* Случайный лес - 44.38\n",
    "* Градиентный бустинг - 43.71\n",
    "\n",
    "При этом, все модели превосходят по качеству любую модель без машинного обучения. Исходя из прочих параметров, как время обучения модели, можно сказать, что самой подходящей для заказчика является модель градиентного бустинга. Тем не менее, увеличение количества данных может привести к более точным результатам, по причине чего рекомендуется повторение исследования для заказчика через несколько месяцев."
   ]
  },
  {
   "cell_type": "markdown",
   "metadata": {},
   "source": [
    "<div class=\"alert alert-success\" style=\"border-color: green; border-radius: 5px\">\n",
    "    <p><u><b>✅ КОММЕНТАРИЙ РЕВЬЮЕРА</b></u></p>\n",
    "ОК, Данила, с модельной частью тебе удалось справиться хорошо!<br>\n",
    "Видно, что этот скил уже достаточно сильный.<br>\n",
    "Метрика - ОК. Но не понятно, если честно, а хороша ли эта модель в плане предсказания? Для этого лучше построить дополнительно график (чуть ниженаписал об этом).<br>\n",
    "    \n",
    "И если сутейно рассуждать, то временные ряды стоят особняком во всём курсе, я бы сказал. Тут чуть иная модельная философия. Имменно поэтому позволял себе оставлять большие рассуждения, чтобы как-то раскрыть её особенности.<br>\n",
    "        \n",
    "Оставил несколько комментариев в тексте - готов буду ответить на твои вопросы!<br>\n",
    "<font color='red'>    \n",
    "Также попрошу вот что:<br>\n",
    "Выведи, пожалуйста графики факт/предсказанное на одном рисунке (обычный линейный график). Чтобы увидеть где основные не \"попадалки\" модели. Это один из важнейших инструментов анализа результатов моделирования временных рядов.<br>\n",
    "Лучше выбрать масштаб, скажем, несколько дней, чтобы увиеть можо было и сравнить каждый час.<br>    \n",
    "<font color='green'>\n",
    "Спасибо)<BR>\n",
    "БУДУ ЖДАТЬ КОММЕНТАРИЕВ</div> "
   ]
  },
  {
   "attachments": {
    "image.png": {
     "image/png": "[encoded data removed]"
    }
   },
   "cell_type": "markdown",
   "metadata": {},
   "source": [
    "![image.png](attachment:image.png)"
   ]
  },
  {
   "cell_type": "markdown",
   "metadata": {},
   "source": [
    "<div class=\"alert alert-block alert-info\">\n",
    "<b>Комментарий студента:</b> Графики ко всем моделям добавил\n",
    "</div>"
   ]
  },
  {
   "cell_type": "markdown",
   "metadata": {},
   "source": [
    "## Чек-лист проверки"
   ]
  },
  {
   "cell_type": "markdown",
   "metadata": {},
   "source": [
    "- [x]  Jupyter Notebook открыт\n",
    "- [x]  Весь код выполняется без ошибок\n",
    "- [x]  Ячейки с кодом расположены в порядке исполнения\n",
    "- [x]  Данные загружены и подготовлены\n",
    "- [x]  Данные проанализированы\n",
    "- [x]  Модель обучена, гиперпараметры подобраны\n",
    "- [x]  Качество моделей проверено, выводы сделаны\n",
    "- [x]  Значение *RMSE* на тестовой выборке не больше 48"
   ]
  },
  {
   "cell_type": "markdown",
   "metadata": {},
   "source": [
    "<div class=\"alert alert-success\" style=\"border-color: green; border-radius: 5px\">\n",
    "    <p><u><b>✅ КОММЕНТАРИЙ РЕВЬЮЕРА</b></u></p>\n",
    "Хотел бы оставить несколько идей для твоих будущих проектов в этой обоасти<br>\n",
    "\n",
    "На мой взгляд, в этой теме (временные ряды) главное - необходимо чувствовать исходный ряд продаж, с точки зрения бизнеса, и уже только потом подбирать к нему модели. Каждое колебание временного ряда - это деньги для бизнеса (если говорим что заказчик бизнесовый) и за \"трепетами\" данных прячутся разные семейства причин. И именно знание их помогут строить хорошие прогнозы..<br>.\n",
    "Леса, бустинги, регрессии.... могут подобрать хорошие модели на старых данных. Но иногда, как прогноз эти, модели могут оказаться пустышками - не интересными бизнесу. <br>  <br>\n",
    "Поэтому, от себя позволю добавить несколько идей:<br>\n",
    "Очень часто ищут \"волшебную таблетку\" или \"кнопку\". Нажал и само всё построилось с высокой точностью<br>\n",
    "Но такого никогода не будет)))<br>\n",
    "И причиной тому: модели нужно подсказать причины, по которым происходит колебания продаж (временного ряда): понимать причины колебаний треда, понимать аномалии, учитывать акционные продажи, видеть действия конкурентов , закладывать их в модель и т.д. <br><br>\n",
    "В общем, всё как обычно - три группы факторов: <br>\n",
    "1)внешние факторы (например выручка такси-компании зависит от количества машин на линии),<br>\n",
    "2)есть факторы внутри самих данных (Вы использовали как раз поняти лаг, сезонности), <br>\n",
    "3)есть параметры самих моделей (то, что обычно используется при моделировании леса или деревьев).<br><br>\n",
    "\n",
    "Ещё важно иметь ввиду горизонт прогноза: на кокой период строить прогноз нужно  - на час вперёд, на неделю, на месяц.<br>\n",
    "Это также накладывает ограничения на подбор моделей<br>\n",
    "Я бы рекомендовал Вам составить для себя матрицу  в разрезе: <br>\n",
    "а)есть тренд/нет тренда; <br>\n",
    "б)еть сезоннотсь/нет сезонности; <br>\n",
    "в)какой горизонт прогноза требуется; <br>\n",
    "г) есть ли у нас дополнительные факторы для модей<br>\n",
    "На пересечении знаний о моделях легко будет подобрать адкватную модель.\n",
    "Не все задачи прогнозирования временных рядов можно хорошо решить лесом и еже с ним на основе знаний только факторов ряда... Они хорошо подойдут для коротких горизонтов прогнозирования.... А если горизонт чуть больше: недели, месяцы... то тут надо подключать понимания фаткоров продаж самого бизнеса.</div> "
   ]
  },
  {
   "cell_type": "markdown",
   "metadata": {},
   "source": [
    "<div class=\"alert alert-block alert-info\">\n",
    "<b>Комментарий студента:</b> Спасибо за такое подробное ревью! В конце хотел бы задать вот один такой вопрос. В чём смысл наших моделей, если все они ошибаются примерно на 48 условные? То есть, какой толк от предсказаний тогда заказчику с такой, как мне кажется, большой ошибкой? \n",
    "</div>"
   ]
  },
  {
   "cell_type": "markdown",
   "metadata": {},
   "source": [
    "<div class=\"alert alert-success\" style=\"border-color: green; border-radius: 5px\">\n",
    "    <p><u><b>✅ КОММЕНТАРИЙ РЕВЬЮЕРА 2</b></u></p>\n",
    "Привет, Данил. СПАСИБО за отклик. РАД, что смог помочь подразобраться с этой темой.<br>\n",
    "По ресурсам - много всякого есть. Но если говорить о понимакнии сначала сути временных рядов (а потом уже переходить к реализации на питоне), то тут так:<br>\n",
    "1) https://ibf.org/knowledge - заморский институт бизнес-прогнозирования.<br>\n",
    "Там и статьи можно накопать, и методы посмомтерть...<br>\n",
    "\n",
    "2) Есть классический труд (он НЕ ML, а исключительно на эксель). Но для понимания сути временных рядов - то, что надо:<br>\n",
    "УИЧЕРН \"Бизнес-прогнозирование\"<br>\n",
    "\n",
    "3) Идеологически по системе прогнозирования, интересно почитать<br>\n",
    "ТОМАС УОЛЛАС, Р. СТАЛЬ \"планирование продаж и операций\" SO&P<br><br>   \n",
    "    \n",
    "А по метрике так: 48 - много конечно же для реального применения. Тут можно ещё поработать: на тест_периоде появляется новый фактор продаж (резко изменяется тренд и разброс данных). И вот его надо определить (это акции, цена, погода....?) и использовать в модели.<br>\n",
    "\n",
    "Спасибо за проект)<br>\n",
    "УСПЕШНОГО ДАЛЬНЕЙШЕГО ОБЧЕНИЯ!</div>"
   ]
  }
 ],
 "metadata": {
  "ExecuteTimeLog": [
   {
    "duration": 421,
    "start_time": "2022-06-21T08:47:08.844Z"
   },
   {
    "duration": 4,
    "start_time": "2022-06-21T08:47:17.336Z"
   },
   {
    "duration": 125,
    "start_time": "2022-06-21T08:49:46.312Z"
   },
   {
    "duration": 14,
    "start_time": "2022-06-21T08:49:51.000Z"
   },
   {
    "duration": 42,
    "start_time": "2022-06-21T08:50:24.470Z"
   },
   {
    "duration": 8,
    "start_time": "2022-06-21T08:50:24.680Z"
   },
   {
    "duration": 39,
    "start_time": "2022-06-21T08:50:33.120Z"
   },
   {
    "duration": 8,
    "start_time": "2022-06-21T08:50:33.368Z"
   },
   {
    "duration": 11,
    "start_time": "2022-06-21T08:50:38.448Z"
   },
   {
    "duration": 41,
    "start_time": "2022-06-21T08:50:44.951Z"
   },
   {
    "duration": 8,
    "start_time": "2022-06-21T08:50:45.264Z"
   },
   {
    "duration": 8,
    "start_time": "2022-06-21T08:50:49.112Z"
   },
   {
    "duration": 37,
    "start_time": "2022-06-21T08:50:52.648Z"
   },
   {
    "duration": 8,
    "start_time": "2022-06-21T08:50:52.880Z"
   },
   {
    "duration": 44,
    "start_time": "2022-06-21T08:51:00.575Z"
   },
   {
    "duration": 9,
    "start_time": "2022-06-21T08:51:00.751Z"
   },
   {
    "duration": 41,
    "start_time": "2022-06-21T08:51:14.080Z"
   },
   {
    "duration": 7,
    "start_time": "2022-06-21T08:51:14.304Z"
   },
   {
    "duration": 7,
    "start_time": "2022-06-21T08:52:20.439Z"
   },
   {
    "duration": 10,
    "start_time": "2022-06-21T08:52:40.016Z"
   },
   {
    "duration": 5,
    "start_time": "2022-06-21T08:56:11.447Z"
   },
   {
    "duration": 13,
    "start_time": "2022-06-21T08:56:22.671Z"
   },
   {
    "duration": 10,
    "start_time": "2022-06-21T08:57:01.185Z"
   },
   {
    "duration": 16,
    "start_time": "2022-06-21T08:57:33.247Z"
   },
   {
    "duration": 10,
    "start_time": "2022-06-21T08:57:38.398Z"
   },
   {
    "duration": 104,
    "start_time": "2022-06-21T09:01:22.790Z"
   },
   {
    "duration": 3,
    "start_time": "2022-06-21T09:01:27.814Z"
   },
   {
    "duration": 3,
    "start_time": "2022-06-21T09:01:44.974Z"
   },
   {
    "duration": 7,
    "start_time": "2022-06-21T09:04:57.870Z"
   },
   {
    "duration": 241,
    "start_time": "2022-06-21T09:05:01.966Z"
   },
   {
    "duration": 165,
    "start_time": "2022-06-21T09:05:03.631Z"
   },
   {
    "duration": 7,
    "start_time": "2022-06-21T09:05:05.157Z"
   },
   {
    "duration": 6,
    "start_time": "2022-06-21T09:05:11.070Z"
   },
   {
    "duration": 6,
    "start_time": "2022-06-21T09:05:13.294Z"
   },
   {
    "duration": 3,
    "start_time": "2022-06-21T09:05:19.589Z"
   },
   {
    "duration": 8,
    "start_time": "2022-06-21T09:06:58.283Z"
   },
   {
    "duration": 3,
    "start_time": "2022-06-21T09:07:02.783Z"
   },
   {
    "duration": 19,
    "start_time": "2022-06-21T09:08:19.886Z"
   },
   {
    "duration": 5,
    "start_time": "2022-06-21T09:08:23.911Z"
   },
   {
    "duration": 4,
    "start_time": "2022-06-21T09:15:38.962Z"
   },
   {
    "duration": 1538,
    "start_time": "2022-06-21T09:16:23.252Z"
   },
   {
    "duration": 20,
    "start_time": "2022-06-21T09:16:32.125Z"
   },
   {
    "duration": 3,
    "start_time": "2022-06-21T09:17:36.685Z"
   },
   {
    "duration": 11,
    "start_time": "2022-06-21T09:17:36.946Z"
   },
   {
    "duration": 4,
    "start_time": "2022-06-21T09:18:02.261Z"
   },
   {
    "duration": 5,
    "start_time": "2022-06-21T09:18:22.090Z"
   },
   {
    "duration": 17,
    "start_time": "2022-06-21T09:18:24.900Z"
   },
   {
    "duration": 7,
    "start_time": "2022-06-21T09:19:33.109Z"
   },
   {
    "duration": 18,
    "start_time": "2022-06-21T09:19:33.292Z"
   },
   {
    "duration": 12,
    "start_time": "2022-06-21T09:20:23.255Z"
   },
   {
    "duration": 13,
    "start_time": "2022-06-21T09:20:26.900Z"
   },
   {
    "duration": 14,
    "start_time": "2022-06-21T09:20:28.353Z"
   },
   {
    "duration": 12,
    "start_time": "2022-06-21T09:20:32.796Z"
   },
   {
    "duration": 18,
    "start_time": "2022-06-21T09:20:37.685Z"
   },
   {
    "duration": 10,
    "start_time": "2022-06-21T09:21:12.470Z"
   },
   {
    "duration": 513,
    "start_time": "2022-06-22T07:24:25.246Z"
   },
   {
    "duration": 150,
    "start_time": "2022-06-22T07:24:26.672Z"
   },
   {
    "duration": 19,
    "start_time": "2022-06-22T07:24:27.329Z"
   },
   {
    "duration": 4,
    "start_time": "2022-06-22T07:24:27.709Z"
   },
   {
    "duration": 12,
    "start_time": "2022-06-22T07:24:28.115Z"
   },
   {
    "duration": 16,
    "start_time": "2022-06-22T07:24:28.677Z"
   },
   {
    "duration": 5,
    "start_time": "2022-06-22T07:24:29.085Z"
   },
   {
    "duration": 11,
    "start_time": "2022-06-22T07:24:30.405Z"
   },
   {
    "duration": 6,
    "start_time": "2022-06-22T07:24:30.926Z"
   },
   {
    "duration": 15,
    "start_time": "2022-06-22T07:24:31.582Z"
   },
   {
    "duration": 17,
    "start_time": "2022-06-22T07:24:32.776Z"
   },
   {
    "duration": 22,
    "start_time": "2022-06-22T07:27:16.094Z"
   },
   {
    "duration": 15,
    "start_time": "2022-06-22T07:27:48.585Z"
   },
   {
    "duration": 87,
    "start_time": "2022-06-22T07:31:52.189Z"
   },
   {
    "duration": 77,
    "start_time": "2022-06-22T07:31:58.584Z"
   },
   {
    "duration": 84,
    "start_time": "2022-06-22T07:32:11.503Z"
   },
   {
    "duration": 105,
    "start_time": "2022-06-22T07:32:32.813Z"
   },
   {
    "duration": 17,
    "start_time": "2022-06-22T07:33:06.690Z"
   },
   {
    "duration": 14,
    "start_time": "2022-06-22T07:33:12.289Z"
   },
   {
    "duration": 13,
    "start_time": "2022-06-22T07:33:33.299Z"
   },
   {
    "duration": 142,
    "start_time": "2022-06-22T07:33:50.722Z"
   },
   {
    "duration": 1287,
    "start_time": "2022-06-22T07:34:06.049Z"
   },
   {
    "duration": 59,
    "start_time": "2022-06-22T07:34:08.737Z"
   },
   {
    "duration": 11,
    "start_time": "2022-06-22T07:34:15.936Z"
   },
   {
    "duration": 12,
    "start_time": "2022-06-22T07:35:19.631Z"
   },
   {
    "duration": 72,
    "start_time": "2022-06-22T07:35:46.942Z"
   },
   {
    "duration": 35,
    "start_time": "2022-06-22T07:36:10.943Z"
   },
   {
    "duration": 27,
    "start_time": "2022-06-22T07:36:26.366Z"
   },
   {
    "duration": 756,
    "start_time": "2022-06-22T07:36:33.086Z"
   },
   {
    "duration": 194,
    "start_time": "2022-06-22T07:37:55.517Z"
   },
   {
    "duration": 225,
    "start_time": "2022-06-22T07:38:00.229Z"
   },
   {
    "duration": 316,
    "start_time": "2022-06-22T07:38:05.073Z"
   },
   {
    "duration": 218,
    "start_time": "2022-06-22T07:38:13.806Z"
   },
   {
    "duration": 238,
    "start_time": "2022-06-22T07:38:39.094Z"
   },
   {
    "duration": 180,
    "start_time": "2022-06-22T07:39:02.404Z"
   },
   {
    "duration": 16,
    "start_time": "2022-06-22T07:39:25.395Z"
   },
   {
    "duration": 190,
    "start_time": "2022-06-22T07:39:36.203Z"
   },
   {
    "duration": 214,
    "start_time": "2022-06-22T07:40:03.763Z"
   },
   {
    "duration": 179,
    "start_time": "2022-06-22T07:40:45.185Z"
   },
   {
    "duration": 14,
    "start_time": "2022-06-22T07:44:52.209Z"
   },
   {
    "duration": 20,
    "start_time": "2022-06-22T07:44:58.522Z"
   },
   {
    "duration": 201,
    "start_time": "2022-06-22T07:45:51.888Z"
   },
   {
    "duration": 322,
    "start_time": "2022-06-22T07:50:24.610Z"
   },
   {
    "duration": 276,
    "start_time": "2022-06-22T07:50:38.295Z"
   },
   {
    "duration": 281,
    "start_time": "2022-06-22T07:50:46.793Z"
   },
   {
    "duration": 630,
    "start_time": "2022-06-22T07:54:29.890Z"
   },
   {
    "duration": 70,
    "start_time": "2022-06-22T07:54:46.001Z"
   },
   {
    "duration": 17,
    "start_time": "2022-06-22T07:54:49.594Z"
   },
   {
    "duration": 5,
    "start_time": "2022-06-22T07:57:10.543Z"
   },
   {
    "duration": 36,
    "start_time": "2022-06-22T07:57:12.536Z"
   },
   {
    "duration": 5,
    "start_time": "2022-06-22T07:57:17.806Z"
   },
   {
    "duration": 26,
    "start_time": "2022-06-22T07:57:38.343Z"
   },
   {
    "duration": 45,
    "start_time": "2022-06-22T07:57:41.699Z"
   },
   {
    "duration": 1217,
    "start_time": "2022-06-22T07:57:50.378Z"
   },
   {
    "duration": 58,
    "start_time": "2022-06-22T07:57:51.597Z"
   },
   {
    "duration": 25,
    "start_time": "2022-06-22T07:57:51.657Z"
   },
   {
    "duration": 21,
    "start_time": "2022-06-22T07:57:51.688Z"
   },
   {
    "duration": 28,
    "start_time": "2022-06-22T07:57:51.713Z"
   },
   {
    "duration": 25,
    "start_time": "2022-06-22T07:57:51.744Z"
   },
   {
    "duration": 34,
    "start_time": "2022-06-22T07:57:51.774Z"
   },
   {
    "duration": 13,
    "start_time": "2022-06-22T07:57:51.811Z"
   },
   {
    "duration": 6,
    "start_time": "2022-06-22T07:57:51.826Z"
   },
   {
    "duration": 40,
    "start_time": "2022-06-22T07:57:51.835Z"
   },
   {
    "duration": 22,
    "start_time": "2022-06-22T07:57:51.877Z"
   },
   {
    "duration": 25,
    "start_time": "2022-06-22T07:57:51.902Z"
   },
   {
    "duration": 697,
    "start_time": "2022-06-22T07:57:51.929Z"
   },
   {
    "duration": 200,
    "start_time": "2022-06-22T07:57:52.629Z"
   },
   {
    "duration": 346,
    "start_time": "2022-06-22T07:57:52.832Z"
   },
   {
    "duration": 165,
    "start_time": "2022-06-22T07:57:53.180Z"
   },
   {
    "duration": 9,
    "start_time": "2022-06-22T07:59:25.697Z"
   },
   {
    "duration": 15,
    "start_time": "2022-06-22T07:59:42.871Z"
   },
   {
    "duration": 13,
    "start_time": "2022-06-22T07:59:49.371Z"
   },
   {
    "duration": 406,
    "start_time": "2022-06-22T08:01:14.390Z"
   },
   {
    "duration": 18,
    "start_time": "2022-06-22T08:01:26.302Z"
   },
   {
    "duration": 18,
    "start_time": "2022-06-22T08:01:28.623Z"
   },
   {
    "duration": 251,
    "start_time": "2022-06-22T08:01:32.369Z"
   },
   {
    "duration": 7,
    "start_time": "2022-06-22T08:04:04.174Z"
   },
   {
    "duration": 12,
    "start_time": "2022-06-22T08:05:02.485Z"
   },
   {
    "duration": 6,
    "start_time": "2022-06-22T08:05:22.893Z"
   },
   {
    "duration": 304,
    "start_time": "2022-06-22T08:05:30.070Z"
   },
   {
    "duration": 341,
    "start_time": "2022-06-22T08:06:04.542Z"
   },
   {
    "duration": 169,
    "start_time": "2022-06-22T08:06:09.318Z"
   },
   {
    "duration": 329,
    "start_time": "2022-06-22T08:06:20.070Z"
   },
   {
    "duration": 241,
    "start_time": "2022-06-22T08:06:41.806Z"
   },
   {
    "duration": 191,
    "start_time": "2022-06-22T08:06:56.142Z"
   },
   {
    "duration": 225,
    "start_time": "2022-06-22T08:07:00.752Z"
   },
   {
    "duration": 292,
    "start_time": "2022-06-22T08:07:24.597Z"
   },
   {
    "duration": 310,
    "start_time": "2022-06-22T08:07:44.687Z"
   },
   {
    "duration": 402,
    "start_time": "2022-06-22T08:08:29.102Z"
   },
   {
    "duration": 266,
    "start_time": "2022-06-22T08:08:36.197Z"
   },
   {
    "duration": 15,
    "start_time": "2022-06-22T08:09:43.429Z"
   },
   {
    "duration": 308,
    "start_time": "2022-06-22T08:09:48.672Z"
   },
   {
    "duration": 369,
    "start_time": "2022-06-22T08:09:54.317Z"
   },
   {
    "duration": 805,
    "start_time": "2022-06-22T08:10:10.570Z"
   },
   {
    "duration": 820,
    "start_time": "2022-06-22T08:10:20.822Z"
   },
   {
    "duration": 474,
    "start_time": "2022-06-22T08:10:33.771Z"
   },
   {
    "duration": 382,
    "start_time": "2022-06-22T08:10:37.589Z"
   },
   {
    "duration": 520,
    "start_time": "2022-06-22T08:15:54.752Z"
   },
   {
    "duration": 10,
    "start_time": "2022-06-22T08:16:23.643Z"
   },
   {
    "duration": 5,
    "start_time": "2022-06-22T08:17:21.332Z"
   },
   {
    "duration": 5,
    "start_time": "2022-06-22T08:17:43.988Z"
   },
   {
    "duration": 5,
    "start_time": "2022-06-22T08:17:49.596Z"
   },
   {
    "duration": 9,
    "start_time": "2022-06-22T08:17:53.340Z"
   },
   {
    "duration": 10,
    "start_time": "2022-06-22T08:19:40.689Z"
   },
   {
    "duration": 67,
    "start_time": "2022-06-22T08:20:55.480Z"
   },
   {
    "duration": 4,
    "start_time": "2022-06-22T08:21:13.939Z"
   },
   {
    "duration": 33,
    "start_time": "2022-06-22T08:21:28.243Z"
   },
   {
    "duration": 13,
    "start_time": "2022-06-22T08:21:41.285Z"
   },
   {
    "duration": 11,
    "start_time": "2022-06-22T08:21:57.716Z"
   },
   {
    "duration": 7,
    "start_time": "2022-06-22T08:22:49.748Z"
   },
   {
    "duration": 7,
    "start_time": "2022-06-22T08:24:39.449Z"
   },
   {
    "duration": 9,
    "start_time": "2022-06-22T08:25:11.298Z"
   },
   {
    "duration": 18,
    "start_time": "2022-06-22T08:25:24.983Z"
   },
   {
    "duration": 12,
    "start_time": "2022-06-22T08:25:31.376Z"
   },
   {
    "duration": 5,
    "start_time": "2022-06-22T08:25:31.987Z"
   },
   {
    "duration": 10,
    "start_time": "2022-06-22T08:25:40.718Z"
   },
   {
    "duration": 19,
    "start_time": "2022-06-22T08:25:41.251Z"
   },
   {
    "duration": 14,
    "start_time": "2022-06-22T08:25:49.251Z"
   },
   {
    "duration": 11,
    "start_time": "2022-06-22T08:25:49.775Z"
   },
   {
    "duration": 8,
    "start_time": "2022-06-22T08:25:53.826Z"
   },
   {
    "duration": 5,
    "start_time": "2022-06-22T08:25:54.284Z"
   },
   {
    "duration": 7,
    "start_time": "2022-06-22T08:25:57.685Z"
   },
   {
    "duration": 4,
    "start_time": "2022-06-22T08:25:58.085Z"
   },
   {
    "duration": 8,
    "start_time": "2022-06-22T08:26:00.714Z"
   },
   {
    "duration": 8,
    "start_time": "2022-06-22T08:26:01.390Z"
   },
   {
    "duration": 13,
    "start_time": "2022-06-22T08:26:52.775Z"
   },
   {
    "duration": 1361,
    "start_time": "2022-06-22T08:26:57.587Z"
   },
   {
    "duration": 59,
    "start_time": "2022-06-22T08:26:58.951Z"
   },
   {
    "duration": 19,
    "start_time": "2022-06-22T08:26:59.012Z"
   },
   {
    "duration": 4,
    "start_time": "2022-06-22T08:26:59.033Z"
   },
   {
    "duration": 25,
    "start_time": "2022-06-22T08:26:59.041Z"
   },
   {
    "duration": 43,
    "start_time": "2022-06-22T08:26:59.068Z"
   },
   {
    "duration": 5,
    "start_time": "2022-06-22T08:26:59.113Z"
   },
   {
    "duration": 13,
    "start_time": "2022-06-22T08:26:59.121Z"
   },
   {
    "duration": 7,
    "start_time": "2022-06-22T08:26:59.137Z"
   },
   {
    "duration": 52,
    "start_time": "2022-06-22T08:26:59.153Z"
   },
   {
    "duration": 5,
    "start_time": "2022-06-22T08:26:59.208Z"
   },
   {
    "duration": 17,
    "start_time": "2022-06-22T08:26:59.216Z"
   },
   {
    "duration": 547,
    "start_time": "2022-06-22T08:26:59.235Z"
   },
   {
    "duration": 191,
    "start_time": "2022-06-22T08:26:59.787Z"
   },
   {
    "duration": 300,
    "start_time": "2022-06-22T08:26:59.984Z"
   },
   {
    "duration": 8,
    "start_time": "2022-06-22T08:27:00.288Z"
   },
   {
    "duration": 340,
    "start_time": "2022-06-22T08:27:00.300Z"
   },
   {
    "duration": 27,
    "start_time": "2022-06-22T08:27:00.642Z"
   },
   {
    "duration": 26,
    "start_time": "2022-06-22T08:27:00.671Z"
   },
   {
    "duration": 15,
    "start_time": "2022-06-22T08:27:00.700Z"
   },
   {
    "duration": 23,
    "start_time": "2022-06-22T08:27:00.718Z"
   },
   {
    "duration": 33,
    "start_time": "2022-06-22T08:27:00.743Z"
   },
   {
    "duration": 13,
    "start_time": "2022-06-22T08:27:35.576Z"
   },
   {
    "duration": 7,
    "start_time": "2022-06-22T08:28:00.299Z"
   },
   {
    "duration": 7,
    "start_time": "2022-06-22T08:28:41.488Z"
   },
   {
    "duration": 8,
    "start_time": "2022-06-22T08:29:37.211Z"
   },
   {
    "duration": 7,
    "start_time": "2022-06-22T08:30:03.980Z"
   },
   {
    "duration": 9,
    "start_time": "2022-06-22T08:30:30.411Z"
   },
   {
    "duration": 103,
    "start_time": "2022-06-22T08:31:42.003Z"
   },
   {
    "duration": 10,
    "start_time": "2022-06-22T08:31:50.300Z"
   },
   {
    "duration": 177,
    "start_time": "2022-06-22T08:33:47.139Z"
   },
   {
    "duration": 37,
    "start_time": "2022-06-22T08:34:03.602Z"
   },
   {
    "duration": 1916,
    "start_time": "2022-06-22T08:34:08.626Z"
   },
   {
    "duration": 22,
    "start_time": "2022-06-22T08:34:29.234Z"
   },
   {
    "duration": 30,
    "start_time": "2022-06-22T08:34:33.487Z"
   },
   {
    "duration": 13,
    "start_time": "2022-06-22T08:34:42.547Z"
   },
   {
    "duration": 19,
    "start_time": "2022-06-22T08:35:03.211Z"
   },
   {
    "duration": 610283,
    "start_time": "2022-06-22T08:38:56.540Z"
   },
   {
    "duration": 54053,
    "start_time": "2022-06-22T08:49:19.281Z"
   },
   {
    "duration": 6,
    "start_time": "2022-06-22T08:50:21.553Z"
   },
   {
    "duration": 4,
    "start_time": "2022-06-22T08:50:25.713Z"
   },
   {
    "duration": 5,
    "start_time": "2022-06-22T08:50:28.876Z"
   },
   {
    "duration": 350493,
    "start_time": "2022-06-22T08:50:56.938Z"
   },
   {
    "duration": 146910,
    "start_time": "2022-06-22T08:57:11.561Z"
   },
   {
    "duration": 10,
    "start_time": "2022-06-22T08:59:38.474Z"
   },
   {
    "duration": 4,
    "start_time": "2022-06-22T09:00:35.043Z"
   },
   {
    "duration": 99,
    "start_time": "2022-06-22T09:01:28.677Z"
   },
   {
    "duration": 24,
    "start_time": "2022-06-22T09:02:54.768Z"
   },
   {
    "duration": 41,
    "start_time": "2022-06-22T09:03:04.915Z"
   },
   {
    "duration": 4,
    "start_time": "2022-06-22T09:03:12.075Z"
   },
   {
    "duration": 3,
    "start_time": "2022-06-22T09:03:31.075Z"
   },
   {
    "duration": 62253,
    "start_time": "2022-06-22T09:03:40.115Z"
   },
   {
    "duration": 13,
    "start_time": "2022-06-22T09:04:48.243Z"
   },
   {
    "duration": 14,
    "start_time": "2022-06-22T09:04:50.930Z"
   },
   {
    "duration": 14,
    "start_time": "2022-06-22T09:04:57.707Z"
   },
   {
    "duration": 6,
    "start_time": "2022-06-22T09:05:02.202Z"
   },
   {
    "duration": 1240,
    "start_time": "2022-06-23T07:15:01.816Z"
   },
   {
    "duration": 191,
    "start_time": "2022-06-23T07:15:03.058Z"
   },
   {
    "duration": 18,
    "start_time": "2022-06-23T07:15:03.462Z"
   },
   {
    "duration": 4,
    "start_time": "2022-06-23T07:15:04.365Z"
   },
   {
    "duration": 16,
    "start_time": "2022-06-23T07:15:04.734Z"
   },
   {
    "duration": 16,
    "start_time": "2022-06-23T07:15:05.246Z"
   },
   {
    "duration": 4,
    "start_time": "2022-06-23T07:15:05.622Z"
   },
   {
    "duration": 10,
    "start_time": "2022-06-23T07:15:06.558Z"
   },
   {
    "duration": 7,
    "start_time": "2022-06-23T07:15:07.022Z"
   },
   {
    "duration": 16,
    "start_time": "2022-06-23T07:15:07.391Z"
   },
   {
    "duration": 5,
    "start_time": "2022-06-23T07:15:08.079Z"
   },
   {
    "duration": 23,
    "start_time": "2022-06-23T07:15:08.676Z"
   },
   {
    "duration": 665,
    "start_time": "2022-06-23T07:15:10.254Z"
   },
   {
    "duration": 157,
    "start_time": "2022-06-23T07:15:10.922Z"
   },
   {
    "duration": 219,
    "start_time": "2022-06-23T07:15:11.237Z"
   },
   {
    "duration": 7,
    "start_time": "2022-06-23T07:15:11.718Z"
   },
   {
    "duration": 328,
    "start_time": "2022-06-23T07:15:12.261Z"
   },
   {
    "duration": 7,
    "start_time": "2022-06-23T07:15:39.661Z"
   },
   {
    "duration": 5,
    "start_time": "2022-06-23T07:15:41.022Z"
   },
   {
    "duration": 7,
    "start_time": "2022-06-23T07:15:42.365Z"
   },
   {
    "duration": 9,
    "start_time": "2022-06-23T07:15:50.396Z"
   },
   {
    "duration": 8,
    "start_time": "2022-06-23T07:15:51.933Z"
   },
   {
    "duration": 6,
    "start_time": "2022-06-23T07:15:53.052Z"
   },
   {
    "duration": 8,
    "start_time": "2022-06-23T07:17:56.516Z"
   },
   {
    "duration": 5,
    "start_time": "2022-06-23T07:17:57.486Z"
   },
   {
    "duration": 5,
    "start_time": "2022-06-23T07:17:58.138Z"
   },
   {
    "duration": 7,
    "start_time": "2022-06-23T07:18:03.622Z"
   },
   {
    "duration": 5,
    "start_time": "2022-06-23T07:18:03.988Z"
   },
   {
    "duration": 5,
    "start_time": "2022-06-23T07:18:04.574Z"
   },
   {
    "duration": 10,
    "start_time": "2022-06-23T07:18:08.997Z"
   },
   {
    "duration": 6,
    "start_time": "2022-06-23T07:18:11.068Z"
   },
   {
    "duration": 1359,
    "start_time": "2022-06-23T07:20:18.657Z"
   },
   {
    "duration": 50,
    "start_time": "2022-06-23T07:20:20.019Z"
   },
   {
    "duration": 27,
    "start_time": "2022-06-23T07:20:20.071Z"
   },
   {
    "duration": 6,
    "start_time": "2022-06-23T07:20:20.167Z"
   },
   {
    "duration": 17,
    "start_time": "2022-06-23T07:20:20.704Z"
   },
   {
    "duration": 24,
    "start_time": "2022-06-23T07:20:21.352Z"
   },
   {
    "duration": 4,
    "start_time": "2022-06-23T07:20:21.735Z"
   },
   {
    "duration": 10,
    "start_time": "2022-06-23T07:20:40.847Z"
   },
   {
    "duration": 5,
    "start_time": "2022-06-23T07:20:42.159Z"
   },
   {
    "duration": 13,
    "start_time": "2022-06-23T07:20:42.583Z"
   },
   {
    "duration": 6,
    "start_time": "2022-06-23T07:20:42.982Z"
   },
   {
    "duration": 20,
    "start_time": "2022-06-23T07:20:43.383Z"
   },
   {
    "duration": 491,
    "start_time": "2022-06-23T07:20:52.170Z"
   },
   {
    "duration": 158,
    "start_time": "2022-06-23T07:20:55.895Z"
   },
   {
    "duration": 240,
    "start_time": "2022-06-23T07:21:06.528Z"
   },
   {
    "duration": 8,
    "start_time": "2022-06-23T07:21:14.046Z"
   },
   {
    "duration": 295,
    "start_time": "2022-06-23T07:21:14.632Z"
   },
   {
    "duration": 8,
    "start_time": "2022-06-23T07:21:18.032Z"
   },
   {
    "duration": 6,
    "start_time": "2022-06-23T07:21:18.487Z"
   },
   {
    "duration": 8,
    "start_time": "2022-06-23T07:21:18.919Z"
   },
   {
    "duration": 10,
    "start_time": "2022-06-23T07:21:20.087Z"
   },
   {
    "duration": 7,
    "start_time": "2022-06-23T07:21:20.791Z"
   },
   {
    "duration": 5,
    "start_time": "2022-06-23T07:21:21.472Z"
   },
   {
    "duration": 197,
    "start_time": "2022-06-23T07:21:56.679Z"
   },
   {
    "duration": 167,
    "start_time": "2022-06-23T07:22:26.175Z"
   },
   {
    "duration": 179,
    "start_time": "2022-06-23T07:22:32.110Z"
   },
   {
    "duration": 174,
    "start_time": "2022-06-23T07:22:54.665Z"
   },
   {
    "duration": 179,
    "start_time": "2022-06-23T07:23:22.991Z"
   },
   {
    "duration": 165,
    "start_time": "2022-06-23T07:23:46.721Z"
   },
   {
    "duration": 301,
    "start_time": "2022-06-23T07:24:20.025Z"
   },
   {
    "duration": 153,
    "start_time": "2022-06-23T07:25:02.489Z"
   },
   {
    "duration": 132,
    "start_time": "2022-06-23T07:25:36.513Z"
   },
   {
    "duration": 130,
    "start_time": "2022-06-23T07:25:51.576Z"
   },
   {
    "duration": 216,
    "start_time": "2022-06-23T07:26:24.448Z"
   },
   {
    "duration": 145,
    "start_time": "2022-06-23T07:26:28.409Z"
   },
   {
    "duration": 131,
    "start_time": "2022-06-23T07:26:31.576Z"
   },
   {
    "duration": 219,
    "start_time": "2022-06-23T07:26:48.417Z"
   },
   {
    "duration": 8,
    "start_time": "2022-06-23T07:27:07.120Z"
   },
   {
    "duration": 310,
    "start_time": "2022-06-23T07:27:08.513Z"
   },
   {
    "duration": 5,
    "start_time": "2022-06-23T07:27:52.804Z"
   },
   {
    "duration": 4,
    "start_time": "2022-06-23T07:27:53.328Z"
   },
   {
    "duration": 7,
    "start_time": "2022-06-23T07:28:00.136Z"
   },
   {
    "duration": 1160,
    "start_time": "2022-06-23T07:28:05.011Z"
   },
   {
    "duration": 47,
    "start_time": "2022-06-23T07:28:06.173Z"
   },
   {
    "duration": 14,
    "start_time": "2022-06-23T07:28:06.222Z"
   },
   {
    "duration": 4,
    "start_time": "2022-06-23T07:28:06.238Z"
   },
   {
    "duration": 14,
    "start_time": "2022-06-23T07:28:06.244Z"
   },
   {
    "duration": 14,
    "start_time": "2022-06-23T07:28:06.259Z"
   },
   {
    "duration": 4,
    "start_time": "2022-06-23T07:28:06.275Z"
   },
   {
    "duration": 19,
    "start_time": "2022-06-23T07:28:06.281Z"
   },
   {
    "duration": 8,
    "start_time": "2022-06-23T07:28:06.302Z"
   },
   {
    "duration": 40,
    "start_time": "2022-06-23T07:28:06.313Z"
   },
   {
    "duration": 4,
    "start_time": "2022-06-23T07:28:06.355Z"
   },
   {
    "duration": 22,
    "start_time": "2022-06-23T07:28:06.361Z"
   },
   {
    "duration": 411,
    "start_time": "2022-06-23T07:28:06.385Z"
   },
   {
    "duration": 142,
    "start_time": "2022-06-23T07:28:06.798Z"
   },
   {
    "duration": 235,
    "start_time": "2022-06-23T07:28:06.942Z"
   },
   {
    "duration": 7,
    "start_time": "2022-06-23T07:28:07.179Z"
   },
   {
    "duration": 261,
    "start_time": "2022-06-23T07:28:07.187Z"
   },
   {
    "duration": 5,
    "start_time": "2022-06-23T07:28:07.450Z"
   },
   {
    "duration": 10,
    "start_time": "2022-06-23T07:28:07.457Z"
   },
   {
    "duration": 11,
    "start_time": "2022-06-23T07:28:07.469Z"
   },
   {
    "duration": 13,
    "start_time": "2022-06-23T07:28:07.483Z"
   },
   {
    "duration": 54,
    "start_time": "2022-06-23T07:28:07.498Z"
   },
   {
    "duration": 10,
    "start_time": "2022-06-23T07:28:07.554Z"
   },
   {
    "duration": 1825,
    "start_time": "2022-06-23T07:28:07.566Z"
   },
   {
    "duration": 20,
    "start_time": "2022-06-23T07:28:09.393Z"
   },
   {
    "duration": 5,
    "start_time": "2022-06-23T07:28:09.416Z"
   },
   {
    "duration": 1851,
    "start_time": "2022-06-23T07:28:09.422Z"
   },
   {
    "duration": 0,
    "start_time": "2022-06-23T07:28:11.275Z"
   },
   {
    "duration": 0,
    "start_time": "2022-06-23T07:28:11.276Z"
   },
   {
    "duration": 0,
    "start_time": "2022-06-23T07:28:11.278Z"
   },
   {
    "duration": 0,
    "start_time": "2022-06-23T07:28:11.279Z"
   },
   {
    "duration": 0,
    "start_time": "2022-06-23T07:28:11.280Z"
   },
   {
    "duration": 0,
    "start_time": "2022-06-23T07:28:11.281Z"
   },
   {
    "duration": 1744,
    "start_time": "2022-06-23T07:30:13.910Z"
   },
   {
    "duration": 20,
    "start_time": "2022-06-23T07:30:16.502Z"
   },
   {
    "duration": 24,
    "start_time": "2022-06-23T07:30:32.582Z"
   },
   {
    "duration": 5,
    "start_time": "2022-06-23T07:31:01.246Z"
   },
   {
    "duration": 131773,
    "start_time": "2022-06-23T07:32:49.655Z"
   },
   {
    "duration": 4,
    "start_time": "2022-06-23T07:35:03.918Z"
   },
   {
    "duration": 4,
    "start_time": "2022-06-23T07:35:06.950Z"
   },
   {
    "duration": 5,
    "start_time": "2022-06-23T07:35:18.206Z"
   },
   {
    "duration": 10,
    "start_time": "2022-06-23T07:35:20.927Z"
   },
   {
    "duration": 9,
    "start_time": "2022-06-23T07:35:51.614Z"
   },
   {
    "duration": 9,
    "start_time": "2022-06-23T07:36:01.583Z"
   },
   {
    "duration": 4,
    "start_time": "2022-06-23T07:36:28.031Z"
   },
   {
    "duration": 1563,
    "start_time": "2022-06-23T07:36:36.974Z"
   },
   {
    "duration": 27,
    "start_time": "2022-06-23T07:36:38.539Z"
   },
   {
    "duration": 5,
    "start_time": "2022-06-23T07:36:40.006Z"
   },
   {
    "duration": 6,
    "start_time": "2022-06-23T07:36:54.966Z"
   },
   {
    "duration": 45493,
    "start_time": "2022-06-23T07:38:16.415Z"
   },
   {
    "duration": 4,
    "start_time": "2022-06-23T07:39:13.639Z"
   },
   {
    "duration": 4,
    "start_time": "2022-06-23T07:43:01.191Z"
   },
   {
    "duration": 41,
    "start_time": "2022-06-23T07:43:29.903Z"
   },
   {
    "duration": 29,
    "start_time": "2022-06-23T07:43:43.023Z"
   },
   {
    "duration": 9,
    "start_time": "2022-06-23T07:43:50.703Z"
   },
   {
    "duration": 5,
    "start_time": "2022-06-23T07:43:56.054Z"
   },
   {
    "duration": 5,
    "start_time": "2022-06-23T07:44:14.143Z"
   },
   {
    "duration": 987,
    "start_time": "2022-06-23T07:45:14.336Z"
   },
   {
    "duration": 4,
    "start_time": "2022-06-23T07:45:16.199Z"
   },
   {
    "duration": 2244,
    "start_time": "2022-06-23T07:45:25.719Z"
   },
   {
    "duration": 4,
    "start_time": "2022-06-23T07:45:28.550Z"
   },
   {
    "duration": 1396,
    "start_time": "2022-06-23T07:45:36.016Z"
   },
   {
    "duration": 4,
    "start_time": "2022-06-23T07:45:37.415Z"
   },
   {
    "duration": 16,
    "start_time": "2022-06-23T07:46:04.463Z"
   },
   {
    "duration": 10,
    "start_time": "2022-06-23T07:46:10.801Z"
   },
   {
    "duration": 5,
    "start_time": "2022-06-23T07:46:11.751Z"
   },
   {
    "duration": 5,
    "start_time": "2022-06-23T07:46:12.479Z"
   },
   {
    "duration": 38,
    "start_time": "2022-06-23T07:46:20.040Z"
   },
   {
    "duration": 6,
    "start_time": "2022-06-23T07:46:22.215Z"
   },
   {
    "duration": 5,
    "start_time": "2022-06-23T07:46:22.759Z"
   },
   {
    "duration": 4,
    "start_time": "2022-06-23T07:46:35.247Z"
   },
   {
    "duration": 1417,
    "start_time": "2022-06-23T07:46:35.990Z"
   },
   {
    "duration": 1389,
    "start_time": "2022-06-23T07:46:40.159Z"
   },
   {
    "duration": 4,
    "start_time": "2022-06-23T07:46:41.550Z"
   },
   {
    "duration": 15,
    "start_time": "2022-06-23T07:48:45.423Z"
   },
   {
    "duration": 25,
    "start_time": "2022-06-23T07:48:58.255Z"
   },
   {
    "duration": 25,
    "start_time": "2022-06-23T07:49:17.672Z"
   },
   {
    "duration": 15,
    "start_time": "2022-06-23T07:49:25.591Z"
   },
   {
    "duration": 16,
    "start_time": "2022-06-23T07:49:50.791Z"
   },
   {
    "duration": 385,
    "start_time": "2022-06-23T07:50:07.422Z"
   },
   {
    "duration": 4,
    "start_time": "2022-06-23T07:50:08.822Z"
   },
   {
    "duration": 22,
    "start_time": "2022-06-23T07:52:02.391Z"
   },
   {
    "duration": 21,
    "start_time": "2022-06-23T07:52:09.879Z"
   },
   {
    "duration": 2304,
    "start_time": "2022-06-23T07:52:33.141Z"
   },
   {
    "duration": 4,
    "start_time": "2022-06-23T07:52:36.966Z"
   },
   {
    "duration": 2172,
    "start_time": "2022-06-23T07:52:41.423Z"
   },
   {
    "duration": 4,
    "start_time": "2022-06-23T07:52:43.597Z"
   },
   {
    "duration": 4726,
    "start_time": "2022-06-23T07:52:52.303Z"
   },
   {
    "duration": 4,
    "start_time": "2022-06-23T07:52:57.622Z"
   },
   {
    "duration": 3316,
    "start_time": "2022-06-23T07:53:04.279Z"
   },
   {
    "duration": 4,
    "start_time": "2022-06-23T07:53:07.598Z"
   },
   {
    "duration": 10151,
    "start_time": "2022-06-23T07:54:01.431Z"
   },
   {
    "duration": 4,
    "start_time": "2022-06-23T07:54:12.173Z"
   },
   {
    "duration": 10701,
    "start_time": "2022-06-23T07:54:29.702Z"
   },
   {
    "duration": 3,
    "start_time": "2022-06-23T07:54:42.558Z"
   },
   {
    "duration": 15072,
    "start_time": "2022-06-23T07:55:59.830Z"
   },
   {
    "duration": 4,
    "start_time": "2022-06-23T07:56:16.126Z"
   },
   {
    "duration": 12124,
    "start_time": "2022-06-23T07:56:25.670Z"
   },
   {
    "duration": 4,
    "start_time": "2022-06-23T07:56:37.796Z"
   },
   {
    "duration": 12106,
    "start_time": "2022-06-23T07:58:15.980Z"
   },
   {
    "duration": 4,
    "start_time": "2022-06-23T07:58:29.213Z"
   },
   {
    "duration": 31107,
    "start_time": "2022-06-23T07:59:19.775Z"
   },
   {
    "duration": 4,
    "start_time": "2022-06-23T07:59:51.781Z"
   },
   {
    "duration": 98,
    "start_time": "2022-06-23T08:00:23.550Z"
   },
   {
    "duration": 32225,
    "start_time": "2022-06-23T08:00:28.726Z"
   },
   {
    "duration": 4,
    "start_time": "2022-06-23T08:01:00.954Z"
   },
   {
    "duration": 2657,
    "start_time": "2022-06-23T08:02:24.365Z"
   },
   {
    "duration": 5,
    "start_time": "2022-06-23T08:02:27.596Z"
   },
   {
    "duration": 14,
    "start_time": "2022-06-23T08:04:16.653Z"
   },
   {
    "duration": 14,
    "start_time": "2022-06-23T08:05:53.734Z"
   },
   {
    "duration": 2472,
    "start_time": "2022-06-23T08:06:00.926Z"
   },
   {
    "duration": 8808,
    "start_time": "2022-06-23T08:06:14.606Z"
   },
   {
    "duration": 4,
    "start_time": "2022-06-23T08:06:24.087Z"
   },
   {
    "duration": 9037,
    "start_time": "2022-06-23T08:06:37.134Z"
   },
   {
    "duration": 12,
    "start_time": "2022-06-23T08:08:36.006Z"
   },
   {
    "duration": 10,
    "start_time": "2022-06-23T08:08:46.677Z"
   },
   {
    "duration": 11,
    "start_time": "2022-06-23T08:09:13.445Z"
   },
   {
    "duration": 14,
    "start_time": "2022-06-23T08:09:33.027Z"
   },
   {
    "duration": 64924,
    "start_time": "2022-06-23T08:09:44.382Z"
   },
   {
    "duration": 10,
    "start_time": "2022-06-23T08:11:00.709Z"
   },
   {
    "duration": 4,
    "start_time": "2022-06-23T08:11:06.629Z"
   },
   {
    "duration": 416,
    "start_time": "2022-06-23T08:12:14.822Z"
   },
   {
    "duration": 6,
    "start_time": "2022-06-23T08:12:55.982Z"
   },
   {
    "duration": 4,
    "start_time": "2022-06-23T08:13:06.148Z"
   },
   {
    "duration": 1565,
    "start_time": "2022-06-23T08:13:58.100Z"
   },
   {
    "duration": 20,
    "start_time": "2022-06-23T08:13:59.667Z"
   },
   {
    "duration": 4,
    "start_time": "2022-06-23T08:14:09.125Z"
   },
   {
    "duration": 84644,
    "start_time": "2022-06-23T08:14:46.789Z"
   },
   {
    "duration": 4,
    "start_time": "2022-06-23T08:16:18.771Z"
   },
   {
    "duration": 384,
    "start_time": "2022-06-23T08:16:19.076Z"
   },
   {
    "duration": 11,
    "start_time": "2022-06-23T08:17:21.549Z"
   },
   {
    "duration": 13,
    "start_time": "2022-06-23T08:17:28.109Z"
   },
   {
    "duration": 6,
    "start_time": "2022-06-23T08:17:30.789Z"
   },
   {
    "duration": 6,
    "start_time": "2022-06-23T08:17:35.165Z"
   },
   {
    "duration": 906,
    "start_time": "2022-06-23T08:18:13.709Z"
   },
   {
    "duration": 4514,
    "start_time": "2022-06-23T08:18:27.597Z"
   },
   {
    "duration": 876,
    "start_time": "2022-06-23T08:18:42.620Z"
   },
   {
    "duration": 27,
    "start_time": "2022-06-23T08:19:00.470Z"
   },
   {
    "duration": 3,
    "start_time": "2022-06-23T08:19:00.804Z"
   },
   {
    "duration": 63920,
    "start_time": "2022-06-23T08:19:01.132Z"
   },
   {
    "duration": 25,
    "start_time": "2022-06-23T08:20:05.054Z"
   },
   {
    "duration": 21,
    "start_time": "2022-06-23T08:20:05.081Z"
   },
   {
    "duration": 23,
    "start_time": "2022-06-23T08:21:48.348Z"
   },
   {
    "duration": 8,
    "start_time": "2022-06-23T08:21:56.845Z"
   },
   {
    "duration": 18,
    "start_time": "2022-06-23T08:22:06.671Z"
   },
   {
    "duration": 14,
    "start_time": "2022-06-23T08:22:15.502Z"
   },
   {
    "duration": 14,
    "start_time": "2022-06-23T08:22:34.205Z"
   },
   {
    "duration": 7,
    "start_time": "2022-06-23T08:22:57.107Z"
   },
   {
    "duration": 1197,
    "start_time": "2022-06-23T08:27:59.462Z"
   },
   {
    "duration": 52,
    "start_time": "2022-06-23T08:28:00.663Z"
   },
   {
    "duration": 14,
    "start_time": "2022-06-23T08:28:00.717Z"
   },
   {
    "duration": 15,
    "start_time": "2022-06-23T08:28:00.733Z"
   },
   {
    "duration": 38,
    "start_time": "2022-06-23T08:28:00.750Z"
   },
   {
    "duration": 22,
    "start_time": "2022-06-23T08:28:00.791Z"
   },
   {
    "duration": 4,
    "start_time": "2022-06-23T08:28:00.816Z"
   },
   {
    "duration": 20,
    "start_time": "2022-06-23T08:28:00.822Z"
   },
   {
    "duration": 6,
    "start_time": "2022-06-23T08:28:00.844Z"
   },
   {
    "duration": 40,
    "start_time": "2022-06-23T08:28:00.854Z"
   },
   {
    "duration": 8,
    "start_time": "2022-06-23T08:28:00.896Z"
   },
   {
    "duration": 23,
    "start_time": "2022-06-23T08:28:00.906Z"
   },
   {
    "duration": 465,
    "start_time": "2022-06-23T08:28:00.931Z"
   },
   {
    "duration": 171,
    "start_time": "2022-06-23T08:28:01.399Z"
   },
   {
    "duration": 232,
    "start_time": "2022-06-23T08:28:01.572Z"
   },
   {
    "duration": 8,
    "start_time": "2022-06-23T08:28:01.806Z"
   },
   {
    "duration": 273,
    "start_time": "2022-06-23T08:28:01.817Z"
   },
   {
    "duration": 5,
    "start_time": "2022-06-23T08:28:02.091Z"
   },
   {
    "duration": 18,
    "start_time": "2022-06-23T08:28:02.098Z"
   },
   {
    "duration": 7,
    "start_time": "2022-06-23T08:28:02.118Z"
   },
   {
    "duration": 15,
    "start_time": "2022-06-23T08:28:02.127Z"
   },
   {
    "duration": 30,
    "start_time": "2022-06-23T08:28:02.151Z"
   },
   {
    "duration": 8,
    "start_time": "2022-06-23T08:28:02.183Z"
   },
   {
    "duration": 1429,
    "start_time": "2022-06-23T08:28:02.195Z"
   },
   {
    "duration": 46,
    "start_time": "2022-06-23T08:28:03.626Z"
   },
   {
    "duration": 4,
    "start_time": "2022-06-23T08:28:03.675Z"
   },
   {
    "duration": 71302,
    "start_time": "2022-06-23T08:28:03.681Z"
   },
   {
    "duration": 5,
    "start_time": "2022-06-23T08:29:14.985Z"
   },
   {
    "duration": 665,
    "start_time": "2022-06-23T08:29:14.992Z"
   },
   {
    "duration": 120,
    "start_time": "2022-06-23T08:29:15.665Z"
   },
   {
    "duration": 0,
    "start_time": "2022-06-23T08:29:15.787Z"
   },
   {
    "duration": 0,
    "start_time": "2022-06-23T08:29:15.788Z"
   },
   {
    "duration": 0,
    "start_time": "2022-06-23T08:29:15.789Z"
   },
   {
    "duration": 0,
    "start_time": "2022-06-23T08:29:15.790Z"
   },
   {
    "duration": 0,
    "start_time": "2022-06-23T08:29:15.791Z"
   },
   {
    "duration": 0,
    "start_time": "2022-06-23T08:29:15.792Z"
   },
   {
    "duration": 1,
    "start_time": "2022-06-23T08:29:15.793Z"
   },
   {
    "duration": 0,
    "start_time": "2022-06-23T08:29:15.795Z"
   },
   {
    "duration": 5,
    "start_time": "2022-06-23T08:29:29.405Z"
   },
   {
    "duration": 7,
    "start_time": "2022-06-23T08:29:30.936Z"
   },
   {
    "duration": 38,
    "start_time": "2022-06-23T08:30:21.222Z"
   },
   {
    "duration": 4,
    "start_time": "2022-06-23T08:30:21.398Z"
   },
   {
    "duration": 78182,
    "start_time": "2022-06-23T08:30:21.598Z"
   },
   {
    "duration": 89,
    "start_time": "2022-06-23T08:31:39.782Z"
   },
   {
    "duration": 12,
    "start_time": "2022-06-23T08:31:39.878Z"
   },
   {
    "duration": 8,
    "start_time": "2022-06-23T08:31:39.892Z"
   },
   {
    "duration": 14,
    "start_time": "2022-06-23T08:33:39.228Z"
   },
   {
    "duration": 18,
    "start_time": "2022-06-23T08:33:46.227Z"
   },
   {
    "duration": 17,
    "start_time": "2022-06-23T08:35:16.075Z"
   },
   {
    "duration": 5,
    "start_time": "2022-06-23T08:35:32.228Z"
   },
   {
    "duration": 5,
    "start_time": "2022-06-23T08:35:41.891Z"
   },
   {
    "duration": 5,
    "start_time": "2022-06-23T08:38:21.489Z"
   },
   {
    "duration": 61,
    "start_time": "2022-06-23T08:38:42.388Z"
   },
   {
    "duration": 1062,
    "start_time": "2022-06-23T08:38:59.827Z"
   },
   {
    "duration": 825,
    "start_time": "2022-06-23T08:40:14.913Z"
   },
   {
    "duration": 770,
    "start_time": "2022-06-23T08:40:28.777Z"
   },
   {
    "duration": 26,
    "start_time": "2022-06-23T08:40:44.423Z"
   },
   {
    "duration": 867,
    "start_time": "2022-06-23T08:41:20.393Z"
   },
   {
    "duration": 696,
    "start_time": "2022-06-23T08:41:33.746Z"
   },
   {
    "duration": 779,
    "start_time": "2022-06-23T08:42:04.410Z"
   },
   {
    "duration": 12,
    "start_time": "2022-06-23T08:42:23.298Z"
   },
   {
    "duration": 1449,
    "start_time": "2022-06-23T08:42:37.432Z"
   },
   {
    "duration": 4,
    "start_time": "2022-06-23T08:43:19.089Z"
   },
   {
    "duration": 2832,
    "start_time": "2022-06-23T08:43:29.680Z"
   },
   {
    "duration": 7,
    "start_time": "2022-06-23T08:43:34.385Z"
   },
   {
    "duration": 2624,
    "start_time": "2022-06-23T08:43:44.800Z"
   },
   {
    "duration": 6,
    "start_time": "2022-06-23T08:43:48.411Z"
   },
   {
    "duration": 785,
    "start_time": "2022-06-23T08:44:03.689Z"
   },
   {
    "duration": 6,
    "start_time": "2022-06-23T08:44:05.905Z"
   },
   {
    "duration": 5,
    "start_time": "2022-06-23T08:44:25.793Z"
   },
   {
    "duration": 571,
    "start_time": "2022-06-23T08:45:26.146Z"
   },
   {
    "duration": 1869,
    "start_time": "2022-06-23T08:45:33.280Z"
   },
   {
    "duration": 6,
    "start_time": "2022-06-23T08:45:35.928Z"
   },
   {
    "duration": 1179,
    "start_time": "2022-06-23T08:45:47.736Z"
   },
   {
    "duration": 999,
    "start_time": "2022-06-23T08:46:02.152Z"
   },
   {
    "duration": 1452,
    "start_time": "2022-06-23T08:46:06.241Z"
   },
   {
    "duration": 5,
    "start_time": "2022-06-23T08:46:08.119Z"
   },
   {
    "duration": 1444,
    "start_time": "2022-06-23T08:46:12.161Z"
   },
   {
    "duration": 4,
    "start_time": "2022-06-23T08:46:13.606Z"
   },
   {
    "duration": 2405,
    "start_time": "2022-06-23T08:46:37.495Z"
   },
   {
    "duration": 13,
    "start_time": "2022-06-23T08:46:39.902Z"
   },
   {
    "duration": 122335,
    "start_time": "2022-06-23T08:46:45.319Z"
   },
   {
    "duration": 9,
    "start_time": "2022-06-23T08:48:47.656Z"
   },
   {
    "duration": 1343,
    "start_time": "2022-06-23T08:48:54.167Z"
   },
   {
    "duration": 5,
    "start_time": "2022-06-23T08:48:55.514Z"
   },
   {
    "duration": 1367,
    "start_time": "2022-06-23T08:49:03.783Z"
   },
   {
    "duration": 5,
    "start_time": "2022-06-23T08:49:06.414Z"
   },
   {
    "duration": 1456,
    "start_time": "2022-06-23T08:49:38.535Z"
   },
   {
    "duration": 5,
    "start_time": "2022-06-23T08:49:40.942Z"
   },
   {
    "duration": 1572,
    "start_time": "2022-06-23T08:49:45.089Z"
   },
   {
    "duration": 5,
    "start_time": "2022-06-23T08:49:47.704Z"
   },
   {
    "duration": 1144,
    "start_time": "2022-06-23T08:50:05.934Z"
   },
   {
    "duration": 47,
    "start_time": "2022-06-23T08:50:07.080Z"
   },
   {
    "duration": 13,
    "start_time": "2022-06-23T08:50:07.129Z"
   },
   {
    "duration": 15,
    "start_time": "2022-06-23T08:50:07.143Z"
   },
   {
    "duration": 18,
    "start_time": "2022-06-23T08:50:07.161Z"
   },
   {
    "duration": 12,
    "start_time": "2022-06-23T08:50:07.181Z"
   },
   {
    "duration": 3,
    "start_time": "2022-06-23T08:50:07.195Z"
   },
   {
    "duration": 14,
    "start_time": "2022-06-23T08:50:07.200Z"
   },
   {
    "duration": 4,
    "start_time": "2022-06-23T08:50:07.216Z"
   },
   {
    "duration": 13,
    "start_time": "2022-06-23T08:50:07.222Z"
   },
   {
    "duration": 27,
    "start_time": "2022-06-23T08:50:07.237Z"
   },
   {
    "duration": 12,
    "start_time": "2022-06-23T08:50:07.266Z"
   },
   {
    "duration": 426,
    "start_time": "2022-06-23T08:50:07.280Z"
   },
   {
    "duration": 178,
    "start_time": "2022-06-23T08:50:07.710Z"
   },
   {
    "duration": 255,
    "start_time": "2022-06-23T08:50:07.890Z"
   },
   {
    "duration": 8,
    "start_time": "2022-06-23T08:50:08.147Z"
   },
   {
    "duration": 223,
    "start_time": "2022-06-23T08:50:08.157Z"
   },
   {
    "duration": 5,
    "start_time": "2022-06-23T08:50:08.382Z"
   },
   {
    "duration": 7,
    "start_time": "2022-06-23T08:50:08.388Z"
   },
   {
    "duration": 7,
    "start_time": "2022-06-23T08:50:08.397Z"
   },
   {
    "duration": 10,
    "start_time": "2022-06-23T08:50:08.405Z"
   },
   {
    "duration": 4,
    "start_time": "2022-06-23T08:50:08.417Z"
   },
   {
    "duration": 6,
    "start_time": "2022-06-23T08:50:08.423Z"
   },
   {
    "duration": 929,
    "start_time": "2022-06-23T08:50:08.456Z"
   },
   {
    "duration": 19,
    "start_time": "2022-06-23T08:50:09.386Z"
   },
   {
    "duration": 3,
    "start_time": "2022-06-23T08:50:09.407Z"
   },
   {
    "duration": 52458,
    "start_time": "2022-06-23T08:50:09.412Z"
   },
   {
    "duration": 5,
    "start_time": "2022-06-23T08:51:01.872Z"
   },
   {
    "duration": 446,
    "start_time": "2022-06-23T08:51:01.879Z"
   },
   {
    "duration": 120,
    "start_time": "2022-06-23T08:51:02.326Z"
   },
   {
    "duration": 0,
    "start_time": "2022-06-23T08:51:02.447Z"
   },
   {
    "duration": 0,
    "start_time": "2022-06-23T08:51:02.455Z"
   },
   {
    "duration": 0,
    "start_time": "2022-06-23T08:51:02.456Z"
   },
   {
    "duration": 0,
    "start_time": "2022-06-23T08:51:02.456Z"
   },
   {
    "duration": 0,
    "start_time": "2022-06-23T08:51:02.460Z"
   },
   {
    "duration": 5,
    "start_time": "2022-06-23T08:51:10.288Z"
   },
   {
    "duration": 5,
    "start_time": "2022-06-23T08:51:10.614Z"
   },
   {
    "duration": 1116,
    "start_time": "2022-06-23T08:51:12.631Z"
   },
   {
    "duration": 10,
    "start_time": "2022-06-23T08:51:13.749Z"
   },
   {
    "duration": 870,
    "start_time": "2022-06-23T08:53:05.304Z"
   },
   {
    "duration": 6,
    "start_time": "2022-06-23T08:53:06.176Z"
   },
   {
    "duration": 829,
    "start_time": "2022-06-23T08:53:20.799Z"
   },
   {
    "duration": 5,
    "start_time": "2022-06-23T08:53:21.630Z"
   },
   {
    "duration": 18,
    "start_time": "2022-06-23T08:53:33.782Z"
   },
   {
    "duration": 18,
    "start_time": "2022-06-23T08:53:52.477Z"
   },
   {
    "duration": 1188,
    "start_time": "2022-06-23T08:56:49.711Z"
   },
   {
    "duration": 47,
    "start_time": "2022-06-23T08:56:50.901Z"
   },
   {
    "duration": 20,
    "start_time": "2022-06-23T08:56:50.949Z"
   },
   {
    "duration": 4,
    "start_time": "2022-06-23T08:56:50.972Z"
   },
   {
    "duration": 16,
    "start_time": "2022-06-23T08:56:50.978Z"
   },
   {
    "duration": 13,
    "start_time": "2022-06-23T08:56:50.995Z"
   },
   {
    "duration": 4,
    "start_time": "2022-06-23T08:56:51.010Z"
   },
   {
    "duration": 40,
    "start_time": "2022-06-23T08:56:51.015Z"
   },
   {
    "duration": 4,
    "start_time": "2022-06-23T08:56:51.058Z"
   },
   {
    "duration": 6,
    "start_time": "2022-06-23T08:56:51.068Z"
   },
   {
    "duration": 5,
    "start_time": "2022-06-23T08:56:51.075Z"
   },
   {
    "duration": 9,
    "start_time": "2022-06-23T08:56:51.082Z"
   },
   {
    "duration": 122,
    "start_time": "2022-06-23T08:56:51.093Z"
   },
   {
    "duration": 0,
    "start_time": "2022-06-23T08:56:51.217Z"
   },
   {
    "duration": 0,
    "start_time": "2022-06-23T08:56:51.218Z"
   },
   {
    "duration": 0,
    "start_time": "2022-06-23T08:56:51.219Z"
   },
   {
    "duration": 0,
    "start_time": "2022-06-23T08:56:51.220Z"
   },
   {
    "duration": 0,
    "start_time": "2022-06-23T08:56:51.221Z"
   },
   {
    "duration": 0,
    "start_time": "2022-06-23T08:56:51.222Z"
   },
   {
    "duration": 0,
    "start_time": "2022-06-23T08:56:51.223Z"
   },
   {
    "duration": 0,
    "start_time": "2022-06-23T08:56:51.224Z"
   },
   {
    "duration": 0,
    "start_time": "2022-06-23T08:56:51.225Z"
   },
   {
    "duration": 0,
    "start_time": "2022-06-23T08:56:51.226Z"
   },
   {
    "duration": 0,
    "start_time": "2022-06-23T08:56:51.227Z"
   },
   {
    "duration": 0,
    "start_time": "2022-06-23T08:56:51.228Z"
   },
   {
    "duration": 0,
    "start_time": "2022-06-23T08:56:51.257Z"
   },
   {
    "duration": 0,
    "start_time": "2022-06-23T08:56:51.260Z"
   },
   {
    "duration": 0,
    "start_time": "2022-06-23T08:56:51.261Z"
   },
   {
    "duration": 0,
    "start_time": "2022-06-23T08:56:51.262Z"
   },
   {
    "duration": 0,
    "start_time": "2022-06-23T08:56:51.263Z"
   },
   {
    "duration": 0,
    "start_time": "2022-06-23T08:56:51.264Z"
   },
   {
    "duration": 0,
    "start_time": "2022-06-23T08:56:51.265Z"
   },
   {
    "duration": 0,
    "start_time": "2022-06-23T08:56:51.268Z"
   },
   {
    "duration": 0,
    "start_time": "2022-06-23T08:56:51.269Z"
   },
   {
    "duration": 0,
    "start_time": "2022-06-23T08:56:51.270Z"
   },
   {
    "duration": 4,
    "start_time": "2022-06-23T08:57:09.838Z"
   },
   {
    "duration": 3,
    "start_time": "2022-06-23T08:57:10.510Z"
   },
   {
    "duration": 5,
    "start_time": "2022-06-23T08:57:11.085Z"
   },
   {
    "duration": 68,
    "start_time": "2022-06-23T08:57:12.621Z"
   },
   {
    "duration": 1112,
    "start_time": "2022-06-23T08:58:07.581Z"
   },
   {
    "duration": 47,
    "start_time": "2022-06-23T08:58:08.695Z"
   },
   {
    "duration": 26,
    "start_time": "2022-06-23T08:58:08.743Z"
   },
   {
    "duration": 10,
    "start_time": "2022-06-23T08:58:08.770Z"
   },
   {
    "duration": 24,
    "start_time": "2022-06-23T08:58:08.782Z"
   },
   {
    "duration": 21,
    "start_time": "2022-06-23T08:58:08.808Z"
   },
   {
    "duration": 6,
    "start_time": "2022-06-23T08:58:08.831Z"
   },
   {
    "duration": 38,
    "start_time": "2022-06-23T08:58:08.839Z"
   },
   {
    "duration": 5,
    "start_time": "2022-06-23T08:58:08.879Z"
   },
   {
    "duration": 46,
    "start_time": "2022-06-23T08:58:08.886Z"
   },
   {
    "duration": 7,
    "start_time": "2022-06-23T08:58:08.934Z"
   },
   {
    "duration": 50,
    "start_time": "2022-06-23T08:58:08.943Z"
   },
   {
    "duration": 425,
    "start_time": "2022-06-23T08:58:08.995Z"
   },
   {
    "duration": 158,
    "start_time": "2022-06-23T08:58:09.422Z"
   },
   {
    "duration": 226,
    "start_time": "2022-06-23T08:58:09.582Z"
   },
   {
    "duration": 7,
    "start_time": "2022-06-23T08:58:09.810Z"
   },
   {
    "duration": 229,
    "start_time": "2022-06-23T08:58:09.818Z"
   },
   {
    "duration": 6,
    "start_time": "2022-06-23T08:58:10.052Z"
   },
   {
    "duration": 16,
    "start_time": "2022-06-23T08:58:10.061Z"
   },
   {
    "duration": 6,
    "start_time": "2022-06-23T08:58:10.079Z"
   },
   {
    "duration": 14,
    "start_time": "2022-06-23T08:58:10.086Z"
   },
   {
    "duration": 154,
    "start_time": "2022-06-23T08:58:10.102Z"
   },
   {
    "duration": 99,
    "start_time": "2022-06-23T08:58:10.268Z"
   },
   {
    "duration": 4414,
    "start_time": "2022-06-23T08:58:10.369Z"
   },
   {
    "duration": 33,
    "start_time": "2022-06-23T08:58:14.784Z"
   },
   {
    "duration": 5,
    "start_time": "2022-06-23T08:58:14.819Z"
   },
   {
    "duration": 173649,
    "start_time": "2022-06-23T08:58:14.826Z"
   },
   {
    "duration": 0,
    "start_time": "2022-06-23T09:01:08.477Z"
   },
   {
    "duration": 0,
    "start_time": "2022-06-23T09:01:08.478Z"
   },
   {
    "duration": 0,
    "start_time": "2022-06-23T09:01:08.479Z"
   },
   {
    "duration": 0,
    "start_time": "2022-06-23T09:01:08.481Z"
   },
   {
    "duration": 0,
    "start_time": "2022-06-23T09:01:08.482Z"
   },
   {
    "duration": 0,
    "start_time": "2022-06-23T09:01:08.483Z"
   },
   {
    "duration": 0,
    "start_time": "2022-06-23T09:01:08.484Z"
   },
   {
    "duration": 0,
    "start_time": "2022-06-23T09:01:08.485Z"
   },
   {
    "duration": 2413,
    "start_time": "2022-06-23T09:01:14.371Z"
   },
   {
    "duration": 13,
    "start_time": "2022-06-23T09:01:20.508Z"
   },
   {
    "duration": 6,
    "start_time": "2022-06-23T09:01:21.188Z"
   },
   {
    "duration": 6,
    "start_time": "2022-06-23T09:01:22.280Z"
   },
   {
    "duration": 4036,
    "start_time": "2022-06-23T09:01:23.532Z"
   },
   {
    "duration": 8,
    "start_time": "2022-06-23T09:01:27.812Z"
   },
   {
    "duration": 5,
    "start_time": "2022-06-23T09:01:33.940Z"
   },
   {
    "duration": 1461,
    "start_time": "2022-06-24T07:27:50.809Z"
   },
   {
    "duration": 171,
    "start_time": "2022-06-24T07:27:52.273Z"
   },
   {
    "duration": 18,
    "start_time": "2022-06-24T07:27:52.447Z"
   },
   {
    "duration": 22,
    "start_time": "2022-06-24T07:27:52.467Z"
   },
   {
    "duration": 21,
    "start_time": "2022-06-24T07:27:52.492Z"
   },
   {
    "duration": 19,
    "start_time": "2022-06-24T07:27:52.516Z"
   },
   {
    "duration": 9,
    "start_time": "2022-06-24T07:27:52.537Z"
   },
   {
    "duration": 17,
    "start_time": "2022-06-24T07:27:52.548Z"
   },
   {
    "duration": 10,
    "start_time": "2022-06-24T07:27:52.567Z"
   },
   {
    "duration": 62,
    "start_time": "2022-06-24T07:27:52.580Z"
   },
   {
    "duration": 8,
    "start_time": "2022-06-24T07:27:52.646Z"
   },
   {
    "duration": 35,
    "start_time": "2022-06-24T07:27:52.656Z"
   },
   {
    "duration": 811,
    "start_time": "2022-06-24T07:27:52.694Z"
   },
   {
    "duration": 193,
    "start_time": "2022-06-24T07:27:53.510Z"
   },
   {
    "duration": 314,
    "start_time": "2022-06-24T07:27:53.705Z"
   },
   {
    "duration": 10,
    "start_time": "2022-06-24T07:27:54.027Z"
   },
   {
    "duration": 428,
    "start_time": "2022-06-24T07:27:54.042Z"
   },
   {
    "duration": 7,
    "start_time": "2022-06-24T07:27:54.473Z"
   },
   {
    "duration": 34,
    "start_time": "2022-06-24T07:27:54.483Z"
   },
   {
    "duration": 33,
    "start_time": "2022-06-24T07:27:54.519Z"
   },
   {
    "duration": 45,
    "start_time": "2022-06-24T07:27:54.555Z"
   },
   {
    "duration": 145,
    "start_time": "2022-06-24T07:27:54.606Z"
   },
   {
    "duration": 175,
    "start_time": "2022-06-24T07:27:54.754Z"
   },
   {
    "duration": 5011,
    "start_time": "2022-06-24T07:27:54.931Z"
   },
   {
    "duration": 26,
    "start_time": "2022-06-24T07:27:59.944Z"
   },
   {
    "duration": 6,
    "start_time": "2022-06-24T07:27:59.972Z"
   },
   {
    "duration": 231788,
    "start_time": "2022-06-24T07:27:59.981Z"
   },
   {
    "duration": 5,
    "start_time": "2022-06-24T07:31:51.771Z"
   },
   {
    "duration": 2530,
    "start_time": "2022-06-24T07:31:51.779Z"
   },
   {
    "duration": 155,
    "start_time": "2022-06-24T07:31:54.311Z"
   },
   {
    "duration": 0,
    "start_time": "2022-06-24T07:31:54.470Z"
   },
   {
    "duration": 0,
    "start_time": "2022-06-24T07:31:54.471Z"
   },
   {
    "duration": 0,
    "start_time": "2022-06-24T07:31:54.472Z"
   },
   {
    "duration": 0,
    "start_time": "2022-06-24T07:31:54.474Z"
   },
   {
    "duration": 0,
    "start_time": "2022-06-24T07:31:54.475Z"
   },
   {
    "duration": 1869,
    "start_time": "2022-06-24T07:32:19.471Z"
   },
   {
    "duration": 1109,
    "start_time": "2022-06-24T07:32:32.267Z"
   },
   {
    "duration": 6,
    "start_time": "2022-06-24T07:32:35.113Z"
   },
   {
    "duration": 47,
    "start_time": "2022-06-24T07:36:11.664Z"
   },
   {
    "duration": 29,
    "start_time": "2022-06-24T07:36:34.242Z"
   },
   {
    "duration": 26,
    "start_time": "2022-06-24T07:37:00.282Z"
   },
   {
    "duration": 29,
    "start_time": "2022-06-24T07:37:37.665Z"
   },
   {
    "duration": 11,
    "start_time": "2022-06-24T07:39:09.234Z"
   },
   {
    "duration": 120430,
    "start_time": "2022-06-24T07:39:20.032Z"
   },
   {
    "duration": 0,
    "start_time": "2022-06-24T07:41:20.464Z"
   },
   {
    "duration": 25,
    "start_time": "2022-06-24T07:41:24.199Z"
   },
   {
    "duration": 14,
    "start_time": "2022-06-24T07:42:20.119Z"
   },
   {
    "duration": 14,
    "start_time": "2022-06-24T07:42:22.656Z"
   },
   {
    "duration": 9795,
    "start_time": "2022-06-24T07:42:46.191Z"
   },
   {
    "duration": 9,
    "start_time": "2022-06-24T07:43:14.009Z"
   },
   {
    "duration": 10,
    "start_time": "2022-06-24T07:43:52.519Z"
   },
   {
    "duration": 8,
    "start_time": "2022-06-24T07:43:59.864Z"
   },
   {
    "duration": 10,
    "start_time": "2022-06-24T07:44:54.888Z"
   },
   {
    "duration": 10,
    "start_time": "2022-06-24T07:44:57.799Z"
   },
   {
    "duration": 9643,
    "start_time": "2022-06-24T07:45:20.697Z"
   },
   {
    "duration": 11,
    "start_time": "2022-06-24T07:45:32.151Z"
   },
   {
    "duration": 9,
    "start_time": "2022-06-24T07:45:37.143Z"
   },
   {
    "duration": 9,
    "start_time": "2022-06-24T07:46:06.263Z"
   },
   {
    "duration": 9,
    "start_time": "2022-06-24T07:46:58.345Z"
   },
   {
    "duration": 9,
    "start_time": "2022-06-24T07:47:27.351Z"
   },
   {
    "duration": 9,
    "start_time": "2022-06-24T07:47:57.311Z"
   },
   {
    "duration": 1017,
    "start_time": "2022-06-24T07:50:19.895Z"
   },
   {
    "duration": 4,
    "start_time": "2022-06-24T07:50:23.335Z"
   },
   {
    "duration": 754,
    "start_time": "2022-06-24T07:50:26.576Z"
   },
   {
    "duration": 5,
    "start_time": "2022-06-24T07:50:27.926Z"
   },
   {
    "duration": 1982,
    "start_time": "2022-06-24T07:50:30.583Z"
   },
   {
    "duration": 4,
    "start_time": "2022-06-24T07:50:34.343Z"
   },
   {
    "duration": 11,
    "start_time": "2022-06-24T07:50:41.731Z"
   },
   {
    "duration": 1099,
    "start_time": "2022-06-24T07:51:00.971Z"
   },
   {
    "duration": 48,
    "start_time": "2022-06-24T07:51:02.073Z"
   },
   {
    "duration": 12,
    "start_time": "2022-06-24T07:51:02.122Z"
   },
   {
    "duration": 3,
    "start_time": "2022-06-24T07:51:02.136Z"
   },
   {
    "duration": 10,
    "start_time": "2022-06-24T07:51:02.141Z"
   },
   {
    "duration": 27,
    "start_time": "2022-06-24T07:51:02.153Z"
   },
   {
    "duration": 4,
    "start_time": "2022-06-24T07:51:02.181Z"
   },
   {
    "duration": 17,
    "start_time": "2022-06-24T07:51:02.187Z"
   },
   {
    "duration": 3,
    "start_time": "2022-06-24T07:51:02.206Z"
   },
   {
    "duration": 31,
    "start_time": "2022-06-24T07:51:02.210Z"
   },
   {
    "duration": 4,
    "start_time": "2022-06-24T07:51:02.242Z"
   },
   {
    "duration": 23,
    "start_time": "2022-06-24T07:51:02.248Z"
   },
   {
    "duration": 393,
    "start_time": "2022-06-24T07:51:02.272Z"
   },
   {
    "duration": 139,
    "start_time": "2022-06-24T07:51:02.668Z"
   },
   {
    "duration": 206,
    "start_time": "2022-06-24T07:51:02.808Z"
   },
   {
    "duration": 14,
    "start_time": "2022-06-24T07:51:03.015Z"
   },
   {
    "duration": 205,
    "start_time": "2022-06-24T07:51:03.030Z"
   },
   {
    "duration": 5,
    "start_time": "2022-06-24T07:51:03.237Z"
   },
   {
    "duration": 14,
    "start_time": "2022-06-24T07:51:03.243Z"
   },
   {
    "duration": 28,
    "start_time": "2022-06-24T07:51:03.258Z"
   },
   {
    "duration": 30,
    "start_time": "2022-06-24T07:51:03.288Z"
   },
   {
    "duration": 107,
    "start_time": "2022-06-24T07:51:03.320Z"
   },
   {
    "duration": 122,
    "start_time": "2022-06-24T07:51:03.428Z"
   },
   {
    "duration": 4013,
    "start_time": "2022-06-24T07:51:03.624Z"
   },
   {
    "duration": 17,
    "start_time": "2022-06-24T07:51:07.639Z"
   },
   {
    "duration": 3,
    "start_time": "2022-06-24T07:51:07.658Z"
   },
   {
    "duration": 112,
    "start_time": "2022-06-24T07:51:07.663Z"
   },
   {
    "duration": 0,
    "start_time": "2022-06-24T07:51:07.776Z"
   },
   {
    "duration": 0,
    "start_time": "2022-06-24T07:51:07.778Z"
   },
   {
    "duration": 0,
    "start_time": "2022-06-24T07:51:07.778Z"
   },
   {
    "duration": 0,
    "start_time": "2022-06-24T07:51:07.779Z"
   },
   {
    "duration": 10,
    "start_time": "2022-06-24T07:51:22.184Z"
   },
   {
    "duration": 1534,
    "start_time": "2022-06-24T07:51:39.239Z"
   },
   {
    "duration": 6010,
    "start_time": "2022-06-24T07:51:46.836Z"
   },
   {
    "duration": 72452,
    "start_time": "2022-06-24T07:52:12.404Z"
   },
   {
    "duration": 3105,
    "start_time": "2022-06-24T07:53:39.526Z"
   },
   {
    "duration": 9,
    "start_time": "2022-06-24T07:53:46.469Z"
   },
   {
    "duration": 2800,
    "start_time": "2022-06-24T07:53:50.676Z"
   },
   {
    "duration": 8,
    "start_time": "2022-06-24T07:53:54.455Z"
   },
   {
    "duration": 3050,
    "start_time": "2022-06-24T07:54:07.491Z"
   },
   {
    "duration": 9,
    "start_time": "2022-06-24T07:55:06.404Z"
   },
   {
    "duration": 4109,
    "start_time": "2022-06-24T07:55:17.083Z"
   },
   {
    "duration": 101,
    "start_time": "2022-06-24T07:57:38.884Z"
   },
   {
    "duration": 690,
    "start_time": "2022-06-24T07:57:42.836Z"
   },
   {
    "duration": 6,
    "start_time": "2022-06-24T07:57:44.835Z"
   },
   {
    "duration": 676,
    "start_time": "2022-06-24T07:59:31.491Z"
   },
   {
    "duration": 5,
    "start_time": "2022-06-24T07:59:32.169Z"
   },
   {
    "duration": 1826,
    "start_time": "2022-06-24T07:59:42.195Z"
   },
   {
    "duration": 9144,
    "start_time": "2022-06-24T07:59:50.180Z"
   },
   {
    "duration": 1348,
    "start_time": "2022-06-24T08:00:01.923Z"
   },
   {
    "duration": 4896,
    "start_time": "2022-06-24T08:00:05.170Z"
   },
   {
    "duration": 4,
    "start_time": "2022-06-24T08:00:10.068Z"
   },
   {
    "duration": 2203,
    "start_time": "2022-06-24T08:00:15.595Z"
   },
   {
    "duration": 5,
    "start_time": "2022-06-24T08:00:17.800Z"
   },
   {
    "duration": 1420,
    "start_time": "2022-06-24T08:00:22.611Z"
   },
   {
    "duration": 6,
    "start_time": "2022-06-24T08:00:24.033Z"
   },
   {
    "duration": 1155,
    "start_time": "2022-06-24T08:00:29.131Z"
   },
   {
    "duration": 5,
    "start_time": "2022-06-24T08:00:33.363Z"
   },
   {
    "duration": 960,
    "start_time": "2022-06-24T08:00:36.151Z"
   },
   {
    "duration": 5,
    "start_time": "2022-06-24T08:00:37.112Z"
   },
   {
    "duration": 846,
    "start_time": "2022-06-24T08:00:40.506Z"
   },
   {
    "duration": 4,
    "start_time": "2022-06-24T08:00:41.354Z"
   },
   {
    "duration": 2030,
    "start_time": "2022-06-24T08:00:44.523Z"
   },
   {
    "duration": 7,
    "start_time": "2022-06-24T08:00:46.555Z"
   },
   {
    "duration": 4086,
    "start_time": "2022-06-24T08:00:54.836Z"
   },
   {
    "duration": 1583,
    "start_time": "2022-06-24T08:01:47.179Z"
   },
   {
    "duration": 4282,
    "start_time": "2022-06-24T08:01:55.485Z"
   },
   {
    "duration": 3,
    "start_time": "2022-06-24T08:06:28.891Z"
   },
   {
    "duration": 817,
    "start_time": "2022-06-24T08:07:23.324Z"
   },
   {
    "duration": 4564,
    "start_time": "2022-06-24T08:07:29.506Z"
   },
   {
    "duration": 4340,
    "start_time": "2022-06-24T08:08:47.930Z"
   },
   {
    "duration": 2077,
    "start_time": "2022-06-24T08:09:58.291Z"
   },
   {
    "duration": 5,
    "start_time": "2022-06-24T08:10:00.370Z"
   },
   {
    "duration": 5143,
    "start_time": "2022-06-24T08:10:10.137Z"
   },
   {
    "duration": 2016,
    "start_time": "2022-06-24T08:11:07.100Z"
   },
   {
    "duration": 5,
    "start_time": "2022-06-24T08:11:09.118Z"
   },
   {
    "duration": 2221,
    "start_time": "2022-06-24T08:11:17.891Z"
   },
   {
    "duration": 7,
    "start_time": "2022-06-24T08:11:21.070Z"
   },
   {
    "duration": 2047,
    "start_time": "2022-06-24T08:11:23.795Z"
   },
   {
    "duration": 6,
    "start_time": "2022-06-24T08:12:12.874Z"
   },
   {
    "duration": 6,
    "start_time": "2022-06-24T08:12:18.274Z"
   },
   {
    "duration": 11,
    "start_time": "2022-06-24T08:17:45.284Z"
   },
   {
    "duration": 8,
    "start_time": "2022-06-24T08:17:55.315Z"
   },
   {
    "duration": 8,
    "start_time": "2022-06-24T08:18:06.700Z"
   },
   {
    "duration": 8,
    "start_time": "2022-06-24T08:19:56.930Z"
   },
   {
    "duration": 8,
    "start_time": "2022-06-24T08:22:30.507Z"
   },
   {
    "duration": 1497,
    "start_time": "2022-06-24T08:32:15.910Z"
   },
   {
    "duration": 59,
    "start_time": "2022-06-24T08:32:17.410Z"
   },
   {
    "duration": 19,
    "start_time": "2022-06-24T08:32:17.472Z"
   },
   {
    "duration": 4,
    "start_time": "2022-06-24T08:32:17.493Z"
   },
   {
    "duration": 16,
    "start_time": "2022-06-24T08:32:17.500Z"
   },
   {
    "duration": 18,
    "start_time": "2022-06-24T08:32:17.518Z"
   },
   {
    "duration": 22,
    "start_time": "2022-06-24T08:32:17.537Z"
   },
   {
    "duration": 12,
    "start_time": "2022-06-24T08:32:17.560Z"
   },
   {
    "duration": 6,
    "start_time": "2022-06-24T08:32:17.574Z"
   },
   {
    "duration": 28,
    "start_time": "2022-06-24T08:32:17.582Z"
   },
   {
    "duration": 20,
    "start_time": "2022-06-24T08:32:17.612Z"
   },
   {
    "duration": 49,
    "start_time": "2022-06-24T08:32:17.633Z"
   },
   {
    "duration": 544,
    "start_time": "2022-06-24T08:32:17.684Z"
   },
   {
    "duration": 213,
    "start_time": "2022-06-24T08:32:18.232Z"
   },
   {
    "duration": 312,
    "start_time": "2022-06-24T08:32:18.448Z"
   },
   {
    "duration": 33,
    "start_time": "2022-06-24T08:32:18.762Z"
   },
   {
    "duration": 548,
    "start_time": "2022-06-24T08:32:18.799Z"
   },
   {
    "duration": 5,
    "start_time": "2022-06-24T08:32:19.353Z"
   },
   {
    "duration": 15,
    "start_time": "2022-06-24T08:32:19.360Z"
   },
   {
    "duration": 20,
    "start_time": "2022-06-24T08:32:19.378Z"
   },
   {
    "duration": 161,
    "start_time": "2022-06-24T08:32:19.400Z"
   },
   {
    "duration": 271,
    "start_time": "2022-06-24T08:32:19.563Z"
   },
   {
    "duration": 28,
    "start_time": "2022-06-24T08:32:19.844Z"
   },
   {
    "duration": 4875,
    "start_time": "2022-06-24T08:32:19.874Z"
   },
   {
    "duration": 25,
    "start_time": "2022-06-24T08:32:24.754Z"
   },
   {
    "duration": 5,
    "start_time": "2022-06-24T08:32:24.781Z"
   },
   {
    "duration": 33,
    "start_time": "2022-06-24T08:32:24.788Z"
   },
   {
    "duration": 6897,
    "start_time": "2022-06-24T08:32:24.823Z"
   },
   {
    "duration": 2653,
    "start_time": "2022-06-24T08:32:31.723Z"
   },
   {
    "duration": 7,
    "start_time": "2022-06-24T08:32:34.378Z"
   },
   {
    "duration": 11,
    "start_time": "2022-06-24T08:32:34.387Z"
   },
   {
    "duration": 5,
    "start_time": "2022-06-24T08:32:34.400Z"
   },
   {
    "duration": 2588,
    "start_time": "2022-06-25T04:59:14.778Z"
   },
   {
    "duration": 50,
    "start_time": "2022-06-25T04:59:17.368Z"
   },
   {
    "duration": 21,
    "start_time": "2022-06-25T04:59:17.420Z"
   },
   {
    "duration": 7,
    "start_time": "2022-06-25T04:59:17.443Z"
   },
   {
    "duration": 22,
    "start_time": "2022-06-25T04:59:17.452Z"
   },
   {
    "duration": 14,
    "start_time": "2022-06-25T04:59:17.500Z"
   },
   {
    "duration": 4,
    "start_time": "2022-06-25T04:59:18.977Z"
   },
   {
    "duration": 9,
    "start_time": "2022-06-25T04:59:42.257Z"
   },
   {
    "duration": 4,
    "start_time": "2022-06-25T04:59:43.201Z"
   },
   {
    "duration": 20,
    "start_time": "2022-06-25T05:00:23.757Z"
   },
   {
    "duration": 5,
    "start_time": "2022-06-25T05:00:51.086Z"
   },
   {
    "duration": 40,
    "start_time": "2022-06-25T05:00:52.318Z"
   },
   {
    "duration": 419,
    "start_time": "2022-06-25T05:01:02.141Z"
   },
   {
    "duration": 139,
    "start_time": "2022-06-25T05:01:02.618Z"
   },
   {
    "duration": 231,
    "start_time": "2022-06-25T05:01:02.969Z"
   },
   {
    "duration": 8,
    "start_time": "2022-06-25T05:01:03.454Z"
   },
   {
    "duration": 305,
    "start_time": "2022-06-25T05:01:04.455Z"
   },
   {
    "duration": 5,
    "start_time": "2022-06-25T05:02:18.865Z"
   },
   {
    "duration": 4,
    "start_time": "2022-06-25T05:02:19.849Z"
   },
   {
    "duration": 6,
    "start_time": "2022-06-25T05:02:22.046Z"
   },
   {
    "duration": 1145,
    "start_time": "2022-06-26T07:53:18.261Z"
   },
   {
    "duration": 114,
    "start_time": "2022-06-26T07:53:19.408Z"
   },
   {
    "duration": 13,
    "start_time": "2022-06-26T07:53:19.524Z"
   },
   {
    "duration": 6,
    "start_time": "2022-06-26T07:53:19.538Z"
   },
   {
    "duration": 10,
    "start_time": "2022-06-26T07:53:20.057Z"
   },
   {
    "duration": 13,
    "start_time": "2022-06-26T07:53:20.681Z"
   },
   {
    "duration": 4,
    "start_time": "2022-06-26T07:53:21.081Z"
   },
   {
    "duration": 8,
    "start_time": "2022-06-26T07:53:22.370Z"
   },
   {
    "duration": 4,
    "start_time": "2022-06-26T07:53:22.746Z"
   },
   {
    "duration": 20,
    "start_time": "2022-06-26T07:53:24.866Z"
   },
   {
    "duration": 4,
    "start_time": "2022-06-26T07:53:25.482Z"
   },
   {
    "duration": 26,
    "start_time": "2022-06-26T07:53:26.523Z"
   },
   {
    "duration": 106,
    "start_time": "2022-06-26T07:53:27.442Z"
   },
   {
    "duration": 14,
    "start_time": "2022-06-26T07:53:27.793Z"
   },
   {
    "duration": 15,
    "start_time": "2022-06-26T07:53:28.161Z"
   },
   {
    "duration": 6,
    "start_time": "2022-06-26T07:53:28.458Z"
   },
   {
    "duration": 603,
    "start_time": "2022-06-26T07:53:29.297Z"
   },
   {
    "duration": 5,
    "start_time": "2022-06-26T07:53:36.570Z"
   },
   {
    "duration": 3,
    "start_time": "2022-06-26T07:53:37.234Z"
   },
   {
    "duration": 6,
    "start_time": "2022-06-26T07:53:37.666Z"
   },
   {
    "duration": 9,
    "start_time": "2022-06-26T07:53:39.082Z"
   },
   {
    "duration": 10,
    "start_time": "2022-06-26T07:53:41.458Z"
   },
   {
    "duration": 4,
    "start_time": "2022-06-26T07:53:42.081Z"
   },
   {
    "duration": 4004,
    "start_time": "2022-06-26T07:53:45.146Z"
   },
   {
    "duration": 20,
    "start_time": "2022-06-26T07:53:49.153Z"
   },
   {
    "duration": 4,
    "start_time": "2022-06-26T07:53:49.175Z"
   },
   {
    "duration": 3,
    "start_time": "2022-06-26T07:53:56.378Z"
   },
   {
    "duration": 3760,
    "start_time": "2022-06-26T07:53:56.817Z"
   },
   {
    "duration": 1946,
    "start_time": "2022-06-26T07:54:00.579Z"
   },
   {
    "duration": 6,
    "start_time": "2022-06-26T07:54:02.527Z"
   },
   {
    "duration": 4,
    "start_time": "2022-06-26T07:54:18.392Z"
   },
   {
    "duration": 4,
    "start_time": "2022-06-26T07:54:25.811Z"
   },
   {
    "duration": 42,
    "start_time": "2022-06-26T07:54:26.178Z"
   },
   {
    "duration": 7,
    "start_time": "2022-06-26T07:54:26.784Z"
   },
   {
    "duration": 3,
    "start_time": "2022-06-26T07:54:27.289Z"
   },
   {
    "duration": 10,
    "start_time": "2022-06-26T07:54:27.626Z"
   },
   {
    "duration": 13,
    "start_time": "2022-06-26T07:54:28.594Z"
   },
   {
    "duration": 4,
    "start_time": "2022-06-26T07:54:28.977Z"
   },
   {
    "duration": 7,
    "start_time": "2022-06-26T07:54:30.818Z"
   },
   {
    "duration": 3,
    "start_time": "2022-06-26T07:54:31.178Z"
   },
   {
    "duration": 19,
    "start_time": "2022-06-26T07:54:32.401Z"
   },
   {
    "duration": 5,
    "start_time": "2022-06-26T07:54:33.121Z"
   },
   {
    "duration": 27,
    "start_time": "2022-06-26T07:54:33.698Z"
   },
   {
    "duration": 28,
    "start_time": "2022-06-26T07:54:34.795Z"
   },
   {
    "duration": 16,
    "start_time": "2022-06-26T07:54:35.426Z"
   },
   {
    "duration": 23,
    "start_time": "2022-06-26T07:54:36.234Z"
   },
   {
    "duration": 6,
    "start_time": "2022-06-26T07:54:37.233Z"
   },
   {
    "duration": 263,
    "start_time": "2022-06-26T07:54:37.721Z"
   },
   {
    "duration": 4,
    "start_time": "2022-06-26T07:54:40.057Z"
   },
   {
    "duration": 3,
    "start_time": "2022-06-26T07:54:41.098Z"
   },
   {
    "duration": 6,
    "start_time": "2022-06-26T07:54:41.617Z"
   },
   {
    "duration": 11,
    "start_time": "2022-06-26T07:54:42.305Z"
   },
   {
    "duration": 8,
    "start_time": "2022-06-26T07:54:43.129Z"
   },
   {
    "duration": 4,
    "start_time": "2022-06-26T07:54:43.665Z"
   },
   {
    "duration": 4006,
    "start_time": "2022-06-26T07:54:45.042Z"
   },
   {
    "duration": 21,
    "start_time": "2022-06-26T07:54:50.617Z"
   },
   {
    "duration": 5,
    "start_time": "2022-06-26T07:54:51.161Z"
   },
   {
    "duration": 3,
    "start_time": "2022-06-26T07:54:53.065Z"
   },
   {
    "duration": 4060,
    "start_time": "2022-06-26T07:54:54.407Z"
   },
   {
    "duration": 2048,
    "start_time": "2022-06-26T07:54:58.469Z"
   },
   {
    "duration": 5,
    "start_time": "2022-06-26T07:55:00.519Z"
   },
   {
    "duration": 1086,
    "start_time": "2022-06-26T08:00:27.510Z"
   },
   {
    "duration": 45,
    "start_time": "2022-06-26T08:00:28.598Z"
   },
   {
    "duration": 12,
    "start_time": "2022-06-26T08:00:28.645Z"
   },
   {
    "duration": 4,
    "start_time": "2022-06-26T08:00:28.660Z"
   },
   {
    "duration": 10,
    "start_time": "2022-06-26T08:00:28.715Z"
   },
   {
    "duration": 12,
    "start_time": "2022-06-26T08:00:29.229Z"
   },
   {
    "duration": 3,
    "start_time": "2022-06-26T08:00:29.509Z"
   },
   {
    "duration": 9,
    "start_time": "2022-06-26T08:00:30.469Z"
   },
   {
    "duration": 4,
    "start_time": "2022-06-26T08:00:30.846Z"
   },
   {
    "duration": 10,
    "start_time": "2022-06-26T08:00:31.709Z"
   },
   {
    "duration": 4,
    "start_time": "2022-06-26T08:00:32.444Z"
   },
   {
    "duration": 12,
    "start_time": "2022-06-26T08:00:32.813Z"
   },
   {
    "duration": 109,
    "start_time": "2022-06-26T08:00:33.709Z"
   },
   {
    "duration": 14,
    "start_time": "2022-06-26T08:00:34.061Z"
   },
   {
    "duration": 16,
    "start_time": "2022-06-26T08:00:34.413Z"
   },
   {
    "duration": 8,
    "start_time": "2022-06-26T08:00:34.772Z"
   },
   {
    "duration": 542,
    "start_time": "2022-06-26T08:00:35.141Z"
   },
   {
    "duration": 4,
    "start_time": "2022-06-26T08:00:37.261Z"
   },
   {
    "duration": 3,
    "start_time": "2022-06-26T08:00:37.797Z"
   },
   {
    "duration": 7,
    "start_time": "2022-06-26T08:00:38.153Z"
   },
   {
    "duration": 9,
    "start_time": "2022-06-26T08:00:38.756Z"
   },
   {
    "duration": 4,
    "start_time": "2022-06-26T08:00:39.173Z"
   },
   {
    "duration": 4,
    "start_time": "2022-06-26T08:00:41.373Z"
   },
   {
    "duration": 949,
    "start_time": "2022-06-26T08:00:43.741Z"
   },
   {
    "duration": 17,
    "start_time": "2022-06-26T08:00:44.692Z"
   },
   {
    "duration": 3,
    "start_time": "2022-06-26T08:00:44.764Z"
   },
   {
    "duration": 3,
    "start_time": "2022-06-26T08:00:46.741Z"
   },
   {
    "duration": 1729,
    "start_time": "2022-06-26T08:00:47.097Z"
   },
   {
    "duration": 750,
    "start_time": "2022-06-26T08:00:49.669Z"
   },
   {
    "duration": 5,
    "start_time": "2022-06-26T08:00:50.421Z"
   },
   {
    "duration": 2179,
    "start_time": "2022-06-26T08:02:29.004Z"
   },
   {
    "duration": 26,
    "start_time": "2022-06-26T08:03:18.229Z"
   },
   {
    "duration": 4,
    "start_time": "2022-06-26T08:04:01.677Z"
   },
   {
    "duration": 1123,
    "start_time": "2022-06-26T08:04:17.534Z"
   },
   {
    "duration": 43,
    "start_time": "2022-06-26T08:04:18.659Z"
   },
   {
    "duration": 12,
    "start_time": "2022-06-26T08:04:18.704Z"
   },
   {
    "duration": 4,
    "start_time": "2022-06-26T08:04:18.717Z"
   },
   {
    "duration": 10,
    "start_time": "2022-06-26T08:04:18.723Z"
   },
   {
    "duration": 10,
    "start_time": "2022-06-26T08:04:18.735Z"
   },
   {
    "duration": 3,
    "start_time": "2022-06-26T08:04:18.751Z"
   },
   {
    "duration": 10,
    "start_time": "2022-06-26T08:04:18.755Z"
   },
   {
    "duration": 6,
    "start_time": "2022-06-26T08:04:18.766Z"
   },
   {
    "duration": 29,
    "start_time": "2022-06-26T08:04:18.774Z"
   },
   {
    "duration": 5,
    "start_time": "2022-06-26T08:04:18.804Z"
   },
   {
    "duration": 24,
    "start_time": "2022-06-26T08:04:18.810Z"
   },
   {
    "duration": 340,
    "start_time": "2022-06-26T08:04:18.852Z"
   },
   {
    "duration": 120,
    "start_time": "2022-06-26T08:04:19.194Z"
   },
   {
    "duration": 225,
    "start_time": "2022-06-26T08:04:19.315Z"
   },
   {
    "duration": 11,
    "start_time": "2022-06-26T08:04:19.542Z"
   },
   {
    "duration": 260,
    "start_time": "2022-06-26T08:04:19.554Z"
   },
   {
    "duration": 4,
    "start_time": "2022-06-26T08:04:19.816Z"
   },
   {
    "duration": 10,
    "start_time": "2022-06-26T08:04:19.821Z"
   },
   {
    "duration": 8,
    "start_time": "2022-06-26T08:04:19.832Z"
   },
   {
    "duration": 19,
    "start_time": "2022-06-26T08:04:19.842Z"
   },
   {
    "duration": 190,
    "start_time": "2022-06-26T08:04:19.863Z"
   },
   {
    "duration": 103,
    "start_time": "2022-06-26T08:04:20.055Z"
   },
   {
    "duration": 4011,
    "start_time": "2022-06-26T08:04:20.160Z"
   },
   {
    "duration": 18,
    "start_time": "2022-06-26T08:04:24.173Z"
   },
   {
    "duration": 4,
    "start_time": "2022-06-26T08:04:24.192Z"
   },
   {
    "duration": 4,
    "start_time": "2022-06-26T08:04:24.197Z"
   },
   {
    "duration": 3831,
    "start_time": "2022-06-26T08:04:24.203Z"
   },
   {
    "duration": 1784,
    "start_time": "2022-06-26T08:04:28.036Z"
   },
   {
    "duration": 5,
    "start_time": "2022-06-26T08:04:29.822Z"
   },
   {
    "duration": 8,
    "start_time": "2022-06-26T08:04:29.828Z"
   },
   {
    "duration": 4,
    "start_time": "2022-06-26T08:04:29.838Z"
   },
   {
    "duration": 107,
    "start_time": "2022-06-26T08:08:40.173Z"
   },
   {
    "duration": 8,
    "start_time": "2022-06-26T08:08:48.781Z"
   },
   {
    "duration": 10,
    "start_time": "2022-06-26T08:09:34.309Z"
   },
   {
    "duration": 9,
    "start_time": "2022-06-26T08:09:37.733Z"
   },
   {
    "duration": 204,
    "start_time": "2022-06-26T08:10:05.308Z"
   },
   {
    "duration": 11,
    "start_time": "2022-06-26T08:10:37.821Z"
   },
   {
    "duration": 9,
    "start_time": "2022-06-26T08:10:41.869Z"
   },
   {
    "duration": 4,
    "start_time": "2022-06-26T08:11:03.972Z"
   },
   {
    "duration": 4,
    "start_time": "2022-06-26T08:11:08.886Z"
   },
   {
    "duration": 979,
    "start_time": "2022-06-26T08:11:16.901Z"
   },
   {
    "duration": 9,
    "start_time": "2022-06-26T08:11:52.342Z"
   },
   {
    "duration": 177,
    "start_time": "2022-06-26T08:11:56.693Z"
   },
   {
    "duration": 169,
    "start_time": "2022-06-26T08:12:09.861Z"
   },
   {
    "duration": 8,
    "start_time": "2022-06-26T08:15:37.703Z"
   },
   {
    "duration": 36,
    "start_time": "2022-06-26T08:16:13.973Z"
   },
   {
    "duration": 12163,
    "start_time": "2022-06-26T08:16:18.725Z"
   },
   {
    "duration": 48,
    "start_time": "2022-06-26T08:16:36.749Z"
   },
   {
    "duration": 9,
    "start_time": "2022-06-26T08:16:48.646Z"
   },
   {
    "duration": 185,
    "start_time": "2022-06-26T08:17:06.405Z"
   },
   {
    "duration": 243,
    "start_time": "2022-06-26T08:17:35.918Z"
   },
   {
    "duration": 13,
    "start_time": "2022-06-26T08:17:47.046Z"
   },
   {
    "duration": 16,
    "start_time": "2022-06-26T08:18:46.477Z"
   },
   {
    "duration": 200,
    "start_time": "2022-06-26T08:19:23.189Z"
   },
   {
    "duration": 209,
    "start_time": "2022-06-26T08:20:33.413Z"
   },
   {
    "duration": 163,
    "start_time": "2022-06-26T08:20:39.197Z"
   },
   {
    "duration": 189,
    "start_time": "2022-06-26T08:23:25.957Z"
   },
   {
    "duration": 194,
    "start_time": "2022-06-26T08:24:21.901Z"
   },
   {
    "duration": 198,
    "start_time": "2022-06-26T08:24:32.300Z"
   },
   {
    "duration": 311,
    "start_time": "2022-06-26T08:24:48.845Z"
   },
   {
    "duration": 182,
    "start_time": "2022-06-26T08:24:57.436Z"
   },
   {
    "duration": 190,
    "start_time": "2022-06-26T08:25:08.941Z"
   },
   {
    "duration": 58,
    "start_time": "2022-06-26T08:25:46.133Z"
   },
   {
    "duration": 186,
    "start_time": "2022-06-26T08:25:49.012Z"
   },
   {
    "duration": 194,
    "start_time": "2022-06-26T08:28:07.484Z"
   },
   {
    "duration": 191,
    "start_time": "2022-06-26T08:28:35.500Z"
   },
   {
    "duration": 192,
    "start_time": "2022-06-26T08:28:56.660Z"
   },
   {
    "duration": 178,
    "start_time": "2022-06-26T08:29:48.347Z"
   },
   {
    "duration": 196,
    "start_time": "2022-06-26T08:30:43.860Z"
   },
   {
    "duration": 192,
    "start_time": "2022-06-26T08:31:26.685Z"
   },
   {
    "duration": 196,
    "start_time": "2022-06-26T08:31:37.564Z"
   },
   {
    "duration": 187,
    "start_time": "2022-06-26T08:31:52.036Z"
   },
   {
    "duration": 194,
    "start_time": "2022-06-26T08:31:56.492Z"
   },
   {
    "duration": 1200,
    "start_time": "2022-06-26T08:34:54.372Z"
   },
   {
    "duration": 47,
    "start_time": "2022-06-26T08:34:55.574Z"
   },
   {
    "duration": 13,
    "start_time": "2022-06-26T08:34:55.625Z"
   },
   {
    "duration": 4,
    "start_time": "2022-06-26T08:34:55.639Z"
   },
   {
    "duration": 15,
    "start_time": "2022-06-26T08:34:55.645Z"
   },
   {
    "duration": 11,
    "start_time": "2022-06-26T08:34:55.662Z"
   },
   {
    "duration": 3,
    "start_time": "2022-06-26T08:34:55.675Z"
   },
   {
    "duration": 11,
    "start_time": "2022-06-26T08:34:55.679Z"
   },
   {
    "duration": 4,
    "start_time": "2022-06-26T08:34:55.692Z"
   },
   {
    "duration": 25,
    "start_time": "2022-06-26T08:34:55.697Z"
   },
   {
    "duration": 29,
    "start_time": "2022-06-26T08:34:55.723Z"
   },
   {
    "duration": 23,
    "start_time": "2022-06-26T08:34:55.753Z"
   },
   {
    "duration": 364,
    "start_time": "2022-06-26T08:34:55.777Z"
   },
   {
    "duration": 131,
    "start_time": "2022-06-26T08:34:56.142Z"
   },
   {
    "duration": 212,
    "start_time": "2022-06-26T08:34:56.275Z"
   },
   {
    "duration": 6,
    "start_time": "2022-06-26T08:34:56.488Z"
   },
   {
    "duration": 273,
    "start_time": "2022-06-26T08:34:56.495Z"
   },
   {
    "duration": 6,
    "start_time": "2022-06-26T08:34:56.769Z"
   },
   {
    "duration": 8,
    "start_time": "2022-06-26T08:34:56.776Z"
   },
   {
    "duration": 8,
    "start_time": "2022-06-26T08:34:56.785Z"
   },
   {
    "duration": 15,
    "start_time": "2022-06-26T08:34:56.795Z"
   },
   {
    "duration": 47,
    "start_time": "2022-06-26T08:34:56.812Z"
   },
   {
    "duration": 105,
    "start_time": "2022-06-26T08:34:56.952Z"
   },
   {
    "duration": 208,
    "start_time": "2022-06-26T08:34:57.059Z"
   },
   {
    "duration": 3974,
    "start_time": "2022-06-26T08:34:57.269Z"
   },
   {
    "duration": 23,
    "start_time": "2022-06-26T08:35:01.245Z"
   },
   {
    "duration": 11,
    "start_time": "2022-06-26T08:35:01.271Z"
   },
   {
    "duration": 214,
    "start_time": "2022-06-26T08:35:01.283Z"
   },
   {
    "duration": 3,
    "start_time": "2022-06-26T08:35:01.498Z"
   },
   {
    "duration": 4191,
    "start_time": "2022-06-26T08:35:01.503Z"
   },
   {
    "duration": 1827,
    "start_time": "2022-06-26T08:35:05.696Z"
   },
   {
    "duration": 7,
    "start_time": "2022-06-26T08:35:07.524Z"
   },
   {
    "duration": 221,
    "start_time": "2022-06-26T08:35:07.533Z"
   },
   {
    "duration": 6,
    "start_time": "2022-06-26T08:35:07.756Z"
   },
   {
    "duration": 7,
    "start_time": "2022-06-26T08:35:07.763Z"
   }
  ],
  "kernelspec": {
   "display_name": "Python 3 (ipykernel)",
   "language": "python",
   "name": "python3"
  },
  "language_info": {
   "codemirror_mode": {
    "name": "ipython",
    "version": 3
   },
   "file_extension": ".py",
   "mimetype": "text/x-python",
   "name": "python",
   "nbconvert_exporter": "python",
   "pygments_lexer": "ipython3",
   "version": "3.9.5"
  },
  "toc": {
   "base_numbering": 1,
   "nav_menu": {},
   "number_sections": true,
   "sideBar": true,
   "skip_h1_title": true,
   "title_cell": "Содержание",
   "title_sidebar": "Contents",
   "toc_cell": true,
   "toc_position": {},
   "toc_section_display": true,
   "toc_window_display": true
  }
 },
 "nbformat": 4,
 "nbformat_minor": 2
}
