{
 "cells": [
  {
   "cell_type": "markdown",
   "metadata": {},
   "source": [
    "# Определение закономерностей успешности игры для интернет-магазина"
   ]
  },
  {
   "cell_type": "markdown",
   "metadata": {},
   "source": [
    "Заказчик исследования - интернет-магазин \"Стримчик\", продающий по всему миру компьютерные игры. Нужно разобраться, какие закономерности имеются у успешных за последнее время игр. Входные данные от компании - исторические данные из открытых источников о продажах игр, их оценках и жанрах до 2016 года. Наша задача - по этим выборочным данным провести анализ и обнаружить закономерности успешности.\n",
    "\n",
    "Результаты исследования будут учтены при планировании рекламной компании на 2017 год.\n",
    "\n",
    "**Цель исследования**: выявить закономерности успешности игры за последнее время\n",
    "\n",
    "Ход исследования:\n",
    "\n",
    "Входные данные от компании - статистика продаж игр различных жанров и годов до 2016 по трём регионам. О качестве данных ничего неизвестно, поэтому понадобится обзор данных. Полученные данные будут проверены на возможные ошибки или дубликаты и, в случае необходимости, исправлены. После этого составим портрет пользователя каждого региона и далее проведём исследовательский анализ данных. В завершении разберёмся со статистическими гипотезами по данным. \n",
    "\n",
    "Таким образом, исследование пройдёт в 5 этапов:\n",
    "\n",
    "* 1. Изучение данных из файлов.\n",
    "* 2. Предобработка данных.\n",
    "* 3. Исследовательский анализ данных.\n",
    "* 4. Составление портретов пользователей.\n",
    "* 5. Статистический анализ данных."
   ]
  },
  {
   "cell_type": "markdown",
   "metadata": {},
   "source": [
    "## Изучение данных из файлов"
   ]
  },
  {
   "cell_type": "markdown",
   "metadata": {},
   "source": [
    "Перед тем, как приступать к изучению данных из файлов, импортируем все необходимые для текущего исследования библиотеки:"
   ]
  },
  {
   "cell_type": "code",
   "execution_count": 1,
   "metadata": {},
   "outputs": [],
   "source": [
    "import pandas as pd\n",
    "import numpy as np\n",
    "from scipy import stats as st"
   ]
  },
  {
   "cell_type": "markdown",
   "metadata": {},
   "source": [
    "Прочитаем полученные данные и сохраним их в таблице `df`, после чего выведем на экран таблицу:"
   ]
  },
  {
   "cell_type": "code",
   "execution_count": 2,
   "metadata": {},
   "outputs": [
    {
     "data": {
      "text/html": [
       "<div>\n",
       "<style scoped>\n",
       "    .dataframe tbody tr th:only-of-type {\n",
       "        vertical-align: middle;\n",
       "    }\n",
       "\n",
       "    .dataframe tbody tr th {\n",
       "        vertical-align: top;\n",
       "    }\n",
       "\n",
       "    .dataframe thead th {\n",
       "        text-align: right;\n",
       "    }\n",
       "</style>\n",
       "<table border=\"1\" class=\"dataframe\">\n",
       "  <thead>\n",
       "    <tr style=\"text-align: right;\">\n",
       "      <th></th>\n",
       "      <th>Name</th>\n",
       "      <th>Platform</th>\n",
       "      <th>Year_of_Release</th>\n",
       "      <th>Genre</th>\n",
       "      <th>NA_sales</th>\n",
       "      <th>EU_sales</th>\n",
       "      <th>JP_sales</th>\n",
       "      <th>Other_sales</th>\n",
       "      <th>Critic_Score</th>\n",
       "      <th>User_Score</th>\n",
       "      <th>Rating</th>\n",
       "    </tr>\n",
       "  </thead>\n",
       "  <tbody>\n",
       "    <tr>\n",
       "      <td>0</td>\n",
       "      <td>Wii Sports</td>\n",
       "      <td>Wii</td>\n",
       "      <td>2006.0</td>\n",
       "      <td>Sports</td>\n",
       "      <td>41.36</td>\n",
       "      <td>28.96</td>\n",
       "      <td>3.77</td>\n",
       "      <td>8.45</td>\n",
       "      <td>76.0</td>\n",
       "      <td>8</td>\n",
       "      <td>E</td>\n",
       "    </tr>\n",
       "    <tr>\n",
       "      <td>1</td>\n",
       "      <td>Super Mario Bros.</td>\n",
       "      <td>NES</td>\n",
       "      <td>1985.0</td>\n",
       "      <td>Platform</td>\n",
       "      <td>29.08</td>\n",
       "      <td>3.58</td>\n",
       "      <td>6.81</td>\n",
       "      <td>0.77</td>\n",
       "      <td>NaN</td>\n",
       "      <td>NaN</td>\n",
       "      <td>NaN</td>\n",
       "    </tr>\n",
       "    <tr>\n",
       "      <td>2</td>\n",
       "      <td>Mario Kart Wii</td>\n",
       "      <td>Wii</td>\n",
       "      <td>2008.0</td>\n",
       "      <td>Racing</td>\n",
       "      <td>15.68</td>\n",
       "      <td>12.76</td>\n",
       "      <td>3.79</td>\n",
       "      <td>3.29</td>\n",
       "      <td>82.0</td>\n",
       "      <td>8.3</td>\n",
       "      <td>E</td>\n",
       "    </tr>\n",
       "    <tr>\n",
       "      <td>3</td>\n",
       "      <td>Wii Sports Resort</td>\n",
       "      <td>Wii</td>\n",
       "      <td>2009.0</td>\n",
       "      <td>Sports</td>\n",
       "      <td>15.61</td>\n",
       "      <td>10.93</td>\n",
       "      <td>3.28</td>\n",
       "      <td>2.95</td>\n",
       "      <td>80.0</td>\n",
       "      <td>8</td>\n",
       "      <td>E</td>\n",
       "    </tr>\n",
       "    <tr>\n",
       "      <td>4</td>\n",
       "      <td>Pokemon Red/Pokemon Blue</td>\n",
       "      <td>GB</td>\n",
       "      <td>1996.0</td>\n",
       "      <td>Role-Playing</td>\n",
       "      <td>11.27</td>\n",
       "      <td>8.89</td>\n",
       "      <td>10.22</td>\n",
       "      <td>1.00</td>\n",
       "      <td>NaN</td>\n",
       "      <td>NaN</td>\n",
       "      <td>NaN</td>\n",
       "    </tr>\n",
       "    <tr>\n",
       "      <td>...</td>\n",
       "      <td>...</td>\n",
       "      <td>...</td>\n",
       "      <td>...</td>\n",
       "      <td>...</td>\n",
       "      <td>...</td>\n",
       "      <td>...</td>\n",
       "      <td>...</td>\n",
       "      <td>...</td>\n",
       "      <td>...</td>\n",
       "      <td>...</td>\n",
       "      <td>...</td>\n",
       "    </tr>\n",
       "    <tr>\n",
       "      <td>16710</td>\n",
       "      <td>Samurai Warriors: Sanada Maru</td>\n",
       "      <td>PS3</td>\n",
       "      <td>2016.0</td>\n",
       "      <td>Action</td>\n",
       "      <td>0.00</td>\n",
       "      <td>0.00</td>\n",
       "      <td>0.01</td>\n",
       "      <td>0.00</td>\n",
       "      <td>NaN</td>\n",
       "      <td>NaN</td>\n",
       "      <td>NaN</td>\n",
       "    </tr>\n",
       "    <tr>\n",
       "      <td>16711</td>\n",
       "      <td>LMA Manager 2007</td>\n",
       "      <td>X360</td>\n",
       "      <td>2006.0</td>\n",
       "      <td>Sports</td>\n",
       "      <td>0.00</td>\n",
       "      <td>0.01</td>\n",
       "      <td>0.00</td>\n",
       "      <td>0.00</td>\n",
       "      <td>NaN</td>\n",
       "      <td>NaN</td>\n",
       "      <td>NaN</td>\n",
       "    </tr>\n",
       "    <tr>\n",
       "      <td>16712</td>\n",
       "      <td>Haitaka no Psychedelica</td>\n",
       "      <td>PSV</td>\n",
       "      <td>2016.0</td>\n",
       "      <td>Adventure</td>\n",
       "      <td>0.00</td>\n",
       "      <td>0.00</td>\n",
       "      <td>0.01</td>\n",
       "      <td>0.00</td>\n",
       "      <td>NaN</td>\n",
       "      <td>NaN</td>\n",
       "      <td>NaN</td>\n",
       "    </tr>\n",
       "    <tr>\n",
       "      <td>16713</td>\n",
       "      <td>Spirits &amp; Spells</td>\n",
       "      <td>GBA</td>\n",
       "      <td>2003.0</td>\n",
       "      <td>Platform</td>\n",
       "      <td>0.01</td>\n",
       "      <td>0.00</td>\n",
       "      <td>0.00</td>\n",
       "      <td>0.00</td>\n",
       "      <td>NaN</td>\n",
       "      <td>NaN</td>\n",
       "      <td>NaN</td>\n",
       "    </tr>\n",
       "    <tr>\n",
       "      <td>16714</td>\n",
       "      <td>Winning Post 8 2016</td>\n",
       "      <td>PSV</td>\n",
       "      <td>2016.0</td>\n",
       "      <td>Simulation</td>\n",
       "      <td>0.00</td>\n",
       "      <td>0.00</td>\n",
       "      <td>0.01</td>\n",
       "      <td>0.00</td>\n",
       "      <td>NaN</td>\n",
       "      <td>NaN</td>\n",
       "      <td>NaN</td>\n",
       "    </tr>\n",
       "  </tbody>\n",
       "</table>\n",
       "<p>16715 rows × 11 columns</p>\n",
       "</div>"
      ],
      "text/plain": [
       "                                Name Platform  Year_of_Release         Genre  \\\n",
       "0                         Wii Sports      Wii           2006.0        Sports   \n",
       "1                  Super Mario Bros.      NES           1985.0      Platform   \n",
       "2                     Mario Kart Wii      Wii           2008.0        Racing   \n",
       "3                  Wii Sports Resort      Wii           2009.0        Sports   \n",
       "4           Pokemon Red/Pokemon Blue       GB           1996.0  Role-Playing   \n",
       "...                              ...      ...              ...           ...   \n",
       "16710  Samurai Warriors: Sanada Maru      PS3           2016.0        Action   \n",
       "16711               LMA Manager 2007     X360           2006.0        Sports   \n",
       "16712        Haitaka no Psychedelica      PSV           2016.0     Adventure   \n",
       "16713               Spirits & Spells      GBA           2003.0      Platform   \n",
       "16714            Winning Post 8 2016      PSV           2016.0    Simulation   \n",
       "\n",
       "       NA_sales  EU_sales  JP_sales  Other_sales  Critic_Score User_Score  \\\n",
       "0         41.36     28.96      3.77         8.45          76.0          8   \n",
       "1         29.08      3.58      6.81         0.77           NaN        NaN   \n",
       "2         15.68     12.76      3.79         3.29          82.0        8.3   \n",
       "3         15.61     10.93      3.28         2.95          80.0          8   \n",
       "4         11.27      8.89     10.22         1.00           NaN        NaN   \n",
       "...         ...       ...       ...          ...           ...        ...   \n",
       "16710      0.00      0.00      0.01         0.00           NaN        NaN   \n",
       "16711      0.00      0.01      0.00         0.00           NaN        NaN   \n",
       "16712      0.00      0.00      0.01         0.00           NaN        NaN   \n",
       "16713      0.01      0.00      0.00         0.00           NaN        NaN   \n",
       "16714      0.00      0.00      0.01         0.00           NaN        NaN   \n",
       "\n",
       "      Rating  \n",
       "0          E  \n",
       "1        NaN  \n",
       "2          E  \n",
       "3          E  \n",
       "4        NaN  \n",
       "...      ...  \n",
       "16710    NaN  \n",
       "16711    NaN  \n",
       "16712    NaN  \n",
       "16713    NaN  \n",
       "16714    NaN  \n",
       "\n",
       "[16715 rows x 11 columns]"
      ]
     },
     "execution_count": 2,
     "metadata": {},
     "output_type": "execute_result"
    }
   ],
   "source": [
    "df = pd.read_csv('/datasets/games.csv')\n",
    "df"
   ]
  },
  {
   "cell_type": "markdown",
   "metadata": {},
   "source": [
    "Видно, что в таблице 16715 строк и 11 столбцов. Получим общую информацию о таблице:"
   ]
  },
  {
   "cell_type": "code",
   "execution_count": 3,
   "metadata": {},
   "outputs": [
    {
     "name": "stdout",
     "output_type": "stream",
     "text": [
      "<class 'pandas.core.frame.DataFrame'>\n",
      "RangeIndex: 16715 entries, 0 to 16714\n",
      "Data columns (total 11 columns):\n",
      "Name               16713 non-null object\n",
      "Platform           16715 non-null object\n",
      "Year_of_Release    16446 non-null float64\n",
      "Genre              16713 non-null object\n",
      "NA_sales           16715 non-null float64\n",
      "EU_sales           16715 non-null float64\n",
      "JP_sales           16715 non-null float64\n",
      "Other_sales        16715 non-null float64\n",
      "Critic_Score       8137 non-null float64\n",
      "User_Score         10014 non-null object\n",
      "Rating             9949 non-null object\n",
      "dtypes: float64(6), object(5)\n",
      "memory usage: 1.4+ MB\n"
     ]
    }
   ],
   "source": [
    "df.info()"
   ]
  },
  {
   "cell_type": "markdown",
   "metadata": {},
   "source": [
    "В нашей таблице представлено 11 столбцов, 6 из которых имеют тип данных float, 5 - object. Обнаружились пропуски: в столбцах `Name`, `Year_of_Release`, `Genre`, `Critic_Score`, `User_Score`, `Rating`. Придётся разобраться с ними на этапе предобработки данных. Некоторые столбцы также имеют некорректный для них тип данных, что возникло, в том числе, из-за пропущенных значений: `User_Score`, `Year_of_Release`. Также названия самих столбцов представлены с верхним регистром, хотя лучше в `Python` использовать нижний. Согласно документации к данным:\n",
    "\n",
    "* `Name` — название игры\n",
    "* `Platform` — платформа\n",
    "* `Year_of_Release` — год выпуска\n",
    "* `Genre` — жанр игры\n",
    "* `NA_sales` — продажи в Северной Америке (миллионы проданных копий)\n",
    "* `EU_sales` — продажи в Европе (миллионы проданных копий)\n",
    "* `JP_sales` — продажи в Японии (миллионы проданных копий)\n",
    "* `Other_sales` — продажи в других странах (миллионы проданных копий)\n",
    "* `Critic_Score` — оценка критиков (максимум 100)\n",
    "* `User_Score` — оценка пользователей (максимум 10)\n",
    "* `Rating` — рейтинг от организации ESRB (англ. Entertainment Software Rating Board). Эта ассоциация определяет рейтинг компьютерных игр и присваивает им подходящую возрастную категорию."
   ]
  },
  {
   "cell_type": "markdown",
   "metadata": {},
   "source": [
    "### Вывод"
   ]
  },
  {
   "cell_type": "markdown",
   "metadata": {},
   "source": [
    "В таблице имеются данные об играх, их жанрах, годах выпуска, рейтингах и оценках. Предварительно можно утверждать, что данных достаточно для выявления закономерностей успешных игр. С другой стороны, в данных имеются проблемы, с которыми предстоит разобраться на этапе предобработки данных, а именно: названия столбцов в верхнем регистре, большое количество пропусков в различных столбцах, некорректные типы данных. Можем предположить, что пропуски появились из-за того, что какие-то игры не получили ни одной оценки, либо они не были представлены на сайтах, где эти оценивания происходят. \n",
    "\n",
    "Чтобы двигаться дальше, необходимо устранить проблемы в данных."
   ]
  },
  {
   "cell_type": "markdown",
   "metadata": {},
   "source": [
    "## Предобработка данных"
   ]
  },
  {
   "cell_type": "markdown",
   "metadata": {},
   "source": [
    "Сначала заменим названия столбцов на названия с нижним регистром:"
   ]
  },
  {
   "cell_type": "code",
   "execution_count": 4,
   "metadata": {},
   "outputs": [
    {
     "data": {
      "text/plain": [
       "Index(['name', 'platform', 'year_of_release', 'genre', 'na_sales', 'eu_sales',\n",
       "       'jp_sales', 'other_sales', 'critic_score', 'user_score', 'rating'],\n",
       "      dtype='object')"
      ]
     },
     "execution_count": 4,
     "metadata": {},
     "output_type": "execute_result"
    }
   ],
   "source": [
    "df.columns = df.columns.str.lower()\n",
    "df.columns"
   ]
  },
  {
   "cell_type": "markdown",
   "metadata": {},
   "source": [
    "Теперь названия столбцов точно соответствуют языку программирования. \n",
    "\n",
    "Посчитаем суммарные продажи игр во всех регионах и запишем их в отдельный столбец. Это пригодится нам, чтобы оценивать полные сборы той или иной игры, а не только её показатели в отдельных регионах."
   ]
  },
  {
   "cell_type": "code",
   "execution_count": 5,
   "metadata": {},
   "outputs": [],
   "source": [
    "df['total_sales'] = df['na_sales'] + df['eu_sales'] + df['jp_sales'] + df['other_sales']"
   ]
  },
  {
   "cell_type": "markdown",
   "metadata": {},
   "source": [
    "Данный столбец ещё понадобится нам этапе исследовательского анализа, а пока можем переходить к обработке пропущенных значений."
   ]
  },
  {
   "cell_type": "markdown",
   "metadata": {},
   "source": [
    "### Обработка пропущенных значений"
   ]
  },
  {
   "cell_type": "markdown",
   "metadata": {},
   "source": [
    "У нас есть по 2 пропуска в столбцах `name` и `genre`. Предположим, что они связаны друг с другом. Выведем на экран те строки, где есть пропуск в обоих столбцах: "
   ]
  },
  {
   "cell_type": "code",
   "execution_count": 6,
   "metadata": {},
   "outputs": [
    {
     "data": {
      "text/html": [
       "<div>\n",
       "<style scoped>\n",
       "    .dataframe tbody tr th:only-of-type {\n",
       "        vertical-align: middle;\n",
       "    }\n",
       "\n",
       "    .dataframe tbody tr th {\n",
       "        vertical-align: top;\n",
       "    }\n",
       "\n",
       "    .dataframe thead th {\n",
       "        text-align: right;\n",
       "    }\n",
       "</style>\n",
       "<table border=\"1\" class=\"dataframe\">\n",
       "  <thead>\n",
       "    <tr style=\"text-align: right;\">\n",
       "      <th></th>\n",
       "      <th>name</th>\n",
       "      <th>platform</th>\n",
       "      <th>year_of_release</th>\n",
       "      <th>genre</th>\n",
       "      <th>na_sales</th>\n",
       "      <th>eu_sales</th>\n",
       "      <th>jp_sales</th>\n",
       "      <th>other_sales</th>\n",
       "      <th>critic_score</th>\n",
       "      <th>user_score</th>\n",
       "      <th>rating</th>\n",
       "      <th>total_sales</th>\n",
       "    </tr>\n",
       "  </thead>\n",
       "  <tbody>\n",
       "    <tr>\n",
       "      <td>659</td>\n",
       "      <td>NaN</td>\n",
       "      <td>GEN</td>\n",
       "      <td>1993.0</td>\n",
       "      <td>NaN</td>\n",
       "      <td>1.78</td>\n",
       "      <td>0.53</td>\n",
       "      <td>0.00</td>\n",
       "      <td>0.08</td>\n",
       "      <td>NaN</td>\n",
       "      <td>NaN</td>\n",
       "      <td>NaN</td>\n",
       "      <td>2.39</td>\n",
       "    </tr>\n",
       "    <tr>\n",
       "      <td>14244</td>\n",
       "      <td>NaN</td>\n",
       "      <td>GEN</td>\n",
       "      <td>1993.0</td>\n",
       "      <td>NaN</td>\n",
       "      <td>0.00</td>\n",
       "      <td>0.00</td>\n",
       "      <td>0.03</td>\n",
       "      <td>0.00</td>\n",
       "      <td>NaN</td>\n",
       "      <td>NaN</td>\n",
       "      <td>NaN</td>\n",
       "      <td>0.03</td>\n",
       "    </tr>\n",
       "  </tbody>\n",
       "</table>\n",
       "</div>"
      ],
      "text/plain": [
       "      name platform  year_of_release genre  na_sales  eu_sales  jp_sales  \\\n",
       "659    NaN      GEN           1993.0   NaN      1.78      0.53      0.00   \n",
       "14244  NaN      GEN           1993.0   NaN      0.00      0.00      0.03   \n",
       "\n",
       "       other_sales  critic_score user_score rating  total_sales  \n",
       "659           0.08           NaN        NaN    NaN         2.39  \n",
       "14244         0.00           NaN        NaN    NaN         0.03  "
      ]
     },
     "execution_count": 6,
     "metadata": {},
     "output_type": "execute_result"
    }
   ],
   "source": [
    "#выводим на экран строки с пропусками в столбцах `name` и `genre` одновременно\n",
    "df[df['name'].isnull() & df['genre'].isnull()]"
   ]
  },
  {
   "cell_type": "markdown",
   "metadata": {},
   "source": [
    "Как и предполагалось, 2 этих пропуска взаимосвязаны друг с другом. Более того, они не имеют никаких значений по оценкам и рейтингу. Заполнять название и жанр игры не представляется возможным, поэтому исключим строки из нашей таблицы. Потеря двух строк никак не повлияет на качество исследования:"
   ]
  },
  {
   "cell_type": "code",
   "execution_count": 7,
   "metadata": {},
   "outputs": [],
   "source": [
    "#исключаем из таблицы строки с пропущенным `name`, чтобы убрать лишь ненужные строки\n",
    "df = df.dropna(subset=['name']).reset_index(drop=True)"
   ]
  },
  {
   "cell_type": "markdown",
   "metadata": {},
   "source": [
    "Изучим пропуски в столбце `year_of_release`. Посмотрим, можно ли вывести какие-то закономерности по этим пропускам. Для этого выведем данные таблицы с пропущенными значениями в столбце `year_of_release`:"
   ]
  },
  {
   "cell_type": "code",
   "execution_count": 8,
   "metadata": {},
   "outputs": [
    {
     "data": {
      "text/html": [
       "<div>\n",
       "<style scoped>\n",
       "    .dataframe tbody tr th:only-of-type {\n",
       "        vertical-align: middle;\n",
       "    }\n",
       "\n",
       "    .dataframe tbody tr th {\n",
       "        vertical-align: top;\n",
       "    }\n",
       "\n",
       "    .dataframe thead th {\n",
       "        text-align: right;\n",
       "    }\n",
       "</style>\n",
       "<table border=\"1\" class=\"dataframe\">\n",
       "  <thead>\n",
       "    <tr style=\"text-align: right;\">\n",
       "      <th></th>\n",
       "      <th>name</th>\n",
       "      <th>platform</th>\n",
       "      <th>year_of_release</th>\n",
       "      <th>genre</th>\n",
       "      <th>na_sales</th>\n",
       "      <th>eu_sales</th>\n",
       "      <th>jp_sales</th>\n",
       "      <th>other_sales</th>\n",
       "      <th>critic_score</th>\n",
       "      <th>user_score</th>\n",
       "      <th>rating</th>\n",
       "      <th>total_sales</th>\n",
       "    </tr>\n",
       "  </thead>\n",
       "  <tbody>\n",
       "    <tr>\n",
       "      <td>183</td>\n",
       "      <td>Madden NFL 2004</td>\n",
       "      <td>PS2</td>\n",
       "      <td>NaN</td>\n",
       "      <td>Sports</td>\n",
       "      <td>4.26</td>\n",
       "      <td>0.26</td>\n",
       "      <td>0.01</td>\n",
       "      <td>0.71</td>\n",
       "      <td>94.0</td>\n",
       "      <td>8.5</td>\n",
       "      <td>E</td>\n",
       "      <td>5.24</td>\n",
       "    </tr>\n",
       "    <tr>\n",
       "      <td>377</td>\n",
       "      <td>FIFA Soccer 2004</td>\n",
       "      <td>PS2</td>\n",
       "      <td>NaN</td>\n",
       "      <td>Sports</td>\n",
       "      <td>0.59</td>\n",
       "      <td>2.36</td>\n",
       "      <td>0.04</td>\n",
       "      <td>0.51</td>\n",
       "      <td>84.0</td>\n",
       "      <td>6.4</td>\n",
       "      <td>E</td>\n",
       "      <td>3.50</td>\n",
       "    </tr>\n",
       "    <tr>\n",
       "      <td>456</td>\n",
       "      <td>LEGO Batman: The Videogame</td>\n",
       "      <td>Wii</td>\n",
       "      <td>NaN</td>\n",
       "      <td>Action</td>\n",
       "      <td>1.80</td>\n",
       "      <td>0.97</td>\n",
       "      <td>0.00</td>\n",
       "      <td>0.29</td>\n",
       "      <td>74.0</td>\n",
       "      <td>7.9</td>\n",
       "      <td>E10+</td>\n",
       "      <td>3.06</td>\n",
       "    </tr>\n",
       "    <tr>\n",
       "      <td>475</td>\n",
       "      <td>wwe Smackdown vs. Raw 2006</td>\n",
       "      <td>PS2</td>\n",
       "      <td>NaN</td>\n",
       "      <td>Fighting</td>\n",
       "      <td>1.57</td>\n",
       "      <td>1.02</td>\n",
       "      <td>0.00</td>\n",
       "      <td>0.41</td>\n",
       "      <td>NaN</td>\n",
       "      <td>NaN</td>\n",
       "      <td>NaN</td>\n",
       "      <td>3.00</td>\n",
       "    </tr>\n",
       "    <tr>\n",
       "      <td>609</td>\n",
       "      <td>Space Invaders</td>\n",
       "      <td>2600</td>\n",
       "      <td>NaN</td>\n",
       "      <td>Shooter</td>\n",
       "      <td>2.36</td>\n",
       "      <td>0.14</td>\n",
       "      <td>0.00</td>\n",
       "      <td>0.03</td>\n",
       "      <td>NaN</td>\n",
       "      <td>NaN</td>\n",
       "      <td>NaN</td>\n",
       "      <td>2.53</td>\n",
       "    </tr>\n",
       "    <tr>\n",
       "      <td>...</td>\n",
       "      <td>...</td>\n",
       "      <td>...</td>\n",
       "      <td>...</td>\n",
       "      <td>...</td>\n",
       "      <td>...</td>\n",
       "      <td>...</td>\n",
       "      <td>...</td>\n",
       "      <td>...</td>\n",
       "      <td>...</td>\n",
       "      <td>...</td>\n",
       "      <td>...</td>\n",
       "      <td>...</td>\n",
       "    </tr>\n",
       "    <tr>\n",
       "      <td>16371</td>\n",
       "      <td>PDC World Championship Darts 2008</td>\n",
       "      <td>PSP</td>\n",
       "      <td>NaN</td>\n",
       "      <td>Sports</td>\n",
       "      <td>0.01</td>\n",
       "      <td>0.00</td>\n",
       "      <td>0.00</td>\n",
       "      <td>0.00</td>\n",
       "      <td>43.0</td>\n",
       "      <td>tbd</td>\n",
       "      <td>E10+</td>\n",
       "      <td>0.01</td>\n",
       "    </tr>\n",
       "    <tr>\n",
       "      <td>16403</td>\n",
       "      <td>Freaky Flyers</td>\n",
       "      <td>GC</td>\n",
       "      <td>NaN</td>\n",
       "      <td>Racing</td>\n",
       "      <td>0.01</td>\n",
       "      <td>0.00</td>\n",
       "      <td>0.00</td>\n",
       "      <td>0.00</td>\n",
       "      <td>69.0</td>\n",
       "      <td>6.5</td>\n",
       "      <td>T</td>\n",
       "      <td>0.01</td>\n",
       "    </tr>\n",
       "    <tr>\n",
       "      <td>16446</td>\n",
       "      <td>Inversion</td>\n",
       "      <td>PC</td>\n",
       "      <td>NaN</td>\n",
       "      <td>Shooter</td>\n",
       "      <td>0.01</td>\n",
       "      <td>0.00</td>\n",
       "      <td>0.00</td>\n",
       "      <td>0.00</td>\n",
       "      <td>59.0</td>\n",
       "      <td>6.7</td>\n",
       "      <td>M</td>\n",
       "      <td>0.01</td>\n",
       "    </tr>\n",
       "    <tr>\n",
       "      <td>16456</td>\n",
       "      <td>Hakuouki: Shinsengumi Kitan</td>\n",
       "      <td>PS3</td>\n",
       "      <td>NaN</td>\n",
       "      <td>Adventure</td>\n",
       "      <td>0.01</td>\n",
       "      <td>0.00</td>\n",
       "      <td>0.00</td>\n",
       "      <td>0.00</td>\n",
       "      <td>NaN</td>\n",
       "      <td>NaN</td>\n",
       "      <td>NaN</td>\n",
       "      <td>0.01</td>\n",
       "    </tr>\n",
       "    <tr>\n",
       "      <td>16520</td>\n",
       "      <td>Virtua Quest</td>\n",
       "      <td>GC</td>\n",
       "      <td>NaN</td>\n",
       "      <td>Role-Playing</td>\n",
       "      <td>0.01</td>\n",
       "      <td>0.00</td>\n",
       "      <td>0.00</td>\n",
       "      <td>0.00</td>\n",
       "      <td>55.0</td>\n",
       "      <td>5.5</td>\n",
       "      <td>T</td>\n",
       "      <td>0.01</td>\n",
       "    </tr>\n",
       "  </tbody>\n",
       "</table>\n",
       "<p>269 rows × 12 columns</p>\n",
       "</div>"
      ],
      "text/plain": [
       "                                    name platform  year_of_release  \\\n",
       "183                      Madden NFL 2004      PS2              NaN   \n",
       "377                     FIFA Soccer 2004      PS2              NaN   \n",
       "456           LEGO Batman: The Videogame      Wii              NaN   \n",
       "475           wwe Smackdown vs. Raw 2006      PS2              NaN   \n",
       "609                       Space Invaders     2600              NaN   \n",
       "...                                  ...      ...              ...   \n",
       "16371  PDC World Championship Darts 2008      PSP              NaN   \n",
       "16403                      Freaky Flyers       GC              NaN   \n",
       "16446                          Inversion       PC              NaN   \n",
       "16456        Hakuouki: Shinsengumi Kitan      PS3              NaN   \n",
       "16520                       Virtua Quest       GC              NaN   \n",
       "\n",
       "              genre  na_sales  eu_sales  jp_sales  other_sales  critic_score  \\\n",
       "183          Sports      4.26      0.26      0.01         0.71          94.0   \n",
       "377          Sports      0.59      2.36      0.04         0.51          84.0   \n",
       "456          Action      1.80      0.97      0.00         0.29          74.0   \n",
       "475        Fighting      1.57      1.02      0.00         0.41           NaN   \n",
       "609         Shooter      2.36      0.14      0.00         0.03           NaN   \n",
       "...             ...       ...       ...       ...          ...           ...   \n",
       "16371        Sports      0.01      0.00      0.00         0.00          43.0   \n",
       "16403        Racing      0.01      0.00      0.00         0.00          69.0   \n",
       "16446       Shooter      0.01      0.00      0.00         0.00          59.0   \n",
       "16456     Adventure      0.01      0.00      0.00         0.00           NaN   \n",
       "16520  Role-Playing      0.01      0.00      0.00         0.00          55.0   \n",
       "\n",
       "      user_score rating  total_sales  \n",
       "183          8.5      E         5.24  \n",
       "377          6.4      E         3.50  \n",
       "456          7.9   E10+         3.06  \n",
       "475          NaN    NaN         3.00  \n",
       "609          NaN    NaN         2.53  \n",
       "...          ...    ...          ...  \n",
       "16371        tbd   E10+         0.01  \n",
       "16403        6.5      T         0.01  \n",
       "16446        6.7      M         0.01  \n",
       "16456        NaN    NaN         0.01  \n",
       "16520        5.5      T         0.01  \n",
       "\n",
       "[269 rows x 12 columns]"
      ]
     },
     "execution_count": 8,
     "metadata": {},
     "output_type": "execute_result"
    }
   ],
   "source": [
    "df[df['year_of_release'].isna()]"
   ]
  },
  {
   "cell_type": "markdown",
   "metadata": {},
   "source": [
    "Обнаруживаем, что, в целом, игры можно было бы категоризировать по платформе. На некоторые платформы игры выходили только в определённые периоды времени, поэтому их даты релизов не будут сильно отставать друг от друга. Следовательно, на основании этого мы сможем избавиться от пропусков. Для начала сгруппируем наши игры по платформам и для каждой посчитаем средний год выхода:"
   ]
  },
  {
   "cell_type": "code",
   "execution_count": 9,
   "metadata": {
    "scrolled": true
   },
   "outputs": [
    {
     "data": {
      "text/plain": [
       "platform\n",
       "2600    1982\n",
       "3DO     1994\n",
       "3DS     2013\n",
       "DC      1999\n",
       "DS      2008\n",
       "GB      1995\n",
       "GBA     2003\n",
       "GC      2003\n",
       "GEN     1993\n",
       "GG      1992\n",
       "N64     1998\n",
       "NES     1987\n",
       "NG      1994\n",
       "PC      2008\n",
       "PCFX    1996\n",
       "PS      1998\n",
       "PS2     2004\n",
       "PS3     2010\n",
       "PS4     2015\n",
       "PSP     2008\n",
       "PSV     2014\n",
       "SAT     1996\n",
       "SCD     1993\n",
       "SNES    1993\n",
       "TG16    1995\n",
       "WS      2000\n",
       "Wii     2008\n",
       "WiiU    2013\n",
       "X360    2009\n",
       "XB      2003\n",
       "XOne    2014\n",
       "Name: year_of_release, dtype: int64"
      ]
     },
     "execution_count": 9,
     "metadata": {},
     "output_type": "execute_result"
    }
   ],
   "source": [
    "year_means = df.groupby('platform')['year_of_release'].mean().astype('int')\n",
    "year_means"
   ]
  },
  {
   "cell_type": "markdown",
   "metadata": {},
   "source": [
    "Платформ накопилось достаточно много. Теперь заполним наши пропуски рассчитанными средними значениями. Для этого напишем функцию и вызовем её:"
   ]
  },
  {
   "cell_type": "code",
   "execution_count": 10,
   "metadata": {},
   "outputs": [],
   "source": [
    "#создаём функцию по заполнению пропущенных годов выпуска по сгруппированным средним для платформ и вызываем её\n",
    "def func_year(row):\n",
    "    if pd.isna(row['year_of_release']):\n",
    "        return year_means.loc[row['platform']]\n",
    "    return row['year_of_release']\n",
    " \n",
    "df['year_of_release'] = df.apply(func_year, axis=1)"
   ]
  },
  {
   "cell_type": "markdown",
   "metadata": {},
   "source": [
    "Теперь необходимо обработать пропуски в столбцах `critic_score`, `user_score`. Пропуски в этих столбцах можно объяснить тем, что игры практически не продавались, либо вышли так рано, что сайтов с отзывами ещё не существовало. Никакие заполнения этих столбцов не могут дать даже приблизительную оценку сообщества и экспертов, потому что даже любимые жанры порой получают худшие оценки. Будет лучше эти пропуски заполнить значениями `-1`, чтобы не оставлять NaN и в то же время не судить о качестве игр за других. Заполнение -1 поможет нам позже понять, что эти игры не имеют какого-либо рейтинга:"
   ]
  },
  {
   "cell_type": "code",
   "execution_count": 11,
   "metadata": {},
   "outputs": [],
   "source": [
    "df['critic_score'] = df['critic_score'].fillna(-1)\n",
    "df['user_score'] = df['user_score'].fillna(-1)"
   ]
  },
  {
   "cell_type": "markdown",
   "metadata": {},
   "source": [
    "Пропуски остались лишь в столбце `rating`, где можно узнать о возрастных ограничениях игры. Судя по специфики переменной, заполнить самостоятельно мы её вновь не сможем, однако можно пометить неизвестные значения, чтобы при необходимости исследовать лишь те игры, для которых это ограничение известно. На место всех пропусков в данном столбце поставим `unknown`:"
   ]
  },
  {
   "cell_type": "code",
   "execution_count": 12,
   "metadata": {},
   "outputs": [],
   "source": [
    "df['rating'] = df['rating'].fillna('unknown')"
   ]
  },
  {
   "cell_type": "markdown",
   "metadata": {},
   "source": [
    "Пропусков не осталось, однако всё же не все проблемы устранены. В столбце `user_score` есть особое обозначение `tbd`, означающее, что рейтинг игры будет определён позднее. Посмотрим на такие игры:"
   ]
  },
  {
   "cell_type": "code",
   "execution_count": 13,
   "metadata": {
    "scrolled": true
   },
   "outputs": [
    {
     "data": {
      "text/html": [
       "<div>\n",
       "<style scoped>\n",
       "    .dataframe tbody tr th:only-of-type {\n",
       "        vertical-align: middle;\n",
       "    }\n",
       "\n",
       "    .dataframe tbody tr th {\n",
       "        vertical-align: top;\n",
       "    }\n",
       "\n",
       "    .dataframe thead th {\n",
       "        text-align: right;\n",
       "    }\n",
       "</style>\n",
       "<table border=\"1\" class=\"dataframe\">\n",
       "  <thead>\n",
       "    <tr style=\"text-align: right;\">\n",
       "      <th></th>\n",
       "      <th>name</th>\n",
       "      <th>platform</th>\n",
       "      <th>year_of_release</th>\n",
       "      <th>genre</th>\n",
       "      <th>na_sales</th>\n",
       "      <th>eu_sales</th>\n",
       "      <th>jp_sales</th>\n",
       "      <th>other_sales</th>\n",
       "      <th>critic_score</th>\n",
       "      <th>user_score</th>\n",
       "      <th>rating</th>\n",
       "      <th>total_sales</th>\n",
       "    </tr>\n",
       "  </thead>\n",
       "  <tbody>\n",
       "    <tr>\n",
       "      <td>119</td>\n",
       "      <td>Zumba Fitness</td>\n",
       "      <td>Wii</td>\n",
       "      <td>2010.0</td>\n",
       "      <td>Sports</td>\n",
       "      <td>3.45</td>\n",
       "      <td>2.59</td>\n",
       "      <td>0.0</td>\n",
       "      <td>0.66</td>\n",
       "      <td>-1.0</td>\n",
       "      <td>tbd</td>\n",
       "      <td>E</td>\n",
       "      <td>6.70</td>\n",
       "    </tr>\n",
       "    <tr>\n",
       "      <td>301</td>\n",
       "      <td>Namco Museum: 50th Anniversary</td>\n",
       "      <td>PS2</td>\n",
       "      <td>2005.0</td>\n",
       "      <td>Misc</td>\n",
       "      <td>2.08</td>\n",
       "      <td>1.35</td>\n",
       "      <td>0.0</td>\n",
       "      <td>0.54</td>\n",
       "      <td>61.0</td>\n",
       "      <td>tbd</td>\n",
       "      <td>E10+</td>\n",
       "      <td>3.97</td>\n",
       "    </tr>\n",
       "    <tr>\n",
       "      <td>520</td>\n",
       "      <td>Zumba Fitness 2</td>\n",
       "      <td>Wii</td>\n",
       "      <td>2011.0</td>\n",
       "      <td>Sports</td>\n",
       "      <td>1.51</td>\n",
       "      <td>1.03</td>\n",
       "      <td>0.0</td>\n",
       "      <td>0.27</td>\n",
       "      <td>-1.0</td>\n",
       "      <td>tbd</td>\n",
       "      <td>T</td>\n",
       "      <td>2.81</td>\n",
       "    </tr>\n",
       "    <tr>\n",
       "      <td>645</td>\n",
       "      <td>uDraw Studio</td>\n",
       "      <td>Wii</td>\n",
       "      <td>2010.0</td>\n",
       "      <td>Misc</td>\n",
       "      <td>1.65</td>\n",
       "      <td>0.57</td>\n",
       "      <td>0.0</td>\n",
       "      <td>0.20</td>\n",
       "      <td>71.0</td>\n",
       "      <td>tbd</td>\n",
       "      <td>E</td>\n",
       "      <td>2.42</td>\n",
       "    </tr>\n",
       "    <tr>\n",
       "      <td>657</td>\n",
       "      <td>Frogger's Adventures: Temple of the Frog</td>\n",
       "      <td>GBA</td>\n",
       "      <td>2003.0</td>\n",
       "      <td>Adventure</td>\n",
       "      <td>2.15</td>\n",
       "      <td>0.18</td>\n",
       "      <td>0.0</td>\n",
       "      <td>0.07</td>\n",
       "      <td>73.0</td>\n",
       "      <td>tbd</td>\n",
       "      <td>E</td>\n",
       "      <td>2.40</td>\n",
       "    </tr>\n",
       "    <tr>\n",
       "      <td>...</td>\n",
       "      <td>...</td>\n",
       "      <td>...</td>\n",
       "      <td>...</td>\n",
       "      <td>...</td>\n",
       "      <td>...</td>\n",
       "      <td>...</td>\n",
       "      <td>...</td>\n",
       "      <td>...</td>\n",
       "      <td>...</td>\n",
       "      <td>...</td>\n",
       "      <td>...</td>\n",
       "      <td>...</td>\n",
       "    </tr>\n",
       "    <tr>\n",
       "      <td>16693</td>\n",
       "      <td>Planet Monsters</td>\n",
       "      <td>GBA</td>\n",
       "      <td>2001.0</td>\n",
       "      <td>Action</td>\n",
       "      <td>0.01</td>\n",
       "      <td>0.00</td>\n",
       "      <td>0.0</td>\n",
       "      <td>0.00</td>\n",
       "      <td>67.0</td>\n",
       "      <td>tbd</td>\n",
       "      <td>E</td>\n",
       "      <td>0.01</td>\n",
       "    </tr>\n",
       "    <tr>\n",
       "      <td>16695</td>\n",
       "      <td>Bust-A-Move 3000</td>\n",
       "      <td>GC</td>\n",
       "      <td>2003.0</td>\n",
       "      <td>Puzzle</td>\n",
       "      <td>0.01</td>\n",
       "      <td>0.00</td>\n",
       "      <td>0.0</td>\n",
       "      <td>0.00</td>\n",
       "      <td>53.0</td>\n",
       "      <td>tbd</td>\n",
       "      <td>E</td>\n",
       "      <td>0.01</td>\n",
       "    </tr>\n",
       "    <tr>\n",
       "      <td>16696</td>\n",
       "      <td>Mega Brain Boost</td>\n",
       "      <td>DS</td>\n",
       "      <td>2008.0</td>\n",
       "      <td>Puzzle</td>\n",
       "      <td>0.01</td>\n",
       "      <td>0.00</td>\n",
       "      <td>0.0</td>\n",
       "      <td>0.00</td>\n",
       "      <td>48.0</td>\n",
       "      <td>tbd</td>\n",
       "      <td>E</td>\n",
       "      <td>0.01</td>\n",
       "    </tr>\n",
       "    <tr>\n",
       "      <td>16702</td>\n",
       "      <td>Plushees</td>\n",
       "      <td>DS</td>\n",
       "      <td>2008.0</td>\n",
       "      <td>Simulation</td>\n",
       "      <td>0.01</td>\n",
       "      <td>0.00</td>\n",
       "      <td>0.0</td>\n",
       "      <td>0.00</td>\n",
       "      <td>-1.0</td>\n",
       "      <td>tbd</td>\n",
       "      <td>E</td>\n",
       "      <td>0.01</td>\n",
       "    </tr>\n",
       "    <tr>\n",
       "      <td>16704</td>\n",
       "      <td>Men in Black II: Alien Escape</td>\n",
       "      <td>GC</td>\n",
       "      <td>2003.0</td>\n",
       "      <td>Shooter</td>\n",
       "      <td>0.01</td>\n",
       "      <td>0.00</td>\n",
       "      <td>0.0</td>\n",
       "      <td>0.00</td>\n",
       "      <td>-1.0</td>\n",
       "      <td>tbd</td>\n",
       "      <td>T</td>\n",
       "      <td>0.01</td>\n",
       "    </tr>\n",
       "  </tbody>\n",
       "</table>\n",
       "<p>2424 rows × 12 columns</p>\n",
       "</div>"
      ],
      "text/plain": [
       "                                           name platform  year_of_release  \\\n",
       "119                               Zumba Fitness      Wii           2010.0   \n",
       "301              Namco Museum: 50th Anniversary      PS2           2005.0   \n",
       "520                             Zumba Fitness 2      Wii           2011.0   \n",
       "645                                uDraw Studio      Wii           2010.0   \n",
       "657    Frogger's Adventures: Temple of the Frog      GBA           2003.0   \n",
       "...                                         ...      ...              ...   \n",
       "16693                           Planet Monsters      GBA           2001.0   \n",
       "16695                          Bust-A-Move 3000       GC           2003.0   \n",
       "16696                          Mega Brain Boost       DS           2008.0   \n",
       "16702                                  Plushees       DS           2008.0   \n",
       "16704             Men in Black II: Alien Escape       GC           2003.0   \n",
       "\n",
       "            genre  na_sales  eu_sales  jp_sales  other_sales  critic_score  \\\n",
       "119        Sports      3.45      2.59       0.0         0.66          -1.0   \n",
       "301          Misc      2.08      1.35       0.0         0.54          61.0   \n",
       "520        Sports      1.51      1.03       0.0         0.27          -1.0   \n",
       "645          Misc      1.65      0.57       0.0         0.20          71.0   \n",
       "657     Adventure      2.15      0.18       0.0         0.07          73.0   \n",
       "...           ...       ...       ...       ...          ...           ...   \n",
       "16693      Action      0.01      0.00       0.0         0.00          67.0   \n",
       "16695      Puzzle      0.01      0.00       0.0         0.00          53.0   \n",
       "16696      Puzzle      0.01      0.00       0.0         0.00          48.0   \n",
       "16702  Simulation      0.01      0.00       0.0         0.00          -1.0   \n",
       "16704     Shooter      0.01      0.00       0.0         0.00          -1.0   \n",
       "\n",
       "      user_score rating  total_sales  \n",
       "119          tbd      E         6.70  \n",
       "301          tbd   E10+         3.97  \n",
       "520          tbd      T         2.81  \n",
       "645          tbd      E         2.42  \n",
       "657          tbd      E         2.40  \n",
       "...          ...    ...          ...  \n",
       "16693        tbd      E         0.01  \n",
       "16695        tbd      E         0.01  \n",
       "16696        tbd      E         0.01  \n",
       "16702        tbd      E         0.01  \n",
       "16704        tbd      T         0.01  \n",
       "\n",
       "[2424 rows x 12 columns]"
      ]
     },
     "execution_count": 13,
     "metadata": {},
     "output_type": "execute_result"
    }
   ],
   "source": [
    "df[df['user_score'] == 'tbd']"
   ]
  },
  {
   "cell_type": "markdown",
   "metadata": {},
   "source": [
    "2424 игры - достаточно большое количество, поэтому исключать их никак нельзя. Более того, у некоторых из них уже идут активные продажи и имеются оценки критиков. Нам важно отличать эти игры от тех, которые никакого рейтинга не имеют вовсе, поэтому заменим эти значения на нули. Таким образом, мы поймём, что этот рейтинг может скоро измениться:"
   ]
  },
  {
   "cell_type": "code",
   "execution_count": 14,
   "metadata": {},
   "outputs": [],
   "source": [
    "df['user_score'] = df['user_score'].replace({'tbd': 0})"
   ]
  },
  {
   "cell_type": "markdown",
   "metadata": {},
   "source": [
    "### Замена типов данных"
   ]
  },
  {
   "cell_type": "markdown",
   "metadata": {},
   "source": [
    "После обработки всех пропусков можем изменять типы данных там, где это необходимо. Как уже отмечалось ранее, это нужно сделать для столбцов `year_of_release` и `user_score`. Начнём с первого, где необходимо перевести года из `float` в `int`:"
   ]
  },
  {
   "cell_type": "code",
   "execution_count": 15,
   "metadata": {},
   "outputs": [],
   "source": [
    "df['year_of_release'] = df['year_of_release'].astype('int')"
   ]
  },
  {
   "cell_type": "markdown",
   "metadata": {},
   "source": [
    "Теперь заменим тип данных во втором столбце. Из-за обозначений `tbd` тип данных был `object`, но, так как теперь мы заменили эту аббревиатуру нулями, мы можем смело перевести столбец во `float`:"
   ]
  },
  {
   "cell_type": "code",
   "execution_count": 16,
   "metadata": {},
   "outputs": [],
   "source": [
    "df['user_score'] = df['user_score'].astype('float')"
   ]
  },
  {
   "cell_type": "markdown",
   "metadata": {},
   "source": [
    "### Вывод"
   ]
  },
  {
   "cell_type": "markdown",
   "metadata": {},
   "source": [
    "На этапе предобработки данных мы устранили все проблемы с данными, которые могли исказить исследование:\n",
    "\n",
    "* Привели названия столбцов в нижний регистр\n",
    "* Обработали все пропуски в таблице\n",
    "* Заменили типы данных в столбцах `year_of_release` и `user_score`\n",
    "\n",
    "При этом, про пропуски стоит упомянуть, что исключений из таблицы совершилось всего 2 - для игр без имени. Пропуски по рейтингу были заполнены -1, чтобы далее помнить об отсутствии рейтинга у этих игр, а если игра лишь ожидает свой рейтинг, то пока она будет иметь в этом столбце 0. Пропущенные года игр были проставлены при помощи категоризации платформ. \n",
    "\n",
    "Далее можем переходить к исследовательскому анализу данных."
   ]
  },
  {
   "cell_type": "markdown",
   "metadata": {},
   "source": [
    "## Исследовательский анализ данных"
   ]
  },
  {
   "cell_type": "markdown",
   "metadata": {},
   "source": [
    "Посмотрим, сколько игр выпускалось в различные годы. Данная статистика поможет нам понять, какие года наиболее важно рассматривать."
   ]
  },
  {
   "cell_type": "code",
   "execution_count": 17,
   "metadata": {},
   "outputs": [
    {
     "data": {
      "image/png": "[encoded data removed]",
      "text/plain": [
       "<Figure size 432x288 with 1 Axes>"
      ]
     },
     "metadata": {
      "needs_background": "light"
     },
     "output_type": "display_data"
    }
   ],
   "source": [
    "#группируем таблицу по году выхода игры и считаем количество игр в каждом году, после чего строим линейный график\n",
    "plt = pd.pivot_table(df, index='year_of_release', values='name', aggfunc='count') \\\n",
    "                    .plot(kind='line', legend=False, grid=True, title='Statistics of sold copies of games')"
   ]
  },
  {
   "cell_type": "markdown",
   "metadata": {},
   "source": [
    "По графику видно, что между 1980 и 1990 годами игр практически не выходило. Значит, скорее всего любая вышедшая игра сразу должна была иметь хорошие показатели, ведь это всё было совсем новинкой для людей. Яркий подъём индустрии намечается в 1990 и далее. Пик же находится примерно в 2008 году, после чего несколько лет количество игр уменьшается. Быть может, разработчики стали делать меньше игр, но сильно качественнее предыдущих, чтобы выделиться в индустрии и привлечь пользователя. \n",
    "\n",
    "Посмотрим, сколько игр вышло до 1990 года:"
   ]
  },
  {
   "cell_type": "code",
   "execution_count": 18,
   "metadata": {},
   "outputs": [
    {
     "name": "stdout",
     "output_type": "stream",
     "text": [
      "До 1990 игр вышло: 222\n"
     ]
    }
   ],
   "source": [
    "print(\"До 1990 игр вышло:\", df.query('year_of_release < 1990')['name'].count())"
   ]
  },
  {
   "cell_type": "markdown",
   "metadata": {},
   "source": [
    "222 игры. Это чуть более 1% наших данных. Мы можем отбросить эти игры, чтобы они не искажали результаты нашего исследования."
   ]
  },
  {
   "cell_type": "code",
   "execution_count": 19,
   "metadata": {},
   "outputs": [],
   "source": [
    "df = df.query('year_of_release >= 1990 ')"
   ]
  },
  {
   "cell_type": "markdown",
   "metadata": {},
   "source": [
    "Посмотрим, как менялись продажи по платформам. Для этого воспользуемся созданным столбцом со суммарными продажи: "
   ]
  },
  {
   "cell_type": "code",
   "execution_count": 20,
   "metadata": {},
   "outputs": [
    {
     "data": {
      "image/png": "[encoded data removed]",
      "text/plain": [
       "<Figure size 432x288 with 1 Axes>"
      ]
     },
     "metadata": {
      "needs_background": "light"
     },
     "output_type": "display_data"
    }
   ],
   "source": [
    "#группируем таблицу по платформе игр и считаем продажи для каждой платформы, после чего строим столбчатую диаграмму\n",
    "plt = pd.pivot_table(df, index='platform', values='total_sales', aggfunc='sum') \\\n",
    "                    .plot(kind='bar', grid=True, title='Statistics of sold copies of games by platform')"
   ]
  },
  {
   "cell_type": "markdown",
   "metadata": {},
   "source": [
    "Обнаруживаем, игры на каких платформах наиболее часто покупались. Большая часть платформ имеет средние показатели, однако есть и такие, которые практически ничего не успели продать своим пользователям. Однако, нам важнее обратить внимание на лидеров. Подробнее рассмотрим платформы, где было продано более 800 миллионов копий игр суммарно: `DS`, `PS2`, `PS3`, `Wii`, `X360`. Для каждой построим распределение по годам:"
   ]
  },
  {
   "cell_type": "code",
   "execution_count": 21,
   "metadata": {},
   "outputs": [
    {
     "data": {
      "image/png": "[encoded data removed]",
      "text/plain": [
       "<Figure size 432x288 with 1 Axes>"
      ]
     },
     "metadata": {
      "needs_background": "light"
     },
     "output_type": "display_data"
    }
   ],
   "source": [
    "plt = pd.pivot_table(df.query('platform == \"DS\"'), index='year_of_release', values='total_sales', aggfunc='sum') \\\n",
    "                     .plot(kind='line', legend=False, grid=True, title='Statistics of sold copies of games by the DS platform')"
   ]
  },
  {
   "cell_type": "code",
   "execution_count": 22,
   "metadata": {},
   "outputs": [
    {
     "data": {
      "image/png": "[encoded data removed]",
      "text/plain": [
       "<Figure size 432x288 with 1 Axes>"
      ]
     },
     "metadata": {
      "needs_background": "light"
     },
     "output_type": "display_data"
    }
   ],
   "source": [
    "plt = pd.pivot_table(df.query('platform == \"PS2\"'), index='year_of_release', values='total_sales', aggfunc='sum') \\\n",
    "                     .plot(kind='line', legend=False, grid=True, title='Statistics of sold copies of games by the PS2 platform')"
   ]
  },
  {
   "cell_type": "code",
   "execution_count": 23,
   "metadata": {},
   "outputs": [
    {
     "data": {
      "image/png": "[encoded data removed]",
      "text/plain": [
       "<Figure size 432x288 with 1 Axes>"
      ]
     },
     "metadata": {
      "needs_background": "light"
     },
     "output_type": "display_data"
    }
   ],
   "source": [
    "plt = pd.pivot_table(df.query('platform == \"PS3\"'), index='year_of_release', values='total_sales', aggfunc='sum') \\\n",
    "                     .plot(kind='line', legend=False, grid=True, title='Statistics of sold copies of games by the PS3 platform')"
   ]
  },
  {
   "cell_type": "code",
   "execution_count": 24,
   "metadata": {},
   "outputs": [
    {
     "data": {
      "image/png": "[encoded data removed]",
      "text/plain": [
       "<Figure size 432x288 with 1 Axes>"
      ]
     },
     "metadata": {
      "needs_background": "light"
     },
     "output_type": "display_data"
    }
   ],
   "source": [
    "plt = pd.pivot_table(df.query('platform == \"Wii\"'), index='year_of_release', values='total_sales', aggfunc='sum') \\\n",
    "                     .plot(kind='line', legend=False, grid=True, title='Statistics of sold copies of games by the Wii platform')"
   ]
  },
  {
   "cell_type": "code",
   "execution_count": 25,
   "metadata": {},
   "outputs": [
    {
     "data": {
      "image/png": "[encoded data removed]",
      "text/plain": [
       "<Figure size 432x288 with 1 Axes>"
      ]
     },
     "metadata": {
      "needs_background": "light"
     },
     "output_type": "display_data"
    }
   ],
   "source": [
    "plt = pd.pivot_table(df.query('platform == \"X360\"'), index='year_of_release', values='total_sales', aggfunc='sum') \\\n",
    "                    .plot(kind='line', legend=False, grid=True, title='Statistics of sold copies of games by the X360 platform')"
   ]
  },
  {
   "cell_type": "markdown",
   "metadata": {},
   "source": [
    "Из этих диаграмм видно, что срок жизни платформы, в среднем, составляет около 10 лет, однако лучше ограничивать это 6 годами, так как в первые года платформы только развиваются, а в последние, что видно, довольно часто \"доживают\" свои дни.\n",
    "\n",
    "Нам необходимо построить прогноз на 2017 год, поэтому мы должны использовать лишь самую актуальную информацию. Мы уже исключили из таблицы данные до 1990 года, однако этого мало. Мы обнаружили, что после 2008 года в индустрии начинается новый период, вероятно связанный с опорой производителей не на количество, а на качество. Также срок жизни платформ показывает, что платформы наиболее активно живут около 6-10 лет. Тогда для наших оценок ограничим наши данные периодом от 2010 года и после, чтобы получить наиболее объективные оценки по 2017 году: "
   ]
  },
  {
   "cell_type": "code",
   "execution_count": 26,
   "metadata": {},
   "outputs": [],
   "source": [
    "df_actual = df.query('year_of_release >= 2010')"
   ]
  },
  {
   "cell_type": "code",
   "execution_count": 27,
   "metadata": {},
   "outputs": [
    {
     "name": "stdout",
     "output_type": "stream",
     "text": [
      "Количество игр после изменений таблицы: 5311\n"
     ]
    }
   ],
   "source": [
    "print(\"Количество игр после изменений таблицы:\", df_actual['name'].count())"
   ]
  },
  {
   "cell_type": "markdown",
   "metadata": {},
   "source": [
    "Теперь рассмотрим, какие платформы на актуальных данных лидируют по продажам, какие растут или падают:"
   ]
  },
  {
   "cell_type": "code",
   "execution_count": 28,
   "metadata": {},
   "outputs": [
    {
     "data": {
      "image/png": "[encoded data removed]",
      "text/plain": [
       "<Figure size 432x288 with 1 Axes>"
      ]
     },
     "metadata": {
      "needs_background": "light"
     },
     "output_type": "display_data"
    }
   ],
   "source": [
    "#группируем данные по годам и платформам и считаем их общие продажи по годам, на основании чего строим линейные графики в одном\n",
    "plt = pd.pivot_table(df_actual, index='year_of_release', columns='platform', values='total_sales', aggfunc='sum') \\\n",
    "        .plot(kind='line', legend=True, grid=True, title='Statistics of sold copies of games by all platforms for 2010-2016')"
   ]
  },
  {
   "cell_type": "markdown",
   "metadata": {},
   "source": [
    "График получается очень насыщенный, но основная необходимая информация на нём представлена. Из графика видно, что по продажам за последние года лидируют `PS3`, `PS4`, `XOne`, `X360`. Особо активный рост замечен у `PS4` и `XOne`, когда остальные платформы либо держатся на одном уровне, либо их продажи падают.\n",
    "\n",
    "Рассмотрим подробнее две эти платформы и построим по ним \"ящики с усами\". Начнём с `PS4`:"
   ]
  },
  {
   "cell_type": "code",
   "execution_count": 29,
   "metadata": {},
   "outputs": [
    {
     "data": {
      "image/png": "[encoded data removed]",
      "text/plain": [
       "<Figure size 432x288 with 1 Axes>"
      ]
     },
     "metadata": {
      "needs_background": "light"
     },
     "output_type": "display_data"
    }
   ],
   "source": [
    "boxplot = df_actual.query('platform == \"PS4\"').boxplot(column='total_sales')"
   ]
  },
  {
   "cell_type": "markdown",
   "metadata": {},
   "source": [
    "Ящик показывает, что большая часть игр в среднем не достигает отметки даже в 1 миллион копий, а основная масса игр, которые делают платформу столь растущей, это выбросы. Для игровой индустрии это обычная ситуация, ведь действительно интересных и увлекательных для пользователей игр не так много, а порой даже пара из них может привлечь пользователя на новую платформу. Посмотрим, похожая ли ситуация у `XOne`:"
   ]
  },
  {
   "cell_type": "code",
   "execution_count": 53,
   "metadata": {},
   "outputs": [
    {
     "data": {
      "image/png": "[encoded data removed]",
      "text/plain": [
       "<Figure size 432x288 with 1 Axes>"
      ]
     },
     "metadata": {
      "needs_background": "light"
     },
     "output_type": "display_data"
    }
   ],
   "source": [
    "boxplot = df_actual.query('platform == \"XOne\"').boxplot(column='total_sales')"
   ]
  },
  {
   "cell_type": "markdown",
   "metadata": {},
   "source": [
    "И вновь та же ситуация. С другой стороны, тут нет выбросов по 12 и более миллионов, как на `PS4`. Вероятно, это связано с играми, которые эксклюзивно выходили лишь на одну платформу. Проверим, так ли это на самом деле:"
   ]
  },
  {
   "cell_type": "code",
   "execution_count": 31,
   "metadata": {},
   "outputs": [
    {
     "data": {
      "text/html": [
       "<div>\n",
       "<style scoped>\n",
       "    .dataframe tbody tr th:only-of-type {\n",
       "        vertical-align: middle;\n",
       "    }\n",
       "\n",
       "    .dataframe tbody tr th {\n",
       "        vertical-align: top;\n",
       "    }\n",
       "\n",
       "    .dataframe thead th {\n",
       "        text-align: right;\n",
       "    }\n",
       "</style>\n",
       "<table border=\"1\" class=\"dataframe\">\n",
       "  <thead>\n",
       "    <tr style=\"text-align: right;\">\n",
       "      <th></th>\n",
       "      <th>name</th>\n",
       "      <th>platform</th>\n",
       "      <th>year_of_release</th>\n",
       "      <th>genre</th>\n",
       "      <th>na_sales</th>\n",
       "      <th>eu_sales</th>\n",
       "      <th>jp_sales</th>\n",
       "      <th>other_sales</th>\n",
       "      <th>critic_score</th>\n",
       "      <th>user_score</th>\n",
       "      <th>rating</th>\n",
       "      <th>total_sales</th>\n",
       "    </tr>\n",
       "  </thead>\n",
       "  <tbody>\n",
       "    <tr>\n",
       "      <td>31</td>\n",
       "      <td>Call of Duty: Black Ops 3</td>\n",
       "      <td>PS4</td>\n",
       "      <td>2015</td>\n",
       "      <td>Shooter</td>\n",
       "      <td>6.03</td>\n",
       "      <td>5.86</td>\n",
       "      <td>0.36</td>\n",
       "      <td>2.38</td>\n",
       "      <td>-1.0</td>\n",
       "      <td>-1.0</td>\n",
       "      <td>unknown</td>\n",
       "      <td>14.63</td>\n",
       "    </tr>\n",
       "    <tr>\n",
       "      <td>42</td>\n",
       "      <td>Grand Theft Auto V</td>\n",
       "      <td>PS4</td>\n",
       "      <td>2014</td>\n",
       "      <td>Action</td>\n",
       "      <td>3.96</td>\n",
       "      <td>6.31</td>\n",
       "      <td>0.38</td>\n",
       "      <td>1.97</td>\n",
       "      <td>97.0</td>\n",
       "      <td>8.3</td>\n",
       "      <td>M</td>\n",
       "      <td>12.62</td>\n",
       "    </tr>\n",
       "  </tbody>\n",
       "</table>\n",
       "</div>"
      ],
      "text/plain": [
       "                         name platform  year_of_release    genre  na_sales  \\\n",
       "31  Call of Duty: Black Ops 3      PS4             2015  Shooter      6.03   \n",
       "42         Grand Theft Auto V      PS4             2014   Action      3.96   \n",
       "\n",
       "    eu_sales  jp_sales  other_sales  critic_score  user_score   rating  \\\n",
       "31      5.86      0.36         2.38          -1.0        -1.0  unknown   \n",
       "42      6.31      0.38         1.97          97.0         8.3        M   \n",
       "\n",
       "    total_sales  \n",
       "31        14.63  \n",
       "42        12.62  "
      ]
     },
     "execution_count": 31,
     "metadata": {},
     "output_type": "execute_result"
    }
   ],
   "source": [
    "df_actual.query('platform == \"PS4\" and total_sales > 12')"
   ]
  },
  {
   "cell_type": "markdown",
   "metadata": {},
   "source": [
    "Результат отрицательный. Эти игры сегодня представлены на обоих платформах, но именно на `PS4` они добились больших результатов. Возможно, на момент выгрузки игры были исключительно на `PS4`. \n",
    "\n",
    "Посмотрим, как влияют на продажи внутри одной платформы отзывы пользователей и критиков. Для этого построим диаграммы рассеяния для платформы `XOne` по тем играм, где рейтинг выше 0:"
   ]
  },
  {
   "cell_type": "code",
   "execution_count": 50,
   "metadata": {},
   "outputs": [
    {
     "data": {
      "image/png": "[encoded data removed]",
      "text/plain": [
       "<Figure size 432x288 with 1 Axes>"
      ]
     },
     "metadata": {
      "needs_background": "light"
     },
     "output_type": "display_data"
    }
   ],
   "source": [
    "df_actual_scatter = df_actual.query('user_score > 0 and critic_score > 0 and platform == \"XOne\"')\n",
    "plt = df_actual_scatter.plot.scatter(x='user_score', y='total_sales', c='green', title='The impact of user score on sales')"
   ]
  },
  {
   "cell_type": "code",
   "execution_count": 51,
   "metadata": {},
   "outputs": [
    {
     "data": {
      "image/png": "[encoded data removed]",
      "text/plain": [
       "<Figure size 432x288 with 1 Axes>"
      ]
     },
     "metadata": {
      "needs_background": "light"
     },
     "output_type": "display_data"
    }
   ],
   "source": [
    "plt = df_actual_scatter.plot.scatter(x='critic_score', y='total_sales', c='green', title='The impact of critic score on sales')"
   ]
  },
  {
   "cell_type": "markdown",
   "metadata": {},
   "source": [
    "По графикам четких зависимостей вывести не представляется возможным. Наблюдается множество игр, у которых имеется рейтинг, но их продажи практически нулевые. Это связано с тем, что даже одна оценка может сформировать рейтинг игры, но возможно, что игру оценил лишь узкий круг людей, которые были в ней заинтересованы, а рекламная кампания игры не позволила ей достичь высоких продаж. Проверим предположения, рассчитав для этих статистик корреляции:"
   ]
  },
  {
   "cell_type": "code",
   "execution_count": 34,
   "metadata": {},
   "outputs": [
    {
     "name": "stdout",
     "output_type": "stream",
     "text": [
      "Корреляция оценки пользователей и продаж игры: -0.09400318326920852\n",
      "Корреляция оценки критиков и продаж игры: 0.41042203561296375\n"
     ]
    }
   ],
   "source": [
    "print(\"Корреляция оценки пользователей и продаж игры:\", df_actual_scatter['user_score'].corr(df_actual_scatter['total_sales']))\n",
    "print(\"Корреляция оценки критиков и продаж игры:\", df_actual_scatter['critic_score'].corr(df_actual_scatter['total_sales']))"
   ]
  },
  {
   "cell_type": "markdown",
   "metadata": {},
   "source": [
    "Корреляция оценки пользователей и продаж игры получается слишком маленькой, чтобы говорить о наличии существенной зависимости, а вот оценка критиков действительно влияет положительно на продажу. Чем выше оценки критиков, тем больших продаж достигает игра. Данная корреляция имеет среднюю силу влияния и составляет примерно 0.41. \n",
    "\n",
    "Посмотрим на общее распределение игр по жанрам:"
   ]
  },
  {
   "cell_type": "code",
   "execution_count": 55,
   "metadata": {
    "scrolled": false
   },
   "outputs": [
    {
     "data": {
      "image/png": "[encoded data removed]",
      "text/plain": [
       "<Figure size 432x288 with 1 Axes>"
      ]
     },
     "metadata": {
      "needs_background": "light"
     },
     "output_type": "display_data"
    }
   ],
   "source": [
    "plt = df_actual['genre'].value_counts().plot(kind='bar', grid=True, title='Distribution of games by genre')"
   ]
  },
  {
   "cell_type": "markdown",
   "metadata": {},
   "source": [
    "На первом месте расположились игры жанра экшен с существенным отрывом от остальных жанров. Это значит, что игры чаще всего выпускают в жанре экшен - более 1400, когда на втором месте жанр спорт с менее 600. Посмотрим, будет ли ситуация схожей, если мы оценим не просто распределение жанров игр, а также их прибыль:"
   ]
  },
  {
   "cell_type": "code",
   "execution_count": 56,
   "metadata": {},
   "outputs": [
    {
     "data": {
      "image/png": "[encoded data removed]",
      "text/plain": [
       "<Figure size 432x288 with 1 Axes>"
      ]
     },
     "metadata": {
      "needs_background": "light"
     },
     "output_type": "display_data"
    }
   ],
   "source": [
    "plt = pd.pivot_table(df_actual, index='genre', values='total_sales', aggfunc='sum') \\\n",
    "        .sort_values(by='total_sales', ascending=False).plot(kind='bar', grid=True, title='Revenue of games by genre')"
   ]
  },
  {
   "cell_type": "markdown",
   "metadata": {},
   "source": [
    "И вновь экшен на первом месте, но отрыв уже не такой большой. Экшен в сумме имеет продажи чуть менее 700 миллионов копий, когда на втором месте шутеры - чуть менее 500, хотя количество выпускаемых шутеров существенно меньше, чем игр экшена. Значит, шутеров хоть и меньше, но на 1 шутер приходится покупок больше, чем на 1 экшен. Наиболее низкие продажи имеют паззлы, хоть и выпускают их также совсем мало. "
   ]
  },
  {
   "cell_type": "markdown",
   "metadata": {},
   "source": [
    "### Вывод"
   ]
  },
  {
   "cell_type": "markdown",
   "metadata": {},
   "source": [
    "Исследовательский анализ данных продемонстрировал, какие платформы в последнее время особо активно развиваются: `PS4`, `XOne`. С учётом специфики времени жизни платформы можем сделать вывод, что именно они наиболее хорошо подходят под продажи для 2017-ого года. У пользователей наиболее популярными жанрами являются экшен (чуть менее 700 миллионов продаж) и шутер (менее 500 миллионов продаж), поэтому, в первую очередь, стоит делать упор именно на эти жанры. Также выяснилось, что рейтинг критиков связан с количеством продаж игры, о чём говорит корреляция 0.4. Следовательно, если игра получит от критиков хорошие отзывы, у неё автоматически больше шансов на хорошую окупаемость.\n",
    "\n",
    "Далее необходимо составить портрет пользователей отдельных регионов, чтобы рекламная компания соответствовала своей аудитории."
   ]
  },
  {
   "cell_type": "markdown",
   "metadata": {},
   "source": [
    "## Составление портретов пользователей"
   ]
  },
  {
   "cell_type": "markdown",
   "metadata": {},
   "source": [
    "В  наших данных есть статистика продаж игры в трёх регионов - NA (Северная Америка), EU (Европа) и JP (Япония). Скорее всего, предпочтения и интересы пользователей меняются в зависимости от их места жительства, поэтому необходимо разобраться с регионами отдельно. Для начала посмотрим, как различается популярность платформ по регионам и выделим топ-5 для каждого:"
   ]
  },
  {
   "cell_type": "code",
   "execution_count": 37,
   "metadata": {},
   "outputs": [
    {
     "data": {
      "image/png": "[encoded data removed]",
      "text/plain": [
       "<Figure size 432x288 with 1 Axes>"
      ]
     },
     "metadata": {
      "needs_background": "light"
     },
     "output_type": "display_data"
    }
   ],
   "source": [
    "#группируем данные по платформе, считаем суммы продаж по платформам по NA, после чего строим диаграмму по топ-5\n",
    "plt = df_actual.groupby(by='platform').agg({'na_sales':'sum'}).sort_values(by='na_sales', ascending=False).head(5) \\\n",
    "                                .plot(kind='bar', grid=True, title='The popularity of platforms in NA')"
   ]
  },
  {
   "cell_type": "code",
   "execution_count": 38,
   "metadata": {},
   "outputs": [
    {
     "data": {
      "image/png": "[encoded data removed]",
      "text/plain": [
       "<Figure size 432x288 with 1 Axes>"
      ]
     },
     "metadata": {
      "needs_background": "light"
     },
     "output_type": "display_data"
    }
   ],
   "source": [
    "#группируем данные по платформе, считаем суммы продаж по платформам по EU, после чего строим диаграмму по топ-5\n",
    "plt = df_actual.groupby(by='platform').agg({'eu_sales':'sum'}).sort_values(by='eu_sales', ascending=False).head(5) \\\n",
    "                                .plot(kind='bar', grid=True, title='The popularity of platforms in EU')"
   ]
  },
  {
   "cell_type": "code",
   "execution_count": 39,
   "metadata": {},
   "outputs": [
    {
     "data": {
      "image/png": "[encoded data removed]",
      "text/plain": [
       "<Figure size 432x288 with 1 Axes>"
      ]
     },
     "metadata": {
      "needs_background": "light"
     },
     "output_type": "display_data"
    }
   ],
   "source": [
    "#группируем данные по платформе, считаем суммы продаж по платформам по JP, после чего строим диаграмму по топ-5\n",
    "plt = df_actual.groupby(by='platform').agg({'jp_sales':'sum'}).sort_values(by='jp_sales', ascending=False).head(5) \\\n",
    "                                .plot(kind='bar', grid=True, title='The popularity of platforms in JP')"
   ]
  },
  {
   "cell_type": "markdown",
   "metadata": {},
   "source": [
    "Между регионами хоть и существуют отличия, есть некоторые общности. Например, `PS3` или `PS4` встречается везде в топ-5. Значит, эту платформу любят пользователи всех регионов. В Европе `PS3` даже находится на первом месте. В Северной Америке это место занимает `X360`. Видимо, это можно считать прекрасной иллюстрацией войны двух компаний. Если Вы выпускаете игру под аудиторию Европы, Вам может лучше подойти выпуск, в первую очередь, под PS, а если в Северной Америке - под XOne. Особое внимание стоит уделить тому, что в Японии `Xone` даже не представлен в топ-5, а на первом месте там платформа `3DS`. \n",
    "\n",
    "Оценим ситуацию с жанрами и вновь выделим топ-5 для каждого региона:"
   ]
  },
  {
   "cell_type": "code",
   "execution_count": 40,
   "metadata": {},
   "outputs": [
    {
     "data": {
      "image/png": "[encoded data removed]",
      "text/plain": [
       "<Figure size 432x288 with 1 Axes>"
      ]
     },
     "metadata": {
      "needs_background": "light"
     },
     "output_type": "display_data"
    }
   ],
   "source": [
    "#группируем данные по жанрам, считаем суммы продаж по платформам по NA, после чего строим диаграмму по топ-5\n",
    "plt = df_actual.groupby(by='genre').agg({'na_sales':'sum'}).sort_values(by='na_sales', ascending=False).head() \\\n",
    "                                .plot(kind='bar', grid=True, title='The popularity of genres in NA')"
   ]
  },
  {
   "cell_type": "code",
   "execution_count": 41,
   "metadata": {},
   "outputs": [
    {
     "data": {
      "image/png": "[encoded data removed]",
      "text/plain": [
       "<Figure size 432x288 with 1 Axes>"
      ]
     },
     "metadata": {
      "needs_background": "light"
     },
     "output_type": "display_data"
    }
   ],
   "source": [
    "#группируем данные по жанрам, считаем суммы продаж по платформам по EU, после чего строим диаграмму по топ-5\n",
    "plt = df_actual.groupby(by='genre').agg({'eu_sales':'sum'}).sort_values(by='eu_sales', ascending=False).head() \\\n",
    "                                .plot(kind='bar', grid=True, title='The popularity of genres in EU')"
   ]
  },
  {
   "cell_type": "code",
   "execution_count": 42,
   "metadata": {},
   "outputs": [
    {
     "data": {
      "image/png": "[encoded data removed]",
      "text/plain": [
       "<Figure size 432x288 with 1 Axes>"
      ]
     },
     "metadata": {
      "needs_background": "light"
     },
     "output_type": "display_data"
    }
   ],
   "source": [
    "#группируем данные по жанрам, считаем суммы продаж по платформам по JP, после чего строим диаграмму по топ-5\n",
    "plt = df_actual.groupby(by='genre').agg({'jp_sales':'sum'}).sort_values(by='jp_sales', ascending=False).head() \\\n",
    "                                .plot(kind='bar', grid=True, title='The popularity of genres in JP')"
   ]
  },
  {
   "cell_type": "markdown",
   "metadata": {},
   "source": [
    "Посмотрим, влияет ли рейтинг ESRB на продажи в регионах:"
   ]
  },
  {
   "cell_type": "code",
   "execution_count": 57,
   "metadata": {},
   "outputs": [
    {
     "data": {
      "image/png": "[encoded data removed]",
      "text/plain": [
       "<Figure size 432x288 with 1 Axes>"
      ]
     },
     "metadata": {
      "needs_background": "light"
     },
     "output_type": "display_data"
    }
   ],
   "source": [
    "df_actual_esrb = df_actual.query('rating != \"unknown\"')\n",
    "plt = df_actual_esrb.groupby(by='rating').agg({'na_sales': 'sum', 'eu_sales': 'sum', 'jp_sales': 'sum'}) \\\n",
    "                                        .sort_values(by='na_sales', ascending=False).head() \\\n",
    "                                        .plot(kind='bar', grid=True, alpha=0.4, title='Effect ESRB-rating on sales')"
   ]
  },
  {
   "cell_type": "markdown",
   "metadata": {},
   "source": [
    "Можно сказать, что Европа и Северная Америка одинаково относятся к рейтингу `ESRB`, а вот в Японии ситуация немного другая. В Европе и Северной Америке чаще приобретают игры с ограничением 17+, а в Японии - 6+. Возможно, это связано с группами геймеров в регионах: в Европе и Северной Америке играет больше взрослых, а в Японии - детей и подростков. "
   ]
  },
  {
   "cell_type": "markdown",
   "metadata": {},
   "source": [
    "### Вывод"
   ]
  },
  {
   "cell_type": "markdown",
   "metadata": {},
   "source": [
    "Для трёх регионов составили портрет типичных пользователей, в результате чего имеем следующее:\n",
    "* Пользователи Северной Америки наиболее предпочтительны к `X360` и жанру экшен\n",
    "* Пользователи Европы наиболее предпочтительны к `PS3` и жанру экшен\n",
    "* Пользователи Японии наиболее предпочтительны к `3DS` и жанру `Role-Playing`\n",
    "\n",
    "Рейтинг ассоциации `ESRB` демонстрирует нам, что наиболее часто в Северной Америке и Европе продаются игры категории 17+, а в Японии - 6+. Скорее всего это связано с самими игрокам в регионах: в первых двух у нас больше взрослых игроков, а в Японии - больше детей и подростков. Для окончательных выводов по этой специфике стоит провести полноценное исследование, а результаты учитывать в рекламных мероприятиях в различных регионах.\n",
    "\n",
    "Перейдём к статистическому анализу данных."
   ]
  },
  {
   "cell_type": "markdown",
   "metadata": {},
   "source": [
    "## Статистический анализ данных"
   ]
  },
  {
   "cell_type": "markdown",
   "metadata": {},
   "source": [
    "В завершении исследования проведём небольшой статистический анализ данных. На основании рейтинга существует предположение, что оценки платформ `Xone` и `PC` одинаковы. Проверим, так ли это на самом деле. Для начала сформулируем нулевую и альтернативную гипотезы:\n",
    "\n",
    "* H0: \"Средние пользовательские рейтинги платформ `Xbox One` и `PC` одинаковые;\n",
    "* H1: \"Средние пользовательские рейтинги платформ `Xbox One` и `PC` разные.\n",
    "\n",
    "Перед применением статистического теста создадим 2 таблицы, где в первой будет лишь платформа `XOne`, а во второй - лишь `PC`. Также поставим ограничение на пользовательский рейтинг более 0, чтобы не включать игры без рейтинга:"
   ]
  },
  {
   "cell_type": "code",
   "execution_count": 44,
   "metadata": {},
   "outputs": [],
   "source": [
    "df_actual_xone = df_actual.query('platform == \"XOne\" and user_score > 0')\n",
    "df_actual_pc = df_actual.query('platform == \"PC\" and user_score > 0')"
   ]
  },
  {
   "cell_type": "markdown",
   "metadata": {},
   "source": [
    "Для проверки потребуется использовать двусторонний t-тест для независимых выборок, так как для проверки средних двух совокупностей необходимо применять t-тест, а двусторонний, так как нам не имеет значения, больше выручка от одного тарифа или меньше другого. Зададим уровень значимости в 0.01 для надёжных результатов. Найдём p-value и решим, отвергать ли нулевую гипотезу: "
   ]
  },
  {
   "cell_type": "code",
   "execution_count": 45,
   "metadata": {},
   "outputs": [
    {
     "name": "stdout",
     "output_type": "stream",
     "text": [
      "p-значение:  0.980998110649032\n",
      "Не получилось отвергнуть нулевую гипотезу\n"
     ]
    }
   ],
   "source": [
    "#задаём уровень значимости и находим p-value для отвержения или принятия гипотезы\n",
    "alpha = .01\n",
    "results = st.ttest_ind(df_actual_xone['user_score'], df_actual_pc['user_score'])\n",
    "print('p-значение: ', results.pvalue)\n",
    "if results.pvalue < alpha:\n",
    "    print(\"Отвергаем нулевую гипотезу\")\n",
    "else:\n",
    "    print(\"Не получилось отвергнуть нулевую гипотезу\") "
   ]
  },
  {
   "cell_type": "markdown",
   "metadata": {},
   "source": [
    "Получившееся p-value равно почти 1, что не даёт нам возможности отвергнуть нулевую гипотезу. Следовательно, разницы между оценками игр платформ `XOne` и `PC` нет.\n",
    "\n",
    "Посмотрим, отличаются ли пользовательские рейтинги жанров `Action` и `Sports`. Сформулируем нулевую и альтернативную гипотезы:\n",
    "\n",
    "* H0: \"Средние пользовательские рейтинги жанров `Action` и `Sports` не отличаются;\n",
    "* H1: \"Средние пользовательские рейтинги жанров `Action` и `Sports` отличаются.\n",
    "\n",
    "Перед применением статистического теста вновь создадим 2 таблицы, где в первой будут игры жанра `Action`, а во второй - `Sports`. Ограничение на пользовательский рейтинг более 0 сохраняется."
   ]
  },
  {
   "cell_type": "code",
   "execution_count": 46,
   "metadata": {},
   "outputs": [],
   "source": [
    "df_actual_action = df_actual.query('genre == \"Action\" and user_score > 0')\n",
    "df_actual_sports = df_actual.query('genre == \"Sports\" and user_score > 0')"
   ]
  },
  {
   "cell_type": "markdown",
   "metadata": {},
   "source": [
    "Для проверки используем двусторонний t-тест для независимых выборок, так как для проверки средних двух независимых совокупностей нужно применять t-тест, а двусторонний, так как нет значения, больше рейтинги одного жанра или меньше. Зададим уровень значимости в 0.01 для надёжных результатов. Найдём p-value и решим, отвергать ли нулевую гипотезу:"
   ]
  },
  {
   "cell_type": "code",
   "execution_count": 47,
   "metadata": {},
   "outputs": [
    {
     "name": "stdout",
     "output_type": "stream",
     "text": [
      "p-значение:  4.4355834472156065e-19\n",
      "Отвергаем нулевую гипотезу\n"
     ]
    }
   ],
   "source": [
    "#задаём уровень значимости и находим p-value для отвержения или принятия гипотезы\n",
    "alpha = .01\n",
    "results = st.ttest_ind(df_actual_action['user_score'], df_actual_sports['user_score'])\n",
    "print('p-значение: ', results.pvalue)\n",
    "if results.pvalue < alpha:\n",
    "    print(\"Отвергаем нулевую гипотезу\")\n",
    "else:\n",
    "    print(\"Не получилось отвергнуть нулевую гипотезу\") "
   ]
  },
  {
   "cell_type": "markdown",
   "metadata": {},
   "source": [
    "p-value получилось близким к 0. Следовательно, мы отвергаем нулевую гипотезу и принимаем альтернативную: средние пользовательские рейтинги жанров `Action` и `Sports` отличаются. "
   ]
  },
  {
   "cell_type": "markdown",
   "metadata": {},
   "source": [
    "### Вывод"
   ]
  },
  {
   "cell_type": "markdown",
   "metadata": {},
   "source": [
    "Статистический анализ данных продемонстрировал нам следующее:\n",
    "* Средние пользовательские рейтинги платформ `Xbox One` и `PC` одинаковые (p-value = 0.98)\n",
    "* Средние пользовательские рейтинги жанров `Action` и `Sports` отличаются (p-value = 0.(0)1)\n",
    "\n",
    "Из этого делаем вывод, что нет разницы, будет игра выпускаться на одной из двух платформ - это не повлияет на пользовательский рейтинг. Иная ситуация с жанрами экшен и спорт, которые имеют различные рейтинги. Следовательно, при планировании рекламной компании стоит отдельное внимание заострять на текущих средних рейтингах того или иного жанра в регионе."
   ]
  },
  {
   "cell_type": "markdown",
   "metadata": {},
   "source": [
    "## Вывод"
   ]
  },
  {
   "cell_type": "markdown",
   "metadata": {},
   "source": [
    "Таким образом, проведённое исследование позволяет выявить закономерности успешности игры в 2017-ом году. Исследовательский анализ продемонстрировал, что срок активной жизни платформы составляет примерно 6 лет, поэтому наиболее подходящие для релизов игр в 2017-ом году платформы - это `PS4` и `XOne`. Несмотря на текущие показатели, они имеют активный рост за последние годы, из чего можем предсказать их популярность в 2017-ом. Отдельно необходимо упомянуть рейтинг критиков. Корреляция их оценок с количеством продаж игры составляет 0.4, следовательно, от них точно зависит определённая часть продаж игры.\n",
    "\n",
    "Составление портретов пользователей отдельных регионов поможет при проведении рекламных мероприятий в конкретном регионе. В результате анализа получили следующие закономерности:\n",
    "* Пользователи Северной Америки наиболее предпочтительны к `X360` и жанру экшен\n",
    "* Пользователи Европы наиболее предпочтительны к `PS3` и жанру экшен\n",
    "* Пользователи Японии наиболее предпочтительны к `3DS` и жанру `Role-Playing`\n",
    "\n",
    "Одними из наиболее популярных жанров сегодня являются экшен, шутер и спорт, при этом статистический анализ продемонстрировал, что средние пользовательские рейтинги жанров экшен и спорт отличаются (p-value = 0.(0)1). Следовательно, при проведении компании необходимо оценивать конкретный жанр и его текущие рейтинги."
   ]
  }
 ],
 "metadata": {
  "ExecuteTimeLog": [
   {
    "duration": 360,
    "start_time": "2022-01-13T10:40:45.025Z"
   },
   {
    "duration": 600,
    "start_time": "2022-01-13T10:40:53.269Z"
   },
   {
    "duration": 25,
    "start_time": "2022-01-13T10:40:54.998Z"
   },
   {
    "duration": 364,
    "start_time": "2022-01-13T10:47:22.282Z"
   },
   {
    "duration": 36,
    "start_time": "2022-01-13T10:48:06.142Z"
   },
   {
    "duration": 45,
    "start_time": "2022-01-13T10:48:48.230Z"
   },
   {
    "duration": 11,
    "start_time": "2022-01-13T10:49:27.790Z"
   },
   {
    "duration": 15,
    "start_time": "2022-01-13T11:01:59.568Z"
   },
   {
    "duration": 4,
    "start_time": "2022-01-13T11:02:04.852Z"
   },
   {
    "duration": 6,
    "start_time": "2022-01-13T11:05:21.279Z"
   },
   {
    "duration": 14,
    "start_time": "2022-01-13T11:05:34.999Z"
   },
   {
    "duration": 13,
    "start_time": "2022-01-13T11:06:25.028Z"
   },
   {
    "duration": 7,
    "start_time": "2022-01-13T11:06:59.088Z"
   },
   {
    "duration": 6,
    "start_time": "2022-01-13T11:07:00.834Z"
   },
   {
    "duration": 6,
    "start_time": "2022-01-13T11:08:29.306Z"
   },
   {
    "duration": 4,
    "start_time": "2022-01-13T11:08:52.586Z"
   },
   {
    "duration": 6,
    "start_time": "2022-01-13T11:09:00.338Z"
   },
   {
    "duration": 407,
    "start_time": "2022-01-13T11:09:17.498Z"
   },
   {
    "duration": 347,
    "start_time": "2022-01-13T11:09:45.490Z"
   },
   {
    "duration": 329,
    "start_time": "2022-01-13T11:10:57.794Z"
   },
   {
    "duration": 9,
    "start_time": "2022-01-13T11:12:38.969Z"
   },
   {
    "duration": 374,
    "start_time": "2022-01-13T11:12:43.712Z"
   },
   {
    "duration": 6,
    "start_time": "2022-01-13T11:12:46.385Z"
   },
   {
    "duration": 7,
    "start_time": "2022-01-13T11:12:53.033Z"
   },
   {
    "duration": 8,
    "start_time": "2022-01-13T11:12:59.743Z"
   },
   {
    "duration": 7,
    "start_time": "2022-01-13T11:13:01.793Z"
   },
   {
    "duration": 6,
    "start_time": "2022-01-13T11:13:10.929Z"
   },
   {
    "duration": 5,
    "start_time": "2022-01-13T11:13:14.081Z"
   },
   {
    "duration": 12,
    "start_time": "2022-01-13T11:22:56.894Z"
   },
   {
    "duration": 12,
    "start_time": "2022-01-13T11:23:36.576Z"
   },
   {
    "duration": 338,
    "start_time": "2022-01-13T11:27:55.223Z"
   },
   {
    "duration": 327,
    "start_time": "2022-01-13T11:28:19.649Z"
   },
   {
    "duration": 333,
    "start_time": "2022-01-13T11:28:56.887Z"
   },
   {
    "duration": 378,
    "start_time": "2022-01-13T11:29:18.190Z"
   },
   {
    "duration": 329,
    "start_time": "2022-01-13T11:29:38.568Z"
   },
   {
    "duration": 22,
    "start_time": "2022-01-13T11:29:41.278Z"
   },
   {
    "duration": 1054,
    "start_time": "2022-01-13T11:29:58.183Z"
   },
   {
    "duration": 54,
    "start_time": "2022-01-13T11:29:59.239Z"
   },
   {
    "duration": 8,
    "start_time": "2022-01-13T11:29:59.297Z"
   },
   {
    "duration": 23,
    "start_time": "2022-01-13T11:29:59.307Z"
   },
   {
    "duration": 12,
    "start_time": "2022-01-13T11:29:59.331Z"
   },
   {
    "duration": 22,
    "start_time": "2022-01-13T11:29:59.344Z"
   },
   {
    "duration": 20,
    "start_time": "2022-01-13T11:30:13.008Z"
   },
   {
    "duration": 7,
    "start_time": "2022-01-13T11:31:44.151Z"
   },
   {
    "duration": 8,
    "start_time": "2022-01-13T11:31:59.794Z"
   },
   {
    "duration": 18,
    "start_time": "2022-01-13T11:32:07.272Z"
   },
   {
    "duration": 1207,
    "start_time": "2022-01-13T13:26:10.760Z"
   },
   {
    "duration": 79,
    "start_time": "2022-01-13T13:26:11.970Z"
   },
   {
    "duration": 21,
    "start_time": "2022-01-13T13:26:12.052Z"
   },
   {
    "duration": 25,
    "start_time": "2022-01-13T13:26:12.076Z"
   },
   {
    "duration": 21,
    "start_time": "2022-01-13T13:26:12.104Z"
   },
   {
    "duration": 11,
    "start_time": "2022-01-13T13:26:12.160Z"
   },
   {
    "duration": 12,
    "start_time": "2022-01-13T13:26:12.173Z"
   },
   {
    "duration": 7,
    "start_time": "2022-01-13T13:26:43.864Z"
   },
   {
    "duration": 30,
    "start_time": "2022-01-13T13:26:57.905Z"
   },
   {
    "duration": 32,
    "start_time": "2022-01-13T13:30:19.176Z"
   },
   {
    "duration": 32,
    "start_time": "2022-01-13T13:30:28.164Z"
   },
   {
    "duration": 11,
    "start_time": "2022-01-13T13:30:47.265Z"
   },
   {
    "duration": 9,
    "start_time": "2022-01-13T13:32:48.337Z"
   },
   {
    "duration": 10,
    "start_time": "2022-01-13T13:34:40.904Z"
   },
   {
    "duration": 6,
    "start_time": "2022-01-13T13:35:08.980Z"
   },
   {
    "duration": 8,
    "start_time": "2022-01-13T13:35:11.745Z"
   },
   {
    "duration": 31,
    "start_time": "2022-01-13T13:35:17.080Z"
   },
   {
    "duration": 10,
    "start_time": "2022-01-13T13:35:20.712Z"
   },
   {
    "duration": 4,
    "start_time": "2022-01-13T13:37:33.065Z"
   },
   {
    "duration": 841,
    "start_time": "2022-01-13T13:37:56.744Z"
   },
   {
    "duration": 4,
    "start_time": "2022-01-13T13:38:04.080Z"
   },
   {
    "duration": 9945,
    "start_time": "2022-01-13T13:38:04.280Z"
   },
   {
    "duration": 5,
    "start_time": "2022-01-13T13:38:19.208Z"
   },
   {
    "duration": 17499,
    "start_time": "2022-01-13T13:38:19.672Z"
   },
   {
    "duration": 23,
    "start_time": "2022-01-13T13:38:51.408Z"
   },
   {
    "duration": 11,
    "start_time": "2022-01-13T13:41:01.822Z"
   },
   {
    "duration": 10,
    "start_time": "2022-01-13T13:43:58.296Z"
   },
   {
    "duration": 10,
    "start_time": "2022-01-13T13:44:03.906Z"
   },
   {
    "duration": 9,
    "start_time": "2022-01-13T13:45:39.727Z"
   },
   {
    "duration": 16,
    "start_time": "2022-01-13T13:46:42.712Z"
   },
   {
    "duration": 30,
    "start_time": "2022-01-13T13:46:52.807Z"
   },
   {
    "duration": 9,
    "start_time": "2022-01-13T13:47:35.095Z"
   },
   {
    "duration": 376,
    "start_time": "2022-01-13T13:49:14.503Z"
   },
   {
    "duration": 11,
    "start_time": "2022-01-13T13:49:19.463Z"
   },
   {
    "duration": 17,
    "start_time": "2022-01-13T13:49:38.878Z"
   },
   {
    "duration": 11,
    "start_time": "2022-01-13T13:53:21.548Z"
   },
   {
    "duration": 10,
    "start_time": "2022-01-13T13:53:40.990Z"
   },
   {
    "duration": 1203,
    "start_time": "2022-01-13T13:54:03.972Z"
   },
   {
    "duration": 80,
    "start_time": "2022-01-13T13:54:05.177Z"
   },
   {
    "duration": 14,
    "start_time": "2022-01-13T13:54:05.260Z"
   },
   {
    "duration": 26,
    "start_time": "2022-01-13T13:54:08.665Z"
   },
   {
    "duration": 21,
    "start_time": "2022-01-13T13:54:10.622Z"
   },
   {
    "duration": 12,
    "start_time": "2022-01-13T13:54:11.349Z"
   },
   {
    "duration": 32,
    "start_time": "2022-01-13T13:54:13.190Z"
   },
   {
    "duration": 11,
    "start_time": "2022-01-13T13:54:26.879Z"
   },
   {
    "duration": 10,
    "start_time": "2022-01-13T13:54:37.349Z"
   },
   {
    "duration": 521,
    "start_time": "2022-01-13T13:57:59.668Z"
   },
   {
    "duration": 8724,
    "start_time": "2022-01-13T13:58:06.064Z"
   },
   {
    "duration": 164,
    "start_time": "2022-01-13T13:58:38.407Z"
   },
   {
    "duration": 6,
    "start_time": "2022-01-13T13:58:51.854Z"
   },
   {
    "duration": 170,
    "start_time": "2022-01-13T13:59:31.525Z"
   },
   {
    "duration": 6,
    "start_time": "2022-01-13T13:59:31.796Z"
   },
   {
    "duration": 169,
    "start_time": "2022-01-13T14:00:04.092Z"
   },
   {
    "duration": 6,
    "start_time": "2022-01-13T14:00:04.263Z"
   },
   {
    "duration": 175,
    "start_time": "2022-01-13T14:01:01.445Z"
   },
   {
    "duration": 7,
    "start_time": "2022-01-13T14:01:01.635Z"
   },
   {
    "duration": 1243,
    "start_time": "2022-01-13T14:01:07.630Z"
   },
   {
    "duration": 81,
    "start_time": "2022-01-13T14:01:08.876Z"
   },
   {
    "duration": 14,
    "start_time": "2022-01-13T14:01:08.959Z"
   },
   {
    "duration": 23,
    "start_time": "2022-01-13T14:01:08.976Z"
   },
   {
    "duration": 20,
    "start_time": "2022-01-13T14:01:09.001Z"
   },
   {
    "duration": 10,
    "start_time": "2022-01-13T14:01:09.059Z"
   },
   {
    "duration": 31,
    "start_time": "2022-01-13T14:01:09.071Z"
   },
   {
    "duration": 9,
    "start_time": "2022-01-13T14:01:09.105Z"
   },
   {
    "duration": 310,
    "start_time": "2022-01-13T14:01:09.118Z"
   },
   {
    "duration": 585,
    "start_time": "2022-01-13T14:01:09.431Z"
   },
   {
    "duration": 252,
    "start_time": "2022-01-13T14:01:09.767Z"
   },
   {
    "duration": 8,
    "start_time": "2022-01-13T14:01:16.480Z"
   },
   {
    "duration": 1188,
    "start_time": "2022-01-13T14:01:27.382Z"
   },
   {
    "duration": 80,
    "start_time": "2022-01-13T14:01:28.573Z"
   },
   {
    "duration": 14,
    "start_time": "2022-01-13T14:01:28.659Z"
   },
   {
    "duration": 23,
    "start_time": "2022-01-13T14:01:28.676Z"
   },
   {
    "duration": 19,
    "start_time": "2022-01-13T14:01:28.701Z"
   },
   {
    "duration": 44,
    "start_time": "2022-01-13T14:01:28.723Z"
   },
   {
    "duration": 29,
    "start_time": "2022-01-13T14:01:28.770Z"
   },
   {
    "duration": 9,
    "start_time": "2022-01-13T14:01:28.802Z"
   },
   {
    "duration": 199,
    "start_time": "2022-01-13T14:01:28.814Z"
   },
   {
    "duration": 5,
    "start_time": "2022-01-13T14:01:29.016Z"
   },
   {
    "duration": 303,
    "start_time": "2022-01-13T14:01:29.024Z"
   },
   {
    "duration": 680,
    "start_time": "2022-01-13T14:02:21.925Z"
   },
   {
    "duration": 254,
    "start_time": "2022-01-13T14:02:22.353Z"
   },
   {
    "duration": 8,
    "start_time": "2022-01-13T14:02:52.198Z"
   },
   {
    "duration": 583,
    "start_time": "2022-01-13T14:02:55.693Z"
   },
   {
    "duration": 380,
    "start_time": "2022-01-13T14:03:15.107Z"
   },
   {
    "duration": 350,
    "start_time": "2022-01-13T14:03:27.316Z"
   },
   {
    "duration": 525,
    "start_time": "2022-01-13T14:04:10.725Z"
   },
   {
    "duration": 11,
    "start_time": "2022-01-13T14:05:13.261Z"
   },
   {
    "duration": 213,
    "start_time": "2022-01-13T14:05:15.163Z"
   },
   {
    "duration": 6,
    "start_time": "2022-01-13T14:05:17.275Z"
   },
   {
    "duration": 30,
    "start_time": "2022-01-13T14:05:55.691Z"
   },
   {
    "duration": 1250,
    "start_time": "2022-01-13T14:06:11.625Z"
   },
   {
    "duration": 114,
    "start_time": "2022-01-13T14:06:12.879Z"
   },
   {
    "duration": 15,
    "start_time": "2022-01-13T14:06:12.998Z"
   },
   {
    "duration": 55,
    "start_time": "2022-01-13T14:06:13.017Z"
   },
   {
    "duration": 21,
    "start_time": "2022-01-13T14:06:13.075Z"
   },
   {
    "duration": 25,
    "start_time": "2022-01-13T14:06:13.099Z"
   },
   {
    "duration": 49,
    "start_time": "2022-01-13T14:06:13.127Z"
   },
   {
    "duration": 11,
    "start_time": "2022-01-13T14:06:13.181Z"
   },
   {
    "duration": 187,
    "start_time": "2022-01-13T14:06:13.195Z"
   },
   {
    "duration": 6,
    "start_time": "2022-01-13T14:06:13.384Z"
   },
   {
    "duration": 31,
    "start_time": "2022-01-13T14:06:13.393Z"
   },
   {
    "duration": 581,
    "start_time": "2022-01-13T14:06:13.427Z"
   },
   {
    "duration": 6,
    "start_time": "2022-01-13T14:06:22.467Z"
   },
   {
    "duration": 1423,
    "start_time": "2022-01-13T14:07:44.768Z"
   },
   {
    "duration": 85,
    "start_time": "2022-01-13T14:07:46.193Z"
   },
   {
    "duration": 14,
    "start_time": "2022-01-13T14:07:46.281Z"
   },
   {
    "duration": 31,
    "start_time": "2022-01-13T14:07:46.298Z"
   },
   {
    "duration": 48,
    "start_time": "2022-01-13T14:07:46.332Z"
   },
   {
    "duration": 16,
    "start_time": "2022-01-13T14:07:46.384Z"
   },
   {
    "duration": 68,
    "start_time": "2022-01-13T14:07:46.403Z"
   },
   {
    "duration": 21,
    "start_time": "2022-01-13T14:07:46.474Z"
   },
   {
    "duration": 205,
    "start_time": "2022-01-13T14:07:46.499Z"
   },
   {
    "duration": 5,
    "start_time": "2022-01-13T14:07:46.707Z"
   },
   {
    "duration": 154,
    "start_time": "2022-01-13T14:10:50.412Z"
   },
   {
    "duration": 6,
    "start_time": "2022-01-13T14:10:51.452Z"
   },
   {
    "duration": 1199,
    "start_time": "2022-01-13T14:10:58.976Z"
   },
   {
    "duration": 81,
    "start_time": "2022-01-13T14:11:00.178Z"
   },
   {
    "duration": 16,
    "start_time": "2022-01-13T14:11:00.263Z"
   },
   {
    "duration": 25,
    "start_time": "2022-01-13T14:11:00.283Z"
   },
   {
    "duration": 60,
    "start_time": "2022-01-13T14:11:00.311Z"
   },
   {
    "duration": 13,
    "start_time": "2022-01-13T14:11:00.374Z"
   },
   {
    "duration": 70,
    "start_time": "2022-01-13T14:11:00.391Z"
   },
   {
    "duration": 12,
    "start_time": "2022-01-13T14:11:00.464Z"
   },
   {
    "duration": 1204,
    "start_time": "2022-01-13T14:11:00.479Z"
   },
   {
    "duration": 262,
    "start_time": "2022-01-13T14:11:01.423Z"
   },
   {
    "duration": 164,
    "start_time": "2022-01-13T14:11:06.850Z"
   },
   {
    "duration": 7,
    "start_time": "2022-01-13T14:11:07.513Z"
   },
   {
    "duration": 167,
    "start_time": "2022-01-13T14:11:21.010Z"
   },
   {
    "duration": 7,
    "start_time": "2022-01-13T14:11:21.192Z"
   },
   {
    "duration": 161,
    "start_time": "2022-01-13T14:11:37.986Z"
   },
   {
    "duration": 7,
    "start_time": "2022-01-13T14:11:38.265Z"
   },
   {
    "duration": 1150,
    "start_time": "2022-01-13T14:11:43.313Z"
   },
   {
    "duration": 81,
    "start_time": "2022-01-13T14:11:44.466Z"
   },
   {
    "duration": 18,
    "start_time": "2022-01-13T14:11:44.553Z"
   },
   {
    "duration": 23,
    "start_time": "2022-01-13T14:11:44.574Z"
   },
   {
    "duration": 22,
    "start_time": "2022-01-13T14:11:44.599Z"
   },
   {
    "duration": 12,
    "start_time": "2022-01-13T14:11:44.659Z"
   },
   {
    "duration": 30,
    "start_time": "2022-01-13T14:11:44.675Z"
   },
   {
    "duration": 12,
    "start_time": "2022-01-13T14:11:44.708Z"
   },
   {
    "duration": 201,
    "start_time": "2022-01-13T14:11:44.722Z"
   },
   {
    "duration": 7,
    "start_time": "2022-01-13T14:11:44.925Z"
   },
   {
    "duration": 168,
    "start_time": "2022-01-13T14:12:09.149Z"
   },
   {
    "duration": 7,
    "start_time": "2022-01-13T14:12:09.949Z"
   },
   {
    "duration": 32,
    "start_time": "2022-01-13T14:12:22.813Z"
   },
   {
    "duration": 11,
    "start_time": "2022-01-13T14:13:34.045Z"
   },
   {
    "duration": 8,
    "start_time": "2022-01-13T14:13:52.861Z"
   },
   {
    "duration": 8,
    "start_time": "2022-01-13T14:13:56.609Z"
   },
   {
    "duration": 7,
    "start_time": "2022-01-13T14:13:59.757Z"
   },
   {
    "duration": 181,
    "start_time": "2022-01-13T14:14:26.660Z"
   },
   {
    "duration": 6,
    "start_time": "2022-01-13T14:14:26.852Z"
   },
   {
    "duration": 12,
    "start_time": "2022-01-13T14:14:43.157Z"
   },
   {
    "duration": 165,
    "start_time": "2022-01-13T14:14:44.285Z"
   },
   {
    "duration": 7,
    "start_time": "2022-01-13T14:14:44.660Z"
   },
   {
    "duration": 9,
    "start_time": "2022-01-13T14:18:30.653Z"
   },
   {
    "duration": 699,
    "start_time": "2022-01-13T14:18:33.093Z"
   },
   {
    "duration": 254,
    "start_time": "2022-01-13T14:18:33.544Z"
   },
   {
    "duration": 153,
    "start_time": "2022-01-13T14:18:39.100Z"
   },
   {
    "duration": 6,
    "start_time": "2022-01-13T14:18:39.508Z"
   },
   {
    "duration": 14,
    "start_time": "2022-01-13T14:18:43.620Z"
   },
   {
    "duration": 261,
    "start_time": "2022-01-13T14:18:50.252Z"
   },
   {
    "duration": 8,
    "start_time": "2022-01-13T14:18:51.404Z"
   },
   {
    "duration": 240,
    "start_time": "2022-01-13T14:19:49.740Z"
   },
   {
    "duration": 14,
    "start_time": "2022-01-13T14:19:52.979Z"
   },
   {
    "duration": 13,
    "start_time": "2022-01-13T14:20:00.482Z"
   },
   {
    "duration": 1762,
    "start_time": "2022-01-13T14:20:09.505Z"
   },
   {
    "duration": 78,
    "start_time": "2022-01-13T14:20:11.270Z"
   },
   {
    "duration": 15,
    "start_time": "2022-01-13T14:20:11.360Z"
   },
   {
    "duration": 24,
    "start_time": "2022-01-13T14:20:11.377Z"
   },
   {
    "duration": 22,
    "start_time": "2022-01-13T14:20:11.403Z"
   },
   {
    "duration": 10,
    "start_time": "2022-01-13T14:20:11.460Z"
   },
   {
    "duration": 29,
    "start_time": "2022-01-13T14:20:11.474Z"
   },
   {
    "duration": 13,
    "start_time": "2022-01-13T14:20:11.506Z"
   },
   {
    "duration": 204,
    "start_time": "2022-01-13T14:20:11.521Z"
   },
   {
    "duration": 6,
    "start_time": "2022-01-13T14:20:11.727Z"
   },
   {
    "duration": 28,
    "start_time": "2022-01-13T14:20:11.736Z"
   },
   {
    "duration": 30,
    "start_time": "2022-01-13T14:20:22.993Z"
   },
   {
    "duration": 30,
    "start_time": "2022-01-13T14:20:30.260Z"
   },
   {
    "duration": 5,
    "start_time": "2022-01-13T14:24:13.288Z"
   },
   {
    "duration": 7,
    "start_time": "2022-01-13T14:24:27.032Z"
   },
   {
    "duration": 1339,
    "start_time": "2022-01-13T14:24:33.126Z"
   },
   {
    "duration": 77,
    "start_time": "2022-01-13T14:24:34.467Z"
   },
   {
    "duration": 19,
    "start_time": "2022-01-13T14:24:34.547Z"
   },
   {
    "duration": 5,
    "start_time": "2022-01-13T14:24:34.569Z"
   },
   {
    "duration": 25,
    "start_time": "2022-01-13T14:24:34.577Z"
   },
   {
    "duration": 55,
    "start_time": "2022-01-13T14:24:34.604Z"
   },
   {
    "duration": 12,
    "start_time": "2022-01-13T14:24:34.663Z"
   },
   {
    "duration": 30,
    "start_time": "2022-01-13T14:24:34.679Z"
   },
   {
    "duration": 49,
    "start_time": "2022-01-13T14:24:34.712Z"
   },
   {
    "duration": 178,
    "start_time": "2022-01-13T14:24:34.763Z"
   },
   {
    "duration": 6,
    "start_time": "2022-01-13T14:24:34.943Z"
   },
   {
    "duration": 8,
    "start_time": "2022-01-13T14:31:59.936Z"
   },
   {
    "duration": 1199,
    "start_time": "2022-01-13T14:32:06.168Z"
   },
   {
    "duration": 84,
    "start_time": "2022-01-13T14:32:07.370Z"
   },
   {
    "duration": 14,
    "start_time": "2022-01-13T14:32:07.461Z"
   },
   {
    "duration": 7,
    "start_time": "2022-01-13T14:32:07.478Z"
   },
   {
    "duration": 8,
    "start_time": "2022-01-13T14:32:07.487Z"
   },
   {
    "duration": 22,
    "start_time": "2022-01-13T14:32:07.498Z"
   },
   {
    "duration": 48,
    "start_time": "2022-01-13T14:32:07.523Z"
   },
   {
    "duration": 31,
    "start_time": "2022-01-13T14:32:07.574Z"
   },
   {
    "duration": 9,
    "start_time": "2022-01-13T14:32:07.609Z"
   },
   {
    "duration": 179,
    "start_time": "2022-01-13T14:32:07.660Z"
   },
   {
    "duration": 18,
    "start_time": "2022-01-13T14:32:07.842Z"
   },
   {
    "duration": 1238,
    "start_time": "2022-01-13T14:32:24.227Z"
   },
   {
    "duration": 79,
    "start_time": "2022-01-13T14:32:25.469Z"
   },
   {
    "duration": 22,
    "start_time": "2022-01-13T14:32:25.552Z"
   },
   {
    "duration": 7,
    "start_time": "2022-01-13T14:32:25.577Z"
   },
   {
    "duration": 8,
    "start_time": "2022-01-13T14:32:25.588Z"
   },
   {
    "duration": 74,
    "start_time": "2022-01-13T14:32:25.599Z"
   },
   {
    "duration": 13,
    "start_time": "2022-01-13T14:32:25.677Z"
   },
   {
    "duration": 33,
    "start_time": "2022-01-13T14:32:25.693Z"
   },
   {
    "duration": 11,
    "start_time": "2022-01-13T14:32:25.760Z"
   },
   {
    "duration": 188,
    "start_time": "2022-01-13T14:32:25.774Z"
   },
   {
    "duration": 6,
    "start_time": "2022-01-13T14:32:25.965Z"
   },
   {
    "duration": 10,
    "start_time": "2022-01-13T14:33:24.139Z"
   },
   {
    "duration": 164,
    "start_time": "2022-01-13T14:33:25.490Z"
   },
   {
    "duration": 8,
    "start_time": "2022-01-13T14:33:26.420Z"
   },
   {
    "duration": 7,
    "start_time": "2022-01-13T14:34:05.954Z"
   },
   {
    "duration": 1245,
    "start_time": "2022-01-13T14:34:11.420Z"
   },
   {
    "duration": 81,
    "start_time": "2022-01-13T14:34:12.668Z"
   },
   {
    "duration": 18,
    "start_time": "2022-01-13T14:34:12.753Z"
   },
   {
    "duration": 6,
    "start_time": "2022-01-13T14:34:12.774Z"
   },
   {
    "duration": 8,
    "start_time": "2022-01-13T14:34:12.783Z"
   },
   {
    "duration": 67,
    "start_time": "2022-01-13T14:34:12.794Z"
   },
   {
    "duration": 14,
    "start_time": "2022-01-13T14:34:12.865Z"
   },
   {
    "duration": 44,
    "start_time": "2022-01-13T14:34:12.884Z"
   },
   {
    "duration": 34,
    "start_time": "2022-01-13T14:34:12.931Z"
   },
   {
    "duration": 13,
    "start_time": "2022-01-13T14:34:12.968Z"
   },
   {
    "duration": 195,
    "start_time": "2022-01-13T14:34:12.983Z"
   },
   {
    "duration": 7,
    "start_time": "2022-01-13T14:34:13.181Z"
   },
   {
    "duration": 6,
    "start_time": "2022-01-13T14:35:03.267Z"
   },
   {
    "duration": 5,
    "start_time": "2022-01-13T14:35:13.696Z"
   },
   {
    "duration": 5,
    "start_time": "2022-01-13T14:35:40.115Z"
   },
   {
    "duration": 220,
    "start_time": "2022-01-13T14:36:26.402Z"
   },
   {
    "duration": 7,
    "start_time": "2022-01-13T14:37:10.094Z"
   },
   {
    "duration": 1237,
    "start_time": "2022-01-13T14:37:14.947Z"
   },
   {
    "duration": 96,
    "start_time": "2022-01-13T14:37:16.187Z"
   },
   {
    "duration": 22,
    "start_time": "2022-01-13T14:37:16.287Z"
   },
   {
    "duration": 8,
    "start_time": "2022-01-13T14:37:16.313Z"
   },
   {
    "duration": 63,
    "start_time": "2022-01-13T14:37:16.324Z"
   },
   {
    "duration": 14,
    "start_time": "2022-01-13T14:37:16.390Z"
   },
   {
    "duration": 64,
    "start_time": "2022-01-13T14:37:16.406Z"
   },
   {
    "duration": 7,
    "start_time": "2022-01-13T14:37:16.475Z"
   },
   {
    "duration": 13,
    "start_time": "2022-01-13T14:37:16.486Z"
   },
   {
    "duration": 290,
    "start_time": "2022-01-13T14:37:16.502Z"
   },
   {
    "duration": 8,
    "start_time": "2022-01-13T14:37:16.795Z"
   },
   {
    "duration": 29,
    "start_time": "2022-01-13T14:38:19.758Z"
   },
   {
    "duration": 14,
    "start_time": "2022-01-13T14:38:56.607Z"
   },
   {
    "duration": 14,
    "start_time": "2022-01-13T14:38:57.702Z"
   },
   {
    "duration": 5,
    "start_time": "2022-01-13T14:38:58.662Z"
   },
   {
    "duration": 10,
    "start_time": "2022-01-13T14:39:01.246Z"
   },
   {
    "duration": 152,
    "start_time": "2022-01-13T14:39:05.070Z"
   },
   {
    "duration": 6,
    "start_time": "2022-01-13T14:39:06.222Z"
   },
   {
    "duration": 149,
    "start_time": "2022-01-13T14:39:11.495Z"
   },
   {
    "duration": 7,
    "start_time": "2022-01-13T14:39:12.086Z"
   },
   {
    "duration": 8,
    "start_time": "2022-01-13T14:39:16.567Z"
   },
   {
    "duration": 161,
    "start_time": "2022-01-13T14:39:38.679Z"
   },
   {
    "duration": 7,
    "start_time": "2022-01-13T14:39:39.224Z"
   },
   {
    "duration": 1184,
    "start_time": "2022-01-13T14:39:53.787Z"
   },
   {
    "duration": 78,
    "start_time": "2022-01-13T14:39:54.974Z"
   },
   {
    "duration": 14,
    "start_time": "2022-01-13T14:39:55.055Z"
   },
   {
    "duration": 6,
    "start_time": "2022-01-13T14:39:55.072Z"
   },
   {
    "duration": 24,
    "start_time": "2022-01-13T14:39:55.080Z"
   },
   {
    "duration": 14,
    "start_time": "2022-01-13T14:39:55.106Z"
   },
   {
    "duration": 32,
    "start_time": "2022-01-13T14:39:55.158Z"
   },
   {
    "duration": 5,
    "start_time": "2022-01-13T14:39:55.193Z"
   },
   {
    "duration": 13,
    "start_time": "2022-01-13T14:39:55.201Z"
   },
   {
    "duration": 200,
    "start_time": "2022-01-13T14:39:55.217Z"
   },
   {
    "duration": 8,
    "start_time": "2022-01-13T14:39:55.419Z"
   },
   {
    "duration": 157,
    "start_time": "2022-01-13T14:40:06.313Z"
   },
   {
    "duration": 7,
    "start_time": "2022-01-13T14:40:06.497Z"
   },
   {
    "duration": 157,
    "start_time": "2022-01-13T14:40:18.289Z"
   },
   {
    "duration": 6,
    "start_time": "2022-01-13T14:40:18.473Z"
   },
   {
    "duration": 10,
    "start_time": "2022-01-13T14:40:32.650Z"
   },
   {
    "duration": 194,
    "start_time": "2022-01-13T14:40:33.778Z"
   },
   {
    "duration": 6,
    "start_time": "2022-01-13T14:40:34.105Z"
   },
   {
    "duration": 7,
    "start_time": "2022-01-13T14:40:55.402Z"
   },
   {
    "duration": 11,
    "start_time": "2022-01-13T14:40:55.881Z"
   },
   {
    "duration": 268,
    "start_time": "2022-01-13T14:40:56.825Z"
   },
   {
    "duration": 8,
    "start_time": "2022-01-13T14:40:57.178Z"
   },
   {
    "duration": 32,
    "start_time": "2022-01-13T14:41:01.601Z"
   },
   {
    "duration": 6,
    "start_time": "2022-01-13T14:41:04.018Z"
   },
   {
    "duration": 11,
    "start_time": "2022-01-13T14:41:04.643Z"
   },
   {
    "duration": 173,
    "start_time": "2022-01-13T14:41:06.241Z"
   },
   {
    "duration": 7,
    "start_time": "2022-01-13T14:41:06.458Z"
   },
   {
    "duration": 1226,
    "start_time": "2022-01-13T14:41:52.486Z"
   },
   {
    "duration": 80,
    "start_time": "2022-01-13T14:41:53.715Z"
   },
   {
    "duration": 17,
    "start_time": "2022-01-13T14:41:53.799Z"
   },
   {
    "duration": 7,
    "start_time": "2022-01-13T14:41:53.820Z"
   },
   {
    "duration": 22,
    "start_time": "2022-01-13T14:41:53.860Z"
   },
   {
    "duration": 17,
    "start_time": "2022-01-13T14:41:53.885Z"
   },
   {
    "duration": 57,
    "start_time": "2022-01-13T14:41:53.904Z"
   },
   {
    "duration": 6,
    "start_time": "2022-01-13T14:41:53.965Z"
   },
   {
    "duration": 12,
    "start_time": "2022-01-13T14:41:53.973Z"
   },
   {
    "duration": 198,
    "start_time": "2022-01-13T14:41:53.988Z"
   },
   {
    "duration": 6,
    "start_time": "2022-01-13T14:41:54.188Z"
   },
   {
    "duration": 161,
    "start_time": "2022-01-13T14:42:52.438Z"
   },
   {
    "duration": 6,
    "start_time": "2022-01-13T14:42:52.638Z"
   },
   {
    "duration": 8,
    "start_time": "2022-01-13T14:43:09.103Z"
   },
   {
    "duration": 13,
    "start_time": "2022-01-13T14:43:09.421Z"
   },
   {
    "duration": 181,
    "start_time": "2022-01-13T14:43:14.293Z"
   },
   {
    "duration": 7,
    "start_time": "2022-01-13T14:43:15.029Z"
   },
   {
    "duration": 1058,
    "start_time": "2022-01-13T14:44:15.912Z"
   },
   {
    "duration": 175,
    "start_time": "2022-01-13T14:44:25.598Z"
   },
   {
    "duration": 6,
    "start_time": "2022-01-13T14:44:25.991Z"
   },
   {
    "duration": 1195,
    "start_time": "2022-01-13T14:44:34.076Z"
   },
   {
    "duration": 80,
    "start_time": "2022-01-13T14:44:35.273Z"
   },
   {
    "duration": 16,
    "start_time": "2022-01-13T14:44:35.356Z"
   },
   {
    "duration": 10,
    "start_time": "2022-01-13T14:44:35.378Z"
   },
   {
    "duration": 31,
    "start_time": "2022-01-13T14:44:35.391Z"
   },
   {
    "duration": 47,
    "start_time": "2022-01-13T14:44:35.424Z"
   },
   {
    "duration": 43,
    "start_time": "2022-01-13T14:44:35.474Z"
   },
   {
    "duration": 37,
    "start_time": "2022-01-13T14:44:35.522Z"
   },
   {
    "duration": 15,
    "start_time": "2022-01-13T14:44:35.563Z"
   },
   {
    "duration": 195,
    "start_time": "2022-01-13T14:44:35.581Z"
   },
   {
    "duration": 6,
    "start_time": "2022-01-13T14:44:35.778Z"
   },
   {
    "duration": 17,
    "start_time": "2022-01-13T14:45:01.488Z"
   },
   {
    "duration": 1280,
    "start_time": "2022-01-13T14:45:24.487Z"
   },
   {
    "duration": 80,
    "start_time": "2022-01-13T14:45:25.770Z"
   },
   {
    "duration": 14,
    "start_time": "2022-01-13T14:45:25.862Z"
   },
   {
    "duration": 6,
    "start_time": "2022-01-13T14:45:25.879Z"
   },
   {
    "duration": 22,
    "start_time": "2022-01-13T14:45:25.887Z"
   },
   {
    "duration": 58,
    "start_time": "2022-01-13T14:45:25.911Z"
   },
   {
    "duration": 32,
    "start_time": "2022-01-13T14:45:25.971Z"
   },
   {
    "duration": 79,
    "start_time": "2022-01-13T14:45:26.007Z"
   },
   {
    "duration": 11,
    "start_time": "2022-01-13T14:45:26.090Z"
   },
   {
    "duration": 277,
    "start_time": "2022-01-13T14:45:26.104Z"
   },
   {
    "duration": 7,
    "start_time": "2022-01-13T14:45:26.384Z"
   },
   {
    "duration": 1204,
    "start_time": "2022-01-13T14:47:03.268Z"
   },
   {
    "duration": 78,
    "start_time": "2022-01-13T14:47:04.475Z"
   },
   {
    "duration": 13,
    "start_time": "2022-01-13T14:47:04.556Z"
   },
   {
    "duration": 6,
    "start_time": "2022-01-13T14:47:04.572Z"
   },
   {
    "duration": 21,
    "start_time": "2022-01-13T14:47:04.580Z"
   },
   {
    "duration": 56,
    "start_time": "2022-01-13T14:47:04.603Z"
   },
   {
    "duration": 33,
    "start_time": "2022-01-13T14:47:04.662Z"
   },
   {
    "duration": 6,
    "start_time": "2022-01-13T14:47:04.698Z"
   },
   {
    "duration": 7,
    "start_time": "2022-01-13T14:47:04.706Z"
   },
   {
    "duration": 52,
    "start_time": "2022-01-13T14:47:04.715Z"
   },
   {
    "duration": 182,
    "start_time": "2022-01-13T14:47:04.769Z"
   },
   {
    "duration": 13,
    "start_time": "2022-01-13T14:47:38.241Z"
   },
   {
    "duration": 32,
    "start_time": "2022-01-13T14:47:41.168Z"
   },
   {
    "duration": 12,
    "start_time": "2022-01-13T14:47:44.889Z"
   },
   {
    "duration": 11,
    "start_time": "2022-01-13T14:47:53.104Z"
   },
   {
    "duration": 8,
    "start_time": "2022-01-13T14:48:11.233Z"
   },
   {
    "duration": 32,
    "start_time": "2022-01-13T14:48:16.825Z"
   },
   {
    "duration": 1295,
    "start_time": "2022-01-13T14:49:20.264Z"
   },
   {
    "duration": 82,
    "start_time": "2022-01-13T14:49:21.562Z"
   },
   {
    "duration": 19,
    "start_time": "2022-01-13T14:49:21.647Z"
   },
   {
    "duration": 7,
    "start_time": "2022-01-13T14:49:21.668Z"
   },
   {
    "duration": 21,
    "start_time": "2022-01-13T14:49:21.677Z"
   },
   {
    "duration": 15,
    "start_time": "2022-01-13T14:49:21.700Z"
   },
   {
    "duration": 69,
    "start_time": "2022-01-13T14:49:21.717Z"
   },
   {
    "duration": 7,
    "start_time": "2022-01-13T14:49:21.789Z"
   },
   {
    "duration": 14,
    "start_time": "2022-01-13T14:49:21.800Z"
   },
   {
    "duration": 209,
    "start_time": "2022-01-13T14:49:21.817Z"
   },
   {
    "duration": 8,
    "start_time": "2022-01-13T14:49:38.504Z"
   },
   {
    "duration": 310,
    "start_time": "2022-01-13T15:16:49.643Z"
   },
   {
    "duration": 4,
    "start_time": "2022-01-13T15:16:55.692Z"
   },
   {
    "duration": 35,
    "start_time": "2022-01-13T15:17:03.619Z"
   },
   {
    "duration": 51,
    "start_time": "2022-01-13T15:17:14.611Z"
   },
   {
    "duration": 47,
    "start_time": "2022-01-13T15:18:02.397Z"
   },
   {
    "duration": 5,
    "start_time": "2022-01-13T15:18:04.691Z"
   },
   {
    "duration": 11,
    "start_time": "2022-01-13T15:18:05.179Z"
   },
   {
    "duration": 220,
    "start_time": "2022-01-13T15:18:05.939Z"
   },
   {
    "duration": 6,
    "start_time": "2022-01-13T15:18:15.387Z"
   },
   {
    "duration": 1246,
    "start_time": "2022-01-13T15:18:23.906Z"
   },
   {
    "duration": 81,
    "start_time": "2022-01-13T15:18:25.155Z"
   },
   {
    "duration": 24,
    "start_time": "2022-01-13T15:18:25.239Z"
   },
   {
    "duration": 7,
    "start_time": "2022-01-13T15:18:25.265Z"
   },
   {
    "duration": 26,
    "start_time": "2022-01-13T15:18:25.274Z"
   },
   {
    "duration": 14,
    "start_time": "2022-01-13T15:18:25.303Z"
   },
   {
    "duration": 64,
    "start_time": "2022-01-13T15:18:25.320Z"
   },
   {
    "duration": 4,
    "start_time": "2022-01-13T15:18:25.388Z"
   },
   {
    "duration": 12,
    "start_time": "2022-01-13T15:18:25.395Z"
   },
   {
    "duration": 188,
    "start_time": "2022-01-13T15:18:25.410Z"
   },
   {
    "duration": 6,
    "start_time": "2022-01-13T15:18:25.601Z"
   },
   {
    "duration": 6,
    "start_time": "2022-01-13T15:19:31.392Z"
   },
   {
    "duration": 11,
    "start_time": "2022-01-13T15:19:32.786Z"
   },
   {
    "duration": 160,
    "start_time": "2022-01-13T15:19:33.455Z"
   },
   {
    "duration": 7,
    "start_time": "2022-01-13T15:19:33.752Z"
   },
   {
    "duration": 1492,
    "start_time": "2022-01-13T15:19:38.827Z"
   },
   {
    "duration": 83,
    "start_time": "2022-01-13T15:19:40.323Z"
   },
   {
    "duration": 14,
    "start_time": "2022-01-13T15:19:40.412Z"
   },
   {
    "duration": 31,
    "start_time": "2022-01-13T15:19:40.429Z"
   },
   {
    "duration": 31,
    "start_time": "2022-01-13T15:19:40.462Z"
   },
   {
    "duration": 16,
    "start_time": "2022-01-13T15:19:40.497Z"
   },
   {
    "duration": 58,
    "start_time": "2022-01-13T15:19:40.517Z"
   },
   {
    "duration": 7,
    "start_time": "2022-01-13T15:19:40.580Z"
   },
   {
    "duration": 13,
    "start_time": "2022-01-13T15:19:40.590Z"
   },
   {
    "duration": 206,
    "start_time": "2022-01-13T15:19:40.605Z"
   },
   {
    "duration": 8,
    "start_time": "2022-01-13T15:19:40.813Z"
   },
   {
    "duration": 168,
    "start_time": "2022-01-13T15:19:43.813Z"
   },
   {
    "duration": 5,
    "start_time": "2022-01-13T15:19:44.070Z"
   },
   {
    "duration": 1261,
    "start_time": "2022-01-13T15:23:05.060Z"
   },
   {
    "duration": 81,
    "start_time": "2022-01-13T15:23:06.323Z"
   },
   {
    "duration": 15,
    "start_time": "2022-01-13T15:23:07.106Z"
   },
   {
    "duration": 7,
    "start_time": "2022-01-13T15:23:08.069Z"
   },
   {
    "duration": 23,
    "start_time": "2022-01-13T15:23:11.077Z"
   },
   {
    "duration": 16,
    "start_time": "2022-01-13T15:23:11.925Z"
   },
   {
    "duration": 31,
    "start_time": "2022-01-13T15:23:14.255Z"
   },
   {
    "duration": 16,
    "start_time": "2022-01-13T15:23:18.694Z"
   },
   {
    "duration": 34,
    "start_time": "2022-01-13T15:23:19.253Z"
   },
   {
    "duration": 1346,
    "start_time": "2022-01-13T15:23:30.466Z"
   },
   {
    "duration": 79,
    "start_time": "2022-01-13T15:23:31.815Z"
   },
   {
    "duration": 16,
    "start_time": "2022-01-13T15:23:31.896Z"
   },
   {
    "duration": 6,
    "start_time": "2022-01-13T15:23:32.306Z"
   },
   {
    "duration": 22,
    "start_time": "2022-01-13T15:23:33.570Z"
   },
   {
    "duration": 12,
    "start_time": "2022-01-13T15:23:34.105Z"
   },
   {
    "duration": 30,
    "start_time": "2022-01-13T15:23:34.875Z"
   },
   {
    "duration": 14,
    "start_time": "2022-01-13T15:24:00.242Z"
   },
   {
    "duration": 30,
    "start_time": "2022-01-13T15:24:00.722Z"
   },
   {
    "duration": 6,
    "start_time": "2022-01-13T15:24:03.963Z"
   },
   {
    "duration": 12,
    "start_time": "2022-01-13T15:24:06.617Z"
   },
   {
    "duration": 265,
    "start_time": "2022-01-13T15:24:08.482Z"
   },
   {
    "duration": 8,
    "start_time": "2022-01-13T15:24:08.805Z"
   },
   {
    "duration": 548,
    "start_time": "2022-01-13T15:24:36.391Z"
   },
   {
    "duration": 365,
    "start_time": "2022-01-13T15:25:32.579Z"
   },
   {
    "duration": 364,
    "start_time": "2022-01-13T15:25:40.082Z"
   },
   {
    "duration": 485,
    "start_time": "2022-01-13T15:26:37.148Z"
   },
   {
    "duration": 163,
    "start_time": "2022-01-13T15:26:54.714Z"
   },
   {
    "duration": 6,
    "start_time": "2022-01-13T15:26:55.042Z"
   },
   {
    "duration": 10,
    "start_time": "2022-01-13T15:28:59.067Z"
   },
   {
    "duration": 161,
    "start_time": "2022-01-13T15:29:00.394Z"
   },
   {
    "duration": 7,
    "start_time": "2022-01-13T15:29:00.722Z"
   },
   {
    "duration": 162,
    "start_time": "2022-01-13T15:29:43.579Z"
   },
   {
    "duration": 6,
    "start_time": "2022-01-13T15:29:43.801Z"
   },
   {
    "duration": 171,
    "start_time": "2022-01-13T15:29:48.217Z"
   },
   {
    "duration": 6,
    "start_time": "2022-01-13T15:29:48.416Z"
   },
   {
    "duration": 29,
    "start_time": "2022-01-13T15:30:20.907Z"
   },
   {
    "duration": 1225,
    "start_time": "2022-01-13T15:30:34.444Z"
   },
   {
    "duration": 82,
    "start_time": "2022-01-13T15:30:35.671Z"
   },
   {
    "duration": 14,
    "start_time": "2022-01-13T15:30:35.756Z"
   },
   {
    "duration": 6,
    "start_time": "2022-01-13T15:30:35.774Z"
   },
   {
    "duration": 24,
    "start_time": "2022-01-13T15:30:35.782Z"
   },
   {
    "duration": 51,
    "start_time": "2022-01-13T15:30:35.808Z"
   },
   {
    "duration": 31,
    "start_time": "2022-01-13T15:30:35.862Z"
   },
   {
    "duration": 18,
    "start_time": "2022-01-13T15:30:35.896Z"
   },
   {
    "duration": 189,
    "start_time": "2022-01-13T15:30:35.917Z"
   },
   {
    "duration": 6,
    "start_time": "2022-01-13T15:30:36.108Z"
   },
   {
    "duration": 163,
    "start_time": "2022-01-13T15:31:38.134Z"
   },
   {
    "duration": 6,
    "start_time": "2022-01-13T15:31:43.552Z"
   },
   {
    "duration": 162,
    "start_time": "2022-01-13T15:32:37.374Z"
   },
   {
    "duration": 7,
    "start_time": "2022-01-13T15:32:37.623Z"
   },
   {
    "duration": 7,
    "start_time": "2022-01-13T15:32:47.393Z"
   },
   {
    "duration": 8,
    "start_time": "2022-01-13T15:33:10.128Z"
   },
   {
    "duration": 498,
    "start_time": "2022-01-13T15:38:17.118Z"
   },
   {
    "duration": 696,
    "start_time": "2022-01-13T15:38:34.263Z"
   },
   {
    "duration": 9,
    "start_time": "2022-01-13T15:39:29.758Z"
   },
   {
    "duration": 692,
    "start_time": "2022-01-13T15:39:54.646Z"
   },
   {
    "duration": 1382,
    "start_time": "2022-01-13T15:40:35.255Z"
   },
   {
    "duration": 86,
    "start_time": "2022-01-13T15:40:36.639Z"
   },
   {
    "duration": 14,
    "start_time": "2022-01-13T15:40:36.728Z"
   },
   {
    "duration": 8,
    "start_time": "2022-01-13T15:40:36.760Z"
   },
   {
    "duration": 23,
    "start_time": "2022-01-13T15:40:36.771Z"
   },
   {
    "duration": 17,
    "start_time": "2022-01-13T15:40:36.797Z"
   },
   {
    "duration": 69,
    "start_time": "2022-01-13T15:40:36.816Z"
   },
   {
    "duration": 13,
    "start_time": "2022-01-13T15:40:36.887Z"
   },
   {
    "duration": 859,
    "start_time": "2022-01-13T15:40:36.903Z"
   },
   {
    "duration": 8,
    "start_time": "2022-01-13T15:41:43.953Z"
   },
   {
    "duration": 580,
    "start_time": "2022-01-13T15:41:44.393Z"
   },
   {
    "duration": 8,
    "start_time": "2022-01-13T15:41:58.160Z"
   },
   {
    "duration": 501,
    "start_time": "2022-01-13T15:44:00.014Z"
   },
   {
    "duration": 6,
    "start_time": "2022-01-13T15:44:00.517Z"
   },
   {
    "duration": 9,
    "start_time": "2022-01-13T15:44:15.614Z"
   },
   {
    "duration": 475,
    "start_time": "2022-01-13T15:44:16.702Z"
   },
   {
    "duration": 6,
    "start_time": "2022-01-13T15:44:17.179Z"
   },
   {
    "duration": 474,
    "start_time": "2022-01-13T15:44:52.871Z"
   },
   {
    "duration": 13,
    "start_time": "2022-01-13T15:44:53.347Z"
   },
   {
    "duration": 473,
    "start_time": "2022-01-13T15:45:22.151Z"
   },
   {
    "duration": 25,
    "start_time": "2022-01-13T15:45:32.888Z"
   },
   {
    "duration": 14,
    "start_time": "2022-01-13T15:45:50.910Z"
   },
   {
    "duration": 11,
    "start_time": "2022-01-13T15:46:21.551Z"
   },
   {
    "duration": 29,
    "start_time": "2022-01-13T15:46:33.048Z"
   },
   {
    "duration": 7,
    "start_time": "2022-01-13T15:50:08.198Z"
   },
   {
    "duration": 12,
    "start_time": "2022-01-13T15:50:50.125Z"
   },
   {
    "duration": 1462,
    "start_time": "2022-01-15T19:11:49.624Z"
   },
   {
    "duration": 81,
    "start_time": "2022-01-15T19:11:51.089Z"
   },
   {
    "duration": 13,
    "start_time": "2022-01-15T19:11:51.172Z"
   },
   {
    "duration": 5,
    "start_time": "2022-01-15T19:11:51.188Z"
   },
   {
    "duration": 20,
    "start_time": "2022-01-15T19:11:51.196Z"
   },
   {
    "duration": 51,
    "start_time": "2022-01-15T19:11:51.219Z"
   },
   {
    "duration": 28,
    "start_time": "2022-01-15T19:11:51.272Z"
   },
   {
    "duration": 9,
    "start_time": "2022-01-15T19:11:51.303Z"
   },
   {
    "duration": 508,
    "start_time": "2022-01-15T19:11:51.315Z"
   },
   {
    "duration": 26,
    "start_time": "2022-01-15T19:11:51.826Z"
   },
   {
    "duration": 7,
    "start_time": "2022-01-15T19:11:51.863Z"
   },
   {
    "duration": 5,
    "start_time": "2022-01-15T19:14:55.162Z"
   },
   {
    "duration": 28,
    "start_time": "2022-01-15T19:14:58.876Z"
   },
   {
    "duration": 505,
    "start_time": "2022-01-15T19:17:10.851Z"
   },
   {
    "duration": 16,
    "start_time": "2022-01-15T19:17:36.581Z"
   },
   {
    "duration": 38,
    "start_time": "2022-01-15T19:17:39.573Z"
   },
   {
    "duration": 24,
    "start_time": "2022-01-15T19:17:47.940Z"
   },
   {
    "duration": 24,
    "start_time": "2022-01-15T19:18:53.277Z"
   },
   {
    "duration": 431,
    "start_time": "2022-01-15T19:20:34.507Z"
   },
   {
    "duration": 10,
    "start_time": "2022-01-15T19:20:38.659Z"
   },
   {
    "duration": 7,
    "start_time": "2022-01-15T19:20:43.907Z"
   },
   {
    "duration": 16,
    "start_time": "2022-01-15T19:20:51.704Z"
   },
   {
    "duration": 9,
    "start_time": "2022-01-15T19:20:52.301Z"
   },
   {
    "duration": 1247,
    "start_time": "2022-01-15T19:21:00.128Z"
   },
   {
    "duration": 84,
    "start_time": "2022-01-15T19:21:01.378Z"
   },
   {
    "duration": 16,
    "start_time": "2022-01-15T19:21:01.468Z"
   },
   {
    "duration": 23,
    "start_time": "2022-01-15T19:21:01.487Z"
   },
   {
    "duration": 41,
    "start_time": "2022-01-15T19:21:01.512Z"
   },
   {
    "duration": 28,
    "start_time": "2022-01-15T19:21:01.555Z"
   },
   {
    "duration": 42,
    "start_time": "2022-01-15T19:21:01.587Z"
   },
   {
    "duration": 97,
    "start_time": "2022-01-15T19:21:01.631Z"
   },
   {
    "duration": 67,
    "start_time": "2022-01-15T19:21:01.731Z"
   },
   {
    "duration": 20,
    "start_time": "2022-01-15T19:21:01.802Z"
   },
   {
    "duration": 819,
    "start_time": "2022-01-15T19:21:01.826Z"
   },
   {
    "duration": 31,
    "start_time": "2022-01-15T19:21:02.647Z"
   },
   {
    "duration": 14,
    "start_time": "2022-01-15T19:21:02.680Z"
   },
   {
    "duration": 10,
    "start_time": "2022-01-15T19:22:10.468Z"
   },
   {
    "duration": 492,
    "start_time": "2022-01-15T19:22:16.788Z"
   },
   {
    "duration": 719,
    "start_time": "2022-01-15T19:22:27.902Z"
   },
   {
    "duration": 1204,
    "start_time": "2022-01-15T19:22:33.388Z"
   },
   {
    "duration": 92,
    "start_time": "2022-01-15T19:22:34.595Z"
   },
   {
    "duration": 18,
    "start_time": "2022-01-15T19:22:34.692Z"
   },
   {
    "duration": 8,
    "start_time": "2022-01-15T19:22:34.713Z"
   },
   {
    "duration": 61,
    "start_time": "2022-01-15T19:22:34.724Z"
   },
   {
    "duration": 28,
    "start_time": "2022-01-15T19:22:34.788Z"
   },
   {
    "duration": 55,
    "start_time": "2022-01-15T19:22:34.819Z"
   },
   {
    "duration": 10,
    "start_time": "2022-01-15T19:22:34.878Z"
   },
   {
    "duration": 614,
    "start_time": "2022-01-15T19:22:34.891Z"
   },
   {
    "duration": 8,
    "start_time": "2022-01-15T19:22:35.508Z"
   },
   {
    "duration": 18,
    "start_time": "2022-01-15T19:22:46.353Z"
   },
   {
    "duration": 29,
    "start_time": "2022-01-15T19:23:36.329Z"
   },
   {
    "duration": 9,
    "start_time": "2022-01-15T19:24:35.841Z"
   },
   {
    "duration": 7,
    "start_time": "2022-01-15T19:25:44.849Z"
   },
   {
    "duration": 6,
    "start_time": "2022-01-15T19:27:58.681Z"
   },
   {
    "duration": 29,
    "start_time": "2022-01-15T19:28:01.456Z"
   },
   {
    "duration": 31,
    "start_time": "2022-01-15T19:29:47.864Z"
   },
   {
    "duration": 22,
    "start_time": "2022-01-15T19:29:52.272Z"
   },
   {
    "duration": 24,
    "start_time": "2022-01-15T19:30:01.609Z"
   },
   {
    "duration": 45,
    "start_time": "2022-01-15T19:30:13.664Z"
   },
   {
    "duration": 14,
    "start_time": "2022-01-15T19:31:32.573Z"
   },
   {
    "duration": 8,
    "start_time": "2022-01-15T19:33:13.094Z"
   },
   {
    "duration": 30,
    "start_time": "2022-01-15T19:33:16.599Z"
   },
   {
    "duration": 9,
    "start_time": "2022-01-15T19:33:29.144Z"
   },
   {
    "duration": 16,
    "start_time": "2022-01-15T19:34:49.401Z"
   },
   {
    "duration": 5,
    "start_time": "2022-01-15T19:35:57.944Z"
   },
   {
    "duration": 26,
    "start_time": "2022-01-15T19:35:59.780Z"
   },
   {
    "duration": 6,
    "start_time": "2022-01-15T19:37:02.791Z"
   },
   {
    "duration": 39,
    "start_time": "2022-01-15T19:37:03.978Z"
   },
   {
    "duration": 396,
    "start_time": "2022-01-15T19:37:31.807Z"
   },
   {
    "duration": 24,
    "start_time": "2022-01-15T19:37:40.705Z"
   },
   {
    "duration": 22,
    "start_time": "2022-01-15T19:37:44.831Z"
   },
   {
    "duration": 7,
    "start_time": "2022-01-15T19:47:41.564Z"
   },
   {
    "duration": 35,
    "start_time": "2022-01-15T19:47:44.125Z"
   },
   {
    "duration": 7,
    "start_time": "2022-01-15T19:47:57.044Z"
   },
   {
    "duration": 31,
    "start_time": "2022-01-15T19:47:57.686Z"
   },
   {
    "duration": 1199,
    "start_time": "2022-01-15T19:50:03.177Z"
   },
   {
    "duration": 84,
    "start_time": "2022-01-15T19:50:04.378Z"
   },
   {
    "duration": 17,
    "start_time": "2022-01-15T19:50:04.466Z"
   },
   {
    "duration": 6,
    "start_time": "2022-01-15T19:50:04.486Z"
   },
   {
    "duration": 9,
    "start_time": "2022-01-15T19:50:04.494Z"
   },
   {
    "duration": 65,
    "start_time": "2022-01-15T19:50:04.505Z"
   },
   {
    "duration": 14,
    "start_time": "2022-01-15T19:50:04.572Z"
   },
   {
    "duration": 34,
    "start_time": "2022-01-15T19:50:04.590Z"
   },
   {
    "duration": 40,
    "start_time": "2022-01-15T19:50:04.627Z"
   },
   {
    "duration": 527,
    "start_time": "2022-01-15T19:50:04.670Z"
   },
   {
    "duration": 7,
    "start_time": "2022-01-15T19:50:05.199Z"
   },
   {
    "duration": 7,
    "start_time": "2022-01-15T19:50:05.208Z"
   },
   {
    "duration": 59,
    "start_time": "2022-01-15T19:50:05.217Z"
   },
   {
    "duration": 6,
    "start_time": "2022-01-15T19:50:05.279Z"
   },
   {
    "duration": 8,
    "start_time": "2022-01-15T19:50:05.288Z"
   },
   {
    "duration": 11,
    "start_time": "2022-01-15T19:50:05.298Z"
   },
   {
    "duration": 55,
    "start_time": "2022-01-15T19:55:02.835Z"
   },
   {
    "duration": 31,
    "start_time": "2022-01-15T19:55:26.844Z"
   },
   {
    "duration": 20,
    "start_time": "2022-01-15T19:55:43.121Z"
   },
   {
    "duration": 475,
    "start_time": "2022-01-15T19:55:50.515Z"
   },
   {
    "duration": 21,
    "start_time": "2022-01-15T19:56:04.708Z"
   },
   {
    "duration": 350,
    "start_time": "2022-01-15T19:56:18.108Z"
   },
   {
    "duration": 27,
    "start_time": "2022-01-15T19:56:25.197Z"
   },
   {
    "duration": 432,
    "start_time": "2022-01-15T19:56:31.034Z"
   },
   {
    "duration": 23,
    "start_time": "2022-01-15T19:56:38.938Z"
   },
   {
    "duration": 331,
    "start_time": "2022-01-15T19:56:44.435Z"
   },
   {
    "duration": 447,
    "start_time": "2022-01-15T19:57:13.707Z"
   },
   {
    "duration": 294,
    "start_time": "2022-01-15T19:57:44.748Z"
   },
   {
    "duration": 322,
    "start_time": "2022-01-15T19:58:09.522Z"
   },
   {
    "duration": 314,
    "start_time": "2022-01-15T19:58:50.628Z"
   },
   {
    "duration": 299,
    "start_time": "2022-01-15T19:59:34.123Z"
   },
   {
    "duration": 34,
    "start_time": "2022-01-15T20:04:51.210Z"
   },
   {
    "duration": 13,
    "start_time": "2022-01-15T20:04:55.400Z"
   },
   {
    "duration": 11,
    "start_time": "2022-01-15T20:05:01.570Z"
   },
   {
    "duration": 10,
    "start_time": "2022-01-15T20:05:11.889Z"
   },
   {
    "duration": 93,
    "start_time": "2022-01-15T20:05:38.258Z"
   },
   {
    "duration": 12,
    "start_time": "2022-01-15T20:05:42.246Z"
   },
   {
    "duration": 10,
    "start_time": "2022-01-15T20:05:53.505Z"
   },
   {
    "duration": 9,
    "start_time": "2022-01-15T20:07:24.377Z"
   },
   {
    "duration": 31,
    "start_time": "2022-01-15T20:07:25.545Z"
   },
   {
    "duration": 287,
    "start_time": "2022-01-15T20:09:32.633Z"
   },
   {
    "duration": 292,
    "start_time": "2022-01-15T20:09:36.418Z"
   },
   {
    "duration": 24,
    "start_time": "2022-01-15T20:09:47.217Z"
   },
   {
    "duration": 483,
    "start_time": "2022-01-15T20:10:01.032Z"
   },
   {
    "duration": 701,
    "start_time": "2022-01-15T20:10:12.514Z"
   },
   {
    "duration": 309,
    "start_time": "2022-01-15T20:10:19.809Z"
   },
   {
    "duration": 514,
    "start_time": "2022-01-15T20:10:23.777Z"
   },
   {
    "duration": 770,
    "start_time": "2022-01-15T20:10:36.185Z"
   },
   {
    "duration": 280,
    "start_time": "2022-01-15T20:17:07.457Z"
   },
   {
    "duration": 501,
    "start_time": "2022-01-15T20:18:34.345Z"
   },
   {
    "duration": 355,
    "start_time": "2022-01-15T20:19:00.354Z"
   },
   {
    "duration": 405,
    "start_time": "2022-01-15T20:19:20.562Z"
   },
   {
    "duration": 361,
    "start_time": "2022-01-15T20:19:38.457Z"
   },
   {
    "duration": 324,
    "start_time": "2022-01-15T20:19:54.682Z"
   },
   {
    "duration": 321,
    "start_time": "2022-01-15T20:20:03.760Z"
   },
   {
    "duration": 294,
    "start_time": "2022-01-15T20:20:08.304Z"
   },
   {
    "duration": 319,
    "start_time": "2022-01-15T20:20:14.818Z"
   },
   {
    "duration": 102,
    "start_time": "2022-01-15T20:20:21.952Z"
   },
   {
    "duration": 294,
    "start_time": "2022-01-15T20:20:27.312Z"
   },
   {
    "duration": 342,
    "start_time": "2022-01-15T20:20:35.936Z"
   },
   {
    "duration": 750,
    "start_time": "2022-01-15T20:21:44.010Z"
   },
   {
    "duration": 425,
    "start_time": "2022-01-15T20:22:12.816Z"
   },
   {
    "duration": 532,
    "start_time": "2022-01-15T20:22:54.912Z"
   },
   {
    "duration": 309,
    "start_time": "2022-01-15T20:23:47.016Z"
   },
   {
    "duration": 290,
    "start_time": "2022-01-15T20:25:28.744Z"
   },
   {
    "duration": 294,
    "start_time": "2022-01-15T20:25:42.935Z"
   },
   {
    "duration": 302,
    "start_time": "2022-01-15T20:26:00.631Z"
   },
   {
    "duration": 501,
    "start_time": "2022-01-15T20:26:20.560Z"
   },
   {
    "duration": 93,
    "start_time": "2022-01-15T20:32:45.336Z"
   },
   {
    "duration": 96,
    "start_time": "2022-01-15T20:32:50.975Z"
   },
   {
    "duration": 302,
    "start_time": "2022-01-15T20:33:17.272Z"
   },
   {
    "duration": 9,
    "start_time": "2022-01-15T20:35:21.254Z"
   },
   {
    "duration": 31,
    "start_time": "2022-01-15T20:35:24.158Z"
   },
   {
    "duration": 8,
    "start_time": "2022-01-15T20:35:29.318Z"
   },
   {
    "duration": 31,
    "start_time": "2022-01-15T20:35:30.580Z"
   },
   {
    "duration": 7,
    "start_time": "2022-01-15T20:36:02.852Z"
   },
   {
    "duration": 32,
    "start_time": "2022-01-15T20:36:03.134Z"
   },
   {
    "duration": 6,
    "start_time": "2022-01-15T20:36:14.927Z"
   },
   {
    "duration": 5,
    "start_time": "2022-01-15T20:36:40.319Z"
   },
   {
    "duration": 373,
    "start_time": "2022-01-15T20:50:09.549Z"
   },
   {
    "duration": 154,
    "start_time": "2022-01-15T20:52:05.235Z"
   },
   {
    "duration": 56,
    "start_time": "2022-01-15T20:52:09.235Z"
   },
   {
    "duration": 377,
    "start_time": "2022-01-15T20:52:15.802Z"
   },
   {
    "duration": 355,
    "start_time": "2022-01-15T20:53:04.444Z"
   },
   {
    "duration": 434,
    "start_time": "2022-01-15T20:53:21.045Z"
   },
   {
    "duration": 495,
    "start_time": "2022-01-15T20:53:31.227Z"
   },
   {
    "duration": 447,
    "start_time": "2022-01-15T20:53:51.403Z"
   },
   {
    "duration": 325,
    "start_time": "2022-01-15T20:58:31.075Z"
   },
   {
    "duration": 269,
    "start_time": "2022-01-15T20:58:43.404Z"
   },
   {
    "duration": 303,
    "start_time": "2022-01-15T20:58:52.282Z"
   },
   {
    "duration": 278,
    "start_time": "2022-01-15T20:59:00.642Z"
   },
   {
    "duration": 319,
    "start_time": "2022-01-15T20:59:08.907Z"
   },
   {
    "duration": 805,
    "start_time": "2022-01-15T21:00:22.772Z"
   },
   {
    "duration": 235,
    "start_time": "2022-01-15T21:03:43.530Z"
   },
   {
    "duration": 221,
    "start_time": "2022-01-15T21:03:49.489Z"
   },
   {
    "duration": 33,
    "start_time": "2022-01-15T21:04:19.698Z"
   },
   {
    "duration": 638,
    "start_time": "2022-01-15T21:05:56.787Z"
   },
   {
    "duration": 216,
    "start_time": "2022-01-15T21:06:03.297Z"
   },
   {
    "duration": 212,
    "start_time": "2022-01-15T21:07:06.696Z"
   },
   {
    "duration": 22,
    "start_time": "2022-01-15T21:09:20.169Z"
   },
   {
    "duration": 1251,
    "start_time": "2022-01-15T21:11:25.528Z"
   },
   {
    "duration": 83,
    "start_time": "2022-01-15T21:11:26.781Z"
   },
   {
    "duration": 15,
    "start_time": "2022-01-15T21:11:26.866Z"
   },
   {
    "duration": 6,
    "start_time": "2022-01-15T21:11:26.884Z"
   },
   {
    "duration": 7,
    "start_time": "2022-01-15T21:11:26.893Z"
   },
   {
    "duration": 60,
    "start_time": "2022-01-15T21:11:26.903Z"
   },
   {
    "duration": 13,
    "start_time": "2022-01-15T21:11:26.965Z"
   },
   {
    "duration": 33,
    "start_time": "2022-01-15T21:11:26.982Z"
   },
   {
    "duration": 11,
    "start_time": "2022-01-15T21:11:27.018Z"
   },
   {
    "duration": 509,
    "start_time": "2022-01-15T21:11:27.062Z"
   },
   {
    "duration": 7,
    "start_time": "2022-01-15T21:11:27.573Z"
   },
   {
    "duration": 9,
    "start_time": "2022-01-15T21:11:27.582Z"
   },
   {
    "duration": 34,
    "start_time": "2022-01-15T21:11:27.593Z"
   },
   {
    "duration": 33,
    "start_time": "2022-01-15T21:11:27.629Z"
   },
   {
    "duration": 5,
    "start_time": "2022-01-15T21:11:27.665Z"
   },
   {
    "duration": 9,
    "start_time": "2022-01-15T21:11:27.672Z"
   },
   {
    "duration": 582,
    "start_time": "2022-01-15T21:11:27.683Z"
   },
   {
    "duration": 10,
    "start_time": "2022-01-15T21:11:28.268Z"
   },
   {
    "duration": 12,
    "start_time": "2022-01-15T21:11:28.280Z"
   },
   {
    "duration": 527,
    "start_time": "2022-01-15T21:11:28.294Z"
   },
   {
    "duration": 341,
    "start_time": "2022-01-15T21:11:28.824Z"
   },
   {
    "duration": 297,
    "start_time": "2022-01-15T21:11:29.168Z"
   },
   {
    "duration": 333,
    "start_time": "2022-01-15T21:11:29.470Z"
   },
   {
    "duration": 288,
    "start_time": "2022-01-15T21:11:29.805Z"
   },
   {
    "duration": 311,
    "start_time": "2022-01-15T21:11:30.095Z"
   },
   {
    "duration": 8,
    "start_time": "2022-01-15T21:11:30.408Z"
   },
   {
    "duration": 13,
    "start_time": "2022-01-15T21:11:30.418Z"
   },
   {
    "duration": 484,
    "start_time": "2022-01-15T21:11:30.434Z"
   },
   {
    "duration": 315,
    "start_time": "2022-01-15T21:11:30.921Z"
   },
   {
    "duration": 241,
    "start_time": "2022-01-15T21:11:31.239Z"
   },
   {
    "duration": 23,
    "start_time": "2022-01-15T21:11:31.483Z"
   },
   {
    "duration": 534,
    "start_time": "2022-01-15T22:28:45.265Z"
   },
   {
    "duration": 8,
    "start_time": "2022-01-15T22:30:24.157Z"
   },
   {
    "duration": 67,
    "start_time": "2022-01-15T22:30:39.153Z"
   },
   {
    "duration": 75,
    "start_time": "2022-01-15T22:31:36.371Z"
   },
   {
    "duration": 54,
    "start_time": "2022-01-15T22:32:09.621Z"
   },
   {
    "duration": 261,
    "start_time": "2022-01-15T22:34:12.638Z"
   },
   {
    "duration": 293,
    "start_time": "2022-01-15T22:35:20.535Z"
   },
   {
    "duration": 278,
    "start_time": "2022-01-15T22:36:17.066Z"
   },
   {
    "duration": 284,
    "start_time": "2022-01-15T22:36:22.549Z"
   },
   {
    "duration": 246,
    "start_time": "2022-01-15T22:36:25.875Z"
   },
   {
    "duration": 275,
    "start_time": "2022-01-15T22:36:43.027Z"
   },
   {
    "duration": 260,
    "start_time": "2022-01-15T22:36:47.027Z"
   },
   {
    "duration": 267,
    "start_time": "2022-01-15T22:42:52.272Z"
   },
   {
    "duration": 265,
    "start_time": "2022-01-15T22:43:13.491Z"
   },
   {
    "duration": 333,
    "start_time": "2022-01-15T22:43:48.130Z"
   },
   {
    "duration": 279,
    "start_time": "2022-01-15T22:44:17.491Z"
   },
   {
    "duration": 272,
    "start_time": "2022-01-15T22:45:09.826Z"
   },
   {
    "duration": 46,
    "start_time": "2022-01-15T22:56:24.354Z"
   },
   {
    "duration": 30,
    "start_time": "2022-01-15T22:56:27.193Z"
   },
   {
    "duration": 36,
    "start_time": "2022-01-15T22:57:12.298Z"
   },
   {
    "duration": 100,
    "start_time": "2022-01-15T22:57:59.498Z"
   },
   {
    "duration": 7,
    "start_time": "2022-01-15T22:58:07.553Z"
   },
   {
    "duration": 310,
    "start_time": "2022-01-15T22:58:12.848Z"
   },
   {
    "duration": 34,
    "start_time": "2022-01-15T22:58:17.295Z"
   },
   {
    "duration": 10,
    "start_time": "2022-01-15T22:58:32.249Z"
   },
   {
    "duration": 10,
    "start_time": "2022-01-15T22:59:17.607Z"
   },
   {
    "duration": 7,
    "start_time": "2022-01-15T22:59:42.416Z"
   },
   {
    "duration": 1260,
    "start_time": "2022-01-15T23:01:54.019Z"
   },
   {
    "duration": 84,
    "start_time": "2022-01-15T23:01:55.282Z"
   },
   {
    "duration": 14,
    "start_time": "2022-01-15T23:01:55.369Z"
   },
   {
    "duration": 6,
    "start_time": "2022-01-15T23:01:55.386Z"
   },
   {
    "duration": 8,
    "start_time": "2022-01-15T23:01:55.395Z"
   },
   {
    "duration": 61,
    "start_time": "2022-01-15T23:01:55.405Z"
   },
   {
    "duration": 14,
    "start_time": "2022-01-15T23:01:55.468Z"
   },
   {
    "duration": 33,
    "start_time": "2022-01-15T23:01:55.484Z"
   },
   {
    "duration": 42,
    "start_time": "2022-01-15T23:01:55.521Z"
   },
   {
    "duration": 500,
    "start_time": "2022-01-15T23:01:55.566Z"
   },
   {
    "duration": 7,
    "start_time": "2022-01-15T23:01:56.068Z"
   },
   {
    "duration": 9,
    "start_time": "2022-01-15T23:01:56.077Z"
   },
   {
    "duration": 36,
    "start_time": "2022-01-15T23:01:56.088Z"
   },
   {
    "duration": 5,
    "start_time": "2022-01-15T23:01:56.127Z"
   },
   {
    "duration": 5,
    "start_time": "2022-01-15T23:01:56.162Z"
   },
   {
    "duration": 8,
    "start_time": "2022-01-15T23:01:56.169Z"
   },
   {
    "duration": 486,
    "start_time": "2022-01-15T23:01:56.179Z"
   },
   {
    "duration": 8,
    "start_time": "2022-01-15T23:01:56.668Z"
   },
   {
    "duration": 10,
    "start_time": "2022-01-15T23:01:56.679Z"
   },
   {
    "duration": 540,
    "start_time": "2022-01-15T23:01:56.692Z"
   },
   {
    "duration": 330,
    "start_time": "2022-01-15T23:01:57.236Z"
   },
   {
    "duration": 293,
    "start_time": "2022-01-15T23:01:57.569Z"
   },
   {
    "duration": 323,
    "start_time": "2022-01-15T23:01:57.865Z"
   },
   {
    "duration": 309,
    "start_time": "2022-01-15T23:01:58.191Z"
   },
   {
    "duration": 319,
    "start_time": "2022-01-15T23:01:58.503Z"
   },
   {
    "duration": 8,
    "start_time": "2022-01-15T23:01:58.824Z"
   },
   {
    "duration": 27,
    "start_time": "2022-01-15T23:01:58.838Z"
   },
   {
    "duration": 473,
    "start_time": "2022-01-15T23:01:58.868Z"
   },
   {
    "duration": 317,
    "start_time": "2022-01-15T23:01:59.343Z"
   },
   {
    "duration": 244,
    "start_time": "2022-01-15T23:01:59.663Z"
   },
   {
    "duration": 22,
    "start_time": "2022-01-15T23:01:59.910Z"
   },
   {
    "duration": 287,
    "start_time": "2022-01-15T23:01:59.934Z"
   },
   {
    "duration": 265,
    "start_time": "2022-01-15T23:02:00.224Z"
   },
   {
    "duration": 271,
    "start_time": "2022-01-15T23:02:00.492Z"
   },
   {
    "duration": 277,
    "start_time": "2022-01-15T23:02:00.765Z"
   },
   {
    "duration": 288,
    "start_time": "2022-01-15T23:02:01.045Z"
   },
   {
    "duration": 294,
    "start_time": "2022-01-15T23:02:01.336Z"
   },
   {
    "duration": 10,
    "start_time": "2022-01-15T23:02:01.633Z"
   },
   {
    "duration": 19,
    "start_time": "2022-01-15T23:02:01.646Z"
   },
   {
    "duration": 1192,
    "start_time": "2022-01-16T12:44:43.405Z"
   },
   {
    "duration": 93,
    "start_time": "2022-01-16T12:44:44.599Z"
   },
   {
    "duration": 17,
    "start_time": "2022-01-16T12:44:44.696Z"
   },
   {
    "duration": 7,
    "start_time": "2022-01-16T12:44:44.716Z"
   },
   {
    "duration": 42,
    "start_time": "2022-01-16T12:44:44.726Z"
   },
   {
    "duration": 25,
    "start_time": "2022-01-16T12:44:44.771Z"
   },
   {
    "duration": 15,
    "start_time": "2022-01-16T12:44:44.799Z"
   },
   {
    "duration": 71,
    "start_time": "2022-01-16T12:44:44.819Z"
   },
   {
    "duration": 11,
    "start_time": "2022-01-16T12:44:44.894Z"
   },
   {
    "duration": 536,
    "start_time": "2022-01-16T12:44:44.908Z"
   },
   {
    "duration": 15,
    "start_time": "2022-01-16T12:44:45.447Z"
   },
   {
    "duration": 9,
    "start_time": "2022-01-16T12:44:45.465Z"
   },
   {
    "duration": 34,
    "start_time": "2022-01-16T12:44:45.477Z"
   },
   {
    "duration": 5,
    "start_time": "2022-01-16T12:44:45.514Z"
   },
   {
    "duration": 5,
    "start_time": "2022-01-16T12:44:45.522Z"
   },
   {
    "duration": 35,
    "start_time": "2022-01-16T12:44:45.530Z"
   },
   {
    "duration": 488,
    "start_time": "2022-01-16T12:44:45.567Z"
   },
   {
    "duration": 10,
    "start_time": "2022-01-16T12:44:46.058Z"
   },
   {
    "duration": 16,
    "start_time": "2022-01-16T12:44:46.070Z"
   },
   {
    "duration": 531,
    "start_time": "2022-01-16T12:44:46.088Z"
   },
   {
    "duration": 328,
    "start_time": "2022-01-16T12:44:46.622Z"
   },
   {
    "duration": 299,
    "start_time": "2022-01-16T12:44:46.953Z"
   },
   {
    "duration": 323,
    "start_time": "2022-01-16T12:44:47.256Z"
   },
   {
    "duration": 283,
    "start_time": "2022-01-16T12:44:47.582Z"
   },
   {
    "duration": 328,
    "start_time": "2022-01-16T12:44:47.868Z"
   },
   {
    "duration": 8,
    "start_time": "2022-01-16T12:44:48.199Z"
   },
   {
    "duration": 6,
    "start_time": "2022-01-16T12:44:48.209Z"
   },
   {
    "duration": 479,
    "start_time": "2022-01-16T12:44:48.218Z"
   },
   {
    "duration": 302,
    "start_time": "2022-01-16T12:44:48.700Z"
   },
   {
    "duration": 231,
    "start_time": "2022-01-16T12:44:49.005Z"
   },
   {
    "duration": 31,
    "start_time": "2022-01-16T12:44:49.238Z"
   },
   {
    "duration": 381,
    "start_time": "2022-01-16T12:44:49.271Z"
   },
   {
    "duration": 432,
    "start_time": "2022-01-16T12:44:49.656Z"
   },
   {
    "duration": 275,
    "start_time": "2022-01-16T12:44:50.092Z"
   },
   {
    "duration": 296,
    "start_time": "2022-01-16T12:44:50.369Z"
   },
   {
    "duration": 266,
    "start_time": "2022-01-16T12:44:50.668Z"
   },
   {
    "duration": 280,
    "start_time": "2022-01-16T12:44:50.937Z"
   },
   {
    "duration": 10,
    "start_time": "2022-01-16T12:44:51.220Z"
   },
   {
    "duration": 10,
    "start_time": "2022-01-16T12:44:51.232Z"
   },
   {
    "duration": 13,
    "start_time": "2022-01-16T12:46:07.986Z"
   },
   {
    "duration": 6,
    "start_time": "2022-01-16T12:46:08.970Z"
   },
   {
    "duration": 34,
    "start_time": "2022-01-16T12:46:22.923Z"
   },
   {
    "duration": 33,
    "start_time": "2022-01-16T12:46:26.298Z"
   },
   {
    "duration": 15,
    "start_time": "2022-01-16T12:50:04.505Z"
   },
   {
    "duration": 8,
    "start_time": "2022-01-16T12:51:45.443Z"
   },
   {
    "duration": 1266,
    "start_time": "2022-01-16T15:41:07.816Z"
   },
   {
    "duration": 118,
    "start_time": "2022-01-16T15:41:09.085Z"
   },
   {
    "duration": 22,
    "start_time": "2022-01-16T15:41:09.207Z"
   },
   {
    "duration": 9,
    "start_time": "2022-01-16T15:41:09.233Z"
   },
   {
    "duration": 35,
    "start_time": "2022-01-16T15:41:09.244Z"
   },
   {
    "duration": 26,
    "start_time": "2022-01-16T15:41:09.281Z"
   },
   {
    "duration": 15,
    "start_time": "2022-01-16T15:41:09.310Z"
   },
   {
    "duration": 71,
    "start_time": "2022-01-16T15:41:09.329Z"
   },
   {
    "duration": 13,
    "start_time": "2022-01-16T15:41:09.404Z"
   },
   {
    "duration": 887,
    "start_time": "2022-01-16T15:41:09.420Z"
   },
   {
    "duration": 9,
    "start_time": "2022-01-16T15:41:10.310Z"
   },
   {
    "duration": 14,
    "start_time": "2022-01-16T15:41:10.322Z"
   },
   {
    "duration": 63,
    "start_time": "2022-01-16T15:41:10.338Z"
   },
   {
    "duration": 6,
    "start_time": "2022-01-16T15:41:10.404Z"
   },
   {
    "duration": 7,
    "start_time": "2022-01-16T15:41:10.414Z"
   },
   {
    "duration": 8,
    "start_time": "2022-01-16T15:41:10.424Z"
   },
   {
    "duration": 522,
    "start_time": "2022-01-16T15:41:10.435Z"
   },
   {
    "duration": 11,
    "start_time": "2022-01-16T15:41:10.959Z"
   },
   {
    "duration": 15,
    "start_time": "2022-01-16T15:41:10.973Z"
   },
   {
    "duration": 562,
    "start_time": "2022-01-16T15:41:10.991Z"
   },
   {
    "duration": 358,
    "start_time": "2022-01-16T15:41:11.555Z"
   },
   {
    "duration": 307,
    "start_time": "2022-01-16T15:41:11.916Z"
   },
   {
    "duration": 328,
    "start_time": "2022-01-16T15:41:12.228Z"
   },
   {
    "duration": 308,
    "start_time": "2022-01-16T15:41:12.559Z"
   },
   {
    "duration": 347,
    "start_time": "2022-01-16T15:41:12.870Z"
   },
   {
    "duration": 10,
    "start_time": "2022-01-16T15:41:13.220Z"
   },
   {
    "duration": 7,
    "start_time": "2022-01-16T15:41:13.233Z"
   },
   {
    "duration": 654,
    "start_time": "2022-01-16T15:41:13.243Z"
   },
   {
    "duration": 324,
    "start_time": "2022-01-16T15:41:13.899Z"
   },
   {
    "duration": 265,
    "start_time": "2022-01-16T15:41:14.226Z"
   },
   {
    "duration": 25,
    "start_time": "2022-01-16T15:41:14.495Z"
   },
   {
    "duration": 338,
    "start_time": "2022-01-16T15:41:14.522Z"
   },
   {
    "duration": 294,
    "start_time": "2022-01-16T15:41:14.863Z"
   },
   {
    "duration": 316,
    "start_time": "2022-01-16T15:41:15.167Z"
   },
   {
    "duration": 430,
    "start_time": "2022-01-16T15:41:15.486Z"
   },
   {
    "duration": 290,
    "start_time": "2022-01-16T15:41:15.921Z"
   },
   {
    "duration": 428,
    "start_time": "2022-01-16T15:41:16.214Z"
   },
   {
    "duration": 28,
    "start_time": "2022-01-16T15:41:16.645Z"
   },
   {
    "duration": 8,
    "start_time": "2022-01-16T15:41:16.679Z"
   },
   {
    "duration": 14,
    "start_time": "2022-01-16T15:41:16.690Z"
   },
   {
    "duration": 7,
    "start_time": "2022-01-16T15:41:16.706Z"
   },
   {
    "duration": 5,
    "start_time": "2022-01-16T15:45:17.525Z"
   },
   {
    "duration": 830,
    "start_time": "2022-01-16T15:46:45.849Z"
   },
   {
    "duration": 1373,
    "start_time": "2022-01-16T15:46:55.520Z"
   },
   {
    "duration": 79,
    "start_time": "2022-01-16T15:46:56.896Z"
   },
   {
    "duration": 19,
    "start_time": "2022-01-16T15:46:56.977Z"
   },
   {
    "duration": 6,
    "start_time": "2022-01-16T15:46:57.000Z"
   },
   {
    "duration": 12,
    "start_time": "2022-01-16T15:46:57.009Z"
   },
   {
    "duration": 72,
    "start_time": "2022-01-16T15:46:57.024Z"
   },
   {
    "duration": 16,
    "start_time": "2022-01-16T15:46:57.100Z"
   },
   {
    "duration": 47,
    "start_time": "2022-01-16T15:46:57.119Z"
   },
   {
    "duration": 12,
    "start_time": "2022-01-16T15:46:57.172Z"
   },
   {
    "duration": 564,
    "start_time": "2022-01-16T15:46:57.189Z"
   },
   {
    "duration": 13,
    "start_time": "2022-01-16T15:46:57.756Z"
   },
   {
    "duration": 14,
    "start_time": "2022-01-16T15:46:57.772Z"
   },
   {
    "duration": 40,
    "start_time": "2022-01-16T15:46:57.788Z"
   },
   {
    "duration": 6,
    "start_time": "2022-01-16T15:46:57.830Z"
   },
   {
    "duration": 30,
    "start_time": "2022-01-16T15:46:57.839Z"
   },
   {
    "duration": 21,
    "start_time": "2022-01-16T15:46:57.871Z"
   },
   {
    "duration": 614,
    "start_time": "2022-01-16T15:46:57.895Z"
   },
   {
    "duration": 13,
    "start_time": "2022-01-16T15:46:58.512Z"
   },
   {
    "duration": 12,
    "start_time": "2022-01-16T15:46:58.529Z"
   },
   {
    "duration": 542,
    "start_time": "2022-01-16T15:46:58.567Z"
   },
   {
    "duration": 355,
    "start_time": "2022-01-16T15:46:59.112Z"
   },
   {
    "duration": 454,
    "start_time": "2022-01-16T15:46:59.474Z"
   },
   {
    "duration": 448,
    "start_time": "2022-01-16T15:46:59.931Z"
   },
   {
    "duration": 455,
    "start_time": "2022-01-16T15:47:00.383Z"
   },
   {
    "duration": 481,
    "start_time": "2022-01-16T15:47:00.841Z"
   },
   {
    "duration": 10,
    "start_time": "2022-01-16T15:47:01.325Z"
   },
   {
    "duration": 28,
    "start_time": "2022-01-16T15:47:01.342Z"
   },
   {
    "duration": 738,
    "start_time": "2022-01-16T15:47:01.377Z"
   },
   {
    "duration": 467,
    "start_time": "2022-01-16T15:47:02.118Z"
   },
   {
    "duration": 245,
    "start_time": "2022-01-16T15:47:02.588Z"
   },
   {
    "duration": 45,
    "start_time": "2022-01-16T15:47:02.836Z"
   },
   {
    "duration": 430,
    "start_time": "2022-01-16T15:47:02.892Z"
   },
   {
    "duration": -704,
    "start_time": "2022-01-16T15:47:04.029Z"
   },
   {
    "duration": -708,
    "start_time": "2022-01-16T15:47:04.035Z"
   },
   {
    "duration": -709,
    "start_time": "2022-01-16T15:47:04.037Z"
   },
   {
    "duration": -708,
    "start_time": "2022-01-16T15:47:04.038Z"
   },
   {
    "duration": -707,
    "start_time": "2022-01-16T15:47:04.039Z"
   },
   {
    "duration": -708,
    "start_time": "2022-01-16T15:47:04.041Z"
   },
   {
    "duration": -707,
    "start_time": "2022-01-16T15:47:04.042Z"
   },
   {
    "duration": -708,
    "start_time": "2022-01-16T15:47:04.044Z"
   },
   {
    "duration": -707,
    "start_time": "2022-01-16T15:47:04.045Z"
   },
   {
    "duration": -712,
    "start_time": "2022-01-16T15:47:04.051Z"
   },
   {
    "duration": 323,
    "start_time": "2022-01-16T15:48:01.270Z"
   },
   {
    "duration": 318,
    "start_time": "2022-01-16T15:48:11.868Z"
   },
   {
    "duration": 455,
    "start_time": "2022-01-16T15:48:35.078Z"
   },
   {
    "duration": 306,
    "start_time": "2022-01-16T15:48:43.159Z"
   },
   {
    "duration": 30,
    "start_time": "2022-01-16T15:49:19.931Z"
   },
   {
    "duration": 9,
    "start_time": "2022-01-16T15:49:38.201Z"
   },
   {
    "duration": 1439,
    "start_time": "2022-01-16T15:49:52.886Z"
   },
   {
    "duration": 80,
    "start_time": "2022-01-16T15:49:54.327Z"
   },
   {
    "duration": 15,
    "start_time": "2022-01-16T15:49:54.409Z"
   },
   {
    "duration": 7,
    "start_time": "2022-01-16T15:49:54.427Z"
   },
   {
    "duration": 31,
    "start_time": "2022-01-16T15:49:54.436Z"
   },
   {
    "duration": 30,
    "start_time": "2022-01-16T15:49:54.472Z"
   },
   {
    "duration": 14,
    "start_time": "2022-01-16T15:49:54.505Z"
   },
   {
    "duration": 68,
    "start_time": "2022-01-16T15:49:54.522Z"
   },
   {
    "duration": 10,
    "start_time": "2022-01-16T15:49:54.592Z"
   },
   {
    "duration": 718,
    "start_time": "2022-01-16T15:49:54.605Z"
   },
   {
    "duration": 7,
    "start_time": "2022-01-16T15:49:55.326Z"
   },
   {
    "duration": 11,
    "start_time": "2022-01-16T15:49:55.335Z"
   },
   {
    "duration": 52,
    "start_time": "2022-01-16T15:49:55.349Z"
   },
   {
    "duration": 6,
    "start_time": "2022-01-16T15:49:55.403Z"
   },
   {
    "duration": 12,
    "start_time": "2022-01-16T15:49:55.412Z"
   },
   {
    "duration": 14,
    "start_time": "2022-01-16T15:49:55.426Z"
   },
   {
    "duration": 352,
    "start_time": "2022-01-16T15:49:55.442Z"
   },
   {
    "duration": 9,
    "start_time": "2022-01-16T15:49:55.800Z"
   },
   {
    "duration": 12,
    "start_time": "2022-01-16T15:49:55.813Z"
   },
   {
    "duration": 639,
    "start_time": "2022-01-16T15:49:55.828Z"
   },
   {
    "duration": 341,
    "start_time": "2022-01-16T15:49:56.469Z"
   },
   {
    "duration": 306,
    "start_time": "2022-01-16T15:49:56.813Z"
   },
   {
    "duration": 324,
    "start_time": "2022-01-16T15:49:57.122Z"
   },
   {
    "duration": 317,
    "start_time": "2022-01-16T15:49:57.450Z"
   },
   {
    "duration": 341,
    "start_time": "2022-01-16T15:49:57.770Z"
   },
   {
    "duration": 8,
    "start_time": "2022-01-16T15:49:58.114Z"
   },
   {
    "duration": 14,
    "start_time": "2022-01-16T15:49:58.124Z"
   },
   {
    "duration": 534,
    "start_time": "2022-01-16T15:49:58.140Z"
   },
   {
    "duration": 435,
    "start_time": "2022-01-16T15:49:58.677Z"
   },
   {
    "duration": 381,
    "start_time": "2022-01-16T15:49:59.115Z"
   },
   {
    "duration": 24,
    "start_time": "2022-01-16T15:49:59.499Z"
   },
   {
    "duration": 500,
    "start_time": "2022-01-16T15:49:59.526Z"
   },
   {
    "duration": -691,
    "start_time": "2022-01-16T15:50:00.721Z"
   },
   {
    "duration": -691,
    "start_time": "2022-01-16T15:50:00.723Z"
   },
   {
    "duration": -691,
    "start_time": "2022-01-16T15:50:00.725Z"
   },
   {
    "duration": -690,
    "start_time": "2022-01-16T15:50:00.726Z"
   },
   {
    "duration": -689,
    "start_time": "2022-01-16T15:50:00.727Z"
   },
   {
    "duration": -690,
    "start_time": "2022-01-16T15:50:00.730Z"
   },
   {
    "duration": -693,
    "start_time": "2022-01-16T15:50:00.735Z"
   },
   {
    "duration": -694,
    "start_time": "2022-01-16T15:50:00.738Z"
   },
   {
    "duration": -693,
    "start_time": "2022-01-16T15:50:00.739Z"
   },
   {
    "duration": -697,
    "start_time": "2022-01-16T15:50:00.745Z"
   },
   {
    "duration": 7,
    "start_time": "2022-01-16T15:51:38.307Z"
   },
   {
    "duration": 7,
    "start_time": "2022-01-16T15:51:45.027Z"
   },
   {
    "duration": 364,
    "start_time": "2022-01-16T15:51:56.803Z"
   },
   {
    "duration": 23,
    "start_time": "2022-01-16T15:52:42.339Z"
   },
   {
    "duration": 306,
    "start_time": "2022-01-16T15:52:47.562Z"
   },
   {
    "duration": 362,
    "start_time": "2022-01-16T15:52:50.787Z"
   },
   {
    "duration": 287,
    "start_time": "2022-01-16T15:53:25.355Z"
   },
   {
    "duration": 261,
    "start_time": "2022-01-16T15:53:26.210Z"
   },
   {
    "duration": 397,
    "start_time": "2022-01-16T15:53:26.474Z"
   },
   {
    "duration": 423,
    "start_time": "2022-01-16T15:53:26.879Z"
   },
   {
    "duration": 270,
    "start_time": "2022-01-16T15:53:27.306Z"
   },
   {
    "duration": 352,
    "start_time": "2022-01-16T15:53:27.579Z"
   },
   {
    "duration": 14,
    "start_time": "2022-01-16T15:53:27.933Z"
   },
   {
    "duration": 7,
    "start_time": "2022-01-16T15:53:28.051Z"
   },
   {
    "duration": 19,
    "start_time": "2022-01-16T15:53:28.394Z"
   },
   {
    "duration": 9,
    "start_time": "2022-01-16T15:53:28.747Z"
   },
   {
    "duration": 311,
    "start_time": "2022-01-16T15:54:56.690Z"
   },
   {
    "duration": 32,
    "start_time": "2022-01-16T15:55:14.914Z"
   },
   {
    "duration": 368,
    "start_time": "2022-01-16T15:55:56.787Z"
   },
   {
    "duration": 424,
    "start_time": "2022-01-16T15:57:02.827Z"
   },
   {
    "duration": 478,
    "start_time": "2022-01-16T15:57:51.233Z"
   },
   {
    "duration": 410,
    "start_time": "2022-01-16T15:58:27.691Z"
   },
   {
    "duration": 545,
    "start_time": "2022-01-16T15:58:42.147Z"
   },
   {
    "duration": 466,
    "start_time": "2022-01-16T15:59:36.035Z"
   },
   {
    "duration": 1565,
    "start_time": "2022-01-16T19:16:23.956Z"
   },
   {
    "duration": 109,
    "start_time": "2022-01-16T19:16:25.525Z"
   },
   {
    "duration": 32,
    "start_time": "2022-01-16T19:16:25.638Z"
   },
   {
    "duration": 7,
    "start_time": "2022-01-16T19:16:25.674Z"
   },
   {
    "duration": 10,
    "start_time": "2022-01-16T19:16:25.685Z"
   },
   {
    "duration": 25,
    "start_time": "2022-01-16T19:16:25.697Z"
   },
   {
    "duration": 53,
    "start_time": "2022-01-16T19:16:25.725Z"
   },
   {
    "duration": 34,
    "start_time": "2022-01-16T19:16:25.783Z"
   },
   {
    "duration": 47,
    "start_time": "2022-01-16T19:16:25.821Z"
   },
   {
    "duration": 516,
    "start_time": "2022-01-16T19:16:25.871Z"
   },
   {
    "duration": 7,
    "start_time": "2022-01-16T19:16:26.390Z"
   },
   {
    "duration": 9,
    "start_time": "2022-01-16T19:16:26.399Z"
   },
   {
    "duration": 65,
    "start_time": "2022-01-16T19:16:26.410Z"
   },
   {
    "duration": 6,
    "start_time": "2022-01-16T19:16:26.478Z"
   },
   {
    "duration": 10,
    "start_time": "2022-01-16T19:16:26.486Z"
   },
   {
    "duration": 7,
    "start_time": "2022-01-16T19:16:26.498Z"
   },
   {
    "duration": 512,
    "start_time": "2022-01-16T19:16:26.507Z"
   },
   {
    "duration": 9,
    "start_time": "2022-01-16T19:16:27.022Z"
   },
   {
    "duration": 35,
    "start_time": "2022-01-16T19:16:27.033Z"
   },
   {
    "duration": 545,
    "start_time": "2022-01-16T19:16:27.070Z"
   },
   {
    "duration": 352,
    "start_time": "2022-01-16T19:16:27.618Z"
   },
   {
    "duration": 296,
    "start_time": "2022-01-16T19:16:27.973Z"
   },
   {
    "duration": 327,
    "start_time": "2022-01-16T19:16:28.275Z"
   },
   {
    "duration": 304,
    "start_time": "2022-01-16T19:16:28.605Z"
   },
   {
    "duration": 313,
    "start_time": "2022-01-16T19:16:28.911Z"
   },
   {
    "duration": 7,
    "start_time": "2022-01-16T19:16:29.227Z"
   },
   {
    "duration": 7,
    "start_time": "2022-01-16T19:16:29.237Z"
   },
   {
    "duration": 480,
    "start_time": "2022-01-16T19:16:29.268Z"
   },
   {
    "duration": 405,
    "start_time": "2022-01-16T19:16:29.750Z"
   },
   {
    "duration": 357,
    "start_time": "2022-01-16T19:16:30.158Z"
   },
   {
    "duration": 32,
    "start_time": "2022-01-16T19:16:30.518Z"
   },
   {
    "duration": 423,
    "start_time": "2022-01-16T19:16:30.568Z"
   },
   {
    "duration": 396,
    "start_time": "2022-01-16T19:16:30.994Z"
   },
   {
    "duration": 306,
    "start_time": "2022-01-16T19:16:31.393Z"
   },
   {
    "duration": 282,
    "start_time": "2022-01-16T19:16:31.702Z"
   },
   {
    "duration": 284,
    "start_time": "2022-01-16T19:16:31.987Z"
   },
   {
    "duration": 371,
    "start_time": "2022-01-16T19:16:32.273Z"
   },
   {
    "duration": 274,
    "start_time": "2022-01-16T19:16:32.647Z"
   },
   {
    "duration": 292,
    "start_time": "2022-01-16T19:16:32.923Z"
   },
   {
    "duration": 13,
    "start_time": "2022-01-16T19:16:33.218Z"
   },
   {
    "duration": 34,
    "start_time": "2022-01-16T19:16:33.235Z"
   },
   {
    "duration": 22,
    "start_time": "2022-01-16T19:16:33.272Z"
   },
   {
    "duration": 10,
    "start_time": "2022-01-16T19:16:33.297Z"
   },
   {
    "duration": 410,
    "start_time": "2022-01-16T19:20:27.931Z"
   },
   {
    "duration": 7,
    "start_time": "2022-01-16T19:20:39.450Z"
   },
   {
    "duration": 111,
    "start_time": "2022-01-16T19:20:57.826Z"
   },
   {
    "duration": 5,
    "start_time": "2022-01-16T19:21:00.897Z"
   },
   {
    "duration": 7,
    "start_time": "2022-01-16T19:21:17.321Z"
   },
   {
    "duration": 401,
    "start_time": "2022-01-16T19:24:03.290Z"
   },
   {
    "duration": 381,
    "start_time": "2022-01-16T19:24:09.944Z"
   },
   {
    "duration": 329,
    "start_time": "2022-01-16T19:24:29.315Z"
   },
   {
    "duration": 319,
    "start_time": "2022-01-16T19:24:31.914Z"
   },
   {
    "duration": 294,
    "start_time": "2022-01-16T19:27:16.211Z"
   },
   {
    "duration": 337,
    "start_time": "2022-01-16T19:27:22.574Z"
   },
   {
    "duration": 290,
    "start_time": "2022-01-16T19:27:30.265Z"
   },
   {
    "duration": 373,
    "start_time": "2022-01-16T19:27:59.697Z"
   },
   {
    "duration": 341,
    "start_time": "2022-01-16T19:28:08.810Z"
   },
   {
    "duration": 99,
    "start_time": "2022-01-16T19:28:18.457Z"
   },
   {
    "duration": 128,
    "start_time": "2022-01-16T19:28:22.806Z"
   },
   {
    "duration": 335,
    "start_time": "2022-01-16T19:28:24.938Z"
   },
   {
    "duration": 93,
    "start_time": "2022-01-16T19:28:31.288Z"
   },
   {
    "duration": 353,
    "start_time": "2022-01-16T19:28:33.889Z"
   },
   {
    "duration": 357,
    "start_time": "2022-01-16T19:30:48.745Z"
   },
   {
    "duration": 981,
    "start_time": "2022-01-16T19:34:35.144Z"
   },
   {
    "duration": 93,
    "start_time": "2022-01-16T19:36:37.673Z"
   },
   {
    "duration": 748,
    "start_time": "2022-01-16T19:36:40.440Z"
   },
   {
    "duration": 4005,
    "start_time": "2022-01-16T19:37:15.080Z"
   },
   {
    "duration": 11,
    "start_time": "2022-01-16T19:37:50.936Z"
   },
   {
    "duration": 8,
    "start_time": "2022-01-16T19:38:32.361Z"
   },
   {
    "duration": 270,
    "start_time": "2022-01-16T19:40:23.080Z"
   },
   {
    "duration": 347,
    "start_time": "2022-01-16T19:40:32.791Z"
   },
   {
    "duration": 270,
    "start_time": "2022-01-16T19:40:41.039Z"
   },
   {
    "duration": 525,
    "start_time": "2022-01-16T19:40:52.463Z"
   },
   {
    "duration": 542,
    "start_time": "2022-01-16T19:41:13.968Z"
   },
   {
    "duration": 313,
    "start_time": "2022-01-16T19:42:49.480Z"
   },
   {
    "duration": 327,
    "start_time": "2022-01-16T19:43:00.008Z"
   },
   {
    "duration": 321,
    "start_time": "2022-01-16T19:43:12.239Z"
   },
   {
    "duration": 10,
    "start_time": "2022-01-16T19:45:55.833Z"
   },
   {
    "duration": 1252,
    "start_time": "2022-01-16T19:48:26.041Z"
   },
   {
    "duration": 79,
    "start_time": "2022-01-16T19:48:27.296Z"
   },
   {
    "duration": 14,
    "start_time": "2022-01-16T19:48:27.378Z"
   },
   {
    "duration": 6,
    "start_time": "2022-01-16T19:48:27.396Z"
   },
   {
    "duration": 7,
    "start_time": "2022-01-16T19:48:27.405Z"
   },
   {
    "duration": 62,
    "start_time": "2022-01-16T19:48:27.415Z"
   },
   {
    "duration": 14,
    "start_time": "2022-01-16T19:48:27.479Z"
   },
   {
    "duration": 32,
    "start_time": "2022-01-16T19:48:27.496Z"
   },
   {
    "duration": 44,
    "start_time": "2022-01-16T19:48:27.532Z"
   },
   {
    "duration": 509,
    "start_time": "2022-01-16T19:48:27.579Z"
   },
   {
    "duration": 7,
    "start_time": "2022-01-16T19:48:28.091Z"
   },
   {
    "duration": 18,
    "start_time": "2022-01-16T19:48:28.100Z"
   },
   {
    "duration": 53,
    "start_time": "2022-01-16T19:48:28.121Z"
   },
   {
    "duration": 9,
    "start_time": "2022-01-16T19:48:28.177Z"
   },
   {
    "duration": 7,
    "start_time": "2022-01-16T19:48:28.188Z"
   },
   {
    "duration": 10,
    "start_time": "2022-01-16T19:48:28.197Z"
   },
   {
    "duration": 503,
    "start_time": "2022-01-16T19:48:28.210Z"
   },
   {
    "duration": 10,
    "start_time": "2022-01-16T19:48:28.715Z"
   },
   {
    "duration": 11,
    "start_time": "2022-01-16T19:48:28.727Z"
   },
   {
    "duration": 536,
    "start_time": "2022-01-16T19:48:28.740Z"
   },
   {
    "duration": 337,
    "start_time": "2022-01-16T19:48:29.278Z"
   },
   {
    "duration": 295,
    "start_time": "2022-01-16T19:48:29.617Z"
   },
   {
    "duration": 326,
    "start_time": "2022-01-16T19:48:29.914Z"
   },
   {
    "duration": 296,
    "start_time": "2022-01-16T19:48:30.243Z"
   },
   {
    "duration": 318,
    "start_time": "2022-01-16T19:48:30.541Z"
   },
   {
    "duration": 8,
    "start_time": "2022-01-16T19:48:30.866Z"
   },
   {
    "duration": 16,
    "start_time": "2022-01-16T19:48:30.879Z"
   },
   {
    "duration": 481,
    "start_time": "2022-01-16T19:48:30.898Z"
   },
   {
    "duration": 307,
    "start_time": "2022-01-16T19:48:31.382Z"
   },
   {
    "duration": 232,
    "start_time": "2022-01-16T19:48:31.692Z"
   },
   {
    "duration": 24,
    "start_time": "2022-01-16T19:48:31.927Z"
   },
   {
    "duration": 417,
    "start_time": "2022-01-16T19:48:31.953Z"
   },
   {
    "duration": 391,
    "start_time": "2022-01-16T19:48:32.373Z"
   },
   {
    "duration": 8,
    "start_time": "2022-01-16T19:48:32.767Z"
   },
   {
    "duration": 336,
    "start_time": "2022-01-16T19:48:32.777Z"
   },
   {
    "duration": 354,
    "start_time": "2022-01-16T19:48:33.116Z"
   },
   {
    "duration": 287,
    "start_time": "2022-01-16T19:48:33.472Z"
   },
   {
    "duration": 273,
    "start_time": "2022-01-16T19:48:33.761Z"
   },
   {
    "duration": 275,
    "start_time": "2022-01-16T19:48:34.036Z"
   },
   {
    "duration": 402,
    "start_time": "2022-01-16T19:48:34.313Z"
   },
   {
    "duration": 280,
    "start_time": "2022-01-16T19:48:34.718Z"
   },
   {
    "duration": 383,
    "start_time": "2022-01-16T19:48:35.000Z"
   },
   {
    "duration": 417,
    "start_time": "2022-01-16T19:48:35.386Z"
   },
   {
    "duration": -773,
    "start_time": "2022-01-16T19:48:36.578Z"
   },
   {
    "duration": -777,
    "start_time": "2022-01-16T19:48:36.583Z"
   },
   {
    "duration": -777,
    "start_time": "2022-01-16T19:48:36.585Z"
   },
   {
    "duration": -777,
    "start_time": "2022-01-16T19:48:36.586Z"
   },
   {
    "duration": 319,
    "start_time": "2022-01-16T19:49:11.008Z"
   },
   {
    "duration": 1164,
    "start_time": "2022-01-16T23:21:08.285Z"
   },
   {
    "duration": 80,
    "start_time": "2022-01-16T23:21:09.452Z"
   },
   {
    "duration": 14,
    "start_time": "2022-01-16T23:21:09.534Z"
   },
   {
    "duration": 12,
    "start_time": "2022-01-16T23:21:09.550Z"
   },
   {
    "duration": 30,
    "start_time": "2022-01-16T23:21:09.564Z"
   },
   {
    "duration": 27,
    "start_time": "2022-01-16T23:21:09.596Z"
   },
   {
    "duration": 12,
    "start_time": "2022-01-16T23:21:09.625Z"
   },
   {
    "duration": 29,
    "start_time": "2022-01-16T23:21:09.640Z"
   },
   {
    "duration": 9,
    "start_time": "2022-01-16T23:21:09.671Z"
   },
   {
    "duration": 442,
    "start_time": "2022-01-16T23:21:09.682Z"
   },
   {
    "duration": 6,
    "start_time": "2022-01-16T23:21:10.126Z"
   },
   {
    "duration": 11,
    "start_time": "2022-01-16T23:21:10.134Z"
   },
   {
    "duration": 32,
    "start_time": "2022-01-16T23:21:10.147Z"
   },
   {
    "duration": 5,
    "start_time": "2022-01-16T23:21:10.181Z"
   },
   {
    "duration": 5,
    "start_time": "2022-01-16T23:21:10.189Z"
   },
   {
    "duration": 11,
    "start_time": "2022-01-16T23:21:10.196Z"
   },
   {
    "duration": 401,
    "start_time": "2022-01-16T23:21:10.208Z"
   },
   {
    "duration": 6,
    "start_time": "2022-01-16T23:21:10.610Z"
   },
   {
    "duration": 32,
    "start_time": "2022-01-16T23:21:10.618Z"
   },
   {
    "duration": 269,
    "start_time": "2022-01-16T23:21:10.652Z"
   },
   {
    "duration": 187,
    "start_time": "2022-01-16T23:21:10.923Z"
   },
   {
    "duration": 162,
    "start_time": "2022-01-16T23:21:11.112Z"
   },
   {
    "duration": 178,
    "start_time": "2022-01-16T23:21:11.277Z"
   },
   {
    "duration": 158,
    "start_time": "2022-01-16T23:21:11.457Z"
   },
   {
    "duration": 177,
    "start_time": "2022-01-16T23:21:11.617Z"
   },
   {
    "duration": 5,
    "start_time": "2022-01-16T23:21:11.796Z"
   },
   {
    "duration": 9,
    "start_time": "2022-01-16T23:21:11.803Z"
   },
   {
    "duration": 268,
    "start_time": "2022-01-16T23:21:11.813Z"
   },
   {
    "duration": 229,
    "start_time": "2022-01-16T23:21:12.083Z"
   },
   {
    "duration": 132,
    "start_time": "2022-01-16T23:21:12.314Z"
   },
   {
    "duration": 13,
    "start_time": "2022-01-16T23:21:12.448Z"
   },
   {
    "duration": 297,
    "start_time": "2022-01-16T23:21:12.463Z"
   },
   {
    "duration": 280,
    "start_time": "2022-01-16T23:21:12.762Z"
   },
   {
    "duration": 5,
    "start_time": "2022-01-16T23:21:13.044Z"
   },
   {
    "duration": 180,
    "start_time": "2022-01-16T23:21:13.050Z"
   },
   {
    "duration": 198,
    "start_time": "2022-01-16T23:21:13.231Z"
   },
   {
    "duration": 157,
    "start_time": "2022-01-16T23:21:13.431Z"
   },
   {
    "duration": 151,
    "start_time": "2022-01-16T23:21:13.590Z"
   },
   {
    "duration": 150,
    "start_time": "2022-01-16T23:21:13.743Z"
   },
   {
    "duration": 158,
    "start_time": "2022-01-16T23:21:13.895Z"
   },
   {
    "duration": 158,
    "start_time": "2022-01-16T23:21:14.055Z"
   },
   {
    "duration": 233,
    "start_time": "2022-01-16T23:21:14.214Z"
   },
   {
    "duration": 185,
    "start_time": "2022-01-16T23:21:14.449Z"
   },
   {
    "duration": 10,
    "start_time": "2022-01-16T23:21:14.635Z"
   },
   {
    "duration": 6,
    "start_time": "2022-01-16T23:21:14.647Z"
   },
   {
    "duration": 11,
    "start_time": "2022-01-16T23:21:14.655Z"
   },
   {
    "duration": 4,
    "start_time": "2022-01-16T23:21:14.668Z"
   },
   {
    "duration": 12,
    "start_time": "2022-01-16T23:25:28.023Z"
   },
   {
    "duration": 10,
    "start_time": "2022-01-16T23:25:43.782Z"
   },
   {
    "duration": 305,
    "start_time": "2022-01-16T23:25:53.002Z"
   },
   {
    "duration": 9,
    "start_time": "2022-01-16T23:25:56.926Z"
   },
   {
    "duration": 947,
    "start_time": "2022-01-16T23:26:11.222Z"
   },
   {
    "duration": 55,
    "start_time": "2022-01-16T23:26:12.171Z"
   },
   {
    "duration": 9,
    "start_time": "2022-01-16T23:26:12.228Z"
   },
   {
    "duration": 9,
    "start_time": "2022-01-16T23:26:12.239Z"
   },
   {
    "duration": 22,
    "start_time": "2022-01-16T23:26:12.249Z"
   },
   {
    "duration": 21,
    "start_time": "2022-01-16T23:26:12.273Z"
   },
   {
    "duration": 14,
    "start_time": "2022-01-16T23:26:12.296Z"
   },
   {
    "duration": 29,
    "start_time": "2022-01-16T23:26:12.312Z"
   },
   {
    "duration": 9,
    "start_time": "2022-01-16T23:26:12.343Z"
   },
   {
    "duration": 277,
    "start_time": "2022-01-16T23:26:12.354Z"
   },
   {
    "duration": 8,
    "start_time": "2022-01-16T23:26:12.633Z"
   },
   {
    "duration": 17,
    "start_time": "2022-01-16T23:26:12.642Z"
   },
   {
    "duration": 33,
    "start_time": "2022-01-16T23:26:12.661Z"
   },
   {
    "duration": 9,
    "start_time": "2022-01-16T23:26:12.696Z"
   },
   {
    "duration": 21,
    "start_time": "2022-01-16T23:26:12.707Z"
   },
   {
    "duration": 14,
    "start_time": "2022-01-16T23:26:12.730Z"
   },
   {
    "duration": 305,
    "start_time": "2022-01-16T23:26:12.746Z"
   },
   {
    "duration": 7,
    "start_time": "2022-01-16T23:26:13.053Z"
   },
   {
    "duration": 13,
    "start_time": "2022-01-16T23:26:13.062Z"
   },
   {
    "duration": 292,
    "start_time": "2022-01-16T23:26:13.077Z"
   },
   {
    "duration": 193,
    "start_time": "2022-01-16T23:26:13.371Z"
   },
   {
    "duration": 166,
    "start_time": "2022-01-16T23:26:13.566Z"
   },
   {
    "duration": 180,
    "start_time": "2022-01-16T23:26:13.736Z"
   },
   {
    "duration": 166,
    "start_time": "2022-01-16T23:26:13.918Z"
   },
   {
    "duration": 179,
    "start_time": "2022-01-16T23:26:14.086Z"
   },
   {
    "duration": 5,
    "start_time": "2022-01-16T23:26:14.266Z"
   },
   {
    "duration": 19,
    "start_time": "2022-01-16T23:26:14.273Z"
   },
   {
    "duration": 280,
    "start_time": "2022-01-16T23:26:14.293Z"
   },
   {
    "duration": 194,
    "start_time": "2022-01-16T23:26:14.575Z"
   },
   {
    "duration": 135,
    "start_time": "2022-01-16T23:26:14.770Z"
   },
   {
    "duration": 14,
    "start_time": "2022-01-16T23:26:14.907Z"
   },
   {
    "duration": 310,
    "start_time": "2022-01-16T23:26:14.923Z"
   },
   {
    "duration": 315,
    "start_time": "2022-01-16T23:26:15.234Z"
   },
   {
    "duration": 6,
    "start_time": "2022-01-16T23:26:15.551Z"
   },
   {
    "duration": 196,
    "start_time": "2022-01-16T23:26:15.559Z"
   },
   {
    "duration": 190,
    "start_time": "2022-01-16T23:26:15.757Z"
   },
   {
    "duration": 155,
    "start_time": "2022-01-16T23:26:15.948Z"
   },
   {
    "duration": 150,
    "start_time": "2022-01-16T23:26:16.104Z"
   },
   {
    "duration": 151,
    "start_time": "2022-01-16T23:26:16.256Z"
   },
   {
    "duration": 176,
    "start_time": "2022-01-16T23:26:16.408Z"
   },
   {
    "duration": 164,
    "start_time": "2022-01-16T23:26:16.586Z"
   },
   {
    "duration": 261,
    "start_time": "2022-01-16T23:26:16.752Z"
   },
   {
    "duration": 187,
    "start_time": "2022-01-16T23:26:17.014Z"
   },
   {
    "duration": 9,
    "start_time": "2022-01-16T23:26:17.203Z"
   },
   {
    "duration": 40,
    "start_time": "2022-01-16T23:26:17.214Z"
   },
   {
    "duration": 41,
    "start_time": "2022-01-16T23:26:17.256Z"
   },
   {
    "duration": 31,
    "start_time": "2022-01-16T23:26:17.299Z"
   },
   {
    "duration": 913,
    "start_time": "2022-01-16T23:26:26.754Z"
   },
   {
    "duration": 55,
    "start_time": "2022-01-16T23:26:27.669Z"
   },
   {
    "duration": 9,
    "start_time": "2022-01-16T23:26:27.725Z"
   },
   {
    "duration": 31,
    "start_time": "2022-01-16T23:26:27.736Z"
   },
   {
    "duration": 25,
    "start_time": "2022-01-16T23:26:27.769Z"
   },
   {
    "duration": 32,
    "start_time": "2022-01-16T23:26:27.796Z"
   },
   {
    "duration": 25,
    "start_time": "2022-01-16T23:26:27.830Z"
   },
   {
    "duration": 27,
    "start_time": "2022-01-16T23:26:27.858Z"
   },
   {
    "duration": 15,
    "start_time": "2022-01-16T23:26:27.887Z"
   },
   {
    "duration": 281,
    "start_time": "2022-01-16T23:26:27.903Z"
   },
   {
    "duration": 5,
    "start_time": "2022-01-16T23:26:28.186Z"
   },
   {
    "duration": 10,
    "start_time": "2022-01-16T23:26:28.192Z"
   },
   {
    "duration": 42,
    "start_time": "2022-01-16T23:26:28.203Z"
   },
   {
    "duration": 5,
    "start_time": "2022-01-16T23:26:28.247Z"
   },
   {
    "duration": 27,
    "start_time": "2022-01-16T23:26:28.254Z"
   },
   {
    "duration": 23,
    "start_time": "2022-01-16T23:26:28.283Z"
   },
   {
    "duration": 485,
    "start_time": "2022-01-16T23:26:28.308Z"
   },
   {
    "duration": 8,
    "start_time": "2022-01-16T23:26:28.795Z"
   },
   {
    "duration": 25,
    "start_time": "2022-01-16T23:26:28.805Z"
   },
   {
    "duration": 471,
    "start_time": "2022-01-16T23:26:28.832Z"
   },
   {
    "duration": 188,
    "start_time": "2022-01-16T23:26:29.304Z"
   },
   {
    "duration": 171,
    "start_time": "2022-01-16T23:26:29.494Z"
   },
   {
    "duration": 180,
    "start_time": "2022-01-16T23:26:29.668Z"
   },
   {
    "duration": 175,
    "start_time": "2022-01-16T23:26:29.849Z"
   },
   {
    "duration": 182,
    "start_time": "2022-01-16T23:26:30.025Z"
   },
   {
    "duration": 6,
    "start_time": "2022-01-16T23:26:30.208Z"
   },
   {
    "duration": 33,
    "start_time": "2022-01-16T23:26:30.215Z"
   },
   {
    "duration": 281,
    "start_time": "2022-01-16T23:26:30.250Z"
   },
   {
    "duration": 212,
    "start_time": "2022-01-16T23:26:30.533Z"
   },
   {
    "duration": 158,
    "start_time": "2022-01-16T23:26:30.747Z"
   },
   {
    "duration": 15,
    "start_time": "2022-01-16T23:26:30.906Z"
   },
   {
    "duration": 330,
    "start_time": "2022-01-16T23:26:30.923Z"
   },
   {
    "duration": 307,
    "start_time": "2022-01-16T23:26:31.255Z"
   },
   {
    "duration": 6,
    "start_time": "2022-01-16T23:26:31.563Z"
   },
   {
    "duration": 219,
    "start_time": "2022-01-16T23:26:31.571Z"
   },
   {
    "duration": 203,
    "start_time": "2022-01-16T23:26:31.792Z"
   },
   {
    "duration": 164,
    "start_time": "2022-01-16T23:26:31.997Z"
   },
   {
    "duration": 156,
    "start_time": "2022-01-16T23:26:32.163Z"
   },
   {
    "duration": 151,
    "start_time": "2022-01-16T23:26:32.321Z"
   },
   {
    "duration": 167,
    "start_time": "2022-01-16T23:26:32.474Z"
   },
   {
    "duration": 165,
    "start_time": "2022-01-16T23:26:32.642Z"
   },
   {
    "duration": 234,
    "start_time": "2022-01-16T23:26:32.809Z"
   },
   {
    "duration": 200,
    "start_time": "2022-01-16T23:26:33.045Z"
   },
   {
    "duration": 9,
    "start_time": "2022-01-16T23:26:33.248Z"
   },
   {
    "duration": 14,
    "start_time": "2022-01-16T23:26:33.259Z"
   },
   {
    "duration": 31,
    "start_time": "2022-01-16T23:26:33.275Z"
   },
   {
    "duration": 40,
    "start_time": "2022-01-16T23:26:33.308Z"
   },
   {
    "duration": 926,
    "start_time": "2022-01-16T23:48:10.846Z"
   },
   {
    "duration": 56,
    "start_time": "2022-01-16T23:48:11.774Z"
   },
   {
    "duration": 9,
    "start_time": "2022-01-16T23:48:11.832Z"
   },
   {
    "duration": 8,
    "start_time": "2022-01-16T23:48:11.842Z"
   },
   {
    "duration": 8,
    "start_time": "2022-01-16T23:48:11.851Z"
   },
   {
    "duration": 18,
    "start_time": "2022-01-16T23:48:11.860Z"
   },
   {
    "duration": 9,
    "start_time": "2022-01-16T23:48:11.879Z"
   },
   {
    "duration": 21,
    "start_time": "2022-01-16T23:48:11.890Z"
   },
   {
    "duration": 6,
    "start_time": "2022-01-16T23:48:11.913Z"
   },
   {
    "duration": 287,
    "start_time": "2022-01-16T23:48:11.920Z"
   },
   {
    "duration": 4,
    "start_time": "2022-01-16T23:48:12.209Z"
   },
   {
    "duration": 9,
    "start_time": "2022-01-16T23:48:12.215Z"
   },
   {
    "duration": 27,
    "start_time": "2022-01-16T23:48:12.225Z"
   },
   {
    "duration": 3,
    "start_time": "2022-01-16T23:48:12.254Z"
   },
   {
    "duration": 6,
    "start_time": "2022-01-16T23:48:12.259Z"
   },
   {
    "duration": 7,
    "start_time": "2022-01-16T23:48:12.267Z"
   },
   {
    "duration": 293,
    "start_time": "2022-01-16T23:48:12.276Z"
   },
   {
    "duration": 6,
    "start_time": "2022-01-16T23:48:12.571Z"
   },
   {
    "duration": 9,
    "start_time": "2022-01-16T23:48:12.579Z"
   },
   {
    "duration": 286,
    "start_time": "2022-01-16T23:48:12.590Z"
   },
   {
    "duration": 192,
    "start_time": "2022-01-16T23:48:12.877Z"
   },
   {
    "duration": 162,
    "start_time": "2022-01-16T23:48:13.070Z"
   },
   {
    "duration": 173,
    "start_time": "2022-01-16T23:48:13.235Z"
   },
   {
    "duration": 173,
    "start_time": "2022-01-16T23:48:13.410Z"
   },
   {
    "duration": 179,
    "start_time": "2022-01-16T23:48:13.585Z"
   },
   {
    "duration": 7,
    "start_time": "2022-01-16T23:48:13.766Z"
   },
   {
    "duration": 5,
    "start_time": "2022-01-16T23:48:13.774Z"
   },
   {
    "duration": 269,
    "start_time": "2022-01-16T23:48:13.781Z"
   },
   {
    "duration": 195,
    "start_time": "2022-01-16T23:48:14.052Z"
   },
   {
    "duration": 133,
    "start_time": "2022-01-16T23:48:14.249Z"
   },
   {
    "duration": 14,
    "start_time": "2022-01-16T23:48:14.383Z"
   },
   {
    "duration": 271,
    "start_time": "2022-01-16T23:48:14.399Z"
   },
   {
    "duration": 252,
    "start_time": "2022-01-16T23:48:14.672Z"
   },
   {
    "duration": 4,
    "start_time": "2022-01-16T23:48:14.926Z"
   },
   {
    "duration": 182,
    "start_time": "2022-01-16T23:48:14.941Z"
   },
   {
    "duration": 201,
    "start_time": "2022-01-16T23:48:15.125Z"
   },
   {
    "duration": 176,
    "start_time": "2022-01-16T23:48:15.327Z"
   },
   {
    "duration": 239,
    "start_time": "2022-01-16T23:48:15.505Z"
   },
   {
    "duration": 257,
    "start_time": "2022-01-16T23:48:15.746Z"
   },
   {
    "duration": 267,
    "start_time": "2022-01-16T23:48:16.005Z"
   },
   {
    "duration": 255,
    "start_time": "2022-01-16T23:48:16.275Z"
   },
   {
    "duration": 365,
    "start_time": "2022-01-16T23:48:16.533Z"
   },
   {
    "duration": 338,
    "start_time": "2022-01-16T23:48:16.901Z"
   },
   {
    "duration": 9,
    "start_time": "2022-01-16T23:48:17.241Z"
   },
   {
    "duration": 21,
    "start_time": "2022-01-16T23:48:17.251Z"
   },
   {
    "duration": 10,
    "start_time": "2022-01-16T23:48:17.273Z"
   },
   {
    "duration": 10,
    "start_time": "2022-01-16T23:48:17.284Z"
   },
   {
    "duration": 2589,
    "start_time": "2022-01-21T15:20:23.683Z"
   },
   {
    "duration": 79,
    "start_time": "2022-01-21T15:20:26.274Z"
   },
   {
    "duration": 14,
    "start_time": "2022-01-21T15:20:26.360Z"
   },
   {
    "duration": 6,
    "start_time": "2022-01-21T15:20:26.377Z"
   },
   {
    "duration": 7,
    "start_time": "2022-01-21T15:20:26.385Z"
   },
   {
    "duration": 23,
    "start_time": "2022-01-21T15:20:26.395Z"
   },
   {
    "duration": 50,
    "start_time": "2022-01-21T15:20:26.420Z"
   },
   {
    "duration": 34,
    "start_time": "2022-01-21T15:20:26.474Z"
   },
   {
    "duration": 10,
    "start_time": "2022-01-21T15:20:26.511Z"
   },
   {
    "duration": 536,
    "start_time": "2022-01-21T15:20:26.524Z"
   },
   {
    "duration": 7,
    "start_time": "2022-01-21T15:20:27.063Z"
   },
   {
    "duration": 7,
    "start_time": "2022-01-21T15:20:27.072Z"
   },
   {
    "duration": 35,
    "start_time": "2022-01-21T15:20:27.082Z"
   },
   {
    "duration": 39,
    "start_time": "2022-01-21T15:20:27.120Z"
   },
   {
    "duration": 7,
    "start_time": "2022-01-21T15:20:27.162Z"
   },
   {
    "duration": 8,
    "start_time": "2022-01-21T15:20:27.172Z"
   },
   {
    "duration": 508,
    "start_time": "2022-01-21T15:20:27.183Z"
   },
   {
    "duration": 10,
    "start_time": "2022-01-21T15:20:27.694Z"
   },
   {
    "duration": 11,
    "start_time": "2022-01-21T15:20:27.707Z"
   },
   {
    "duration": 546,
    "start_time": "2022-01-21T15:20:27.721Z"
   },
   {
    "duration": 359,
    "start_time": "2022-01-21T15:20:28.269Z"
   },
   {
    "duration": 309,
    "start_time": "2022-01-21T15:20:28.631Z"
   },
   {
    "duration": 317,
    "start_time": "2022-01-21T15:20:28.945Z"
   },
   {
    "duration": 318,
    "start_time": "2022-01-21T15:20:29.265Z"
   },
   {
    "duration": 316,
    "start_time": "2022-01-21T15:20:29.586Z"
   },
   {
    "duration": 8,
    "start_time": "2022-01-21T15:20:29.904Z"
   },
   {
    "duration": 6,
    "start_time": "2022-01-21T15:20:29.914Z"
   },
   {
    "duration": 524,
    "start_time": "2022-01-21T15:20:29.923Z"
   },
   {
    "duration": 309,
    "start_time": "2022-01-21T15:20:30.450Z"
   },
   {
    "duration": 225,
    "start_time": "2022-01-21T15:20:30.761Z"
   },
   {
    "duration": 23,
    "start_time": "2022-01-21T15:20:30.989Z"
   },
   {
    "duration": 472,
    "start_time": "2022-01-21T15:20:31.015Z"
   },
   {
    "duration": 382,
    "start_time": "2022-01-21T15:20:31.490Z"
   },
   {
    "duration": 7,
    "start_time": "2022-01-21T15:20:31.874Z"
   },
   {
    "duration": 330,
    "start_time": "2022-01-21T15:20:31.884Z"
   },
   {
    "duration": 358,
    "start_time": "2022-01-21T15:20:32.216Z"
   },
   {
    "duration": 295,
    "start_time": "2022-01-21T15:20:32.576Z"
   },
   {
    "duration": 264,
    "start_time": "2022-01-21T15:20:32.873Z"
   },
   {
    "duration": 273,
    "start_time": "2022-01-21T15:20:33.140Z"
   },
   {
    "duration": 291,
    "start_time": "2022-01-21T15:20:33.416Z"
   },
   {
    "duration": 265,
    "start_time": "2022-01-21T15:20:33.709Z"
   },
   {
    "duration": 362,
    "start_time": "2022-01-21T15:20:33.976Z"
   },
   {
    "duration": 328,
    "start_time": "2022-01-21T15:20:34.341Z"
   },
   {
    "duration": 13,
    "start_time": "2022-01-21T15:20:34.671Z"
   },
   {
    "duration": 12,
    "start_time": "2022-01-21T15:20:34.686Z"
   },
   {
    "duration": 14,
    "start_time": "2022-01-21T15:20:34.701Z"
   },
   {
    "duration": 45,
    "start_time": "2022-01-21T15:20:34.717Z"
   },
   {
    "duration": 428,
    "start_time": "2022-01-21T15:20:49.010Z"
   },
   {
    "duration": 420,
    "start_time": "2022-01-21T15:21:20.506Z"
   },
   {
    "duration": 509,
    "start_time": "2022-01-21T15:22:44.401Z"
   },
   {
    "duration": 442,
    "start_time": "2022-01-21T15:22:57.743Z"
   },
   {
    "duration": 722,
    "start_time": "2022-01-21T15:23:06.699Z"
   },
   {
    "duration": 216,
    "start_time": "2022-01-21T15:23:14.874Z"
   },
   {
    "duration": 330,
    "start_time": "2022-01-21T15:23:24.170Z"
   },
   {
    "duration": 338,
    "start_time": "2022-01-21T15:23:56.938Z"
   },
   {
    "duration": 360,
    "start_time": "2022-01-21T15:24:15.619Z"
   },
   {
    "duration": 387,
    "start_time": "2022-01-21T15:24:42.761Z"
   }
  ],
  "kernelspec": {
   "display_name": "Python 3 (ipykernel)",
   "language": "python",
   "name": "python3"
  },
  "language_info": {
   "codemirror_mode": {
    "name": "ipython",
    "version": 3
   },
   "file_extension": ".py",
   "mimetype": "text/x-python",
   "name": "python",
   "nbconvert_exporter": "python",
   "pygments_lexer": "ipython3",
   "version": "3.9.7"
  },
  "toc": {
   "base_numbering": 1,
   "nav_menu": {},
   "number_sections": true,
   "sideBar": true,
   "skip_h1_title": true,
   "title_cell": "Table of Contents",
   "title_sidebar": "Contents",
   "toc_cell": false,
   "toc_position": {},
   "toc_section_display": true,
   "toc_window_display": false
  }
 },
 "nbformat": 4,
 "nbformat_minor": 2
}
