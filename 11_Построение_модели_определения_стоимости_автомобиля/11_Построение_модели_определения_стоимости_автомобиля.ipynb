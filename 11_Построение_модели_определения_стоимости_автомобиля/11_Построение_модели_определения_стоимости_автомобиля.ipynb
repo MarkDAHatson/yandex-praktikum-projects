{
 "cells": [
  {
   "cell_type": "markdown",
   "metadata": {},
   "source": [
    "# Определение стоимости автомобилей"
   ]
  },
  {
   "cell_type": "markdown",
   "metadata": {},
   "source": [
    "Заказчик исследования - компания \"Не бит, на крашен\". Компания ведёт сервис по продаже автомобилей с пробегом и в данный момент разрабатывает приложение для привлечения клиентов, в котором можно быстро узнать рыночную стоимость своего автомобиля. Необходимо построить модель для определения этой стоимости. Входные данные - исторические данные об автомобилях (технические характеристики, комплектации, цены). Заказчику важны:\n",
    "\n",
    "- качество предсказания;\n",
    "- скорость предсказания;\n",
    "- время обучения.\n",
    "\n",
    "Результаты исследования будут использованы заказчиком в коммерческих целях.\n",
    "\n",
    "**Цель исследования**: подготовить прототип модели машинного обучения по определению стоимости автомобиля с пробегом по его характеристикам.\n",
    "\n",
    "Ход исследования:\n",
    "\n",
    "Входные данные от компании - исторические сведения об автомобилях с пробегом. Перед анализом данные необходимо загрузить и подготовить к анализу. Следующим этапом необходимо будет обучить различные модели для выбора наиболее подходящей под критерии заказчика. В завершении проведём анализ моделей и выберем наилучшую.\n",
    "\n",
    "Таким образом, исследование пройдёт в 3 этапа:\n",
    "\n",
    "1. Подготовка данных;\n",
    "2. Обучение моделей;\n",
    "3. Анализ моделей."
   ]
  },
  {
   "cell_type": "markdown",
   "metadata": {},
   "source": [
    "## Подготовка данных"
   ]
  },
  {
   "cell_type": "markdown",
   "metadata": {},
   "source": [
    "### Разведочный анализ данных"
   ]
  },
  {
   "cell_type": "markdown",
   "metadata": {},
   "source": [
    "Перед тем, как приступить к изучению данных из файла, импортируем все нужные для текущего исследования библиотеки и модули, а также сохрани в начале исследования необходимые константные переменные и вызовем функции библиотек для всего исследования:"
   ]
  },
  {
   "cell_type": "code",
   "execution_count": 1,
   "metadata": {},
   "outputs": [],
   "source": [
    "import pandas as pd\n",
    "import numpy as np\n",
    "import warnings\n",
    "from sklearn.model_selection import train_test_split\n",
    "from sklearn.preprocessing import StandardScaler\n",
    "from sklearn.linear_model import LinearRegression\n",
    "from sklearn.metrics import mean_squared_error\n",
    "from sklearn.preprocessing import OrdinalEncoder\n",
    "from sklearn.ensemble import RandomForestRegressor\n",
    "import lightgbm as lgb\n",
    "\n",
    "RANDOM_STATE = np.random.RandomState(2205)\n",
    "\n",
    "warnings.filterwarnings('ignore')"
   ]
  },
  {
   "cell_type": "markdown",
   "metadata": {},
   "source": [
    "Прочитаем полученные от заказчика данные и сохраним их в таблице:"
   ]
  },
  {
   "cell_type": "code",
   "execution_count": 2,
   "metadata": {},
   "outputs": [],
   "source": [
    "df = pd.read_csv('/datasets/autos.csv')"
   ]
  },
  {
   "cell_type": "markdown",
   "metadata": {},
   "source": [
    "Выведем на экран первые 5 строк таблицы, чтобы ознакомиться с данными:"
   ]
  },
  {
   "cell_type": "code",
   "execution_count": 3,
   "metadata": {},
   "outputs": [
    {
     "data": {
      "text/html": [
       "<div>\n",
       "<style scoped>\n",
       "    .dataframe tbody tr th:only-of-type {\n",
       "        vertical-align: middle;\n",
       "    }\n",
       "\n",
       "    .dataframe tbody tr th {\n",
       "        vertical-align: top;\n",
       "    }\n",
       "\n",
       "    .dataframe thead th {\n",
       "        text-align: right;\n",
       "    }\n",
       "</style>\n",
       "<table border=\"1\" class=\"dataframe\">\n",
       "  <thead>\n",
       "    <tr style=\"text-align: right;\">\n",
       "      <th></th>\n",
       "      <th>DateCrawled</th>\n",
       "      <th>Price</th>\n",
       "      <th>VehicleType</th>\n",
       "      <th>RegistrationYear</th>\n",
       "      <th>Gearbox</th>\n",
       "      <th>Power</th>\n",
       "      <th>Model</th>\n",
       "      <th>Kilometer</th>\n",
       "      <th>RegistrationMonth</th>\n",
       "      <th>FuelType</th>\n",
       "      <th>Brand</th>\n",
       "      <th>NotRepaired</th>\n",
       "      <th>DateCreated</th>\n",
       "      <th>NumberOfPictures</th>\n",
       "      <th>PostalCode</th>\n",
       "      <th>LastSeen</th>\n",
       "    </tr>\n",
       "  </thead>\n",
       "  <tbody>\n",
       "    <tr>\n",
       "      <th>0</th>\n",
       "      <td>2016-03-24 11:52:17</td>\n",
       "      <td>480</td>\n",
       "      <td>NaN</td>\n",
       "      <td>1993</td>\n",
       "      <td>manual</td>\n",
       "      <td>0</td>\n",
       "      <td>golf</td>\n",
       "      <td>150000</td>\n",
       "      <td>0</td>\n",
       "      <td>petrol</td>\n",
       "      <td>volkswagen</td>\n",
       "      <td>NaN</td>\n",
       "      <td>2016-03-24 00:00:00</td>\n",
       "      <td>0</td>\n",
       "      <td>70435</td>\n",
       "      <td>2016-04-07 03:16:57</td>\n",
       "    </tr>\n",
       "    <tr>\n",
       "      <th>1</th>\n",
       "      <td>2016-03-24 10:58:45</td>\n",
       "      <td>18300</td>\n",
       "      <td>coupe</td>\n",
       "      <td>2011</td>\n",
       "      <td>manual</td>\n",
       "      <td>190</td>\n",
       "      <td>NaN</td>\n",
       "      <td>125000</td>\n",
       "      <td>5</td>\n",
       "      <td>gasoline</td>\n",
       "      <td>audi</td>\n",
       "      <td>yes</td>\n",
       "      <td>2016-03-24 00:00:00</td>\n",
       "      <td>0</td>\n",
       "      <td>66954</td>\n",
       "      <td>2016-04-07 01:46:50</td>\n",
       "    </tr>\n",
       "    <tr>\n",
       "      <th>2</th>\n",
       "      <td>2016-03-14 12:52:21</td>\n",
       "      <td>9800</td>\n",
       "      <td>suv</td>\n",
       "      <td>2004</td>\n",
       "      <td>auto</td>\n",
       "      <td>163</td>\n",
       "      <td>grand</td>\n",
       "      <td>125000</td>\n",
       "      <td>8</td>\n",
       "      <td>gasoline</td>\n",
       "      <td>jeep</td>\n",
       "      <td>NaN</td>\n",
       "      <td>2016-03-14 00:00:00</td>\n",
       "      <td>0</td>\n",
       "      <td>90480</td>\n",
       "      <td>2016-04-05 12:47:46</td>\n",
       "    </tr>\n",
       "    <tr>\n",
       "      <th>3</th>\n",
       "      <td>2016-03-17 16:54:04</td>\n",
       "      <td>1500</td>\n",
       "      <td>small</td>\n",
       "      <td>2001</td>\n",
       "      <td>manual</td>\n",
       "      <td>75</td>\n",
       "      <td>golf</td>\n",
       "      <td>150000</td>\n",
       "      <td>6</td>\n",
       "      <td>petrol</td>\n",
       "      <td>volkswagen</td>\n",
       "      <td>no</td>\n",
       "      <td>2016-03-17 00:00:00</td>\n",
       "      <td>0</td>\n",
       "      <td>91074</td>\n",
       "      <td>2016-03-17 17:40:17</td>\n",
       "    </tr>\n",
       "    <tr>\n",
       "      <th>4</th>\n",
       "      <td>2016-03-31 17:25:20</td>\n",
       "      <td>3600</td>\n",
       "      <td>small</td>\n",
       "      <td>2008</td>\n",
       "      <td>manual</td>\n",
       "      <td>69</td>\n",
       "      <td>fabia</td>\n",
       "      <td>90000</td>\n",
       "      <td>7</td>\n",
       "      <td>gasoline</td>\n",
       "      <td>skoda</td>\n",
       "      <td>no</td>\n",
       "      <td>2016-03-31 00:00:00</td>\n",
       "      <td>0</td>\n",
       "      <td>60437</td>\n",
       "      <td>2016-04-06 10:17:21</td>\n",
       "    </tr>\n",
       "  </tbody>\n",
       "</table>\n",
       "</div>"
      ],
      "text/plain": [
       "           DateCrawled  Price VehicleType  RegistrationYear Gearbox  Power  \\\n",
       "0  2016-03-24 11:52:17    480         NaN              1993  manual      0   \n",
       "1  2016-03-24 10:58:45  18300       coupe              2011  manual    190   \n",
       "2  2016-03-14 12:52:21   9800         suv              2004    auto    163   \n",
       "3  2016-03-17 16:54:04   1500       small              2001  manual     75   \n",
       "4  2016-03-31 17:25:20   3600       small              2008  manual     69   \n",
       "\n",
       "   Model  Kilometer  RegistrationMonth  FuelType       Brand NotRepaired  \\\n",
       "0   golf     150000                  0    petrol  volkswagen         NaN   \n",
       "1    NaN     125000                  5  gasoline        audi         yes   \n",
       "2  grand     125000                  8  gasoline        jeep         NaN   \n",
       "3   golf     150000                  6    petrol  volkswagen          no   \n",
       "4  fabia      90000                  7  gasoline       skoda          no   \n",
       "\n",
       "           DateCreated  NumberOfPictures  PostalCode             LastSeen  \n",
       "0  2016-03-24 00:00:00                 0       70435  2016-04-07 03:16:57  \n",
       "1  2016-03-24 00:00:00                 0       66954  2016-04-07 01:46:50  \n",
       "2  2016-03-14 00:00:00                 0       90480  2016-04-05 12:47:46  \n",
       "3  2016-03-17 00:00:00                 0       91074  2016-03-17 17:40:17  \n",
       "4  2016-03-31 00:00:00                 0       60437  2016-04-06 10:17:21  "
      ]
     },
     "execution_count": 3,
     "metadata": {},
     "output_type": "execute_result"
    }
   ],
   "source": [
    "df.head()"
   ]
  },
  {
   "cell_type": "markdown",
   "metadata": {},
   "source": [
    "Получим общую информацию о таблице:"
   ]
  },
  {
   "cell_type": "code",
   "execution_count": 4,
   "metadata": {},
   "outputs": [
    {
     "name": "stdout",
     "output_type": "stream",
     "text": [
      "<class 'pandas.core.frame.DataFrame'>\n",
      "RangeIndex: 354369 entries, 0 to 354368\n",
      "Data columns (total 16 columns):\n",
      " #   Column             Non-Null Count   Dtype \n",
      "---  ------             --------------   ----- \n",
      " 0   DateCrawled        354369 non-null  object\n",
      " 1   Price              354369 non-null  int64 \n",
      " 2   VehicleType        316879 non-null  object\n",
      " 3   RegistrationYear   354369 non-null  int64 \n",
      " 4   Gearbox            334536 non-null  object\n",
      " 5   Power              354369 non-null  int64 \n",
      " 6   Model              334664 non-null  object\n",
      " 7   Kilometer          354369 non-null  int64 \n",
      " 8   RegistrationMonth  354369 non-null  int64 \n",
      " 9   FuelType           321474 non-null  object\n",
      " 10  Brand              354369 non-null  object\n",
      " 11  NotRepaired        283215 non-null  object\n",
      " 12  DateCreated        354369 non-null  object\n",
      " 13  NumberOfPictures   354369 non-null  int64 \n",
      " 14  PostalCode         354369 non-null  int64 \n",
      " 15  LastSeen           354369 non-null  object\n",
      "dtypes: int64(7), object(9)\n",
      "memory usage: 43.3+ MB\n"
     ]
    }
   ],
   "source": [
    "df.info()"
   ]
  },
  {
   "cell_type": "markdown",
   "metadata": {},
   "source": [
    "В таблице представлено 16 признаков, из которых 7 имеют тип `int`, а 9 - `object`. Сразу видим проблему с названиями столбцов: имеются прописные буквы, регистр представлен не змеиный. Будет удобнее исправить это далее. 3 переменные с типом `datetime` представлены типом `object`. Также в некоторых столбцах таблицы имеются пропуски.\n",
    "\n",
    "Согласно документации к данным представлены следующие признаки:\n",
    "* `DateCrawled` — дата скачивания анкеты из базы;\n",
    "* `VehicleType` — тип автомобильного кузова;\n",
    "* `RegistrationYear` — год регистрации автомобиля;\n",
    "* `Gearbox` — тип коробки передач;\n",
    "* `Power` — мощность (л. с.);\n",
    "* `Model` — модель автомобиля;\n",
    "* `Kilometer` — пробег (км);\n",
    "* `RegistrationMonth` — месяц регистрации автомобиля;\n",
    "* `FuelType` — тип топлива;\n",
    "* `Brand` — марка автомобиля;\n",
    "* `NotRepaired` — была машина в ремонте или нет;\n",
    "* `DateCreated` — дата создания анкеты;\n",
    "* `NumberOfPictures` — количество фотографий автомобиля;\n",
    "* `PostalCode` — почтовый индекс владельца анкеты (пользователя);\n",
    "* `LastSeen` — дата последней активности пользователя\n",
    "\n",
    "Также имеется целевой признак:\n",
    "* `Price` — цена (евро)"
   ]
  },
  {
   "cell_type": "markdown",
   "metadata": {},
   "source": [
    "### Предобработка данных"
   ]
  },
  {
   "cell_type": "markdown",
   "metadata": {},
   "source": [
    "Для последующего обращения заранее сохраним в отдельной переменной текущий размер датафрейма:"
   ]
  },
  {
   "cell_type": "code",
   "execution_count": 5,
   "metadata": {},
   "outputs": [],
   "source": [
    "df_len = len(df)"
   ]
  },
  {
   "cell_type": "markdown",
   "metadata": {},
   "source": [
    "Заменим названия столбцов на корректный для языка регистр:"
   ]
  },
  {
   "cell_type": "code",
   "execution_count": 6,
   "metadata": {},
   "outputs": [],
   "source": [
    "columns = ['date_crawled', 'price', 'vehicle_type', 'registration_year', 'gearbox', 'power', 'model', 'kilometer',\n",
    "          'registration_month', 'fuel_type', 'brand', 'not_repaired', 'date_created', 'number_of_pictures',\n",
    "          'postal_code', 'last_seen']\n",
    "df.columns = columns"
   ]
  },
  {
   "cell_type": "markdown",
   "metadata": {},
   "source": [
    "Разберёмся с типами данных трёх столбцов. Они представлены в формате `object`, однако должны быть в формате `datetime`. Тем не менее, в рамках текущего исследования будет удобнее избавиться от этих признаков, так как в машинном обучении они не потребуются:"
   ]
  },
  {
   "cell_type": "code",
   "execution_count": 7,
   "metadata": {},
   "outputs": [],
   "source": [
    "df = df.drop(columns=['date_crawled', 'date_created', 'last_seen'], axis=1)"
   ]
  },
  {
   "cell_type": "markdown",
   "metadata": {},
   "source": [
    "Проверим, имеются ли в таблице дубликаты. Для проверки необходимо рассмотреть признаки без даты, ведь одну и ту же машину могли загрузить дважды, но в разное время:"
   ]
  },
  {
   "cell_type": "code",
   "execution_count": 8,
   "metadata": {
    "scrolled": false
   },
   "outputs": [
    {
     "name": "stdout",
     "output_type": "stream",
     "text": [
      "Доля пропусков в таблице: 0.06\n"
     ]
    }
   ],
   "source": [
    "print(f'Доля пропусков в таблице: {df.duplicated().sum() / len(df):.2}')"
   ]
  },
  {
   "cell_type": "markdown",
   "metadata": {},
   "source": [
    "Обнаружили, что 6% данных в таблице - это дубликаты. Такое вполне возможно, ведь одну машину могли загрузить дважды. Избавимся от таких пропусков:"
   ]
  },
  {
   "cell_type": "code",
   "execution_count": 9,
   "metadata": {},
   "outputs": [],
   "source": [
    "df.drop_duplicates(inplace=True)"
   ]
  },
  {
   "cell_type": "markdown",
   "metadata": {},
   "source": [
    "Все пропуски в таблице представлены в категориальных переменных. Следовательно, можно заполнить такие пропуски значением `unknown`:"
   ]
  },
  {
   "cell_type": "code",
   "execution_count": 10,
   "metadata": {},
   "outputs": [],
   "source": [
    "df = df.fillna('unknown')"
   ]
  },
  {
   "cell_type": "markdown",
   "metadata": {},
   "source": [
    "Посмотрим, имеются ли аномальные значения. Для этого выведем общую описательную статистику всего датафрейма:"
   ]
  },
  {
   "cell_type": "code",
   "execution_count": 11,
   "metadata": {},
   "outputs": [
    {
     "data": {
      "text/html": [
       "<div>\n",
       "<style scoped>\n",
       "    .dataframe tbody tr th:only-of-type {\n",
       "        vertical-align: middle;\n",
       "    }\n",
       "\n",
       "    .dataframe tbody tr th {\n",
       "        vertical-align: top;\n",
       "    }\n",
       "\n",
       "    .dataframe thead th {\n",
       "        text-align: right;\n",
       "    }\n",
       "</style>\n",
       "<table border=\"1\" class=\"dataframe\">\n",
       "  <thead>\n",
       "    <tr style=\"text-align: right;\">\n",
       "      <th></th>\n",
       "      <th>price</th>\n",
       "      <th>registration_year</th>\n",
       "      <th>power</th>\n",
       "      <th>kilometer</th>\n",
       "      <th>registration_month</th>\n",
       "      <th>number_of_pictures</th>\n",
       "      <th>postal_code</th>\n",
       "    </tr>\n",
       "  </thead>\n",
       "  <tbody>\n",
       "    <tr>\n",
       "      <th>count</th>\n",
       "      <td>333036.000000</td>\n",
       "      <td>333036.000000</td>\n",
       "      <td>333036.000000</td>\n",
       "      <td>333036.000000</td>\n",
       "      <td>333036.000000</td>\n",
       "      <td>333036.0</td>\n",
       "      <td>333036.000000</td>\n",
       "    </tr>\n",
       "    <tr>\n",
       "      <th>mean</th>\n",
       "      <td>4378.277586</td>\n",
       "      <td>2004.192268</td>\n",
       "      <td>109.753225</td>\n",
       "      <td>128305.678665</td>\n",
       "      <td>5.694141</td>\n",
       "      <td>0.0</td>\n",
       "      <td>50689.740136</td>\n",
       "    </tr>\n",
       "    <tr>\n",
       "      <th>std</th>\n",
       "      <td>4502.534823</td>\n",
       "      <td>90.288761</td>\n",
       "      <td>194.288179</td>\n",
       "      <td>37900.007564</td>\n",
       "      <td>3.728757</td>\n",
       "      <td>0.0</td>\n",
       "      <td>25804.455970</td>\n",
       "    </tr>\n",
       "    <tr>\n",
       "      <th>min</th>\n",
       "      <td>0.000000</td>\n",
       "      <td>1000.000000</td>\n",
       "      <td>0.000000</td>\n",
       "      <td>5000.000000</td>\n",
       "      <td>0.000000</td>\n",
       "      <td>0.0</td>\n",
       "      <td>1067.000000</td>\n",
       "    </tr>\n",
       "    <tr>\n",
       "      <th>25%</th>\n",
       "      <td>1000.000000</td>\n",
       "      <td>1999.000000</td>\n",
       "      <td>68.000000</td>\n",
       "      <td>125000.000000</td>\n",
       "      <td>3.000000</td>\n",
       "      <td>0.0</td>\n",
       "      <td>30179.000000</td>\n",
       "    </tr>\n",
       "    <tr>\n",
       "      <th>50%</th>\n",
       "      <td>2699.000000</td>\n",
       "      <td>2003.000000</td>\n",
       "      <td>103.000000</td>\n",
       "      <td>150000.000000</td>\n",
       "      <td>6.000000</td>\n",
       "      <td>0.0</td>\n",
       "      <td>49479.000000</td>\n",
       "    </tr>\n",
       "    <tr>\n",
       "      <th>75%</th>\n",
       "      <td>6299.250000</td>\n",
       "      <td>2008.000000</td>\n",
       "      <td>140.000000</td>\n",
       "      <td>150000.000000</td>\n",
       "      <td>9.000000</td>\n",
       "      <td>0.0</td>\n",
       "      <td>71334.000000</td>\n",
       "    </tr>\n",
       "    <tr>\n",
       "      <th>max</th>\n",
       "      <td>20000.000000</td>\n",
       "      <td>9999.000000</td>\n",
       "      <td>20000.000000</td>\n",
       "      <td>150000.000000</td>\n",
       "      <td>12.000000</td>\n",
       "      <td>0.0</td>\n",
       "      <td>99998.000000</td>\n",
       "    </tr>\n",
       "  </tbody>\n",
       "</table>\n",
       "</div>"
      ],
      "text/plain": [
       "               price  registration_year          power      kilometer  \\\n",
       "count  333036.000000      333036.000000  333036.000000  333036.000000   \n",
       "mean     4378.277586        2004.192268     109.753225  128305.678665   \n",
       "std      4502.534823          90.288761     194.288179   37900.007564   \n",
       "min         0.000000        1000.000000       0.000000    5000.000000   \n",
       "25%      1000.000000        1999.000000      68.000000  125000.000000   \n",
       "50%      2699.000000        2003.000000     103.000000  150000.000000   \n",
       "75%      6299.250000        2008.000000     140.000000  150000.000000   \n",
       "max     20000.000000        9999.000000   20000.000000  150000.000000   \n",
       "\n",
       "       registration_month  number_of_pictures    postal_code  \n",
       "count       333036.000000            333036.0  333036.000000  \n",
       "mean             5.694141                 0.0   50689.740136  \n",
       "std              3.728757                 0.0   25804.455970  \n",
       "min              0.000000                 0.0    1067.000000  \n",
       "25%              3.000000                 0.0   30179.000000  \n",
       "50%              6.000000                 0.0   49479.000000  \n",
       "75%              9.000000                 0.0   71334.000000  \n",
       "max             12.000000                 0.0   99998.000000  "
      ]
     },
     "execution_count": 11,
     "metadata": {},
     "output_type": "execute_result"
    }
   ],
   "source": [
    "df.describe()"
   ]
  },
  {
   "cell_type": "markdown",
   "metadata": {},
   "source": [
    "Увидели, что цена автомобилей имеет минимальное значение 0. Значит, есть какие-то объявления, где цена представлена нулём. Возможно, авторы этих объявлений просто пытались привлечь к своему автомобилю покупателей, но для исследования придётся исключить такие строки, так как заполнять их самостоятельно не стоит. Год регистрации также демонстрирует нам минимум в 1000, а максимум в 9999. Вряд ли живущие в тех годах сейчас планируют продать автомобиль, поэтому также исключим эти строки. Мощность автомобиля идёт с 0, хотя автомобиль с нулевой мощностью вряд ли может зваться автомобилем. В месяце регистрации минимум представлен 0, однако возможно так владельцы пытались показать, что их машина, например, не зарегистрирована, поэтому трогать этот столбец не будем.\n",
    "\n",
    "Более подробно рассмотрим аномальные значения столбца `price`:"
   ]
  },
  {
   "cell_type": "code",
   "execution_count": 12,
   "metadata": {},
   "outputs": [
    {
     "data": {
      "text/html": [
       "<div>\n",
       "<style scoped>\n",
       "    .dataframe tbody tr th:only-of-type {\n",
       "        vertical-align: middle;\n",
       "    }\n",
       "\n",
       "    .dataframe tbody tr th {\n",
       "        vertical-align: top;\n",
       "    }\n",
       "\n",
       "    .dataframe thead th {\n",
       "        text-align: right;\n",
       "    }\n",
       "</style>\n",
       "<table border=\"1\" class=\"dataframe\">\n",
       "  <thead>\n",
       "    <tr style=\"text-align: right;\">\n",
       "      <th></th>\n",
       "      <th>price</th>\n",
       "      <th>vehicle_type</th>\n",
       "      <th>registration_year</th>\n",
       "      <th>gearbox</th>\n",
       "      <th>power</th>\n",
       "      <th>model</th>\n",
       "      <th>kilometer</th>\n",
       "      <th>registration_month</th>\n",
       "      <th>fuel_type</th>\n",
       "      <th>brand</th>\n",
       "      <th>not_repaired</th>\n",
       "      <th>number_of_pictures</th>\n",
       "      <th>postal_code</th>\n",
       "    </tr>\n",
       "  </thead>\n",
       "  <tbody>\n",
       "    <tr>\n",
       "      <th>7</th>\n",
       "      <td>0</td>\n",
       "      <td>sedan</td>\n",
       "      <td>1980</td>\n",
       "      <td>manual</td>\n",
       "      <td>50</td>\n",
       "      <td>other</td>\n",
       "      <td>40000</td>\n",
       "      <td>7</td>\n",
       "      <td>petrol</td>\n",
       "      <td>volkswagen</td>\n",
       "      <td>no</td>\n",
       "      <td>0</td>\n",
       "      <td>19348</td>\n",
       "    </tr>\n",
       "    <tr>\n",
       "      <th>40</th>\n",
       "      <td>0</td>\n",
       "      <td>unknown</td>\n",
       "      <td>1990</td>\n",
       "      <td>unknown</td>\n",
       "      <td>0</td>\n",
       "      <td>corsa</td>\n",
       "      <td>150000</td>\n",
       "      <td>1</td>\n",
       "      <td>petrol</td>\n",
       "      <td>opel</td>\n",
       "      <td>unknown</td>\n",
       "      <td>0</td>\n",
       "      <td>56412</td>\n",
       "    </tr>\n",
       "    <tr>\n",
       "      <th>59</th>\n",
       "      <td>1</td>\n",
       "      <td>suv</td>\n",
       "      <td>1994</td>\n",
       "      <td>manual</td>\n",
       "      <td>286</td>\n",
       "      <td>unknown</td>\n",
       "      <td>150000</td>\n",
       "      <td>11</td>\n",
       "      <td>unknown</td>\n",
       "      <td>sonstige_autos</td>\n",
       "      <td>unknown</td>\n",
       "      <td>0</td>\n",
       "      <td>53721</td>\n",
       "    </tr>\n",
       "    <tr>\n",
       "      <th>89</th>\n",
       "      <td>1</td>\n",
       "      <td>sedan</td>\n",
       "      <td>1995</td>\n",
       "      <td>manual</td>\n",
       "      <td>113</td>\n",
       "      <td>e_klasse</td>\n",
       "      <td>150000</td>\n",
       "      <td>4</td>\n",
       "      <td>gasoline</td>\n",
       "      <td>mercedes_benz</td>\n",
       "      <td>no</td>\n",
       "      <td>0</td>\n",
       "      <td>40589</td>\n",
       "    </tr>\n",
       "    <tr>\n",
       "      <th>111</th>\n",
       "      <td>0</td>\n",
       "      <td>unknown</td>\n",
       "      <td>2017</td>\n",
       "      <td>manual</td>\n",
       "      <td>0</td>\n",
       "      <td>golf</td>\n",
       "      <td>5000</td>\n",
       "      <td>12</td>\n",
       "      <td>petrol</td>\n",
       "      <td>volkswagen</td>\n",
       "      <td>unknown</td>\n",
       "      <td>0</td>\n",
       "      <td>21698</td>\n",
       "    </tr>\n",
       "  </tbody>\n",
       "</table>\n",
       "</div>"
      ],
      "text/plain": [
       "     price vehicle_type  registration_year  gearbox  power     model  \\\n",
       "7        0        sedan               1980   manual     50     other   \n",
       "40       0      unknown               1990  unknown      0     corsa   \n",
       "59       1          suv               1994   manual    286   unknown   \n",
       "89       1        sedan               1995   manual    113  e_klasse   \n",
       "111      0      unknown               2017   manual      0      golf   \n",
       "\n",
       "     kilometer  registration_month fuel_type           brand not_repaired  \\\n",
       "7        40000                   7    petrol      volkswagen           no   \n",
       "40      150000                   1    petrol            opel      unknown   \n",
       "59      150000                  11   unknown  sonstige_autos      unknown   \n",
       "89      150000                   4  gasoline   mercedes_benz           no   \n",
       "111       5000                  12    petrol      volkswagen      unknown   \n",
       "\n",
       "     number_of_pictures  postal_code  \n",
       "7                     0        19348  \n",
       "40                    0        56412  \n",
       "59                    0        53721  \n",
       "89                    0        40589  \n",
       "111                   0        21698  "
      ]
     },
     "execution_count": 12,
     "metadata": {},
     "output_type": "execute_result"
    }
   ],
   "source": [
    "df[df['price'] < 50].head()"
   ]
  },
  {
   "cell_type": "markdown",
   "metadata": {},
   "source": [
    "Выводили значения цены менее 50 евро, однако видим, что есть множество значений 0 или 1 евро. От таких аномалий будет лучше сразу избавиться:"
   ]
  },
  {
   "cell_type": "code",
   "execution_count": 13,
   "metadata": {},
   "outputs": [],
   "source": [
    "df_proc = df[df['price'] >= 50]"
   ]
  },
  {
   "cell_type": "markdown",
   "metadata": {},
   "source": [
    "Теперь обратимся к аномальному минимуму года регистрации. Выведем на экран строки, где машину регистрировали ранее 1920 года или позже 2022:"
   ]
  },
  {
   "cell_type": "code",
   "execution_count": 14,
   "metadata": {},
   "outputs": [
    {
     "data": {
      "text/html": [
       "<div>\n",
       "<style scoped>\n",
       "    .dataframe tbody tr th:only-of-type {\n",
       "        vertical-align: middle;\n",
       "    }\n",
       "\n",
       "    .dataframe tbody tr th {\n",
       "        vertical-align: top;\n",
       "    }\n",
       "\n",
       "    .dataframe thead th {\n",
       "        text-align: right;\n",
       "    }\n",
       "</style>\n",
       "<table border=\"1\" class=\"dataframe\">\n",
       "  <thead>\n",
       "    <tr style=\"text-align: right;\">\n",
       "      <th></th>\n",
       "      <th>price</th>\n",
       "      <th>vehicle_type</th>\n",
       "      <th>registration_year</th>\n",
       "      <th>gearbox</th>\n",
       "      <th>power</th>\n",
       "      <th>model</th>\n",
       "      <th>kilometer</th>\n",
       "      <th>registration_month</th>\n",
       "      <th>fuel_type</th>\n",
       "      <th>brand</th>\n",
       "      <th>not_repaired</th>\n",
       "      <th>number_of_pictures</th>\n",
       "      <th>postal_code</th>\n",
       "    </tr>\n",
       "  </thead>\n",
       "  <tbody>\n",
       "    <tr>\n",
       "      <th>15</th>\n",
       "      <td>450</td>\n",
       "      <td>small</td>\n",
       "      <td>1910</td>\n",
       "      <td>unknown</td>\n",
       "      <td>0</td>\n",
       "      <td>ka</td>\n",
       "      <td>5000</td>\n",
       "      <td>0</td>\n",
       "      <td>petrol</td>\n",
       "      <td>ford</td>\n",
       "      <td>unknown</td>\n",
       "      <td>0</td>\n",
       "      <td>24148</td>\n",
       "    </tr>\n",
       "    <tr>\n",
       "      <th>6977</th>\n",
       "      <td>135</td>\n",
       "      <td>unknown</td>\n",
       "      <td>1910</td>\n",
       "      <td>unknown</td>\n",
       "      <td>0</td>\n",
       "      <td>unknown</td>\n",
       "      <td>5000</td>\n",
       "      <td>0</td>\n",
       "      <td>unknown</td>\n",
       "      <td>opel</td>\n",
       "      <td>unknown</td>\n",
       "      <td>0</td>\n",
       "      <td>19374</td>\n",
       "    </tr>\n",
       "    <tr>\n",
       "      <th>10183</th>\n",
       "      <td>1250</td>\n",
       "      <td>unknown</td>\n",
       "      <td>1910</td>\n",
       "      <td>unknown</td>\n",
       "      <td>0</td>\n",
       "      <td>other</td>\n",
       "      <td>5000</td>\n",
       "      <td>0</td>\n",
       "      <td>unknown</td>\n",
       "      <td>audi</td>\n",
       "      <td>unknown</td>\n",
       "      <td>0</td>\n",
       "      <td>18445</td>\n",
       "    </tr>\n",
       "    <tr>\n",
       "      <th>15870</th>\n",
       "      <td>1700</td>\n",
       "      <td>unknown</td>\n",
       "      <td>3200</td>\n",
       "      <td>unknown</td>\n",
       "      <td>0</td>\n",
       "      <td>unknown</td>\n",
       "      <td>5000</td>\n",
       "      <td>0</td>\n",
       "      <td>unknown</td>\n",
       "      <td>sonstige_autos</td>\n",
       "      <td>unknown</td>\n",
       "      <td>0</td>\n",
       "      <td>33649</td>\n",
       "    </tr>\n",
       "    <tr>\n",
       "      <th>16062</th>\n",
       "      <td>190</td>\n",
       "      <td>unknown</td>\n",
       "      <td>1000</td>\n",
       "      <td>unknown</td>\n",
       "      <td>0</td>\n",
       "      <td>mondeo</td>\n",
       "      <td>5000</td>\n",
       "      <td>0</td>\n",
       "      <td>unknown</td>\n",
       "      <td>ford</td>\n",
       "      <td>unknown</td>\n",
       "      <td>0</td>\n",
       "      <td>47166</td>\n",
       "    </tr>\n",
       "  </tbody>\n",
       "</table>\n",
       "</div>"
      ],
      "text/plain": [
       "       price vehicle_type  registration_year  gearbox  power    model  \\\n",
       "15       450        small               1910  unknown      0       ka   \n",
       "6977     135      unknown               1910  unknown      0  unknown   \n",
       "10183   1250      unknown               1910  unknown      0    other   \n",
       "15870   1700      unknown               3200  unknown      0  unknown   \n",
       "16062    190      unknown               1000  unknown      0   mondeo   \n",
       "\n",
       "       kilometer  registration_month fuel_type           brand not_repaired  \\\n",
       "15          5000                   0    petrol            ford      unknown   \n",
       "6977        5000                   0   unknown            opel      unknown   \n",
       "10183       5000                   0   unknown            audi      unknown   \n",
       "15870       5000                   0   unknown  sonstige_autos      unknown   \n",
       "16062       5000                   0   unknown            ford      unknown   \n",
       "\n",
       "       number_of_pictures  postal_code  \n",
       "15                      0        24148  \n",
       "6977                    0        19374  \n",
       "10183                   0        18445  \n",
       "15870                   0        33649  \n",
       "16062                   0        47166  "
      ]
     },
     "execution_count": 14,
     "metadata": {},
     "output_type": "execute_result"
    }
   ],
   "source": [
    "df_proc.query('registration_year < 1920 | registration_year > 2022').head()"
   ]
  },
  {
   "cell_type": "markdown",
   "metadata": {},
   "source": [
    "Получилась 161 строки, где владельцы либо решили пошутить, либо указали год просто так. Многим удалось зарегистрировать автомобиль даже раньше, чем автомобиль был изобретён, а многим и вовсе, совершить путешествие в будущее. С такими аномалиями точно не стоит работать далее:"
   ]
  },
  {
   "cell_type": "code",
   "execution_count": 15,
   "metadata": {},
   "outputs": [],
   "source": [
    "df_proc = df_proc[(df_proc['registration_year'] >= 1920) & (df_proc['registration_year'] <= 2022)]"
   ]
  },
  {
   "cell_type": "markdown",
   "metadata": {},
   "source": [
    "Наконец, рассмотрим аномалии в мощности автомобиля:"
   ]
  },
  {
   "cell_type": "code",
   "execution_count": 16,
   "metadata": {},
   "outputs": [
    {
     "data": {
      "text/html": [
       "<div>\n",
       "<style scoped>\n",
       "    .dataframe tbody tr th:only-of-type {\n",
       "        vertical-align: middle;\n",
       "    }\n",
       "\n",
       "    .dataframe tbody tr th {\n",
       "        vertical-align: top;\n",
       "    }\n",
       "\n",
       "    .dataframe thead th {\n",
       "        text-align: right;\n",
       "    }\n",
       "</style>\n",
       "<table border=\"1\" class=\"dataframe\">\n",
       "  <thead>\n",
       "    <tr style=\"text-align: right;\">\n",
       "      <th></th>\n",
       "      <th>price</th>\n",
       "      <th>vehicle_type</th>\n",
       "      <th>registration_year</th>\n",
       "      <th>gearbox</th>\n",
       "      <th>power</th>\n",
       "      <th>model</th>\n",
       "      <th>kilometer</th>\n",
       "      <th>registration_month</th>\n",
       "      <th>fuel_type</th>\n",
       "      <th>brand</th>\n",
       "      <th>not_repaired</th>\n",
       "      <th>number_of_pictures</th>\n",
       "      <th>postal_code</th>\n",
       "    </tr>\n",
       "  </thead>\n",
       "  <tbody>\n",
       "    <tr>\n",
       "      <th>0</th>\n",
       "      <td>480</td>\n",
       "      <td>unknown</td>\n",
       "      <td>1993</td>\n",
       "      <td>manual</td>\n",
       "      <td>0</td>\n",
       "      <td>golf</td>\n",
       "      <td>150000</td>\n",
       "      <td>0</td>\n",
       "      <td>petrol</td>\n",
       "      <td>volkswagen</td>\n",
       "      <td>unknown</td>\n",
       "      <td>0</td>\n",
       "      <td>70435</td>\n",
       "    </tr>\n",
       "    <tr>\n",
       "      <th>32</th>\n",
       "      <td>245</td>\n",
       "      <td>sedan</td>\n",
       "      <td>1994</td>\n",
       "      <td>unknown</td>\n",
       "      <td>0</td>\n",
       "      <td>golf</td>\n",
       "      <td>150000</td>\n",
       "      <td>2</td>\n",
       "      <td>petrol</td>\n",
       "      <td>volkswagen</td>\n",
       "      <td>no</td>\n",
       "      <td>0</td>\n",
       "      <td>44145</td>\n",
       "    </tr>\n",
       "    <tr>\n",
       "      <th>37</th>\n",
       "      <td>1500</td>\n",
       "      <td>unknown</td>\n",
       "      <td>2016</td>\n",
       "      <td>unknown</td>\n",
       "      <td>0</td>\n",
       "      <td>kangoo</td>\n",
       "      <td>150000</td>\n",
       "      <td>1</td>\n",
       "      <td>gasoline</td>\n",
       "      <td>renault</td>\n",
       "      <td>no</td>\n",
       "      <td>0</td>\n",
       "      <td>46483</td>\n",
       "    </tr>\n",
       "    <tr>\n",
       "      <th>54</th>\n",
       "      <td>4700</td>\n",
       "      <td>wagon</td>\n",
       "      <td>2005</td>\n",
       "      <td>manual</td>\n",
       "      <td>0</td>\n",
       "      <td>signum</td>\n",
       "      <td>150000</td>\n",
       "      <td>0</td>\n",
       "      <td>unknown</td>\n",
       "      <td>opel</td>\n",
       "      <td>no</td>\n",
       "      <td>0</td>\n",
       "      <td>88433</td>\n",
       "    </tr>\n",
       "    <tr>\n",
       "      <th>55</th>\n",
       "      <td>550</td>\n",
       "      <td>wagon</td>\n",
       "      <td>1999</td>\n",
       "      <td>manual</td>\n",
       "      <td>0</td>\n",
       "      <td>astra</td>\n",
       "      <td>150000</td>\n",
       "      <td>8</td>\n",
       "      <td>gasoline</td>\n",
       "      <td>opel</td>\n",
       "      <td>yes</td>\n",
       "      <td>0</td>\n",
       "      <td>56759</td>\n",
       "    </tr>\n",
       "  </tbody>\n",
       "</table>\n",
       "</div>"
      ],
      "text/plain": [
       "    price vehicle_type  registration_year  gearbox  power   model  kilometer  \\\n",
       "0     480      unknown               1993   manual      0    golf     150000   \n",
       "32    245        sedan               1994  unknown      0    golf     150000   \n",
       "37   1500      unknown               2016  unknown      0  kangoo     150000   \n",
       "54   4700        wagon               2005   manual      0  signum     150000   \n",
       "55    550        wagon               1999   manual      0   astra     150000   \n",
       "\n",
       "    registration_month fuel_type       brand not_repaired  number_of_pictures  \\\n",
       "0                    0    petrol  volkswagen      unknown                   0   \n",
       "32                   2    petrol  volkswagen           no                   0   \n",
       "37                   1  gasoline     renault           no                   0   \n",
       "54                   0   unknown        opel           no                   0   \n",
       "55                   8  gasoline        opel          yes                   0   \n",
       "\n",
       "    postal_code  \n",
       "0         70435  \n",
       "32        44145  \n",
       "37        46483  \n",
       "54        88433  \n",
       "55        56759  "
      ]
     },
     "execution_count": 16,
     "metadata": {},
     "output_type": "execute_result"
    }
   ],
   "source": [
    "df_proc.query('power < 10 | power > 1600').head()"
   ]
  },
  {
   "cell_type": "markdown",
   "metadata": {},
   "source": [
    "Почти 10% всей таблицы представляют собой аномальные значения, где мощность либо слишком низкая, либо чрезмерно высокая. Однако, это нормальная ситуация, ведь мы имеем дело с объявлениями поддержанных авто, поэтому владельцы вполне могли недобросовестно заполнить информацию. Для исследования придётся и эти значения исключить:"
   ]
  },
  {
   "cell_type": "code",
   "execution_count": 17,
   "metadata": {},
   "outputs": [],
   "source": [
    "df_proc = df_proc[(df_proc['power'] > 10) & df_proc['power'] <= 1600]"
   ]
  },
  {
   "cell_type": "markdown",
   "metadata": {},
   "source": [
    "В завершении исследования аномалий посмотрим количество строк до и после:"
   ]
  },
  {
   "cell_type": "code",
   "execution_count": 18,
   "metadata": {},
   "outputs": [
    {
     "name": "stdout",
     "output_type": "stream",
     "text": [
      "Количество строк до предобработки данных: 354369\n",
      "Количество строк после предобработки данных: 321282\n",
      "Доля строк, удалённых в процессе предобработки: 0.09\n"
     ]
    }
   ],
   "source": [
    "print(f'Количество строк до предобработки данных: {df_len}')\n",
    "print(f'Количество строк после предобработки данных: {len(df_proc)}')\n",
    "print(f'Доля строк, удалённых в процессе предобработки: {((df_len - len(df_proc)) / df_len):.1}')"
   ]
  },
  {
   "cell_type": "markdown",
   "metadata": {},
   "source": [
    "В ходе предобработки удалили всего 0.09 строк. Такое количество можно считать абсолютно приемлемым, даже тогда, когда в данных есть так много аномалий, как у нас. Теперь обратим внимание на столбец с количеством фотографий, где статистика продемонстрировала везде абсолютные 0. Видимо, сайт сейчас не рассчитан на выставление фотографий, поэтому столбец выходит не информативным. Удалим его:"
   ]
  },
  {
   "cell_type": "code",
   "execution_count": 19,
   "metadata": {},
   "outputs": [],
   "source": [
    "df_proc = df_proc.drop('number_of_pictures', axis=1)"
   ]
  },
  {
   "cell_type": "markdown",
   "metadata": {},
   "source": [
    "В завершении этапа посмотрим, как выглядит теперь таблица. Для этого выведем первые 3 строки:"
   ]
  },
  {
   "cell_type": "code",
   "execution_count": 20,
   "metadata": {
    "scrolled": true
   },
   "outputs": [
    {
     "data": {
      "text/html": [
       "<div>\n",
       "<style scoped>\n",
       "    .dataframe tbody tr th:only-of-type {\n",
       "        vertical-align: middle;\n",
       "    }\n",
       "\n",
       "    .dataframe tbody tr th {\n",
       "        vertical-align: top;\n",
       "    }\n",
       "\n",
       "    .dataframe thead th {\n",
       "        text-align: right;\n",
       "    }\n",
       "</style>\n",
       "<table border=\"1\" class=\"dataframe\">\n",
       "  <thead>\n",
       "    <tr style=\"text-align: right;\">\n",
       "      <th></th>\n",
       "      <th>price</th>\n",
       "      <th>vehicle_type</th>\n",
       "      <th>registration_year</th>\n",
       "      <th>gearbox</th>\n",
       "      <th>power</th>\n",
       "      <th>model</th>\n",
       "      <th>kilometer</th>\n",
       "      <th>registration_month</th>\n",
       "      <th>fuel_type</th>\n",
       "      <th>brand</th>\n",
       "      <th>not_repaired</th>\n",
       "      <th>number_of_pictures</th>\n",
       "      <th>postal_code</th>\n",
       "    </tr>\n",
       "  </thead>\n",
       "  <tbody>\n",
       "    <tr>\n",
       "      <th>0</th>\n",
       "      <td>480</td>\n",
       "      <td>unknown</td>\n",
       "      <td>1993</td>\n",
       "      <td>manual</td>\n",
       "      <td>0</td>\n",
       "      <td>golf</td>\n",
       "      <td>150000</td>\n",
       "      <td>0</td>\n",
       "      <td>petrol</td>\n",
       "      <td>volkswagen</td>\n",
       "      <td>unknown</td>\n",
       "      <td>0</td>\n",
       "      <td>70435</td>\n",
       "    </tr>\n",
       "    <tr>\n",
       "      <th>1</th>\n",
       "      <td>18300</td>\n",
       "      <td>coupe</td>\n",
       "      <td>2011</td>\n",
       "      <td>manual</td>\n",
       "      <td>190</td>\n",
       "      <td>unknown</td>\n",
       "      <td>125000</td>\n",
       "      <td>5</td>\n",
       "      <td>gasoline</td>\n",
       "      <td>audi</td>\n",
       "      <td>yes</td>\n",
       "      <td>0</td>\n",
       "      <td>66954</td>\n",
       "    </tr>\n",
       "    <tr>\n",
       "      <th>2</th>\n",
       "      <td>9800</td>\n",
       "      <td>suv</td>\n",
       "      <td>2004</td>\n",
       "      <td>auto</td>\n",
       "      <td>163</td>\n",
       "      <td>grand</td>\n",
       "      <td>125000</td>\n",
       "      <td>8</td>\n",
       "      <td>gasoline</td>\n",
       "      <td>jeep</td>\n",
       "      <td>unknown</td>\n",
       "      <td>0</td>\n",
       "      <td>90480</td>\n",
       "    </tr>\n",
       "  </tbody>\n",
       "</table>\n",
       "</div>"
      ],
      "text/plain": [
       "   price vehicle_type  registration_year gearbox  power    model  kilometer  \\\n",
       "0    480      unknown               1993  manual      0     golf     150000   \n",
       "1  18300        coupe               2011  manual    190  unknown     125000   \n",
       "2   9800          suv               2004    auto    163    grand     125000   \n",
       "\n",
       "   registration_month fuel_type       brand not_repaired  number_of_pictures  \\\n",
       "0                   0    petrol  volkswagen      unknown                   0   \n",
       "1                   5  gasoline        audi          yes                   0   \n",
       "2                   8  gasoline        jeep      unknown                   0   \n",
       "\n",
       "   postal_code  \n",
       "0        70435  \n",
       "1        66954  \n",
       "2        90480  "
      ]
     },
     "execution_count": 20,
     "metadata": {},
     "output_type": "execute_result"
    }
   ],
   "source": [
    "df.head(3)"
   ]
  },
  {
   "cell_type": "markdown",
   "metadata": {},
   "source": [
    "### Вывод"
   ]
  },
  {
   "cell_type": "markdown",
   "metadata": {},
   "source": [
    "На этапе подготовки данных был проведён разведочный анализ данных, а после него сразу предобработка данных. На данном этапе были выявлены следующие проблемы:\n",
    "\n",
    "* Некорректные названия признаков в таблице;\n",
    "* Некорректные типы данных у трёх признаков;\n",
    "* Наличие дубликатов;\n",
    "* Наличие пропусков;\n",
    "* Наличие аномальных значений в данных\n",
    "\n",
    "Все проблемы на этом этапе были устранены тем или иным образом. Предварительно можно утверждать, что данных для построения качественных моделей будет достаточно. Перейдём к этапу обучения моделей."
   ]
  },
  {
   "cell_type": "markdown",
   "metadata": {},
   "source": [
    "## Обучение моделей"
   ]
  },
  {
   "cell_type": "markdown",
   "metadata": {},
   "source": [
    "### Подготовка к обучению моделей"
   ]
  },
  {
   "cell_type": "markdown",
   "metadata": {},
   "source": [
    "Обработаем все категориальные признаки методом OHE-кодирования:"
   ]
  },
  {
   "cell_type": "code",
   "execution_count": 21,
   "metadata": {},
   "outputs": [],
   "source": [
    "df_proc_ohe = pd.get_dummies(df_proc, drop_first=True)"
   ]
  },
  {
   "cell_type": "markdown",
   "metadata": {},
   "source": [
    "Теперь необходимо собрать численные признаки, чтобы затем отскалировать их. Сначала отдельно выделим такие признаки:"
   ]
  },
  {
   "cell_type": "code",
   "execution_count": 22,
   "metadata": {},
   "outputs": [],
   "source": [
    "num_features = ['kilometer', 'power']"
   ]
  },
  {
   "cell_type": "markdown",
   "metadata": {},
   "source": [
    "Напишем функцию, которая будет принимать на вход выборку, а возвращать её уже с отскалированными признаками:"
   ]
  },
  {
   "cell_type": "code",
   "execution_count": 23,
   "metadata": {},
   "outputs": [],
   "source": [
    "def scaling(data):\n",
    "    scaler = StandardScaler()\n",
    "    scaler.fit(data[num_features])\n",
    "    data[num_features] = scaler.transform(data[num_features])\n",
    "    return data"
   ]
  },
  {
   "cell_type": "markdown",
   "metadata": {},
   "source": [
    "Вызовем функцию для нашего датафрейма:"
   ]
  },
  {
   "cell_type": "code",
   "execution_count": 24,
   "metadata": {},
   "outputs": [],
   "source": [
    "df_proc_ohe = scaling(df_proc_ohe)"
   ]
  },
  {
   "cell_type": "markdown",
   "metadata": {},
   "source": [
    "Теперь объединим признаки и целевой признак в отдельные переменные:"
   ]
  },
  {
   "cell_type": "code",
   "execution_count": 25,
   "metadata": {},
   "outputs": [],
   "source": [
    "features = df_proc_ohe.drop('price', axis=1)\n",
    "target = df_proc_ohe['price']"
   ]
  },
  {
   "cell_type": "markdown",
   "metadata": {},
   "source": [
    "Перед обучением моделей необходимо разбить выборку на обучающую, валидационную и тестовую в пропорции 3:1:1:"
   ]
  },
  {
   "cell_type": "code",
   "execution_count": 26,
   "metadata": {},
   "outputs": [],
   "source": [
    "features_train, features_valid, target_train, target_valid = train_test_split(features, target, \n",
    "                                                                              test_size=0.2, random_state=RANDOM_STATE)\n",
    "features_train, features_test, target_train, target_test = train_test_split(features_train, target_train, \n",
    "                                                                              test_size=0.25, random_state=RANDOM_STATE)"
   ]
  },
  {
   "cell_type": "markdown",
   "metadata": {},
   "source": [
    "Убедимся, что получили необходимую размерность в выборках:"
   ]
  },
  {
   "cell_type": "code",
   "execution_count": 27,
   "metadata": {},
   "outputs": [
    {
     "name": "stdout",
     "output_type": "stream",
     "text": [
      "Размер обучающей выборки: 0.6\n",
      "Размер валидационной выборки: 0.2\n",
      "Размер тестовой выборки: 0.2\n"
     ]
    }
   ],
   "source": [
    "print(f'Размер обучающей выборки: {len(target_train) / len(df_proc):.2}')\n",
    "print(f'Размер валидационной выборки: {(len(target_valid) / len(df_proc)):.2}')\n",
    "print(f'Размер тестовой выборки: {(len(target_test) / len(df_proc)):.2}')"
   ]
  },
  {
   "cell_type": "markdown",
   "metadata": {},
   "source": [
    "Размерности соблюдены. Далее можем переходить к самому обучению моделей."
   ]
  },
  {
   "cell_type": "markdown",
   "metadata": {},
   "source": [
    "### Модели"
   ]
  },
  {
   "cell_type": "markdown",
   "metadata": {},
   "source": [
    "#### Линейная регрессия"
   ]
  },
  {
   "cell_type": "markdown",
   "metadata": {},
   "source": [
    "Для сравнения будем считать время выполнения некоторых ячеек кода командой `%%time`. Начнём обучение моделей с простой линейной регрессии. Обучим её:"
   ]
  },
  {
   "cell_type": "code",
   "execution_count": 28,
   "metadata": {},
   "outputs": [
    {
     "name": "stdout",
     "output_type": "stream",
     "text": [
      "CPU times: user 20.6 s, sys: 17 s, total: 37.6 s\n",
      "Wall time: 37.6 s\n"
     ]
    },
    {
     "data": {
      "text/plain": [
       "LinearRegression()"
      ]
     },
     "execution_count": 28,
     "metadata": {},
     "output_type": "execute_result"
    }
   ],
   "source": [
    "%%time\n",
    "\n",
    "model_lr = LinearRegression()\n",
    "model_lr.fit(features_train, target_train)"
   ]
  },
  {
   "cell_type": "markdown",
   "metadata": {},
   "source": [
    "Отдельной ячейкой посчитаем предсказания линейной регрессии:"
   ]
  },
  {
   "cell_type": "code",
   "execution_count": 29,
   "metadata": {},
   "outputs": [
    {
     "name": "stdout",
     "output_type": "stream",
     "text": [
      "CPU times: user 73.9 ms, sys: 90 ms, total: 164 ms\n",
      "Wall time: 136 ms\n"
     ]
    }
   ],
   "source": [
    "%%time\n",
    "\n",
    "predictions_lr = model_lr.predict(features_test)"
   ]
  },
  {
   "cell_type": "markdown",
   "metadata": {},
   "source": [
    "Наконец, найдём метрику качества модели. Для этого рассчитаем `RMSE`:"
   ]
  },
  {
   "cell_type": "code",
   "execution_count": 30,
   "metadata": {},
   "outputs": [
    {
     "name": "stdout",
     "output_type": "stream",
     "text": [
      "RMSE линейной регрессии составляет: 2850.54\n"
     ]
    }
   ],
   "source": [
    "rmse = mean_squared_error(target_test, predictions_lr, squared=False)\n",
    "print(f'RMSE линейной регрессии составляет: {rmse:.2f}')"
   ]
  },
  {
   "cell_type": "markdown",
   "metadata": {},
   "source": [
    "В целом, можно сказать, что линейная регрессия достаточно быстро обучается, предсказывает и имеет не самые плохие показатели качества - RMSE 2850. Однако, возможно другие модели покажут себя лучше."
   ]
  },
  {
   "cell_type": "markdown",
   "metadata": {},
   "source": [
    "#### Случайный лес"
   ]
  },
  {
   "cell_type": "markdown",
   "metadata": {},
   "source": [
    "Попробуем модель случайного леса. Перед обучением модели перекодируем категориальные переменные датасета в порядковое кодирование вместо OHE - это существенно ускорит время работы этой и следующей модели:"
   ]
  },
  {
   "cell_type": "code",
   "execution_count": 31,
   "metadata": {},
   "outputs": [],
   "source": [
    "encoder = OrdinalEncoder()\n",
    "encoder.fit(df_proc)\n",
    "\n",
    "df_proc_ordinal = pd.DataFrame(encoder.transform(df_proc), columns=df_proc.columns)"
   ]
  },
  {
   "cell_type": "markdown",
   "metadata": {},
   "source": [
    "Отмасштабируем количественные признаки. Для этого воспользуемся уже написанной функцией:"
   ]
  },
  {
   "cell_type": "code",
   "execution_count": 32,
   "metadata": {},
   "outputs": [],
   "source": [
    "df_proc_ordinal = scaling(df_proc_ordinal)"
   ]
  },
  {
   "cell_type": "markdown",
   "metadata": {},
   "source": [
    "Объединим признаки по целевому и остальным, а затем разобьём выборки на обучающую, валидационную и тестовую в пропорции 3:1:1. После этого выведем их размеры:"
   ]
  },
  {
   "cell_type": "code",
   "execution_count": 33,
   "metadata": {},
   "outputs": [
    {
     "name": "stdout",
     "output_type": "stream",
     "text": [
      "Размер обучающей выборки: 0.6\n",
      "Размер валидационной выборки: 0.2\n",
      "Размер тестовой выборки: 0.2\n"
     ]
    }
   ],
   "source": [
    "features = df_proc_ordinal.drop('price', axis=1)\n",
    "target = df_proc_ordinal['price']\n",
    "\n",
    "features_train_ordinal, features_valid_ordinal, target_train_ordinal, target_valid_ordinal = train_test_split(features, target, \n",
    "                                                                              test_size=0.2, random_state=RANDOM_STATE)\n",
    "features_train_ordinal, features_test_ordinal, target_train_ordinal, target_test_ordinal = train_test_split(features_train_ordinal, \n",
    "                                                                    target_train_ordinal, test_size=0.25, random_state=RANDOM_STATE)\n",
    "\n",
    "print(f'Размер обучающей выборки: {len(target_train) / len(df_proc_ordinal):.2}')\n",
    "print(f'Размер валидационной выборки: {(len(target_valid) / len(df_proc_ordinal)):.2}')\n",
    "print(f'Размер тестовой выборки: {(len(target_test) / len(df_proc_ordinal)):.2}')"
   ]
  },
  {
   "cell_type": "markdown",
   "metadata": {},
   "source": [
    "Обучим модель случайного леса и измерим время обучения:"
   ]
  },
  {
   "cell_type": "code",
   "execution_count": 34,
   "metadata": {},
   "outputs": [
    {
     "name": "stdout",
     "output_type": "stream",
     "text": [
      "CPU times: user 1min 27s, sys: 1.18 s, total: 1min 28s\n",
      "Wall time: 1min 28s\n"
     ]
    },
    {
     "data": {
      "text/plain": [
       "RandomForestRegressor()"
      ]
     },
     "execution_count": 34,
     "metadata": {},
     "output_type": "execute_result"
    }
   ],
   "source": [
    "%%time\n",
    "\n",
    "model_rfr = RandomForestRegressor()\n",
    "model_rfr.fit(features_train_ordinal, target_train_ordinal)"
   ]
  },
  {
   "cell_type": "markdown",
   "metadata": {},
   "source": [
    "Время обучения получилось выше, чем у линейной регрессии: 84 секунды против 21 секунды. Посмотрим, сколько времени уйдёт на получение предсказаний:"
   ]
  },
  {
   "cell_type": "code",
   "execution_count": 35,
   "metadata": {},
   "outputs": [
    {
     "name": "stdout",
     "output_type": "stream",
     "text": [
      "CPU times: user 3.36 s, sys: 0 ns, total: 3.36 s\n",
      "Wall time: 3.36 s\n"
     ]
    }
   ],
   "source": [
    "%%time\n",
    "\n",
    "predictions_rfr = model_rfr.predict(features_test_ordinal)"
   ]
  },
  {
   "cell_type": "markdown",
   "metadata": {},
   "source": [
    "В целом, результат получается довольно быстро. Теперь рассчитаем `RMSE` случайного леса:"
   ]
  },
  {
   "cell_type": "code",
   "execution_count": 36,
   "metadata": {},
   "outputs": [
    {
     "name": "stdout",
     "output_type": "stream",
     "text": [
      "RMSE случайного леса составляет: 347.93\n"
     ]
    }
   ],
   "source": [
    "mse = mean_squared_error(target_test_ordinal, predictions_rfr, squared=False)\n",
    "print(f'RMSE случайного леса составляет: {mse:.2f}')"
   ]
  },
  {
   "cell_type": "markdown",
   "metadata": {},
   "source": [
    "RMSE существенно превосходит RMSE линейной регрессии - результат лучше примерно в 8 раз. Однако, такие результаты не так однозначны, ведь время работы модели стало выше. Посмотрим, можно ли улучшить данные результаты путём экспериментирования с гиперпараметрами случайного леса:"
   ]
  },
  {
   "cell_type": "code",
   "execution_count": 37,
   "metadata": {},
   "outputs": [
    {
     "name": "stdout",
     "output_type": "stream",
     "text": [
      "Наилучший критерий модели: poisson\n",
      "Наилучшее RMSE составляет: 346.00933118880465\n"
     ]
    }
   ],
   "source": [
    "the_best_crit = 'squared_error'\n",
    "the_best_mse = 0\n",
    "\n",
    "for crit in ('squared_error', 'absolute_error', 'poisson'):\n",
    "        model = RandomForestRegressor()\n",
    "        model.fit(features_train_ordinal, target_train_ordinal)\n",
    "        predictions = model.predict(features_valid_ordinal)\n",
    "        mse = mean_squared_error(target_valid_ordinal, predictions, squared=False)\n",
    "        if mse > the_best_mse:\n",
    "            the_best_crit = crit\n",
    "            the_best_mse = mse\n",
    "            \n",
    "print(f'Наилучший критерий модели: {the_best_crit}')\n",
    "print(f'Наилучшее RMSE составляет: {the_best_mse}')"
   ]
  },
  {
   "cell_type": "markdown",
   "metadata": {},
   "source": [
    "Подборка по одному параметру не позволила улучшить метрику `RMSE`, даже ухудшило её. Вместе с тем, такой подбор занимает чрезвычайно много времени, поэтому оставим параметры по умолчанию и рассмотрим другую модель - градиентный бустинг."
   ]
  },
  {
   "cell_type": "markdown",
   "metadata": {},
   "source": [
    "#### Градиентный бустинг"
   ]
  },
  {
   "cell_type": "markdown",
   "metadata": {},
   "source": [
    "Соберём данные для градиентного бустинга в отдельные датасеты:"
   ]
  },
  {
   "cell_type": "code",
   "execution_count": 38,
   "metadata": {},
   "outputs": [],
   "source": [
    "lgb_train = lgb.Dataset(features_train_ordinal, target_train_ordinal)\n",
    "lgb_eval = lgb.Dataset(features_test_ordinal, target_test_ordinal, reference=lgb_train)"
   ]
  },
  {
   "cell_type": "markdown",
   "metadata": {},
   "source": [
    "Настроим некоторые гиперпараметры модели:"
   ]
  },
  {
   "cell_type": "code",
   "execution_count": 39,
   "metadata": {},
   "outputs": [],
   "source": [
    "params = {\n",
    "    'boosting_type': 'gbdt',\n",
    "    'objective': 'regression',\n",
    "    'metric': {'l2', 'l1'},\n",
    "    'num_leaves': 31,\n",
    "    'learning_rate': 0.05,\n",
    "    'feature_fraction': 0.9,\n",
    "    'bagging_fraction': 0.8,\n",
    "        }"
   ]
  },
  {
   "cell_type": "markdown",
   "metadata": {},
   "source": [
    "Обучим модель градиентного бустинга и посмотрим, сколько времени это займёт:"
   ]
  },
  {
   "cell_type": "code",
   "execution_count": 40,
   "metadata": {},
   "outputs": [
    {
     "name": "stdout",
     "output_type": "stream",
     "text": [
      "[LightGBM] [Warning] Auto-choosing row-wise multi-threading, the overhead of testing was 0.467585 seconds.\n",
      "You can set `force_row_wise=true` to remove the overhead.\n",
      "And if memory is not enough, you can set `force_col_wise=true`.\n",
      "[LightGBM] [Info] Total Bins 930\n",
      "[LightGBM] [Info] Number of data points in the train set: 192768, number of used features: 11\n",
      "[LightGBM] [Info] Start training from score 1317.857430\n",
      "Training until validation scores don't improve for 5 rounds\n",
      "Did not meet early stopping. Best iteration is:\n",
      "[20]\tvalid_0's l1: 443.615\tvalid_0's l2: 308161\n",
      "CPU times: user 13.1 s, sys: 201 ms, total: 13.3 s\n",
      "Wall time: 13.4 s\n"
     ]
    }
   ],
   "source": [
    "%%time\n",
    "\n",
    "gbm = lgb.train(params, lgb_train, num_boost_round=20, valid_sets=lgb_eval,\n",
    "callbacks=[lgb.early_stopping(stopping_rounds=5)])"
   ]
  },
  {
   "cell_type": "markdown",
   "metadata": {},
   "source": [
    "Модель обучалась чуть более 13 секунд. В целом, это очень хороший результат, однако всё зависит от метрики качества. Получим предсказания модели и посмотрим, сколько времени это занимает:"
   ]
  },
  {
   "cell_type": "code",
   "execution_count": 41,
   "metadata": {},
   "outputs": [
    {
     "name": "stdout",
     "output_type": "stream",
     "text": [
      "CPU times: user 113 ms, sys: 0 ns, total: 113 ms\n",
      "Wall time: 102 ms\n"
     ]
    }
   ],
   "source": [
    "%%time\n",
    "\n",
    "predictions_gbm = gbm.predict(features_test_ordinal, num_iteration=gbm.best_iteration)"
   ]
  },
  {
   "cell_type": "markdown",
   "metadata": {},
   "source": [
    "Наконец, получим `RMSE` модели:"
   ]
  },
  {
   "cell_type": "code",
   "execution_count": 42,
   "metadata": {},
   "outputs": [
    {
     "name": "stdout",
     "output_type": "stream",
     "text": [
      "RMSE градиентного бустинга составляет: 555.12\n"
     ]
    }
   ],
   "source": [
    "mse = mean_squared_error(target_test_ordinal, predictions_gbm, squared=False)\n",
    "print(f'RMSE градиентного бустинга составляет: {mse:.2f}')"
   ]
  },
  {
   "cell_type": "markdown",
   "metadata": {},
   "source": [
    "Перейдём к финальному этапу рассмотрения моделей в зависимости от пожеланий заказчика."
   ]
  },
  {
   "cell_type": "markdown",
   "metadata": {},
   "source": [
    "## Анализ моделей"
   ]
  },
  {
   "cell_type": "markdown",
   "metadata": {},
   "source": [
    "Cоздадим датафрейм с объединёнными данными по затраченному времени моделей, а также их метриками `RMSE`:"
   ]
  },
  {
   "cell_type": "code",
   "execution_count": 47,
   "metadata": {},
   "outputs": [],
   "source": [
    "final_data = pd.DataFrame({'Модель': ['Линейная регрессия', 'Случайный лес', 'Градиентный бустинг'],\n",
    "                         'Время обучения в сек': [37.6, 88, 13.3],\n",
    "                         'Время предсказания в сек': [0.164, 3.36, 0.113],\n",
    "                         'RMSE': [2850, 346, 555.12]})"
   ]
  },
  {
   "cell_type": "markdown",
   "metadata": {},
   "source": [
    "Выведем полученную таблицу на экран:"
   ]
  },
  {
   "cell_type": "code",
   "execution_count": 48,
   "metadata": {
    "scrolled": true
   },
   "outputs": [
    {
     "data": {
      "text/html": [
       "<div>\n",
       "<style scoped>\n",
       "    .dataframe tbody tr th:only-of-type {\n",
       "        vertical-align: middle;\n",
       "    }\n",
       "\n",
       "    .dataframe tbody tr th {\n",
       "        vertical-align: top;\n",
       "    }\n",
       "\n",
       "    .dataframe thead th {\n",
       "        text-align: right;\n",
       "    }\n",
       "</style>\n",
       "<table border=\"1\" class=\"dataframe\">\n",
       "  <thead>\n",
       "    <tr style=\"text-align: right;\">\n",
       "      <th></th>\n",
       "      <th>Модель</th>\n",
       "      <th>Время обучения в сек</th>\n",
       "      <th>Время предсказания в сек</th>\n",
       "      <th>RMSE</th>\n",
       "    </tr>\n",
       "  </thead>\n",
       "  <tbody>\n",
       "    <tr>\n",
       "      <th>0</th>\n",
       "      <td>Линейная регрессия</td>\n",
       "      <td>37.6</td>\n",
       "      <td>0.164</td>\n",
       "      <td>2850.00</td>\n",
       "    </tr>\n",
       "    <tr>\n",
       "      <th>1</th>\n",
       "      <td>Случайный лес</td>\n",
       "      <td>88.0</td>\n",
       "      <td>3.360</td>\n",
       "      <td>346.00</td>\n",
       "    </tr>\n",
       "    <tr>\n",
       "      <th>2</th>\n",
       "      <td>Градиентный бустинг</td>\n",
       "      <td>13.3</td>\n",
       "      <td>0.113</td>\n",
       "      <td>555.12</td>\n",
       "    </tr>\n",
       "  </tbody>\n",
       "</table>\n",
       "</div>"
      ],
      "text/plain": [
       "                Модель  Время обучения в сек  Время предсказания в сек  \\\n",
       "0   Линейная регрессия                  37.6                     0.164   \n",
       "1        Случайный лес                  88.0                     3.360   \n",
       "2  Градиентный бустинг                  13.3                     0.113   \n",
       "\n",
       "      RMSE  \n",
       "0  2850.00  \n",
       "1   346.00  \n",
       "2   555.12  "
      ]
     },
     "execution_count": 48,
     "metadata": {},
     "output_type": "execute_result"
    }
   ],
   "source": [
    "final_data"
   ]
  },
  {
   "cell_type": "markdown",
   "metadata": {},
   "source": [
    "Анализируя эту таблицу, видим, что по времени обучения наиболее качественной оказалась модель градиентного бустинга - она обучается всего 13.3 секунд. Помимо этого, метрика `RMSE` этой модели также оказалась достаточно неплохой. Возможно, внесение дополнительного количества гиперпараметров в модель градиентного бустинга могло бы увеличить метрику, однако тогда время могло бы стать существенно больше."
   ]
  },
  {
   "cell_type": "markdown",
   "metadata": {},
   "source": [
    "### Вывод"
   ]
  },
  {
   "cell_type": "markdown",
   "metadata": {},
   "source": [
    "Линейная регрессия, несмотря на своё время обучения, не рекомендована для использования заказчиком, так как метрика качества тут оказалась наихудшей. Случайный лес, в целом, обучается дольше, но метрика качества выходит лучше. Градиентный бустинг занял наименьшее время обучения, но `RMSE` получился 555.12 против 346 у случайного леса. \n",
    "\n",
    "Из этого можно прийти к выводу, если заказчику хочется получить наибольшую скорость и хорошее качество - стоит применять градиентный бустинг. Если же хочется получить наибольшее качество и чуть менее высокую скорость - случайный лес."
   ]
  },
  {
   "cell_type": "markdown",
   "metadata": {},
   "source": [
    "## Общий вывод"
   ]
  },
  {
   "cell_type": "markdown",
   "metadata": {},
   "source": [
    "По предварительным данным заказчик поставил задачу: определить наилучшую модель для определения рыночной стоимости автомобиля по его характеристикам, при этом модели должны были быть сравнены по различным параметрам. Все данные прошли процедуру предварительной обработки данных, тем самым, можно сказать, что исследование не могло быть искажено какими-либо пробелами в данных. \n",
    "\n",
    "Для анализа было выбрано 3 модели от наиболее простой к наиболее сложной: линейная регрессия, случайный лес, градиентный бустинг. По окончании работы и получения финальной метрики все модели были сравнены между собой. В итоге получилось, что модель с наилучшей метрикой, но не лучшим временем обучения является случайный лес (`RMSE` - 346, время обучения - 88). Градиентный бустинг занял 13.3 секунд для обучения, однако `RMSE` - 555. Если заказчику нужна быстрота, но чуть менее лучшее качество - можно смело применять градиентный бустинг."
   ]
  }
 ],
 "metadata": {
  "ExecuteTimeLog": [
   {
    "duration": 391,
    "start_time": "2022-05-05T09:07:09.970Z"
   },
   {
    "duration": 70,
    "start_time": "2022-05-05T09:07:35.459Z"
   },
   {
    "duration": 3,
    "start_time": "2022-05-05T09:07:44.664Z"
   },
   {
    "duration": 3,
    "start_time": "2022-05-05T09:07:46.242Z"
   },
   {
    "duration": 3,
    "start_time": "2022-05-05T09:07:54.533Z"
   },
   {
    "duration": 852,
    "start_time": "2022-05-05T09:08:31.818Z"
   },
   {
    "duration": 23,
    "start_time": "2022-05-05T09:09:01.202Z"
   },
   {
    "duration": 176,
    "start_time": "2022-05-05T09:09:43.098Z"
   },
   {
    "duration": 158,
    "start_time": "2022-05-05T09:09:51.650Z"
   },
   {
    "duration": 750,
    "start_time": "2022-05-05T09:18:18.768Z"
   },
   {
    "duration": 3,
    "start_time": "2022-05-05T09:18:37.002Z"
   },
   {
    "duration": 32,
    "start_time": "2022-05-05T09:18:40.801Z"
   },
   {
    "duration": 28,
    "start_time": "2022-05-05T09:21:45.632Z"
   },
   {
    "duration": 34,
    "start_time": "2022-05-05T09:21:55.850Z"
   },
   {
    "duration": 162,
    "start_time": "2022-05-05T09:22:00.697Z"
   },
   {
    "duration": 24,
    "start_time": "2022-05-05T09:22:23.082Z"
   },
   {
    "duration": 1379,
    "start_time": "2022-05-05T09:22:39.746Z"
   },
   {
    "duration": 1373,
    "start_time": "2022-05-05T09:23:06.242Z"
   },
   {
    "duration": 102,
    "start_time": "2022-05-05T09:23:31.442Z"
   },
   {
    "duration": 23,
    "start_time": "2022-05-05T09:23:32.792Z"
   },
   {
    "duration": 124,
    "start_time": "2022-05-05T09:23:36.498Z"
   },
   {
    "duration": 3,
    "start_time": "2022-05-05T09:24:20.874Z"
   },
   {
    "duration": 49,
    "start_time": "2022-05-05T09:24:36.189Z"
   },
   {
    "duration": 14,
    "start_time": "2022-05-05T09:24:51.882Z"
   },
   {
    "duration": 216,
    "start_time": "2022-05-05T09:25:31.130Z"
   },
   {
    "duration": 103,
    "start_time": "2022-05-05T09:25:35.761Z"
   },
   {
    "duration": 36,
    "start_time": "2022-05-05T09:26:22.290Z"
   },
   {
    "duration": 14,
    "start_time": "2022-05-05T09:28:28.228Z"
   },
   {
    "duration": 8,
    "start_time": "2022-05-05T09:37:01.986Z"
   },
   {
    "duration": 780,
    "start_time": "2022-05-05T09:37:28.795Z"
   },
   {
    "duration": 106,
    "start_time": "2022-05-05T09:37:32.834Z"
   },
   {
    "duration": 42,
    "start_time": "2022-05-05T09:40:39.799Z"
   },
   {
    "duration": 9,
    "start_time": "2022-05-05T09:40:45.914Z"
   },
   {
    "duration": 4,
    "start_time": "2022-05-05T09:40:56.337Z"
   },
   {
    "duration": 3,
    "start_time": "2022-05-05T09:41:08.737Z"
   },
   {
    "duration": 786,
    "start_time": "2022-05-05T09:41:20.257Z"
   },
   {
    "duration": 196,
    "start_time": "2022-05-05T09:42:01.706Z"
   },
   {
    "duration": 4,
    "start_time": "2022-05-05T09:42:04.106Z"
   },
   {
    "duration": 10,
    "start_time": "2022-05-05T09:42:10.386Z"
   },
   {
    "duration": 3,
    "start_time": "2022-05-05T09:42:16.930Z"
   },
   {
    "duration": 4,
    "start_time": "2022-05-05T09:42:28.738Z"
   },
   {
    "duration": 176,
    "start_time": "2022-05-05T09:42:42.738Z"
   },
   {
    "duration": 9,
    "start_time": "2022-05-05T09:42:56.817Z"
   },
   {
    "duration": 3,
    "start_time": "2022-05-05T09:43:24.058Z"
   },
   {
    "duration": 3,
    "start_time": "2022-05-05T09:43:33.513Z"
   },
   {
    "duration": 4,
    "start_time": "2022-05-05T09:43:38.545Z"
   },
   {
    "duration": 3,
    "start_time": "2022-05-05T09:44:04.492Z"
   },
   {
    "duration": 3,
    "start_time": "2022-05-05T09:44:10.626Z"
   },
   {
    "duration": 3,
    "start_time": "2022-05-05T09:44:27.546Z"
   },
   {
    "duration": 24,
    "start_time": "2022-05-05T09:45:55.913Z"
   },
   {
    "duration": 3,
    "start_time": "2022-05-05T09:46:43.804Z"
   },
   {
    "duration": 9,
    "start_time": "2022-05-05T09:47:02.113Z"
   },
   {
    "duration": 52,
    "start_time": "2022-05-05T09:47:06.425Z"
   },
   {
    "duration": 72,
    "start_time": "2022-05-05T09:47:31.546Z"
   },
   {
    "duration": 5,
    "start_time": "2022-05-05T09:47:35.465Z"
   },
   {
    "duration": 1167,
    "start_time": "2022-05-05T09:48:05.948Z"
   },
   {
    "duration": 4,
    "start_time": "2022-05-05T09:48:07.117Z"
   },
   {
    "duration": 904,
    "start_time": "2022-05-05T09:48:07.123Z"
   },
   {
    "duration": 23,
    "start_time": "2022-05-05T09:48:08.029Z"
   },
   {
    "duration": 154,
    "start_time": "2022-05-05T09:48:08.055Z"
   },
   {
    "duration": 4,
    "start_time": "2022-05-05T09:48:08.211Z"
   },
   {
    "duration": 3,
    "start_time": "2022-05-05T09:48:08.233Z"
   },
   {
    "duration": 342,
    "start_time": "2022-05-05T09:48:08.238Z"
   },
   {
    "duration": 16,
    "start_time": "2022-05-05T09:48:08.582Z"
   },
   {
    "duration": 140,
    "start_time": "2022-05-05T09:48:08.600Z"
   },
   {
    "duration": 4,
    "start_time": "2022-05-05T09:48:08.741Z"
   },
   {
    "duration": 8,
    "start_time": "2022-05-05T09:48:08.747Z"
   },
   {
    "duration": 332,
    "start_time": "2022-05-05T09:48:08.756Z"
   },
   {
    "duration": 30,
    "start_time": "2022-05-05T09:48:16.377Z"
   },
   {
    "duration": 104,
    "start_time": "2022-05-05T09:49:05.230Z"
   },
   {
    "duration": 3,
    "start_time": "2022-05-05T09:49:06.728Z"
   },
   {
    "duration": 3,
    "start_time": "2022-05-05T09:49:07.296Z"
   },
   {
    "duration": 288,
    "start_time": "2022-05-05T09:49:10.913Z"
   },
   {
    "duration": 3,
    "start_time": "2022-05-05T09:50:47.565Z"
   },
   {
    "duration": 126,
    "start_time": "2022-05-05T09:50:55.856Z"
   },
   {
    "duration": 387,
    "start_time": "2022-05-05T09:51:29.319Z"
   },
   {
    "duration": 758,
    "start_time": "2022-05-05T09:54:14.544Z"
   },
   {
    "duration": 29,
    "start_time": "2022-05-05T09:54:25.642Z"
   },
   {
    "duration": 907,
    "start_time": "2022-05-05T09:55:00.626Z"
   },
   {
    "duration": 17,
    "start_time": "2022-05-05T09:56:19.298Z"
   },
   {
    "duration": 190,
    "start_time": "2022-05-05T09:56:29.400Z"
   },
   {
    "duration": 94,
    "start_time": "2022-05-05T09:56:34.081Z"
   },
   {
    "duration": 49,
    "start_time": "2022-05-05T09:56:38.668Z"
   },
   {
    "duration": 153,
    "start_time": "2022-05-05T09:57:14.499Z"
   },
   {
    "duration": 34,
    "start_time": "2022-05-05T09:58:46.841Z"
   },
   {
    "duration": 3,
    "start_time": "2022-05-05T09:58:59.442Z"
   },
   {
    "duration": 10,
    "start_time": "2022-05-05T09:59:41.721Z"
   },
   {
    "duration": 1186,
    "start_time": "2022-05-05T09:59:54.464Z"
   },
   {
    "duration": 4,
    "start_time": "2022-05-05T09:59:55.652Z"
   },
   {
    "duration": 834,
    "start_time": "2022-05-05T09:59:55.657Z"
   },
   {
    "duration": 20,
    "start_time": "2022-05-05T09:59:56.493Z"
   },
   {
    "duration": 145,
    "start_time": "2022-05-05T09:59:56.515Z"
   },
   {
    "duration": 3,
    "start_time": "2022-05-05T09:59:56.662Z"
   },
   {
    "duration": 8,
    "start_time": "2022-05-05T09:59:56.667Z"
   },
   {
    "duration": 294,
    "start_time": "2022-05-05T09:59:56.677Z"
   },
   {
    "duration": 14,
    "start_time": "2022-05-05T09:59:56.972Z"
   },
   {
    "duration": 119,
    "start_time": "2022-05-05T09:59:56.988Z"
   },
   {
    "duration": 4,
    "start_time": "2022-05-05T09:59:57.108Z"
   },
   {
    "duration": 7,
    "start_time": "2022-05-05T09:59:57.114Z"
   },
   {
    "duration": 3,
    "start_time": "2022-05-05T09:59:57.134Z"
   },
   {
    "duration": 432,
    "start_time": "2022-05-05T09:59:57.140Z"
   },
   {
    "duration": 831,
    "start_time": "2022-05-05T09:59:57.574Z"
   },
   {
    "duration": 220,
    "start_time": "2022-05-05T09:59:58.406Z"
   },
   {
    "duration": 107,
    "start_time": "2022-05-05T09:59:58.627Z"
   },
   {
    "duration": 10,
    "start_time": "2022-05-05T10:00:20.677Z"
   },
   {
    "duration": 210,
    "start_time": "2022-05-05T10:00:28.534Z"
   },
   {
    "duration": 113,
    "start_time": "2022-05-05T10:00:48.886Z"
   },
   {
    "duration": 187,
    "start_time": "2022-05-05T10:00:50.873Z"
   },
   {
    "duration": 223,
    "start_time": "2022-05-05T10:01:02.894Z"
   },
   {
    "duration": 2299,
    "start_time": "2022-05-05T10:36:04.413Z"
   },
   {
    "duration": 5,
    "start_time": "2022-05-05T10:36:06.714Z"
   },
   {
    "duration": 857,
    "start_time": "2022-05-05T10:36:06.721Z"
   },
   {
    "duration": 21,
    "start_time": "2022-05-05T10:36:07.580Z"
   },
   {
    "duration": 147,
    "start_time": "2022-05-05T10:36:07.602Z"
   },
   {
    "duration": 3,
    "start_time": "2022-05-05T10:36:07.751Z"
   },
   {
    "duration": 8,
    "start_time": "2022-05-05T10:36:07.756Z"
   },
   {
    "duration": 315,
    "start_time": "2022-05-05T10:36:07.765Z"
   },
   {
    "duration": 15,
    "start_time": "2022-05-05T10:36:08.082Z"
   },
   {
    "duration": 126,
    "start_time": "2022-05-05T10:36:08.100Z"
   },
   {
    "duration": 7,
    "start_time": "2022-05-05T10:36:08.228Z"
   },
   {
    "duration": 8,
    "start_time": "2022-05-05T10:36:08.236Z"
   },
   {
    "duration": 7,
    "start_time": "2022-05-05T10:36:08.246Z"
   },
   {
    "duration": 421,
    "start_time": "2022-05-05T10:36:08.254Z"
   },
   {
    "duration": 834,
    "start_time": "2022-05-05T10:36:08.677Z"
   },
   {
    "duration": 236,
    "start_time": "2022-05-05T10:36:09.513Z"
   },
   {
    "duration": 665,
    "start_time": "2022-05-05T10:36:09.750Z"
   },
   {
    "duration": 98,
    "start_time": "2022-05-05T10:38:42.092Z"
   },
   {
    "duration": 108,
    "start_time": "2022-05-05T10:38:49.592Z"
   },
   {
    "duration": 13,
    "start_time": "2022-05-05T10:38:53.447Z"
   },
   {
    "duration": 1269,
    "start_time": "2022-05-05T10:39:03.136Z"
   },
   {
    "duration": 3,
    "start_time": "2022-05-05T10:39:04.408Z"
   },
   {
    "duration": 947,
    "start_time": "2022-05-05T10:39:04.416Z"
   },
   {
    "duration": 22,
    "start_time": "2022-05-05T10:39:05.365Z"
   },
   {
    "duration": 179,
    "start_time": "2022-05-05T10:39:05.389Z"
   },
   {
    "duration": 4,
    "start_time": "2022-05-05T10:39:05.570Z"
   },
   {
    "duration": 52,
    "start_time": "2022-05-05T10:39:05.576Z"
   },
   {
    "duration": 312,
    "start_time": "2022-05-05T10:39:05.630Z"
   },
   {
    "duration": 17,
    "start_time": "2022-05-05T10:39:05.944Z"
   },
   {
    "duration": 128,
    "start_time": "2022-05-05T10:39:05.963Z"
   },
   {
    "duration": 4,
    "start_time": "2022-05-05T10:39:06.093Z"
   },
   {
    "duration": 62,
    "start_time": "2022-05-05T10:39:06.100Z"
   },
   {
    "duration": 3,
    "start_time": "2022-05-05T10:39:06.165Z"
   },
   {
    "duration": 10,
    "start_time": "2022-05-05T10:39:06.170Z"
   },
   {
    "duration": 439,
    "start_time": "2022-05-05T10:39:06.182Z"
   },
   {
    "duration": 886,
    "start_time": "2022-05-05T10:39:06.623Z"
   },
   {
    "duration": 233,
    "start_time": "2022-05-05T10:39:07.511Z"
   },
   {
    "duration": 318,
    "start_time": "2022-05-05T10:39:07.747Z"
   },
   {
    "duration": 56,
    "start_time": "2022-05-05T10:39:14.287Z"
   },
   {
    "duration": 432,
    "start_time": "2022-05-05T10:41:22.717Z"
   },
   {
    "duration": 1205,
    "start_time": "2022-05-05T10:41:28.078Z"
   },
   {
    "duration": 3,
    "start_time": "2022-05-05T10:41:29.285Z"
   },
   {
    "duration": 925,
    "start_time": "2022-05-05T10:41:29.289Z"
   },
   {
    "duration": 30,
    "start_time": "2022-05-05T10:41:30.216Z"
   },
   {
    "duration": 155,
    "start_time": "2022-05-05T10:41:30.248Z"
   },
   {
    "duration": 4,
    "start_time": "2022-05-05T10:41:30.404Z"
   },
   {
    "duration": 18,
    "start_time": "2022-05-05T10:41:30.409Z"
   },
   {
    "duration": 318,
    "start_time": "2022-05-05T10:41:30.429Z"
   },
   {
    "duration": 13,
    "start_time": "2022-05-05T10:41:30.749Z"
   },
   {
    "duration": 128,
    "start_time": "2022-05-05T10:41:30.764Z"
   },
   {
    "duration": 4,
    "start_time": "2022-05-05T10:41:30.893Z"
   },
   {
    "duration": 60,
    "start_time": "2022-05-05T10:41:30.899Z"
   },
   {
    "duration": 3,
    "start_time": "2022-05-05T10:41:30.961Z"
   },
   {
    "duration": 12,
    "start_time": "2022-05-05T10:41:30.967Z"
   },
   {
    "duration": 13,
    "start_time": "2022-05-05T10:41:30.981Z"
   },
   {
    "duration": 452,
    "start_time": "2022-05-05T10:41:30.996Z"
   },
   {
    "duration": 840,
    "start_time": "2022-05-05T10:41:31.450Z"
   },
   {
    "duration": 233,
    "start_time": "2022-05-05T10:41:32.292Z"
   },
   {
    "duration": 727,
    "start_time": "2022-05-05T10:41:32.527Z"
   },
   {
    "duration": 1324,
    "start_time": "2022-05-05T10:41:56.417Z"
   },
   {
    "duration": 5,
    "start_time": "2022-05-05T10:41:57.744Z"
   },
   {
    "duration": 936,
    "start_time": "2022-05-05T10:41:58.520Z"
   },
   {
    "duration": 22,
    "start_time": "2022-05-05T10:41:59.459Z"
   },
   {
    "duration": 153,
    "start_time": "2022-05-05T10:41:59.962Z"
   },
   {
    "duration": 4,
    "start_time": "2022-05-05T10:42:06.545Z"
   },
   {
    "duration": 4,
    "start_time": "2022-05-05T10:42:07.657Z"
   },
   {
    "duration": 319,
    "start_time": "2022-05-05T10:42:08.425Z"
   },
   {
    "duration": 18,
    "start_time": "2022-05-05T10:42:09.124Z"
   },
   {
    "duration": 121,
    "start_time": "2022-05-05T10:42:17.648Z"
   },
   {
    "duration": 4,
    "start_time": "2022-05-05T10:42:20.417Z"
   },
   {
    "duration": 881,
    "start_time": "2022-05-05T10:42:25.954Z"
   },
   {
    "duration": 225,
    "start_time": "2022-05-05T10:42:26.837Z"
   },
   {
    "duration": 341,
    "start_time": "2022-05-05T10:42:29.121Z"
   },
   {
    "duration": 1191,
    "start_time": "2022-05-05T10:43:21.701Z"
   },
   {
    "duration": 3,
    "start_time": "2022-05-05T10:43:22.894Z"
   },
   {
    "duration": 904,
    "start_time": "2022-05-05T10:43:22.898Z"
   },
   {
    "duration": 21,
    "start_time": "2022-05-05T10:43:23.804Z"
   },
   {
    "duration": 142,
    "start_time": "2022-05-05T10:43:24.211Z"
   },
   {
    "duration": 4,
    "start_time": "2022-05-05T10:43:27.908Z"
   },
   {
    "duration": 13,
    "start_time": "2022-05-05T10:43:31.966Z"
   },
   {
    "duration": 192,
    "start_time": "2022-05-05T10:43:35.075Z"
   },
   {
    "duration": 3,
    "start_time": "2022-05-05T10:43:36.508Z"
   },
   {
    "duration": 3,
    "start_time": "2022-05-05T10:43:38.763Z"
   },
   {
    "duration": 1047,
    "start_time": "2022-05-05T10:43:40.187Z"
   },
   {
    "duration": 0,
    "start_time": "2022-05-05T10:43:41.237Z"
   },
   {
    "duration": 199,
    "start_time": "2022-05-05T10:43:59.571Z"
   },
   {
    "duration": 4,
    "start_time": "2022-05-05T10:44:00.587Z"
   },
   {
    "duration": 4,
    "start_time": "2022-05-05T10:44:01.982Z"
   },
   {
    "duration": 3,
    "start_time": "2022-05-05T10:44:02.331Z"
   },
   {
    "duration": 3,
    "start_time": "2022-05-05T10:44:02.687Z"
   },
   {
    "duration": 455,
    "start_time": "2022-05-05T10:44:03.139Z"
   },
   {
    "duration": 923,
    "start_time": "2022-05-05T10:44:03.892Z"
   },
   {
    "duration": 1267,
    "start_time": "2022-05-05T10:44:29.723Z"
   },
   {
    "duration": 3,
    "start_time": "2022-05-05T10:44:30.993Z"
   },
   {
    "duration": 1006,
    "start_time": "2022-05-05T10:44:30.998Z"
   },
   {
    "duration": 21,
    "start_time": "2022-05-05T10:44:32.006Z"
   },
   {
    "duration": 171,
    "start_time": "2022-05-05T10:44:32.035Z"
   },
   {
    "duration": 3,
    "start_time": "2022-05-05T10:44:32.208Z"
   },
   {
    "duration": 20,
    "start_time": "2022-05-05T10:44:32.213Z"
   },
   {
    "duration": 343,
    "start_time": "2022-05-05T10:44:32.236Z"
   },
   {
    "duration": 14,
    "start_time": "2022-05-05T10:44:32.581Z"
   },
   {
    "duration": 125,
    "start_time": "2022-05-05T10:44:32.597Z"
   },
   {
    "duration": 3,
    "start_time": "2022-05-05T10:44:32.724Z"
   },
   {
    "duration": 12,
    "start_time": "2022-05-05T10:44:32.734Z"
   },
   {
    "duration": 10,
    "start_time": "2022-05-05T10:44:32.748Z"
   },
   {
    "duration": 7,
    "start_time": "2022-05-05T10:44:32.760Z"
   },
   {
    "duration": 447,
    "start_time": "2022-05-05T10:44:32.769Z"
   },
   {
    "duration": 974,
    "start_time": "2022-05-05T10:44:33.218Z"
   },
   {
    "duration": 243,
    "start_time": "2022-05-05T10:44:34.194Z"
   },
   {
    "duration": 328,
    "start_time": "2022-05-05T10:44:34.438Z"
   },
   {
    "duration": 13,
    "start_time": "2022-05-05T10:44:56.927Z"
   },
   {
    "duration": 32,
    "start_time": "2022-05-05T10:45:14.355Z"
   },
   {
    "duration": 19,
    "start_time": "2022-05-05T10:45:17.108Z"
   },
   {
    "duration": 3,
    "start_time": "2022-05-05T10:45:32.508Z"
   },
   {
    "duration": 14200,
    "start_time": "2022-05-05T10:45:34.341Z"
   },
   {
    "duration": 82,
    "start_time": "2022-05-05T10:47:01.108Z"
   },
   {
    "duration": 19,
    "start_time": "2022-05-05T10:50:30.460Z"
   },
   {
    "duration": 18,
    "start_time": "2022-05-05T10:50:33.446Z"
   },
   {
    "duration": 12,
    "start_time": "2022-05-05T10:50:38.557Z"
   },
   {
    "duration": 1214,
    "start_time": "2022-05-05T10:50:49.625Z"
   },
   {
    "duration": 4,
    "start_time": "2022-05-05T10:50:50.841Z"
   },
   {
    "duration": 898,
    "start_time": "2022-05-05T10:50:50.847Z"
   },
   {
    "duration": 21,
    "start_time": "2022-05-05T10:50:51.746Z"
   },
   {
    "duration": 148,
    "start_time": "2022-05-05T10:50:51.770Z"
   },
   {
    "duration": 4,
    "start_time": "2022-05-05T10:50:51.919Z"
   },
   {
    "duration": 33,
    "start_time": "2022-05-05T10:50:51.933Z"
   },
   {
    "duration": 14,
    "start_time": "2022-05-05T10:50:51.968Z"
   },
   {
    "duration": 108,
    "start_time": "2022-05-05T10:50:51.983Z"
   },
   {
    "duration": 6,
    "start_time": "2022-05-05T10:50:52.093Z"
   },
   {
    "duration": 139,
    "start_time": "2022-05-05T10:50:52.101Z"
   },
   {
    "duration": 0,
    "start_time": "2022-05-05T10:50:52.242Z"
   },
   {
    "duration": 0,
    "start_time": "2022-05-05T10:50:52.244Z"
   },
   {
    "duration": 0,
    "start_time": "2022-05-05T10:50:52.246Z"
   },
   {
    "duration": 0,
    "start_time": "2022-05-05T10:50:52.247Z"
   },
   {
    "duration": 0,
    "start_time": "2022-05-05T10:50:52.249Z"
   },
   {
    "duration": 0,
    "start_time": "2022-05-05T10:50:52.250Z"
   },
   {
    "duration": 3,
    "start_time": "2022-05-05T10:51:03.605Z"
   },
   {
    "duration": 3,
    "start_time": "2022-05-05T10:51:04.205Z"
   },
   {
    "duration": 450,
    "start_time": "2022-05-05T10:51:04.738Z"
   },
   {
    "duration": 812,
    "start_time": "2022-05-05T10:51:05.356Z"
   },
   {
    "duration": 204,
    "start_time": "2022-05-05T10:51:06.581Z"
   },
   {
    "duration": 27308,
    "start_time": "2022-05-05T10:51:32.862Z"
   },
   {
    "duration": 1210,
    "start_time": "2022-05-05T10:54:02.844Z"
   },
   {
    "duration": 4,
    "start_time": "2022-05-05T10:54:04.055Z"
   },
   {
    "duration": 943,
    "start_time": "2022-05-05T10:54:04.061Z"
   },
   {
    "duration": 24,
    "start_time": "2022-05-05T10:54:05.044Z"
   },
   {
    "duration": 147,
    "start_time": "2022-05-05T10:54:06.164Z"
   },
   {
    "duration": 3,
    "start_time": "2022-05-05T10:54:08.548Z"
   },
   {
    "duration": 31,
    "start_time": "2022-05-05T10:54:09.044Z"
   },
   {
    "duration": 11,
    "start_time": "2022-05-05T10:54:09.420Z"
   },
   {
    "duration": 90,
    "start_time": "2022-05-05T10:54:13.983Z"
   },
   {
    "duration": 3,
    "start_time": "2022-05-05T10:54:14.893Z"
   },
   {
    "duration": 812,
    "start_time": "2022-05-05T10:54:17.452Z"
   },
   {
    "duration": 214,
    "start_time": "2022-05-05T10:54:18.925Z"
   },
   {
    "duration": 24862,
    "start_time": "2022-05-05T10:54:20.836Z"
   },
   {
    "duration": 12,
    "start_time": "2022-05-05T10:55:49.508Z"
   },
   {
    "duration": 9,
    "start_time": "2022-05-05T10:55:54.532Z"
   },
   {
    "duration": 218,
    "start_time": "2022-05-05T10:56:05.874Z"
   },
   {
    "duration": 226,
    "start_time": "2022-05-05T10:56:09.776Z"
   },
   {
    "duration": 10,
    "start_time": "2022-05-05T10:56:23.751Z"
   },
   {
    "duration": 263,
    "start_time": "2022-05-05T10:56:28.837Z"
   },
   {
    "duration": 354,
    "start_time": "2022-05-05T10:57:07.243Z"
   },
   {
    "duration": 20,
    "start_time": "2022-05-05T10:57:11.324Z"
   },
   {
    "duration": 1251,
    "start_time": "2022-05-05T10:57:19.930Z"
   },
   {
    "duration": 3,
    "start_time": "2022-05-05T10:57:21.184Z"
   },
   {
    "duration": 888,
    "start_time": "2022-05-05T10:57:21.189Z"
   },
   {
    "duration": 22,
    "start_time": "2022-05-05T10:57:22.079Z"
   },
   {
    "duration": 141,
    "start_time": "2022-05-05T10:57:22.103Z"
   },
   {
    "duration": 4,
    "start_time": "2022-05-05T10:57:22.246Z"
   },
   {
    "duration": 31,
    "start_time": "2022-05-05T10:57:22.251Z"
   },
   {
    "duration": 14,
    "start_time": "2022-05-05T10:57:22.284Z"
   },
   {
    "duration": 404,
    "start_time": "2022-05-05T10:57:22.299Z"
   },
   {
    "duration": 64,
    "start_time": "2022-05-05T10:57:22.705Z"
   },
   {
    "duration": 4,
    "start_time": "2022-05-05T10:57:22.771Z"
   },
   {
    "duration": 8,
    "start_time": "2022-05-05T10:57:22.776Z"
   },
   {
    "duration": 12,
    "start_time": "2022-05-05T10:57:22.785Z"
   },
   {
    "duration": 288,
    "start_time": "2022-05-05T10:57:22.799Z"
   },
   {
    "duration": 466,
    "start_time": "2022-05-05T10:57:23.089Z"
   },
   {
    "duration": 142,
    "start_time": "2022-05-05T10:57:23.557Z"
   },
   {
    "duration": 16823,
    "start_time": "2022-05-05T10:57:23.701Z"
   },
   {
    "duration": 11,
    "start_time": "2022-05-05T11:00:20.317Z"
   },
   {
    "duration": 10,
    "start_time": "2022-05-05T11:00:27.002Z"
   },
   {
    "duration": 9,
    "start_time": "2022-05-05T11:00:37.120Z"
   },
   {
    "duration": 9,
    "start_time": "2022-05-05T11:00:50.665Z"
   },
   {
    "duration": 146,
    "start_time": "2022-05-05T11:00:53.424Z"
   },
   {
    "duration": 152,
    "start_time": "2022-05-05T11:01:23.232Z"
   },
   {
    "duration": 140,
    "start_time": "2022-05-05T11:01:33.538Z"
   },
   {
    "duration": 10,
    "start_time": "2022-05-05T11:02:20.800Z"
   },
   {
    "duration": 155,
    "start_time": "2022-05-05T11:02:23.824Z"
   },
   {
    "duration": 8,
    "start_time": "2022-05-05T11:02:30.556Z"
   },
   {
    "duration": 3,
    "start_time": "2022-05-05T11:02:34.710Z"
   },
   {
    "duration": 8,
    "start_time": "2022-05-05T11:02:42.696Z"
   },
   {
    "duration": 2,
    "start_time": "2022-05-05T11:02:42.968Z"
   },
   {
    "duration": 1251,
    "start_time": "2022-05-05T11:02:49.101Z"
   },
   {
    "duration": 4,
    "start_time": "2022-05-05T11:02:50.354Z"
   },
   {
    "duration": 867,
    "start_time": "2022-05-05T11:02:50.359Z"
   },
   {
    "duration": 23,
    "start_time": "2022-05-05T11:02:51.228Z"
   },
   {
    "duration": 154,
    "start_time": "2022-05-05T11:02:51.254Z"
   },
   {
    "duration": 3,
    "start_time": "2022-05-05T11:02:51.410Z"
   },
   {
    "duration": 40,
    "start_time": "2022-05-05T11:02:51.415Z"
   },
   {
    "duration": 262,
    "start_time": "2022-05-05T11:02:51.457Z"
   },
   {
    "duration": 284,
    "start_time": "2022-05-05T11:02:51.721Z"
   },
   {
    "duration": 3,
    "start_time": "2022-05-05T11:02:52.007Z"
   },
   {
    "duration": 107,
    "start_time": "2022-05-05T11:02:52.012Z"
   },
   {
    "duration": 0,
    "start_time": "2022-05-05T11:02:52.121Z"
   },
   {
    "duration": 0,
    "start_time": "2022-05-05T11:02:52.122Z"
   },
   {
    "duration": 0,
    "start_time": "2022-05-05T11:02:52.124Z"
   },
   {
    "duration": 0,
    "start_time": "2022-05-05T11:02:52.124Z"
   },
   {
    "duration": 0,
    "start_time": "2022-05-05T11:02:52.133Z"
   },
   {
    "duration": 0,
    "start_time": "2022-05-05T11:02:52.134Z"
   },
   {
    "duration": 0,
    "start_time": "2022-05-05T11:02:52.136Z"
   },
   {
    "duration": 0,
    "start_time": "2022-05-05T11:02:52.137Z"
   },
   {
    "duration": 1221,
    "start_time": "2022-05-05T11:03:06.922Z"
   },
   {
    "duration": 3,
    "start_time": "2022-05-05T11:03:08.145Z"
   },
   {
    "duration": 849,
    "start_time": "2022-05-05T11:03:08.150Z"
   },
   {
    "duration": 20,
    "start_time": "2022-05-05T11:03:09.001Z"
   },
   {
    "duration": 142,
    "start_time": "2022-05-05T11:03:09.033Z"
   },
   {
    "duration": 3,
    "start_time": "2022-05-05T11:03:09.177Z"
   },
   {
    "duration": 40,
    "start_time": "2022-05-05T11:03:09.182Z"
   },
   {
    "duration": 248,
    "start_time": "2022-05-05T11:03:09.224Z"
   },
   {
    "duration": 286,
    "start_time": "2022-05-05T11:03:09.474Z"
   },
   {
    "duration": 21,
    "start_time": "2022-05-05T11:03:09.762Z"
   },
   {
    "duration": 18,
    "start_time": "2022-05-05T11:03:09.784Z"
   },
   {
    "duration": 100,
    "start_time": "2022-05-05T11:03:09.804Z"
   },
   {
    "duration": 3,
    "start_time": "2022-05-05T11:03:09.906Z"
   },
   {
    "duration": 4,
    "start_time": "2022-05-05T11:03:09.912Z"
   },
   {
    "duration": 16,
    "start_time": "2022-05-05T11:03:09.917Z"
   },
   {
    "duration": 401,
    "start_time": "2022-05-05T11:03:09.935Z"
   },
   {
    "duration": 707,
    "start_time": "2022-05-05T11:03:10.338Z"
   },
   {
    "duration": 197,
    "start_time": "2022-05-05T11:03:11.046Z"
   },
   {
    "duration": 24149,
    "start_time": "2022-05-05T11:03:11.245Z"
   },
   {
    "duration": 0,
    "start_time": "2022-05-05T11:03:35.396Z"
   },
   {
    "duration": 83,
    "start_time": "2022-05-05T11:03:38.623Z"
   },
   {
    "duration": 118,
    "start_time": "2022-05-05T11:04:17.981Z"
   },
   {
    "duration": 127,
    "start_time": "2022-05-05T11:04:58.467Z"
   },
   {
    "duration": 118,
    "start_time": "2022-05-05T11:05:01.721Z"
   },
   {
    "duration": 21,
    "start_time": "2022-05-05T11:05:04.485Z"
   },
   {
    "duration": 12,
    "start_time": "2022-05-05T11:05:17.781Z"
   },
   {
    "duration": 122,
    "start_time": "2022-05-05T11:05:59.620Z"
   },
   {
    "duration": 3,
    "start_time": "2022-05-05T11:06:00.509Z"
   },
   {
    "duration": 3,
    "start_time": "2022-05-05T11:06:01.636Z"
   },
   {
    "duration": 3,
    "start_time": "2022-05-05T11:06:02.821Z"
   },
   {
    "duration": 353,
    "start_time": "2022-05-05T11:06:03.693Z"
   },
   {
    "duration": 678,
    "start_time": "2022-05-05T11:06:04.812Z"
   },
   {
    "duration": 189,
    "start_time": "2022-05-05T11:06:05.492Z"
   },
   {
    "duration": 24815,
    "start_time": "2022-05-05T11:06:07.621Z"
   },
   {
    "duration": 3,
    "start_time": "2022-05-05T11:07:09.333Z"
   },
   {
    "duration": 8,
    "start_time": "2022-05-05T11:07:39.981Z"
   },
   {
    "duration": 26303,
    "start_time": "2022-05-05T11:07:43.061Z"
   },
   {
    "duration": 7,
    "start_time": "2022-05-05T11:08:09.435Z"
   },
   {
    "duration": 5,
    "start_time": "2022-05-05T11:08:51.582Z"
   },
   {
    "duration": 5,
    "start_time": "2022-05-05T11:09:13.677Z"
   },
   {
    "duration": 5,
    "start_time": "2022-05-05T11:09:17.876Z"
   },
   {
    "duration": 5,
    "start_time": "2022-05-05T11:09:25.820Z"
   },
   {
    "duration": 9,
    "start_time": "2022-05-05T11:09:54.381Z"
   },
   {
    "duration": 5,
    "start_time": "2022-05-05T11:09:59.020Z"
   },
   {
    "duration": 4,
    "start_time": "2022-05-05T11:10:12.445Z"
   },
   {
    "duration": 11,
    "start_time": "2022-05-05T11:10:18.292Z"
   },
   {
    "duration": 4,
    "start_time": "2022-05-05T11:10:23.380Z"
   },
   {
    "duration": 11,
    "start_time": "2022-05-05T11:10:23.556Z"
   },
   {
    "duration": 5,
    "start_time": "2022-05-05T11:10:55.957Z"
   },
   {
    "duration": 5,
    "start_time": "2022-05-05T11:11:36.725Z"
   },
   {
    "duration": 5,
    "start_time": "2022-05-05T11:13:26.150Z"
   },
   {
    "duration": 24773,
    "start_time": "2022-05-05T11:13:30.396Z"
   },
   {
    "duration": 7,
    "start_time": "2022-05-05T11:13:55.235Z"
   },
   {
    "duration": 5,
    "start_time": "2022-05-05T11:14:39.796Z"
   },
   {
    "duration": 24112,
    "start_time": "2022-05-05T11:14:46.324Z"
   },
   {
    "duration": 24714,
    "start_time": "2022-05-05T11:15:44.820Z"
   },
   {
    "duration": 109,
    "start_time": "2022-05-05T11:16:59.630Z"
   },
   {
    "duration": 24411,
    "start_time": "2022-05-05T11:17:02.232Z"
   },
   {
    "duration": 196,
    "start_time": "2022-05-05T11:17:26.645Z"
   },
   {
    "duration": 96,
    "start_time": "2022-05-05T11:17:26.843Z"
   },
   {
    "duration": 5,
    "start_time": "2022-05-05T11:18:30.004Z"
   },
   {
    "duration": 335,
    "start_time": "2022-05-05T11:20:26.436Z"
   },
   {
    "duration": 11,
    "start_time": "2022-05-05T11:20:29.580Z"
   },
   {
    "duration": 3,
    "start_time": "2022-05-05T11:20:43.901Z"
   },
   {
    "duration": 3,
    "start_time": "2022-05-05T11:20:58.068Z"
   },
   {
    "duration": 699797,
    "start_time": "2022-05-05T11:22:19.244Z"
   },
   {
    "duration": 5585,
    "start_time": "2022-05-05T11:34:57.660Z"
   },
   {
    "duration": 5,
    "start_time": "2022-05-05T11:35:47.215Z"
   },
   {
    "duration": 4,
    "start_time": "2022-05-05T11:37:34.987Z"
   },
   {
    "duration": 5,
    "start_time": "2022-05-05T11:38:01.428Z"
   },
   {
    "duration": 12,
    "start_time": "2022-05-05T11:41:35.119Z"
   },
   {
    "duration": 53,
    "start_time": "2022-05-05T12:08:03.563Z"
   },
   {
    "duration": 1288,
    "start_time": "2022-05-05T12:08:11.175Z"
   },
   {
    "duration": 69,
    "start_time": "2022-05-05T12:08:14.314Z"
   },
   {
    "duration": 1209,
    "start_time": "2022-05-05T12:08:24.143Z"
   },
   {
    "duration": 3,
    "start_time": "2022-05-05T12:08:25.354Z"
   },
   {
    "duration": 1156,
    "start_time": "2022-05-05T12:08:25.359Z"
   },
   {
    "duration": 21,
    "start_time": "2022-05-05T12:08:26.517Z"
   },
   {
    "duration": 150,
    "start_time": "2022-05-05T12:08:26.542Z"
   },
   {
    "duration": 3,
    "start_time": "2022-05-05T12:08:26.694Z"
   },
   {
    "duration": 64,
    "start_time": "2022-05-05T12:08:26.699Z"
   },
   {
    "duration": 285,
    "start_time": "2022-05-05T12:08:26.765Z"
   },
   {
    "duration": 281,
    "start_time": "2022-05-05T12:08:27.052Z"
   },
   {
    "duration": 123,
    "start_time": "2022-05-05T12:08:27.335Z"
   },
   {
    "duration": 11,
    "start_time": "2022-05-05T12:08:27.459Z"
   },
   {
    "duration": 124,
    "start_time": "2022-05-05T12:08:27.471Z"
   },
   {
    "duration": 3,
    "start_time": "2022-05-05T12:08:27.597Z"
   },
   {
    "duration": 9,
    "start_time": "2022-05-05T12:08:27.603Z"
   },
   {
    "duration": 6,
    "start_time": "2022-05-05T12:08:27.613Z"
   },
   {
    "duration": 405,
    "start_time": "2022-05-05T12:08:27.633Z"
   },
   {
    "duration": 685,
    "start_time": "2022-05-05T12:08:28.040Z"
   },
   {
    "duration": 195,
    "start_time": "2022-05-05T12:08:28.727Z"
   },
   {
    "duration": 28912,
    "start_time": "2022-05-05T12:08:28.924Z"
   },
   {
    "duration": 409,
    "start_time": "2022-05-05T12:08:57.838Z"
   },
   {
    "duration": 10,
    "start_time": "2022-05-05T12:08:58.249Z"
   },
   {
    "duration": 0,
    "start_time": "2022-05-05T12:08:58.260Z"
   },
   {
    "duration": 0,
    "start_time": "2022-05-05T12:08:58.261Z"
   },
   {
    "duration": 0,
    "start_time": "2022-05-05T12:08:58.262Z"
   },
   {
    "duration": 0,
    "start_time": "2022-05-05T12:08:58.263Z"
   },
   {
    "duration": 340,
    "start_time": "2022-05-05T12:09:44.300Z"
   },
   {
    "duration": 76,
    "start_time": "2022-05-05T12:10:01.668Z"
   },
   {
    "duration": 4,
    "start_time": "2022-05-05T12:10:02.319Z"
   },
   {
    "duration": 3,
    "start_time": "2022-05-05T12:10:03.094Z"
   },
   {
    "duration": 3,
    "start_time": "2022-05-05T12:10:03.756Z"
   },
   {
    "duration": 394,
    "start_time": "2022-05-05T12:10:04.364Z"
   },
   {
    "duration": 759,
    "start_time": "2022-05-05T12:10:04.988Z"
   },
   {
    "duration": 197,
    "start_time": "2022-05-05T12:10:05.749Z"
   },
   {
    "duration": 25321,
    "start_time": "2022-05-05T12:10:07.328Z"
   },
   {
    "duration": 189,
    "start_time": "2022-05-05T12:10:32.651Z"
   },
   {
    "duration": 5,
    "start_time": "2022-05-05T12:10:35.691Z"
   },
   {
    "duration": 7524,
    "start_time": "2022-05-05T12:10:37.756Z"
   },
   {
    "duration": 646240,
    "start_time": "2022-05-05T12:10:50.085Z"
   },
   {
    "duration": 1793,
    "start_time": "2022-06-13T08:35:06.260Z"
   },
   {
    "duration": 6,
    "start_time": "2022-06-13T08:35:12.909Z"
   },
   {
    "duration": 1483,
    "start_time": "2022-06-13T08:35:14.248Z"
   },
   {
    "duration": 23,
    "start_time": "2022-06-13T08:35:26.544Z"
   },
   {
    "duration": 200,
    "start_time": "2022-06-13T08:35:31.745Z"
   },
   {
    "duration": 5,
    "start_time": "2022-06-13T08:35:54.434Z"
   },
   {
    "duration": 30,
    "start_time": "2022-06-13T08:36:02.227Z"
   },
   {
    "duration": 316,
    "start_time": "2022-06-13T08:36:08.722Z"
   },
   {
    "duration": 318,
    "start_time": "2022-06-13T08:36:12.969Z"
   },
   {
    "duration": 135,
    "start_time": "2022-06-13T08:36:16.553Z"
   },
   {
    "duration": 11,
    "start_time": "2022-06-13T08:36:20.328Z"
   },
   {
    "duration": 130,
    "start_time": "2022-06-13T08:36:40.225Z"
   },
   {
    "duration": 13,
    "start_time": "2022-06-13T08:36:47.297Z"
   },
   {
    "duration": 3,
    "start_time": "2022-06-13T08:36:58.633Z"
   },
   {
    "duration": 3,
    "start_time": "2022-06-13T08:37:04.368Z"
   },
   {
    "duration": 455,
    "start_time": "2022-06-13T08:37:15.713Z"
   },
   {
    "duration": 720,
    "start_time": "2022-06-13T08:37:17.432Z"
   },
   {
    "duration": 224,
    "start_time": "2022-06-13T08:37:24.717Z"
   },
   {
    "duration": 101249,
    "start_time": "2022-06-13T08:37:53.152Z"
   },
   {
    "duration": 3,
    "start_time": "2022-06-13T08:43:09.840Z"
   },
   {
    "duration": 737,
    "start_time": "2022-06-13T08:43:26.840Z"
   },
   {
    "duration": 1366,
    "start_time": "2022-06-13T08:43:48.514Z"
   },
   {
    "duration": 4,
    "start_time": "2022-06-13T08:43:49.882Z"
   },
   {
    "duration": 1364,
    "start_time": "2022-06-13T08:43:49.888Z"
   },
   {
    "duration": 26,
    "start_time": "2022-06-13T08:43:51.254Z"
   },
   {
    "duration": 185,
    "start_time": "2022-06-13T08:43:51.282Z"
   },
   {
    "duration": 4,
    "start_time": "2022-06-13T08:43:51.727Z"
   },
   {
    "duration": 3,
    "start_time": "2022-06-13T08:43:52.360Z"
   },
   {
    "duration": 85,
    "start_time": "2022-06-13T08:43:53.089Z"
   },
   {
    "duration": 254,
    "start_time": "2022-06-13T08:43:59.321Z"
   },
   {
    "duration": 5,
    "start_time": "2022-06-13T08:44:39.619Z"
   },
   {
    "duration": 14,
    "start_time": "2022-06-13T08:45:21.049Z"
   },
   {
    "duration": 3,
    "start_time": "2022-06-13T08:45:27.569Z"
   },
   {
    "duration": 53,
    "start_time": "2022-06-13T08:45:27.961Z"
   },
   {
    "duration": 6,
    "start_time": "2022-06-13T08:45:45.610Z"
   },
   {
    "duration": 3082,
    "start_time": "2022-06-13T08:45:52.757Z"
   },
   {
    "duration": 3,
    "start_time": "2022-06-13T08:45:55.841Z"
   },
   {
    "duration": 1198,
    "start_time": "2022-06-13T08:45:55.846Z"
   },
   {
    "duration": 19,
    "start_time": "2022-06-13T08:45:57.046Z"
   },
   {
    "duration": 157,
    "start_time": "2022-06-13T08:45:57.067Z"
   },
   {
    "duration": 3,
    "start_time": "2022-06-13T08:45:57.226Z"
   },
   {
    "duration": 13,
    "start_time": "2022-06-13T08:45:57.230Z"
   },
   {
    "duration": 455,
    "start_time": "2022-06-13T08:45:57.693Z"
   },
   {
    "duration": 4,
    "start_time": "2022-06-13T08:48:02.422Z"
   },
   {
    "duration": 8,
    "start_time": "2022-06-13T08:48:02.629Z"
   },
   {
    "duration": 70,
    "start_time": "2022-06-13T08:48:09.413Z"
   },
   {
    "duration": 103,
    "start_time": "2022-06-13T08:48:20.710Z"
   },
   {
    "duration": 216,
    "start_time": "2022-06-13T08:48:25.366Z"
   },
   {
    "duration": 216,
    "start_time": "2022-06-13T08:48:56.862Z"
   },
   {
    "duration": 127,
    "start_time": "2022-06-13T08:48:59.054Z"
   },
   {
    "duration": 342,
    "start_time": "2022-06-13T08:49:45.906Z"
   },
   {
    "duration": 347,
    "start_time": "2022-06-13T08:49:47.077Z"
   },
   {
    "duration": 1051,
    "start_time": "2022-06-13T08:49:56.342Z"
   },
   {
    "duration": 15,
    "start_time": "2022-06-13T08:49:57.395Z"
   },
   {
    "duration": 890,
    "start_time": "2022-06-13T08:49:57.829Z"
   },
   {
    "duration": 33,
    "start_time": "2022-06-13T08:49:59.121Z"
   },
   {
    "duration": 3,
    "start_time": "2022-06-13T08:52:55.960Z"
   },
   {
    "duration": 104,
    "start_time": "2022-06-13T08:52:56.720Z"
   },
   {
    "duration": 313,
    "start_time": "2022-06-13T08:53:04.264Z"
   },
   {
    "duration": 30,
    "start_time": "2022-06-13T08:55:01.209Z"
   },
   {
    "duration": 26,
    "start_time": "2022-06-13T08:55:10.613Z"
   },
   {
    "duration": 22,
    "start_time": "2022-06-13T08:55:17.715Z"
   },
   {
    "duration": 22,
    "start_time": "2022-06-13T08:56:12.032Z"
   },
   {
    "duration": 25,
    "start_time": "2022-06-13T08:56:29.553Z"
   },
   {
    "duration": 27,
    "start_time": "2022-06-13T08:57:12.241Z"
   },
   {
    "duration": 134,
    "start_time": "2022-06-13T08:58:44.217Z"
   },
   {
    "duration": 1144,
    "start_time": "2022-06-13T08:58:51.131Z"
   },
   {
    "duration": 5,
    "start_time": "2022-06-13T08:58:52.278Z"
   },
   {
    "duration": 1034,
    "start_time": "2022-06-13T08:58:52.285Z"
   },
   {
    "duration": 32,
    "start_time": "2022-06-13T08:58:53.322Z"
   },
   {
    "duration": 252,
    "start_time": "2022-06-13T08:58:53.356Z"
   },
   {
    "duration": 3,
    "start_time": "2022-06-13T08:58:53.610Z"
   },
   {
    "duration": 125,
    "start_time": "2022-06-13T08:58:53.615Z"
   },
   {
    "duration": 0,
    "start_time": "2022-06-13T08:58:53.743Z"
   },
   {
    "duration": 0,
    "start_time": "2022-06-13T08:58:53.745Z"
   },
   {
    "duration": 0,
    "start_time": "2022-06-13T08:58:53.746Z"
   },
   {
    "duration": 0,
    "start_time": "2022-06-13T08:58:53.748Z"
   },
   {
    "duration": 1,
    "start_time": "2022-06-13T08:58:53.749Z"
   },
   {
    "duration": 0,
    "start_time": "2022-06-13T08:58:53.751Z"
   },
   {
    "duration": 0,
    "start_time": "2022-06-13T08:58:53.753Z"
   },
   {
    "duration": 0,
    "start_time": "2022-06-13T08:58:53.755Z"
   },
   {
    "duration": 0,
    "start_time": "2022-06-13T08:58:53.756Z"
   },
   {
    "duration": 0,
    "start_time": "2022-06-13T08:58:53.757Z"
   },
   {
    "duration": 0,
    "start_time": "2022-06-13T08:58:53.759Z"
   },
   {
    "duration": 0,
    "start_time": "2022-06-13T08:58:53.760Z"
   },
   {
    "duration": 0,
    "start_time": "2022-06-13T08:58:53.761Z"
   },
   {
    "duration": 0,
    "start_time": "2022-06-13T08:58:53.762Z"
   },
   {
    "duration": 0,
    "start_time": "2022-06-13T08:58:53.796Z"
   },
   {
    "duration": 0,
    "start_time": "2022-06-13T08:58:53.797Z"
   },
   {
    "duration": 0,
    "start_time": "2022-06-13T08:58:53.798Z"
   },
   {
    "duration": 0,
    "start_time": "2022-06-13T08:58:53.799Z"
   },
   {
    "duration": 21,
    "start_time": "2022-06-13T08:59:03.148Z"
   },
   {
    "duration": 60,
    "start_time": "2022-06-13T08:59:11.449Z"
   },
   {
    "duration": 12,
    "start_time": "2022-06-13T08:59:28.169Z"
   },
   {
    "duration": 18,
    "start_time": "2022-06-13T09:00:12.040Z"
   },
   {
    "duration": 29,
    "start_time": "2022-06-13T09:00:15.089Z"
   },
   {
    "duration": 45,
    "start_time": "2022-06-13T09:00:37.576Z"
   },
   {
    "duration": 41,
    "start_time": "2022-06-13T09:00:44.887Z"
   },
   {
    "duration": 32,
    "start_time": "2022-06-13T09:00:49.011Z"
   },
   {
    "duration": 311,
    "start_time": "2022-06-13T09:00:56.320Z"
   },
   {
    "duration": 1106,
    "start_time": "2022-06-13T09:01:04.313Z"
   },
   {
    "duration": 4,
    "start_time": "2022-06-13T09:01:05.421Z"
   },
   {
    "duration": 1001,
    "start_time": "2022-06-13T09:01:05.427Z"
   },
   {
    "duration": 32,
    "start_time": "2022-06-13T09:01:06.431Z"
   },
   {
    "duration": 189,
    "start_time": "2022-06-13T09:01:06.465Z"
   },
   {
    "duration": 4,
    "start_time": "2022-06-13T09:01:06.657Z"
   },
   {
    "duration": 56,
    "start_time": "2022-06-13T09:01:06.663Z"
   },
   {
    "duration": 325,
    "start_time": "2022-06-13T09:01:06.722Z"
   },
   {
    "duration": 337,
    "start_time": "2022-06-13T09:01:07.049Z"
   },
   {
    "duration": 146,
    "start_time": "2022-06-13T09:01:07.388Z"
   },
   {
    "duration": 12,
    "start_time": "2022-06-13T09:01:07.536Z"
   },
   {
    "duration": 147,
    "start_time": "2022-06-13T09:01:07.550Z"
   },
   {
    "duration": 10,
    "start_time": "2022-06-13T09:01:07.699Z"
   },
   {
    "duration": 9,
    "start_time": "2022-06-13T09:01:07.713Z"
   },
   {
    "duration": 8,
    "start_time": "2022-06-13T09:01:07.724Z"
   },
   {
    "duration": 455,
    "start_time": "2022-06-13T09:01:07.734Z"
   },
   {
    "duration": 795,
    "start_time": "2022-06-13T09:01:08.191Z"
   },
   {
    "duration": 221,
    "start_time": "2022-06-13T09:01:08.989Z"
   },
   {
    "duration": 1083,
    "start_time": "2022-06-13T09:01:40.978Z"
   },
   {
    "duration": 4,
    "start_time": "2022-06-13T09:01:42.065Z"
   },
   {
    "duration": 964,
    "start_time": "2022-06-13T09:01:42.071Z"
   },
   {
    "duration": 22,
    "start_time": "2022-06-13T09:01:43.037Z"
   },
   {
    "duration": 186,
    "start_time": "2022-06-13T09:01:43.062Z"
   },
   {
    "duration": 4,
    "start_time": "2022-06-13T09:01:43.250Z"
   },
   {
    "duration": 62,
    "start_time": "2022-06-13T09:01:43.256Z"
   },
   {
    "duration": 295,
    "start_time": "2022-06-13T09:01:43.320Z"
   },
   {
    "duration": 316,
    "start_time": "2022-06-13T09:01:43.617Z"
   },
   {
    "duration": 20,
    "start_time": "2022-06-13T09:01:43.935Z"
   },
   {
    "duration": 167,
    "start_time": "2022-06-13T09:01:43.957Z"
   },
   {
    "duration": 16,
    "start_time": "2022-06-13T09:01:44.126Z"
   },
   {
    "duration": 163,
    "start_time": "2022-06-13T09:01:44.144Z"
   },
   {
    "duration": 5,
    "start_time": "2022-06-13T09:01:44.310Z"
   },
   {
    "duration": 10,
    "start_time": "2022-06-13T09:01:44.319Z"
   },
   {
    "duration": 10,
    "start_time": "2022-06-13T09:01:44.332Z"
   },
   {
    "duration": 444,
    "start_time": "2022-06-13T09:01:44.344Z"
   },
   {
    "duration": 762,
    "start_time": "2022-06-13T09:01:44.790Z"
   },
   {
    "duration": 212,
    "start_time": "2022-06-13T09:01:45.554Z"
   },
   {
    "duration": 58655,
    "start_time": "2022-06-13T09:01:45.768Z"
   },
   {
    "duration": 122,
    "start_time": "2022-06-13T09:02:44.424Z"
   },
   {
    "duration": 12,
    "start_time": "2022-06-13T09:02:44.548Z"
   },
   {
    "duration": 0,
    "start_time": "2022-06-13T09:02:44.561Z"
   },
   {
    "duration": 0,
    "start_time": "2022-06-13T09:02:44.563Z"
   },
   {
    "duration": 0,
    "start_time": "2022-06-13T09:02:44.564Z"
   },
   {
    "duration": 0,
    "start_time": "2022-06-13T09:02:44.566Z"
   },
   {
    "duration": 1144,
    "start_time": "2022-06-13T09:03:59.270Z"
   },
   {
    "duration": 4,
    "start_time": "2022-06-13T09:04:00.416Z"
   },
   {
    "duration": 992,
    "start_time": "2022-06-13T09:04:00.421Z"
   },
   {
    "duration": 22,
    "start_time": "2022-06-13T09:04:01.414Z"
   },
   {
    "duration": 177,
    "start_time": "2022-06-13T09:04:01.439Z"
   },
   {
    "duration": 4,
    "start_time": "2022-06-13T09:04:01.619Z"
   },
   {
    "duration": 60,
    "start_time": "2022-06-13T09:04:01.625Z"
   },
   {
    "duration": 353,
    "start_time": "2022-06-13T09:04:01.687Z"
   },
   {
    "duration": 345,
    "start_time": "2022-06-13T09:04:02.042Z"
   },
   {
    "duration": 167,
    "start_time": "2022-06-13T09:04:02.389Z"
   },
   {
    "duration": 19,
    "start_time": "2022-06-13T09:04:02.558Z"
   },
   {
    "duration": 153,
    "start_time": "2022-06-13T09:04:02.579Z"
   },
   {
    "duration": 4,
    "start_time": "2022-06-13T09:04:02.736Z"
   },
   {
    "duration": 6,
    "start_time": "2022-06-13T09:04:02.743Z"
   },
   {
    "duration": 16,
    "start_time": "2022-06-13T09:04:02.751Z"
   },
   {
    "duration": 467,
    "start_time": "2022-06-13T09:04:02.769Z"
   },
   {
    "duration": 724,
    "start_time": "2022-06-13T09:04:03.238Z"
   },
   {
    "duration": 225,
    "start_time": "2022-06-13T09:04:03.964Z"
   },
   {
    "duration": 35,
    "start_time": "2022-06-13T09:04:04.191Z"
   },
   {
    "duration": 57403,
    "start_time": "2022-06-13T09:04:04.228Z"
   },
   {
    "duration": 136,
    "start_time": "2022-06-13T09:05:01.634Z"
   },
   {
    "duration": 14,
    "start_time": "2022-06-13T09:05:01.777Z"
   },
   {
    "duration": 0,
    "start_time": "2022-06-13T09:05:01.794Z"
   },
   {
    "duration": 0,
    "start_time": "2022-06-13T09:05:01.795Z"
   },
   {
    "duration": 0,
    "start_time": "2022-06-13T09:05:01.797Z"
   },
   {
    "duration": 0,
    "start_time": "2022-06-13T09:05:01.798Z"
   },
   {
    "duration": 1189,
    "start_time": "2022-06-13T09:05:17.259Z"
   },
   {
    "duration": 4,
    "start_time": "2022-06-13T09:05:28.563Z"
   },
   {
    "duration": 4,
    "start_time": "2022-06-13T09:05:29.587Z"
   },
   {
    "duration": 981,
    "start_time": "2022-06-13T09:05:31.508Z"
   },
   {
    "duration": 30,
    "start_time": "2022-06-13T09:05:32.954Z"
   },
   {
    "duration": 196,
    "start_time": "2022-06-13T09:05:35.419Z"
   },
   {
    "duration": 11,
    "start_time": "2022-06-13T09:05:37.964Z"
   },
   {
    "duration": 54,
    "start_time": "2022-06-13T09:05:39.408Z"
   },
   {
    "duration": 440,
    "start_time": "2022-06-13T09:05:40.295Z"
   },
   {
    "duration": 461,
    "start_time": "2022-06-13T09:05:42.186Z"
   },
   {
    "duration": 204,
    "start_time": "2022-06-13T09:05:44.755Z"
   },
   {
    "duration": 17,
    "start_time": "2022-06-13T09:05:45.970Z"
   },
   {
    "duration": 167,
    "start_time": "2022-06-13T09:05:49.251Z"
   },
   {
    "duration": 5,
    "start_time": "2022-06-13T09:05:50.434Z"
   },
   {
    "duration": 3,
    "start_time": "2022-06-13T09:05:54.546Z"
   },
   {
    "duration": 4,
    "start_time": "2022-06-13T09:06:16.924Z"
   },
   {
    "duration": 540,
    "start_time": "2022-06-13T09:06:18.814Z"
   },
   {
    "duration": 29,
    "start_time": "2022-06-13T09:06:24.995Z"
   },
   {
    "duration": 44,
    "start_time": "2022-06-13T09:06:38.905Z"
   },
   {
    "duration": 695,
    "start_time": "2022-06-13T09:06:46.362Z"
   },
   {
    "duration": 47,
    "start_time": "2022-06-13T09:06:51.226Z"
   },
   {
    "duration": 56,
    "start_time": "2022-06-13T09:07:03.213Z"
   },
   {
    "duration": 1110,
    "start_time": "2022-06-13T09:07:24.380Z"
   },
   {
    "duration": 13,
    "start_time": "2022-06-13T09:07:25.507Z"
   },
   {
    "duration": 933,
    "start_time": "2022-06-13T09:07:25.523Z"
   },
   {
    "duration": 22,
    "start_time": "2022-06-13T09:07:26.458Z"
   },
   {
    "duration": 155,
    "start_time": "2022-06-13T09:07:26.522Z"
   },
   {
    "duration": 4,
    "start_time": "2022-06-13T09:07:27.287Z"
   },
   {
    "duration": 43,
    "start_time": "2022-06-13T09:07:27.659Z"
   },
   {
    "duration": 313,
    "start_time": "2022-06-13T09:07:29.732Z"
   },
   {
    "duration": 414,
    "start_time": "2022-06-13T09:07:30.111Z"
   },
   {
    "duration": 145,
    "start_time": "2022-06-13T09:07:30.528Z"
   },
   {
    "duration": 21,
    "start_time": "2022-06-13T09:07:30.883Z"
   },
   {
    "duration": 25,
    "start_time": "2022-06-13T09:07:36.396Z"
   },
   {
    "duration": 152,
    "start_time": "2022-06-13T09:07:39.126Z"
   },
   {
    "duration": 7,
    "start_time": "2022-06-13T09:07:40.196Z"
   },
   {
    "duration": 23,
    "start_time": "2022-06-13T09:07:45.283Z"
   },
   {
    "duration": 27,
    "start_time": "2022-06-13T09:07:53.348Z"
   },
   {
    "duration": 4,
    "start_time": "2022-06-13T09:08:02.487Z"
   },
   {
    "duration": 4,
    "start_time": "2022-06-13T09:08:03.983Z"
   },
   {
    "duration": 451,
    "start_time": "2022-06-13T09:08:04.716Z"
   },
   {
    "duration": 971,
    "start_time": "2022-06-13T09:08:08.045Z"
   },
   {
    "duration": 248,
    "start_time": "2022-06-13T09:08:18.667Z"
   },
   {
    "duration": 59,
    "start_time": "2022-06-13T09:08:25.025Z"
   },
   {
    "duration": 28,
    "start_time": "2022-06-13T09:08:34.833Z"
   },
   {
    "duration": 59,
    "start_time": "2022-06-13T09:08:39.030Z"
   },
   {
    "duration": 7,
    "start_time": "2022-06-13T09:08:42.634Z"
   },
   {
    "duration": 54680,
    "start_time": "2022-06-13T09:09:05.662Z"
   },
   {
    "duration": 286,
    "start_time": "2022-06-13T09:10:14.764Z"
   },
   {
    "duration": 26,
    "start_time": "2022-06-13T09:11:24.149Z"
   },
   {
    "duration": 35,
    "start_time": "2022-06-13T09:11:27.446Z"
   },
   {
    "duration": 1217,
    "start_time": "2022-06-13T09:11:57.317Z"
   },
   {
    "duration": 3,
    "start_time": "2022-06-13T09:11:58.537Z"
   },
   {
    "duration": 1158,
    "start_time": "2022-06-13T09:11:58.542Z"
   },
   {
    "duration": 35,
    "start_time": "2022-06-13T09:11:59.703Z"
   },
   {
    "duration": 175,
    "start_time": "2022-06-13T09:11:59.740Z"
   },
   {
    "duration": 4,
    "start_time": "2022-06-13T09:12:00.949Z"
   },
   {
    "duration": 37,
    "start_time": "2022-06-13T09:12:01.365Z"
   },
   {
    "duration": 322,
    "start_time": "2022-06-13T09:12:02.695Z"
   },
   {
    "duration": 385,
    "start_time": "2022-06-13T09:12:03.085Z"
   },
   {
    "duration": 143,
    "start_time": "2022-06-13T09:12:03.573Z"
   },
   {
    "duration": 16,
    "start_time": "2022-06-13T09:12:04.219Z"
   },
   {
    "duration": 158,
    "start_time": "2022-06-13T09:12:07.110Z"
   },
   {
    "duration": 25,
    "start_time": "2022-06-13T09:12:11.028Z"
   },
   {
    "duration": 36,
    "start_time": "2022-06-13T09:12:15.686Z"
   },
   {
    "duration": 6,
    "start_time": "2022-06-13T09:12:20.025Z"
   },
   {
    "duration": 3,
    "start_time": "2022-06-13T09:12:20.774Z"
   },
   {
    "duration": 16,
    "start_time": "2022-06-13T09:12:23.007Z"
   },
   {
    "duration": 631,
    "start_time": "2022-06-13T09:12:23.828Z"
   },
   {
    "duration": 41,
    "start_time": "2022-06-13T09:12:29.673Z"
   },
   {
    "duration": 863,
    "start_time": "2022-06-13T09:12:41.513Z"
   },
   {
    "duration": 61,
    "start_time": "2022-06-13T09:12:46.366Z"
   },
   {
    "duration": 29,
    "start_time": "2022-06-13T09:12:50.214Z"
   },
   {
    "duration": 158,
    "start_time": "2022-06-13T09:13:55.183Z"
   },
   {
    "duration": 1116,
    "start_time": "2022-06-13T09:14:51.448Z"
   },
   {
    "duration": 4,
    "start_time": "2022-06-13T09:14:52.566Z"
   },
   {
    "duration": 1017,
    "start_time": "2022-06-13T09:14:52.572Z"
   },
   {
    "duration": 28,
    "start_time": "2022-06-13T09:14:53.591Z"
   },
   {
    "duration": 173,
    "start_time": "2022-06-13T09:14:53.621Z"
   },
   {
    "duration": 6,
    "start_time": "2022-06-13T09:14:53.796Z"
   },
   {
    "duration": 48,
    "start_time": "2022-06-13T09:14:53.808Z"
   },
   {
    "duration": 318,
    "start_time": "2022-06-13T09:14:53.857Z"
   },
   {
    "duration": 330,
    "start_time": "2022-06-13T09:14:54.177Z"
   },
   {
    "duration": 2,
    "start_time": "2022-06-13T09:14:54.513Z"
   },
   {
    "duration": 19,
    "start_time": "2022-06-13T09:14:54.517Z"
   },
   {
    "duration": 103,
    "start_time": "2022-06-13T09:14:54.538Z"
   },
   {
    "duration": 4,
    "start_time": "2022-06-13T09:14:54.643Z"
   },
   {
    "duration": 8,
    "start_time": "2022-06-13T09:14:54.649Z"
   },
   {
    "duration": 7,
    "start_time": "2022-06-13T09:14:54.659Z"
   },
   {
    "duration": 476,
    "start_time": "2022-06-13T09:14:54.668Z"
   },
   {
    "duration": 833,
    "start_time": "2022-06-13T09:14:55.146Z"
   },
   {
    "duration": 224,
    "start_time": "2022-06-13T09:14:55.982Z"
   },
   {
    "duration": 49617,
    "start_time": "2022-06-13T09:14:56.209Z"
   },
   {
    "duration": 260,
    "start_time": "2022-06-13T09:15:45.895Z"
   },
   {
    "duration": 5673,
    "start_time": "2022-06-13T09:18:11.989Z"
   },
   {
    "duration": 1147,
    "start_time": "2022-06-13T09:19:15.418Z"
   },
   {
    "duration": 5,
    "start_time": "2022-06-13T09:19:16.567Z"
   },
   {
    "duration": 993,
    "start_time": "2022-06-13T09:19:16.574Z"
   },
   {
    "duration": 59,
    "start_time": "2022-06-13T09:19:17.569Z"
   },
   {
    "duration": 162,
    "start_time": "2022-06-13T09:19:17.633Z"
   },
   {
    "duration": 5,
    "start_time": "2022-06-13T09:19:17.797Z"
   },
   {
    "duration": 67,
    "start_time": "2022-06-13T09:19:17.806Z"
   },
   {
    "duration": 314,
    "start_time": "2022-06-13T09:19:17.875Z"
   },
   {
    "duration": 378,
    "start_time": "2022-06-13T09:19:18.191Z"
   },
   {
    "duration": 156,
    "start_time": "2022-06-13T09:19:18.570Z"
   },
   {
    "duration": 16,
    "start_time": "2022-06-13T09:19:18.728Z"
   },
   {
    "duration": 170,
    "start_time": "2022-06-13T09:19:18.746Z"
   },
   {
    "duration": 7,
    "start_time": "2022-06-13T09:19:18.925Z"
   },
   {
    "duration": 29,
    "start_time": "2022-06-13T09:19:18.936Z"
   },
   {
    "duration": 18,
    "start_time": "2022-06-13T09:19:18.967Z"
   },
   {
    "duration": 581,
    "start_time": "2022-06-13T09:19:18.987Z"
   },
   {
    "duration": 1030,
    "start_time": "2022-06-13T09:19:19.570Z"
   },
   {
    "duration": 48,
    "start_time": "2022-06-13T09:19:20.609Z"
   },
   {
    "duration": 289,
    "start_time": "2022-06-13T09:19:20.659Z"
   },
   {
    "duration": 13,
    "start_time": "2022-06-13T09:19:20.950Z"
   },
   {
    "duration": 30,
    "start_time": "2022-06-13T09:19:39.245Z"
   },
   {
    "duration": 889,
    "start_time": "2022-06-13T09:19:57.156Z"
   },
   {
    "duration": 27,
    "start_time": "2022-06-13T09:20:03.211Z"
   },
   {
    "duration": 36,
    "start_time": "2022-06-13T09:20:03.844Z"
   },
   {
    "duration": 152,
    "start_time": "2022-06-13T09:20:07.859Z"
   },
   {
    "duration": 8,
    "start_time": "2022-06-13T09:20:10.050Z"
   },
   {
    "duration": 5,
    "start_time": "2022-06-13T09:20:16.666Z"
   },
   {
    "duration": 135642,
    "start_time": "2022-06-13T09:25:33.587Z"
   },
   {
    "duration": 2117,
    "start_time": "2022-06-13T09:27:52.163Z"
   },
   {
    "duration": 6,
    "start_time": "2022-06-13T09:27:56.875Z"
   },
   {
    "duration": 1078,
    "start_time": "2022-06-13T09:29:28.528Z"
   },
   {
    "duration": 4,
    "start_time": "2022-06-13T09:29:29.609Z"
   },
   {
    "duration": 951,
    "start_time": "2022-06-13T09:29:29.616Z"
   },
   {
    "duration": 37,
    "start_time": "2022-06-13T09:29:30.569Z"
   },
   {
    "duration": 202,
    "start_time": "2022-06-13T09:29:30.609Z"
   },
   {
    "duration": 3,
    "start_time": "2022-06-13T09:29:31.064Z"
   },
   {
    "duration": 33,
    "start_time": "2022-06-13T09:29:31.863Z"
   },
   {
    "duration": 278,
    "start_time": "2022-06-13T09:29:34.454Z"
   },
   {
    "duration": 302,
    "start_time": "2022-06-13T09:29:35.255Z"
   },
   {
    "duration": 115,
    "start_time": "2022-06-13T09:29:36.814Z"
   },
   {
    "duration": 11,
    "start_time": "2022-06-13T09:29:38.344Z"
   },
   {
    "duration": 126,
    "start_time": "2022-06-13T09:29:44.632Z"
   },
   {
    "duration": 7,
    "start_time": "2022-06-13T09:29:45.591Z"
   },
   {
    "duration": 2,
    "start_time": "2022-06-13T09:29:47.440Z"
   },
   {
    "duration": 3,
    "start_time": "2022-06-13T09:29:48.023Z"
   },
   {
    "duration": 536,
    "start_time": "2022-06-13T09:29:48.806Z"
   },
   {
    "duration": 716,
    "start_time": "2022-06-13T09:29:49.727Z"
   },
   {
    "duration": 199,
    "start_time": "2022-06-13T09:29:50.759Z"
   },
   {
    "duration": 65326,
    "start_time": "2022-06-13T09:29:52.487Z"
   },
   {
    "duration": 225,
    "start_time": "2022-06-13T09:31:00.360Z"
   },
   {
    "duration": 27,
    "start_time": "2022-06-13T09:35:47.809Z"
   },
   {
    "duration": 51,
    "start_time": "2022-06-13T09:35:55.255Z"
   },
   {
    "duration": 1083,
    "start_time": "2022-06-13T09:37:12.321Z"
   },
   {
    "duration": 4,
    "start_time": "2022-06-13T09:37:13.412Z"
   },
   {
    "duration": 905,
    "start_time": "2022-06-13T09:37:13.418Z"
   },
   {
    "duration": 23,
    "start_time": "2022-06-13T09:37:14.325Z"
   },
   {
    "duration": 165,
    "start_time": "2022-06-13T09:37:14.350Z"
   },
   {
    "duration": 3,
    "start_time": "2022-06-13T09:37:14.517Z"
   },
   {
    "duration": 29,
    "start_time": "2022-06-13T09:37:14.521Z"
   },
   {
    "duration": 319,
    "start_time": "2022-06-13T09:37:14.552Z"
   },
   {
    "duration": 349,
    "start_time": "2022-06-13T09:37:14.873Z"
   },
   {
    "duration": 132,
    "start_time": "2022-06-13T09:37:15.224Z"
   },
   {
    "duration": 12,
    "start_time": "2022-06-13T09:37:15.358Z"
   },
   {
    "duration": 1014,
    "start_time": "2022-06-13T09:37:15.371Z"
   },
   {
    "duration": 460,
    "start_time": "2022-06-13T09:37:16.386Z"
   },
   {
    "duration": 4,
    "start_time": "2022-06-13T09:37:16.849Z"
   },
   {
    "duration": 9,
    "start_time": "2022-06-13T09:37:16.854Z"
   },
   {
    "duration": 6,
    "start_time": "2022-06-13T09:37:16.864Z"
   },
   {
    "duration": 443,
    "start_time": "2022-06-13T09:37:16.871Z"
   },
   {
    "duration": 139,
    "start_time": "2022-06-13T09:37:17.317Z"
   },
   {
    "duration": 63251,
    "start_time": "2022-06-13T09:37:17.458Z"
   },
   {
    "duration": 304,
    "start_time": "2022-06-13T09:38:20.711Z"
   },
   {
    "duration": 9,
    "start_time": "2022-06-13T09:38:21.097Z"
   },
   {
    "duration": 728517,
    "start_time": "2022-06-13T09:38:21.108Z"
   },
   {
    "duration": 6274,
    "start_time": "2022-06-13T09:50:29.627Z"
   },
   {
    "duration": 7,
    "start_time": "2022-06-13T09:50:35.903Z"
   },
   {
    "duration": 47968,
    "start_time": "2022-06-13T09:50:35.911Z"
   },
   {
    "duration": 0,
    "start_time": "2022-06-13T09:51:23.882Z"
   },
   {
    "duration": 0,
    "start_time": "2022-06-13T09:51:23.898Z"
   },
   {
    "duration": 53,
    "start_time": "2022-06-13T09:53:05.489Z"
   },
   {
    "duration": 3082,
    "start_time": "2022-06-13T09:53:47.039Z"
   },
   {
    "duration": 4,
    "start_time": "2022-06-13T09:53:50.124Z"
   },
   {
    "duration": 1425,
    "start_time": "2022-06-13T09:53:50.131Z"
   },
   {
    "duration": 23,
    "start_time": "2022-06-13T09:53:51.558Z"
   },
   {
    "duration": 162,
    "start_time": "2022-06-13T09:53:51.583Z"
   },
   {
    "duration": 3,
    "start_time": "2022-06-13T09:53:51.747Z"
   },
   {
    "duration": 44,
    "start_time": "2022-06-13T09:53:51.751Z"
   },
   {
    "duration": 283,
    "start_time": "2022-06-13T09:53:51.800Z"
   },
   {
    "duration": 311,
    "start_time": "2022-06-13T09:53:52.085Z"
   },
   {
    "duration": 156,
    "start_time": "2022-06-13T09:53:52.404Z"
   },
   {
    "duration": 12,
    "start_time": "2022-06-13T09:53:52.562Z"
   },
   {
    "duration": 951,
    "start_time": "2022-06-13T09:53:52.576Z"
   },
   {
    "duration": 460,
    "start_time": "2022-06-13T09:53:53.529Z"
   },
   {
    "duration": 12,
    "start_time": "2022-06-13T09:53:53.992Z"
   },
   {
    "duration": 19,
    "start_time": "2022-06-13T09:53:54.007Z"
   },
   {
    "duration": 7,
    "start_time": "2022-06-13T09:53:54.028Z"
   },
   {
    "duration": 450,
    "start_time": "2022-06-13T09:53:54.038Z"
   },
   {
    "duration": 152,
    "start_time": "2022-06-13T09:53:54.490Z"
   },
   {
    "duration": 64072,
    "start_time": "2022-06-13T09:53:54.644Z"
   },
   {
    "duration": 185,
    "start_time": "2022-06-13T09:54:58.718Z"
   },
   {
    "duration": 10,
    "start_time": "2022-06-13T09:54:58.907Z"
   },
   {
    "duration": 8437,
    "start_time": "2022-06-13T09:54:58.919Z"
   },
   {
    "duration": 49,
    "start_time": "2022-06-13T09:55:07.358Z"
   },
   {
    "duration": 6,
    "start_time": "2022-06-13T09:55:07.413Z"
   },
   {
    "duration": 5,
    "start_time": "2022-06-13T09:55:54.251Z"
   },
   {
    "duration": 5,
    "start_time": "2022-06-13T09:55:56.956Z"
   },
   {
    "duration": 6,
    "start_time": "2022-06-13T09:55:57.608Z"
   },
   {
    "duration": 6,
    "start_time": "2022-06-13T09:58:59.764Z"
   },
   {
    "duration": 6,
    "start_time": "2022-06-13T09:59:01.531Z"
   },
   {
    "duration": 6,
    "start_time": "2022-06-13T09:59:02.746Z"
   },
   {
    "duration": 6,
    "start_time": "2022-06-13T09:59:03.527Z"
   },
   {
    "duration": 5,
    "start_time": "2022-06-13T09:59:04.371Z"
   },
   {
    "duration": 5,
    "start_time": "2022-06-13T09:59:14.728Z"
   },
   {
    "duration": 10,
    "start_time": "2022-06-13T09:59:19.815Z"
   },
   {
    "duration": 63,
    "start_time": "2022-06-13T10:04:15.245Z"
   },
   {
    "duration": 47,
    "start_time": "2022-06-13T10:04:23.615Z"
   },
   {
    "duration": 45,
    "start_time": "2022-06-13T10:04:36.371Z"
   },
   {
    "duration": 6,
    "start_time": "2022-06-13T10:06:14.525Z"
   },
   {
    "duration": 1353,
    "start_time": "2022-06-13T10:09:36.634Z"
   },
   {
    "duration": 6,
    "start_time": "2022-06-13T10:09:37.990Z"
   },
   {
    "duration": 1305,
    "start_time": "2022-06-13T10:09:38.005Z"
   },
   {
    "duration": 46,
    "start_time": "2022-06-13T10:09:39.324Z"
   },
   {
    "duration": 295,
    "start_time": "2022-06-13T10:09:39.376Z"
   },
   {
    "duration": 6,
    "start_time": "2022-06-13T10:09:39.673Z"
   },
   {
    "duration": 82,
    "start_time": "2022-06-13T10:09:39.681Z"
   },
   {
    "duration": 419,
    "start_time": "2022-06-13T10:09:39.766Z"
   },
   {
    "duration": 441,
    "start_time": "2022-06-13T10:09:40.188Z"
   },
   {
    "duration": 187,
    "start_time": "2022-06-13T10:09:40.631Z"
   },
   {
    "duration": 30,
    "start_time": "2022-06-13T10:09:40.822Z"
   },
   {
    "duration": 1142,
    "start_time": "2022-06-13T10:09:40.857Z"
   },
   {
    "duration": 487,
    "start_time": "2022-06-13T10:09:42.001Z"
   },
   {
    "duration": 8,
    "start_time": "2022-06-13T10:09:42.500Z"
   },
   {
    "duration": 20,
    "start_time": "2022-06-13T10:09:42.513Z"
   },
   {
    "duration": 37,
    "start_time": "2022-06-13T10:09:42.535Z"
   },
   {
    "duration": 146,
    "start_time": "2022-06-13T10:09:42.574Z"
   },
   {
    "duration": 101003,
    "start_time": "2022-06-13T10:09:42.722Z"
   },
   {
    "duration": 504,
    "start_time": "2022-06-13T10:11:23.727Z"
   },
   {
    "duration": 66,
    "start_time": "2022-06-13T10:11:24.239Z"
   },
   {
    "duration": 63567,
    "start_time": "2022-06-13T10:11:24.306Z"
   },
   {
    "duration": 82,
    "start_time": "2022-06-13T10:12:27.875Z"
   },
   {
    "duration": 5,
    "start_time": "2022-06-13T10:12:27.959Z"
   },
   {
    "duration": 3,
    "start_time": "2022-06-13T10:49:13.541Z"
   },
   {
    "duration": 3,
    "start_time": "2022-06-13T10:49:13.861Z"
   },
   {
    "duration": 857,
    "start_time": "2022-06-13T10:49:14.164Z"
   },
   {
    "duration": 14,
    "start_time": "2022-06-13T10:49:15.023Z"
   },
   {
    "duration": 178,
    "start_time": "2022-06-13T10:49:15.039Z"
   },
   {
    "duration": 5,
    "start_time": "2022-06-13T10:49:15.470Z"
   },
   {
    "duration": 19,
    "start_time": "2022-06-13T10:49:15.820Z"
   },
   {
    "duration": 263,
    "start_time": "2022-06-13T10:49:16.171Z"
   },
   {
    "duration": 242,
    "start_time": "2022-06-13T10:49:16.508Z"
   },
   {
    "duration": 94,
    "start_time": "2022-06-13T10:49:16.924Z"
   },
   {
    "duration": 19,
    "start_time": "2022-06-13T10:49:17.287Z"
   },
   {
    "duration": 896,
    "start_time": "2022-06-13T10:49:20.116Z"
   },
   {
    "duration": 455,
    "start_time": "2022-06-13T10:49:21.014Z"
   },
   {
    "duration": 4,
    "start_time": "2022-06-13T10:49:21.471Z"
   },
   {
    "duration": 3,
    "start_time": "2022-06-13T10:49:52.044Z"
   },
   {
    "duration": 3,
    "start_time": "2022-06-13T10:49:52.732Z"
   },
   {
    "duration": 210,
    "start_time": "2022-06-13T10:49:57.724Z"
   },
   {
    "duration": 128,
    "start_time": "2022-06-13T10:49:59.982Z"
   },
   {
    "duration": 106133,
    "start_time": "2022-06-13T10:50:02.285Z"
   },
   {
    "duration": 280,
    "start_time": "2022-06-13T10:51:48.420Z"
   },
   {
    "duration": 90,
    "start_time": "2022-06-13T10:51:48.704Z"
   },
   {
    "duration": 1047,
    "start_time": "2022-06-14T08:30:19.107Z"
   },
   {
    "duration": 4,
    "start_time": "2022-06-14T08:30:20.156Z"
   },
   {
    "duration": 3337,
    "start_time": "2022-06-14T08:30:20.161Z"
   },
   {
    "duration": 18,
    "start_time": "2022-06-14T08:30:23.500Z"
   },
   {
    "duration": 129,
    "start_time": "2022-06-14T08:30:23.520Z"
   },
   {
    "duration": 4,
    "start_time": "2022-06-14T08:30:23.654Z"
   },
   {
    "duration": 57,
    "start_time": "2022-06-14T08:30:23.660Z"
   },
   {
    "duration": 302,
    "start_time": "2022-06-14T08:30:23.719Z"
   },
   {
    "duration": 269,
    "start_time": "2022-06-14T08:30:24.028Z"
   },
   {
    "duration": 115,
    "start_time": "2022-06-14T08:30:24.299Z"
   },
   {
    "duration": 24,
    "start_time": "2022-06-14T08:30:24.416Z"
   },
   {
    "duration": 780,
    "start_time": "2022-06-14T08:30:25.299Z"
   },
   {
    "duration": 429,
    "start_time": "2022-06-14T08:30:26.081Z"
   },
   {
    "duration": 3,
    "start_time": "2022-06-14T08:30:27.162Z"
   },
   {
    "duration": 3,
    "start_time": "2022-06-14T08:30:27.802Z"
   },
   {
    "duration": 9,
    "start_time": "2022-06-14T08:30:28.242Z"
   },
   {
    "duration": 207,
    "start_time": "2022-06-14T08:30:28.643Z"
   },
   {
    "duration": 127,
    "start_time": "2022-06-14T08:30:29.786Z"
   },
   {
    "duration": 115,
    "start_time": "2022-06-14T08:30:40.554Z"
   },
   {
    "duration": 10,
    "start_time": "2022-06-14T08:31:25.549Z"
   },
   {
    "duration": 87,
    "start_time": "2022-06-14T08:32:23.170Z"
   },
   {
    "duration": 5,
    "start_time": "2022-06-14T08:32:37.683Z"
   },
   {
    "duration": 14,
    "start_time": "2022-06-14T08:32:38.942Z"
   },
   {
    "duration": 21,
    "start_time": "2022-06-14T08:32:40.523Z"
   },
   {
    "duration": 11,
    "start_time": "2022-06-14T08:32:48.218Z"
   },
   {
    "duration": 174,
    "start_time": "2022-06-14T08:32:54.498Z"
   },
   {
    "duration": 180,
    "start_time": "2022-06-14T08:33:11.115Z"
   },
   {
    "duration": 27960,
    "start_time": "2022-06-14T08:34:34.004Z"
   },
   {
    "duration": 30661,
    "start_time": "2022-06-14T08:35:30.980Z"
   },
   {
    "duration": 47,
    "start_time": "2022-06-14T08:36:24.819Z"
   },
   {
    "duration": 27,
    "start_time": "2022-06-14T08:36:32.066Z"
   },
   {
    "duration": 32,
    "start_time": "2022-06-14T08:37:14.144Z"
   },
   {
    "duration": 26,
    "start_time": "2022-06-14T08:37:55.714Z"
   },
   {
    "duration": 23,
    "start_time": "2022-06-14T08:39:06.315Z"
   },
   {
    "duration": 108418,
    "start_time": "2022-06-14T08:39:45.619Z"
   },
   {
    "duration": 109887,
    "start_time": "2022-06-14T08:42:04.844Z"
   },
   {
    "duration": 6,
    "start_time": "2022-06-14T08:44:28.352Z"
   },
   {
    "duration": 3,
    "start_time": "2022-06-14T08:44:30.591Z"
   },
   {
    "duration": 708,
    "start_time": "2022-06-14T08:44:31.952Z"
   },
   {
    "duration": 19,
    "start_time": "2022-06-14T08:44:32.754Z"
   },
   {
    "duration": 120,
    "start_time": "2022-06-14T08:44:34.591Z"
   },
   {
    "duration": 5,
    "start_time": "2022-06-14T08:44:39.319Z"
   },
   {
    "duration": 17,
    "start_time": "2022-06-14T08:44:41.149Z"
   },
   {
    "duration": 186,
    "start_time": "2022-06-14T08:44:42.488Z"
   },
   {
    "duration": 201,
    "start_time": "2022-06-14T08:44:45.295Z"
   },
   {
    "duration": 68,
    "start_time": "2022-06-14T08:44:47.968Z"
   },
   {
    "duration": 10,
    "start_time": "2022-06-14T08:44:49.703Z"
   },
   {
    "duration": 744,
    "start_time": "2022-06-14T08:44:54.679Z"
   },
   {
    "duration": 390,
    "start_time": "2022-06-14T08:44:57.407Z"
   },
   {
    "duration": 3,
    "start_time": "2022-06-14T08:44:58.453Z"
   },
   {
    "duration": 3,
    "start_time": "2022-06-14T08:45:12.791Z"
   },
   {
    "duration": 2,
    "start_time": "2022-06-14T08:45:16.472Z"
   },
   {
    "duration": 6,
    "start_time": "2022-06-14T08:45:23.824Z"
   },
   {
    "duration": 163,
    "start_time": "2022-06-14T08:45:25.399Z"
   },
   {
    "duration": 109,
    "start_time": "2022-06-14T08:46:19.954Z"
   },
   {
    "duration": 54889,
    "start_time": "2022-06-14T08:47:16.245Z"
   },
   {
    "duration": 192,
    "start_time": "2022-06-14T08:48:11.136Z"
   },
   {
    "duration": 94,
    "start_time": "2022-06-14T08:48:11.334Z"
   },
   {
    "duration": 4,
    "start_time": "2022-06-14T08:48:33.149Z"
   },
   {
    "duration": 675017,
    "start_time": "2022-06-14T08:48:53.959Z"
   },
   {
    "duration": 5680,
    "start_time": "2022-06-14T09:00:24.777Z"
   },
   {
    "duration": 8,
    "start_time": "2022-06-14T09:00:35.134Z"
   },
   {
    "duration": 6,
    "start_time": "2022-06-14T09:00:45.283Z"
   },
   {
    "duration": 4,
    "start_time": "2022-06-14T09:01:42.099Z"
   },
   {
    "duration": 3,
    "start_time": "2022-06-14T09:02:12.541Z"
   },
   {
    "duration": 83486,
    "start_time": "2022-06-14T09:03:13.174Z"
   },
   {
    "duration": 392,
    "start_time": "2022-06-14T09:05:02.160Z"
   },
   {
    "duration": 443,
    "start_time": "2022-06-14T09:05:11.007Z"
   },
   {
    "duration": 5,
    "start_time": "2022-06-14T09:06:08.161Z"
   },
   {
    "duration": 49,
    "start_time": "2022-06-14T09:10:07.033Z"
   },
   {
    "duration": 30,
    "start_time": "2022-06-14T09:10:19.468Z"
   },
   {
    "duration": 4,
    "start_time": "2022-06-14T09:10:30.860Z"
   },
   {
    "duration": 8,
    "start_time": "2022-06-14T09:10:35.715Z"
   },
   {
    "duration": 27,
    "start_time": "2022-06-14T09:11:57.093Z"
   },
   {
    "duration": 4,
    "start_time": "2022-06-14T09:12:04.317Z"
   },
   {
    "duration": 12,
    "start_time": "2022-06-14T09:12:06.691Z"
   },
   {
    "duration": 1354,
    "start_time": "2022-06-15T07:50:28.309Z"
   },
   {
    "duration": 1501,
    "start_time": "2022-06-15T07:51:19.780Z"
   },
   {
    "duration": 24,
    "start_time": "2022-06-15T07:51:21.287Z"
   },
   {
    "duration": 198,
    "start_time": "2022-06-15T07:51:21.371Z"
   },
   {
    "duration": 3,
    "start_time": "2022-06-15T07:51:26.401Z"
   },
   {
    "duration": 35,
    "start_time": "2022-06-15T07:51:28.801Z"
   },
   {
    "duration": 330,
    "start_time": "2022-06-15T07:51:29.873Z"
   },
   {
    "duration": 420,
    "start_time": "2022-06-15T07:51:31.817Z"
   },
   {
    "duration": 20,
    "start_time": "2022-06-15T07:52:00.402Z"
   },
   {
    "duration": 217,
    "start_time": "2022-06-15T07:52:31.995Z"
   },
   {
    "duration": 53,
    "start_time": "2022-06-15T07:53:20.419Z"
   },
   {
    "duration": 215,
    "start_time": "2022-06-15T07:53:22.721Z"
   },
   {
    "duration": 94,
    "start_time": "2022-06-15T07:53:23.564Z"
   },
   {
    "duration": 29,
    "start_time": "2022-06-15T07:53:55.986Z"
   },
   {
    "duration": 45,
    "start_time": "2022-06-15T07:54:05.140Z"
   },
   {
    "duration": 68,
    "start_time": "2022-06-15T07:54:10.705Z"
   },
   {
    "duration": 349,
    "start_time": "2022-06-15T07:54:35.857Z"
   },
   {
    "duration": 64,
    "start_time": "2022-06-15T07:54:39.322Z"
   },
   {
    "duration": 150,
    "start_time": "2022-06-15T07:54:57.786Z"
   },
   {
    "duration": 64,
    "start_time": "2022-06-15T07:55:40.210Z"
   },
   {
    "duration": 63,
    "start_time": "2022-06-15T07:55:43.025Z"
   },
   {
    "duration": 84,
    "start_time": "2022-06-15T07:55:44.801Z"
   },
   {
    "duration": 151,
    "start_time": "2022-06-15T07:58:15.049Z"
   },
   {
    "duration": 155,
    "start_time": "2022-06-15T07:58:27.458Z"
   },
   {
    "duration": 32,
    "start_time": "2022-06-15T07:59:29.137Z"
   },
   {
    "duration": 28,
    "start_time": "2022-06-15T07:59:44.082Z"
   },
   {
    "duration": 170,
    "start_time": "2022-06-15T07:59:52.897Z"
   },
   {
    "duration": 38,
    "start_time": "2022-06-15T08:02:04.744Z"
   },
   {
    "duration": 7,
    "start_time": "2022-06-15T08:02:15.617Z"
   },
   {
    "duration": 14,
    "start_time": "2022-06-15T08:02:21.234Z"
   },
   {
    "duration": 24,
    "start_time": "2022-06-15T08:02:51.634Z"
   },
   {
    "duration": 101,
    "start_time": "2022-06-15T08:03:34.954Z"
   },
   {
    "duration": 96,
    "start_time": "2022-06-15T08:04:00.041Z"
   },
   {
    "duration": 6,
    "start_time": "2022-06-15T08:04:21.082Z"
   },
   {
    "duration": 23,
    "start_time": "2022-06-15T08:04:26.921Z"
   },
   {
    "duration": 22,
    "start_time": "2022-06-15T08:09:16.921Z"
   },
   {
    "duration": 22,
    "start_time": "2022-06-15T08:09:32.128Z"
   },
   {
    "duration": 26,
    "start_time": "2022-06-15T08:09:39.722Z"
   },
   {
    "duration": 24,
    "start_time": "2022-06-15T08:09:45.370Z"
   },
   {
    "duration": 25,
    "start_time": "2022-06-15T08:09:52.258Z"
   },
   {
    "duration": 28,
    "start_time": "2022-06-15T08:16:03.194Z"
   },
   {
    "duration": 17,
    "start_time": "2022-06-15T08:16:16.266Z"
   },
   {
    "duration": 29,
    "start_time": "2022-06-15T08:17:31.705Z"
   },
   {
    "duration": 51,
    "start_time": "2022-06-15T08:17:34.984Z"
   },
   {
    "duration": 22,
    "start_time": "2022-06-15T08:17:41.049Z"
   },
   {
    "duration": 20,
    "start_time": "2022-06-15T08:18:45.800Z"
   },
   {
    "duration": 34,
    "start_time": "2022-06-15T08:20:05.409Z"
   },
   {
    "duration": 10,
    "start_time": "2022-06-15T08:21:29.407Z"
   },
   {
    "duration": 10,
    "start_time": "2022-06-15T08:21:33.449Z"
   },
   {
    "duration": 20,
    "start_time": "2022-06-15T08:22:41.817Z"
   },
   {
    "duration": 20,
    "start_time": "2022-06-15T08:23:02.841Z"
   },
   {
    "duration": 21,
    "start_time": "2022-06-15T08:23:16.578Z"
   },
   {
    "duration": 39,
    "start_time": "2022-06-15T08:23:44.305Z"
   },
   {
    "duration": 29,
    "start_time": "2022-06-15T08:24:38.010Z"
   },
   {
    "duration": 30,
    "start_time": "2022-06-15T08:24:41.697Z"
   },
   {
    "duration": 11,
    "start_time": "2022-06-15T08:24:45.634Z"
   },
   {
    "duration": 20,
    "start_time": "2022-06-15T08:24:52.856Z"
   },
   {
    "duration": 11,
    "start_time": "2022-06-15T08:25:07.696Z"
   },
   {
    "duration": 21,
    "start_time": "2022-06-15T08:25:18.513Z"
   },
   {
    "duration": 1080,
    "start_time": "2022-06-15T08:25:27.473Z"
   },
   {
    "duration": 831,
    "start_time": "2022-06-15T08:25:28.577Z"
   },
   {
    "duration": 26,
    "start_time": "2022-06-15T08:25:29.410Z"
   },
   {
    "duration": 143,
    "start_time": "2022-06-15T08:25:29.521Z"
   },
   {
    "duration": 3,
    "start_time": "2022-06-15T08:25:30.553Z"
   },
   {
    "duration": 31,
    "start_time": "2022-06-15T08:25:31.161Z"
   },
   {
    "duration": 295,
    "start_time": "2022-06-15T08:25:31.801Z"
   },
   {
    "duration": 288,
    "start_time": "2022-06-15T08:25:32.233Z"
   },
   {
    "duration": 124,
    "start_time": "2022-06-15T08:25:32.745Z"
   },
   {
    "duration": 90,
    "start_time": "2022-06-15T08:25:33.401Z"
   },
   {
    "duration": 109,
    "start_time": "2022-06-15T08:25:34.473Z"
   },
   {
    "duration": 20,
    "start_time": "2022-06-15T08:25:35.777Z"
   },
   {
    "duration": 30,
    "start_time": "2022-06-15T08:25:37.209Z"
   },
   {
    "duration": 27,
    "start_time": "2022-06-15T08:25:37.953Z"
   },
   {
    "duration": 108,
    "start_time": "2022-06-15T08:26:50.560Z"
   },
   {
    "duration": 35,
    "start_time": "2022-06-15T08:26:58.081Z"
   },
   {
    "duration": 12,
    "start_time": "2022-06-15T08:27:02.329Z"
   },
   {
    "duration": 33,
    "start_time": "2022-06-15T08:27:03.617Z"
   },
   {
    "duration": 6,
    "start_time": "2022-06-15T08:27:45.001Z"
   },
   {
    "duration": 24,
    "start_time": "2022-06-15T08:27:51.825Z"
   },
   {
    "duration": 25,
    "start_time": "2022-06-15T08:27:59.763Z"
   },
   {
    "duration": 27,
    "start_time": "2022-06-15T08:28:12.417Z"
   },
   {
    "duration": 27,
    "start_time": "2022-06-15T08:29:17.492Z"
   },
   {
    "duration": 29,
    "start_time": "2022-06-15T08:31:13.913Z"
   },
   {
    "duration": 64,
    "start_time": "2022-06-15T08:32:54.960Z"
   },
   {
    "duration": 29,
    "start_time": "2022-06-15T08:33:04.090Z"
   },
   {
    "duration": 23,
    "start_time": "2022-06-15T08:34:57.193Z"
   },
   {
    "duration": 10,
    "start_time": "2022-06-15T08:35:24.977Z"
   },
   {
    "duration": 11,
    "start_time": "2022-06-15T08:35:32.712Z"
   },
   {
    "duration": 9,
    "start_time": "2022-06-15T08:35:34.393Z"
   },
   {
    "duration": 5,
    "start_time": "2022-06-15T08:35:45.017Z"
   },
   {
    "duration": 29,
    "start_time": "2022-06-15T08:36:12.737Z"
   },
   {
    "duration": 23,
    "start_time": "2022-06-15T08:36:42.792Z"
   },
   {
    "duration": 3,
    "start_time": "2022-06-15T08:37:10.753Z"
   },
   {
    "duration": 4,
    "start_time": "2022-06-15T08:37:15.481Z"
   },
   {
    "duration": 24,
    "start_time": "2022-06-15T08:37:17.769Z"
   },
   {
    "duration": 4,
    "start_time": "2022-06-15T08:37:26.529Z"
   },
   {
    "duration": 1130,
    "start_time": "2022-06-15T08:38:55.832Z"
   },
   {
    "duration": 852,
    "start_time": "2022-06-15T08:38:56.964Z"
   },
   {
    "duration": 21,
    "start_time": "2022-06-15T08:38:57.818Z"
   },
   {
    "duration": 147,
    "start_time": "2022-06-15T08:38:57.841Z"
   },
   {
    "duration": 3,
    "start_time": "2022-06-15T08:38:58.759Z"
   },
   {
    "duration": 4,
    "start_time": "2022-06-15T08:38:59.297Z"
   },
   {
    "duration": 32,
    "start_time": "2022-06-15T08:39:00.127Z"
   },
   {
    "duration": 258,
    "start_time": "2022-06-15T08:39:01.135Z"
   },
   {
    "duration": 341,
    "start_time": "2022-06-15T08:39:01.795Z"
   },
   {
    "duration": 123,
    "start_time": "2022-06-15T08:39:02.263Z"
   },
   {
    "duration": 92,
    "start_time": "2022-06-15T08:39:02.962Z"
   },
   {
    "duration": 94,
    "start_time": "2022-06-15T08:39:03.935Z"
   },
   {
    "duration": 23,
    "start_time": "2022-06-15T08:39:04.464Z"
   },
   {
    "duration": 28,
    "start_time": "2022-06-15T08:39:05.093Z"
   },
   {
    "duration": 22,
    "start_time": "2022-06-15T08:39:05.655Z"
   },
   {
    "duration": 36,
    "start_time": "2022-06-15T08:39:06.496Z"
   },
   {
    "duration": 27,
    "start_time": "2022-06-15T08:39:07.000Z"
   },
   {
    "duration": 34,
    "start_time": "2022-06-15T08:39:07.759Z"
   },
   {
    "duration": 4,
    "start_time": "2022-06-15T08:39:08.719Z"
   },
   {
    "duration": 558,
    "start_time": "2022-06-15T08:50:12.244Z"
   },
   {
    "duration": 42,
    "start_time": "2022-06-15T08:50:26.679Z"
   },
   {
    "duration": 579,
    "start_time": "2022-06-15T08:50:29.613Z"
   },
   {
    "duration": 41,
    "start_time": "2022-06-15T08:51:03.829Z"
   },
   {
    "duration": 5,
    "start_time": "2022-06-15T08:51:40.342Z"
   },
   {
    "duration": 9,
    "start_time": "2022-06-15T08:51:50.077Z"
   },
   {
    "duration": 37,
    "start_time": "2022-06-15T08:51:54.134Z"
   },
   {
    "duration": 26,
    "start_time": "2022-06-15T08:52:55.541Z"
   },
   {
    "duration": 20,
    "start_time": "2022-06-15T08:53:00.580Z"
   },
   {
    "duration": 896,
    "start_time": "2022-06-15T08:54:42.796Z"
   },
   {
    "duration": 762,
    "start_time": "2022-06-15T08:58:12.876Z"
   },
   {
    "duration": 5,
    "start_time": "2022-06-15T08:58:40.596Z"
   },
   {
    "duration": 4,
    "start_time": "2022-06-15T08:59:07.183Z"
   },
   {
    "duration": 4,
    "start_time": "2022-06-15T08:59:10.331Z"
   },
   {
    "duration": 4,
    "start_time": "2022-06-15T08:59:26.444Z"
   },
   {
    "duration": 698,
    "start_time": "2022-06-15T09:00:07.708Z"
   },
   {
    "duration": 4,
    "start_time": "2022-06-15T09:00:08.419Z"
   },
   {
    "duration": 4,
    "start_time": "2022-06-15T09:00:30.252Z"
   },
   {
    "duration": 4,
    "start_time": "2022-06-15T09:00:42.388Z"
   },
   {
    "duration": 4,
    "start_time": "2022-06-15T09:00:47.106Z"
   },
   {
    "duration": 128,
    "start_time": "2022-06-15T09:06:03.355Z"
   },
   {
    "duration": 598,
    "start_time": "2022-06-15T09:06:21.762Z"
   },
   {
    "duration": 3,
    "start_time": "2022-06-15T09:06:28.277Z"
   },
   {
    "duration": 4,
    "start_time": "2022-06-15T09:06:47.603Z"
   },
   {
    "duration": 4,
    "start_time": "2022-06-15T09:06:53.419Z"
   },
   {
    "duration": 4,
    "start_time": "2022-06-15T09:07:05.896Z"
   },
   {
    "duration": 592,
    "start_time": "2022-06-15T09:07:53.019Z"
   },
   {
    "duration": 4,
    "start_time": "2022-06-15T09:07:53.642Z"
   },
   {
    "duration": 4,
    "start_time": "2022-06-15T09:08:12.211Z"
   },
   {
    "duration": 10,
    "start_time": "2022-06-15T09:08:30.480Z"
   },
   {
    "duration": 5,
    "start_time": "2022-06-15T09:08:34.662Z"
   },
   {
    "duration": 11,
    "start_time": "2022-06-15T09:08:48.146Z"
   },
   {
    "duration": 5,
    "start_time": "2022-06-15T09:09:04.689Z"
   },
   {
    "duration": 190,
    "start_time": "2022-06-15T09:10:23.089Z"
   },
   {
    "duration": 129,
    "start_time": "2022-06-15T09:10:24.153Z"
   },
   {
    "duration": 650,
    "start_time": "2022-06-15T09:10:24.742Z"
   },
   {
    "duration": 4,
    "start_time": "2022-06-15T09:10:25.394Z"
   },
   {
    "duration": 4,
    "start_time": "2022-06-15T09:10:38.155Z"
   },
   {
    "duration": 4,
    "start_time": "2022-06-15T09:10:50.796Z"
   },
   {
    "duration": 5,
    "start_time": "2022-06-15T09:12:22.842Z"
   },
   {
    "duration": 12,
    "start_time": "2022-06-15T09:12:50.898Z"
   },
   {
    "duration": 15,
    "start_time": "2022-06-15T09:12:58.643Z"
   },
   {
    "duration": 12,
    "start_time": "2022-06-15T09:13:20.594Z"
   },
   {
    "duration": 18,
    "start_time": "2022-06-15T09:14:31.016Z"
   },
   {
    "duration": 3,
    "start_time": "2022-06-15T09:14:43.046Z"
   },
   {
    "duration": 4,
    "start_time": "2022-06-15T09:14:45.465Z"
   },
   {
    "duration": 127,
    "start_time": "2022-06-15T09:14:45.993Z"
   },
   {
    "duration": 48100,
    "start_time": "2022-06-15T09:16:23.257Z"
   },
   {
    "duration": 257,
    "start_time": "2022-06-15T09:19:34.987Z"
   },
   {
    "duration": 6,
    "start_time": "2022-06-15T09:19:36.434Z"
   },
   {
    "duration": 185,
    "start_time": "2022-06-15T09:21:11.861Z"
   },
   {
    "duration": 3,
    "start_time": "2022-06-15T09:21:12.849Z"
   },
   {
    "duration": 6,
    "start_time": "2022-06-15T09:21:14.386Z"
   },
   {
    "duration": 1302,
    "start_time": "2022-06-15T13:30:34.116Z"
   },
   {
    "duration": 1323,
    "start_time": "2022-06-15T13:30:40.353Z"
   },
   {
    "duration": 31,
    "start_time": "2022-06-15T13:30:41.678Z"
   },
   {
    "duration": 201,
    "start_time": "2022-06-15T13:30:42.009Z"
   },
   {
    "duration": 3,
    "start_time": "2022-06-15T13:30:45.273Z"
   },
   {
    "duration": 3,
    "start_time": "2022-06-15T13:30:45.738Z"
   },
   {
    "duration": 32,
    "start_time": "2022-06-15T13:30:46.655Z"
   },
   {
    "duration": 252,
    "start_time": "2022-06-15T13:30:47.921Z"
   },
   {
    "duration": 290,
    "start_time": "2022-06-15T13:30:48.586Z"
   },
   {
    "duration": 127,
    "start_time": "2022-06-15T13:30:49.338Z"
   },
   {
    "duration": 97,
    "start_time": "2022-06-15T13:30:49.929Z"
   },
   {
    "duration": 96,
    "start_time": "2022-06-15T13:30:50.609Z"
   },
   {
    "duration": 21,
    "start_time": "2022-06-15T13:30:51.130Z"
   },
   {
    "duration": 29,
    "start_time": "2022-06-15T13:30:51.681Z"
   },
   {
    "duration": 27,
    "start_time": "2022-06-15T13:30:52.273Z"
   },
   {
    "duration": 39,
    "start_time": "2022-06-15T13:30:52.952Z"
   },
   {
    "duration": 34,
    "start_time": "2022-06-15T13:30:53.480Z"
   },
   {
    "duration": 32,
    "start_time": "2022-06-15T13:30:54.208Z"
   },
   {
    "duration": 4,
    "start_time": "2022-06-15T13:30:54.865Z"
   },
   {
    "duration": 25,
    "start_time": "2022-06-15T13:31:00.202Z"
   },
   {
    "duration": 4,
    "start_time": "2022-06-15T13:31:16.640Z"
   },
   {
    "duration": 4,
    "start_time": "2022-06-15T13:31:24.242Z"
   },
   {
    "duration": 120,
    "start_time": "2022-06-15T13:31:27.466Z"
   },
   {
    "duration": 1188,
    "start_time": "2022-06-15T13:31:56.061Z"
   },
   {
    "duration": 877,
    "start_time": "2022-06-15T13:31:57.251Z"
   },
   {
    "duration": 21,
    "start_time": "2022-06-15T13:31:58.130Z"
   },
   {
    "duration": 167,
    "start_time": "2022-06-15T13:31:58.153Z"
   },
   {
    "duration": 3,
    "start_time": "2022-06-15T13:31:58.484Z"
   },
   {
    "duration": 4,
    "start_time": "2022-06-15T13:31:58.860Z"
   },
   {
    "duration": 30,
    "start_time": "2022-06-15T13:31:59.480Z"
   },
   {
    "duration": 249,
    "start_time": "2022-06-15T13:32:00.221Z"
   },
   {
    "duration": 295,
    "start_time": "2022-06-15T13:32:00.669Z"
   },
   {
    "duration": 129,
    "start_time": "2022-06-15T13:32:01.557Z"
   },
   {
    "duration": 96,
    "start_time": "2022-06-15T13:32:02.244Z"
   },
   {
    "duration": 96,
    "start_time": "2022-06-15T13:32:02.821Z"
   },
   {
    "duration": 24,
    "start_time": "2022-06-15T13:32:03.256Z"
   },
   {
    "duration": 29,
    "start_time": "2022-06-15T13:32:03.724Z"
   },
   {
    "duration": 35,
    "start_time": "2022-06-15T13:32:04.230Z"
   },
   {
    "duration": 37,
    "start_time": "2022-06-15T13:32:04.884Z"
   },
   {
    "duration": 29,
    "start_time": "2022-06-15T13:32:05.413Z"
   },
   {
    "duration": 36,
    "start_time": "2022-06-15T13:32:06.269Z"
   },
   {
    "duration": 4,
    "start_time": "2022-06-15T13:32:06.860Z"
   },
   {
    "duration": 19,
    "start_time": "2022-06-15T13:32:07.965Z"
   },
   {
    "duration": 19,
    "start_time": "2022-06-15T13:32:09.269Z"
   },
   {
    "duration": 941,
    "start_time": "2022-06-15T13:32:16.116Z"
   },
   {
    "duration": 4,
    "start_time": "2022-06-15T13:32:17.924Z"
   },
   {
    "duration": 3,
    "start_time": "2022-06-15T13:32:18.597Z"
   },
   {
    "duration": 197,
    "start_time": "2022-06-15T13:32:19.212Z"
   },
   {
    "duration": 23,
    "start_time": "2022-06-15T13:32:20.124Z"
   },
   {
    "duration": 144,
    "start_time": "2022-06-15T13:32:20.908Z"
   },
   {
    "duration": 5,
    "start_time": "2022-06-15T13:32:21.812Z"
   },
   {
    "duration": 254,
    "start_time": "2022-06-15T13:32:37.727Z"
   },
   {
    "duration": 804,
    "start_time": "2022-06-15T13:34:40.942Z"
   },
   {
    "duration": 1506,
    "start_time": "2022-06-15T13:34:50.365Z"
   },
   {
    "duration": 977,
    "start_time": "2022-06-15T13:34:51.873Z"
   },
   {
    "duration": 21,
    "start_time": "2022-06-15T13:34:52.851Z"
   },
   {
    "duration": 165,
    "start_time": "2022-06-15T13:34:52.874Z"
   },
   {
    "duration": 6,
    "start_time": "2022-06-15T13:34:53.041Z"
   },
   {
    "duration": 7,
    "start_time": "2022-06-15T13:34:53.725Z"
   },
   {
    "duration": 38,
    "start_time": "2022-06-15T13:34:54.584Z"
   },
   {
    "duration": 245,
    "start_time": "2022-06-15T13:34:55.445Z"
   },
   {
    "duration": 389,
    "start_time": "2022-06-15T13:34:55.892Z"
   },
   {
    "duration": 140,
    "start_time": "2022-06-15T13:34:56.300Z"
   },
   {
    "duration": 116,
    "start_time": "2022-06-15T13:34:56.717Z"
   },
   {
    "duration": 110,
    "start_time": "2022-06-15T13:34:57.156Z"
   },
   {
    "duration": 25,
    "start_time": "2022-06-15T13:34:57.613Z"
   },
   {
    "duration": 32,
    "start_time": "2022-06-15T13:34:58.213Z"
   },
   {
    "duration": 24,
    "start_time": "2022-06-15T13:34:58.676Z"
   },
   {
    "duration": 48,
    "start_time": "2022-06-15T13:34:59.301Z"
   },
   {
    "duration": 39,
    "start_time": "2022-06-15T13:34:59.772Z"
   },
   {
    "duration": 42,
    "start_time": "2022-06-15T13:35:00.395Z"
   },
   {
    "duration": 4,
    "start_time": "2022-06-15T13:35:01.005Z"
   },
   {
    "duration": 24,
    "start_time": "2022-06-15T13:35:01.932Z"
   },
   {
    "duration": 12,
    "start_time": "2022-06-15T13:35:02.748Z"
   },
   {
    "duration": 996,
    "start_time": "2022-06-15T13:35:06.949Z"
   },
   {
    "duration": 3,
    "start_time": "2022-06-15T13:35:07.948Z"
   },
   {
    "duration": 3,
    "start_time": "2022-06-15T13:35:08.813Z"
   },
   {
    "duration": 341,
    "start_time": "2022-06-15T13:35:10.908Z"
   },
   {
    "duration": 126,
    "start_time": "2022-06-15T13:35:11.844Z"
   },
   {
    "duration": 1227,
    "start_time": "2022-06-15T13:35:14.476Z"
   },
   {
    "duration": 7,
    "start_time": "2022-06-15T13:35:15.706Z"
   },
   {
    "duration": 48853,
    "start_time": "2022-06-15T13:35:19.893Z"
   },
   {
    "duration": 274,
    "start_time": "2022-06-15T13:36:10.781Z"
   },
   {
    "duration": 6,
    "start_time": "2022-06-15T13:36:12.260Z"
   },
   {
    "duration": 8,
    "start_time": "2022-06-15T13:39:38.669Z"
   },
   {
    "duration": 771,
    "start_time": "2022-06-15T13:41:52.200Z"
   },
   {
    "duration": 23,
    "start_time": "2022-06-15T13:41:57.531Z"
   },
   {
    "duration": 1093,
    "start_time": "2022-06-15T13:42:48.394Z"
   },
   {
    "duration": 743,
    "start_time": "2022-06-15T13:43:06.988Z"
   },
   {
    "duration": 92,
    "start_time": "2022-06-15T13:44:34.632Z"
   },
   {
    "duration": 93,
    "start_time": "2022-06-15T13:45:57.924Z"
   },
   {
    "duration": 100320,
    "start_time": "2022-06-15T13:46:24.539Z"
   },
   {
    "duration": 3595,
    "start_time": "2022-06-15T13:49:13.286Z"
   },
   {
    "duration": 5,
    "start_time": "2022-06-15T13:49:20.401Z"
   },
   {
    "duration": 6,
    "start_time": "2022-06-15T13:51:17.192Z"
   },
   {
    "duration": 5,
    "start_time": "2022-06-15T13:51:23.657Z"
   },
   {
    "duration": 5,
    "start_time": "2022-06-15T13:51:27.585Z"
   },
   {
    "duration": 4,
    "start_time": "2022-06-15T13:51:34.081Z"
   },
   {
    "duration": 4,
    "start_time": "2022-06-15T13:51:40.321Z"
   },
   {
    "duration": 6,
    "start_time": "2022-06-15T13:51:43.736Z"
   },
   {
    "duration": 4,
    "start_time": "2022-06-15T13:51:46.217Z"
   },
   {
    "duration": 5,
    "start_time": "2022-06-15T13:51:49.161Z"
   },
   {
    "duration": 48,
    "start_time": "2022-06-15T14:05:04.589Z"
   },
   {
    "duration": 1222,
    "start_time": "2022-06-15T14:05:08.362Z"
   },
   {
    "duration": 1067,
    "start_time": "2022-06-15T14:05:09.586Z"
   },
   {
    "duration": 18,
    "start_time": "2022-06-15T14:05:10.655Z"
   },
   {
    "duration": 145,
    "start_time": "2022-06-15T14:05:10.675Z"
   },
   {
    "duration": 2,
    "start_time": "2022-06-15T14:05:10.822Z"
   },
   {
    "duration": 9,
    "start_time": "2022-06-15T14:05:10.825Z"
   },
   {
    "duration": 38,
    "start_time": "2022-06-15T14:05:10.836Z"
   },
   {
    "duration": 238,
    "start_time": "2022-06-15T14:05:10.875Z"
   },
   {
    "duration": 256,
    "start_time": "2022-06-15T14:05:11.115Z"
   },
   {
    "duration": 112,
    "start_time": "2022-06-15T14:05:11.375Z"
   },
   {
    "duration": 84,
    "start_time": "2022-06-15T14:05:11.488Z"
   },
   {
    "duration": 86,
    "start_time": "2022-06-15T14:05:11.573Z"
   },
   {
    "duration": 16,
    "start_time": "2022-06-15T14:05:11.661Z"
   },
   {
    "duration": 24,
    "start_time": "2022-06-15T14:05:11.678Z"
   },
   {
    "duration": 20,
    "start_time": "2022-06-15T14:05:11.703Z"
   },
   {
    "duration": 60,
    "start_time": "2022-06-15T14:05:11.725Z"
   },
   {
    "duration": 26,
    "start_time": "2022-06-15T14:05:11.786Z"
   },
   {
    "duration": 44,
    "start_time": "2022-06-15T14:05:11.815Z"
   },
   {
    "duration": 4,
    "start_time": "2022-06-15T14:05:11.860Z"
   },
   {
    "duration": 24,
    "start_time": "2022-06-15T14:05:11.866Z"
   },
   {
    "duration": 14,
    "start_time": "2022-06-15T14:05:11.892Z"
   },
   {
    "duration": 659,
    "start_time": "2022-06-15T14:05:11.908Z"
   },
   {
    "duration": 3,
    "start_time": "2022-06-15T14:05:12.569Z"
   },
   {
    "duration": 7,
    "start_time": "2022-06-15T14:05:12.573Z"
   },
   {
    "duration": 214,
    "start_time": "2022-06-15T14:05:12.581Z"
   },
   {
    "duration": 124,
    "start_time": "2022-06-15T14:05:12.796Z"
   },
   {
    "duration": 551,
    "start_time": "2022-06-15T14:05:12.922Z"
   },
   {
    "duration": 4,
    "start_time": "2022-06-15T14:05:13.476Z"
   },
   {
    "duration": 19088,
    "start_time": "2022-06-15T14:05:13.482Z"
   },
   {
    "duration": 188,
    "start_time": "2022-06-15T14:05:32.572Z"
   },
   {
    "duration": 5,
    "start_time": "2022-06-15T14:05:32.763Z"
   },
   {
    "duration": 745,
    "start_time": "2022-06-15T14:05:32.860Z"
   },
   {
    "duration": 67,
    "start_time": "2022-06-15T14:05:33.607Z"
   },
   {
    "duration": 96,
    "start_time": "2022-06-15T14:05:33.675Z"
   },
   {
    "duration": 77817,
    "start_time": "2022-06-15T14:05:33.772Z"
   },
   {
    "duration": 3009,
    "start_time": "2022-06-15T14:06:51.591Z"
   },
   {
    "duration": 4,
    "start_time": "2022-06-15T14:06:54.602Z"
   },
   {
    "duration": 80516,
    "start_time": "2022-06-15T14:06:54.608Z"
   },
   {
    "duration": 0,
    "start_time": "2022-06-15T14:08:15.125Z"
   },
   {
    "duration": 0,
    "start_time": "2022-06-15T14:08:15.127Z"
   },
   {
    "duration": 0,
    "start_time": "2022-06-15T14:08:15.128Z"
   },
   {
    "duration": 0,
    "start_time": "2022-06-15T14:08:15.129Z"
   },
   {
    "duration": 0,
    "start_time": "2022-06-15T14:08:15.130Z"
   },
   {
    "duration": 0,
    "start_time": "2022-06-15T14:08:15.131Z"
   },
   {
    "duration": 0,
    "start_time": "2022-06-15T14:08:15.132Z"
   },
   {
    "duration": 237523,
    "start_time": "2022-06-15T14:08:48.379Z"
   },
   {
    "duration": 3,
    "start_time": "2022-06-15T14:13:30.130Z"
   },
   {
    "duration": 2,
    "start_time": "2022-06-15T14:13:30.882Z"
   },
   {
    "duration": 2042,
    "start_time": "2022-06-15T14:13:31.722Z"
   },
   {
    "duration": 34,
    "start_time": "2022-06-15T14:13:36.242Z"
   },
   {
    "duration": 5,
    "start_time": "2022-06-15T14:13:37.514Z"
   },
   {
    "duration": 5,
    "start_time": "2022-06-15T14:13:42.659Z"
   },
   {
    "duration": 1210,
    "start_time": "2022-06-17T09:22:54.814Z"
   },
   {
    "duration": 1090,
    "start_time": "2022-06-17T09:22:56.626Z"
   },
   {
    "duration": 20,
    "start_time": "2022-06-17T09:22:57.718Z"
   },
   {
    "duration": 153,
    "start_time": "2022-06-17T09:23:00.241Z"
   },
   {
    "duration": 3,
    "start_time": "2022-06-17T09:23:06.810Z"
   },
   {
    "duration": 3,
    "start_time": "2022-06-17T09:23:08.515Z"
   },
   {
    "duration": 30,
    "start_time": "2022-06-17T09:23:17.403Z"
   },
   {
    "duration": 230,
    "start_time": "2022-06-17T09:23:26.474Z"
   },
   {
    "duration": 262,
    "start_time": "2022-06-17T09:23:27.851Z"
   },
   {
    "duration": 114,
    "start_time": "2022-06-17T09:23:30.499Z"
   },
   {
    "duration": 127,
    "start_time": "2022-06-17T09:24:36.130Z"
   },
   {
    "duration": 31,
    "start_time": "2022-06-17T09:24:38.122Z"
   },
   {
    "duration": 28,
    "start_time": "2022-06-17T09:24:39.137Z"
   },
   {
    "duration": 23,
    "start_time": "2022-06-17T09:24:40.218Z"
   },
   {
    "duration": 18,
    "start_time": "2022-06-17T09:24:48.963Z"
   },
   {
    "duration": 37,
    "start_time": "2022-06-17T09:24:51.666Z"
   },
   {
    "duration": 27,
    "start_time": "2022-06-17T09:24:55.714Z"
   },
   {
    "duration": 15,
    "start_time": "2022-06-17T09:24:59.306Z"
   },
   {
    "duration": 27,
    "start_time": "2022-06-17T09:25:01.714Z"
   },
   {
    "duration": 28,
    "start_time": "2022-06-17T09:25:02.569Z"
   },
   {
    "duration": 23,
    "start_time": "2022-06-17T09:25:05.315Z"
   },
   {
    "duration": 24,
    "start_time": "2022-06-17T09:25:15.266Z"
   },
   {
    "duration": 26,
    "start_time": "2022-06-17T09:25:23.546Z"
   },
   {
    "duration": 31,
    "start_time": "2022-06-17T09:25:49.997Z"
   },
   {
    "duration": 28,
    "start_time": "2022-06-17T09:26:00.402Z"
   },
   {
    "duration": 32,
    "start_time": "2022-06-17T09:26:07.114Z"
   },
   {
    "duration": 4,
    "start_time": "2022-06-17T09:26:07.809Z"
   },
   {
    "duration": 20,
    "start_time": "2022-06-17T09:26:10.385Z"
   },
   {
    "duration": 11,
    "start_time": "2022-06-17T09:26:11.457Z"
   },
   {
    "duration": 799,
    "start_time": "2022-06-17T09:26:28.697Z"
   },
   {
    "duration": 3,
    "start_time": "2022-06-17T09:26:29.817Z"
   },
   {
    "duration": 3,
    "start_time": "2022-06-17T09:26:30.585Z"
   },
   {
    "duration": 208,
    "start_time": "2022-06-17T09:26:31.241Z"
   },
   {
    "duration": 128,
    "start_time": "2022-06-17T09:26:31.969Z"
   },
   {
    "duration": 631,
    "start_time": "2022-06-17T09:26:34.081Z"
   },
   {
    "duration": 3,
    "start_time": "2022-06-17T09:26:34.842Z"
   },
   {
    "duration": 23111,
    "start_time": "2022-06-17T09:26:50.817Z"
   },
   {
    "duration": 132,
    "start_time": "2022-06-17T09:27:35.098Z"
   },
   {
    "duration": 4,
    "start_time": "2022-06-17T09:27:37.585Z"
   },
   {
    "duration": 783,
    "start_time": "2022-06-17T09:27:52.865Z"
   },
   {
    "duration": 77,
    "start_time": "2022-06-17T09:27:56.217Z"
   },
   {
    "duration": 94,
    "start_time": "2022-06-17T09:28:00.241Z"
   },
   {
    "duration": 84948,
    "start_time": "2022-06-17T09:28:05.401Z"
   },
   {
    "duration": 96,
    "start_time": "2022-06-17T09:29:30.351Z"
   },
   {
    "duration": 81,
    "start_time": "2022-06-17T09:29:35.577Z"
   },
   {
    "duration": 60796,
    "start_time": "2022-06-17T09:29:36.640Z"
   },
   {
    "duration": 2799,
    "start_time": "2022-06-17T09:30:54.905Z"
   },
   {
    "duration": 2267,
    "start_time": "2022-06-17T09:31:02.969Z"
   },
   {
    "duration": 5,
    "start_time": "2022-06-17T09:31:14.696Z"
   },
   {
    "duration": 1179,
    "start_time": "2022-06-17T09:37:30.354Z"
   },
   {
    "duration": 1243,
    "start_time": "2022-06-17T09:37:31.535Z"
   },
   {
    "duration": 24,
    "start_time": "2022-06-17T09:37:32.780Z"
   },
   {
    "duration": 142,
    "start_time": "2022-06-17T09:37:32.807Z"
   },
   {
    "duration": 2,
    "start_time": "2022-06-17T09:37:32.951Z"
   },
   {
    "duration": 7,
    "start_time": "2022-06-17T09:37:32.955Z"
   },
   {
    "duration": 34,
    "start_time": "2022-06-17T09:37:32.964Z"
   },
   {
    "duration": 275,
    "start_time": "2022-06-17T09:37:33.000Z"
   },
   {
    "duration": 296,
    "start_time": "2022-06-17T09:37:33.277Z"
   },
   {
    "duration": 143,
    "start_time": "2022-06-17T09:37:33.578Z"
   },
   {
    "duration": 169,
    "start_time": "2022-06-17T09:37:33.722Z"
   },
   {
    "duration": 20,
    "start_time": "2022-06-17T09:37:33.892Z"
   },
   {
    "duration": 28,
    "start_time": "2022-06-17T09:37:33.925Z"
   },
   {
    "duration": 18,
    "start_time": "2022-06-17T09:37:33.955Z"
   },
   {
    "duration": 57,
    "start_time": "2022-06-17T09:37:33.975Z"
   },
   {
    "duration": 24,
    "start_time": "2022-06-17T09:37:34.034Z"
   },
   {
    "duration": 28,
    "start_time": "2022-06-17T09:37:34.059Z"
   },
   {
    "duration": 4,
    "start_time": "2022-06-17T09:37:34.089Z"
   },
   {
    "duration": 49,
    "start_time": "2022-06-17T09:37:34.095Z"
   },
   {
    "duration": 12,
    "start_time": "2022-06-17T09:37:34.146Z"
   },
   {
    "duration": 1172,
    "start_time": "2022-06-17T09:37:34.160Z"
   },
   {
    "duration": 3,
    "start_time": "2022-06-17T09:37:35.333Z"
   },
   {
    "duration": 14,
    "start_time": "2022-06-17T09:37:35.338Z"
   },
   {
    "duration": 218,
    "start_time": "2022-06-17T09:37:35.354Z"
   },
   {
    "duration": 134,
    "start_time": "2022-06-17T09:37:35.574Z"
   },
   {
    "duration": 604,
    "start_time": "2022-06-17T09:37:35.710Z"
   },
   {
    "duration": 9,
    "start_time": "2022-06-17T09:37:36.316Z"
   },
   {
    "duration": 19605,
    "start_time": "2022-06-17T09:37:36.329Z"
   },
   {
    "duration": 196,
    "start_time": "2022-06-17T09:37:55.935Z"
   },
   {
    "duration": 6,
    "start_time": "2022-06-17T09:37:56.226Z"
   },
   {
    "duration": 833,
    "start_time": "2022-06-17T09:37:56.233Z"
   },
   {
    "duration": 80,
    "start_time": "2022-06-17T09:37:57.068Z"
   },
   {
    "duration": 273,
    "start_time": "2022-06-17T09:37:57.150Z"
   },
   {
    "duration": 1254,
    "start_time": "2022-06-17T09:43:44.114Z"
   },
   {
    "duration": 895,
    "start_time": "2022-06-17T09:43:45.370Z"
   },
   {
    "duration": 20,
    "start_time": "2022-06-17T09:43:46.267Z"
   },
   {
    "duration": 160,
    "start_time": "2022-06-17T09:43:46.289Z"
   },
   {
    "duration": 3,
    "start_time": "2022-06-17T09:43:46.451Z"
   },
   {
    "duration": 8,
    "start_time": "2022-06-17T09:43:46.456Z"
   },
   {
    "duration": 33,
    "start_time": "2022-06-17T09:43:46.537Z"
   },
   {
    "duration": 246,
    "start_time": "2022-06-17T09:43:46.833Z"
   },
   {
    "duration": 276,
    "start_time": "2022-06-17T09:43:47.081Z"
   },
   {
    "duration": 138,
    "start_time": "2022-06-17T09:43:47.359Z"
   },
   {
    "duration": 134,
    "start_time": "2022-06-17T09:43:47.672Z"
   },
   {
    "duration": 20,
    "start_time": "2022-06-17T09:43:47.834Z"
   },
   {
    "duration": 32,
    "start_time": "2022-06-17T09:43:48.033Z"
   },
   {
    "duration": 17,
    "start_time": "2022-06-17T09:43:48.297Z"
   },
   {
    "duration": 37,
    "start_time": "2022-06-17T09:43:48.681Z"
   },
   {
    "duration": 23,
    "start_time": "2022-06-17T09:43:49.058Z"
   },
   {
    "duration": 27,
    "start_time": "2022-06-17T09:43:49.449Z"
   },
   {
    "duration": 4,
    "start_time": "2022-06-17T09:43:49.816Z"
   },
   {
    "duration": 20,
    "start_time": "2022-06-17T09:43:50.174Z"
   },
   {
    "duration": 13,
    "start_time": "2022-06-17T09:43:50.547Z"
   },
   {
    "duration": 1009,
    "start_time": "2022-06-17T09:43:52.738Z"
   },
   {
    "duration": 3,
    "start_time": "2022-06-17T09:43:53.749Z"
   },
   {
    "duration": 3,
    "start_time": "2022-06-17T09:43:53.818Z"
   },
   {
    "duration": 219,
    "start_time": "2022-06-17T09:43:54.269Z"
   },
   {
    "duration": 124,
    "start_time": "2022-06-17T09:43:54.650Z"
   },
   {
    "duration": 574,
    "start_time": "2022-06-17T09:43:55.049Z"
   },
   {
    "duration": 4,
    "start_time": "2022-06-17T09:43:55.626Z"
   },
   {
    "duration": 18930,
    "start_time": "2022-06-17T09:43:57.698Z"
   },
   {
    "duration": 200,
    "start_time": "2022-06-17T09:44:16.630Z"
   },
   {
    "duration": 95,
    "start_time": "2022-06-17T09:44:16.832Z"
   },
   {
    "duration": 761,
    "start_time": "2022-06-17T09:44:21.738Z"
   },
   {
    "duration": 74,
    "start_time": "2022-06-17T09:44:22.502Z"
   },
   {
    "duration": 256,
    "start_time": "2022-06-17T09:44:23.042Z"
   },
   {
    "duration": 268829,
    "start_time": "2022-06-17T09:44:24.129Z"
   },
   {
    "duration": 1172,
    "start_time": "2022-06-17T09:49:25.398Z"
   },
   {
    "duration": 875,
    "start_time": "2022-06-17T09:49:26.572Z"
   },
   {
    "duration": 22,
    "start_time": "2022-06-17T09:49:27.449Z"
   },
   {
    "duration": 241,
    "start_time": "2022-06-17T09:49:27.474Z"
   },
   {
    "duration": 9,
    "start_time": "2022-06-17T09:49:27.717Z"
   },
   {
    "duration": 20,
    "start_time": "2022-06-17T09:49:27.728Z"
   },
   {
    "duration": 53,
    "start_time": "2022-06-17T09:49:27.750Z"
   },
   {
    "duration": 267,
    "start_time": "2022-06-17T09:49:27.805Z"
   },
   {
    "duration": 303,
    "start_time": "2022-06-17T09:49:28.074Z"
   },
   {
    "duration": 148,
    "start_time": "2022-06-17T09:49:28.380Z"
   },
   {
    "duration": 152,
    "start_time": "2022-06-17T09:49:28.530Z"
   },
   {
    "duration": 22,
    "start_time": "2022-06-17T09:49:28.684Z"
   },
   {
    "duration": 41,
    "start_time": "2022-06-17T09:49:28.707Z"
   },
   {
    "duration": 18,
    "start_time": "2022-06-17T09:49:28.750Z"
   },
   {
    "duration": 35,
    "start_time": "2022-06-17T09:49:28.770Z"
   },
   {
    "duration": 23,
    "start_time": "2022-06-17T09:49:28.825Z"
   },
   {
    "duration": 27,
    "start_time": "2022-06-17T09:49:28.850Z"
   },
   {
    "duration": 4,
    "start_time": "2022-06-17T09:49:28.879Z"
   },
   {
    "duration": 42,
    "start_time": "2022-06-17T09:49:28.884Z"
   },
   {
    "duration": 12,
    "start_time": "2022-06-17T09:49:28.928Z"
   },
   {
    "duration": 855,
    "start_time": "2022-06-17T09:49:28.941Z"
   },
   {
    "duration": 3,
    "start_time": "2022-06-17T09:49:29.798Z"
   },
   {
    "duration": 15,
    "start_time": "2022-06-17T09:49:29.802Z"
   },
   {
    "duration": 247,
    "start_time": "2022-06-17T09:49:29.818Z"
   },
   {
    "duration": 138,
    "start_time": "2022-06-17T09:49:30.068Z"
   },
   {
    "duration": 645,
    "start_time": "2022-06-17T09:49:30.207Z"
   },
   {
    "duration": 5,
    "start_time": "2022-06-17T09:49:30.854Z"
   },
   {
    "duration": 21064,
    "start_time": "2022-06-17T09:49:30.864Z"
   },
   {
    "duration": 197,
    "start_time": "2022-06-17T09:49:51.930Z"
   },
   {
    "duration": 4,
    "start_time": "2022-06-17T09:49:52.227Z"
   },
   {
    "duration": 843,
    "start_time": "2022-06-17T09:49:52.233Z"
   },
   {
    "duration": 78,
    "start_time": "2022-06-17T09:49:53.077Z"
   },
   {
    "duration": 114,
    "start_time": "2022-06-17T09:49:53.157Z"
   },
   {
    "duration": 84693,
    "start_time": "2022-06-17T09:49:53.272Z"
   },
   {
    "duration": 3231,
    "start_time": "2022-06-17T09:51:17.966Z"
   },
   {
    "duration": 5,
    "start_time": "2022-06-17T09:51:21.199Z"
   },
   {
    "duration": 88434,
    "start_time": "2022-06-17T09:51:21.205Z"
   },
   {
    "duration": 0,
    "start_time": "2022-06-17T09:52:49.641Z"
   },
   {
    "duration": 0,
    "start_time": "2022-06-17T09:52:49.642Z"
   },
   {
    "duration": 0,
    "start_time": "2022-06-17T09:52:49.643Z"
   },
   {
    "duration": 0,
    "start_time": "2022-06-17T09:52:49.644Z"
   },
   {
    "duration": 0,
    "start_time": "2022-06-17T09:52:49.646Z"
   },
   {
    "duration": 0,
    "start_time": "2022-06-17T09:52:49.647Z"
   },
   {
    "duration": 0,
    "start_time": "2022-06-17T09:52:49.648Z"
   },
   {
    "duration": 0,
    "start_time": "2022-06-17T09:52:49.649Z"
   },
   {
    "duration": 3376,
    "start_time": "2022-06-17T09:53:25.704Z"
   },
   {
    "duration": 6,
    "start_time": "2022-06-17T09:53:32.208Z"
   },
   {
    "duration": 87541,
    "start_time": "2022-06-17T09:53:39.130Z"
   },
   {
    "duration": 271625,
    "start_time": "2022-06-17T09:55:13.769Z"
   },
   {
    "duration": 3,
    "start_time": "2022-06-17T10:01:06.372Z"
   },
   {
    "duration": 4,
    "start_time": "2022-06-17T10:01:09.462Z"
   },
   {
    "duration": 4977,
    "start_time": "2022-06-17T10:01:13.454Z"
   },
   {
    "duration": 220,
    "start_time": "2022-06-17T10:01:29.200Z"
   },
   {
    "duration": 89,
    "start_time": "2022-06-17T10:01:35.840Z"
   },
   {
    "duration": 6,
    "start_time": "2022-06-17T10:01:43.535Z"
   },
   {
    "duration": 48,
    "start_time": "2022-06-17T10:05:24.920Z"
   },
   {
    "duration": 1142,
    "start_time": "2022-06-17T10:05:35.047Z"
   },
   {
    "duration": 1142,
    "start_time": "2022-06-17T10:05:36.191Z"
   },
   {
    "duration": 21,
    "start_time": "2022-06-17T10:05:37.335Z"
   },
   {
    "duration": 141,
    "start_time": "2022-06-17T10:05:37.358Z"
   },
   {
    "duration": 4,
    "start_time": "2022-06-17T10:05:37.501Z"
   },
   {
    "duration": 21,
    "start_time": "2022-06-17T10:05:37.507Z"
   },
   {
    "duration": 34,
    "start_time": "2022-06-17T10:05:37.530Z"
   },
   {
    "duration": 260,
    "start_time": "2022-06-17T10:05:37.566Z"
   },
   {
    "duration": 277,
    "start_time": "2022-06-17T10:05:37.828Z"
   },
   {
    "duration": 121,
    "start_time": "2022-06-17T10:05:38.107Z"
   },
   {
    "duration": 151,
    "start_time": "2022-06-17T10:05:38.230Z"
   },
   {
    "duration": 18,
    "start_time": "2022-06-17T10:05:38.383Z"
   },
   {
    "duration": 41,
    "start_time": "2022-06-17T10:05:38.403Z"
   },
   {
    "duration": 17,
    "start_time": "2022-06-17T10:05:38.447Z"
   },
   {
    "duration": 36,
    "start_time": "2022-06-17T10:05:38.465Z"
   },
   {
    "duration": 44,
    "start_time": "2022-06-17T10:05:38.502Z"
   },
   {
    "duration": 27,
    "start_time": "2022-06-17T10:05:38.548Z"
   },
   {
    "duration": 4,
    "start_time": "2022-06-17T10:05:38.577Z"
   },
   {
    "duration": 44,
    "start_time": "2022-06-17T10:05:38.582Z"
   },
   {
    "duration": 12,
    "start_time": "2022-06-17T10:05:38.628Z"
   },
   {
    "duration": 889,
    "start_time": "2022-06-17T10:05:38.641Z"
   },
   {
    "duration": 3,
    "start_time": "2022-06-17T10:05:39.531Z"
   },
   {
    "duration": 15,
    "start_time": "2022-06-17T10:05:39.535Z"
   },
   {
    "duration": 218,
    "start_time": "2022-06-17T10:05:39.552Z"
   },
   {
    "duration": 130,
    "start_time": "2022-06-17T10:05:39.772Z"
   },
   {
    "duration": 587,
    "start_time": "2022-06-17T10:05:39.904Z"
   },
   {
    "duration": 5,
    "start_time": "2022-06-17T10:05:40.493Z"
   },
   {
    "duration": 37728,
    "start_time": "2022-06-17T10:05:40.500Z"
   },
   {
    "duration": 200,
    "start_time": "2022-06-17T10:06:18.229Z"
   },
   {
    "duration": 7,
    "start_time": "2022-06-17T10:06:18.432Z"
   },
   {
    "duration": 824,
    "start_time": "2022-06-17T10:06:18.527Z"
   },
   {
    "duration": 92,
    "start_time": "2022-06-17T10:06:19.354Z"
   },
   {
    "duration": 108,
    "start_time": "2022-06-17T10:06:19.448Z"
   },
   {
    "duration": 88366,
    "start_time": "2022-06-17T10:06:19.558Z"
   },
   {
    "duration": 3367,
    "start_time": "2022-06-17T10:07:47.926Z"
   },
   {
    "duration": 5,
    "start_time": "2022-06-17T10:07:51.296Z"
   },
   {
    "duration": 268802,
    "start_time": "2022-06-17T10:07:51.303Z"
   },
   {
    "duration": 4,
    "start_time": "2022-06-17T10:12:20.107Z"
   },
   {
    "duration": 31,
    "start_time": "2022-06-17T10:12:20.112Z"
   },
   {
    "duration": 13392,
    "start_time": "2022-06-17T10:12:20.145Z"
   },
   {
    "duration": 106,
    "start_time": "2022-06-17T10:12:33.625Z"
   },
   {
    "duration": 8,
    "start_time": "2022-06-17T10:12:33.733Z"
   },
   {
    "duration": 7488,
    "start_time": "2022-06-17T10:12:33.743Z"
   },
   {
    "duration": 5,
    "start_time": "2022-06-17T10:12:41.233Z"
   },
   {
    "duration": 20,
    "start_time": "2022-06-17T10:12:41.240Z"
   },
   {
    "duration": 158,
    "start_time": "2022-06-17T10:13:45.969Z"
   },
   {
    "duration": 6,
    "start_time": "2022-06-17T10:16:39.059Z"
   },
   {
    "duration": 11,
    "start_time": "2022-06-17T10:16:40.621Z"
   }
  ],
  "kernelspec": {
   "display_name": "Python 3 (ipykernel)",
   "language": "python",
   "name": "python3"
  },
  "language_info": {
   "codemirror_mode": {
    "name": "ipython",
    "version": 3
   },
   "file_extension": ".py",
   "mimetype": "text/x-python",
   "name": "python",
   "nbconvert_exporter": "python",
   "pygments_lexer": "ipython3",
   "version": "3.9.7"
  },
  "toc": {
   "base_numbering": 1,
   "nav_menu": {},
   "number_sections": true,
   "sideBar": true,
   "skip_h1_title": true,
   "title_cell": "Table of Contents",
   "title_sidebar": "Contents",
   "toc_cell": false,
   "toc_position": {},
   "toc_section_display": true,
   "toc_window_display": false
  }
 },
 "nbformat": 4,
 "nbformat_minor": 2
}
