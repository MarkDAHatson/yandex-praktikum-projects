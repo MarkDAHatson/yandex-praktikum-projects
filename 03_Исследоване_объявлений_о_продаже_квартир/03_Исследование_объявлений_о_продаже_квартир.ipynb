{
 "cells": [
  {
   "cell_type": "markdown",
   "metadata": {
    "toc": true
   },
   "source": [
    "<h1>Содержание<span class=\"tocSkip\"></span></h1>\n",
    "<div class=\"toc\"><ul class=\"toc-item\"><li><span><a href=\"#Изучение-данных-из-файла\" data-toc-modified-id=\"Изучение-данных-из-файла-1\"><span class=\"toc-item-num\">1&nbsp;&nbsp;</span>Изучение данных из файла</a></span><ul class=\"toc-item\"><li><span><a href=\"#Вывод\" data-toc-modified-id=\"Вывод-1.1\"><span class=\"toc-item-num\">1.1&nbsp;&nbsp;</span>Вывод</a></span></li></ul></li><li><span><a href=\"#Предобработка-данных\" data-toc-modified-id=\"Предобработка-данных-2\"><span class=\"toc-item-num\">2&nbsp;&nbsp;</span>Предобработка данных</a></span><ul class=\"toc-item\"><li><span><a href=\"#Обработка-пропусков\" data-toc-modified-id=\"Обработка-пропусков-2.1\"><span class=\"toc-item-num\">2.1&nbsp;&nbsp;</span>Обработка пропусков</a></span></li><li><span><a href=\"#Замена-типа-данных\" data-toc-modified-id=\"Замена-типа-данных-2.2\"><span class=\"toc-item-num\">2.2&nbsp;&nbsp;</span>Замена типа данных</a></span></li><li><span><a href=\"#Обработка-дубликатов\" data-toc-modified-id=\"Обработка-дубликатов-2.3\"><span class=\"toc-item-num\">2.3&nbsp;&nbsp;</span>Обработка дубликатов</a></span></li><li><span><a href=\"#Вывод\" data-toc-modified-id=\"Вывод-2.4\"><span class=\"toc-item-num\">2.4&nbsp;&nbsp;</span>Вывод</a></span></li></ul></li><li><span><a href=\"#Расчёты-и-добавление-результатов-в-таблицу\" data-toc-modified-id=\"Расчёты-и-добавление-результатов-в-таблицу-3\"><span class=\"toc-item-num\">3&nbsp;&nbsp;</span>Расчёты и добавление результатов в таблицу</a></span><ul class=\"toc-item\"><li><span><a href=\"#Вывод\" data-toc-modified-id=\"Вывод-3.1\"><span class=\"toc-item-num\">3.1&nbsp;&nbsp;</span>Вывод</a></span></li></ul></li><li><span><a href=\"#Исследовательский-анализ-данных\" data-toc-modified-id=\"Исследовательский-анализ-данных-4\"><span class=\"toc-item-num\">4&nbsp;&nbsp;</span>Исследовательский анализ данных</a></span><ul class=\"toc-item\"><li><span><a href=\"#Изучение-площади,-цены,-числа-комнат-и-высоты-потолков\" data-toc-modified-id=\"Изучение-площади,-цены,-числа-комнат-и-высоты-потолков-4.1\"><span class=\"toc-item-num\">4.1&nbsp;&nbsp;</span>Изучение площади, цены, числа комнат и высоты потолков</a></span></li><li><span><a href=\"#Изучение-времени-продажи-квартиры\" data-toc-modified-id=\"Изучение-времени-продажи-квартиры-4.2\"><span class=\"toc-item-num\">4.2&nbsp;&nbsp;</span>Изучение времени продажи квартиры</a></span></li><li><span><a href=\"#Удаление-выбросов-из-данных\" data-toc-modified-id=\"Удаление-выбросов-из-данных-4.3\"><span class=\"toc-item-num\">4.3&nbsp;&nbsp;</span>Удаление выбросов из данных</a></span></li><li><span><a href=\"#Факторы,-влияющие-на-стоимость-квартиры\" data-toc-modified-id=\"Факторы,-влияющие-на-стоимость-квартиры-4.4\"><span class=\"toc-item-num\">4.4&nbsp;&nbsp;</span>Факторы, влияющие на стоимость квартиры</a></span></li><li><span><a href=\"#Изучение-предложения-квартир\" data-toc-modified-id=\"Изучение-предложения-квартир-4.5\"><span class=\"toc-item-num\">4.5&nbsp;&nbsp;</span>Изучение предложения квартир</a></span></li><li><span><a href=\"#Выделение-сегмента-квартир-в-центре\" data-toc-modified-id=\"Выделение-сегмента-квартир-в-центре-4.6\"><span class=\"toc-item-num\">4.6&nbsp;&nbsp;</span>Выделение сегмента квартир в центре</a></span></li><li><span><a href=\"#Вывод\" data-toc-modified-id=\"Вывод-4.7\"><span class=\"toc-item-num\">4.7&nbsp;&nbsp;</span>Вывод</a></span></li><li><span><a href=\"#Сравнение-центра-Санкт-Петербурга-с-остальным-городом\" data-toc-modified-id=\"Сравнение-центра-Санкт-Петербурга-с-остальным-городом-4.8\"><span class=\"toc-item-num\">4.8&nbsp;&nbsp;</span>Сравнение центра Санкт-Петербурга с остальным городом</a></span></li></ul></li><li><span><a href=\"#Общий-вывод\" data-toc-modified-id=\"Общий-вывод-5\"><span class=\"toc-item-num\">5&nbsp;&nbsp;</span>Общий вывод</a></span></li><li><span><a href=\"#Чек-лист-готовности-проекта\" data-toc-modified-id=\"Чек-лист-готовности-проекта-6\"><span class=\"toc-item-num\">6&nbsp;&nbsp;</span>Чек-лист готовности проекта</a></span></li></ul></div>"
   ]
  },
  {
   "cell_type": "markdown",
   "metadata": {},
   "source": [
    "# Исследование объявлений о продаже квартир\n",
    "\n",
    "В нашем распоряжении данные сервиса Яндекс.Недвижимость — архив объявлений о продаже квартир в Санкт-Петербурге и соседних населённых пунктах за несколько лет. Нужно научиться определять рыночную стоимость объектов недвижимости. Ваша задача — установить параметры. Это позволит построить автоматизированную систему: она отследит аномалии и мошенническую деятельность. \n",
    "\n",
    "По каждой квартире на продажу доступны два вида данных. Первые вписаны пользователем, вторые получены автоматически на основе картографических данных. Например, расстояние до центра, аэропорта, ближайшего парка и водоёма. \n",
    "\n",
    "**Цель исследования**: установить параметры для определения рыночной стоимости объектов недвижимости\n",
    "\n",
    "**Ход исследования**:\n",
    "\n",
    "Входные данные от Яндекс.Недвижимости - архив объявлений о продаже квартир в Санкт-Петербурге и соседних населённых пунктах получены из файла /datasets/real_estate_data.csv. О качестве данных ничего не известно, поэтому перед поиском параметров понадобится обзор данных.\n",
    "\n",
    "Мы проверим данные на ошибки, а затем оценим их влияние на исследование. Затем, на этапе предобработки исправим ошибки в данных, после чего перейдем к цели исследования.\n",
    "\n",
    "Таким образом, исследование пройдёт в три этапа:\n",
    "\n",
    "1. Обзор данных.\n",
    "2. Предобработка данных.\n",
    "3. Исследовательский анализ данных."
   ]
  },
  {
   "cell_type": "markdown",
   "metadata": {},
   "source": [
    "## Изучение данных из файла"
   ]
  },
  {
   "cell_type": "markdown",
   "metadata": {},
   "source": [
    "Составим первое представление об имеющихся данных. Однако, для начала, импортируем библиотеки для исследования `pandas` и модуль `pyplot` библиотеки `matplotlib`:"
   ]
  },
  {
   "cell_type": "code",
   "execution_count": 1,
   "metadata": {},
   "outputs": [],
   "source": [
    "#импортируем библиотеку pandas\n",
    "import pandas as pd\n",
    "import matplotlib.pyplot as plt"
   ]
  },
  {
   "cell_type": "markdown",
   "metadata": {},
   "source": [
    "Прочитаем файл real_estate_data.csv из папки /datasets и сохраним его в переменной `df`:"
   ]
  },
  {
   "cell_type": "code",
   "execution_count": 2,
   "metadata": {},
   "outputs": [],
   "source": [
    "#чтение файла с данными и сохранение в df\n",
    "df = pd.read_csv('/datasets/real_estate_data.csv', sep='\\t')"
   ]
  },
  {
   "cell_type": "markdown",
   "metadata": {},
   "source": [
    "Выведим на экран первые десять строк таблицы:"
   ]
  },
  {
   "cell_type": "code",
   "execution_count": 3,
   "metadata": {},
   "outputs": [
    {
     "data": {
      "text/html": [
       "<div>\n",
       "<style scoped>\n",
       "    .dataframe tbody tr th:only-of-type {\n",
       "        vertical-align: middle;\n",
       "    }\n",
       "\n",
       "    .dataframe tbody tr th {\n",
       "        vertical-align: top;\n",
       "    }\n",
       "\n",
       "    .dataframe thead th {\n",
       "        text-align: right;\n",
       "    }\n",
       "</style>\n",
       "<table border=\"1\" class=\"dataframe\">\n",
       "  <thead>\n",
       "    <tr style=\"text-align: right;\">\n",
       "      <th></th>\n",
       "      <th>total_images</th>\n",
       "      <th>last_price</th>\n",
       "      <th>total_area</th>\n",
       "      <th>first_day_exposition</th>\n",
       "      <th>rooms</th>\n",
       "      <th>ceiling_height</th>\n",
       "      <th>floors_total</th>\n",
       "      <th>living_area</th>\n",
       "      <th>floor</th>\n",
       "      <th>is_apartment</th>\n",
       "      <th>...</th>\n",
       "      <th>kitchen_area</th>\n",
       "      <th>balcony</th>\n",
       "      <th>locality_name</th>\n",
       "      <th>airports_nearest</th>\n",
       "      <th>cityCenters_nearest</th>\n",
       "      <th>parks_around3000</th>\n",
       "      <th>parks_nearest</th>\n",
       "      <th>ponds_around3000</th>\n",
       "      <th>ponds_nearest</th>\n",
       "      <th>days_exposition</th>\n",
       "    </tr>\n",
       "  </thead>\n",
       "  <tbody>\n",
       "    <tr>\n",
       "      <td>0</td>\n",
       "      <td>20</td>\n",
       "      <td>13000000.0</td>\n",
       "      <td>108.00</td>\n",
       "      <td>2019-03-07T00:00:00</td>\n",
       "      <td>3</td>\n",
       "      <td>2.70</td>\n",
       "      <td>16.0</td>\n",
       "      <td>51.00</td>\n",
       "      <td>8</td>\n",
       "      <td>NaN</td>\n",
       "      <td>...</td>\n",
       "      <td>25.00</td>\n",
       "      <td>NaN</td>\n",
       "      <td>Санкт-Петербург</td>\n",
       "      <td>18863.0</td>\n",
       "      <td>16028.0</td>\n",
       "      <td>1.0</td>\n",
       "      <td>482.0</td>\n",
       "      <td>2.0</td>\n",
       "      <td>755.0</td>\n",
       "      <td>NaN</td>\n",
       "    </tr>\n",
       "    <tr>\n",
       "      <td>1</td>\n",
       "      <td>7</td>\n",
       "      <td>3350000.0</td>\n",
       "      <td>40.40</td>\n",
       "      <td>2018-12-04T00:00:00</td>\n",
       "      <td>1</td>\n",
       "      <td>NaN</td>\n",
       "      <td>11.0</td>\n",
       "      <td>18.60</td>\n",
       "      <td>1</td>\n",
       "      <td>NaN</td>\n",
       "      <td>...</td>\n",
       "      <td>11.00</td>\n",
       "      <td>2.0</td>\n",
       "      <td>посёлок Шушары</td>\n",
       "      <td>12817.0</td>\n",
       "      <td>18603.0</td>\n",
       "      <td>0.0</td>\n",
       "      <td>NaN</td>\n",
       "      <td>0.0</td>\n",
       "      <td>NaN</td>\n",
       "      <td>81.0</td>\n",
       "    </tr>\n",
       "    <tr>\n",
       "      <td>2</td>\n",
       "      <td>10</td>\n",
       "      <td>5196000.0</td>\n",
       "      <td>56.00</td>\n",
       "      <td>2015-08-20T00:00:00</td>\n",
       "      <td>2</td>\n",
       "      <td>NaN</td>\n",
       "      <td>5.0</td>\n",
       "      <td>34.30</td>\n",
       "      <td>4</td>\n",
       "      <td>NaN</td>\n",
       "      <td>...</td>\n",
       "      <td>8.30</td>\n",
       "      <td>0.0</td>\n",
       "      <td>Санкт-Петербург</td>\n",
       "      <td>21741.0</td>\n",
       "      <td>13933.0</td>\n",
       "      <td>1.0</td>\n",
       "      <td>90.0</td>\n",
       "      <td>2.0</td>\n",
       "      <td>574.0</td>\n",
       "      <td>558.0</td>\n",
       "    </tr>\n",
       "    <tr>\n",
       "      <td>3</td>\n",
       "      <td>0</td>\n",
       "      <td>64900000.0</td>\n",
       "      <td>159.00</td>\n",
       "      <td>2015-07-24T00:00:00</td>\n",
       "      <td>3</td>\n",
       "      <td>NaN</td>\n",
       "      <td>14.0</td>\n",
       "      <td>NaN</td>\n",
       "      <td>9</td>\n",
       "      <td>NaN</td>\n",
       "      <td>...</td>\n",
       "      <td>NaN</td>\n",
       "      <td>0.0</td>\n",
       "      <td>Санкт-Петербург</td>\n",
       "      <td>28098.0</td>\n",
       "      <td>6800.0</td>\n",
       "      <td>2.0</td>\n",
       "      <td>84.0</td>\n",
       "      <td>3.0</td>\n",
       "      <td>234.0</td>\n",
       "      <td>424.0</td>\n",
       "    </tr>\n",
       "    <tr>\n",
       "      <td>4</td>\n",
       "      <td>2</td>\n",
       "      <td>10000000.0</td>\n",
       "      <td>100.00</td>\n",
       "      <td>2018-06-19T00:00:00</td>\n",
       "      <td>2</td>\n",
       "      <td>3.03</td>\n",
       "      <td>14.0</td>\n",
       "      <td>32.00</td>\n",
       "      <td>13</td>\n",
       "      <td>NaN</td>\n",
       "      <td>...</td>\n",
       "      <td>41.00</td>\n",
       "      <td>NaN</td>\n",
       "      <td>Санкт-Петербург</td>\n",
       "      <td>31856.0</td>\n",
       "      <td>8098.0</td>\n",
       "      <td>2.0</td>\n",
       "      <td>112.0</td>\n",
       "      <td>1.0</td>\n",
       "      <td>48.0</td>\n",
       "      <td>121.0</td>\n",
       "    </tr>\n",
       "    <tr>\n",
       "      <td>5</td>\n",
       "      <td>10</td>\n",
       "      <td>2890000.0</td>\n",
       "      <td>30.40</td>\n",
       "      <td>2018-09-10T00:00:00</td>\n",
       "      <td>1</td>\n",
       "      <td>NaN</td>\n",
       "      <td>12.0</td>\n",
       "      <td>14.40</td>\n",
       "      <td>5</td>\n",
       "      <td>NaN</td>\n",
       "      <td>...</td>\n",
       "      <td>9.10</td>\n",
       "      <td>NaN</td>\n",
       "      <td>городской посёлок Янино-1</td>\n",
       "      <td>NaN</td>\n",
       "      <td>NaN</td>\n",
       "      <td>NaN</td>\n",
       "      <td>NaN</td>\n",
       "      <td>NaN</td>\n",
       "      <td>NaN</td>\n",
       "      <td>55.0</td>\n",
       "    </tr>\n",
       "    <tr>\n",
       "      <td>6</td>\n",
       "      <td>6</td>\n",
       "      <td>3700000.0</td>\n",
       "      <td>37.30</td>\n",
       "      <td>2017-11-02T00:00:00</td>\n",
       "      <td>1</td>\n",
       "      <td>NaN</td>\n",
       "      <td>26.0</td>\n",
       "      <td>10.60</td>\n",
       "      <td>6</td>\n",
       "      <td>NaN</td>\n",
       "      <td>...</td>\n",
       "      <td>14.40</td>\n",
       "      <td>1.0</td>\n",
       "      <td>посёлок Парголово</td>\n",
       "      <td>52996.0</td>\n",
       "      <td>19143.0</td>\n",
       "      <td>0.0</td>\n",
       "      <td>NaN</td>\n",
       "      <td>0.0</td>\n",
       "      <td>NaN</td>\n",
       "      <td>155.0</td>\n",
       "    </tr>\n",
       "    <tr>\n",
       "      <td>7</td>\n",
       "      <td>5</td>\n",
       "      <td>7915000.0</td>\n",
       "      <td>71.60</td>\n",
       "      <td>2019-04-18T00:00:00</td>\n",
       "      <td>2</td>\n",
       "      <td>NaN</td>\n",
       "      <td>24.0</td>\n",
       "      <td>NaN</td>\n",
       "      <td>22</td>\n",
       "      <td>NaN</td>\n",
       "      <td>...</td>\n",
       "      <td>18.90</td>\n",
       "      <td>2.0</td>\n",
       "      <td>Санкт-Петербург</td>\n",
       "      <td>23982.0</td>\n",
       "      <td>11634.0</td>\n",
       "      <td>0.0</td>\n",
       "      <td>NaN</td>\n",
       "      <td>0.0</td>\n",
       "      <td>NaN</td>\n",
       "      <td>NaN</td>\n",
       "    </tr>\n",
       "    <tr>\n",
       "      <td>8</td>\n",
       "      <td>20</td>\n",
       "      <td>2900000.0</td>\n",
       "      <td>33.16</td>\n",
       "      <td>2018-05-23T00:00:00</td>\n",
       "      <td>1</td>\n",
       "      <td>NaN</td>\n",
       "      <td>27.0</td>\n",
       "      <td>15.43</td>\n",
       "      <td>26</td>\n",
       "      <td>NaN</td>\n",
       "      <td>...</td>\n",
       "      <td>8.81</td>\n",
       "      <td>NaN</td>\n",
       "      <td>посёлок Мурино</td>\n",
       "      <td>NaN</td>\n",
       "      <td>NaN</td>\n",
       "      <td>NaN</td>\n",
       "      <td>NaN</td>\n",
       "      <td>NaN</td>\n",
       "      <td>NaN</td>\n",
       "      <td>189.0</td>\n",
       "    </tr>\n",
       "    <tr>\n",
       "      <td>9</td>\n",
       "      <td>18</td>\n",
       "      <td>5400000.0</td>\n",
       "      <td>61.00</td>\n",
       "      <td>2017-02-26T00:00:00</td>\n",
       "      <td>3</td>\n",
       "      <td>2.50</td>\n",
       "      <td>9.0</td>\n",
       "      <td>43.60</td>\n",
       "      <td>7</td>\n",
       "      <td>NaN</td>\n",
       "      <td>...</td>\n",
       "      <td>6.50</td>\n",
       "      <td>2.0</td>\n",
       "      <td>Санкт-Петербург</td>\n",
       "      <td>50898.0</td>\n",
       "      <td>15008.0</td>\n",
       "      <td>0.0</td>\n",
       "      <td>NaN</td>\n",
       "      <td>0.0</td>\n",
       "      <td>NaN</td>\n",
       "      <td>289.0</td>\n",
       "    </tr>\n",
       "  </tbody>\n",
       "</table>\n",
       "<p>10 rows × 22 columns</p>\n",
       "</div>"
      ],
      "text/plain": [
       "   total_images  last_price  total_area first_day_exposition  rooms  \\\n",
       "0            20  13000000.0      108.00  2019-03-07T00:00:00      3   \n",
       "1             7   3350000.0       40.40  2018-12-04T00:00:00      1   \n",
       "2            10   5196000.0       56.00  2015-08-20T00:00:00      2   \n",
       "3             0  64900000.0      159.00  2015-07-24T00:00:00      3   \n",
       "4             2  10000000.0      100.00  2018-06-19T00:00:00      2   \n",
       "5            10   2890000.0       30.40  2018-09-10T00:00:00      1   \n",
       "6             6   3700000.0       37.30  2017-11-02T00:00:00      1   \n",
       "7             5   7915000.0       71.60  2019-04-18T00:00:00      2   \n",
       "8            20   2900000.0       33.16  2018-05-23T00:00:00      1   \n",
       "9            18   5400000.0       61.00  2017-02-26T00:00:00      3   \n",
       "\n",
       "   ceiling_height  floors_total  living_area  floor is_apartment  ...  \\\n",
       "0            2.70          16.0        51.00      8          NaN  ...   \n",
       "1             NaN          11.0        18.60      1          NaN  ...   \n",
       "2             NaN           5.0        34.30      4          NaN  ...   \n",
       "3             NaN          14.0          NaN      9          NaN  ...   \n",
       "4            3.03          14.0        32.00     13          NaN  ...   \n",
       "5             NaN          12.0        14.40      5          NaN  ...   \n",
       "6             NaN          26.0        10.60      6          NaN  ...   \n",
       "7             NaN          24.0          NaN     22          NaN  ...   \n",
       "8             NaN          27.0        15.43     26          NaN  ...   \n",
       "9            2.50           9.0        43.60      7          NaN  ...   \n",
       "\n",
       "   kitchen_area  balcony              locality_name  airports_nearest  \\\n",
       "0         25.00      NaN            Санкт-Петербург           18863.0   \n",
       "1         11.00      2.0             посёлок Шушары           12817.0   \n",
       "2          8.30      0.0            Санкт-Петербург           21741.0   \n",
       "3           NaN      0.0            Санкт-Петербург           28098.0   \n",
       "4         41.00      NaN            Санкт-Петербург           31856.0   \n",
       "5          9.10      NaN  городской посёлок Янино-1               NaN   \n",
       "6         14.40      1.0          посёлок Парголово           52996.0   \n",
       "7         18.90      2.0            Санкт-Петербург           23982.0   \n",
       "8          8.81      NaN             посёлок Мурино               NaN   \n",
       "9          6.50      2.0            Санкт-Петербург           50898.0   \n",
       "\n",
       "  cityCenters_nearest  parks_around3000  parks_nearest  ponds_around3000  \\\n",
       "0             16028.0               1.0          482.0               2.0   \n",
       "1             18603.0               0.0            NaN               0.0   \n",
       "2             13933.0               1.0           90.0               2.0   \n",
       "3              6800.0               2.0           84.0               3.0   \n",
       "4              8098.0               2.0          112.0               1.0   \n",
       "5                 NaN               NaN            NaN               NaN   \n",
       "6             19143.0               0.0            NaN               0.0   \n",
       "7             11634.0               0.0            NaN               0.0   \n",
       "8                 NaN               NaN            NaN               NaN   \n",
       "9             15008.0               0.0            NaN               0.0   \n",
       "\n",
       "   ponds_nearest  days_exposition  \n",
       "0          755.0              NaN  \n",
       "1            NaN             81.0  \n",
       "2          574.0            558.0  \n",
       "3          234.0            424.0  \n",
       "4           48.0            121.0  \n",
       "5            NaN             55.0  \n",
       "6            NaN            155.0  \n",
       "7            NaN              NaN  \n",
       "8            NaN            189.0  \n",
       "9            NaN            289.0  \n",
       "\n",
       "[10 rows x 22 columns]"
      ]
     },
     "execution_count": 3,
     "metadata": {},
     "output_type": "execute_result"
    }
   ],
   "source": [
    "# получение первых 10 строк таблицы df\n",
    "df.head(10)"
   ]
  },
  {
   "cell_type": "markdown",
   "metadata": {},
   "source": [
    "Одной командой получим общую информацию о таблице:"
   ]
  },
  {
   "cell_type": "code",
   "execution_count": 4,
   "metadata": {},
   "outputs": [
    {
     "name": "stdout",
     "output_type": "stream",
     "text": [
      "<class 'pandas.core.frame.DataFrame'>\n",
      "RangeIndex: 23699 entries, 0 to 23698\n",
      "Data columns (total 22 columns):\n",
      "total_images            23699 non-null int64\n",
      "last_price              23699 non-null float64\n",
      "total_area              23699 non-null float64\n",
      "first_day_exposition    23699 non-null object\n",
      "rooms                   23699 non-null int64\n",
      "ceiling_height          14504 non-null float64\n",
      "floors_total            23613 non-null float64\n",
      "living_area             21796 non-null float64\n",
      "floor                   23699 non-null int64\n",
      "is_apartment            2775 non-null object\n",
      "studio                  23699 non-null bool\n",
      "open_plan               23699 non-null bool\n",
      "kitchen_area            21421 non-null float64\n",
      "balcony                 12180 non-null float64\n",
      "locality_name           23650 non-null object\n",
      "airports_nearest        18157 non-null float64\n",
      "cityCenters_nearest     18180 non-null float64\n",
      "parks_around3000        18181 non-null float64\n",
      "parks_nearest           8079 non-null float64\n",
      "ponds_around3000        18181 non-null float64\n",
      "ponds_nearest           9110 non-null float64\n",
      "days_exposition         20518 non-null float64\n",
      "dtypes: bool(2), float64(14), int64(3), object(3)\n",
      "memory usage: 3.7+ MB\n"
     ]
    }
   ],
   "source": [
    "# получение общей информации о данных в таблице df\n",
    "df.info()"
   ]
  },
  {
   "cell_type": "markdown",
   "metadata": {},
   "source": [
    "Как видно, в нашей таблице 22 столбца с различным типом данных: int64, float64, object, bool. Согласно документации к данным:\n",
    "\n",
    "* `airports_nearest` — расстояние до ближайшего аэропорта в метрах (м);\n",
    "* `balcony` — число балконов;\n",
    "* `ceiling_height` — высота потолков (м);\n",
    "* `cityCenters_nearest` — расстояние до центра города (м);\n",
    "* `days_exposition` — сколько дней было размещено объявление (от публикации до снятия);\n",
    "* `first_day_exposition` — дата публикации;\n",
    "* `floor` — этаж;\n",
    "* `floors_total` — всего этажей в доме;\n",
    "* `is_apartment` — апартаменты (булев тип);\n",
    "* `kitchen_area` — площадь кухни в квадратных метрах (м²);\n",
    "* `last_price` — цена на момент снятия с публикации;\n",
    "* `living_area` — жилая площадь в квадратных метрах (м²);\n",
    "* `locality_name` — название населённого пункта;\n",
    "* `open_plan` — свободная планировка (булев тип);\n",
    "* `parks_around3000` — число парков в радиусе 3 км;\n",
    "* `parks_nearest` — расстояние до ближайшего парка (м);\n",
    "* `ponds_around3000` — число водоёмов в радиусе 3 км;\n",
    "* `ponds_nearest` — расстояние до ближайшего водоёма (м);\n",
    "* `rooms` — число комнат;\n",
    "* `studio` — квартира-студия (булев тип);\n",
    "* `total_area` — площадь квартиры в квадратных метрах (м²);\n",
    "* `total_images` — число фотографий квартиры в объявлении\n",
    "\n",
    "Количество значений в столбцах различается. Значит, в данных есть пропущенные значения."
   ]
  },
  {
   "cell_type": "markdown",
   "metadata": {},
   "source": [
    "### Вывод"
   ]
  },
  {
   "cell_type": "markdown",
   "metadata": {},
   "source": [
    "В каждой строке таблицы — данные об объекте недвижимости. В основном, переменные описывают фактические характеристики объектов, хотя есть и те, которые описывают объявление об объекте.\n",
    "\n",
    "Предварительно можно утверждать, что данных достаточно для установления параметров оценки рыночной стоимости недвижимости. С другой стороны, в данных имеются проблемы. Во многих столбцах присутствуют пропуски, которые нужно предобработать. Таких столбцов в таблице целых 14. Возможно, некоторые из пропущенных значений были сделаны специально: если у объекта нет балкона - человек не отмечал ничего вместо нуля. Другие переменные могли быть пропущены случайно, однако о характере этих пропусков подробнее поговорим на этапе обработки.\n",
    "Предварительно можно сказать, что не все столбцы имеют нужный тип данных: `first_day_exposition` представлен в формате object, хотя, судя по столбцу, должен быть в datetime. \n",
    "\n",
    "Чтобы двигаться дальше, нужно устранить проблемы в данных."
   ]
  },
  {
   "cell_type": "markdown",
   "metadata": {},
   "source": [
    "## Предобработка данных"
   ]
  },
  {
   "cell_type": "markdown",
   "metadata": {},
   "source": [
    "### Обработка пропусков"
   ]
  },
  {
   "cell_type": "markdown",
   "metadata": {},
   "source": [
    "Сначала посчитаем, сколько в таблице пропущенных значений. Для этого применим специальный метод `pandas`:"
   ]
  },
  {
   "cell_type": "code",
   "execution_count": 5,
   "metadata": {},
   "outputs": [
    {
     "data": {
      "text/plain": [
       "total_images                0\n",
       "last_price                  0\n",
       "total_area                  0\n",
       "first_day_exposition        0\n",
       "rooms                       0\n",
       "ceiling_height           9195\n",
       "floors_total               86\n",
       "living_area              1903\n",
       "floor                       0\n",
       "is_apartment            20924\n",
       "studio                      0\n",
       "open_plan                   0\n",
       "kitchen_area             2278\n",
       "balcony                 11519\n",
       "locality_name              49\n",
       "airports_nearest         5542\n",
       "cityCenters_nearest      5519\n",
       "parks_around3000         5518\n",
       "parks_nearest           15620\n",
       "ponds_around3000         5518\n",
       "ponds_nearest           14589\n",
       "days_exposition          3181\n",
       "dtype: int64"
      ]
     },
     "execution_count": 5,
     "metadata": {},
     "output_type": "execute_result"
    }
   ],
   "source": [
    "#находим суммарное значение пропусков по столбцам таблицы\n",
    "df.isna().sum()"
   ]
  },
  {
   "cell_type": "markdown",
   "metadata": {},
   "source": [
    "Действительно, пропусков очень много. Начнем заполнять те пропуски, в которых сомнений нет. Например, в столбце `is_apartment` может быть 2 варианта: либо объект - апартаменты, либо нет. Значит, для всех пропусков мы можем смело ставить нули. То же самое можем сказать про следующие столбцы: `balcony`, `parks_around3000`, `ponds_around3000`. В переменной `days_exposition` хранится количество дней с начала объявления, но если там пропуск, скорее всего, там должно быть нулевое значение. Заполним пропуски в этих столбцах:"
   ]
  },
  {
   "cell_type": "code",
   "execution_count": 6,
   "metadata": {},
   "outputs": [],
   "source": [
    "#заполняем пропуски в столбцах нулями\n",
    "df['is_aparment'] = df['is_apartment'].fillna(0)\n",
    "df['balcony'] = df['balcony'].fillna(0)\n",
    "df['parks_around3000'] = df['parks_around3000'].fillna(0)\n",
    "df['ponds_around3000'] = df['ponds_around3000'].fillna(0)\n",
    "df['days_exposition'] = df['days_exposition'].fillna(0)"
   ]
  },
  {
   "cell_type": "markdown",
   "metadata": {},
   "source": [
    "Проверим результаты первого устранения пропусков:"
   ]
  },
  {
   "cell_type": "code",
   "execution_count": 7,
   "metadata": {},
   "outputs": [
    {
     "data": {
      "text/plain": [
       "total_images                0\n",
       "last_price                  0\n",
       "total_area                  0\n",
       "first_day_exposition        0\n",
       "rooms                       0\n",
       "ceiling_height           9195\n",
       "floors_total               86\n",
       "living_area              1903\n",
       "floor                       0\n",
       "is_apartment            20924\n",
       "studio                      0\n",
       "open_plan                   0\n",
       "kitchen_area             2278\n",
       "balcony                     0\n",
       "locality_name              49\n",
       "airports_nearest         5542\n",
       "cityCenters_nearest      5519\n",
       "parks_around3000            0\n",
       "parks_nearest           15620\n",
       "ponds_around3000            0\n",
       "ponds_nearest           14589\n",
       "days_exposition             0\n",
       "is_aparment                 0\n",
       "dtype: int64"
      ]
     },
     "execution_count": 7,
     "metadata": {},
     "output_type": "execute_result"
    }
   ],
   "source": [
    "#находим суммарное количество пропусков по столбцам\n",
    "df.isna().sum()"
   ]
  },
  {
   "cell_type": "markdown",
   "metadata": {},
   "source": [
    "Пропусков стало чуть меньше, однако их всё еще довольно много. Заполним столбцы медианным значением там, где будет лучше использовать медиану вместо среднего, потому как медиана будет более устойчива к выбросам. Такую ситуацию можно увидеть в столбцах `parks_nearest` и `airports_nearest`. Найдем медианы по этим столбцам:"
   ]
  },
  {
   "cell_type": "code",
   "execution_count": 8,
   "metadata": {},
   "outputs": [],
   "source": [
    "#находим медианные значения по интересующим нам столбцам и сохраняем в переменные\n",
    "parks_nearest_median = df['parks_nearest'].median()\n",
    "airports_nearest_median = df['airports_nearest'].median()\n",
    "ponds_nearest_median = df['ponds_nearest'].median()"
   ]
  },
  {
   "cell_type": "markdown",
   "metadata": {},
   "source": [
    "Теперь заполним пропуски в этих столбцах посчитанными медианными:"
   ]
  },
  {
   "cell_type": "code",
   "execution_count": 9,
   "metadata": {},
   "outputs": [],
   "source": [
    "#заполняем пропуски в столбцах медианными значениями\n",
    "df['parks_nearest'] = df['parks_nearest'].fillna(parks_nearest_median)\n",
    "df['airports_nearest'] = df['airports_nearest'].fillna(airports_nearest_median)\n",
    "df['ponds_nearest'] = df['ponds_nearest'].fillna(ponds_nearest_median)"
   ]
  },
  {
   "cell_type": "markdown",
   "metadata": {},
   "source": [
    "Возникают некоторые вопросы по двум переменным. Стоит ли указывать средние показатели в таких важных переменных, как `living_area` и `kitchen_area`? Площади могут сильно отличаться от средних или медианы и даже один дополнительный квадратный метр может вызвать потом много проблем. Чтобы не искажать результаты наших исследований, на данном этапе заполним эти столбцы нулевыми значениями:"
   ]
  },
  {
   "cell_type": "code",
   "execution_count": 10,
   "metadata": {},
   "outputs": [],
   "source": [
    "#заполняем пропущенные значения в столбцах нулями\n",
    "df['living_area'] = df['living_area'].fillna(0)\n",
    "df['kitchen_area'] = df['kitchen_area'].fillna(0)"
   ]
  },
  {
   "cell_type": "markdown",
   "metadata": {},
   "source": [
    "Наконец, мы подошли к концу работы с пропусками. Посмотрим, что имеется на данный момент:"
   ]
  },
  {
   "cell_type": "code",
   "execution_count": 11,
   "metadata": {},
   "outputs": [
    {
     "data": {
      "text/plain": [
       "total_images                0\n",
       "last_price                  0\n",
       "total_area                  0\n",
       "first_day_exposition        0\n",
       "rooms                       0\n",
       "ceiling_height           9195\n",
       "floors_total               86\n",
       "living_area                 0\n",
       "floor                       0\n",
       "is_apartment            20924\n",
       "studio                      0\n",
       "open_plan                   0\n",
       "kitchen_area                0\n",
       "balcony                     0\n",
       "locality_name              49\n",
       "airports_nearest            0\n",
       "cityCenters_nearest      5519\n",
       "parks_around3000            0\n",
       "parks_nearest               0\n",
       "ponds_around3000            0\n",
       "ponds_nearest               0\n",
       "days_exposition             0\n",
       "is_aparment                 0\n",
       "dtype: int64"
      ]
     },
     "execution_count": 11,
     "metadata": {},
     "output_type": "execute_result"
    }
   ],
   "source": [
    "#находим суммарное количество пропусков по столбцам\n",
    "df.isna().sum()"
   ]
  },
  {
   "cell_type": "markdown",
   "metadata": {},
   "source": [
    "Переменная `is_aparment` является булевой переменной и не устранила свои пропуски после замены. Скорее всего, нам это не помешает, поэтому на данном этапе оставим это так. `ceiling_height`, `floors_total`, `cityCenters_nearest` лучше оставить с пропущенными значениями, несмотря на их количество, потому как заполнение этих столбцов может привести к сильным искажением результатов исследования. Переменная `locality_name` нуждается в заполнении `неизвестными` значениями. Сделаем это:"
   ]
  },
  {
   "cell_type": "code",
   "execution_count": 12,
   "metadata": {},
   "outputs": [],
   "source": [
    "#заполняем пропуски в столбце\n",
    "df['locality_name'] = df['locality_name'].fillna('неизвестно')"
   ]
  },
  {
   "cell_type": "markdown",
   "metadata": {},
   "source": [
    "**Вывод**\n",
    "\n",
    "Предобработка обнаружила множество пропусков в данных. В данном случае было необходимо заменить различными методами, однако некоторые переменные пришлось оставить с пропусками, чтобы не искажать результаты исследования. Без дубликов результаты исследования будут более точными, однако оставшиеся дубликаты не помешают нам на данном этапе работы. \n",
    "\n",
    "Далее можем перейти к замене типов данных."
   ]
  },
  {
   "cell_type": "markdown",
   "metadata": {},
   "source": [
    "### Замена типа данных"
   ]
  },
  {
   "cell_type": "markdown",
   "metadata": {},
   "source": [
    "Заменим некоторые типы данных для удобства работы с переменными. Нам придется сделать следующее:\n",
    "\n",
    "1. Заменить тип `airports_nearest`, `parks_nearest`, `ponds_nearest` на int\n",
    "2. Заменить тип `days_exposition`, `ponds_around3000`, `parks_around3000`, `balcony` на int\n",
    "3. Заменить тип `first_day_exposition` на datetime\n",
    "\n",
    "В первом случае нам необходимо избавиться от лишних цифр в переменной, во втором - работать только с целочисленными значениями там, где переменные должны быть целочисленными. Сначала заменим первый случай:"
   ]
  },
  {
   "cell_type": "code",
   "execution_count": 13,
   "metadata": {},
   "outputs": [],
   "source": [
    "#заменяем тип float на int там, где лишние цифры не нужны\n",
    "df['airports_nearest'] = df['airports_nearest'].astype('int')\n",
    "df['parks_nearest'] = df['parks_nearest'].astype('int')\n",
    "df['ponds_nearest'] = df['ponds_nearest'].astype('int')"
   ]
  },
  {
   "cell_type": "markdown",
   "metadata": {},
   "source": [
    "Перейдём ко второму пункту, заменив `float` на `int` там, где первого типа быть не должно:"
   ]
  },
  {
   "cell_type": "code",
   "execution_count": 14,
   "metadata": {},
   "outputs": [],
   "source": [
    "#заменяем тип float на int там, где float быть не должно\n",
    "df['days_exposition'] = df['days_exposition'].astype('int')\n",
    "df['ponds_around3000'] = df['ponds_around3000'].astype('int')\n",
    "df['parks_around3000'] = df['parks_around3000'].astype('int')\n",
    "df['balcony'] = df['balcony'].astype('int')"
   ]
  },
  {
   "cell_type": "markdown",
   "metadata": {},
   "source": [
    "Теперь заменим столбец `first_day_exposition` на `datetime`:"
   ]
  },
  {
   "cell_type": "code",
   "execution_count": 15,
   "metadata": {},
   "outputs": [],
   "source": [
    "#заменяем тип float на datetime\n",
    "df['first_day_exposition'] = pd.to_datetime(df['first_day_exposition'], format='%Y-%m-%dT%H:%M:%S')"
   ]
  },
  {
   "cell_type": "markdown",
   "metadata": {},
   "source": [
    "Взглянем на нашу таблицу после этих изменений:"
   ]
  },
  {
   "cell_type": "code",
   "execution_count": 16,
   "metadata": {},
   "outputs": [
    {
     "data": {
      "text/html": [
       "<div>\n",
       "<style scoped>\n",
       "    .dataframe tbody tr th:only-of-type {\n",
       "        vertical-align: middle;\n",
       "    }\n",
       "\n",
       "    .dataframe tbody tr th {\n",
       "        vertical-align: top;\n",
       "    }\n",
       "\n",
       "    .dataframe thead th {\n",
       "        text-align: right;\n",
       "    }\n",
       "</style>\n",
       "<table border=\"1\" class=\"dataframe\">\n",
       "  <thead>\n",
       "    <tr style=\"text-align: right;\">\n",
       "      <th></th>\n",
       "      <th>total_images</th>\n",
       "      <th>last_price</th>\n",
       "      <th>total_area</th>\n",
       "      <th>first_day_exposition</th>\n",
       "      <th>rooms</th>\n",
       "      <th>ceiling_height</th>\n",
       "      <th>floors_total</th>\n",
       "      <th>living_area</th>\n",
       "      <th>floor</th>\n",
       "      <th>is_apartment</th>\n",
       "      <th>...</th>\n",
       "      <th>balcony</th>\n",
       "      <th>locality_name</th>\n",
       "      <th>airports_nearest</th>\n",
       "      <th>cityCenters_nearest</th>\n",
       "      <th>parks_around3000</th>\n",
       "      <th>parks_nearest</th>\n",
       "      <th>ponds_around3000</th>\n",
       "      <th>ponds_nearest</th>\n",
       "      <th>days_exposition</th>\n",
       "      <th>is_aparment</th>\n",
       "    </tr>\n",
       "  </thead>\n",
       "  <tbody>\n",
       "    <tr>\n",
       "      <td>23694</td>\n",
       "      <td>9</td>\n",
       "      <td>9700000.0</td>\n",
       "      <td>133.81</td>\n",
       "      <td>2017-03-21</td>\n",
       "      <td>3</td>\n",
       "      <td>3.7</td>\n",
       "      <td>5.0</td>\n",
       "      <td>73.3</td>\n",
       "      <td>3</td>\n",
       "      <td>NaN</td>\n",
       "      <td>...</td>\n",
       "      <td>0</td>\n",
       "      <td>Санкт-Петербург</td>\n",
       "      <td>24665</td>\n",
       "      <td>4232.0</td>\n",
       "      <td>1</td>\n",
       "      <td>796</td>\n",
       "      <td>3</td>\n",
       "      <td>381</td>\n",
       "      <td>0</td>\n",
       "      <td>0</td>\n",
       "    </tr>\n",
       "    <tr>\n",
       "      <td>23695</td>\n",
       "      <td>14</td>\n",
       "      <td>3100000.0</td>\n",
       "      <td>59.00</td>\n",
       "      <td>2018-01-15</td>\n",
       "      <td>3</td>\n",
       "      <td>NaN</td>\n",
       "      <td>5.0</td>\n",
       "      <td>38.0</td>\n",
       "      <td>4</td>\n",
       "      <td>NaN</td>\n",
       "      <td>...</td>\n",
       "      <td>0</td>\n",
       "      <td>Тосно</td>\n",
       "      <td>26726</td>\n",
       "      <td>NaN</td>\n",
       "      <td>0</td>\n",
       "      <td>455</td>\n",
       "      <td>0</td>\n",
       "      <td>502</td>\n",
       "      <td>45</td>\n",
       "      <td>0</td>\n",
       "    </tr>\n",
       "    <tr>\n",
       "      <td>23696</td>\n",
       "      <td>18</td>\n",
       "      <td>2500000.0</td>\n",
       "      <td>56.70</td>\n",
       "      <td>2018-02-11</td>\n",
       "      <td>2</td>\n",
       "      <td>NaN</td>\n",
       "      <td>3.0</td>\n",
       "      <td>29.7</td>\n",
       "      <td>1</td>\n",
       "      <td>NaN</td>\n",
       "      <td>...</td>\n",
       "      <td>0</td>\n",
       "      <td>село Рождествено</td>\n",
       "      <td>26726</td>\n",
       "      <td>NaN</td>\n",
       "      <td>0</td>\n",
       "      <td>455</td>\n",
       "      <td>0</td>\n",
       "      <td>502</td>\n",
       "      <td>0</td>\n",
       "      <td>0</td>\n",
       "    </tr>\n",
       "    <tr>\n",
       "      <td>23697</td>\n",
       "      <td>13</td>\n",
       "      <td>11475000.0</td>\n",
       "      <td>76.75</td>\n",
       "      <td>2017-03-28</td>\n",
       "      <td>2</td>\n",
       "      <td>3.0</td>\n",
       "      <td>17.0</td>\n",
       "      <td>0.0</td>\n",
       "      <td>12</td>\n",
       "      <td>NaN</td>\n",
       "      <td>...</td>\n",
       "      <td>2</td>\n",
       "      <td>Санкт-Петербург</td>\n",
       "      <td>39140</td>\n",
       "      <td>10364.0</td>\n",
       "      <td>2</td>\n",
       "      <td>173</td>\n",
       "      <td>3</td>\n",
       "      <td>196</td>\n",
       "      <td>602</td>\n",
       "      <td>0</td>\n",
       "    </tr>\n",
       "    <tr>\n",
       "      <td>23698</td>\n",
       "      <td>4</td>\n",
       "      <td>1350000.0</td>\n",
       "      <td>32.30</td>\n",
       "      <td>2017-07-21</td>\n",
       "      <td>1</td>\n",
       "      <td>2.5</td>\n",
       "      <td>5.0</td>\n",
       "      <td>12.3</td>\n",
       "      <td>1</td>\n",
       "      <td>NaN</td>\n",
       "      <td>...</td>\n",
       "      <td>0</td>\n",
       "      <td>поселок Новый Учхоз</td>\n",
       "      <td>26726</td>\n",
       "      <td>NaN</td>\n",
       "      <td>0</td>\n",
       "      <td>455</td>\n",
       "      <td>0</td>\n",
       "      <td>502</td>\n",
       "      <td>0</td>\n",
       "      <td>0</td>\n",
       "    </tr>\n",
       "  </tbody>\n",
       "</table>\n",
       "<p>5 rows × 23 columns</p>\n",
       "</div>"
      ],
      "text/plain": [
       "       total_images  last_price  total_area first_day_exposition  rooms  \\\n",
       "23694             9   9700000.0      133.81           2017-03-21      3   \n",
       "23695            14   3100000.0       59.00           2018-01-15      3   \n",
       "23696            18   2500000.0       56.70           2018-02-11      2   \n",
       "23697            13  11475000.0       76.75           2017-03-28      2   \n",
       "23698             4   1350000.0       32.30           2017-07-21      1   \n",
       "\n",
       "       ceiling_height  floors_total  living_area  floor is_apartment  ...  \\\n",
       "23694             3.7           5.0         73.3      3          NaN  ...   \n",
       "23695             NaN           5.0         38.0      4          NaN  ...   \n",
       "23696             NaN           3.0         29.7      1          NaN  ...   \n",
       "23697             3.0          17.0          0.0     12          NaN  ...   \n",
       "23698             2.5           5.0         12.3      1          NaN  ...   \n",
       "\n",
       "       balcony        locality_name  airports_nearest  cityCenters_nearest  \\\n",
       "23694        0      Санкт-Петербург             24665               4232.0   \n",
       "23695        0                Тосно             26726                  NaN   \n",
       "23696        0     село Рождествено             26726                  NaN   \n",
       "23697        2      Санкт-Петербург             39140              10364.0   \n",
       "23698        0  поселок Новый Учхоз             26726                  NaN   \n",
       "\n",
       "      parks_around3000  parks_nearest  ponds_around3000  ponds_nearest  \\\n",
       "23694                1            796                 3            381   \n",
       "23695                0            455                 0            502   \n",
       "23696                0            455                 0            502   \n",
       "23697                2            173                 3            196   \n",
       "23698                0            455                 0            502   \n",
       "\n",
       "       days_exposition  is_aparment  \n",
       "23694                0            0  \n",
       "23695               45            0  \n",
       "23696                0            0  \n",
       "23697              602            0  \n",
       "23698                0            0  \n",
       "\n",
       "[5 rows x 23 columns]"
      ]
     },
     "execution_count": 16,
     "metadata": {},
     "output_type": "execute_result"
    }
   ],
   "source": [
    "#смотрим последние 5 строк таблицы\n",
    "df.tail()"
   ]
  },
  {
   "cell_type": "markdown",
   "metadata": {},
   "source": [
    "**Вывод**\n",
    "\n",
    "В ходе просмотра данных обнаружились переменные с несоответствующим им типами данных. На результаты исследования отсутствие таких исправлений никак бы не повлияло, однако следующему, кто будет работать с таблицей, будет гораздо проще в ней разбираться, не смотря на тысячные доли, поэтому для анализа лучше приводить такие переменные в соответствующий вид. Переменная первого дня объявления была в непригодном для исследования формате, поэтому оставлять ее в таком виде было недопустимо.\n",
    "\n",
    "Далее можно переходить к обработке дубликатов."
   ]
  },
  {
   "cell_type": "markdown",
   "metadata": {},
   "source": [
    "### Обработка дубликатов"
   ]
  },
  {
   "cell_type": "markdown",
   "metadata": {},
   "source": [
    "Проверим, содержит ли наша таблица явные дубликаты. Для этого применим специальный метод библиотеки `pandas`:"
   ]
  },
  {
   "cell_type": "code",
   "execution_count": 17,
   "metadata": {},
   "outputs": [
    {
     "data": {
      "text/plain": [
       "0"
      ]
     },
     "execution_count": 17,
     "metadata": {},
     "output_type": "execute_result"
    }
   ],
   "source": [
    "#подсчет явных дубликатов\n",
    "df.duplicated().sum()"
   ]
  },
  {
   "cell_type": "markdown",
   "metadata": {},
   "source": [
    "Проверим наличие неявных дубликатов. Чтобы проверить их, придётся обратиться к единственному столбцу со строковыми значениями - `locality_name`. Посмотрим, какие уникальные значения там представлены:"
   ]
  },
  {
   "cell_type": "code",
   "execution_count": 18,
   "metadata": {},
   "outputs": [
    {
     "data": {
      "text/plain": [
       "array(['Санкт-Петербург', 'посёлок Шушары', 'городской посёлок Янино-1',\n",
       "       'посёлок Парголово', 'посёлок Мурино', 'Ломоносов', 'Сертолово',\n",
       "       'Петергоф', 'Пушкин', 'деревня Кудрово', 'Коммунар', 'Колпино',\n",
       "       'поселок городского типа Красный Бор', 'Гатчина', 'поселок Мурино',\n",
       "       'деревня Фёдоровское', 'Выборг', 'Кронштадт', 'Кировск',\n",
       "       'деревня Новое Девяткино', 'посёлок Металлострой',\n",
       "       'посёлок городского типа Лебяжье',\n",
       "       'посёлок городского типа Сиверский', 'поселок Молодцово',\n",
       "       'поселок городского типа Кузьмоловский',\n",
       "       'садовое товарищество Новая Ропша', 'Павловск',\n",
       "       'деревня Пикколово', 'Всеволожск', 'Волхов', 'Кингисепп',\n",
       "       'Приозерск', 'Сестрорецк', 'деревня Куттузи', 'посёлок Аннино',\n",
       "       'поселок городского типа Ефимовский', 'посёлок Плодовое',\n",
       "       'деревня Заклинье', 'поселок Торковичи', 'поселок Первомайское',\n",
       "       'Красное Село', 'посёлок Понтонный', 'Сясьстрой', 'деревня Старая',\n",
       "       'деревня Лесколово', 'посёлок Новый Свет', 'Сланцы',\n",
       "       'село Путилово', 'Ивангород', 'Мурино', 'Шлиссельбург',\n",
       "       'Никольское', 'Зеленогорск', 'Сосновый Бор', 'поселок Новый Свет',\n",
       "       'деревня Оржицы', 'деревня Кальтино', 'Кудрово',\n",
       "       'поселок Романовка', 'посёлок Бугры', 'поселок Бугры',\n",
       "       'поселок городского типа Рощино', 'Кириши', 'Луга', 'Волосово',\n",
       "       'Отрадное', 'село Павлово', 'поселок Оредеж', 'село Копорье',\n",
       "       'посёлок городского типа Красный Бор', 'посёлок Молодёжное',\n",
       "       'Тихвин', 'посёлок Победа', 'деревня Нурма',\n",
       "       'поселок городского типа Синявино', 'Тосно',\n",
       "       'посёлок городского типа Кузьмоловский', 'посёлок Стрельна',\n",
       "       'Бокситогорск', 'посёлок Александровская', 'деревня Лопухинка',\n",
       "       'Пикалёво', 'поселок Терволово',\n",
       "       'поселок городского типа Советский', 'Подпорожье',\n",
       "       'посёлок Петровское', 'посёлок городского типа Токсово',\n",
       "       'поселок Сельцо', 'посёлок городского типа Вырица',\n",
       "       'деревня Кипень', 'деревня Келози', 'деревня Вартемяги',\n",
       "       'посёлок Тельмана', 'поселок Севастьяново',\n",
       "       'городской поселок Большая Ижора', 'неизвестно',\n",
       "       'городской посёлок Павлово', 'деревня Агалатово',\n",
       "       'посёлок Новогорелово', 'городской посёлок Лесогорский',\n",
       "       'деревня Лаголово', 'поселок Цвелодубово',\n",
       "       'поселок городского типа Рахья', 'поселок городского типа Вырица',\n",
       "       'деревня Белогорка', 'поселок Заводской',\n",
       "       'городской посёлок Новоселье', 'деревня Большие Колпаны',\n",
       "       'деревня Горбунки', 'деревня Батово', 'деревня Заневка',\n",
       "       'деревня Иссад', 'Приморск', 'городской посёлок Фёдоровское',\n",
       "       'деревня Мистолово', 'Новая Ладога', 'поселок Зимитицы',\n",
       "       'поселок Барышево', 'деревня Разметелево',\n",
       "       'поселок городского типа имени Свердлова', 'деревня Пеники',\n",
       "       'поселок Рябово', 'деревня Пудомяги', 'поселок станции Корнево',\n",
       "       'деревня Низино', 'деревня Бегуницы', 'посёлок Поляны',\n",
       "       'городской посёлок Мга', 'поселок Елизаветино',\n",
       "       'посёлок городского типа Кузнечное', 'деревня Колтуши',\n",
       "       'поселок Запорожское', 'посёлок городского типа Рощино',\n",
       "       'деревня Гостилицы', 'деревня Малое Карлино',\n",
       "       'посёлок Мичуринское', 'посёлок городского типа имени Морозова',\n",
       "       'посёлок Песочный', 'посёлок Сосново', 'деревня Аро',\n",
       "       'поселок Ильичёво', 'посёлок городского типа Тайцы',\n",
       "       'деревня Малое Верево', 'деревня Извара', 'поселок станции Вещево',\n",
       "       'село Паша', 'деревня Калитино',\n",
       "       'посёлок городского типа Ульяновка', 'деревня Чудской Бор',\n",
       "       'поселок городского типа Дубровка', 'деревня Мины',\n",
       "       'поселок Войсковицы', 'посёлок городского типа имени Свердлова',\n",
       "       'деревня Коркино', 'посёлок Ропша',\n",
       "       'поселок городского типа Приладожский', 'посёлок Щеглово',\n",
       "       'посёлок Гаврилово', 'Лодейное Поле', 'деревня Рабитицы',\n",
       "       'поселок городского типа Никольский', 'деревня Кузьмолово',\n",
       "       'деревня Малые Колпаны', 'поселок Тельмана',\n",
       "       'посёлок Петро-Славянка', 'городской посёлок Назия',\n",
       "       'посёлок Репино', 'посёлок Ильичёво', 'поселок Углово',\n",
       "       'поселок Старая Малукса', 'садовое товарищество Рахья',\n",
       "       'поселок Аннино', 'поселок Победа', 'деревня Меньково',\n",
       "       'деревня Старые Бегуницы', 'посёлок Сапёрный', 'поселок Семрино',\n",
       "       'поселок Гаврилово', 'поселок Глажево', 'поселок Кобринское',\n",
       "       'деревня Гарболово', 'деревня Юкки',\n",
       "       'поселок станции Приветнинское', 'деревня Мануйлово',\n",
       "       'деревня Пчева', 'поселок Поляны', 'поселок Цвылёво',\n",
       "       'поселок Мельниково', 'посёлок Пудость', 'посёлок Усть-Луга',\n",
       "       'Светогорск', 'Любань', 'поселок Селезнёво',\n",
       "       'поселок городского типа Рябово', 'Каменногорск', 'деревня Кривко',\n",
       "       'поселок Глебычево', 'деревня Парицы', 'поселок Жилпосёлок',\n",
       "       'посёлок городского типа Мга', 'городской поселок Янино-1',\n",
       "       'посёлок Войскорово', 'село Никольское', 'посёлок Терволово',\n",
       "       'поселок Стеклянный', 'посёлок городского типа Важины',\n",
       "       'посёлок Мыза-Ивановка', 'село Русско-Высоцкое',\n",
       "       'поселок городского типа Лебяжье',\n",
       "       'поселок городского типа Форносово', 'село Старая Ладога',\n",
       "       'поселок Житково', 'городской посёлок Виллози', 'деревня Лампово',\n",
       "       'деревня Шпаньково', 'деревня Лаврики', 'посёлок Сумино',\n",
       "       'посёлок Возрождение', 'деревня Старосиверская',\n",
       "       'посёлок Кикерино', 'поселок Возрождение',\n",
       "       'деревня Старое Хинколово', 'посёлок Пригородный',\n",
       "       'посёлок Торфяное', 'городской посёлок Будогощь',\n",
       "       'поселок Суходолье', 'поселок Красная Долина', 'деревня Хапо-Ое',\n",
       "       'поселок городского типа Дружная Горка', 'поселок Лисий Нос',\n",
       "       'деревня Яльгелево', 'посёлок Стеклянный', 'село Рождествено',\n",
       "       'деревня Старополье', 'посёлок Левашово', 'деревня Сяськелево',\n",
       "       'деревня Камышовка',\n",
       "       'садоводческое некоммерческое товарищество Лесная Поляна',\n",
       "       'деревня Хязельки', 'поселок Жилгородок',\n",
       "       'посёлок городского типа Павлово', 'деревня Ялгино',\n",
       "       'поселок Новый Учхоз', 'городской посёлок Рощино',\n",
       "       'поселок Гончарово', 'поселок Почап', 'посёлок Сапёрное',\n",
       "       'посёлок Платформа 69-й километр', 'поселок Каложицы',\n",
       "       'деревня Фалилеево', 'деревня Пельгора',\n",
       "       'поселок городского типа Лесогорский', 'деревня Торошковичи',\n",
       "       'посёлок Белоостров', 'посёлок Алексеевка', 'поселок Серебрянский',\n",
       "       'поселок Лукаши', 'поселок Петровское', 'деревня Щеглово',\n",
       "       'поселок Мичуринское', 'деревня Тарасово', 'поселок Кингисеппский',\n",
       "       'посёлок при железнодорожной станции Вещево', 'поселок Ушаки',\n",
       "       'деревня Котлы', 'деревня Сижно', 'деревня Торосово',\n",
       "       'посёлок Форт Красная Горка', 'поселок городского типа Токсово',\n",
       "       'деревня Новолисино', 'посёлок станции Громово', 'деревня Глинка',\n",
       "       'посёлок Мельниково', 'поселок городского типа Назия',\n",
       "       'деревня Старая Пустошь', 'поселок Коммунары', 'поселок Починок',\n",
       "       'посёлок городского типа Вознесенье', 'деревня Разбегаево',\n",
       "       'посёлок городского типа Рябово', 'поселок Гладкое',\n",
       "       'посёлок при железнодорожной станции Приветнинское',\n",
       "       'поселок Тёсово-4', 'посёлок Жилгородок', 'деревня Бор',\n",
       "       'посёлок Коробицыно', 'деревня Большая Вруда', 'деревня Курковицы',\n",
       "       'посёлок Лисий Нос', 'городской посёлок Советский',\n",
       "       'посёлок Кобралово', 'деревня Суоранда', 'поселок Кобралово',\n",
       "       'поселок городского типа Кондратьево',\n",
       "       'коттеджный поселок Счастье', 'поселок Любань', 'деревня Реброво',\n",
       "       'деревня Зимитицы', 'деревня Тойворово', 'поселок Семиозерье',\n",
       "       'поселок Лесное', 'поселок Совхозный', 'поселок Усть-Луга',\n",
       "       'посёлок Ленинское', 'посёлок Суйда',\n",
       "       'посёлок городского типа Форносово', 'деревня Нижние Осельки',\n",
       "       'посёлок станции Свирь', 'поселок Перово', 'Высоцк',\n",
       "       'поселок Гарболово', 'село Шум', 'поселок Котельский',\n",
       "       'поселок станции Лужайка', 'деревня Большая Пустомержа',\n",
       "       'поселок Красносельское', 'деревня Вахнова Кара', 'деревня Пижма',\n",
       "       'коттеджный поселок Кивеннапа Север', 'поселок Коробицыно',\n",
       "       'поселок Ромашки', 'посёлок Перово', 'деревня Каськово',\n",
       "       'деревня Куровицы', 'посёлок Плоское', 'поселок Сумино',\n",
       "       'поселок городского типа Большая Ижора', 'поселок Кирпичное',\n",
       "       'деревня Ям-Тесово', 'деревня Раздолье', 'деревня Терпилицы',\n",
       "       'посёлок Шугозеро', 'деревня Ваганово', 'поселок Пушное',\n",
       "       'садовое товарищество Садко', 'посёлок Усть-Ижора',\n",
       "       'деревня Выскатка', 'городской посёлок Свирьстрой',\n",
       "       'поселок Громово', 'деревня Кисельня', 'посёлок Старая Малукса',\n",
       "       'деревня Трубников Бор', 'поселок Калитино',\n",
       "       'посёлок Высокоключевой', 'садовое товарищество Приладожский',\n",
       "       'посёлок Пансионат Зелёный Бор', 'деревня Ненимяки',\n",
       "       'поселок Пансионат Зелёный Бор', 'деревня Снегирёвка',\n",
       "       'деревня Рапполово', 'деревня Пустынка', 'поселок Рабитицы',\n",
       "       'деревня Большой Сабск', 'деревня Русско', 'деревня Лупполово',\n",
       "       'деревня Большое Рейзино', 'деревня Малая Романовка',\n",
       "       'поселок Дружноселье', 'поселок Пчевжа', 'поселок Володарское',\n",
       "       'деревня Нижняя', 'коттеджный посёлок Лесное', 'деревня Тихковицы',\n",
       "       'деревня Борисова Грива', 'посёлок Дзержинского'], dtype=object)"
      ]
     },
     "execution_count": 18,
     "metadata": {},
     "output_type": "execute_result"
    }
   ],
   "source": [
    "#вывод уникальных значений столбца locality_name\n",
    "df['locality_name'].unique()"
   ]
  },
  {
   "cell_type": "markdown",
   "metadata": {},
   "source": [
    "Обнаружилось, что некоторые названия записаны разными вариантами. Например: \"посёлок Мурино\", \"поселок Мурино\" \"Мурино\". Самой многочисленной является проблема с разным написанием буквы ё: либо ё, либо замена на е. Будет лучше, если мы заменим её на ё и посмотрим на неявные дубликаты снова. Для начала создадим функцию для такой замены: "
   ]
  },
  {
   "cell_type": "code",
   "execution_count": 19,
   "metadata": {},
   "outputs": [],
   "source": [
    "#создаем функцию для замены букв ё на е в locality_name\n",
    "def replacer(row):\n",
    "    if 'ё' in row['locality_name']:\n",
    "        row['locality_name'] = row['locality_name'].replace('ё', 'е')\n",
    "        return row['locality_name']\n",
    "    else:\n",
    "        return row['locality_name']"
   ]
  },
  {
   "cell_type": "markdown",
   "metadata": {},
   "source": [
    "Теперь созданную функцию применим к нашему столбцу:"
   ]
  },
  {
   "cell_type": "code",
   "execution_count": 20,
   "metadata": {},
   "outputs": [],
   "source": [
    "#заменяем все буквы ё в столбце на е и сохраняем результат\n",
    "df['locality_name'] = df.apply(replacer, axis=1)"
   ]
  },
  {
   "cell_type": "markdown",
   "metadata": {},
   "source": [
    "Заменим найденную неаккуратность с Мурино:"
   ]
  },
  {
   "cell_type": "code",
   "execution_count": 21,
   "metadata": {},
   "outputs": [],
   "source": [
    "#меняем в столбце все поселки Мурино на Мурино\n",
    "df['locality_name'].replace('поселок Мурино', 'Мурино', inplace=True)"
   ]
  },
  {
   "cell_type": "markdown",
   "metadata": {},
   "source": [
    "После всех операций проверим, появились ли дубликаты в таблице:"
   ]
  },
  {
   "cell_type": "code",
   "execution_count": 22,
   "metadata": {},
   "outputs": [
    {
     "data": {
      "text/plain": [
       "0"
      ]
     },
     "execution_count": 22,
     "metadata": {},
     "output_type": "execute_result"
    }
   ],
   "source": [
    "#нахождение суммарного количества дубликатов\n",
    "df.duplicated().sum()"
   ]
  },
  {
   "cell_type": "markdown",
   "metadata": {},
   "source": [
    "**Вывод**\n",
    "\n",
    "Дубликатов в таблице нет. Мы проверили явные и неявные дубликаты через различные операции со столбцом `locality_name`. Другие столбцы можно не исправлять, так как строкове значение наиболее вероятно вызвало бы дубликаты, которые нам обнаружить не удалось. Значит, дубликатов действительно быть не может.\n",
    "\n",
    "Таким образом, мы можем переходить к следующему этапу исследования."
   ]
  },
  {
   "cell_type": "markdown",
   "metadata": {},
   "source": [
    "### Вывод"
   ]
  },
  {
   "cell_type": "markdown",
   "metadata": {},
   "source": [
    "На этом этап предобработки можно считать завершённым. Мы обработали основные проблемные пропуски и заменили их там, где это было необходимо и возможно. Незаполненными остались некоторые столбцы, заполнение которых могло бы привести к искажению результатов исследования, поэтому для исследования некатегоричны пропуски в них. Необходимые столбцы были избавлены от ненужных знаков после запятой и приведены к целочисленному формату, а столбец с датой был представлен в удобном и качественном виде. Можем смело переходить к расчётам и добавлением результатов в таблицу."
   ]
  },
  {
   "cell_type": "markdown",
   "metadata": {},
   "source": [
    "## Расчёты и добавление результатов в таблицу"
   ]
  },
  {
   "cell_type": "markdown",
   "metadata": {},
   "source": [
    "Посчитаем  и добавим в таблицу некоторые удобные матрики для данного исследования. У нас есть два столбца `last_price` и `total_area`. Зная их, легко понять, что мы можем вычислить цену квадратного метра для каждого объявления. Сделаем это, поделив цену объекта на его площадь:"
   ]
  },
  {
   "cell_type": "code",
   "execution_count": 23,
   "metadata": {},
   "outputs": [],
   "source": [
    "#создаём столбец с ценой квадратного метра для каждого объявления\n",
    "df['price_for_m2'] = df['last_price'] / df['total_area']"
   ]
  },
  {
   "cell_type": "markdown",
   "metadata": {},
   "source": [
    "Дополнительно можем добавить в таблицу такие параметры, как: день недели, месяц и год публикации объявления. Все эти параметры мы можем взять из столбца `first_day_exposition`:"
   ]
  },
  {
   "cell_type": "code",
   "execution_count": 24,
   "metadata": {},
   "outputs": [],
   "source": [
    "df['day_exposition'] = pd.DatetimeIndex(df['first_day_exposition']).weekday\n",
    "df['month_exposition'] = pd.DatetimeIndex(df['first_day_exposition']).month\n",
    "df['year_exposition'] = pd.DatetimeIndex(df['first_day_exposition']).year"
   ]
  },
  {
   "cell_type": "markdown",
   "metadata": {},
   "source": [
    "Также хорошей переменной была бы этажность в формате текстовом формате. Чаще всего люди смотрят, последней этаж или первый, либо какой-то другой. Сделаем функцию, которая будет назначать этаж, обратившись к столбцам `floor` и `floors_total`:"
   ]
  },
  {
   "cell_type": "code",
   "execution_count": 25,
   "metadata": {},
   "outputs": [],
   "source": [
    "#функция, присваиющая номеру этажа строковое значение\n",
    "def categ_floor(row):\n",
    "    if row['floor'] == 1:\n",
    "        return 'первый'\n",
    "    elif row['floor'] == row['floors_total']:\n",
    "        return 'последний'\n",
    "    else:\n",
    "        return 'другой'"
   ]
  },
  {
   "cell_type": "markdown",
   "metadata": {},
   "source": [
    "Теперь остаётся только вызвать функцию и добавить новый столбец со строковыми значениями этажей:"
   ]
  },
  {
   "cell_type": "code",
   "execution_count": 26,
   "metadata": {},
   "outputs": [],
   "source": [
    "#вызываем функцию categ_floor и создаём новый столбец, где будут строковые этажи\n",
    "df['categ_floor'] = df.apply(categ_floor, axis=1)"
   ]
  },
  {
   "cell_type": "markdown",
   "metadata": {},
   "source": [
    "Оценим количество различных этажей в таблице:"
   ]
  },
  {
   "cell_type": "code",
   "execution_count": 27,
   "metadata": {},
   "outputs": [
    {
     "data": {
      "text/plain": [
       "другой       17446\n",
       "последний     3336\n",
       "первый        2917\n",
       "Name: categ_floor, dtype: int64"
      ]
     },
     "execution_count": 27,
     "metadata": {},
     "output_type": "execute_result"
    }
   ],
   "source": [
    "#подсчитываем уникальные значения этажей в таблице\n",
    "df['categ_floor'].value_counts()"
   ]
  },
  {
   "cell_type": "markdown",
   "metadata": {},
   "source": [
    "Как видно, большая часть объектов не принадлежит первому или последнему этажу, и это нормально. Количество первых и последних этажей практически одинаковое."
   ]
  },
  {
   "cell_type": "markdown",
   "metadata": {},
   "source": [
    "Посчитаем соотношение жилой и общей площади для каждого объекта, обратившись к столбцам `living_area` и `total_area` и найдём среднее значение по данному столбцу:"
   ]
  },
  {
   "cell_type": "code",
   "execution_count": 28,
   "metadata": {},
   "outputs": [
    {
     "data": {
      "text/plain": [
       "0.5194155580808664"
      ]
     },
     "execution_count": 28,
     "metadata": {},
     "output_type": "execute_result"
    }
   ],
   "source": [
    "#считаем соотношение жилой площади к общей и находим среднее значение по новому столбцу\n",
    "df['ratio_area'] = df['living_area'] / df['total_area']\n",
    "df['ratio_area'].mean()"
   ]
  },
  {
   "cell_type": "markdown",
   "metadata": {},
   "source": [
    "Получилось примерно 0.52. Довольно неожиданный результат. Видимо, в наших объектах большие нежилые части квартир. Для полной оценки мы также можем дополнительно рассчитать отношение площади кухни к общей площади и также найти среднее значение по столбцу:"
   ]
  },
  {
   "cell_type": "code",
   "execution_count": 29,
   "metadata": {},
   "outputs": [
    {
     "data": {
      "text/plain": [
       "0.16934578924129523"
      ]
     },
     "execution_count": 29,
     "metadata": {},
     "output_type": "execute_result"
    }
   ],
   "source": [
    "#считаем соотношение площади кухни к общей площади и находим среднее значение по новому столбцу\n",
    "df['ratio_kitchen'] = df['kitchen_area'] / df['total_area']\n",
    "df['ratio_kitchen'].mean()"
   ]
  },
  {
   "cell_type": "markdown",
   "metadata": {},
   "source": [
    "Получилось примерно 0.17. Именно столько занимают в среднем кухни в нашей таблице от общей площади квартир. Видимо, кухни представлены довольны просторными!"
   ]
  },
  {
   "cell_type": "markdown",
   "metadata": {},
   "source": [
    "### Вывод"
   ]
  },
  {
   "cell_type": "markdown",
   "metadata": {},
   "source": [
    "Дополнительные расчеты в нашей таблице помогут для исследовательского анализа данных на следующем этапе. К тому же, мы рассчитали важные параметры, которые было бы лучше сохранить в таблице, а не пересчитывать их каждый раз. Мы смогли обнаружить, что в таблице в среднем почти половину площади объектов представляют собой нежилые части помещения. Кажется, что это довольно большое значение. Кухни занимают в среднем 0.17, из чего мы сделали вывод о довольно больших кухнях. Теперь можем переходить к исследовательскому анализу данных."
   ]
  },
  {
   "cell_type": "markdown",
   "metadata": {},
   "source": [
    "## Исследовательский анализ данных"
   ]
  },
  {
   "cell_type": "markdown",
   "metadata": {},
   "source": [
    "### Изучение площади, цены, числа комнат и высоты потолков"
   ]
  },
  {
   "cell_type": "markdown",
   "metadata": {},
   "source": [
    "Изучим следующие параметры: площадь, цена, число комнат, высота потолков. Начнём с площади, для которой мы уже рассчитали некоторые дополнительные показатели. Для начала построим гистограмму по общей площади объектов:"
   ]
  },
  {
   "cell_type": "code",
   "execution_count": 30,
   "metadata": {},
   "outputs": [
    {
     "data": {
      "text/plain": [
       "<matplotlib.axes._subplots.AxesSubplot at 0x7f2a94c01450>"
      ]
     },
     "execution_count": 30,
     "metadata": {},
     "output_type": "execute_result"
    },
    {
     "data": {
      "image/png": "[encoded data removed]",
      "text/plain": [
       "<Figure size 432x288 with 1 Axes>"
      ]
     },
     "metadata": {
      "needs_background": "light"
     },
     "output_type": "display_data"
    }
   ],
   "source": [
    "#построим гистограмму по общей площади объектов с сеткой и 200 корзинами\n",
    "df['total_area'].plot(kind='hist', bins=200, grid=True)"
   ]
  },
  {
   "cell_type": "markdown",
   "metadata": {},
   "source": [
    "Видно, что ничего не видно. Выбросы сильно мешают нам увидеть основную часть объектов. Придется изменить параметры оси x, чтобы ознакомиться с большей частью выборки:"
   ]
  },
  {
   "cell_type": "code",
   "execution_count": 31,
   "metadata": {},
   "outputs": [
    {
     "data": {
      "text/plain": [
       "<matplotlib.axes._subplots.AxesSubplot at 0x7f2a944e1950>"
      ]
     },
     "execution_count": 31,
     "metadata": {},
     "output_type": "execute_result"
    },
    {
     "data": {
      "image/png": "[encoded data removed]",
      "text/plain": [
       "<Figure size 432x288 with 1 Axes>"
      ]
     },
     "metadata": {
      "needs_background": "light"
     },
     "output_type": "display_data"
    }
   ],
   "source": [
    "#построим гистограмму по общей площади объектов с сеткой, 200 корзинами по квартирам, чья площадь не превышает 150 м^2\n",
    "df['total_area'].plot(kind='hist', bins=200, grid=True, xlim=(0, 150), legend=True)"
   ]
  },
  {
   "cell_type": "markdown",
   "metadata": {},
   "source": [
    "В целом, это похоже на нормальное распределение с тяжёлым хвостом. Действительно, это кажется логичным. Существует совсем мало миниатюрных квартир, большая часть находится в диапозоне от 30 до 100, а совсем редкие значения встречаются от 100 и до 800! Посмотрим на соотношение жилой площади к общей:"
   ]
  },
  {
   "cell_type": "code",
   "execution_count": 32,
   "metadata": {},
   "outputs": [
    {
     "data": {
      "text/plain": [
       "<matplotlib.axes._subplots.AxesSubplot at 0x7f2a951935d0>"
      ]
     },
     "execution_count": 32,
     "metadata": {},
     "output_type": "execute_result"
    },
    {
     "data": {
      "image/png": "[encoded data removed]",
      "text/plain": [
       "<Figure size 432x288 with 1 Axes>"
      ]
     },
     "metadata": {
      "needs_background": "light"
     },
     "output_type": "display_data"
    }
   ],
   "source": [
    "#строим гистограмму с минимумом в 0.1, чтобы объекты без указанных площадей не вошли в гистограмму\n",
    "df['ratio_area'].plot(kind='hist', xlim=(0.1, 1.0), grid=True, legend=True)"
   ]
  },
  {
   "cell_type": "markdown",
   "metadata": {},
   "source": [
    "Всё то же, что мы и видели в наших показателях, однако то, чего мы не видели, - это нормальное распределение! Чаще всего жилая площадь в соотношении к общей составляет от 0.5 до 0.6. Удивительно, но, в основном, половину жилого помещения занимают нежилые части! Посмотрим на ситуацию с числом комнат."
   ]
  },
  {
   "cell_type": "code",
   "execution_count": 33,
   "metadata": {},
   "outputs": [
    {
     "data": {
      "text/plain": [
       "<matplotlib.axes._subplots.AxesSubplot at 0x7f2a93e76290>"
      ]
     },
     "execution_count": 33,
     "metadata": {},
     "output_type": "execute_result"
    },
    {
     "data": {
      "image/png": "[encoded data removed]",
      "text/plain": [
       "<Figure size 432x288 with 1 Axes>"
      ]
     },
     "metadata": {
      "needs_background": "light"
     },
     "output_type": "display_data"
    }
   ],
   "source": [
    "df['rooms'].plot(kind='hist', xlim=(0, 7), grid=True, legend=True)"
   ]
  },
  {
   "cell_type": "markdown",
   "metadata": {},
   "source": [
    "Как видно, больше всего объектов имеет от 2 до 3 квартир - практически 14000. Меньше всего представлено квартир с 6 или более комнатами, и это логично, где же разместить много квартир такого метража? Однокомнатных квартир представлено чуть более 8000. "
   ]
  },
  {
   "cell_type": "markdown",
   "metadata": {},
   "source": [
    "Как уже отмечалось, в Санкт-Петербурге высота потолков в старых домах бывает очень высокой. Давайте теперь оценим, так ли это на самом деле:"
   ]
  },
  {
   "cell_type": "code",
   "execution_count": 34,
   "metadata": {},
   "outputs": [
    {
     "data": {
      "text/plain": [
       "<matplotlib.axes._subplots.AxesSubplot at 0x7f2a93df36d0>"
      ]
     },
     "execution_count": 34,
     "metadata": {},
     "output_type": "execute_result"
    },
    {
     "data": {
      "image/png": "[encoded data removed]",
      "text/plain": [
       "<Figure size 432x288 with 1 Axes>"
      ]
     },
     "metadata": {
      "needs_background": "light"
     },
     "output_type": "display_data"
    }
   ],
   "source": [
    "#строим гистограмму по высоте потолков в таблице\n",
    "df['ceiling_height'].plot(kind='hist', grid=True, legend=True, xlim=(1, 5), bins=50)"
   ]
  },
  {
   "cell_type": "markdown",
   "metadata": {},
   "source": [
    "Предположения подтвердились. В таблице присутствует более 2000 объявлений, где высота потолков составляет от 3 до 5 метров. На самом деле, это очень высокие потолки. Большая часть значений же находится в диапозоне от 2.5 до 3 метров - вполне стандартная длина для потолков в квартире."
   ]
  },
  {
   "cell_type": "markdown",
   "metadata": {},
   "source": [
    "Изучим цены квартир в таблице. Для этого построим гистограмму. Большая часть квартир находится в диапозоне до 30 миллионов, поэтому ограничим нашу гистограмму по оси абсцисс именно таким значением:"
   ]
  },
  {
   "cell_type": "code",
   "execution_count": 35,
   "metadata": {},
   "outputs": [
    {
     "data": {
      "text/plain": [
       "<matplotlib.axes._subplots.AxesSubplot at 0x7f2a93c97350>"
      ]
     },
     "execution_count": 35,
     "metadata": {},
     "output_type": "execute_result"
    },
    {
     "data": {
      "image/png": "[encoded data removed]",
      "text/plain": [
       "<Figure size 432x288 with 1 Axes>"
      ]
     },
     "metadata": {
      "needs_background": "light"
     },
     "output_type": "display_data"
    }
   ],
   "source": [
    "df['last_price'].plot(kind='hist', grid=True, legend=True, xlim=(0, 30000000), bins=300)"
   ]
  },
  {
   "cell_type": "markdown",
   "metadata": {},
   "source": [
    "Можем увидеть, что в диапозоне от 2.5 до 5 миллионов находится большая часть квартир. Ситуация довольно похожа на реальную. Квартир после 15 миллионов практически нет, и это логично - сегмент бизнес-класса всегда находится в меньшинстве в сравнении со стандартными предложениями."
   ]
  },
  {
   "cell_type": "markdown",
   "metadata": {},
   "source": [
    "**Вывод**\n",
    "\n",
    "В целом, никаких массовых аномалий мы не выявили. Высота потолков, как и предполагалось, нередко имеет параметры, свойственные Санкт-Петербургу. В таблице также присутствует много объектов с очень большой площадью и количеством комнат. Предположим, что это квартиры бизнес-сегмента, либо всё-таки объявления мошенников. Установили, что средняя цена на квартиры находится в диапозоне от 2.5 до 5 миллионов - стандартные для Санкт-Петербурга цены."
   ]
  },
  {
   "cell_type": "markdown",
   "metadata": {},
   "source": [
    "### Изучение времени продажи квартиры"
   ]
  },
  {
   "cell_type": "markdown",
   "metadata": {},
   "source": [
    "Изучим время продажи квартир. Будем считать, что объявление покинуло базу данных в том случае, если квартира была продана. Тогда мы можем проанализировать столбцы `first_day_exposition` и `days_exposition`. Для начала посмотрим на количество дней, за которое квартира была продана:"
   ]
  },
  {
   "cell_type": "code",
   "execution_count": 36,
   "metadata": {},
   "outputs": [
    {
     "data": {
      "text/plain": [
       "0     3181\n",
       "45     880\n",
       "60     538\n",
       "7      234\n",
       "30     208\n",
       "90     204\n",
       "4      176\n",
       "3      158\n",
       "5      152\n",
       "14     148\n",
       "Name: days_exposition, dtype: int64"
      ]
     },
     "execution_count": 36,
     "metadata": {},
     "output_type": "execute_result"
    }
   ],
   "source": [
    "#получение количества уникальных значений по дням для продажи квартиры, сортировка этих значений и вывод первых 10\n",
    "df['days_exposition'].value_counts().sort_values(ascending=False).head(10)"
   ]
  },
  {
   "cell_type": "markdown",
   "metadata": {},
   "source": [
    "В целом, мы видим, что чаще всего (3181) количество дней равно нулю. Из этого следует, что квартира ещё не продана. Наиболее часто продают квартиры за 45 и 60 дней. С другой стороны, оценивать что-то пока трудно без визуализации. Построим гистрограмму. Ограничим её значением в 600 дней (чуть менее 2 полных лет):"
   ]
  },
  {
   "cell_type": "code",
   "execution_count": 37,
   "metadata": {},
   "outputs": [
    {
     "data": {
      "text/plain": [
       "<matplotlib.axes._subplots.AxesSubplot at 0x7f2a938b4290>"
      ]
     },
     "execution_count": 37,
     "metadata": {},
     "output_type": "execute_result"
    },
    {
     "data": {
      "image/png": "[encoded data removed]",
      "text/plain": [
       "<Figure size 432x288 with 1 Axes>"
      ]
     },
     "metadata": {
      "needs_background": "light"
     },
     "output_type": "display_data"
    }
   ],
   "source": [
    "#строим гистограмму по количеству дней для продажи квартиры в таблице\n",
    "df['days_exposition'].plot(kind='hist', bins=50, xlim=(1, 600))"
   ]
  },
  {
   "cell_type": "markdown",
   "metadata": {},
   "source": [
    "Прежде, чем переходить к рефлексии, найдём для этого столбца медиану и среднее арифметическое:"
   ]
  },
  {
   "cell_type": "code",
   "execution_count": 38,
   "metadata": {},
   "outputs": [
    {
     "name": "stdout",
     "output_type": "stream",
     "text": [
      "Среднее арифметическое количество дней для продажи квартир: 156.61\n",
      "Медиана количества дней для продажи квартир: 74.0\n"
     ]
    }
   ],
   "source": [
    "#рассчитываем среднее арифметическое и медиану для количества дней для продажи квартиры\n",
    "print(\"Среднее арифметическое количество дней для продажи квартир: {:.2f}\".format(df['days_exposition'].mean()))\n",
    "print(\"Медиана количества дней для продажи квартир:\", df['days_exposition'].median())"
   ]
  },
  {
   "cell_type": "markdown",
   "metadata": {},
   "source": [
    "**Вывод**\n",
    "\n",
    "Среднее арифметическое и медиана существенно отличаются друг от друга. Это говорит нам о том, что в выборке есть много крупных значений, то есть тех, кто очень долго продавал квартиру. Как видно на гистограмме, действительно, процесс этот часто оказывается очень длинным. У нас наблюдается ожидаемый пик в первом столбце, где представлены объявления, чьи квартиры не были проданы. Без него видно, что наиболее часто квартиры продают примерно до 100 дней, что и показывает нам наша медиана."
   ]
  },
  {
   "cell_type": "markdown",
   "metadata": {},
   "source": [
    "### Удаление выбросов из данных"
   ]
  },
  {
   "cell_type": "markdown",
   "metadata": {},
   "source": [
    "После изучения различных параметров таблицы стоит избавиться от выбросов, чтобы результаты исследования были ближе к реальным. Начнём с оценки количества объектов в таблице на текущий момент:"
   ]
  },
  {
   "cell_type": "code",
   "execution_count": 39,
   "metadata": {},
   "outputs": [
    {
     "name": "stdout",
     "output_type": "stream",
     "text": [
      "Количество объектов в таблице: 23699\n"
     ]
    }
   ],
   "source": [
    "#вывод на экран количества объектов в таблице df\n",
    "print('Количество объектов в таблице:', len(df))"
   ]
  },
  {
   "cell_type": "markdown",
   "metadata": {},
   "source": [
    "У нас имеется 23699 квартир. Запомним это число. Теперь отсеим те квартиры, чья площадь превышает 300 квадратных метров. Как мы заметили по гистограмме, таких объектов мало и от них лучше избавиться сейчас:"
   ]
  },
  {
   "cell_type": "code",
   "execution_count": 40,
   "metadata": {},
   "outputs": [],
   "source": [
    "#отсеиваем из таблицы объекты с площадью более 300 квадратных метров\n",
    "df = df.query('total_area <= 300')"
   ]
  },
  {
   "cell_type": "markdown",
   "metadata": {},
   "source": [
    "Количество комнат у большинства не превышает 7. Также квартиры со стоимостью более 30 миллионов и находящиеся в базе более 600 дней не внушают доверия. Переменную `ceiling_height` придётся оставить в покое, потому как она содержит большое количество пропусков, которые уйдут при фильтрации. Сократим нашу таблицу, применив все эти фильтрации одной командой:"
   ]
  },
  {
   "cell_type": "code",
   "execution_count": 41,
   "metadata": {},
   "outputs": [],
   "source": [
    "#отсеиваем из таблицы объекты с более, чем 7 комнатами, ценой более 30 млн и те, что находятся на сайте более 600 лет\n",
    "df = df.query('rooms <= 7 and last_price <= 30000000 and days_exposition <= 600')"
   ]
  },
  {
   "cell_type": "markdown",
   "metadata": {},
   "source": [
    "Посмотрим, сколько у нас объектов теперь:"
   ]
  },
  {
   "cell_type": "code",
   "execution_count": 42,
   "metadata": {},
   "outputs": [
    {
     "name": "stdout",
     "output_type": "stream",
     "text": [
      "Количество объектов в таблице после удаления выбросов: 22196\n"
     ]
    }
   ],
   "source": [
    "#вывод на экран количества объектов в таблице df без выбросов\n",
    "print('Количество объектов в таблице после удаления выбросов:', len(df))"
   ]
  },
  {
   "cell_type": "markdown",
   "metadata": {},
   "source": [
    "Получили 22196 квартир. Посмотрим, как много выбросов удалось обнаружить:"
   ]
  },
  {
   "cell_type": "code",
   "execution_count": 43,
   "metadata": {},
   "outputs": [
    {
     "name": "stdout",
     "output_type": "stream",
     "text": [
      "Процент квартир, являющихся выбросами: 6.10%\n"
     ]
    }
   ],
   "source": [
    "print(f'Процент квартир, являющихся выбросами: {1 - 22196/23638:.2%}')"
   ]
  },
  {
   "cell_type": "markdown",
   "metadata": {},
   "source": [
    "**Вывод**\n",
    "\n",
    "Мы избавились от 6.1% объектов таблицы, посчитав их аномальными значениями по какому-либо параметру. В целом, это весьма отличный результат. Более того, удаление этих объектов не просто не исказит исследование, а сделает его лучше без аномальных значений. Можем переходить к основной части исследовательского анализа данных."
   ]
  },
  {
   "cell_type": "markdown",
   "metadata": {},
   "source": [
    "### Факторы, влияющие на стоимость квартиры"
   ]
  },
  {
   "cell_type": "markdown",
   "metadata": {},
   "source": [
    "Оценим, на сколько линейно взаимосвязаны метраж, количество комнат и удалённость от центра с ценой квартиры. Для этого рассчитаем корреляции этих признаков:"
   ]
  },
  {
   "cell_type": "code",
   "execution_count": 44,
   "metadata": {},
   "outputs": [
    {
     "name": "stdout",
     "output_type": "stream",
     "text": [
      "Корреляция цены квартиры и метража: 0.79\n",
      "Корреляция цены квартиры и количества комнат: 0.51\n",
      "Корреляция цены квартиры и удалённости от центра: -0.34\n"
     ]
    }
   ],
   "source": [
    "print(f'Корреляция цены квартиры и метража: {df[\"last_price\"].corr(df[\"total_area\"]):.2f}')\n",
    "print(f'Корреляция цены квартиры и количества комнат: {df[\"last_price\"].corr(df[\"rooms\"]):.2f}')\n",
    "print(f'Корреляция цены квартиры и удалённости от центра: {df[\"last_price\"].corr(df[\"cityCenters_nearest\"]):.2f}')"
   ]
  },
  {
   "cell_type": "markdown",
   "metadata": {},
   "source": [
    "В целом, корреляции вышли далёкие от нуля. Метраж сильнее всего влияет на цену квартиры: чем он больше, тем больше цена. Та же положительная зависимость наблюдается у цены квартиры и количества комнат: 0.51, а вот удалённость от центра и цена имеют отрицательную зависимость, и это ожидаемо. Чем дальше квартира от центра города, тем ниже будет её цена. Мы не получили значения корреляции, близкие к нулю, поэтому не можем утверждать, что наши зависимости связаны не линейно, а иначе."
   ]
  },
  {
   "cell_type": "markdown",
   "metadata": {},
   "source": [
    "Посмотрим, какие факторы влияют на стоимость квартиры. Сначала определим, зависит ли цена квартиры от количества квадратных метров. Для этого построим диаграмму рассеяния по двум столбцам: площадь квартиры и её цена на момент продажи:"
   ]
  },
  {
   "cell_type": "code",
   "execution_count": 45,
   "metadata": {
    "scrolled": true
   },
   "outputs": [
    {
     "data": {
      "image/png": "[encoded data removed]",
      "text/plain": [
       "<Figure size 432x288 with 1 Axes>"
      ]
     },
     "metadata": {
      "needs_background": "light"
     },
     "output_type": "display_data"
    }
   ],
   "source": [
    "#строим диаграмму рассеяния цены квартиры от количества квадратных метров\n",
    "plt.scatter(x=df['total_area'], y=df['last_price'], alpha=0.3, edgecolor='black')\n",
    "plt.title('Диаграмма рассеяния цены квартиры от количества квадратных метров')\n",
    "plt.show()"
   ]
  },
  {
   "cell_type": "markdown",
   "metadata": {},
   "source": [
    "В целом, до 30 миллионов находится большая часть наших значений. Посмотрим, как на цену влияет количество комнат. Построим столбчатую диаграмму, но перед этим сгруппируем наши данные при помощи сводной таблицы:"
   ]
  },
  {
   "cell_type": "code",
   "execution_count": 46,
   "metadata": {},
   "outputs": [
    {
     "data": {
      "text/plain": [
       "<matplotlib.axes._subplots.AxesSubplot at 0x7f2a93923b10>"
      ]
     },
     "execution_count": 46,
     "metadata": {},
     "output_type": "execute_result"
    },
    {
     "data": {
      "image/png": "[encoded data removed]",
      "text/plain": [
       "<Figure size 432x288 with 1 Axes>"
      ]
     },
     "metadata": {
      "needs_background": "light"
     },
     "output_type": "display_data"
    }
   ],
   "source": [
    "#строим столбчатую диаграмму по сгруппированным данным по количеству комнат и цене квартир\n",
    "df.pivot_table(index='rooms', values='last_price').plot(kind='bar')"
   ]
  },
  {
   "cell_type": "markdown",
   "metadata": {},
   "source": [
    "В общем случае, у нас есть динамика: чем больше комнат, тем больше цена. Это довольно логичный вывод, ведь чаще всего увеличение комнат ведёт к увеличению метража, следовательно, и цена должна быть выше. Посмотрим, есть ли зависимость цены квартиры от этажа, на котором она находится:"
   ]
  },
  {
   "cell_type": "code",
   "execution_count": 47,
   "metadata": {},
   "outputs": [
    {
     "data": {
      "text/plain": [
       "<matplotlib.axes._subplots.AxesSubplot at 0x7f2a89e2cf90>"
      ]
     },
     "execution_count": 47,
     "metadata": {},
     "output_type": "execute_result"
    },
    {
     "data": {
      "image/png": "[encoded data removed]",
      "text/plain": [
       "<Figure size 432x288 with 1 Axes>"
      ]
     },
     "metadata": {
      "needs_background": "light"
     },
     "output_type": "display_data"
    }
   ],
   "source": [
    "#строим столбчатую диаграмму по сгруппированным данным по этажу и цене квартир\n",
    "df.pivot_table(index='categ_floor', values='last_price').plot(kind='bar')"
   ]
  },
  {
   "cell_type": "markdown",
   "metadata": {},
   "source": [
    "Обнаруживаем, что квартиры на первом этаже стоят сильно дешевле остальных, когда на последнем - дороже первого, но ниже всех остальных. Перейдём к следующей метрике - удалённость от центра:"
   ]
  },
  {
   "cell_type": "code",
   "execution_count": 48,
   "metadata": {},
   "outputs": [
    {
     "data": {
      "image/png": "[encoded data removed]",
      "text/plain": [
       "<Figure size 432x288 with 1 Axes>"
      ]
     },
     "metadata": {
      "needs_background": "light"
     },
     "output_type": "display_data"
    }
   ],
   "source": [
    "#строим диаграмму рассеяния по цене квартиры от удалённости от центра\n",
    "plt.scatter(x=df['cityCenters_nearest'], y=df['last_price'], alpha=0.3, edgecolor='black')\n",
    "plt.title('Диаграмма рассеяния цены квартиры от удалённости от центра')\n",
    "plt.show()"
   ]
  },
  {
   "cell_type": "markdown",
   "metadata": {},
   "source": [
    "Хорошо видно, что чем ближе квартира к центру, тем дороже она стоит. Посмотрим, влияет ли на цену дата размещения объявления: день, месяц, год:"
   ]
  },
  {
   "cell_type": "code",
   "execution_count": 49,
   "metadata": {},
   "outputs": [
    {
     "data": {
      "text/plain": [
       "<matplotlib.axes._subplots.AxesSubplot at 0x7f2a89d18a90>"
      ]
     },
     "execution_count": 49,
     "metadata": {},
     "output_type": "execute_result"
    },
    {
     "data": {
      "image/png": "[encoded data removed]",
      "text/plain": [
       "<Figure size 432x288 with 1 Axes>"
      ]
     },
     "metadata": {
      "needs_background": "light"
     },
     "output_type": "display_data"
    }
   ],
   "source": [
    "#группируем данные по дню объявления и строим столбчатую диаграмму по значениям\n",
    "df.pivot_table(index='day_exposition', values='last_price').plot(kind='bar')"
   ]
  },
  {
   "cell_type": "code",
   "execution_count": 50,
   "metadata": {},
   "outputs": [
    {
     "data": {
      "text/plain": [
       "<matplotlib.axes._subplots.AxesSubplot at 0x7f2a89c96c90>"
      ]
     },
     "execution_count": 50,
     "metadata": {},
     "output_type": "execute_result"
    },
    {
     "data": {
      "image/png": "[encoded data removed]",
      "text/plain": [
       "<Figure size 432x288 with 1 Axes>"
      ]
     },
     "metadata": {
      "needs_background": "light"
     },
     "output_type": "display_data"
    }
   ],
   "source": [
    "#группируем данные по месяцу объявления и строим столбчатую диаграмму по значениям\n",
    "df.pivot_table(index='month_exposition', values='last_price').plot(kind='bar')"
   ]
  },
  {
   "cell_type": "code",
   "execution_count": 51,
   "metadata": {},
   "outputs": [
    {
     "data": {
      "text/plain": [
       "<matplotlib.axes._subplots.AxesSubplot at 0x7f2a89c1e8d0>"
      ]
     },
     "execution_count": 51,
     "metadata": {},
     "output_type": "execute_result"
    },
    {
     "data": {
      "image/png": "[encoded data removed]",
      "text/plain": [
       "<Figure size 432x288 with 1 Axes>"
      ]
     },
     "metadata": {
      "needs_background": "light"
     },
     "output_type": "display_data"
    }
   ],
   "source": [
    "#группируем данные по году объявления и строим столбчатую диаграмму по значениям\n",
    "df.pivot_table(index='year_exposition', values='last_price').plot(kind='bar')"
   ]
  },
  {
   "cell_type": "markdown",
   "metadata": {},
   "source": [
    "Делаем вывод, что никаких особо сильных закономерностей мы не видим, однако один момент нам всё-таки удалось увидеть - 2014 год был годом наиболее дорогих квартир. По другим показателям можем сказать, что цены на квартиры постоянно растут и падают, что вполне совпадает с реальностью. "
   ]
  },
  {
   "cell_type": "markdown",
   "metadata": {},
   "source": [
    "Для следующего этапа анализа выделим 10 населённых пунктов с наибольшим числом объявлений и посчитаем среднюю цену квадратного метра в них. Для начала получим такую таблицу без сортировки, с количеством объявлений и средней ценой за квадратный метр:"
   ]
  },
  {
   "cell_type": "code",
   "execution_count": 52,
   "metadata": {},
   "outputs": [
    {
     "data": {
      "text/html": [
       "<div>\n",
       "<style scoped>\n",
       "    .dataframe tbody tr th:only-of-type {\n",
       "        vertical-align: middle;\n",
       "    }\n",
       "\n",
       "    .dataframe tbody tr th {\n",
       "        vertical-align: top;\n",
       "    }\n",
       "\n",
       "    .dataframe thead tr th {\n",
       "        text-align: left;\n",
       "    }\n",
       "\n",
       "    .dataframe thead tr:last-of-type th {\n",
       "        text-align: right;\n",
       "    }\n",
       "</style>\n",
       "<table border=\"1\" class=\"dataframe\">\n",
       "  <thead>\n",
       "    <tr>\n",
       "      <th></th>\n",
       "      <th>count</th>\n",
       "      <th>mean</th>\n",
       "    </tr>\n",
       "    <tr>\n",
       "      <th></th>\n",
       "      <th>price_for_m2</th>\n",
       "      <th>price_for_m2</th>\n",
       "    </tr>\n",
       "    <tr>\n",
       "      <th>locality_name</th>\n",
       "      <th></th>\n",
       "      <th></th>\n",
       "    </tr>\n",
       "  </thead>\n",
       "  <tbody>\n",
       "    <tr>\n",
       "      <td>Бокситогорск</td>\n",
       "      <td>16</td>\n",
       "      <td>17551.591819</td>\n",
       "    </tr>\n",
       "    <tr>\n",
       "      <td>Волосово</td>\n",
       "      <td>29</td>\n",
       "      <td>40613.251279</td>\n",
       "    </tr>\n",
       "    <tr>\n",
       "      <td>Волхов</td>\n",
       "      <td>109</td>\n",
       "      <td>35085.284022</td>\n",
       "    </tr>\n",
       "    <tr>\n",
       "      <td>Всеволожск</td>\n",
       "      <td>377</td>\n",
       "      <td>68719.112965</td>\n",
       "    </tr>\n",
       "    <tr>\n",
       "      <td>Выборг</td>\n",
       "      <td>225</td>\n",
       "      <td>58191.340282</td>\n",
       "    </tr>\n",
       "    <tr>\n",
       "      <td>...</td>\n",
       "      <td>...</td>\n",
       "      <td>...</td>\n",
       "    </tr>\n",
       "    <tr>\n",
       "      <td>село Путилово</td>\n",
       "      <td>2</td>\n",
       "      <td>39921.758208</td>\n",
       "    </tr>\n",
       "    <tr>\n",
       "      <td>село Рождествено</td>\n",
       "      <td>3</td>\n",
       "      <td>37733.159586</td>\n",
       "    </tr>\n",
       "    <tr>\n",
       "      <td>село Русско-Высоцкое</td>\n",
       "      <td>8</td>\n",
       "      <td>55075.313795</td>\n",
       "    </tr>\n",
       "    <tr>\n",
       "      <td>село Старая Ладога</td>\n",
       "      <td>2</td>\n",
       "      <td>34696.969697</td>\n",
       "    </tr>\n",
       "    <tr>\n",
       "      <td>село Шум</td>\n",
       "      <td>1</td>\n",
       "      <td>33898.305085</td>\n",
       "    </tr>\n",
       "  </tbody>\n",
       "</table>\n",
       "<p>327 rows × 2 columns</p>\n",
       "</div>"
      ],
      "text/plain": [
       "                            count          mean\n",
       "                     price_for_m2  price_for_m2\n",
       "locality_name                                  \n",
       "Бокситогорск                   16  17551.591819\n",
       "Волосово                       29  40613.251279\n",
       "Волхов                        109  35085.284022\n",
       "Всеволожск                    377  68719.112965\n",
       "Выборг                        225  58191.340282\n",
       "...                           ...           ...\n",
       "село Путилово                   2  39921.758208\n",
       "село Рождествено                3  37733.159586\n",
       "село Русско-Высоцкое            8  55075.313795\n",
       "село Старая Ладога              2  34696.969697\n",
       "село Шум                        1  33898.305085\n",
       "\n",
       "[327 rows x 2 columns]"
      ]
     },
     "execution_count": 52,
     "metadata": {},
     "output_type": "execute_result"
    }
   ],
   "source": [
    "#создаём сводную таблицу по цене за квадратный метр в разных населённых пунктах и выводим на экран\n",
    "city_top_10 = df.pivot_table(index='locality_name', values='price_for_m2', aggfunc=['count', 'mean'])\n",
    "city_top_10"
   ]
  },
  {
   "cell_type": "markdown",
   "metadata": {},
   "source": [
    "Теперь избавимся от мультииндексов в данной таблице и отсортируем её для просмотра 10 самых крупных объектов, количества объявлений в них и средней цены за квадратный метр там:"
   ]
  },
  {
   "cell_type": "code",
   "execution_count": 53,
   "metadata": {},
   "outputs": [
    {
     "data": {
      "text/html": [
       "<div>\n",
       "<style scoped>\n",
       "    .dataframe tbody tr th:only-of-type {\n",
       "        vertical-align: middle;\n",
       "    }\n",
       "\n",
       "    .dataframe tbody tr th {\n",
       "        vertical-align: top;\n",
       "    }\n",
       "\n",
       "    .dataframe thead th {\n",
       "        text-align: right;\n",
       "    }\n",
       "</style>\n",
       "<table border=\"1\" class=\"dataframe\">\n",
       "  <thead>\n",
       "    <tr style=\"text-align: right;\">\n",
       "      <th></th>\n",
       "      <th>count</th>\n",
       "      <th>mean</th>\n",
       "    </tr>\n",
       "    <tr>\n",
       "      <th>locality_name</th>\n",
       "      <th></th>\n",
       "      <th></th>\n",
       "    </tr>\n",
       "  </thead>\n",
       "  <tbody>\n",
       "    <tr>\n",
       "      <td>Санкт-Петербург</td>\n",
       "      <td>14580</td>\n",
       "      <td>110505.714924</td>\n",
       "    </tr>\n",
       "    <tr>\n",
       "      <td>Мурино</td>\n",
       "      <td>570</td>\n",
       "      <td>86226.656283</td>\n",
       "    </tr>\n",
       "    <tr>\n",
       "      <td>поселок Шушары</td>\n",
       "      <td>426</td>\n",
       "      <td>78661.235014</td>\n",
       "    </tr>\n",
       "    <tr>\n",
       "      <td>Всеволожск</td>\n",
       "      <td>377</td>\n",
       "      <td>68719.112965</td>\n",
       "    </tr>\n",
       "    <tr>\n",
       "      <td>Пушкин</td>\n",
       "      <td>347</td>\n",
       "      <td>103042.649293</td>\n",
       "    </tr>\n",
       "    <tr>\n",
       "      <td>Колпино</td>\n",
       "      <td>328</td>\n",
       "      <td>75207.267633</td>\n",
       "    </tr>\n",
       "    <tr>\n",
       "      <td>поселок Парголово</td>\n",
       "      <td>318</td>\n",
       "      <td>90006.706973</td>\n",
       "    </tr>\n",
       "    <tr>\n",
       "      <td>Гатчина</td>\n",
       "      <td>289</td>\n",
       "      <td>68968.422589</td>\n",
       "    </tr>\n",
       "    <tr>\n",
       "      <td>деревня Кудрово</td>\n",
       "      <td>276</td>\n",
       "      <td>92706.652317</td>\n",
       "    </tr>\n",
       "    <tr>\n",
       "      <td>Выборг</td>\n",
       "      <td>225</td>\n",
       "      <td>58191.340282</td>\n",
       "    </tr>\n",
       "  </tbody>\n",
       "</table>\n",
       "</div>"
      ],
      "text/plain": [
       "                   count           mean\n",
       "locality_name                          \n",
       "Санкт-Петербург    14580  110505.714924\n",
       "Мурино               570   86226.656283\n",
       "поселок Шушары       426   78661.235014\n",
       "Всеволожск           377   68719.112965\n",
       "Пушкин               347  103042.649293\n",
       "Колпино              328   75207.267633\n",
       "поселок Парголово    318   90006.706973\n",
       "Гатчина              289   68968.422589\n",
       "деревня Кудрово      276   92706.652317\n",
       "Выборг               225   58191.340282"
      ]
     },
     "execution_count": 53,
     "metadata": {},
     "output_type": "execute_result"
    }
   ],
   "source": [
    "#переименовываем столбцы в сводной таблице\n",
    "city_top_10.columns = ['count', 'mean']\n",
    "#сортируем значения по количеству объявлений и сохраняем в переменной\n",
    "city_top_10 = city_top_10.sort_values(by='count', ascending=False)\n",
    "#выводим первые 10 значений на экран\n",
    "city_top_10.head(10)"
   ]
  },
  {
   "cell_type": "markdown",
   "metadata": {},
   "source": [
    "Обнаруживаем, что в Санкт-Петербурге средняя цена за квадратный метр чуть выше, чем в других населённых пунктах таблицы. Количество объявлений по Санкт-Петербургу почти в 30 раз выше, чем у следующего за ним Мурино. Самая низкая стоимость квартир в Выборге, цена за квадратный метр почти в 2 раза ниже, чем в Санкт-Петербурге. Вероятно, это освязано с тем, что Выборг довольно сильно отдалён от Санкт-Петербурга."
   ]
  },
  {
   "cell_type": "markdown",
   "metadata": {},
   "source": [
    "**Вывод**\n",
    "\n",
    "Мы обнаружили, что этажность влияет на цену квартиры на первом этаже стоят дешевле всех. Квартиры в Санкт-Петербурге сильно дороже, чем в Ленинградской области, однако при этом в Санкт-Петербурге и объявлений можно найти больше, чем в других населённых пунктах, в 30 раз. 2014 год оказался годом самых дорогих квартир, когда месяц и день, в целом, не влияют на цены каким-то постоянным образом. Квартиры, близкие к центру города, как и можно было ожидать, в среднем всегда стоят дороже других квартир. Перейдём к следующему этапу."
   ]
  },
  {
   "cell_type": "markdown",
   "metadata": {},
   "source": [
    "### Изучение предложения квартир "
   ]
  },
  {
   "cell_type": "markdown",
   "metadata": {},
   "source": [
    "В таблице для каждого объекта есть удалённость от центра. Выделим из датафрейма наблюдения только по Санкт-Петербургу, чтобы понять, какая область входит в центр:"
   ]
  },
  {
   "cell_type": "code",
   "execution_count": 54,
   "metadata": {},
   "outputs": [
    {
     "name": "stdout",
     "output_type": "stream",
     "text": [
      "Количество квартир в Санкт-Петербурге: 14580\n"
     ]
    }
   ],
   "source": [
    "#выделяем из таблицы квартиры в Санкт-Петербурге\n",
    "df_spb = df.query('locality_name == \"Санкт-Петербург\"').reset_index()\n",
    "#выводим на экран количество значений в новой таблице\n",
    "print(\"Количество квартир в Санкт-Петербурге:\", len(df_spb))"
   ]
  },
  {
   "cell_type": "markdown",
   "metadata": {},
   "source": [
    "Результат совпал с тем, что мы увидели на прошлом этапе: 15721 квартир находится в Санкт-Петербуге. Чтобы понять удалённость от центра обратимся к столбцу `cityCenters_nearest`. Однако, наблюдаем, что в нём значения представлены в метрах. Довольно тяжело осознавать, сколько метров от квартиры до центра. Было бы лучше перевести этот столбец в километры и записать в новый столбец:"
   ]
  },
  {
   "cell_type": "code",
   "execution_count": 55,
   "metadata": {},
   "outputs": [],
   "source": [
    "#создаём новый столбец с расстоянием до центра в км \n",
    "df_spb['cityCenters_nearest_km'] = (df_spb['cityCenters_nearest'] / 1000).round(0)"
   ]
  },
  {
   "cell_type": "markdown",
   "metadata": {},
   "source": [
    "Найдём среднюю цену квартиры для каждого километра при помощи сводных таблиц и по этим данным построим линейный график:"
   ]
  },
  {
   "cell_type": "code",
   "execution_count": 56,
   "metadata": {},
   "outputs": [
    {
     "data": {
      "text/plain": [
       "<matplotlib.axes._subplots.AxesSubplot at 0x7f2a8b843250>"
      ]
     },
     "execution_count": 56,
     "metadata": {},
     "output_type": "execute_result"
    },
    {
     "data": {
      "image/png": "[encoded data removed]",
      "text/plain": [
       "<Figure size 432x288 with 1 Axes>"
      ]
     },
     "metadata": {
      "needs_background": "light"
     },
     "output_type": "display_data"
    }
   ],
   "source": [
    "#находим средние цены для каждого километра и строим линейный график\n",
    "df_spb.pivot_table(index='cityCenters_nearest_km', values='last_price').plot(legend=True, grid=True, c='green')"
   ]
  },
  {
   "cell_type": "markdown",
   "metadata": {},
   "source": [
    "**Вывод**\n",
    "\n",
    "Мы отобрали квартиры в Санкт-Петербурге и рассмотрели, каков центр для этого города. До 2.5 км от центра цена постепенно снижается, а затем снова повышается. Чёткий пик наблюдается примерно на 7 киллометре. Таким образом, можем сделать вывод, что именно тут заканчивается \"центральная зона\", что хорошо наблюдается на построенном графике."
   ]
  },
  {
   "cell_type": "markdown",
   "metadata": {},
   "source": [
    "### Выделение сегмента квартир в центре"
   ]
  },
  {
   "cell_type": "markdown",
   "metadata": {},
   "source": [
    "Более подробно рассмотрим квартиры в центре Санкт-Петербурга. Посмотрим на их площадь, цену, число комнат и высоту потолков, однако для начала ограничим нашу таблицу до центральных квартир:"
   ]
  },
  {
   "cell_type": "code",
   "execution_count": 57,
   "metadata": {},
   "outputs": [
    {
     "name": "stdout",
     "output_type": "stream",
     "text": [
      "Количество квартир в центре Санкт-Петербурга: 2936\n"
     ]
    }
   ],
   "source": [
    "#выделяем из таблицы квартиры в центре Санкт-Петербурга\n",
    "df_spb_center = df_spb.query('cityCenters_nearest_km <= 7')\n",
    "#выводим на экран количество значений в новой таблице\n",
    "print(\"Количество квартир в центре Санкт-Петербурга:\", len(df_spb_center))"
   ]
  },
  {
   "cell_type": "markdown",
   "metadata": {},
   "source": [
    "Примерно 20% всех квартир в Санкт-Петербурге представлено в центре. Видимо, центр не такой уж и маленький, как многие считают. Рассмотрим площадь таких квартир с помощью расчётов среднего, медианы и построения ящика с усами:"
   ]
  },
  {
   "cell_type": "code",
   "execution_count": 58,
   "metadata": {},
   "outputs": [
    {
     "name": "stdout",
     "output_type": "stream",
     "text": [
      "Средняя площадь квартир в центре Санкт-Петербурга: 81.65584128065395\n",
      "Медианна площадь квартир в центре Санкт-Петербурга: 74.1\n"
     ]
    }
   ],
   "source": [
    "#рассчитываем среднее арифметическое и медиану для площади квартир в центре Санкт-Петербурга\n",
    "print(\"Средняя площадь квартир в центре Санкт-Петербурга:\", df_spb_center['total_area'].mean())\n",
    "print(\"Медианна площадь квартир в центре Санкт-Петербурга:\", df_spb_center['total_area'].median())"
   ]
  },
  {
   "cell_type": "markdown",
   "metadata": {},
   "source": [
    "Среднее оказалось значительно больше медианы. Из этого следует, что у нас точно есть выбросы с огромной площадью. Будет интересно посмотреть на это подробнее на ящике с усами"
   ]
  },
  {
   "cell_type": "code",
   "execution_count": 59,
   "metadata": {},
   "outputs": [
    {
     "data": {
      "text/plain": [
       "<matplotlib.axes._subplots.AxesSubplot at 0x7f2a89db9cd0>"
      ]
     },
     "execution_count": 59,
     "metadata": {},
     "output_type": "execute_result"
    },
    {
     "data": {
      "image/png": "[encoded data removed]",
      "text/plain": [
       "<Figure size 432x288 with 1 Axes>"
      ]
     },
     "metadata": {
      "needs_background": "light"
     },
     "output_type": "display_data"
    }
   ],
   "source": [
    "#строим ящик с усами для площади квартир в центре Санкт-Петербурга\n",
    "df_spb_center.boxplot(column='total_area')"
   ]
  },
  {
   "cell_type": "markdown",
   "metadata": {},
   "source": [
    "В целом, мы видим тут уже рассчитанные среднее арифметическое и медиану, а также огромное количество выбросов, которые выбиваются из области нормальных значений вверх. Этого стоило ожидать: в центре бывают квартиры с огромной площадью, но не бывает квартир с экстримально маленькой площадью. Интересно было бы узнать, сколько же таких выбросов примерно мы имеем?"
   ]
  },
  {
   "cell_type": "code",
   "execution_count": 60,
   "metadata": {},
   "outputs": [
    {
     "data": {
      "text/plain": [
       "56"
      ]
     },
     "execution_count": 60,
     "metadata": {},
     "output_type": "execute_result"
    }
   ],
   "source": [
    "#рассчитываем количество выбросов\n",
    "df_spb_center.query('total_area >= 190')['index'].count()"
   ]
  },
  {
   "cell_type": "markdown",
   "metadata": {},
   "source": [
    "Примерно 198 квартир можно купить в Санкт-Петербурге и жить в роскошных условиях более 190 квадратных метров! Посмотрим тот же ящик с усами для цены, числа комнат и высоты потолков:"
   ]
  },
  {
   "cell_type": "code",
   "execution_count": 61,
   "metadata": {},
   "outputs": [
    {
     "data": {
      "text/plain": [
       "<matplotlib.axes._subplots.AxesSubplot at 0x7f2a89bbd650>"
      ]
     },
     "execution_count": 61,
     "metadata": {},
     "output_type": "execute_result"
    },
    {
     "data": {
      "image/png": "[encoded data removed]",
      "text/plain": [
       "<Figure size 432x288 with 1 Axes>"
      ]
     },
     "metadata": {
      "needs_background": "light"
     },
     "output_type": "display_data"
    }
   ],
   "source": [
    "#строим ящик с усами для цены квартир в центре Санкт-Петербурга\n",
    "df_spb_center.boxplot(column='last_price')"
   ]
  },
  {
   "cell_type": "code",
   "execution_count": 62,
   "metadata": {},
   "outputs": [
    {
     "data": {
      "text/plain": [
       "<matplotlib.axes._subplots.AxesSubplot at 0x7f2a89accc10>"
      ]
     },
     "execution_count": 62,
     "metadata": {},
     "output_type": "execute_result"
    },
    {
     "data": {
      "image/png": "[encoded data removed]",
      "text/plain": [
       "<Figure size 432x288 with 1 Axes>"
      ]
     },
     "metadata": {
      "needs_background": "light"
     },
     "output_type": "display_data"
    }
   ],
   "source": [
    "#строим ящик с усами для числа комнат квартир в центре Санкт-Петербурга\n",
    "df_spb_center.boxplot(column='rooms')"
   ]
  },
  {
   "cell_type": "code",
   "execution_count": 63,
   "metadata": {},
   "outputs": [
    {
     "data": {
      "text/plain": [
       "<matplotlib.axes._subplots.AxesSubplot at 0x7f2a89ab62d0>"
      ]
     },
     "execution_count": 63,
     "metadata": {},
     "output_type": "execute_result"
    },
    {
     "data": {
      "image/png": "[encoded data removed]",
      "text/plain": [
       "<Figure size 432x288 with 1 Axes>"
      ]
     },
     "metadata": {
      "needs_background": "light"
     },
     "output_type": "display_data"
    }
   ],
   "source": [
    "#строим ящик с усами для высоты потолков квартир в центре Санкт-Петербурга\n",
    "df_spb_center.boxplot(column='ceiling_height')"
   ]
  },
  {
   "cell_type": "markdown",
   "metadata": {},
   "source": [
    "### Вывод"
   ]
  },
  {
   "cell_type": "markdown",
   "metadata": {},
   "source": [
    "Получается довольно хорошая картина. Медианная цена квартир находится где-то чуть ниже миллиона, но среднее было бы очень большим - у нас есть много очень дорогих квартир. Несмотря на огромную площадь квартир в центре, медианное значение количества комнат равно 2.5. Вероятно, эти комнаты просто представляют своей площадью квартиры среднестатистических людей. Выбросов при этом мало. Высота потолков уже была нами хорошо оценена, но из ящика с усами мы видим некоторые выбросы. У нас есть 2 квартиры с высотой потолка более 25 метров. Вероятно, эти объявления лучше удалить, потому как доверия они не внушают. "
   ]
  },
  {
   "cell_type": "markdown",
   "metadata": {},
   "source": [
    "### Сравнение центра Санкт-Петербурга с остальным городом"
   ]
  },
  {
   "cell_type": "markdown",
   "metadata": {},
   "source": [
    "Наконец, сравним центр Санкт-Петербурга с остальной частью города. Сначала создадим датафрейм с нецентральной частью города:"
   ]
  },
  {
   "cell_type": "code",
   "execution_count": 64,
   "metadata": {},
   "outputs": [
    {
     "name": "stdout",
     "output_type": "stream",
     "text": [
      "Количество квартир не в центре Санкт-Петербурга: 11592\n"
     ]
    }
   ],
   "source": [
    "#выделяем из таблицы квартиры не в центре Санкт-Петербурга\n",
    "df_spb_not_center = df_spb.query('cityCenters_nearest_km > 7')\n",
    "#выводим на экран количество значений в новой таблице\n",
    "print(\"Количество квартир не в центре Санкт-Петербурга:\", len(df_spb_not_center))"
   ]
  },
  {
   "cell_type": "markdown",
   "metadata": {},
   "source": [
    "Получили существенно больше объектов! Построим такие же ящики с усами для числа комнат, этажа для центра и не центра и сравним каждый показатель:"
   ]
  },
  {
   "cell_type": "code",
   "execution_count": 65,
   "metadata": {},
   "outputs": [
    {
     "data": {
      "text/plain": [
       "<matplotlib.axes._subplots.AxesSubplot at 0x7f2a89a3d590>"
      ]
     },
     "execution_count": 65,
     "metadata": {},
     "output_type": "execute_result"
    },
    {
     "data": {
      "image/png": "[encoded data removed]",
      "text/plain": [
       "<Figure size 432x288 with 1 Axes>"
      ]
     },
     "metadata": {
      "needs_background": "light"
     },
     "output_type": "display_data"
    }
   ],
   "source": [
    "#строим ящик с усами для количества комнат в центре Санкт-Петербурга\n",
    "df_spb_center.boxplot('rooms')"
   ]
  },
  {
   "cell_type": "code",
   "execution_count": 66,
   "metadata": {},
   "outputs": [
    {
     "data": {
      "text/plain": [
       "<matplotlib.axes._subplots.AxesSubplot at 0x7f2a899a8810>"
      ]
     },
     "execution_count": 66,
     "metadata": {},
     "output_type": "execute_result"
    },
    {
     "data": {
      "image/png": "[encoded data removed]",
      "text/plain": [
       "<Figure size 432x288 with 1 Axes>"
      ]
     },
     "metadata": {
      "needs_background": "light"
     },
     "output_type": "display_data"
    }
   ],
   "source": [
    "#строим ящик с усами для количества комнат не в центре Санкт-Петербурга\n",
    "df_spb_not_center.boxplot('rooms')"
   ]
  },
  {
   "cell_type": "markdown",
   "metadata": {},
   "source": [
    "Медиана количества комнат для центра - 3, когда для окраин - 2. С другой стороны, на окраинах у нас есть значения и по 4, 5, 6 комнат, какие в центры являются выбросами! Следовательно, если хочется больше комнат - выбираем окраины."
   ]
  },
  {
   "cell_type": "code",
   "execution_count": 67,
   "metadata": {},
   "outputs": [
    {
     "data": {
      "text/plain": [
       "<matplotlib.axes._subplots.AxesSubplot at 0x7f2a8991cd50>"
      ]
     },
     "execution_count": 67,
     "metadata": {},
     "output_type": "execute_result"
    },
    {
     "data": {
      "image/png": "[encoded data removed]",
      "text/plain": [
       "<Figure size 432x288 with 1 Axes>"
      ]
     },
     "metadata": {
      "needs_background": "light"
     },
     "output_type": "display_data"
    }
   ],
   "source": [
    "#строим ящик с усами для этажности в центре Санкт-Петербурга\n",
    "df_spb_center.boxplot('floor')"
   ]
  },
  {
   "cell_type": "code",
   "execution_count": 68,
   "metadata": {},
   "outputs": [
    {
     "data": {
      "text/plain": [
       "<matplotlib.axes._subplots.AxesSubplot at 0x7f2a8b743510>"
      ]
     },
     "execution_count": 68,
     "metadata": {},
     "output_type": "execute_result"
    },
    {
     "data": {
      "image/png": "[encoded data removed]",
      "text/plain": [
       "<Figure size 432x288 with 1 Axes>"
      ]
     },
     "metadata": {
      "needs_background": "light"
     },
     "output_type": "display_data"
    }
   ],
   "source": [
    "#строим ящик с усами для количества комнат не в центре Санкт-Петербурга\n",
    "df_spb_not_center.boxplot('rooms')"
   ]
  },
  {
   "cell_type": "markdown",
   "metadata": {},
   "source": [
    "Медиана этажности для окраин - 2, когда для центра - около 3, при этом в среднем этажность центра бывает огромной - встречаются значения даже по 25 этажей! В этом противостоянии лучше выбирать центр, если хочется побольшей этажей. Посмотрим даты размещения объявления с гистограммами:"
   ]
  },
  {
   "cell_type": "code",
   "execution_count": 69,
   "metadata": {},
   "outputs": [
    {
     "data": {
      "text/plain": [
       "<matplotlib.axes._subplots.AxesSubplot at 0x7f2a8984f1d0>"
      ]
     },
     "execution_count": 69,
     "metadata": {},
     "output_type": "execute_result"
    },
    {
     "data": {
      "image/png": "[encoded data removed]",
      "text/plain": [
       "<Figure size 432x288 with 1 Axes>"
      ]
     },
     "metadata": {
      "needs_background": "light"
     },
     "output_type": "display_data"
    }
   ],
   "source": [
    "#строим гистограмму для даты размещения объявлений в центре Санкт-Петербурга\n",
    "df_spb_center['day_exposition'].plot(kind='hist', bins=7, grid=True)"
   ]
  },
  {
   "cell_type": "code",
   "execution_count": 70,
   "metadata": {},
   "outputs": [
    {
     "data": {
      "text/plain": [
       "<matplotlib.axes._subplots.AxesSubplot at 0x7f2a8983cc90>"
      ]
     },
     "execution_count": 70,
     "metadata": {},
     "output_type": "execute_result"
    },
    {
     "data": {
      "image/png": "[encoded data removed]",
      "text/plain": [
       "<Figure size 432x288 with 1 Axes>"
      ]
     },
     "metadata": {
      "needs_background": "light"
     },
     "output_type": "display_data"
    }
   ],
   "source": [
    "#строим гистограмму для даты размещения объявлений не в центре Санкт-Петербурга\n",
    "df_spb_not_center['day_exposition'].plot(kind='hist', bins=7, grid=True)"
   ]
  },
  {
   "cell_type": "markdown",
   "metadata": {},
   "source": [
    "Нам удалось найти общее между центром и окраиной. В субботу и воскресенье и там, и там выкладывают одинаково мало объявлений. Также выделяется понедельник, в котором значения чуть ниже остальных дней. Взглянем на удалённость от центра при помощи диаграмм рассеяния:"
   ]
  },
  {
   "cell_type": "code",
   "execution_count": 71,
   "metadata": {},
   "outputs": [
    {
     "data": {
      "text/plain": [
       "<matplotlib.axes._subplots.AxesSubplot at 0x7f2a89771250>"
      ]
     },
     "execution_count": 71,
     "metadata": {},
     "output_type": "execute_result"
    },
    {
     "data": {
      "image/png": "[encoded data removed]",
      "text/plain": [
       "<Figure size 432x288 with 1 Axes>"
      ]
     },
     "metadata": {
      "needs_background": "light"
     },
     "output_type": "display_data"
    }
   ],
   "source": [
    "#строим гистограмму для удалённости от центра квартир в центре Санкт-Петербурга\n",
    "df_spb_center['cityCenters_nearest'].plot(kind='hist', bins=20, grid=True)"
   ]
  },
  {
   "cell_type": "code",
   "execution_count": 72,
   "metadata": {},
   "outputs": [
    {
     "data": {
      "text/plain": [
       "<matplotlib.axes._subplots.AxesSubplot at 0x7f2a896a9250>"
      ]
     },
     "execution_count": 72,
     "metadata": {},
     "output_type": "execute_result"
    },
    {
     "data": {
      "image/png": "[encoded data removed]",
      "text/plain": [
       "<Figure size 432x288 with 1 Axes>"
      ]
     },
     "metadata": {
      "needs_background": "light"
     },
     "output_type": "display_data"
    }
   ],
   "source": [
    "#строим гистограмму для удалённости от центра квартир не в центре Санкт-Петербурга\n",
    "df_spb_not_center['cityCenters_nearest'].plot(kind='hist', bins=20, grid=True)"
   ]
  },
  {
   "cell_type": "markdown",
   "metadata": {},
   "source": [
    "Там, где кончается центр, начинается окраина. В целом, квартиры в центре находятся на среднем расстоянии около 5 км, а окраина - от 10 до 15 км. В целом, это относительно не такие огромные расстояния для города Санкт-Петербурга в целом. "
   ]
  },
  {
   "cell_type": "markdown",
   "metadata": {},
   "source": [
    "## Общий вывод"
   ]
  },
  {
   "cell_type": "markdown",
   "metadata": {},
   "source": [
    "На этом исследование объявлений о продаже квартир подходит к концу. В ходе исследования мы предобработали основные проблемы в данных: устранили множественные пропуски, заменили необходимые типы данных. \n",
    "\n",
    "Основной целью исследования были установление параметров для оценки рыночной стоимости объекта недвижимости. Как удалось выяснить, к этим параметрам можно отнести: этаж (первый, последний или другой), удалённость от центра города, цена за квадратный метр (в городах она значительно выше), площадь квартиры. Исследовательский анализ данных продемонстрировал более детальные параметры. Например, мы узнали, что более половины объектов расположено в Санкт-Петербурге, где центральной зоной считается зона 7 киллометров. Далее можно найти более дешёвые варианты квартир. 2014 год оказался годом самых больших цен на квартиры, однако в среднем дата объявления не влияет на цену квартиры. \n",
    "\n",
    "Квартиры центра Санкт-Петербурга и окраины не полностью отличаются друг от друга. Например, они чаще всего размещаются в одни и те же дни. Более того, квартиры окраины порой предоставляют больше возможностей, например, в плане количества комнат. Таким образом, исследование можно считать завершённым."
   ]
  }
 ],
 "metadata": {
  "ExecuteTimeLog": [
   {
    "duration": 772,
    "start_time": "2021-11-08T07:12:24.540Z"
   },
   {
    "duration": 76,
    "start_time": "2021-11-08T07:13:44.656Z"
   },
   {
    "duration": 18,
    "start_time": "2021-11-08T07:14:55.583Z"
   },
   {
    "duration": 88,
    "start_time": "2021-11-08T07:15:15.536Z"
   },
   {
    "duration": 39,
    "start_time": "2021-11-08T07:15:16.159Z"
   },
   {
    "duration": 18,
    "start_time": "2021-11-08T07:17:43.552Z"
   },
   {
    "duration": 3,
    "start_time": "2021-11-08T07:41:02.189Z"
   },
   {
    "duration": 11,
    "start_time": "2021-11-08T07:41:38.430Z"
   },
   {
    "duration": 11,
    "start_time": "2021-11-08T07:42:16.790Z"
   },
   {
    "duration": 6975,
    "start_time": "2021-11-08T07:50:38.651Z"
   },
   {
    "duration": 7466,
    "start_time": "2021-11-08T07:51:29.648Z"
   },
   {
    "duration": 16,
    "start_time": "2021-11-08T07:52:27.209Z"
   },
   {
    "duration": 4,
    "start_time": "2021-11-08T07:54:41.931Z"
   },
   {
    "duration": 4,
    "start_time": "2021-11-08T07:55:13.122Z"
   },
   {
    "duration": 18,
    "start_time": "2021-11-08T07:55:28.170Z"
   },
   {
    "duration": 25,
    "start_time": "2021-11-08T07:55:39.154Z"
   },
   {
    "duration": 3,
    "start_time": "2021-11-08T07:55:48.096Z"
   },
   {
    "duration": 17,
    "start_time": "2021-11-08T07:55:48.678Z"
   },
   {
    "duration": 27,
    "start_time": "2021-11-08T07:55:55.049Z"
   },
   {
    "duration": 4,
    "start_time": "2021-11-08T07:57:00.821Z"
   },
   {
    "duration": 20,
    "start_time": "2021-11-08T07:57:01.145Z"
   },
   {
    "duration": 17,
    "start_time": "2021-11-08T07:58:17.357Z"
   },
   {
    "duration": 15,
    "start_time": "2021-11-08T07:58:26.026Z"
   },
   {
    "duration": 4,
    "start_time": "2021-11-08T07:58:45.563Z"
   },
   {
    "duration": 23,
    "start_time": "2021-11-08T07:58:45.988Z"
   },
   {
    "duration": 14,
    "start_time": "2021-11-08T07:58:46.319Z"
   },
   {
    "duration": 14,
    "start_time": "2021-11-08T07:59:08.883Z"
   },
   {
    "duration": 3,
    "start_time": "2021-11-08T07:59:13.890Z"
   },
   {
    "duration": 89,
    "start_time": "2021-11-08T07:59:14.250Z"
   },
   {
    "duration": 40,
    "start_time": "2021-11-08T07:59:14.600Z"
   },
   {
    "duration": 16,
    "start_time": "2021-11-08T07:59:14.905Z"
   },
   {
    "duration": 12,
    "start_time": "2021-11-08T07:59:16.323Z"
   },
   {
    "duration": 4,
    "start_time": "2021-11-08T07:59:17.027Z"
   },
   {
    "duration": 22,
    "start_time": "2021-11-08T07:59:17.643Z"
   },
   {
    "duration": 13,
    "start_time": "2021-11-08T07:59:18.339Z"
   },
   {
    "duration": 4,
    "start_time": "2021-11-08T08:03:35.619Z"
   },
   {
    "duration": 29,
    "start_time": "2021-11-08T08:03:36.216Z"
   },
   {
    "duration": 12,
    "start_time": "2021-11-08T08:03:36.587Z"
   },
   {
    "duration": 21,
    "start_time": "2021-11-08T08:05:30.630Z"
   },
   {
    "duration": 20,
    "start_time": "2021-11-08T08:05:32.893Z"
   },
   {
    "duration": 20,
    "start_time": "2021-11-08T08:05:33.517Z"
   },
   {
    "duration": 13,
    "start_time": "2021-11-08T08:05:34.164Z"
   },
   {
    "duration": 20,
    "start_time": "2021-11-08T08:05:49.610Z"
   },
   {
    "duration": 14,
    "start_time": "2021-11-08T08:05:50.830Z"
   },
   {
    "duration": 20,
    "start_time": "2021-11-08T08:15:26.360Z"
   },
   {
    "duration": 13,
    "start_time": "2021-11-08T08:15:26.679Z"
   },
   {
    "duration": 274,
    "start_time": "2021-11-08T08:17:16.231Z"
   },
   {
    "duration": 10,
    "start_time": "2021-11-08T08:18:04.550Z"
   },
   {
    "duration": 13,
    "start_time": "2021-11-08T08:18:04.761Z"
   },
   {
    "duration": 13,
    "start_time": "2021-11-08T08:19:52.771Z"
   },
   {
    "duration": 9,
    "start_time": "2021-11-08T08:19:55.727Z"
   },
   {
    "duration": 17,
    "start_time": "2021-11-08T08:19:56.016Z"
   },
   {
    "duration": 20,
    "start_time": "2021-11-08T08:20:00.288Z"
   },
   {
    "duration": 14,
    "start_time": "2021-11-08T08:20:00.607Z"
   },
   {
    "duration": 105,
    "start_time": "2021-11-08T08:21:56.048Z"
   },
   {
    "duration": 13,
    "start_time": "2021-11-08T08:22:16.546Z"
   },
   {
    "duration": 273,
    "start_time": "2021-11-08T08:22:40.573Z"
   },
   {
    "duration": 297,
    "start_time": "2021-11-08T08:23:10.722Z"
   },
   {
    "duration": 8,
    "start_time": "2021-11-08T08:23:34.137Z"
   },
   {
    "duration": 19,
    "start_time": "2021-11-08T08:23:54.745Z"
   },
   {
    "duration": 34,
    "start_time": "2021-11-08T08:24:02.954Z"
   },
   {
    "duration": 21,
    "start_time": "2021-11-08T08:24:08.688Z"
   },
   {
    "duration": 20,
    "start_time": "2021-11-08T08:24:15.825Z"
   },
   {
    "duration": 8019,
    "start_time": "2021-11-08T08:28:24.206Z"
   },
   {
    "duration": 8423,
    "start_time": "2021-11-08T08:28:50.811Z"
   },
   {
    "duration": 6898,
    "start_time": "2021-11-08T08:29:14.130Z"
   },
   {
    "duration": 7,
    "start_time": "2021-11-08T08:29:38.459Z"
   },
   {
    "duration": 7,
    "start_time": "2021-11-08T08:29:44.434Z"
   },
   {
    "duration": 7,
    "start_time": "2021-11-08T08:30:14.502Z"
   },
   {
    "duration": 6908,
    "start_time": "2021-11-08T08:30:28.265Z"
   },
   {
    "duration": 5,
    "start_time": "2021-11-08T08:33:04.548Z"
   },
   {
    "duration": 9,
    "start_time": "2021-11-08T08:33:58.643Z"
   },
   {
    "duration": 9,
    "start_time": "2021-11-08T08:34:17.724Z"
   },
   {
    "duration": 7,
    "start_time": "2021-11-08T08:34:39.499Z"
   },
   {
    "duration": 6,
    "start_time": "2021-11-08T08:34:43.738Z"
   },
   {
    "duration": 6,
    "start_time": "2021-11-08T08:34:53.180Z"
   },
   {
    "duration": 7,
    "start_time": "2021-11-08T08:34:56.965Z"
   },
   {
    "duration": 7,
    "start_time": "2021-11-08T08:35:06.761Z"
   },
   {
    "duration": 6,
    "start_time": "2021-11-08T08:35:10.676Z"
   },
   {
    "duration": 109,
    "start_time": "2021-11-08T08:35:34.444Z"
   },
   {
    "duration": 8,
    "start_time": "2021-11-08T08:37:34.212Z"
   },
   {
    "duration": 9,
    "start_time": "2021-11-08T08:37:51.261Z"
   },
   {
    "duration": 10,
    "start_time": "2021-11-08T08:38:23.885Z"
   },
   {
    "duration": 17,
    "start_time": "2021-11-08T08:38:57.877Z"
   },
   {
    "duration": 15,
    "start_time": "2021-11-08T08:39:18.184Z"
   },
   {
    "duration": 16,
    "start_time": "2021-11-08T08:40:33.139Z"
   },
   {
    "duration": 20,
    "start_time": "2021-11-08T08:40:33.622Z"
   },
   {
    "duration": 16,
    "start_time": "2021-11-08T08:40:34.155Z"
   },
   {
    "duration": 21,
    "start_time": "2021-11-08T08:40:34.671Z"
   },
   {
    "duration": 10,
    "start_time": "2021-11-08T08:40:35.215Z"
   },
   {
    "duration": 8,
    "start_time": "2021-11-08T08:40:35.851Z"
   },
   {
    "duration": 15,
    "start_time": "2021-11-08T08:40:36.536Z"
   },
   {
    "duration": 16,
    "start_time": "2021-11-08T08:40:54.260Z"
   },
   {
    "duration": 20,
    "start_time": "2021-11-08T08:42:29.270Z"
   },
   {
    "duration": 9,
    "start_time": "2021-11-08T08:42:29.774Z"
   },
   {
    "duration": 8,
    "start_time": "2021-11-08T08:42:30.181Z"
   },
   {
    "duration": 15,
    "start_time": "2021-11-08T08:42:30.582Z"
   },
   {
    "duration": 16,
    "start_time": "2021-11-08T08:42:32.358Z"
   },
   {
    "duration": 8,
    "start_time": "2021-11-08T08:43:41.280Z"
   },
   {
    "duration": 13,
    "start_time": "2021-11-08T08:43:51.996Z"
   },
   {
    "duration": 282,
    "start_time": "2021-11-08T08:44:03.947Z"
   },
   {
    "duration": 10,
    "start_time": "2021-11-08T08:44:12.838Z"
   },
   {
    "duration": 15,
    "start_time": "2021-11-08T08:44:14.855Z"
   },
   {
    "duration": 723,
    "start_time": "2021-11-09T09:42:51.109Z"
   },
   {
    "duration": 89,
    "start_time": "2021-11-09T09:42:51.835Z"
   },
   {
    "duration": 52,
    "start_time": "2021-11-09T09:42:52.331Z"
   },
   {
    "duration": 15,
    "start_time": "2021-11-09T09:42:52.842Z"
   },
   {
    "duration": 12,
    "start_time": "2021-11-09T09:42:55.522Z"
   },
   {
    "duration": 21,
    "start_time": "2021-11-09T09:42:56.050Z"
   },
   {
    "duration": 15,
    "start_time": "2021-11-09T09:42:56.585Z"
   },
   {
    "duration": 38,
    "start_time": "2021-11-09T09:42:57.378Z"
   },
   {
    "duration": 11,
    "start_time": "2021-11-09T09:42:58.139Z"
   },
   {
    "duration": 7,
    "start_time": "2021-11-09T09:42:58.891Z"
   },
   {
    "duration": 15,
    "start_time": "2021-11-09T09:42:59.737Z"
   },
   {
    "duration": 24,
    "start_time": "2021-11-09T09:44:25.681Z"
   },
   {
    "duration": 10,
    "start_time": "2021-11-09T09:44:26.609Z"
   },
   {
    "duration": 10,
    "start_time": "2021-11-09T09:44:27.050Z"
   },
   {
    "duration": 22,
    "start_time": "2021-11-09T09:44:27.484Z"
   },
   {
    "duration": 38,
    "start_time": "2021-11-09T09:45:46.282Z"
   },
   {
    "duration": 11,
    "start_time": "2021-11-09T09:45:46.802Z"
   },
   {
    "duration": 10,
    "start_time": "2021-11-09T09:45:47.155Z"
   },
   {
    "duration": 23,
    "start_time": "2021-11-09T09:45:47.507Z"
   },
   {
    "duration": 4,
    "start_time": "2021-11-09T09:46:07.139Z"
   },
   {
    "duration": 95,
    "start_time": "2021-11-09T09:46:07.474Z"
   },
   {
    "duration": 40,
    "start_time": "2021-11-09T09:46:07.804Z"
   },
   {
    "duration": 17,
    "start_time": "2021-11-09T09:46:08.146Z"
   },
   {
    "duration": 18,
    "start_time": "2021-11-09T09:46:09.789Z"
   },
   {
    "duration": 19,
    "start_time": "2021-11-09T09:46:11.530Z"
   },
   {
    "duration": 14,
    "start_time": "2021-11-09T09:46:13.785Z"
   },
   {
    "duration": 10,
    "start_time": "2021-11-09T09:46:50.167Z"
   },
   {
    "duration": 8,
    "start_time": "2021-11-09T09:46:50.791Z"
   },
   {
    "duration": 18,
    "start_time": "2021-11-09T09:46:51.466Z"
   },
   {
    "duration": 7220,
    "start_time": "2021-11-09T09:54:56.493Z"
   },
   {
    "duration": 7932,
    "start_time": "2021-11-09T09:55:11.997Z"
   },
   {
    "duration": 595,
    "start_time": "2021-11-09T09:55:28.143Z"
   },
   {
    "duration": 59,
    "start_time": "2021-11-09T09:55:31.124Z"
   },
   {
    "duration": 8,
    "start_time": "2021-11-09T09:58:13.047Z"
   },
   {
    "duration": 5,
    "start_time": "2021-11-09T09:58:22.964Z"
   },
   {
    "duration": 6,
    "start_time": "2021-11-09T09:58:37.643Z"
   },
   {
    "duration": 294,
    "start_time": "2021-11-09T09:58:58.132Z"
   },
   {
    "duration": 290,
    "start_time": "2021-11-09T09:59:07.156Z"
   },
   {
    "duration": 6,
    "start_time": "2021-11-09T09:59:20.222Z"
   },
   {
    "duration": 14,
    "start_time": "2021-11-09T09:59:33.534Z"
   },
   {
    "duration": 16,
    "start_time": "2021-11-09T10:02:22.610Z"
   },
   {
    "duration": 46,
    "start_time": "2021-11-09T10:02:43.942Z"
   },
   {
    "duration": 19,
    "start_time": "2021-11-09T10:03:01.793Z"
   },
   {
    "duration": 14,
    "start_time": "2021-11-09T10:03:02.389Z"
   },
   {
    "duration": 3,
    "start_time": "2021-11-09T10:03:09.510Z"
   },
   {
    "duration": 92,
    "start_time": "2021-11-09T10:03:09.813Z"
   },
   {
    "duration": 42,
    "start_time": "2021-11-09T10:03:10.111Z"
   },
   {
    "duration": 16,
    "start_time": "2021-11-09T10:03:10.357Z"
   },
   {
    "duration": 12,
    "start_time": "2021-11-09T10:03:12.141Z"
   },
   {
    "duration": 19,
    "start_time": "2021-11-09T10:03:13.208Z"
   },
   {
    "duration": 15,
    "start_time": "2021-11-09T10:03:13.895Z"
   },
   {
    "duration": 9,
    "start_time": "2021-11-09T10:03:15.296Z"
   },
   {
    "duration": 8,
    "start_time": "2021-11-09T10:03:15.758Z"
   },
   {
    "duration": 58,
    "start_time": "2021-11-09T10:03:16.129Z"
   },
   {
    "duration": 6,
    "start_time": "2021-11-09T10:03:16.542Z"
   },
   {
    "duration": 65,
    "start_time": "2021-11-09T10:03:16.769Z"
   },
   {
    "duration": 20,
    "start_time": "2021-11-09T10:03:17.024Z"
   },
   {
    "duration": 20,
    "start_time": "2021-11-09T10:07:13.923Z"
   },
   {
    "duration": 13,
    "start_time": "2021-11-09T10:07:15.759Z"
   },
   {
    "duration": 8,
    "start_time": "2021-11-09T10:07:16.106Z"
   },
   {
    "duration": 9,
    "start_time": "2021-11-09T10:07:16.473Z"
   },
   {
    "duration": 23,
    "start_time": "2021-11-09T10:07:16.874Z"
   },
   {
    "duration": 5,
    "start_time": "2021-11-09T10:07:17.755Z"
   },
   {
    "duration": 13,
    "start_time": "2021-11-09T10:07:20.880Z"
   },
   {
    "duration": 23,
    "start_time": "2021-11-09T10:09:26.861Z"
   },
   {
    "duration": 5,
    "start_time": "2021-11-09T10:09:27.650Z"
   },
   {
    "duration": 7,
    "start_time": "2021-11-09T10:13:30.290Z"
   },
   {
    "duration": 19,
    "start_time": "2021-11-09T10:13:30.483Z"
   },
   {
    "duration": 106,
    "start_time": "2021-11-09T10:14:12.666Z"
   },
   {
    "duration": 19,
    "start_time": "2021-11-09T10:14:16.753Z"
   },
   {
    "duration": 9,
    "start_time": "2021-11-09T10:16:04.675Z"
   },
   {
    "duration": 6,
    "start_time": "2021-11-09T10:16:16.482Z"
   },
   {
    "duration": 7,
    "start_time": "2021-11-09T10:16:25.770Z"
   },
   {
    "duration": 64,
    "start_time": "2021-11-09T10:19:50.683Z"
   },
   {
    "duration": 3,
    "start_time": "2021-11-09T10:27:48.976Z"
   },
   {
    "duration": 96,
    "start_time": "2021-11-09T10:27:48.982Z"
   },
   {
    "duration": 39,
    "start_time": "2021-11-09T10:27:49.081Z"
   },
   {
    "duration": 44,
    "start_time": "2021-11-09T10:27:49.124Z"
   },
   {
    "duration": 18,
    "start_time": "2021-11-09T10:27:49.171Z"
   },
   {
    "duration": 36,
    "start_time": "2021-11-09T10:27:49.192Z"
   },
   {
    "duration": 46,
    "start_time": "2021-11-09T10:27:49.230Z"
   },
   {
    "duration": 11,
    "start_time": "2021-11-09T10:27:49.279Z"
   },
   {
    "duration": 10,
    "start_time": "2021-11-09T10:27:49.295Z"
   },
   {
    "duration": 110,
    "start_time": "2021-11-09T10:27:49.308Z"
   },
   {
    "duration": 6,
    "start_time": "2021-11-09T10:27:49.421Z"
   },
   {
    "duration": 10,
    "start_time": "2021-11-09T10:27:49.430Z"
   },
   {
    "duration": 41,
    "start_time": "2021-11-09T10:27:49.443Z"
   },
   {
    "duration": 8,
    "start_time": "2021-11-09T10:27:49.487Z"
   },
   {
    "duration": 3,
    "start_time": "2021-11-09T10:27:57.945Z"
   },
   {
    "duration": 94,
    "start_time": "2021-11-09T10:27:57.950Z"
   },
   {
    "duration": 52,
    "start_time": "2021-11-09T10:27:58.048Z"
   },
   {
    "duration": 15,
    "start_time": "2021-11-09T10:27:58.103Z"
   },
   {
    "duration": 46,
    "start_time": "2021-11-09T10:27:58.121Z"
   },
   {
    "duration": 21,
    "start_time": "2021-11-09T10:27:58.170Z"
   },
   {
    "duration": 16,
    "start_time": "2021-11-09T10:27:58.194Z"
   },
   {
    "duration": 8,
    "start_time": "2021-11-09T10:27:58.213Z"
   },
   {
    "duration": 44,
    "start_time": "2021-11-09T10:27:58.225Z"
   },
   {
    "duration": 58,
    "start_time": "2021-11-09T10:27:58.272Z"
   },
   {
    "duration": 5,
    "start_time": "2021-11-09T10:27:58.333Z"
   },
   {
    "duration": 14,
    "start_time": "2021-11-09T10:27:58.368Z"
   },
   {
    "duration": 27,
    "start_time": "2021-11-09T10:27:58.384Z"
   },
   {
    "duration": 6,
    "start_time": "2021-11-09T10:27:58.413Z"
   },
   {
    "duration": 3,
    "start_time": "2021-11-09T10:28:13.001Z"
   },
   {
    "duration": 93,
    "start_time": "2021-11-09T10:28:13.007Z"
   },
   {
    "duration": 40,
    "start_time": "2021-11-09T10:28:13.103Z"
   },
   {
    "duration": 32,
    "start_time": "2021-11-09T10:28:13.145Z"
   },
   {
    "duration": 16,
    "start_time": "2021-11-09T10:28:13.180Z"
   },
   {
    "duration": 23,
    "start_time": "2021-11-09T10:28:13.198Z"
   },
   {
    "duration": 54,
    "start_time": "2021-11-09T10:28:13.226Z"
   },
   {
    "duration": 9,
    "start_time": "2021-11-09T10:28:13.284Z"
   },
   {
    "duration": 20,
    "start_time": "2021-11-09T10:28:13.296Z"
   },
   {
    "duration": 77,
    "start_time": "2021-11-09T10:28:13.319Z"
   },
   {
    "duration": 8,
    "start_time": "2021-11-09T10:28:13.398Z"
   },
   {
    "duration": 10,
    "start_time": "2021-11-09T10:28:13.408Z"
   },
   {
    "duration": 22,
    "start_time": "2021-11-09T10:28:13.420Z"
   },
   {
    "duration": 5,
    "start_time": "2021-11-09T10:28:13.467Z"
   },
   {
    "duration": 877,
    "start_time": "2021-11-09T10:28:31.139Z"
   },
   {
    "duration": 89,
    "start_time": "2021-11-09T10:28:32.019Z"
   },
   {
    "duration": 65,
    "start_time": "2021-11-09T10:28:32.111Z"
   },
   {
    "duration": 15,
    "start_time": "2021-11-09T10:28:32.179Z"
   },
   {
    "duration": 14,
    "start_time": "2021-11-09T10:28:32.196Z"
   },
   {
    "duration": 21,
    "start_time": "2021-11-09T10:28:32.212Z"
   },
   {
    "duration": 44,
    "start_time": "2021-11-09T10:28:32.236Z"
   },
   {
    "duration": 9,
    "start_time": "2021-11-09T10:28:32.284Z"
   },
   {
    "duration": 8,
    "start_time": "2021-11-09T10:28:32.295Z"
   },
   {
    "duration": 98,
    "start_time": "2021-11-09T10:28:32.306Z"
   },
   {
    "duration": 5,
    "start_time": "2021-11-09T10:28:32.406Z"
   },
   {
    "duration": 20,
    "start_time": "2021-11-09T10:28:32.413Z"
   },
   {
    "duration": 32,
    "start_time": "2021-11-09T10:28:32.436Z"
   },
   {
    "duration": 6,
    "start_time": "2021-11-09T10:28:32.471Z"
   },
   {
    "duration": 19,
    "start_time": "2021-11-09T10:30:03.637Z"
   },
   {
    "duration": 9,
    "start_time": "2021-11-09T10:30:27.750Z"
   },
   {
    "duration": 16,
    "start_time": "2021-11-09T10:30:28.029Z"
   },
   {
    "duration": 8,
    "start_time": "2021-11-09T10:30:38.414Z"
   },
   {
    "duration": 15,
    "start_time": "2021-11-09T10:30:38.829Z"
   },
   {
    "duration": 8,
    "start_time": "2021-11-09T10:31:06.894Z"
   },
   {
    "duration": 25,
    "start_time": "2021-11-09T10:31:07.205Z"
   },
   {
    "duration": 13,
    "start_time": "2021-11-09T10:32:05.967Z"
   },
   {
    "duration": 19,
    "start_time": "2021-11-09T10:32:06.197Z"
   },
   {
    "duration": 7,
    "start_time": "2021-11-09T10:33:21.536Z"
   },
   {
    "duration": 99,
    "start_time": "2021-11-09T10:33:38.633Z"
   },
   {
    "duration": 10,
    "start_time": "2021-11-09T10:37:59.530Z"
   },
   {
    "duration": 67,
    "start_time": "2021-11-09T10:39:53.984Z"
   },
   {
    "duration": 92,
    "start_time": "2021-11-09T10:40:47.032Z"
   },
   {
    "duration": 2123,
    "start_time": "2021-11-09T10:42:18.966Z"
   },
   {
    "duration": 17,
    "start_time": "2021-11-09T10:43:05.242Z"
   },
   {
    "duration": 66,
    "start_time": "2021-11-09T10:43:07.962Z"
   },
   {
    "duration": 8,
    "start_time": "2021-11-09T10:43:19.794Z"
   },
   {
    "duration": 7,
    "start_time": "2021-11-09T10:43:46.905Z"
   },
   {
    "duration": 5,
    "start_time": "2021-11-09T10:45:09.556Z"
   },
   {
    "duration": 35,
    "start_time": "2021-11-09T10:45:28.797Z"
   },
   {
    "duration": 35,
    "start_time": "2021-11-09T10:45:41.644Z"
   },
   {
    "duration": 9,
    "start_time": "2021-11-09T10:46:42.675Z"
   },
   {
    "duration": 6,
    "start_time": "2021-11-09T10:46:44.257Z"
   },
   {
    "duration": 34,
    "start_time": "2021-11-09T10:46:44.765Z"
   },
   {
    "duration": 4,
    "start_time": "2021-11-09T10:48:45.310Z"
   },
   {
    "duration": 35,
    "start_time": "2021-11-09T10:49:50.331Z"
   },
   {
    "duration": 31,
    "start_time": "2021-11-09T10:50:24.685Z"
   },
   {
    "duration": 70,
    "start_time": "2021-11-09T10:56:17.216Z"
   },
   {
    "duration": 10,
    "start_time": "2021-11-09T10:57:36.474Z"
   },
   {
    "duration": 7,
    "start_time": "2021-11-09T10:57:43.184Z"
   },
   {
    "duration": 5,
    "start_time": "2021-11-09T10:58:36.430Z"
   },
   {
    "duration": 5,
    "start_time": "2021-11-09T10:59:16.133Z"
   },
   {
    "duration": 8,
    "start_time": "2021-11-09T11:04:26.501Z"
   },
   {
    "duration": 17,
    "start_time": "2021-11-09T11:05:52.284Z"
   },
   {
    "duration": 290,
    "start_time": "2021-11-09T11:10:17.649Z"
   },
   {
    "duration": 315,
    "start_time": "2021-11-09T11:10:33.491Z"
   },
   {
    "duration": 989,
    "start_time": "2021-11-09T11:40:03.014Z"
   },
   {
    "duration": 956,
    "start_time": "2021-11-09T11:40:43.352Z"
   },
   {
    "duration": 1113,
    "start_time": "2021-11-09T11:40:58.201Z"
   },
   {
    "duration": 980,
    "start_time": "2021-11-09T11:41:07.855Z"
   },
   {
    "duration": 961,
    "start_time": "2021-11-09T11:41:15.815Z"
   },
   {
    "duration": 5,
    "start_time": "2021-11-09T11:41:52.952Z"
   },
   {
    "duration": 4,
    "start_time": "2021-11-09T11:42:15.449Z"
   },
   {
    "duration": 952,
    "start_time": "2021-11-09T11:42:55.994Z"
   },
   {
    "duration": 111,
    "start_time": "2021-11-09T11:43:30.825Z"
   },
   {
    "duration": 10,
    "start_time": "2021-11-09T11:44:09.352Z"
   },
   {
    "duration": 90,
    "start_time": "2021-11-09T11:46:40.913Z"
   },
   {
    "duration": 6,
    "start_time": "2021-11-09T11:47:44.752Z"
   },
   {
    "duration": 9,
    "start_time": "2021-11-09T11:47:58.528Z"
   },
   {
    "duration": 9,
    "start_time": "2021-11-09T11:48:32.644Z"
   },
   {
    "duration": 8,
    "start_time": "2021-11-09T11:50:46.457Z"
   },
   {
    "duration": 8,
    "start_time": "2021-11-09T11:51:17.426Z"
   },
   {
    "duration": 68,
    "start_time": "2021-11-09T11:58:19.820Z"
   },
   {
    "duration": 502,
    "start_time": "2021-11-09T11:58:48.294Z"
   },
   {
    "duration": 260,
    "start_time": "2021-11-09T11:58:57.372Z"
   },
   {
    "duration": 263,
    "start_time": "2021-11-09T11:59:05.117Z"
   },
   {
    "duration": 277,
    "start_time": "2021-11-09T11:59:09.038Z"
   },
   {
    "duration": 295,
    "start_time": "2021-11-09T12:00:19.942Z"
   },
   {
    "duration": 107,
    "start_time": "2021-11-09T12:00:32.221Z"
   },
   {
    "duration": 398,
    "start_time": "2021-11-09T12:00:52.783Z"
   },
   {
    "duration": 434,
    "start_time": "2021-11-09T12:01:08.217Z"
   },
   {
    "duration": 274,
    "start_time": "2021-11-09T12:01:24.049Z"
   },
   {
    "duration": 324,
    "start_time": "2021-11-09T12:02:01.502Z"
   },
   {
    "duration": 290,
    "start_time": "2021-11-09T12:02:18.854Z"
   },
   {
    "duration": 287,
    "start_time": "2021-11-09T12:02:21.430Z"
   },
   {
    "duration": 274,
    "start_time": "2021-11-09T12:02:33.000Z"
   },
   {
    "duration": 351,
    "start_time": "2021-11-09T12:02:43.955Z"
   },
   {
    "duration": 411,
    "start_time": "2021-11-09T12:02:47.696Z"
   },
   {
    "duration": 359,
    "start_time": "2021-11-09T12:02:56.870Z"
   },
   {
    "duration": 277,
    "start_time": "2021-11-09T12:03:03.774Z"
   },
   {
    "duration": 270,
    "start_time": "2021-11-09T12:03:07.576Z"
   },
   {
    "duration": 284,
    "start_time": "2021-11-09T12:03:15.359Z"
   },
   {
    "duration": 277,
    "start_time": "2021-11-09T12:04:12.679Z"
   },
   {
    "duration": 287,
    "start_time": "2021-11-09T12:04:16.921Z"
   },
   {
    "duration": 290,
    "start_time": "2021-11-09T12:04:25.382Z"
   },
   {
    "duration": 284,
    "start_time": "2021-11-09T12:04:30.430Z"
   },
   {
    "duration": 638,
    "start_time": "2021-11-09T12:05:31.655Z"
   },
   {
    "duration": 293,
    "start_time": "2021-11-09T12:05:34.951Z"
   },
   {
    "duration": 995,
    "start_time": "2021-11-09T12:05:53.535Z"
   },
   {
    "duration": 312,
    "start_time": "2021-11-09T12:08:32.653Z"
   },
   {
    "duration": 285,
    "start_time": "2021-11-09T12:08:43.694Z"
   },
   {
    "duration": 14050,
    "start_time": "2021-11-09T12:08:56.535Z"
   },
   {
    "duration": 459,
    "start_time": "2021-11-09T12:09:45.009Z"
   },
   {
    "duration": 1188,
    "start_time": "2021-11-09T12:10:37.151Z"
   },
   {
    "duration": 394,
    "start_time": "2021-11-09T12:11:29.241Z"
   },
   {
    "duration": 284,
    "start_time": "2021-11-09T12:11:54.944Z"
   },
   {
    "duration": 1210,
    "start_time": "2021-11-09T12:12:09.058Z"
   },
   {
    "duration": 800,
    "start_time": "2021-11-09T12:12:13.848Z"
   },
   {
    "duration": 801,
    "start_time": "2021-11-09T12:12:24.248Z"
   },
   {
    "duration": 801,
    "start_time": "2021-11-09T12:12:32.553Z"
   },
   {
    "duration": 846,
    "start_time": "2021-11-09T12:12:37.533Z"
   },
   {
    "duration": 816,
    "start_time": "2021-11-09T12:12:44.241Z"
   },
   {
    "duration": 823,
    "start_time": "2021-11-09T12:13:51.400Z"
   },
   {
    "duration": 830,
    "start_time": "2021-11-09T12:14:06.864Z"
   },
   {
    "duration": 839,
    "start_time": "2021-11-09T12:14:44.395Z"
   },
   {
    "duration": 874,
    "start_time": "2021-11-09T12:16:56.951Z"
   },
   {
    "duration": 313,
    "start_time": "2021-11-09T12:17:13.856Z"
   },
   {
    "duration": 306,
    "start_time": "2021-11-09T12:17:33.777Z"
   },
   {
    "duration": 337,
    "start_time": "2021-11-09T12:17:38.413Z"
   },
   {
    "duration": 332,
    "start_time": "2021-11-09T12:18:20.674Z"
   },
   {
    "duration": 341,
    "start_time": "2021-11-09T12:18:27.458Z"
   },
   {
    "duration": 284,
    "start_time": "2021-11-09T12:20:44.416Z"
   },
   {
    "duration": 613,
    "start_time": "2021-11-09T12:21:15.424Z"
   },
   {
    "duration": 474,
    "start_time": "2021-11-09T12:21:23.170Z"
   },
   {
    "duration": 142646,
    "start_time": "2021-11-09T12:21:33.922Z"
   },
   {
    "duration": 305,
    "start_time": "2021-11-09T12:24:11.395Z"
   },
   {
    "duration": 284,
    "start_time": "2021-11-09T12:24:18.275Z"
   },
   {
    "duration": 299,
    "start_time": "2021-11-09T12:24:21.964Z"
   },
   {
    "duration": 44681,
    "start_time": "2021-11-09T12:24:48.139Z"
   },
   {
    "duration": 335,
    "start_time": "2021-11-09T12:26:23.132Z"
   },
   {
    "duration": 333,
    "start_time": "2021-11-09T12:26:30.843Z"
   },
   {
    "duration": 355,
    "start_time": "2021-11-09T12:26:49.685Z"
   },
   {
    "duration": 755,
    "start_time": "2021-11-09T12:27:02.155Z"
   },
   {
    "duration": 332,
    "start_time": "2021-11-09T12:27:06.364Z"
   },
   {
    "duration": 582,
    "start_time": "2021-11-09T12:27:16.371Z"
   },
   {
    "duration": 615,
    "start_time": "2021-11-09T12:27:25.787Z"
   },
   {
    "duration": 327,
    "start_time": "2021-11-09T12:27:37.918Z"
   },
   {
    "duration": 307,
    "start_time": "2021-11-09T12:27:50.020Z"
   },
   {
    "duration": 847,
    "start_time": "2021-11-09T12:28:17.236Z"
   },
   {
    "duration": 299,
    "start_time": "2021-11-09T12:28:22.643Z"
   },
   {
    "duration": 312,
    "start_time": "2021-11-09T12:28:27.211Z"
   },
   {
    "duration": 8,
    "start_time": "2021-11-09T12:28:53.014Z"
   },
   {
    "duration": 513,
    "start_time": "2021-11-09T12:29:50.500Z"
   },
   {
    "duration": 1039,
    "start_time": "2021-11-09T12:29:58.828Z"
   },
   {
    "duration": 338,
    "start_time": "2021-11-09T12:30:24.941Z"
   },
   {
    "duration": 624,
    "start_time": "2021-11-09T12:31:16.565Z"
   },
   {
    "duration": 324,
    "start_time": "2021-11-09T12:31:19.531Z"
   },
   {
    "duration": 344,
    "start_time": "2021-11-09T12:32:11.774Z"
   },
   {
    "duration": 311,
    "start_time": "2021-11-09T12:32:35.701Z"
   },
   {
    "duration": 797,
    "start_time": "2021-11-09T12:32:51.472Z"
   },
   {
    "duration": 97,
    "start_time": "2021-11-09T12:32:52.271Z"
   },
   {
    "duration": 54,
    "start_time": "2021-11-09T12:32:52.371Z"
   },
   {
    "duration": 41,
    "start_time": "2021-11-09T12:32:52.428Z"
   },
   {
    "duration": 13,
    "start_time": "2021-11-09T12:32:52.473Z"
   },
   {
    "duration": 24,
    "start_time": "2021-11-09T12:32:52.489Z"
   },
   {
    "duration": 17,
    "start_time": "2021-11-09T12:32:52.516Z"
   },
   {
    "duration": 9,
    "start_time": "2021-11-09T12:32:52.569Z"
   },
   {
    "duration": 10,
    "start_time": "2021-11-09T12:32:52.583Z"
   },
   {
    "duration": 84,
    "start_time": "2021-11-09T12:32:52.596Z"
   },
   {
    "duration": 5,
    "start_time": "2021-11-09T12:32:52.683Z"
   },
   {
    "duration": 19,
    "start_time": "2021-11-09T12:32:52.690Z"
   },
   {
    "duration": 21,
    "start_time": "2021-11-09T12:32:52.712Z"
   },
   {
    "duration": 6,
    "start_time": "2021-11-09T12:32:52.735Z"
   },
   {
    "duration": 37,
    "start_time": "2021-11-09T12:32:52.744Z"
   },
   {
    "duration": 9,
    "start_time": "2021-11-09T12:32:52.784Z"
   },
   {
    "duration": 11,
    "start_time": "2021-11-09T12:32:52.796Z"
   },
   {
    "duration": 61,
    "start_time": "2021-11-09T12:32:52.809Z"
   },
   {
    "duration": 40,
    "start_time": "2021-11-09T12:32:52.873Z"
   },
   {
    "duration": 11,
    "start_time": "2021-11-09T12:32:52.915Z"
   },
   {
    "duration": 43,
    "start_time": "2021-11-09T12:32:52.928Z"
   },
   {
    "duration": 4,
    "start_time": "2021-11-09T12:32:52.974Z"
   },
   {
    "duration": 975,
    "start_time": "2021-11-09T12:32:52.980Z"
   },
   {
    "duration": 13,
    "start_time": "2021-11-09T12:32:53.957Z"
   },
   {
    "duration": 13,
    "start_time": "2021-11-09T12:32:53.972Z"
   },
   {
    "duration": 10,
    "start_time": "2021-11-09T12:32:53.987Z"
   },
   {
    "duration": 998,
    "start_time": "2021-11-09T12:32:54.001Z"
   },
   {
    "duration": 972,
    "start_time": "2021-11-09T12:32:55.002Z"
   },
   {
    "duration": 383,
    "start_time": "2021-11-09T12:32:55.977Z"
   },
   {
    "duration": 476,
    "start_time": "2021-11-09T12:32:56.363Z"
   },
   {
    "duration": 88,
    "start_time": "2021-11-09T12:32:56.842Z"
   },
   {
    "duration": 305,
    "start_time": "2021-11-09T12:33:18.407Z"
   },
   {
    "duration": 304,
    "start_time": "2021-11-09T12:33:24.893Z"
   },
   {
    "duration": 318,
    "start_time": "2021-11-09T12:33:39.220Z"
   },
   {
    "duration": 406,
    "start_time": "2021-11-09T12:34:59.909Z"
   },
   {
    "duration": 302,
    "start_time": "2021-11-09T12:36:18.966Z"
   },
   {
    "duration": 340,
    "start_time": "2021-11-09T12:36:36.854Z"
   },
   {
    "duration": 309,
    "start_time": "2021-11-09T12:36:41.055Z"
   },
   {
    "duration": 286,
    "start_time": "2021-11-09T12:36:43.650Z"
   },
   {
    "duration": 9447,
    "start_time": "2021-11-09T12:36:55.253Z"
   },
   {
    "duration": 962,
    "start_time": "2021-11-09T12:37:31.874Z"
   },
   {
    "duration": 858,
    "start_time": "2021-11-09T12:37:36.607Z"
   },
   {
    "duration": 422,
    "start_time": "2021-11-09T12:37:40.970Z"
   },
   {
    "duration": 284,
    "start_time": "2021-11-09T12:37:43.885Z"
   },
   {
    "duration": 271,
    "start_time": "2021-11-09T12:37:46.005Z"
   },
   {
    "duration": 266,
    "start_time": "2021-11-09T12:37:50.286Z"
   },
   {
    "duration": 382,
    "start_time": "2021-11-09T12:38:09.621Z"
   },
   {
    "duration": 293,
    "start_time": "2021-11-09T12:38:21.823Z"
   },
   {
    "duration": 371,
    "start_time": "2021-11-09T12:38:27.503Z"
   },
   {
    "duration": 1251,
    "start_time": "2021-11-09T12:38:33.982Z"
   },
   {
    "duration": 293,
    "start_time": "2021-11-09T12:39:35.758Z"
   },
   {
    "duration": 86,
    "start_time": "2021-11-09T12:40:51.436Z"
   },
   {
    "duration": 118,
    "start_time": "2021-11-09T12:41:01.747Z"
   },
   {
    "duration": 233,
    "start_time": "2021-11-09T12:41:28.040Z"
   },
   {
    "duration": 341,
    "start_time": "2021-11-09T12:41:52.168Z"
   },
   {
    "duration": 559,
    "start_time": "2021-11-09T12:41:54.880Z"
   },
   {
    "duration": 4,
    "start_time": "2021-11-09T12:43:16.134Z"
   },
   {
    "duration": 3,
    "start_time": "2021-11-09T12:43:26.276Z"
   },
   {
    "duration": 846,
    "start_time": "2021-11-09T12:43:29.298Z"
   },
   {
    "duration": 1071,
    "start_time": "2021-11-09T12:43:30.148Z"
   },
   {
    "duration": 390,
    "start_time": "2021-11-09T12:43:31.222Z"
   },
   {
    "duration": 361,
    "start_time": "2021-11-09T12:43:31.615Z"
   },
   {
    "duration": 569,
    "start_time": "2021-11-09T12:43:46.549Z"
   },
   {
    "duration": 358,
    "start_time": "2021-11-09T12:44:23.200Z"
   },
   {
    "duration": 369,
    "start_time": "2021-11-09T12:45:07.815Z"
   },
   {
    "duration": 867,
    "start_time": "2021-11-09T12:45:22.584Z"
   },
   {
    "duration": 561,
    "start_time": "2021-11-09T12:45:37.569Z"
   },
   {
    "duration": 459,
    "start_time": "2021-11-09T12:45:46.986Z"
   },
   {
    "duration": 414,
    "start_time": "2021-11-09T12:45:52.064Z"
   },
   {
    "duration": 330,
    "start_time": "2021-11-09T12:46:11.304Z"
   },
   {
    "duration": 938,
    "start_time": "2021-11-09T12:46:32.543Z"
   },
   {
    "duration": 322,
    "start_time": "2021-11-09T12:47:03.872Z"
   },
   {
    "duration": 312,
    "start_time": "2021-11-09T12:47:08.905Z"
   },
   {
    "duration": 276,
    "start_time": "2021-11-09T12:54:12.771Z"
   },
   {
    "duration": 313,
    "start_time": "2021-11-09T12:54:16.306Z"
   },
   {
    "duration": 305,
    "start_time": "2021-11-09T12:54:22.486Z"
   },
   {
    "duration": 312,
    "start_time": "2021-11-09T12:54:54.362Z"
   },
   {
    "duration": 732,
    "start_time": "2021-11-09T21:07:34.192Z"
   },
   {
    "duration": 89,
    "start_time": "2021-11-09T21:07:34.927Z"
   },
   {
    "duration": 52,
    "start_time": "2021-11-09T21:07:35.018Z"
   },
   {
    "duration": 16,
    "start_time": "2021-11-09T21:07:35.072Z"
   },
   {
    "duration": 11,
    "start_time": "2021-11-09T21:07:35.091Z"
   },
   {
    "duration": 59,
    "start_time": "2021-11-09T21:07:35.105Z"
   },
   {
    "duration": 22,
    "start_time": "2021-11-09T21:07:35.167Z"
   },
   {
    "duration": 9,
    "start_time": "2021-11-09T21:07:35.192Z"
   },
   {
    "duration": 22,
    "start_time": "2021-11-09T21:07:35.203Z"
   },
   {
    "duration": 69,
    "start_time": "2021-11-09T21:07:35.227Z"
   },
   {
    "duration": 6,
    "start_time": "2021-11-09T21:07:35.298Z"
   },
   {
    "duration": 13,
    "start_time": "2021-11-09T21:07:35.307Z"
   },
   {
    "duration": 13,
    "start_time": "2021-11-09T21:07:35.322Z"
   },
   {
    "duration": 26,
    "start_time": "2021-11-09T21:07:35.338Z"
   },
   {
    "duration": 18,
    "start_time": "2021-11-09T21:07:35.367Z"
   },
   {
    "duration": 9,
    "start_time": "2021-11-09T21:07:35.388Z"
   },
   {
    "duration": 19,
    "start_time": "2021-11-09T21:07:35.399Z"
   },
   {
    "duration": 52,
    "start_time": "2021-11-09T21:07:35.421Z"
   },
   {
    "duration": 33,
    "start_time": "2021-11-09T21:07:35.475Z"
   },
   {
    "duration": 10,
    "start_time": "2021-11-09T21:07:35.510Z"
   },
   {
    "duration": 41,
    "start_time": "2021-11-09T21:07:35.523Z"
   },
   {
    "duration": 4,
    "start_time": "2021-11-09T21:07:35.569Z"
   },
   {
    "duration": 948,
    "start_time": "2021-11-09T21:07:35.575Z"
   },
   {
    "duration": 10,
    "start_time": "2021-11-09T21:07:36.525Z"
   },
   {
    "duration": 25,
    "start_time": "2021-11-09T21:07:36.538Z"
   },
   {
    "duration": 14,
    "start_time": "2021-11-09T21:07:36.566Z"
   },
   {
    "duration": 123,
    "start_time": "2021-11-09T21:07:36.582Z"
   },
   {
    "duration": 821,
    "start_time": "2021-11-09T21:07:36.708Z"
   },
   {
    "duration": 871,
    "start_time": "2021-11-09T21:07:37.531Z"
   },
   {
    "duration": 342,
    "start_time": "2021-11-09T21:07:38.404Z"
   },
   {
    "duration": 316,
    "start_time": "2021-11-09T21:07:38.749Z"
   },
   {
    "duration": 311,
    "start_time": "2021-11-09T21:07:39.067Z"
   },
   {
    "duration": 67,
    "start_time": "2021-11-09T21:08:24.372Z"
   },
   {
    "duration": 7,
    "start_time": "2021-11-09T21:10:41.031Z"
   },
   {
    "duration": 9,
    "start_time": "2021-11-09T21:11:31.788Z"
   },
   {
    "duration": 9,
    "start_time": "2021-11-09T21:12:01.781Z"
   },
   {
    "duration": 783,
    "start_time": "2021-11-09T21:14:22.131Z"
   },
   {
    "duration": 303,
    "start_time": "2021-11-09T21:14:33.869Z"
   },
   {
    "duration": 8,
    "start_time": "2021-11-09T21:17:05.390Z"
   },
   {
    "duration": 8,
    "start_time": "2021-11-09T21:17:09.918Z"
   },
   {
    "duration": 8,
    "start_time": "2021-11-09T21:17:14.469Z"
   },
   {
    "duration": 385,
    "start_time": "2021-11-09T21:17:20.645Z"
   },
   {
    "duration": 317,
    "start_time": "2021-11-09T21:17:35.413Z"
   },
   {
    "duration": 260,
    "start_time": "2021-11-09T21:17:58.478Z"
   },
   {
    "duration": 386,
    "start_time": "2021-11-09T21:18:02.904Z"
   },
   {
    "duration": 330,
    "start_time": "2021-11-09T21:18:06.405Z"
   },
   {
    "duration": 321,
    "start_time": "2021-11-09T21:18:38.742Z"
   },
   {
    "duration": 322,
    "start_time": "2021-11-09T21:18:42.240Z"
   },
   {
    "duration": 326,
    "start_time": "2021-11-09T21:18:57.257Z"
   },
   {
    "duration": 323,
    "start_time": "2021-11-09T21:19:01.542Z"
   },
   {
    "duration": 340,
    "start_time": "2021-11-09T21:19:05.043Z"
   },
   {
    "duration": 319,
    "start_time": "2021-11-09T21:19:10.501Z"
   },
   {
    "duration": 416,
    "start_time": "2021-11-09T21:19:13.366Z"
   },
   {
    "duration": 267,
    "start_time": "2021-11-09T21:19:19.438Z"
   },
   {
    "duration": 464,
    "start_time": "2021-11-09T21:19:28.900Z"
   },
   {
    "duration": 320,
    "start_time": "2021-11-09T21:19:51.343Z"
   },
   {
    "duration": 324,
    "start_time": "2021-11-09T21:20:09.624Z"
   },
   {
    "duration": 743,
    "start_time": "2021-11-09T21:20:12.831Z"
   },
   {
    "duration": 320,
    "start_time": "2021-11-09T21:20:47.106Z"
   },
   {
    "duration": 133,
    "start_time": "2021-11-09T21:21:27.599Z"
   },
   {
    "duration": 8,
    "start_time": "2021-11-09T21:21:50.648Z"
   },
   {
    "duration": 7,
    "start_time": "2021-11-09T21:22:53.840Z"
   },
   {
    "duration": 133,
    "start_time": "2021-11-09T21:23:33.359Z"
   },
   {
    "duration": 6,
    "start_time": "2021-11-09T21:23:46.742Z"
   },
   {
    "duration": 9,
    "start_time": "2021-11-09T21:26:20.039Z"
   },
   {
    "duration": 9,
    "start_time": "2021-11-09T21:26:23.344Z"
   },
   {
    "duration": 382,
    "start_time": "2021-11-09T21:31:34.893Z"
   },
   {
    "duration": 20,
    "start_time": "2021-11-09T21:32:41.953Z"
   },
   {
    "duration": 64,
    "start_time": "2021-11-09T21:32:49.528Z"
   },
   {
    "duration": 326,
    "start_time": "2021-11-09T21:33:26.177Z"
   },
   {
    "duration": 7,
    "start_time": "2021-11-09T21:33:43.376Z"
   },
   {
    "duration": 13,
    "start_time": "2021-11-09T21:34:07.249Z"
   },
   {
    "duration": 65,
    "start_time": "2021-11-09T21:34:08.736Z"
   },
   {
    "duration": 12,
    "start_time": "2021-11-09T21:34:12.563Z"
   },
   {
    "duration": 91,
    "start_time": "2021-11-09T21:34:16.273Z"
   },
   {
    "duration": 13,
    "start_time": "2021-11-09T21:34:17.784Z"
   },
   {
    "duration": 322,
    "start_time": "2021-11-09T21:34:44.628Z"
   },
   {
    "duration": 325,
    "start_time": "2021-11-09T21:35:03.434Z"
   },
   {
    "duration": 320,
    "start_time": "2021-11-09T21:35:07.153Z"
   },
   {
    "duration": 412,
    "start_time": "2021-11-09T21:35:41.858Z"
   },
   {
    "duration": 350,
    "start_time": "2021-11-09T21:36:28.833Z"
   },
   {
    "duration": 314,
    "start_time": "2021-11-10T08:38:10.152Z"
   },
   {
    "duration": 617,
    "start_time": "2021-11-10T08:38:17.670Z"
   },
   {
    "duration": 74,
    "start_time": "2021-11-10T08:38:18.289Z"
   },
   {
    "duration": 33,
    "start_time": "2021-11-10T08:38:18.368Z"
   },
   {
    "duration": 12,
    "start_time": "2021-11-10T08:38:18.404Z"
   },
   {
    "duration": 11,
    "start_time": "2021-11-10T08:38:18.445Z"
   },
   {
    "duration": 16,
    "start_time": "2021-11-10T08:38:18.458Z"
   },
   {
    "duration": 11,
    "start_time": "2021-11-10T08:38:18.477Z"
   },
   {
    "duration": 8,
    "start_time": "2021-11-10T08:38:18.491Z"
   },
   {
    "duration": 44,
    "start_time": "2021-11-10T08:38:18.500Z"
   },
   {
    "duration": 35,
    "start_time": "2021-11-10T08:38:18.546Z"
   },
   {
    "duration": 4,
    "start_time": "2021-11-10T08:38:18.584Z"
   },
   {
    "duration": 8,
    "start_time": "2021-11-10T08:38:18.590Z"
   },
   {
    "duration": 18,
    "start_time": "2021-11-10T08:38:18.600Z"
   },
   {
    "duration": 27,
    "start_time": "2021-11-10T08:38:18.619Z"
   },
   {
    "duration": 13,
    "start_time": "2021-11-10T08:38:18.648Z"
   },
   {
    "duration": 8,
    "start_time": "2021-11-10T08:38:18.663Z"
   },
   {
    "duration": 9,
    "start_time": "2021-11-10T08:38:18.672Z"
   },
   {
    "duration": 26,
    "start_time": "2021-11-10T08:38:18.683Z"
   },
   {
    "duration": 53,
    "start_time": "2021-11-10T08:38:18.711Z"
   },
   {
    "duration": 6,
    "start_time": "2021-11-10T08:38:18.766Z"
   },
   {
    "duration": 16,
    "start_time": "2021-11-10T08:38:18.773Z"
   },
   {
    "duration": 3,
    "start_time": "2021-11-10T08:38:18.792Z"
   },
   {
    "duration": 574,
    "start_time": "2021-11-10T08:38:18.798Z"
   },
   {
    "duration": 9,
    "start_time": "2021-11-10T08:38:19.373Z"
   },
   {
    "duration": 8,
    "start_time": "2021-11-10T08:38:19.384Z"
   },
   {
    "duration": 7,
    "start_time": "2021-11-10T08:38:19.394Z"
   },
   {
    "duration": 101,
    "start_time": "2021-11-10T08:38:19.402Z"
   },
   {
    "duration": 524,
    "start_time": "2021-11-10T08:38:19.504Z"
   },
   {
    "duration": 545,
    "start_time": "2021-11-10T08:38:20.030Z"
   },
   {
    "duration": 222,
    "start_time": "2021-11-10T08:38:20.577Z"
   },
   {
    "duration": 202,
    "start_time": "2021-11-10T08:38:20.801Z"
   },
   {
    "duration": 205,
    "start_time": "2021-11-10T08:38:21.004Z"
   },
   {
    "duration": 6,
    "start_time": "2021-11-10T08:38:21.211Z"
   },
   {
    "duration": 217,
    "start_time": "2021-11-10T08:38:21.219Z"
   },
   {
    "duration": 4,
    "start_time": "2021-11-10T08:38:21.444Z"
   },
   {
    "duration": 17,
    "start_time": "2021-11-10T08:38:21.450Z"
   },
   {
    "duration": 229,
    "start_time": "2021-11-10T08:38:21.469Z"
   },
   {
    "duration": 51,
    "start_time": "2021-11-10T08:38:21.700Z"
   },
   {
    "duration": 15,
    "start_time": "2021-11-10T08:40:16.105Z"
   },
   {
    "duration": 236,
    "start_time": "2021-11-10T08:40:40.976Z"
   },
   {
    "duration": 166,
    "start_time": "2021-11-10T08:40:50.321Z"
   },
   {
    "duration": 18,
    "start_time": "2021-11-10T08:41:00.258Z"
   },
   {
    "duration": 200,
    "start_time": "2021-11-10T08:41:59.738Z"
   },
   {
    "duration": 17,
    "start_time": "2021-11-10T08:43:05.226Z"
   },
   {
    "duration": 481,
    "start_time": "2021-11-10T08:44:21.746Z"
   },
   {
    "duration": 595,
    "start_time": "2021-11-10T08:45:19.961Z"
   },
   {
    "duration": 477,
    "start_time": "2021-11-10T08:45:24.052Z"
   },
   {
    "duration": 516,
    "start_time": "2021-11-10T08:45:57.593Z"
   },
   {
    "duration": 511,
    "start_time": "2021-11-10T08:46:07.513Z"
   },
   {
    "duration": 423,
    "start_time": "2021-11-10T08:46:30.203Z"
   },
   {
    "duration": 456,
    "start_time": "2021-11-10T08:47:05.295Z"
   },
   {
    "duration": 417,
    "start_time": "2021-11-10T08:47:25.131Z"
   },
   {
    "duration": 510,
    "start_time": "2021-11-10T08:47:30.076Z"
   },
   {
    "duration": 480,
    "start_time": "2021-11-10T08:47:35.858Z"
   },
   {
    "duration": 558,
    "start_time": "2021-11-10T08:52:21.669Z"
   },
   {
    "duration": 476,
    "start_time": "2021-11-10T08:52:59.868Z"
   },
   {
    "duration": 518,
    "start_time": "2021-11-10T08:53:07.116Z"
   },
   {
    "duration": 657,
    "start_time": "2021-11-10T08:53:12.326Z"
   },
   {
    "duration": 727,
    "start_time": "2021-11-10T08:53:20.961Z"
   },
   {
    "duration": 562,
    "start_time": "2021-11-10T08:54:42.308Z"
   },
   {
    "duration": 468,
    "start_time": "2021-11-10T08:55:11.552Z"
   },
   {
    "duration": 5,
    "start_time": "2021-11-10T08:55:58.493Z"
   },
   {
    "duration": 6,
    "start_time": "2021-11-10T08:56:37.740Z"
   },
   {
    "duration": 346,
    "start_time": "2021-11-10T08:57:16.280Z"
   },
   {
    "duration": 6,
    "start_time": "2021-11-10T08:57:22.861Z"
   },
   {
    "duration": 591,
    "start_time": "2021-11-10T08:58:02.181Z"
   },
   {
    "duration": 458,
    "start_time": "2021-11-10T08:58:08.557Z"
   },
   {
    "duration": 443,
    "start_time": "2021-11-10T08:58:28.263Z"
   },
   {
    "duration": 329,
    "start_time": "2021-11-10T09:08:25.537Z"
   },
   {
    "duration": 397,
    "start_time": "2021-11-10T09:08:37.359Z"
   },
   {
    "duration": 302,
    "start_time": "2021-11-10T09:08:47.340Z"
   },
   {
    "duration": 368,
    "start_time": "2021-11-10T09:08:57.168Z"
   },
   {
    "duration": 347,
    "start_time": "2021-11-10T09:09:15.817Z"
   },
   {
    "duration": 42,
    "start_time": "2021-11-10T09:10:19.745Z"
   },
   {
    "duration": 407,
    "start_time": "2021-11-10T09:10:41.877Z"
   },
   {
    "duration": 523,
    "start_time": "2021-11-10T09:11:04.403Z"
   },
   {
    "duration": 462,
    "start_time": "2021-11-10T09:11:19.163Z"
   },
   {
    "duration": 6,
    "start_time": "2021-11-10T09:12:10.210Z"
   },
   {
    "duration": 5,
    "start_time": "2021-11-10T09:12:26.099Z"
   },
   {
    "duration": 470,
    "start_time": "2021-11-10T09:13:00.651Z"
   },
   {
    "duration": 568,
    "start_time": "2021-11-10T09:13:22.069Z"
   },
   {
    "duration": 9,
    "start_time": "2021-11-10T09:15:18.362Z"
   },
   {
    "duration": 489,
    "start_time": "2021-11-10T09:15:34.884Z"
   },
   {
    "duration": 530,
    "start_time": "2021-11-10T09:16:49.794Z"
   },
   {
    "duration": 617,
    "start_time": "2021-11-10T09:17:14.090Z"
   },
   {
    "duration": 8,
    "start_time": "2021-11-10T09:17:16.033Z"
   },
   {
    "duration": 517,
    "start_time": "2021-11-10T09:17:16.500Z"
   },
   {
    "duration": 562,
    "start_time": "2021-11-10T09:17:21.706Z"
   },
   {
    "duration": 8,
    "start_time": "2021-11-10T09:18:02.876Z"
   },
   {
    "duration": 493,
    "start_time": "2021-11-10T09:18:03.164Z"
   },
   {
    "duration": 18,
    "start_time": "2021-11-10T09:19:40.468Z"
   },
   {
    "duration": 392,
    "start_time": "2021-11-10T09:19:46.283Z"
   },
   {
    "duration": 210,
    "start_time": "2021-11-10T09:19:54.989Z"
   },
   {
    "duration": 475,
    "start_time": "2021-11-10T09:20:06.324Z"
   },
   {
    "duration": 330,
    "start_time": "2021-11-10T09:20:10.917Z"
   },
   {
    "duration": 509,
    "start_time": "2021-11-10T09:21:15.557Z"
   },
   {
    "duration": 5362,
    "start_time": "2021-11-10T09:21:52.310Z"
   },
   {
    "duration": 5807,
    "start_time": "2021-11-10T09:22:04.845Z"
   },
   {
    "duration": 5,
    "start_time": "2021-11-10T09:22:11.263Z"
   },
   {
    "duration": 1452,
    "start_time": "2021-11-10T09:22:16.340Z"
   },
   {
    "duration": 8837,
    "start_time": "2021-11-10T09:22:21.079Z"
   },
   {
    "duration": 1254,
    "start_time": "2021-11-10T09:22:34.327Z"
   },
   {
    "duration": 13,
    "start_time": "2021-11-10T09:24:42.662Z"
   },
   {
    "duration": 172,
    "start_time": "2021-11-10T09:25:00.396Z"
   },
   {
    "duration": 642,
    "start_time": "2021-11-10T09:25:05.565Z"
   },
   {
    "duration": 474,
    "start_time": "2021-11-10T09:25:10.029Z"
   },
   {
    "duration": 310,
    "start_time": "2021-11-10T09:25:12.797Z"
   },
   {
    "duration": 235,
    "start_time": "2021-11-10T09:25:16.263Z"
   },
   {
    "duration": 270,
    "start_time": "2021-11-10T09:26:03.680Z"
   },
   {
    "duration": 267,
    "start_time": "2021-11-10T09:26:10.672Z"
   },
   {
    "duration": 265,
    "start_time": "2021-11-10T09:26:16.782Z"
   },
   {
    "duration": 97,
    "start_time": "2021-11-10T09:26:32.718Z"
   },
   {
    "duration": 84,
    "start_time": "2021-11-10T09:26:37.471Z"
   },
   {
    "duration": 262,
    "start_time": "2021-11-10T09:26:41.517Z"
   },
   {
    "duration": 578,
    "start_time": "2021-11-10T09:27:12.363Z"
   },
   {
    "duration": 257,
    "start_time": "2021-11-10T09:27:40.191Z"
   },
   {
    "duration": 356,
    "start_time": "2021-11-10T09:27:51.845Z"
   },
   {
    "duration": 566,
    "start_time": "2021-11-10T09:28:03.871Z"
   },
   {
    "duration": 430,
    "start_time": "2021-11-10T09:28:42.822Z"
   },
   {
    "duration": 227,
    "start_time": "2021-11-10T09:28:46.511Z"
   },
   {
    "duration": 209,
    "start_time": "2021-11-10T09:29:06.926Z"
   },
   {
    "duration": 206,
    "start_time": "2021-11-10T09:30:19.454Z"
   },
   {
    "duration": 48,
    "start_time": "2021-11-10T09:33:15.093Z"
   },
   {
    "duration": 153,
    "start_time": "2021-11-10T09:33:27.935Z"
   },
   {
    "duration": 30,
    "start_time": "2021-11-10T09:35:54.473Z"
   },
   {
    "duration": 90,
    "start_time": "2021-11-10T09:36:04.134Z"
   },
   {
    "duration": 8,
    "start_time": "2021-11-10T09:36:06.977Z"
   },
   {
    "duration": 10,
    "start_time": "2021-11-10T09:36:36.769Z"
   },
   {
    "duration": 207,
    "start_time": "2021-11-10T09:38:58.131Z"
   },
   {
    "duration": 331,
    "start_time": "2021-11-10T09:39:05.858Z"
   },
   {
    "duration": 34,
    "start_time": "2021-11-10T09:39:15.249Z"
   },
   {
    "duration": 11,
    "start_time": "2021-11-10T09:39:27.986Z"
   },
   {
    "duration": 10,
    "start_time": "2021-11-10T09:39:57.289Z"
   },
   {
    "duration": 12,
    "start_time": "2021-11-10T09:40:25.258Z"
   },
   {
    "duration": 89,
    "start_time": "2021-11-10T09:42:07.112Z"
   },
   {
    "duration": 13,
    "start_time": "2021-11-10T09:42:11.473Z"
   },
   {
    "duration": 12,
    "start_time": "2021-11-10T09:43:17.867Z"
   },
   {
    "duration": 88,
    "start_time": "2021-11-10T09:46:41.236Z"
   },
   {
    "duration": 7165,
    "start_time": "2021-11-10T09:46:50.257Z"
   },
   {
    "duration": 40,
    "start_time": "2021-11-10T09:47:06.500Z"
   },
   {
    "duration": 12,
    "start_time": "2021-11-10T09:47:18.916Z"
   },
   {
    "duration": 513,
    "start_time": "2021-11-10T09:47:26.123Z"
   },
   {
    "duration": 549,
    "start_time": "2021-11-10T09:48:06.595Z"
   },
   {
    "duration": 514,
    "start_time": "2021-11-10T09:49:44.980Z"
   },
   {
    "duration": 557,
    "start_time": "2021-11-10T09:49:57.892Z"
   },
   {
    "duration": 534,
    "start_time": "2021-11-10T09:50:18.110Z"
   },
   {
    "duration": 43,
    "start_time": "2021-11-10T09:56:35.918Z"
   },
   {
    "duration": 315,
    "start_time": "2021-11-10T09:57:30.213Z"
   },
   {
    "duration": 199,
    "start_time": "2021-11-10T09:57:33.781Z"
   },
   {
    "duration": 355,
    "start_time": "2021-11-10T09:57:47.549Z"
   },
   {
    "duration": 288,
    "start_time": "2021-11-10T09:57:52.799Z"
   },
   {
    "duration": 198,
    "start_time": "2021-11-10T09:59:52.811Z"
   },
   {
    "duration": 793,
    "start_time": "2021-11-10T10:00:35.855Z"
   },
   {
    "duration": 17,
    "start_time": "2021-11-10T10:05:32.197Z"
   },
   {
    "duration": 17,
    "start_time": "2021-11-10T10:05:41.795Z"
   },
   {
    "duration": 908,
    "start_time": "2021-11-10T10:06:03.010Z"
   },
   {
    "duration": 281,
    "start_time": "2021-11-10T10:06:15.880Z"
   },
   {
    "duration": 16,
    "start_time": "2021-11-10T10:06:22.605Z"
   },
   {
    "duration": 16,
    "start_time": "2021-11-10T10:06:31.812Z"
   },
   {
    "duration": 282,
    "start_time": "2021-11-10T10:06:48.938Z"
   },
   {
    "duration": 343,
    "start_time": "2021-11-10T10:06:53.633Z"
   },
   {
    "duration": 15,
    "start_time": "2021-11-10T10:07:34.636Z"
   },
   {
    "duration": 89,
    "start_time": "2021-11-10T10:08:44.673Z"
   },
   {
    "duration": 101,
    "start_time": "2021-11-10T10:08:49.736Z"
   },
   {
    "duration": 17,
    "start_time": "2021-11-10T10:09:00.768Z"
   },
   {
    "duration": 287,
    "start_time": "2021-11-10T10:09:44.529Z"
   },
   {
    "duration": 15,
    "start_time": "2021-11-10T10:09:52.836Z"
   },
   {
    "duration": 15,
    "start_time": "2021-11-10T10:10:27.592Z"
   },
   {
    "duration": 16,
    "start_time": "2021-11-10T10:11:29.619Z"
   },
   {
    "duration": 9,
    "start_time": "2021-11-10T10:12:39.884Z"
   },
   {
    "duration": 16,
    "start_time": "2021-11-10T10:12:57.370Z"
   },
   {
    "duration": 333,
    "start_time": "2021-11-10T10:13:24.454Z"
   },
   {
    "duration": 275,
    "start_time": "2021-11-10T10:13:35.337Z"
   },
   {
    "duration": 15,
    "start_time": "2021-11-10T10:13:37.644Z"
   },
   {
    "duration": 110,
    "start_time": "2021-11-10T10:14:16.603Z"
   },
   {
    "duration": 27,
    "start_time": "2021-11-10T10:14:22.574Z"
   },
   {
    "duration": 95,
    "start_time": "2021-11-10T10:14:29.076Z"
   },
   {
    "duration": 138,
    "start_time": "2021-11-10T10:14:36.378Z"
   },
   {
    "duration": 377,
    "start_time": "2021-11-10T10:14:46.533Z"
   },
   {
    "duration": 611,
    "start_time": "2021-11-10T10:15:32.556Z"
   },
   {
    "duration": 24,
    "start_time": "2021-11-10T10:15:38.532Z"
   },
   {
    "duration": 97,
    "start_time": "2021-11-10T10:15:52.588Z"
   },
   {
    "duration": 271,
    "start_time": "2021-11-10T10:15:54.659Z"
   },
   {
    "duration": 25,
    "start_time": "2021-11-10T10:16:00.561Z"
   },
   {
    "duration": 19,
    "start_time": "2021-11-10T10:16:26.446Z"
   },
   {
    "duration": 26,
    "start_time": "2021-11-10T10:16:35.059Z"
   },
   {
    "duration": 18,
    "start_time": "2021-11-10T10:16:44.518Z"
   },
   {
    "duration": 26,
    "start_time": "2021-11-10T10:16:48.738Z"
   },
   {
    "duration": 26,
    "start_time": "2021-11-10T10:17:43.968Z"
   },
   {
    "duration": 3,
    "start_time": "2021-11-10T10:18:06.851Z"
   },
   {
    "duration": 10,
    "start_time": "2021-11-10T10:18:12.402Z"
   },
   {
    "duration": 269,
    "start_time": "2021-11-10T10:18:26.821Z"
   },
   {
    "duration": 9,
    "start_time": "2021-11-10T10:18:33.611Z"
   },
   {
    "duration": 10,
    "start_time": "2021-11-10T10:20:01.996Z"
   },
   {
    "duration": 9,
    "start_time": "2021-11-10T10:20:20.134Z"
   },
   {
    "duration": 525,
    "start_time": "2021-11-10T10:22:50.901Z"
   },
   {
    "duration": 624,
    "start_time": "2021-11-11T11:13:52.548Z"
   },
   {
    "duration": 72,
    "start_time": "2021-11-11T11:13:53.174Z"
   },
   {
    "duration": 32,
    "start_time": "2021-11-11T11:13:53.248Z"
   },
   {
    "duration": 11,
    "start_time": "2021-11-11T11:13:53.282Z"
   },
   {
    "duration": 9,
    "start_time": "2021-11-11T11:13:53.295Z"
   },
   {
    "duration": 15,
    "start_time": "2021-11-11T11:13:53.305Z"
   },
   {
    "duration": 41,
    "start_time": "2021-11-11T11:13:53.323Z"
   },
   {
    "duration": 9,
    "start_time": "2021-11-11T11:13:53.368Z"
   },
   {
    "duration": 8,
    "start_time": "2021-11-11T11:13:53.379Z"
   },
   {
    "duration": 53,
    "start_time": "2021-11-11T11:13:53.389Z"
   },
   {
    "duration": 6,
    "start_time": "2021-11-11T11:13:53.464Z"
   },
   {
    "duration": 11,
    "start_time": "2021-11-11T11:13:53.472Z"
   },
   {
    "duration": 14,
    "start_time": "2021-11-11T11:13:53.485Z"
   },
   {
    "duration": 6,
    "start_time": "2021-11-11T11:13:53.501Z"
   },
   {
    "duration": 18,
    "start_time": "2021-11-11T11:13:53.509Z"
   },
   {
    "duration": 39,
    "start_time": "2021-11-11T11:13:53.529Z"
   },
   {
    "duration": 13,
    "start_time": "2021-11-11T11:13:53.570Z"
   },
   {
    "duration": 32,
    "start_time": "2021-11-11T11:13:53.585Z"
   },
   {
    "duration": 55,
    "start_time": "2021-11-11T11:13:53.619Z"
   },
   {
    "duration": 6,
    "start_time": "2021-11-11T11:13:53.676Z"
   },
   {
    "duration": 17,
    "start_time": "2021-11-11T11:13:53.684Z"
   },
   {
    "duration": 5,
    "start_time": "2021-11-11T11:13:53.703Z"
   },
   {
    "duration": 941,
    "start_time": "2021-11-11T11:13:53.713Z"
   },
   {
    "duration": 10,
    "start_time": "2021-11-11T11:13:54.657Z"
   },
   {
    "duration": 12,
    "start_time": "2021-11-11T11:13:54.669Z"
   },
   {
    "duration": 7,
    "start_time": "2021-11-11T11:13:54.683Z"
   },
   {
    "duration": 101,
    "start_time": "2021-11-11T11:13:54.692Z"
   },
   {
    "duration": 538,
    "start_time": "2021-11-11T11:13:54.795Z"
   },
   {
    "duration": 562,
    "start_time": "2021-11-11T11:13:55.335Z"
   },
   {
    "duration": 239,
    "start_time": "2021-11-11T11:13:55.899Z"
   },
   {
    "duration": 228,
    "start_time": "2021-11-11T11:13:56.140Z"
   },
   {
    "duration": 201,
    "start_time": "2021-11-11T11:13:56.370Z"
   },
   {
    "duration": 6,
    "start_time": "2021-11-11T11:13:56.574Z"
   },
   {
    "duration": 227,
    "start_time": "2021-11-11T11:13:56.582Z"
   },
   {
    "duration": 6,
    "start_time": "2021-11-11T11:13:56.811Z"
   },
   {
    "duration": 20,
    "start_time": "2021-11-11T11:13:56.819Z"
   },
   {
    "duration": 215,
    "start_time": "2021-11-11T11:13:56.841Z"
   },
   {
    "duration": 611,
    "start_time": "2021-11-11T11:13:57.057Z"
   },
   {
    "duration": 11,
    "start_time": "2021-11-11T11:13:57.670Z"
   },
   {
    "duration": 756,
    "start_time": "2021-11-11T11:13:57.683Z"
   },
   {
    "duration": 367,
    "start_time": "2021-11-11T11:13:58.441Z"
   },
   {
    "duration": 252,
    "start_time": "2021-11-11T11:13:58.811Z"
   },
   {
    "duration": 10,
    "start_time": "2021-11-11T11:13:59.065Z"
   },
   {
    "duration": 20,
    "start_time": "2021-11-11T11:13:59.077Z"
   },
   {
    "duration": 570,
    "start_time": "2021-11-11T11:13:59.099Z"
   },
   {
    "duration": 314,
    "start_time": "2021-11-11T11:13:59.671Z"
   },
   {
    "duration": 229,
    "start_time": "2021-11-11T11:13:59.987Z"
   },
   {
    "duration": 198,
    "start_time": "2021-11-11T11:14:00.218Z"
   },
   {
    "duration": 29,
    "start_time": "2021-11-11T11:14:00.418Z"
   },
   {
    "duration": 21,
    "start_time": "2021-11-11T11:14:00.449Z"
   },
   {
    "duration": 45,
    "start_time": "2021-11-11T11:14:20.969Z"
   },
   {
    "duration": 13,
    "start_time": "2021-11-11T11:14:37.914Z"
   },
   {
    "duration": 81,
    "start_time": "2021-11-11T11:15:51.187Z"
   },
   {
    "duration": 8,
    "start_time": "2021-11-11T11:16:45.483Z"
   },
   {
    "duration": 329,
    "start_time": "2021-11-11T11:16:53.741Z"
   },
   {
    "duration": 14,
    "start_time": "2021-11-11T11:16:59.669Z"
   },
   {
    "duration": 10,
    "start_time": "2021-11-11T11:17:05.843Z"
   },
   {
    "duration": 276,
    "start_time": "2021-11-11T11:17:16.330Z"
   },
   {
    "duration": 10,
    "start_time": "2021-11-11T11:17:41.219Z"
   },
   {
    "duration": 10,
    "start_time": "2021-11-11T11:18:08.188Z"
   },
   {
    "duration": 6,
    "start_time": "2021-11-11T11:19:30.452Z"
   },
   {
    "duration": 5,
    "start_time": "2021-11-11T11:22:54.000Z"
   },
   {
    "duration": 237,
    "start_time": "2021-11-11T11:23:12.709Z"
   },
   {
    "duration": 5,
    "start_time": "2021-11-11T11:23:23.942Z"
   },
   {
    "duration": 14,
    "start_time": "2021-11-11T11:23:31.429Z"
   },
   {
    "duration": 5,
    "start_time": "2021-11-11T11:24:04.847Z"
   },
   {
    "duration": 5,
    "start_time": "2021-11-11T11:24:18.655Z"
   },
   {
    "duration": 42,
    "start_time": "2021-11-11T11:24:39.709Z"
   },
   {
    "duration": 6,
    "start_time": "2021-11-11T11:25:33.960Z"
   },
   {
    "duration": 10,
    "start_time": "2021-11-11T11:25:43.128Z"
   },
   {
    "duration": 5,
    "start_time": "2021-11-11T11:25:50.904Z"
   },
   {
    "duration": 7,
    "start_time": "2021-11-11T11:25:51.342Z"
   },
   {
    "duration": 4,
    "start_time": "2021-11-11T11:25:55.656Z"
   },
   {
    "duration": 7,
    "start_time": "2021-11-11T11:25:56.288Z"
   },
   {
    "duration": 13,
    "start_time": "2021-11-11T11:26:10.920Z"
   },
   {
    "duration": 4,
    "start_time": "2021-11-11T11:26:11.821Z"
   },
   {
    "duration": 8,
    "start_time": "2021-11-11T11:26:21.173Z"
   },
   {
    "duration": 327,
    "start_time": "2021-11-11T11:26:27.202Z"
   },
   {
    "duration": 8,
    "start_time": "2021-11-11T11:26:29.110Z"
   },
   {
    "duration": 4,
    "start_time": "2021-11-11T11:26:52.848Z"
   },
   {
    "duration": 7,
    "start_time": "2021-11-11T11:26:53.535Z"
   },
   {
    "duration": 4,
    "start_time": "2021-11-11T11:27:07.320Z"
   },
   {
    "duration": 7,
    "start_time": "2021-11-11T11:27:07.830Z"
   },
   {
    "duration": 44,
    "start_time": "2021-11-11T11:28:31.546Z"
   },
   {
    "duration": 4,
    "start_time": "2021-11-11T11:29:19.607Z"
   },
   {
    "duration": 8,
    "start_time": "2021-11-11T11:29:19.992Z"
   },
   {
    "duration": 4,
    "start_time": "2021-11-11T11:29:39.679Z"
   },
   {
    "duration": 10,
    "start_time": "2021-11-11T11:29:40.710Z"
   },
   {
    "duration": 4,
    "start_time": "2021-11-11T11:29:55.400Z"
   },
   {
    "duration": 8,
    "start_time": "2021-11-11T11:29:55.663Z"
   },
   {
    "duration": 90,
    "start_time": "2021-11-11T11:30:58.529Z"
   },
   {
    "duration": 18,
    "start_time": "2021-11-11T11:31:31.472Z"
   },
   {
    "duration": 169,
    "start_time": "2021-11-11T11:32:02.770Z"
   },
   {
    "duration": 81,
    "start_time": "2021-11-11T11:33:41.784Z"
   },
   {
    "duration": 205,
    "start_time": "2021-11-11T11:33:43.472Z"
   },
   {
    "duration": 246,
    "start_time": "2021-11-11T11:34:05.275Z"
   },
   {
    "duration": 167,
    "start_time": "2021-11-11T11:34:36.016Z"
   },
   {
    "duration": 269,
    "start_time": "2021-11-11T11:34:44.896Z"
   },
   {
    "duration": 171,
    "start_time": "2021-11-11T11:34:54.127Z"
   },
   {
    "duration": 180,
    "start_time": "2021-11-11T11:35:02.367Z"
   },
   {
    "duration": 173,
    "start_time": "2021-11-11T11:35:07.344Z"
   },
   {
    "duration": 184,
    "start_time": "2021-11-11T11:36:55.665Z"
   },
   {
    "duration": 9,
    "start_time": "2021-11-11T11:43:47.036Z"
   },
   {
    "duration": 9,
    "start_time": "2021-11-11T11:44:06.178Z"
   },
   {
    "duration": 6,
    "start_time": "2021-11-11T11:46:11.604Z"
   },
   {
    "duration": 7,
    "start_time": "2021-11-11T11:46:49.163Z"
   },
   {
    "duration": 6,
    "start_time": "2021-11-11T11:47:53.917Z"
   },
   {
    "duration": 726,
    "start_time": "2021-11-11T11:49:40.139Z"
   },
   {
    "duration": 237,
    "start_time": "2021-11-11T11:49:54.459Z"
   },
   {
    "duration": 142,
    "start_time": "2021-11-11T11:50:38.221Z"
   },
   {
    "duration": 37,
    "start_time": "2021-11-11T11:55:17.249Z"
   },
   {
    "duration": 8,
    "start_time": "2021-11-11T11:55:31.143Z"
   },
   {
    "duration": 197,
    "start_time": "2021-11-11T11:57:13.426Z"
   },
   {
    "duration": 5,
    "start_time": "2021-11-11T11:57:52.791Z"
   },
   {
    "duration": 5,
    "start_time": "2021-11-11T11:58:18.536Z"
   },
   {
    "duration": 135,
    "start_time": "2021-11-11T11:58:49.287Z"
   },
   {
    "duration": 238,
    "start_time": "2021-11-11T11:59:06.807Z"
   },
   {
    "duration": 665,
    "start_time": "2021-11-11T12:17:33.340Z"
   },
   {
    "duration": 78,
    "start_time": "2021-11-11T12:17:34.007Z"
   },
   {
    "duration": 34,
    "start_time": "2021-11-11T12:17:34.090Z"
   },
   {
    "duration": 37,
    "start_time": "2021-11-11T12:17:34.127Z"
   },
   {
    "duration": 11,
    "start_time": "2021-11-11T12:17:34.166Z"
   },
   {
    "duration": 16,
    "start_time": "2021-11-11T12:17:34.179Z"
   },
   {
    "duration": 12,
    "start_time": "2021-11-11T12:17:34.198Z"
   },
   {
    "duration": 7,
    "start_time": "2021-11-11T12:17:34.212Z"
   },
   {
    "duration": 42,
    "start_time": "2021-11-11T12:17:34.221Z"
   },
   {
    "duration": 37,
    "start_time": "2021-11-11T12:17:34.266Z"
   },
   {
    "duration": 4,
    "start_time": "2021-11-11T12:17:34.305Z"
   },
   {
    "duration": 8,
    "start_time": "2021-11-11T12:17:34.310Z"
   },
   {
    "duration": 17,
    "start_time": "2021-11-11T12:17:34.320Z"
   },
   {
    "duration": 25,
    "start_time": "2021-11-11T12:17:34.338Z"
   },
   {
    "duration": 20,
    "start_time": "2021-11-11T12:17:34.366Z"
   },
   {
    "duration": 8,
    "start_time": "2021-11-11T12:17:34.388Z"
   },
   {
    "duration": 9,
    "start_time": "2021-11-11T12:17:34.398Z"
   },
   {
    "duration": 26,
    "start_time": "2021-11-11T12:17:34.409Z"
   },
   {
    "duration": 48,
    "start_time": "2021-11-11T12:17:34.436Z"
   },
   {
    "duration": 6,
    "start_time": "2021-11-11T12:17:34.485Z"
   },
   {
    "duration": 15,
    "start_time": "2021-11-11T12:17:34.493Z"
   },
   {
    "duration": 3,
    "start_time": "2021-11-11T12:17:34.512Z"
   },
   {
    "duration": 631,
    "start_time": "2021-11-11T12:17:34.517Z"
   },
   {
    "duration": 13,
    "start_time": "2021-11-11T12:17:35.150Z"
   },
   {
    "duration": 6,
    "start_time": "2021-11-11T12:17:35.165Z"
   },
   {
    "duration": 5,
    "start_time": "2021-11-11T12:17:35.173Z"
   },
   {
    "duration": 97,
    "start_time": "2021-11-11T12:17:35.180Z"
   },
   {
    "duration": 550,
    "start_time": "2021-11-11T12:17:35.278Z"
   },
   {
    "duration": 571,
    "start_time": "2021-11-11T12:17:35.829Z"
   },
   {
    "duration": 231,
    "start_time": "2021-11-11T12:17:36.402Z"
   },
   {
    "duration": 225,
    "start_time": "2021-11-11T12:17:36.634Z"
   },
   {
    "duration": 200,
    "start_time": "2021-11-11T12:17:36.863Z"
   },
   {
    "duration": 6,
    "start_time": "2021-11-11T12:17:37.065Z"
   },
   {
    "duration": 231,
    "start_time": "2021-11-11T12:17:37.073Z"
   },
   {
    "duration": 6,
    "start_time": "2021-11-11T12:17:37.306Z"
   },
   {
    "duration": 18,
    "start_time": "2021-11-11T12:17:37.314Z"
   },
   {
    "duration": 237,
    "start_time": "2021-11-11T12:17:37.335Z"
   },
   {
    "duration": 588,
    "start_time": "2021-11-11T12:17:37.574Z"
   },
   {
    "duration": 11,
    "start_time": "2021-11-11T12:17:38.164Z"
   },
   {
    "duration": 506,
    "start_time": "2021-11-11T12:17:38.177Z"
   },
   {
    "duration": 224,
    "start_time": "2021-11-11T12:17:38.685Z"
   },
   {
    "duration": 166,
    "start_time": "2021-11-11T12:17:38.911Z"
   },
   {
    "duration": 8,
    "start_time": "2021-11-11T12:17:39.079Z"
   },
   {
    "duration": 15,
    "start_time": "2021-11-11T12:17:39.088Z"
   },
   {
    "duration": 541,
    "start_time": "2021-11-11T12:17:39.105Z"
   },
   {
    "duration": 326,
    "start_time": "2021-11-11T12:17:39.648Z"
   },
   {
    "duration": 232,
    "start_time": "2021-11-11T12:17:39.977Z"
   },
   {
    "duration": 184,
    "start_time": "2021-11-11T12:17:40.212Z"
   },
   {
    "duration": 28,
    "start_time": "2021-11-11T12:17:40.397Z"
   },
   {
    "duration": 9,
    "start_time": "2021-11-11T12:17:40.426Z"
   },
   {
    "duration": 41,
    "start_time": "2021-11-11T12:17:40.437Z"
   },
   {
    "duration": 5,
    "start_time": "2021-11-11T12:17:40.479Z"
   },
   {
    "duration": 202,
    "start_time": "2021-11-11T12:17:40.486Z"
   },
   {
    "duration": 9,
    "start_time": "2021-11-11T12:17:40.689Z"
   },
   {
    "duration": 6,
    "start_time": "2021-11-11T12:17:40.700Z"
   },
   {
    "duration": 164,
    "start_time": "2021-11-11T12:17:40.708Z"
   },
   {
    "duration": 9,
    "start_time": "2021-11-11T12:17:40.873Z"
   },
   {
    "duration": 167,
    "start_time": "2021-11-11T12:17:40.883Z"
   },
   {
    "duration": 247,
    "start_time": "2021-11-11T12:17:41.051Z"
   },
   {
    "duration": 157,
    "start_time": "2021-11-11T12:17:41.300Z"
   },
   {
    "duration": 777,
    "start_time": "2021-11-11T19:31:40.341Z"
   },
   {
    "duration": 73,
    "start_time": "2021-11-11T19:31:41.120Z"
   },
   {
    "duration": 28,
    "start_time": "2021-11-11T19:31:41.195Z"
   },
   {
    "duration": 13,
    "start_time": "2021-11-11T19:31:41.225Z"
   },
   {
    "duration": 29,
    "start_time": "2021-11-11T19:31:41.240Z"
   },
   {
    "duration": 16,
    "start_time": "2021-11-11T19:31:41.271Z"
   },
   {
    "duration": 17,
    "start_time": "2021-11-11T19:31:41.288Z"
   },
   {
    "duration": 6,
    "start_time": "2021-11-11T19:31:41.307Z"
   },
   {
    "duration": 6,
    "start_time": "2021-11-11T19:31:41.316Z"
   },
   {
    "duration": 56,
    "start_time": "2021-11-11T19:31:41.323Z"
   },
   {
    "duration": 4,
    "start_time": "2021-11-11T19:31:41.381Z"
   },
   {
    "duration": 10,
    "start_time": "2021-11-11T19:31:41.387Z"
   },
   {
    "duration": 9,
    "start_time": "2021-11-11T19:31:41.399Z"
   },
   {
    "duration": 4,
    "start_time": "2021-11-11T19:31:41.410Z"
   },
   {
    "duration": 21,
    "start_time": "2021-11-11T19:31:41.416Z"
   },
   {
    "duration": 26,
    "start_time": "2021-11-11T19:31:41.438Z"
   },
   {
    "duration": 10,
    "start_time": "2021-11-11T19:31:41.466Z"
   },
   {
    "duration": 24,
    "start_time": "2021-11-11T19:31:41.478Z"
   },
   {
    "duration": 24,
    "start_time": "2021-11-11T19:31:41.504Z"
   },
   {
    "duration": 4,
    "start_time": "2021-11-11T19:31:41.529Z"
   },
   {
    "duration": 39,
    "start_time": "2021-11-11T19:31:41.535Z"
   },
   {
    "duration": 3,
    "start_time": "2021-11-11T19:31:41.576Z"
   },
   {
    "duration": 577,
    "start_time": "2021-11-11T19:31:41.582Z"
   },
   {
    "duration": 7,
    "start_time": "2021-11-11T19:31:42.163Z"
   },
   {
    "duration": 11,
    "start_time": "2021-11-11T19:31:42.172Z"
   },
   {
    "duration": 10,
    "start_time": "2021-11-11T19:31:42.184Z"
   },
   {
    "duration": 84,
    "start_time": "2021-11-11T19:31:42.195Z"
   },
   {
    "duration": 509,
    "start_time": "2021-11-11T19:31:42.281Z"
   },
   {
    "duration": 541,
    "start_time": "2021-11-11T19:31:42.792Z"
   },
   {
    "duration": 228,
    "start_time": "2021-11-11T19:31:43.335Z"
   },
   {
    "duration": 208,
    "start_time": "2021-11-11T19:31:43.565Z"
   },
   {
    "duration": 193,
    "start_time": "2021-11-11T19:31:43.775Z"
   },
   {
    "duration": 5,
    "start_time": "2021-11-11T19:31:43.970Z"
   },
   {
    "duration": 217,
    "start_time": "2021-11-11T19:31:43.977Z"
   },
   {
    "duration": 5,
    "start_time": "2021-11-11T19:31:44.195Z"
   },
   {
    "duration": 18,
    "start_time": "2021-11-11T19:31:44.201Z"
   },
   {
    "duration": 212,
    "start_time": "2021-11-11T19:31:44.221Z"
   },
   {
    "duration": 591,
    "start_time": "2021-11-11T19:31:44.435Z"
   },
   {
    "duration": 11,
    "start_time": "2021-11-11T19:31:45.027Z"
   },
   {
    "duration": 506,
    "start_time": "2021-11-11T19:31:45.040Z"
   },
   {
    "duration": 217,
    "start_time": "2021-11-11T19:31:45.548Z"
   },
   {
    "duration": 158,
    "start_time": "2021-11-11T19:31:45.767Z"
   },
   {
    "duration": 10,
    "start_time": "2021-11-11T19:31:45.926Z"
   },
   {
    "duration": 33,
    "start_time": "2021-11-11T19:31:45.938Z"
   },
   {
    "duration": 480,
    "start_time": "2021-11-11T19:31:45.973Z"
   },
   {
    "duration": 312,
    "start_time": "2021-11-11T19:31:46.454Z"
   },
   {
    "duration": 209,
    "start_time": "2021-11-11T19:31:46.767Z"
   },
   {
    "duration": 171,
    "start_time": "2021-11-11T19:31:46.977Z"
   },
   {
    "duration": 31,
    "start_time": "2021-11-11T19:31:47.150Z"
   },
   {
    "duration": 8,
    "start_time": "2021-11-11T19:31:47.183Z"
   },
   {
    "duration": 15,
    "start_time": "2021-11-11T19:31:47.193Z"
   },
   {
    "duration": 5,
    "start_time": "2021-11-11T19:31:47.211Z"
   },
   {
    "duration": 218,
    "start_time": "2021-11-11T19:31:47.218Z"
   },
   {
    "duration": 10,
    "start_time": "2021-11-11T19:31:47.438Z"
   },
   {
    "duration": 6,
    "start_time": "2021-11-11T19:31:47.463Z"
   },
   {
    "duration": 151,
    "start_time": "2021-11-11T19:31:47.471Z"
   },
   {
    "duration": 8,
    "start_time": "2021-11-11T19:31:47.624Z"
   },
   {
    "duration": 160,
    "start_time": "2021-11-11T19:31:47.634Z"
   },
   {
    "duration": 233,
    "start_time": "2021-11-11T19:31:47.796Z"
   },
   {
    "duration": 138,
    "start_time": "2021-11-11T19:31:48.030Z"
   },
   {
    "duration": 4,
    "start_time": "2021-11-11T19:39:05.125Z"
   },
   {
    "duration": 4,
    "start_time": "2021-11-11T19:42:20.346Z"
   },
   {
    "duration": 36,
    "start_time": "2021-11-11T19:42:38.143Z"
   },
   {
    "duration": 42,
    "start_time": "2021-11-11T19:47:09.678Z"
   },
   {
    "duration": 9,
    "start_time": "2021-11-11T19:47:18.579Z"
   },
   {
    "duration": 12,
    "start_time": "2021-11-11T19:47:37.789Z"
   },
   {
    "duration": 163,
    "start_time": "2021-11-11T19:54:06.420Z"
   },
   {
    "duration": 384,
    "start_time": "2021-11-11T19:54:48.633Z"
   },
   {
    "duration": 75,
    "start_time": "2021-11-11T19:54:52.217Z"
   },
   {
    "duration": 246,
    "start_time": "2021-11-11T19:55:06.525Z"
   },
   {
    "duration": 12,
    "start_time": "2021-11-11T19:55:15.701Z"
   },
   {
    "duration": 12,
    "start_time": "2021-11-11T19:55:24.472Z"
   },
   {
    "duration": 259,
    "start_time": "2021-11-11T19:56:44.525Z"
   },
   {
    "duration": 5,
    "start_time": "2021-11-11T19:56:48.329Z"
   },
   {
    "duration": 10,
    "start_time": "2021-11-11T20:11:25.988Z"
   },
   {
    "duration": 425,
    "start_time": "2021-11-12T17:09:20.500Z"
   },
   {
    "duration": 122,
    "start_time": "2021-11-12T17:10:06.060Z"
   },
   {
    "duration": 842,
    "start_time": "2021-11-12T17:12:07.873Z"
   },
   {
    "duration": 90,
    "start_time": "2021-11-12T17:12:08.718Z"
   },
   {
    "duration": 50,
    "start_time": "2021-11-12T17:12:08.811Z"
   },
   {
    "duration": 39,
    "start_time": "2021-11-12T17:12:08.864Z"
   },
   {
    "duration": 15,
    "start_time": "2021-11-12T17:12:08.906Z"
   },
   {
    "duration": 21,
    "start_time": "2021-11-12T17:12:08.924Z"
   },
   {
    "duration": 22,
    "start_time": "2021-11-12T17:12:08.947Z"
   },
   {
    "duration": 6,
    "start_time": "2021-11-12T17:12:09.002Z"
   },
   {
    "duration": 6,
    "start_time": "2021-11-12T17:12:09.011Z"
   },
   {
    "duration": 7,
    "start_time": "2021-11-12T17:12:09.020Z"
   },
   {
    "duration": 16,
    "start_time": "2021-11-12T17:12:09.029Z"
   },
   {
    "duration": 6,
    "start_time": "2021-11-12T17:12:09.047Z"
   },
   {
    "duration": 527,
    "start_time": "2021-11-12T17:12:09.055Z"
   },
   {
    "duration": 763,
    "start_time": "2021-11-12T17:12:08.823Z"
   },
   {
    "duration": 755,
    "start_time": "2021-11-12T17:12:08.833Z"
   },
   {
    "duration": 750,
    "start_time": "2021-11-12T17:12:08.839Z"
   },
   {
    "duration": 743,
    "start_time": "2021-11-12T17:12:08.847Z"
   },
   {
    "duration": 737,
    "start_time": "2021-11-12T17:12:08.854Z"
   },
   {
    "duration": 732,
    "start_time": "2021-11-12T17:12:08.860Z"
   },
   {
    "duration": 725,
    "start_time": "2021-11-12T17:12:08.869Z"
   },
   {
    "duration": 721,
    "start_time": "2021-11-12T17:12:08.874Z"
   },
   {
    "duration": 713,
    "start_time": "2021-11-12T17:12:08.883Z"
   },
   {
    "duration": 708,
    "start_time": "2021-11-12T17:12:08.889Z"
   },
   {
    "duration": 689,
    "start_time": "2021-11-12T17:12:08.909Z"
   },
   {
    "duration": 686,
    "start_time": "2021-11-12T17:12:08.914Z"
   },
   {
    "duration": 679,
    "start_time": "2021-11-12T17:12:08.922Z"
   },
   {
    "duration": 675,
    "start_time": "2021-11-12T17:12:08.927Z"
   },
   {
    "duration": 667,
    "start_time": "2021-11-12T17:12:08.936Z"
   },
   {
    "duration": 665,
    "start_time": "2021-11-12T17:12:08.940Z"
   },
   {
    "duration": 663,
    "start_time": "2021-11-12T17:12:08.943Z"
   },
   {
    "duration": 657,
    "start_time": "2021-11-12T17:12:08.950Z"
   },
   {
    "duration": 655,
    "start_time": "2021-11-12T17:12:08.954Z"
   },
   {
    "duration": 652,
    "start_time": "2021-11-12T17:12:08.958Z"
   },
   {
    "duration": 644,
    "start_time": "2021-11-12T17:12:08.967Z"
   },
   {
    "duration": 643,
    "start_time": "2021-11-12T17:12:08.970Z"
   },
   {
    "duration": 640,
    "start_time": "2021-11-12T17:12:08.974Z"
   },
   {
    "duration": 637,
    "start_time": "2021-11-12T17:12:08.978Z"
   },
   {
    "duration": 633,
    "start_time": "2021-11-12T17:12:08.984Z"
   },
   {
    "duration": 630,
    "start_time": "2021-11-12T17:12:08.988Z"
   },
   {
    "duration": 627,
    "start_time": "2021-11-12T17:12:08.992Z"
   },
   {
    "duration": 626,
    "start_time": "2021-11-12T17:12:08.995Z"
   },
   {
    "duration": 621,
    "start_time": "2021-11-12T17:12:09.001Z"
   },
   {
    "duration": 619,
    "start_time": "2021-11-12T17:12:09.004Z"
   },
   {
    "duration": 608,
    "start_time": "2021-11-12T17:12:09.017Z"
   },
   {
    "duration": 602,
    "start_time": "2021-11-12T17:12:09.024Z"
   },
   {
    "duration": 599,
    "start_time": "2021-11-12T17:12:09.028Z"
   },
   {
    "duration": 593,
    "start_time": "2021-11-12T17:12:09.036Z"
   },
   {
    "duration": 591,
    "start_time": "2021-11-12T17:12:09.040Z"
   },
   {
    "duration": 588,
    "start_time": "2021-11-12T17:12:09.044Z"
   },
   {
    "duration": 584,
    "start_time": "2021-11-12T17:12:09.050Z"
   },
   {
    "duration": 581,
    "start_time": "2021-11-12T17:12:09.054Z"
   },
   {
    "duration": 572,
    "start_time": "2021-11-12T17:12:09.064Z"
   },
   {
    "duration": 562,
    "start_time": "2021-11-12T17:12:09.076Z"
   },
   {
    "duration": 544,
    "start_time": "2021-11-12T17:12:09.095Z"
   },
   {
    "duration": 596,
    "start_time": "2021-11-12T17:12:09.105Z"
   },
   {
    "duration": 585,
    "start_time": "2021-11-12T17:12:09.118Z"
   },
   {
    "duration": 576,
    "start_time": "2021-11-12T17:12:09.129Z"
   },
   {
    "duration": 570,
    "start_time": "2021-11-12T17:12:09.136Z"
   },
   {
    "duration": 824,
    "start_time": "2021-11-12T17:15:36.237Z"
   },
   {
    "duration": 99,
    "start_time": "2021-11-12T17:15:37.065Z"
   },
   {
    "duration": 57,
    "start_time": "2021-11-12T17:15:37.167Z"
   },
   {
    "duration": 15,
    "start_time": "2021-11-12T17:15:37.226Z"
   },
   {
    "duration": 12,
    "start_time": "2021-11-12T17:15:37.243Z"
   },
   {
    "duration": 51,
    "start_time": "2021-11-12T17:15:37.257Z"
   },
   {
    "duration": 15,
    "start_time": "2021-11-12T17:15:37.311Z"
   },
   {
    "duration": 6,
    "start_time": "2021-11-12T17:15:37.330Z"
   },
   {
    "duration": 9,
    "start_time": "2021-11-12T17:15:37.339Z"
   },
   {
    "duration": 7,
    "start_time": "2021-11-12T17:15:37.350Z"
   },
   {
    "duration": 50,
    "start_time": "2021-11-12T17:15:37.359Z"
   },
   {
    "duration": 6,
    "start_time": "2021-11-12T17:15:37.411Z"
   },
   {
    "duration": 482,
    "start_time": "2021-11-12T17:15:37.420Z"
   },
   {
    "duration": 819,
    "start_time": "2021-11-12T17:15:37.087Z"
   },
   {
    "duration": 815,
    "start_time": "2021-11-12T17:15:37.092Z"
   },
   {
    "duration": 813,
    "start_time": "2021-11-12T17:15:37.096Z"
   },
   {
    "duration": 811,
    "start_time": "2021-11-12T17:15:37.099Z"
   },
   {
    "duration": 807,
    "start_time": "2021-11-12T17:15:37.104Z"
   },
   {
    "duration": 805,
    "start_time": "2021-11-12T17:15:37.107Z"
   },
   {
    "duration": 802,
    "start_time": "2021-11-12T17:15:37.111Z"
   },
   {
    "duration": 801,
    "start_time": "2021-11-12T17:15:37.114Z"
   },
   {
    "duration": 798,
    "start_time": "2021-11-12T17:15:37.118Z"
   },
   {
    "duration": 796,
    "start_time": "2021-11-12T17:15:37.121Z"
   },
   {
    "duration": 793,
    "start_time": "2021-11-12T17:15:37.125Z"
   },
   {
    "duration": 779,
    "start_time": "2021-11-12T17:15:37.141Z"
   },
   {
    "duration": 771,
    "start_time": "2021-11-12T17:15:37.150Z"
   },
   {
    "duration": 766,
    "start_time": "2021-11-12T17:15:37.156Z"
   },
   {
    "duration": 760,
    "start_time": "2021-11-12T17:15:37.163Z"
   },
   {
    "duration": 755,
    "start_time": "2021-11-12T17:15:37.169Z"
   },
   {
    "duration": 749,
    "start_time": "2021-11-12T17:15:37.176Z"
   },
   {
    "duration": 733,
    "start_time": "2021-11-12T17:15:37.194Z"
   },
   {
    "duration": 726,
    "start_time": "2021-11-12T17:15:37.202Z"
   },
   {
    "duration": 715,
    "start_time": "2021-11-12T17:15:37.214Z"
   },
   {
    "duration": 702,
    "start_time": "2021-11-12T17:15:37.228Z"
   },
   {
    "duration": 693,
    "start_time": "2021-11-12T17:15:37.238Z"
   },
   {
    "duration": 674,
    "start_time": "2021-11-12T17:15:37.259Z"
   },
   {
    "duration": 664,
    "start_time": "2021-11-12T17:15:37.270Z"
   },
   {
    "duration": 656,
    "start_time": "2021-11-12T17:15:37.279Z"
   },
   {
    "duration": 653,
    "start_time": "2021-11-12T17:15:37.284Z"
   },
   {
    "duration": 645,
    "start_time": "2021-11-12T17:15:37.293Z"
   },
   {
    "duration": 642,
    "start_time": "2021-11-12T17:15:37.297Z"
   },
   {
    "duration": 640,
    "start_time": "2021-11-12T17:15:37.301Z"
   },
   {
    "duration": 632,
    "start_time": "2021-11-12T17:15:37.310Z"
   },
   {
    "duration": 630,
    "start_time": "2021-11-12T17:15:37.314Z"
   },
   {
    "duration": 687,
    "start_time": "2021-11-12T17:15:37.317Z"
   },
   {
    "duration": 662,
    "start_time": "2021-11-12T17:15:37.343Z"
   },
   {
    "duration": 659,
    "start_time": "2021-11-12T17:15:37.347Z"
   },
   {
    "duration": 656,
    "start_time": "2021-11-12T17:15:37.351Z"
   },
   {
    "duration": 654,
    "start_time": "2021-11-12T17:15:37.355Z"
   },
   {
    "duration": 652,
    "start_time": "2021-11-12T17:15:37.358Z"
   },
   {
    "duration": 650,
    "start_time": "2021-11-12T17:15:37.361Z"
   },
   {
    "duration": 648,
    "start_time": "2021-11-12T17:15:37.365Z"
   },
   {
    "duration": 638,
    "start_time": "2021-11-12T17:15:37.376Z"
   },
   {
    "duration": 637,
    "start_time": "2021-11-12T17:15:37.379Z"
   },
   {
    "duration": 631,
    "start_time": "2021-11-12T17:15:37.386Z"
   },
   {
    "duration": 628,
    "start_time": "2021-11-12T17:15:37.390Z"
   },
   {
    "duration": 626,
    "start_time": "2021-11-12T17:15:37.393Z"
   },
   {
    "duration": 614,
    "start_time": "2021-11-12T17:15:37.407Z"
   },
   {
    "duration": 429,
    "start_time": "2021-11-12T17:16:54.843Z"
   },
   {
    "duration": 10,
    "start_time": "2021-11-12T17:24:50.949Z"
   },
   {
    "duration": 42,
    "start_time": "2021-11-12T17:26:04.253Z"
   },
   {
    "duration": 385,
    "start_time": "2021-11-12T17:26:26.693Z"
   },
   {
    "duration": 13,
    "start_time": "2021-11-12T17:26:33.004Z"
   },
   {
    "duration": 9,
    "start_time": "2021-11-12T17:26:58.142Z"
   },
   {
    "duration": 10,
    "start_time": "2021-11-12T17:28:13.773Z"
   },
   {
    "duration": 6,
    "start_time": "2021-11-12T17:32:40.479Z"
   },
   {
    "duration": 8,
    "start_time": "2021-11-12T17:32:50.303Z"
   },
   {
    "duration": 952,
    "start_time": "2021-11-12T17:36:21.462Z"
   },
   {
    "duration": 692,
    "start_time": "2021-11-12T17:36:45.518Z"
   },
   {
    "duration": 9,
    "start_time": "2021-11-12T17:36:50.103Z"
   },
   {
    "duration": 700,
    "start_time": "2021-11-12T17:39:36.306Z"
   },
   {
    "duration": 152,
    "start_time": "2021-11-12T17:40:04.607Z"
   },
   {
    "duration": 790,
    "start_time": "2021-11-12T17:40:34.033Z"
   },
   {
    "duration": 914,
    "start_time": "2021-11-12T17:40:39.688Z"
   },
   {
    "duration": 11,
    "start_time": "2021-11-12T17:40:43.606Z"
   },
   {
    "duration": 748,
    "start_time": "2021-11-12T17:43:38.954Z"
   },
   {
    "duration": 10,
    "start_time": "2021-11-12T17:43:42.184Z"
   },
   {
    "duration": 686,
    "start_time": "2021-11-12T17:44:42.395Z"
   },
   {
    "duration": 667,
    "start_time": "2021-11-12T17:45:24.145Z"
   },
   {
    "duration": 43,
    "start_time": "2021-11-12T17:45:48.392Z"
   },
   {
    "duration": 8,
    "start_time": "2021-11-12T17:46:53.265Z"
   },
   {
    "duration": 6,
    "start_time": "2021-11-12T17:47:02.394Z"
   },
   {
    "duration": 6,
    "start_time": "2021-11-12T17:47:39.122Z"
   },
   {
    "duration": 7,
    "start_time": "2021-11-12T17:47:59.409Z"
   },
   {
    "duration": 7,
    "start_time": "2021-11-12T17:48:14.858Z"
   },
   {
    "duration": 7,
    "start_time": "2021-11-12T17:48:16.025Z"
   },
   {
    "duration": 864,
    "start_time": "2021-11-12T17:48:21.369Z"
   },
   {
    "duration": 93,
    "start_time": "2021-11-12T17:48:22.237Z"
   },
   {
    "duration": 66,
    "start_time": "2021-11-12T17:48:22.334Z"
   },
   {
    "duration": 18,
    "start_time": "2021-11-12T17:48:22.403Z"
   },
   {
    "duration": 11,
    "start_time": "2021-11-12T17:48:22.424Z"
   },
   {
    "duration": 21,
    "start_time": "2021-11-12T17:48:22.437Z"
   },
   {
    "duration": 52,
    "start_time": "2021-11-12T17:48:22.460Z"
   },
   {
    "duration": 6,
    "start_time": "2021-11-12T17:48:22.516Z"
   },
   {
    "duration": 7,
    "start_time": "2021-11-12T17:48:22.525Z"
   },
   {
    "duration": 7,
    "start_time": "2021-11-12T17:48:22.534Z"
   },
   {
    "duration": 13,
    "start_time": "2021-11-12T17:48:22.544Z"
   },
   {
    "duration": 44,
    "start_time": "2021-11-12T17:48:22.559Z"
   },
   {
    "duration": 16,
    "start_time": "2021-11-12T17:48:22.605Z"
   },
   {
    "duration": 661,
    "start_time": "2021-11-12T17:48:22.624Z"
   },
   {
    "duration": 804,
    "start_time": "2021-11-12T17:48:22.486Z"
   },
   {
    "duration": 801,
    "start_time": "2021-11-12T17:48:22.490Z"
   },
   {
    "duration": 799,
    "start_time": "2021-11-12T17:48:22.494Z"
   },
   {
    "duration": 795,
    "start_time": "2021-11-12T17:48:22.499Z"
   },
   {
    "duration": 791,
    "start_time": "2021-11-12T17:48:22.504Z"
   },
   {
    "duration": 790,
    "start_time": "2021-11-12T17:48:22.507Z"
   },
   {
    "duration": 786,
    "start_time": "2021-11-12T17:48:22.512Z"
   },
   {
    "duration": 785,
    "start_time": "2021-11-12T17:48:22.515Z"
   },
   {
    "duration": 781,
    "start_time": "2021-11-12T17:48:22.520Z"
   },
   {
    "duration": 779,
    "start_time": "2021-11-12T17:48:22.523Z"
   },
   {
    "duration": 776,
    "start_time": "2021-11-12T17:48:22.527Z"
   },
   {
    "duration": 767,
    "start_time": "2021-11-12T17:48:22.538Z"
   },
   {
    "duration": 763,
    "start_time": "2021-11-12T17:48:22.543Z"
   },
   {
    "duration": 758,
    "start_time": "2021-11-12T17:48:22.549Z"
   },
   {
    "duration": 754,
    "start_time": "2021-11-12T17:48:22.554Z"
   },
   {
    "duration": 752,
    "start_time": "2021-11-12T17:48:22.558Z"
   },
   {
    "duration": 749,
    "start_time": "2021-11-12T17:48:22.562Z"
   },
   {
    "duration": 745,
    "start_time": "2021-11-12T17:48:22.567Z"
   },
   {
    "duration": 727,
    "start_time": "2021-11-12T17:48:22.587Z"
   },
   {
    "duration": 714,
    "start_time": "2021-11-12T17:48:22.601Z"
   },
   {
    "duration": 697,
    "start_time": "2021-11-12T17:48:22.619Z"
   },
   {
    "duration": 681,
    "start_time": "2021-11-12T17:48:22.636Z"
   },
   {
    "duration": 651,
    "start_time": "2021-11-12T17:48:22.668Z"
   },
   {
    "duration": 645,
    "start_time": "2021-11-12T17:48:22.675Z"
   },
   {
    "duration": 641,
    "start_time": "2021-11-12T17:48:22.680Z"
   },
   {
    "duration": 630,
    "start_time": "2021-11-12T17:48:22.692Z"
   },
   {
    "duration": 628,
    "start_time": "2021-11-12T17:48:22.696Z"
   },
   {
    "duration": 618,
    "start_time": "2021-11-12T17:48:22.707Z"
   },
   {
    "duration": 614,
    "start_time": "2021-11-12T17:48:22.712Z"
   },
   {
    "duration": 612,
    "start_time": "2021-11-12T17:48:22.716Z"
   },
   {
    "duration": 603,
    "start_time": "2021-11-12T17:48:22.726Z"
   },
   {
    "duration": 568,
    "start_time": "2021-11-12T17:48:22.762Z"
   },
   {
    "duration": 563,
    "start_time": "2021-11-12T17:48:22.769Z"
   },
   {
    "duration": 560,
    "start_time": "2021-11-12T17:48:22.773Z"
   },
   {
    "duration": 557,
    "start_time": "2021-11-12T17:48:22.777Z"
   },
   {
    "duration": 552,
    "start_time": "2021-11-12T17:48:22.783Z"
   },
   {
    "duration": 550,
    "start_time": "2021-11-12T17:48:22.787Z"
   },
   {
    "duration": 547,
    "start_time": "2021-11-12T17:48:22.791Z"
   },
   {
    "duration": 544,
    "start_time": "2021-11-12T17:48:22.795Z"
   },
   {
    "duration": 540,
    "start_time": "2021-11-12T17:48:22.800Z"
   },
   {
    "duration": 578,
    "start_time": "2021-11-12T17:48:22.823Z"
   },
   {
    "duration": 576,
    "start_time": "2021-11-12T17:48:22.827Z"
   },
   {
    "duration": 572,
    "start_time": "2021-11-12T17:48:22.832Z"
   },
   {
    "duration": 569,
    "start_time": "2021-11-12T17:48:22.836Z"
   },
   {
    "duration": 565,
    "start_time": "2021-11-12T17:48:22.842Z"
   },
   {
    "duration": 542,
    "start_time": "2021-11-12T17:48:22.866Z"
   },
   {
    "duration": 468,
    "start_time": "2021-11-12T17:48:22.942Z"
   },
   {
    "duration": 465,
    "start_time": "2021-11-12T17:48:22.946Z"
   },
   {
    "duration": 450,
    "start_time": "2021-11-12T17:48:22.962Z"
   },
   {
    "duration": 4,
    "start_time": "2021-11-12T17:48:36.445Z"
   },
   {
    "duration": 91,
    "start_time": "2021-11-12T17:48:36.452Z"
   },
   {
    "duration": 59,
    "start_time": "2021-11-12T17:48:36.546Z"
   },
   {
    "duration": 16,
    "start_time": "2021-11-12T17:48:36.608Z"
   },
   {
    "duration": 13,
    "start_time": "2021-11-12T17:48:36.626Z"
   },
   {
    "duration": 70,
    "start_time": "2021-11-12T17:48:36.641Z"
   },
   {
    "duration": 15,
    "start_time": "2021-11-12T17:48:36.714Z"
   },
   {
    "duration": 7,
    "start_time": "2021-11-12T17:48:36.732Z"
   },
   {
    "duration": 7,
    "start_time": "2021-11-12T17:48:36.742Z"
   },
   {
    "duration": 6,
    "start_time": "2021-11-12T17:48:36.751Z"
   },
   {
    "duration": 48,
    "start_time": "2021-11-12T17:48:36.759Z"
   },
   {
    "duration": 6,
    "start_time": "2021-11-12T17:48:36.810Z"
   },
   {
    "duration": 12,
    "start_time": "2021-11-12T17:48:36.818Z"
   },
   {
    "duration": 399,
    "start_time": "2021-11-12T17:48:36.833Z"
   },
   {
    "duration": 819,
    "start_time": "2021-11-12T17:48:36.418Z"
   },
   {
    "duration": 817,
    "start_time": "2021-11-12T17:48:36.421Z"
   },
   {
    "duration": 813,
    "start_time": "2021-11-12T17:48:36.426Z"
   },
   {
    "duration": 809,
    "start_time": "2021-11-12T17:48:36.432Z"
   },
   {
    "duration": 806,
    "start_time": "2021-11-12T17:48:36.436Z"
   },
   {
    "duration": 803,
    "start_time": "2021-11-12T17:48:36.440Z"
   },
   {
    "duration": 801,
    "start_time": "2021-11-12T17:48:36.444Z"
   },
   {
    "duration": 790,
    "start_time": "2021-11-12T17:48:36.456Z"
   },
   {
    "duration": 787,
    "start_time": "2021-11-12T17:48:36.460Z"
   },
   {
    "duration": 783,
    "start_time": "2021-11-12T17:48:36.465Z"
   },
   {
    "duration": 780,
    "start_time": "2021-11-12T17:48:36.470Z"
   },
   {
    "duration": 777,
    "start_time": "2021-11-12T17:48:36.474Z"
   },
   {
    "duration": 774,
    "start_time": "2021-11-12T17:48:36.478Z"
   },
   {
    "duration": 770,
    "start_time": "2021-11-12T17:48:36.483Z"
   },
   {
    "duration": 768,
    "start_time": "2021-11-12T17:48:36.487Z"
   },
   {
    "duration": 764,
    "start_time": "2021-11-12T17:48:36.492Z"
   },
   {
    "duration": 761,
    "start_time": "2021-11-12T17:48:36.496Z"
   },
   {
    "duration": 753,
    "start_time": "2021-11-12T17:48:36.505Z"
   },
   {
    "duration": 750,
    "start_time": "2021-11-12T17:48:36.509Z"
   },
   {
    "duration": 747,
    "start_time": "2021-11-12T17:48:36.514Z"
   },
   {
    "duration": 743,
    "start_time": "2021-11-12T17:48:36.519Z"
   },
   {
    "duration": 742,
    "start_time": "2021-11-12T17:48:36.522Z"
   },
   {
    "duration": 739,
    "start_time": "2021-11-12T17:48:36.526Z"
   },
   {
    "duration": 725,
    "start_time": "2021-11-12T17:48:36.541Z"
   },
   {
    "duration": 696,
    "start_time": "2021-11-12T17:48:36.571Z"
   },
   {
    "duration": 666,
    "start_time": "2021-11-12T17:48:36.603Z"
   },
   {
    "duration": 645,
    "start_time": "2021-11-12T17:48:36.625Z"
   },
   {
    "duration": 652,
    "start_time": "2021-11-12T17:48:36.648Z"
   },
   {
    "duration": 642,
    "start_time": "2021-11-12T17:48:36.660Z"
   },
   {
    "duration": 635,
    "start_time": "2021-11-12T17:48:36.668Z"
   },
   {
    "duration": 628,
    "start_time": "2021-11-12T17:48:36.677Z"
   },
   {
    "duration": 624,
    "start_time": "2021-11-12T17:48:36.682Z"
   },
   {
    "duration": 617,
    "start_time": "2021-11-12T17:48:36.690Z"
   },
   {
    "duration": 615,
    "start_time": "2021-11-12T17:48:36.694Z"
   },
   {
    "duration": 611,
    "start_time": "2021-11-12T17:48:36.699Z"
   },
   {
    "duration": 601,
    "start_time": "2021-11-12T17:48:36.710Z"
   },
   {
    "duration": 529,
    "start_time": "2021-11-12T17:48:36.784Z"
   },
   {
    "duration": 520,
    "start_time": "2021-11-12T17:48:36.794Z"
   },
   {
    "duration": 517,
    "start_time": "2021-11-12T17:48:36.798Z"
   },
   {
    "duration": 514,
    "start_time": "2021-11-12T17:48:36.802Z"
   },
   {
    "duration": 513,
    "start_time": "2021-11-12T17:48:36.805Z"
   },
   {
    "duration": 501,
    "start_time": "2021-11-12T17:48:36.818Z"
   },
   {
    "duration": 499,
    "start_time": "2021-11-12T17:48:36.821Z"
   },
   {
    "duration": 496,
    "start_time": "2021-11-12T17:48:36.825Z"
   },
   {
    "duration": 488,
    "start_time": "2021-11-12T17:48:36.835Z"
   },
   {
    "duration": 484,
    "start_time": "2021-11-12T17:48:36.840Z"
   },
   {
    "duration": 478,
    "start_time": "2021-11-12T17:48:36.847Z"
   },
   {
    "duration": 436,
    "start_time": "2021-11-12T17:48:36.890Z"
   },
   {
    "duration": 432,
    "start_time": "2021-11-12T17:48:36.895Z"
   },
   {
    "duration": 9,
    "start_time": "2021-11-12T17:49:13.686Z"
   },
   {
    "duration": 834,
    "start_time": "2021-11-12T17:49:23.003Z"
   },
   {
    "duration": 99,
    "start_time": "2021-11-12T17:49:23.840Z"
   },
   {
    "duration": 62,
    "start_time": "2021-11-12T17:49:23.947Z"
   },
   {
    "duration": 15,
    "start_time": "2021-11-12T17:49:24.012Z"
   },
   {
    "duration": 13,
    "start_time": "2021-11-12T17:49:24.030Z"
   },
   {
    "duration": 20,
    "start_time": "2021-11-12T17:49:24.046Z"
   },
   {
    "duration": 16,
    "start_time": "2021-11-12T17:49:24.101Z"
   },
   {
    "duration": 8,
    "start_time": "2021-11-12T17:49:24.120Z"
   },
   {
    "duration": 8,
    "start_time": "2021-11-12T17:49:24.131Z"
   },
   {
    "duration": 5,
    "start_time": "2021-11-12T17:49:24.142Z"
   },
   {
    "duration": 54,
    "start_time": "2021-11-12T17:49:24.149Z"
   },
   {
    "duration": 7,
    "start_time": "2021-11-12T17:49:24.205Z"
   },
   {
    "duration": 15,
    "start_time": "2021-11-12T17:49:24.214Z"
   },
   {
    "duration": 11,
    "start_time": "2021-11-12T17:49:24.231Z"
   },
   {
    "duration": 11,
    "start_time": "2021-11-12T17:49:24.244Z"
   },
   {
    "duration": 73,
    "start_time": "2021-11-12T17:49:24.258Z"
   },
   {
    "duration": 40,
    "start_time": "2021-11-12T17:49:24.334Z"
   },
   {
    "duration": 26,
    "start_time": "2021-11-12T17:49:24.376Z"
   },
   {
    "duration": 5,
    "start_time": "2021-11-12T17:49:24.404Z"
   },
   {
    "duration": 865,
    "start_time": "2021-11-12T17:49:24.411Z"
   },
   {
    "duration": 5,
    "start_time": "2021-11-12T17:49:25.278Z"
   },
   {
    "duration": 8,
    "start_time": "2021-11-12T17:49:25.302Z"
   },
   {
    "duration": 14,
    "start_time": "2021-11-12T17:49:25.313Z"
   },
   {
    "duration": 20,
    "start_time": "2021-11-12T17:49:25.329Z"
   },
   {
    "duration": 5,
    "start_time": "2021-11-12T17:49:25.351Z"
   },
   {
    "duration": 1023,
    "start_time": "2021-11-12T17:49:25.358Z"
   },
   {
    "duration": 17,
    "start_time": "2021-11-12T17:49:26.383Z"
   },
   {
    "duration": 8,
    "start_time": "2021-11-12T17:49:26.403Z"
   },
   {
    "duration": 9,
    "start_time": "2021-11-12T17:49:26.413Z"
   },
   {
    "duration": 185,
    "start_time": "2021-11-12T17:49:26.424Z"
   },
   {
    "duration": 856,
    "start_time": "2021-11-12T17:49:26.611Z"
   },
   {
    "duration": 941,
    "start_time": "2021-11-12T17:49:27.469Z"
   },
   {
    "duration": 364,
    "start_time": "2021-11-12T17:49:28.413Z"
   },
   {
    "duration": 358,
    "start_time": "2021-11-12T17:49:28.780Z"
   },
   {
    "duration": 316,
    "start_time": "2021-11-12T17:49:29.141Z"
   },
   {
    "duration": 8,
    "start_time": "2021-11-12T17:49:29.460Z"
   },
   {
    "duration": 451,
    "start_time": "2021-11-12T17:49:29.471Z"
   },
   {
    "duration": 7,
    "start_time": "2021-11-12T17:49:29.925Z"
   },
   {
    "duration": 23,
    "start_time": "2021-11-12T17:49:29.934Z"
   },
   {
    "duration": 368,
    "start_time": "2021-11-12T17:49:29.959Z"
   },
   {
    "duration": 752,
    "start_time": "2021-11-12T17:49:30.330Z"
   },
   {
    "duration": 24,
    "start_time": "2021-11-12T17:49:31.085Z"
   },
   {
    "duration": 753,
    "start_time": "2021-11-12T17:49:31.112Z"
   },
   {
    "duration": 364,
    "start_time": "2021-11-12T17:49:31.867Z"
   },
   {
    "duration": 290,
    "start_time": "2021-11-12T17:49:32.234Z"
   },
   {
    "duration": 10,
    "start_time": "2021-11-12T17:49:32.527Z"
   },
   {
    "duration": 18,
    "start_time": "2021-11-12T17:49:32.539Z"
   },
   {
    "duration": 728,
    "start_time": "2021-11-12T17:49:32.560Z"
   },
   {
    "duration": 514,
    "start_time": "2021-11-12T17:49:33.291Z"
   },
   {
    "duration": 375,
    "start_time": "2021-11-12T17:49:33.808Z"
   },
   {
    "duration": 292,
    "start_time": "2021-11-12T17:49:34.186Z"
   },
   {
    "duration": 46,
    "start_time": "2021-11-12T17:49:34.480Z"
   },
   {
    "duration": 13,
    "start_time": "2021-11-12T17:49:34.529Z"
   },
   {
    "duration": 24,
    "start_time": "2021-11-12T17:49:34.545Z"
   },
   {
    "duration": 7,
    "start_time": "2021-11-12T17:49:34.601Z"
   },
   {
    "duration": 399,
    "start_time": "2021-11-12T17:49:34.610Z"
   },
   {
    "duration": 12,
    "start_time": "2021-11-12T17:49:35.011Z"
   },
   {
    "duration": 6,
    "start_time": "2021-11-12T17:49:35.026Z"
   },
   {
    "duration": 326,
    "start_time": "2021-11-12T17:49:35.034Z"
   },
   {
    "duration": 10,
    "start_time": "2021-11-12T17:49:35.363Z"
   },
   {
    "duration": 269,
    "start_time": "2021-11-12T17:49:35.376Z"
   },
   {
    "duration": 224,
    "start_time": "2021-11-12T17:49:35.648Z"
   },
   {
    "duration": 237,
    "start_time": "2021-11-12T17:49:35.875Z"
   },
   {
    "duration": 5,
    "start_time": "2021-11-12T17:50:06.859Z"
   },
   {
    "duration": 7,
    "start_time": "2021-11-12T17:50:07.226Z"
   },
   {
    "duration": 7,
    "start_time": "2021-11-12T17:50:11.097Z"
   },
   {
    "duration": 539,
    "start_time": "2021-11-12T17:50:32.659Z"
   },
   {
    "duration": 232,
    "start_time": "2021-11-12T17:50:50.925Z"
   },
   {
    "duration": 26,
    "start_time": "2021-11-12T17:50:59.754Z"
   },
   {
    "duration": 62,
    "start_time": "2021-11-12T17:51:03.562Z"
   },
   {
    "duration": 44,
    "start_time": "2021-11-12T17:51:17.123Z"
   },
   {
    "duration": 44,
    "start_time": "2021-11-12T17:51:54.772Z"
   },
   {
    "duration": 547,
    "start_time": "2021-11-12T17:57:44.046Z"
   },
   {
    "duration": 16,
    "start_time": "2021-11-12T17:57:54.880Z"
   },
   {
    "duration": 8,
    "start_time": "2021-11-12T17:58:02.903Z"
   },
   {
    "duration": 6,
    "start_time": "2021-11-12T17:58:07.437Z"
   },
   {
    "duration": 150,
    "start_time": "2021-11-12T17:58:21.437Z"
   },
   {
    "duration": 133,
    "start_time": "2021-11-12T17:59:48.553Z"
   },
   {
    "duration": 10,
    "start_time": "2021-11-12T18:04:26.550Z"
   },
   {
    "duration": 8,
    "start_time": "2021-11-12T18:04:35.018Z"
   },
   {
    "duration": 10,
    "start_time": "2021-11-12T18:04:51.966Z"
   },
   {
    "duration": 9,
    "start_time": "2021-11-12T18:05:01.870Z"
   },
   {
    "duration": 10,
    "start_time": "2021-11-12T18:05:10.367Z"
   },
   {
    "duration": 9,
    "start_time": "2021-11-12T18:05:20.925Z"
   },
   {
    "duration": 9,
    "start_time": "2021-11-12T18:05:42.756Z"
   },
   {
    "duration": 359,
    "start_time": "2021-11-12T18:07:09.976Z"
   },
   {
    "duration": 321,
    "start_time": "2021-11-12T18:07:24.944Z"
   },
   {
    "duration": 332,
    "start_time": "2021-11-12T18:07:31.971Z"
   },
   {
    "duration": 309,
    "start_time": "2021-11-12T18:07:36.613Z"
   },
   {
    "duration": 8,
    "start_time": "2021-11-12T18:08:56.080Z"
   },
   {
    "duration": 309,
    "start_time": "2021-11-12T18:09:45.991Z"
   },
   {
    "duration": 299,
    "start_time": "2021-11-12T18:09:52.281Z"
   },
   {
    "duration": 310,
    "start_time": "2021-11-12T18:09:59.968Z"
   },
   {
    "duration": 324,
    "start_time": "2021-11-12T18:10:09.791Z"
   },
   {
    "duration": 147,
    "start_time": "2021-11-12T18:10:19.655Z"
   },
   {
    "duration": 462,
    "start_time": "2021-11-12T18:10:22.967Z"
   },
   {
    "duration": 335,
    "start_time": "2021-11-12T18:10:27.344Z"
   },
   {
    "duration": 1063,
    "start_time": "2021-11-12T18:10:30.344Z"
   },
   {
    "duration": 882,
    "start_time": "2021-11-12T18:10:40.456Z"
   },
   {
    "duration": 924,
    "start_time": "2021-11-12T18:10:47.824Z"
   },
   {
    "duration": 825,
    "start_time": "2021-11-12T18:10:52.154Z"
   },
   {
    "duration": 819,
    "start_time": "2021-11-12T18:11:09.087Z"
   },
   {
    "duration": 813,
    "start_time": "2021-11-12T18:11:12.928Z"
   },
   {
    "duration": 979,
    "start_time": "2021-11-12T18:11:16.928Z"
   },
   {
    "duration": 830,
    "start_time": "2021-11-12T18:11:27.064Z"
   },
   {
    "duration": 526,
    "start_time": "2021-11-12T18:11:31.488Z"
   },
   {
    "duration": 560,
    "start_time": "2021-11-12T18:11:34.658Z"
   },
   {
    "duration": 415,
    "start_time": "2021-11-12T18:11:44.169Z"
   },
   {
    "duration": 307,
    "start_time": "2021-11-12T18:11:47.080Z"
   },
   {
    "duration": 348,
    "start_time": "2021-11-12T18:11:50.152Z"
   },
   {
    "duration": 722,
    "start_time": "2021-11-12T18:11:54.496Z"
   },
   {
    "duration": 428,
    "start_time": "2021-11-12T18:12:08.952Z"
   },
   {
    "duration": 412,
    "start_time": "2021-11-12T18:13:03.144Z"
   },
   {
    "duration": 8,
    "start_time": "2021-11-12T18:13:06.568Z"
   },
   {
    "duration": 347,
    "start_time": "2021-11-15T14:01:56.920Z"
   },
   {
    "duration": 874,
    "start_time": "2021-11-15T14:02:08.059Z"
   },
   {
    "duration": 83,
    "start_time": "2021-11-15T14:02:08.936Z"
   },
   {
    "duration": 42,
    "start_time": "2021-11-15T14:02:09.022Z"
   },
   {
    "duration": 23,
    "start_time": "2021-11-15T14:02:09.067Z"
   },
   {
    "duration": 21,
    "start_time": "2021-11-15T14:02:09.092Z"
   },
   {
    "duration": 26,
    "start_time": "2021-11-15T14:02:09.128Z"
   },
   {
    "duration": 38,
    "start_time": "2021-11-15T14:02:09.157Z"
   },
   {
    "duration": 18,
    "start_time": "2021-11-15T14:02:09.198Z"
   },
   {
    "duration": 35,
    "start_time": "2021-11-15T14:02:09.219Z"
   },
   {
    "duration": 25,
    "start_time": "2021-11-15T14:02:09.257Z"
   },
   {
    "duration": 33,
    "start_time": "2021-11-15T14:02:09.285Z"
   },
   {
    "duration": 12,
    "start_time": "2021-11-15T14:02:09.321Z"
   },
   {
    "duration": 32,
    "start_time": "2021-11-15T14:02:09.335Z"
   },
   {
    "duration": 31,
    "start_time": "2021-11-15T14:02:09.369Z"
   },
   {
    "duration": 18,
    "start_time": "2021-11-15T14:02:09.402Z"
   },
   {
    "duration": 55,
    "start_time": "2021-11-15T14:02:09.422Z"
   },
   {
    "duration": 37,
    "start_time": "2021-11-15T14:02:09.480Z"
   },
   {
    "duration": 14,
    "start_time": "2021-11-15T14:02:09.520Z"
   },
   {
    "duration": 5,
    "start_time": "2021-11-15T14:02:09.537Z"
   },
   {
    "duration": 838,
    "start_time": "2021-11-15T14:02:09.545Z"
   },
   {
    "duration": 5,
    "start_time": "2021-11-15T14:02:10.385Z"
   },
   {
    "duration": 52,
    "start_time": "2021-11-15T14:02:10.392Z"
   },
   {
    "duration": 10,
    "start_time": "2021-11-15T14:02:10.449Z"
   },
   {
    "duration": 27,
    "start_time": "2021-11-15T14:02:10.462Z"
   },
   {
    "duration": 3,
    "start_time": "2021-11-15T14:02:10.492Z"
   },
   {
    "duration": 1018,
    "start_time": "2021-11-15T14:02:10.497Z"
   },
   {
    "duration": 16,
    "start_time": "2021-11-15T14:02:11.517Z"
   },
   {
    "duration": 13,
    "start_time": "2021-11-15T14:02:11.535Z"
   },
   {
    "duration": 15,
    "start_time": "2021-11-15T14:02:11.551Z"
   },
   {
    "duration": 819,
    "start_time": "2021-11-15T14:02:11.569Z"
   },
   {
    "duration": 929,
    "start_time": "2021-11-15T14:02:12.391Z"
   },
   {
    "duration": 462,
    "start_time": "2021-11-15T14:02:13.322Z"
   },
   {
    "duration": 346,
    "start_time": "2021-11-15T14:02:13.786Z"
   },
   {
    "duration": 308,
    "start_time": "2021-11-15T14:02:14.134Z"
   },
   {
    "duration": 383,
    "start_time": "2021-11-15T14:02:14.445Z"
   },
   {
    "duration": 9,
    "start_time": "2021-11-15T14:02:14.831Z"
   },
   {
    "duration": 522,
    "start_time": "2021-11-15T14:02:14.843Z"
   },
   {
    "duration": 7,
    "start_time": "2021-11-15T14:02:15.367Z"
   },
   {
    "duration": 722,
    "start_time": "2021-11-15T14:02:15.376Z"
   },
   {
    "duration": 32,
    "start_time": "2021-11-15T14:02:16.100Z"
   },
   {
    "duration": 784,
    "start_time": "2021-11-15T14:02:16.135Z"
   },
   {
    "duration": 349,
    "start_time": "2021-11-15T14:02:16.930Z"
   },
   {
    "duration": 263,
    "start_time": "2021-11-15T14:02:17.282Z"
   },
   {
    "duration": 9,
    "start_time": "2021-11-15T14:02:17.547Z"
   },
   {
    "duration": 21,
    "start_time": "2021-11-15T14:02:17.559Z"
   },
   {
    "duration": 708,
    "start_time": "2021-11-15T14:02:17.582Z"
   },
   {
    "duration": 298,
    "start_time": "2021-11-15T14:02:18.293Z"
   },
   {
    "duration": 344,
    "start_time": "2021-11-15T14:02:18.593Z"
   },
   {
    "duration": 325,
    "start_time": "2021-11-15T14:02:18.940Z"
   },
   {
    "duration": 64,
    "start_time": "2021-11-15T14:02:19.268Z"
   },
   {
    "duration": 12,
    "start_time": "2021-11-15T14:02:19.335Z"
   },
   {
    "duration": 27,
    "start_time": "2021-11-15T14:02:19.350Z"
   },
   {
    "duration": 11,
    "start_time": "2021-11-15T14:02:19.380Z"
   },
   {
    "duration": 339,
    "start_time": "2021-11-15T14:02:19.393Z"
   },
   {
    "duration": 12,
    "start_time": "2021-11-15T14:02:19.734Z"
   },
   {
    "duration": 36,
    "start_time": "2021-11-15T14:02:19.748Z"
   },
   {
    "duration": 326,
    "start_time": "2021-11-15T14:02:19.786Z"
   },
   {
    "duration": 20,
    "start_time": "2021-11-15T14:02:20.114Z"
   },
   {
    "duration": 246,
    "start_time": "2021-11-15T14:02:20.136Z"
   },
   {
    "duration": 247,
    "start_time": "2021-11-15T14:02:20.385Z"
   },
   {
    "duration": 234,
    "start_time": "2021-11-15T14:02:20.634Z"
   },
   {
    "duration": 309,
    "start_time": "2021-11-15T14:02:55.309Z"
   },
   {
    "duration": 1235,
    "start_time": "2021-11-15T14:03:03.349Z"
   },
   {
    "duration": 1310,
    "start_time": "2021-11-15T14:03:17.701Z"
   },
   {
    "duration": 274,
    "start_time": "2021-11-15T14:06:03.722Z"
   },
   {
    "duration": 324,
    "start_time": "2021-11-15T14:06:48.813Z"
   },
   {
    "duration": 317,
    "start_time": "2021-11-15T14:06:57.837Z"
   },
   {
    "duration": 906,
    "start_time": "2021-11-15T14:07:04.804Z"
   },
   {
    "duration": 969,
    "start_time": "2021-11-15T14:07:22.972Z"
   },
   {
    "duration": 157,
    "start_time": "2021-11-15T14:09:34.363Z"
   },
   {
    "duration": 10,
    "start_time": "2021-11-15T14:10:20.882Z"
   },
   {
    "duration": 732,
    "start_time": "2021-11-15T14:10:23.659Z"
   },
   {
    "duration": 7,
    "start_time": "2021-11-15T14:10:29.843Z"
   },
   {
    "duration": 9,
    "start_time": "2021-11-15T14:11:06.444Z"
   },
   {
    "duration": 574,
    "start_time": "2021-11-15T14:11:13.708Z"
   },
   {
    "duration": 5,
    "start_time": "2021-11-15T14:14:19.852Z"
   },
   {
    "duration": 6,
    "start_time": "2021-11-15T14:14:35.489Z"
   },
   {
    "duration": 14,
    "start_time": "2021-11-15T14:15:56.491Z"
   },
   {
    "duration": 16,
    "start_time": "2021-11-15T14:16:01.066Z"
   },
   {
    "duration": 12,
    "start_time": "2021-11-15T14:16:16.602Z"
   },
   {
    "duration": 15,
    "start_time": "2021-11-15T14:20:03.211Z"
   },
   {
    "duration": 488,
    "start_time": "2021-11-15T14:20:20.772Z"
   },
   {
    "duration": 107,
    "start_time": "2021-11-15T14:20:29.811Z"
   },
   {
    "duration": 103,
    "start_time": "2021-11-15T14:20:37.895Z"
   },
   {
    "duration": 11,
    "start_time": "2021-11-15T14:20:49.803Z"
   },
   {
    "duration": 12,
    "start_time": "2021-11-15T14:21:02.298Z"
   },
   {
    "duration": 14,
    "start_time": "2021-11-15T14:21:14.050Z"
   },
   {
    "duration": 25,
    "start_time": "2021-11-15T14:21:46.130Z"
   },
   {
    "duration": 14,
    "start_time": "2021-11-15T14:21:50.490Z"
   },
   {
    "duration": 12,
    "start_time": "2021-11-15T14:22:04.414Z"
   },
   {
    "duration": 19,
    "start_time": "2021-11-15T14:22:20.827Z"
   },
   {
    "duration": 14,
    "start_time": "2021-11-15T14:22:54.772Z"
   },
   {
    "duration": 8,
    "start_time": "2021-11-15T14:23:07.746Z"
   },
   {
    "duration": 19,
    "start_time": "2021-11-15T14:23:08.443Z"
   },
   {
    "duration": 940,
    "start_time": "2021-11-15T14:23:16.917Z"
   },
   {
    "duration": 92,
    "start_time": "2021-11-15T14:23:17.859Z"
   },
   {
    "duration": 42,
    "start_time": "2021-11-15T14:23:17.954Z"
   },
   {
    "duration": 35,
    "start_time": "2021-11-15T14:23:18.000Z"
   },
   {
    "duration": 15,
    "start_time": "2021-11-15T14:23:18.039Z"
   },
   {
    "duration": 23,
    "start_time": "2021-11-15T14:23:18.057Z"
   },
   {
    "duration": 61,
    "start_time": "2021-11-15T14:23:18.083Z"
   },
   {
    "duration": 8,
    "start_time": "2021-11-15T14:23:18.147Z"
   },
   {
    "duration": 7,
    "start_time": "2021-11-15T14:23:18.159Z"
   },
   {
    "duration": 9,
    "start_time": "2021-11-15T14:23:18.169Z"
   },
   {
    "duration": 15,
    "start_time": "2021-11-15T14:23:18.181Z"
   },
   {
    "duration": 38,
    "start_time": "2021-11-15T14:23:18.198Z"
   },
   {
    "duration": 15,
    "start_time": "2021-11-15T14:23:18.240Z"
   },
   {
    "duration": 10,
    "start_time": "2021-11-15T14:23:18.258Z"
   },
   {
    "duration": 11,
    "start_time": "2021-11-15T14:23:18.270Z"
   },
   {
    "duration": 83,
    "start_time": "2021-11-15T14:23:18.284Z"
   },
   {
    "duration": 36,
    "start_time": "2021-11-15T14:23:18.369Z"
   },
   {
    "duration": 26,
    "start_time": "2021-11-15T14:23:18.407Z"
   },
   {
    "duration": 6,
    "start_time": "2021-11-15T14:23:18.436Z"
   },
   {
    "duration": 876,
    "start_time": "2021-11-15T14:23:18.445Z"
   },
   {
    "duration": 6,
    "start_time": "2021-11-15T14:23:19.323Z"
   },
   {
    "duration": 51,
    "start_time": "2021-11-15T14:23:19.331Z"
   },
   {
    "duration": 10,
    "start_time": "2021-11-15T14:23:19.384Z"
   },
   {
    "duration": 32,
    "start_time": "2021-11-15T14:23:19.397Z"
   },
   {
    "duration": 9,
    "start_time": "2021-11-15T14:23:19.432Z"
   },
   {
    "duration": 1065,
    "start_time": "2021-11-15T14:23:19.444Z"
   },
   {
    "duration": 16,
    "start_time": "2021-11-15T14:23:20.515Z"
   },
   {
    "duration": 12,
    "start_time": "2021-11-15T14:23:20.536Z"
   },
   {
    "duration": 11,
    "start_time": "2021-11-15T14:23:20.551Z"
   },
   {
    "duration": 883,
    "start_time": "2021-11-15T14:23:20.564Z"
   },
   {
    "duration": 966,
    "start_time": "2021-11-15T14:23:21.450Z"
   },
   {
    "duration": 383,
    "start_time": "2021-11-15T14:23:22.418Z"
   },
   {
    "duration": 361,
    "start_time": "2021-11-15T14:23:22.803Z"
   },
   {
    "duration": 1070,
    "start_time": "2021-11-15T14:23:23.167Z"
   },
   {
    "duration": 1273,
    "start_time": "2021-11-15T14:23:24.242Z"
   },
   {
    "duration": 21,
    "start_time": "2021-11-15T14:23:25.517Z"
   },
   {
    "duration": 443,
    "start_time": "2021-11-15T14:23:25.543Z"
   },
   {
    "duration": 8,
    "start_time": "2021-11-15T14:23:25.989Z"
   },
   {
    "duration": 30,
    "start_time": "2021-11-15T14:23:26.000Z"
   },
   {
    "duration": 46,
    "start_time": "2021-11-15T14:23:26.033Z"
   },
   {
    "duration": 26,
    "start_time": "2021-11-15T14:23:26.082Z"
   },
   {
    "duration": 610,
    "start_time": "2021-11-15T14:23:26.111Z"
   },
   {
    "duration": 18,
    "start_time": "2021-11-15T14:23:26.723Z"
   },
   {
    "duration": 617,
    "start_time": "2021-11-15T14:23:26.747Z"
   },
   {
    "duration": 298,
    "start_time": "2021-11-15T14:23:27.367Z"
   },
   {
    "duration": 256,
    "start_time": "2021-11-15T14:23:27.668Z"
   },
   {
    "duration": 13,
    "start_time": "2021-11-15T14:23:27.933Z"
   },
   {
    "duration": 24,
    "start_time": "2021-11-15T14:23:27.949Z"
   },
   {
    "duration": 737,
    "start_time": "2021-11-15T14:23:27.975Z"
   },
   {
    "duration": 324,
    "start_time": "2021-11-15T14:23:28.715Z"
   },
   {
    "duration": 346,
    "start_time": "2021-11-15T14:23:29.042Z"
   },
   {
    "duration": 288,
    "start_time": "2021-11-15T14:23:29.390Z"
   },
   {
    "duration": 49,
    "start_time": "2021-11-15T14:23:29.680Z"
   },
   {
    "duration": 13,
    "start_time": "2021-11-15T14:23:29.738Z"
   },
   {
    "duration": 19,
    "start_time": "2021-11-15T14:23:29.754Z"
   },
   {
    "duration": 6,
    "start_time": "2021-11-15T14:23:29.775Z"
   },
   {
    "duration": 349,
    "start_time": "2021-11-15T14:23:29.784Z"
   },
   {
    "duration": 11,
    "start_time": "2021-11-15T14:23:30.136Z"
   },
   {
    "duration": 10,
    "start_time": "2021-11-15T14:23:30.150Z"
   },
   {
    "duration": 280,
    "start_time": "2021-11-15T14:23:30.162Z"
   },
   {
    "duration": 14,
    "start_time": "2021-11-15T14:23:30.445Z"
   },
   {
    "duration": 251,
    "start_time": "2021-11-15T14:23:30.462Z"
   },
   {
    "duration": 260,
    "start_time": "2021-11-15T14:23:30.715Z"
   },
   {
    "duration": 237,
    "start_time": "2021-11-15T14:23:30.977Z"
   },
   {
    "duration": 15,
    "start_time": "2021-11-15T14:23:37.288Z"
   },
   {
    "duration": 14,
    "start_time": "2021-11-15T14:23:47.175Z"
   },
   {
    "duration": 12,
    "start_time": "2021-11-15T14:23:52.552Z"
   },
   {
    "duration": 12,
    "start_time": "2021-11-15T14:23:59.319Z"
   },
   {
    "duration": 13,
    "start_time": "2021-11-15T14:24:04.545Z"
   },
   {
    "duration": 20,
    "start_time": "2021-11-15T14:24:12.127Z"
   },
   {
    "duration": 10,
    "start_time": "2021-11-15T14:24:20.936Z"
   },
   {
    "duration": 961,
    "start_time": "2021-11-15T14:24:30.409Z"
   },
   {
    "duration": 97,
    "start_time": "2021-11-15T14:24:31.372Z"
   },
   {
    "duration": 42,
    "start_time": "2021-11-15T14:24:31.472Z"
   },
   {
    "duration": 27,
    "start_time": "2021-11-15T14:24:31.529Z"
   },
   {
    "duration": 35,
    "start_time": "2021-11-15T14:24:31.559Z"
   },
   {
    "duration": 51,
    "start_time": "2021-11-15T14:24:31.597Z"
   },
   {
    "duration": 64,
    "start_time": "2021-11-15T14:24:31.651Z"
   },
   {
    "duration": 24,
    "start_time": "2021-11-15T14:24:31.718Z"
   },
   {
    "duration": 23,
    "start_time": "2021-11-15T14:24:31.747Z"
   },
   {
    "duration": 28,
    "start_time": "2021-11-15T14:24:31.773Z"
   },
   {
    "duration": 50,
    "start_time": "2021-11-15T14:24:31.803Z"
   },
   {
    "duration": 24,
    "start_time": "2021-11-15T14:24:31.856Z"
   },
   {
    "duration": 32,
    "start_time": "2021-11-15T14:24:31.882Z"
   },
   {
    "duration": 31,
    "start_time": "2021-11-15T14:24:31.916Z"
   },
   {
    "duration": 41,
    "start_time": "2021-11-15T14:24:31.949Z"
   },
   {
    "duration": 67,
    "start_time": "2021-11-15T14:24:31.992Z"
   },
   {
    "duration": 38,
    "start_time": "2021-11-15T14:24:32.061Z"
   },
   {
    "duration": 32,
    "start_time": "2021-11-15T14:24:32.102Z"
   },
   {
    "duration": 26,
    "start_time": "2021-11-15T14:24:32.138Z"
   },
   {
    "duration": 915,
    "start_time": "2021-11-15T14:24:32.166Z"
   },
   {
    "duration": 6,
    "start_time": "2021-11-15T14:24:33.083Z"
   },
   {
    "duration": 77,
    "start_time": "2021-11-15T14:24:33.091Z"
   },
   {
    "duration": 11,
    "start_time": "2021-11-15T14:24:33.170Z"
   },
   {
    "duration": 34,
    "start_time": "2021-11-15T14:24:33.184Z"
   },
   {
    "duration": 32,
    "start_time": "2021-11-15T14:24:33.220Z"
   },
   {
    "duration": 1089,
    "start_time": "2021-11-15T14:24:33.254Z"
   },
   {
    "duration": 10,
    "start_time": "2021-11-15T14:24:34.350Z"
   },
   {
    "duration": 13,
    "start_time": "2021-11-15T14:24:34.363Z"
   },
   {
    "duration": 29,
    "start_time": "2021-11-15T14:24:34.379Z"
   },
   {
    "duration": 857,
    "start_time": "2021-11-15T14:24:34.411Z"
   },
   {
    "duration": 972,
    "start_time": "2021-11-15T14:24:35.270Z"
   },
   {
    "duration": 380,
    "start_time": "2021-11-15T14:24:36.245Z"
   },
   {
    "duration": 360,
    "start_time": "2021-11-15T14:24:36.630Z"
   },
   {
    "duration": 1055,
    "start_time": "2021-11-15T14:24:36.993Z"
   },
   {
    "duration": 1296,
    "start_time": "2021-11-15T14:24:38.050Z"
   },
   {
    "duration": 11,
    "start_time": "2021-11-15T14:24:39.348Z"
   },
   {
    "duration": 433,
    "start_time": "2021-11-15T14:24:39.361Z"
   },
   {
    "duration": 6,
    "start_time": "2021-11-15T14:24:39.797Z"
   },
   {
    "duration": 23,
    "start_time": "2021-11-15T14:24:39.806Z"
   },
   {
    "duration": 30,
    "start_time": "2021-11-15T14:24:39.832Z"
   },
   {
    "duration": 15,
    "start_time": "2021-11-15T14:24:39.864Z"
   },
   {
    "duration": 730,
    "start_time": "2021-11-15T14:24:39.881Z"
   },
   {
    "duration": 17,
    "start_time": "2021-11-15T14:24:40.613Z"
   },
   {
    "duration": 648,
    "start_time": "2021-11-15T14:24:40.633Z"
   },
   {
    "duration": 298,
    "start_time": "2021-11-15T14:24:41.283Z"
   },
   {
    "duration": 277,
    "start_time": "2021-11-15T14:24:41.583Z"
   },
   {
    "duration": 10,
    "start_time": "2021-11-15T14:24:41.862Z"
   },
   {
    "duration": 21,
    "start_time": "2021-11-15T14:24:41.874Z"
   },
   {
    "duration": 702,
    "start_time": "2021-11-15T14:24:41.898Z"
   },
   {
    "duration": 326,
    "start_time": "2021-11-15T14:24:42.603Z"
   },
   {
    "duration": 365,
    "start_time": "2021-11-15T14:24:42.932Z"
   },
   {
    "duration": 308,
    "start_time": "2021-11-15T14:24:43.299Z"
   },
   {
    "duration": 48,
    "start_time": "2021-11-15T14:24:43.610Z"
   },
   {
    "duration": 14,
    "start_time": "2021-11-15T14:24:43.661Z"
   },
   {
    "duration": 16,
    "start_time": "2021-11-15T14:24:43.678Z"
   },
   {
    "duration": 10,
    "start_time": "2021-11-15T14:24:43.733Z"
   },
   {
    "duration": 341,
    "start_time": "2021-11-15T14:24:43.746Z"
   },
   {
    "duration": 11,
    "start_time": "2021-11-15T14:24:44.090Z"
   },
   {
    "duration": 32,
    "start_time": "2021-11-15T14:24:44.103Z"
   },
   {
    "duration": 248,
    "start_time": "2021-11-15T14:24:44.139Z"
   },
   {
    "duration": 11,
    "start_time": "2021-11-15T14:24:44.390Z"
   },
   {
    "duration": 265,
    "start_time": "2021-11-15T14:24:44.403Z"
   },
   {
    "duration": 259,
    "start_time": "2021-11-15T14:24:44.670Z"
   },
   {
    "duration": 254,
    "start_time": "2021-11-15T14:24:44.933Z"
   },
   {
    "duration": 13,
    "start_time": "2021-11-15T14:24:49.796Z"
   },
   {
    "duration": 14,
    "start_time": "2021-11-15T14:24:53.298Z"
   },
   {
    "duration": 929,
    "start_time": "2021-11-15T14:25:01.157Z"
   },
   {
    "duration": 97,
    "start_time": "2021-11-15T14:25:02.089Z"
   },
   {
    "duration": 55,
    "start_time": "2021-11-15T14:25:02.191Z"
   },
   {
    "duration": 16,
    "start_time": "2021-11-15T14:25:02.248Z"
   },
   {
    "duration": 29,
    "start_time": "2021-11-15T14:25:02.267Z"
   },
   {
    "duration": 55,
    "start_time": "2021-11-15T14:25:02.299Z"
   },
   {
    "duration": 40,
    "start_time": "2021-11-15T14:25:02.358Z"
   },
   {
    "duration": 17,
    "start_time": "2021-11-15T14:25:02.401Z"
   },
   {
    "duration": 20,
    "start_time": "2021-11-15T14:25:02.421Z"
   },
   {
    "duration": 12,
    "start_time": "2021-11-15T14:25:02.445Z"
   },
   {
    "duration": 18,
    "start_time": "2021-11-15T14:25:02.460Z"
   },
   {
    "duration": 18,
    "start_time": "2021-11-15T14:25:02.481Z"
   },
   {
    "duration": 26,
    "start_time": "2021-11-15T14:25:02.501Z"
   },
   {
    "duration": 22,
    "start_time": "2021-11-15T14:25:02.531Z"
   },
   {
    "duration": 15,
    "start_time": "2021-11-15T14:25:02.556Z"
   },
   {
    "duration": 45,
    "start_time": "2021-11-15T14:25:02.573Z"
   },
   {
    "duration": 56,
    "start_time": "2021-11-15T14:25:02.620Z"
   },
   {
    "duration": 10,
    "start_time": "2021-11-15T14:25:02.678Z"
   },
   {
    "duration": 15,
    "start_time": "2021-11-15T14:25:02.690Z"
   },
   {
    "duration": 885,
    "start_time": "2021-11-15T14:25:02.708Z"
   },
   {
    "duration": 5,
    "start_time": "2021-11-15T14:25:03.596Z"
   },
   {
    "duration": 63,
    "start_time": "2021-11-15T14:25:03.607Z"
   },
   {
    "duration": 11,
    "start_time": "2021-11-15T14:25:03.674Z"
   },
   {
    "duration": 23,
    "start_time": "2021-11-15T14:25:03.688Z"
   },
   {
    "duration": 18,
    "start_time": "2021-11-15T14:25:03.714Z"
   },
   {
    "duration": 1059,
    "start_time": "2021-11-15T14:25:03.736Z"
   },
   {
    "duration": 10,
    "start_time": "2021-11-15T14:25:04.797Z"
   },
   {
    "duration": 28,
    "start_time": "2021-11-15T14:25:04.810Z"
   },
   {
    "duration": 9,
    "start_time": "2021-11-15T14:25:04.841Z"
   },
   {
    "duration": 891,
    "start_time": "2021-11-15T14:25:04.852Z"
   },
   {
    "duration": 1040,
    "start_time": "2021-11-15T14:25:05.746Z"
   },
   {
    "duration": 399,
    "start_time": "2021-11-15T14:25:06.789Z"
   },
   {
    "duration": 365,
    "start_time": "2021-11-15T14:25:07.190Z"
   },
   {
    "duration": 1137,
    "start_time": "2021-11-15T14:25:07.558Z"
   },
   {
    "duration": 1350,
    "start_time": "2021-11-15T14:25:08.698Z"
   },
   {
    "duration": 11,
    "start_time": "2021-11-15T14:25:10.050Z"
   },
   {
    "duration": 453,
    "start_time": "2021-11-15T14:25:10.063Z"
   },
   {
    "duration": 14,
    "start_time": "2021-11-15T14:25:10.518Z"
   },
   {
    "duration": 8,
    "start_time": "2021-11-15T14:25:10.537Z"
   },
   {
    "duration": 26,
    "start_time": "2021-11-15T14:25:10.549Z"
   },
   {
    "duration": 55,
    "start_time": "2021-11-15T14:25:10.578Z"
   },
   {
    "duration": 627,
    "start_time": "2021-11-15T14:25:10.636Z"
   },
   {
    "duration": 11,
    "start_time": "2021-11-15T14:25:11.265Z"
   },
   {
    "duration": 667,
    "start_time": "2021-11-15T14:25:11.278Z"
   },
   {
    "duration": 311,
    "start_time": "2021-11-15T14:25:11.948Z"
   },
   {
    "duration": 282,
    "start_time": "2021-11-15T14:25:12.261Z"
   },
   {
    "duration": 10,
    "start_time": "2021-11-15T14:25:12.546Z"
   },
   {
    "duration": 38,
    "start_time": "2021-11-15T14:25:12.559Z"
   },
   {
    "duration": 714,
    "start_time": "2021-11-15T14:25:12.600Z"
   },
   {
    "duration": 326,
    "start_time": "2021-11-15T14:25:13.317Z"
   },
   {
    "duration": 360,
    "start_time": "2021-11-15T14:25:13.645Z"
   },
   {
    "duration": 312,
    "start_time": "2021-11-15T14:25:14.008Z"
   },
   {
    "duration": 44,
    "start_time": "2021-11-15T14:25:14.322Z"
   },
   {
    "duration": 11,
    "start_time": "2021-11-15T14:25:14.368Z"
   },
   {
    "duration": 54,
    "start_time": "2021-11-15T14:25:14.382Z"
   },
   {
    "duration": 12,
    "start_time": "2021-11-15T14:25:14.443Z"
   },
   {
    "duration": 350,
    "start_time": "2021-11-15T14:25:14.458Z"
   },
   {
    "duration": 19,
    "start_time": "2021-11-15T14:25:14.810Z"
   },
   {
    "duration": 19,
    "start_time": "2021-11-15T14:25:14.833Z"
   },
   {
    "duration": 257,
    "start_time": "2021-11-15T14:25:14.855Z"
   },
   {
    "duration": 21,
    "start_time": "2021-11-15T14:25:15.115Z"
   },
   {
    "duration": 262,
    "start_time": "2021-11-15T14:25:15.139Z"
   },
   {
    "duration": 264,
    "start_time": "2021-11-15T14:25:15.404Z"
   },
   {
    "duration": 245,
    "start_time": "2021-11-15T14:25:15.670Z"
   },
   {
    "duration": 19,
    "start_time": "2021-11-15T14:25:37.522Z"
   },
   {
    "duration": 893,
    "start_time": "2021-11-15T14:25:47.578Z"
   },
   {
    "duration": 95,
    "start_time": "2021-11-15T14:25:48.474Z"
   },
   {
    "duration": 57,
    "start_time": "2021-11-15T14:25:48.572Z"
   },
   {
    "duration": 23,
    "start_time": "2021-11-15T14:25:48.632Z"
   },
   {
    "duration": 11,
    "start_time": "2021-11-15T14:25:48.658Z"
   },
   {
    "duration": 25,
    "start_time": "2021-11-15T14:25:48.671Z"
   },
   {
    "duration": 45,
    "start_time": "2021-11-15T14:25:48.699Z"
   },
   {
    "duration": 7,
    "start_time": "2021-11-15T14:25:48.748Z"
   },
   {
    "duration": 20,
    "start_time": "2021-11-15T14:25:48.757Z"
   },
   {
    "duration": 19,
    "start_time": "2021-11-15T14:25:48.780Z"
   },
   {
    "duration": 27,
    "start_time": "2021-11-15T14:25:48.802Z"
   },
   {
    "duration": 9,
    "start_time": "2021-11-15T14:25:48.833Z"
   },
   {
    "duration": 17,
    "start_time": "2021-11-15T14:25:48.846Z"
   },
   {
    "duration": 14,
    "start_time": "2021-11-15T14:25:48.865Z"
   },
   {
    "duration": 15,
    "start_time": "2021-11-15T14:25:48.882Z"
   },
   {
    "duration": 63,
    "start_time": "2021-11-15T14:25:48.899Z"
   },
   {
    "duration": 35,
    "start_time": "2021-11-15T14:25:48.964Z"
   },
   {
    "duration": 34,
    "start_time": "2021-11-15T14:25:49.001Z"
   },
   {
    "duration": 9,
    "start_time": "2021-11-15T14:25:49.038Z"
   },
   {
    "duration": 856,
    "start_time": "2021-11-15T14:25:49.050Z"
   },
   {
    "duration": 7,
    "start_time": "2021-11-15T14:25:49.908Z"
   },
   {
    "duration": 50,
    "start_time": "2021-11-15T14:25:49.937Z"
   },
   {
    "duration": 10,
    "start_time": "2021-11-15T14:25:49.990Z"
   },
   {
    "duration": 41,
    "start_time": "2021-11-15T14:25:50.002Z"
   },
   {
    "duration": 18,
    "start_time": "2021-11-15T14:25:50.045Z"
   },
   {
    "duration": 1093,
    "start_time": "2021-11-15T14:25:50.066Z"
   },
   {
    "duration": 10,
    "start_time": "2021-11-15T14:25:51.161Z"
   },
   {
    "duration": 32,
    "start_time": "2021-11-15T14:25:51.173Z"
   },
   {
    "duration": 15,
    "start_time": "2021-11-15T14:25:51.207Z"
   },
   {
    "duration": 886,
    "start_time": "2021-11-15T14:25:51.225Z"
   },
   {
    "duration": 1029,
    "start_time": "2021-11-15T14:25:52.114Z"
   },
   {
    "duration": 418,
    "start_time": "2021-11-15T14:25:53.145Z"
   },
   {
    "duration": 363,
    "start_time": "2021-11-15T14:25:53.566Z"
   },
   {
    "duration": 1067,
    "start_time": "2021-11-15T14:25:53.932Z"
   },
   {
    "duration": 1312,
    "start_time": "2021-11-15T14:25:55.002Z"
   },
   {
    "duration": 14,
    "start_time": "2021-11-15T14:25:56.317Z"
   },
   {
    "duration": 470,
    "start_time": "2021-11-15T14:25:56.334Z"
   },
   {
    "duration": 7,
    "start_time": "2021-11-15T14:25:56.806Z"
   },
   {
    "duration": 7,
    "start_time": "2021-11-15T14:25:56.831Z"
   },
   {
    "duration": 50,
    "start_time": "2021-11-15T14:25:56.841Z"
   },
   {
    "duration": 28,
    "start_time": "2021-11-15T14:25:56.894Z"
   },
   {
    "duration": 617,
    "start_time": "2021-11-15T14:25:56.925Z"
   },
   {
    "duration": 10,
    "start_time": "2021-11-15T14:25:57.545Z"
   },
   {
    "duration": 658,
    "start_time": "2021-11-15T14:25:57.557Z"
   },
   {
    "duration": 315,
    "start_time": "2021-11-15T14:25:58.218Z"
   },
   {
    "duration": 275,
    "start_time": "2021-11-15T14:25:58.536Z"
   },
   {
    "duration": 17,
    "start_time": "2021-11-15T14:25:58.814Z"
   },
   {
    "duration": 21,
    "start_time": "2021-11-15T14:25:58.834Z"
   },
   {
    "duration": 738,
    "start_time": "2021-11-15T14:25:58.858Z"
   },
   {
    "duration": 306,
    "start_time": "2021-11-15T14:25:59.599Z"
   },
   {
    "duration": 381,
    "start_time": "2021-11-15T14:25:59.907Z"
   },
   {
    "duration": 305,
    "start_time": "2021-11-15T14:26:00.291Z"
   },
   {
    "duration": 60,
    "start_time": "2021-11-15T14:26:00.598Z"
   },
   {
    "duration": 13,
    "start_time": "2021-11-15T14:26:00.661Z"
   },
   {
    "duration": 40,
    "start_time": "2021-11-15T14:26:00.676Z"
   },
   {
    "duration": 25,
    "start_time": "2021-11-15T14:26:00.718Z"
   },
   {
    "duration": 364,
    "start_time": "2021-11-15T14:26:00.745Z"
   },
   {
    "duration": 17,
    "start_time": "2021-11-15T14:26:01.111Z"
   },
   {
    "duration": 71,
    "start_time": "2021-11-15T14:26:01.131Z"
   },
   {
    "duration": 255,
    "start_time": "2021-11-15T14:26:01.205Z"
   },
   {
    "duration": 10,
    "start_time": "2021-11-15T14:26:01.463Z"
   },
   {
    "duration": 272,
    "start_time": "2021-11-15T14:26:01.476Z"
   },
   {
    "duration": 261,
    "start_time": "2021-11-15T14:26:01.751Z"
   },
   {
    "duration": 246,
    "start_time": "2021-11-15T14:26:02.015Z"
   },
   {
    "duration": 15,
    "start_time": "2021-11-15T14:26:14.255Z"
   },
   {
    "duration": 1004,
    "start_time": "2021-11-15T14:26:20.422Z"
   },
   {
    "duration": 92,
    "start_time": "2021-11-15T14:26:21.429Z"
   },
   {
    "duration": 54,
    "start_time": "2021-11-15T14:26:21.528Z"
   },
   {
    "duration": 16,
    "start_time": "2021-11-15T14:26:21.585Z"
   },
   {
    "duration": 48,
    "start_time": "2021-11-15T14:26:21.603Z"
   },
   {
    "duration": 39,
    "start_time": "2021-11-15T14:26:21.655Z"
   },
   {
    "duration": 47,
    "start_time": "2021-11-15T14:26:21.698Z"
   },
   {
    "duration": 8,
    "start_time": "2021-11-15T14:26:21.751Z"
   },
   {
    "duration": 8,
    "start_time": "2021-11-15T14:26:21.762Z"
   },
   {
    "duration": 7,
    "start_time": "2021-11-15T14:26:21.772Z"
   },
   {
    "duration": 20,
    "start_time": "2021-11-15T14:26:21.781Z"
   },
   {
    "duration": 11,
    "start_time": "2021-11-15T14:26:21.831Z"
   },
   {
    "duration": 16,
    "start_time": "2021-11-15T14:26:21.846Z"
   },
   {
    "duration": 13,
    "start_time": "2021-11-15T14:26:21.865Z"
   },
   {
    "duration": 55,
    "start_time": "2021-11-15T14:26:21.881Z"
   },
   {
    "duration": 34,
    "start_time": "2021-11-15T14:26:21.940Z"
   },
   {
    "duration": 70,
    "start_time": "2021-11-15T14:26:21.977Z"
   },
   {
    "duration": 9,
    "start_time": "2021-11-15T14:26:22.049Z"
   },
   {
    "duration": 5,
    "start_time": "2021-11-15T14:26:22.060Z"
   },
   {
    "duration": 1002,
    "start_time": "2021-11-15T14:26:22.067Z"
   },
   {
    "duration": 6,
    "start_time": "2021-11-15T14:26:23.071Z"
   },
   {
    "duration": 61,
    "start_time": "2021-11-15T14:26:23.079Z"
   },
   {
    "duration": 12,
    "start_time": "2021-11-15T14:26:23.147Z"
   },
   {
    "duration": 23,
    "start_time": "2021-11-15T14:26:23.163Z"
   },
   {
    "duration": 5,
    "start_time": "2021-11-15T14:26:23.189Z"
   },
   {
    "duration": 1376,
    "start_time": "2021-11-15T14:26:23.197Z"
   },
   {
    "duration": 13,
    "start_time": "2021-11-15T14:26:24.575Z"
   },
   {
    "duration": 12,
    "start_time": "2021-11-15T14:26:24.590Z"
   },
   {
    "duration": 31,
    "start_time": "2021-11-15T14:26:24.604Z"
   },
   {
    "duration": 1007,
    "start_time": "2021-11-15T14:26:24.638Z"
   },
   {
    "duration": 1508,
    "start_time": "2021-11-15T14:26:25.649Z"
   },
   {
    "duration": 502,
    "start_time": "2021-11-15T14:26:27.160Z"
   },
   {
    "duration": 359,
    "start_time": "2021-11-15T14:26:27.665Z"
   },
   {
    "duration": 1119,
    "start_time": "2021-11-15T14:26:28.030Z"
   },
   {
    "duration": 1332,
    "start_time": "2021-11-15T14:26:29.154Z"
   },
   {
    "duration": 10,
    "start_time": "2021-11-15T14:26:30.489Z"
   },
   {
    "duration": 456,
    "start_time": "2021-11-15T14:26:30.501Z"
   },
   {
    "duration": 8,
    "start_time": "2021-11-15T14:26:30.960Z"
   },
   {
    "duration": 15,
    "start_time": "2021-11-15T14:26:30.970Z"
   },
   {
    "duration": 51,
    "start_time": "2021-11-15T14:26:30.988Z"
   },
   {
    "duration": 19,
    "start_time": "2021-11-15T14:26:31.042Z"
   },
   {
    "duration": 675,
    "start_time": "2021-11-15T14:26:31.063Z"
   },
   {
    "duration": 13,
    "start_time": "2021-11-15T14:26:31.741Z"
   },
   {
    "duration": 649,
    "start_time": "2021-11-15T14:26:31.756Z"
   },
   {
    "duration": 310,
    "start_time": "2021-11-15T14:26:32.408Z"
   },
   {
    "duration": 279,
    "start_time": "2021-11-15T14:26:32.721Z"
   },
   {
    "duration": 10,
    "start_time": "2021-11-15T14:26:33.003Z"
   },
   {
    "duration": 34,
    "start_time": "2021-11-15T14:26:33.015Z"
   },
   {
    "duration": 756,
    "start_time": "2021-11-15T14:26:33.051Z"
   },
   {
    "duration": 315,
    "start_time": "2021-11-15T14:26:33.810Z"
   },
   {
    "duration": 365,
    "start_time": "2021-11-15T14:26:34.130Z"
   },
   {
    "duration": 301,
    "start_time": "2021-11-15T14:26:34.497Z"
   },
   {
    "duration": 57,
    "start_time": "2021-11-15T14:26:34.800Z"
   },
   {
    "duration": 13,
    "start_time": "2021-11-15T14:26:34.860Z"
   },
   {
    "duration": 16,
    "start_time": "2021-11-15T14:26:34.876Z"
   },
   {
    "duration": 6,
    "start_time": "2021-11-15T14:26:34.895Z"
   },
   {
    "duration": 358,
    "start_time": "2021-11-15T14:26:34.932Z"
   },
   {
    "duration": 11,
    "start_time": "2021-11-15T14:26:35.293Z"
   },
   {
    "duration": 26,
    "start_time": "2021-11-15T14:26:35.307Z"
   },
   {
    "duration": 267,
    "start_time": "2021-11-15T14:26:35.337Z"
   },
   {
    "duration": 10,
    "start_time": "2021-11-15T14:26:35.606Z"
   },
   {
    "duration": 250,
    "start_time": "2021-11-15T14:26:35.632Z"
   },
   {
    "duration": 251,
    "start_time": "2021-11-15T14:26:35.885Z"
   },
   {
    "duration": 246,
    "start_time": "2021-11-15T14:26:36.138Z"
   },
   {
    "duration": 12,
    "start_time": "2021-11-15T14:26:36.388Z"
   },
   {
    "duration": 11,
    "start_time": "2021-11-15T14:26:38.990Z"
   },
   {
    "duration": 13,
    "start_time": "2021-11-15T14:26:41.037Z"
   },
   {
    "duration": 92,
    "start_time": "2021-11-15T14:26:53.134Z"
   },
   {
    "duration": 911,
    "start_time": "2021-11-15T14:26:59.954Z"
   },
   {
    "duration": 105,
    "start_time": "2021-11-15T14:27:00.868Z"
   },
   {
    "duration": 64,
    "start_time": "2021-11-15T14:27:00.977Z"
   },
   {
    "duration": 33,
    "start_time": "2021-11-15T14:27:01.045Z"
   },
   {
    "duration": 35,
    "start_time": "2021-11-15T14:27:01.081Z"
   },
   {
    "duration": 37,
    "start_time": "2021-11-15T14:27:01.119Z"
   },
   {
    "duration": 46,
    "start_time": "2021-11-15T14:27:01.158Z"
   },
   {
    "duration": 26,
    "start_time": "2021-11-15T14:27:01.208Z"
   },
   {
    "duration": 41,
    "start_time": "2021-11-15T14:27:01.238Z"
   },
   {
    "duration": 29,
    "start_time": "2021-11-15T14:27:01.282Z"
   },
   {
    "duration": 48,
    "start_time": "2021-11-15T14:27:01.313Z"
   },
   {
    "duration": 22,
    "start_time": "2021-11-15T14:27:01.364Z"
   },
   {
    "duration": 52,
    "start_time": "2021-11-15T14:27:01.388Z"
   },
   {
    "duration": 31,
    "start_time": "2021-11-15T14:27:01.443Z"
   },
   {
    "duration": 37,
    "start_time": "2021-11-15T14:27:01.476Z"
   },
   {
    "duration": 57,
    "start_time": "2021-11-15T14:27:01.515Z"
   },
   {
    "duration": 78,
    "start_time": "2021-11-15T14:27:01.574Z"
   },
   {
    "duration": 8,
    "start_time": "2021-11-15T14:27:01.655Z"
   },
   {
    "duration": 32,
    "start_time": "2021-11-15T14:27:01.665Z"
   },
   {
    "duration": 1319,
    "start_time": "2021-11-15T14:27:01.699Z"
   },
   {
    "duration": 10,
    "start_time": "2021-11-15T14:27:03.020Z"
   },
   {
    "duration": 59,
    "start_time": "2021-11-15T14:27:03.033Z"
   },
   {
    "duration": 11,
    "start_time": "2021-11-15T14:27:03.099Z"
   },
   {
    "duration": 33,
    "start_time": "2021-11-15T14:27:03.114Z"
   },
   {
    "duration": 5,
    "start_time": "2021-11-15T14:27:03.150Z"
   },
   {
    "duration": 1069,
    "start_time": "2021-11-15T14:27:03.157Z"
   },
   {
    "duration": 12,
    "start_time": "2021-11-15T14:27:04.231Z"
   },
   {
    "duration": 11,
    "start_time": "2021-11-15T14:27:04.245Z"
   },
   {
    "duration": 7,
    "start_time": "2021-11-15T14:27:04.258Z"
   },
   {
    "duration": 992,
    "start_time": "2021-11-15T14:27:04.268Z"
   },
   {
    "duration": 1017,
    "start_time": "2021-11-15T14:27:05.262Z"
   },
   {
    "duration": 396,
    "start_time": "2021-11-15T14:27:06.281Z"
   },
   {
    "duration": 377,
    "start_time": "2021-11-15T14:27:06.680Z"
   },
   {
    "duration": 1164,
    "start_time": "2021-11-15T14:27:07.059Z"
   },
   {
    "duration": 1334,
    "start_time": "2021-11-15T14:27:08.230Z"
   },
   {
    "duration": 10,
    "start_time": "2021-11-15T14:27:09.566Z"
   },
   {
    "duration": 454,
    "start_time": "2021-11-15T14:27:09.578Z"
   },
   {
    "duration": 7,
    "start_time": "2021-11-15T14:27:10.039Z"
   },
   {
    "duration": 21,
    "start_time": "2021-11-15T14:27:10.049Z"
   },
   {
    "duration": 32,
    "start_time": "2021-11-15T14:27:10.073Z"
   },
   {
    "duration": 14,
    "start_time": "2021-11-15T14:27:10.107Z"
   },
   {
    "duration": 620,
    "start_time": "2021-11-15T14:27:10.123Z"
   },
   {
    "duration": 12,
    "start_time": "2021-11-15T14:27:10.747Z"
   },
   {
    "duration": 668,
    "start_time": "2021-11-15T14:27:10.761Z"
   },
   {
    "duration": 356,
    "start_time": "2021-11-15T14:27:11.433Z"
   },
   {
    "duration": 275,
    "start_time": "2021-11-15T14:27:11.791Z"
   },
   {
    "duration": 11,
    "start_time": "2021-11-15T14:27:12.069Z"
   },
   {
    "duration": 19,
    "start_time": "2021-11-15T14:27:12.082Z"
   },
   {
    "duration": 871,
    "start_time": "2021-11-15T14:27:12.103Z"
   },
   {
    "duration": 591,
    "start_time": "2021-11-15T14:27:12.977Z"
   },
   {
    "duration": 359,
    "start_time": "2021-11-15T14:27:13.570Z"
   },
   {
    "duration": 302,
    "start_time": "2021-11-15T14:27:13.933Z"
   },
   {
    "duration": 38,
    "start_time": "2021-11-15T14:27:14.238Z"
   },
   {
    "duration": 13,
    "start_time": "2021-11-15T14:27:14.279Z"
   },
   {
    "duration": 50,
    "start_time": "2021-11-15T14:27:14.294Z"
   },
   {
    "duration": 7,
    "start_time": "2021-11-15T14:27:14.347Z"
   },
   {
    "duration": 353,
    "start_time": "2021-11-15T14:27:14.356Z"
   },
   {
    "duration": 18,
    "start_time": "2021-11-15T14:27:14.711Z"
   },
   {
    "duration": 18,
    "start_time": "2021-11-15T14:27:14.731Z"
   },
   {
    "duration": 252,
    "start_time": "2021-11-15T14:27:14.751Z"
   },
   {
    "duration": 10,
    "start_time": "2021-11-15T14:27:15.005Z"
   },
   {
    "duration": 257,
    "start_time": "2021-11-15T14:27:15.029Z"
   },
   {
    "duration": 261,
    "start_time": "2021-11-15T14:27:15.289Z"
   },
   {
    "duration": 239,
    "start_time": "2021-11-15T14:27:15.552Z"
   },
   {
    "duration": 14,
    "start_time": "2021-11-15T14:28:19.681Z"
   },
   {
    "duration": 883,
    "start_time": "2021-11-15T14:28:28.087Z"
   },
   {
    "duration": 96,
    "start_time": "2021-11-15T14:28:28.973Z"
   },
   {
    "duration": 57,
    "start_time": "2021-11-15T14:28:29.075Z"
   },
   {
    "duration": 20,
    "start_time": "2021-11-15T14:28:29.135Z"
   },
   {
    "duration": 14,
    "start_time": "2021-11-15T14:28:29.158Z"
   },
   {
    "duration": 66,
    "start_time": "2021-11-15T14:28:29.175Z"
   },
   {
    "duration": 19,
    "start_time": "2021-11-15T14:28:29.245Z"
   },
   {
    "duration": 7,
    "start_time": "2021-11-15T14:28:29.267Z"
   },
   {
    "duration": 9,
    "start_time": "2021-11-15T14:28:29.276Z"
   },
   {
    "duration": 5,
    "start_time": "2021-11-15T14:28:29.287Z"
   },
   {
    "duration": 48,
    "start_time": "2021-11-15T14:28:29.294Z"
   },
   {
    "duration": 7,
    "start_time": "2021-11-15T14:28:29.345Z"
   },
   {
    "duration": 17,
    "start_time": "2021-11-15T14:28:29.355Z"
   },
   {
    "duration": 12,
    "start_time": "2021-11-15T14:28:29.374Z"
   },
   {
    "duration": 51,
    "start_time": "2021-11-15T14:28:29.389Z"
   },
   {
    "duration": 34,
    "start_time": "2021-11-15T14:28:29.443Z"
   },
   {
    "duration": 71,
    "start_time": "2021-11-15T14:28:29.479Z"
   },
   {
    "duration": 8,
    "start_time": "2021-11-15T14:28:29.553Z"
   },
   {
    "duration": 9,
    "start_time": "2021-11-15T14:28:29.563Z"
   },
   {
    "duration": 1097,
    "start_time": "2021-11-15T14:28:29.575Z"
   },
   {
    "duration": 62,
    "start_time": "2021-11-15T14:28:30.674Z"
   },
   {
    "duration": 105,
    "start_time": "2021-11-15T14:28:30.747Z"
   },
   {
    "duration": 12,
    "start_time": "2021-11-15T14:28:30.855Z"
   },
   {
    "duration": 74,
    "start_time": "2021-11-15T14:28:30.869Z"
   },
   {
    "duration": 7,
    "start_time": "2021-11-15T14:28:30.946Z"
   },
   {
    "duration": 1255,
    "start_time": "2021-11-15T14:28:30.956Z"
   },
   {
    "duration": 16,
    "start_time": "2021-11-15T14:28:32.213Z"
   },
   {
    "duration": 20,
    "start_time": "2021-11-15T14:28:32.232Z"
   },
   {
    "duration": 31,
    "start_time": "2021-11-15T14:28:32.254Z"
   },
   {
    "duration": 898,
    "start_time": "2021-11-15T14:28:32.287Z"
   },
   {
    "duration": 985,
    "start_time": "2021-11-15T14:28:33.188Z"
   },
   {
    "duration": 389,
    "start_time": "2021-11-15T14:28:34.175Z"
   },
   {
    "duration": 359,
    "start_time": "2021-11-15T14:28:34.566Z"
   },
   {
    "duration": 1069,
    "start_time": "2021-11-15T14:28:34.930Z"
   },
   {
    "duration": 1319,
    "start_time": "2021-11-15T14:28:36.001Z"
   },
   {
    "duration": 16,
    "start_time": "2021-11-15T14:28:37.330Z"
   },
   {
    "duration": 448,
    "start_time": "2021-11-15T14:28:37.349Z"
   },
   {
    "duration": 7,
    "start_time": "2021-11-15T14:28:37.799Z"
   },
   {
    "duration": 25,
    "start_time": "2021-11-15T14:28:37.808Z"
   },
   {
    "duration": 29,
    "start_time": "2021-11-15T14:28:37.837Z"
   },
   {
    "duration": 15,
    "start_time": "2021-11-15T14:28:37.869Z"
   },
   {
    "duration": 731,
    "start_time": "2021-11-15T14:28:37.886Z"
   },
   {
    "duration": 22,
    "start_time": "2021-11-15T14:28:38.620Z"
   },
   {
    "duration": 658,
    "start_time": "2021-11-15T14:28:38.646Z"
   },
   {
    "duration": 357,
    "start_time": "2021-11-15T14:28:39.306Z"
   },
   {
    "duration": 270,
    "start_time": "2021-11-15T14:28:39.665Z"
   },
   {
    "duration": 14,
    "start_time": "2021-11-15T14:28:39.938Z"
   },
   {
    "duration": 22,
    "start_time": "2021-11-15T14:28:39.954Z"
   },
   {
    "duration": 845,
    "start_time": "2021-11-15T14:28:39.979Z"
   },
   {
    "duration": 318,
    "start_time": "2021-11-15T14:28:40.834Z"
   },
   {
    "duration": 362,
    "start_time": "2021-11-15T14:28:41.155Z"
   },
   {
    "duration": 327,
    "start_time": "2021-11-15T14:28:41.519Z"
   },
   {
    "duration": 39,
    "start_time": "2021-11-15T14:28:41.849Z"
   },
   {
    "duration": 13,
    "start_time": "2021-11-15T14:28:41.890Z"
   },
   {
    "duration": 17,
    "start_time": "2021-11-15T14:28:41.933Z"
   },
   {
    "duration": 7,
    "start_time": "2021-11-15T14:28:41.952Z"
   },
   {
    "duration": 368,
    "start_time": "2021-11-15T14:28:41.961Z"
   },
   {
    "duration": 16,
    "start_time": "2021-11-15T14:28:42.332Z"
   },
   {
    "duration": 11,
    "start_time": "2021-11-15T14:28:42.350Z"
   },
   {
    "duration": 268,
    "start_time": "2021-11-15T14:28:42.364Z"
   },
   {
    "duration": 14,
    "start_time": "2021-11-15T14:28:42.636Z"
   },
   {
    "duration": 257,
    "start_time": "2021-11-15T14:28:42.653Z"
   },
   {
    "duration": 264,
    "start_time": "2021-11-15T14:28:42.912Z"
   },
   {
    "duration": 248,
    "start_time": "2021-11-15T14:28:43.178Z"
   },
   {
    "duration": 1035,
    "start_time": "2021-11-15T14:28:50.090Z"
   },
   {
    "duration": 1130,
    "start_time": "2021-11-15T14:28:55.250Z"
   },
   {
    "duration": 1049,
    "start_time": "2021-11-15T14:28:58.754Z"
   },
   {
    "duration": 1109,
    "start_time": "2021-11-15T14:29:02.659Z"
   },
   {
    "duration": 720,
    "start_time": "2021-11-15T14:29:08.427Z"
   },
   {
    "duration": 932,
    "start_time": "2021-11-15T14:29:12.211Z"
   },
   {
    "duration": 498,
    "start_time": "2021-11-15T14:29:14.442Z"
   },
   {
    "duration": 894,
    "start_time": "2021-11-15T14:30:30.770Z"
   },
   {
    "duration": 97,
    "start_time": "2021-11-15T14:30:31.666Z"
   },
   {
    "duration": 44,
    "start_time": "2021-11-15T14:30:31.766Z"
   },
   {
    "duration": 36,
    "start_time": "2021-11-15T14:30:31.813Z"
   },
   {
    "duration": 30,
    "start_time": "2021-11-15T14:30:31.852Z"
   },
   {
    "duration": 36,
    "start_time": "2021-11-15T14:30:31.884Z"
   },
   {
    "duration": 30,
    "start_time": "2021-11-15T14:30:31.923Z"
   },
   {
    "duration": 21,
    "start_time": "2021-11-15T14:30:31.957Z"
   },
   {
    "duration": 24,
    "start_time": "2021-11-15T14:30:31.981Z"
   },
   {
    "duration": 33,
    "start_time": "2021-11-15T14:30:32.008Z"
   },
   {
    "duration": 31,
    "start_time": "2021-11-15T14:30:32.043Z"
   },
   {
    "duration": 25,
    "start_time": "2021-11-15T14:30:32.077Z"
   },
   {
    "duration": 29,
    "start_time": "2021-11-15T14:30:32.104Z"
   },
   {
    "duration": 15,
    "start_time": "2021-11-15T14:30:32.136Z"
   },
   {
    "duration": 27,
    "start_time": "2021-11-15T14:30:32.154Z"
   },
   {
    "duration": 60,
    "start_time": "2021-11-15T14:30:32.184Z"
   },
   {
    "duration": 35,
    "start_time": "2021-11-15T14:30:32.247Z"
   },
   {
    "duration": 9,
    "start_time": "2021-11-15T14:30:32.285Z"
   },
   {
    "duration": 37,
    "start_time": "2021-11-15T14:30:32.297Z"
   },
   {
    "duration": 901,
    "start_time": "2021-11-15T14:30:32.337Z"
   },
   {
    "duration": 8,
    "start_time": "2021-11-15T14:30:33.241Z"
   },
   {
    "duration": 56,
    "start_time": "2021-11-15T14:30:33.252Z"
   },
   {
    "duration": 16,
    "start_time": "2021-11-15T14:30:33.316Z"
   },
   {
    "duration": 21,
    "start_time": "2021-11-15T14:30:33.337Z"
   },
   {
    "duration": 6,
    "start_time": "2021-11-15T14:30:33.361Z"
   },
   {
    "duration": 1078,
    "start_time": "2021-11-15T14:30:33.369Z"
   },
   {
    "duration": 11,
    "start_time": "2021-11-15T14:30:34.449Z"
   },
   {
    "duration": 30,
    "start_time": "2021-11-15T14:30:34.463Z"
   },
   {
    "duration": 45,
    "start_time": "2021-11-15T14:30:34.496Z"
   },
   {
    "duration": 855,
    "start_time": "2021-11-15T14:30:34.545Z"
   },
   {
    "duration": 1003,
    "start_time": "2021-11-15T14:30:35.403Z"
   },
   {
    "duration": 389,
    "start_time": "2021-11-15T14:30:36.409Z"
   },
   {
    "duration": 367,
    "start_time": "2021-11-15T14:30:36.800Z"
   },
   {
    "duration": 510,
    "start_time": "2021-11-15T14:30:37.169Z"
   },
   {
    "duration": 1495,
    "start_time": "2021-11-15T14:30:37.682Z"
   },
   {
    "duration": 10,
    "start_time": "2021-11-15T14:30:39.180Z"
   },
   {
    "duration": 451,
    "start_time": "2021-11-15T14:30:39.192Z"
   },
   {
    "duration": 6,
    "start_time": "2021-11-15T14:30:39.646Z"
   },
   {
    "duration": 21,
    "start_time": "2021-11-15T14:30:39.655Z"
   },
   {
    "duration": 43,
    "start_time": "2021-11-15T14:30:39.678Z"
   },
   {
    "duration": 18,
    "start_time": "2021-11-15T14:30:39.724Z"
   },
   {
    "duration": 688,
    "start_time": "2021-11-15T14:30:39.745Z"
   },
   {
    "duration": 13,
    "start_time": "2021-11-15T14:30:40.435Z"
   },
   {
    "duration": 655,
    "start_time": "2021-11-15T14:30:40.451Z"
   },
   {
    "duration": 350,
    "start_time": "2021-11-15T14:30:41.109Z"
   },
   {
    "duration": 256,
    "start_time": "2021-11-15T14:30:41.461Z"
   },
   {
    "duration": 21,
    "start_time": "2021-11-15T14:30:41.719Z"
   },
   {
    "duration": 24,
    "start_time": "2021-11-15T14:30:41.744Z"
   },
   {
    "duration": 629,
    "start_time": "2021-11-15T14:30:41.771Z"
   },
   {
    "duration": 316,
    "start_time": "2021-11-15T14:30:42.403Z"
   },
   {
    "duration": 477,
    "start_time": "2021-11-15T14:30:42.721Z"
   },
   {
    "duration": 318,
    "start_time": "2021-11-15T14:30:43.200Z"
   },
   {
    "duration": 46,
    "start_time": "2021-11-15T14:30:43.521Z"
   },
   {
    "duration": 11,
    "start_time": "2021-11-15T14:30:43.569Z"
   },
   {
    "duration": 38,
    "start_time": "2021-11-15T14:30:43.582Z"
   },
   {
    "duration": 41,
    "start_time": "2021-11-15T14:30:43.623Z"
   },
   {
    "duration": 345,
    "start_time": "2021-11-15T14:30:43.666Z"
   },
   {
    "duration": 23,
    "start_time": "2021-11-15T14:30:44.014Z"
   },
   {
    "duration": 26,
    "start_time": "2021-11-15T14:30:44.040Z"
   },
   {
    "duration": 231,
    "start_time": "2021-11-15T14:30:44.069Z"
   },
   {
    "duration": 29,
    "start_time": "2021-11-15T14:30:44.303Z"
   },
   {
    "duration": 245,
    "start_time": "2021-11-15T14:30:44.336Z"
   },
   {
    "duration": 263,
    "start_time": "2021-11-15T14:30:44.584Z"
   },
   {
    "duration": 247,
    "start_time": "2021-11-15T14:30:44.849Z"
   },
   {
    "duration": 6,
    "start_time": "2021-11-15T14:30:54.152Z"
   },
   {
    "duration": 921,
    "start_time": "2021-11-15T14:31:10.839Z"
   },
   {
    "duration": 109,
    "start_time": "2021-11-15T14:31:11.762Z"
   },
   {
    "duration": 55,
    "start_time": "2021-11-15T14:31:11.874Z"
   },
   {
    "duration": 21,
    "start_time": "2021-11-15T14:31:11.933Z"
   },
   {
    "duration": 19,
    "start_time": "2021-11-15T14:31:11.956Z"
   },
   {
    "duration": 32,
    "start_time": "2021-11-15T14:31:11.978Z"
   },
   {
    "duration": 33,
    "start_time": "2021-11-15T14:31:12.013Z"
   },
   {
    "duration": 21,
    "start_time": "2021-11-15T14:31:12.050Z"
   },
   {
    "duration": 23,
    "start_time": "2021-11-15T14:31:12.074Z"
   },
   {
    "duration": 22,
    "start_time": "2021-11-15T14:31:12.099Z"
   },
   {
    "duration": 34,
    "start_time": "2021-11-15T14:31:12.124Z"
   },
   {
    "duration": 29,
    "start_time": "2021-11-15T14:31:12.160Z"
   },
   {
    "duration": 27,
    "start_time": "2021-11-15T14:31:12.191Z"
   },
   {
    "duration": 24,
    "start_time": "2021-11-15T14:31:12.221Z"
   },
   {
    "duration": 30,
    "start_time": "2021-11-15T14:31:12.248Z"
   },
   {
    "duration": 54,
    "start_time": "2021-11-15T14:31:12.281Z"
   },
   {
    "duration": 42,
    "start_time": "2021-11-15T14:31:12.338Z"
   },
   {
    "duration": 10,
    "start_time": "2021-11-15T14:31:12.383Z"
   },
   {
    "duration": 33,
    "start_time": "2021-11-15T14:31:12.396Z"
   },
   {
    "duration": 862,
    "start_time": "2021-11-15T14:31:12.432Z"
   },
   {
    "duration": 6,
    "start_time": "2021-11-15T14:31:13.297Z"
   },
   {
    "duration": 62,
    "start_time": "2021-11-15T14:31:13.306Z"
   },
   {
    "duration": 12,
    "start_time": "2021-11-15T14:31:13.376Z"
   },
   {
    "duration": 40,
    "start_time": "2021-11-15T14:31:13.392Z"
   },
   {
    "duration": 6,
    "start_time": "2021-11-15T14:31:13.435Z"
   },
   {
    "duration": 1060,
    "start_time": "2021-11-15T14:31:13.444Z"
   },
   {
    "duration": 9,
    "start_time": "2021-11-15T14:31:14.507Z"
   },
   {
    "duration": 18,
    "start_time": "2021-11-15T14:31:14.519Z"
   },
   {
    "duration": 14,
    "start_time": "2021-11-15T14:31:14.539Z"
   },
   {
    "duration": 863,
    "start_time": "2021-11-15T14:31:14.556Z"
   },
   {
    "duration": 965,
    "start_time": "2021-11-15T14:31:15.421Z"
   },
   {
    "duration": 392,
    "start_time": "2021-11-15T14:31:16.389Z"
   },
   {
    "duration": 372,
    "start_time": "2021-11-15T14:31:16.785Z"
   },
   {
    "duration": 503,
    "start_time": "2021-11-15T14:31:17.159Z"
   },
   {
    "duration": 1366,
    "start_time": "2021-11-15T14:31:17.664Z"
   },
   {
    "duration": 12,
    "start_time": "2021-11-15T14:31:19.033Z"
   },
   {
    "duration": 453,
    "start_time": "2021-11-15T14:31:19.048Z"
   },
   {
    "duration": 6,
    "start_time": "2021-11-15T14:31:19.504Z"
   },
   {
    "duration": 22,
    "start_time": "2021-11-15T14:31:19.512Z"
   },
   {
    "duration": 34,
    "start_time": "2021-11-15T14:31:19.538Z"
   },
   {
    "duration": 15,
    "start_time": "2021-11-15T14:31:19.574Z"
   },
   {
    "duration": 800,
    "start_time": "2021-11-15T14:31:19.591Z"
   },
   {
    "duration": 12,
    "start_time": "2021-11-15T14:31:20.393Z"
   },
   {
    "duration": 785,
    "start_time": "2021-11-15T14:31:20.408Z"
   },
   {
    "duration": 311,
    "start_time": "2021-11-15T14:31:21.196Z"
   },
   {
    "duration": 288,
    "start_time": "2021-11-15T14:31:21.510Z"
   },
   {
    "duration": 10,
    "start_time": "2021-11-15T14:31:21.800Z"
   },
   {
    "duration": 40,
    "start_time": "2021-11-15T14:31:21.813Z"
   },
   {
    "duration": 741,
    "start_time": "2021-11-15T14:31:21.856Z"
   },
   {
    "duration": 310,
    "start_time": "2021-11-15T14:31:22.599Z"
   },
   {
    "duration": 443,
    "start_time": "2021-11-15T14:31:22.911Z"
   },
   {
    "duration": 308,
    "start_time": "2021-11-15T14:31:23.356Z"
   },
   {
    "duration": 38,
    "start_time": "2021-11-15T14:31:23.667Z"
   },
   {
    "duration": 18,
    "start_time": "2021-11-15T14:31:23.728Z"
   },
   {
    "duration": 28,
    "start_time": "2021-11-15T14:31:23.749Z"
   },
   {
    "duration": 20,
    "start_time": "2021-11-15T14:31:23.780Z"
   },
   {
    "duration": 350,
    "start_time": "2021-11-15T14:31:23.802Z"
   },
   {
    "duration": 14,
    "start_time": "2021-11-15T14:31:24.155Z"
   },
   {
    "duration": 17,
    "start_time": "2021-11-15T14:31:24.172Z"
   },
   {
    "duration": 273,
    "start_time": "2021-11-15T14:31:24.192Z"
   },
   {
    "duration": 10,
    "start_time": "2021-11-15T14:31:24.468Z"
   },
   {
    "duration": 268,
    "start_time": "2021-11-15T14:31:24.480Z"
   },
   {
    "duration": 238,
    "start_time": "2021-11-15T14:31:24.750Z"
   },
   {
    "duration": 240,
    "start_time": "2021-11-15T14:31:24.991Z"
   },
   {
    "duration": 15,
    "start_time": "2021-11-15T14:31:55.987Z"
   },
   {
    "duration": 15,
    "start_time": "2021-11-15T14:32:06.448Z"
   },
   {
    "duration": 1282,
    "start_time": "2021-11-15T14:32:21.555Z"
   },
   {
    "duration": 97,
    "start_time": "2021-11-15T14:32:22.842Z"
   },
   {
    "duration": 44,
    "start_time": "2021-11-15T14:32:22.943Z"
   },
   {
    "duration": 14,
    "start_time": "2021-11-15T14:32:22.989Z"
   },
   {
    "duration": 41,
    "start_time": "2021-11-15T14:32:23.006Z"
   },
   {
    "duration": 25,
    "start_time": "2021-11-15T14:32:23.050Z"
   },
   {
    "duration": 17,
    "start_time": "2021-11-15T14:32:23.078Z"
   },
   {
    "duration": 36,
    "start_time": "2021-11-15T14:32:23.099Z"
   },
   {
    "duration": 14,
    "start_time": "2021-11-15T14:32:23.139Z"
   },
   {
    "duration": 10,
    "start_time": "2021-11-15T14:32:23.155Z"
   },
   {
    "duration": 19,
    "start_time": "2021-11-15T14:32:23.167Z"
   },
   {
    "duration": 6,
    "start_time": "2021-11-15T14:32:23.188Z"
   },
   {
    "duration": 50,
    "start_time": "2021-11-15T14:32:23.197Z"
   },
   {
    "duration": 10,
    "start_time": "2021-11-15T14:32:23.249Z"
   },
   {
    "duration": 12,
    "start_time": "2021-11-15T14:32:23.262Z"
   },
   {
    "duration": 53,
    "start_time": "2021-11-15T14:32:23.276Z"
   },
   {
    "duration": 42,
    "start_time": "2021-11-15T14:32:23.332Z"
   },
   {
    "duration": 10,
    "start_time": "2021-11-15T14:32:23.377Z"
   },
   {
    "duration": 44,
    "start_time": "2021-11-15T14:32:23.390Z"
   },
   {
    "duration": 895,
    "start_time": "2021-11-15T14:32:23.438Z"
   },
   {
    "duration": 7,
    "start_time": "2021-11-15T14:32:24.337Z"
   },
   {
    "duration": 50,
    "start_time": "2021-11-15T14:32:24.346Z"
   },
   {
    "duration": 11,
    "start_time": "2021-11-15T14:32:24.403Z"
   },
   {
    "duration": 34,
    "start_time": "2021-11-15T14:32:24.417Z"
   },
   {
    "duration": 5,
    "start_time": "2021-11-15T14:32:24.453Z"
   },
   {
    "duration": 1065,
    "start_time": "2021-11-15T14:32:24.460Z"
   },
   {
    "duration": 16,
    "start_time": "2021-11-15T14:32:25.527Z"
   },
   {
    "duration": 29,
    "start_time": "2021-11-15T14:32:25.547Z"
   },
   {
    "duration": 41,
    "start_time": "2021-11-15T14:32:25.579Z"
   },
   {
    "duration": 839,
    "start_time": "2021-11-15T14:32:25.622Z"
   },
   {
    "duration": 958,
    "start_time": "2021-11-15T14:32:26.463Z"
   },
   {
    "duration": 390,
    "start_time": "2021-11-15T14:32:27.424Z"
   },
   {
    "duration": 366,
    "start_time": "2021-11-15T14:32:27.817Z"
   },
   {
    "duration": 499,
    "start_time": "2021-11-15T14:32:28.185Z"
   },
   {
    "duration": 1382,
    "start_time": "2021-11-15T14:32:28.686Z"
   },
   {
    "duration": 12,
    "start_time": "2021-11-15T14:32:30.071Z"
   },
   {
    "duration": 451,
    "start_time": "2021-11-15T14:32:30.086Z"
   },
   {
    "duration": 10,
    "start_time": "2021-11-15T14:32:30.540Z"
   },
   {
    "duration": 19,
    "start_time": "2021-11-15T14:32:30.553Z"
   },
   {
    "duration": 32,
    "start_time": "2021-11-15T14:32:30.574Z"
   },
   {
    "duration": 36,
    "start_time": "2021-11-15T14:32:30.609Z"
   },
   {
    "duration": 801,
    "start_time": "2021-11-15T14:32:30.647Z"
   },
   {
    "duration": 13,
    "start_time": "2021-11-15T14:32:31.452Z"
   },
   {
    "duration": 765,
    "start_time": "2021-11-15T14:32:31.468Z"
   },
   {
    "duration": 299,
    "start_time": "2021-11-15T14:32:32.236Z"
   },
   {
    "duration": 267,
    "start_time": "2021-11-15T14:32:32.539Z"
   },
   {
    "duration": 24,
    "start_time": "2021-11-15T14:32:32.809Z"
   },
   {
    "duration": 21,
    "start_time": "2021-11-15T14:32:32.836Z"
   },
   {
    "duration": 766,
    "start_time": "2021-11-15T14:32:32.860Z"
   },
   {
    "duration": 309,
    "start_time": "2021-11-15T14:32:33.631Z"
   },
   {
    "duration": 442,
    "start_time": "2021-11-15T14:32:33.943Z"
   },
   {
    "duration": 293,
    "start_time": "2021-11-15T14:32:34.387Z"
   },
   {
    "duration": 60,
    "start_time": "2021-11-15T14:32:34.683Z"
   },
   {
    "duration": 12,
    "start_time": "2021-11-15T14:32:34.746Z"
   },
   {
    "duration": 23,
    "start_time": "2021-11-15T14:32:34.760Z"
   },
   {
    "duration": 5,
    "start_time": "2021-11-15T14:32:34.786Z"
   },
   {
    "duration": 368,
    "start_time": "2021-11-15T14:32:34.793Z"
   },
   {
    "duration": 10,
    "start_time": "2021-11-15T14:32:35.163Z"
   },
   {
    "duration": 53,
    "start_time": "2021-11-15T14:32:35.176Z"
   },
   {
    "duration": 243,
    "start_time": "2021-11-15T14:32:35.233Z"
   },
   {
    "duration": 10,
    "start_time": "2021-11-15T14:32:35.479Z"
   },
   {
    "duration": 264,
    "start_time": "2021-11-15T14:32:35.492Z"
   },
   {
    "duration": 239,
    "start_time": "2021-11-15T14:32:35.758Z"
   },
   {
    "duration": 241,
    "start_time": "2021-11-15T14:32:36.000Z"
   },
   {
    "duration": 916,
    "start_time": "2021-11-15T14:32:52.043Z"
   },
   {
    "duration": 99,
    "start_time": "2021-11-15T14:32:52.962Z"
   },
   {
    "duration": 44,
    "start_time": "2021-11-15T14:32:53.064Z"
   },
   {
    "duration": 36,
    "start_time": "2021-11-15T14:32:53.111Z"
   },
   {
    "duration": 15,
    "start_time": "2021-11-15T14:32:53.150Z"
   },
   {
    "duration": 22,
    "start_time": "2021-11-15T14:32:53.167Z"
   },
   {
    "duration": 22,
    "start_time": "2021-11-15T14:32:53.230Z"
   },
   {
    "duration": 7,
    "start_time": "2021-11-15T14:32:53.255Z"
   },
   {
    "duration": 11,
    "start_time": "2021-11-15T14:32:53.265Z"
   },
   {
    "duration": 11,
    "start_time": "2021-11-15T14:32:53.278Z"
   },
   {
    "duration": 48,
    "start_time": "2021-11-15T14:32:53.292Z"
   },
   {
    "duration": 9,
    "start_time": "2021-11-15T14:32:53.343Z"
   },
   {
    "duration": 18,
    "start_time": "2021-11-15T14:32:53.356Z"
   },
   {
    "duration": 12,
    "start_time": "2021-11-15T14:32:53.377Z"
   },
   {
    "duration": 48,
    "start_time": "2021-11-15T14:32:53.391Z"
   },
   {
    "duration": 34,
    "start_time": "2021-11-15T14:32:53.451Z"
   },
   {
    "duration": 66,
    "start_time": "2021-11-15T14:32:53.487Z"
   },
   {
    "duration": 8,
    "start_time": "2021-11-15T14:32:53.555Z"
   },
   {
    "duration": 4,
    "start_time": "2021-11-15T14:32:53.566Z"
   },
   {
    "duration": 896,
    "start_time": "2021-11-15T14:32:53.573Z"
   },
   {
    "duration": 5,
    "start_time": "2021-11-15T14:32:54.472Z"
   },
   {
    "duration": 60,
    "start_time": "2021-11-15T14:32:54.484Z"
   },
   {
    "duration": 12,
    "start_time": "2021-11-15T14:32:54.549Z"
   },
   {
    "duration": 18,
    "start_time": "2021-11-15T14:32:54.563Z"
   },
   {
    "duration": 4,
    "start_time": "2021-11-15T14:32:54.584Z"
   },
   {
    "duration": 1235,
    "start_time": "2021-11-15T14:32:54.590Z"
   },
   {
    "duration": 15,
    "start_time": "2021-11-15T14:32:55.829Z"
   },
   {
    "duration": 10,
    "start_time": "2021-11-15T14:32:55.847Z"
   },
   {
    "duration": 12,
    "start_time": "2021-11-15T14:32:55.859Z"
   },
   {
    "duration": 888,
    "start_time": "2021-11-15T14:32:55.873Z"
   },
   {
    "duration": 1017,
    "start_time": "2021-11-15T14:32:56.764Z"
   },
   {
    "duration": 388,
    "start_time": "2021-11-15T14:32:57.784Z"
   },
   {
    "duration": 371,
    "start_time": "2021-11-15T14:32:58.174Z"
   },
   {
    "duration": 553,
    "start_time": "2021-11-15T14:32:58.548Z"
   },
   {
    "duration": 1438,
    "start_time": "2021-11-15T14:32:59.104Z"
   },
   {
    "duration": 11,
    "start_time": "2021-11-15T14:33:00.546Z"
   },
   {
    "duration": 483,
    "start_time": "2021-11-15T14:33:00.559Z"
   },
   {
    "duration": 8,
    "start_time": "2021-11-15T14:33:01.045Z"
   },
   {
    "duration": 16,
    "start_time": "2021-11-15T14:33:01.055Z"
   },
   {
    "duration": 57,
    "start_time": "2021-11-15T14:33:01.073Z"
   },
   {
    "duration": 26,
    "start_time": "2021-11-15T14:33:01.134Z"
   },
   {
    "duration": 694,
    "start_time": "2021-11-15T14:33:01.162Z"
   },
   {
    "duration": 13,
    "start_time": "2021-11-15T14:33:01.859Z"
   },
   {
    "duration": 668,
    "start_time": "2021-11-15T14:33:01.874Z"
   },
   {
    "duration": 313,
    "start_time": "2021-11-15T14:33:02.546Z"
   },
   {
    "duration": 298,
    "start_time": "2021-11-15T14:33:02.863Z"
   },
   {
    "duration": 13,
    "start_time": "2021-11-15T14:33:03.164Z"
   },
   {
    "duration": 22,
    "start_time": "2021-11-15T14:33:03.179Z"
   },
   {
    "duration": 625,
    "start_time": "2021-11-15T14:33:03.205Z"
   },
   {
    "duration": 332,
    "start_time": "2021-11-15T14:33:03.833Z"
   },
   {
    "duration": 453,
    "start_time": "2021-11-15T14:33:04.167Z"
   },
   {
    "duration": 325,
    "start_time": "2021-11-15T14:33:04.623Z"
   },
   {
    "duration": 36,
    "start_time": "2021-11-15T14:33:04.951Z"
   },
   {
    "duration": 12,
    "start_time": "2021-11-15T14:33:04.990Z"
   },
   {
    "duration": 22,
    "start_time": "2021-11-15T14:33:05.032Z"
   },
   {
    "duration": 6,
    "start_time": "2021-11-15T14:33:05.056Z"
   },
   {
    "duration": 497,
    "start_time": "2021-11-15T14:33:05.065Z"
   },
   {
    "duration": 15,
    "start_time": "2021-11-15T14:33:05.565Z"
   },
   {
    "duration": 18,
    "start_time": "2021-11-15T14:33:05.583Z"
   },
   {
    "duration": 279,
    "start_time": "2021-11-15T14:33:05.603Z"
   },
   {
    "duration": 12,
    "start_time": "2021-11-15T14:33:05.885Z"
   },
   {
    "duration": 251,
    "start_time": "2021-11-15T14:33:05.900Z"
   },
   {
    "duration": 256,
    "start_time": "2021-11-15T14:33:06.153Z"
   },
   {
    "duration": 265,
    "start_time": "2021-11-15T14:33:06.412Z"
   },
   {
    "duration": 103,
    "start_time": "2021-11-15T14:33:28.006Z"
   },
   {
    "duration": 14,
    "start_time": "2021-11-15T14:33:45.982Z"
   },
   {
    "duration": 940,
    "start_time": "2021-11-15T14:33:51.236Z"
   },
   {
    "duration": 105,
    "start_time": "2021-11-15T14:33:52.179Z"
   },
   {
    "duration": 62,
    "start_time": "2021-11-15T14:33:52.287Z"
   },
   {
    "duration": 53,
    "start_time": "2021-11-15T14:33:52.353Z"
   },
   {
    "duration": 47,
    "start_time": "2021-11-15T14:33:52.409Z"
   },
   {
    "duration": 51,
    "start_time": "2021-11-15T14:33:52.460Z"
   },
   {
    "duration": 71,
    "start_time": "2021-11-15T14:33:52.514Z"
   },
   {
    "duration": 33,
    "start_time": "2021-11-15T14:33:52.591Z"
   },
   {
    "duration": 45,
    "start_time": "2021-11-15T14:33:52.628Z"
   },
   {
    "duration": 41,
    "start_time": "2021-11-15T14:33:52.676Z"
   },
   {
    "duration": 52,
    "start_time": "2021-11-15T14:33:52.719Z"
   },
   {
    "duration": 38,
    "start_time": "2021-11-15T14:33:52.774Z"
   },
   {
    "duration": 74,
    "start_time": "2021-11-15T14:33:52.814Z"
   },
   {
    "duration": 28,
    "start_time": "2021-11-15T14:33:52.890Z"
   },
   {
    "duration": 40,
    "start_time": "2021-11-15T14:33:52.921Z"
   },
   {
    "duration": 88,
    "start_time": "2021-11-15T14:33:52.964Z"
   },
   {
    "duration": 45,
    "start_time": "2021-11-15T14:33:53.055Z"
   },
   {
    "duration": 26,
    "start_time": "2021-11-15T14:33:53.103Z"
   },
   {
    "duration": 38,
    "start_time": "2021-11-15T14:33:53.133Z"
   },
   {
    "duration": 1425,
    "start_time": "2021-11-15T14:33:53.173Z"
   },
   {
    "duration": 5,
    "start_time": "2021-11-15T14:33:54.600Z"
   },
   {
    "duration": 55,
    "start_time": "2021-11-15T14:33:54.607Z"
   },
   {
    "duration": 10,
    "start_time": "2021-11-15T14:33:54.668Z"
   },
   {
    "duration": 17,
    "start_time": "2021-11-15T14:33:54.682Z"
   },
   {
    "duration": 5,
    "start_time": "2021-11-15T14:33:54.701Z"
   },
   {
    "duration": 1094,
    "start_time": "2021-11-15T14:33:54.728Z"
   },
   {
    "duration": 12,
    "start_time": "2021-11-15T14:33:55.824Z"
   },
   {
    "duration": 14,
    "start_time": "2021-11-15T14:33:55.839Z"
   },
   {
    "duration": 27,
    "start_time": "2021-11-15T14:33:55.856Z"
   },
   {
    "duration": 884,
    "start_time": "2021-11-15T14:33:55.886Z"
   },
   {
    "duration": 1015,
    "start_time": "2021-11-15T14:33:56.772Z"
   },
   {
    "duration": 400,
    "start_time": "2021-11-15T14:33:57.789Z"
   },
   {
    "duration": 377,
    "start_time": "2021-11-15T14:33:58.192Z"
   },
   {
    "duration": 526,
    "start_time": "2021-11-15T14:33:58.571Z"
   },
   {
    "duration": 1407,
    "start_time": "2021-11-15T14:33:59.099Z"
   },
   {
    "duration": 29,
    "start_time": "2021-11-15T14:34:00.508Z"
   },
   {
    "duration": 453,
    "start_time": "2021-11-15T14:34:00.541Z"
   },
   {
    "duration": 8,
    "start_time": "2021-11-15T14:34:00.996Z"
   },
   {
    "duration": 43,
    "start_time": "2021-11-15T14:34:01.006Z"
   },
   {
    "duration": 48,
    "start_time": "2021-11-15T14:34:01.051Z"
   },
   {
    "duration": 22,
    "start_time": "2021-11-15T14:34:01.101Z"
   },
   {
    "duration": 692,
    "start_time": "2021-11-15T14:34:01.125Z"
   },
   {
    "duration": 16,
    "start_time": "2021-11-15T14:34:01.828Z"
   },
   {
    "duration": 742,
    "start_time": "2021-11-15T14:34:01.848Z"
   },
   {
    "duration": 317,
    "start_time": "2021-11-15T14:34:02.593Z"
   },
   {
    "duration": 278,
    "start_time": "2021-11-15T14:34:02.912Z"
   },
   {
    "duration": 10,
    "start_time": "2021-11-15T14:34:03.192Z"
   },
   {
    "duration": 41,
    "start_time": "2021-11-15T14:34:03.204Z"
   },
   {
    "duration": 712,
    "start_time": "2021-11-15T14:34:03.248Z"
   },
   {
    "duration": 320,
    "start_time": "2021-11-15T14:34:03.962Z"
   },
   {
    "duration": 464,
    "start_time": "2021-11-15T14:34:04.285Z"
   },
   {
    "duration": 323,
    "start_time": "2021-11-15T14:34:04.751Z"
   },
   {
    "duration": 52,
    "start_time": "2021-11-15T14:34:05.077Z"
   },
   {
    "duration": 18,
    "start_time": "2021-11-15T14:34:05.135Z"
   },
   {
    "duration": 35,
    "start_time": "2021-11-15T14:34:05.156Z"
   },
   {
    "duration": 39,
    "start_time": "2021-11-15T14:34:05.194Z"
   },
   {
    "duration": 346,
    "start_time": "2021-11-15T14:34:05.236Z"
   },
   {
    "duration": 11,
    "start_time": "2021-11-15T14:34:05.584Z"
   },
   {
    "duration": 20,
    "start_time": "2021-11-15T14:34:05.597Z"
   },
   {
    "duration": 267,
    "start_time": "2021-11-15T14:34:05.631Z"
   },
   {
    "duration": 11,
    "start_time": "2021-11-15T14:34:05.900Z"
   },
   {
    "duration": 239,
    "start_time": "2021-11-15T14:34:05.933Z"
   },
   {
    "duration": 262,
    "start_time": "2021-11-15T14:34:06.174Z"
   },
   {
    "duration": 238,
    "start_time": "2021-11-15T14:34:06.440Z"
   },
   {
    "duration": 1002,
    "start_time": "2021-11-15T14:34:21.060Z"
   },
   {
    "duration": 98,
    "start_time": "2021-11-15T14:34:22.065Z"
   },
   {
    "duration": 44,
    "start_time": "2021-11-15T14:34:22.166Z"
   },
   {
    "duration": 28,
    "start_time": "2021-11-15T14:34:22.213Z"
   },
   {
    "duration": 15,
    "start_time": "2021-11-15T14:34:22.244Z"
   },
   {
    "duration": 22,
    "start_time": "2021-11-15T14:34:22.262Z"
   },
   {
    "duration": 66,
    "start_time": "2021-11-15T14:34:22.287Z"
   },
   {
    "duration": 8,
    "start_time": "2021-11-15T14:34:22.356Z"
   },
   {
    "duration": 9,
    "start_time": "2021-11-15T14:34:22.368Z"
   },
   {
    "duration": 6,
    "start_time": "2021-11-15T14:34:22.380Z"
   },
   {
    "duration": 53,
    "start_time": "2021-11-15T14:34:22.389Z"
   },
   {
    "duration": 7,
    "start_time": "2021-11-15T14:34:22.445Z"
   },
   {
    "duration": 16,
    "start_time": "2021-11-15T14:34:22.455Z"
   },
   {
    "duration": 9,
    "start_time": "2021-11-15T14:34:22.473Z"
   },
   {
    "duration": 11,
    "start_time": "2021-11-15T14:34:22.485Z"
   },
   {
    "duration": 50,
    "start_time": "2021-11-15T14:34:22.530Z"
   },
   {
    "duration": 67,
    "start_time": "2021-11-15T14:34:22.582Z"
   },
   {
    "duration": 9,
    "start_time": "2021-11-15T14:34:22.652Z"
   },
   {
    "duration": 5,
    "start_time": "2021-11-15T14:34:22.663Z"
   },
   {
    "duration": 973,
    "start_time": "2021-11-15T14:34:22.671Z"
   },
   {
    "duration": 5,
    "start_time": "2021-11-15T14:34:23.647Z"
   },
   {
    "duration": 44,
    "start_time": "2021-11-15T14:34:23.654Z"
   },
   {
    "duration": 9,
    "start_time": "2021-11-15T14:34:23.701Z"
   },
   {
    "duration": 33,
    "start_time": "2021-11-15T14:34:23.713Z"
   },
   {
    "duration": 4,
    "start_time": "2021-11-15T14:34:23.748Z"
   },
   {
    "duration": 1085,
    "start_time": "2021-11-15T14:34:23.755Z"
   },
   {
    "duration": 10,
    "start_time": "2021-11-15T14:34:24.846Z"
   },
   {
    "duration": 30,
    "start_time": "2021-11-15T14:34:24.859Z"
   },
   {
    "duration": 28,
    "start_time": "2021-11-15T14:34:24.891Z"
   },
   {
    "duration": 876,
    "start_time": "2021-11-15T14:34:24.921Z"
   },
   {
    "duration": 979,
    "start_time": "2021-11-15T14:34:25.799Z"
   },
   {
    "duration": 380,
    "start_time": "2021-11-15T14:34:26.781Z"
   },
   {
    "duration": 366,
    "start_time": "2021-11-15T14:34:27.164Z"
   },
   {
    "duration": 498,
    "start_time": "2021-11-15T14:34:27.536Z"
   },
   {
    "duration": 1411,
    "start_time": "2021-11-15T14:34:28.037Z"
   },
   {
    "duration": 10,
    "start_time": "2021-11-15T14:34:29.451Z"
   },
   {
    "duration": 453,
    "start_time": "2021-11-15T14:34:29.463Z"
   },
   {
    "duration": 16,
    "start_time": "2021-11-15T14:34:29.918Z"
   },
   {
    "duration": 8,
    "start_time": "2021-11-15T14:34:29.937Z"
   },
   {
    "duration": 38,
    "start_time": "2021-11-15T14:34:29.951Z"
   },
   {
    "duration": 53,
    "start_time": "2021-11-15T14:34:29.991Z"
   },
   {
    "duration": 813,
    "start_time": "2021-11-15T14:34:30.047Z"
   },
   {
    "duration": 15,
    "start_time": "2021-11-15T14:34:30.862Z"
   },
   {
    "duration": 778,
    "start_time": "2021-11-15T14:34:30.879Z"
   },
   {
    "duration": 309,
    "start_time": "2021-11-15T14:34:31.659Z"
   },
   {
    "duration": 289,
    "start_time": "2021-11-15T14:34:31.971Z"
   },
   {
    "duration": 10,
    "start_time": "2021-11-15T14:34:32.263Z"
   },
   {
    "duration": 19,
    "start_time": "2021-11-15T14:34:32.276Z"
   },
   {
    "duration": 730,
    "start_time": "2021-11-15T14:34:32.297Z"
   },
   {
    "duration": 322,
    "start_time": "2021-11-15T14:34:33.030Z"
   },
   {
    "duration": 442,
    "start_time": "2021-11-15T14:34:33.354Z"
   },
   {
    "duration": 292,
    "start_time": "2021-11-15T14:34:33.799Z"
   },
   {
    "duration": 50,
    "start_time": "2021-11-15T14:34:34.093Z"
   },
   {
    "duration": 17,
    "start_time": "2021-11-15T14:34:34.147Z"
   },
   {
    "duration": 27,
    "start_time": "2021-11-15T14:34:34.167Z"
   },
   {
    "duration": 10,
    "start_time": "2021-11-15T14:34:34.196Z"
   },
   {
    "duration": 331,
    "start_time": "2021-11-15T14:34:34.208Z"
   },
   {
    "duration": 13,
    "start_time": "2021-11-15T14:34:34.543Z"
   },
   {
    "duration": 8,
    "start_time": "2021-11-15T14:34:34.559Z"
   },
   {
    "duration": 264,
    "start_time": "2021-11-15T14:34:34.570Z"
   },
   {
    "duration": 14,
    "start_time": "2021-11-15T14:34:34.837Z"
   },
   {
    "duration": 251,
    "start_time": "2021-11-15T14:34:34.853Z"
   },
   {
    "duration": 247,
    "start_time": "2021-11-15T14:34:35.106Z"
   },
   {
    "duration": 236,
    "start_time": "2021-11-15T14:34:35.356Z"
   },
   {
    "duration": 20,
    "start_time": "2021-11-15T14:35:04.035Z"
   },
   {
    "duration": 276,
    "start_time": "2021-11-15T14:35:34.835Z"
   },
   {
    "duration": 65,
    "start_time": "2021-11-15T14:36:17.258Z"
   },
   {
    "duration": 7,
    "start_time": "2021-11-15T14:36:27.962Z"
   },
   {
    "duration": 7,
    "start_time": "2021-11-15T14:36:31.585Z"
   },
   {
    "duration": 265,
    "start_time": "2021-11-15T14:36:35.574Z"
   },
   {
    "duration": 67,
    "start_time": "2021-11-15T14:36:52.901Z"
   },
   {
    "duration": 65,
    "start_time": "2021-11-15T14:36:59.745Z"
   },
   {
    "duration": 69,
    "start_time": "2021-11-15T14:37:07.425Z"
   },
   {
    "duration": 68,
    "start_time": "2021-11-15T14:37:12.113Z"
   },
   {
    "duration": 66,
    "start_time": "2021-11-15T14:37:15.395Z"
   },
   {
    "duration": 36,
    "start_time": "2021-11-15T14:37:21.834Z"
   },
   {
    "duration": 39,
    "start_time": "2021-11-15T14:37:26.128Z"
   },
   {
    "duration": 61,
    "start_time": "2021-11-15T14:37:30.218Z"
   },
   {
    "duration": 69,
    "start_time": "2021-11-15T14:37:41.538Z"
   },
   {
    "duration": 65,
    "start_time": "2021-11-15T14:37:51.153Z"
   },
   {
    "duration": 13355,
    "start_time": "2021-11-15T14:38:04.347Z"
   },
   {
    "duration": 63,
    "start_time": "2021-11-15T14:38:20.241Z"
   },
   {
    "duration": 53,
    "start_time": "2021-11-15T14:38:29.890Z"
   },
   {
    "duration": 260,
    "start_time": "2021-11-15T14:38:53.036Z"
   },
   {
    "duration": 50,
    "start_time": "2021-11-15T14:39:20.953Z"
   },
   {
    "duration": -283,
    "start_time": "2021-11-15T14:40:08.142Z"
   },
   {
    "duration": 770,
    "start_time": "2021-11-15T14:40:17.401Z"
   },
   {
    "duration": 102,
    "start_time": "2021-11-15T14:41:57.777Z"
   },
   {
    "duration": 6,
    "start_time": "2021-11-15T14:43:16.447Z"
   },
   {
    "duration": 5,
    "start_time": "2021-11-15T14:43:56.600Z"
   },
   {
    "duration": 5,
    "start_time": "2021-11-15T14:44:00.336Z"
   },
   {
    "duration": 293,
    "start_time": "2021-11-15T14:44:26.944Z"
   },
   {
    "duration": 92,
    "start_time": "2021-11-15T14:44:42.408Z"
   },
   {
    "duration": 5,
    "start_time": "2021-11-15T14:44:56.392Z"
   },
   {
    "duration": 5,
    "start_time": "2021-11-15T14:45:04.991Z"
   },
   {
    "duration": 96,
    "start_time": "2021-11-15T14:45:14.823Z"
   },
   {
    "duration": 954,
    "start_time": "2021-11-15T14:47:10.913Z"
   },
   {
    "duration": 92,
    "start_time": "2021-11-15T14:47:11.869Z"
   },
   {
    "duration": 75,
    "start_time": "2021-11-15T14:47:11.965Z"
   },
   {
    "duration": 37,
    "start_time": "2021-11-15T14:47:12.043Z"
   },
   {
    "duration": 13,
    "start_time": "2021-11-15T14:47:12.082Z"
   },
   {
    "duration": 40,
    "start_time": "2021-11-15T14:47:12.098Z"
   },
   {
    "duration": 24,
    "start_time": "2021-11-15T14:47:12.141Z"
   },
   {
    "duration": 7,
    "start_time": "2021-11-15T14:47:12.169Z"
   },
   {
    "duration": 7,
    "start_time": "2021-11-15T14:47:12.180Z"
   },
   {
    "duration": 9,
    "start_time": "2021-11-15T14:47:12.190Z"
   },
   {
    "duration": 14,
    "start_time": "2021-11-15T14:47:12.230Z"
   },
   {
    "duration": 7,
    "start_time": "2021-11-15T14:47:12.246Z"
   },
   {
    "duration": 17,
    "start_time": "2021-11-15T14:47:12.255Z"
   },
   {
    "duration": 11,
    "start_time": "2021-11-15T14:47:12.274Z"
   },
   {
    "duration": 46,
    "start_time": "2021-11-15T14:47:12.288Z"
   },
   {
    "duration": 34,
    "start_time": "2021-11-15T14:47:12.336Z"
   },
   {
    "duration": 59,
    "start_time": "2021-11-15T14:47:12.373Z"
   },
   {
    "duration": 9,
    "start_time": "2021-11-15T14:47:12.434Z"
   },
   {
    "duration": 5,
    "start_time": "2021-11-15T14:47:12.446Z"
   },
   {
    "duration": 990,
    "start_time": "2021-11-15T14:47:12.453Z"
   },
   {
    "duration": 6,
    "start_time": "2021-11-15T14:47:13.445Z"
   },
   {
    "duration": 46,
    "start_time": "2021-11-15T14:47:13.453Z"
   },
   {
    "duration": 24,
    "start_time": "2021-11-15T14:47:13.505Z"
   },
   {
    "duration": 17,
    "start_time": "2021-11-15T14:47:13.532Z"
   },
   {
    "duration": 4,
    "start_time": "2021-11-15T14:47:13.552Z"
   },
   {
    "duration": 1024,
    "start_time": "2021-11-15T14:47:13.558Z"
   },
   {
    "duration": 11,
    "start_time": "2021-11-15T14:47:14.585Z"
   },
   {
    "duration": 25,
    "start_time": "2021-11-15T14:47:14.598Z"
   },
   {
    "duration": 34,
    "start_time": "2021-11-15T14:47:14.629Z"
   },
   {
    "duration": 1028,
    "start_time": "2021-11-15T14:47:14.667Z"
   },
   {
    "duration": 965,
    "start_time": "2021-11-15T14:47:15.698Z"
   },
   {
    "duration": 375,
    "start_time": "2021-11-15T14:47:16.666Z"
   },
   {
    "duration": 356,
    "start_time": "2021-11-15T14:47:17.043Z"
   },
   {
    "duration": 483,
    "start_time": "2021-11-15T14:47:17.401Z"
   },
   {
    "duration": 1520,
    "start_time": "2021-11-15T14:47:17.888Z"
   },
   {
    "duration": 18,
    "start_time": "2021-11-15T14:47:19.411Z"
   },
   {
    "duration": 426,
    "start_time": "2021-11-15T14:47:19.431Z"
   },
   {
    "duration": 6,
    "start_time": "2021-11-15T14:47:19.860Z"
   },
   {
    "duration": 8,
    "start_time": "2021-11-15T14:47:19.869Z"
   },
   {
    "duration": 25,
    "start_time": "2021-11-15T14:47:19.880Z"
   },
   {
    "duration": 18,
    "start_time": "2021-11-15T14:47:19.930Z"
   },
   {
    "duration": 5,
    "start_time": "2021-11-15T14:47:19.951Z"
   },
   {
    "duration": 7,
    "start_time": "2021-11-15T14:47:19.959Z"
   },
   {
    "duration": 749,
    "start_time": "2021-11-15T14:47:19.969Z"
   },
   {
    "duration": 20,
    "start_time": "2021-11-15T14:47:20.721Z"
   },
   {
    "duration": 747,
    "start_time": "2021-11-15T14:47:20.744Z"
   },
   {
    "duration": 300,
    "start_time": "2021-11-15T14:47:21.494Z"
   },
   {
    "duration": 263,
    "start_time": "2021-11-15T14:47:21.796Z"
   },
   {
    "duration": 10,
    "start_time": "2021-11-15T14:47:22.061Z"
   },
   {
    "duration": 29,
    "start_time": "2021-11-15T14:47:22.073Z"
   },
   {
    "duration": 676,
    "start_time": "2021-11-15T14:47:22.104Z"
   },
   {
    "duration": 306,
    "start_time": "2021-11-15T14:47:22.782Z"
   },
   {
    "duration": 457,
    "start_time": "2021-11-15T14:47:23.091Z"
   },
   {
    "duration": 285,
    "start_time": "2021-11-15T14:47:23.551Z"
   },
   {
    "duration": 37,
    "start_time": "2021-11-15T14:47:23.839Z"
   },
   {
    "duration": 12,
    "start_time": "2021-11-15T14:47:23.879Z"
   },
   {
    "duration": 46,
    "start_time": "2021-11-15T14:47:23.893Z"
   },
   {
    "duration": 19,
    "start_time": "2021-11-15T14:47:23.941Z"
   },
   {
    "duration": 317,
    "start_time": "2021-11-15T14:47:23.962Z"
   },
   {
    "duration": 11,
    "start_time": "2021-11-15T14:47:24.282Z"
   },
   {
    "duration": 7,
    "start_time": "2021-11-15T14:47:24.295Z"
   },
   {
    "duration": 256,
    "start_time": "2021-11-15T14:47:24.304Z"
   },
   {
    "duration": 10,
    "start_time": "2021-11-15T14:47:24.562Z"
   },
   {
    "duration": 239,
    "start_time": "2021-11-15T14:47:24.574Z"
   },
   {
    "duration": 242,
    "start_time": "2021-11-15T14:47:24.815Z"
   },
   {
    "duration": 229,
    "start_time": "2021-11-15T14:47:25.059Z"
   },
   {
    "duration": 8,
    "start_time": "2021-11-15T14:51:16.694Z"
   },
   {
    "duration": 399,
    "start_time": "2021-11-15T14:51:31.782Z"
   },
   {
    "duration": 8,
    "start_time": "2021-11-15T14:51:41.389Z"
   },
   {
    "duration": 7306,
    "start_time": "2021-11-15T14:52:02.518Z"
   },
   {
    "duration": 11,
    "start_time": "2021-11-15T14:52:12.069Z"
   },
   {
    "duration": 11,
    "start_time": "2021-11-15T14:53:32.582Z"
   },
   {
    "duration": 100,
    "start_time": "2021-11-15T14:54:20.070Z"
   },
   {
    "duration": 11,
    "start_time": "2021-11-15T14:54:56.589Z"
   },
   {
    "duration": 10,
    "start_time": "2021-11-15T14:55:06.253Z"
   },
   {
    "duration": 10,
    "start_time": "2021-11-15T14:55:14.373Z"
   },
   {
    "duration": 355,
    "start_time": "2021-11-15T14:57:43.400Z"
   },
   {
    "duration": 251,
    "start_time": "2021-11-15T14:57:57.428Z"
   },
   {
    "duration": 256,
    "start_time": "2021-11-15T14:58:01.445Z"
   },
   {
    "duration": 688,
    "start_time": "2021-11-15T15:02:20.228Z"
   },
   {
    "duration": 701,
    "start_time": "2021-11-15T15:02:50.679Z"
   },
   {
    "duration": 281,
    "start_time": "2021-11-15T15:02:59.444Z"
   },
   {
    "duration": 280,
    "start_time": "2021-11-15T15:03:10.755Z"
   },
   {
    "duration": 328,
    "start_time": "2021-11-15T15:03:19.838Z"
   },
   {
    "duration": 363,
    "start_time": "2021-11-15T15:03:22.147Z"
   },
   {
    "duration": 17,
    "start_time": "2021-11-15T15:05:18.156Z"
   },
   {
    "duration": 6,
    "start_time": "2021-11-15T15:05:18.732Z"
   },
   {
    "duration": 288,
    "start_time": "2021-11-15T15:05:19.460Z"
   },
   {
    "duration": 11,
    "start_time": "2021-11-15T15:05:22.986Z"
   },
   {
    "duration": 7,
    "start_time": "2021-11-15T15:05:24.611Z"
   },
   {
    "duration": 210,
    "start_time": "2021-11-15T15:05:25.387Z"
   },
   {
    "duration": 11,
    "start_time": "2021-11-15T15:05:46.811Z"
   },
   {
    "duration": 243,
    "start_time": "2021-11-15T15:05:52.829Z"
   },
   {
    "duration": 230,
    "start_time": "2021-11-15T15:05:56.500Z"
   },
   {
    "duration": 223,
    "start_time": "2021-11-15T15:06:01.522Z"
   },
   {
    "duration": 10,
    "start_time": "2021-11-15T15:12:26.716Z"
   },
   {
    "duration": 233,
    "start_time": "2021-11-15T15:16:25.010Z"
   },
   {
    "duration": 220,
    "start_time": "2021-11-15T15:17:42.282Z"
   },
   {
    "duration": 523,
    "start_time": "2021-11-15T15:20:48.761Z"
   },
   {
    "duration": 219,
    "start_time": "2021-11-15T15:20:53.394Z"
   },
   {
    "duration": 231,
    "start_time": "2021-11-15T15:21:10.401Z"
   },
   {
    "duration": 210,
    "start_time": "2021-11-15T15:22:49.553Z"
   },
   {
    "duration": 915,
    "start_time": "2021-11-15T15:23:48.234Z"
   },
   {
    "duration": 629,
    "start_time": "2021-11-15T15:23:58.730Z"
   },
   {
    "duration": 434,
    "start_time": "2021-11-15T15:24:09.582Z"
   },
   {
    "duration": 290,
    "start_time": "2021-11-15T15:24:45.392Z"
   },
   {
    "duration": 307,
    "start_time": "2021-11-15T15:24:51.394Z"
   },
   {
    "duration": 281,
    "start_time": "2021-11-15T15:27:00.522Z"
   },
   {
    "duration": 492,
    "start_time": "2021-11-15T15:27:05.393Z"
   },
   {
    "duration": 504,
    "start_time": "2021-11-15T15:27:10.529Z"
   },
   {
    "duration": 295,
    "start_time": "2021-11-15T15:27:23.848Z"
   },
   {
    "duration": 417,
    "start_time": "2021-11-15T15:27:29.824Z"
   },
   {
    "duration": 434,
    "start_time": "2021-11-15T15:27:35.920Z"
   },
   {
    "duration": 350,
    "start_time": "2021-11-15T15:28:02.382Z"
   },
   {
    "duration": 335,
    "start_time": "2021-11-15T15:28:16.072Z"
   },
   {
    "duration": 640,
    "start_time": "2021-11-16T09:40:13.991Z"
   },
   {
    "duration": 63,
    "start_time": "2021-11-16T09:40:14.632Z"
   },
   {
    "duration": 24,
    "start_time": "2021-11-16T09:40:14.697Z"
   },
   {
    "duration": 14,
    "start_time": "2021-11-16T09:40:14.722Z"
   },
   {
    "duration": 7,
    "start_time": "2021-11-16T09:40:14.738Z"
   },
   {
    "duration": 13,
    "start_time": "2021-11-16T09:40:14.746Z"
   },
   {
    "duration": 33,
    "start_time": "2021-11-16T09:40:14.760Z"
   },
   {
    "duration": 6,
    "start_time": "2021-11-16T09:40:14.796Z"
   },
   {
    "duration": 12,
    "start_time": "2021-11-16T09:40:14.804Z"
   },
   {
    "duration": 6,
    "start_time": "2021-11-16T09:40:14.817Z"
   },
   {
    "duration": 13,
    "start_time": "2021-11-16T09:40:14.824Z"
   },
   {
    "duration": 5,
    "start_time": "2021-11-16T09:40:14.838Z"
   },
   {
    "duration": 16,
    "start_time": "2021-11-16T09:40:14.844Z"
   },
   {
    "duration": 7,
    "start_time": "2021-11-16T09:40:14.862Z"
   },
   {
    "duration": 23,
    "start_time": "2021-11-16T09:40:14.871Z"
   },
   {
    "duration": 20,
    "start_time": "2021-11-16T09:40:14.895Z"
   },
   {
    "duration": 21,
    "start_time": "2021-11-16T09:40:14.916Z"
   },
   {
    "duration": 5,
    "start_time": "2021-11-16T09:40:14.939Z"
   },
   {
    "duration": 3,
    "start_time": "2021-11-16T09:40:14.946Z"
   },
   {
    "duration": 467,
    "start_time": "2021-11-16T09:40:14.950Z"
   },
   {
    "duration": 4,
    "start_time": "2021-11-16T09:40:15.418Z"
   },
   {
    "duration": 25,
    "start_time": "2021-11-16T09:40:15.423Z"
   },
   {
    "duration": 7,
    "start_time": "2021-11-16T09:40:15.452Z"
   },
   {
    "duration": 10,
    "start_time": "2021-11-16T09:40:15.462Z"
   },
   {
    "duration": 15,
    "start_time": "2021-11-16T09:40:15.474Z"
   },
   {
    "duration": 549,
    "start_time": "2021-11-16T09:40:15.490Z"
   },
   {
    "duration": 6,
    "start_time": "2021-11-16T09:40:16.041Z"
   },
   {
    "duration": 11,
    "start_time": "2021-11-16T09:40:16.048Z"
   },
   {
    "duration": 8,
    "start_time": "2021-11-16T09:40:16.061Z"
   },
   {
    "duration": 434,
    "start_time": "2021-11-16T09:40:16.070Z"
   },
   {
    "duration": 493,
    "start_time": "2021-11-16T09:40:16.505Z"
   },
   {
    "duration": 197,
    "start_time": "2021-11-16T09:40:17.000Z"
   },
   {
    "duration": 182,
    "start_time": "2021-11-16T09:40:17.199Z"
   },
   {
    "duration": 253,
    "start_time": "2021-11-16T09:40:17.382Z"
   },
   {
    "duration": 686,
    "start_time": "2021-11-16T09:40:17.637Z"
   },
   {
    "duration": 7,
    "start_time": "2021-11-16T09:40:18.325Z"
   },
   {
    "duration": 228,
    "start_time": "2021-11-16T09:40:18.333Z"
   },
   {
    "duration": 4,
    "start_time": "2021-11-16T09:40:18.562Z"
   },
   {
    "duration": 8,
    "start_time": "2021-11-16T09:40:18.568Z"
   },
   {
    "duration": 29,
    "start_time": "2021-11-16T09:40:18.577Z"
   },
   {
    "duration": 15,
    "start_time": "2021-11-16T09:40:18.608Z"
   },
   {
    "duration": 6,
    "start_time": "2021-11-16T09:40:18.625Z"
   },
   {
    "duration": 9,
    "start_time": "2021-11-16T09:40:18.632Z"
   },
   {
    "duration": 13,
    "start_time": "2021-11-16T09:40:18.643Z"
   },
   {
    "duration": 472,
    "start_time": "2021-11-16T09:40:18.658Z"
   },
   {
    "duration": 171,
    "start_time": "2021-11-16T09:40:19.132Z"
   },
   {
    "duration": 165,
    "start_time": "2021-11-16T09:40:19.305Z"
   },
   {
    "duration": 461,
    "start_time": "2021-11-16T09:40:19.472Z"
   },
   {
    "duration": 164,
    "start_time": "2021-11-16T09:40:19.935Z"
   },
   {
    "duration": 180,
    "start_time": "2021-11-16T09:40:20.100Z"
   },
   {
    "duration": 226,
    "start_time": "2021-11-16T09:40:20.282Z"
   },
   {
    "duration": 22,
    "start_time": "2021-11-16T09:40:20.509Z"
   },
   {
    "duration": 8,
    "start_time": "2021-11-16T09:40:20.532Z"
   },
   {
    "duration": 17,
    "start_time": "2021-11-16T09:40:20.541Z"
   },
   {
    "duration": 14,
    "start_time": "2021-11-16T09:40:20.559Z"
   },
   {
    "duration": 179,
    "start_time": "2021-11-16T09:40:20.575Z"
   },
   {
    "duration": 7,
    "start_time": "2021-11-16T09:40:20.756Z"
   },
   {
    "duration": 16,
    "start_time": "2021-11-16T09:40:20.764Z"
   },
   {
    "duration": 130,
    "start_time": "2021-11-16T09:40:20.781Z"
   },
   {
    "duration": 6,
    "start_time": "2021-11-16T09:40:20.912Z"
   },
   {
    "duration": 132,
    "start_time": "2021-11-16T09:40:20.920Z"
   },
   {
    "duration": 121,
    "start_time": "2021-11-16T09:40:21.053Z"
   },
   {
    "duration": 129,
    "start_time": "2021-11-16T09:40:21.176Z"
   },
   {
    "duration": 6,
    "start_time": "2021-11-16T09:40:21.307Z"
   },
   {
    "duration": 127,
    "start_time": "2021-11-16T09:40:21.315Z"
   },
   {
    "duration": 129,
    "start_time": "2021-11-16T09:40:21.444Z"
   },
   {
    "duration": 122,
    "start_time": "2021-11-16T09:40:21.574Z"
   },
   {
    "duration": 131,
    "start_time": "2021-11-16T09:40:21.700Z"
   },
   {
    "duration": 169,
    "start_time": "2021-11-16T09:40:21.833Z"
   },
   {
    "duration": 178,
    "start_time": "2021-11-16T09:40:22.004Z"
   },
   {
    "duration": 186,
    "start_time": "2021-11-16T09:40:22.184Z"
   },
   {
    "duration": 184,
    "start_time": "2021-11-16T09:40:22.372Z"
   },
   {
    "duration": 4,
    "start_time": "2021-11-16T09:46:58.097Z"
   },
   {
    "duration": 4,
    "start_time": "2021-11-16T09:47:03.888Z"
   },
   {
    "duration": 4,
    "start_time": "2021-11-16T09:47:07.169Z"
   },
   {
    "duration": 23,
    "start_time": "2021-11-16T09:48:04.104Z"
   },
   {
    "duration": 7,
    "start_time": "2021-11-16T09:48:14.199Z"
   },
   {
    "duration": 6,
    "start_time": "2021-11-16T09:48:20.839Z"
   },
   {
    "duration": 6,
    "start_time": "2021-11-16T09:48:25.600Z"
   },
   {
    "duration": 17,
    "start_time": "2021-11-16T09:52:31.355Z"
   },
   {
    "duration": 5,
    "start_time": "2021-11-16T09:52:40.543Z"
   },
   {
    "duration": 31,
    "start_time": "2021-11-16T10:18:21.447Z"
   },
   {
    "duration": 13,
    "start_time": "2021-11-16T10:18:32.717Z"
   },
   {
    "duration": 14,
    "start_time": "2021-11-16T10:18:40.223Z"
   },
   {
    "duration": 36,
    "start_time": "2021-11-16T10:18:50.153Z"
   },
   {
    "duration": 13,
    "start_time": "2021-11-16T10:19:49.544Z"
   },
   {
    "duration": 13,
    "start_time": "2021-11-16T10:21:38.924Z"
   },
   {
    "duration": 5,
    "start_time": "2021-11-16T10:25:57.255Z"
   },
   {
    "duration": 16,
    "start_time": "2021-11-16T10:26:22.266Z"
   }
  ],
  "kernelspec": {
   "display_name": "Python 3 (ipykernel)",
   "language": "python",
   "name": "python3"
  },
  "language_info": {
   "codemirror_mode": {
    "name": "ipython",
    "version": 3
   },
   "file_extension": ".py",
   "mimetype": "text/x-python",
   "name": "python",
   "nbconvert_exporter": "python",
   "pygments_lexer": "ipython3",
   "version": "3.9.7"
  },
  "toc": {
   "base_numbering": 1,
   "nav_menu": {},
   "number_sections": true,
   "sideBar": true,
   "skip_h1_title": true,
   "title_cell": "Содержание",
   "title_sidebar": "Contents",
   "toc_cell": true,
   "toc_position": {
    "height": "calc(100% - 180px)",
    "left": "10px",
    "top": "150px",
    "width": "265px"
   },
   "toc_section_display": true,
   "toc_window_display": false
  }
 },
 "nbformat": 4,
 "nbformat_minor": 2
}
