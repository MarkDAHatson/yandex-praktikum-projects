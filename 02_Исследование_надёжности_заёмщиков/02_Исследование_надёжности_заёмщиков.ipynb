{
 "cells": [
  {
   "cell_type": "markdown",
   "metadata": {},
   "source": [
    "# Исследование надёжности заёмщиков\n",
    "\n",
    "Заказчик — кредитный отдел банка. Нужно разобраться, влияет ли семейное положение и количество детей клиента на факт погашения кредита в срок. Входные данные от банка — статистика о платёжеспособности клиентов.\n",
    "\n",
    "Результаты исследования будут учтены при построении модели **кредитного скоринга** — специальной системы, которая оценивает способность потенциального заёмщика вернуть кредит банку."
   ]
  },
  {
   "cell_type": "markdown",
   "metadata": {},
   "source": [
    "**Цель исследования** — проверить четыре гипотезы:\n",
    "1. Семейное положение влияет на факт погашения кредита в срок.\n",
    "2. Количество детей влияет на факт погашения кредита в срок.\n",
    "3. Семейное положение влияет на факт погашения кредита в срок.\n",
    "4. Уровень дохода влияет на факт погашения кредита в срок.\n",
    "\n",
    "**Ход исследования**\n",
    "\n",
    "Входные данные от банка - статистика о платёжеспособности клиентов получены из файла `/datasets/data.csv`. О качестве данных ничего не известно, поэтому перед проверкой гипотез понадобится обзор данных. \n",
    "\n",
    "Мы проверим данные на ошибки, а затем оценим их влияние на исследование. Затем, на этапе предобработки исправим ошибки в данных.\n",
    " \n",
    "Таким образом, исследование пройдёт в три этапа:\n",
    " 1. Обзор данных.\n",
    " 2. Предобработка данных.\n",
    " 3. Проверка гипотез.\n"
   ]
  },
  {
   "cell_type": "markdown",
   "metadata": {},
   "source": [
    "## Шаг 1. Откроем файл с данными и изучим общую информацию"
   ]
  },
  {
   "cell_type": "markdown",
   "metadata": {},
   "source": [
    "Составим первое представление о полученных данных."
   ]
  },
  {
   "cell_type": "markdown",
   "metadata": {},
   "source": [
    "Основной инструмент аналитика - `pandas`. Импортируем эту библиотеку"
   ]
  },
  {
   "cell_type": "code",
   "execution_count": 1,
   "metadata": {},
   "outputs": [],
   "source": [
    "#импорт библиотеки pandas\n",
    "import pandas as pd"
   ]
  },
  {
   "cell_type": "markdown",
   "metadata": {},
   "source": [
    "Прочитаем файл `data.csv` из папки `/datasets` и сохраним его в переменной `df`:"
   ]
  },
  {
   "cell_type": "code",
   "execution_count": 2,
   "metadata": {},
   "outputs": [],
   "source": [
    "#чтение файла с данными и сохранение в df\n",
    "df = pd.read_csv('/datasets/data.csv')"
   ]
  },
  {
   "cell_type": "markdown",
   "metadata": {},
   "source": [
    "Выведим на экран первые десять строк таблицы:"
   ]
  },
  {
   "cell_type": "code",
   "execution_count": 3,
   "metadata": {},
   "outputs": [
    {
     "data": {
      "text/html": [
       "<div>\n",
       "<style scoped>\n",
       "    .dataframe tbody tr th:only-of-type {\n",
       "        vertical-align: middle;\n",
       "    }\n",
       "\n",
       "    .dataframe tbody tr th {\n",
       "        vertical-align: top;\n",
       "    }\n",
       "\n",
       "    .dataframe thead th {\n",
       "        text-align: right;\n",
       "    }\n",
       "</style>\n",
       "<table border=\"1\" class=\"dataframe\">\n",
       "  <thead>\n",
       "    <tr style=\"text-align: right;\">\n",
       "      <th></th>\n",
       "      <th>children</th>\n",
       "      <th>days_employed</th>\n",
       "      <th>dob_years</th>\n",
       "      <th>education</th>\n",
       "      <th>education_id</th>\n",
       "      <th>family_status</th>\n",
       "      <th>family_status_id</th>\n",
       "      <th>gender</th>\n",
       "      <th>income_type</th>\n",
       "      <th>debt</th>\n",
       "      <th>total_income</th>\n",
       "      <th>purpose</th>\n",
       "    </tr>\n",
       "  </thead>\n",
       "  <tbody>\n",
       "    <tr>\n",
       "      <td>21515</td>\n",
       "      <td>1</td>\n",
       "      <td>-467.685130</td>\n",
       "      <td>28</td>\n",
       "      <td>среднее</td>\n",
       "      <td>1</td>\n",
       "      <td>женат / замужем</td>\n",
       "      <td>0</td>\n",
       "      <td>F</td>\n",
       "      <td>сотрудник</td>\n",
       "      <td>1</td>\n",
       "      <td>109486.327999</td>\n",
       "      <td>заняться образованием</td>\n",
       "    </tr>\n",
       "    <tr>\n",
       "      <td>21516</td>\n",
       "      <td>0</td>\n",
       "      <td>-914.391429</td>\n",
       "      <td>42</td>\n",
       "      <td>высшее</td>\n",
       "      <td>0</td>\n",
       "      <td>женат / замужем</td>\n",
       "      <td>0</td>\n",
       "      <td>F</td>\n",
       "      <td>компаньон</td>\n",
       "      <td>0</td>\n",
       "      <td>322807.776603</td>\n",
       "      <td>покупка своего жилья</td>\n",
       "    </tr>\n",
       "    <tr>\n",
       "      <td>21517</td>\n",
       "      <td>0</td>\n",
       "      <td>-404.679034</td>\n",
       "      <td>42</td>\n",
       "      <td>высшее</td>\n",
       "      <td>0</td>\n",
       "      <td>гражданский брак</td>\n",
       "      <td>1</td>\n",
       "      <td>F</td>\n",
       "      <td>компаньон</td>\n",
       "      <td>0</td>\n",
       "      <td>178059.553491</td>\n",
       "      <td>на покупку своего автомобиля</td>\n",
       "    </tr>\n",
       "    <tr>\n",
       "      <td>21518</td>\n",
       "      <td>0</td>\n",
       "      <td>373995.710838</td>\n",
       "      <td>59</td>\n",
       "      <td>СРЕДНЕЕ</td>\n",
       "      <td>1</td>\n",
       "      <td>женат / замужем</td>\n",
       "      <td>0</td>\n",
       "      <td>F</td>\n",
       "      <td>пенсионер</td>\n",
       "      <td>0</td>\n",
       "      <td>153864.650328</td>\n",
       "      <td>сделка с автомобилем</td>\n",
       "    </tr>\n",
       "    <tr>\n",
       "      <td>21519</td>\n",
       "      <td>1</td>\n",
       "      <td>-2351.431934</td>\n",
       "      <td>37</td>\n",
       "      <td>ученая степень</td>\n",
       "      <td>4</td>\n",
       "      <td>в разводе</td>\n",
       "      <td>3</td>\n",
       "      <td>M</td>\n",
       "      <td>сотрудник</td>\n",
       "      <td>0</td>\n",
       "      <td>115949.039788</td>\n",
       "      <td>покупка коммерческой недвижимости</td>\n",
       "    </tr>\n",
       "    <tr>\n",
       "      <td>21520</td>\n",
       "      <td>1</td>\n",
       "      <td>-4529.316663</td>\n",
       "      <td>43</td>\n",
       "      <td>среднее</td>\n",
       "      <td>1</td>\n",
       "      <td>гражданский брак</td>\n",
       "      <td>1</td>\n",
       "      <td>F</td>\n",
       "      <td>компаньон</td>\n",
       "      <td>0</td>\n",
       "      <td>224791.862382</td>\n",
       "      <td>операции с жильем</td>\n",
       "    </tr>\n",
       "    <tr>\n",
       "      <td>21521</td>\n",
       "      <td>0</td>\n",
       "      <td>343937.404131</td>\n",
       "      <td>67</td>\n",
       "      <td>среднее</td>\n",
       "      <td>1</td>\n",
       "      <td>женат / замужем</td>\n",
       "      <td>0</td>\n",
       "      <td>F</td>\n",
       "      <td>пенсионер</td>\n",
       "      <td>0</td>\n",
       "      <td>155999.806512</td>\n",
       "      <td>сделка с автомобилем</td>\n",
       "    </tr>\n",
       "    <tr>\n",
       "      <td>21522</td>\n",
       "      <td>1</td>\n",
       "      <td>-2113.346888</td>\n",
       "      <td>38</td>\n",
       "      <td>среднее</td>\n",
       "      <td>1</td>\n",
       "      <td>гражданский брак</td>\n",
       "      <td>1</td>\n",
       "      <td>M</td>\n",
       "      <td>сотрудник</td>\n",
       "      <td>1</td>\n",
       "      <td>89672.561153</td>\n",
       "      <td>недвижимость</td>\n",
       "    </tr>\n",
       "    <tr>\n",
       "      <td>21523</td>\n",
       "      <td>3</td>\n",
       "      <td>-3112.481705</td>\n",
       "      <td>38</td>\n",
       "      <td>среднее</td>\n",
       "      <td>1</td>\n",
       "      <td>женат / замужем</td>\n",
       "      <td>0</td>\n",
       "      <td>M</td>\n",
       "      <td>сотрудник</td>\n",
       "      <td>1</td>\n",
       "      <td>244093.050500</td>\n",
       "      <td>на покупку своего автомобиля</td>\n",
       "    </tr>\n",
       "    <tr>\n",
       "      <td>21524</td>\n",
       "      <td>2</td>\n",
       "      <td>-1984.507589</td>\n",
       "      <td>40</td>\n",
       "      <td>среднее</td>\n",
       "      <td>1</td>\n",
       "      <td>женат / замужем</td>\n",
       "      <td>0</td>\n",
       "      <td>F</td>\n",
       "      <td>сотрудник</td>\n",
       "      <td>0</td>\n",
       "      <td>82047.418899</td>\n",
       "      <td>на покупку автомобиля</td>\n",
       "    </tr>\n",
       "  </tbody>\n",
       "</table>\n",
       "</div>"
      ],
      "text/plain": [
       "       children  days_employed  dob_years       education  education_id  \\\n",
       "21515         1    -467.685130         28         среднее             1   \n",
       "21516         0    -914.391429         42          высшее             0   \n",
       "21517         0    -404.679034         42          высшее             0   \n",
       "21518         0  373995.710838         59         СРЕДНЕЕ             1   \n",
       "21519         1   -2351.431934         37  ученая степень             4   \n",
       "21520         1   -4529.316663         43         среднее             1   \n",
       "21521         0  343937.404131         67         среднее             1   \n",
       "21522         1   -2113.346888         38         среднее             1   \n",
       "21523         3   -3112.481705         38         среднее             1   \n",
       "21524         2   -1984.507589         40         среднее             1   \n",
       "\n",
       "          family_status  family_status_id gender income_type  debt  \\\n",
       "21515   женат / замужем                 0      F   сотрудник     1   \n",
       "21516   женат / замужем                 0      F   компаньон     0   \n",
       "21517  гражданский брак                 1      F   компаньон     0   \n",
       "21518   женат / замужем                 0      F   пенсионер     0   \n",
       "21519         в разводе                 3      M   сотрудник     0   \n",
       "21520  гражданский брак                 1      F   компаньон     0   \n",
       "21521   женат / замужем                 0      F   пенсионер     0   \n",
       "21522  гражданский брак                 1      M   сотрудник     1   \n",
       "21523   женат / замужем                 0      M   сотрудник     1   \n",
       "21524   женат / замужем                 0      F   сотрудник     0   \n",
       "\n",
       "        total_income                            purpose  \n",
       "21515  109486.327999              заняться образованием  \n",
       "21516  322807.776603               покупка своего жилья  \n",
       "21517  178059.553491       на покупку своего автомобиля  \n",
       "21518  153864.650328               сделка с автомобилем  \n",
       "21519  115949.039788  покупка коммерческой недвижимости  \n",
       "21520  224791.862382                  операции с жильем  \n",
       "21521  155999.806512               сделка с автомобилем  \n",
       "21522   89672.561153                       недвижимость  \n",
       "21523  244093.050500       на покупку своего автомобиля  \n",
       "21524   82047.418899              на покупку автомобиля  "
      ]
     },
     "execution_count": 3,
     "metadata": {},
     "output_type": "execute_result"
    }
   ],
   "source": [
    "# получение первых 10 строк таблицы df\n",
    "df.tail(10)"
   ]
  },
  {
   "cell_type": "markdown",
   "metadata": {},
   "source": [
    "Одной командой получим общую информацию о таблице:"
   ]
  },
  {
   "cell_type": "code",
   "execution_count": 4,
   "metadata": {},
   "outputs": [
    {
     "name": "stdout",
     "output_type": "stream",
     "text": [
      "<class 'pandas.core.frame.DataFrame'>\n",
      "RangeIndex: 21525 entries, 0 to 21524\n",
      "Data columns (total 12 columns):\n",
      "children            21525 non-null int64\n",
      "days_employed       19351 non-null float64\n",
      "dob_years           21525 non-null int64\n",
      "education           21525 non-null object\n",
      "education_id        21525 non-null int64\n",
      "family_status       21525 non-null object\n",
      "family_status_id    21525 non-null int64\n",
      "gender              21525 non-null object\n",
      "income_type         21525 non-null object\n",
      "debt                21525 non-null int64\n",
      "total_income        19351 non-null float64\n",
      "purpose             21525 non-null object\n",
      "dtypes: float64(2), int64(5), object(5)\n",
      "memory usage: 2.0+ MB\n"
     ]
    }
   ],
   "source": [
    "# получение общей информации о данных в таблице df\n",
    "df.info()"
   ]
  },
  {
   "cell_type": "markdown",
   "metadata": {},
   "source": [
    "Итак, в таблице 12 столбцов с различным типом данных: `int64`, `float64`, `object`.\n",
    "Согласно документации к данным:\n",
    "* `children` — количество детей в семье;\n",
    "* `days_employed` — общий трудовой стаж в днях;\n",
    "* `dob_years` — возраст клиента в годах;\n",
    "* `education` — уровень образования клиента;\n",
    "* `education_id` — идентификатор уровня образования;\n",
    "* `family_status` — семейное положение;\n",
    "* `family_status_id` — идентификатор семейного положения;\n",
    "* `gender` — пол клиента;\n",
    "* `income_type` — тип занятости;\n",
    "* `debt` — имел ли задолженность по возврату кредитов;\n",
    "* `total_income` — ежемесячный доход;\n",
    "* `purpose` — цель получения кредита\n",
    "\n",
    "Количество значений в столбцах различается. Значит, в данных есть пропущенные значения.\n",
    "\n",
    "**Выводы**\n",
    "\n",
    "В каждой строке таблицы — данные о клиентах банка. Часть колонок описывает социально-демографические характеристики клиентов. Остальные данные демонстрируют его финансовое состояние и способность вовремя оплачивать платежи по кредиту.\n",
    "\n",
    "Предварительно можно утверждать, что данных достаточно для проверки гипотез. С другой стороны, встречаются пропуски в данных. Столбец `days_employed` имеет нехарактерные отрицательные значения. Столбцы `days_employed` и `total_income` имеют нехарактерные для них типы данных.\n",
    "\n",
    "Чтобы двигаться дальше, нужно устранить проблемы в данных."
   ]
  },
  {
   "cell_type": "markdown",
   "metadata": {},
   "source": [
    "## Шаг 2. Предобработка данных"
   ]
  },
  {
   "cell_type": "markdown",
   "metadata": {},
   "source": [
    "### Обработка пропусков"
   ]
  },
  {
   "cell_type": "markdown",
   "metadata": {},
   "source": [
    "Сначала посчитаем, сколько в таблице пропущенных значений. Для этого применим два метода `pandas`:"
   ]
  },
  {
   "cell_type": "code",
   "execution_count": 5,
   "metadata": {},
   "outputs": [
    {
     "data": {
      "text/plain": [
       "children               0\n",
       "days_employed       2174\n",
       "dob_years              0\n",
       "education              0\n",
       "education_id           0\n",
       "family_status          0\n",
       "family_status_id       0\n",
       "gender                 0\n",
       "income_type            0\n",
       "debt                   0\n",
       "total_income        2174\n",
       "purpose                0\n",
       "dtype: int64"
      ]
     },
     "execution_count": 5,
     "metadata": {},
     "output_type": "execute_result"
    }
   ],
   "source": [
    "#выявление и подсчет пропусков\n",
    "df.isna().sum()"
   ]
  },
  {
   "cell_type": "markdown",
   "metadata": {},
   "source": [
    "Пропуски в `days_employed` и `total_income` являются важными, так как могут помешать объективной оценке кредитонадежности клиента. Если посмотреть на сумму этих пропусков, видно, что их количество совпадает. Таким образом, можно сделать вывод об отсутствии случайности в этих пропусках: те, кто не имеет трудового стажа, не раскрывает свой ежемесячный доход. Посмотрим на людей с отсутствующими значениями подробнее:"
   ]
  },
  {
   "cell_type": "code",
   "execution_count": 6,
   "metadata": {
    "scrolled": true
   },
   "outputs": [
    {
     "data": {
      "text/html": [
       "<div>\n",
       "<style scoped>\n",
       "    .dataframe tbody tr th:only-of-type {\n",
       "        vertical-align: middle;\n",
       "    }\n",
       "\n",
       "    .dataframe tbody tr th {\n",
       "        vertical-align: top;\n",
       "    }\n",
       "\n",
       "    .dataframe thead th {\n",
       "        text-align: right;\n",
       "    }\n",
       "</style>\n",
       "<table border=\"1\" class=\"dataframe\">\n",
       "  <thead>\n",
       "    <tr style=\"text-align: right;\">\n",
       "      <th></th>\n",
       "      <th>children</th>\n",
       "      <th>days_employed</th>\n",
       "      <th>dob_years</th>\n",
       "      <th>education</th>\n",
       "      <th>education_id</th>\n",
       "      <th>family_status</th>\n",
       "      <th>family_status_id</th>\n",
       "      <th>gender</th>\n",
       "      <th>income_type</th>\n",
       "      <th>debt</th>\n",
       "      <th>total_income</th>\n",
       "      <th>purpose</th>\n",
       "    </tr>\n",
       "  </thead>\n",
       "  <tbody>\n",
       "    <tr>\n",
       "      <td>12</td>\n",
       "      <td>0</td>\n",
       "      <td>NaN</td>\n",
       "      <td>65</td>\n",
       "      <td>среднее</td>\n",
       "      <td>1</td>\n",
       "      <td>гражданский брак</td>\n",
       "      <td>1</td>\n",
       "      <td>M</td>\n",
       "      <td>пенсионер</td>\n",
       "      <td>0</td>\n",
       "      <td>NaN</td>\n",
       "      <td>сыграть свадьбу</td>\n",
       "    </tr>\n",
       "    <tr>\n",
       "      <td>26</td>\n",
       "      <td>0</td>\n",
       "      <td>NaN</td>\n",
       "      <td>41</td>\n",
       "      <td>среднее</td>\n",
       "      <td>1</td>\n",
       "      <td>женат / замужем</td>\n",
       "      <td>0</td>\n",
       "      <td>M</td>\n",
       "      <td>госслужащий</td>\n",
       "      <td>0</td>\n",
       "      <td>NaN</td>\n",
       "      <td>образование</td>\n",
       "    </tr>\n",
       "    <tr>\n",
       "      <td>29</td>\n",
       "      <td>0</td>\n",
       "      <td>NaN</td>\n",
       "      <td>63</td>\n",
       "      <td>среднее</td>\n",
       "      <td>1</td>\n",
       "      <td>Не женат / не замужем</td>\n",
       "      <td>4</td>\n",
       "      <td>F</td>\n",
       "      <td>пенсионер</td>\n",
       "      <td>0</td>\n",
       "      <td>NaN</td>\n",
       "      <td>строительство жилой недвижимости</td>\n",
       "    </tr>\n",
       "    <tr>\n",
       "      <td>41</td>\n",
       "      <td>0</td>\n",
       "      <td>NaN</td>\n",
       "      <td>50</td>\n",
       "      <td>среднее</td>\n",
       "      <td>1</td>\n",
       "      <td>женат / замужем</td>\n",
       "      <td>0</td>\n",
       "      <td>F</td>\n",
       "      <td>госслужащий</td>\n",
       "      <td>0</td>\n",
       "      <td>NaN</td>\n",
       "      <td>сделка с подержанным автомобилем</td>\n",
       "    </tr>\n",
       "    <tr>\n",
       "      <td>55</td>\n",
       "      <td>0</td>\n",
       "      <td>NaN</td>\n",
       "      <td>54</td>\n",
       "      <td>среднее</td>\n",
       "      <td>1</td>\n",
       "      <td>гражданский брак</td>\n",
       "      <td>1</td>\n",
       "      <td>F</td>\n",
       "      <td>пенсионер</td>\n",
       "      <td>1</td>\n",
       "      <td>NaN</td>\n",
       "      <td>сыграть свадьбу</td>\n",
       "    </tr>\n",
       "    <tr>\n",
       "      <td>65</td>\n",
       "      <td>0</td>\n",
       "      <td>NaN</td>\n",
       "      <td>21</td>\n",
       "      <td>среднее</td>\n",
       "      <td>1</td>\n",
       "      <td>Не женат / не замужем</td>\n",
       "      <td>4</td>\n",
       "      <td>M</td>\n",
       "      <td>компаньон</td>\n",
       "      <td>0</td>\n",
       "      <td>NaN</td>\n",
       "      <td>операции с коммерческой недвижимостью</td>\n",
       "    </tr>\n",
       "    <tr>\n",
       "      <td>67</td>\n",
       "      <td>0</td>\n",
       "      <td>NaN</td>\n",
       "      <td>52</td>\n",
       "      <td>высшее</td>\n",
       "      <td>0</td>\n",
       "      <td>женат / замужем</td>\n",
       "      <td>0</td>\n",
       "      <td>F</td>\n",
       "      <td>пенсионер</td>\n",
       "      <td>0</td>\n",
       "      <td>NaN</td>\n",
       "      <td>покупка жилья для семьи</td>\n",
       "    </tr>\n",
       "    <tr>\n",
       "      <td>72</td>\n",
       "      <td>1</td>\n",
       "      <td>NaN</td>\n",
       "      <td>32</td>\n",
       "      <td>высшее</td>\n",
       "      <td>0</td>\n",
       "      <td>женат / замужем</td>\n",
       "      <td>0</td>\n",
       "      <td>M</td>\n",
       "      <td>госслужащий</td>\n",
       "      <td>0</td>\n",
       "      <td>NaN</td>\n",
       "      <td>операции с коммерческой недвижимостью</td>\n",
       "    </tr>\n",
       "    <tr>\n",
       "      <td>82</td>\n",
       "      <td>2</td>\n",
       "      <td>NaN</td>\n",
       "      <td>50</td>\n",
       "      <td>высшее</td>\n",
       "      <td>0</td>\n",
       "      <td>женат / замужем</td>\n",
       "      <td>0</td>\n",
       "      <td>F</td>\n",
       "      <td>сотрудник</td>\n",
       "      <td>0</td>\n",
       "      <td>NaN</td>\n",
       "      <td>жилье</td>\n",
       "    </tr>\n",
       "    <tr>\n",
       "      <td>83</td>\n",
       "      <td>0</td>\n",
       "      <td>NaN</td>\n",
       "      <td>52</td>\n",
       "      <td>среднее</td>\n",
       "      <td>1</td>\n",
       "      <td>женат / замужем</td>\n",
       "      <td>0</td>\n",
       "      <td>M</td>\n",
       "      <td>сотрудник</td>\n",
       "      <td>0</td>\n",
       "      <td>NaN</td>\n",
       "      <td>жилье</td>\n",
       "    </tr>\n",
       "  </tbody>\n",
       "</table>\n",
       "</div>"
      ],
      "text/plain": [
       "    children  days_employed  dob_years education  education_id  \\\n",
       "12         0            NaN         65   среднее             1   \n",
       "26         0            NaN         41   среднее             1   \n",
       "29         0            NaN         63   среднее             1   \n",
       "41         0            NaN         50   среднее             1   \n",
       "55         0            NaN         54   среднее             1   \n",
       "65         0            NaN         21   среднее             1   \n",
       "67         0            NaN         52    высшее             0   \n",
       "72         1            NaN         32    высшее             0   \n",
       "82         2            NaN         50    высшее             0   \n",
       "83         0            NaN         52   среднее             1   \n",
       "\n",
       "            family_status  family_status_id gender  income_type  debt  \\\n",
       "12       гражданский брак                 1      M    пенсионер     0   \n",
       "26        женат / замужем                 0      M  госслужащий     0   \n",
       "29  Не женат / не замужем                 4      F    пенсионер     0   \n",
       "41        женат / замужем                 0      F  госслужащий     0   \n",
       "55       гражданский брак                 1      F    пенсионер     1   \n",
       "65  Не женат / не замужем                 4      M    компаньон     0   \n",
       "67        женат / замужем                 0      F    пенсионер     0   \n",
       "72        женат / замужем                 0      M  госслужащий     0   \n",
       "82        женат / замужем                 0      F    сотрудник     0   \n",
       "83        женат / замужем                 0      M    сотрудник     0   \n",
       "\n",
       "    total_income                                purpose  \n",
       "12           NaN                        сыграть свадьбу  \n",
       "26           NaN                            образование  \n",
       "29           NaN       строительство жилой недвижимости  \n",
       "41           NaN       сделка с подержанным автомобилем  \n",
       "55           NaN                        сыграть свадьбу  \n",
       "65           NaN  операции с коммерческой недвижимостью  \n",
       "67           NaN                покупка жилья для семьи  \n",
       "72           NaN  операции с коммерческой недвижимостью  \n",
       "82           NaN                                  жилье  \n",
       "83           NaN                                  жилье  "
      ]
     },
     "execution_count": 6,
     "metadata": {},
     "output_type": "execute_result"
    }
   ],
   "source": [
    "#сохранение в df_missed строк с пропущенными значениями\n",
    "df_missed = df[df['days_employed'].isnull() & df['total_income'].isnull()]\n",
    "df_missed.head(10)"
   ]
  },
  {
   "cell_type": "markdown",
   "metadata": {},
   "source": [
    "Как видно, в данной таблице присутствуют в основном взрослые люди, при этом с указанным типом занятости. Скорее всего они предпочли либо скрыть свой стаж и доход, либо забыли указать это, либо их работа неофициальна, поэтому в таблице получились пропуски. Разберемся с ними по очереди. Для `days_employed` наиболее разумным будет заполнить пропуски нулями, чтобы наши значения не сдвигались в большую сторону и не изменяли качество данных."
   ]
  },
  {
   "cell_type": "markdown",
   "metadata": {},
   "source": [
    "Заполним пропуски в столбцах `days_employed` нулями. "
   ]
  },
  {
   "cell_type": "code",
   "execution_count": 7,
   "metadata": {},
   "outputs": [],
   "source": [
    "#заполнение пропущенных значений и сохранение операций в столбцах в переменной df\n",
    "df['days_employed'] = df['days_employed'].fillna(0)"
   ]
  },
  {
   "cell_type": "markdown",
   "metadata": {},
   "source": [
    "Теперь разберёмся с пропусками столбца `total_income`. Заполним эти пропуски на основе типа занятости человека. Для этого сначала найдём уникальные типы занятости:"
   ]
  },
  {
   "cell_type": "code",
   "execution_count": 8,
   "metadata": {},
   "outputs": [
    {
     "data": {
      "text/plain": [
       "array(['сотрудник', 'пенсионер', 'компаньон', 'госслужащий',\n",
       "       'безработный', 'предприниматель', 'студент', 'в декрете'],\n",
       "      dtype=object)"
      ]
     },
     "execution_count": 8,
     "metadata": {},
     "output_type": "execute_result"
    }
   ],
   "source": [
    "#находим уникальные значения income_type\n",
    "df['income_type'].unique()"
   ]
  },
  {
   "cell_type": "markdown",
   "metadata": {},
   "source": [
    "Получили 8 типов занятости. Сгруппируем наши данные по этим типам и найдем медианные значения дохода по каждому:"
   ]
  },
  {
   "cell_type": "code",
   "execution_count": 9,
   "metadata": {},
   "outputs": [
    {
     "data": {
      "text/plain": [
       "income_type\n",
       "безработный        131339.751676\n",
       "в декрете           53829.130729\n",
       "госслужащий        150447.935283\n",
       "компаньон          172357.950966\n",
       "пенсионер          118514.486412\n",
       "предприниматель    499163.144947\n",
       "сотрудник          142594.396847\n",
       "студент             98201.625314\n",
       "Name: total_income, dtype: float64"
      ]
     },
     "execution_count": 9,
     "metadata": {},
     "output_type": "execute_result"
    }
   ],
   "source": [
    "#группируем данные и считаем медианы\n",
    "total_income_medians = df.groupby('income_type')['total_income'].median()\n",
    "#выводим медианные значения на экран\n",
    "total_income_medians"
   ]
  },
  {
   "cell_type": "markdown",
   "metadata": {},
   "source": [
    "Заполним все пропущенные значения на основании полученных медианных значений:"
   ]
  },
  {
   "cell_type": "code",
   "execution_count": 10,
   "metadata": {},
   "outputs": [],
   "source": [
    "#находим строки таблицы с пропуском в total_income и для каждого типа занятости заполняем уровень дохода медианой\n",
    "df.loc[(df['total_income'].isnull()) & (df['income_type'] == 'сотрудник'), 'total_income'] = total_income_medians[6]\n",
    "df.loc[(df['total_income'].isnull()) & (df['income_type'] == 'пенсионер'), 'total_income'] = total_income_medians[4]\n",
    "df.loc[(df['total_income'].isnull()) & (df['income_type'] == 'компаньон'), 'total_income'] = total_income_medians[3]\n",
    "df.loc[(df['total_income'].isnull()) & (df['income_type'] == 'госслужащий'), 'total_income'] = total_income_medians[2]\n",
    "df.loc[(df['total_income'].isnull()) & (df['income_type'] == 'безработный'), 'total_income'] = total_income_medians[0]\n",
    "df.loc[(df['total_income'].isnull()) & (df['income_type'] == 'предприниматель'), 'total_income'] = total_income_medians[5]\n",
    "df.loc[(df['total_income'].isnull()) & (df['income_type'] == 'студент'), 'total_income'] = total_income_medians[7]\n",
    "df.loc[(df['total_income'].isnull()) & (df['income_type'] == 'в декрете'), 'total_income'] = total_income_medians[1]"
   ]
  },
  {
   "cell_type": "markdown",
   "metadata": {},
   "source": [
    "Проверим результат. Для этого вновь посчитаем пропуски в таблице:"
   ]
  },
  {
   "cell_type": "code",
   "execution_count": 11,
   "metadata": {},
   "outputs": [
    {
     "data": {
      "text/plain": [
       "children            0\n",
       "days_employed       0\n",
       "dob_years           0\n",
       "education           0\n",
       "education_id        0\n",
       "family_status       0\n",
       "family_status_id    0\n",
       "gender              0\n",
       "income_type         0\n",
       "debt                0\n",
       "total_income        0\n",
       "purpose             0\n",
       "dtype: int64"
      ]
     },
     "execution_count": 11,
     "metadata": {},
     "output_type": "execute_result"
    }
   ],
   "source": [
    "#проверка результатов повторным подсчетом пропусков\n",
    "df.isna().sum()"
   ]
  },
  {
   "cell_type": "markdown",
   "metadata": {},
   "source": [
    "**Вывод**\n",
    "\n",
    "Предобработка обнаружила пропуски в данных. Оставить их было бы возможным, если бы эти пропуски не находились в значимых для исследования переменных. В данном случае было необходимо заменить их нулями и медианныцми значениями. Без дубликов результаты исследования будут более точными. \n",
    "\n",
    "Далее можем перейти к замене типов данных."
   ]
  },
  {
   "cell_type": "markdown",
   "metadata": {},
   "source": [
    "### Замена типа данных"
   ]
  },
  {
   "cell_type": "markdown",
   "metadata": {},
   "source": [
    "В ходе изучения данных было обнаружено, что столбцы `days_employed` и `total_income` имеют нехарактерные для них типы данных - float64. Эти данные были бы более удобными для изучения, если бы имели тип int64. Приведем их к нему."
   ]
  },
  {
   "cell_type": "markdown",
   "metadata": {},
   "source": [
    "Переведём значения столбцов `days_employed` и `total_income` из float64 в int64. Так как мы работаем с количественными значениями, применим метод `astype`:"
   ]
  },
  {
   "cell_type": "code",
   "execution_count": 12,
   "metadata": {},
   "outputs": [],
   "source": [
    "#переводим значения в тип int64\n",
    "df['days_employed'] = df['days_employed'].astype('int')\n",
    "df['total_income'] = df['total_income'].astype('int')                           "
   ]
  },
  {
   "cell_type": "markdown",
   "metadata": {},
   "source": [
    "Посмотрим на типы данных в таблице после перевода:"
   ]
  },
  {
   "cell_type": "code",
   "execution_count": 13,
   "metadata": {},
   "outputs": [
    {
     "name": "stdout",
     "output_type": "stream",
     "text": [
      "<class 'pandas.core.frame.DataFrame'>\n",
      "RangeIndex: 21525 entries, 0 to 21524\n",
      "Data columns (total 12 columns):\n",
      "children            21525 non-null int64\n",
      "days_employed       21525 non-null int64\n",
      "dob_years           21525 non-null int64\n",
      "education           21525 non-null object\n",
      "education_id        21525 non-null int64\n",
      "family_status       21525 non-null object\n",
      "family_status_id    21525 non-null int64\n",
      "gender              21525 non-null object\n",
      "income_type         21525 non-null object\n",
      "debt                21525 non-null int64\n",
      "total_income        21525 non-null int64\n",
      "purpose             21525 non-null object\n",
      "dtypes: int64(7), object(5)\n",
      "memory usage: 2.0+ MB\n"
     ]
    }
   ],
   "source": [
    "df.info()"
   ]
  },
  {
   "cell_type": "markdown",
   "metadata": {},
   "source": [
    "Оценим, на сколько проще стало осознавать эти переменные при просмотре таблицы данных:"
   ]
  },
  {
   "cell_type": "code",
   "execution_count": 14,
   "metadata": {},
   "outputs": [
    {
     "data": {
      "text/html": [
       "<div>\n",
       "<style scoped>\n",
       "    .dataframe tbody tr th:only-of-type {\n",
       "        vertical-align: middle;\n",
       "    }\n",
       "\n",
       "    .dataframe tbody tr th {\n",
       "        vertical-align: top;\n",
       "    }\n",
       "\n",
       "    .dataframe thead th {\n",
       "        text-align: right;\n",
       "    }\n",
       "</style>\n",
       "<table border=\"1\" class=\"dataframe\">\n",
       "  <thead>\n",
       "    <tr style=\"text-align: right;\">\n",
       "      <th></th>\n",
       "      <th>children</th>\n",
       "      <th>days_employed</th>\n",
       "      <th>dob_years</th>\n",
       "      <th>education</th>\n",
       "      <th>education_id</th>\n",
       "      <th>family_status</th>\n",
       "      <th>family_status_id</th>\n",
       "      <th>gender</th>\n",
       "      <th>income_type</th>\n",
       "      <th>debt</th>\n",
       "      <th>total_income</th>\n",
       "      <th>purpose</th>\n",
       "    </tr>\n",
       "  </thead>\n",
       "  <tbody>\n",
       "    <tr>\n",
       "      <td>0</td>\n",
       "      <td>1</td>\n",
       "      <td>-8437</td>\n",
       "      <td>42</td>\n",
       "      <td>высшее</td>\n",
       "      <td>0</td>\n",
       "      <td>женат / замужем</td>\n",
       "      <td>0</td>\n",
       "      <td>F</td>\n",
       "      <td>сотрудник</td>\n",
       "      <td>0</td>\n",
       "      <td>253875</td>\n",
       "      <td>покупка жилья</td>\n",
       "    </tr>\n",
       "    <tr>\n",
       "      <td>1</td>\n",
       "      <td>1</td>\n",
       "      <td>-4024</td>\n",
       "      <td>36</td>\n",
       "      <td>среднее</td>\n",
       "      <td>1</td>\n",
       "      <td>женат / замужем</td>\n",
       "      <td>0</td>\n",
       "      <td>F</td>\n",
       "      <td>сотрудник</td>\n",
       "      <td>0</td>\n",
       "      <td>112080</td>\n",
       "      <td>приобретение автомобиля</td>\n",
       "    </tr>\n",
       "    <tr>\n",
       "      <td>2</td>\n",
       "      <td>0</td>\n",
       "      <td>-5623</td>\n",
       "      <td>33</td>\n",
       "      <td>Среднее</td>\n",
       "      <td>1</td>\n",
       "      <td>женат / замужем</td>\n",
       "      <td>0</td>\n",
       "      <td>M</td>\n",
       "      <td>сотрудник</td>\n",
       "      <td>0</td>\n",
       "      <td>145885</td>\n",
       "      <td>покупка жилья</td>\n",
       "    </tr>\n",
       "    <tr>\n",
       "      <td>3</td>\n",
       "      <td>3</td>\n",
       "      <td>-4124</td>\n",
       "      <td>32</td>\n",
       "      <td>среднее</td>\n",
       "      <td>1</td>\n",
       "      <td>женат / замужем</td>\n",
       "      <td>0</td>\n",
       "      <td>M</td>\n",
       "      <td>сотрудник</td>\n",
       "      <td>0</td>\n",
       "      <td>267628</td>\n",
       "      <td>дополнительное образование</td>\n",
       "    </tr>\n",
       "    <tr>\n",
       "      <td>4</td>\n",
       "      <td>0</td>\n",
       "      <td>340266</td>\n",
       "      <td>53</td>\n",
       "      <td>среднее</td>\n",
       "      <td>1</td>\n",
       "      <td>гражданский брак</td>\n",
       "      <td>1</td>\n",
       "      <td>F</td>\n",
       "      <td>пенсионер</td>\n",
       "      <td>0</td>\n",
       "      <td>158616</td>\n",
       "      <td>сыграть свадьбу</td>\n",
       "    </tr>\n",
       "  </tbody>\n",
       "</table>\n",
       "</div>"
      ],
      "text/plain": [
       "   children  days_employed  dob_years education  education_id  \\\n",
       "0         1          -8437         42    высшее             0   \n",
       "1         1          -4024         36   среднее             1   \n",
       "2         0          -5623         33   Среднее             1   \n",
       "3         3          -4124         32   среднее             1   \n",
       "4         0         340266         53   среднее             1   \n",
       "\n",
       "      family_status  family_status_id gender income_type  debt  total_income  \\\n",
       "0   женат / замужем                 0      F   сотрудник     0        253875   \n",
       "1   женат / замужем                 0      F   сотрудник     0        112080   \n",
       "2   женат / замужем                 0      M   сотрудник     0        145885   \n",
       "3   женат / замужем                 0      M   сотрудник     0        267628   \n",
       "4  гражданский брак                 1      F   пенсионер     0        158616   \n",
       "\n",
       "                      purpose  \n",
       "0               покупка жилья  \n",
       "1     приобретение автомобиля  \n",
       "2               покупка жилья  \n",
       "3  дополнительное образование  \n",
       "4             сыграть свадьбу  "
      ]
     },
     "execution_count": 14,
     "metadata": {},
     "output_type": "execute_result"
    }
   ],
   "source": [
    "#выводим пять первых строк таблицы df\n",
    "df.head(5)"
   ]
  },
  {
   "cell_type": "markdown",
   "metadata": {},
   "source": [
    "**Вывод**\n",
    "\n",
    "В ходе просмотра данных обнаружились две переменные с несоответствующим им типами данных. На результаты исследования отсутствие таких исправлений никак бы не повлияло, однако следующему, кто будет работать с таблицей, будет гораздо проще в ней разбираться, не смотря на тысячные доли копеек или секунд, поэтому для анализа лучше приводить такие переменные в соответствующий вид.\n",
    "\n",
    "Далее можно переходить к обработке дубликатов."
   ]
  },
  {
   "cell_type": "markdown",
   "metadata": {},
   "source": [
    "### Обработка дубликатов"
   ]
  },
  {
   "cell_type": "markdown",
   "metadata": {},
   "source": [
    "Проверим, содержит ли наша таблица дубликаты. Для начала найдем явные дубликаты одной командой:"
   ]
  },
  {
   "cell_type": "code",
   "execution_count": 15,
   "metadata": {},
   "outputs": [
    {
     "data": {
      "text/plain": [
       "54"
      ]
     },
     "execution_count": 15,
     "metadata": {},
     "output_type": "execute_result"
    }
   ],
   "source": [
    "#подсчет явных дубликатов\n",
    "df.duplicated().sum()"
   ]
  },
  {
   "cell_type": "markdown",
   "metadata": {},
   "source": [
    "В таблице присутствует 54 явных дубликата. Возьпользуемся специальным методом `pandas` для их удаления, а после удаления изменим индексы полученных строк методом `reset_index`:"
   ]
  },
  {
   "cell_type": "code",
   "execution_count": 16,
   "metadata": {},
   "outputs": [],
   "source": [
    "#удаление явных дубликатов (с удалением старых индексов и формированием новых)\n",
    "df = df.drop_duplicates().reset_index(drop=True)"
   ]
  },
  {
   "cell_type": "markdown",
   "metadata": {},
   "source": [
    "Еще раз посчитаем явные дубликаты, чтобы убедиться в их отсутствии:"
   ]
  },
  {
   "cell_type": "code",
   "execution_count": 17,
   "metadata": {},
   "outputs": [
    {
     "data": {
      "text/plain": [
       "0"
      ]
     },
     "execution_count": 17,
     "metadata": {},
     "output_type": "execute_result"
    }
   ],
   "source": [
    "#проверка на отсутствие дубликатов\n",
    "df.duplicated().sum()"
   ]
  },
  {
   "cell_type": "markdown",
   "metadata": {},
   "source": [
    "Взглянем на нашу таблицу еще раз, чтобы увидеть, возможно ли в ней наличие явных дубликатов:"
   ]
  },
  {
   "cell_type": "code",
   "execution_count": 18,
   "metadata": {
    "scrolled": true
   },
   "outputs": [
    {
     "data": {
      "text/html": [
       "<div>\n",
       "<style scoped>\n",
       "    .dataframe tbody tr th:only-of-type {\n",
       "        vertical-align: middle;\n",
       "    }\n",
       "\n",
       "    .dataframe tbody tr th {\n",
       "        vertical-align: top;\n",
       "    }\n",
       "\n",
       "    .dataframe thead th {\n",
       "        text-align: right;\n",
       "    }\n",
       "</style>\n",
       "<table border=\"1\" class=\"dataframe\">\n",
       "  <thead>\n",
       "    <tr style=\"text-align: right;\">\n",
       "      <th></th>\n",
       "      <th>children</th>\n",
       "      <th>days_employed</th>\n",
       "      <th>dob_years</th>\n",
       "      <th>education</th>\n",
       "      <th>education_id</th>\n",
       "      <th>family_status</th>\n",
       "      <th>family_status_id</th>\n",
       "      <th>gender</th>\n",
       "      <th>income_type</th>\n",
       "      <th>debt</th>\n",
       "      <th>total_income</th>\n",
       "      <th>purpose</th>\n",
       "    </tr>\n",
       "  </thead>\n",
       "  <tbody>\n",
       "    <tr>\n",
       "      <td>0</td>\n",
       "      <td>1</td>\n",
       "      <td>-8437</td>\n",
       "      <td>42</td>\n",
       "      <td>высшее</td>\n",
       "      <td>0</td>\n",
       "      <td>женат / замужем</td>\n",
       "      <td>0</td>\n",
       "      <td>F</td>\n",
       "      <td>сотрудник</td>\n",
       "      <td>0</td>\n",
       "      <td>253875</td>\n",
       "      <td>покупка жилья</td>\n",
       "    </tr>\n",
       "    <tr>\n",
       "      <td>1</td>\n",
       "      <td>1</td>\n",
       "      <td>-4024</td>\n",
       "      <td>36</td>\n",
       "      <td>среднее</td>\n",
       "      <td>1</td>\n",
       "      <td>женат / замужем</td>\n",
       "      <td>0</td>\n",
       "      <td>F</td>\n",
       "      <td>сотрудник</td>\n",
       "      <td>0</td>\n",
       "      <td>112080</td>\n",
       "      <td>приобретение автомобиля</td>\n",
       "    </tr>\n",
       "    <tr>\n",
       "      <td>2</td>\n",
       "      <td>0</td>\n",
       "      <td>-5623</td>\n",
       "      <td>33</td>\n",
       "      <td>Среднее</td>\n",
       "      <td>1</td>\n",
       "      <td>женат / замужем</td>\n",
       "      <td>0</td>\n",
       "      <td>M</td>\n",
       "      <td>сотрудник</td>\n",
       "      <td>0</td>\n",
       "      <td>145885</td>\n",
       "      <td>покупка жилья</td>\n",
       "    </tr>\n",
       "    <tr>\n",
       "      <td>3</td>\n",
       "      <td>3</td>\n",
       "      <td>-4124</td>\n",
       "      <td>32</td>\n",
       "      <td>среднее</td>\n",
       "      <td>1</td>\n",
       "      <td>женат / замужем</td>\n",
       "      <td>0</td>\n",
       "      <td>M</td>\n",
       "      <td>сотрудник</td>\n",
       "      <td>0</td>\n",
       "      <td>267628</td>\n",
       "      <td>дополнительное образование</td>\n",
       "    </tr>\n",
       "    <tr>\n",
       "      <td>4</td>\n",
       "      <td>0</td>\n",
       "      <td>340266</td>\n",
       "      <td>53</td>\n",
       "      <td>среднее</td>\n",
       "      <td>1</td>\n",
       "      <td>гражданский брак</td>\n",
       "      <td>1</td>\n",
       "      <td>F</td>\n",
       "      <td>пенсионер</td>\n",
       "      <td>0</td>\n",
       "      <td>158616</td>\n",
       "      <td>сыграть свадьбу</td>\n",
       "    </tr>\n",
       "    <tr>\n",
       "      <td>5</td>\n",
       "      <td>0</td>\n",
       "      <td>-926</td>\n",
       "      <td>27</td>\n",
       "      <td>высшее</td>\n",
       "      <td>0</td>\n",
       "      <td>гражданский брак</td>\n",
       "      <td>1</td>\n",
       "      <td>M</td>\n",
       "      <td>компаньон</td>\n",
       "      <td>0</td>\n",
       "      <td>255763</td>\n",
       "      <td>покупка жилья</td>\n",
       "    </tr>\n",
       "    <tr>\n",
       "      <td>6</td>\n",
       "      <td>0</td>\n",
       "      <td>-2879</td>\n",
       "      <td>43</td>\n",
       "      <td>высшее</td>\n",
       "      <td>0</td>\n",
       "      <td>женат / замужем</td>\n",
       "      <td>0</td>\n",
       "      <td>F</td>\n",
       "      <td>компаньон</td>\n",
       "      <td>0</td>\n",
       "      <td>240525</td>\n",
       "      <td>операции с жильем</td>\n",
       "    </tr>\n",
       "    <tr>\n",
       "      <td>7</td>\n",
       "      <td>0</td>\n",
       "      <td>-152</td>\n",
       "      <td>50</td>\n",
       "      <td>СРЕДНЕЕ</td>\n",
       "      <td>1</td>\n",
       "      <td>женат / замужем</td>\n",
       "      <td>0</td>\n",
       "      <td>M</td>\n",
       "      <td>сотрудник</td>\n",
       "      <td>0</td>\n",
       "      <td>135823</td>\n",
       "      <td>образование</td>\n",
       "    </tr>\n",
       "    <tr>\n",
       "      <td>8</td>\n",
       "      <td>2</td>\n",
       "      <td>-6929</td>\n",
       "      <td>35</td>\n",
       "      <td>ВЫСШЕЕ</td>\n",
       "      <td>0</td>\n",
       "      <td>гражданский брак</td>\n",
       "      <td>1</td>\n",
       "      <td>F</td>\n",
       "      <td>сотрудник</td>\n",
       "      <td>0</td>\n",
       "      <td>95856</td>\n",
       "      <td>на проведение свадьбы</td>\n",
       "    </tr>\n",
       "    <tr>\n",
       "      <td>9</td>\n",
       "      <td>0</td>\n",
       "      <td>-2188</td>\n",
       "      <td>41</td>\n",
       "      <td>среднее</td>\n",
       "      <td>1</td>\n",
       "      <td>женат / замужем</td>\n",
       "      <td>0</td>\n",
       "      <td>M</td>\n",
       "      <td>сотрудник</td>\n",
       "      <td>0</td>\n",
       "      <td>144425</td>\n",
       "      <td>покупка жилья для семьи</td>\n",
       "    </tr>\n",
       "  </tbody>\n",
       "</table>\n",
       "</div>"
      ],
      "text/plain": [
       "   children  days_employed  dob_years education  education_id  \\\n",
       "0         1          -8437         42    высшее             0   \n",
       "1         1          -4024         36   среднее             1   \n",
       "2         0          -5623         33   Среднее             1   \n",
       "3         3          -4124         32   среднее             1   \n",
       "4         0         340266         53   среднее             1   \n",
       "5         0           -926         27    высшее             0   \n",
       "6         0          -2879         43    высшее             0   \n",
       "7         0           -152         50   СРЕДНЕЕ             1   \n",
       "8         2          -6929         35    ВЫСШЕЕ             0   \n",
       "9         0          -2188         41   среднее             1   \n",
       "\n",
       "      family_status  family_status_id gender income_type  debt  total_income  \\\n",
       "0   женат / замужем                 0      F   сотрудник     0        253875   \n",
       "1   женат / замужем                 0      F   сотрудник     0        112080   \n",
       "2   женат / замужем                 0      M   сотрудник     0        145885   \n",
       "3   женат / замужем                 0      M   сотрудник     0        267628   \n",
       "4  гражданский брак                 1      F   пенсионер     0        158616   \n",
       "5  гражданский брак                 1      M   компаньон     0        255763   \n",
       "6   женат / замужем                 0      F   компаньон     0        240525   \n",
       "7   женат / замужем                 0      M   сотрудник     0        135823   \n",
       "8  гражданский брак                 1      F   сотрудник     0         95856   \n",
       "9   женат / замужем                 0      M   сотрудник     0        144425   \n",
       "\n",
       "                      purpose  \n",
       "0               покупка жилья  \n",
       "1     приобретение автомобиля  \n",
       "2               покупка жилья  \n",
       "3  дополнительное образование  \n",
       "4             сыграть свадьбу  \n",
       "5               покупка жилья  \n",
       "6           операции с жильем  \n",
       "7                 образование  \n",
       "8       на проведение свадьбы  \n",
       "9     покупка жилья для семьи  "
      ]
     },
     "execution_count": 18,
     "metadata": {},
     "output_type": "execute_result"
    }
   ],
   "source": [
    "#просмотр первых 10 строк таблицы df:\n",
    "df.head(10)"
   ]
  },
  {
   "cell_type": "markdown",
   "metadata": {},
   "source": [
    "Как видно, в столбце `education` переменные хранятся в виде строковых значений, при этом некоторые из них имеют верхний регистр вместо нижнего. Если эта проблема присутствует в этом столбце, она может содержаться и в любом другом столбце со строковыми значениями. Для поиска дубликатов приведем все строковые столбцы к нижнему регистру:"
   ]
  },
  {
   "cell_type": "code",
   "execution_count": 19,
   "metadata": {},
   "outputs": [],
   "source": [
    "#приведение всех столбцов со строковыми значениями к нижнему регистру\n",
    "df['education'] = df['education'].str.lower()\n",
    "df['family_status'] = df['family_status'].str.lower()\n",
    "df['income_type'] = df['income_type'].str.lower()\n",
    "df['purpose'] = df['purpose'].str.lower()"
   ]
  },
  {
   "cell_type": "markdown",
   "metadata": {},
   "source": [
    "В столбце `gender` присутствуют строковые значения верхнего регистра. Во избежании недочета дубликатов приведем все значения этого столбца к верхнему регистру:"
   ]
  },
  {
   "cell_type": "code",
   "execution_count": 20,
   "metadata": {},
   "outputs": [],
   "source": [
    "#приведение всех значений столбца к верхнему регистру\n",
    "df['gender'] = df['gender'].str.upper()"
   ]
  },
  {
   "cell_type": "markdown",
   "metadata": {},
   "source": [
    "Подсчитаем количество явных дубликатов в таблице после изменения регистров:"
   ]
  },
  {
   "cell_type": "code",
   "execution_count": 21,
   "metadata": {},
   "outputs": [
    {
     "data": {
      "text/plain": [
       "17"
      ]
     },
     "execution_count": 21,
     "metadata": {},
     "output_type": "execute_result"
    }
   ],
   "source": [
    "#подсчет явных дубликатов после изменений регистра\n",
    "df.duplicated().sum()"
   ]
  },
  {
   "cell_type": "markdown",
   "metadata": {},
   "source": [
    "Применим удаление и для этих строк-дубликатов:"
   ]
  },
  {
   "cell_type": "code",
   "execution_count": 22,
   "metadata": {},
   "outputs": [],
   "source": [
    "#удаление явных дубликатов (с удалением старых индексов и формированием новых)\n",
    "df = df.drop_duplicates().reset_index(drop=True)"
   ]
  },
  {
   "cell_type": "markdown",
   "metadata": {},
   "source": [
    "**Вывод**\n",
    "\n",
    "В ходе предобработке было найдено 71 пропусков в таблице, при этом присутствовали как явные, так и неявные дубликаты. Такие строки могли появиться из-за банальной человеческой ошибки, например, клиент подал заявку дважды. Для улучшения результатов исследования от таких строк пришлось избавиться при помощи специальных методов `pandas`, однако говорить об окончании предобработке пока рано - необходимо провести лемматизацию."
   ]
  },
  {
   "cell_type": "markdown",
   "metadata": {},
   "source": [
    "### Лемматизация"
   ]
  },
  {
   "cell_type": "markdown",
   "metadata": {},
   "source": [
    "В столбце `purpose` клиенты описывают цель получения кредита. Несмотря на то, что цели часто бывают схожими, описываются они часто разными словами, из-за чего в столбце присутствуют разные, но фактически одинаковые значения. Чтобы избавиться от этого - необходимо воспользоваться лемматизацией. Импортируем из библиотеки для лемматизации функцию `Mystem`  для этой задачи:"
   ]
  },
  {
   "cell_type": "code",
   "execution_count": 23,
   "metadata": {},
   "outputs": [],
   "source": [
    "#импортируем из библиотеки pymystem3 функцию Mystem\n",
    "from pymystem3 import Mystem"
   ]
  },
  {
   "cell_type": "markdown",
   "metadata": {},
   "source": [
    "К каждому элементу столбца `purpose` применим лемматизацию и посмотрим, на какие цели люди берут кредит. Для этого воспользуемся циклом `for`. Получившиеся значения сохраним в список `purpose_lemma_list`:"
   ]
  },
  {
   "cell_type": "code",
   "execution_count": 24,
   "metadata": {
    "scrolled": false
   },
   "outputs": [],
   "source": [
    "#создадим пустой лист purpose_lemma_list\n",
    "purpose_lemma_list = []\n",
    "#перебор элементов столбца purpose и их лемматизация\n",
    "m = Mystem()\n",
    "for elem in df['purpose']:\n",
    "    lemma = m.lemmatize(elem)\n",
    "    purpose_lemma_list.append(lemma)"
   ]
  },
  {
   "cell_type": "markdown",
   "metadata": {},
   "source": [
    "Посмотрим на получившиеся леммы для оценки, на какие цели чаще всего берут кредит:"
   ]
  },
  {
   "cell_type": "code",
   "execution_count": 25,
   "metadata": {
    "scrolled": true
   },
   "outputs": [
    {
     "data": {
      "text/plain": [
       "[['покупка', ' ', 'жилье', '\\n'],\n",
       " ['приобретение', ' ', 'автомобиль', '\\n'],\n",
       " ['покупка', ' ', 'жилье', '\\n'],\n",
       " ['дополнительный', ' ', 'образование', '\\n'],\n",
       " ['сыграть', ' ', 'свадьба', '\\n'],\n",
       " ['покупка', ' ', 'жилье', '\\n'],\n",
       " ['операция', ' ', 'с', ' ', 'жилье', '\\n'],\n",
       " ['образование', '\\n'],\n",
       " ['на', ' ', 'проведение', ' ', 'свадьба', '\\n'],\n",
       " ['покупка', ' ', 'жилье', ' ', 'для', ' ', 'семья', '\\n'],\n",
       " ['покупка', ' ', 'недвижимость', '\\n'],\n",
       " ['покупка', ' ', 'коммерческий', ' ', 'недвижимость', '\\n'],\n",
       " ['сыграть', ' ', 'свадьба', '\\n'],\n",
       " ['приобретение', ' ', 'автомобиль', '\\n'],\n",
       " ['покупка', ' ', 'жилой', ' ', 'недвижимость', '\\n'],\n",
       " ['строительство', ' ', 'собственный', ' ', 'недвижимость', '\\n'],\n",
       " ['недвижимость', '\\n'],\n",
       " ['строительство', ' ', 'недвижимость', '\\n'],\n",
       " ['на', ' ', 'покупка', ' ', 'подержать', ' ', 'автомобиль', '\\n'],\n",
       " ['на', ' ', 'покупка', ' ', 'свой', ' ', 'автомобиль', '\\n'],\n",
       " ['недвижимость', '\\n'],\n",
       " ['приобретение', ' ', 'автомобиль', '\\n'],\n",
       " ['на', ' ', 'покупка', ' ', 'подержать', ' ', 'автомобиль', '\\n'],\n",
       " ['сыграть', ' ', 'свадьба', '\\n'],\n",
       " ['операция', ' ', 'с', ' ', 'коммерческий', ' ', 'недвижимость', '\\n'],\n",
       " ['покупка', ' ', 'недвижимость', '\\n'],\n",
       " ['образование', '\\n'],\n",
       " ['строительство', ' ', 'собственный', ' ', 'недвижимость', '\\n'],\n",
       " ['строительство', ' ', 'собственный', ' ', 'недвижимость', '\\n'],\n",
       " ['строительство', ' ', 'жилой', ' ', 'недвижимость', '\\n'],\n",
       " ['операция', ' ', 'с', ' ', 'коммерческий', ' ', 'недвижимость', '\\n'],\n",
       " ['жилье', '\\n'],\n",
       " ['на', ' ', 'проведение', ' ', 'свадьба', '\\n'],\n",
       " ['покупка', ' ', 'жилье', '\\n'],\n",
       " ['операция', ' ', 'со', ' ', 'свой', ' ', 'недвижимость', '\\n'],\n",
       " ['на', ' ', 'проведение', ' ', 'свадьба', '\\n'],\n",
       " ['автомобиль', '\\n'],\n",
       " ['приобретение', ' ', 'автомобиль', '\\n'],\n",
       " ['образование', '\\n'],\n",
       " ['заниматься', ' ', 'образование', '\\n'],\n",
       " ['покупка', ' ', 'недвижимость', '\\n'],\n",
       " ['сделка', ' ', 'с', ' ', 'подержанный', ' ', 'автомобиль', '\\n'],\n",
       " ['получение', ' ', 'образование', '\\n'],\n",
       " ['приобретение', ' ', 'автомобиль', '\\n'],\n",
       " ['на', ' ', 'покупка', ' ', 'свой', ' ', 'автомобиль', '\\n'],\n",
       " ['заниматься', ' ', 'образование', '\\n'],\n",
       " ['сделка', ' ', 'с', ' ', 'подержанный', ' ', 'автомобиль', '\\n'],\n",
       " ['на', ' ', 'проведение', ' ', 'свадьба', '\\n'],\n",
       " ['строительство', ' ', 'собственный', ' ', 'недвижимость', '\\n'],\n",
       " ['автомобиль', '\\n'],\n",
       " ['автомобиль', '\\n'],\n",
       " ['свадьба', '\\n'],\n",
       " ['получение', ' ', 'дополнительный', ' ', 'образование', '\\n'],\n",
       " ['покупка', ' ', 'свой', ' ', 'жилье', '\\n'],\n",
       " ['автомобиль', '\\n'],\n",
       " ['сыграть', ' ', 'свадьба', '\\n'],\n",
       " ['образование', '\\n'],\n",
       " ['образование', '\\n'],\n",
       " ['недвижимость', '\\n'],\n",
       " ['операция', ' ', 'с', ' ', 'недвижимость', '\\n'],\n",
       " ['заниматься', ' ', 'образование', '\\n'],\n",
       " ['покупка', ' ', 'недвижимость', '\\n'],\n",
       " ['получение', ' ', 'высокий', ' ', 'образование', '\\n'],\n",
       " ['операция', ' ', 'с', ' ', 'жилье', '\\n'],\n",
       " ['сделка', ' ', 'с', ' ', 'подержанный', ' ', 'автомобиль', '\\n'],\n",
       " ['операция', ' ', 'с', ' ', 'коммерческий', ' ', 'недвижимость', '\\n'],\n",
       " ['заниматься', ' ', 'образование', '\\n'],\n",
       " ['покупка', ' ', 'жилье', ' ', 'для', ' ', 'семья', '\\n'],\n",
       " ['операция', ' ', 'с', ' ', 'коммерческий', ' ', 'недвижимость', '\\n'],\n",
       " ['покупка', ' ', 'свой', ' ', 'жилье', '\\n'],\n",
       " ['покупка', ' ', 'коммерческий', ' ', 'недвижимость', '\\n'],\n",
       " ['автомобиль', '\\n'],\n",
       " ['операция', ' ', 'с', ' ', 'коммерческий', ' ', 'недвижимость', '\\n'],\n",
       " ['заниматься', ' ', 'образование', '\\n'],\n",
       " ['покупка', ' ', 'жилье', ' ', 'для', ' ', 'семья', '\\n'],\n",
       " ['операция', ' ', 'с', ' ', 'недвижимость', '\\n'],\n",
       " ['на', ' ', 'покупка', ' ', 'подержать', ' ', 'автомобиль', '\\n'],\n",
       " ['свой', ' ', 'автомобиль', '\\n'],\n",
       " ['сделка', ' ', 'с', ' ', 'автомобиль', '\\n'],\n",
       " ['автомобиль', '\\n'],\n",
       " ['сделка', ' ', 'с', ' ', 'автомобиль', '\\n'],\n",
       " ['профильный', ' ', 'образование', '\\n'],\n",
       " ['жилье', '\\n'],\n",
       " ['жилье', '\\n'],\n",
       " ['операция', ' ', 'со', ' ', 'свой', ' ', 'недвижимость', '\\n'],\n",
       " ['высокий', ' ', 'образование', '\\n'],\n",
       " ['свадьба', '\\n'],\n",
       " ['покупка', ' ', 'жилье', ' ', 'для', ' ', 'сдача', '\\n'],\n",
       " ['на', ' ', 'проведение', ' ', 'свадьба', '\\n'],\n",
       " ['сделка', ' ', 'с', ' ', 'подержанный', ' ', 'автомобиль', '\\n'],\n",
       " ['операция', ' ', 'с', ' ', 'жилье', '\\n'],\n",
       " ['покупка', ' ', 'недвижимость', '\\n'],\n",
       " ['сыграть', ' ', 'свадьба', '\\n'],\n",
       " ['сделка', ' ', 'с', ' ', 'автомобиль', '\\n'],\n",
       " ['на', ' ', 'проведение', ' ', 'свадьба', '\\n'],\n",
       " ['автомобиль', '\\n'],\n",
       " ['покупка', ' ', 'жилой', ' ', 'недвижимость', '\\n'],\n",
       " ['профильный', ' ', 'образование', '\\n'],\n",
       " ['покупка', ' ', 'жилье', ' ', 'для', ' ', 'сдача', '\\n'],\n",
       " ['автомобиль', '\\n'],\n",
       " ['операция', ' ', 'с', ' ', 'недвижимость', '\\n'],\n",
       " ['на', ' ', 'покупка', ' ', 'свой', ' ', 'автомобиль', '\\n'],\n",
       " ['на', ' ', 'покупка', ' ', 'подержать', ' ', 'автомобиль', '\\n'],\n",
       " ['строительство', ' ', 'недвижимость', '\\n'],\n",
       " ['покупка', ' ', 'жилье', ' ', 'для', ' ', 'сдача', '\\n'],\n",
       " ['строительство', ' ', 'собственный', ' ', 'недвижимость', '\\n'],\n",
       " ['образование', '\\n'],\n",
       " ['строительство', ' ', 'собственный', ' ', 'недвижимость', '\\n'],\n",
       " ['сделка', ' ', 'с', ' ', 'подержанный', ' ', 'автомобиль', '\\n'],\n",
       " ['образование', '\\n'],\n",
       " ['покупка', ' ', 'жилье', '\\n'],\n",
       " ['недвижимость', '\\n'],\n",
       " ['недвижимость', '\\n'],\n",
       " ['образование', '\\n'],\n",
       " ['операция', ' ', 'со', ' ', 'свой', ' ', 'недвижимость', '\\n'],\n",
       " ['операция', ' ', 'с', ' ', 'коммерческий', ' ', 'недвижимость', '\\n'],\n",
       " ['покупка', ' ', 'жилой', ' ', 'недвижимость', '\\n'],\n",
       " ['на', ' ', 'покупка', ' ', 'автомобиль', '\\n'],\n",
       " ['на', ' ', 'проведение', ' ', 'свадьба', '\\n'],\n",
       " ['покупка', ' ', 'коммерческий', ' ', 'недвижимость', '\\n'],\n",
       " ['высокий', ' ', 'образование', '\\n'],\n",
       " ['автомобиль', '\\n'],\n",
       " ['автомобиль', '\\n'],\n",
       " ['покупка', ' ', 'жилье', ' ', 'для', ' ', 'сдача', '\\n'],\n",
       " ['операция', ' ', 'с', ' ', 'коммерческий', ' ', 'недвижимость', '\\n'],\n",
       " ['свадьба', '\\n'],\n",
       " ['строительство', ' ', 'собственный', ' ', 'недвижимость', '\\n'],\n",
       " ['строительство', ' ', 'жилой', ' ', 'недвижимость', '\\n'],\n",
       " ['сделка', ' ', 'с', ' ', 'автомобиль', '\\n'],\n",
       " ['автомобиль', '\\n'],\n",
       " ['операция', ' ', 'со', ' ', 'свой', ' ', 'недвижимость', '\\n'],\n",
       " ['получение', ' ', 'дополнительный', ' ', 'образование', '\\n'],\n",
       " ['автомобиль', '\\n'],\n",
       " ['образование', '\\n'],\n",
       " ['покупка', ' ', 'жилой', ' ', 'недвижимость', '\\n'],\n",
       " ['жилье', '\\n'],\n",
       " ['операция', ' ', 'со', ' ', 'свой', ' ', 'недвижимость', '\\n'],\n",
       " ['сыграть', ' ', 'свадьба', '\\n'],\n",
       " ['покупка', ' ', 'свой', ' ', 'жилье', '\\n'],\n",
       " ['ремонт', ' ', 'жилье', '\\n'],\n",
       " ['покупка', ' ', 'коммерческий', ' ', 'недвижимость', '\\n'],\n",
       " ['свадьба', '\\n'],\n",
       " ['сделка', ' ', 'с', ' ', 'подержанный', ' ', 'автомобиль', '\\n'],\n",
       " ['строительство', ' ', 'собственный', ' ', 'недвижимость', '\\n'],\n",
       " ['свой', ' ', 'автомобиль', '\\n'],\n",
       " ['строительство', ' ', 'недвижимость', '\\n'],\n",
       " ['покупка', ' ', 'жилье', '\\n'],\n",
       " ['операция', ' ', 'с', ' ', 'недвижимость', '\\n'],\n",
       " ['на', ' ', 'покупка', ' ', 'свой', ' ', 'автомобиль', '\\n'],\n",
       " ['операция', ' ', 'с', ' ', 'жилье', '\\n'],\n",
       " ['сыграть', ' ', 'свадьба', '\\n'],\n",
       " ['сыграть', ' ', 'свадьба', '\\n'],\n",
       " ['покупка', ' ', 'свой', ' ', 'жилье', '\\n'],\n",
       " ['жилье', '\\n'],\n",
       " ['операция', ' ', 'с', ' ', 'коммерческий', ' ', 'недвижимость', '\\n'],\n",
       " ['дополнительный', ' ', 'образование', '\\n'],\n",
       " ['получение', ' ', 'дополнительный', ' ', 'образование', '\\n'],\n",
       " ['сделка', ' ', 'с', ' ', 'автомобиль', '\\n'],\n",
       " ['образование', '\\n'],\n",
       " ['на', ' ', 'покупка', ' ', 'свой', ' ', 'автомобиль', '\\n'],\n",
       " ['покупка', ' ', 'жилье', ' ', 'для', ' ', 'сдача', '\\n'],\n",
       " ['приобретение', ' ', 'автомобиль', '\\n'],\n",
       " ['получение', ' ', 'дополнительный', ' ', 'образование', '\\n'],\n",
       " ['ремонт', ' ', 'жилье', '\\n'],\n",
       " ['на', ' ', 'покупка', ' ', 'свой', ' ', 'автомобиль', '\\n'],\n",
       " ['покупка', ' ', 'жилье', '\\n'],\n",
       " ['операция', ' ', 'с', ' ', 'жилье', '\\n'],\n",
       " ['на', ' ', 'проведение', ' ', 'свадьба', '\\n'],\n",
       " ['покупка', ' ', 'свой', ' ', 'жилье', '\\n'],\n",
       " ['приобретение', ' ', 'автомобиль', '\\n'],\n",
       " ['жилье', '\\n'],\n",
       " ['на', ' ', 'проведение', ' ', 'свадьба', '\\n'],\n",
       " ['строительство', ' ', 'недвижимость', '\\n'],\n",
       " ['покупка', ' ', 'коммерческий', ' ', 'недвижимость', '\\n'],\n",
       " ['свой', ' ', 'автомобиль', '\\n'],\n",
       " ['строительство', ' ', 'недвижимость', '\\n'],\n",
       " ['заниматься', ' ', 'высокий', ' ', 'образование', '\\n'],\n",
       " ['сделка', ' ', 'с', ' ', 'подержанный', ' ', 'автомобиль', '\\n'],\n",
       " ['приобретение', ' ', 'автомобиль', '\\n'],\n",
       " ['покупка', ' ', 'свой', ' ', 'жилье', '\\n'],\n",
       " ['сыграть', ' ', 'свадьба', '\\n'],\n",
       " ['покупка', ' ', 'жилье', ' ', 'для', ' ', 'семья', '\\n'],\n",
       " ['свадьба', '\\n'],\n",
       " ['получение', ' ', 'дополнительный', ' ', 'образование', '\\n'],\n",
       " ['покупка', ' ', 'жилье', ' ', 'для', ' ', 'сдача', '\\n'],\n",
       " ['получение', ' ', 'дополнительный', ' ', 'образование', '\\n'],\n",
       " ['операция', ' ', 'с', ' ', 'коммерческий', ' ', 'недвижимость', '\\n'],\n",
       " ['высокий', ' ', 'образование', '\\n'],\n",
       " ['покупка', ' ', 'свой', ' ', 'жилье', '\\n'],\n",
       " ['свой', ' ', 'автомобиль', '\\n'],\n",
       " ['на', ' ', 'проведение', ' ', 'свадьба', '\\n'],\n",
       " ['высокий', ' ', 'образование', '\\n'],\n",
       " ['свой', ' ', 'автомобиль', '\\n'],\n",
       " ['на', ' ', 'покупка', ' ', 'подержать', ' ', 'автомобиль', '\\n'],\n",
       " ['получение', ' ', 'образование', '\\n'],\n",
       " ['дополнительный', ' ', 'образование', '\\n'],\n",
       " ['покупка', ' ', 'свой', ' ', 'жилье', '\\n'],\n",
       " ['покупка', ' ', 'недвижимость', '\\n'],\n",
       " ['на', ' ', 'покупка', ' ', 'свой', ' ', 'автомобиль', '\\n'],\n",
       " ['сделка', ' ', 'с', ' ', 'подержанный', ' ', 'автомобиль', '\\n'],\n",
       " ['строительство', ' ', 'недвижимость', '\\n'],\n",
       " ['покупка', ' ', 'жилой', ' ', 'недвижимость', '\\n'],\n",
       " ['покупка', ' ', 'жилой', ' ', 'недвижимость', '\\n'],\n",
       " ['строительство', ' ', 'собственный', ' ', 'недвижимость', '\\n'],\n",
       " ['строительство', ' ', 'жилой', ' ', 'недвижимость', '\\n'],\n",
       " ['на', ' ', 'покупка', ' ', 'подержать', ' ', 'автомобиль', '\\n'],\n",
       " ['получение', ' ', 'образование', '\\n'],\n",
       " ['покупка', ' ', 'свой', ' ', 'жилье', '\\n'],\n",
       " ['профильный', ' ', 'образование', '\\n'],\n",
       " ['операция', ' ', 'с', ' ', 'коммерческий', ' ', 'недвижимость', '\\n'],\n",
       " ['строительство', ' ', 'жилой', ' ', 'недвижимость', '\\n'],\n",
       " ['сделка', ' ', 'с', ' ', 'подержанный', ' ', 'автомобиль', '\\n'],\n",
       " ['приобретение', ' ', 'автомобиль', '\\n'],\n",
       " ['на', ' ', 'покупка', ' ', 'автомобиль', '\\n'],\n",
       " ['покупка', ' ', 'жилье', ' ', 'для', ' ', 'семья', '\\n'],\n",
       " ['операция', ' ', 'с', ' ', 'недвижимость', '\\n'],\n",
       " ['образование', '\\n'],\n",
       " ['строительство', ' ', 'собственный', ' ', 'недвижимость', '\\n'],\n",
       " ['на', ' ', 'покупка', ' ', 'свой', ' ', 'автомобиль', '\\n'],\n",
       " ['операция', ' ', 'с', ' ', 'коммерческий', ' ', 'недвижимость', '\\n'],\n",
       " ['сыграть', ' ', 'свадьба', '\\n'],\n",
       " ['автомобиль', '\\n'],\n",
       " ['покупка', ' ', 'жилой', ' ', 'недвижимость', '\\n'],\n",
       " ['операция', ' ', 'с', ' ', 'коммерческий', ' ', 'недвижимость', '\\n'],\n",
       " ['покупка', ' ', 'свой', ' ', 'жилье', '\\n'],\n",
       " ['строительство', ' ', 'недвижимость', '\\n'],\n",
       " ['получение', ' ', 'высокий', ' ', 'образование', '\\n'],\n",
       " ['жилье', '\\n'],\n",
       " ['ремонт', ' ', 'жилье', '\\n'],\n",
       " ['сделка', ' ', 'с', ' ', 'подержанный', ' ', 'автомобиль', '\\n'],\n",
       " ['свадьба', '\\n'],\n",
       " ['покупка', ' ', 'жилье', ' ', 'для', ' ', 'семья', '\\n'],\n",
       " ['свадьба', '\\n'],\n",
       " ['на', ' ', 'покупка', ' ', 'автомобиль', '\\n'],\n",
       " ['профильный', ' ', 'образование', '\\n'],\n",
       " ['жилье', '\\n'],\n",
       " ['на', ' ', 'покупка', ' ', 'автомобиль', '\\n'],\n",
       " ['покупка', ' ', 'недвижимость', '\\n'],\n",
       " ['на', ' ', 'проведение', ' ', 'свадьба', '\\n'],\n",
       " ['операция', ' ', 'с', ' ', 'недвижимость', '\\n'],\n",
       " ['покупка', ' ', 'коммерческий', ' ', 'недвижимость', '\\n'],\n",
       " ['строительство', ' ', 'собственный', ' ', 'недвижимость', '\\n'],\n",
       " ['покупка', ' ', 'свой', ' ', 'жилье', '\\n'],\n",
       " ['свадьба', '\\n'],\n",
       " ['высокий', ' ', 'образование', '\\n'],\n",
       " ['покупка', ' ', 'жилой', ' ', 'недвижимость', '\\n'],\n",
       " ['строительство', ' ', 'недвижимость', '\\n'],\n",
       " ['заниматься', ' ', 'высокий', ' ', 'образование', '\\n'],\n",
       " ['покупка', ' ', 'жилой', ' ', 'недвижимость', '\\n'],\n",
       " ['получение', ' ', 'высокий', ' ', 'образование', '\\n'],\n",
       " ['сделка', ' ', 'с', ' ', 'подержанный', ' ', 'автомобиль', '\\n'],\n",
       " ['покупка', ' ', 'коммерческий', ' ', 'недвижимость', '\\n'],\n",
       " ['покупка', ' ', 'жилье', '\\n'],\n",
       " ['получение', ' ', 'высокий', ' ', 'образование', '\\n'],\n",
       " ['жилье', '\\n'],\n",
       " ['покупка', ' ', 'жилье', '\\n'],\n",
       " ['дополнительный', ' ', 'образование', '\\n'],\n",
       " ['операция', ' ', 'с', ' ', 'жилье', '\\n'],\n",
       " ['свадьба', '\\n'],\n",
       " ['свадьба', '\\n'],\n",
       " ['покупка', ' ', 'жилье', ' ', 'для', ' ', 'семья', '\\n'],\n",
       " ['операция', ' ', 'с', ' ', 'жилье', '\\n'],\n",
       " ['покупка', ' ', 'недвижимость', '\\n'],\n",
       " ['строительство', ' ', 'жилой', ' ', 'недвижимость', '\\n'],\n",
       " ['недвижимость', '\\n'],\n",
       " ['строительство', ' ', 'недвижимость', '\\n'],\n",
       " ['недвижимость', '\\n'],\n",
       " ['операция', ' ', 'с', ' ', 'коммерческий', ' ', 'недвижимость', '\\n'],\n",
       " ['покупка', ' ', 'жилье', '\\n'],\n",
       " ['на', ' ', 'покупка', ' ', 'подержать', ' ', 'автомобиль', '\\n'],\n",
       " ['ремонт', ' ', 'жилье', '\\n'],\n",
       " ['автомобиль', '\\n'],\n",
       " ['заниматься', ' ', 'образование', '\\n'],\n",
       " ['заниматься', ' ', 'высокий', ' ', 'образование', '\\n'],\n",
       " ['сыграть', ' ', 'свадьба', '\\n'],\n",
       " ['покупка', ' ', 'коммерческий', ' ', 'недвижимость', '\\n'],\n",
       " ['ремонт', ' ', 'жилье', '\\n'],\n",
       " ['сыграть', ' ', 'свадьба', '\\n'],\n",
       " ['автомобиль', '\\n'],\n",
       " ['операция', ' ', 'со', ' ', 'свой', ' ', 'недвижимость', '\\n'],\n",
       " ['операция', ' ', 'с', ' ', 'жилье', '\\n'],\n",
       " ['ремонт', ' ', 'жилье', '\\n'],\n",
       " ['покупка', ' ', 'жилье', '\\n'],\n",
       " ['на', ' ', 'покупка', ' ', 'свой', ' ', 'автомобиль', '\\n'],\n",
       " ['автомобиль', '\\n'],\n",
       " ['заниматься', ' ', 'высокий', ' ', 'образование', '\\n'],\n",
       " ['на', ' ', 'покупка', ' ', 'подержать', ' ', 'автомобиль', '\\n'],\n",
       " ['покупка', ' ', 'свой', ' ', 'жилье', '\\n'],\n",
       " ['строительство', ' ', 'собственный', ' ', 'недвижимость', '\\n'],\n",
       " ['ремонт', ' ', 'жилье', '\\n'],\n",
       " ['получение', ' ', 'дополнительный', ' ', 'образование', '\\n'],\n",
       " ['профильный', ' ', 'образование', '\\n'],\n",
       " ['недвижимость', '\\n'],\n",
       " ['недвижимость', '\\n'],\n",
       " ['свадьба', '\\n'],\n",
       " ['на', ' ', 'покупка', ' ', 'подержать', ' ', 'автомобиль', '\\n'],\n",
       " ['покупка', ' ', 'жилье', ' ', 'для', ' ', 'сдача', '\\n'],\n",
       " ['строительство', ' ', 'недвижимость', '\\n'],\n",
       " ['сделка', ' ', 'с', ' ', 'подержанный', ' ', 'автомобиль', '\\n'],\n",
       " ['операция', ' ', 'с', ' ', 'коммерческий', ' ', 'недвижимость', '\\n'],\n",
       " ['на', ' ', 'проведение', ' ', 'свадьба', '\\n'],\n",
       " ['строительство', ' ', 'недвижимость', '\\n'],\n",
       " ['покупка', ' ', 'коммерческий', ' ', 'недвижимость', '\\n'],\n",
       " ['дополнительный', ' ', 'образование', '\\n'],\n",
       " ['операция', ' ', 'с', ' ', 'коммерческий', ' ', 'недвижимость', '\\n'],\n",
       " ['недвижимость', '\\n'],\n",
       " ['строительство', ' ', 'жилой', ' ', 'недвижимость', '\\n'],\n",
       " ['операция', ' ', 'с', ' ', 'коммерческий', ' ', 'недвижимость', '\\n'],\n",
       " ['ремонт', ' ', 'жилье', '\\n'],\n",
       " ['недвижимость', '\\n'],\n",
       " ['покупка', ' ', 'жилой', ' ', 'недвижимость', '\\n'],\n",
       " ['заниматься', ' ', 'высокий', ' ', 'образование', '\\n'],\n",
       " ['покупка', ' ', 'жилье', ' ', 'для', ' ', 'сдача', '\\n'],\n",
       " ['дополнительный', ' ', 'образование', '\\n'],\n",
       " ['покупка', ' ', 'недвижимость', '\\n'],\n",
       " ['образование', '\\n'],\n",
       " ['покупка', ' ', 'жилье', ' ', 'для', ' ', 'семья', '\\n'],\n",
       " ['сделка', ' ', 'с', ' ', 'автомобиль', '\\n'],\n",
       " ['свой', ' ', 'автомобиль', '\\n'],\n",
       " ['строительство', ' ', 'жилой', ' ', 'недвижимость', '\\n'],\n",
       " ['на', ' ', 'покупка', ' ', 'подержать', ' ', 'автомобиль', '\\n'],\n",
       " ['на', ' ', 'проведение', ' ', 'свадьба', '\\n'],\n",
       " ['сыграть', ' ', 'свадьба', '\\n'],\n",
       " ['покупка', ' ', 'жилье', ' ', 'для', ' ', 'сдача', '\\n'],\n",
       " ['операция', ' ', 'с', ' ', 'коммерческий', ' ', 'недвижимость', '\\n'],\n",
       " ['покупка', ' ', 'жилой', ' ', 'недвижимость', '\\n'],\n",
       " ['покупка', ' ', 'недвижимость', '\\n'],\n",
       " ['покупка', ' ', 'коммерческий', ' ', 'недвижимость', '\\n'],\n",
       " ['приобретение', ' ', 'автомобиль', '\\n'],\n",
       " ['покупка', ' ', 'жилой', ' ', 'недвижимость', '\\n'],\n",
       " ['покупка', ' ', 'жилье', '\\n'],\n",
       " ['свой', ' ', 'автомобиль', '\\n'],\n",
       " ['высокий', ' ', 'образование', '\\n'],\n",
       " ['на', ' ', 'покупка', ' ', 'подержать', ' ', 'автомобиль', '\\n'],\n",
       " ['свой', ' ', 'автомобиль', '\\n'],\n",
       " ['операция', ' ', 'с', ' ', 'недвижимость', '\\n'],\n",
       " ['строительство', ' ', 'недвижимость', '\\n'],\n",
       " ['автомобиль', '\\n'],\n",
       " ['операция', ' ', 'с', ' ', 'коммерческий', ' ', 'недвижимость', '\\n'],\n",
       " ['сделка', ' ', 'с', ' ', 'подержанный', ' ', 'автомобиль', '\\n'],\n",
       " ['покупка', ' ', 'коммерческий', ' ', 'недвижимость', '\\n'],\n",
       " ['сделка', ' ', 'с', ' ', 'автомобиль', '\\n'],\n",
       " ['сделка', ' ', 'с', ' ', 'автомобиль', '\\n'],\n",
       " ['покупка', ' ', 'жилье', '\\n'],\n",
       " ['операция', ' ', 'с', ' ', 'коммерческий', ' ', 'недвижимость', '\\n'],\n",
       " ['получение', ' ', 'образование', '\\n'],\n",
       " ['заниматься', ' ', 'высокий', ' ', 'образование', '\\n'],\n",
       " ['покупка', ' ', 'жилой', ' ', 'недвижимость', '\\n'],\n",
       " ['операция', ' ', 'с', ' ', 'жилье', '\\n'],\n",
       " ['на', ' ', 'проведение', ' ', 'свадьба', '\\n'],\n",
       " ['покупка', ' ', 'жилье', ' ', 'для', ' ', 'семья', '\\n'],\n",
       " ['покупка', ' ', 'коммерческий', ' ', 'недвижимость', '\\n'],\n",
       " ['автомобиль', '\\n'],\n",
       " ['строительство', ' ', 'собственный', ' ', 'недвижимость', '\\n'],\n",
       " ['покупка', ' ', 'жилой', ' ', 'недвижимость', '\\n'],\n",
       " ['приобретение', ' ', 'автомобиль', '\\n'],\n",
       " ['строительство', ' ', 'жилой', ' ', 'недвижимость', '\\n'],\n",
       " ['свадьба', '\\n'],\n",
       " ['жилье', '\\n'],\n",
       " ['покупка', ' ', 'жилье', ' ', 'для', ' ', 'сдача', '\\n'],\n",
       " ['покупка', ' ', 'жилье', ' ', 'для', ' ', 'сдача', '\\n'],\n",
       " ['жилье', '\\n'],\n",
       " ['покупка', ' ', 'жилье', ' ', 'для', ' ', 'сдача', '\\n'],\n",
       " ['получение', ' ', 'высокий', ' ', 'образование', '\\n'],\n",
       " ['заниматься', ' ', 'высокий', ' ', 'образование', '\\n'],\n",
       " ['покупка', ' ', 'жилой', ' ', 'недвижимость', '\\n'],\n",
       " ['свадьба', '\\n'],\n",
       " ['на', ' ', 'покупка', ' ', 'подержать', ' ', 'автомобиль', '\\n'],\n",
       " ['недвижимость', '\\n'],\n",
       " ['операция', ' ', 'с', ' ', 'недвижимость', '\\n'],\n",
       " ['автомобиль', '\\n'],\n",
       " ['недвижимость', '\\n'],\n",
       " ['получение', ' ', 'образование', '\\n'],\n",
       " ['покупка', ' ', 'недвижимость', '\\n'],\n",
       " ['приобретение', ' ', 'автомобиль', '\\n'],\n",
       " ['на', ' ', 'покупка', ' ', 'подержать', ' ', 'автомобиль', '\\n'],\n",
       " ['получение', ' ', 'высокий', ' ', 'образование', '\\n'],\n",
       " ['жилье', '\\n'],\n",
       " ['ремонт', ' ', 'жилье', '\\n'],\n",
       " ['жилье', '\\n'],\n",
       " ['на', ' ', 'проведение', ' ', 'свадьба', '\\n'],\n",
       " ['покупка', ' ', 'жилье', '\\n'],\n",
       " ['сделка', ' ', 'с', ' ', 'подержанный', ' ', 'автомобиль', '\\n'],\n",
       " ['сыграть', ' ', 'свадьба', '\\n'],\n",
       " ['недвижимость', '\\n'],\n",
       " ['получение', ' ', 'образование', '\\n'],\n",
       " ['покупка', ' ', 'жилье', '\\n'],\n",
       " ['операция', ' ', 'с', ' ', 'жилье', '\\n'],\n",
       " ['автомобиль', '\\n'],\n",
       " ['дополнительный', ' ', 'образование', '\\n'],\n",
       " ['покупка', ' ', 'недвижимость', '\\n'],\n",
       " ['получение', ' ', 'образование', '\\n'],\n",
       " ['высокий', ' ', 'образование', '\\n'],\n",
       " ['покупка', ' ', 'свой', ' ', 'жилье', '\\n'],\n",
       " ['покупка', ' ', 'коммерческий', ' ', 'недвижимость', '\\n'],\n",
       " ['заниматься', ' ', 'высокий', ' ', 'образование', '\\n'],\n",
       " ['на', ' ', 'покупка', ' ', 'свой', ' ', 'автомобиль', '\\n'],\n",
       " ['недвижимость', '\\n'],\n",
       " ['жилье', '\\n'],\n",
       " ['образование', '\\n'],\n",
       " ['ремонт', ' ', 'жилье', '\\n'],\n",
       " ['операция', ' ', 'с', ' ', 'недвижимость', '\\n'],\n",
       " ['строительство', ' ', 'жилой', ' ', 'недвижимость', '\\n'],\n",
       " ['на', ' ', 'проведение', ' ', 'свадьба', '\\n'],\n",
       " ['на', ' ', 'проведение', ' ', 'свадьба', '\\n'],\n",
       " ['получение', ' ', 'высокий', ' ', 'образование', '\\n'],\n",
       " ['высокий', ' ', 'образование', '\\n'],\n",
       " ['сделка', ' ', 'с', ' ', 'подержанный', ' ', 'автомобиль', '\\n'],\n",
       " ['операция', ' ', 'со', ' ', 'свой', ' ', 'недвижимость', '\\n'],\n",
       " ['свадьба', '\\n'],\n",
       " ['операция', ' ', 'со', ' ', 'свой', ' ', 'недвижимость', '\\n'],\n",
       " ['свадьба', '\\n'],\n",
       " ['сыграть', ' ', 'свадьба', '\\n'],\n",
       " ['автомобиль', '\\n'],\n",
       " ['ремонт', ' ', 'жилье', '\\n'],\n",
       " ['жилье', '\\n'],\n",
       " ['профильный', ' ', 'образование', '\\n'],\n",
       " ['покупка', ' ', 'жилье', ' ', 'для', ' ', 'сдача', '\\n'],\n",
       " ['ремонт', ' ', 'жилье', '\\n'],\n",
       " ['свадьба', '\\n'],\n",
       " ['приобретение', ' ', 'автомобиль', '\\n'],\n",
       " ['профильный', ' ', 'образование', '\\n'],\n",
       " ['покупка', ' ', 'недвижимость', '\\n'],\n",
       " ['автомобиль', '\\n'],\n",
       " ['операция', ' ', 'со', ' ', 'свой', ' ', 'недвижимость', '\\n'],\n",
       " ['покупка', ' ', 'коммерческий', ' ', 'недвижимость', '\\n'],\n",
       " ['получение', ' ', 'высокий', ' ', 'образование', '\\n'],\n",
       " ['строительство', ' ', 'недвижимость', '\\n'],\n",
       " ['операция', ' ', 'с', ' ', 'жилье', '\\n'],\n",
       " ['операция', ' ', 'с', ' ', 'жилье', '\\n'],\n",
       " ['сыграть', ' ', 'свадьба', '\\n'],\n",
       " ['покупка', ' ', 'жилье', ' ', 'для', ' ', 'семья', '\\n'],\n",
       " ['покупка', ' ', 'жилье', ' ', 'для', ' ', 'семья', '\\n'],\n",
       " ['сыграть', ' ', 'свадьба', '\\n'],\n",
       " ['дополнительный', ' ', 'образование', '\\n'],\n",
       " ['на', ' ', 'покупка', ' ', 'подержать', ' ', 'автомобиль', '\\n'],\n",
       " ['покупка', ' ', 'жилье', ' ', 'для', ' ', 'сдача', '\\n'],\n",
       " ['покупка', ' ', 'жилой', ' ', 'недвижимость', '\\n'],\n",
       " ['сделка', ' ', 'с', ' ', 'подержанный', ' ', 'автомобиль', '\\n'],\n",
       " ['заниматься', ' ', 'высокий', ' ', 'образование', '\\n'],\n",
       " ['заниматься', ' ', 'высокий', ' ', 'образование', '\\n'],\n",
       " ['жилье', '\\n'],\n",
       " ['на', ' ', 'покупка', ' ', 'подержать', ' ', 'автомобиль', '\\n'],\n",
       " ['операция', ' ', 'с', ' ', 'недвижимость', '\\n'],\n",
       " ['свой', ' ', 'автомобиль', '\\n'],\n",
       " ['свадьба', '\\n'],\n",
       " ['профильный', ' ', 'образование', '\\n'],\n",
       " ['получение', ' ', 'дополнительный', ' ', 'образование', '\\n'],\n",
       " ['покупка', ' ', 'жилье', '\\n'],\n",
       " ['автомобиль', '\\n'],\n",
       " ['на', ' ', 'проведение', ' ', 'свадьба', '\\n'],\n",
       " ['покупка', ' ', 'свой', ' ', 'жилье', '\\n'],\n",
       " ['недвижимость', '\\n'],\n",
       " ['жилье', '\\n'],\n",
       " ['строительство', ' ', 'жилой', ' ', 'недвижимость', '\\n'],\n",
       " ['на', ' ', 'покупка', ' ', 'автомобиль', '\\n'],\n",
       " ['на', ' ', 'проведение', ' ', 'свадьба', '\\n'],\n",
       " ['автомобиль', '\\n'],\n",
       " ['свадьба', '\\n'],\n",
       " ['операция', ' ', 'с', ' ', 'коммерческий', ' ', 'недвижимость', '\\n'],\n",
       " ['строительство', ' ', 'собственный', ' ', 'недвижимость', '\\n'],\n",
       " ['профильный', ' ', 'образование', '\\n'],\n",
       " ['сыграть', ' ', 'свадьба', '\\n'],\n",
       " ['высокий', ' ', 'образование', '\\n'],\n",
       " ['покупка', ' ', 'жилье', ' ', 'для', ' ', 'семья', '\\n'],\n",
       " ['на', ' ', 'проведение', ' ', 'свадьба', '\\n'],\n",
       " ['дополнительный', ' ', 'образование', '\\n'],\n",
       " ['строительство', ' ', 'собственный', ' ', 'недвижимость', '\\n'],\n",
       " ['покупка', ' ', 'недвижимость', '\\n'],\n",
       " ['операция', ' ', 'со', ' ', 'свой', ' ', 'недвижимость', '\\n'],\n",
       " ['на', ' ', 'покупка', ' ', 'свой', ' ', 'автомобиль', '\\n'],\n",
       " ['высокий', ' ', 'образование', '\\n'],\n",
       " ['получение', ' ', 'дополнительный', ' ', 'образование', '\\n'],\n",
       " ['на', ' ', 'покупка', ' ', 'подержать', ' ', 'автомобиль', '\\n'],\n",
       " ['недвижимость', '\\n'],\n",
       " ['недвижимость', '\\n'],\n",
       " ['свадьба', '\\n'],\n",
       " ['жилье', '\\n'],\n",
       " ['свой', ' ', 'автомобиль', '\\n'],\n",
       " ['жилье', '\\n'],\n",
       " ['недвижимость', '\\n'],\n",
       " ['сделка', ' ', 'с', ' ', 'подержанный', ' ', 'автомобиль', '\\n'],\n",
       " ['покупка', ' ', 'жилой', ' ', 'недвижимость', '\\n'],\n",
       " ['на', ' ', 'покупка', ' ', 'автомобиль', '\\n'],\n",
       " ['автомобиль', '\\n'],\n",
       " ['строительство', ' ', 'недвижимость', '\\n'],\n",
       " ['на', ' ', 'проведение', ' ', 'свадьба', '\\n'],\n",
       " ['покупка', ' ', 'свой', ' ', 'жилье', '\\n'],\n",
       " ['строительство', ' ', 'жилой', ' ', 'недвижимость', '\\n'],\n",
       " ['заниматься', ' ', 'высокий', ' ', 'образование', '\\n'],\n",
       " ['на', ' ', 'покупка', ' ', 'автомобиль', '\\n'],\n",
       " ['покупка', ' ', 'недвижимость', '\\n'],\n",
       " ['на', ' ', 'проведение', ' ', 'свадьба', '\\n'],\n",
       " ['покупка', ' ', 'жилой', ' ', 'недвижимость', '\\n'],\n",
       " ['приобретение', ' ', 'автомобиль', '\\n'],\n",
       " ['ремонт', ' ', 'жилье', '\\n'],\n",
       " ['образование', '\\n'],\n",
       " ['на', ' ', 'проведение', ' ', 'свадьба', '\\n'],\n",
       " ['строительство', ' ', 'жилой', ' ', 'недвижимость', '\\n'],\n",
       " ['покупка', ' ', 'недвижимость', '\\n'],\n",
       " ['покупка', ' ', 'жилой', ' ', 'недвижимость', '\\n'],\n",
       " ['профильный', ' ', 'образование', '\\n'],\n",
       " ['покупка', ' ', 'жилье', ' ', 'для', ' ', 'семья', '\\n'],\n",
       " ['сыграть', ' ', 'свадьба', '\\n'],\n",
       " ['свадьба', '\\n'],\n",
       " ['приобретение', ' ', 'автомобиль', '\\n'],\n",
       " ['высокий', ' ', 'образование', '\\n'],\n",
       " ['сыграть', ' ', 'свадьба', '\\n'],\n",
       " ['строительство', ' ', 'недвижимость', '\\n'],\n",
       " ['операция', ' ', 'со', ' ', 'свой', ' ', 'недвижимость', '\\n'],\n",
       " ['операция', ' ', 'с', ' ', 'коммерческий', ' ', 'недвижимость', '\\n'],\n",
       " ['автомобиль', '\\n'],\n",
       " ['операция', ' ', 'с', ' ', 'жилье', '\\n'],\n",
       " ['строительство', ' ', 'жилой', ' ', 'недвижимость', '\\n'],\n",
       " ['на', ' ', 'проведение', ' ', 'свадьба', '\\n'],\n",
       " ['автомобиль', '\\n'],\n",
       " ['операция', ' ', 'с', ' ', 'коммерческий', ' ', 'недвижимость', '\\n'],\n",
       " ['покупка', ' ', 'свой', ' ', 'жилье', '\\n'],\n",
       " ['покупка', ' ', 'коммерческий', ' ', 'недвижимость', '\\n'],\n",
       " ['автомобиль', '\\n'],\n",
       " ['сыграть', ' ', 'свадьба', '\\n'],\n",
       " ['операция', ' ', 'с', ' ', 'жилье', '\\n'],\n",
       " ['автомобиль', '\\n'],\n",
       " ['покупка', ' ', 'жилье', '\\n'],\n",
       " ['на', ' ', 'покупка', ' ', 'подержать', ' ', 'автомобиль', '\\n'],\n",
       " ['покупка', ' ', 'коммерческий', ' ', 'недвижимость', '\\n'],\n",
       " ['недвижимость', '\\n'],\n",
       " ['свадьба', '\\n'],\n",
       " ['сыграть', ' ', 'свадьба', '\\n'],\n",
       " ['строительство', ' ', 'недвижимость', '\\n'],\n",
       " ['строительство', ' ', 'недвижимость', '\\n'],\n",
       " ['сыграть', ' ', 'свадьба', '\\n'],\n",
       " ['сыграть', ' ', 'свадьба', '\\n'],\n",
       " ['сделка', ' ', 'с', ' ', 'подержанный', ' ', 'автомобиль', '\\n'],\n",
       " ['операция', ' ', 'с', ' ', 'коммерческий', ' ', 'недвижимость', '\\n'],\n",
       " ['операция', ' ', 'с', ' ', 'недвижимость', '\\n'],\n",
       " ['покупка', ' ', 'недвижимость', '\\n'],\n",
       " ['операция', ' ', 'с', ' ', 'коммерческий', ' ', 'недвижимость', '\\n'],\n",
       " ['строительство', ' ', 'жилой', ' ', 'недвижимость', '\\n'],\n",
       " ['строительство', ' ', 'недвижимость', '\\n'],\n",
       " ['получение', ' ', 'высокий', ' ', 'образование', '\\n'],\n",
       " ['сделка', ' ', 'с', ' ', 'подержанный', ' ', 'автомобиль', '\\n'],\n",
       " ['операция', ' ', 'с', ' ', 'жилье', '\\n'],\n",
       " ['сыграть', ' ', 'свадьба', '\\n'],\n",
       " ['образование', '\\n'],\n",
       " ['образование', '\\n'],\n",
       " ['на', ' ', 'покупка', ' ', 'автомобиль', '\\n'],\n",
       " ['высокий', ' ', 'образование', '\\n'],\n",
       " ['операция', ' ', 'с', ' ', 'жилье', '\\n'],\n",
       " ['приобретение', ' ', 'автомобиль', '\\n'],\n",
       " ['заниматься', ' ', 'высокий', ' ', 'образование', '\\n'],\n",
       " ['сыграть', ' ', 'свадьба', '\\n'],\n",
       " ['на', ' ', 'покупка', ' ', 'свой', ' ', 'автомобиль', '\\n'],\n",
       " ['покупка', ' ', 'жилой', ' ', 'недвижимость', '\\n'],\n",
       " ['покупка', ' ', 'недвижимость', '\\n'],\n",
       " ['покупка', ' ', 'жилье', '\\n'],\n",
       " ['операция', ' ', 'с', ' ', 'жилье', '\\n'],\n",
       " ['ремонт', ' ', 'жилье', '\\n'],\n",
       " ['недвижимость', '\\n'],\n",
       " ['жилье', '\\n'],\n",
       " ['покупка', ' ', 'коммерческий', ' ', 'недвижимость', '\\n'],\n",
       " ['сделка', ' ', 'с', ' ', 'автомобиль', '\\n'],\n",
       " ['на', ' ', 'покупка', ' ', 'автомобиль', '\\n'],\n",
       " ['покупка', ' ', 'недвижимость', '\\n'],\n",
       " ['на', ' ', 'покупка', ' ', 'подержать', ' ', 'автомобиль', '\\n'],\n",
       " ['покупка', ' ', 'жилье', '\\n'],\n",
       " ['покупка', ' ', 'коммерческий', ' ', 'недвижимость', '\\n'],\n",
       " ['сыграть', ' ', 'свадьба', '\\n'],\n",
       " ['на', ' ', 'проведение', ' ', 'свадьба', '\\n'],\n",
       " ['дополнительный', ' ', 'образование', '\\n'],\n",
       " ['строительство', ' ', 'жилой', ' ', 'недвижимость', '\\n'],\n",
       " ['операция', ' ', 'с', ' ', 'жилье', '\\n'],\n",
       " ['операция', ' ', 'с', ' ', 'жилье', '\\n'],\n",
       " ['на', ' ', 'проведение', ' ', 'свадьба', '\\n'],\n",
       " ['на', ' ', 'проведение', ' ', 'свадьба', '\\n'],\n",
       " ['профильный', ' ', 'образование', '\\n'],\n",
       " ['сделка', ' ', 'с', ' ', 'подержанный', ' ', 'автомобиль', '\\n'],\n",
       " ['образование', '\\n'],\n",
       " ['строительство', ' ', 'собственный', ' ', 'недвижимость', '\\n'],\n",
       " ['образование', '\\n'],\n",
       " ['дополнительный', ' ', 'образование', '\\n'],\n",
       " ['на', ' ', 'покупка', ' ', 'свой', ' ', 'автомобиль', '\\n'],\n",
       " ['на', ' ', 'проведение', ' ', 'свадьба', '\\n'],\n",
       " ['покупка', ' ', 'жилье', '\\n'],\n",
       " ['операция', ' ', 'со', ' ', 'свой', ' ', 'недвижимость', '\\n'],\n",
       " ['операция', ' ', 'с', ' ', 'недвижимость', '\\n'],\n",
       " ['строительство', ' ', 'недвижимость', '\\n'],\n",
       " ['на', ' ', 'покупка', ' ', 'автомобиль', '\\n'],\n",
       " ['операция', ' ', 'с', ' ', 'коммерческий', ' ', 'недвижимость', '\\n'],\n",
       " ['строительство', ' ', 'собственный', ' ', 'недвижимость', '\\n'],\n",
       " ['на', ' ', 'покупка', ' ', 'подержать', ' ', 'автомобиль', '\\n'],\n",
       " ['на', ' ', 'покупка', ' ', 'свой', ' ', 'автомобиль', '\\n'],\n",
       " ['сыграть', ' ', 'свадьба', '\\n'],\n",
       " ['сделка', ' ', 'с', ' ', 'подержанный', ' ', 'автомобиль', '\\n'],\n",
       " ['покупка', ' ', 'жилье', ' ', 'для', ' ', 'семья', '\\n'],\n",
       " ['покупка', ' ', 'жилье', '\\n'],\n",
       " ['покупка', ' ', 'жилье', ' ', 'для', ' ', 'семья', '\\n'],\n",
       " ['ремонт', ' ', 'жилье', '\\n'],\n",
       " ['строительство', ' ', 'недвижимость', '\\n'],\n",
       " ['покупка', ' ', 'жилье', ' ', 'для', ' ', 'семья', '\\n'],\n",
       " ['сыграть', ' ', 'свадьба', '\\n'],\n",
       " ['покупка', ' ', 'недвижимость', '\\n'],\n",
       " ['строительство', ' ', 'недвижимость', '\\n'],\n",
       " ['свой', ' ', 'автомобиль', '\\n'],\n",
       " ['сделка', ' ', 'с', ' ', 'автомобиль', '\\n'],\n",
       " ['операция', ' ', 'с', ' ', 'жилье', '\\n'],\n",
       " ['покупка', ' ', 'жилье', '\\n'],\n",
       " ['жилье', '\\n'],\n",
       " ['операция', ' ', 'с', ' ', 'коммерческий', ' ', 'недвижимость', '\\n'],\n",
       " ['операция', ' ', 'с', ' ', 'коммерческий', ' ', 'недвижимость', '\\n'],\n",
       " ['на', ' ', 'покупка', ' ', 'подержать', ' ', 'автомобиль', '\\n'],\n",
       " ['строительство', ' ', 'недвижимость', '\\n'],\n",
       " ['жилье', '\\n'],\n",
       " ['высокий', ' ', 'образование', '\\n'],\n",
       " ['операция', ' ', 'со', ' ', 'свой', ' ', 'недвижимость', '\\n'],\n",
       " ['строительство', ' ', 'жилой', ' ', 'недвижимость', '\\n'],\n",
       " ['покупка', ' ', 'жилье', ' ', 'для', ' ', 'сдача', '\\n'],\n",
       " ['заниматься', ' ', 'образование', '\\n'],\n",
       " ['на', ' ', 'покупка', ' ', 'подержать', ' ', 'автомобиль', '\\n'],\n",
       " ['свадьба', '\\n'],\n",
       " ['дополнительный', ' ', 'образование', '\\n'],\n",
       " ['сыграть', ' ', 'свадьба', '\\n'],\n",
       " ['на', ' ', 'покупка', ' ', 'свой', ' ', 'автомобиль', '\\n'],\n",
       " ['приобретение', ' ', 'автомобиль', '\\n'],\n",
       " ['сыграть', ' ', 'свадьба', '\\n'],\n",
       " ['на', ' ', 'покупка', ' ', 'автомобиль', '\\n'],\n",
       " ['покупка', ' ', 'жилье', ' ', 'для', ' ', 'семья', '\\n'],\n",
       " ['сыграть', ' ', 'свадьба', '\\n'],\n",
       " ['профильный', ' ', 'образование', '\\n'],\n",
       " ['получение', ' ', 'образование', '\\n'],\n",
       " ['профильный', ' ', 'образование', '\\n'],\n",
       " ['покупка', ' ', 'свой', ' ', 'жилье', '\\n'],\n",
       " ['покупка', ' ', 'жилье', ' ', 'для', ' ', 'сдача', '\\n'],\n",
       " ['покупка', ' ', 'свой', ' ', 'жилье', '\\n'],\n",
       " ['сделка', ' ', 'с', ' ', 'подержанный', ' ', 'автомобиль', '\\n'],\n",
       " ['операция', ' ', 'со', ' ', 'свой', ' ', 'недвижимость', '\\n'],\n",
       " ['строительство', ' ', 'жилой', ' ', 'недвижимость', '\\n'],\n",
       " ['покупка', ' ', 'жилье', ' ', 'для', ' ', 'семья', '\\n'],\n",
       " ['операция', ' ', 'с', ' ', 'недвижимость', '\\n'],\n",
       " ['образование', '\\n'],\n",
       " ['строительство', ' ', 'жилой', ' ', 'недвижимость', '\\n'],\n",
       " ['заниматься', ' ', 'образование', '\\n'],\n",
       " ['на', ' ', 'покупка', ' ', 'автомобиль', '\\n'],\n",
       " ['на', ' ', 'проведение', ' ', 'свадьба', '\\n'],\n",
       " ['ремонт', ' ', 'жилье', '\\n'],\n",
       " ['недвижимость', '\\n'],\n",
       " ['покупка', ' ', 'жилой', ' ', 'недвижимость', '\\n'],\n",
       " ['приобретение', ' ', 'автомобиль', '\\n'],\n",
       " ['приобретение', ' ', 'автомобиль', '\\n'],\n",
       " ['покупка', ' ', 'недвижимость', '\\n'],\n",
       " ['ремонт', ' ', 'жилье', '\\n'],\n",
       " ['операция', ' ', 'с', ' ', 'коммерческий', ' ', 'недвижимость', '\\n'],\n",
       " ['на', ' ', 'покупка', ' ', 'подержать', ' ', 'автомобиль', '\\n'],\n",
       " ['покупка', ' ', 'жилой', ' ', 'недвижимость', '\\n'],\n",
       " ['недвижимость', '\\n'],\n",
       " ['операция', ' ', 'с', ' ', 'жилье', '\\n'],\n",
       " ['покупка', ' ', 'жилье', '\\n'],\n",
       " ['автомобиль', '\\n'],\n",
       " ['профильный', ' ', 'образование', '\\n'],\n",
       " ['заниматься', ' ', 'образование', '\\n'],\n",
       " ['покупка', ' ', 'жилье', ' ', 'для', ' ', 'семья', '\\n'],\n",
       " ['строительство', ' ', 'недвижимость', '\\n'],\n",
       " ['покупка', ' ', 'жилье', ' ', 'для', ' ', 'сдача', '\\n'],\n",
       " ['операция', ' ', 'с', ' ', 'коммерческий', ' ', 'недвижимость', '\\n'],\n",
       " ['операция', ' ', 'с', ' ', 'недвижимость', '\\n'],\n",
       " ['получение', ' ', 'высокий', ' ', 'образование', '\\n'],\n",
       " ['приобретение', ' ', 'автомобиль', '\\n'],\n",
       " ['операция', ' ', 'с', ' ', 'жилье', '\\n'],\n",
       " ['на', ' ', 'покупка', ' ', 'подержать', ' ', 'автомобиль', '\\n'],\n",
       " ['на', ' ', 'покупка', ' ', 'свой', ' ', 'автомобиль', '\\n'],\n",
       " ['покупка', ' ', 'коммерческий', ' ', 'недвижимость', '\\n'],\n",
       " ['на', ' ', 'проведение', ' ', 'свадьба', '\\n'],\n",
       " ['операция', ' ', 'с', ' ', 'жилье', '\\n'],\n",
       " ['недвижимость', '\\n'],\n",
       " ['сыграть', ' ', 'свадьба', '\\n'],\n",
       " ['получение', ' ', 'образование', '\\n'],\n",
       " ['заниматься', ' ', 'образование', '\\n'],\n",
       " ['недвижимость', '\\n'],\n",
       " ['покупка', ' ', 'жилье', ' ', 'для', ' ', 'семья', '\\n'],\n",
       " ['заниматься', ' ', 'высокий', ' ', 'образование', '\\n'],\n",
       " ['покупка', ' ', 'жилье', ' ', 'для', ' ', 'семья', '\\n'],\n",
       " ['покупка', ' ', 'жилой', ' ', 'недвижимость', '\\n'],\n",
       " ['сыграть', ' ', 'свадьба', '\\n'],\n",
       " ['сделка', ' ', 'с', ' ', 'автомобиль', '\\n'],\n",
       " ['покупка', ' ', 'жилье', '\\n'],\n",
       " ['высокий', ' ', 'образование', '\\n'],\n",
       " ['строительство', ' ', 'собственный', ' ', 'недвижимость', '\\n'],\n",
       " ['образование', '\\n'],\n",
       " ['покупка', ' ', 'свой', ' ', 'жилье', '\\n'],\n",
       " ['на', ' ', 'проведение', ' ', 'свадьба', '\\n'],\n",
       " ['ремонт', ' ', 'жилье', '\\n'],\n",
       " ['свой', ' ', 'автомобиль', '\\n'],\n",
       " ['ремонт', ' ', 'жилье', '\\n'],\n",
       " ['покупка', ' ', 'жилье', ' ', 'для', ' ', 'сдача', '\\n'],\n",
       " ['свой', ' ', 'автомобиль', '\\n'],\n",
       " ['на', ' ', 'покупка', ' ', 'подержать', ' ', 'автомобиль', '\\n'],\n",
       " ['покупка', ' ', 'коммерческий', ' ', 'недвижимость', '\\n'],\n",
       " ['на', ' ', 'покупка', ' ', 'автомобиль', '\\n'],\n",
       " ['сделка', ' ', 'с', ' ', 'подержанный', ' ', 'автомобиль', '\\n'],\n",
       " ['сыграть', ' ', 'свадьба', '\\n'],\n",
       " ['получение', ' ', 'образование', '\\n'],\n",
       " ['покупка', ' ', 'жилье', ' ', 'для', ' ', 'сдача', '\\n'],\n",
       " ['высокий', ' ', 'образование', '\\n'],\n",
       " ['сделка', ' ', 'с', ' ', 'подержанный', ' ', 'автомобиль', '\\n'],\n",
       " ['покупка', ' ', 'жилье', '\\n'],\n",
       " ['приобретение', ' ', 'автомобиль', '\\n'],\n",
       " ['строительство', ' ', 'собственный', ' ', 'недвижимость', '\\n'],\n",
       " ['строительство', ' ', 'недвижимость', '\\n'],\n",
       " ['покупка', ' ', 'свой', ' ', 'жилье', '\\n'],\n",
       " ['получение', ' ', 'дополнительный', ' ', 'образование', '\\n'],\n",
       " ['операция', ' ', 'с', ' ', 'недвижимость', '\\n'],\n",
       " ['на', ' ', 'покупка', ' ', 'автомобиль', '\\n'],\n",
       " ['покупка', ' ', 'жилье', ' ', 'для', ' ', 'сдача', '\\n'],\n",
       " ['покупка', ' ', 'недвижимость', '\\n'],\n",
       " ['операция', ' ', 'с', ' ', 'жилье', '\\n'],\n",
       " ['покупка', ' ', 'жилье', '\\n'],\n",
       " ['покупка', ' ', 'коммерческий', ' ', 'недвижимость', '\\n'],\n",
       " ['операция', ' ', 'с', ' ', 'недвижимость', '\\n'],\n",
       " ['автомобиль', '\\n'],\n",
       " ['покупка', ' ', 'жилой', ' ', 'недвижимость', '\\n'],\n",
       " ['покупка', ' ', 'недвижимость', '\\n'],\n",
       " ['недвижимость', '\\n'],\n",
       " ['сделка', ' ', 'с', ' ', 'автомобиль', '\\n'],\n",
       " ['сделка', ' ', 'с', ' ', 'подержанный', ' ', 'автомобиль', '\\n'],\n",
       " ['автомобиль', '\\n'],\n",
       " ['заниматься', ' ', 'высокий', ' ', 'образование', '\\n'],\n",
       " ['покупка', ' ', 'жилой', ' ', 'недвижимость', '\\n'],\n",
       " ['свадьба', '\\n'],\n",
       " ['ремонт', ' ', 'жилье', '\\n'],\n",
       " ['заниматься', ' ', 'высокий', ' ', 'образование', '\\n'],\n",
       " ['получение', ' ', 'образование', '\\n'],\n",
       " ['операция', ' ', 'со', ' ', 'свой', ' ', 'недвижимость', '\\n'],\n",
       " ['заниматься', ' ', 'высокий', ' ', 'образование', '\\n'],\n",
       " ['недвижимость', '\\n'],\n",
       " ['операция', ' ', 'с', ' ', 'жилье', '\\n'],\n",
       " ['покупка', ' ', 'жилье', ' ', 'для', ' ', 'сдача', '\\n'],\n",
       " ['покупка', ' ', 'жилье', ' ', 'для', ' ', 'сдача', '\\n'],\n",
       " ['операция', ' ', 'с', ' ', 'жилье', '\\n'],\n",
       " ['покупка', ' ', 'жилье', '\\n'],\n",
       " ['образование', '\\n'],\n",
       " ['на', ' ', 'проведение', ' ', 'свадьба', '\\n'],\n",
       " ['автомобиль', '\\n'],\n",
       " ['дополнительный', ' ', 'образование', '\\n'],\n",
       " ['операция', ' ', 'со', ' ', 'свой', ' ', 'недвижимость', '\\n'],\n",
       " ['строительство', ' ', 'собственный', ' ', 'недвижимость', '\\n'],\n",
       " ['покупка', ' ', 'недвижимость', '\\n'],\n",
       " ['операция', ' ', 'с', ' ', 'жилье', '\\n'],\n",
       " ['покупка', ' ', 'жилье', '\\n'],\n",
       " ['операция', ' ', 'с', ' ', 'недвижимость', '\\n'],\n",
       " ['операция', ' ', 'с', ' ', 'коммерческий', ' ', 'недвижимость', '\\n'],\n",
       " ['заниматься', ' ', 'высокий', ' ', 'образование', '\\n'],\n",
       " ['операция', ' ', 'со', ' ', 'свой', ' ', 'недвижимость', '\\n'],\n",
       " ['свадьба', '\\n'],\n",
       " ['дополнительный', ' ', 'образование', '\\n'],\n",
       " ['покупка', ' ', 'недвижимость', '\\n'],\n",
       " ['покупка', ' ', 'жилой', ' ', 'недвижимость', '\\n'],\n",
       " ['свой', ' ', 'автомобиль', '\\n'],\n",
       " ['строительство', ' ', 'собственный', ' ', 'недвижимость', '\\n'],\n",
       " ['операция', ' ', 'со', ' ', 'свой', ' ', 'недвижимость', '\\n'],\n",
       " ['операция', ' ', 'с', ' ', 'коммерческий', ' ', 'недвижимость', '\\n'],\n",
       " ['сыграть', ' ', 'свадьба', '\\n'],\n",
       " ['свадьба', '\\n'],\n",
       " ['покупка', ' ', 'жилье', ' ', 'для', ' ', 'сдача', '\\n'],\n",
       " ['покупка', ' ', 'жилье', '\\n'],\n",
       " ['заниматься', ' ', 'высокий', ' ', 'образование', '\\n'],\n",
       " ['на', ' ', 'покупка', ' ', 'свой', ' ', 'автомобиль', '\\n'],\n",
       " ['покупка', ' ', 'жилье', ' ', 'для', ' ', 'сдача', '\\n'],\n",
       " ['жилье', '\\n'],\n",
       " ['ремонт', ' ', 'жилье', '\\n'],\n",
       " ['покупка', ' ', 'свой', ' ', 'жилье', '\\n'],\n",
       " ['операция', ' ', 'с', ' ', 'недвижимость', '\\n'],\n",
       " ['покупка', ' ', 'жилье', '\\n'],\n",
       " ['получение', ' ', 'дополнительный', ' ', 'образование', '\\n'],\n",
       " ['свой', ' ', 'автомобиль', '\\n'],\n",
       " ['профильный', ' ', 'образование', '\\n'],\n",
       " ['недвижимость', '\\n'],\n",
       " ['покупка', ' ', 'недвижимость', '\\n'],\n",
       " ['операция', ' ', 'с', ' ', 'недвижимость', '\\n'],\n",
       " ['высокий', ' ', 'образование', '\\n'],\n",
       " ['покупка', ' ', 'недвижимость', '\\n'],\n",
       " ['покупка', ' ', 'жилье', ' ', 'для', ' ', 'сдача', '\\n'],\n",
       " ['строительство', ' ', 'жилой', ' ', 'недвижимость', '\\n'],\n",
       " ['ремонт', ' ', 'жилье', '\\n'],\n",
       " ['покупка', ' ', 'жилье', ' ', 'для', ' ', 'сдача', '\\n'],\n",
       " ['покупка', ' ', 'жилой', ' ', 'недвижимость', '\\n'],\n",
       " ['приобретение', ' ', 'автомобиль', '\\n'],\n",
       " ['автомобиль', '\\n'],\n",
       " ['покупка', ' ', 'жилой', ' ', 'недвижимость', '\\n'],\n",
       " ['строительство', ' ', 'недвижимость', '\\n'],\n",
       " ['операция', ' ', 'со', ' ', 'свой', ' ', 'недвижимость', '\\n'],\n",
       " ['заниматься', ' ', 'образование', '\\n'],\n",
       " ['высокий', ' ', 'образование', '\\n'],\n",
       " ['операция', ' ', 'с', ' ', 'недвижимость', '\\n'],\n",
       " ['свой', ' ', 'автомобиль', '\\n'],\n",
       " ['операция', ' ', 'со', ' ', 'свой', ' ', 'недвижимость', '\\n'],\n",
       " ['получение', ' ', 'дополнительный', ' ', 'образование', '\\n'],\n",
       " ['на', ' ', 'проведение', ' ', 'свадьба', '\\n'],\n",
       " ['получение', ' ', 'дополнительный', ' ', 'образование', '\\n'],\n",
       " ['свадьба', '\\n'],\n",
       " ['дополнительный', ' ', 'образование', '\\n'],\n",
       " ['дополнительный', ' ', 'образование', '\\n'],\n",
       " ['операция', ' ', 'с', ' ', 'коммерческий', ' ', 'недвижимость', '\\n'],\n",
       " ['получение', ' ', 'образование', '\\n'],\n",
       " ['строительство', ' ', 'собственный', ' ', 'недвижимость', '\\n'],\n",
       " ['покупка', ' ', 'коммерческий', ' ', 'недвижимость', '\\n'],\n",
       " ['получение', ' ', 'дополнительный', ' ', 'образование', '\\n'],\n",
       " ['операция', ' ', 'с', ' ', 'недвижимость', '\\n'],\n",
       " ['жилье', '\\n'],\n",
       " ['автомобиль', '\\n'],\n",
       " ['покупка', ' ', 'коммерческий', ' ', 'недвижимость', '\\n'],\n",
       " ['автомобиль', '\\n'],\n",
       " ['автомобиль', '\\n'],\n",
       " ['на', ' ', 'покупка', ' ', 'автомобиль', '\\n'],\n",
       " ['сыграть', ' ', 'свадьба', '\\n'],\n",
       " ['ремонт', ' ', 'жилье', '\\n'],\n",
       " ['ремонт', ' ', 'жилье', '\\n'],\n",
       " ['получение', ' ', 'высокий', ' ', 'образование', '\\n'],\n",
       " ['автомобиль', '\\n'],\n",
       " ['на', ' ', 'проведение', ' ', 'свадьба', '\\n'],\n",
       " ['профильный', ' ', 'образование', '\\n'],\n",
       " ['свадьба', '\\n'],\n",
       " ['строительство', ' ', 'жилой', ' ', 'недвижимость', '\\n'],\n",
       " ['покупка', ' ', 'коммерческий', ' ', 'недвижимость', '\\n'],\n",
       " ['операция', ' ', 'с', ' ', 'недвижимость', '\\n'],\n",
       " ['покупка', ' ', 'жилье', ' ', 'для', ' ', 'семья', '\\n'],\n",
       " ['строительство', ' ', 'собственный', ' ', 'недвижимость', '\\n'],\n",
       " ['получение', ' ', 'образование', '\\n'],\n",
       " ['автомобиль', '\\n'],\n",
       " ['покупка', ' ', 'жилье', '\\n'],\n",
       " ['получение', ' ', 'образование', '\\n'],\n",
       " ['покупка', ' ', 'жилье', '\\n'],\n",
       " ['строительство', ' ', 'жилой', ' ', 'недвижимость', '\\n'],\n",
       " ['высокий', ' ', 'образование', '\\n'],\n",
       " ['покупка', ' ', 'жилье', ' ', 'для', ' ', 'семья', '\\n'],\n",
       " ['покупка', ' ', 'жилье', '\\n'],\n",
       " ['покупка', ' ', 'жилье', '\\n'],\n",
       " ['строительство', ' ', 'недвижимость', '\\n'],\n",
       " ['заниматься', ' ', 'высокий', ' ', 'образование', '\\n'],\n",
       " ['операция', ' ', 'с', ' ', 'жилье', '\\n'],\n",
       " ['на', ' ', 'проведение', ' ', 'свадьба', '\\n'],\n",
       " ['жилье', '\\n'],\n",
       " ['недвижимость', '\\n'],\n",
       " ['на', ' ', 'покупка', ' ', 'автомобиль', '\\n'],\n",
       " ['приобретение', ' ', 'автомобиль', '\\n'],\n",
       " ['строительство', ' ', 'недвижимость', '\\n'],\n",
       " ['покупка', ' ', 'коммерческий', ' ', 'недвижимость', '\\n'],\n",
       " ['сыграть', ' ', 'свадьба', '\\n'],\n",
       " ['жилье', '\\n'],\n",
       " ['на', ' ', 'покупка', ' ', 'подержать', ' ', 'автомобиль', '\\n'],\n",
       " ['свадьба', '\\n'],\n",
       " ['строительство', ' ', 'недвижимость', '\\n'],\n",
       " ['дополнительный', ' ', 'образование', '\\n'],\n",
       " ['получение', ' ', 'дополнительный', ' ', 'образование', '\\n'],\n",
       " ['операция', ' ', 'с', ' ', 'жилье', '\\n'],\n",
       " ['операция', ' ', 'с', ' ', 'недвижимость', '\\n'],\n",
       " ['строительство', ' ', 'жилой', ' ', 'недвижимость', '\\n'],\n",
       " ['строительство', ' ', 'жилой', ' ', 'недвижимость', '\\n'],\n",
       " ['покупка', ' ', 'жилье', ' ', 'для', ' ', 'семья', '\\n'],\n",
       " ['покупка', ' ', 'свой', ' ', 'жилье', '\\n'],\n",
       " ['операция', ' ', 'с', ' ', 'коммерческий', ' ', 'недвижимость', '\\n'],\n",
       " ['на', ' ', 'покупка', ' ', 'автомобиль', '\\n'],\n",
       " ['операция', ' ', 'с', ' ', 'жилье', '\\n'],\n",
       " ['недвижимость', '\\n'],\n",
       " ['ремонт', ' ', 'жилье', '\\n'],\n",
       " ['операция', ' ', 'с', ' ', 'недвижимость', '\\n'],\n",
       " ['покупка', ' ', 'жилой', ' ', 'недвижимость', '\\n'],\n",
       " ['покупка', ' ', 'жилой', ' ', 'недвижимость', '\\n'],\n",
       " ['приобретение', ' ', 'автомобиль', '\\n'],\n",
       " ['ремонт', ' ', 'жилье', '\\n'],\n",
       " ['высокий', ' ', 'образование', '\\n'],\n",
       " ['на', ' ', 'покупка', ' ', 'свой', ' ', 'автомобиль', '\\n'],\n",
       " ['профильный', ' ', 'образование', '\\n'],\n",
       " ['покупка', ' ', 'жилой', ' ', 'недвижимость', '\\n'],\n",
       " ['сделка', ' ', 'с', ' ', 'подержанный', ' ', 'автомобиль', '\\n'],\n",
       " ['заниматься', ' ', 'высокий', ' ', 'образование', '\\n'],\n",
       " ['жилье', '\\n'],\n",
       " ['строительство', ' ', 'недвижимость', '\\n'],\n",
       " ['ремонт', ' ', 'жилье', '\\n'],\n",
       " ['покупка', ' ', 'жилье', '\\n'],\n",
       " ['получение', ' ', 'дополнительный', ' ', 'образование', '\\n'],\n",
       " ['на', ' ', 'покупка', ' ', 'подержать', ' ', 'автомобиль', '\\n'],\n",
       " ['сделка', ' ', 'с', ' ', 'подержанный', ' ', 'автомобиль', '\\n'],\n",
       " ['строительство', ' ', 'жилой', ' ', 'недвижимость', '\\n'],\n",
       " ['получение', ' ', 'высокий', ' ', 'образование', '\\n'],\n",
       " ['на', ' ', 'покупка', ' ', 'свой', ' ', 'автомобиль', '\\n'],\n",
       " ['операция', ' ', 'с', ' ', 'недвижимость', '\\n'],\n",
       " ['свадьба', '\\n'],\n",
       " ['операция', ' ', 'с', ' ', 'коммерческий', ' ', 'недвижимость', '\\n'],\n",
       " ['ремонт', ' ', 'жилье', '\\n'],\n",
       " ['покупка', ' ', 'коммерческий', ' ', 'недвижимость', '\\n'],\n",
       " ['покупка', ' ', 'коммерческий', ' ', 'недвижимость', '\\n'],\n",
       " ['операция', ' ', 'с', ' ', 'недвижимость', '\\n'],\n",
       " ['операция', ' ', 'с', ' ', 'недвижимость', '\\n'],\n",
       " ['на', ' ', 'покупка', ' ', 'автомобиль', '\\n'],\n",
       " ['строительство', ' ', 'жилой', ' ', 'недвижимость', '\\n'],\n",
       " ['получение', ' ', 'образование', '\\n'],\n",
       " ['покупка', ' ', 'жилье', ' ', 'для', ' ', 'сдача', '\\n'],\n",
       " ['строительство', ' ', 'жилой', ' ', 'недвижимость', '\\n'],\n",
       " ['автомобиль', '\\n'],\n",
       " ['на', ' ', 'покупка', ' ', 'подержать', ' ', 'автомобиль', '\\n'],\n",
       " ['сыграть', ' ', 'свадьба', '\\n'],\n",
       " ['получение', ' ', 'образование', '\\n'],\n",
       " ['покупка', ' ', 'жилье', '\\n'],\n",
       " ['на', ' ', 'покупка', ' ', 'свой', ' ', 'автомобиль', '\\n'],\n",
       " ['свадьба', '\\n'],\n",
       " ['получение', ' ', 'образование', '\\n'],\n",
       " ['сыграть', ' ', 'свадьба', '\\n'],\n",
       " ['ремонт', ' ', 'жилье', '\\n'],\n",
       " ['автомобиль', '\\n'],\n",
       " ['строительство', ' ', 'жилой', ' ', 'недвижимость', '\\n'],\n",
       " ['на', ' ', 'проведение', ' ', 'свадьба', '\\n'],\n",
       " ['покупка', ' ', 'недвижимость', '\\n'],\n",
       " ['сделка', ' ', 'с', ' ', 'автомобиль', '\\n'],\n",
       " ['на', ' ', 'покупка', ' ', 'свой', ' ', 'автомобиль', '\\n'],\n",
       " ['покупка', ' ', 'свой', ' ', 'жилье', '\\n'],\n",
       " ['на', ' ', 'покупка', ' ', 'свой', ' ', 'автомобиль', '\\n'],\n",
       " ['заниматься', ' ', 'образование', '\\n'],\n",
       " ['операция', ' ', 'с', ' ', 'жилье', '\\n'],\n",
       " ['получение', ' ', 'дополнительный', ' ', 'образование', '\\n'],\n",
       " ['покупка', ' ', 'жилье', ' ', 'для', ' ', 'сдача', '\\n'],\n",
       " ['покупка', ' ', 'недвижимость', '\\n'],\n",
       " ['свадьба', '\\n'],\n",
       " ['на', ' ', 'покупка', ' ', 'свой', ' ', 'автомобиль', '\\n'],\n",
       " ['строительство', ' ', 'недвижимость', '\\n'],\n",
       " ['покупка', ' ', 'недвижимость', '\\n'],\n",
       " ['свадьба', '\\n'],\n",
       " ['заниматься', ' ', 'образование', '\\n'],\n",
       " ['покупка', ' ', 'коммерческий', ' ', 'недвижимость', '\\n'],\n",
       " ['на', ' ', 'покупка', ' ', 'автомобиль', '\\n'],\n",
       " ['сыграть', ' ', 'свадьба', '\\n'],\n",
       " ['образование', '\\n'],\n",
       " ['дополнительный', ' ', 'образование', '\\n'],\n",
       " ['строительство', ' ', 'недвижимость', '\\n'],\n",
       " ['операция', ' ', 'с', ' ', 'жилье', '\\n'],\n",
       " ['недвижимость', '\\n'],\n",
       " ['заниматься', ' ', 'образование', '\\n'],\n",
       " ['свадьба', '\\n'],\n",
       " ['получение', ' ', 'дополнительный', ' ', 'образование', '\\n'],\n",
       " ['сделка', ' ', 'с', ' ', 'подержанный', ' ', 'автомобиль', '\\n'],\n",
       " ['на', ' ', 'проведение', ' ', 'свадьба', '\\n'],\n",
       " ['сыграть', ' ', 'свадьба', '\\n'],\n",
       " ['на', ' ', 'покупка', ' ', 'свой', ' ', 'автомобиль', '\\n'],\n",
       " ['покупка', ' ', 'жилье', '\\n'],\n",
       " ['покупка', ' ', 'жилье', ' ', 'для', ' ', 'семья', '\\n'],\n",
       " ['автомобиль', '\\n'],\n",
       " ['операция', ' ', 'с', ' ', 'коммерческий', ' ', 'недвижимость', '\\n'],\n",
       " ['приобретение', ' ', 'автомобиль', '\\n'],\n",
       " ['профильный', ' ', 'образование', '\\n'],\n",
       " ['высокий', ' ', 'образование', '\\n'],\n",
       " ['свадьба', '\\n'],\n",
       " ['автомобиль', '\\n'],\n",
       " ['строительство', ' ', 'собственный', ' ', 'недвижимость', '\\n'],\n",
       " ['на', ' ', 'покупка', ' ', 'свой', ' ', 'автомобиль', '\\n'],\n",
       " ['покупка', ' ', 'жилье', '\\n'],\n",
       " ['ремонт', ' ', 'жилье', '\\n'],\n",
       " ['приобретение', ' ', 'автомобиль', '\\n'],\n",
       " ['приобретение', ' ', 'автомобиль', '\\n'],\n",
       " ['жилье', '\\n'],\n",
       " ['покупка', ' ', 'коммерческий', ' ', 'недвижимость', '\\n'],\n",
       " ['образование', '\\n'],\n",
       " ['получение', ' ', 'высокий', ' ', 'образование', '\\n'],\n",
       " ['операция', ' ', 'со', ' ', 'свой', ' ', 'недвижимость', '\\n'],\n",
       " ['строительство', ' ', 'жилой', ' ', 'недвижимость', '\\n'],\n",
       " ['покупка', ' ', 'жилье', ' ', 'для', ' ', 'семья', '\\n'],\n",
       " ['покупка', ' ', 'недвижимость', '\\n'],\n",
       " ['автомобиль', '\\n'],\n",
       " ['операция', ' ', 'с', ' ', 'жилье', '\\n'],\n",
       " ['автомобиль', '\\n'],\n",
       " ['сделка', ' ', 'с', ' ', 'подержанный', ' ', 'автомобиль', '\\n'],\n",
       " ['покупка', ' ', 'жилье', ' ', 'для', ' ', 'сдача', '\\n'],\n",
       " ['строительство', ' ', 'недвижимость', '\\n'],\n",
       " ['сделка', ' ', 'с', ' ', 'автомобиль', '\\n'],\n",
       " ['приобретение', ' ', 'автомобиль', '\\n'],\n",
       " ['операция', ' ', 'с', ' ', 'жилье', '\\n'],\n",
       " ['высокий', ' ', 'образование', '\\n'],\n",
       " ['свой', ' ', 'автомобиль', '\\n'],\n",
       " ['заниматься', ' ', 'образование', '\\n'],\n",
       " ['на', ' ', 'проведение', ' ', 'свадьба', '\\n'],\n",
       " ['ремонт', ' ', 'жилье', '\\n'],\n",
       " ['покупка', ' ', 'недвижимость', '\\n'],\n",
       " ['получение', ' ', 'образование', '\\n'],\n",
       " ['жилье', '\\n'],\n",
       " ['на', ' ', 'покупка', ' ', 'автомобиль', '\\n'],\n",
       " ['покупка', ' ', 'недвижимость', '\\n'],\n",
       " ['ремонт', ' ', 'жилье', '\\n'],\n",
       " ['профильный', ' ', 'образование', '\\n'],\n",
       " ['профильный', ' ', 'образование', '\\n'],\n",
       " ['покупка', ' ', 'жилье', '\\n'],\n",
       " ['операция', ' ', 'с', ' ', 'жилье', '\\n'],\n",
       " ['получение', ' ', 'дополнительный', ' ', 'образование', '\\n'],\n",
       " ['на', ' ', 'проведение', ' ', 'свадьба', '\\n'],\n",
       " ['получение', ' ', 'образование', '\\n'],\n",
       " ['сделка', ' ', 'с', ' ', 'автомобиль', '\\n'],\n",
       " ['сыграть', ' ', 'свадьба', '\\n'],\n",
       " ['заниматься', ' ', 'образование', '\\n'],\n",
       " ['покупка', ' ', 'коммерческий', ' ', 'недвижимость', '\\n'],\n",
       " ['получение', ' ', 'высокий', ' ', 'образование', '\\n'],\n",
       " ['операция', ' ', 'с', ' ', 'недвижимость', '\\n'],\n",
       " ['получение', ' ', 'дополнительный', ' ', 'образование', '\\n'],\n",
       " ['покупка', ' ', 'жилье', ' ', 'для', ' ', 'сдача', '\\n'],\n",
       " ...]"
      ]
     },
     "execution_count": 25,
     "metadata": {},
     "output_type": "execute_result"
    }
   ],
   "source": [
    "#список с леммами столбца purpose\n",
    "purpose_lemma_list"
   ]
  },
  {
   "cell_type": "markdown",
   "metadata": {},
   "source": [
    "**Вывод**\n",
    "\n",
    "Стало ясно, что в целом люди берут кредиты на схожие цели, но говорят о них по-разному. В столбце `purpose` необходимо было провести лемматизацию, чтобы выявить эти категории. По результатам лемматизации становится ясно, что чаще всего люди берут кредит на следующие цели:\n",
    "* Приобретение жилья / недвижимости\n",
    "* Приобретение автомобиля\n",
    "* Образование\n",
    "* Свадьба\n",
    "\n",
    "Перейдем к категоризации данных."
   ]
  },
  {
   "cell_type": "markdown",
   "metadata": {},
   "source": [
    "### Категоризация данных"
   ]
  },
  {
   "cell_type": "markdown",
   "metadata": {},
   "source": [
    "Категоризуем наши данные по столбцу `purpose`, так как именно в этом столбце встречаются разные, но одинаковые по смыслу значения переменной. Для этого изменим название цели каждого человека на предложенные 4 категории, применяя поиск слов в названии цели. Для этого напишем функцию:"
   ]
  },
  {
   "cell_type": "code",
   "execution_count": 26,
   "metadata": {},
   "outputs": [],
   "source": [
    "#создаем функцию, которая будет перебирать цели клиента и выводить для каждой переформулированную под стандарт цель\n",
    "def purpose_group(purpose):\n",
    "    #по ключевым словам найдем и заменим все цели\n",
    "    if 'образовани' in purpose:\n",
    "        return 'образование'\n",
    "    if 'свадьб' in purpose:\n",
    "        return 'свадьба'\n",
    "    if 'жиль' in purpose or 'недвижим' in purpose:\n",
    "        return 'приобретение жилья / недвижимости'\n",
    "    if 'автомоби' in purpose:\n",
    "        return 'приобретение автомобиля' "
   ]
  },
  {
   "cell_type": "markdown",
   "metadata": {},
   "source": [
    "Воспользуемся функцией `purpose_group` для создания столбца с новыми стандартизированными категориями:"
   ]
  },
  {
   "cell_type": "code",
   "execution_count": 27,
   "metadata": {},
   "outputs": [],
   "source": [
    "#вызываем функцию и применяем ее к каждому значению столбца df['purpose']. Результат сохраняем в новый столбец\n",
    "df['purpose_categ'] = df['purpose'].apply(purpose_group) "
   ]
  },
  {
   "cell_type": "markdown",
   "metadata": {},
   "source": [
    "Оценим состояние столбца `purpose_categ` на количество различных категорий:"
   ]
  },
  {
   "cell_type": "code",
   "execution_count": 28,
   "metadata": {},
   "outputs": [
    {
     "data": {
      "text/plain": [
       "приобретение жилья / недвижимости    10811\n",
       "приобретение автомобиля               4306\n",
       "образование                           4013\n",
       "свадьба                               2324\n",
       "Name: purpose_categ, dtype: int64"
      ]
     },
     "execution_count": 28,
     "metadata": {},
     "output_type": "execute_result"
    }
   ],
   "source": [
    "#смотрим, сколько значений в какой категории оказались\n",
    "df['purpose_categ'].value_counts()"
   ]
  },
  {
   "cell_type": "markdown",
   "metadata": {},
   "source": [
    "Остается еще один столбец, который было бы лучше категоризировать для последующей проверки гипотез - `total_income`. Для этого выделим 4 группы населения по доходам. Так как нам неизвестно заранее, на сколько в целом велики доходы по данным клиентам, обозначим эти группы условно следующим образом:\n",
    "1. Низкий заработок\n",
    "2. Средний заработок\n",
    "3. Высокий заработок\n",
    "4. Очень высокий заработок\n",
    "\n",
    "Для такой разбивки воспользуем методом `quantile`:"
   ]
  },
  {
   "cell_type": "code",
   "execution_count": 29,
   "metadata": {},
   "outputs": [
    {
     "data": {
      "text/plain": [
       "0.25    107623.00\n",
       "0.50    142594.00\n",
       "0.75    195820.25\n",
       "Name: total_income, dtype: float64"
      ]
     },
     "execution_count": 29,
     "metadata": {},
     "output_type": "execute_result"
    }
   ],
   "source": [
    "df['total_income'].quantile([0.25,0.5,0.75])"
   ]
  },
  {
   "cell_type": "markdown",
   "metadata": {},
   "source": [
    "Создадим функцию, которая будет перебирать значения зарплаты клиента и на основании этого присвоит категорию:"
   ]
  },
  {
   "cell_type": "code",
   "execution_count": 30,
   "metadata": {},
   "outputs": [],
   "source": [
    "#создаем функцию, которая будет перебирать зарплату клиентов и выводить категорию зарплаты клиента\n",
    "def income_group(income):\n",
    "    if 0 <= income <= 89088.50:\n",
    "        return 'низкий заработок'\n",
    "    if 89088.51 <= income <= 135781.00:\n",
    "        return 'средний заработок'\n",
    "    if 135781.01 <= income <= 195813.25:\n",
    "        return 'высокий заработок'\n",
    "    if 195813.26 <= income:\n",
    "        return 'очень высокий заработок'"
   ]
  },
  {
   "cell_type": "markdown",
   "metadata": {},
   "source": [
    "Воспользуемся функцией `income_group` для создания столбца с категорией зарплаты клиента:"
   ]
  },
  {
   "cell_type": "code",
   "execution_count": 31,
   "metadata": {},
   "outputs": [],
   "source": [
    "#вызываем функцию и применяем ее к каждому значению столбца df['total_income']. Результат сохраняем в новый столбец\n",
    "df['income_categ'] = df['total_income'].apply(income_group) "
   ]
  },
  {
   "cell_type": "markdown",
   "metadata": {},
   "source": [
    "Оценим состояние столбца `income_categ` на количество различных категорий:"
   ]
  },
  {
   "cell_type": "code",
   "execution_count": 32,
   "metadata": {},
   "outputs": [
    {
     "data": {
      "text/plain": [
       "высокий заработок          7079\n",
       "средний заработок          5749\n",
       "очень высокий заработок    5365\n",
       "низкий заработок           3261\n",
       "Name: income_categ, dtype: int64"
      ]
     },
     "execution_count": 32,
     "metadata": {},
     "output_type": "execute_result"
    }
   ],
   "source": [
    "#смотрим, сколько значений в какой категории оказались\n",
    "df['income_categ'].value_counts()"
   ]
  },
  {
   "cell_type": "markdown",
   "metadata": {},
   "source": [
    "Посмотрим на переменные образования и семейного статуса. Было бы лучше, если бы они хранились словарями. Обратимся к значениям этих столбцов:"
   ]
  },
  {
   "cell_type": "code",
   "execution_count": 33,
   "metadata": {},
   "outputs": [
    {
     "data": {
      "text/plain": [
       "среднее                15172\n",
       "высшее                  5250\n",
       "неоконченное высшее      744\n",
       "начальное                282\n",
       "ученая степень             6\n",
       "Name: education, dtype: int64"
      ]
     },
     "execution_count": 33,
     "metadata": {},
     "output_type": "execute_result"
    }
   ],
   "source": [
    "#просматриваем количество уникальных значений образования\n",
    "df['education'].value_counts()"
   ]
  },
  {
   "cell_type": "code",
   "execution_count": 34,
   "metadata": {},
   "outputs": [
    {
     "data": {
      "text/plain": [
       "женат / замужем          12339\n",
       "гражданский брак          4151\n",
       "не женат / не замужем     2810\n",
       "в разводе                 1195\n",
       "вдовец / вдова             959\n",
       "Name: family_status, dtype: int64"
      ]
     },
     "execution_count": 34,
     "metadata": {},
     "output_type": "execute_result"
    }
   ],
   "source": [
    "#просматриваем количество уникальных значений семейного статуса\n",
    "df['family_status'].value_counts()"
   ]
  },
  {
   "cell_type": "markdown",
   "metadata": {},
   "source": [
    "Посмотрим на два других столбца: `family_status_id` и `education_id` и на количество уникальных значений в них:"
   ]
  },
  {
   "cell_type": "code",
   "execution_count": 35,
   "metadata": {},
   "outputs": [
    {
     "data": {
      "text/plain": [
       "0    12339\n",
       "1     4151\n",
       "4     2810\n",
       "3     1195\n",
       "2      959\n",
       "Name: family_status_id, dtype: int64"
      ]
     },
     "execution_count": 35,
     "metadata": {},
     "output_type": "execute_result"
    }
   ],
   "source": [
    "#просматриваем количество уникальных значений id семейного статуса\n",
    "df['family_status_id'].value_counts()"
   ]
  },
  {
   "cell_type": "code",
   "execution_count": 36,
   "metadata": {},
   "outputs": [
    {
     "data": {
      "text/plain": [
       "1    15172\n",
       "0     5250\n",
       "2      744\n",
       "3      282\n",
       "4        6\n",
       "Name: education_id, dtype: int64"
      ]
     },
     "execution_count": 36,
     "metadata": {},
     "output_type": "execute_result"
    }
   ],
   "source": [
    "#просматриваем количество уникальных значений id образования\n",
    "df['education_id'].value_counts()"
   ]
  },
  {
   "cell_type": "markdown",
   "metadata": {},
   "source": [
    "Как видно, сопоставив таблицы друг с другом, можно выделить 2 словаря:"
   ]
  },
  {
   "cell_type": "code",
   "execution_count": 37,
   "metadata": {},
   "outputs": [],
   "source": [
    "family_dict = {'женат / замужем': 0, 'гражданский брак': 1, 'вдовец / вдова': 2, 'в разводе': 3, 'не женат / не замужем': 4}\n",
    "education_dict = {'высшее': 0, 'среднее': 1, 'неоконченное высшее': 2, 'начальное': 3, 'ученая степень': 4}"
   ]
  },
  {
   "cell_type": "markdown",
   "metadata": {},
   "source": [
    "В дальнейшем банк сможет использовать данные словари для своих целей. Как видно, выявить четкий алгоритм присвоения значений элементам словаря довольно трудно без статистических данных, поэтому пока будем считать, что значения присвоены случайным образом."
   ]
  },
  {
   "cell_type": "markdown",
   "metadata": {},
   "source": [
    "**Вывод**\n",
    "\n",
    "Для проверки гипотез некоторые из представленных данных было необходимо категоризировать. К ним отнеслись столбцы `purpose`и `total_income`. Как видно, большая часть людей берет кредит на приобретение жилья и недвижимости, а на свадьбу берут реже всего. Доходы оказались довольно неожиданными. Более 90% клиентов зарабатывают существенно выше среднего показателя. \n",
    "\n",
    "Таким образом, этап предобработки можно считать завершенным. Можно переходить к вопросам исследования"
   ]
  },
  {
   "cell_type": "markdown",
   "metadata": {},
   "source": [
    "## Шаг 3. Ответим на вопросы"
   ]
  },
  {
   "cell_type": "markdown",
   "metadata": {},
   "source": [
    "- Есть ли зависимость между наличием детей и возвратом кредита в срок?"
   ]
  },
  {
   "cell_type": "markdown",
   "metadata": {},
   "source": [
    "Выясним, влияет ли наличие детей на возврат кредита в срок. Для этого сначала сгруппируем всех клиентов по количеству детей, а затем посчитаем для каждой группы задолженности. Для этого применим сводную таблицу:\n",
    "\n"
   ]
  },
  {
   "cell_type": "code",
   "execution_count": 38,
   "metadata": {},
   "outputs": [
    {
     "data": {
      "text/html": [
       "<div>\n",
       "<style scoped>\n",
       "    .dataframe tbody tr th:only-of-type {\n",
       "        vertical-align: middle;\n",
       "    }\n",
       "\n",
       "    .dataframe tbody tr th {\n",
       "        vertical-align: top;\n",
       "    }\n",
       "\n",
       "    .dataframe thead th {\n",
       "        text-align: right;\n",
       "    }\n",
       "</style>\n",
       "<table border=\"1\" class=\"dataframe\">\n",
       "  <thead>\n",
       "    <tr style=\"text-align: right;\">\n",
       "      <th>debt</th>\n",
       "      <th>0</th>\n",
       "      <th>1</th>\n",
       "    </tr>\n",
       "    <tr>\n",
       "      <th>children</th>\n",
       "      <th></th>\n",
       "      <th></th>\n",
       "    </tr>\n",
       "  </thead>\n",
       "  <tbody>\n",
       "    <tr>\n",
       "      <td>-1</td>\n",
       "      <td>46.0</td>\n",
       "      <td>1.0</td>\n",
       "    </tr>\n",
       "    <tr>\n",
       "      <td>0</td>\n",
       "      <td>13028.0</td>\n",
       "      <td>1063.0</td>\n",
       "    </tr>\n",
       "    <tr>\n",
       "      <td>1</td>\n",
       "      <td>4364.0</td>\n",
       "      <td>444.0</td>\n",
       "    </tr>\n",
       "    <tr>\n",
       "      <td>2</td>\n",
       "      <td>1858.0</td>\n",
       "      <td>194.0</td>\n",
       "    </tr>\n",
       "    <tr>\n",
       "      <td>3</td>\n",
       "      <td>303.0</td>\n",
       "      <td>27.0</td>\n",
       "    </tr>\n",
       "    <tr>\n",
       "      <td>4</td>\n",
       "      <td>37.0</td>\n",
       "      <td>4.0</td>\n",
       "    </tr>\n",
       "    <tr>\n",
       "      <td>5</td>\n",
       "      <td>9.0</td>\n",
       "      <td>NaN</td>\n",
       "    </tr>\n",
       "    <tr>\n",
       "      <td>20</td>\n",
       "      <td>68.0</td>\n",
       "      <td>8.0</td>\n",
       "    </tr>\n",
       "  </tbody>\n",
       "</table>\n",
       "</div>"
      ],
      "text/plain": [
       "debt            0       1\n",
       "children                 \n",
       "-1           46.0     1.0\n",
       " 0        13028.0  1063.0\n",
       " 1         4364.0   444.0\n",
       " 2         1858.0   194.0\n",
       " 3          303.0    27.0\n",
       " 4           37.0     4.0\n",
       " 5            9.0     NaN\n",
       " 20          68.0     8.0"
      ]
     },
     "execution_count": 38,
     "metadata": {},
     "output_type": "execute_result"
    }
   ],
   "source": [
    "#сделаем сводную таблицу по данным о количестве детей и наличии задолженности в прошлом\n",
    "children_pivot = df.pivot_table(index=['children'], columns=['debt'], values='family_status_id', aggfunc='count')\n",
    "#посмотрим на итоговую таблицу\n",
    "children_pivot"
   ]
  },
  {
   "cell_type": "markdown",
   "metadata": {},
   "source": [
    "В данной таблице расчитаем процент должников в каждой представленной группе. Для этого поделим количество должников на общее количество людей в каждой группе:"
   ]
  },
  {
   "cell_type": "code",
   "execution_count": 39,
   "metadata": {},
   "outputs": [
    {
     "data": {
      "text/html": [
       "<div>\n",
       "<style scoped>\n",
       "    .dataframe tbody tr th:only-of-type {\n",
       "        vertical-align: middle;\n",
       "    }\n",
       "\n",
       "    .dataframe tbody tr th {\n",
       "        vertical-align: top;\n",
       "    }\n",
       "\n",
       "    .dataframe thead th {\n",
       "        text-align: right;\n",
       "    }\n",
       "</style>\n",
       "<table border=\"1\" class=\"dataframe\">\n",
       "  <thead>\n",
       "    <tr style=\"text-align: right;\">\n",
       "      <th>debt</th>\n",
       "      <th>0</th>\n",
       "      <th>1</th>\n",
       "      <th>ratio</th>\n",
       "    </tr>\n",
       "    <tr>\n",
       "      <th>children</th>\n",
       "      <th></th>\n",
       "      <th></th>\n",
       "      <th></th>\n",
       "    </tr>\n",
       "  </thead>\n",
       "  <tbody>\n",
       "    <tr>\n",
       "      <td>-1</td>\n",
       "      <td>46.0</td>\n",
       "      <td>1.0</td>\n",
       "      <td>2.173913</td>\n",
       "    </tr>\n",
       "    <tr>\n",
       "      <td>0</td>\n",
       "      <td>13028.0</td>\n",
       "      <td>1063.0</td>\n",
       "      <td>8.159349</td>\n",
       "    </tr>\n",
       "    <tr>\n",
       "      <td>1</td>\n",
       "      <td>4364.0</td>\n",
       "      <td>444.0</td>\n",
       "      <td>10.174152</td>\n",
       "    </tr>\n",
       "    <tr>\n",
       "      <td>2</td>\n",
       "      <td>1858.0</td>\n",
       "      <td>194.0</td>\n",
       "      <td>10.441335</td>\n",
       "    </tr>\n",
       "    <tr>\n",
       "      <td>3</td>\n",
       "      <td>303.0</td>\n",
       "      <td>27.0</td>\n",
       "      <td>8.910891</td>\n",
       "    </tr>\n",
       "    <tr>\n",
       "      <td>4</td>\n",
       "      <td>37.0</td>\n",
       "      <td>4.0</td>\n",
       "      <td>10.810811</td>\n",
       "    </tr>\n",
       "    <tr>\n",
       "      <td>5</td>\n",
       "      <td>9.0</td>\n",
       "      <td>NaN</td>\n",
       "      <td>NaN</td>\n",
       "    </tr>\n",
       "    <tr>\n",
       "      <td>20</td>\n",
       "      <td>68.0</td>\n",
       "      <td>8.0</td>\n",
       "      <td>11.764706</td>\n",
       "    </tr>\n",
       "  </tbody>\n",
       "</table>\n",
       "</div>"
      ],
      "text/plain": [
       "debt            0       1      ratio\n",
       "children                            \n",
       "-1           46.0     1.0   2.173913\n",
       " 0        13028.0  1063.0   8.159349\n",
       " 1         4364.0   444.0  10.174152\n",
       " 2         1858.0   194.0  10.441335\n",
       " 3          303.0    27.0   8.910891\n",
       " 4           37.0     4.0  10.810811\n",
       " 5            9.0     NaN        NaN\n",
       " 20          68.0     8.0  11.764706"
      ]
     },
     "execution_count": 39,
     "metadata": {},
     "output_type": "execute_result"
    }
   ],
   "source": [
    "#находим процент должников в каждой группе и умножаем результат на 100 для получения процентов вместо долей\n",
    "children_pivot['ratio'] = children_pivot[1] / children_pivot[0] * 100\n",
    "#выводим результат на экран\n",
    "children_pivot"
   ]
  },
  {
   "cell_type": "markdown",
   "metadata": {},
   "source": [
    "**Вывод**\n",
    "\n",
    "Таким образом, видно, что те, у кого нет детей, чаще имеют задолженности по кредиту. Аналогично можно сказать и про тех, кто имеет 3 детей. В остальных случаях количество детей прямо пропорционально отсутствию кредитной задолженности."
   ]
  },
  {
   "cell_type": "markdown",
   "metadata": {},
   "source": [
    "- Есть ли зависимость между семейным положением и возвратом кредита в срок?"
   ]
  },
  {
   "cell_type": "markdown",
   "metadata": {},
   "source": [
    "Выясним, влияет ли семейное положение `family_status` на возврат кредита в срок `debt`. Для этого  сначала сгруппируем все строки по семейному положению, а затем посчитаем для каждой группы задолженности. Для этого применим сводную таблицу:"
   ]
  },
  {
   "cell_type": "code",
   "execution_count": 40,
   "metadata": {},
   "outputs": [
    {
     "data": {
      "text/html": [
       "<div>\n",
       "<style scoped>\n",
       "    .dataframe tbody tr th:only-of-type {\n",
       "        vertical-align: middle;\n",
       "    }\n",
       "\n",
       "    .dataframe tbody tr th {\n",
       "        vertical-align: top;\n",
       "    }\n",
       "\n",
       "    .dataframe thead th {\n",
       "        text-align: right;\n",
       "    }\n",
       "</style>\n",
       "<table border=\"1\" class=\"dataframe\">\n",
       "  <thead>\n",
       "    <tr style=\"text-align: right;\">\n",
       "      <th>debt</th>\n",
       "      <th>0</th>\n",
       "      <th>1</th>\n",
       "    </tr>\n",
       "    <tr>\n",
       "      <th>family_status</th>\n",
       "      <th></th>\n",
       "      <th></th>\n",
       "    </tr>\n",
       "  </thead>\n",
       "  <tbody>\n",
       "    <tr>\n",
       "      <td>в разводе</td>\n",
       "      <td>1110</td>\n",
       "      <td>85</td>\n",
       "    </tr>\n",
       "    <tr>\n",
       "      <td>вдовец / вдова</td>\n",
       "      <td>896</td>\n",
       "      <td>63</td>\n",
       "    </tr>\n",
       "    <tr>\n",
       "      <td>гражданский брак</td>\n",
       "      <td>3763</td>\n",
       "      <td>388</td>\n",
       "    </tr>\n",
       "    <tr>\n",
       "      <td>женат / замужем</td>\n",
       "      <td>11408</td>\n",
       "      <td>931</td>\n",
       "    </tr>\n",
       "    <tr>\n",
       "      <td>не женат / не замужем</td>\n",
       "      <td>2536</td>\n",
       "      <td>274</td>\n",
       "    </tr>\n",
       "  </tbody>\n",
       "</table>\n",
       "</div>"
      ],
      "text/plain": [
       "debt                       0    1\n",
       "family_status                    \n",
       "в разводе               1110   85\n",
       "вдовец / вдова           896   63\n",
       "гражданский брак        3763  388\n",
       "женат / замужем        11408  931\n",
       "не женат / не замужем   2536  274"
      ]
     },
     "execution_count": 40,
     "metadata": {},
     "output_type": "execute_result"
    }
   ],
   "source": [
    "#сделаем сводную таблицу по данным семейного положения и наличия задолженности в прошлом\n",
    "family_status_pivot = df.pivot_table(index=['family_status'], columns=['debt'], values='family_status_id', aggfunc='count')\n",
    "#посмотрим на итоговую таблицу\n",
    "family_status_pivot"
   ]
  },
  {
   "cell_type": "markdown",
   "metadata": {},
   "source": [
    "В данной таблице расчитаем процент должников в каждой представленной группе семейного положения. Для этого поделим количество должников на общее количество людей в каждой группе:"
   ]
  },
  {
   "cell_type": "code",
   "execution_count": 41,
   "metadata": {},
   "outputs": [
    {
     "data": {
      "text/html": [
       "<div>\n",
       "<style scoped>\n",
       "    .dataframe tbody tr th:only-of-type {\n",
       "        vertical-align: middle;\n",
       "    }\n",
       "\n",
       "    .dataframe tbody tr th {\n",
       "        vertical-align: top;\n",
       "    }\n",
       "\n",
       "    .dataframe thead th {\n",
       "        text-align: right;\n",
       "    }\n",
       "</style>\n",
       "<table border=\"1\" class=\"dataframe\">\n",
       "  <thead>\n",
       "    <tr style=\"text-align: right;\">\n",
       "      <th>debt</th>\n",
       "      <th>0</th>\n",
       "      <th>1</th>\n",
       "      <th>ratio</th>\n",
       "    </tr>\n",
       "    <tr>\n",
       "      <th>family_status</th>\n",
       "      <th></th>\n",
       "      <th></th>\n",
       "      <th></th>\n",
       "    </tr>\n",
       "  </thead>\n",
       "  <tbody>\n",
       "    <tr>\n",
       "      <td>в разводе</td>\n",
       "      <td>1110</td>\n",
       "      <td>85</td>\n",
       "      <td>7.657658</td>\n",
       "    </tr>\n",
       "    <tr>\n",
       "      <td>вдовец / вдова</td>\n",
       "      <td>896</td>\n",
       "      <td>63</td>\n",
       "      <td>7.031250</td>\n",
       "    </tr>\n",
       "    <tr>\n",
       "      <td>гражданский брак</td>\n",
       "      <td>3763</td>\n",
       "      <td>388</td>\n",
       "      <td>10.310922</td>\n",
       "    </tr>\n",
       "    <tr>\n",
       "      <td>женат / замужем</td>\n",
       "      <td>11408</td>\n",
       "      <td>931</td>\n",
       "      <td>8.160940</td>\n",
       "    </tr>\n",
       "    <tr>\n",
       "      <td>не женат / не замужем</td>\n",
       "      <td>2536</td>\n",
       "      <td>274</td>\n",
       "      <td>10.804416</td>\n",
       "    </tr>\n",
       "  </tbody>\n",
       "</table>\n",
       "</div>"
      ],
      "text/plain": [
       "debt                       0    1      ratio\n",
       "family_status                               \n",
       "в разводе               1110   85   7.657658\n",
       "вдовец / вдова           896   63   7.031250\n",
       "гражданский брак        3763  388  10.310922\n",
       "женат / замужем        11408  931   8.160940\n",
       "не женат / не замужем   2536  274  10.804416"
      ]
     },
     "execution_count": 41,
     "metadata": {},
     "output_type": "execute_result"
    }
   ],
   "source": [
    "#находим процент должников в каждой группе и умножаем результат на 100 для получения процентов вместо долей\n",
    "family_status_pivot['ratio'] = family_status_pivot[1] / family_status_pivot[0] * 100\n",
    "family_status_pivot"
   ]
  },
  {
   "cell_type": "markdown",
   "metadata": {},
   "source": [
    "**Вывод**\n",
    "\n",
    "Получается очевидный вывод. Семейное положение влияет на задержку по оплате кредита: чаще имеют задержки люди в разводе либо вдовцы и вдовы. Это можно было бы объяснить тем, что одинокому человеку труднее исполнять обязанности по кредиту, но мы видим, что наилучшие показатели по отсутствию задержек имеют не женатые и не замужние. Исходя из этого, можно считать, что потерявшие своего партнера хуже исполняют обязательства по кредиту, чем те, кто его имеет, либо не имели вовсе. Предположим, что на возврат кредита в срок влияет уровень дохода, проанализировав его далее."
   ]
  },
  {
   "cell_type": "markdown",
   "metadata": {},
   "source": [
    "- Есть ли зависимость между уровнем дохода и возвратом кредита в срок?"
   ]
  },
  {
   "cell_type": "markdown",
   "metadata": {},
   "source": [
    "Выясним, влияет ли уровень дохода `total_income` на возврат кредита в срок `debt`. Для этого  сначала сгруппируем все строки по категоризированному уровню дохода, а затем посчитаем для каждой группы задолженности. Для этого применим сводную таблицу:"
   ]
  },
  {
   "cell_type": "code",
   "execution_count": 42,
   "metadata": {},
   "outputs": [
    {
     "data": {
      "text/html": [
       "<div>\n",
       "<style scoped>\n",
       "    .dataframe tbody tr th:only-of-type {\n",
       "        vertical-align: middle;\n",
       "    }\n",
       "\n",
       "    .dataframe tbody tr th {\n",
       "        vertical-align: top;\n",
       "    }\n",
       "\n",
       "    .dataframe thead th {\n",
       "        text-align: right;\n",
       "    }\n",
       "</style>\n",
       "<table border=\"1\" class=\"dataframe\">\n",
       "  <thead>\n",
       "    <tr style=\"text-align: right;\">\n",
       "      <th>debt</th>\n",
       "      <th>0</th>\n",
       "      <th>1</th>\n",
       "    </tr>\n",
       "    <tr>\n",
       "      <th>income_categ</th>\n",
       "      <th></th>\n",
       "      <th></th>\n",
       "    </tr>\n",
       "  </thead>\n",
       "  <tbody>\n",
       "    <tr>\n",
       "      <td>высокий заработок</td>\n",
       "      <td>6463</td>\n",
       "      <td>616</td>\n",
       "    </tr>\n",
       "    <tr>\n",
       "      <td>низкий заработок</td>\n",
       "      <td>3012</td>\n",
       "      <td>249</td>\n",
       "    </tr>\n",
       "    <tr>\n",
       "      <td>очень высокий заработок</td>\n",
       "      <td>4982</td>\n",
       "      <td>383</td>\n",
       "    </tr>\n",
       "    <tr>\n",
       "      <td>средний заработок</td>\n",
       "      <td>5256</td>\n",
       "      <td>493</td>\n",
       "    </tr>\n",
       "  </tbody>\n",
       "</table>\n",
       "</div>"
      ],
      "text/plain": [
       "debt                        0    1\n",
       "income_categ                      \n",
       "высокий заработок        6463  616\n",
       "низкий заработок         3012  249\n",
       "очень высокий заработок  4982  383\n",
       "средний заработок        5256  493"
      ]
     },
     "execution_count": 42,
     "metadata": {},
     "output_type": "execute_result"
    }
   ],
   "source": [
    "#сделаем сводную таблицу по категоризированному доходу и наличию задолженности в прошлом\n",
    "income_pivot = df.pivot_table(index=['income_categ'], columns=['debt'], values='total_income', aggfunc='count')\n",
    "#посмотрим на итоговую таблицу\n",
    "income_pivot"
   ]
  },
  {
   "cell_type": "markdown",
   "metadata": {},
   "source": [
    "В данной таблице расчитаем процент должников в каждой представленной группе. Для этого поделим количество должников на общее количество людей в каждой группе:"
   ]
  },
  {
   "cell_type": "code",
   "execution_count": 43,
   "metadata": {},
   "outputs": [
    {
     "data": {
      "text/html": [
       "<div>\n",
       "<style scoped>\n",
       "    .dataframe tbody tr th:only-of-type {\n",
       "        vertical-align: middle;\n",
       "    }\n",
       "\n",
       "    .dataframe tbody tr th {\n",
       "        vertical-align: top;\n",
       "    }\n",
       "\n",
       "    .dataframe thead th {\n",
       "        text-align: right;\n",
       "    }\n",
       "</style>\n",
       "<table border=\"1\" class=\"dataframe\">\n",
       "  <thead>\n",
       "    <tr style=\"text-align: right;\">\n",
       "      <th>debt</th>\n",
       "      <th>0</th>\n",
       "      <th>1</th>\n",
       "      <th>ratio</th>\n",
       "    </tr>\n",
       "    <tr>\n",
       "      <th>income_categ</th>\n",
       "      <th></th>\n",
       "      <th></th>\n",
       "      <th></th>\n",
       "    </tr>\n",
       "  </thead>\n",
       "  <tbody>\n",
       "    <tr>\n",
       "      <td>высокий заработок</td>\n",
       "      <td>6463</td>\n",
       "      <td>616</td>\n",
       "      <td>9.531177</td>\n",
       "    </tr>\n",
       "    <tr>\n",
       "      <td>низкий заработок</td>\n",
       "      <td>3012</td>\n",
       "      <td>249</td>\n",
       "      <td>8.266932</td>\n",
       "    </tr>\n",
       "    <tr>\n",
       "      <td>очень высокий заработок</td>\n",
       "      <td>4982</td>\n",
       "      <td>383</td>\n",
       "      <td>7.687676</td>\n",
       "    </tr>\n",
       "    <tr>\n",
       "      <td>средний заработок</td>\n",
       "      <td>5256</td>\n",
       "      <td>493</td>\n",
       "      <td>9.379756</td>\n",
       "    </tr>\n",
       "  </tbody>\n",
       "</table>\n",
       "</div>"
      ],
      "text/plain": [
       "debt                        0    1     ratio\n",
       "income_categ                                \n",
       "высокий заработок        6463  616  9.531177\n",
       "низкий заработок         3012  249  8.266932\n",
       "очень высокий заработок  4982  383  7.687676\n",
       "средний заработок        5256  493  9.379756"
      ]
     },
     "execution_count": 43,
     "metadata": {},
     "output_type": "execute_result"
    }
   ],
   "source": [
    "#находим процент должников в каждой группе и умножаем результат на 100 для получения процентов вместо долей\n",
    "income_pivot['ratio'] = income_pivot[1] / income_pivot[0] * 100\n",
    "#выводим результат на экран\n",
    "income_pivot"
   ]
  },
  {
   "cell_type": "markdown",
   "metadata": {},
   "source": [
    "**Вывод**\n",
    "\n",
    "В данной ситуации имеем следующие выводы: чаще имеют задолженности по кредиту те, чей заработок является очень высоким, либо низким. Это можно объяснить довольно просто: те, чьи заработные платы не слишком велики, не всегда могут вовремя заплатить кредит, а те, чьи зарплаты слишком велики, либо берут кредиты на слишком большие суммы и тоже не могут вовремя их оплатить, либо просто забывают об этом. "
   ]
  },
  {
   "cell_type": "markdown",
   "metadata": {},
   "source": [
    "Чтобы оценить влияние целей кредита на возврат кредита в срок вернемся к созданному столбцу `df['purpose_categ']` и посмотрим распределения в нём:"
   ]
  },
  {
   "cell_type": "code",
   "execution_count": 44,
   "metadata": {},
   "outputs": [
    {
     "data": {
      "text/plain": [
       "приобретение жилья / недвижимости    10811\n",
       "приобретение автомобиля               4306\n",
       "образование                           4013\n",
       "свадьба                               2324\n",
       "Name: purpose_categ, dtype: int64"
      ]
     },
     "execution_count": 44,
     "metadata": {},
     "output_type": "execute_result"
    }
   ],
   "source": [
    "df['purpose_categ'].value_counts()"
   ]
  },
  {
   "cell_type": "markdown",
   "metadata": {},
   "source": [
    "Выясним, влияет ли цель кредита на возврат кредита в срок. Для этого сначала сгруппируем все строки по категоризированной цели кредита, а затем посчитаем для каждой группы задолженности. Для этого применим сводную таблицу:"
   ]
  },
  {
   "cell_type": "code",
   "execution_count": 45,
   "metadata": {},
   "outputs": [
    {
     "data": {
      "text/html": [
       "<div>\n",
       "<style scoped>\n",
       "    .dataframe tbody tr th:only-of-type {\n",
       "        vertical-align: middle;\n",
       "    }\n",
       "\n",
       "    .dataframe tbody tr th {\n",
       "        vertical-align: top;\n",
       "    }\n",
       "\n",
       "    .dataframe thead th {\n",
       "        text-align: right;\n",
       "    }\n",
       "</style>\n",
       "<table border=\"1\" class=\"dataframe\">\n",
       "  <thead>\n",
       "    <tr style=\"text-align: right;\">\n",
       "      <th>debt</th>\n",
       "      <th>0</th>\n",
       "      <th>1</th>\n",
       "    </tr>\n",
       "    <tr>\n",
       "      <th>purpose_categ</th>\n",
       "      <th></th>\n",
       "      <th></th>\n",
       "    </tr>\n",
       "  </thead>\n",
       "  <tbody>\n",
       "    <tr>\n",
       "      <td>образование</td>\n",
       "      <td>3643</td>\n",
       "      <td>370</td>\n",
       "    </tr>\n",
       "    <tr>\n",
       "      <td>приобретение автомобиля</td>\n",
       "      <td>3903</td>\n",
       "      <td>403</td>\n",
       "    </tr>\n",
       "    <tr>\n",
       "      <td>приобретение жилья / недвижимости</td>\n",
       "      <td>10029</td>\n",
       "      <td>782</td>\n",
       "    </tr>\n",
       "    <tr>\n",
       "      <td>свадьба</td>\n",
       "      <td>2138</td>\n",
       "      <td>186</td>\n",
       "    </tr>\n",
       "  </tbody>\n",
       "</table>\n",
       "</div>"
      ],
      "text/plain": [
       "debt                                   0    1\n",
       "purpose_categ                                \n",
       "образование                         3643  370\n",
       "приобретение автомобиля             3903  403\n",
       "приобретение жилья / недвижимости  10029  782\n",
       "свадьба                             2138  186"
      ]
     },
     "execution_count": 45,
     "metadata": {},
     "output_type": "execute_result"
    }
   ],
   "source": [
    "#сделаем сводную таблицу по категоризированным целям и наличию задолженности в прошлом\n",
    "purpose_pivot = df.pivot_table(index=['purpose_categ'], columns=['debt'], values='total_income', aggfunc='count')\n",
    "#посмотрим на итоговую таблицу\n",
    "purpose_pivot"
   ]
  },
  {
   "cell_type": "markdown",
   "metadata": {},
   "source": [
    "В данной таблице расчитаем процент должников в каждой представленной группе. Для этого поделим количество должников на общее количество людей в каждой группе:"
   ]
  },
  {
   "cell_type": "code",
   "execution_count": 46,
   "metadata": {},
   "outputs": [
    {
     "data": {
      "text/html": [
       "<div>\n",
       "<style scoped>\n",
       "    .dataframe tbody tr th:only-of-type {\n",
       "        vertical-align: middle;\n",
       "    }\n",
       "\n",
       "    .dataframe tbody tr th {\n",
       "        vertical-align: top;\n",
       "    }\n",
       "\n",
       "    .dataframe thead th {\n",
       "        text-align: right;\n",
       "    }\n",
       "</style>\n",
       "<table border=\"1\" class=\"dataframe\">\n",
       "  <thead>\n",
       "    <tr style=\"text-align: right;\">\n",
       "      <th>debt</th>\n",
       "      <th>0</th>\n",
       "      <th>1</th>\n",
       "      <th>ratio</th>\n",
       "    </tr>\n",
       "    <tr>\n",
       "      <th>purpose_categ</th>\n",
       "      <th></th>\n",
       "      <th></th>\n",
       "      <th></th>\n",
       "    </tr>\n",
       "  </thead>\n",
       "  <tbody>\n",
       "    <tr>\n",
       "      <td>образование</td>\n",
       "      <td>3643</td>\n",
       "      <td>370</td>\n",
       "      <td>10.156464</td>\n",
       "    </tr>\n",
       "    <tr>\n",
       "      <td>приобретение автомобиля</td>\n",
       "      <td>3903</td>\n",
       "      <td>403</td>\n",
       "      <td>10.325391</td>\n",
       "    </tr>\n",
       "    <tr>\n",
       "      <td>приобретение жилья / недвижимости</td>\n",
       "      <td>10029</td>\n",
       "      <td>782</td>\n",
       "      <td>7.797388</td>\n",
       "    </tr>\n",
       "    <tr>\n",
       "      <td>свадьба</td>\n",
       "      <td>2138</td>\n",
       "      <td>186</td>\n",
       "      <td>8.699719</td>\n",
       "    </tr>\n",
       "  </tbody>\n",
       "</table>\n",
       "</div>"
      ],
      "text/plain": [
       "debt                                   0    1      ratio\n",
       "purpose_categ                                           \n",
       "образование                         3643  370  10.156464\n",
       "приобретение автомобиля             3903  403  10.325391\n",
       "приобретение жилья / недвижимости  10029  782   7.797388\n",
       "свадьба                             2138  186   8.699719"
      ]
     },
     "execution_count": 46,
     "metadata": {},
     "output_type": "execute_result"
    }
   ],
   "source": [
    "#находим процент должников в каждой группе и умножаем результат на 100 для получения процентов вместо долей\n",
    "purpose_pivot['ratio'] = purpose_pivot[1] / purpose_pivot[0] * 100\n",
    "#выводим результат на экран\n",
    "purpose_pivot"
   ]
  },
  {
   "cell_type": "markdown",
   "metadata": {},
   "source": [
    "**Вывод**\n",
    "\n",
    "Видна некоторая зависимость. Те, кто берет кредит на образование или приобретение автомобиля, реже имеют задержку по оплате кредита, чем те, кто берет кредит на свадьбу или приобретение жилья, при этом кредит на недвижимость сопоставим с самой частой задержкой по оплате."
   ]
  },
  {
   "cell_type": "markdown",
   "metadata": {},
   "source": [
    "## Шаг 4. Общий вывод"
   ]
  },
  {
   "cell_type": "markdown",
   "metadata": {},
   "source": [
    "Таким образом, исследование завершается. В ходе него мы выполнили 3 важнейших этапа исследования данных:\n",
    " 1. Обзор данных.\n",
    " 2. Предобработка данных.\n",
    " 3. Проверка гипотез.\n",
    " \n",
    "Проверка гипотез оказалась довольно продуктивной, поэтому системы кредитного скорринга можно будет улучшить при помощи полученных результатов. Как видно из исследования, имеем следующие выводы:\n",
    " 1. Количество детей не влияет на факт погашения кредита в срок.\n",
    " 2. Семейное положение влияет на факт погашения кредита в срок. Те люди, которые потеряли своего партнера, чаще других имеют задолженности по кредиту.\n",
    " 3. Уровень заработной платы влияет на факт погашения кредита в срок. Чаще всего имеют задержки люди с низкой заработной платой, однако население, реже задерживающее оплату по кредиту, не прямо связано с ростом дохода. До определеннного среднего значения люди действительно имеют меньше задержек, однако затем с ростом дохода увеличивается вероятность задержки. Получается некоторое \"перевернутое\" нормальное распределение.\n",
    " 4. Цель кредита влияет на факт погашения кредита в срок. Те, кто берет кредит на недвижимость или свадьбу, задержатся с большей вероятностью, чем те, кто берет кредит на образование или приобретение автомобиля.\n",
    " \n",
    " Таким образом, исследование можно полностью считать завершенным.\n",
    " "
   ]
  }
 ],
 "metadata": {
  "ExecuteTimeLog": [
   {
    "duration": 465,
    "start_time": "2021-10-18T16:44:59.937Z"
   },
   {
    "duration": 659,
    "start_time": "2021-10-18T16:50:59.137Z"
   },
   {
    "duration": 131,
    "start_time": "2021-10-18T16:51:38.979Z"
   },
   {
    "duration": 51,
    "start_time": "2021-10-18T16:52:49.606Z"
   },
   {
    "duration": 24,
    "start_time": "2021-10-18T16:55:19.074Z"
   },
   {
    "duration": 11,
    "start_time": "2021-10-18T16:57:14.118Z"
   },
   {
    "duration": 12,
    "start_time": "2021-10-18T17:07:33.847Z"
   },
   {
    "duration": 10,
    "start_time": "2021-10-18T17:07:35.114Z"
   },
   {
    "duration": 155,
    "start_time": "2021-10-18T17:08:26.494Z"
   },
   {
    "duration": 9,
    "start_time": "2021-10-18T17:08:56.103Z"
   },
   {
    "duration": 10,
    "start_time": "2021-10-18T17:09:20.669Z"
   },
   {
    "duration": 6,
    "start_time": "2021-10-18T17:18:09.583Z"
   },
   {
    "duration": 5,
    "start_time": "2021-10-18T17:19:14.206Z"
   },
   {
    "duration": 4,
    "start_time": "2021-10-18T17:19:41.537Z"
   },
   {
    "duration": 4,
    "start_time": "2021-10-18T17:21:50.271Z"
   },
   {
    "duration": 3,
    "start_time": "2021-10-18T17:22:16.752Z"
   },
   {
    "duration": 3,
    "start_time": "2021-10-18T17:22:33.892Z"
   },
   {
    "duration": 4,
    "start_time": "2021-10-18T17:24:23.653Z"
   },
   {
    "duration": 4,
    "start_time": "2021-10-18T17:25:17.774Z"
   },
   {
    "duration": 378,
    "start_time": "2021-10-18T17:25:39.639Z"
   },
   {
    "duration": 9,
    "start_time": "2021-10-18T17:25:46.105Z"
   },
   {
    "duration": 9,
    "start_time": "2021-10-18T17:26:05.303Z"
   },
   {
    "duration": 4,
    "start_time": "2021-10-18T17:37:23.520Z"
   },
   {
    "duration": 5,
    "start_time": "2021-10-18T17:37:57.363Z"
   },
   {
    "duration": 4,
    "start_time": "2021-10-18T17:38:01.835Z"
   },
   {
    "duration": 10,
    "start_time": "2021-10-18T17:39:14.112Z"
   },
   {
    "duration": 5,
    "start_time": "2021-10-18T17:40:19.288Z"
   },
   {
    "duration": 11,
    "start_time": "2021-10-18T17:40:20.347Z"
   },
   {
    "duration": 4,
    "start_time": "2021-10-18T17:41:42.937Z"
   },
   {
    "duration": 16,
    "start_time": "2021-10-18T17:41:44.169Z"
   },
   {
    "duration": 13,
    "start_time": "2021-10-18T17:42:36.685Z"
   },
   {
    "duration": 19,
    "start_time": "2021-10-18T17:47:08.271Z"
   },
   {
    "duration": 18,
    "start_time": "2021-10-18T17:51:31.999Z"
   },
   {
    "duration": 18,
    "start_time": "2021-10-18T17:51:48.068Z"
   },
   {
    "duration": 12,
    "start_time": "2021-10-18T17:51:52.324Z"
   },
   {
    "duration": 11,
    "start_time": "2021-10-18T17:51:56.170Z"
   },
   {
    "duration": 16,
    "start_time": "2021-10-18T17:51:58.510Z"
   },
   {
    "duration": 17,
    "start_time": "2021-10-18T17:52:06.690Z"
   },
   {
    "duration": 809,
    "start_time": "2021-10-20T08:13:58.177Z"
   },
   {
    "duration": 65,
    "start_time": "2021-10-20T08:13:58.988Z"
   },
   {
    "duration": 44,
    "start_time": "2021-10-20T08:13:59.609Z"
   },
   {
    "duration": 20,
    "start_time": "2021-10-20T08:14:00.531Z"
   },
   {
    "duration": 13,
    "start_time": "2021-10-20T08:14:02.547Z"
   },
   {
    "duration": 5,
    "start_time": "2021-10-20T08:14:03.864Z"
   },
   {
    "duration": 15,
    "start_time": "2021-10-20T08:16:41.625Z"
   },
   {
    "duration": 382,
    "start_time": "2021-10-20T08:16:46.060Z"
   },
   {
    "duration": 283,
    "start_time": "2021-10-20T08:16:50.731Z"
   },
   {
    "duration": 13,
    "start_time": "2021-10-20T08:16:55.501Z"
   },
   {
    "duration": 13,
    "start_time": "2021-10-20T08:17:24.736Z"
   },
   {
    "duration": 31,
    "start_time": "2021-10-20T08:17:39.870Z"
   },
   {
    "duration": 9,
    "start_time": "2021-10-20T08:18:16.060Z"
   },
   {
    "duration": 8,
    "start_time": "2021-10-20T08:18:30.599Z"
   },
   {
    "duration": 8,
    "start_time": "2021-10-20T08:19:11.764Z"
   },
   {
    "duration": 35,
    "start_time": "2021-10-20T08:20:16.815Z"
   },
   {
    "duration": 36,
    "start_time": "2021-10-20T08:20:43.834Z"
   },
   {
    "duration": 24,
    "start_time": "2021-10-20T08:21:08.804Z"
   },
   {
    "duration": 24,
    "start_time": "2021-10-20T08:23:45.983Z"
   },
   {
    "duration": 5,
    "start_time": "2021-10-20T08:23:51.867Z"
   },
   {
    "duration": 5,
    "start_time": "2021-10-20T08:23:52.846Z"
   },
   {
    "duration": 6,
    "start_time": "2021-10-20T08:24:11.630Z"
   },
   {
    "duration": 14,
    "start_time": "2021-10-20T08:24:12.718Z"
   },
   {
    "duration": 8,
    "start_time": "2021-10-20T08:24:17.701Z"
   },
   {
    "duration": 4,
    "start_time": "2021-10-20T08:25:11.836Z"
   },
   {
    "duration": 6,
    "start_time": "2021-10-20T08:25:12.446Z"
   },
   {
    "duration": 6,
    "start_time": "2021-10-20T08:25:30.491Z"
   },
   {
    "duration": 17,
    "start_time": "2021-10-20T08:25:31.512Z"
   },
   {
    "duration": 17,
    "start_time": "2021-10-20T08:25:33.044Z"
   },
   {
    "duration": 24,
    "start_time": "2021-10-20T08:29:27.263Z"
   },
   {
    "duration": 22,
    "start_time": "2021-10-20T08:29:44.568Z"
   },
   {
    "duration": 331,
    "start_time": "2021-10-20T08:30:30.410Z"
   },
   {
    "duration": 238,
    "start_time": "2021-10-20T08:30:48.600Z"
   },
   {
    "duration": 52,
    "start_time": "2021-10-20T08:30:58.164Z"
   },
   {
    "duration": 25,
    "start_time": "2021-10-20T08:31:04.392Z"
   },
   {
    "duration": 27,
    "start_time": "2021-10-20T08:31:25.595Z"
   },
   {
    "duration": 94,
    "start_time": "2021-10-20T08:31:44.810Z"
   },
   {
    "duration": 25,
    "start_time": "2021-10-20T08:31:55.903Z"
   },
   {
    "duration": 34,
    "start_time": "2021-10-20T08:33:22.637Z"
   },
   {
    "duration": 22,
    "start_time": "2021-10-20T08:37:42.799Z"
   },
   {
    "duration": 20,
    "start_time": "2021-10-20T08:38:56.020Z"
   },
   {
    "duration": 14,
    "start_time": "2021-10-20T08:39:03.546Z"
   },
   {
    "duration": 13,
    "start_time": "2021-10-20T08:39:04.575Z"
   },
   {
    "duration": 13,
    "start_time": "2021-10-20T08:39:04.952Z"
   },
   {
    "duration": 5,
    "start_time": "2021-10-20T08:39:05.636Z"
   },
   {
    "duration": 5,
    "start_time": "2021-10-20T08:39:06.133Z"
   },
   {
    "duration": 6,
    "start_time": "2021-10-20T08:39:06.696Z"
   },
   {
    "duration": 13,
    "start_time": "2021-10-20T08:39:07.200Z"
   },
   {
    "duration": 7,
    "start_time": "2021-10-20T08:39:08.613Z"
   },
   {
    "duration": 16,
    "start_time": "2021-10-20T08:39:09.101Z"
   },
   {
    "duration": 17,
    "start_time": "2021-10-20T08:39:09.557Z"
   },
   {
    "duration": 24,
    "start_time": "2021-10-20T08:39:10.950Z"
   },
   {
    "duration": 25,
    "start_time": "2021-10-20T08:39:11.330Z"
   },
   {
    "duration": 24,
    "start_time": "2021-10-20T08:39:11.836Z"
   },
   {
    "duration": 24,
    "start_time": "2021-10-20T08:42:01.119Z"
   },
   {
    "duration": 19,
    "start_time": "2021-10-20T08:42:06.392Z"
   },
   {
    "duration": 19,
    "start_time": "2021-10-20T08:42:10.194Z"
   },
   {
    "duration": 18,
    "start_time": "2021-10-20T08:42:51.192Z"
   },
   {
    "duration": 17,
    "start_time": "2021-10-20T08:45:14.534Z"
   },
   {
    "duration": 33,
    "start_time": "2021-10-20T08:45:20.143Z"
   },
   {
    "duration": 61,
    "start_time": "2021-10-20T08:46:39.491Z"
   },
   {
    "duration": 61,
    "start_time": "2021-10-20T08:46:55.757Z"
   },
   {
    "duration": 13,
    "start_time": "2021-10-20T08:47:52.010Z"
   },
   {
    "duration": 28,
    "start_time": "2021-10-20T08:47:58.443Z"
   },
   {
    "duration": 14,
    "start_time": "2021-10-20T08:48:17.231Z"
   },
   {
    "duration": 74,
    "start_time": "2021-10-20T08:48:59.274Z"
   },
   {
    "duration": 260,
    "start_time": "2021-10-20T08:49:30.941Z"
   },
   {
    "duration": 36,
    "start_time": "2021-10-20T08:49:34.824Z"
   },
   {
    "duration": 96,
    "start_time": "2021-10-20T08:50:20.104Z"
   },
   {
    "duration": 56,
    "start_time": "2021-10-20T08:50:38.766Z"
   },
   {
    "duration": 32,
    "start_time": "2021-10-20T08:50:41.881Z"
   },
   {
    "duration": 30,
    "start_time": "2021-10-20T08:50:50.053Z"
   },
   {
    "duration": 8,
    "start_time": "2021-10-20T08:58:44.812Z"
   },
   {
    "duration": 97,
    "start_time": "2021-10-20T08:59:38.393Z"
   },
   {
    "duration": 4,
    "start_time": "2021-10-20T08:59:53.743Z"
   },
   {
    "duration": 4,
    "start_time": "2021-10-20T09:00:29.030Z"
   },
   {
    "duration": 3,
    "start_time": "2021-10-20T09:01:09.523Z"
   },
   {
    "duration": 5,
    "start_time": "2021-10-20T09:02:15.576Z"
   },
   {
    "duration": 7,
    "start_time": "2021-10-20T09:02:22.441Z"
   },
   {
    "duration": 482,
    "start_time": "2021-10-20T09:02:30.191Z"
   },
   {
    "duration": 383,
    "start_time": "2021-10-20T09:02:40.449Z"
   },
   {
    "duration": 395,
    "start_time": "2021-10-20T09:02:47.049Z"
   },
   {
    "duration": 238,
    "start_time": "2021-10-20T09:03:33.677Z"
   },
   {
    "duration": 258,
    "start_time": "2021-10-20T09:06:16.899Z"
   },
   {
    "duration": 243,
    "start_time": "2021-10-20T09:06:48.304Z"
   },
   {
    "duration": 270,
    "start_time": "2021-10-20T09:06:56.257Z"
   },
   {
    "duration": 278,
    "start_time": "2021-10-20T09:07:46.588Z"
   },
   {
    "duration": 4,
    "start_time": "2021-10-20T09:08:47.019Z"
   },
   {
    "duration": 5,
    "start_time": "2021-10-20T09:08:58.521Z"
   },
   {
    "duration": 348,
    "start_time": "2021-10-20T09:09:07.087Z"
   },
   {
    "duration": 25,
    "start_time": "2021-10-20T09:09:15.596Z"
   },
   {
    "duration": 3,
    "start_time": "2021-10-20T09:09:29.469Z"
   },
   {
    "duration": 6,
    "start_time": "2021-10-20T09:09:47.224Z"
   },
   {
    "duration": 7,
    "start_time": "2021-10-20T09:10:35.430Z"
   },
   {
    "duration": 6,
    "start_time": "2021-10-20T09:11:32.572Z"
   },
   {
    "duration": 6,
    "start_time": "2021-10-20T09:11:53.266Z"
   },
   {
    "duration": 7,
    "start_time": "2021-10-20T09:11:59.038Z"
   },
   {
    "duration": 6,
    "start_time": "2021-10-20T09:12:00.554Z"
   },
   {
    "duration": 6,
    "start_time": "2021-10-20T09:12:17.858Z"
   },
   {
    "duration": 7,
    "start_time": "2021-10-20T09:13:10.056Z"
   },
   {
    "duration": 9,
    "start_time": "2021-10-20T09:13:17.777Z"
   },
   {
    "duration": 265,
    "start_time": "2021-10-20T09:13:35.955Z"
   },
   {
    "duration": 4531,
    "start_time": "2021-10-20T09:15:36.793Z"
   },
   {
    "duration": 4596,
    "start_time": "2021-10-20T09:15:42.319Z"
   },
   {
    "duration": 4745,
    "start_time": "2021-10-20T09:15:48.590Z"
   },
   {
    "duration": -25,
    "start_time": "2021-10-20T09:21:52.931Z"
   },
   {
    "duration": -32,
    "start_time": "2021-10-20T09:21:52.940Z"
   },
   {
    "duration": 25,
    "start_time": "2021-10-20T09:22:02.575Z"
   },
   {
    "duration": 902,
    "start_time": "2021-10-20T09:22:23.119Z"
   },
   {
    "duration": 298,
    "start_time": "2021-10-20T09:22:41.338Z"
   },
   {
    "duration": 237,
    "start_time": "2021-10-20T09:23:55.039Z"
   },
   {
    "duration": 257,
    "start_time": "2021-10-20T09:24:28.433Z"
   },
   {
    "duration": 5,
    "start_time": "2021-10-20T09:24:35.316Z"
   },
   {
    "duration": 7,
    "start_time": "2021-10-20T09:24:39.530Z"
   },
   {
    "duration": 22,
    "start_time": "2021-10-20T09:24:42.314Z"
   },
   {
    "duration": 9,
    "start_time": "2021-10-20T09:25:37.242Z"
   },
   {
    "duration": 100,
    "start_time": "2021-10-20T09:26:16.715Z"
   },
   {
    "duration": 5,
    "start_time": "2021-10-20T09:26:37.409Z"
   },
   {
    "duration": 6,
    "start_time": "2021-10-20T09:26:45.386Z"
   },
   {
    "duration": 7,
    "start_time": "2021-10-20T09:27:06.304Z"
   },
   {
    "duration": 3297,
    "start_time": "2021-10-20T09:28:13.050Z"
   },
   {
    "duration": 3214,
    "start_time": "2021-10-20T09:28:23.514Z"
   },
   {
    "duration": 20,
    "start_time": "2021-10-20T09:43:01.665Z"
   },
   {
    "duration": 4,
    "start_time": "2021-10-20T09:44:19.393Z"
   },
   {
    "duration": 4,
    "start_time": "2021-10-20T09:44:26.635Z"
   },
   {
    "duration": 402,
    "start_time": "2021-10-20T09:44:36.941Z"
   },
   {
    "duration": 7,
    "start_time": "2021-10-20T09:44:46.201Z"
   },
   {
    "duration": 10,
    "start_time": "2021-10-20T09:44:51.693Z"
   },
   {
    "duration": 817,
    "start_time": "2021-10-20T09:45:48.008Z"
   },
   {
    "duration": 446,
    "start_time": "2021-10-20T09:45:52.784Z"
   },
   {
    "duration": 1524,
    "start_time": "2021-10-20T09:46:07.722Z"
   },
   {
    "duration": 16908,
    "start_time": "2021-10-20T09:46:13.678Z"
   },
   {
    "duration": 606,
    "start_time": "2021-10-20T09:47:45.831Z"
   },
   {
    "duration": 428,
    "start_time": "2021-10-20T09:48:04.269Z"
   },
   {
    "duration": 18770,
    "start_time": "2021-10-20T09:48:13.638Z"
   },
   {
    "duration": 3653,
    "start_time": "2021-10-20T09:48:44.110Z"
   },
   {
    "duration": 3788,
    "start_time": "2021-10-20T09:49:22.366Z"
   },
   {
    "duration": 3684,
    "start_time": "2021-10-20T09:50:12.492Z"
   },
   {
    "duration": 3797,
    "start_time": "2021-10-20T09:50:34.014Z"
   },
   {
    "duration": 3729,
    "start_time": "2021-10-20T09:52:02.036Z"
   },
   {
    "duration": 392,
    "start_time": "2021-10-20T09:54:13.005Z"
   },
   {
    "duration": 452,
    "start_time": "2021-10-20T09:54:25.662Z"
   },
   {
    "duration": 412,
    "start_time": "2021-10-20T09:54:33.011Z"
   },
   {
    "duration": 67,
    "start_time": "2021-10-20T09:54:58.774Z"
   },
   {
    "duration": 1149,
    "start_time": "2021-10-20T09:55:01.317Z"
   },
   {
    "duration": 938,
    "start_time": "2021-10-20T09:55:06.229Z"
   },
   {
    "duration": 427,
    "start_time": "2021-10-20T09:55:10.891Z"
   },
   {
    "duration": 331,
    "start_time": "2021-10-20T09:55:18.632Z"
   },
   {
    "duration": 961,
    "start_time": "2021-10-20T09:55:22.901Z"
   },
   {
    "duration": 45325,
    "start_time": "2021-10-20T09:55:42.896Z"
   },
   {
    "duration": 27602,
    "start_time": "2021-10-20T09:56:38.668Z"
   },
   {
    "duration": 27990,
    "start_time": "2021-10-20T09:57:26.701Z"
   },
   {
    "duration": 3247,
    "start_time": "2021-10-20T09:58:41.792Z"
   },
   {
    "duration": 433,
    "start_time": "2021-10-20T09:59:03.753Z"
   },
   {
    "duration": 3333,
    "start_time": "2021-10-20T09:59:26.490Z"
   },
   {
    "duration": 3302,
    "start_time": "2021-10-20T09:59:33.723Z"
   },
   {
    "duration": 3598,
    "start_time": "2021-10-20T09:59:50.488Z"
   },
   {
    "duration": 806,
    "start_time": "2021-10-20T10:00:31.756Z"
   },
   {
    "duration": 6316,
    "start_time": "2021-10-20T10:00:39.133Z"
   },
   {
    "duration": 6525,
    "start_time": "2021-10-20T10:00:52.444Z"
   },
   {
    "duration": 411,
    "start_time": "2021-10-20T10:03:09.033Z"
   },
   {
    "duration": 7138,
    "start_time": "2021-10-20T10:04:00.946Z"
   },
   {
    "duration": 266,
    "start_time": "2021-10-20T10:04:25.526Z"
   },
   {
    "duration": 8242,
    "start_time": "2021-10-20T10:04:47.576Z"
   },
   {
    "duration": 6844,
    "start_time": "2021-10-20T10:05:01.456Z"
   },
   {
    "duration": 7007,
    "start_time": "2021-10-20T10:05:11.148Z"
   },
   {
    "duration": 7021,
    "start_time": "2021-10-20T10:06:29.568Z"
   },
   {
    "duration": 6975,
    "start_time": "2021-10-20T10:07:23.265Z"
   },
   {
    "duration": 6361,
    "start_time": "2021-10-20T10:08:39.555Z"
   },
   {
    "duration": 6274,
    "start_time": "2021-10-20T10:08:51.598Z"
   },
   {
    "duration": 6398,
    "start_time": "2021-10-20T10:10:15.201Z"
   },
   {
    "duration": 6998,
    "start_time": "2021-10-20T10:10:31.598Z"
   },
   {
    "duration": 29,
    "start_time": "2021-10-20T10:10:50.492Z"
   },
   {
    "duration": 6058,
    "start_time": "2021-10-20T10:11:04.570Z"
   },
   {
    "duration": 16,
    "start_time": "2021-10-20T10:11:41.768Z"
   },
   {
    "duration": 16,
    "start_time": "2021-10-20T10:11:49.653Z"
   },
   {
    "duration": 10,
    "start_time": "2021-10-20T10:11:59.925Z"
   },
   {
    "duration": 11,
    "start_time": "2021-10-20T10:12:00.498Z"
   },
   {
    "duration": 15,
    "start_time": "2021-10-20T10:12:04.307Z"
   },
   {
    "duration": 16,
    "start_time": "2021-10-20T10:12:07.176Z"
   },
   {
    "duration": 8,
    "start_time": "2021-10-20T10:12:16.121Z"
   },
   {
    "duration": 6,
    "start_time": "2021-10-20T10:12:27.459Z"
   },
   {
    "duration": 7,
    "start_time": "2021-10-20T10:12:33.880Z"
   },
   {
    "duration": 7,
    "start_time": "2021-10-20T10:12:36.707Z"
   },
   {
    "duration": 7,
    "start_time": "2021-10-20T10:12:48.285Z"
   },
   {
    "duration": 6,
    "start_time": "2021-10-20T10:12:51.280Z"
   },
   {
    "duration": 7,
    "start_time": "2021-10-20T10:12:53.558Z"
   },
   {
    "duration": 8,
    "start_time": "2021-10-20T10:13:10.511Z"
   },
   {
    "duration": 6,
    "start_time": "2021-10-20T10:13:14.492Z"
   },
   {
    "duration": 5,
    "start_time": "2021-10-20T10:13:17.659Z"
   },
   {
    "duration": 443,
    "start_time": "2021-10-20T10:13:35.590Z"
   },
   {
    "duration": 3491,
    "start_time": "2021-10-20T10:13:47.341Z"
   },
   {
    "duration": 972,
    "start_time": "2021-10-20T10:14:31.882Z"
   },
   {
    "duration": 957,
    "start_time": "2021-10-20T10:14:55.837Z"
   },
   {
    "duration": 1355,
    "start_time": "2021-10-20T10:15:27.450Z"
   },
   {
    "duration": 1377,
    "start_time": "2021-10-20T10:15:33.864Z"
   },
   {
    "duration": 6,
    "start_time": "2021-10-20T10:16:47.466Z"
   },
   {
    "duration": 3480,
    "start_time": "2021-10-20T10:17:01.184Z"
   },
   {
    "duration": 1393,
    "start_time": "2021-10-20T10:17:12.004Z"
   },
   {
    "duration": 1361,
    "start_time": "2021-10-20T10:17:25.210Z"
   },
   {
    "duration": 1374,
    "start_time": "2021-10-20T10:17:28.022Z"
   },
   {
    "duration": 301,
    "start_time": "2021-10-20T10:18:23.357Z"
   },
   {
    "duration": 7070,
    "start_time": "2021-10-20T10:18:27.064Z"
   },
   {
    "duration": 69,
    "start_time": "2021-10-20T10:19:20.485Z"
   },
   {
    "duration": 3261,
    "start_time": "2021-10-20T10:19:29.759Z"
   },
   {
    "duration": 1190,
    "start_time": "2021-10-20T10:19:35.952Z"
   },
   {
    "duration": 979,
    "start_time": "2021-10-20T10:19:47.820Z"
   },
   {
    "duration": 1205,
    "start_time": "2021-10-20T10:20:11.227Z"
   },
   {
    "duration": 1218,
    "start_time": "2021-10-20T10:20:50.598Z"
   },
   {
    "duration": 1166,
    "start_time": "2021-10-20T10:20:55.545Z"
   },
   {
    "duration": 1322,
    "start_time": "2021-10-20T10:21:03.234Z"
   },
   {
    "duration": 1169,
    "start_time": "2021-10-20T10:21:09.055Z"
   },
   {
    "duration": 262,
    "start_time": "2021-10-20T10:21:12.612Z"
   },
   {
    "duration": 246,
    "start_time": "2021-10-20T10:21:36.381Z"
   },
   {
    "duration": 2574,
    "start_time": "2021-10-20T10:21:56.538Z"
   },
   {
    "duration": 5955,
    "start_time": "2021-10-20T10:22:36.910Z"
   },
   {
    "duration": 6,
    "start_time": "2021-10-20T10:22:48.012Z"
   },
   {
    "duration": 6,
    "start_time": "2021-10-20T10:22:55.875Z"
   },
   {
    "duration": 30,
    "start_time": "2021-10-20T10:23:04.596Z"
   },
   {
    "duration": 1223,
    "start_time": "2021-10-20T10:24:08.492Z"
   },
   {
    "duration": 1229,
    "start_time": "2021-10-20T10:24:16.982Z"
   },
   {
    "duration": 1214,
    "start_time": "2021-10-20T10:24:19.638Z"
   },
   {
    "duration": 243,
    "start_time": "2021-10-20T10:24:45.102Z"
   },
   {
    "duration": 77688,
    "start_time": "2021-10-20T10:24:49.780Z"
   },
   {
    "duration": 283,
    "start_time": "2021-10-20T10:27:35.111Z"
   },
   {
    "duration": 274,
    "start_time": "2021-10-20T10:27:44.430Z"
   },
   {
    "duration": 253,
    "start_time": "2021-10-20T10:27:57.394Z"
   },
   {
    "duration": 257,
    "start_time": "2021-10-20T10:27:59.778Z"
   },
   {
    "duration": 333,
    "start_time": "2021-10-20T10:28:08.756Z"
   },
   {
    "duration": 302,
    "start_time": "2021-10-20T10:28:23.500Z"
   },
   {
    "duration": 324,
    "start_time": "2021-10-20T10:28:34.867Z"
   },
   {
    "duration": 241,
    "start_time": "2021-10-20T10:29:19.269Z"
   },
   {
    "duration": 1219,
    "start_time": "2021-10-20T10:29:43.969Z"
   },
   {
    "duration": 4,
    "start_time": "2021-10-20T10:31:24.371Z"
   },
   {
    "duration": 248,
    "start_time": "2021-10-20T10:31:45.107Z"
   },
   {
    "duration": 357,
    "start_time": "2021-10-20T10:31:52.009Z"
   },
   {
    "duration": 7,
    "start_time": "2021-10-20T10:32:35.719Z"
   },
   {
    "duration": 9,
    "start_time": "2021-10-20T10:32:51.097Z"
   },
   {
    "duration": 7,
    "start_time": "2021-10-20T10:33:16.208Z"
   },
   {
    "duration": 5,
    "start_time": "2021-10-20T10:33:22.998Z"
   },
   {
    "duration": 7,
    "start_time": "2021-10-20T10:33:28.416Z"
   },
   {
    "duration": 21,
    "start_time": "2021-10-20T10:33:37.564Z"
   },
   {
    "duration": 4,
    "start_time": "2021-10-20T10:34:59.573Z"
   },
   {
    "duration": 3510,
    "start_time": "2021-10-20T10:35:11.811Z"
   },
   {
    "duration": 3668,
    "start_time": "2021-10-20T10:36:09.382Z"
   },
   {
    "duration": 3333,
    "start_time": "2021-10-20T10:36:24.258Z"
   },
   {
    "duration": 3732,
    "start_time": "2021-10-20T10:36:57.216Z"
   },
   {
    "duration": 7,
    "start_time": "2021-10-20T10:37:10.932Z"
   },
   {
    "duration": 31,
    "start_time": "2021-10-20T10:38:00.768Z"
   },
   {
    "duration": 4437,
    "start_time": "2021-10-20T10:38:39.077Z"
   },
   {
    "duration": 322,
    "start_time": "2021-10-20T10:39:01.188Z"
   },
   {
    "duration": 29,
    "start_time": "2021-10-20T10:39:03.553Z"
   },
   {
    "duration": 3,
    "start_time": "2021-10-20T10:39:14.379Z"
   },
   {
    "duration": 65,
    "start_time": "2021-10-20T10:39:15.007Z"
   },
   {
    "duration": 20,
    "start_time": "2021-10-20T10:39:15.605Z"
   },
   {
    "duration": 18,
    "start_time": "2021-10-20T10:39:16.302Z"
   },
   {
    "duration": 13,
    "start_time": "2021-10-20T10:39:18.050Z"
   },
   {
    "duration": 23,
    "start_time": "2021-10-20T10:39:18.819Z"
   },
   {
    "duration": 5,
    "start_time": "2021-10-20T10:39:19.633Z"
   },
   {
    "duration": 5,
    "start_time": "2021-10-20T10:39:20.156Z"
   },
   {
    "duration": 6,
    "start_time": "2021-10-20T10:39:20.665Z"
   },
   {
    "duration": 13,
    "start_time": "2021-10-20T10:39:21.217Z"
   },
   {
    "duration": 7,
    "start_time": "2021-10-20T10:39:22.760Z"
   },
   {
    "duration": 16,
    "start_time": "2021-10-20T10:39:23.199Z"
   },
   {
    "duration": 17,
    "start_time": "2021-10-20T10:39:23.634Z"
   },
   {
    "duration": 22,
    "start_time": "2021-10-20T10:39:25.248Z"
   },
   {
    "duration": 25,
    "start_time": "2021-10-20T10:39:25.718Z"
   },
   {
    "duration": 23,
    "start_time": "2021-10-20T10:39:26.197Z"
   },
   {
    "duration": 18,
    "start_time": "2021-10-20T10:39:26.704Z"
   },
   {
    "duration": 62,
    "start_time": "2021-10-20T10:39:27.660Z"
   },
   {
    "duration": 13,
    "start_time": "2021-10-20T10:39:28.482Z"
   },
   {
    "duration": 38,
    "start_time": "2021-10-20T10:39:28.964Z"
   },
   {
    "duration": 32,
    "start_time": "2021-10-20T10:39:29.474Z"
   },
   {
    "duration": 4,
    "start_time": "2021-10-20T10:39:31.242Z"
   },
   {
    "duration": 29,
    "start_time": "2021-10-20T10:39:34.535Z"
   },
   {
    "duration": 4240,
    "start_time": "2021-10-20T10:41:39.949Z"
   },
   {
    "duration": 4773,
    "start_time": "2021-10-20T10:42:30.156Z"
   },
   {
    "duration": 13558,
    "start_time": "2021-10-20T10:42:42.835Z"
   },
   {
    "duration": 13378,
    "start_time": "2021-10-20T10:45:21.226Z"
   },
   {
    "duration": 3,
    "start_time": "2021-10-20T10:46:23.805Z"
   },
   {
    "duration": 13587,
    "start_time": "2021-10-20T10:46:23.811Z"
   },
   {
    "duration": 5066,
    "start_time": "2021-10-20T10:47:32.884Z"
   },
   {
    "duration": 4799,
    "start_time": "2021-10-20T10:48:30.303Z"
   },
   {
    "duration": 137,
    "start_time": "2021-10-20T10:48:44.232Z"
   },
   {
    "duration": 131,
    "start_time": "2021-10-20T10:49:35.693Z"
   },
   {
    "duration": 131,
    "start_time": "2021-10-20T10:49:48.297Z"
   },
   {
    "duration": 604,
    "start_time": "2021-10-21T12:43:52.810Z"
   },
   {
    "duration": 54,
    "start_time": "2021-10-21T12:43:53.416Z"
   },
   {
    "duration": 20,
    "start_time": "2021-10-21T12:43:53.898Z"
   },
   {
    "duration": 11,
    "start_time": "2021-10-21T12:43:54.352Z"
   },
   {
    "duration": 11,
    "start_time": "2021-10-21T12:43:55.666Z"
   },
   {
    "duration": 16,
    "start_time": "2021-10-21T12:43:56.112Z"
   },
   {
    "duration": 4,
    "start_time": "2021-10-21T12:43:56.779Z"
   },
   {
    "duration": 4,
    "start_time": "2021-10-21T12:43:57.199Z"
   },
   {
    "duration": 5,
    "start_time": "2021-10-21T12:43:57.639Z"
   },
   {
    "duration": 10,
    "start_time": "2021-10-21T12:43:58.041Z"
   },
   {
    "duration": 6,
    "start_time": "2021-10-21T12:43:59.266Z"
   },
   {
    "duration": 13,
    "start_time": "2021-10-21T12:43:59.730Z"
   },
   {
    "duration": 11,
    "start_time": "2021-10-21T12:44:00.787Z"
   },
   {
    "duration": 18,
    "start_time": "2021-10-21T12:44:02.129Z"
   },
   {
    "duration": 17,
    "start_time": "2021-10-21T12:44:02.586Z"
   },
   {
    "duration": 15,
    "start_time": "2021-10-21T12:44:03.080Z"
   },
   {
    "duration": 12,
    "start_time": "2021-10-21T12:44:03.584Z"
   },
   {
    "duration": 39,
    "start_time": "2021-10-21T12:44:04.115Z"
   },
   {
    "duration": 10,
    "start_time": "2021-10-21T12:44:04.610Z"
   },
   {
    "duration": 24,
    "start_time": "2021-10-21T12:44:05.190Z"
   },
   {
    "duration": 21,
    "start_time": "2021-10-21T12:44:05.860Z"
   },
   {
    "duration": 19,
    "start_time": "2021-10-21T12:44:07.227Z"
   },
   {
    "duration": 3499,
    "start_time": "2021-10-21T12:44:07.853Z"
   },
   {
    "duration": 79,
    "start_time": "2021-10-21T12:44:12.686Z"
   },
   {
    "duration": 346,
    "start_time": "2021-10-21T12:50:47.747Z"
   },
   {
    "duration": 21,
    "start_time": "2021-10-21T12:54:57.932Z"
   },
   {
    "duration": 4221,
    "start_time": "2021-10-21T12:56:58.153Z"
   },
   {
    "duration": 4247,
    "start_time": "2021-10-21T12:57:06.824Z"
   },
   {
    "duration": 303,
    "start_time": "2021-10-21T12:58:08.534Z"
   },
   {
    "duration": 6793,
    "start_time": "2021-10-21T12:59:27.629Z"
   },
   {
    "duration": 4,
    "start_time": "2021-10-21T13:01:35.901Z"
   },
   {
    "duration": 277,
    "start_time": "2021-10-21T13:02:33.830Z"
   },
   {
    "duration": 4320,
    "start_time": "2021-10-21T13:02:42.507Z"
   },
   {
    "duration": 598,
    "start_time": "2021-10-21T13:08:04.156Z"
   },
   {
    "duration": 966,
    "start_time": "2021-10-21T13:08:19.732Z"
   },
   {
    "duration": 7349,
    "start_time": "2021-10-21T13:08:21.319Z"
   },
   {
    "duration": 330,
    "start_time": "2021-10-21T13:12:17.488Z"
   },
   {
    "duration": 273,
    "start_time": "2021-10-21T13:12:50.931Z"
   },
   {
    "duration": 3,
    "start_time": "2021-10-21T13:14:53.097Z"
   },
   {
    "duration": 337,
    "start_time": "2021-10-21T13:15:16.699Z"
   },
   {
    "duration": 292,
    "start_time": "2021-10-21T13:16:18.800Z"
   },
   {
    "duration": 3619,
    "start_time": "2021-10-21T13:16:34.672Z"
   },
   {
    "duration": 82,
    "start_time": "2021-10-21T13:16:39.063Z"
   },
   {
    "duration": 380,
    "start_time": "2021-10-21T13:16:40.104Z"
   },
   {
    "duration": 279,
    "start_time": "2021-10-21T13:16:56.082Z"
   },
   {
    "duration": 301,
    "start_time": "2021-10-21T13:18:09.557Z"
   },
   {
    "duration": 10,
    "start_time": "2021-10-21T13:19:46.021Z"
   },
   {
    "duration": 6,
    "start_time": "2021-10-21T13:20:25.558Z"
   },
   {
    "duration": 18,
    "start_time": "2021-10-21T13:23:34.388Z"
   },
   {
    "duration": 12,
    "start_time": "2021-10-21T13:23:39.741Z"
   },
   {
    "duration": 32,
    "start_time": "2021-10-21T13:23:52.425Z"
   },
   {
    "duration": 36,
    "start_time": "2021-10-21T13:24:22.123Z"
   },
   {
    "duration": 35,
    "start_time": "2021-10-21T13:24:48.636Z"
   },
   {
    "duration": 31,
    "start_time": "2021-10-21T13:25:28.731Z"
   },
   {
    "duration": 31,
    "start_time": "2021-10-21T13:25:45.600Z"
   },
   {
    "duration": 6,
    "start_time": "2021-10-21T13:26:09.806Z"
   },
   {
    "duration": 51,
    "start_time": "2021-10-21T13:26:10.079Z"
   },
   {
    "duration": 13,
    "start_time": "2021-10-21T13:26:10.362Z"
   },
   {
    "duration": 12,
    "start_time": "2021-10-21T13:26:10.739Z"
   },
   {
    "duration": 13,
    "start_time": "2021-10-21T13:26:11.739Z"
   },
   {
    "duration": 16,
    "start_time": "2021-10-21T13:26:12.054Z"
   },
   {
    "duration": 4,
    "start_time": "2021-10-21T13:26:12.576Z"
   },
   {
    "duration": 3,
    "start_time": "2021-10-21T13:26:12.888Z"
   },
   {
    "duration": 5,
    "start_time": "2021-10-21T13:26:13.257Z"
   },
   {
    "duration": 10,
    "start_time": "2021-10-21T13:26:13.559Z"
   },
   {
    "duration": 5,
    "start_time": "2021-10-21T13:26:14.815Z"
   },
   {
    "duration": 11,
    "start_time": "2021-10-21T13:26:15.196Z"
   },
   {
    "duration": 10,
    "start_time": "2021-10-21T13:26:15.496Z"
   },
   {
    "duration": 16,
    "start_time": "2021-10-21T13:26:16.444Z"
   },
   {
    "duration": 18,
    "start_time": "2021-10-21T13:26:16.750Z"
   },
   {
    "duration": 15,
    "start_time": "2021-10-21T13:26:17.084Z"
   },
   {
    "duration": 11,
    "start_time": "2021-10-21T13:26:17.462Z"
   },
   {
    "duration": 49,
    "start_time": "2021-10-21T13:26:18.890Z"
   },
   {
    "duration": 10,
    "start_time": "2021-10-21T13:26:19.391Z"
   },
   {
    "duration": 24,
    "start_time": "2021-10-21T13:26:19.749Z"
   },
   {
    "duration": 21,
    "start_time": "2021-10-21T13:26:20.157Z"
   },
   {
    "duration": 3,
    "start_time": "2021-10-21T13:26:21.221Z"
   },
   {
    "duration": 4217,
    "start_time": "2021-10-21T13:26:21.636Z"
   },
   {
    "duration": 135,
    "start_time": "2021-10-21T13:26:25.856Z"
   },
   {
    "duration": 30,
    "start_time": "2021-10-21T13:26:32.018Z"
   },
   {
    "duration": 38,
    "start_time": "2021-10-21T13:26:47.601Z"
   },
   {
    "duration": 963,
    "start_time": "2021-10-21T13:27:24.172Z"
   },
   {
    "duration": 8,
    "start_time": "2021-10-21T13:27:27.834Z"
   },
   {
    "duration": 3,
    "start_time": "2021-10-21T13:29:33.259Z"
   },
   {
    "duration": 10,
    "start_time": "2021-10-21T13:30:25.511Z"
   },
   {
    "duration": 9,
    "start_time": "2021-10-21T13:30:29.008Z"
   },
   {
    "duration": 3,
    "start_time": "2021-10-21T13:31:22.239Z"
   },
   {
    "duration": 10,
    "start_time": "2021-10-21T13:31:22.805Z"
   },
   {
    "duration": 8,
    "start_time": "2021-10-21T13:32:04.538Z"
   },
   {
    "duration": 10,
    "start_time": "2021-10-21T13:32:55.076Z"
   },
   {
    "duration": 9,
    "start_time": "2021-10-21T13:33:28.739Z"
   },
   {
    "duration": 5,
    "start_time": "2021-10-21T13:39:46.708Z"
   },
   {
    "duration": 108,
    "start_time": "2021-10-21T13:40:39.830Z"
   },
   {
    "duration": 93,
    "start_time": "2021-10-21T13:41:31.179Z"
   },
   {
    "duration": 89,
    "start_time": "2021-10-21T13:41:36.973Z"
   },
   {
    "duration": 3,
    "start_time": "2021-10-21T13:43:52.277Z"
   },
   {
    "duration": 11,
    "start_time": "2021-10-21T13:45:00.351Z"
   },
   {
    "duration": 7,
    "start_time": "2021-10-21T13:45:47.511Z"
   },
   {
    "duration": 29,
    "start_time": "2021-10-21T13:50:17.255Z"
   },
   {
    "duration": 15,
    "start_time": "2021-10-21T13:50:28.945Z"
   },
   {
    "duration": 6,
    "start_time": "2021-10-21T13:50:48.307Z"
   },
   {
    "duration": 7,
    "start_time": "2021-10-21T13:51:47.456Z"
   },
   {
    "duration": 34,
    "start_time": "2021-10-21T13:51:55.211Z"
   },
   {
    "duration": 6,
    "start_time": "2021-10-21T13:52:48.529Z"
   },
   {
    "duration": 7060,
    "start_time": "2021-10-21T13:53:20.864Z"
   },
   {
    "duration": 4,
    "start_time": "2021-10-21T13:54:12.388Z"
   },
   {
    "duration": 9,
    "start_time": "2021-10-21T13:54:16.412Z"
   },
   {
    "duration": 3,
    "start_time": "2021-10-21T13:55:05.792Z"
   },
   {
    "duration": 9,
    "start_time": "2021-10-21T13:55:10.064Z"
   },
   {
    "duration": 280,
    "start_time": "2021-10-21T13:55:22.133Z"
   },
   {
    "duration": 7,
    "start_time": "2021-10-21T13:55:30.188Z"
   },
   {
    "duration": 7,
    "start_time": "2021-10-21T13:55:47.280Z"
   },
   {
    "duration": 9,
    "start_time": "2021-10-21T13:56:05.238Z"
   },
   {
    "duration": 4,
    "start_time": "2021-10-21T13:56:50.774Z"
   },
   {
    "duration": 6601,
    "start_time": "2021-10-21T13:57:33.015Z"
   },
   {
    "duration": 6603,
    "start_time": "2021-10-21T13:57:52.413Z"
   },
   {
    "duration": 7005,
    "start_time": "2021-10-21T13:58:02.400Z"
   },
   {
    "duration": 7338,
    "start_time": "2021-10-21T13:58:17.154Z"
   },
   {
    "duration": 7686,
    "start_time": "2021-10-21T13:58:37.708Z"
   },
   {
    "duration": 7514,
    "start_time": "2021-10-21T13:58:56.218Z"
   },
   {
    "duration": 8179,
    "start_time": "2021-10-21T14:00:29.014Z"
   },
   {
    "duration": 4,
    "start_time": "2021-10-21T14:13:39.749Z"
   },
   {
    "duration": 4,
    "start_time": "2021-10-21T14:13:43.649Z"
   },
   {
    "duration": 8231,
    "start_time": "2021-10-21T14:13:44.307Z"
   },
   {
    "duration": 8,
    "start_time": "2021-10-21T14:14:00.147Z"
   },
   {
    "duration": 9,
    "start_time": "2021-10-21T14:14:06.674Z"
   },
   {
    "duration": 11,
    "start_time": "2021-10-21T14:14:16.728Z"
   },
   {
    "duration": 7460,
    "start_time": "2021-10-21T14:14:30.878Z"
   },
   {
    "duration": 11,
    "start_time": "2021-10-21T14:15:15.857Z"
   },
   {
    "duration": 5,
    "start_time": "2021-10-21T14:16:55.860Z"
   },
   {
    "duration": 10,
    "start_time": "2021-10-21T14:18:28.666Z"
   },
   {
    "duration": 8,
    "start_time": "2021-10-21T14:18:40.378Z"
   },
   {
    "duration": 6,
    "start_time": "2021-10-21T14:19:17.608Z"
   },
   {
    "duration": 6,
    "start_time": "2021-10-21T14:20:36.337Z"
   },
   {
    "duration": 8,
    "start_time": "2021-10-21T14:20:36.733Z"
   },
   {
    "duration": 8,
    "start_time": "2021-10-21T14:21:07.832Z"
   },
   {
    "duration": 8,
    "start_time": "2021-10-21T14:21:13.538Z"
   },
   {
    "duration": 7,
    "start_time": "2021-10-21T14:21:31.430Z"
   },
   {
    "duration": 7,
    "start_time": "2021-10-21T14:21:37.114Z"
   },
   {
    "duration": 6,
    "start_time": "2021-10-21T14:21:41.772Z"
   },
   {
    "duration": 388,
    "start_time": "2021-10-21T21:15:18.659Z"
   },
   {
    "duration": 736,
    "start_time": "2021-10-21T21:15:27.678Z"
   },
   {
    "duration": 62,
    "start_time": "2021-10-21T21:15:28.416Z"
   },
   {
    "duration": 28,
    "start_time": "2021-10-21T21:15:28.480Z"
   },
   {
    "duration": 15,
    "start_time": "2021-10-21T21:15:28.677Z"
   },
   {
    "duration": 13,
    "start_time": "2021-10-21T21:15:29.727Z"
   },
   {
    "duration": 22,
    "start_time": "2021-10-21T21:15:30.070Z"
   },
   {
    "duration": 6,
    "start_time": "2021-10-21T21:15:30.608Z"
   },
   {
    "duration": 5,
    "start_time": "2021-10-21T21:15:30.944Z"
   },
   {
    "duration": 7,
    "start_time": "2021-10-21T21:15:31.432Z"
   },
   {
    "duration": 12,
    "start_time": "2021-10-21T21:15:31.827Z"
   },
   {
    "duration": 6,
    "start_time": "2021-10-21T21:15:33.026Z"
   },
   {
    "duration": 21,
    "start_time": "2021-10-21T21:15:33.383Z"
   },
   {
    "duration": 17,
    "start_time": "2021-10-21T21:15:33.795Z"
   },
   {
    "duration": 21,
    "start_time": "2021-10-21T21:15:34.799Z"
   },
   {
    "duration": 25,
    "start_time": "2021-10-21T21:15:35.195Z"
   },
   {
    "duration": 21,
    "start_time": "2021-10-21T21:15:35.559Z"
   },
   {
    "duration": 17,
    "start_time": "2021-10-21T21:15:35.934Z"
   },
   {
    "duration": 56,
    "start_time": "2021-10-21T21:15:36.349Z"
   },
   {
    "duration": 12,
    "start_time": "2021-10-21T21:15:36.776Z"
   },
   {
    "duration": 35,
    "start_time": "2021-10-21T21:15:37.183Z"
   },
   {
    "duration": 29,
    "start_time": "2021-10-21T21:15:37.546Z"
   },
   {
    "duration": 10,
    "start_time": "2021-10-21T21:15:38.463Z"
   },
   {
    "duration": 4472,
    "start_time": "2021-10-21T21:15:38.921Z"
   },
   {
    "duration": 135,
    "start_time": "2021-10-21T21:15:43.396Z"
   },
   {
    "duration": 5,
    "start_time": "2021-10-21T21:15:43.534Z"
   },
   {
    "duration": 40,
    "start_time": "2021-10-21T21:15:43.542Z"
   },
   {
    "duration": 10,
    "start_time": "2021-10-21T21:15:43.585Z"
   },
   {
    "duration": 5,
    "start_time": "2021-10-21T21:15:43.659Z"
   },
   {
    "duration": 16,
    "start_time": "2021-10-21T21:15:44.623Z"
   },
   {
    "duration": 11,
    "start_time": "2021-10-21T21:15:45.403Z"
   },
   {
    "duration": 16,
    "start_time": "2021-10-21T21:15:47.332Z"
   },
   {
    "duration": 10,
    "start_time": "2021-10-21T21:15:48.896Z"
   },
   {
    "duration": 9,
    "start_time": "2021-10-21T21:15:56.667Z"
   },
   {
    "duration": 11,
    "start_time": "2021-10-21T21:18:00.093Z"
   },
   {
    "duration": 11,
    "start_time": "2021-10-21T21:18:08.227Z"
   },
   {
    "duration": 7,
    "start_time": "2021-10-21T21:20:37.989Z"
   },
   {
    "duration": 118,
    "start_time": "2021-10-21T21:20:47.611Z"
   },
   {
    "duration": 7,
    "start_time": "2021-10-21T21:20:50.703Z"
   },
   {
    "duration": 9,
    "start_time": "2021-10-21T21:21:01.855Z"
   },
   {
    "duration": 12,
    "start_time": "2021-10-21T21:21:08.640Z"
   },
   {
    "duration": 10,
    "start_time": "2021-10-21T21:21:29.992Z"
   },
   {
    "duration": 7,
    "start_time": "2021-10-21T21:21:40.934Z"
   },
   {
    "duration": 9,
    "start_time": "2021-10-21T21:21:51.888Z"
   },
   {
    "duration": 5,
    "start_time": "2021-10-21T21:24:43.570Z"
   },
   {
    "duration": 5,
    "start_time": "2021-10-21T21:25:02.618Z"
   },
   {
    "duration": 5,
    "start_time": "2021-10-21T21:25:11.205Z"
   },
   {
    "duration": 5,
    "start_time": "2021-10-21T21:25:15.945Z"
   },
   {
    "duration": 5,
    "start_time": "2021-10-21T21:25:20.993Z"
   },
   {
    "duration": 5,
    "start_time": "2021-10-21T21:25:24.807Z"
   },
   {
    "duration": 5,
    "start_time": "2021-10-21T21:25:47.755Z"
   },
   {
    "duration": 7,
    "start_time": "2021-10-21T21:25:56.490Z"
   },
   {
    "duration": 7,
    "start_time": "2021-10-21T21:26:02.236Z"
   },
   {
    "duration": 6,
    "start_time": "2021-10-21T21:26:14.410Z"
   },
   {
    "duration": 5,
    "start_time": "2021-10-21T21:26:19.448Z"
   },
   {
    "duration": 9,
    "start_time": "2021-10-21T21:27:11.416Z"
   },
   {
    "duration": 9,
    "start_time": "2021-10-21T21:27:22.864Z"
   },
   {
    "duration": 6,
    "start_time": "2021-10-21T21:27:40.499Z"
   },
   {
    "duration": 9,
    "start_time": "2021-10-21T21:28:49.218Z"
   },
   {
    "duration": 30,
    "start_time": "2021-10-21T21:30:31.403Z"
   },
   {
    "duration": 289,
    "start_time": "2021-10-21T21:31:07.365Z"
   },
   {
    "duration": 381,
    "start_time": "2021-10-21T21:31:13.370Z"
   },
   {
    "duration": 11,
    "start_time": "2021-10-21T21:31:17.914Z"
   },
   {
    "duration": 9,
    "start_time": "2021-10-21T21:32:31.307Z"
   },
   {
    "duration": 11,
    "start_time": "2021-10-21T21:32:39.527Z"
   },
   {
    "duration": 10,
    "start_time": "2021-10-21T21:33:25.433Z"
   },
   {
    "duration": 10,
    "start_time": "2021-10-21T21:34:35.805Z"
   },
   {
    "duration": 10,
    "start_time": "2021-10-21T21:36:25.905Z"
   },
   {
    "duration": 4,
    "start_time": "2021-10-21T21:38:34.552Z"
   },
   {
    "duration": 315,
    "start_time": "2021-10-21T21:38:55.257Z"
   },
   {
    "duration": 2346,
    "start_time": "2021-10-21T21:40:35.746Z"
   },
   {
    "duration": 6,
    "start_time": "2021-10-21T21:40:45.362Z"
   },
   {
    "duration": 6,
    "start_time": "2021-10-21T21:42:07.597Z"
   },
   {
    "duration": 8,
    "start_time": "2021-10-21T21:42:19.292Z"
   },
   {
    "duration": 7,
    "start_time": "2021-10-21T21:44:48.750Z"
   },
   {
    "duration": 10,
    "start_time": "2021-10-21T21:45:11.108Z"
   },
   {
    "duration": 11,
    "start_time": "2021-10-21T21:46:40.858Z"
   },
   {
    "duration": 10,
    "start_time": "2021-10-21T21:47:19.024Z"
   },
   {
    "duration": 12,
    "start_time": "2021-10-21T21:47:41.748Z"
   },
   {
    "duration": 302,
    "start_time": "2021-10-21T21:50:05.275Z"
   },
   {
    "duration": 3,
    "start_time": "2021-10-21T21:50:17.889Z"
   },
   {
    "duration": 8,
    "start_time": "2021-10-21T21:50:18.490Z"
   },
   {
    "duration": 7,
    "start_time": "2021-10-21T21:51:15.835Z"
   },
   {
    "duration": 10,
    "start_time": "2021-10-21T21:55:29.736Z"
   },
   {
    "duration": 11,
    "start_time": "2021-10-21T21:56:37.541Z"
   },
   {
    "duration": 4,
    "start_time": "2021-10-21T21:57:49.457Z"
   },
   {
    "duration": 6,
    "start_time": "2021-10-21T21:58:53.997Z"
   },
   {
    "duration": 6,
    "start_time": "2021-10-21T21:59:04.766Z"
   },
   {
    "duration": 821,
    "start_time": "2021-10-22T11:01:43.138Z"
   },
   {
    "duration": 75,
    "start_time": "2021-10-22T11:01:43.965Z"
   },
   {
    "duration": 30,
    "start_time": "2021-10-22T11:01:44.043Z"
   },
   {
    "duration": 37,
    "start_time": "2021-10-22T11:01:44.075Z"
   },
   {
    "duration": 16,
    "start_time": "2021-10-22T11:01:44.114Z"
   },
   {
    "duration": 23,
    "start_time": "2021-10-22T11:01:44.133Z"
   },
   {
    "duration": 5,
    "start_time": "2021-10-22T11:01:44.158Z"
   },
   {
    "duration": 6,
    "start_time": "2021-10-22T11:01:44.204Z"
   },
   {
    "duration": 10,
    "start_time": "2021-10-22T11:01:44.213Z"
   },
   {
    "duration": 18,
    "start_time": "2021-10-22T11:01:44.225Z"
   },
   {
    "duration": 5,
    "start_time": "2021-10-22T11:01:44.246Z"
   },
   {
    "duration": 51,
    "start_time": "2021-10-22T11:01:44.254Z"
   },
   {
    "duration": 17,
    "start_time": "2021-10-22T11:01:44.308Z"
   },
   {
    "duration": 24,
    "start_time": "2021-10-22T11:01:44.327Z"
   },
   {
    "duration": 59,
    "start_time": "2021-10-22T11:01:44.353Z"
   },
   {
    "duration": 23,
    "start_time": "2021-10-22T11:01:44.415Z"
   },
   {
    "duration": 17,
    "start_time": "2021-10-22T11:01:44.441Z"
   },
   {
    "duration": 91,
    "start_time": "2021-10-22T11:01:44.461Z"
   },
   {
    "duration": 13,
    "start_time": "2021-10-22T11:01:44.554Z"
   },
   {
    "duration": 54,
    "start_time": "2021-10-22T11:01:44.569Z"
   },
   {
    "duration": 28,
    "start_time": "2021-10-22T11:01:44.626Z"
   },
   {
    "duration": 8,
    "start_time": "2021-10-22T11:01:44.656Z"
   },
   {
    "duration": 4889,
    "start_time": "2021-10-22T11:01:44.666Z"
   },
   {
    "duration": 169,
    "start_time": "2021-10-22T11:01:49.559Z"
   },
   {
    "duration": 5,
    "start_time": "2021-10-22T11:01:49.731Z"
   },
   {
    "duration": 17,
    "start_time": "2021-10-22T11:01:49.741Z"
   },
   {
    "duration": 12,
    "start_time": "2021-10-22T11:01:49.761Z"
   },
   {
    "duration": 7,
    "start_time": "2021-10-22T11:01:49.800Z"
   },
   {
    "duration": 21,
    "start_time": "2021-10-22T11:01:49.810Z"
   },
   {
    "duration": 9,
    "start_time": "2021-10-22T11:01:49.834Z"
   },
   {
    "duration": 22,
    "start_time": "2021-10-22T11:01:49.845Z"
   },
   {
    "duration": 40,
    "start_time": "2021-10-22T11:01:49.869Z"
   },
   {
    "duration": 17,
    "start_time": "2021-10-22T11:01:49.913Z"
   },
   {
    "duration": 8,
    "start_time": "2021-10-22T11:01:49.932Z"
   },
   {
    "duration": 8,
    "start_time": "2021-10-22T11:01:49.942Z"
   },
   {
    "duration": 14,
    "start_time": "2021-10-22T11:01:49.952Z"
   },
   {
    "duration": 35,
    "start_time": "2021-10-22T11:01:49.968Z"
   },
   {
    "duration": 18,
    "start_time": "2021-10-22T11:01:50.008Z"
   },
   {
    "duration": 12,
    "start_time": "2021-10-22T11:01:50.028Z"
   },
   {
    "duration": 12,
    "start_time": "2021-10-22T11:01:50.042Z"
   },
   {
    "duration": 19,
    "start_time": "2021-10-22T11:01:50.057Z"
   },
   {
    "duration": 31,
    "start_time": "2021-10-22T11:01:50.079Z"
   },
   {
    "duration": 15,
    "start_time": "2021-10-22T11:01:50.113Z"
   },
   {
    "duration": 4,
    "start_time": "2021-10-22T11:01:50.130Z"
   },
   {
    "duration": 12,
    "start_time": "2021-10-22T11:01:50.136Z"
   },
   {
    "duration": 56,
    "start_time": "2021-10-22T11:01:50.151Z"
   },
   {
    "duration": 14,
    "start_time": "2021-10-22T11:01:50.209Z"
   },
   {
    "duration": 4,
    "start_time": "2021-10-22T11:01:50.226Z"
   },
   {
    "duration": 8,
    "start_time": "2021-10-22T11:01:50.232Z"
   },
   {
    "duration": 739,
    "start_time": "2021-10-27T14:05:53.907Z"
   },
   {
    "duration": 55,
    "start_time": "2021-10-27T14:05:54.648Z"
   },
   {
    "duration": 20,
    "start_time": "2021-10-27T14:05:54.705Z"
   },
   {
    "duration": 12,
    "start_time": "2021-10-27T14:05:54.976Z"
   },
   {
    "duration": 11,
    "start_time": "2021-10-27T14:05:56.907Z"
   },
   {
    "duration": 16,
    "start_time": "2021-10-27T14:05:57.335Z"
   },
   {
    "duration": 4,
    "start_time": "2021-10-27T14:05:57.995Z"
   },
   {
    "duration": 4,
    "start_time": "2021-10-27T14:05:58.414Z"
   },
   {
    "duration": 5,
    "start_time": "2021-10-27T14:05:58.954Z"
   },
   {
    "duration": 11,
    "start_time": "2021-10-27T14:05:59.778Z"
   },
   {
    "duration": 3,
    "start_time": "2021-10-27T14:06:42.367Z"
   },
   {
    "duration": 52,
    "start_time": "2021-10-27T14:06:42.734Z"
   },
   {
    "duration": 14,
    "start_time": "2021-10-27T14:06:43.314Z"
   },
   {
    "duration": 11,
    "start_time": "2021-10-27T14:06:44.352Z"
   },
   {
    "duration": 10,
    "start_time": "2021-10-27T14:06:45.880Z"
   },
   {
    "duration": 16,
    "start_time": "2021-10-27T14:06:47.796Z"
   },
   {
    "duration": 4,
    "start_time": "2021-10-27T14:07:20.880Z"
   },
   {
    "duration": 2,
    "start_time": "2021-10-27T14:10:36.390Z"
   },
   {
    "duration": 51,
    "start_time": "2021-10-27T14:10:36.686Z"
   },
   {
    "duration": 16,
    "start_time": "2021-10-27T14:10:37.019Z"
   },
   {
    "duration": 16,
    "start_time": "2021-10-27T14:10:37.346Z"
   },
   {
    "duration": 10,
    "start_time": "2021-10-27T14:10:38.498Z"
   },
   {
    "duration": 16,
    "start_time": "2021-10-27T14:10:39.176Z"
   },
   {
    "duration": 22,
    "start_time": "2021-10-27T14:10:41.189Z"
   },
   {
    "duration": 4,
    "start_time": "2021-10-27T14:12:53.935Z"
   },
   {
    "duration": 7,
    "start_time": "2021-10-27T14:14:39.783Z"
   },
   {
    "duration": 3,
    "start_time": "2021-10-27T14:16:24.134Z"
   },
   {
    "duration": 5,
    "start_time": "2021-10-27T14:16:55.726Z"
   },
   {
    "duration": 4,
    "start_time": "2021-10-27T14:18:11.255Z"
   },
   {
    "duration": 10,
    "start_time": "2021-10-27T14:18:11.795Z"
   },
   {
    "duration": 8,
    "start_time": "2021-10-27T14:20:04.789Z"
   },
   {
    "duration": 4,
    "start_time": "2021-10-27T14:23:02.243Z"
   },
   {
    "duration": 5,
    "start_time": "2021-10-27T14:26:36.619Z"
   },
   {
    "duration": 425,
    "start_time": "2021-10-27T14:26:41.938Z"
   },
   {
    "duration": 388,
    "start_time": "2021-10-27T14:26:50.492Z"
   },
   {
    "duration": 5,
    "start_time": "2021-10-27T14:37:03.899Z"
   },
   {
    "duration": 4,
    "start_time": "2021-10-27T14:37:04.616Z"
   },
   {
    "duration": 8,
    "start_time": "2021-10-27T14:37:05.460Z"
   },
   {
    "duration": 5,
    "start_time": "2021-10-27T14:43:46.672Z"
   },
   {
    "duration": 10,
    "start_time": "2021-10-27T14:43:47.376Z"
   },
   {
    "duration": 125,
    "start_time": "2021-10-27T14:45:35.733Z"
   },
   {
    "duration": 5,
    "start_time": "2021-10-27T14:48:10.880Z"
   },
   {
    "duration": 13,
    "start_time": "2021-10-27T14:48:11.271Z"
   },
   {
    "duration": 12,
    "start_time": "2021-10-27T14:48:11.633Z"
   },
   {
    "duration": 16,
    "start_time": "2021-10-27T14:48:12.779Z"
   },
   {
    "duration": 18,
    "start_time": "2021-10-27T14:48:13.153Z"
   },
   {
    "duration": 17,
    "start_time": "2021-10-27T14:48:13.559Z"
   },
   {
    "duration": 14,
    "start_time": "2021-10-27T14:48:13.933Z"
   },
   {
    "duration": 42,
    "start_time": "2021-10-27T14:48:14.318Z"
   },
   {
    "duration": 10,
    "start_time": "2021-10-27T14:48:18.722Z"
   },
   {
    "duration": 26,
    "start_time": "2021-10-27T14:48:19.146Z"
   },
   {
    "duration": 24,
    "start_time": "2021-10-27T14:48:19.549Z"
   },
   {
    "duration": 7,
    "start_time": "2021-10-27T14:48:29.068Z"
   },
   {
    "duration": 3601,
    "start_time": "2021-10-27T14:48:29.481Z"
   },
   {
    "duration": 92,
    "start_time": "2021-10-27T14:48:33.085Z"
   },
   {
    "duration": 3,
    "start_time": "2021-10-27T14:48:33.179Z"
   },
   {
    "duration": 13,
    "start_time": "2021-10-27T14:48:33.184Z"
   },
   {
    "duration": 8,
    "start_time": "2021-10-27T14:48:40.422Z"
   },
   {
    "duration": 4,
    "start_time": "2021-10-27T14:48:41.447Z"
   },
   {
    "duration": 11,
    "start_time": "2021-10-27T14:48:43.183Z"
   },
   {
    "duration": 8,
    "start_time": "2021-10-27T14:48:43.708Z"
   },
   {
    "duration": 366,
    "start_time": "2021-10-27T14:51:05.750Z"
   },
   {
    "duration": 366,
    "start_time": "2021-10-27T14:51:20.896Z"
   },
   {
    "duration": 1113,
    "start_time": "2021-10-27T14:51:35.267Z"
   },
   {
    "duration": 22,
    "start_time": "2021-10-27T14:56:36.797Z"
   },
   {
    "duration": 14,
    "start_time": "2021-10-27T14:56:47.528Z"
   },
   {
    "duration": 394,
    "start_time": "2021-10-27T14:57:08.142Z"
   },
   {
    "duration": 22,
    "start_time": "2021-10-27T14:57:22.144Z"
   },
   {
    "duration": 12,
    "start_time": "2021-10-27T14:59:07.196Z"
   },
   {
    "duration": 12,
    "start_time": "2021-10-27T15:01:48.311Z"
   },
   {
    "duration": 11,
    "start_time": "2021-10-27T15:02:18.149Z"
   },
   {
    "duration": 22,
    "start_time": "2021-10-27T15:02:18.671Z"
   },
   {
    "duration": 21,
    "start_time": "2021-10-27T15:04:32.201Z"
   },
   {
    "duration": 21,
    "start_time": "2021-10-27T15:04:39.871Z"
   },
   {
    "duration": 20,
    "start_time": "2021-10-27T15:06:05.688Z"
   },
   {
    "duration": 19,
    "start_time": "2021-10-27T15:11:47.231Z"
   },
   {
    "duration": 20,
    "start_time": "2021-10-27T15:12:36.395Z"
   },
   {
    "duration": 19,
    "start_time": "2021-10-27T15:12:38.513Z"
   },
   {
    "duration": 380,
    "start_time": "2021-10-27T15:12:54.311Z"
   },
   {
    "duration": 20,
    "start_time": "2021-10-27T15:13:18.304Z"
   },
   {
    "duration": 20,
    "start_time": "2021-10-27T15:13:56.708Z"
   },
   {
    "duration": 20,
    "start_time": "2021-10-27T15:15:04.945Z"
   },
   {
    "duration": 9,
    "start_time": "2021-10-27T15:15:42.004Z"
   },
   {
    "duration": 8,
    "start_time": "2021-10-27T15:15:48.264Z"
   },
   {
    "duration": 8,
    "start_time": "2021-10-27T15:16:06.914Z"
   },
   {
    "duration": 8,
    "start_time": "2021-10-27T15:16:17.740Z"
   },
   {
    "duration": 11,
    "start_time": "2021-10-27T15:17:26.787Z"
   },
   {
    "duration": 7,
    "start_time": "2021-10-27T15:23:57.001Z"
   },
   {
    "duration": 3,
    "start_time": "2021-10-27T15:26:07.948Z"
   },
   {
    "duration": 10,
    "start_time": "2021-10-27T15:26:08.463Z"
   },
   {
    "duration": 7,
    "start_time": "2021-10-27T15:26:09.076Z"
   },
   {
    "duration": 375,
    "start_time": "2021-10-27T15:29:24.580Z"
   },
   {
    "duration": 19,
    "start_time": "2021-10-27T15:29:31.548Z"
   },
   {
    "duration": 20,
    "start_time": "2021-10-27T15:30:31.463Z"
   },
   {
    "duration": 10,
    "start_time": "2021-10-27T15:30:31.993Z"
   },
   {
    "duration": 18,
    "start_time": "2021-10-27T15:30:33.917Z"
   },
   {
    "duration": 19,
    "start_time": "2021-10-27T15:31:31.714Z"
   },
   {
    "duration": 20,
    "start_time": "2021-10-27T15:32:17.009Z"
   },
   {
    "duration": 19,
    "start_time": "2021-10-27T15:32:21.226Z"
   },
   {
    "duration": 9,
    "start_time": "2021-10-27T15:34:01.673Z"
   },
   {
    "duration": 8,
    "start_time": "2021-10-27T15:34:51.838Z"
   },
   {
    "duration": 121,
    "start_time": "2021-10-27T15:37:30.825Z"
   },
   {
    "duration": 19,
    "start_time": "2021-10-27T15:39:42.578Z"
   },
   {
    "duration": 8,
    "start_time": "2021-10-27T15:40:10.156Z"
   },
   {
    "duration": 9,
    "start_time": "2021-10-27T15:40:28.006Z"
   },
   {
    "duration": 125,
    "start_time": "2021-10-27T15:41:43.327Z"
   },
   {
    "duration": 20,
    "start_time": "2021-10-27T15:44:59.300Z"
   },
   {
    "duration": 10,
    "start_time": "2021-10-27T15:46:21.613Z"
   },
   {
    "duration": 9,
    "start_time": "2021-10-27T15:47:31.569Z"
   },
   {
    "duration": 130,
    "start_time": "2021-10-27T15:49:09.617Z"
   },
   {
    "duration": 564,
    "start_time": "2021-10-28T07:21:30.815Z"
   },
   {
    "duration": 53,
    "start_time": "2021-10-28T07:21:31.382Z"
   },
   {
    "duration": 19,
    "start_time": "2021-10-28T07:21:31.437Z"
   },
   {
    "duration": 11,
    "start_time": "2021-10-28T07:21:31.463Z"
   },
   {
    "duration": 9,
    "start_time": "2021-10-28T07:21:31.476Z"
   },
   {
    "duration": 15,
    "start_time": "2021-10-28T07:21:31.487Z"
   },
   {
    "duration": 4,
    "start_time": "2021-10-28T07:21:31.504Z"
   },
   {
    "duration": 16,
    "start_time": "2021-10-28T07:21:31.510Z"
   },
   {
    "duration": 35,
    "start_time": "2021-10-28T07:21:31.528Z"
   },
   {
    "duration": 13,
    "start_time": "2021-10-28T07:21:31.565Z"
   },
   {
    "duration": 10,
    "start_time": "2021-10-28T07:21:31.580Z"
   },
   {
    "duration": 19,
    "start_time": "2021-10-28T07:21:31.592Z"
   },
   {
    "duration": 17,
    "start_time": "2021-10-28T07:21:31.613Z"
   },
   {
    "duration": 42,
    "start_time": "2021-10-28T07:21:31.632Z"
   },
   {
    "duration": 12,
    "start_time": "2021-10-28T07:21:31.675Z"
   },
   {
    "duration": 46,
    "start_time": "2021-10-28T07:21:31.689Z"
   },
   {
    "duration": 27,
    "start_time": "2021-10-28T07:21:31.737Z"
   },
   {
    "duration": 36,
    "start_time": "2021-10-28T07:21:31.766Z"
   },
   {
    "duration": 24,
    "start_time": "2021-10-28T07:21:31.804Z"
   },
   {
    "duration": 4,
    "start_time": "2021-10-28T07:21:31.830Z"
   },
   {
    "duration": 3443,
    "start_time": "2021-10-28T07:21:31.836Z"
   },
   {
    "duration": 91,
    "start_time": "2021-10-28T07:21:35.281Z"
   },
   {
    "duration": 4,
    "start_time": "2021-10-28T07:21:35.377Z"
   },
   {
    "duration": 22,
    "start_time": "2021-10-28T07:21:35.384Z"
   },
   {
    "duration": 16,
    "start_time": "2021-10-28T07:21:35.408Z"
   },
   {
    "duration": 10,
    "start_time": "2021-10-28T07:21:35.426Z"
   },
   {
    "duration": 3,
    "start_time": "2021-10-28T07:21:35.438Z"
   },
   {
    "duration": 12,
    "start_time": "2021-10-28T07:21:35.463Z"
   },
   {
    "duration": 10,
    "start_time": "2021-10-28T07:21:35.476Z"
   },
   {
    "duration": 31,
    "start_time": "2021-10-28T07:21:35.488Z"
   },
   {
    "duration": 12,
    "start_time": "2021-10-28T07:21:35.520Z"
   },
   {
    "duration": 41,
    "start_time": "2021-10-28T07:21:35.534Z"
   },
   {
    "duration": 8,
    "start_time": "2021-10-28T07:21:35.576Z"
   },
   {
    "duration": 19,
    "start_time": "2021-10-28T07:21:35.586Z"
   },
   {
    "duration": 7,
    "start_time": "2021-10-28T07:21:35.607Z"
   },
   {
    "duration": 12,
    "start_time": "2021-10-28T07:21:35.616Z"
   },
   {
    "duration": 52,
    "start_time": "2021-10-28T07:21:35.629Z"
   },
   {
    "duration": 8,
    "start_time": "2021-10-28T07:21:35.683Z"
   },
   {
    "duration": 771,
    "start_time": "2021-10-29T11:43:25.975Z"
   },
   {
    "duration": 66,
    "start_time": "2021-10-29T11:43:26.748Z"
   },
   {
    "duration": 28,
    "start_time": "2021-10-29T11:43:26.817Z"
   },
   {
    "duration": 14,
    "start_time": "2021-10-29T11:43:27.379Z"
   },
   {
    "duration": 12,
    "start_time": "2021-10-29T11:43:31.836Z"
   },
   {
    "duration": 22,
    "start_time": "2021-10-29T11:43:32.315Z"
   },
   {
    "duration": 6,
    "start_time": "2021-10-29T11:43:33.306Z"
   },
   {
    "duration": 12,
    "start_time": "2021-10-29T11:43:34.116Z"
   },
   {
    "duration": 6,
    "start_time": "2021-10-29T11:46:31.940Z"
   },
   {
    "duration": 5,
    "start_time": "2021-10-29T11:48:12.412Z"
   },
   {
    "duration": 13,
    "start_time": "2021-10-29T11:48:15.459Z"
   },
   {
    "duration": 3,
    "start_time": "2021-10-29T11:48:20.452Z"
   },
   {
    "duration": 60,
    "start_time": "2021-10-29T11:48:20.795Z"
   },
   {
    "duration": 19,
    "start_time": "2021-10-29T11:48:21.156Z"
   },
   {
    "duration": 14,
    "start_time": "2021-10-29T11:48:21.531Z"
   },
   {
    "duration": 14,
    "start_time": "2021-10-29T11:48:22.707Z"
   },
   {
    "duration": 23,
    "start_time": "2021-10-29T11:48:23.124Z"
   },
   {
    "duration": 5,
    "start_time": "2021-10-29T11:48:25.869Z"
   },
   {
    "duration": 13,
    "start_time": "2021-10-29T11:48:26.281Z"
   },
   {
    "duration": 7,
    "start_time": "2021-10-29T11:48:26.698Z"
   },
   {
    "duration": 5,
    "start_time": "2021-10-29T11:49:32.532Z"
   },
   {
    "duration": 5,
    "start_time": "2021-10-29T11:49:35.212Z"
   },
   {
    "duration": 6,
    "start_time": "2021-10-29T11:49:44.252Z"
   },
   {
    "duration": 3,
    "start_time": "2021-10-29T11:51:38.256Z"
   },
   {
    "duration": 5,
    "start_time": "2021-10-29T11:51:46.196Z"
   },
   {
    "duration": 6,
    "start_time": "2021-10-29T11:52:45.061Z"
   },
   {
    "duration": 4,
    "start_time": "2021-10-29T11:54:07.126Z"
   },
   {
    "duration": 6,
    "start_time": "2021-10-29T11:55:09.877Z"
   },
   {
    "duration": 14,
    "start_time": "2021-10-29T11:55:15.509Z"
   },
   {
    "duration": 6,
    "start_time": "2021-10-29T11:55:56.652Z"
   },
   {
    "duration": 15,
    "start_time": "2021-10-29T11:56:54.407Z"
   },
   {
    "duration": 509,
    "start_time": "2021-10-29T11:57:40.902Z"
   },
   {
    "duration": 5,
    "start_time": "2021-10-29T11:57:57.417Z"
   },
   {
    "duration": 5,
    "start_time": "2021-10-29T11:58:08.693Z"
   },
   {
    "duration": 8,
    "start_time": "2021-10-29T11:58:20.286Z"
   },
   {
    "duration": 4,
    "start_time": "2021-10-29T11:58:39.798Z"
   },
   {
    "duration": 3927,
    "start_time": "2021-10-29T11:58:59.093Z"
   },
   {
    "duration": 8,
    "start_time": "2021-10-29T11:59:45.867Z"
   },
   {
    "duration": 369,
    "start_time": "2021-10-29T11:59:55.230Z"
   },
   {
    "duration": 9,
    "start_time": "2021-10-29T12:00:04.542Z"
   },
   {
    "duration": 11108,
    "start_time": "2021-10-29T12:01:39.094Z"
   },
   {
    "duration": 11132,
    "start_time": "2021-10-29T12:02:57.127Z"
   },
   {
    "duration": 9,
    "start_time": "2021-10-29T12:09:12.031Z"
   },
   {
    "duration": 12,
    "start_time": "2021-10-29T12:09:22.167Z"
   },
   {
    "duration": 10,
    "start_time": "2021-10-29T12:11:56.992Z"
   },
   {
    "duration": 6,
    "start_time": "2021-10-29T12:15:50.920Z"
   },
   {
    "duration": 5,
    "start_time": "2021-10-29T12:17:41.035Z"
   },
   {
    "duration": 36,
    "start_time": "2021-10-29T12:17:45.281Z"
   },
   {
    "duration": 34,
    "start_time": "2021-10-29T12:19:08.482Z"
   },
   {
    "duration": 6,
    "start_time": "2021-10-29T12:19:14.377Z"
   },
   {
    "duration": 5,
    "start_time": "2021-10-29T12:21:00.994Z"
   },
   {
    "duration": 75,
    "start_time": "2021-10-29T12:24:26.167Z"
   },
   {
    "duration": 14,
    "start_time": "2021-10-29T12:30:08.491Z"
   },
   {
    "duration": 22,
    "start_time": "2021-10-29T12:31:25.896Z"
   },
   {
    "duration": 445,
    "start_time": "2021-10-29T12:32:27.288Z"
   },
   {
    "duration": 112,
    "start_time": "2021-10-29T12:34:54.761Z"
   },
   {
    "duration": 108,
    "start_time": "2021-10-29T12:36:34.055Z"
   },
   {
    "duration": 107,
    "start_time": "2021-10-29T12:37:11.077Z"
   },
   {
    "duration": 13,
    "start_time": "2021-10-29T12:37:13.533Z"
   },
   {
    "duration": 13,
    "start_time": "2021-10-29T12:38:12.615Z"
   },
   {
    "duration": 105,
    "start_time": "2021-10-29T12:38:13.294Z"
   },
   {
    "duration": 342,
    "start_time": "2021-10-29T14:48:38.622Z"
   },
   {
    "duration": 578,
    "start_time": "2021-10-29T14:48:48.407Z"
   },
   {
    "duration": 53,
    "start_time": "2021-10-29T14:48:48.987Z"
   },
   {
    "duration": 25,
    "start_time": "2021-10-29T14:48:49.042Z"
   },
   {
    "duration": 11,
    "start_time": "2021-10-29T14:48:49.302Z"
   },
   {
    "duration": 26,
    "start_time": "2021-10-29T14:48:50.327Z"
   },
   {
    "duration": 26,
    "start_time": "2021-10-29T14:48:50.704Z"
   },
   {
    "duration": 4,
    "start_time": "2021-10-29T14:48:51.183Z"
   },
   {
    "duration": 5,
    "start_time": "2021-10-29T14:48:51.519Z"
   },
   {
    "duration": 9,
    "start_time": "2021-10-29T14:48:51.886Z"
   },
   {
    "duration": 76,
    "start_time": "2021-10-29T14:48:52.241Z"
   },
   {
    "duration": 10,
    "start_time": "2021-10-29T14:48:52.598Z"
   },
   {
    "duration": 5,
    "start_time": "2021-10-29T14:48:54.287Z"
   },
   {
    "duration": 11,
    "start_time": "2021-10-29T14:48:54.664Z"
   },
   {
    "duration": 15,
    "start_time": "2021-10-29T14:48:55.046Z"
   },
   {
    "duration": 17,
    "start_time": "2021-10-29T14:48:55.999Z"
   },
   {
    "duration": 18,
    "start_time": "2021-10-29T14:48:56.352Z"
   },
   {
    "duration": 23,
    "start_time": "2021-10-29T14:48:56.734Z"
   },
   {
    "duration": 15,
    "start_time": "2021-10-29T14:48:57.095Z"
   },
   {
    "duration": 43,
    "start_time": "2021-10-29T14:48:57.494Z"
   },
   {
    "duration": 10,
    "start_time": "2021-10-29T14:48:58.087Z"
   },
   {
    "duration": 25,
    "start_time": "2021-10-29T14:48:58.439Z"
   },
   {
    "duration": 26,
    "start_time": "2021-10-29T14:48:58.838Z"
   },
   {
    "duration": 8,
    "start_time": "2021-10-29T14:48:59.806Z"
   },
   {
    "duration": 1615,
    "start_time": "2021-10-29T14:49:00.190Z"
   },
   {
    "duration": 526,
    "start_time": "2021-10-29T14:49:01.282Z"
   },
   {
    "duration": 523,
    "start_time": "2021-10-29T14:49:01.286Z"
   },
   {
    "duration": 264,
    "start_time": "2021-10-29T14:49:01.849Z"
   },
   {
    "duration": 6659,
    "start_time": "2021-10-29T14:49:02.683Z"
   },
   {
    "duration": 558,
    "start_time": "2021-10-29T14:49:08.786Z"
   },
   {
    "duration": 556,
    "start_time": "2021-10-29T14:49:08.790Z"
   },
   {
    "duration": 552,
    "start_time": "2021-10-29T14:49:08.795Z"
   },
   {
    "duration": 550,
    "start_time": "2021-10-29T14:49:08.798Z"
   },
   {
    "duration": 549,
    "start_time": "2021-10-29T14:49:08.801Z"
   },
   {
    "duration": 2,
    "start_time": "2021-10-29T14:49:41.400Z"
   },
   {
    "duration": 896,
    "start_time": "2021-10-29T14:49:41.905Z"
   },
   {
    "duration": 21,
    "start_time": "2021-10-29T14:50:48.848Z"
   },
   {
    "duration": 37,
    "start_time": "2021-10-29T14:50:49.456Z"
   },
   {
    "duration": 33,
    "start_time": "2021-10-29T14:50:50.935Z"
   },
   {
    "duration": 27,
    "start_time": "2021-10-29T14:50:51.544Z"
   },
   {
    "duration": 25,
    "start_time": "2021-10-29T14:50:52.232Z"
   },
   {
    "duration": 17,
    "start_time": "2021-10-29T14:50:52.830Z"
   },
   {
    "duration": 38,
    "start_time": "2021-10-29T14:50:53.479Z"
   },
   {
    "duration": 15,
    "start_time": "2021-10-29T14:50:54.439Z"
   },
   {
    "duration": 22,
    "start_time": "2021-10-29T14:50:55.151Z"
   },
   {
    "duration": 23,
    "start_time": "2021-10-29T14:50:55.831Z"
   },
   {
    "duration": 3,
    "start_time": "2021-10-29T14:50:57.415Z"
   },
   {
    "duration": 966,
    "start_time": "2021-10-29T14:50:58.040Z"
   },
   {
    "duration": 3,
    "start_time": "2021-10-29T14:51:42.201Z"
   },
   {
    "duration": 1379,
    "start_time": "2021-10-29T14:51:42.616Z"
   },
   {
    "duration": 23,
    "start_time": "2021-10-29T14:52:09.650Z"
   },
   {
    "duration": 6,
    "start_time": "2021-10-29T14:52:26.433Z"
   },
   {
    "duration": 6,
    "start_time": "2021-10-29T14:52:30.195Z"
   },
   {
    "duration": 7,
    "start_time": "2021-10-29T14:52:58.913Z"
   },
   {
    "duration": 4,
    "start_time": "2021-10-29T14:53:06.235Z"
   },
   {
    "duration": 15,
    "start_time": "2021-10-29T14:53:06.584Z"
   },
   {
    "duration": 12,
    "start_time": "2021-10-29T14:53:06.920Z"
   },
   {
    "duration": 19,
    "start_time": "2021-10-29T14:53:08.260Z"
   },
   {
    "duration": 19,
    "start_time": "2021-10-29T14:53:08.592Z"
   },
   {
    "duration": 19,
    "start_time": "2021-10-29T14:53:08.960Z"
   },
   {
    "duration": 14,
    "start_time": "2021-10-29T14:53:09.296Z"
   },
   {
    "duration": 37,
    "start_time": "2021-10-29T14:53:09.649Z"
   },
   {
    "duration": 12,
    "start_time": "2021-10-29T14:53:10.152Z"
   },
   {
    "duration": 19,
    "start_time": "2021-10-29T14:53:10.601Z"
   },
   {
    "duration": 19,
    "start_time": "2021-10-29T14:53:11.160Z"
   },
   {
    "duration": 2,
    "start_time": "2021-10-29T14:53:12.271Z"
   },
   {
    "duration": 963,
    "start_time": "2021-10-29T14:53:12.864Z"
   },
   {
    "duration": 2,
    "start_time": "2021-10-29T14:54:52.609Z"
   },
   {
    "duration": 59,
    "start_time": "2021-10-29T14:54:53.415Z"
   },
   {
    "duration": 13,
    "start_time": "2021-10-29T14:54:54.491Z"
   },
   {
    "duration": 2,
    "start_time": "2021-10-29T14:56:48.904Z"
   },
   {
    "duration": 47,
    "start_time": "2021-10-29T14:56:49.664Z"
   },
   {
    "duration": 13,
    "start_time": "2021-10-29T14:56:50.712Z"
   },
   {
    "duration": 10,
    "start_time": "2021-10-29T14:56:51.504Z"
   },
   {
    "duration": 10,
    "start_time": "2021-10-29T14:56:54.610Z"
   },
   {
    "duration": 16,
    "start_time": "2021-10-29T14:56:54.937Z"
   },
   {
    "duration": 3,
    "start_time": "2021-10-29T14:56:55.368Z"
   },
   {
    "duration": 6,
    "start_time": "2021-10-29T14:56:55.552Z"
   },
   {
    "duration": 8,
    "start_time": "2021-10-29T14:56:55.776Z"
   },
   {
    "duration": 68,
    "start_time": "2021-10-29T14:56:56.065Z"
   },
   {
    "duration": 9,
    "start_time": "2021-10-29T14:56:56.354Z"
   },
   {
    "duration": 5,
    "start_time": "2021-10-29T14:56:57.976Z"
   },
   {
    "duration": 11,
    "start_time": "2021-10-29T14:56:58.488Z"
   },
   {
    "duration": 13,
    "start_time": "2021-10-29T14:56:58.994Z"
   },
   {
    "duration": 16,
    "start_time": "2021-10-29T14:57:00.256Z"
   },
   {
    "duration": 17,
    "start_time": "2021-10-29T14:57:00.609Z"
   },
   {
    "duration": 24,
    "start_time": "2021-10-29T14:57:00.936Z"
   },
   {
    "duration": 15,
    "start_time": "2021-10-29T14:57:01.264Z"
   },
   {
    "duration": 56,
    "start_time": "2021-10-29T14:57:01.633Z"
   },
   {
    "duration": 10,
    "start_time": "2021-10-29T14:57:02.296Z"
   },
   {
    "duration": 22,
    "start_time": "2021-10-29T14:57:02.648Z"
   },
   {
    "duration": 19,
    "start_time": "2021-10-29T14:57:03.001Z"
   },
   {
    "duration": 2,
    "start_time": "2021-10-29T14:57:04.043Z"
   },
   {
    "duration": 1001,
    "start_time": "2021-10-29T14:57:04.546Z"
   },
   {
    "duration": 5,
    "start_time": "2021-10-29T14:57:52.282Z"
   },
   {
    "duration": 3,
    "start_time": "2021-10-29T14:57:53.400Z"
   },
   {
    "duration": 1405,
    "start_time": "2021-10-29T14:57:54.376Z"
   },
   {
    "duration": 4,
    "start_time": "2021-10-29T14:58:21.684Z"
   },
   {
    "duration": 24,
    "start_time": "2021-10-29T14:59:01.915Z"
   },
   {
    "duration": 85,
    "start_time": "2021-10-29T14:59:20.584Z"
   },
   {
    "duration": 6,
    "start_time": "2021-10-29T14:59:33.002Z"
   },
   {
    "duration": 7,
    "start_time": "2021-10-29T14:59:58.314Z"
   },
   {
    "duration": 3,
    "start_time": "2021-10-29T15:01:11.728Z"
   },
   {
    "duration": 59,
    "start_time": "2021-10-29T15:01:12.033Z"
   },
   {
    "duration": 16,
    "start_time": "2021-10-29T15:01:12.442Z"
   },
   {
    "duration": 10,
    "start_time": "2021-10-29T15:01:12.761Z"
   },
   {
    "duration": 17,
    "start_time": "2021-10-29T15:01:13.640Z"
   },
   {
    "duration": 16,
    "start_time": "2021-10-29T15:01:13.961Z"
   },
   {
    "duration": 3,
    "start_time": "2021-10-29T15:01:17.025Z"
   },
   {
    "duration": 5,
    "start_time": "2021-10-29T15:01:18.265Z"
   },
   {
    "duration": 16,
    "start_time": "2021-10-29T15:01:21.640Z"
   },
   {
    "duration": 306,
    "start_time": "2021-10-29T15:01:23.704Z"
   },
   {
    "duration": 563,
    "start_time": "2021-10-29T15:01:23.449Z"
   },
   {
    "duration": 15,
    "start_time": "2021-10-29T15:01:24.282Z"
   },
   {
    "duration": 17,
    "start_time": "2021-10-29T15:01:25.025Z"
   },
   {
    "duration": 19,
    "start_time": "2021-10-29T15:01:25.313Z"
   },
   {
    "duration": 17,
    "start_time": "2021-10-29T15:01:25.608Z"
   },
   {
    "duration": 12,
    "start_time": "2021-10-29T15:01:25.921Z"
   },
   {
    "duration": 40,
    "start_time": "2021-10-29T15:01:26.257Z"
   },
   {
    "duration": 11,
    "start_time": "2021-10-29T15:01:26.905Z"
   },
   {
    "duration": 26,
    "start_time": "2021-10-29T15:01:27.250Z"
   },
   {
    "duration": 20,
    "start_time": "2021-10-29T15:01:27.601Z"
   },
   {
    "duration": 3,
    "start_time": "2021-10-29T15:01:28.456Z"
   },
   {
    "duration": 3633,
    "start_time": "2021-10-29T15:01:28.849Z"
   },
   {
    "duration": 83,
    "start_time": "2021-10-29T15:01:34.647Z"
   },
   {
    "duration": 10,
    "start_time": "2021-10-29T15:02:13.619Z"
   },
   {
    "duration": 111,
    "start_time": "2021-10-29T15:02:14.525Z"
   },
   {
    "duration": 10,
    "start_time": "2021-10-29T15:02:15.561Z"
   },
   {
    "duration": 5,
    "start_time": "2021-10-29T15:02:18.746Z"
   },
   {
    "duration": 15,
    "start_time": "2021-10-29T15:02:21.537Z"
   },
   {
    "duration": 13,
    "start_time": "2021-10-29T15:02:27.482Z"
   },
   {
    "duration": 23,
    "start_time": "2021-10-29T15:02:30.303Z"
   },
   {
    "duration": 28,
    "start_time": "2021-10-29T15:02:30.328Z"
   },
   {
    "duration": 23,
    "start_time": "2021-10-29T15:02:30.359Z"
   },
   {
    "duration": 17,
    "start_time": "2021-10-29T15:02:30.384Z"
   },
   {
    "duration": 48,
    "start_time": "2021-10-29T15:02:30.653Z"
   },
   {
    "duration": 18,
    "start_time": "2021-10-29T15:02:31.336Z"
   },
   {
    "duration": 25,
    "start_time": "2021-10-29T15:02:32.033Z"
   },
   {
    "duration": 27,
    "start_time": "2021-10-29T15:02:32.537Z"
   },
   {
    "duration": 2,
    "start_time": "2021-10-29T15:02:33.681Z"
   },
   {
    "duration": 1014,
    "start_time": "2021-10-29T15:02:34.220Z"
   },
   {
    "duration": 587,
    "start_time": "2021-10-29T15:02:34.650Z"
   },
   {
    "duration": 280,
    "start_time": "2021-10-29T15:05:39.026Z"
   },
   {
    "duration": 33,
    "start_time": "2021-10-29T15:06:46.317Z"
   },
   {
    "duration": 14,
    "start_time": "2021-10-29T15:06:48.619Z"
   },
   {
    "duration": 31,
    "start_time": "2021-10-29T15:06:55.084Z"
   },
   {
    "duration": 11,
    "start_time": "2021-10-29T15:06:55.426Z"
   },
   {
    "duration": 2,
    "start_time": "2021-10-29T15:06:58.590Z"
   },
   {
    "duration": 50,
    "start_time": "2021-10-29T15:06:58.890Z"
   },
   {
    "duration": 14,
    "start_time": "2021-10-29T15:06:59.209Z"
   },
   {
    "duration": 15,
    "start_time": "2021-10-29T15:06:59.481Z"
   },
   {
    "duration": 10,
    "start_time": "2021-10-29T15:07:00.370Z"
   },
   {
    "duration": 15,
    "start_time": "2021-10-29T15:07:00.618Z"
   },
   {
    "duration": 4,
    "start_time": "2021-10-29T15:07:00.954Z"
   },
   {
    "duration": 5,
    "start_time": "2021-10-29T15:07:01.180Z"
   },
   {
    "duration": 7,
    "start_time": "2021-10-29T15:07:01.418Z"
   },
   {
    "duration": 31,
    "start_time": "2021-10-29T15:07:02.571Z"
   },
   {
    "duration": 10,
    "start_time": "2021-10-29T15:07:02.906Z"
   },
   {
    "duration": 5,
    "start_time": "2021-10-29T15:07:06.089Z"
   },
   {
    "duration": 12,
    "start_time": "2021-10-29T15:07:06.433Z"
   },
   {
    "duration": 10,
    "start_time": "2021-10-29T15:07:06.732Z"
   },
   {
    "duration": 15,
    "start_time": "2021-10-29T15:07:07.513Z"
   },
   {
    "duration": 17,
    "start_time": "2021-10-29T15:07:07.826Z"
   },
   {
    "duration": 15,
    "start_time": "2021-10-29T15:07:08.282Z"
   },
   {
    "duration": 12,
    "start_time": "2021-10-29T15:07:08.611Z"
   },
   {
    "duration": 43,
    "start_time": "2021-10-29T15:07:09.146Z"
   },
   {
    "duration": 9,
    "start_time": "2021-10-29T15:07:09.697Z"
   },
   {
    "duration": 25,
    "start_time": "2021-10-29T15:07:10.042Z"
   },
   {
    "duration": 21,
    "start_time": "2021-10-29T15:07:10.378Z"
   },
   {
    "duration": 2,
    "start_time": "2021-10-29T15:07:11.002Z"
   },
   {
    "duration": 3724,
    "start_time": "2021-10-29T15:07:11.226Z"
   },
   {
    "duration": 79,
    "start_time": "2021-10-29T15:07:14.953Z"
   },
   {
    "duration": 3,
    "start_time": "2021-10-29T15:07:42.929Z"
   },
   {
    "duration": 53,
    "start_time": "2021-10-29T15:07:43.146Z"
   },
   {
    "duration": 14,
    "start_time": "2021-10-29T15:07:43.363Z"
   },
   {
    "duration": 13,
    "start_time": "2021-10-29T15:07:43.569Z"
   },
   {
    "duration": 11,
    "start_time": "2021-10-29T15:07:44.202Z"
   },
   {
    "duration": 17,
    "start_time": "2021-10-29T15:07:44.394Z"
   },
   {
    "duration": 4,
    "start_time": "2021-10-29T15:07:44.745Z"
   },
   {
    "duration": 5,
    "start_time": "2021-10-29T15:07:44.977Z"
   },
   {
    "duration": 8,
    "start_time": "2021-10-29T15:07:45.185Z"
   },
   {
    "duration": 31,
    "start_time": "2021-10-29T15:07:45.394Z"
   },
   {
    "duration": 9,
    "start_time": "2021-10-29T15:07:45.610Z"
   },
   {
    "duration": 4,
    "start_time": "2021-10-29T15:07:46.571Z"
   },
   {
    "duration": 13,
    "start_time": "2021-10-29T15:07:46.794Z"
   },
   {
    "duration": 10,
    "start_time": "2021-10-29T15:07:47.002Z"
   },
   {
    "duration": 15,
    "start_time": "2021-10-29T15:07:47.530Z"
   },
   {
    "duration": 18,
    "start_time": "2021-10-29T15:07:47.745Z"
   },
   {
    "duration": 16,
    "start_time": "2021-10-29T15:07:47.961Z"
   },
   {
    "duration": 12,
    "start_time": "2021-10-29T15:07:48.170Z"
   },
   {
    "duration": 44,
    "start_time": "2021-10-29T15:07:48.377Z"
   },
   {
    "duration": 10,
    "start_time": "2021-10-29T15:07:48.697Z"
   },
   {
    "duration": 25,
    "start_time": "2021-10-29T15:07:48.913Z"
   },
   {
    "duration": 21,
    "start_time": "2021-10-29T15:07:49.122Z"
   },
   {
    "duration": 2,
    "start_time": "2021-10-29T15:07:49.634Z"
   },
   {
    "duration": 3569,
    "start_time": "2021-10-29T15:07:49.849Z"
   },
   {
    "duration": 82,
    "start_time": "2021-10-29T15:07:53.420Z"
   },
   {
    "duration": 3,
    "start_time": "2021-10-29T15:07:53.504Z"
   },
   {
    "duration": 16,
    "start_time": "2021-10-29T15:07:53.509Z"
   },
   {
    "duration": 7,
    "start_time": "2021-10-29T15:07:55.995Z"
   },
   {
    "duration": 6,
    "start_time": "2021-10-29T15:07:56.194Z"
   },
   {
    "duration": 3,
    "start_time": "2021-10-29T15:07:56.586Z"
   },
   {
    "duration": 11,
    "start_time": "2021-10-29T15:07:57.066Z"
   },
   {
    "duration": 8,
    "start_time": "2021-10-29T15:07:57.314Z"
   },
   {
    "duration": 9,
    "start_time": "2021-10-29T15:07:57.922Z"
   },
   {
    "duration": 8,
    "start_time": "2021-10-29T15:09:13.356Z"
   },
   {
    "duration": 14,
    "start_time": "2021-10-29T15:09:16.726Z"
   },
   {
    "duration": 8,
    "start_time": "2021-10-29T15:09:22.259Z"
   },
   {
    "duration": 8,
    "start_time": "2021-10-29T15:09:25.486Z"
   },
   {
    "duration": 3,
    "start_time": "2021-10-29T15:11:33.846Z"
   },
   {
    "duration": 4,
    "start_time": "2021-10-29T15:13:01.547Z"
   },
   {
    "duration": 160,
    "start_time": "2021-10-29T15:13:18.188Z"
   },
   {
    "duration": 3,
    "start_time": "2021-10-29T15:13:31.924Z"
   },
   {
    "duration": 1182,
    "start_time": "2021-10-29T15:15:32.476Z"
   },
   {
    "duration": 18,
    "start_time": "2021-10-29T15:15:48.637Z"
   },
   {
    "duration": 2068,
    "start_time": "2021-10-29T15:15:54.957Z"
   },
   {
    "duration": 1195,
    "start_time": "2021-10-29T15:16:00.516Z"
   },
   {
    "duration": 6,
    "start_time": "2021-10-29T15:22:32.687Z"
   },
   {
    "duration": 25,
    "start_time": "2021-10-29T15:22:36.062Z"
   },
   {
    "duration": 10,
    "start_time": "2021-10-29T15:27:34.278Z"
   },
   {
    "duration": 6,
    "start_time": "2021-10-29T15:27:49.335Z"
   },
   {
    "duration": 5,
    "start_time": "2021-10-29T15:27:57.055Z"
   },
   {
    "duration": 18,
    "start_time": "2021-10-29T15:28:19.815Z"
   },
   {
    "duration": 2,
    "start_time": "2021-10-29T15:28:30.422Z"
   },
   {
    "duration": 61,
    "start_time": "2021-10-29T15:28:30.621Z"
   },
   {
    "duration": 19,
    "start_time": "2021-10-29T15:28:30.846Z"
   },
   {
    "duration": 11,
    "start_time": "2021-10-29T15:28:31.078Z"
   },
   {
    "duration": 9,
    "start_time": "2021-10-29T15:28:31.797Z"
   },
   {
    "duration": 15,
    "start_time": "2021-10-29T15:28:32.162Z"
   },
   {
    "duration": 4,
    "start_time": "2021-10-29T15:28:32.909Z"
   },
   {
    "duration": 5,
    "start_time": "2021-10-29T15:28:33.138Z"
   },
   {
    "duration": 7,
    "start_time": "2021-10-29T15:28:33.389Z"
   },
   {
    "duration": 31,
    "start_time": "2021-10-29T15:28:33.669Z"
   },
   {
    "duration": 10,
    "start_time": "2021-10-29T15:28:33.957Z"
   },
   {
    "duration": 5,
    "start_time": "2021-10-29T15:28:35.429Z"
   },
   {
    "duration": 14,
    "start_time": "2021-10-29T15:28:35.653Z"
   },
   {
    "duration": 12,
    "start_time": "2021-10-29T15:28:35.862Z"
   },
   {
    "duration": 20,
    "start_time": "2021-10-29T15:28:36.445Z"
   },
   {
    "duration": 17,
    "start_time": "2021-10-29T15:28:36.933Z"
   },
   {
    "duration": 15,
    "start_time": "2021-10-29T15:28:37.181Z"
   },
   {
    "duration": 12,
    "start_time": "2021-10-29T15:28:37.406Z"
   },
   {
    "duration": 43,
    "start_time": "2021-10-29T15:28:37.653Z"
   },
   {
    "duration": 10,
    "start_time": "2021-10-29T15:28:38.021Z"
   },
   {
    "duration": 25,
    "start_time": "2021-10-29T15:28:38.277Z"
   },
   {
    "duration": 23,
    "start_time": "2021-10-29T15:28:38.552Z"
   },
   {
    "duration": 3,
    "start_time": "2021-10-29T15:28:39.134Z"
   },
   {
    "duration": 3930,
    "start_time": "2021-10-29T15:28:39.373Z"
   },
   {
    "duration": 119,
    "start_time": "2021-10-29T15:28:43.305Z"
   },
   {
    "duration": 3,
    "start_time": "2021-10-29T15:28:43.426Z"
   },
   {
    "duration": 29,
    "start_time": "2021-10-29T15:28:43.431Z"
   },
   {
    "duration": 10,
    "start_time": "2021-10-29T15:28:43.462Z"
   },
   {
    "duration": 11,
    "start_time": "2021-10-29T15:28:43.474Z"
   },
   {
    "duration": 6,
    "start_time": "2021-10-29T15:28:43.487Z"
   },
   {
    "duration": 22,
    "start_time": "2021-10-29T15:28:43.496Z"
   },
   {
    "duration": 10,
    "start_time": "2021-10-29T15:28:43.520Z"
   },
   {
    "duration": 16,
    "start_time": "2021-10-29T15:28:43.549Z"
   },
   {
    "duration": 12,
    "start_time": "2021-10-29T15:28:43.567Z"
   },
   {
    "duration": 21,
    "start_time": "2021-10-29T15:28:46.942Z"
   },
   {
    "duration": 15,
    "start_time": "2021-10-29T15:28:59.910Z"
   },
   {
    "duration": 8,
    "start_time": "2021-10-29T15:29:06.026Z"
   },
   {
    "duration": 5,
    "start_time": "2021-10-29T15:29:20.814Z"
   },
   {
    "duration": 5,
    "start_time": "2021-10-29T15:29:28.390Z"
   },
   {
    "duration": 13,
    "start_time": "2021-10-29T15:29:36.358Z"
   },
   {
    "duration": 270,
    "start_time": "2021-10-29T15:34:54.598Z"
   },
   {
    "duration": 298,
    "start_time": "2021-10-29T15:35:20.272Z"
   },
   {
    "duration": 296,
    "start_time": "2021-10-29T15:35:25.600Z"
   },
   {
    "duration": 297,
    "start_time": "2021-10-29T15:35:54.472Z"
   },
   {
    "duration": 300,
    "start_time": "2021-10-29T15:36:02.273Z"
   },
   {
    "duration": 8,
    "start_time": "2021-10-29T15:36:29.357Z"
   },
   {
    "duration": 8,
    "start_time": "2021-10-29T15:38:25.775Z"
   },
   {
    "duration": 8,
    "start_time": "2021-10-29T15:38:45.392Z"
   },
   {
    "duration": 4,
    "start_time": "2021-10-29T15:40:37.810Z"
   },
   {
    "duration": 3,
    "start_time": "2021-10-29T15:41:44.688Z"
   },
   {
    "duration": 2,
    "start_time": "2021-10-29T15:43:23.253Z"
   },
   {
    "duration": 51,
    "start_time": "2021-10-29T15:43:23.257Z"
   },
   {
    "duration": 13,
    "start_time": "2021-10-29T15:43:23.310Z"
   },
   {
    "duration": 33,
    "start_time": "2021-10-29T15:43:23.325Z"
   },
   {
    "duration": 9,
    "start_time": "2021-10-29T15:43:23.360Z"
   },
   {
    "duration": 16,
    "start_time": "2021-10-29T15:43:23.371Z"
   },
   {
    "duration": 4,
    "start_time": "2021-10-29T15:43:23.389Z"
   },
   {
    "duration": 7,
    "start_time": "2021-10-29T15:43:23.394Z"
   },
   {
    "duration": 7,
    "start_time": "2021-10-29T15:43:23.403Z"
   },
   {
    "duration": 71,
    "start_time": "2021-10-29T15:43:23.412Z"
   },
   {
    "duration": 9,
    "start_time": "2021-10-29T15:43:23.484Z"
   },
   {
    "duration": 4,
    "start_time": "2021-10-29T15:43:23.495Z"
   },
   {
    "duration": 12,
    "start_time": "2021-10-29T15:43:23.501Z"
   },
   {
    "duration": 10,
    "start_time": "2021-10-29T15:43:23.514Z"
   },
   {
    "duration": 17,
    "start_time": "2021-10-29T15:43:23.549Z"
   },
   {
    "duration": 23,
    "start_time": "2021-10-29T15:43:23.568Z"
   },
   {
    "duration": 15,
    "start_time": "2021-10-29T15:43:23.593Z"
   },
   {
    "duration": 12,
    "start_time": "2021-10-29T15:43:23.610Z"
   },
   {
    "duration": 49,
    "start_time": "2021-10-29T15:43:23.643Z"
   },
   {
    "duration": 10,
    "start_time": "2021-10-29T15:43:23.694Z"
   },
   {
    "duration": 33,
    "start_time": "2021-10-29T15:43:23.705Z"
   },
   {
    "duration": 29,
    "start_time": "2021-10-29T15:43:23.740Z"
   },
   {
    "duration": 2,
    "start_time": "2021-10-29T15:43:23.771Z"
   },
   {
    "duration": 3748,
    "start_time": "2021-10-29T15:43:23.775Z"
   },
   {
    "duration": 92,
    "start_time": "2021-10-29T15:43:27.525Z"
   },
   {
    "duration": 3,
    "start_time": "2021-10-29T15:43:27.619Z"
   },
   {
    "duration": 16,
    "start_time": "2021-10-29T15:43:27.624Z"
   },
   {
    "duration": 9,
    "start_time": "2021-10-29T15:43:27.642Z"
   },
   {
    "duration": 7,
    "start_time": "2021-10-29T15:43:27.654Z"
   },
   {
    "duration": 5,
    "start_time": "2021-10-29T15:43:27.663Z"
   },
   {
    "duration": 13,
    "start_time": "2021-10-29T15:43:27.669Z"
   },
   {
    "duration": 11,
    "start_time": "2021-10-29T15:43:27.683Z"
   },
   {
    "duration": 14,
    "start_time": "2021-10-29T15:43:27.695Z"
   },
   {
    "duration": 34,
    "start_time": "2021-10-29T15:43:27.710Z"
   },
   {
    "duration": 7,
    "start_time": "2021-10-29T15:43:27.746Z"
   },
   {
    "duration": 7,
    "start_time": "2021-10-29T15:43:27.756Z"
   },
   {
    "duration": 5,
    "start_time": "2021-10-29T15:43:27.764Z"
   },
   {
    "duration": 31,
    "start_time": "2021-10-29T15:43:27.771Z"
   },
   {
    "duration": 14,
    "start_time": "2021-10-29T15:43:27.803Z"
   },
   {
    "duration": 43,
    "start_time": "2021-10-29T15:43:27.818Z"
   },
   {
    "duration": 9,
    "start_time": "2021-10-29T15:43:27.863Z"
   },
   {
    "duration": 27,
    "start_time": "2021-10-29T15:43:27.874Z"
   },
   {
    "duration": 10,
    "start_time": "2021-10-29T15:43:27.903Z"
   },
   {
    "duration": 39,
    "start_time": "2021-10-29T15:43:27.915Z"
   },
   {
    "duration": 21,
    "start_time": "2021-10-29T15:43:27.955Z"
   },
   {
    "duration": 10,
    "start_time": "2021-10-29T15:43:27.978Z"
   },
   {
    "duration": 588,
    "start_time": "2021-10-29T15:44:04.187Z"
   },
   {
    "duration": 52,
    "start_time": "2021-10-29T15:44:04.778Z"
   },
   {
    "duration": 20,
    "start_time": "2021-10-29T15:44:04.832Z"
   },
   {
    "duration": 17,
    "start_time": "2021-10-29T15:44:04.860Z"
   },
   {
    "duration": 13,
    "start_time": "2021-10-29T15:44:04.879Z"
   },
   {
    "duration": 28,
    "start_time": "2021-10-29T15:44:04.894Z"
   },
   {
    "duration": 4,
    "start_time": "2021-10-29T15:44:04.925Z"
   },
   {
    "duration": 25,
    "start_time": "2021-10-29T15:44:04.932Z"
   },
   {
    "duration": 15,
    "start_time": "2021-10-29T15:44:04.959Z"
   },
   {
    "duration": 39,
    "start_time": "2021-10-29T15:44:04.976Z"
   },
   {
    "duration": 14,
    "start_time": "2021-10-29T15:44:05.017Z"
   },
   {
    "duration": 27,
    "start_time": "2021-10-29T15:44:05.033Z"
   },
   {
    "duration": 27,
    "start_time": "2021-10-29T15:44:05.062Z"
   },
   {
    "duration": 13,
    "start_time": "2021-10-29T15:44:05.091Z"
   },
   {
    "duration": 28,
    "start_time": "2021-10-29T15:44:05.106Z"
   },
   {
    "duration": 33,
    "start_time": "2021-10-29T15:44:05.136Z"
   },
   {
    "duration": 21,
    "start_time": "2021-10-29T15:44:05.171Z"
   },
   {
    "duration": 16,
    "start_time": "2021-10-29T15:44:05.194Z"
   },
   {
    "duration": 79,
    "start_time": "2021-10-29T15:44:05.212Z"
   },
   {
    "duration": 15,
    "start_time": "2021-10-29T15:44:05.293Z"
   },
   {
    "duration": 48,
    "start_time": "2021-10-29T15:44:05.310Z"
   },
   {
    "duration": 29,
    "start_time": "2021-10-29T15:44:05.360Z"
   },
   {
    "duration": 8,
    "start_time": "2021-10-29T15:44:05.393Z"
   },
   {
    "duration": 4229,
    "start_time": "2021-10-29T15:44:05.403Z"
   },
   {
    "duration": 93,
    "start_time": "2021-10-29T15:44:09.634Z"
   },
   {
    "duration": 3,
    "start_time": "2021-10-29T15:44:09.729Z"
   },
   {
    "duration": 42,
    "start_time": "2021-10-29T15:44:09.733Z"
   },
   {
    "duration": 15,
    "start_time": "2021-10-29T15:44:09.777Z"
   },
   {
    "duration": 18,
    "start_time": "2021-10-29T15:44:09.794Z"
   },
   {
    "duration": 9,
    "start_time": "2021-10-29T15:44:09.814Z"
   },
   {
    "duration": 36,
    "start_time": "2021-10-29T15:44:09.824Z"
   },
   {
    "duration": 25,
    "start_time": "2021-10-29T15:44:09.862Z"
   },
   {
    "duration": 25,
    "start_time": "2021-10-29T15:44:09.889Z"
   },
   {
    "duration": 24,
    "start_time": "2021-10-29T15:44:09.916Z"
   },
   {
    "duration": 17,
    "start_time": "2021-10-29T15:44:09.942Z"
   },
   {
    "duration": 20,
    "start_time": "2021-10-29T15:44:09.961Z"
   },
   {
    "duration": 15,
    "start_time": "2021-10-29T15:44:09.983Z"
   },
   {
    "duration": 39,
    "start_time": "2021-10-29T15:44:09.999Z"
   },
   {
    "duration": 21,
    "start_time": "2021-10-29T15:44:10.040Z"
   },
   {
    "duration": 21,
    "start_time": "2021-10-29T15:44:10.063Z"
   },
   {
    "duration": 17,
    "start_time": "2021-10-29T15:44:10.086Z"
   },
   {
    "duration": 18,
    "start_time": "2021-10-29T15:44:10.105Z"
   },
   {
    "duration": 30,
    "start_time": "2021-10-29T15:44:10.125Z"
   },
   {
    "duration": 20,
    "start_time": "2021-10-29T15:44:10.157Z"
   },
   {
    "duration": 18,
    "start_time": "2021-10-29T15:44:10.179Z"
   },
   {
    "duration": 10,
    "start_time": "2021-10-29T15:44:10.199Z"
   },
   {
    "duration": 371,
    "start_time": "2021-10-30T07:01:24.936Z"
   },
   {
    "duration": 755,
    "start_time": "2021-10-30T07:02:15.151Z"
   },
   {
    "duration": 79,
    "start_time": "2021-10-30T07:02:15.909Z"
   },
   {
    "duration": 48,
    "start_time": "2021-10-30T07:02:15.992Z"
   },
   {
    "duration": 21,
    "start_time": "2021-10-30T07:02:16.043Z"
   },
   {
    "duration": 14,
    "start_time": "2021-10-30T07:02:16.067Z"
   },
   {
    "duration": 62,
    "start_time": "2021-10-30T07:02:16.084Z"
   },
   {
    "duration": 5,
    "start_time": "2021-10-30T07:02:16.150Z"
   },
   {
    "duration": 17,
    "start_time": "2021-10-30T07:02:16.158Z"
   },
   {
    "duration": 48,
    "start_time": "2021-10-30T07:02:16.181Z"
   },
   {
    "duration": 47,
    "start_time": "2021-10-30T07:02:16.234Z"
   },
   {
    "duration": 42,
    "start_time": "2021-10-30T07:02:16.284Z"
   },
   {
    "duration": 7,
    "start_time": "2021-10-30T07:02:16.329Z"
   },
   {
    "duration": 19,
    "start_time": "2021-10-30T07:02:16.338Z"
   },
   {
    "duration": 21,
    "start_time": "2021-10-30T07:02:16.360Z"
   },
   {
    "duration": 60,
    "start_time": "2021-10-30T07:02:16.385Z"
   },
   {
    "duration": 28,
    "start_time": "2021-10-30T07:02:16.448Z"
   },
   {
    "duration": 53,
    "start_time": "2021-10-30T07:02:16.479Z"
   },
   {
    "duration": 19,
    "start_time": "2021-10-30T07:02:16.535Z"
   },
   {
    "duration": 92,
    "start_time": "2021-10-30T07:02:16.558Z"
   },
   {
    "duration": 16,
    "start_time": "2021-10-30T07:02:16.652Z"
   },
   {
    "duration": 54,
    "start_time": "2021-10-30T07:02:16.670Z"
   },
   {
    "duration": 36,
    "start_time": "2021-10-30T07:02:16.727Z"
   },
   {
    "duration": 12,
    "start_time": "2021-10-30T07:02:16.766Z"
   },
   {
    "duration": 5292,
    "start_time": "2021-10-30T07:02:16.781Z"
   },
   {
    "duration": 152,
    "start_time": "2021-10-30T07:02:22.076Z"
   },
   {
    "duration": 5,
    "start_time": "2021-10-30T07:02:22.231Z"
   },
   {
    "duration": 18,
    "start_time": "2021-10-30T07:02:22.242Z"
   },
   {
    "duration": 12,
    "start_time": "2021-10-30T07:02:22.264Z"
   },
   {
    "duration": 44,
    "start_time": "2021-10-30T07:02:22.279Z"
   },
   {
    "duration": 4,
    "start_time": "2021-10-30T07:02:22.326Z"
   },
   {
    "duration": 21,
    "start_time": "2021-10-30T07:02:22.333Z"
   },
   {
    "duration": 11,
    "start_time": "2021-10-30T07:02:22.356Z"
   },
   {
    "duration": 57,
    "start_time": "2021-10-30T07:02:22.370Z"
   },
   {
    "duration": 21,
    "start_time": "2021-10-30T07:02:22.430Z"
   },
   {
    "duration": 11,
    "start_time": "2021-10-30T07:02:22.454Z"
   },
   {
    "duration": 10,
    "start_time": "2021-10-30T07:02:22.468Z"
   },
   {
    "duration": 5,
    "start_time": "2021-10-30T07:02:22.480Z"
   },
   {
    "duration": 36,
    "start_time": "2021-10-30T07:02:22.522Z"
   },
   {
    "duration": 21,
    "start_time": "2021-10-30T07:02:22.560Z"
   },
   {
    "duration": 66,
    "start_time": "2021-10-30T07:02:22.584Z"
   },
   {
    "duration": 15,
    "start_time": "2021-10-30T07:02:22.653Z"
   },
   {
    "duration": 67,
    "start_time": "2021-10-30T07:02:22.672Z"
   },
   {
    "duration": 12,
    "start_time": "2021-10-30T07:02:22.742Z"
   },
   {
    "duration": 11,
    "start_time": "2021-10-30T07:02:22.756Z"
   },
   {
    "duration": 60,
    "start_time": "2021-10-30T07:02:22.770Z"
   },
   {
    "duration": 13,
    "start_time": "2021-10-30T07:02:22.833Z"
   },
   {
    "duration": 7,
    "start_time": "2021-10-30T07:06:35.948Z"
   },
   {
    "duration": 12,
    "start_time": "2021-10-30T07:06:46.432Z"
   },
   {
    "duration": 7,
    "start_time": "2021-10-30T07:07:01.961Z"
   },
   {
    "duration": 47,
    "start_time": "2021-10-30T07:07:36.826Z"
   }
  ],
  "kernelspec": {
   "display_name": "Python 3 (ipykernel)",
   "language": "python",
   "name": "python3"
  },
  "language_info": {
   "codemirror_mode": {
    "name": "ipython",
    "version": 3
   },
   "file_extension": ".py",
   "mimetype": "text/x-python",
   "name": "python",
   "nbconvert_exporter": "python",
   "pygments_lexer": "ipython3",
   "version": "3.9.7"
  },
  "toc": {
   "base_numbering": 1,
   "nav_menu": {},
   "number_sections": true,
   "sideBar": true,
   "skip_h1_title": true,
   "title_cell": "Table of Contents",
   "title_sidebar": "Contents",
   "toc_cell": false,
   "toc_position": {},
   "toc_section_display": true,
   "toc_window_display": false
  }
 },
 "nbformat": 4,
 "nbformat_minor": 2
}
