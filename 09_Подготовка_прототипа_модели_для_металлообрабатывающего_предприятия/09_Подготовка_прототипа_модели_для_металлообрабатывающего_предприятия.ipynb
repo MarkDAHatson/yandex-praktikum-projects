{
 "cells": [
  {
   "cell_type": "markdown",
   "metadata": {
    "toc": true
   },
   "source": [
    "<h1>Содержание<span class=\"tocSkip\"></span></h1>\n",
    "<div class=\"toc\"><ul class=\"toc-item\"><li><span><a href=\"#Подготовка-данных\" data-toc-modified-id=\"Подготовка-данных-1\"><span class=\"toc-item-num\">1&nbsp;&nbsp;</span>Подготовка данных</a></span><ul class=\"toc-item\"><li><span><a href=\"#Вывод\" data-toc-modified-id=\"Вывод-1.1\"><span class=\"toc-item-num\">1.1&nbsp;&nbsp;</span>Вывод</a></span></li></ul></li><li><span><a href=\"#Анализ-данных\" data-toc-modified-id=\"Анализ-данных-2\"><span class=\"toc-item-num\">2&nbsp;&nbsp;</span>Анализ данных</a></span><ul class=\"toc-item\"><li><span><a href=\"#Вывод\" data-toc-modified-id=\"Вывод-2.1\"><span class=\"toc-item-num\">2.1&nbsp;&nbsp;</span>Вывод</a></span></li></ul></li><li><span><a href=\"#Модель\" data-toc-modified-id=\"Модель-3\"><span class=\"toc-item-num\">3&nbsp;&nbsp;</span>Модель</a></span><ul class=\"toc-item\"><li><span><a href=\"#Вывод\" data-toc-modified-id=\"Вывод-3.1\"><span class=\"toc-item-num\">3.1&nbsp;&nbsp;</span>Вывод</a></span></li></ul></li><li><span><a href=\"#Вывод\" data-toc-modified-id=\"Вывод-4\"><span class=\"toc-item-num\">4&nbsp;&nbsp;</span>Вывод</a></span></li><li><span><a href=\"#Чек-лист-готовности-проекта\" data-toc-modified-id=\"Чек-лист-готовности-проекта-5\"><span class=\"toc-item-num\">5&nbsp;&nbsp;</span>Чек-лист готовности проекта</a></span></li></ul></div>"
   ]
  },
  {
   "cell_type": "markdown",
   "metadata": {},
   "source": [
    "# Восстановление золота из руды"
   ]
  },
  {
   "cell_type": "markdown",
   "metadata": {},
   "source": [
    "Заказчик исследования - компания \"Цифра\". Компания разрабатывает решения для эффективной работы промышленных предприятий. Необходимо подготовить прототип модели машинного обучения для «Цифры». Модель должна предсказать коэффициент восстановления золота из золотосодержащей руды. Входные данные - параметры добычи и очистки. Необходимо построить модель, которая поможет оптимизировать производство, чтобы не запускать предприятие с убыточными характеристиками.\n",
    "\n",
    "Результаты исследования будут использованы заказчиком в коммерческих целях.\n",
    "\n",
    "**Цель исследования**: подготовить прототип модели машинного обучения по разработке решения для эффективной работы промышленных предприятий.\n",
    "\n",
    "Ход исследования:\n",
    "\n",
    "Входные данные от компании - параметры добычи и очистки золота из золотосодержащей руды. Перед анализом данные необходимо загрузить и подготовить к анализу, так как заказчик отметил сырость представленных данных. Следующим этапом необходимо будет провести исследовательский анализ данных, который продемонстрирует имеющиеся распределения и иные закономерности в данных. В завершении потребуется построить и обучить модель, которую хочет увидеть заказчик.\n",
    "\n",
    "Таким образом, исследование пройдёт в 3 этапа:\n",
    "\n",
    "1. Подготовка данных;\n",
    "2. Исследовательский анализ данных;\n",
    "3. Построение и обучение модели.\n",
    "\n",
    "Заказчик дополнительно предоставил информацию по технологическому процессу восстановления золота из золотосодержащей руды."
   ]
  },
  {
   "cell_type": "markdown",
   "metadata": {},
   "source": [
    "## Подготовка данных"
   ]
  },
  {
   "cell_type": "markdown",
   "metadata": {},
   "source": [
    "Перед тем, как приступить к изучению данных из файла, импортируем все нужные для текущего исследования библиотеки и модули:"
   ]
  },
  {
   "cell_type": "code",
   "execution_count": 1,
   "metadata": {},
   "outputs": [],
   "source": [
    "import warnings\n",
    "import pandas as pd\n",
    "import matplotlib.pyplot as plt\n",
    "from matplotlib import cm\n",
    "import numpy as np\n",
    "from sklearn.metrics import mean_absolute_error, make_scorer\n",
    "from sklearn.pipeline import Pipeline\n",
    "from sklearn.preprocessing import StandardScaler\n",
    "from sklearn.model_selection import cross_val_score\n",
    "from sklearn.ensemble import RandomForestRegressor\n",
    "from sklearn.tree import DecisionTreeRegressor\n",
    "from sklearn.model_selection import GridSearchCV\n",
    "from sklearn.linear_model import LinearRegression\n",
    "from sklearn.dummy import DummyRegressor"
   ]
  },
  {
   "cell_type": "markdown",
   "metadata": {},
   "source": [
    "Сохраним в начале исследования необходимые константные переменные и вызовем функции библиотек для всего исследования:"
   ]
  },
  {
   "cell_type": "code",
   "execution_count": 2,
   "metadata": {},
   "outputs": [],
   "source": [
    "RANDOM_STATE = np.random.RandomState(80222)\n",
    "\n",
    "warnings.filterwarnings('ignore')"
   ]
  },
  {
   "cell_type": "markdown",
   "metadata": {},
   "source": [
    "Прочитаем полученные от заказчика данные и сохраним их в таблицах:"
   ]
  },
  {
   "cell_type": "code",
   "execution_count": 3,
   "metadata": {},
   "outputs": [],
   "source": [
    "df_train = pd.read_csv('/datasets/gold_recovery_train_new.csv')\n",
    "df_test = pd.read_csv('/datasets/gold_recovery_test_new.csv')\n",
    "df_full = pd.read_csv('/datasets/gold_recovery_full_new.csv')"
   ]
  },
  {
   "cell_type": "markdown",
   "metadata": {},
   "source": [
    "По информации от заказчика, знаем, что таблица `df_train` содержит в себе обучающую выборку, `df_test` - тестовую выборку, а `df_full` - исходные данные. Выведем на экран 3 первые строки каждой таблицы:"
   ]
  },
  {
   "cell_type": "code",
   "execution_count": 4,
   "metadata": {},
   "outputs": [
    {
     "data": {
      "text/html": [
       "<div>\n",
       "<style scoped>\n",
       "    .dataframe tbody tr th:only-of-type {\n",
       "        vertical-align: middle;\n",
       "    }\n",
       "\n",
       "    .dataframe tbody tr th {\n",
       "        vertical-align: top;\n",
       "    }\n",
       "\n",
       "    .dataframe thead th {\n",
       "        text-align: right;\n",
       "    }\n",
       "</style>\n",
       "<table border=\"1\" class=\"dataframe\">\n",
       "  <thead>\n",
       "    <tr style=\"text-align: right;\">\n",
       "      <th></th>\n",
       "      <th>date</th>\n",
       "      <th>final.output.concentrate_ag</th>\n",
       "      <th>final.output.concentrate_pb</th>\n",
       "      <th>final.output.concentrate_sol</th>\n",
       "      <th>final.output.concentrate_au</th>\n",
       "      <th>final.output.recovery</th>\n",
       "      <th>final.output.tail_ag</th>\n",
       "      <th>final.output.tail_pb</th>\n",
       "      <th>final.output.tail_sol</th>\n",
       "      <th>final.output.tail_au</th>\n",
       "      <th>...</th>\n",
       "      <th>secondary_cleaner.state.floatbank4_a_air</th>\n",
       "      <th>secondary_cleaner.state.floatbank4_a_level</th>\n",
       "      <th>secondary_cleaner.state.floatbank4_b_air</th>\n",
       "      <th>secondary_cleaner.state.floatbank4_b_level</th>\n",
       "      <th>secondary_cleaner.state.floatbank5_a_air</th>\n",
       "      <th>secondary_cleaner.state.floatbank5_a_level</th>\n",
       "      <th>secondary_cleaner.state.floatbank5_b_air</th>\n",
       "      <th>secondary_cleaner.state.floatbank5_b_level</th>\n",
       "      <th>secondary_cleaner.state.floatbank6_a_air</th>\n",
       "      <th>secondary_cleaner.state.floatbank6_a_level</th>\n",
       "    </tr>\n",
       "  </thead>\n",
       "  <tbody>\n",
       "    <tr>\n",
       "      <th>0</th>\n",
       "      <td>2016-01-15 00:00:00</td>\n",
       "      <td>6.055403</td>\n",
       "      <td>9.889648</td>\n",
       "      <td>5.507324</td>\n",
       "      <td>42.192020</td>\n",
       "      <td>70.541216</td>\n",
       "      <td>10.411962</td>\n",
       "      <td>0.895447</td>\n",
       "      <td>16.904297</td>\n",
       "      <td>2.143149</td>\n",
       "      <td>...</td>\n",
       "      <td>14.016835</td>\n",
       "      <td>-502.488007</td>\n",
       "      <td>12.099931</td>\n",
       "      <td>-504.715942</td>\n",
       "      <td>9.925633</td>\n",
       "      <td>-498.310211</td>\n",
       "      <td>8.079666</td>\n",
       "      <td>-500.470978</td>\n",
       "      <td>14.151341</td>\n",
       "      <td>-605.841980</td>\n",
       "    </tr>\n",
       "    <tr>\n",
       "      <th>1</th>\n",
       "      <td>2016-01-15 01:00:00</td>\n",
       "      <td>6.029369</td>\n",
       "      <td>9.968944</td>\n",
       "      <td>5.257781</td>\n",
       "      <td>42.701629</td>\n",
       "      <td>69.266198</td>\n",
       "      <td>10.462676</td>\n",
       "      <td>0.927452</td>\n",
       "      <td>16.634514</td>\n",
       "      <td>2.224930</td>\n",
       "      <td>...</td>\n",
       "      <td>13.992281</td>\n",
       "      <td>-505.503262</td>\n",
       "      <td>11.950531</td>\n",
       "      <td>-501.331529</td>\n",
       "      <td>10.039245</td>\n",
       "      <td>-500.169983</td>\n",
       "      <td>7.984757</td>\n",
       "      <td>-500.582168</td>\n",
       "      <td>13.998353</td>\n",
       "      <td>-599.787184</td>\n",
       "    </tr>\n",
       "    <tr>\n",
       "      <th>2</th>\n",
       "      <td>2016-01-15 02:00:00</td>\n",
       "      <td>6.055926</td>\n",
       "      <td>10.213995</td>\n",
       "      <td>5.383759</td>\n",
       "      <td>42.657501</td>\n",
       "      <td>68.116445</td>\n",
       "      <td>10.507046</td>\n",
       "      <td>0.953716</td>\n",
       "      <td>16.208849</td>\n",
       "      <td>2.257889</td>\n",
       "      <td>...</td>\n",
       "      <td>14.015015</td>\n",
       "      <td>-502.520901</td>\n",
       "      <td>11.912783</td>\n",
       "      <td>-501.133383</td>\n",
       "      <td>10.070913</td>\n",
       "      <td>-500.129135</td>\n",
       "      <td>8.013877</td>\n",
       "      <td>-500.517572</td>\n",
       "      <td>14.028663</td>\n",
       "      <td>-601.427363</td>\n",
       "    </tr>\n",
       "  </tbody>\n",
       "</table>\n",
       "<p>3 rows × 87 columns</p>\n",
       "</div>"
      ],
      "text/plain": [
       "                  date  final.output.concentrate_ag  \\\n",
       "0  2016-01-15 00:00:00                     6.055403   \n",
       "1  2016-01-15 01:00:00                     6.029369   \n",
       "2  2016-01-15 02:00:00                     6.055926   \n",
       "\n",
       "   final.output.concentrate_pb  final.output.concentrate_sol  \\\n",
       "0                     9.889648                      5.507324   \n",
       "1                     9.968944                      5.257781   \n",
       "2                    10.213995                      5.383759   \n",
       "\n",
       "   final.output.concentrate_au  final.output.recovery  final.output.tail_ag  \\\n",
       "0                    42.192020              70.541216             10.411962   \n",
       "1                    42.701629              69.266198             10.462676   \n",
       "2                    42.657501              68.116445             10.507046   \n",
       "\n",
       "   final.output.tail_pb  final.output.tail_sol  final.output.tail_au  ...  \\\n",
       "0              0.895447              16.904297              2.143149  ...   \n",
       "1              0.927452              16.634514              2.224930  ...   \n",
       "2              0.953716              16.208849              2.257889  ...   \n",
       "\n",
       "   secondary_cleaner.state.floatbank4_a_air  \\\n",
       "0                                 14.016835   \n",
       "1                                 13.992281   \n",
       "2                                 14.015015   \n",
       "\n",
       "   secondary_cleaner.state.floatbank4_a_level  \\\n",
       "0                                 -502.488007   \n",
       "1                                 -505.503262   \n",
       "2                                 -502.520901   \n",
       "\n",
       "   secondary_cleaner.state.floatbank4_b_air  \\\n",
       "0                                 12.099931   \n",
       "1                                 11.950531   \n",
       "2                                 11.912783   \n",
       "\n",
       "   secondary_cleaner.state.floatbank4_b_level  \\\n",
       "0                                 -504.715942   \n",
       "1                                 -501.331529   \n",
       "2                                 -501.133383   \n",
       "\n",
       "   secondary_cleaner.state.floatbank5_a_air  \\\n",
       "0                                  9.925633   \n",
       "1                                 10.039245   \n",
       "2                                 10.070913   \n",
       "\n",
       "   secondary_cleaner.state.floatbank5_a_level  \\\n",
       "0                                 -498.310211   \n",
       "1                                 -500.169983   \n",
       "2                                 -500.129135   \n",
       "\n",
       "   secondary_cleaner.state.floatbank5_b_air  \\\n",
       "0                                  8.079666   \n",
       "1                                  7.984757   \n",
       "2                                  8.013877   \n",
       "\n",
       "   secondary_cleaner.state.floatbank5_b_level  \\\n",
       "0                                 -500.470978   \n",
       "1                                 -500.582168   \n",
       "2                                 -500.517572   \n",
       "\n",
       "   secondary_cleaner.state.floatbank6_a_air  \\\n",
       "0                                 14.151341   \n",
       "1                                 13.998353   \n",
       "2                                 14.028663   \n",
       "\n",
       "   secondary_cleaner.state.floatbank6_a_level  \n",
       "0                                 -605.841980  \n",
       "1                                 -599.787184  \n",
       "2                                 -601.427363  \n",
       "\n",
       "[3 rows x 87 columns]"
      ]
     },
     "metadata": {},
     "output_type": "display_data"
    },
    {
     "data": {
      "text/html": [
       "<div>\n",
       "<style scoped>\n",
       "    .dataframe tbody tr th:only-of-type {\n",
       "        vertical-align: middle;\n",
       "    }\n",
       "\n",
       "    .dataframe tbody tr th {\n",
       "        vertical-align: top;\n",
       "    }\n",
       "\n",
       "    .dataframe thead th {\n",
       "        text-align: right;\n",
       "    }\n",
       "</style>\n",
       "<table border=\"1\" class=\"dataframe\">\n",
       "  <thead>\n",
       "    <tr style=\"text-align: right;\">\n",
       "      <th></th>\n",
       "      <th>date</th>\n",
       "      <th>primary_cleaner.input.sulfate</th>\n",
       "      <th>primary_cleaner.input.depressant</th>\n",
       "      <th>primary_cleaner.input.feed_size</th>\n",
       "      <th>primary_cleaner.input.xanthate</th>\n",
       "      <th>primary_cleaner.state.floatbank8_a_air</th>\n",
       "      <th>primary_cleaner.state.floatbank8_a_level</th>\n",
       "      <th>primary_cleaner.state.floatbank8_b_air</th>\n",
       "      <th>primary_cleaner.state.floatbank8_b_level</th>\n",
       "      <th>primary_cleaner.state.floatbank8_c_air</th>\n",
       "      <th>...</th>\n",
       "      <th>secondary_cleaner.state.floatbank4_a_air</th>\n",
       "      <th>secondary_cleaner.state.floatbank4_a_level</th>\n",
       "      <th>secondary_cleaner.state.floatbank4_b_air</th>\n",
       "      <th>secondary_cleaner.state.floatbank4_b_level</th>\n",
       "      <th>secondary_cleaner.state.floatbank5_a_air</th>\n",
       "      <th>secondary_cleaner.state.floatbank5_a_level</th>\n",
       "      <th>secondary_cleaner.state.floatbank5_b_air</th>\n",
       "      <th>secondary_cleaner.state.floatbank5_b_level</th>\n",
       "      <th>secondary_cleaner.state.floatbank6_a_air</th>\n",
       "      <th>secondary_cleaner.state.floatbank6_a_level</th>\n",
       "    </tr>\n",
       "  </thead>\n",
       "  <tbody>\n",
       "    <tr>\n",
       "      <th>0</th>\n",
       "      <td>2016-09-01 00:59:59</td>\n",
       "      <td>210.800909</td>\n",
       "      <td>14.993118</td>\n",
       "      <td>8.080000</td>\n",
       "      <td>1.005021</td>\n",
       "      <td>1398.981301</td>\n",
       "      <td>-500.225577</td>\n",
       "      <td>1399.144926</td>\n",
       "      <td>-499.919735</td>\n",
       "      <td>1400.102998</td>\n",
       "      <td>...</td>\n",
       "      <td>12.023554</td>\n",
       "      <td>-497.795834</td>\n",
       "      <td>8.016656</td>\n",
       "      <td>-501.289139</td>\n",
       "      <td>7.946562</td>\n",
       "      <td>-432.317850</td>\n",
       "      <td>4.872511</td>\n",
       "      <td>-500.037437</td>\n",
       "      <td>26.705889</td>\n",
       "      <td>-499.709414</td>\n",
       "    </tr>\n",
       "    <tr>\n",
       "      <th>1</th>\n",
       "      <td>2016-09-01 01:59:59</td>\n",
       "      <td>215.392455</td>\n",
       "      <td>14.987471</td>\n",
       "      <td>8.080000</td>\n",
       "      <td>0.990469</td>\n",
       "      <td>1398.777912</td>\n",
       "      <td>-500.057435</td>\n",
       "      <td>1398.055362</td>\n",
       "      <td>-499.778182</td>\n",
       "      <td>1396.151033</td>\n",
       "      <td>...</td>\n",
       "      <td>12.058140</td>\n",
       "      <td>-498.695773</td>\n",
       "      <td>8.130979</td>\n",
       "      <td>-499.634209</td>\n",
       "      <td>7.958270</td>\n",
       "      <td>-525.839648</td>\n",
       "      <td>4.878850</td>\n",
       "      <td>-500.162375</td>\n",
       "      <td>25.019940</td>\n",
       "      <td>-499.819438</td>\n",
       "    </tr>\n",
       "    <tr>\n",
       "      <th>2</th>\n",
       "      <td>2016-09-01 02:59:59</td>\n",
       "      <td>215.259946</td>\n",
       "      <td>12.884934</td>\n",
       "      <td>7.786667</td>\n",
       "      <td>0.996043</td>\n",
       "      <td>1398.493666</td>\n",
       "      <td>-500.868360</td>\n",
       "      <td>1398.860436</td>\n",
       "      <td>-499.764529</td>\n",
       "      <td>1398.075709</td>\n",
       "      <td>...</td>\n",
       "      <td>11.962366</td>\n",
       "      <td>-498.767484</td>\n",
       "      <td>8.096893</td>\n",
       "      <td>-500.827423</td>\n",
       "      <td>8.071056</td>\n",
       "      <td>-500.801673</td>\n",
       "      <td>4.905125</td>\n",
       "      <td>-499.828510</td>\n",
       "      <td>24.994862</td>\n",
       "      <td>-500.622559</td>\n",
       "    </tr>\n",
       "  </tbody>\n",
       "</table>\n",
       "<p>3 rows × 53 columns</p>\n",
       "</div>"
      ],
      "text/plain": [
       "                  date  primary_cleaner.input.sulfate  \\\n",
       "0  2016-09-01 00:59:59                     210.800909   \n",
       "1  2016-09-01 01:59:59                     215.392455   \n",
       "2  2016-09-01 02:59:59                     215.259946   \n",
       "\n",
       "   primary_cleaner.input.depressant  primary_cleaner.input.feed_size  \\\n",
       "0                         14.993118                         8.080000   \n",
       "1                         14.987471                         8.080000   \n",
       "2                         12.884934                         7.786667   \n",
       "\n",
       "   primary_cleaner.input.xanthate  primary_cleaner.state.floatbank8_a_air  \\\n",
       "0                        1.005021                             1398.981301   \n",
       "1                        0.990469                             1398.777912   \n",
       "2                        0.996043                             1398.493666   \n",
       "\n",
       "   primary_cleaner.state.floatbank8_a_level  \\\n",
       "0                               -500.225577   \n",
       "1                               -500.057435   \n",
       "2                               -500.868360   \n",
       "\n",
       "   primary_cleaner.state.floatbank8_b_air  \\\n",
       "0                             1399.144926   \n",
       "1                             1398.055362   \n",
       "2                             1398.860436   \n",
       "\n",
       "   primary_cleaner.state.floatbank8_b_level  \\\n",
       "0                               -499.919735   \n",
       "1                               -499.778182   \n",
       "2                               -499.764529   \n",
       "\n",
       "   primary_cleaner.state.floatbank8_c_air  ...  \\\n",
       "0                             1400.102998  ...   \n",
       "1                             1396.151033  ...   \n",
       "2                             1398.075709  ...   \n",
       "\n",
       "   secondary_cleaner.state.floatbank4_a_air  \\\n",
       "0                                 12.023554   \n",
       "1                                 12.058140   \n",
       "2                                 11.962366   \n",
       "\n",
       "   secondary_cleaner.state.floatbank4_a_level  \\\n",
       "0                                 -497.795834   \n",
       "1                                 -498.695773   \n",
       "2                                 -498.767484   \n",
       "\n",
       "   secondary_cleaner.state.floatbank4_b_air  \\\n",
       "0                                  8.016656   \n",
       "1                                  8.130979   \n",
       "2                                  8.096893   \n",
       "\n",
       "   secondary_cleaner.state.floatbank4_b_level  \\\n",
       "0                                 -501.289139   \n",
       "1                                 -499.634209   \n",
       "2                                 -500.827423   \n",
       "\n",
       "   secondary_cleaner.state.floatbank5_a_air  \\\n",
       "0                                  7.946562   \n",
       "1                                  7.958270   \n",
       "2                                  8.071056   \n",
       "\n",
       "   secondary_cleaner.state.floatbank5_a_level  \\\n",
       "0                                 -432.317850   \n",
       "1                                 -525.839648   \n",
       "2                                 -500.801673   \n",
       "\n",
       "   secondary_cleaner.state.floatbank5_b_air  \\\n",
       "0                                  4.872511   \n",
       "1                                  4.878850   \n",
       "2                                  4.905125   \n",
       "\n",
       "   secondary_cleaner.state.floatbank5_b_level  \\\n",
       "0                                 -500.037437   \n",
       "1                                 -500.162375   \n",
       "2                                 -499.828510   \n",
       "\n",
       "   secondary_cleaner.state.floatbank6_a_air  \\\n",
       "0                                 26.705889   \n",
       "1                                 25.019940   \n",
       "2                                 24.994862   \n",
       "\n",
       "   secondary_cleaner.state.floatbank6_a_level  \n",
       "0                                 -499.709414  \n",
       "1                                 -499.819438  \n",
       "2                                 -500.622559  \n",
       "\n",
       "[3 rows x 53 columns]"
      ]
     },
     "metadata": {},
     "output_type": "display_data"
    },
    {
     "data": {
      "text/html": [
       "<div>\n",
       "<style scoped>\n",
       "    .dataframe tbody tr th:only-of-type {\n",
       "        vertical-align: middle;\n",
       "    }\n",
       "\n",
       "    .dataframe tbody tr th {\n",
       "        vertical-align: top;\n",
       "    }\n",
       "\n",
       "    .dataframe thead th {\n",
       "        text-align: right;\n",
       "    }\n",
       "</style>\n",
       "<table border=\"1\" class=\"dataframe\">\n",
       "  <thead>\n",
       "    <tr style=\"text-align: right;\">\n",
       "      <th></th>\n",
       "      <th>date</th>\n",
       "      <th>final.output.concentrate_ag</th>\n",
       "      <th>final.output.concentrate_pb</th>\n",
       "      <th>final.output.concentrate_sol</th>\n",
       "      <th>final.output.concentrate_au</th>\n",
       "      <th>final.output.recovery</th>\n",
       "      <th>final.output.tail_ag</th>\n",
       "      <th>final.output.tail_pb</th>\n",
       "      <th>final.output.tail_sol</th>\n",
       "      <th>final.output.tail_au</th>\n",
       "      <th>...</th>\n",
       "      <th>secondary_cleaner.state.floatbank4_a_air</th>\n",
       "      <th>secondary_cleaner.state.floatbank4_a_level</th>\n",
       "      <th>secondary_cleaner.state.floatbank4_b_air</th>\n",
       "      <th>secondary_cleaner.state.floatbank4_b_level</th>\n",
       "      <th>secondary_cleaner.state.floatbank5_a_air</th>\n",
       "      <th>secondary_cleaner.state.floatbank5_a_level</th>\n",
       "      <th>secondary_cleaner.state.floatbank5_b_air</th>\n",
       "      <th>secondary_cleaner.state.floatbank5_b_level</th>\n",
       "      <th>secondary_cleaner.state.floatbank6_a_air</th>\n",
       "      <th>secondary_cleaner.state.floatbank6_a_level</th>\n",
       "    </tr>\n",
       "  </thead>\n",
       "  <tbody>\n",
       "    <tr>\n",
       "      <th>0</th>\n",
       "      <td>2016-01-15 00:00:00</td>\n",
       "      <td>6.055403</td>\n",
       "      <td>9.889648</td>\n",
       "      <td>5.507324</td>\n",
       "      <td>42.192020</td>\n",
       "      <td>70.541216</td>\n",
       "      <td>10.411962</td>\n",
       "      <td>0.895447</td>\n",
       "      <td>16.904297</td>\n",
       "      <td>2.143149</td>\n",
       "      <td>...</td>\n",
       "      <td>14.016835</td>\n",
       "      <td>-502.488007</td>\n",
       "      <td>12.099931</td>\n",
       "      <td>-504.715942</td>\n",
       "      <td>9.925633</td>\n",
       "      <td>-498.310211</td>\n",
       "      <td>8.079666</td>\n",
       "      <td>-500.470978</td>\n",
       "      <td>14.151341</td>\n",
       "      <td>-605.841980</td>\n",
       "    </tr>\n",
       "    <tr>\n",
       "      <th>1</th>\n",
       "      <td>2016-01-15 01:00:00</td>\n",
       "      <td>6.029369</td>\n",
       "      <td>9.968944</td>\n",
       "      <td>5.257781</td>\n",
       "      <td>42.701629</td>\n",
       "      <td>69.266198</td>\n",
       "      <td>10.462676</td>\n",
       "      <td>0.927452</td>\n",
       "      <td>16.634514</td>\n",
       "      <td>2.224930</td>\n",
       "      <td>...</td>\n",
       "      <td>13.992281</td>\n",
       "      <td>-505.503262</td>\n",
       "      <td>11.950531</td>\n",
       "      <td>-501.331529</td>\n",
       "      <td>10.039245</td>\n",
       "      <td>-500.169983</td>\n",
       "      <td>7.984757</td>\n",
       "      <td>-500.582168</td>\n",
       "      <td>13.998353</td>\n",
       "      <td>-599.787184</td>\n",
       "    </tr>\n",
       "    <tr>\n",
       "      <th>2</th>\n",
       "      <td>2016-01-15 02:00:00</td>\n",
       "      <td>6.055926</td>\n",
       "      <td>10.213995</td>\n",
       "      <td>5.383759</td>\n",
       "      <td>42.657501</td>\n",
       "      <td>68.116445</td>\n",
       "      <td>10.507046</td>\n",
       "      <td>0.953716</td>\n",
       "      <td>16.208849</td>\n",
       "      <td>2.257889</td>\n",
       "      <td>...</td>\n",
       "      <td>14.015015</td>\n",
       "      <td>-502.520901</td>\n",
       "      <td>11.912783</td>\n",
       "      <td>-501.133383</td>\n",
       "      <td>10.070913</td>\n",
       "      <td>-500.129135</td>\n",
       "      <td>8.013877</td>\n",
       "      <td>-500.517572</td>\n",
       "      <td>14.028663</td>\n",
       "      <td>-601.427363</td>\n",
       "    </tr>\n",
       "  </tbody>\n",
       "</table>\n",
       "<p>3 rows × 87 columns</p>\n",
       "</div>"
      ],
      "text/plain": [
       "                  date  final.output.concentrate_ag  \\\n",
       "0  2016-01-15 00:00:00                     6.055403   \n",
       "1  2016-01-15 01:00:00                     6.029369   \n",
       "2  2016-01-15 02:00:00                     6.055926   \n",
       "\n",
       "   final.output.concentrate_pb  final.output.concentrate_sol  \\\n",
       "0                     9.889648                      5.507324   \n",
       "1                     9.968944                      5.257781   \n",
       "2                    10.213995                      5.383759   \n",
       "\n",
       "   final.output.concentrate_au  final.output.recovery  final.output.tail_ag  \\\n",
       "0                    42.192020              70.541216             10.411962   \n",
       "1                    42.701629              69.266198             10.462676   \n",
       "2                    42.657501              68.116445             10.507046   \n",
       "\n",
       "   final.output.tail_pb  final.output.tail_sol  final.output.tail_au  ...  \\\n",
       "0              0.895447              16.904297              2.143149  ...   \n",
       "1              0.927452              16.634514              2.224930  ...   \n",
       "2              0.953716              16.208849              2.257889  ...   \n",
       "\n",
       "   secondary_cleaner.state.floatbank4_a_air  \\\n",
       "0                                 14.016835   \n",
       "1                                 13.992281   \n",
       "2                                 14.015015   \n",
       "\n",
       "   secondary_cleaner.state.floatbank4_a_level  \\\n",
       "0                                 -502.488007   \n",
       "1                                 -505.503262   \n",
       "2                                 -502.520901   \n",
       "\n",
       "   secondary_cleaner.state.floatbank4_b_air  \\\n",
       "0                                 12.099931   \n",
       "1                                 11.950531   \n",
       "2                                 11.912783   \n",
       "\n",
       "   secondary_cleaner.state.floatbank4_b_level  \\\n",
       "0                                 -504.715942   \n",
       "1                                 -501.331529   \n",
       "2                                 -501.133383   \n",
       "\n",
       "   secondary_cleaner.state.floatbank5_a_air  \\\n",
       "0                                  9.925633   \n",
       "1                                 10.039245   \n",
       "2                                 10.070913   \n",
       "\n",
       "   secondary_cleaner.state.floatbank5_a_level  \\\n",
       "0                                 -498.310211   \n",
       "1                                 -500.169983   \n",
       "2                                 -500.129135   \n",
       "\n",
       "   secondary_cleaner.state.floatbank5_b_air  \\\n",
       "0                                  8.079666   \n",
       "1                                  7.984757   \n",
       "2                                  8.013877   \n",
       "\n",
       "   secondary_cleaner.state.floatbank5_b_level  \\\n",
       "0                                 -500.470978   \n",
       "1                                 -500.582168   \n",
       "2                                 -500.517572   \n",
       "\n",
       "   secondary_cleaner.state.floatbank6_a_air  \\\n",
       "0                                 14.151341   \n",
       "1                                 13.998353   \n",
       "2                                 14.028663   \n",
       "\n",
       "   secondary_cleaner.state.floatbank6_a_level  \n",
       "0                                 -605.841980  \n",
       "1                                 -599.787184  \n",
       "2                                 -601.427363  \n",
       "\n",
       "[3 rows x 87 columns]"
      ]
     },
     "metadata": {},
     "output_type": "display_data"
    }
   ],
   "source": [
    "display(df_train.head(3))\n",
    "display(df_test.head(3))\n",
    "display(df_full.head(3))"
   ]
  },
  {
   "cell_type": "markdown",
   "metadata": {},
   "source": [
    "Получим общую информацию по таблицам. Так как таблицы `df_train` и `df_test` фактически являются подмножествами таблицы `df_full`, сконцентрируем внимание на последней:"
   ]
  },
  {
   "cell_type": "code",
   "execution_count": 5,
   "metadata": {},
   "outputs": [
    {
     "name": "stdout",
     "output_type": "stream",
     "text": [
      "<class 'pandas.core.frame.DataFrame'>\n",
      "RangeIndex: 19439 entries, 0 to 19438\n",
      "Data columns (total 87 columns):\n",
      " #   Column                                              Non-Null Count  Dtype  \n",
      "---  ------                                              --------------  -----  \n",
      " 0   date                                                19439 non-null  object \n",
      " 1   final.output.concentrate_ag                         19438 non-null  float64\n",
      " 2   final.output.concentrate_pb                         19438 non-null  float64\n",
      " 3   final.output.concentrate_sol                        19228 non-null  float64\n",
      " 4   final.output.concentrate_au                         19439 non-null  float64\n",
      " 5   final.output.recovery                               19439 non-null  float64\n",
      " 6   final.output.tail_ag                                19438 non-null  float64\n",
      " 7   final.output.tail_pb                                19338 non-null  float64\n",
      " 8   final.output.tail_sol                               19433 non-null  float64\n",
      " 9   final.output.tail_au                                19439 non-null  float64\n",
      " 10  primary_cleaner.input.sulfate                       19415 non-null  float64\n",
      " 11  primary_cleaner.input.depressant                    19402 non-null  float64\n",
      " 12  primary_cleaner.input.feed_size                     19439 non-null  float64\n",
      " 13  primary_cleaner.input.xanthate                      19335 non-null  float64\n",
      " 14  primary_cleaner.output.concentrate_ag               19439 non-null  float64\n",
      " 15  primary_cleaner.output.concentrate_pb               19323 non-null  float64\n",
      " 16  primary_cleaner.output.concentrate_sol              19069 non-null  float64\n",
      " 17  primary_cleaner.output.concentrate_au               19439 non-null  float64\n",
      " 18  primary_cleaner.output.tail_ag                      19435 non-null  float64\n",
      " 19  primary_cleaner.output.tail_pb                      19418 non-null  float64\n",
      " 20  primary_cleaner.output.tail_sol                     19377 non-null  float64\n",
      " 21  primary_cleaner.output.tail_au                      19439 non-null  float64\n",
      " 22  primary_cleaner.state.floatbank8_a_air              19435 non-null  float64\n",
      " 23  primary_cleaner.state.floatbank8_a_level            19438 non-null  float64\n",
      " 24  primary_cleaner.state.floatbank8_b_air              19435 non-null  float64\n",
      " 25  primary_cleaner.state.floatbank8_b_level            19438 non-null  float64\n",
      " 26  primary_cleaner.state.floatbank8_c_air              19437 non-null  float64\n",
      " 27  primary_cleaner.state.floatbank8_c_level            19438 non-null  float64\n",
      " 28  primary_cleaner.state.floatbank8_d_air              19436 non-null  float64\n",
      " 29  primary_cleaner.state.floatbank8_d_level            19438 non-null  float64\n",
      " 30  rougher.calculation.sulfate_to_au_concentrate       19437 non-null  float64\n",
      " 31  rougher.calculation.floatbank10_sulfate_to_au_feed  19437 non-null  float64\n",
      " 32  rougher.calculation.floatbank11_sulfate_to_au_feed  19437 non-null  float64\n",
      " 33  rougher.calculation.au_pb_ratio                     19439 non-null  float64\n",
      " 34  rougher.input.feed_ag                               19439 non-null  float64\n",
      " 35  rougher.input.feed_pb                               19339 non-null  float64\n",
      " 36  rougher.input.feed_rate                             19428 non-null  float64\n",
      " 37  rougher.input.feed_size                             19294 non-null  float64\n",
      " 38  rougher.input.feed_sol                              19340 non-null  float64\n",
      " 39  rougher.input.feed_au                               19439 non-null  float64\n",
      " 40  rougher.input.floatbank10_sulfate                   19405 non-null  float64\n",
      " 41  rougher.input.floatbank10_xanthate                  19431 non-null  float64\n",
      " 42  rougher.input.floatbank11_sulfate                   19395 non-null  float64\n",
      " 43  rougher.input.floatbank11_xanthate                  18986 non-null  float64\n",
      " 44  rougher.output.concentrate_ag                       19439 non-null  float64\n",
      " 45  rougher.output.concentrate_pb                       19439 non-null  float64\n",
      " 46  rougher.output.concentrate_sol                      19416 non-null  float64\n",
      " 47  rougher.output.concentrate_au                       19439 non-null  float64\n",
      " 48  rougher.output.recovery                             19439 non-null  float64\n",
      " 49  rougher.output.tail_ag                              19438 non-null  float64\n",
      " 50  rougher.output.tail_pb                              19439 non-null  float64\n",
      " 51  rougher.output.tail_sol                             19439 non-null  float64\n",
      " 52  rougher.output.tail_au                              19439 non-null  float64\n",
      " 53  rougher.state.floatbank10_a_air                     19438 non-null  float64\n",
      " 54  rougher.state.floatbank10_a_level                   19438 non-null  float64\n",
      " 55  rougher.state.floatbank10_b_air                     19438 non-null  float64\n",
      " 56  rougher.state.floatbank10_b_level                   19438 non-null  float64\n",
      " 57  rougher.state.floatbank10_c_air                     19438 non-null  float64\n",
      " 58  rougher.state.floatbank10_c_level                   19438 non-null  float64\n",
      " 59  rougher.state.floatbank10_d_air                     19439 non-null  float64\n",
      " 60  rougher.state.floatbank10_d_level                   19439 non-null  float64\n",
      " 61  rougher.state.floatbank10_e_air                     19003 non-null  float64\n",
      " 62  rougher.state.floatbank10_e_level                   19439 non-null  float64\n",
      " 63  rougher.state.floatbank10_f_air                     19439 non-null  float64\n",
      " 64  rougher.state.floatbank10_f_level                   19439 non-null  float64\n",
      " 65  secondary_cleaner.output.tail_ag                    19437 non-null  float64\n",
      " 66  secondary_cleaner.output.tail_pb                    19427 non-null  float64\n",
      " 67  secondary_cleaner.output.tail_sol                   17691 non-null  float64\n",
      " 68  secondary_cleaner.output.tail_au                    19439 non-null  float64\n",
      " 69  secondary_cleaner.state.floatbank2_a_air            19219 non-null  float64\n",
      " 70  secondary_cleaner.state.floatbank2_a_level          19438 non-null  float64\n",
      " 71  secondary_cleaner.state.floatbank2_b_air            19416 non-null  float64\n",
      " 72  secondary_cleaner.state.floatbank2_b_level          19438 non-null  float64\n",
      " 73  secondary_cleaner.state.floatbank3_a_air            19426 non-null  float64\n",
      " 74  secondary_cleaner.state.floatbank3_a_level          19438 non-null  float64\n",
      " 75  secondary_cleaner.state.floatbank3_b_air            19438 non-null  float64\n",
      " 76  secondary_cleaner.state.floatbank3_b_level          19438 non-null  float64\n",
      " 77  secondary_cleaner.state.floatbank4_a_air            19433 non-null  float64\n",
      " 78  secondary_cleaner.state.floatbank4_a_level          19438 non-null  float64\n",
      " 79  secondary_cleaner.state.floatbank4_b_air            19438 non-null  float64\n",
      " 80  secondary_cleaner.state.floatbank4_b_level          19438 non-null  float64\n",
      " 81  secondary_cleaner.state.floatbank5_a_air            19438 non-null  float64\n",
      " 82  secondary_cleaner.state.floatbank5_a_level          19438 non-null  float64\n",
      " 83  secondary_cleaner.state.floatbank5_b_air            19438 non-null  float64\n",
      " 84  secondary_cleaner.state.floatbank5_b_level          19438 non-null  float64\n",
      " 85  secondary_cleaner.state.floatbank6_a_air            19437 non-null  float64\n",
      " 86  secondary_cleaner.state.floatbank6_a_level          19438 non-null  float64\n",
      "dtypes: float64(86), object(1)\n",
      "memory usage: 12.9+ MB\n"
     ]
    }
   ],
   "source": [
    "df_full.info()"
   ]
  },
  {
   "cell_type": "markdown",
   "metadata": {},
   "source": [
    "В таблице содержится 19 439 наблюдений и 87 признаков. 86 из них имеют тип данных `float`, а 1 - `object`. В признаке `object` представлены даты, которые должны быть представлены в типе `datetime`. На данном этапе оставим этот признак и не будем перекодировать его без необходимости. Остальные столбцы проблем с типами данных не имеют. Также видно, что данные имеют множество пропусков, которые, без сомнений, перейдут в пропуски и в таблицах `df_train` и `df_test`. Предварительно можно утверждать, что данных для проведения исследования достаточно. Согласно документации к данным в таблицах присутствуют следующие условные обозначения:\n",
    "\n",
    "*Технологический процесс*:\n",
    "* `Rougher feed` — исходное сырье;\n",
    "* `Rougher additions (или reagent additions)` — флотационные реагенты: Xanthate, Sulphate, Depressant;\n",
    "* `Xanthate **` — ксантогенат (промотер, или активатор флотации);\n",
    "* `Sulphate` — сульфат (на данном производстве сульфид натрия);\n",
    "* `Depressant` — депрессант (силикат натрия);\n",
    "* `Rougher process (англ. «грубый процесс»)` — флотация;\n",
    "* `Rougher tails` — отвальные хвосты;\n",
    "* `Float banks` — флотационная установка;\n",
    "* `Cleaner process` — очистка;\n",
    "* `Rougher Au` — черновой концентрат золота;\n",
    "* `Final Au` — финальный концентрат золота;\n",
    "\n",
    "*Параметры этапов*:\n",
    "* `air amount` — объём воздуха;\n",
    "* `fluid levels` — уровень жидкости;\n",
    "* `feed size` — размер гранул сырья;\n",
    "* `feed rate` — скорость подачи;\n",
    "\n",
    "*Наименование признаков*:\n",
    "* `rougher` — флотация;\n",
    "* `primary_cleaner` — первичная очистка;\n",
    "* `secondary_cleaner` — вторичная очистка;\n",
    "* `final` — финальные характеристики;\n",
    "* `input` — параметры сырья;\n",
    "* `output` — параметры продукта;\n",
    "* `state` — параметры, характеризующие текущее состояние этапа;\n",
    "* `calculation` — расчётные характеристики"
   ]
  },
  {
   "cell_type": "markdown",
   "metadata": {},
   "source": [
    "Проверим, что эффективность обогащения рассчитана правильно. Вычислим её на обучающей выборке для признака `rougher.output.recovery`, а затем найдём `MAE` между расчётами и значением признака. Для этого сначала напишем функцию с формулой эффективности обогащения:"
   ]
  },
  {
   "cell_type": "code",
   "execution_count": 6,
   "metadata": {},
   "outputs": [],
   "source": [
    "#функция проверки правильности расчётов эффективности обогащения\n",
    "#C - доля золота в концентрате после флотации/очистки;\n",
    "#F - доля золота в сырье/концентрате до флотации/очистки;\n",
    "#T - доля золота в отвальных хвостах после флотации/очистки\n",
    "\n",
    "def recovery(C, F, T):\n",
    "    effectiv = (C * (F - T)) / (F * (C - T)) * 100\n",
    "    return effectiv"
   ]
  },
  {
   "cell_type": "markdown",
   "metadata": {},
   "source": [
    "Добавим для удобства расчётов в новый датафрейм нужные столбцы:"
   ]
  },
  {
   "cell_type": "code",
   "execution_count": 7,
   "metadata": {},
   "outputs": [],
   "source": [
    "df_train_mae = df_train[['rougher.output.concentrate_au', 'rougher.input.feed_au',\n",
    "                         'rougher.output.tail_au', 'rougher.output.recovery']]"
   ]
  },
  {
   "cell_type": "markdown",
   "metadata": {},
   "source": [
    "Теперь рассчитаем при помощи функции эффективность обогащения и сохраним значение в отдельном столбце:"
   ]
  },
  {
   "cell_type": "code",
   "execution_count": 8,
   "metadata": {},
   "outputs": [],
   "source": [
    "df_train_mae['rougher.output.recovery_verified'] = recovery(df_train_mae['rougher.output.concentrate_au'], \n",
    "         df_train_mae['rougher.input.feed_au'], df_train_mae['rougher.output.tail_au'])"
   ]
  },
  {
   "cell_type": "markdown",
   "metadata": {},
   "source": [
    "Найдём MAE между расчётами и значением признака:"
   ]
  },
  {
   "cell_type": "code",
   "execution_count": 9,
   "metadata": {},
   "outputs": [
    {
     "name": "stdout",
     "output_type": "stream",
     "text": [
      "MAE между расчётами и значением признака составляет: 9.73512347450521e-15\n"
     ]
    }
   ],
   "source": [
    "mae = mean_absolute_error(df_train_mae['rougher.output.recovery'], df_train_mae['rougher.output.recovery_verified'])\n",
    "print('MAE между расчётами и значением признака составляет:', mae)"
   ]
  },
  {
   "cell_type": "markdown",
   "metadata": {},
   "source": [
    "Убедились, что  эффективность обогащения рассчитана правильно. У нас имеется небольшая погрешность, о чём сообщает показатель MAE, однако его значение настолько низко, что им можно смело пренебречь. Далее нужно проанализировать признаки, недоступные в тестовой выборке:"
   ]
  },
  {
   "cell_type": "code",
   "execution_count": 10,
   "metadata": {},
   "outputs": [
    {
     "name": "stdout",
     "output_type": "stream",
     "text": [
      "Признаки, недоступные в тестовой выборке:\n"
     ]
    },
    {
     "data": {
      "text/plain": [
       "{'final.output.concentrate_ag',\n",
       " 'final.output.concentrate_au',\n",
       " 'final.output.concentrate_pb',\n",
       " 'final.output.concentrate_sol',\n",
       " 'final.output.recovery',\n",
       " 'final.output.tail_ag',\n",
       " 'final.output.tail_au',\n",
       " 'final.output.tail_pb',\n",
       " 'final.output.tail_sol',\n",
       " 'primary_cleaner.output.concentrate_ag',\n",
       " 'primary_cleaner.output.concentrate_au',\n",
       " 'primary_cleaner.output.concentrate_pb',\n",
       " 'primary_cleaner.output.concentrate_sol',\n",
       " 'primary_cleaner.output.tail_ag',\n",
       " 'primary_cleaner.output.tail_au',\n",
       " 'primary_cleaner.output.tail_pb',\n",
       " 'primary_cleaner.output.tail_sol',\n",
       " 'rougher.calculation.au_pb_ratio',\n",
       " 'rougher.calculation.floatbank10_sulfate_to_au_feed',\n",
       " 'rougher.calculation.floatbank11_sulfate_to_au_feed',\n",
       " 'rougher.calculation.sulfate_to_au_concentrate',\n",
       " 'rougher.output.concentrate_ag',\n",
       " 'rougher.output.concentrate_au',\n",
       " 'rougher.output.concentrate_pb',\n",
       " 'rougher.output.concentrate_sol',\n",
       " 'rougher.output.recovery',\n",
       " 'rougher.output.tail_ag',\n",
       " 'rougher.output.tail_au',\n",
       " 'rougher.output.tail_pb',\n",
       " 'rougher.output.tail_sol',\n",
       " 'secondary_cleaner.output.tail_ag',\n",
       " 'secondary_cleaner.output.tail_au',\n",
       " 'secondary_cleaner.output.tail_pb',\n",
       " 'secondary_cleaner.output.tail_sol'}"
      ]
     },
     "execution_count": 10,
     "metadata": {},
     "output_type": "execute_result"
    }
   ],
   "source": [
    "print('Признаки, недоступные в тестовой выборке:')\n",
    "set(df_train.columns) - set(df_test.columns)"
   ]
  },
  {
   "cell_type": "markdown",
   "metadata": {},
   "source": [
    "Видно, что в тестовой выборке отсутствуют признаки с информацией о содержании различных ископаемых в золотосодержащей руде на различных этапах обработки. Данные признаки относятся к так называемой категории онлайн-метрик, следовательно, они недоступны на момент построения модели и выполнения ей предсказаний, поэтому и не помещены в тестовую выборку. Данное решение было абсолютно правильным. В завершении подготовки данных поработаем над небольшой предобработкой данных. Сначала оставим в обучающей выборке лишь те признаки, которые есть в тестовой:"
   ]
  },
  {
   "cell_type": "code",
   "execution_count": 11,
   "metadata": {},
   "outputs": [
    {
     "data": {
      "text/html": [
       "<div>\n",
       "<style scoped>\n",
       "    .dataframe tbody tr th:only-of-type {\n",
       "        vertical-align: middle;\n",
       "    }\n",
       "\n",
       "    .dataframe tbody tr th {\n",
       "        vertical-align: top;\n",
       "    }\n",
       "\n",
       "    .dataframe thead th {\n",
       "        text-align: right;\n",
       "    }\n",
       "</style>\n",
       "<table border=\"1\" class=\"dataframe\">\n",
       "  <thead>\n",
       "    <tr style=\"text-align: right;\">\n",
       "      <th></th>\n",
       "      <th>date</th>\n",
       "      <th>primary_cleaner.input.sulfate</th>\n",
       "      <th>primary_cleaner.input.depressant</th>\n",
       "      <th>primary_cleaner.input.feed_size</th>\n",
       "      <th>primary_cleaner.input.xanthate</th>\n",
       "      <th>primary_cleaner.state.floatbank8_a_air</th>\n",
       "      <th>primary_cleaner.state.floatbank8_a_level</th>\n",
       "      <th>primary_cleaner.state.floatbank8_b_air</th>\n",
       "      <th>primary_cleaner.state.floatbank8_b_level</th>\n",
       "      <th>primary_cleaner.state.floatbank8_c_air</th>\n",
       "      <th>...</th>\n",
       "      <th>secondary_cleaner.state.floatbank4_a_air</th>\n",
       "      <th>secondary_cleaner.state.floatbank4_a_level</th>\n",
       "      <th>secondary_cleaner.state.floatbank4_b_air</th>\n",
       "      <th>secondary_cleaner.state.floatbank4_b_level</th>\n",
       "      <th>secondary_cleaner.state.floatbank5_a_air</th>\n",
       "      <th>secondary_cleaner.state.floatbank5_a_level</th>\n",
       "      <th>secondary_cleaner.state.floatbank5_b_air</th>\n",
       "      <th>secondary_cleaner.state.floatbank5_b_level</th>\n",
       "      <th>secondary_cleaner.state.floatbank6_a_air</th>\n",
       "      <th>secondary_cleaner.state.floatbank6_a_level</th>\n",
       "    </tr>\n",
       "  </thead>\n",
       "  <tbody>\n",
       "    <tr>\n",
       "      <th>0</th>\n",
       "      <td>2016-01-15 00:00:00</td>\n",
       "      <td>127.092003</td>\n",
       "      <td>10.128295</td>\n",
       "      <td>7.25</td>\n",
       "      <td>0.988759</td>\n",
       "      <td>1549.775757</td>\n",
       "      <td>-498.912140</td>\n",
       "      <td>1551.434204</td>\n",
       "      <td>-516.403442</td>\n",
       "      <td>1549.873901</td>\n",
       "      <td>...</td>\n",
       "      <td>14.016835</td>\n",
       "      <td>-502.488007</td>\n",
       "      <td>12.099931</td>\n",
       "      <td>-504.715942</td>\n",
       "      <td>9.925633</td>\n",
       "      <td>-498.310211</td>\n",
       "      <td>8.079666</td>\n",
       "      <td>-500.470978</td>\n",
       "      <td>14.151341</td>\n",
       "      <td>-605.841980</td>\n",
       "    </tr>\n",
       "    <tr>\n",
       "      <th>1</th>\n",
       "      <td>2016-01-15 01:00:00</td>\n",
       "      <td>125.629232</td>\n",
       "      <td>10.296251</td>\n",
       "      <td>7.25</td>\n",
       "      <td>1.002663</td>\n",
       "      <td>1576.166671</td>\n",
       "      <td>-500.904965</td>\n",
       "      <td>1575.950626</td>\n",
       "      <td>-499.865889</td>\n",
       "      <td>1575.994189</td>\n",
       "      <td>...</td>\n",
       "      <td>13.992281</td>\n",
       "      <td>-505.503262</td>\n",
       "      <td>11.950531</td>\n",
       "      <td>-501.331529</td>\n",
       "      <td>10.039245</td>\n",
       "      <td>-500.169983</td>\n",
       "      <td>7.984757</td>\n",
       "      <td>-500.582168</td>\n",
       "      <td>13.998353</td>\n",
       "      <td>-599.787184</td>\n",
       "    </tr>\n",
       "    <tr>\n",
       "      <th>2</th>\n",
       "      <td>2016-01-15 02:00:00</td>\n",
       "      <td>123.819808</td>\n",
       "      <td>11.316280</td>\n",
       "      <td>7.25</td>\n",
       "      <td>0.991265</td>\n",
       "      <td>1601.556163</td>\n",
       "      <td>-499.997791</td>\n",
       "      <td>1600.386685</td>\n",
       "      <td>-500.607762</td>\n",
       "      <td>1602.003542</td>\n",
       "      <td>...</td>\n",
       "      <td>14.015015</td>\n",
       "      <td>-502.520901</td>\n",
       "      <td>11.912783</td>\n",
       "      <td>-501.133383</td>\n",
       "      <td>10.070913</td>\n",
       "      <td>-500.129135</td>\n",
       "      <td>8.013877</td>\n",
       "      <td>-500.517572</td>\n",
       "      <td>14.028663</td>\n",
       "      <td>-601.427363</td>\n",
       "    </tr>\n",
       "  </tbody>\n",
       "</table>\n",
       "<p>3 rows × 53 columns</p>\n",
       "</div>"
      ],
      "text/plain": [
       "                  date  primary_cleaner.input.sulfate  \\\n",
       "0  2016-01-15 00:00:00                     127.092003   \n",
       "1  2016-01-15 01:00:00                     125.629232   \n",
       "2  2016-01-15 02:00:00                     123.819808   \n",
       "\n",
       "   primary_cleaner.input.depressant  primary_cleaner.input.feed_size  \\\n",
       "0                         10.128295                             7.25   \n",
       "1                         10.296251                             7.25   \n",
       "2                         11.316280                             7.25   \n",
       "\n",
       "   primary_cleaner.input.xanthate  primary_cleaner.state.floatbank8_a_air  \\\n",
       "0                        0.988759                             1549.775757   \n",
       "1                        1.002663                             1576.166671   \n",
       "2                        0.991265                             1601.556163   \n",
       "\n",
       "   primary_cleaner.state.floatbank8_a_level  \\\n",
       "0                               -498.912140   \n",
       "1                               -500.904965   \n",
       "2                               -499.997791   \n",
       "\n",
       "   primary_cleaner.state.floatbank8_b_air  \\\n",
       "0                             1551.434204   \n",
       "1                             1575.950626   \n",
       "2                             1600.386685   \n",
       "\n",
       "   primary_cleaner.state.floatbank8_b_level  \\\n",
       "0                               -516.403442   \n",
       "1                               -499.865889   \n",
       "2                               -500.607762   \n",
       "\n",
       "   primary_cleaner.state.floatbank8_c_air  ...  \\\n",
       "0                             1549.873901  ...   \n",
       "1                             1575.994189  ...   \n",
       "2                             1602.003542  ...   \n",
       "\n",
       "   secondary_cleaner.state.floatbank4_a_air  \\\n",
       "0                                 14.016835   \n",
       "1                                 13.992281   \n",
       "2                                 14.015015   \n",
       "\n",
       "   secondary_cleaner.state.floatbank4_a_level  \\\n",
       "0                                 -502.488007   \n",
       "1                                 -505.503262   \n",
       "2                                 -502.520901   \n",
       "\n",
       "   secondary_cleaner.state.floatbank4_b_air  \\\n",
       "0                                 12.099931   \n",
       "1                                 11.950531   \n",
       "2                                 11.912783   \n",
       "\n",
       "   secondary_cleaner.state.floatbank4_b_level  \\\n",
       "0                                 -504.715942   \n",
       "1                                 -501.331529   \n",
       "2                                 -501.133383   \n",
       "\n",
       "   secondary_cleaner.state.floatbank5_a_air  \\\n",
       "0                                  9.925633   \n",
       "1                                 10.039245   \n",
       "2                                 10.070913   \n",
       "\n",
       "   secondary_cleaner.state.floatbank5_a_level  \\\n",
       "0                                 -498.310211   \n",
       "1                                 -500.169983   \n",
       "2                                 -500.129135   \n",
       "\n",
       "   secondary_cleaner.state.floatbank5_b_air  \\\n",
       "0                                  8.079666   \n",
       "1                                  7.984757   \n",
       "2                                  8.013877   \n",
       "\n",
       "   secondary_cleaner.state.floatbank5_b_level  \\\n",
       "0                                 -500.470978   \n",
       "1                                 -500.582168   \n",
       "2                                 -500.517572   \n",
       "\n",
       "   secondary_cleaner.state.floatbank6_a_air  \\\n",
       "0                                 14.151341   \n",
       "1                                 13.998353   \n",
       "2                                 14.028663   \n",
       "\n",
       "   secondary_cleaner.state.floatbank6_a_level  \n",
       "0                                 -605.841980  \n",
       "1                                 -599.787184  \n",
       "2                                 -601.427363  \n",
       "\n",
       "[3 rows x 53 columns]"
      ]
     },
     "execution_count": 11,
     "metadata": {},
     "output_type": "execute_result"
    }
   ],
   "source": [
    "df_train_chosen = df_train[df_test.columns]\n",
    "df_train_chosen.head(3)"
   ]
  },
  {
   "cell_type": "markdown",
   "metadata": {},
   "source": [
    "Один столбец имеет тип данных `object`, однако в нём представлены даты. Можно было бы перевести его в формат `datetime`, однако будет проще данный столбец задать в качестве индекса для каждой таблицы:"
   ]
  },
  {
   "cell_type": "code",
   "execution_count": 12,
   "metadata": {},
   "outputs": [],
   "source": [
    "df_train_chosen = df_train_chosen.set_index('date')\n",
    "df_test = df_test.set_index('date')\n",
    "df_full = df_full.set_index('date')"
   ]
  },
  {
   "cell_type": "markdown",
   "metadata": {},
   "source": [
    "Далее поработаем с пропусками в таблицах. Мы обнаружили, что их количество мало, но они присутствуют. Заполнять средними показателями данные пропуски нельзя, поэтому заменим их специальным методом `ffill`:"
   ]
  },
  {
   "cell_type": "code",
   "execution_count": 13,
   "metadata": {},
   "outputs": [],
   "source": [
    "df_train_chosen = df_train_chosen.fillna(method='ffill')\n",
    "df_test = df_test.fillna(method='ffill')\n",
    "df_full = df_full.fillna(method='ffill')"
   ]
  },
  {
   "cell_type": "markdown",
   "metadata": {},
   "source": [
    "### Вывод"
   ]
  },
  {
   "cell_type": "markdown",
   "metadata": {},
   "source": [
    "На этапе подготовке данных мы выгружили все полученные таблицы и обнаружили в них несколько важных моментов: небольшое количество пропусков, дата в некорректном типе, различное количество признаков в обучающей и тестовой выборках. Пропуски были заменены нулями, чтобы не искажать результаты и при необходимости исключить такие наблюдения из таблицы, даты установили в качестве id таблиц, а размер признаков в обучающей выборке скорректировали под размеры тестовой. Помимо этого, также проверили корректность расчётов эффективности обогащения: `MAE` между расчётами и значениями признака составила 9.7e-15, что является близким к нулю и, следовательно, незначительным отклонением.\n",
    "\n",
    "Далее необходимо переходить к анализу данных."
   ]
  },
  {
   "cell_type": "markdown",
   "metadata": {},
   "source": [
    "## Анализ данных"
   ]
  },
  {
   "cell_type": "markdown",
   "metadata": {},
   "source": [
    "Посмотрим, как меняется концентрация металлов на различных этапах очистки на примерах Au, Ag и Pb. Для этого сохраним значения по каждому из данных металлов в отдельных датафреймах:"
   ]
  },
  {
   "cell_type": "code",
   "execution_count": 14,
   "metadata": {},
   "outputs": [],
   "source": [
    "au_concentrate = df_full[['rougher.output.concentrate_au', 'primary_cleaner.output.concentrate_au', \n",
    "                          'final.output.concentrate_au']]\n",
    "ag_concentrate = df_full[['rougher.output.concentrate_ag', 'primary_cleaner.output.concentrate_ag', \n",
    "                          'final.output.concentrate_ag']]\n",
    "pb_concentrate = df_full[['rougher.output.concentrate_pb', 'primary_cleaner.output.concentrate_pb', \n",
    "                          'final.output.concentrate_pb']]"
   ]
  },
  {
   "cell_type": "markdown",
   "metadata": {},
   "source": [
    "Теперь построим графики изменения этой концентрации по трём металлам на трёх этапах очистки:"
   ]
  },
  {
   "cell_type": "code",
   "execution_count": 15,
   "metadata": {},
   "outputs": [],
   "source": [
    "#устанавливаем цвет для графиков\n",
    "cmap = cm.get_cmap('Set3') "
   ]
  },
  {
   "cell_type": "code",
   "execution_count": 16,
   "metadata": {},
   "outputs": [
    {
     "data": {
      "image/png": "[encoded data removed]",
      "text/plain": [
       "<Figure size 864x432 with 1 Axes>"
      ]
     },
     "metadata": {
      "needs_background": "light"
     },
     "output_type": "display_data"
    }
   ],
   "source": [
    "plt = au_concentrate.plot(kind='hist', bins=80, figsize=(12,6), legend=True, alpha=0.7, fontsize=10, grid=True, \n",
    "                    title='Changes in the concentration of AU at various stages of purification', xlim=(0, 55), cmap=cmap)"
   ]
  },
  {
   "cell_type": "code",
   "execution_count": 17,
   "metadata": {},
   "outputs": [
    {
     "data": {
      "image/png": "[encoded data removed]",
      "text/plain": [
       "<Figure size 864x432 with 1 Axes>"
      ]
     },
     "metadata": {
      "needs_background": "light"
     },
     "output_type": "display_data"
    }
   ],
   "source": [
    "plt = ag_concentrate.plot(kind='hist', bins=80, figsize=(12,6), legend=True, alpha=0.7, fontsize=10, grid=True, \n",
    "                    title='Changes in the concentration of AG at various stages of purification', xlim=(0, 20), cmap=cmap)"
   ]
  },
  {
   "cell_type": "code",
   "execution_count": 18,
   "metadata": {},
   "outputs": [
    {
     "data": {
      "image/png": "[encoded data removed]",
      "text/plain": [
       "<Figure size 864x432 with 1 Axes>"
      ]
     },
     "metadata": {
      "needs_background": "light"
     },
     "output_type": "display_data"
    }
   ],
   "source": [
    "plt = pb_concentrate.plot(kind='hist', bins=80, figsize=(12,6), legend=True, alpha=0.7, fontsize=10, grid=True, \n",
    "                    title='Changes in the concentration of PB at various stages of purification', xlim=(0, 20), cmap=cmap)"
   ]
  },
  {
   "cell_type": "markdown",
   "metadata": {},
   "source": [
    "На графиках чётко видна главная тенденция: на каждом этапе в среднем повышается концентрация золота в золотосодержащей руде. Глядя на второй график, видим, что в среднем концентрация серебра с каждым этапом уменьшается. На третьем графике видно, что свинец, в целом, после первого этапа очистки увеличивается в доле концентрации, однако незначительно, при этом второй и третий этап происходит почти одинаково. Также заметили аномальные значения, близкие к нули. Проверим графики расчётами:"
   ]
  },
  {
   "cell_type": "code",
   "execution_count": 19,
   "metadata": {},
   "outputs": [
    {
     "name": "stdout",
     "output_type": "stream",
     "text": [
      "Изменение концентрации золота в ходе обработки:\n",
      "rougher.output.concentrate_au            19.772000\n",
      "primary_cleaner.output.concentrate_au    32.119400\n",
      "final.output.concentrate_au              44.076513\n",
      "dtype: float64\n",
      "\n",
      "Изменение концентрации серебра в ходе обработки:\n",
      "rougher.output.concentrate_ag            11.994759\n",
      "primary_cleaner.output.concentrate_ag     8.442408\n",
      "final.output.concentrate_ag               5.168387\n",
      "dtype: float64\n",
      "\n",
      "Изменение концентрации свинца в ходе обработки:\n",
      "rougher.output.concentrate_pb            7.606272\n",
      "primary_cleaner.output.concentrate_pb    9.810317\n",
      "final.output.concentrate_pb              9.978821\n",
      "dtype: float64\n"
     ]
    }
   ],
   "source": [
    "print('Изменение концентрации золота в ходе обработки:')\n",
    "print(df_full[['rougher.output.concentrate_au', 'primary_cleaner.output.concentrate_au', \n",
    "                          'final.output.concentrate_au']].mean())\n",
    "print()\n",
    "print('Изменение концентрации серебра в ходе обработки:')\n",
    "print(df_full[['rougher.output.concentrate_ag', 'primary_cleaner.output.concentrate_ag', \n",
    "                          'final.output.concentrate_ag']].mean())\n",
    "print()\n",
    "print('Изменение концентрации свинца в ходе обработки:')\n",
    "print(df_full[['rougher.output.concentrate_pb', 'primary_cleaner.output.concentrate_pb', \n",
    "                          'final.output.concentrate_pb']].mean())"
   ]
  },
  {
   "cell_type": "markdown",
   "metadata": {},
   "source": [
    "Действительно, описанное по графикам совпадает с расчётами. Значит, всё выполнено верно. Сравним распределения размеров гранул сырья на обучающей и тестовой выборках. Это необходимо сделать, так как если распределения сильно отличаются друг от друга, оценка модели будет неправильной. Сначала выберем необходимые столбцы с размерами гранул из обучающей и тестовой выборок:"
   ]
  },
  {
   "cell_type": "code",
   "execution_count": 20,
   "metadata": {},
   "outputs": [],
   "source": [
    "feed_size_train = df_train_chosen[['rougher.input.feed_size', 'primary_cleaner.input.feed_size']]\n",
    "feed_size_test = df_test[['rougher.input.feed_size', 'primary_cleaner.input.feed_size']]"
   ]
  },
  {
   "cell_type": "markdown",
   "metadata": {},
   "source": [
    "Теперь объединим в 2 датафрейма данные обучающей и тестовой выборок по процессу: `rougher` и `primary`:"
   ]
  },
  {
   "cell_type": "code",
   "execution_count": 21,
   "metadata": {},
   "outputs": [],
   "source": [
    "feed_size_rougher = pd.concat([feed_size_train['rougher.input.feed_size'], \n",
    "                               feed_size_test['rougher.input.feed_size']], axis=1)\n",
    "feed_size_primary = pd.concat([feed_size_train['primary_cleaner.input.feed_size'], \n",
    "                               feed_size_test['primary_cleaner.input.feed_size']], axis=1)"
   ]
  },
  {
   "cell_type": "markdown",
   "metadata": {},
   "source": [
    "Построим боксплоты для двух датафреймов, чтобы сравнить распределения размеров гранул сырья:"
   ]
  },
  {
   "cell_type": "code",
   "execution_count": 22,
   "metadata": {},
   "outputs": [
    {
     "data": {
      "image/png": "[encoded data removed]",
      "text/plain": [
       "<Figure size 576x360 with 1 Axes>"
      ]
     },
     "metadata": {
      "needs_background": "light"
     },
     "output_type": "display_data"
    }
   ],
   "source": [
    "plt = feed_size_rougher.boxplot(figsize=(8, 5), grid=True, fontsize=10)"
   ]
  },
  {
   "cell_type": "code",
   "execution_count": 23,
   "metadata": {},
   "outputs": [
    {
     "data": {
      "image/png": "[encoded data removed]",
      "text/plain": [
       "<Figure size 576x360 with 1 Axes>"
      ]
     },
     "metadata": {
      "needs_background": "light"
     },
     "output_type": "display_data"
    }
   ],
   "source": [
    "plt = feed_size_primary.boxplot(figsize=(8, 5), grid=True, fontsize=10)"
   ]
  },
  {
   "cell_type": "markdown",
   "metadata": {},
   "source": [
    "Как видно по графикам, 50% значений в обоих случаях лежат примерно в одинаковых значениях, а медианы достаточно близки друг к другу. Однако, на этапе `rougher` наблюдается существенно больше выбросов, при этом в обучающих данных этот разброс больше. С другой стороны, в данном контексте выбросы являются для нас незначимыми, а мы получаем главный необходимый вывод - оценка модели неправильной не будет."
   ]
  },
  {
   "cell_type": "markdown",
   "metadata": {},
   "source": [
    "В завершении анализа данных исследуем суммарную концентрацию всех веществ на разных стадиях: в сырье, в черновом и финальном концентратах. Для этого соберём необходимые данные в датафреймы:"
   ]
  },
  {
   "cell_type": "code",
   "execution_count": 24,
   "metadata": {},
   "outputs": [
    {
     "name": "stdout",
     "output_type": "stream",
     "text": [
      "Необходимые данные успешно собраны\n"
     ]
    }
   ],
   "source": [
    "try:\n",
    "    df_rougher = au_concentrate['rougher.output.concentrate_au'] + ag_concentrate['rougher.output.concentrate_ag']\n",
    "    + pb_concentrate['rougher.output.concentrate_pb']\n",
    "    df_primary = au_concentrate['primary_cleaner.output.concentrate_au'] + ag_concentrate['primary_cleaner.output.concentrate_ag'] \n",
    "    + pb_concentrate['primary_cleaner.output.concentrate_pb']\n",
    "    df_final = au_concentrate['final.output.concentrate_au'] + ag_concentrate['final.output.concentrate_ag']\n",
    "    + pb_concentrate['final.output.concentrate_pb']\n",
    "    print('Необходимые данные успешно собраны')\n",
    "except:\n",
    "    print('Необходимых данных нет, необходимо повторить')"
   ]
  },
  {
   "cell_type": "markdown",
   "metadata": {},
   "source": [
    "Теперь построим гистограммы по каждому этапу, чтобы оценить суммарную концентрацию веществ:"
   ]
  },
  {
   "cell_type": "code",
   "execution_count": 25,
   "metadata": {},
   "outputs": [
    {
     "data": {
      "image/png": "[encoded data removed]",
      "text/plain": [
       "<Figure size 720x432 with 1 Axes>"
      ]
     },
     "metadata": {
      "needs_background": "light"
     },
     "output_type": "display_data"
    }
   ],
   "source": [
    "#построение гистограммы по этапу 'rougher'\n",
    "plt = df_rougher.plot(kind='hist', bins=80, figsize=(10,6), fontsize=10, grid=True, \n",
    "                    title='Changes in the concentration of fossils at rougher stage', xlim=(0, 45), cmap=cmap)"
   ]
  },
  {
   "cell_type": "code",
   "execution_count": 26,
   "metadata": {},
   "outputs": [
    {
     "data": {
      "image/png": "[encoded data removed]",
      "text/plain": [
       "<Figure size 720x432 with 1 Axes>"
      ]
     },
     "metadata": {
      "needs_background": "light"
     },
     "output_type": "display_data"
    }
   ],
   "source": [
    "#построение гистограммы по этапу 'primary_cleaner'\n",
    "plt = df_primary.plot(kind='hist', bins=80, figsize=(10,6), fontsize=10, grid=True, \n",
    "                    title='Changes in the concentration of fossuls at primary_cleaner stage', xlim=(0, 60), cmap=cmap)"
   ]
  },
  {
   "cell_type": "code",
   "execution_count": 27,
   "metadata": {},
   "outputs": [
    {
     "data": {
      "image/png": "[encoded data removed]",
      "text/plain": [
       "<Figure size 720x432 with 1 Axes>"
      ]
     },
     "metadata": {
      "needs_background": "light"
     },
     "output_type": "display_data"
    }
   ],
   "source": [
    "#построение гистограммы по этапу 'final'\n",
    "plt = df_final.plot(kind='hist', bins=80, figsize=(10,6), fontsize=10, grid=True, \n",
    "                    title='Changes in the concentration of fossils at final stage', xlim=(0, 60), cmap=cmap)"
   ]
  },
  {
   "cell_type": "markdown",
   "metadata": {},
   "source": [
    "### Вывод"
   ]
  },
  {
   "cell_type": "markdown",
   "metadata": {},
   "source": [
    "На этапе анализа данных было рассмотрено, как меняется концентрация металлов на различных этапах очистки. На каждом этапе в среднем повышается концентрация золота в золотосодержащей руде, концентрация серебра с каждым этапом уменьшается, а свинец, в целом, после первого этапа очистки увеличивается в доле концентрации, однако незначительно, при этом второй и третий этап происходит почти одинаково. В нулевых значениях всех суммарных концентраций есть немалое количество нулевых значений. Значит, в суммарной руде есть какие-то количества ненужных примесей.\n",
    "Также провели сравнение размеров гранулов в обучающей и тестовой выборках, чтобы убедиться, что оценка модели будет правильной. Получили, что размер гранул на 1 этапе очистки составил примерно 60 в обоих случаях, а на 2 этапе - чуть более 7. Медианы находятся близко друг к другу, что говорит о хорошем качестве выборок для модели.\n",
    "На данном этапе рассмотрели общую концентрацию всех веществ на разных стадиях. Видно, что с каждой стадией разброс значений существенно снижается, следовательно, происходит качественная очистка материала. Далее можно переходить к построению модели."
   ]
  },
  {
   "cell_type": "markdown",
   "metadata": {},
   "source": [
    "## Модель"
   ]
  },
  {
   "cell_type": "markdown",
   "metadata": {},
   "source": [
    "Напишем функции для вычисления `sMAPE` и итогового `sMAPE`:"
   ]
  },
  {
   "cell_type": "code",
   "execution_count": 28,
   "metadata": {},
   "outputs": [],
   "source": [
    "def smape(target, predicted):\n",
    "    result = 0\n",
    "    for key in range(0, len(predicted)):\n",
    "        result += abs(target[key] - predicted[key]) / ((abs(target[key]) + abs(predicted[key])) / 2)\n",
    "    result = (result / len(predicted)) * 100\n",
    "    return result\n",
    "\n",
    "def final_smape(target_rougher, predicted_rougher, target_final, predicted_final):\n",
    "    return 0.25 * smape(target_rougher, predicted_rougher) + 0.75 * smape(target_final, predicted_final)"
   ]
  },
  {
   "cell_type": "markdown",
   "metadata": {},
   "source": [
    "Объединим данные в отдельные датафреймы:"
   ]
  },
  {
   "cell_type": "code",
   "execution_count": 29,
   "metadata": {},
   "outputs": [],
   "source": [
    "df_target = df_full[df_full.index.isin(df_train_chosen.index)][['rougher.output.recovery', 'final.output.recovery']]\n",
    "df_test_target = df_full[df_full.index.isin(df_test.index)][['rougher.output.recovery', 'final.output.recovery']]"
   ]
  },
  {
   "cell_type": "code",
   "execution_count": 30,
   "metadata": {},
   "outputs": [
    {
     "data": {
      "text/html": [
       "<div>\n",
       "<style scoped>\n",
       "    .dataframe tbody tr th:only-of-type {\n",
       "        vertical-align: middle;\n",
       "    }\n",
       "\n",
       "    .dataframe tbody tr th {\n",
       "        vertical-align: top;\n",
       "    }\n",
       "\n",
       "    .dataframe thead th {\n",
       "        text-align: right;\n",
       "    }\n",
       "</style>\n",
       "<table border=\"1\" class=\"dataframe\">\n",
       "  <thead>\n",
       "    <tr style=\"text-align: right;\">\n",
       "      <th></th>\n",
       "      <th>rougher.output.recovery</th>\n",
       "      <th>final.output.recovery</th>\n",
       "    </tr>\n",
       "    <tr>\n",
       "      <th>date</th>\n",
       "      <th></th>\n",
       "      <th></th>\n",
       "    </tr>\n",
       "  </thead>\n",
       "  <tbody>\n",
       "    <tr>\n",
       "      <th>2016-09-01 00:59:59</th>\n",
       "      <td>89.993421</td>\n",
       "      <td>70.273583</td>\n",
       "    </tr>\n",
       "    <tr>\n",
       "      <th>2016-09-01 01:59:59</th>\n",
       "      <td>88.089657</td>\n",
       "      <td>68.910432</td>\n",
       "    </tr>\n",
       "    <tr>\n",
       "      <th>2016-09-01 02:59:59</th>\n",
       "      <td>88.412756</td>\n",
       "      <td>68.143213</td>\n",
       "    </tr>\n",
       "    <tr>\n",
       "      <th>2016-09-01 03:59:59</th>\n",
       "      <td>87.360133</td>\n",
       "      <td>67.776393</td>\n",
       "    </tr>\n",
       "    <tr>\n",
       "      <th>2016-09-01 04:59:59</th>\n",
       "      <td>83.236367</td>\n",
       "      <td>61.467078</td>\n",
       "    </tr>\n",
       "    <tr>\n",
       "      <th>...</th>\n",
       "      <td>...</td>\n",
       "      <td>...</td>\n",
       "    </tr>\n",
       "    <tr>\n",
       "      <th>2017-12-31 19:59:59</th>\n",
       "      <td>95.172585</td>\n",
       "      <td>68.919891</td>\n",
       "    </tr>\n",
       "    <tr>\n",
       "      <th>2017-12-31 20:59:59</th>\n",
       "      <td>94.575036</td>\n",
       "      <td>68.440582</td>\n",
       "    </tr>\n",
       "    <tr>\n",
       "      <th>2017-12-31 21:59:59</th>\n",
       "      <td>93.018138</td>\n",
       "      <td>67.092759</td>\n",
       "    </tr>\n",
       "    <tr>\n",
       "      <th>2017-12-31 22:59:59</th>\n",
       "      <td>92.599042</td>\n",
       "      <td>68.061186</td>\n",
       "    </tr>\n",
       "    <tr>\n",
       "      <th>2017-12-31 23:59:59</th>\n",
       "      <td>91.177695</td>\n",
       "      <td>71.699976</td>\n",
       "    </tr>\n",
       "  </tbody>\n",
       "</table>\n",
       "<p>5290 rows × 2 columns</p>\n",
       "</div>"
      ],
      "text/plain": [
       "                     rougher.output.recovery  final.output.recovery\n",
       "date                                                               \n",
       "2016-09-01 00:59:59                89.993421              70.273583\n",
       "2016-09-01 01:59:59                88.089657              68.910432\n",
       "2016-09-01 02:59:59                88.412756              68.143213\n",
       "2016-09-01 03:59:59                87.360133              67.776393\n",
       "2016-09-01 04:59:59                83.236367              61.467078\n",
       "...                                      ...                    ...\n",
       "2017-12-31 19:59:59                95.172585              68.919891\n",
       "2017-12-31 20:59:59                94.575036              68.440582\n",
       "2017-12-31 21:59:59                93.018138              67.092759\n",
       "2017-12-31 22:59:59                92.599042              68.061186\n",
       "2017-12-31 23:59:59                91.177695              71.699976\n",
       "\n",
       "[5290 rows x 2 columns]"
      ]
     },
     "execution_count": 30,
     "metadata": {},
     "output_type": "execute_result"
    }
   ],
   "source": [
    "df_test_target"
   ]
  },
  {
   "cell_type": "markdown",
   "metadata": {},
   "source": [
    "Объединим в отдельные датафреймы процессы в зависимости от этапа, на котором они происходят:"
   ]
  },
  {
   "cell_type": "code",
   "execution_count": 31,
   "metadata": {},
   "outputs": [],
   "source": [
    "rougher_columns = ['rougher.input.feed_ag', 'rougher.input.feed_pb', 'rougher.input.feed_rate', \n",
    "                   'rougher.input.feed_size', 'rougher.input.feed_sol', 'rougher.input.feed_au', \n",
    "                   'rougher.input.floatbank10_sulfate', 'rougher.input.floatbank10_xanthate',\n",
    "                   'rougher.input.floatbank11_sulfate', 'rougher.input.floatbank11_xanthate', \n",
    "                   'rougher.state.floatbank10_a_air', 'rougher.state.floatbank10_a_level', \n",
    "                   'rougher.state.floatbank10_b_air', 'rougher.state.floatbank10_b_level', \n",
    "                   'rougher.state.floatbank10_c_air', 'rougher.state.floatbank10_c_level', \n",
    "                   'rougher.state.floatbank10_d_air', 'rougher.state.floatbank10_d_level', \n",
    "                   'rougher.state.floatbank10_e_air', 'rougher.state.floatbank10_e_level', \n",
    "                   'rougher.state.floatbank10_f_air', 'rougher.state.floatbank10_f_level'\n",
    "                    ]\n",
    "\n",
    "final_columns = ['primary_cleaner.input.sulfate', 'primary_cleaner.input.depressant', 'primary_cleaner.input.feed_size', \n",
    "                 'primary_cleaner.input.xanthate','primary_cleaner.state.floatbank8_a_air', \n",
    "                 'primary_cleaner.state.floatbank8_a_level', 'primary_cleaner.state.floatbank8_b_air', \n",
    "                 'primary_cleaner.state.floatbank8_b_level', 'primary_cleaner.state.floatbank8_c_air',\n",
    "                 'primary_cleaner.state.floatbank8_c_level', 'primary_cleaner.state.floatbank8_d_air', \n",
    "                 'primary_cleaner.state.floatbank8_d_level', 'secondary_cleaner.state.floatbank2_a_air', \n",
    "                 'secondary_cleaner.state.floatbank2_a_level', 'secondary_cleaner.state.floatbank2_b_air', \n",
    "                 'secondary_cleaner.state.floatbank2_b_level', 'secondary_cleaner.state.floatbank3_a_air',\n",
    "                 'secondary_cleaner.state.floatbank3_a_level', 'secondary_cleaner.state.floatbank3_b_air', \n",
    "                 'secondary_cleaner.state.floatbank3_b_level', 'secondary_cleaner.state.floatbank4_a_air', \n",
    "                 'secondary_cleaner.state.floatbank4_a_level', 'secondary_cleaner.state.floatbank4_b_air', \n",
    "                 'secondary_cleaner.state.floatbank4_b_level', 'secondary_cleaner.state.floatbank5_a_air', \n",
    "                 'secondary_cleaner.state.floatbank5_a_level', 'secondary_cleaner.state.floatbank5_b_air', \n",
    "                 'secondary_cleaner.state.floatbank5_b_level', 'secondary_cleaner.state.floatbank6_a_air', \n",
    "                 'secondary_cleaner.state.floatbank6_a_level'\n",
    "                    ]"
   ]
  },
  {
   "cell_type": "code",
   "execution_count": 32,
   "metadata": {},
   "outputs": [],
   "source": [
    "df_rougher_train = df_train_chosen[rougher_columns]\n",
    "df_rougher_target = df_target['rougher.output.recovery']\n",
    "df_final_train = df_train_chosen[final_columns]\n",
    "df_final_target = df_target['final.output.recovery']"
   ]
  },
  {
   "cell_type": "markdown",
   "metadata": {},
   "source": [
    "Так как в данных переменные имеют различную масштабность, необходимо промасштабировать их, чтобы большие показатели не вносили большего вклада исключительно из-за их модулей:"
   ]
  },
  {
   "cell_type": "code",
   "execution_count": 33,
   "metadata": {},
   "outputs": [],
   "source": [
    "rougher_scaler = StandardScaler()\n",
    "rougher_scaler.fit(df_rougher_train[rougher_columns])\n",
    "df_rougher_train[rougher_columns] = rougher_scaler.transform(df_rougher_train[rougher_columns])\n",
    "\n",
    "final_scaler = StandardScaler()\n",
    "final_scaler.fit(df_final_train[final_columns])\n",
    "df_final_train[final_columns] = final_scaler.transform(df_final_train[final_columns])"
   ]
  },
  {
   "cell_type": "code",
   "execution_count": 34,
   "metadata": {},
   "outputs": [],
   "source": [
    "df_test[rougher_columns] = rougher_scaler.transform(df_test[rougher_columns])\n",
    "df_test[final_columns] = final_scaler.transform(df_test[final_columns])"
   ]
  },
  {
   "cell_type": "markdown",
   "metadata": {},
   "source": [
    "Возьмём для работы модель случайного леса и при помощи кроссвалидации найдём наилучшие параметры для этой модели:"
   ]
  },
  {
   "cell_type": "code",
   "execution_count": 35,
   "metadata": {},
   "outputs": [
    {
     "data": {
      "text/plain": [
       "{'max_depth': 1, 'n_estimators': 5}"
      ]
     },
     "execution_count": 35,
     "metadata": {},
     "output_type": "execute_result"
    }
   ],
   "source": [
    "scorer = make_scorer(smape, greater_is_better=False)\n",
    "parameters = {'n_estimators': range(1, 12),'max_depth': range(1,12)}\n",
    "model = RandomForestRegressor()\n",
    "grid = GridSearchCV(model, parameters, cv=3, scoring=scorer)\n",
    "grid.fit(df_rougher_train, df_rougher_target)\n",
    "grid.best_params_"
   ]
  },
  {
   "cell_type": "markdown",
   "metadata": {},
   "source": [
    "Кроссвалидация показала, что для случайного леса наилучшими параметрами являются максимальная глубина - 1, количество деревьев - 5. Запомним эти параметры. Посмотрим метрику модели при данных наилучших параметрах:"
   ]
  },
  {
   "cell_type": "markdown",
   "metadata": {},
   "source": [
    "Посмотрим модель линейной регрессии и оценим её метрику:"
   ]
  },
  {
   "cell_type": "code",
   "execution_count": 36,
   "metadata": {},
   "outputs": [
    {
     "data": {
      "text/plain": [
       "10.106872729885032"
      ]
     },
     "execution_count": 36,
     "metadata": {},
     "output_type": "execute_result"
    }
   ],
   "source": [
    "model_lr = LinearRegression()\n",
    "\n",
    "scores = cross_val_score(model_lr, df_rougher_train, df_rougher_target, cv=5, scoring=scorer)\n",
    "mean_score = abs(sum(scores)/len(scores))\n",
    "model_lr.fit(df_rougher_train, df_rougher_target)\n",
    "predicted_rougher = model_lr.predict(df_test[rougher_columns])\n",
    "rougher_smape_lr = smape(df_test_target['rougher.output.recovery'], predicted_rougher)\n",
    "rougher_smape_lr\n",
    "model_lr.fit(df_final_train, df_final_target)\n",
    "predicted_final = model_lr.predict(df_test[final_columns])\n",
    "final_smape_lr = smape(df_test_target['final.output.recovery'], predicted_final)\n",
    "final_smape_lr\n",
    "final_smape(df_test_target['rougher.output.recovery'], predicted_rougher, df_test_target['final.output.recovery'], predicted_final)"
   ]
  },
  {
   "cell_type": "markdown",
   "metadata": {},
   "source": [
    "Посмотрим метрику случайного леса:"
   ]
  },
  {
   "cell_type": "code",
   "execution_count": 37,
   "metadata": {},
   "outputs": [
    {
     "data": {
      "text/plain": [
       "12.169096081847202"
      ]
     },
     "execution_count": 37,
     "metadata": {},
     "output_type": "execute_result"
    }
   ],
   "source": [
    "model.fit(df_final_train, df_final_target)\n",
    "predicted_final = model.predict(df_test[final_columns])\n",
    "final_smape = smape(df_test_target['final.output.recovery'], predicted_final)\n",
    "final_smape"
   ]
  },
  {
   "cell_type": "markdown",
   "metadata": {},
   "source": [
    "Как видно, метрика линейной регрессии получилась немного ниже, чем у случайного леса. Следовательно, модель случайного леса подходит под наше исследование лучше. В завершении исследования проверим модель на адекватность. Сравним значение метрики случайного леса с метриками константной модели на отдельных процессах:"
   ]
  },
  {
   "cell_type": "code",
   "execution_count": 38,
   "metadata": {},
   "outputs": [
    {
     "data": {
      "text/plain": [
       "8.627729267935692"
      ]
     },
     "execution_count": 38,
     "metadata": {},
     "output_type": "execute_result"
    }
   ],
   "source": [
    "dummy = DummyRegressor(strategy=\"median\")\n",
    "dummy.fit(df_rougher_train, df_rougher_target)\n",
    "predicted_rougher = dummy.predict(df_test[rougher_columns])\n",
    "rougher_smape_dummy = smape(df_test_target['rougher.output.recovery'], predicted_rougher)\n",
    "rougher_smape_dummy"
   ]
  },
  {
   "cell_type": "code",
   "execution_count": 39,
   "metadata": {},
   "outputs": [
    {
     "data": {
      "text/plain": [
       "9.763982508185252"
      ]
     },
     "execution_count": 39,
     "metadata": {},
     "output_type": "execute_result"
    }
   ],
   "source": [
    "dummy.fit(df_final_train, df_final_target)\n",
    "predicted_final = dummy.predict(df_test[final_columns])\n",
    "final_smape_dummy = smape(df_test_target['final.output.recovery'], predicted_final)\n",
    "final_smape_dummy"
   ]
  },
  {
   "cell_type": "markdown",
   "metadata": {},
   "source": [
    "### Вывод"
   ]
  },
  {
   "cell_type": "markdown",
   "metadata": {},
   "source": [
    "Случайный лес оказался наиболее подходящей моделью под исследование, о чём говорит значение метрики 12.16 против 10.1 у линейной регрессии. Также проверили модель случайного леса на адекватность, сравнив её со значениями метрики константной модели на отдельных процессах. Видно, что 12.16 превышает как 8.62, так и 9.76, следовательно, случайный лес представляется лучшей моделью в сравнении с константной. Можем переходить к общему выводу исследования."
   ]
  },
  {
   "cell_type": "markdown",
   "metadata": {},
   "source": [
    "## Общий вывод"
   ]
  },
  {
   "cell_type": "markdown",
   "metadata": {},
   "source": [
    "Цель исследования заключалась в подготовке прототипа модели по разработке решения для оценки эффективности работы предприятий. Для этого был проведён исследовательский анализ данных, который продемонстрировал, что обучающая и тестовая выборки разделены корректно, и метрика на модели будет оценена соответственно. Получили, что размер гранул на 1 этапе очистки составил примерно 60 в обоих случаях, а на 2 этапе - чуть более 7. Медианы находятся близко друг к другу, что говорит о хорошем качестве выборок для модели. \n",
    "В завершении исследования рассмотрели 2 модели: случайный лес решений и линейная регрессия. Так как метрика случайного леса составила 12.16, а у линейной регрессии - 10.1, для заказчика выбрана первая модель. При этом, модель была оценена на адекватность, в результате чего получили её лучшие показатели в сравнении с константой моделью. При помощи случайного леса заказчик может добиться лучших оценок своей деятельности."
   ]
  }
 ],
 "metadata": {
  "ExecuteTimeLog": [
   {
    "duration": 927,
    "start_time": "2022-03-18T12:27:26.489Z"
   },
   {
    "duration": 4,
    "start_time": "2022-03-18T12:27:29.562Z"
   },
   {
    "duration": 3,
    "start_time": "2022-03-18T12:28:20.393Z"
   },
   {
    "duration": 6,
    "start_time": "2022-03-18T12:28:21.136Z"
   },
   {
    "duration": 4,
    "start_time": "2022-03-18T12:28:34.008Z"
   },
   {
    "duration": 3,
    "start_time": "2022-03-18T12:28:42.888Z"
   },
   {
    "duration": 130,
    "start_time": "2022-03-18T12:30:54.407Z"
   },
   {
    "duration": 737,
    "start_time": "2022-03-18T12:31:35.238Z"
   },
   {
    "duration": 53,
    "start_time": "2022-03-18T12:32:31.113Z"
   },
   {
    "duration": 20,
    "start_time": "2022-03-18T12:36:09.321Z"
   },
   {
    "duration": 27,
    "start_time": "2022-03-18T12:36:37.960Z"
   },
   {
    "duration": 15,
    "start_time": "2022-03-18T12:36:42.937Z"
   },
   {
    "duration": 12,
    "start_time": "2022-03-18T12:36:46.374Z"
   },
   {
    "duration": 35343,
    "start_time": "2022-03-18T12:53:56.734Z"
   },
   {
    "duration": 11,
    "start_time": "2022-03-18T12:54:40.770Z"
   },
   {
    "duration": 7,
    "start_time": "2022-03-18T12:54:57.412Z"
   },
   {
    "duration": 34495,
    "start_time": "2022-03-18T12:55:06.901Z"
   },
   {
    "duration": 8,
    "start_time": "2022-03-18T12:55:46.557Z"
   },
   {
    "duration": 8,
    "start_time": "2022-03-18T12:55:50.589Z"
   },
   {
    "duration": 6623,
    "start_time": "2022-03-18T12:56:05.485Z"
   },
   {
    "duration": 8538,
    "start_time": "2022-03-18T12:56:21.749Z"
   },
   {
    "duration": 34089,
    "start_time": "2022-03-18T12:56:39.660Z"
   },
   {
    "duration": 43892,
    "start_time": "2022-03-18T12:57:19.844Z"
   },
   {
    "duration": 2,
    "start_time": "2022-03-18T12:58:07.508Z"
   },
   {
    "duration": 3,
    "start_time": "2022-03-18T12:59:02.580Z"
   },
   {
    "duration": 36,
    "start_time": "2022-03-18T12:59:34.275Z"
   },
   {
    "duration": 12,
    "start_time": "2022-03-18T12:59:40.173Z"
   },
   {
    "duration": 59895,
    "start_time": "2022-03-18T13:00:01.428Z"
   },
   {
    "duration": 8,
    "start_time": "2022-03-18T13:02:29.188Z"
   },
   {
    "duration": 66154,
    "start_time": "2022-03-18T13:03:06.507Z"
   },
   {
    "duration": 50032,
    "start_time": "2022-03-18T13:04:30.067Z"
   },
   {
    "duration": 18876,
    "start_time": "2022-03-18T13:05:22.347Z"
   },
   {
    "duration": 35,
    "start_time": "2022-03-18T13:05:55.731Z"
   },
   {
    "duration": 23075,
    "start_time": "2022-03-18T13:06:35.219Z"
   },
   {
    "duration": 437,
    "start_time": "2022-03-18T13:07:13.932Z"
   },
   {
    "duration": 414,
    "start_time": "2022-03-18T13:08:02.852Z"
   },
   {
    "duration": 416,
    "start_time": "2022-03-18T13:08:06.490Z"
   },
   {
    "duration": 411,
    "start_time": "2022-03-18T13:08:09.059Z"
   },
   {
    "duration": 744,
    "start_time": "2022-03-19T07:51:33.926Z"
   },
   {
    "duration": 3,
    "start_time": "2022-03-19T07:51:35.278Z"
   },
   {
    "duration": 678,
    "start_time": "2022-03-19T07:51:36.932Z"
   },
   {
    "duration": 47,
    "start_time": "2022-03-19T07:51:41.348Z"
   },
   {
    "duration": 17,
    "start_time": "2022-03-19T07:51:43.115Z"
   },
   {
    "duration": 3,
    "start_time": "2022-03-19T07:59:49.668Z"
   },
   {
    "duration": 64,
    "start_time": "2022-03-19T08:02:29.004Z"
   },
   {
    "duration": 8,
    "start_time": "2022-03-19T08:02:47.251Z"
   },
   {
    "duration": 3391,
    "start_time": "2022-03-19T08:02:52.731Z"
   },
   {
    "duration": 10,
    "start_time": "2022-03-19T08:03:16.658Z"
   },
   {
    "duration": 7,
    "start_time": "2022-03-19T08:06:49.380Z"
   },
   {
    "duration": 848,
    "start_time": "2022-03-19T08:07:13.138Z"
   },
   {
    "duration": 30,
    "start_time": "2022-03-19T08:07:31.507Z"
   },
   {
    "duration": 8,
    "start_time": "2022-03-19T08:07:36.603Z"
   },
   {
    "duration": 8,
    "start_time": "2022-03-19T08:07:41.178Z"
   },
   {
    "duration": 7,
    "start_time": "2022-03-19T08:07:45.602Z"
   },
   {
    "duration": 8,
    "start_time": "2022-03-19T08:07:51.428Z"
   },
   {
    "duration": 4,
    "start_time": "2022-03-19T08:08:02.174Z"
   },
   {
    "duration": 4,
    "start_time": "2022-03-19T08:08:06.373Z"
   },
   {
    "duration": 4,
    "start_time": "2022-03-19T08:09:12.801Z"
   },
   {
    "duration": 5,
    "start_time": "2022-03-19T08:09:20.250Z"
   },
   {
    "duration": 10,
    "start_time": "2022-03-19T08:09:27.483Z"
   },
   {
    "duration": 3,
    "start_time": "2022-03-19T08:09:59.615Z"
   },
   {
    "duration": 4,
    "start_time": "2022-03-19T08:10:11.904Z"
   },
   {
    "duration": 1547,
    "start_time": "2022-03-19T08:10:17.988Z"
   },
   {
    "duration": 3,
    "start_time": "2022-03-19T08:10:19.536Z"
   },
   {
    "duration": 681,
    "start_time": "2022-03-19T08:10:19.541Z"
   },
   {
    "duration": 46,
    "start_time": "2022-03-19T08:10:20.223Z"
   },
   {
    "duration": 16,
    "start_time": "2022-03-19T08:10:20.271Z"
   },
   {
    "duration": 2,
    "start_time": "2022-03-19T08:10:20.301Z"
   },
   {
    "duration": 6,
    "start_time": "2022-03-19T08:10:20.305Z"
   },
   {
    "duration": 8,
    "start_time": "2022-03-19T08:10:20.312Z"
   },
   {
    "duration": 4,
    "start_time": "2022-03-19T08:10:20.321Z"
   },
   {
    "duration": 101,
    "start_time": "2022-03-19T08:10:20.326Z"
   },
   {
    "duration": 8,
    "start_time": "2022-03-19T08:10:33.144Z"
   },
   {
    "duration": 30,
    "start_time": "2022-03-19T08:10:37.417Z"
   },
   {
    "duration": 2,
    "start_time": "2022-03-19T08:15:03.537Z"
   },
   {
    "duration": 4,
    "start_time": "2022-03-19T08:15:11.184Z"
   },
   {
    "duration": 3034,
    "start_time": "2022-03-19T08:15:25.185Z"
   },
   {
    "duration": 3,
    "start_time": "2022-03-19T08:15:35.177Z"
   },
   {
    "duration": 9,
    "start_time": "2022-03-19T08:15:46.449Z"
   },
   {
    "duration": 6,
    "start_time": "2022-03-19T08:16:03.297Z"
   },
   {
    "duration": 10,
    "start_time": "2022-03-19T08:16:12.954Z"
   },
   {
    "duration": 1482,
    "start_time": "2022-03-19T08:16:47.717Z"
   },
   {
    "duration": 3,
    "start_time": "2022-03-19T08:16:49.201Z"
   },
   {
    "duration": 676,
    "start_time": "2022-03-19T08:16:49.206Z"
   },
   {
    "duration": 45,
    "start_time": "2022-03-19T08:16:49.884Z"
   },
   {
    "duration": 16,
    "start_time": "2022-03-19T08:16:49.930Z"
   },
   {
    "duration": 2,
    "start_time": "2022-03-19T08:16:49.947Z"
   },
   {
    "duration": 6,
    "start_time": "2022-03-19T08:16:49.951Z"
   },
   {
    "duration": 4,
    "start_time": "2022-03-19T08:16:53.801Z"
   },
   {
    "duration": 11,
    "start_time": "2022-03-19T08:16:58.240Z"
   },
   {
    "duration": 9,
    "start_time": "2022-03-19T08:17:06.075Z"
   },
   {
    "duration": 12,
    "start_time": "2022-03-19T08:17:09.809Z"
   },
   {
    "duration": 3,
    "start_time": "2022-03-19T08:17:32.634Z"
   },
   {
    "duration": 4,
    "start_time": "2022-03-19T08:19:27.334Z"
   },
   {
    "duration": 4,
    "start_time": "2022-03-19T08:20:24.130Z"
   },
   {
    "duration": 3,
    "start_time": "2022-03-19T08:20:24.537Z"
   },
   {
    "duration": 89,
    "start_time": "2022-03-19T08:21:30.041Z"
   },
   {
    "duration": 14,
    "start_time": "2022-03-19T08:22:54.226Z"
   },
   {
    "duration": 17,
    "start_time": "2022-03-19T08:23:13.560Z"
   },
   {
    "duration": 8,
    "start_time": "2022-03-19T08:23:32.329Z"
   },
   {
    "duration": 6,
    "start_time": "2022-03-19T08:23:44.337Z"
   },
   {
    "duration": 6,
    "start_time": "2022-03-19T08:24:17.944Z"
   },
   {
    "duration": 15,
    "start_time": "2022-03-19T08:24:59.344Z"
   },
   {
    "duration": 299,
    "start_time": "2022-03-19T08:25:29.216Z"
   },
   {
    "duration": 15,
    "start_time": "2022-03-19T08:25:43.928Z"
   },
   {
    "duration": 4,
    "start_time": "2022-03-19T08:25:52.424Z"
   },
   {
    "duration": 10,
    "start_time": "2022-03-19T08:25:58.337Z"
   },
   {
    "duration": 1547,
    "start_time": "2022-03-19T08:26:07.346Z"
   },
   {
    "duration": 3,
    "start_time": "2022-03-19T08:26:08.895Z"
   },
   {
    "duration": 680,
    "start_time": "2022-03-19T08:26:08.899Z"
   },
   {
    "duration": 46,
    "start_time": "2022-03-19T08:26:09.581Z"
   },
   {
    "duration": 16,
    "start_time": "2022-03-19T08:26:09.629Z"
   },
   {
    "duration": 3,
    "start_time": "2022-03-19T08:26:09.646Z"
   },
   {
    "duration": 4,
    "start_time": "2022-03-19T08:26:09.651Z"
   },
   {
    "duration": 9,
    "start_time": "2022-03-19T08:26:09.657Z"
   },
   {
    "duration": 35,
    "start_time": "2022-03-19T08:26:09.667Z"
   },
   {
    "duration": 92,
    "start_time": "2022-03-19T08:27:35.877Z"
   },
   {
    "duration": 0,
    "start_time": "2022-03-19T08:28:01.037Z"
   },
   {
    "duration": 1750,
    "start_time": "2022-03-19T08:28:03.464Z"
   },
   {
    "duration": 3,
    "start_time": "2022-03-19T08:28:05.216Z"
   },
   {
    "duration": 656,
    "start_time": "2022-03-19T08:28:05.220Z"
   },
   {
    "duration": 45,
    "start_time": "2022-03-19T08:28:05.878Z"
   },
   {
    "duration": 15,
    "start_time": "2022-03-19T08:28:05.924Z"
   },
   {
    "duration": 2,
    "start_time": "2022-03-19T08:28:05.941Z"
   },
   {
    "duration": 4,
    "start_time": "2022-03-19T08:28:05.945Z"
   },
   {
    "duration": 19,
    "start_time": "2022-03-19T08:28:05.950Z"
   },
   {
    "duration": 12,
    "start_time": "2022-03-19T08:28:05.970Z"
   },
   {
    "duration": 6,
    "start_time": "2022-03-19T08:29:11.183Z"
   },
   {
    "duration": 97,
    "start_time": "2022-03-19T08:30:54.748Z"
   },
   {
    "duration": 5,
    "start_time": "2022-03-19T08:31:30.700Z"
   },
   {
    "duration": 12,
    "start_time": "2022-03-19T08:31:32.067Z"
   },
   {
    "duration": 1492,
    "start_time": "2022-03-19T08:31:36.415Z"
   },
   {
    "duration": 3,
    "start_time": "2022-03-19T08:31:37.909Z"
   },
   {
    "duration": 671,
    "start_time": "2022-03-19T08:31:37.914Z"
   },
   {
    "duration": 50,
    "start_time": "2022-03-19T08:31:38.587Z"
   },
   {
    "duration": 15,
    "start_time": "2022-03-19T08:31:38.638Z"
   },
   {
    "duration": 2,
    "start_time": "2022-03-19T08:31:38.655Z"
   },
   {
    "duration": 5,
    "start_time": "2022-03-19T08:31:38.659Z"
   },
   {
    "duration": 10,
    "start_time": "2022-03-19T08:31:38.665Z"
   },
   {
    "duration": 33,
    "start_time": "2022-03-19T08:31:38.677Z"
   },
   {
    "duration": 4,
    "start_time": "2022-03-19T08:31:55.738Z"
   },
   {
    "duration": 1481,
    "start_time": "2022-03-19T08:32:34.622Z"
   },
   {
    "duration": 3,
    "start_time": "2022-03-19T08:32:36.105Z"
   },
   {
    "duration": 694,
    "start_time": "2022-03-19T08:32:36.110Z"
   },
   {
    "duration": 47,
    "start_time": "2022-03-19T08:32:36.806Z"
   },
   {
    "duration": 17,
    "start_time": "2022-03-19T08:32:36.854Z"
   },
   {
    "duration": 3,
    "start_time": "2022-03-19T08:32:36.872Z"
   },
   {
    "duration": 5,
    "start_time": "2022-03-19T08:32:36.900Z"
   },
   {
    "duration": 89,
    "start_time": "2022-03-19T08:32:36.907Z"
   },
   {
    "duration": 0,
    "start_time": "2022-03-19T08:32:37.001Z"
   },
   {
    "duration": 10,
    "start_time": "2022-03-19T08:32:53.630Z"
   },
   {
    "duration": 4,
    "start_time": "2022-03-19T08:33:02.786Z"
   },
   {
    "duration": 6,
    "start_time": "2022-03-19T08:33:22.712Z"
   },
   {
    "duration": 10,
    "start_time": "2022-03-19T08:33:43.134Z"
   },
   {
    "duration": 15,
    "start_time": "2022-03-19T08:33:49.959Z"
   },
   {
    "duration": 7,
    "start_time": "2022-03-19T08:34:03.505Z"
   },
   {
    "duration": 1504,
    "start_time": "2022-03-19T08:34:09.581Z"
   },
   {
    "duration": 4,
    "start_time": "2022-03-19T08:34:11.086Z"
   },
   {
    "duration": 665,
    "start_time": "2022-03-19T08:34:11.091Z"
   },
   {
    "duration": 56,
    "start_time": "2022-03-19T08:34:11.758Z"
   },
   {
    "duration": 16,
    "start_time": "2022-03-19T08:34:11.816Z"
   },
   {
    "duration": 3,
    "start_time": "2022-03-19T08:34:11.834Z"
   },
   {
    "duration": 6,
    "start_time": "2022-03-19T08:34:11.838Z"
   },
   {
    "duration": 9,
    "start_time": "2022-03-19T08:34:11.846Z"
   },
   {
    "duration": 11,
    "start_time": "2022-03-19T08:34:11.857Z"
   },
   {
    "duration": 6,
    "start_time": "2022-03-19T08:34:21.898Z"
   },
   {
    "duration": 1440,
    "start_time": "2022-03-19T08:34:26.326Z"
   },
   {
    "duration": 3,
    "start_time": "2022-03-19T08:34:27.768Z"
   },
   {
    "duration": 665,
    "start_time": "2022-03-19T08:34:27.773Z"
   },
   {
    "duration": 44,
    "start_time": "2022-03-19T08:34:28.440Z"
   },
   {
    "duration": 27,
    "start_time": "2022-03-19T08:34:28.485Z"
   },
   {
    "duration": 3,
    "start_time": "2022-03-19T08:34:28.513Z"
   },
   {
    "duration": 5,
    "start_time": "2022-03-19T08:34:28.517Z"
   },
   {
    "duration": 10,
    "start_time": "2022-03-19T08:34:28.523Z"
   },
   {
    "duration": 9,
    "start_time": "2022-03-19T08:34:28.535Z"
   },
   {
    "duration": 13,
    "start_time": "2022-03-19T08:36:23.171Z"
   },
   {
    "duration": 11,
    "start_time": "2022-03-19T08:36:42.296Z"
   },
   {
    "duration": 86,
    "start_time": "2022-03-19T08:37:05.482Z"
   },
   {
    "duration": 7,
    "start_time": "2022-03-19T08:37:13.554Z"
   },
   {
    "duration": 4564,
    "start_time": "2022-03-19T08:37:18.897Z"
   },
   {
    "duration": 5,
    "start_time": "2022-03-19T08:37:34.138Z"
   },
   {
    "duration": 3,
    "start_time": "2022-03-19T08:38:26.033Z"
   },
   {
    "duration": 4,
    "start_time": "2022-03-19T08:38:27.281Z"
   },
   {
    "duration": 5,
    "start_time": "2022-03-19T08:38:27.772Z"
   },
   {
    "duration": 4,
    "start_time": "2022-03-19T08:41:32.345Z"
   },
   {
    "duration": 3,
    "start_time": "2022-03-19T08:41:32.984Z"
   },
   {
    "duration": 5,
    "start_time": "2022-03-19T08:41:34.041Z"
   },
   {
    "duration": 5,
    "start_time": "2022-03-19T08:41:34.793Z"
   },
   {
    "duration": 5,
    "start_time": "2022-03-19T08:42:52.713Z"
   },
   {
    "duration": 402,
    "start_time": "2022-03-19T08:43:47.416Z"
   },
   {
    "duration": 14,
    "start_time": "2022-03-19T08:43:59.114Z"
   },
   {
    "duration": 1458,
    "start_time": "2022-03-19T08:44:11.127Z"
   },
   {
    "duration": 2,
    "start_time": "2022-03-19T08:44:12.588Z"
   },
   {
    "duration": 713,
    "start_time": "2022-03-19T08:44:12.592Z"
   },
   {
    "duration": 45,
    "start_time": "2022-03-19T08:44:13.307Z"
   },
   {
    "duration": 16,
    "start_time": "2022-03-19T08:44:13.353Z"
   },
   {
    "duration": 3,
    "start_time": "2022-03-19T08:44:13.370Z"
   },
   {
    "duration": 27,
    "start_time": "2022-03-19T08:44:13.374Z"
   },
   {
    "duration": 485,
    "start_time": "2022-03-19T08:44:13.402Z"
   },
   {
    "duration": 0,
    "start_time": "2022-03-19T08:44:13.889Z"
   },
   {
    "duration": 0,
    "start_time": "2022-03-19T08:44:13.890Z"
   },
   {
    "duration": 16,
    "start_time": "2022-03-19T08:44:25.173Z"
   },
   {
    "duration": 6,
    "start_time": "2022-03-19T08:45:09.820Z"
   },
   {
    "duration": 6,
    "start_time": "2022-03-19T08:45:11.532Z"
   },
   {
    "duration": 181,
    "start_time": "2022-03-19T08:47:07.293Z"
   },
   {
    "duration": 4,
    "start_time": "2022-03-19T08:47:13.565Z"
   },
   {
    "duration": 1886,
    "start_time": "2022-03-19T08:47:25.274Z"
   },
   {
    "duration": 3,
    "start_time": "2022-03-19T08:47:27.162Z"
   },
   {
    "duration": 710,
    "start_time": "2022-03-19T08:47:27.166Z"
   },
   {
    "duration": 54,
    "start_time": "2022-03-19T08:47:27.878Z"
   },
   {
    "duration": 16,
    "start_time": "2022-03-19T08:47:27.933Z"
   },
   {
    "duration": 2,
    "start_time": "2022-03-19T08:47:27.950Z"
   },
   {
    "duration": 9,
    "start_time": "2022-03-19T08:47:27.954Z"
   },
   {
    "duration": 7,
    "start_time": "2022-03-19T08:47:27.964Z"
   },
   {
    "duration": 4,
    "start_time": "2022-03-19T08:47:27.972Z"
   },
   {
    "duration": 4,
    "start_time": "2022-03-19T08:47:28.001Z"
   },
   {
    "duration": 6,
    "start_time": "2022-03-19T08:47:36.899Z"
   },
   {
    "duration": 84,
    "start_time": "2022-03-19T08:50:46.294Z"
   },
   {
    "duration": 4,
    "start_time": "2022-03-19T08:50:54.043Z"
   },
   {
    "duration": 3,
    "start_time": "2022-03-19T08:51:14.252Z"
   },
   {
    "duration": 4,
    "start_time": "2022-03-19T08:51:16.746Z"
   },
   {
    "duration": 4,
    "start_time": "2022-03-19T08:51:46.715Z"
   },
   {
    "duration": 3,
    "start_time": "2022-03-19T08:59:13.918Z"
   },
   {
    "duration": 5,
    "start_time": "2022-03-19T08:59:14.882Z"
   },
   {
    "duration": 2,
    "start_time": "2022-03-19T09:00:11.994Z"
   },
   {
    "duration": 195,
    "start_time": "2022-03-19T09:00:29.652Z"
   },
   {
    "duration": 7,
    "start_time": "2022-03-19T09:09:20.681Z"
   },
   {
    "duration": 20,
    "start_time": "2022-03-19T09:10:08.937Z"
   },
   {
    "duration": 3050,
    "start_time": "2022-03-19T13:55:34.299Z"
   },
   {
    "duration": 6,
    "start_time": "2022-03-19T13:55:37.353Z"
   },
   {
    "duration": 892,
    "start_time": "2022-03-19T13:55:37.794Z"
   },
   {
    "duration": 108,
    "start_time": "2022-03-19T13:55:38.689Z"
   },
   {
    "duration": 30,
    "start_time": "2022-03-19T13:55:39.242Z"
   },
   {
    "duration": 5,
    "start_time": "2022-03-19T13:55:40.202Z"
   },
   {
    "duration": 6,
    "start_time": "2022-03-19T13:55:40.842Z"
   },
   {
    "duration": 10,
    "start_time": "2022-03-19T13:55:41.541Z"
   },
   {
    "duration": 7,
    "start_time": "2022-03-19T13:55:42.202Z"
   },
   {
    "duration": 9,
    "start_time": "2022-03-19T13:55:42.914Z"
   },
   {
    "duration": 34,
    "start_time": "2022-03-19T13:55:43.819Z"
   },
   {
    "duration": 9,
    "start_time": "2022-03-19T13:58:21.085Z"
   },
   {
    "duration": 137,
    "start_time": "2022-03-19T13:58:42.215Z"
   },
   {
    "duration": 13,
    "start_time": "2022-03-19T13:58:44.427Z"
   },
   {
    "duration": 1821,
    "start_time": "2022-03-19T13:58:51.124Z"
   },
   {
    "duration": 4,
    "start_time": "2022-03-19T13:58:52.948Z"
   },
   {
    "duration": 803,
    "start_time": "2022-03-19T13:58:52.954Z"
   },
   {
    "duration": 86,
    "start_time": "2022-03-19T13:58:53.759Z"
   },
   {
    "duration": 42,
    "start_time": "2022-03-19T13:58:53.848Z"
   },
   {
    "duration": 4,
    "start_time": "2022-03-19T13:58:53.893Z"
   },
   {
    "duration": 8,
    "start_time": "2022-03-19T13:58:53.900Z"
   },
   {
    "duration": 14,
    "start_time": "2022-03-19T13:58:53.911Z"
   },
   {
    "duration": 5,
    "start_time": "2022-03-19T13:58:53.927Z"
   },
   {
    "duration": 9,
    "start_time": "2022-03-19T13:58:53.935Z"
   },
   {
    "duration": 35,
    "start_time": "2022-03-19T13:58:53.983Z"
   },
   {
    "duration": 22,
    "start_time": "2022-03-19T13:58:54.021Z"
   },
   {
    "duration": 117,
    "start_time": "2022-03-19T13:59:50.196Z"
   },
   {
    "duration": 38,
    "start_time": "2022-03-19T13:59:54.957Z"
   },
   {
    "duration": 164,
    "start_time": "2022-03-19T13:59:58.750Z"
   },
   {
    "duration": 13,
    "start_time": "2022-03-19T14:02:43.760Z"
   },
   {
    "duration": 5,
    "start_time": "2022-03-19T14:11:43.012Z"
   },
   {
    "duration": 153,
    "start_time": "2022-03-19T14:19:39.083Z"
   },
   {
    "duration": 12,
    "start_time": "2022-03-19T14:19:47.707Z"
   },
   {
    "duration": 6,
    "start_time": "2022-03-19T14:19:59.291Z"
   },
   {
    "duration": 2754,
    "start_time": "2022-03-19T14:20:34.492Z"
   },
   {
    "duration": 5,
    "start_time": "2022-03-19T14:20:41.427Z"
   },
   {
    "duration": 14,
    "start_time": "2022-03-19T14:20:49.965Z"
   },
   {
    "duration": 12,
    "start_time": "2022-03-19T14:20:57.571Z"
   },
   {
    "duration": 152,
    "start_time": "2022-03-19T14:21:02.019Z"
   },
   {
    "duration": 1113,
    "start_time": "2022-03-19T14:21:04.699Z"
   },
   {
    "duration": 1163,
    "start_time": "2022-03-19T14:21:44.019Z"
   },
   {
    "duration": 942,
    "start_time": "2022-03-19T14:21:51.563Z"
   },
   {
    "duration": 9,
    "start_time": "2022-03-19T14:23:10.179Z"
   },
   {
    "duration": 7,
    "start_time": "2022-03-19T14:23:19.940Z"
   },
   {
    "duration": 148,
    "start_time": "2022-03-19T14:23:46.803Z"
   },
   {
    "duration": 894,
    "start_time": "2022-03-19T14:24:04.819Z"
   },
   {
    "duration": 979,
    "start_time": "2022-03-19T14:24:08.067Z"
   },
   {
    "duration": 900,
    "start_time": "2022-03-19T14:24:13.098Z"
   },
   {
    "duration": 1021,
    "start_time": "2022-03-19T14:24:17.868Z"
   },
   {
    "duration": 90,
    "start_time": "2022-03-19T14:25:31.964Z"
   },
   {
    "duration": 79,
    "start_time": "2022-03-19T14:25:48.916Z"
   },
   {
    "duration": 62,
    "start_time": "2022-03-19T14:26:17.082Z"
   },
   {
    "duration": 11,
    "start_time": "2022-03-19T14:26:35.186Z"
   },
   {
    "duration": 881,
    "start_time": "2022-03-19T14:26:36.090Z"
   },
   {
    "duration": 980,
    "start_time": "2022-03-19T14:27:17.242Z"
   },
   {
    "duration": 1105,
    "start_time": "2022-03-19T14:27:23.091Z"
   },
   {
    "duration": 987,
    "start_time": "2022-03-19T14:27:28.410Z"
   },
   {
    "duration": 933,
    "start_time": "2022-03-19T14:27:36.955Z"
   },
   {
    "duration": 175,
    "start_time": "2022-03-19T14:28:42.530Z"
   },
   {
    "duration": 13,
    "start_time": "2022-03-19T14:28:45.418Z"
   },
   {
    "duration": 12,
    "start_time": "2022-03-19T14:29:05.738Z"
   },
   {
    "duration": 88,
    "start_time": "2022-03-19T14:29:35.786Z"
   },
   {
    "duration": 19,
    "start_time": "2022-03-19T14:29:37.217Z"
   },
   {
    "duration": 1169,
    "start_time": "2022-03-19T14:30:21.202Z"
   },
   {
    "duration": 816,
    "start_time": "2022-03-19T14:30:45.378Z"
   },
   {
    "duration": 848,
    "start_time": "2022-03-19T14:30:51.546Z"
   },
   {
    "duration": 1018,
    "start_time": "2022-03-19T14:30:54.522Z"
   },
   {
    "duration": 898,
    "start_time": "2022-03-19T14:30:59.891Z"
   },
   {
    "duration": 386,
    "start_time": "2022-03-19T14:31:35.362Z"
   },
   {
    "duration": 835,
    "start_time": "2022-03-19T14:31:38.147Z"
   },
   {
    "duration": 1118,
    "start_time": "2022-03-19T14:32:39.299Z"
   },
   {
    "duration": 846,
    "start_time": "2022-03-19T14:32:46.121Z"
   },
   {
    "duration": 1243,
    "start_time": "2022-03-19T14:32:56.961Z"
   },
   {
    "duration": 851,
    "start_time": "2022-03-19T14:33:04.624Z"
   },
   {
    "duration": 841,
    "start_time": "2022-03-19T14:33:42.818Z"
   },
   {
    "duration": 1134,
    "start_time": "2022-03-19T14:34:14.177Z"
   },
   {
    "duration": 864,
    "start_time": "2022-03-19T14:34:19.218Z"
   },
   {
    "duration": 851,
    "start_time": "2022-03-19T14:34:23.674Z"
   },
   {
    "duration": 865,
    "start_time": "2022-03-19T14:34:29.497Z"
   },
   {
    "duration": 873,
    "start_time": "2022-03-19T14:34:35.817Z"
   },
   {
    "duration": 1328,
    "start_time": "2022-03-19T14:34:42.337Z"
   },
   {
    "duration": 911,
    "start_time": "2022-03-19T14:34:47.474Z"
   },
   {
    "duration": 910,
    "start_time": "2022-03-19T14:34:53.312Z"
   },
   {
    "duration": 886,
    "start_time": "2022-03-19T14:35:00.610Z"
   },
   {
    "duration": 1215,
    "start_time": "2022-03-19T14:35:57.483Z"
   },
   {
    "duration": 922,
    "start_time": "2022-03-19T14:37:54.233Z"
   },
   {
    "duration": 835,
    "start_time": "2022-03-19T14:38:52.586Z"
   },
   {
    "duration": 888,
    "start_time": "2022-03-19T14:38:59.521Z"
   },
   {
    "duration": 918,
    "start_time": "2022-03-19T14:39:04.393Z"
   },
   {
    "duration": 1265,
    "start_time": "2022-03-19T14:39:11.289Z"
   },
   {
    "duration": 907,
    "start_time": "2022-03-19T14:39:18.978Z"
   },
   {
    "duration": 883,
    "start_time": "2022-03-19T14:39:25.553Z"
   },
   {
    "duration": 846,
    "start_time": "2022-03-19T14:40:08.490Z"
   },
   {
    "duration": 864,
    "start_time": "2022-03-19T14:40:13.073Z"
   },
   {
    "duration": 734,
    "start_time": "2022-03-19T14:41:11.425Z"
   },
   {
    "duration": 223,
    "start_time": "2022-03-19T14:42:02.528Z"
   },
   {
    "duration": 12,
    "start_time": "2022-03-19T14:43:06.185Z"
   },
   {
    "duration": 1308,
    "start_time": "2022-03-19T14:43:20.865Z"
   },
   {
    "duration": 22,
    "start_time": "2022-03-19T14:44:01.697Z"
   },
   {
    "duration": 18,
    "start_time": "2022-03-19T14:44:19.921Z"
   },
   {
    "duration": 18,
    "start_time": "2022-03-19T14:44:27.431Z"
   },
   {
    "duration": 923,
    "start_time": "2022-03-19T14:44:34.728Z"
   },
   {
    "duration": 918,
    "start_time": "2022-03-19T14:44:44.256Z"
   },
   {
    "duration": 877,
    "start_time": "2022-03-19T14:44:53.008Z"
   },
   {
    "duration": 953,
    "start_time": "2022-03-19T14:45:01.184Z"
   },
   {
    "duration": 913,
    "start_time": "2022-03-19T14:45:11.248Z"
   },
   {
    "duration": 902,
    "start_time": "2022-03-19T14:45:30.328Z"
   },
   {
    "duration": 1414,
    "start_time": "2022-03-19T14:45:51.960Z"
   },
   {
    "duration": 874,
    "start_time": "2022-03-19T14:46:10.593Z"
   },
   {
    "duration": 911,
    "start_time": "2022-03-19T14:46:24.448Z"
   },
   {
    "duration": 881,
    "start_time": "2022-03-19T14:46:38.727Z"
   },
   {
    "duration": 5,
    "start_time": "2022-03-19T14:47:10.546Z"
   },
   {
    "duration": 4,
    "start_time": "2022-03-19T14:47:29.436Z"
   },
   {
    "duration": 925,
    "start_time": "2022-03-19T14:47:40.937Z"
   },
   {
    "duration": 4,
    "start_time": "2022-03-19T14:47:51.007Z"
   },
   {
    "duration": 888,
    "start_time": "2022-03-19T14:47:51.495Z"
   },
   {
    "duration": 4,
    "start_time": "2022-03-19T14:48:03.943Z"
   },
   {
    "duration": 895,
    "start_time": "2022-03-19T14:48:04.744Z"
   },
   {
    "duration": 3,
    "start_time": "2022-03-19T14:48:22.928Z"
   },
   {
    "duration": 1420,
    "start_time": "2022-03-19T14:48:23.152Z"
   },
   {
    "duration": 3,
    "start_time": "2022-03-19T14:48:35.160Z"
   },
   {
    "duration": 900,
    "start_time": "2022-03-19T14:48:36.047Z"
   },
   {
    "duration": 4,
    "start_time": "2022-03-19T14:48:47.922Z"
   },
   {
    "duration": 906,
    "start_time": "2022-03-19T14:48:48.073Z"
   },
   {
    "duration": 894,
    "start_time": "2022-03-19T14:48:59.047Z"
   },
   {
    "duration": 884,
    "start_time": "2022-03-19T14:49:05.737Z"
   },
   {
    "duration": 907,
    "start_time": "2022-03-19T14:49:11.608Z"
   },
   {
    "duration": 1371,
    "start_time": "2022-03-19T14:49:15.239Z"
   },
   {
    "duration": 895,
    "start_time": "2022-03-19T14:49:19.120Z"
   },
   {
    "duration": 888,
    "start_time": "2022-03-19T14:49:30.448Z"
   },
   {
    "duration": 880,
    "start_time": "2022-03-19T14:49:35.975Z"
   },
   {
    "duration": 885,
    "start_time": "2022-03-19T14:49:38.559Z"
   },
   {
    "duration": 12,
    "start_time": "2022-03-19T15:00:50.030Z"
   },
   {
    "duration": 12,
    "start_time": "2022-03-19T15:00:53.438Z"
   },
   {
    "duration": 41,
    "start_time": "2022-03-19T15:01:28.408Z"
   },
   {
    "duration": 10,
    "start_time": "2022-03-19T15:01:46.973Z"
   },
   {
    "duration": 10,
    "start_time": "2022-03-19T15:01:55.694Z"
   },
   {
    "duration": 10,
    "start_time": "2022-03-19T15:02:01.935Z"
   },
   {
    "duration": 11,
    "start_time": "2022-03-19T15:02:22.487Z"
   },
   {
    "duration": 21,
    "start_time": "2022-03-19T15:03:02.862Z"
   },
   {
    "duration": 22,
    "start_time": "2022-03-19T15:03:16.783Z"
   },
   {
    "duration": 27,
    "start_time": "2022-03-19T15:03:36.870Z"
   },
   {
    "duration": 18,
    "start_time": "2022-03-19T15:03:51.510Z"
   },
   {
    "duration": 10,
    "start_time": "2022-03-19T15:06:43.255Z"
   },
   {
    "duration": 2681,
    "start_time": "2022-03-19T15:06:47.016Z"
   },
   {
    "duration": 2565,
    "start_time": "2022-03-19T15:07:16.557Z"
   },
   {
    "duration": 1317,
    "start_time": "2022-03-19T15:07:45.933Z"
   },
   {
    "duration": 3221,
    "start_time": "2022-03-19T15:07:57.493Z"
   },
   {
    "duration": 3014,
    "start_time": "2022-03-19T15:08:01.390Z"
   },
   {
    "duration": 45,
    "start_time": "2022-03-19T15:08:09.981Z"
   },
   {
    "duration": 5,
    "start_time": "2022-03-19T15:10:32.918Z"
   },
   {
    "duration": 6,
    "start_time": "2022-03-19T15:10:46.542Z"
   },
   {
    "duration": 13,
    "start_time": "2022-03-19T15:10:52.229Z"
   },
   {
    "duration": 8,
    "start_time": "2022-03-19T15:11:07.837Z"
   },
   {
    "duration": 19,
    "start_time": "2022-03-19T15:11:14.580Z"
   },
   {
    "duration": 21,
    "start_time": "2022-03-19T15:11:19.949Z"
   },
   {
    "duration": 33,
    "start_time": "2022-03-19T15:11:42.276Z"
   },
   {
    "duration": 24,
    "start_time": "2022-03-19T15:12:01.981Z"
   },
   {
    "duration": 16,
    "start_time": "2022-03-19T15:12:14.965Z"
   },
   {
    "duration": 194,
    "start_time": "2022-03-19T15:12:34.238Z"
   },
   {
    "duration": 262,
    "start_time": "2022-03-19T15:13:06.379Z"
   },
   {
    "duration": 4,
    "start_time": "2022-03-19T15:13:52.661Z"
   },
   {
    "duration": 20,
    "start_time": "2022-03-19T15:14:03.487Z"
   },
   {
    "duration": 20,
    "start_time": "2022-03-19T15:14:08.180Z"
   },
   {
    "duration": 19,
    "start_time": "2022-03-19T15:14:18.844Z"
   },
   {
    "duration": 16,
    "start_time": "2022-03-19T15:14:45.379Z"
   },
   {
    "duration": 13,
    "start_time": "2022-03-19T15:15:04.375Z"
   },
   {
    "duration": 14,
    "start_time": "2022-03-19T15:15:26.457Z"
   },
   {
    "duration": 16,
    "start_time": "2022-03-19T15:15:36.533Z"
   },
   {
    "duration": 3,
    "start_time": "2022-03-19T15:25:10.721Z"
   },
   {
    "duration": 4,
    "start_time": "2022-03-19T15:25:23.443Z"
   },
   {
    "duration": 8,
    "start_time": "2022-03-19T15:25:26.164Z"
   },
   {
    "duration": 13,
    "start_time": "2022-03-19T15:26:23.435Z"
   },
   {
    "duration": 37,
    "start_time": "2022-03-19T15:27:02.451Z"
   },
   {
    "duration": 7,
    "start_time": "2022-03-19T15:27:40.851Z"
   },
   {
    "duration": 27,
    "start_time": "2022-03-19T15:27:41.128Z"
   },
   {
    "duration": 13,
    "start_time": "2022-03-19T15:27:54.395Z"
   },
   {
    "duration": 199,
    "start_time": "2022-03-19T15:27:59.174Z"
   },
   {
    "duration": 2646,
    "start_time": "2022-03-19T15:30:31.860Z"
   },
   {
    "duration": 31,
    "start_time": "2022-03-19T15:30:50.899Z"
   },
   {
    "duration": 250,
    "start_time": "2022-03-19T15:31:40.947Z"
   },
   {
    "duration": 250,
    "start_time": "2022-03-19T15:31:49.339Z"
   },
   {
    "duration": 6,
    "start_time": "2022-03-19T15:32:02.412Z"
   },
   {
    "duration": 180,
    "start_time": "2022-03-19T15:32:04.419Z"
   },
   {
    "duration": 198,
    "start_time": "2022-03-19T15:32:28.299Z"
   },
   {
    "duration": 263,
    "start_time": "2022-03-19T15:32:33.819Z"
   },
   {
    "duration": 188,
    "start_time": "2022-03-19T15:32:37.858Z"
   },
   {
    "duration": 201,
    "start_time": "2022-03-19T15:32:44.123Z"
   },
   {
    "duration": 201,
    "start_time": "2022-03-19T15:32:47.701Z"
   },
   {
    "duration": 190,
    "start_time": "2022-03-19T15:32:50.130Z"
   },
   {
    "duration": 194,
    "start_time": "2022-03-19T15:32:54.110Z"
   },
   {
    "duration": 242,
    "start_time": "2022-03-19T15:33:17.340Z"
   },
   {
    "duration": 194,
    "start_time": "2022-03-19T15:33:34.050Z"
   },
   {
    "duration": 224,
    "start_time": "2022-03-19T15:34:22.267Z"
   },
   {
    "duration": 21,
    "start_time": "2022-03-19T15:42:19.994Z"
   },
   {
    "duration": 21,
    "start_time": "2022-03-19T15:43:52.728Z"
   },
   {
    "duration": 10,
    "start_time": "2022-03-19T15:44:44.754Z"
   },
   {
    "duration": 49,
    "start_time": "2022-03-19T15:45:03.777Z"
   },
   {
    "duration": 25,
    "start_time": "2022-03-19T15:45:08.418Z"
   },
   {
    "duration": 22,
    "start_time": "2022-03-19T15:46:03.058Z"
   },
   {
    "duration": 22,
    "start_time": "2022-03-19T15:46:24.361Z"
   },
   {
    "duration": 193,
    "start_time": "2022-03-19T15:46:52.248Z"
   },
   {
    "duration": 318,
    "start_time": "2022-03-19T15:46:56.103Z"
   },
   {
    "duration": 1468,
    "start_time": "2022-03-19T15:47:08.473Z"
   },
   {
    "duration": 21,
    "start_time": "2022-03-19T15:48:01.547Z"
   },
   {
    "duration": 17,
    "start_time": "2022-03-19T15:48:06.873Z"
   },
   {
    "duration": 4,
    "start_time": "2022-03-19T15:48:16.593Z"
   },
   {
    "duration": 5,
    "start_time": "2022-03-19T15:48:18.738Z"
   },
   {
    "duration": 9,
    "start_time": "2022-03-19T15:48:21.785Z"
   },
   {
    "duration": 913,
    "start_time": "2022-03-19T15:48:33.513Z"
   },
   {
    "duration": 159,
    "start_time": "2022-03-19T15:50:20.106Z"
   },
   {
    "duration": 153,
    "start_time": "2022-03-19T15:50:30.497Z"
   },
   {
    "duration": 143,
    "start_time": "2022-03-19T15:50:36.910Z"
   },
   {
    "duration": 12,
    "start_time": "2022-03-19T15:50:50.442Z"
   },
   {
    "duration": 7,
    "start_time": "2022-03-19T15:51:12.625Z"
   },
   {
    "duration": 7,
    "start_time": "2022-03-19T15:51:20.544Z"
   },
   {
    "duration": 10,
    "start_time": "2022-03-19T15:52:12.537Z"
   },
   {
    "duration": 9,
    "start_time": "2022-03-19T15:53:14.025Z"
   },
   {
    "duration": 8,
    "start_time": "2022-03-19T15:53:38.817Z"
   },
   {
    "duration": 257,
    "start_time": "2022-03-19T15:54:26.282Z"
   },
   {
    "duration": 7,
    "start_time": "2022-03-19T15:54:42.568Z"
   },
   {
    "duration": 644,
    "start_time": "2022-03-19T15:54:45.169Z"
   },
   {
    "duration": 435,
    "start_time": "2022-03-19T15:54:53.776Z"
   },
   {
    "duration": 404,
    "start_time": "2022-03-19T15:54:58.841Z"
   },
   {
    "duration": 406,
    "start_time": "2022-03-19T15:55:08.584Z"
   },
   {
    "duration": 562,
    "start_time": "2022-03-19T15:55:16.400Z"
   },
   {
    "duration": 511,
    "start_time": "2022-03-19T15:55:28.968Z"
   },
   {
    "duration": 419,
    "start_time": "2022-03-19T15:55:46.232Z"
   },
   {
    "duration": 409,
    "start_time": "2022-03-19T15:56:03.144Z"
   },
   {
    "duration": 405,
    "start_time": "2022-03-19T15:56:34.272Z"
   },
   {
    "duration": 603,
    "start_time": "2022-03-19T15:56:38.255Z"
   },
   {
    "duration": 518,
    "start_time": "2022-03-19T15:56:41.649Z"
   },
   {
    "duration": 507,
    "start_time": "2022-03-19T15:56:44.895Z"
   },
   {
    "duration": 527,
    "start_time": "2022-03-19T15:57:03.080Z"
   },
   {
    "duration": 526,
    "start_time": "2022-03-19T15:57:08.217Z"
   },
   {
    "duration": 1131,
    "start_time": "2022-03-19T16:03:38.393Z"
   },
   {
    "duration": 544,
    "start_time": "2022-03-19T16:03:53.216Z"
   },
   {
    "duration": 439,
    "start_time": "2022-03-19T16:04:00.912Z"
   },
   {
    "duration": 6,
    "start_time": "2022-03-19T16:10:19.143Z"
   },
   {
    "duration": 1678,
    "start_time": "2022-03-20T10:26:36.249Z"
   },
   {
    "duration": 4,
    "start_time": "2022-03-20T10:26:37.929Z"
   },
   {
    "duration": 763,
    "start_time": "2022-03-20T10:26:37.934Z"
   },
   {
    "duration": 58,
    "start_time": "2022-03-20T10:26:38.702Z"
   },
   {
    "duration": 46,
    "start_time": "2022-03-20T10:26:38.762Z"
   },
   {
    "duration": 3,
    "start_time": "2022-03-20T10:26:38.810Z"
   },
   {
    "duration": 5,
    "start_time": "2022-03-20T10:26:39.256Z"
   },
   {
    "duration": 10,
    "start_time": "2022-03-20T10:26:39.737Z"
   },
   {
    "duration": 6,
    "start_time": "2022-03-20T10:26:40.310Z"
   },
   {
    "duration": 5,
    "start_time": "2022-03-20T10:26:40.697Z"
   },
   {
    "duration": 25,
    "start_time": "2022-03-20T10:26:41.081Z"
   },
   {
    "duration": 16,
    "start_time": "2022-03-20T10:26:41.609Z"
   },
   {
    "duration": 17,
    "start_time": "2022-03-20T10:26:42.008Z"
   },
   {
    "duration": 6,
    "start_time": "2022-03-20T10:26:43.195Z"
   },
   {
    "duration": 3,
    "start_time": "2022-03-20T10:26:43.562Z"
   },
   {
    "duration": 607,
    "start_time": "2022-03-20T10:26:43.737Z"
   },
   {
    "duration": 641,
    "start_time": "2022-03-20T10:26:44.347Z"
   },
   {
    "duration": 567,
    "start_time": "2022-03-20T10:26:44.990Z"
   },
   {
    "duration": 14,
    "start_time": "2022-03-20T10:26:45.559Z"
   },
   {
    "duration": 26,
    "start_time": "2022-03-20T10:26:45.575Z"
   },
   {
    "duration": 20,
    "start_time": "2022-03-20T10:26:45.986Z"
   },
   {
    "duration": 130,
    "start_time": "2022-03-20T10:26:46.508Z"
   },
   {
    "duration": 140,
    "start_time": "2022-03-20T10:26:46.735Z"
   },
   {
    "duration": 7,
    "start_time": "2022-03-20T10:26:47.851Z"
   },
   {
    "duration": 243,
    "start_time": "2022-03-20T10:26:48.591Z"
   },
   {
    "duration": 247,
    "start_time": "2022-03-20T10:26:48.937Z"
   },
   {
    "duration": 343,
    "start_time": "2022-03-20T10:26:49.186Z"
   },
   {
    "duration": 4,
    "start_time": "2022-03-20T10:26:51.128Z"
   },
   {
    "duration": 3,
    "start_time": "2022-03-20T10:28:25.561Z"
   },
   {
    "duration": 108,
    "start_time": "2022-03-20T10:29:17.904Z"
   },
   {
    "duration": 3,
    "start_time": "2022-03-20T10:29:41.985Z"
   },
   {
    "duration": 3,
    "start_time": "2022-03-20T10:29:46.944Z"
   },
   {
    "duration": 31,
    "start_time": "2022-03-20T10:32:04.151Z"
   },
   {
    "duration": 14,
    "start_time": "2022-03-20T10:32:08.594Z"
   },
   {
    "duration": 11,
    "start_time": "2022-03-20T10:38:43.767Z"
   },
   {
    "duration": 9,
    "start_time": "2022-03-20T10:39:09.776Z"
   },
   {
    "duration": 11,
    "start_time": "2022-03-20T10:39:13.447Z"
   },
   {
    "duration": 19,
    "start_time": "2022-03-20T10:39:18.447Z"
   },
   {
    "duration": 19,
    "start_time": "2022-03-20T10:39:30.502Z"
   },
   {
    "duration": 5,
    "start_time": "2022-03-20T10:39:47.495Z"
   },
   {
    "duration": 17,
    "start_time": "2022-03-20T10:41:45.663Z"
   },
   {
    "duration": 6,
    "start_time": "2022-03-20T10:41:46.118Z"
   },
   {
    "duration": 18,
    "start_time": "2022-03-20T10:43:28.829Z"
   },
   {
    "duration": 6,
    "start_time": "2022-03-20T10:47:17.459Z"
   },
   {
    "duration": 2525,
    "start_time": "2022-03-20T10:48:47.590Z"
   },
   {
    "duration": 13,
    "start_time": "2022-03-20T10:49:35.252Z"
   },
   {
    "duration": 14,
    "start_time": "2022-03-20T10:50:18.101Z"
   },
   {
    "duration": 6,
    "start_time": "2022-03-20T10:50:46.621Z"
   },
   {
    "duration": 31,
    "start_time": "2022-03-20T10:51:51.629Z"
   },
   {
    "duration": 17,
    "start_time": "2022-03-20T10:51:54.494Z"
   },
   {
    "duration": 5,
    "start_time": "2022-03-20T10:52:12.950Z"
   },
   {
    "duration": 3,
    "start_time": "2022-03-20T10:52:30.317Z"
   },
   {
    "duration": 4,
    "start_time": "2022-03-20T10:52:39.215Z"
   },
   {
    "duration": 4,
    "start_time": "2022-03-20T10:52:50.548Z"
   },
   {
    "duration": 4,
    "start_time": "2022-03-20T10:52:57.268Z"
   },
   {
    "duration": 2545,
    "start_time": "2022-03-20T10:54:15.437Z"
   },
   {
    "duration": 0,
    "start_time": "2022-03-20T10:54:17.984Z"
   },
   {
    "duration": 10,
    "start_time": "2022-03-20T10:54:22.301Z"
   },
   {
    "duration": 5,
    "start_time": "2022-03-20T10:54:22.813Z"
   },
   {
    "duration": 5,
    "start_time": "2022-03-20T10:55:08.076Z"
   },
   {
    "duration": 4,
    "start_time": "2022-03-20T10:55:08.276Z"
   },
   {
    "duration": 6,
    "start_time": "2022-03-20T10:56:05.893Z"
   },
   {
    "duration": 9,
    "start_time": "2022-03-20T10:57:04.429Z"
   },
   {
    "duration": 14,
    "start_time": "2022-03-20T10:57:09.460Z"
   },
   {
    "duration": 19,
    "start_time": "2022-03-20T10:59:03.756Z"
   },
   {
    "duration": 17,
    "start_time": "2022-03-20T10:59:19.549Z"
   },
   {
    "duration": 1277,
    "start_time": "2022-03-20T10:59:33.349Z"
   },
   {
    "duration": 13,
    "start_time": "2022-03-20T11:00:17.117Z"
   },
   {
    "duration": 5,
    "start_time": "2022-03-20T11:00:21.044Z"
   },
   {
    "duration": 15,
    "start_time": "2022-03-20T11:00:37.964Z"
   },
   {
    "duration": 4,
    "start_time": "2022-03-20T11:00:38.940Z"
   },
   {
    "duration": 31,
    "start_time": "2022-03-20T11:01:07.971Z"
   },
   {
    "duration": 5,
    "start_time": "2022-03-20T11:01:16.518Z"
   },
   {
    "duration": 29,
    "start_time": "2022-03-20T11:02:49.699Z"
   },
   {
    "duration": 13,
    "start_time": "2022-03-20T11:03:12.403Z"
   },
   {
    "duration": 116,
    "start_time": "2022-03-20T11:03:27.397Z"
   },
   {
    "duration": 65,
    "start_time": "2022-03-20T11:03:46.740Z"
   },
   {
    "duration": 10,
    "start_time": "2022-03-20T11:04:34.204Z"
   },
   {
    "duration": 10,
    "start_time": "2022-03-20T11:10:35.675Z"
   },
   {
    "duration": 4,
    "start_time": "2022-03-20T11:10:51.948Z"
   },
   {
    "duration": 11,
    "start_time": "2022-03-20T11:10:55.100Z"
   },
   {
    "duration": 4,
    "start_time": "2022-03-20T11:11:08.275Z"
   },
   {
    "duration": 10,
    "start_time": "2022-03-20T11:11:11.036Z"
   },
   {
    "duration": 3,
    "start_time": "2022-03-20T11:11:24.284Z"
   },
   {
    "duration": 11,
    "start_time": "2022-03-20T11:11:27.436Z"
   },
   {
    "duration": 10,
    "start_time": "2022-03-20T11:12:10.819Z"
   },
   {
    "duration": 293,
    "start_time": "2022-03-20T11:12:27.220Z"
   },
   {
    "duration": 33,
    "start_time": "2022-03-20T11:13:06.634Z"
   },
   {
    "duration": 32,
    "start_time": "2022-03-20T11:13:11.523Z"
   },
   {
    "duration": 5,
    "start_time": "2022-03-20T11:13:18.835Z"
   },
   {
    "duration": 4,
    "start_time": "2022-03-20T11:13:28.554Z"
   },
   {
    "duration": 12,
    "start_time": "2022-03-20T11:13:30.730Z"
   },
   {
    "duration": 9,
    "start_time": "2022-03-20T11:13:32.866Z"
   },
   {
    "duration": 1592,
    "start_time": "2022-03-20T11:13:37.076Z"
   },
   {
    "duration": 3,
    "start_time": "2022-03-20T11:13:38.671Z"
   },
   {
    "duration": 832,
    "start_time": "2022-03-20T11:13:38.676Z"
   },
   {
    "duration": 62,
    "start_time": "2022-03-20T11:13:39.510Z"
   },
   {
    "duration": 41,
    "start_time": "2022-03-20T11:13:39.575Z"
   },
   {
    "duration": 4,
    "start_time": "2022-03-20T11:13:39.618Z"
   },
   {
    "duration": 14,
    "start_time": "2022-03-20T11:13:39.624Z"
   },
   {
    "duration": 17,
    "start_time": "2022-03-20T11:13:39.640Z"
   },
   {
    "duration": 6,
    "start_time": "2022-03-20T11:13:39.659Z"
   },
   {
    "duration": 8,
    "start_time": "2022-03-20T11:13:39.667Z"
   },
   {
    "duration": 49,
    "start_time": "2022-03-20T11:13:39.677Z"
   },
   {
    "duration": 27,
    "start_time": "2022-03-20T11:13:39.728Z"
   },
   {
    "duration": 20,
    "start_time": "2022-03-20T11:13:39.757Z"
   },
   {
    "duration": 21,
    "start_time": "2022-03-20T11:13:39.781Z"
   },
   {
    "duration": 12,
    "start_time": "2022-03-20T11:13:39.804Z"
   },
   {
    "duration": 685,
    "start_time": "2022-03-20T11:13:39.818Z"
   },
   {
    "duration": 696,
    "start_time": "2022-03-20T11:13:40.505Z"
   },
   {
    "duration": 602,
    "start_time": "2022-03-20T11:13:41.203Z"
   },
   {
    "duration": 13,
    "start_time": "2022-03-20T11:13:41.807Z"
   },
   {
    "duration": 7,
    "start_time": "2022-03-20T11:13:41.822Z"
   },
   {
    "duration": 25,
    "start_time": "2022-03-20T11:13:41.831Z"
   },
   {
    "duration": 158,
    "start_time": "2022-03-20T11:13:41.858Z"
   },
   {
    "duration": 151,
    "start_time": "2022-03-20T11:13:42.018Z"
   },
   {
    "duration": 8,
    "start_time": "2022-03-20T11:13:42.171Z"
   },
   {
    "duration": 274,
    "start_time": "2022-03-20T11:13:42.181Z"
   },
   {
    "duration": 246,
    "start_time": "2022-03-20T11:13:42.457Z"
   },
   {
    "duration": 348,
    "start_time": "2022-03-20T11:13:42.705Z"
   },
   {
    "duration": 3,
    "start_time": "2022-03-20T11:13:43.055Z"
   },
   {
    "duration": 12,
    "start_time": "2022-03-20T11:13:43.060Z"
   },
   {
    "duration": 34,
    "start_time": "2022-03-20T11:13:43.073Z"
   },
   {
    "duration": 25,
    "start_time": "2022-03-20T11:13:43.110Z"
   },
   {
    "duration": 119,
    "start_time": "2022-03-20T11:13:43.137Z"
   },
   {
    "duration": 10,
    "start_time": "2022-03-20T11:13:52.216Z"
   },
   {
    "duration": 1672,
    "start_time": "2022-03-20T11:13:59.907Z"
   },
   {
    "duration": 4,
    "start_time": "2022-03-20T11:14:01.582Z"
   },
   {
    "duration": 962,
    "start_time": "2022-03-20T11:14:01.587Z"
   },
   {
    "duration": 73,
    "start_time": "2022-03-20T11:14:02.551Z"
   },
   {
    "duration": 21,
    "start_time": "2022-03-20T11:14:02.627Z"
   },
   {
    "duration": 4,
    "start_time": "2022-03-20T11:14:02.650Z"
   },
   {
    "duration": 11,
    "start_time": "2022-03-20T11:14:02.655Z"
   },
   {
    "duration": 24,
    "start_time": "2022-03-20T11:14:02.667Z"
   },
   {
    "duration": 7,
    "start_time": "2022-03-20T11:14:02.701Z"
   },
   {
    "duration": 10,
    "start_time": "2022-03-20T11:14:02.709Z"
   },
   {
    "duration": 33,
    "start_time": "2022-03-20T11:14:02.720Z"
   },
   {
    "duration": 19,
    "start_time": "2022-03-20T11:14:02.755Z"
   },
   {
    "duration": 40,
    "start_time": "2022-03-20T11:14:02.776Z"
   },
   {
    "duration": 7,
    "start_time": "2022-03-20T11:14:02.819Z"
   },
   {
    "duration": 11,
    "start_time": "2022-03-20T11:14:02.828Z"
   },
   {
    "duration": 644,
    "start_time": "2022-03-20T11:14:02.841Z"
   },
   {
    "duration": 699,
    "start_time": "2022-03-20T11:14:03.487Z"
   },
   {
    "duration": 588,
    "start_time": "2022-03-20T11:14:04.188Z"
   },
   {
    "duration": 28,
    "start_time": "2022-03-20T11:14:04.778Z"
   },
   {
    "duration": 9,
    "start_time": "2022-03-20T11:14:04.808Z"
   },
   {
    "duration": 46,
    "start_time": "2022-03-20T11:14:04.819Z"
   },
   {
    "duration": 143,
    "start_time": "2022-03-20T11:14:04.868Z"
   },
   {
    "duration": 152,
    "start_time": "2022-03-20T11:14:05.013Z"
   },
   {
    "duration": 9,
    "start_time": "2022-03-20T11:14:05.167Z"
   },
   {
    "duration": 272,
    "start_time": "2022-03-20T11:14:05.178Z"
   },
   {
    "duration": 251,
    "start_time": "2022-03-20T11:14:05.452Z"
   },
   {
    "duration": 369,
    "start_time": "2022-03-20T11:14:05.705Z"
   },
   {
    "duration": 4,
    "start_time": "2022-03-20T11:14:06.077Z"
   },
   {
    "duration": 9,
    "start_time": "2022-03-20T11:14:06.083Z"
   },
   {
    "duration": 19,
    "start_time": "2022-03-20T11:14:06.100Z"
   },
   {
    "duration": 38,
    "start_time": "2022-03-20T11:14:06.122Z"
   },
   {
    "duration": 129,
    "start_time": "2022-03-20T11:14:06.162Z"
   },
   {
    "duration": 33,
    "start_time": "2022-03-20T11:14:25.962Z"
   },
   {
    "duration": 17,
    "start_time": "2022-03-20T11:15:21.683Z"
   },
   {
    "duration": 30,
    "start_time": "2022-03-20T11:15:26.961Z"
   },
   {
    "duration": 24,
    "start_time": "2022-03-20T11:15:58.497Z"
   },
   {
    "duration": 17,
    "start_time": "2022-03-20T11:16:03.027Z"
   },
   {
    "duration": 1585,
    "start_time": "2022-03-20T11:16:07.732Z"
   },
   {
    "duration": 4,
    "start_time": "2022-03-20T11:16:09.320Z"
   },
   {
    "duration": 807,
    "start_time": "2022-03-20T11:16:09.326Z"
   },
   {
    "duration": 75,
    "start_time": "2022-03-20T11:16:10.135Z"
   },
   {
    "duration": 20,
    "start_time": "2022-03-20T11:16:10.213Z"
   },
   {
    "duration": 4,
    "start_time": "2022-03-20T11:16:10.235Z"
   },
   {
    "duration": 7,
    "start_time": "2022-03-20T11:16:10.241Z"
   },
   {
    "duration": 12,
    "start_time": "2022-03-20T11:16:10.250Z"
   },
   {
    "duration": 6,
    "start_time": "2022-03-20T11:16:10.264Z"
   },
   {
    "duration": 33,
    "start_time": "2022-03-20T11:16:10.271Z"
   },
   {
    "duration": 28,
    "start_time": "2022-03-20T11:16:10.306Z"
   },
   {
    "duration": 17,
    "start_time": "2022-03-20T11:16:10.336Z"
   },
   {
    "duration": 51,
    "start_time": "2022-03-20T11:16:10.355Z"
   },
   {
    "duration": 7,
    "start_time": "2022-03-20T11:16:10.409Z"
   },
   {
    "duration": 11,
    "start_time": "2022-03-20T11:16:10.417Z"
   },
   {
    "duration": 600,
    "start_time": "2022-03-20T11:16:10.429Z"
   },
   {
    "duration": 681,
    "start_time": "2022-03-20T11:16:11.031Z"
   },
   {
    "duration": 581,
    "start_time": "2022-03-20T11:16:11.713Z"
   },
   {
    "duration": 15,
    "start_time": "2022-03-20T11:16:12.296Z"
   },
   {
    "duration": 5,
    "start_time": "2022-03-20T11:16:12.313Z"
   },
   {
    "duration": 25,
    "start_time": "2022-03-20T11:16:12.320Z"
   },
   {
    "duration": 154,
    "start_time": "2022-03-20T11:16:12.347Z"
   },
   {
    "duration": 139,
    "start_time": "2022-03-20T11:16:12.503Z"
   },
   {
    "duration": 7,
    "start_time": "2022-03-20T11:16:12.644Z"
   },
   {
    "duration": 260,
    "start_time": "2022-03-20T11:16:12.653Z"
   },
   {
    "duration": 233,
    "start_time": "2022-03-20T11:16:12.915Z"
   },
   {
    "duration": 373,
    "start_time": "2022-03-20T11:16:13.150Z"
   },
   {
    "duration": 4,
    "start_time": "2022-03-20T11:16:13.525Z"
   },
   {
    "duration": 15,
    "start_time": "2022-03-20T11:16:13.530Z"
   },
   {
    "duration": 21,
    "start_time": "2022-03-20T11:16:13.547Z"
   },
   {
    "duration": 43,
    "start_time": "2022-03-20T11:16:13.570Z"
   },
   {
    "duration": 32,
    "start_time": "2022-03-20T11:16:13.614Z"
   },
   {
    "duration": 114,
    "start_time": "2022-03-20T11:16:13.649Z"
   },
   {
    "duration": 28,
    "start_time": "2022-03-20T11:17:00.258Z"
   },
   {
    "duration": 1659,
    "start_time": "2022-03-20T11:17:07.587Z"
   },
   {
    "duration": 4,
    "start_time": "2022-03-20T11:17:09.248Z"
   },
   {
    "duration": 836,
    "start_time": "2022-03-20T11:17:09.253Z"
   },
   {
    "duration": 68,
    "start_time": "2022-03-20T11:17:10.091Z"
   },
   {
    "duration": 20,
    "start_time": "2022-03-20T11:17:10.161Z"
   },
   {
    "duration": 3,
    "start_time": "2022-03-20T11:17:10.202Z"
   },
   {
    "duration": 10,
    "start_time": "2022-03-20T11:17:10.208Z"
   },
   {
    "duration": 16,
    "start_time": "2022-03-20T11:17:10.220Z"
   },
   {
    "duration": 6,
    "start_time": "2022-03-20T11:17:10.238Z"
   },
   {
    "duration": 10,
    "start_time": "2022-03-20T11:17:10.246Z"
   },
   {
    "duration": 61,
    "start_time": "2022-03-20T11:17:10.258Z"
   },
   {
    "duration": 18,
    "start_time": "2022-03-20T11:17:10.320Z"
   },
   {
    "duration": 18,
    "start_time": "2022-03-20T11:17:10.340Z"
   },
   {
    "duration": 7,
    "start_time": "2022-03-20T11:17:10.361Z"
   },
   {
    "duration": 32,
    "start_time": "2022-03-20T11:17:10.369Z"
   },
   {
    "duration": 702,
    "start_time": "2022-03-20T11:17:10.404Z"
   },
   {
    "duration": 663,
    "start_time": "2022-03-20T11:17:11.108Z"
   },
   {
    "duration": 586,
    "start_time": "2022-03-20T11:17:11.773Z"
   },
   {
    "duration": 14,
    "start_time": "2022-03-20T11:17:12.361Z"
   },
   {
    "duration": 25,
    "start_time": "2022-03-20T11:17:12.376Z"
   },
   {
    "duration": 24,
    "start_time": "2022-03-20T11:17:12.403Z"
   },
   {
    "duration": 147,
    "start_time": "2022-03-20T11:17:12.429Z"
   },
   {
    "duration": 148,
    "start_time": "2022-03-20T11:17:12.578Z"
   },
   {
    "duration": 7,
    "start_time": "2022-03-20T11:17:12.728Z"
   },
   {
    "duration": 266,
    "start_time": "2022-03-20T11:17:12.737Z"
   },
   {
    "duration": 243,
    "start_time": "2022-03-20T11:17:13.005Z"
   },
   {
    "duration": 358,
    "start_time": "2022-03-20T11:17:13.250Z"
   },
   {
    "duration": 4,
    "start_time": "2022-03-20T11:17:13.610Z"
   },
   {
    "duration": 9,
    "start_time": "2022-03-20T11:17:13.615Z"
   },
   {
    "duration": 21,
    "start_time": "2022-03-20T11:17:13.626Z"
   },
   {
    "duration": 21,
    "start_time": "2022-03-20T11:17:13.649Z"
   },
   {
    "duration": 138,
    "start_time": "2022-03-20T11:17:13.672Z"
   },
   {
    "duration": 22,
    "start_time": "2022-03-20T11:17:42.130Z"
   },
   {
    "duration": 355,
    "start_time": "2022-03-20T11:17:45.746Z"
   },
   {
    "duration": 10,
    "start_time": "2022-03-20T11:20:32.473Z"
   },
   {
    "duration": 10,
    "start_time": "2022-03-20T11:20:46.338Z"
   },
   {
    "duration": 17,
    "start_time": "2022-03-20T11:20:52.857Z"
   },
   {
    "duration": 18,
    "start_time": "2022-03-20T11:21:02.563Z"
   },
   {
    "duration": 15,
    "start_time": "2022-03-20T11:21:52.185Z"
   },
   {
    "duration": 30,
    "start_time": "2022-03-20T11:26:28.265Z"
   },
   {
    "duration": 76,
    "start_time": "2022-03-20T11:27:08.234Z"
   },
   {
    "duration": 18,
    "start_time": "2022-03-20T11:27:40.865Z"
   },
   {
    "duration": 15,
    "start_time": "2022-03-20T11:27:45.770Z"
   },
   {
    "duration": 31,
    "start_time": "2022-03-20T11:27:53.121Z"
   },
   {
    "duration": 5,
    "start_time": "2022-03-20T11:28:02.530Z"
   },
   {
    "duration": 48,
    "start_time": "2022-03-20T11:28:08.027Z"
   },
   {
    "duration": 1596,
    "start_time": "2022-03-20T11:28:22.159Z"
   },
   {
    "duration": 4,
    "start_time": "2022-03-20T11:28:23.759Z"
   },
   {
    "duration": 828,
    "start_time": "2022-03-20T11:28:23.765Z"
   },
   {
    "duration": 63,
    "start_time": "2022-03-20T11:28:24.595Z"
   },
   {
    "duration": 19,
    "start_time": "2022-03-20T11:28:24.660Z"
   },
   {
    "duration": 3,
    "start_time": "2022-03-20T11:28:24.702Z"
   },
   {
    "duration": 35,
    "start_time": "2022-03-20T11:28:24.707Z"
   },
   {
    "duration": 45,
    "start_time": "2022-03-20T11:28:24.744Z"
   },
   {
    "duration": 47,
    "start_time": "2022-03-20T11:28:24.791Z"
   },
   {
    "duration": 33,
    "start_time": "2022-03-20T11:28:24.840Z"
   },
   {
    "duration": 56,
    "start_time": "2022-03-20T11:28:24.875Z"
   },
   {
    "duration": 36,
    "start_time": "2022-03-20T11:28:24.934Z"
   },
   {
    "duration": 21,
    "start_time": "2022-03-20T11:28:24.972Z"
   },
   {
    "duration": 23,
    "start_time": "2022-03-20T11:28:24.996Z"
   },
   {
    "duration": 38,
    "start_time": "2022-03-20T11:28:25.021Z"
   },
   {
    "duration": 618,
    "start_time": "2022-03-20T11:28:25.062Z"
   },
   {
    "duration": 643,
    "start_time": "2022-03-20T11:28:25.682Z"
   },
   {
    "duration": 588,
    "start_time": "2022-03-20T11:28:26.327Z"
   },
   {
    "duration": 14,
    "start_time": "2022-03-20T11:28:26.916Z"
   },
   {
    "duration": 58,
    "start_time": "2022-03-20T11:28:26.932Z"
   },
   {
    "duration": 36,
    "start_time": "2022-03-20T11:28:26.992Z"
   },
   {
    "duration": 161,
    "start_time": "2022-03-20T11:28:27.030Z"
   },
   {
    "duration": 142,
    "start_time": "2022-03-20T11:28:27.193Z"
   },
   {
    "duration": 8,
    "start_time": "2022-03-20T11:28:27.337Z"
   },
   {
    "duration": 275,
    "start_time": "2022-03-20T11:28:27.347Z"
   },
   {
    "duration": 370,
    "start_time": "2022-03-20T11:28:27.624Z"
   },
   {
    "duration": 248,
    "start_time": "2022-03-20T11:28:28.000Z"
   },
   {
    "duration": 4,
    "start_time": "2022-03-20T11:28:28.250Z"
   },
   {
    "duration": 9,
    "start_time": "2022-03-20T11:28:28.256Z"
   },
   {
    "duration": 37,
    "start_time": "2022-03-20T11:28:28.266Z"
   },
   {
    "duration": 6,
    "start_time": "2022-03-20T11:28:28.304Z"
   },
   {
    "duration": 182,
    "start_time": "2022-03-20T11:28:28.312Z"
   },
   {
    "duration": 1644,
    "start_time": "2022-03-20T11:28:40.217Z"
   },
   {
    "duration": 3,
    "start_time": "2022-03-20T11:28:41.865Z"
   },
   {
    "duration": 801,
    "start_time": "2022-03-20T11:28:41.869Z"
   },
   {
    "duration": 66,
    "start_time": "2022-03-20T11:28:42.672Z"
   },
   {
    "duration": 19,
    "start_time": "2022-03-20T11:28:42.741Z"
   },
   {
    "duration": 3,
    "start_time": "2022-03-20T11:28:42.762Z"
   },
   {
    "duration": 7,
    "start_time": "2022-03-20T11:28:42.767Z"
   },
   {
    "duration": 9,
    "start_time": "2022-03-20T11:28:42.801Z"
   },
   {
    "duration": 5,
    "start_time": "2022-03-20T11:28:42.812Z"
   },
   {
    "duration": 13,
    "start_time": "2022-03-20T11:28:42.819Z"
   },
   {
    "duration": 28,
    "start_time": "2022-03-20T11:28:42.834Z"
   },
   {
    "duration": 40,
    "start_time": "2022-03-20T11:28:42.863Z"
   },
   {
    "duration": 18,
    "start_time": "2022-03-20T11:28:42.905Z"
   },
   {
    "duration": 7,
    "start_time": "2022-03-20T11:28:42.926Z"
   },
   {
    "duration": 5,
    "start_time": "2022-03-20T11:28:42.935Z"
   },
   {
    "duration": 612,
    "start_time": "2022-03-20T11:28:42.942Z"
   },
   {
    "duration": 652,
    "start_time": "2022-03-20T11:28:43.557Z"
   },
   {
    "duration": 579,
    "start_time": "2022-03-20T11:28:44.211Z"
   },
   {
    "duration": 20,
    "start_time": "2022-03-20T11:28:44.792Z"
   },
   {
    "duration": 5,
    "start_time": "2022-03-20T11:28:44.814Z"
   },
   {
    "duration": 21,
    "start_time": "2022-03-20T11:28:44.821Z"
   },
   {
    "duration": 156,
    "start_time": "2022-03-20T11:28:44.845Z"
   },
   {
    "duration": 157,
    "start_time": "2022-03-20T11:28:45.003Z"
   },
   {
    "duration": 8,
    "start_time": "2022-03-20T11:28:45.162Z"
   },
   {
    "duration": 273,
    "start_time": "2022-03-20T11:28:45.172Z"
   },
   {
    "duration": 433,
    "start_time": "2022-03-20T11:28:45.447Z"
   },
   {
    "duration": 260,
    "start_time": "2022-03-20T11:28:45.882Z"
   },
   {
    "duration": 4,
    "start_time": "2022-03-20T11:28:46.144Z"
   },
   {
    "duration": 15,
    "start_time": "2022-03-20T11:28:46.150Z"
   },
   {
    "duration": 21,
    "start_time": "2022-03-20T11:28:46.167Z"
   },
   {
    "duration": 35,
    "start_time": "2022-03-20T11:28:46.190Z"
   },
   {
    "duration": 194,
    "start_time": "2022-03-20T11:28:46.227Z"
   },
   {
    "duration": 17,
    "start_time": "2022-03-20T11:28:59.585Z"
   },
   {
    "duration": 39,
    "start_time": "2022-03-20T11:29:06.617Z"
   },
   {
    "duration": 19,
    "start_time": "2022-03-20T11:30:08.954Z"
   },
   {
    "duration": 17,
    "start_time": "2022-03-20T11:30:13.649Z"
   },
   {
    "duration": 1700,
    "start_time": "2022-03-20T11:30:59.944Z"
   },
   {
    "duration": 3,
    "start_time": "2022-03-20T11:31:01.650Z"
   },
   {
    "duration": 849,
    "start_time": "2022-03-20T11:31:01.656Z"
   },
   {
    "duration": 62,
    "start_time": "2022-03-20T11:31:02.507Z"
   },
   {
    "duration": 45,
    "start_time": "2022-03-20T11:31:02.572Z"
   },
   {
    "duration": 3,
    "start_time": "2022-03-20T11:31:02.619Z"
   },
   {
    "duration": 46,
    "start_time": "2022-03-20T11:31:02.624Z"
   },
   {
    "duration": 31,
    "start_time": "2022-03-20T11:31:02.671Z"
   },
   {
    "duration": 13,
    "start_time": "2022-03-20T11:31:02.704Z"
   },
   {
    "duration": 32,
    "start_time": "2022-03-20T11:31:02.718Z"
   },
   {
    "duration": 40,
    "start_time": "2022-03-20T11:31:02.752Z"
   },
   {
    "duration": 23,
    "start_time": "2022-03-20T11:31:02.794Z"
   },
   {
    "duration": 19,
    "start_time": "2022-03-20T11:31:02.819Z"
   },
   {
    "duration": 6,
    "start_time": "2022-03-20T11:31:02.841Z"
   },
   {
    "duration": 28,
    "start_time": "2022-03-20T11:31:02.849Z"
   },
   {
    "duration": 659,
    "start_time": "2022-03-20T11:31:02.879Z"
   },
   {
    "duration": 669,
    "start_time": "2022-03-20T11:31:03.540Z"
   },
   {
    "duration": 572,
    "start_time": "2022-03-20T11:31:04.211Z"
   },
   {
    "duration": 24,
    "start_time": "2022-03-20T11:31:04.785Z"
   },
   {
    "duration": 34,
    "start_time": "2022-03-20T11:31:04.811Z"
   },
   {
    "duration": 42,
    "start_time": "2022-03-20T11:31:04.846Z"
   },
   {
    "duration": 164,
    "start_time": "2022-03-20T11:31:04.890Z"
   },
   {
    "duration": 146,
    "start_time": "2022-03-20T11:31:05.055Z"
   },
   {
    "duration": 7,
    "start_time": "2022-03-20T11:31:05.203Z"
   },
   {
    "duration": 280,
    "start_time": "2022-03-20T11:31:05.212Z"
   },
   {
    "duration": 393,
    "start_time": "2022-03-20T11:31:05.494Z"
   },
   {
    "duration": 244,
    "start_time": "2022-03-20T11:31:05.889Z"
   },
   {
    "duration": 4,
    "start_time": "2022-03-20T11:31:06.135Z"
   },
   {
    "duration": 6,
    "start_time": "2022-03-20T11:31:06.141Z"
   },
   {
    "duration": 21,
    "start_time": "2022-03-20T11:31:06.149Z"
   },
   {
    "duration": 7,
    "start_time": "2022-03-20T11:31:06.172Z"
   },
   {
    "duration": 37,
    "start_time": "2022-03-20T11:31:06.181Z"
   },
   {
    "duration": 142,
    "start_time": "2022-03-20T11:33:31.028Z"
   },
   {
    "duration": 157,
    "start_time": "2022-03-20T11:33:36.052Z"
   },
   {
    "duration": 142,
    "start_time": "2022-03-20T11:33:56.968Z"
   },
   {
    "duration": 111,
    "start_time": "2022-03-20T11:34:03.811Z"
   },
   {
    "duration": 8,
    "start_time": "2022-03-20T11:34:08.069Z"
   },
   {
    "duration": 47,
    "start_time": "2022-03-20T11:34:12.092Z"
   },
   {
    "duration": 143,
    "start_time": "2022-03-20T11:34:32.557Z"
   },
   {
    "duration": 154,
    "start_time": "2022-03-20T11:34:53.164Z"
   },
   {
    "duration": 226,
    "start_time": "2022-03-20T11:35:08.660Z"
   },
   {
    "duration": 13,
    "start_time": "2022-03-20T11:35:44.610Z"
   },
   {
    "duration": 11,
    "start_time": "2022-03-20T11:36:30.131Z"
   },
   {
    "duration": 11,
    "start_time": "2022-03-20T11:37:22.171Z"
   },
   {
    "duration": 10,
    "start_time": "2022-03-20T11:37:37.396Z"
   },
   {
    "duration": 23,
    "start_time": "2022-03-20T11:37:54.178Z"
   },
   {
    "duration": 1491,
    "start_time": "2022-03-20T11:38:01.403Z"
   },
   {
    "duration": 11,
    "start_time": "2022-03-20T11:39:13.379Z"
   },
   {
    "duration": 1435,
    "start_time": "2022-03-20T11:39:13.772Z"
   },
   {
    "duration": 1657,
    "start_time": "2022-03-20T11:39:19.899Z"
   },
   {
    "duration": 4,
    "start_time": "2022-03-20T11:39:21.559Z"
   },
   {
    "duration": 836,
    "start_time": "2022-03-20T11:39:21.565Z"
   },
   {
    "duration": 61,
    "start_time": "2022-03-20T11:39:22.404Z"
   },
   {
    "duration": 42,
    "start_time": "2022-03-20T11:39:22.469Z"
   },
   {
    "duration": 4,
    "start_time": "2022-03-20T11:39:22.513Z"
   },
   {
    "duration": 21,
    "start_time": "2022-03-20T11:39:22.520Z"
   },
   {
    "duration": 19,
    "start_time": "2022-03-20T11:39:22.543Z"
   },
   {
    "duration": 12,
    "start_time": "2022-03-20T11:39:22.565Z"
   },
   {
    "duration": 17,
    "start_time": "2022-03-20T11:39:22.579Z"
   },
   {
    "duration": 25,
    "start_time": "2022-03-20T11:39:22.601Z"
   },
   {
    "duration": 24,
    "start_time": "2022-03-20T11:39:22.629Z"
   },
   {
    "duration": 18,
    "start_time": "2022-03-20T11:39:22.656Z"
   },
   {
    "duration": 24,
    "start_time": "2022-03-20T11:39:22.678Z"
   },
   {
    "duration": 12,
    "start_time": "2022-03-20T11:39:22.705Z"
   },
   {
    "duration": 629,
    "start_time": "2022-03-20T11:39:22.719Z"
   },
   {
    "duration": 668,
    "start_time": "2022-03-20T11:39:23.350Z"
   },
   {
    "duration": 567,
    "start_time": "2022-03-20T11:39:24.020Z"
   },
   {
    "duration": 21,
    "start_time": "2022-03-20T11:39:24.589Z"
   },
   {
    "duration": 24,
    "start_time": "2022-03-20T11:39:24.612Z"
   },
   {
    "duration": 40,
    "start_time": "2022-03-20T11:39:24.638Z"
   },
   {
    "duration": 151,
    "start_time": "2022-03-20T11:39:24.680Z"
   },
   {
    "duration": 147,
    "start_time": "2022-03-20T11:39:24.833Z"
   },
   {
    "duration": 7,
    "start_time": "2022-03-20T11:39:24.982Z"
   },
   {
    "duration": 258,
    "start_time": "2022-03-20T11:39:25.002Z"
   },
   {
    "duration": 374,
    "start_time": "2022-03-20T11:39:25.262Z"
   },
   {
    "duration": 255,
    "start_time": "2022-03-20T11:39:25.638Z"
   },
   {
    "duration": 4,
    "start_time": "2022-03-20T11:39:25.901Z"
   },
   {
    "duration": 7,
    "start_time": "2022-03-20T11:39:25.907Z"
   },
   {
    "duration": 13,
    "start_time": "2022-03-20T11:39:25.916Z"
   },
   {
    "duration": 1562,
    "start_time": "2022-03-20T11:39:25.931Z"
   },
   {
    "duration": 16,
    "start_time": "2022-03-20T11:39:38.352Z"
   },
   {
    "duration": 1497,
    "start_time": "2022-03-20T11:39:38.784Z"
   },
   {
    "duration": 4354,
    "start_time": "2022-03-20T11:43:08.074Z"
   },
   {
    "duration": 4,
    "start_time": "2022-03-20T11:44:24.065Z"
   },
   {
    "duration": 3,
    "start_time": "2022-03-20T11:44:25.583Z"
   },
   {
    "duration": 11,
    "start_time": "2022-03-20T11:44:25.983Z"
   },
   {
    "duration": 1450,
    "start_time": "2022-03-20T11:44:26.303Z"
   },
   {
    "duration": 4,
    "start_time": "2022-03-20T11:46:51.039Z"
   },
   {
    "duration": 3,
    "start_time": "2022-03-20T11:46:51.374Z"
   },
   {
    "duration": 10,
    "start_time": "2022-03-20T11:46:51.886Z"
   },
   {
    "duration": 1432,
    "start_time": "2022-03-20T11:46:52.088Z"
   },
   {
    "duration": 4,
    "start_time": "2022-03-20T11:50:15.509Z"
   },
   {
    "duration": 3,
    "start_time": "2022-03-20T11:50:17.287Z"
   },
   {
    "duration": 3,
    "start_time": "2022-03-20T11:50:17.806Z"
   },
   {
    "duration": 16,
    "start_time": "2022-03-20T11:50:18.278Z"
   },
   {
    "duration": 4286,
    "start_time": "2022-03-20T11:50:18.615Z"
   },
   {
    "duration": 4329,
    "start_time": "2022-03-20T11:50:30.074Z"
   },
   {
    "duration": 4,
    "start_time": "2022-03-20T11:51:42.878Z"
   },
   {
    "duration": 3,
    "start_time": "2022-03-20T11:51:43.454Z"
   },
   {
    "duration": 12,
    "start_time": "2022-03-20T11:51:43.966Z"
   },
   {
    "duration": 4220,
    "start_time": "2022-03-20T11:51:44.215Z"
   },
   {
    "duration": 4,
    "start_time": "2022-03-20T11:54:37.233Z"
   },
   {
    "duration": 3,
    "start_time": "2022-03-20T11:54:38.005Z"
   },
   {
    "duration": 10,
    "start_time": "2022-03-20T11:54:38.381Z"
   },
   {
    "duration": 4245,
    "start_time": "2022-03-20T11:54:38.657Z"
   },
   {
    "duration": 11,
    "start_time": "2022-03-20T11:59:31.517Z"
   },
   {
    "duration": 11,
    "start_time": "2022-03-20T11:59:42.717Z"
   },
   {
    "duration": 24,
    "start_time": "2022-03-20T11:59:49.023Z"
   },
   {
    "duration": 26,
    "start_time": "2022-03-20T12:01:14.566Z"
   },
   {
    "duration": 24,
    "start_time": "2022-03-20T12:01:20.429Z"
   },
   {
    "duration": 28,
    "start_time": "2022-03-20T12:01:34.885Z"
   },
   {
    "duration": 4,
    "start_time": "2022-03-20T12:04:09.344Z"
   },
   {
    "duration": 3,
    "start_time": "2022-03-20T12:04:16.421Z"
   },
   {
    "duration": 12,
    "start_time": "2022-03-20T12:05:07.918Z"
   },
   {
    "duration": 1964,
    "start_time": "2022-03-20T12:05:15.502Z"
   },
   {
    "duration": 4,
    "start_time": "2022-03-20T12:05:40.365Z"
   },
   {
    "duration": 3,
    "start_time": "2022-03-20T12:07:35.125Z"
   },
   {
    "duration": 5,
    "start_time": "2022-03-20T12:09:45.565Z"
   },
   {
    "duration": 3,
    "start_time": "2022-03-20T12:09:51.588Z"
   },
   {
    "duration": 16,
    "start_time": "2022-03-20T12:09:52.028Z"
   },
   {
    "duration": 1666,
    "start_time": "2022-03-20T12:09:52.307Z"
   },
   {
    "duration": 26,
    "start_time": "2022-03-20T12:10:13.372Z"
   },
   {
    "duration": 10,
    "start_time": "2022-03-20T12:10:18.804Z"
   },
   {
    "duration": 10,
    "start_time": "2022-03-20T12:10:26.044Z"
   },
   {
    "duration": 11,
    "start_time": "2022-03-20T12:10:30.283Z"
   },
   {
    "duration": 1632,
    "start_time": "2022-03-20T12:10:39.060Z"
   },
   {
    "duration": 3,
    "start_time": "2022-03-20T12:10:40.695Z"
   },
   {
    "duration": 821,
    "start_time": "2022-03-20T12:10:40.700Z"
   },
   {
    "duration": 58,
    "start_time": "2022-03-20T12:10:41.523Z"
   },
   {
    "duration": 37,
    "start_time": "2022-03-20T12:10:41.584Z"
   },
   {
    "duration": 4,
    "start_time": "2022-03-20T12:10:41.623Z"
   },
   {
    "duration": 8,
    "start_time": "2022-03-20T12:10:41.628Z"
   },
   {
    "duration": 13,
    "start_time": "2022-03-20T12:10:41.638Z"
   },
   {
    "duration": 6,
    "start_time": "2022-03-20T12:10:41.653Z"
   },
   {
    "duration": 41,
    "start_time": "2022-03-20T12:10:41.660Z"
   },
   {
    "duration": 23,
    "start_time": "2022-03-20T12:10:41.703Z"
   },
   {
    "duration": 21,
    "start_time": "2022-03-20T12:10:41.728Z"
   },
   {
    "duration": 17,
    "start_time": "2022-03-20T12:10:41.750Z"
   },
   {
    "duration": 31,
    "start_time": "2022-03-20T12:10:41.771Z"
   },
   {
    "duration": 10,
    "start_time": "2022-03-20T12:10:41.804Z"
   },
   {
    "duration": 591,
    "start_time": "2022-03-20T12:10:41.816Z"
   },
   {
    "duration": 642,
    "start_time": "2022-03-20T12:10:42.409Z"
   },
   {
    "duration": 578,
    "start_time": "2022-03-20T12:10:43.053Z"
   },
   {
    "duration": 15,
    "start_time": "2022-03-20T12:10:43.633Z"
   },
   {
    "duration": 6,
    "start_time": "2022-03-20T12:10:43.651Z"
   },
   {
    "duration": 48,
    "start_time": "2022-03-20T12:10:43.659Z"
   },
   {
    "duration": 141,
    "start_time": "2022-03-20T12:10:43.709Z"
   },
   {
    "duration": 152,
    "start_time": "2022-03-20T12:10:43.852Z"
   },
   {
    "duration": 8,
    "start_time": "2022-03-20T12:10:44.006Z"
   },
   {
    "duration": 255,
    "start_time": "2022-03-20T12:10:44.016Z"
   },
   {
    "duration": 379,
    "start_time": "2022-03-20T12:10:44.273Z"
   },
   {
    "duration": 249,
    "start_time": "2022-03-20T12:10:44.654Z"
   },
   {
    "duration": 4,
    "start_time": "2022-03-20T12:10:44.905Z"
   },
   {
    "duration": 6,
    "start_time": "2022-03-20T12:10:44.910Z"
   },
   {
    "duration": 18,
    "start_time": "2022-03-20T12:10:44.918Z"
   },
   {
    "duration": 1634,
    "start_time": "2022-03-20T12:10:44.937Z"
   },
   {
    "duration": 112,
    "start_time": "2022-03-20T12:10:46.574Z"
   },
   {
    "duration": 4,
    "start_time": "2022-03-20T12:16:15.778Z"
   },
   {
    "duration": 10,
    "start_time": "2022-03-20T12:17:00.889Z"
   },
   {
    "duration": 5,
    "start_time": "2022-03-20T12:17:08.108Z"
   },
   {
    "duration": 10,
    "start_time": "2022-03-20T12:17:49.705Z"
   },
   {
    "duration": 10,
    "start_time": "2022-03-20T12:18:36.616Z"
   },
   {
    "duration": 10,
    "start_time": "2022-03-20T12:18:47.729Z"
   },
   {
    "duration": 10,
    "start_time": "2022-03-20T12:19:00.857Z"
   },
   {
    "duration": 10,
    "start_time": "2022-03-20T12:20:09.337Z"
   },
   {
    "duration": 12,
    "start_time": "2022-03-20T12:21:24.649Z"
   },
   {
    "duration": 9,
    "start_time": "2022-03-20T12:21:40.009Z"
   },
   {
    "duration": 10,
    "start_time": "2022-03-20T12:22:17.937Z"
   },
   {
    "duration": 4,
    "start_time": "2022-03-20T12:27:24.568Z"
   },
   {
    "duration": 5,
    "start_time": "2022-03-20T12:27:27.664Z"
   },
   {
    "duration": 11,
    "start_time": "2022-03-20T12:27:39.001Z"
   },
   {
    "duration": 10,
    "start_time": "2022-03-20T12:27:45.744Z"
   },
   {
    "duration": 8,
    "start_time": "2022-03-20T12:27:53.384Z"
   },
   {
    "duration": 12,
    "start_time": "2022-03-20T12:28:07.567Z"
   },
   {
    "duration": 145,
    "start_time": "2022-03-20T12:28:18.224Z"
   },
   {
    "duration": 4,
    "start_time": "2022-03-20T12:28:25.128Z"
   },
   {
    "duration": 4,
    "start_time": "2022-03-20T12:28:29.200Z"
   },
   {
    "duration": 13,
    "start_time": "2022-03-20T12:28:41.505Z"
   },
   {
    "duration": 16,
    "start_time": "2022-03-20T12:28:48.521Z"
   },
   {
    "duration": 32,
    "start_time": "2022-03-20T12:28:53.288Z"
   },
   {
    "duration": 9,
    "start_time": "2022-03-20T12:28:58.082Z"
   },
   {
    "duration": 51,
    "start_time": "2022-03-20T12:29:12.216Z"
   },
   {
    "duration": 14,
    "start_time": "2022-03-20T12:29:29.815Z"
   },
   {
    "duration": 11,
    "start_time": "2022-03-20T12:29:53.768Z"
   },
   {
    "duration": 11,
    "start_time": "2022-03-20T12:30:04.720Z"
   },
   {
    "duration": 13,
    "start_time": "2022-03-20T12:30:16.223Z"
   },
   {
    "duration": 13,
    "start_time": "2022-03-20T12:30:19.573Z"
   },
   {
    "duration": 5,
    "start_time": "2022-03-20T12:30:37.655Z"
   },
   {
    "duration": 17,
    "start_time": "2022-03-20T12:30:40.728Z"
   },
   {
    "duration": 14,
    "start_time": "2022-03-20T12:30:58.585Z"
   },
   {
    "duration": 15,
    "start_time": "2022-03-20T12:31:06.752Z"
   },
   {
    "duration": 15,
    "start_time": "2022-03-20T12:31:47.968Z"
   },
   {
    "duration": 1862,
    "start_time": "2022-03-20T12:40:36.142Z"
   },
   {
    "duration": 4,
    "start_time": "2022-03-20T12:40:38.006Z"
   },
   {
    "duration": 835,
    "start_time": "2022-03-20T12:40:38.012Z"
   },
   {
    "duration": 100,
    "start_time": "2022-03-20T12:40:38.850Z"
   },
   {
    "duration": 22,
    "start_time": "2022-03-20T12:40:38.952Z"
   },
   {
    "duration": 26,
    "start_time": "2022-03-20T12:40:38.976Z"
   },
   {
    "duration": 9,
    "start_time": "2022-03-20T12:40:39.004Z"
   },
   {
    "duration": 12,
    "start_time": "2022-03-20T12:40:39.015Z"
   },
   {
    "duration": 6,
    "start_time": "2022-03-20T12:40:39.029Z"
   },
   {
    "duration": 9,
    "start_time": "2022-03-20T12:40:39.039Z"
   },
   {
    "duration": 65,
    "start_time": "2022-03-20T12:40:39.050Z"
   },
   {
    "duration": 20,
    "start_time": "2022-03-20T12:40:39.117Z"
   },
   {
    "duration": 21,
    "start_time": "2022-03-20T12:40:39.139Z"
   },
   {
    "duration": 8,
    "start_time": "2022-03-20T12:40:39.162Z"
   },
   {
    "duration": 33,
    "start_time": "2022-03-20T12:40:39.172Z"
   },
   {
    "duration": 630,
    "start_time": "2022-03-20T12:40:39.207Z"
   },
   {
    "duration": 1028,
    "start_time": "2022-03-20T12:40:39.839Z"
   },
   {
    "duration": 921,
    "start_time": "2022-03-20T12:40:40.869Z"
   },
   {
    "duration": 34,
    "start_time": "2022-03-20T12:40:41.792Z"
   },
   {
    "duration": 6,
    "start_time": "2022-03-20T12:40:41.828Z"
   },
   {
    "duration": 26,
    "start_time": "2022-03-20T12:40:41.836Z"
   },
   {
    "duration": 147,
    "start_time": "2022-03-20T12:40:41.865Z"
   },
   {
    "duration": 230,
    "start_time": "2022-03-20T12:40:42.014Z"
   },
   {
    "duration": 10,
    "start_time": "2022-03-20T12:40:42.247Z"
   },
   {
    "duration": 412,
    "start_time": "2022-03-20T12:40:42.259Z"
   },
   {
    "duration": 545,
    "start_time": "2022-03-20T12:40:42.673Z"
   },
   {
    "duration": 281,
    "start_time": "2022-03-20T12:40:43.220Z"
   },
   {
    "duration": 5,
    "start_time": "2022-03-20T12:40:43.505Z"
   },
   {
    "duration": 132,
    "start_time": "2022-03-20T12:40:43.512Z"
   },
   {
    "duration": 0,
    "start_time": "2022-03-20T12:40:43.646Z"
   },
   {
    "duration": 0,
    "start_time": "2022-03-20T12:40:43.648Z"
   },
   {
    "duration": 0,
    "start_time": "2022-03-20T12:40:43.649Z"
   },
   {
    "duration": 0,
    "start_time": "2022-03-20T12:40:43.650Z"
   },
   {
    "duration": 0,
    "start_time": "2022-03-20T12:40:43.652Z"
   },
   {
    "duration": 0,
    "start_time": "2022-03-20T12:40:43.653Z"
   },
   {
    "duration": 5,
    "start_time": "2022-03-20T12:41:01.389Z"
   },
   {
    "duration": 3,
    "start_time": "2022-03-20T12:41:01.865Z"
   },
   {
    "duration": 23,
    "start_time": "2022-03-20T12:41:02.896Z"
   },
   {
    "duration": 6,
    "start_time": "2022-03-20T12:41:03.130Z"
   },
   {
    "duration": 11,
    "start_time": "2022-03-20T12:41:03.339Z"
   },
   {
    "duration": 68,
    "start_time": "2022-03-20T12:41:03.546Z"
   },
   {
    "duration": 16,
    "start_time": "2022-03-20T12:41:03.763Z"
   },
   {
    "duration": 14,
    "start_time": "2022-03-20T12:41:04.097Z"
   },
   {
    "duration": 16,
    "start_time": "2022-03-20T12:41:23.354Z"
   },
   {
    "duration": 5,
    "start_time": "2022-03-20T12:41:32.109Z"
   },
   {
    "duration": 14,
    "start_time": "2022-03-20T12:41:35.762Z"
   },
   {
    "duration": 944,
    "start_time": "2022-03-20T12:41:42.563Z"
   },
   {
    "duration": 1133,
    "start_time": "2022-03-20T12:41:50.377Z"
   },
   {
    "duration": 259,
    "start_time": "2022-03-20T12:43:08.755Z"
   },
   {
    "duration": 12,
    "start_time": "2022-03-20T12:43:44.116Z"
   },
   {
    "duration": 10,
    "start_time": "2022-03-20T12:43:48.619Z"
   },
   {
    "duration": 8053,
    "start_time": "2022-03-20T12:43:50.833Z"
   },
   {
    "duration": 11,
    "start_time": "2022-03-20T12:44:35.728Z"
   },
   {
    "duration": 4,
    "start_time": "2022-03-20T12:44:49.026Z"
   },
   {
    "duration": 11,
    "start_time": "2022-03-20T12:44:54.777Z"
   },
   {
    "duration": 23,
    "start_time": "2022-03-20T12:44:58.833Z"
   },
   {
    "duration": 8,
    "start_time": "2022-03-20T12:45:49.658Z"
   },
   {
    "duration": 18,
    "start_time": "2022-03-20T12:46:55.371Z"
   },
   {
    "duration": 1877,
    "start_time": "2022-03-20T12:47:01.465Z"
   },
   {
    "duration": 3,
    "start_time": "2022-03-20T12:47:03.345Z"
   },
   {
    "duration": 852,
    "start_time": "2022-03-20T12:47:03.350Z"
   },
   {
    "duration": 62,
    "start_time": "2022-03-20T12:47:04.204Z"
   },
   {
    "duration": 41,
    "start_time": "2022-03-20T12:47:04.269Z"
   },
   {
    "duration": 4,
    "start_time": "2022-03-20T12:47:04.312Z"
   },
   {
    "duration": 20,
    "start_time": "2022-03-20T12:47:04.318Z"
   },
   {
    "duration": 18,
    "start_time": "2022-03-20T12:47:04.341Z"
   },
   {
    "duration": 19,
    "start_time": "2022-03-20T12:47:04.362Z"
   },
   {
    "duration": 15,
    "start_time": "2022-03-20T12:47:04.383Z"
   },
   {
    "duration": 38,
    "start_time": "2022-03-20T12:47:04.400Z"
   },
   {
    "duration": 19,
    "start_time": "2022-03-20T12:47:04.440Z"
   },
   {
    "duration": 35,
    "start_time": "2022-03-20T12:47:04.461Z"
   },
   {
    "duration": 7,
    "start_time": "2022-03-20T12:47:04.499Z"
   },
   {
    "duration": 25,
    "start_time": "2022-03-20T12:47:04.507Z"
   },
   {
    "duration": 616,
    "start_time": "2022-03-20T12:47:04.534Z"
   },
   {
    "duration": 694,
    "start_time": "2022-03-20T12:47:05.152Z"
   },
   {
    "duration": 578,
    "start_time": "2022-03-20T12:47:05.848Z"
   },
   {
    "duration": 14,
    "start_time": "2022-03-20T12:47:06.428Z"
   },
   {
    "duration": 5,
    "start_time": "2022-03-20T12:47:06.444Z"
   },
   {
    "duration": 11,
    "start_time": "2022-03-20T12:47:06.451Z"
   },
   {
    "duration": 157,
    "start_time": "2022-03-20T12:47:06.463Z"
   },
   {
    "duration": 149,
    "start_time": "2022-03-20T12:47:06.621Z"
   },
   {
    "duration": 7,
    "start_time": "2022-03-20T12:47:06.772Z"
   },
   {
    "duration": 268,
    "start_time": "2022-03-20T12:47:06.781Z"
   },
   {
    "duration": 380,
    "start_time": "2022-03-20T12:47:07.051Z"
   },
   {
    "duration": 249,
    "start_time": "2022-03-20T12:47:07.433Z"
   },
   {
    "duration": 4,
    "start_time": "2022-03-20T12:47:07.685Z"
   },
   {
    "duration": 13,
    "start_time": "2022-03-20T12:47:07.691Z"
   },
   {
    "duration": 18,
    "start_time": "2022-03-20T12:47:07.706Z"
   },
   {
    "duration": 4,
    "start_time": "2022-03-20T12:47:07.726Z"
   },
   {
    "duration": 11,
    "start_time": "2022-03-20T12:47:07.731Z"
   },
   {
    "duration": 73,
    "start_time": "2022-03-20T12:47:07.744Z"
   },
   {
    "duration": 12,
    "start_time": "2022-03-20T12:47:07.819Z"
   },
   {
    "duration": 7972,
    "start_time": "2022-03-20T12:47:07.833Z"
   },
   {
    "duration": 117,
    "start_time": "2022-03-20T12:47:15.807Z"
   },
   {
    "duration": 0,
    "start_time": "2022-03-20T12:47:15.926Z"
   },
   {
    "duration": 227,
    "start_time": "2022-03-20T12:47:59.305Z"
   },
   {
    "duration": 22,
    "start_time": "2022-03-20T12:48:01.025Z"
   },
   {
    "duration": 8,
    "start_time": "2022-03-20T12:50:07.862Z"
   },
   {
    "duration": 51,
    "start_time": "2022-03-20T12:50:10.510Z"
   },
   {
    "duration": 12,
    "start_time": "2022-03-20T12:50:14.829Z"
   },
   {
    "duration": 8056,
    "start_time": "2022-03-20T12:50:15.213Z"
   },
   {
    "duration": 456,
    "start_time": "2022-03-20T12:50:23.271Z"
   },
   {
    "duration": 20,
    "start_time": "2022-03-20T12:50:23.729Z"
   },
   {
    "duration": 1765,
    "start_time": "2022-03-20T12:50:29.389Z"
   },
   {
    "duration": 4,
    "start_time": "2022-03-20T12:50:31.156Z"
   },
   {
    "duration": 892,
    "start_time": "2022-03-20T12:50:31.162Z"
   },
   {
    "duration": 70,
    "start_time": "2022-03-20T12:50:32.056Z"
   },
   {
    "duration": 21,
    "start_time": "2022-03-20T12:50:32.129Z"
   },
   {
    "duration": 4,
    "start_time": "2022-03-20T12:50:32.151Z"
   },
   {
    "duration": 19,
    "start_time": "2022-03-20T12:50:32.156Z"
   },
   {
    "duration": 24,
    "start_time": "2022-03-20T12:50:32.177Z"
   },
   {
    "duration": 5,
    "start_time": "2022-03-20T12:50:32.203Z"
   },
   {
    "duration": 20,
    "start_time": "2022-03-20T12:50:32.210Z"
   },
   {
    "duration": 33,
    "start_time": "2022-03-20T12:50:32.232Z"
   },
   {
    "duration": 29,
    "start_time": "2022-03-20T12:50:32.267Z"
   },
   {
    "duration": 25,
    "start_time": "2022-03-20T12:50:32.298Z"
   },
   {
    "duration": 6,
    "start_time": "2022-03-20T12:50:32.328Z"
   },
   {
    "duration": 21,
    "start_time": "2022-03-20T12:50:32.337Z"
   },
   {
    "duration": 593,
    "start_time": "2022-03-20T12:50:32.361Z"
   },
   {
    "duration": 672,
    "start_time": "2022-03-20T12:50:32.955Z"
   },
   {
    "duration": 575,
    "start_time": "2022-03-20T12:50:33.629Z"
   },
   {
    "duration": 13,
    "start_time": "2022-03-20T12:50:34.206Z"
   },
   {
    "duration": 40,
    "start_time": "2022-03-20T12:50:34.221Z"
   },
   {
    "duration": 18,
    "start_time": "2022-03-20T12:50:34.264Z"
   },
   {
    "duration": 135,
    "start_time": "2022-03-20T12:50:34.284Z"
   },
   {
    "duration": 150,
    "start_time": "2022-03-20T12:50:34.421Z"
   },
   {
    "duration": 8,
    "start_time": "2022-03-20T12:50:34.573Z"
   },
   {
    "duration": 272,
    "start_time": "2022-03-20T12:50:34.583Z"
   },
   {
    "duration": 385,
    "start_time": "2022-03-20T12:50:34.857Z"
   },
   {
    "duration": 248,
    "start_time": "2022-03-20T12:50:35.243Z"
   },
   {
    "duration": 9,
    "start_time": "2022-03-20T12:50:35.493Z"
   },
   {
    "duration": 18,
    "start_time": "2022-03-20T12:50:35.504Z"
   },
   {
    "duration": 38,
    "start_time": "2022-03-20T12:50:35.524Z"
   },
   {
    "duration": 9,
    "start_time": "2022-03-20T12:50:35.564Z"
   },
   {
    "duration": 15,
    "start_time": "2022-03-20T12:50:35.575Z"
   },
   {
    "duration": 63,
    "start_time": "2022-03-20T12:50:35.592Z"
   },
   {
    "duration": 13,
    "start_time": "2022-03-20T12:50:35.657Z"
   },
   {
    "duration": 7837,
    "start_time": "2022-03-20T12:50:35.672Z"
   },
   {
    "duration": 410,
    "start_time": "2022-03-20T12:50:43.511Z"
   },
   {
    "duration": 19,
    "start_time": "2022-03-20T12:50:43.924Z"
   },
   {
    "duration": 48,
    "start_time": "2022-03-20T12:53:01.681Z"
   },
   {
    "duration": 46,
    "start_time": "2022-03-20T12:53:10.112Z"
   },
   {
    "duration": 107,
    "start_time": "2022-03-20T12:53:18.192Z"
   },
   {
    "duration": 82,
    "start_time": "2022-03-20T12:53:30.472Z"
   },
   {
    "duration": 4,
    "start_time": "2022-03-20T12:56:21.312Z"
   },
   {
    "duration": 1173564,
    "start_time": "2022-03-20T12:56:25.878Z"
   },
   {
    "duration": 8934,
    "start_time": "2022-03-20T13:16:42.423Z"
   },
   {
    "duration": 10,
    "start_time": "2022-03-20T13:16:53.094Z"
   },
   {
    "duration": 1702,
    "start_time": "2022-03-20T13:16:54.270Z"
   },
   {
    "duration": 10,
    "start_time": "2022-03-20T13:17:00.494Z"
   },
   {
    "duration": 1240,
    "start_time": "2022-03-20T13:17:00.865Z"
   },
   {
    "duration": 93,
    "start_time": "2022-03-20T13:17:02.107Z"
   },
   {
    "duration": 85,
    "start_time": "2022-03-20T13:17:37.798Z"
   },
   {
    "duration": 84,
    "start_time": "2022-03-20T13:17:55.078Z"
   },
   {
    "duration": 1229,
    "start_time": "2022-03-20T13:17:57.586Z"
   },
   {
    "duration": 91,
    "start_time": "2022-03-20T13:18:02.342Z"
   },
   {
    "duration": 4847,
    "start_time": "2022-03-20T13:22:58.781Z"
   },
   {
    "duration": 12,
    "start_time": "2022-03-20T13:23:12.244Z"
   },
   {
    "duration": 1833,
    "start_time": "2022-03-20T13:23:52.900Z"
   },
   {
    "duration": 267,
    "start_time": "2022-03-20T13:24:05.069Z"
   },
   {
    "duration": 368,
    "start_time": "2022-03-20T13:24:12.838Z"
   },
   {
    "duration": 1209,
    "start_time": "2022-03-20T13:24:47.677Z"
   },
   {
    "duration": 49,
    "start_time": "2022-03-20T13:24:49.653Z"
   },
   {
    "duration": 46,
    "start_time": "2022-03-20T13:24:55.949Z"
   },
   {
    "duration": 10,
    "start_time": "2022-03-20T13:25:01.677Z"
   },
   {
    "duration": 45,
    "start_time": "2022-03-20T13:27:51.235Z"
   },
   {
    "duration": 10,
    "start_time": "2022-03-20T13:27:52.064Z"
   },
   {
    "duration": 4822,
    "start_time": "2022-03-20T13:30:57.613Z"
   },
   {
    "duration": 4702,
    "start_time": "2022-03-20T13:31:35.799Z"
   },
   {
    "duration": 10,
    "start_time": "2022-03-20T13:31:41.318Z"
   },
   {
    "duration": 1624,
    "start_time": "2022-03-20T13:32:48.488Z"
   },
   {
    "duration": 255,
    "start_time": "2022-03-20T13:33:05.079Z"
   },
   {
    "duration": 187,
    "start_time": "2022-03-20T13:33:07.742Z"
   },
   {
    "duration": 219,
    "start_time": "2022-03-20T13:33:08.918Z"
   },
   {
    "duration": 12,
    "start_time": "2022-03-20T13:33:10.782Z"
   },
   {
    "duration": 2483,
    "start_time": "2022-03-20T13:33:44.286Z"
   },
   {
    "duration": 2480,
    "start_time": "2022-03-20T13:34:00.350Z"
   },
   {
    "duration": 2479,
    "start_time": "2022-03-20T13:34:11.455Z"
   },
   {
    "duration": 2420,
    "start_time": "2022-03-20T13:34:20.127Z"
   },
   {
    "duration": 2463,
    "start_time": "2022-03-20T13:34:27.879Z"
   },
   {
    "duration": 49,
    "start_time": "2022-03-20T13:34:50.751Z"
   },
   {
    "duration": 47,
    "start_time": "2022-03-20T13:34:51.223Z"
   },
   {
    "duration": 12,
    "start_time": "2022-03-20T13:34:51.686Z"
   },
   {
    "duration": 12,
    "start_time": "2022-03-20T14:14:08.153Z"
   },
   {
    "duration": 7205,
    "start_time": "2022-03-20T14:14:09.344Z"
   },
   {
    "duration": 1707,
    "start_time": "2022-03-20T14:14:21.334Z"
   },
   {
    "duration": 4,
    "start_time": "2022-03-20T14:14:23.043Z"
   },
   {
    "duration": 828,
    "start_time": "2022-03-20T14:14:23.049Z"
   },
   {
    "duration": 69,
    "start_time": "2022-03-20T14:14:23.879Z"
   },
   {
    "duration": 20,
    "start_time": "2022-03-20T14:14:23.951Z"
   },
   {
    "duration": 3,
    "start_time": "2022-03-20T14:14:23.973Z"
   },
   {
    "duration": 5,
    "start_time": "2022-03-20T14:14:24.002Z"
   },
   {
    "duration": 17,
    "start_time": "2022-03-20T14:14:24.009Z"
   },
   {
    "duration": 7,
    "start_time": "2022-03-20T14:14:24.028Z"
   },
   {
    "duration": 8,
    "start_time": "2022-03-20T14:14:24.037Z"
   },
   {
    "duration": 28,
    "start_time": "2022-03-20T14:14:24.047Z"
   },
   {
    "duration": 42,
    "start_time": "2022-03-20T14:14:24.076Z"
   },
   {
    "duration": 21,
    "start_time": "2022-03-20T14:14:24.120Z"
   },
   {
    "duration": 6,
    "start_time": "2022-03-20T14:14:24.145Z"
   },
   {
    "duration": 6,
    "start_time": "2022-03-20T14:14:24.154Z"
   },
   {
    "duration": 632,
    "start_time": "2022-03-20T14:14:24.161Z"
   },
   {
    "duration": 661,
    "start_time": "2022-03-20T14:14:24.795Z"
   },
   {
    "duration": 571,
    "start_time": "2022-03-20T14:14:25.458Z"
   },
   {
    "duration": 14,
    "start_time": "2022-03-20T14:14:26.031Z"
   },
   {
    "duration": 4,
    "start_time": "2022-03-20T14:14:26.047Z"
   },
   {
    "duration": 12,
    "start_time": "2022-03-20T14:14:26.053Z"
   },
   {
    "duration": 149,
    "start_time": "2022-03-20T14:14:26.067Z"
   },
   {
    "duration": 143,
    "start_time": "2022-03-20T14:14:26.217Z"
   },
   {
    "duration": 7,
    "start_time": "2022-03-20T14:14:26.362Z"
   },
   {
    "duration": 258,
    "start_time": "2022-03-20T14:14:26.371Z"
   },
   {
    "duration": 380,
    "start_time": "2022-03-20T14:14:26.631Z"
   },
   {
    "duration": 249,
    "start_time": "2022-03-20T14:14:27.014Z"
   },
   {
    "duration": 5,
    "start_time": "2022-03-20T14:14:27.265Z"
   },
   {
    "duration": 23,
    "start_time": "2022-03-20T14:14:27.272Z"
   },
   {
    "duration": 21,
    "start_time": "2022-03-20T14:14:27.300Z"
   },
   {
    "duration": 34,
    "start_time": "2022-03-20T14:14:27.323Z"
   },
   {
    "duration": 47,
    "start_time": "2022-03-20T14:14:27.359Z"
   },
   {
    "duration": 15,
    "start_time": "2022-03-20T14:14:27.408Z"
   },
   {
    "duration": 561997,
    "start_time": "2022-03-20T14:14:27.425Z"
   },
   {
    "duration": 0,
    "start_time": "2022-03-20T14:23:49.426Z"
   },
   {
    "duration": 0,
    "start_time": "2022-03-20T14:23:49.427Z"
   },
   {
    "duration": 0,
    "start_time": "2022-03-20T14:23:49.429Z"
   },
   {
    "duration": 0,
    "start_time": "2022-03-20T14:23:49.430Z"
   },
   {
    "duration": 0,
    "start_time": "2022-03-20T14:23:49.432Z"
   },
   {
    "duration": 0,
    "start_time": "2022-03-20T14:23:49.433Z"
   },
   {
    "duration": 498046,
    "start_time": "2022-03-20T14:24:38.435Z"
   },
   {
    "duration": 178782,
    "start_time": "2022-03-20T14:42:58.511Z"
   },
   {
    "duration": 9538,
    "start_time": "2022-03-20T14:46:02.658Z"
   },
   {
    "duration": 254617,
    "start_time": "2022-03-20T14:46:15.036Z"
   },
   {
    "duration": 13,
    "start_time": "2022-03-20T14:51:32.167Z"
   },
   {
    "duration": 9998,
    "start_time": "2022-03-20T14:51:49.228Z"
   },
   {
    "duration": 52215,
    "start_time": "2022-03-20T14:52:01.664Z"
   },
   {
    "duration": 0,
    "start_time": "2022-03-20T14:52:53.882Z"
   },
   {
    "duration": 2427,
    "start_time": "2022-03-20T14:52:56.552Z"
   },
   {
    "duration": 1256,
    "start_time": "2022-03-20T14:53:02.236Z"
   },
   {
    "duration": 9827,
    "start_time": "2022-03-20T14:53:32.367Z"
   },
   {
    "duration": 3105,
    "start_time": "2022-03-20T14:53:46.025Z"
   },
   {
    "duration": 2921,
    "start_time": "2022-03-20T14:53:52.416Z"
   },
   {
    "duration": 2818,
    "start_time": "2022-03-20T14:54:23.015Z"
   },
   {
    "duration": 6,
    "start_time": "2022-03-20T14:54:28.488Z"
   },
   {
    "duration": 11,
    "start_time": "2022-03-20T14:54:30.207Z"
   },
   {
    "duration": 6,
    "start_time": "2022-03-20T14:54:30.720Z"
   },
   {
    "duration": 7,
    "start_time": "2022-03-20T14:54:31.592Z"
   },
   {
    "duration": 33,
    "start_time": "2022-03-20T14:54:33.835Z"
   },
   {
    "duration": 13,
    "start_time": "2022-03-20T14:54:34.182Z"
   },
   {
    "duration": 2410,
    "start_time": "2022-03-20T14:54:36.342Z"
   },
   {
    "duration": 2842,
    "start_time": "2022-03-20T14:55:05.560Z"
   },
   {
    "duration": 1180,
    "start_time": "2022-03-20T14:55:24.119Z"
   },
   {
    "duration": 49,
    "start_time": "2022-03-20T14:55:25.302Z"
   },
   {
    "duration": 50,
    "start_time": "2022-03-20T14:56:10.370Z"
   },
   {
    "duration": 78,
    "start_time": "2022-03-20T14:56:10.672Z"
   },
   {
    "duration": 14,
    "start_time": "2022-03-20T14:56:14.680Z"
   },
   {
    "duration": 1865,
    "start_time": "2022-03-21T06:12:21.239Z"
   },
   {
    "duration": 4,
    "start_time": "2022-03-21T06:12:23.106Z"
   },
   {
    "duration": 745,
    "start_time": "2022-03-21T06:12:23.111Z"
   },
   {
    "duration": 52,
    "start_time": "2022-03-21T06:12:46.259Z"
   },
   {
    "duration": 17,
    "start_time": "2022-03-21T06:12:47.390Z"
   },
   {
    "duration": 3,
    "start_time": "2022-03-21T06:13:11.205Z"
   },
   {
    "duration": 3,
    "start_time": "2022-03-21T06:13:11.577Z"
   },
   {
    "duration": 8,
    "start_time": "2022-03-21T06:13:11.979Z"
   },
   {
    "duration": 5,
    "start_time": "2022-03-21T06:13:12.605Z"
   },
   {
    "duration": 4,
    "start_time": "2022-03-21T06:13:28.097Z"
   },
   {
    "duration": 20,
    "start_time": "2022-03-21T06:13:54.357Z"
   },
   {
    "duration": 13,
    "start_time": "2022-03-21T06:13:55.644Z"
   },
   {
    "duration": 15,
    "start_time": "2022-03-21T06:13:57.101Z"
   },
   {
    "duration": 4,
    "start_time": "2022-03-21T06:17:12.374Z"
   },
   {
    "duration": 5,
    "start_time": "2022-03-21T06:17:20.003Z"
   },
   {
    "duration": 2,
    "start_time": "2022-03-21T06:17:21.159Z"
   },
   {
    "duration": 572,
    "start_time": "2022-03-21T06:17:21.372Z"
   },
   {
    "duration": 584,
    "start_time": "2022-03-21T06:17:21.946Z"
   },
   {
    "duration": 495,
    "start_time": "2022-03-21T06:17:22.532Z"
   },
   {
    "duration": 11,
    "start_time": "2022-03-21T06:17:35.065Z"
   },
   {
    "duration": 4,
    "start_time": "2022-03-21T06:18:26.321Z"
   },
   {
    "duration": 7,
    "start_time": "2022-03-21T06:18:26.718Z"
   },
   {
    "duration": 123,
    "start_time": "2022-03-21T06:18:27.248Z"
   },
   {
    "duration": 118,
    "start_time": "2022-03-21T06:18:27.723Z"
   },
   {
    "duration": 7,
    "start_time": "2022-03-21T06:19:13.452Z"
   },
   {
    "duration": 224,
    "start_time": "2022-03-21T06:19:14.466Z"
   },
   {
    "duration": 325,
    "start_time": "2022-03-21T06:19:15.008Z"
   },
   {
    "duration": 219,
    "start_time": "2022-03-21T06:19:15.559Z"
   },
   {
    "duration": 4,
    "start_time": "2022-03-21T06:20:59.497Z"
   },
   {
    "duration": 15,
    "start_time": "2022-03-21T06:21:51.501Z"
   },
   {
    "duration": 8,
    "start_time": "2022-03-21T06:21:58.387Z"
   },
   {
    "duration": 4,
    "start_time": "2022-03-21T06:23:55.421Z"
   },
   {
    "duration": 6,
    "start_time": "2022-03-21T06:23:56.339Z"
   },
   {
    "duration": 28,
    "start_time": "2022-03-21T06:24:37.165Z"
   },
   {
    "duration": 12,
    "start_time": "2022-03-21T06:24:37.869Z"
   },
   {
    "duration": 258202,
    "start_time": "2022-03-21T06:24:38.290Z"
   },
   {
    "duration": 103,
    "start_time": "2022-03-21T06:28:56.494Z"
   },
   {
    "duration": 0,
    "start_time": "2022-03-21T06:28:56.600Z"
   },
   {
    "duration": 0,
    "start_time": "2022-03-21T06:28:56.601Z"
   },
   {
    "duration": 0,
    "start_time": "2022-03-21T06:28:56.602Z"
   },
   {
    "duration": 11,
    "start_time": "2022-03-21T06:31:39.992Z"
   },
   {
    "duration": 9,
    "start_time": "2022-03-21T06:31:40.798Z"
   },
   {
    "duration": 1526,
    "start_time": "2022-03-21T07:20:24.297Z"
   },
   {
    "duration": 3,
    "start_time": "2022-03-21T07:20:25.826Z"
   },
   {
    "duration": 771,
    "start_time": "2022-03-21T07:20:25.831Z"
   },
   {
    "duration": 60,
    "start_time": "2022-03-21T07:20:26.605Z"
   },
   {
    "duration": 43,
    "start_time": "2022-03-21T07:20:26.667Z"
   },
   {
    "duration": 4,
    "start_time": "2022-03-21T07:20:27.719Z"
   },
   {
    "duration": 4,
    "start_time": "2022-03-21T07:20:28.453Z"
   },
   {
    "duration": 6,
    "start_time": "2022-03-21T07:20:29.015Z"
   },
   {
    "duration": 5,
    "start_time": "2022-03-21T07:20:29.877Z"
   },
   {
    "duration": 6,
    "start_time": "2022-03-21T07:20:33.493Z"
   },
   {
    "duration": 23,
    "start_time": "2022-03-21T07:20:35.133Z"
   },
   {
    "duration": 106,
    "start_time": "2022-03-21T07:21:21.662Z"
   },
   {
    "duration": 18,
    "start_time": "2022-03-21T07:21:30.190Z"
   },
   {
    "duration": 27,
    "start_time": "2022-03-21T07:21:34.535Z"
   },
   {
    "duration": 5,
    "start_time": "2022-03-21T07:21:40.413Z"
   },
   {
    "duration": 18,
    "start_time": "2022-03-21T07:21:56.733Z"
   },
   {
    "duration": 5,
    "start_time": "2022-03-21T07:21:59.142Z"
   },
   {
    "duration": 3,
    "start_time": "2022-03-21T07:22:00.829Z"
   },
   {
    "duration": 645,
    "start_time": "2022-03-21T07:22:01.197Z"
   },
   {
    "duration": 681,
    "start_time": "2022-03-21T07:22:02.398Z"
   },
   {
    "duration": 603,
    "start_time": "2022-03-21T07:22:03.082Z"
   },
   {
    "duration": 12,
    "start_time": "2022-03-21T07:22:05.150Z"
   },
   {
    "duration": 4,
    "start_time": "2022-03-21T07:22:37.943Z"
   },
   {
    "duration": 4,
    "start_time": "2022-03-21T07:22:38.373Z"
   },
   {
    "duration": 760,
    "start_time": "2022-03-21T07:22:38.734Z"
   },
   {
    "duration": 51,
    "start_time": "2022-03-21T07:22:39.496Z"
   },
   {
    "duration": 20,
    "start_time": "2022-03-21T07:22:39.726Z"
   },
   {
    "duration": 3,
    "start_time": "2022-03-21T07:22:40.589Z"
   },
   {
    "duration": 4,
    "start_time": "2022-03-21T07:22:41.062Z"
   },
   {
    "duration": 5,
    "start_time": "2022-03-21T07:22:41.469Z"
   },
   {
    "duration": 5,
    "start_time": "2022-03-21T07:22:41.925Z"
   },
   {
    "duration": 5,
    "start_time": "2022-03-21T07:22:42.701Z"
   },
   {
    "duration": 23,
    "start_time": "2022-03-21T07:22:44.985Z"
   },
   {
    "duration": 11,
    "start_time": "2022-03-21T07:22:46.524Z"
   },
   {
    "duration": 13,
    "start_time": "2022-03-21T07:22:48.053Z"
   },
   {
    "duration": 7,
    "start_time": "2022-03-21T07:22:52.758Z"
   },
   {
    "duration": 2,
    "start_time": "2022-03-21T07:22:54.041Z"
   },
   {
    "duration": 602,
    "start_time": "2022-03-21T07:22:54.389Z"
   },
   {
    "duration": 669,
    "start_time": "2022-03-21T07:22:58.141Z"
   },
   {
    "duration": 590,
    "start_time": "2022-03-21T07:23:05.276Z"
   },
   {
    "duration": 701,
    "start_time": "2022-03-21T07:23:08.317Z"
   },
   {
    "duration": 13,
    "start_time": "2022-03-21T07:23:16.593Z"
   },
   {
    "duration": 5,
    "start_time": "2022-03-21T07:23:19.262Z"
   },
   {
    "duration": 19,
    "start_time": "2022-03-21T07:23:20.925Z"
   },
   {
    "duration": 131,
    "start_time": "2022-03-21T07:23:21.869Z"
   },
   {
    "duration": 152,
    "start_time": "2022-03-21T07:23:22.966Z"
   },
   {
    "duration": 8,
    "start_time": "2022-03-21T07:23:25.191Z"
   },
   {
    "duration": 257,
    "start_time": "2022-03-21T07:23:27.541Z"
   },
   {
    "duration": 244,
    "start_time": "2022-03-21T07:23:30.013Z"
   },
   {
    "duration": 256,
    "start_time": "2022-03-21T07:23:30.429Z"
   },
   {
    "duration": 31,
    "start_time": "2022-03-21T07:23:48.037Z"
   },
   {
    "duration": 4,
    "start_time": "2022-03-21T07:26:17.462Z"
   },
   {
    "duration": 4,
    "start_time": "2022-03-21T07:26:17.868Z"
   },
   {
    "duration": 720,
    "start_time": "2022-03-21T07:26:18.224Z"
   },
   {
    "duration": 64,
    "start_time": "2022-03-21T07:26:18.946Z"
   },
   {
    "duration": 20,
    "start_time": "2022-03-21T07:26:19.445Z"
   },
   {
    "duration": 4,
    "start_time": "2022-03-21T07:26:20.365Z"
   },
   {
    "duration": 4,
    "start_time": "2022-03-21T07:26:20.701Z"
   },
   {
    "duration": 5,
    "start_time": "2022-03-21T07:26:21.054Z"
   },
   {
    "duration": 5,
    "start_time": "2022-03-21T07:26:21.414Z"
   },
   {
    "duration": 5,
    "start_time": "2022-03-21T07:26:23.022Z"
   },
   {
    "duration": 24,
    "start_time": "2022-03-21T07:26:24.222Z"
   },
   {
    "duration": 13,
    "start_time": "2022-03-21T07:26:25.166Z"
   },
   {
    "duration": 15,
    "start_time": "2022-03-21T07:26:27.005Z"
   },
   {
    "duration": 6,
    "start_time": "2022-03-21T07:26:29.397Z"
   },
   {
    "duration": 3,
    "start_time": "2022-03-21T07:26:34.188Z"
   },
   {
    "duration": 758,
    "start_time": "2022-03-21T07:26:34.407Z"
   },
   {
    "duration": 626,
    "start_time": "2022-03-21T07:26:35.167Z"
   },
   {
    "duration": 614,
    "start_time": "2022-03-21T07:26:36.269Z"
   },
   {
    "duration": 13,
    "start_time": "2022-03-21T07:26:37.349Z"
   },
   {
    "duration": 13,
    "start_time": "2022-03-21T07:26:59.126Z"
   },
   {
    "duration": 5,
    "start_time": "2022-03-21T07:27:01.173Z"
   },
   {
    "duration": 31,
    "start_time": "2022-03-21T07:27:01.605Z"
   },
   {
    "duration": 133,
    "start_time": "2022-03-21T07:27:01.974Z"
   },
   {
    "duration": 252,
    "start_time": "2022-03-21T07:27:02.310Z"
   },
   {
    "duration": 7,
    "start_time": "2022-03-21T07:27:03.614Z"
   },
   {
    "duration": 253,
    "start_time": "2022-03-21T07:27:04.180Z"
   },
   {
    "duration": 255,
    "start_time": "2022-03-21T07:27:04.505Z"
   },
   {
    "duration": 257,
    "start_time": "2022-03-21T07:27:05.766Z"
   },
   {
    "duration": 305,
    "start_time": "2022-03-21T07:27:28.950Z"
   },
   {
    "duration": 248,
    "start_time": "2022-03-21T07:27:30.952Z"
   },
   {
    "duration": 345,
    "start_time": "2022-03-21T07:27:32.373Z"
   },
   {
    "duration": 4,
    "start_time": "2022-03-21T07:30:18.991Z"
   },
   {
    "duration": 15,
    "start_time": "2022-03-21T07:30:20.781Z"
   },
   {
    "duration": 13,
    "start_time": "2022-03-21T07:30:21.310Z"
   },
   {
    "duration": 5,
    "start_time": "2022-03-21T07:31:14.623Z"
   },
   {
    "duration": 7,
    "start_time": "2022-03-21T07:31:15.798Z"
   },
   {
    "duration": 29,
    "start_time": "2022-03-21T07:31:19.453Z"
   },
   {
    "duration": 14,
    "start_time": "2022-03-21T07:31:19.877Z"
   },
   {
    "duration": 168670,
    "start_time": "2022-03-21T07:31:20.694Z"
   },
   {
    "duration": 2217,
    "start_time": "2022-03-21T07:34:22.246Z"
   },
   {
    "duration": 12,
    "start_time": "2022-03-21T07:35:04.702Z"
   },
   {
    "duration": 42365,
    "start_time": "2022-03-21T07:35:19.615Z"
   },
   {
    "duration": 10,
    "start_time": "2022-03-21T07:36:11.495Z"
   },
   {
    "duration": 29,
    "start_time": "2022-03-21T07:36:32.966Z"
   },
   {
    "duration": 30,
    "start_time": "2022-03-21T07:36:56.629Z"
   },
   {
    "duration": 12,
    "start_time": "2022-03-21T07:38:19.806Z"
   },
   {
    "duration": 9,
    "start_time": "2022-03-21T07:38:25.302Z"
   },
   {
    "duration": 1483,
    "start_time": "2022-03-21T07:39:14.016Z"
   },
   {
    "duration": 3,
    "start_time": "2022-03-21T07:39:15.501Z"
   },
   {
    "duration": 821,
    "start_time": "2022-03-21T07:39:15.506Z"
   },
   {
    "duration": 60,
    "start_time": "2022-03-21T07:39:16.330Z"
   },
   {
    "duration": 42,
    "start_time": "2022-03-21T07:39:16.391Z"
   },
   {
    "duration": 4,
    "start_time": "2022-03-21T07:39:16.435Z"
   },
   {
    "duration": 6,
    "start_time": "2022-03-21T07:39:16.441Z"
   },
   {
    "duration": 7,
    "start_time": "2022-03-21T07:39:16.449Z"
   },
   {
    "duration": 6,
    "start_time": "2022-03-21T07:39:16.458Z"
   },
   {
    "duration": 43,
    "start_time": "2022-03-21T07:39:16.467Z"
   },
   {
    "duration": 29,
    "start_time": "2022-03-21T07:39:16.512Z"
   },
   {
    "duration": 19,
    "start_time": "2022-03-21T07:39:16.543Z"
   },
   {
    "duration": 50,
    "start_time": "2022-03-21T07:39:16.565Z"
   },
   {
    "duration": 8,
    "start_time": "2022-03-21T07:39:16.617Z"
   },
   {
    "duration": 4,
    "start_time": "2022-03-21T07:39:16.627Z"
   },
   {
    "duration": 632,
    "start_time": "2022-03-21T07:39:16.633Z"
   },
   {
    "duration": 694,
    "start_time": "2022-03-21T07:39:17.268Z"
   },
   {
    "duration": 605,
    "start_time": "2022-03-21T07:39:17.964Z"
   },
   {
    "duration": 15,
    "start_time": "2022-03-21T07:39:18.571Z"
   },
   {
    "duration": 5,
    "start_time": "2022-03-21T07:39:18.589Z"
   },
   {
    "duration": 29,
    "start_time": "2022-03-21T07:39:18.610Z"
   },
   {
    "duration": 146,
    "start_time": "2022-03-21T07:39:18.641Z"
   },
   {
    "duration": 149,
    "start_time": "2022-03-21T07:39:18.790Z"
   },
   {
    "duration": 8,
    "start_time": "2022-03-21T07:39:18.941Z"
   },
   {
    "duration": 287,
    "start_time": "2022-03-21T07:39:18.951Z"
   },
   {
    "duration": 372,
    "start_time": "2022-03-21T07:39:19.240Z"
   },
   {
    "duration": 267,
    "start_time": "2022-03-21T07:39:19.615Z"
   },
   {
    "duration": 5,
    "start_time": "2022-03-21T07:39:19.885Z"
   },
   {
    "duration": 28,
    "start_time": "2022-03-21T07:39:19.891Z"
   },
   {
    "duration": 9,
    "start_time": "2022-03-21T07:39:19.921Z"
   },
   {
    "duration": 6,
    "start_time": "2022-03-21T07:39:19.932Z"
   },
   {
    "duration": 10,
    "start_time": "2022-03-21T07:39:19.940Z"
   },
   {
    "duration": 62,
    "start_time": "2022-03-21T07:39:19.952Z"
   },
   {
    "duration": 11,
    "start_time": "2022-03-21T07:39:20.016Z"
   },
   {
    "duration": 169326,
    "start_time": "2022-03-21T07:39:20.029Z"
   },
   {
    "duration": 1902,
    "start_time": "2022-03-21T07:42:09.356Z"
   },
   {
    "duration": 41784,
    "start_time": "2022-03-21T07:42:11.260Z"
   },
   {
    "duration": 29,
    "start_time": "2022-03-21T07:42:53.046Z"
   },
   {
    "duration": 41,
    "start_time": "2022-03-21T07:42:53.077Z"
   }
  ],
  "kernelspec": {
   "display_name": "Python 3 (ipykernel)",
   "language": "python",
   "name": "python3"
  },
  "language_info": {
   "codemirror_mode": {
    "name": "ipython",
    "version": 3
   },
   "file_extension": ".py",
   "mimetype": "text/x-python",
   "name": "python",
   "nbconvert_exporter": "python",
   "pygments_lexer": "ipython3",
   "version": "3.9.7"
  },
  "toc": {
   "base_numbering": 1,
   "nav_menu": {},
   "number_sections": true,
   "sideBar": true,
   "skip_h1_title": true,
   "title_cell": "Содержание",
   "title_sidebar": "Contents",
   "toc_cell": true,
   "toc_position": {},
   "toc_section_display": true,
   "toc_window_display": true
  }
 },
 "nbformat": 4,
 "nbformat_minor": 2
}
