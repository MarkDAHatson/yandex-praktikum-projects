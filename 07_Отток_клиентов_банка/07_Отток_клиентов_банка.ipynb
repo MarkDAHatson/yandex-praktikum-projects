{
 "cells": [
  {
   "cell_type": "markdown",
   "metadata": {},
   "source": [
    "# Отток клиентов"
   ]
  },
  {
   "cell_type": "markdown",
   "metadata": {},
   "source": [
    "Заказчик исследования - «Бета-Банк», откуда стали уходить клиенты. Клиенты уходят ежемесячно в небольших, но заметных количествах. Банковские маркетологи посчитали: сохранять текущих клиентов дешевле, чем привлекать новых. Входные данные от банка - данные о клиентах и их экономическом поведении, а также факты расторжения договоров с банком. Нужно спрогнозировать, уйдёт клиент из банка в ближайшее время или нет. О качестве данных ничего неизвестно, поэтому потребуется подготовка данных.\n",
    "\n",
    "Результаты исследования будут использованы заказчиком в коммерческих целях.\n",
    "\n",
    "**Цель исследования**: построить модель, прогнозирующую вероятный уход клиента от банковского обслуживания. \n",
    "\n",
    "Ход исследования: \n",
    "\n",
    "Входные данные от банка - статистика клиентов за некоторый промежуток времени. Перед анализом данные необходимо подготовить и проверить на возможные проблемы. Далее акцентируем внимание на построение качественной модели для предсказания возможности оттока клиентов. Качествой модели определится предельно большим значением *F1*-меры. Дополнительно измерим *AUC-ROC* и сравним со значением *F1*-меры. По необходимости избавимся от дисбаланса классов в данных. После построения модели необходимо будет провести тестирование на тестовой выборке.\n",
    "\n",
    "Таким образом, исследование пройдёт в 5 этапов:\n",
    "* 1. Изучение данных из файла.\n",
    "* 2. Подготовка данных.\n",
    "* 3. Исследование задачи.\n",
    "* 4. Борьба с дисбалансом.\n",
    "* 5. Тестирование модели.\n",
    "\n",
    "\n",
    "\n",
    "Источник данных: [https://www.kaggle.com/barelydedicated/bank-customer-churn-modeling](https://www.kaggle.com/barelydedicated/bank-customer-churn-modeling)"
   ]
  },
  {
   "cell_type": "markdown",
   "metadata": {},
   "source": [
    "## Изучение данных из файла"
   ]
  },
  {
   "cell_type": "markdown",
   "metadata": {},
   "source": [
    "Перед тем, как приступить к изучению данных из файла, импортируем все нужные для текущего исследования библиотеки и модули:"
   ]
  },
  {
   "cell_type": "code",
   "execution_count": 1,
   "metadata": {},
   "outputs": [],
   "source": [
    "import pandas as pd\n",
    "from sklearn.model_selection import train_test_split\n",
    "from sklearn.tree import DecisionTreeClassifier\n",
    "from sklearn.ensemble import RandomForestClassifier\n",
    "from sklearn.linear_model import LogisticRegression\n",
    "from sklearn.preprocessing import StandardScaler\n",
    "from sklearn.metrics import f1_score\n",
    "from sklearn.utils import shuffle\n",
    "from sklearn.metrics import roc_auc_score"
   ]
  },
  {
   "cell_type": "markdown",
   "metadata": {},
   "source": [
    "Также сохраним в начале исследования необходимые константные переменные:"
   ]
  },
  {
   "cell_type": "code",
   "execution_count": 2,
   "metadata": {},
   "outputs": [],
   "source": [
    "RANDOM_STATE = 2808"
   ]
  },
  {
   "cell_type": "markdown",
   "metadata": {},
   "source": [
    "Прочитаем полученные данные и сохраним их в таблице `df`, после чего выведем на экран первые 5 строк:"
   ]
  },
  {
   "cell_type": "code",
   "execution_count": 3,
   "metadata": {},
   "outputs": [
    {
     "data": {
      "text/html": [
       "<div>\n",
       "<style scoped>\n",
       "    .dataframe tbody tr th:only-of-type {\n",
       "        vertical-align: middle;\n",
       "    }\n",
       "\n",
       "    .dataframe tbody tr th {\n",
       "        vertical-align: top;\n",
       "    }\n",
       "\n",
       "    .dataframe thead th {\n",
       "        text-align: right;\n",
       "    }\n",
       "</style>\n",
       "<table border=\"1\" class=\"dataframe\">\n",
       "  <thead>\n",
       "    <tr style=\"text-align: right;\">\n",
       "      <th></th>\n",
       "      <th>RowNumber</th>\n",
       "      <th>CustomerId</th>\n",
       "      <th>Surname</th>\n",
       "      <th>CreditScore</th>\n",
       "      <th>Geography</th>\n",
       "      <th>Gender</th>\n",
       "      <th>Age</th>\n",
       "      <th>Tenure</th>\n",
       "      <th>Balance</th>\n",
       "      <th>NumOfProducts</th>\n",
       "      <th>HasCrCard</th>\n",
       "      <th>IsActiveMember</th>\n",
       "      <th>EstimatedSalary</th>\n",
       "      <th>Exited</th>\n",
       "    </tr>\n",
       "  </thead>\n",
       "  <tbody>\n",
       "    <tr>\n",
       "      <th>0</th>\n",
       "      <td>1</td>\n",
       "      <td>15634602</td>\n",
       "      <td>Hargrave</td>\n",
       "      <td>619</td>\n",
       "      <td>France</td>\n",
       "      <td>Female</td>\n",
       "      <td>42</td>\n",
       "      <td>2.0</td>\n",
       "      <td>0.00</td>\n",
       "      <td>1</td>\n",
       "      <td>1</td>\n",
       "      <td>1</td>\n",
       "      <td>101348.88</td>\n",
       "      <td>1</td>\n",
       "    </tr>\n",
       "    <tr>\n",
       "      <th>1</th>\n",
       "      <td>2</td>\n",
       "      <td>15647311</td>\n",
       "      <td>Hill</td>\n",
       "      <td>608</td>\n",
       "      <td>Spain</td>\n",
       "      <td>Female</td>\n",
       "      <td>41</td>\n",
       "      <td>1.0</td>\n",
       "      <td>83807.86</td>\n",
       "      <td>1</td>\n",
       "      <td>0</td>\n",
       "      <td>1</td>\n",
       "      <td>112542.58</td>\n",
       "      <td>0</td>\n",
       "    </tr>\n",
       "    <tr>\n",
       "      <th>2</th>\n",
       "      <td>3</td>\n",
       "      <td>15619304</td>\n",
       "      <td>Onio</td>\n",
       "      <td>502</td>\n",
       "      <td>France</td>\n",
       "      <td>Female</td>\n",
       "      <td>42</td>\n",
       "      <td>8.0</td>\n",
       "      <td>159660.80</td>\n",
       "      <td>3</td>\n",
       "      <td>1</td>\n",
       "      <td>0</td>\n",
       "      <td>113931.57</td>\n",
       "      <td>1</td>\n",
       "    </tr>\n",
       "    <tr>\n",
       "      <th>3</th>\n",
       "      <td>4</td>\n",
       "      <td>15701354</td>\n",
       "      <td>Boni</td>\n",
       "      <td>699</td>\n",
       "      <td>France</td>\n",
       "      <td>Female</td>\n",
       "      <td>39</td>\n",
       "      <td>1.0</td>\n",
       "      <td>0.00</td>\n",
       "      <td>2</td>\n",
       "      <td>0</td>\n",
       "      <td>0</td>\n",
       "      <td>93826.63</td>\n",
       "      <td>0</td>\n",
       "    </tr>\n",
       "    <tr>\n",
       "      <th>4</th>\n",
       "      <td>5</td>\n",
       "      <td>15737888</td>\n",
       "      <td>Mitchell</td>\n",
       "      <td>850</td>\n",
       "      <td>Spain</td>\n",
       "      <td>Female</td>\n",
       "      <td>43</td>\n",
       "      <td>2.0</td>\n",
       "      <td>125510.82</td>\n",
       "      <td>1</td>\n",
       "      <td>1</td>\n",
       "      <td>1</td>\n",
       "      <td>79084.10</td>\n",
       "      <td>0</td>\n",
       "    </tr>\n",
       "  </tbody>\n",
       "</table>\n",
       "</div>"
      ],
      "text/plain": [
       "   RowNumber  CustomerId   Surname  CreditScore Geography  Gender  Age  \\\n",
       "0          1    15634602  Hargrave          619    France  Female   42   \n",
       "1          2    15647311      Hill          608     Spain  Female   41   \n",
       "2          3    15619304      Onio          502    France  Female   42   \n",
       "3          4    15701354      Boni          699    France  Female   39   \n",
       "4          5    15737888  Mitchell          850     Spain  Female   43   \n",
       "\n",
       "   Tenure    Balance  NumOfProducts  HasCrCard  IsActiveMember  \\\n",
       "0     2.0       0.00              1          1               1   \n",
       "1     1.0   83807.86              1          0               1   \n",
       "2     8.0  159660.80              3          1               0   \n",
       "3     1.0       0.00              2          0               0   \n",
       "4     2.0  125510.82              1          1               1   \n",
       "\n",
       "   EstimatedSalary  Exited  \n",
       "0        101348.88       1  \n",
       "1        112542.58       0  \n",
       "2        113931.57       1  \n",
       "3         93826.63       0  \n",
       "4         79084.10       0  "
      ]
     },
     "execution_count": 3,
     "metadata": {},
     "output_type": "execute_result"
    }
   ],
   "source": [
    "df = pd.read_csv('/datasets/Churn.csv')\n",
    "df.head()"
   ]
  },
  {
   "cell_type": "markdown",
   "metadata": {},
   "source": [
    "Получим общую информацию о таблице:"
   ]
  },
  {
   "cell_type": "code",
   "execution_count": 4,
   "metadata": {},
   "outputs": [
    {
     "name": "stdout",
     "output_type": "stream",
     "text": [
      "<class 'pandas.core.frame.DataFrame'>\n",
      "RangeIndex: 10000 entries, 0 to 9999\n",
      "Data columns (total 14 columns):\n",
      " #   Column           Non-Null Count  Dtype  \n",
      "---  ------           --------------  -----  \n",
      " 0   RowNumber        10000 non-null  int64  \n",
      " 1   CustomerId       10000 non-null  int64  \n",
      " 2   Surname          10000 non-null  object \n",
      " 3   CreditScore      10000 non-null  int64  \n",
      " 4   Geography        10000 non-null  object \n",
      " 5   Gender           10000 non-null  object \n",
      " 6   Age              10000 non-null  int64  \n",
      " 7   Tenure           9091 non-null   float64\n",
      " 8   Balance          10000 non-null  float64\n",
      " 9   NumOfProducts    10000 non-null  int64  \n",
      " 10  HasCrCard        10000 non-null  int64  \n",
      " 11  IsActiveMember   10000 non-null  int64  \n",
      " 12  EstimatedSalary  10000 non-null  float64\n",
      " 13  Exited           10000 non-null  int64  \n",
      "dtypes: float64(3), int64(8), object(3)\n",
      "memory usage: 1.1+ MB\n"
     ]
    }
   ],
   "source": [
    "df.info()"
   ]
  },
  {
   "cell_type": "markdown",
   "metadata": {},
   "source": [
    "В таблице содержится  10000 наблюдений и 14 признаков. 8 признаков имеют тип данных `int`, 3 - `float`, 3 - `object`. Предварительно можно утверждать, что данных для построения модели достаточно. Согласно документации к данным:\n",
    "\n",
    "* `RowNumber` — индекс строки в данных;\n",
    "* `CustomerId` — уникальный идентификатор клиента;\n",
    "* `Surname` — фамилия;\n",
    "* `CreditScore` — кредитный рейтинг;\n",
    "* `Geography` — страна проживания;\n",
    "* `Gender` — пол;\n",
    "* `Age` — возраст;\n",
    "* `Tenure` — сколько лет человек является клиентом банка;\n",
    "* `Balance` — баланс на счёте;\n",
    "* `NumOfProducts` — количество продуктов банка, используемых клиентом;\n",
    "* `HasCrCard` — наличие кредитной карты;\n",
    "* `IsActiveMember` — активность клиента;\n",
    "* `EstimatedSalary` — предполагаемая зарплата;\n",
    "* `Exited` — факт ухода клиента\n",
    "\n",
    "Целевым признаком является `Exited` - факт ухода клиента. Замена типов данных не потребуется, однако у нас есть 3 признака с типом `object`, что потребует перекодирования. Также в названиях признаков использован не лучший регистр для языка Python, а также присутствует верхний регистр. Избавимся от этого позднее."
   ]
  },
  {
   "cell_type": "markdown",
   "metadata": {},
   "source": [
    "Посмотрим на корреляции в данных. Для этого применим специальный метод библиотеки `pandas`:"
   ]
  },
  {
   "cell_type": "code",
   "execution_count": 5,
   "metadata": {},
   "outputs": [
    {
     "data": {
      "text/html": [
       "<div>\n",
       "<style scoped>\n",
       "    .dataframe tbody tr th:only-of-type {\n",
       "        vertical-align: middle;\n",
       "    }\n",
       "\n",
       "    .dataframe tbody tr th {\n",
       "        vertical-align: top;\n",
       "    }\n",
       "\n",
       "    .dataframe thead th {\n",
       "        text-align: right;\n",
       "    }\n",
       "</style>\n",
       "<table border=\"1\" class=\"dataframe\">\n",
       "  <thead>\n",
       "    <tr style=\"text-align: right;\">\n",
       "      <th></th>\n",
       "      <th>RowNumber</th>\n",
       "      <th>CustomerId</th>\n",
       "      <th>CreditScore</th>\n",
       "      <th>Age</th>\n",
       "      <th>Tenure</th>\n",
       "      <th>Balance</th>\n",
       "      <th>NumOfProducts</th>\n",
       "      <th>HasCrCard</th>\n",
       "      <th>IsActiveMember</th>\n",
       "      <th>EstimatedSalary</th>\n",
       "      <th>Exited</th>\n",
       "    </tr>\n",
       "  </thead>\n",
       "  <tbody>\n",
       "    <tr>\n",
       "      <th>RowNumber</th>\n",
       "      <td>1.000000</td>\n",
       "      <td>0.004202</td>\n",
       "      <td>0.005840</td>\n",
       "      <td>0.000783</td>\n",
       "      <td>-0.007322</td>\n",
       "      <td>-0.009067</td>\n",
       "      <td>0.007246</td>\n",
       "      <td>0.000599</td>\n",
       "      <td>0.012044</td>\n",
       "      <td>-0.005988</td>\n",
       "      <td>-0.016571</td>\n",
       "    </tr>\n",
       "    <tr>\n",
       "      <th>CustomerId</th>\n",
       "      <td>0.004202</td>\n",
       "      <td>1.000000</td>\n",
       "      <td>0.005308</td>\n",
       "      <td>0.009497</td>\n",
       "      <td>-0.021418</td>\n",
       "      <td>-0.012419</td>\n",
       "      <td>0.016972</td>\n",
       "      <td>-0.014025</td>\n",
       "      <td>0.001665</td>\n",
       "      <td>0.015271</td>\n",
       "      <td>-0.006248</td>\n",
       "    </tr>\n",
       "    <tr>\n",
       "      <th>CreditScore</th>\n",
       "      <td>0.005840</td>\n",
       "      <td>0.005308</td>\n",
       "      <td>1.000000</td>\n",
       "      <td>-0.003965</td>\n",
       "      <td>-0.000062</td>\n",
       "      <td>0.006268</td>\n",
       "      <td>0.012238</td>\n",
       "      <td>-0.005458</td>\n",
       "      <td>0.025651</td>\n",
       "      <td>-0.001384</td>\n",
       "      <td>-0.027094</td>\n",
       "    </tr>\n",
       "    <tr>\n",
       "      <th>Age</th>\n",
       "      <td>0.000783</td>\n",
       "      <td>0.009497</td>\n",
       "      <td>-0.003965</td>\n",
       "      <td>1.000000</td>\n",
       "      <td>-0.013134</td>\n",
       "      <td>0.028308</td>\n",
       "      <td>-0.030680</td>\n",
       "      <td>-0.011721</td>\n",
       "      <td>0.085472</td>\n",
       "      <td>-0.007201</td>\n",
       "      <td>0.285323</td>\n",
       "    </tr>\n",
       "    <tr>\n",
       "      <th>Tenure</th>\n",
       "      <td>-0.007322</td>\n",
       "      <td>-0.021418</td>\n",
       "      <td>-0.000062</td>\n",
       "      <td>-0.013134</td>\n",
       "      <td>1.000000</td>\n",
       "      <td>-0.007911</td>\n",
       "      <td>0.011979</td>\n",
       "      <td>0.027232</td>\n",
       "      <td>-0.032178</td>\n",
       "      <td>0.010520</td>\n",
       "      <td>-0.016761</td>\n",
       "    </tr>\n",
       "    <tr>\n",
       "      <th>Balance</th>\n",
       "      <td>-0.009067</td>\n",
       "      <td>-0.012419</td>\n",
       "      <td>0.006268</td>\n",
       "      <td>0.028308</td>\n",
       "      <td>-0.007911</td>\n",
       "      <td>1.000000</td>\n",
       "      <td>-0.304180</td>\n",
       "      <td>-0.014858</td>\n",
       "      <td>-0.010084</td>\n",
       "      <td>0.012797</td>\n",
       "      <td>0.118533</td>\n",
       "    </tr>\n",
       "    <tr>\n",
       "      <th>NumOfProducts</th>\n",
       "      <td>0.007246</td>\n",
       "      <td>0.016972</td>\n",
       "      <td>0.012238</td>\n",
       "      <td>-0.030680</td>\n",
       "      <td>0.011979</td>\n",
       "      <td>-0.304180</td>\n",
       "      <td>1.000000</td>\n",
       "      <td>0.003183</td>\n",
       "      <td>0.009612</td>\n",
       "      <td>0.014204</td>\n",
       "      <td>-0.047820</td>\n",
       "    </tr>\n",
       "    <tr>\n",
       "      <th>HasCrCard</th>\n",
       "      <td>0.000599</td>\n",
       "      <td>-0.014025</td>\n",
       "      <td>-0.005458</td>\n",
       "      <td>-0.011721</td>\n",
       "      <td>0.027232</td>\n",
       "      <td>-0.014858</td>\n",
       "      <td>0.003183</td>\n",
       "      <td>1.000000</td>\n",
       "      <td>-0.011866</td>\n",
       "      <td>-0.009933</td>\n",
       "      <td>-0.007138</td>\n",
       "    </tr>\n",
       "    <tr>\n",
       "      <th>IsActiveMember</th>\n",
       "      <td>0.012044</td>\n",
       "      <td>0.001665</td>\n",
       "      <td>0.025651</td>\n",
       "      <td>0.085472</td>\n",
       "      <td>-0.032178</td>\n",
       "      <td>-0.010084</td>\n",
       "      <td>0.009612</td>\n",
       "      <td>-0.011866</td>\n",
       "      <td>1.000000</td>\n",
       "      <td>-0.011421</td>\n",
       "      <td>-0.156128</td>\n",
       "    </tr>\n",
       "    <tr>\n",
       "      <th>EstimatedSalary</th>\n",
       "      <td>-0.005988</td>\n",
       "      <td>0.015271</td>\n",
       "      <td>-0.001384</td>\n",
       "      <td>-0.007201</td>\n",
       "      <td>0.010520</td>\n",
       "      <td>0.012797</td>\n",
       "      <td>0.014204</td>\n",
       "      <td>-0.009933</td>\n",
       "      <td>-0.011421</td>\n",
       "      <td>1.000000</td>\n",
       "      <td>0.012097</td>\n",
       "    </tr>\n",
       "    <tr>\n",
       "      <th>Exited</th>\n",
       "      <td>-0.016571</td>\n",
       "      <td>-0.006248</td>\n",
       "      <td>-0.027094</td>\n",
       "      <td>0.285323</td>\n",
       "      <td>-0.016761</td>\n",
       "      <td>0.118533</td>\n",
       "      <td>-0.047820</td>\n",
       "      <td>-0.007138</td>\n",
       "      <td>-0.156128</td>\n",
       "      <td>0.012097</td>\n",
       "      <td>1.000000</td>\n",
       "    </tr>\n",
       "  </tbody>\n",
       "</table>\n",
       "</div>"
      ],
      "text/plain": [
       "                 RowNumber  CustomerId  CreditScore       Age    Tenure  \\\n",
       "RowNumber         1.000000    0.004202     0.005840  0.000783 -0.007322   \n",
       "CustomerId        0.004202    1.000000     0.005308  0.009497 -0.021418   \n",
       "CreditScore       0.005840    0.005308     1.000000 -0.003965 -0.000062   \n",
       "Age               0.000783    0.009497    -0.003965  1.000000 -0.013134   \n",
       "Tenure           -0.007322   -0.021418    -0.000062 -0.013134  1.000000   \n",
       "Balance          -0.009067   -0.012419     0.006268  0.028308 -0.007911   \n",
       "NumOfProducts     0.007246    0.016972     0.012238 -0.030680  0.011979   \n",
       "HasCrCard         0.000599   -0.014025    -0.005458 -0.011721  0.027232   \n",
       "IsActiveMember    0.012044    0.001665     0.025651  0.085472 -0.032178   \n",
       "EstimatedSalary  -0.005988    0.015271    -0.001384 -0.007201  0.010520   \n",
       "Exited           -0.016571   -0.006248    -0.027094  0.285323 -0.016761   \n",
       "\n",
       "                  Balance  NumOfProducts  HasCrCard  IsActiveMember  \\\n",
       "RowNumber       -0.009067       0.007246   0.000599        0.012044   \n",
       "CustomerId      -0.012419       0.016972  -0.014025        0.001665   \n",
       "CreditScore      0.006268       0.012238  -0.005458        0.025651   \n",
       "Age              0.028308      -0.030680  -0.011721        0.085472   \n",
       "Tenure          -0.007911       0.011979   0.027232       -0.032178   \n",
       "Balance          1.000000      -0.304180  -0.014858       -0.010084   \n",
       "NumOfProducts   -0.304180       1.000000   0.003183        0.009612   \n",
       "HasCrCard       -0.014858       0.003183   1.000000       -0.011866   \n",
       "IsActiveMember  -0.010084       0.009612  -0.011866        1.000000   \n",
       "EstimatedSalary  0.012797       0.014204  -0.009933       -0.011421   \n",
       "Exited           0.118533      -0.047820  -0.007138       -0.156128   \n",
       "\n",
       "                 EstimatedSalary    Exited  \n",
       "RowNumber              -0.005988 -0.016571  \n",
       "CustomerId              0.015271 -0.006248  \n",
       "CreditScore            -0.001384 -0.027094  \n",
       "Age                    -0.007201  0.285323  \n",
       "Tenure                  0.010520 -0.016761  \n",
       "Balance                 0.012797  0.118533  \n",
       "NumOfProducts           0.014204 -0.047820  \n",
       "HasCrCard              -0.009933 -0.007138  \n",
       "IsActiveMember         -0.011421 -0.156128  \n",
       "EstimatedSalary         1.000000  0.012097  \n",
       "Exited                  0.012097  1.000000  "
      ]
     },
     "execution_count": 5,
     "metadata": {},
     "output_type": "execute_result"
    }
   ],
   "source": [
    "df.corr()"
   ]
  },
  {
   "cell_type": "markdown",
   "metadata": {},
   "source": [
    "Факт ухода связан с возрастом, о чём говорит корреляция 0.285 - наиболее сильная зависимость на уход клиента. Также выявили, что чем больше баланс на счёте клиента, тем меньше продуктов банка он использует (корреляция -0.304)."
   ]
  },
  {
   "cell_type": "markdown",
   "metadata": {},
   "source": [
    "### Вывод"
   ]
  },
  {
   "cell_type": "markdown",
   "metadata": {},
   "source": [
    "В таблице имеются данные по 10000 клиентам \"Бета-Банка\". По каждому из них имеется набор признаков, как об общей информации, так и об экономической активности и факте ухода от услуг банка. Можно утверждать, что выборка достаточна для построения качественной модели. В данных выявлено 2 значимые корреляции: уход клиента от услуг банка и его возраст (0.285) и баланс на счёте клиента и количество используемых им продуктов банка (-0.304). Необходимо переходить к подготовке данных."
   ]
  },
  {
   "cell_type": "markdown",
   "metadata": {},
   "source": [
    "## Подготовка данных"
   ]
  },
  {
   "cell_type": "markdown",
   "metadata": {},
   "source": [
    "Изменим названия столбцов на нижний регистр, а также заменим пробелы в названиях переменных на нижнее подчеркивание:"
   ]
  },
  {
   "cell_type": "code",
   "execution_count": 6,
   "metadata": {},
   "outputs": [],
   "source": [
    "df.columns = ['row_number', 'customer_id', 'surname', 'credit_score', 'geography', 'gender',\n",
    "             'age', 'tenure', 'balance', 'num_of_products', 'has_cr_card', 'is_active_member',\n",
    "             'estimated_salary', 'exited']"
   ]
  },
  {
   "cell_type": "markdown",
   "metadata": {},
   "source": [
    "В таблице имеется признак `row_number`, который отвечает за индексацию наблюдений, однако при сохранении данных в переменной `df` индексация уже проставлена автоматически, поэтому можем избавиться от данного признака:"
   ]
  },
  {
   "cell_type": "code",
   "execution_count": 7,
   "metadata": {},
   "outputs": [],
   "source": [
    "df = df.drop(['row_number'], axis=1)"
   ]
  },
  {
   "cell_type": "markdown",
   "metadata": {},
   "source": [
    "Переменные типа `object` потребуют перекодирования, однако среди них есть переменная `surname`, перекодирование которой однозначно приведёт к появлению огромного количества ненужных столбцов, поэтому также исключим её из таблицы. Данное действие ни на что не повлияет. Также исключим переменную `customer_id`, которая не понадобится для модели машинного обучения, но может случайно искажать результаты."
   ]
  },
  {
   "cell_type": "code",
   "execution_count": 8,
   "metadata": {},
   "outputs": [],
   "source": [
    "df = df.drop(['surname', 'customer_id'], axis=1)"
   ]
  },
  {
   "cell_type": "markdown",
   "metadata": {},
   "source": [
    "Также в данных имеют пропуски, а именно - в переменной `Tenure`, отвечающая за то, сколько лет человек является клиентом банка. Изучим подробнее тех клиентов, у кого в данном признаке стоит `NA`:"
   ]
  },
  {
   "cell_type": "code",
   "execution_count": 9,
   "metadata": {},
   "outputs": [
    {
     "data": {
      "text/html": [
       "<div>\n",
       "<style scoped>\n",
       "    .dataframe tbody tr th:only-of-type {\n",
       "        vertical-align: middle;\n",
       "    }\n",
       "\n",
       "    .dataframe tbody tr th {\n",
       "        vertical-align: top;\n",
       "    }\n",
       "\n",
       "    .dataframe thead th {\n",
       "        text-align: right;\n",
       "    }\n",
       "</style>\n",
       "<table border=\"1\" class=\"dataframe\">\n",
       "  <thead>\n",
       "    <tr style=\"text-align: right;\">\n",
       "      <th></th>\n",
       "      <th>credit_score</th>\n",
       "      <th>geography</th>\n",
       "      <th>gender</th>\n",
       "      <th>age</th>\n",
       "      <th>tenure</th>\n",
       "      <th>balance</th>\n",
       "      <th>num_of_products</th>\n",
       "      <th>has_cr_card</th>\n",
       "      <th>is_active_member</th>\n",
       "      <th>estimated_salary</th>\n",
       "      <th>exited</th>\n",
       "    </tr>\n",
       "  </thead>\n",
       "  <tbody>\n",
       "    <tr>\n",
       "      <th>30</th>\n",
       "      <td>591</td>\n",
       "      <td>Spain</td>\n",
       "      <td>Female</td>\n",
       "      <td>39</td>\n",
       "      <td>NaN</td>\n",
       "      <td>0.00</td>\n",
       "      <td>3</td>\n",
       "      <td>1</td>\n",
       "      <td>0</td>\n",
       "      <td>140469.38</td>\n",
       "      <td>1</td>\n",
       "    </tr>\n",
       "    <tr>\n",
       "      <th>48</th>\n",
       "      <td>550</td>\n",
       "      <td>Germany</td>\n",
       "      <td>Male</td>\n",
       "      <td>38</td>\n",
       "      <td>NaN</td>\n",
       "      <td>103391.38</td>\n",
       "      <td>1</td>\n",
       "      <td>0</td>\n",
       "      <td>1</td>\n",
       "      <td>90878.13</td>\n",
       "      <td>0</td>\n",
       "    </tr>\n",
       "    <tr>\n",
       "      <th>51</th>\n",
       "      <td>585</td>\n",
       "      <td>Germany</td>\n",
       "      <td>Male</td>\n",
       "      <td>36</td>\n",
       "      <td>NaN</td>\n",
       "      <td>146050.97</td>\n",
       "      <td>2</td>\n",
       "      <td>0</td>\n",
       "      <td>0</td>\n",
       "      <td>86424.57</td>\n",
       "      <td>0</td>\n",
       "    </tr>\n",
       "    <tr>\n",
       "      <th>53</th>\n",
       "      <td>655</td>\n",
       "      <td>Germany</td>\n",
       "      <td>Male</td>\n",
       "      <td>41</td>\n",
       "      <td>NaN</td>\n",
       "      <td>125561.97</td>\n",
       "      <td>1</td>\n",
       "      <td>0</td>\n",
       "      <td>0</td>\n",
       "      <td>164040.94</td>\n",
       "      <td>1</td>\n",
       "    </tr>\n",
       "    <tr>\n",
       "      <th>60</th>\n",
       "      <td>742</td>\n",
       "      <td>Germany</td>\n",
       "      <td>Male</td>\n",
       "      <td>35</td>\n",
       "      <td>NaN</td>\n",
       "      <td>136857.00</td>\n",
       "      <td>1</td>\n",
       "      <td>0</td>\n",
       "      <td>0</td>\n",
       "      <td>84509.57</td>\n",
       "      <td>0</td>\n",
       "    </tr>\n",
       "    <tr>\n",
       "      <th>82</th>\n",
       "      <td>543</td>\n",
       "      <td>France</td>\n",
       "      <td>Female</td>\n",
       "      <td>36</td>\n",
       "      <td>NaN</td>\n",
       "      <td>0.00</td>\n",
       "      <td>2</td>\n",
       "      <td>0</td>\n",
       "      <td>0</td>\n",
       "      <td>26019.59</td>\n",
       "      <td>0</td>\n",
       "    </tr>\n",
       "    <tr>\n",
       "      <th>85</th>\n",
       "      <td>652</td>\n",
       "      <td>Spain</td>\n",
       "      <td>Female</td>\n",
       "      <td>75</td>\n",
       "      <td>NaN</td>\n",
       "      <td>0.00</td>\n",
       "      <td>2</td>\n",
       "      <td>1</td>\n",
       "      <td>1</td>\n",
       "      <td>114675.75</td>\n",
       "      <td>0</td>\n",
       "    </tr>\n",
       "    <tr>\n",
       "      <th>94</th>\n",
       "      <td>730</td>\n",
       "      <td>Spain</td>\n",
       "      <td>Male</td>\n",
       "      <td>42</td>\n",
       "      <td>NaN</td>\n",
       "      <td>0.00</td>\n",
       "      <td>2</td>\n",
       "      <td>0</td>\n",
       "      <td>1</td>\n",
       "      <td>85982.47</td>\n",
       "      <td>0</td>\n",
       "    </tr>\n",
       "  </tbody>\n",
       "</table>\n",
       "</div>"
      ],
      "text/plain": [
       "    credit_score geography  gender  age  tenure    balance  num_of_products  \\\n",
       "30           591     Spain  Female   39     NaN       0.00                3   \n",
       "48           550   Germany    Male   38     NaN  103391.38                1   \n",
       "51           585   Germany    Male   36     NaN  146050.97                2   \n",
       "53           655   Germany    Male   41     NaN  125561.97                1   \n",
       "60           742   Germany    Male   35     NaN  136857.00                1   \n",
       "82           543    France  Female   36     NaN       0.00                2   \n",
       "85           652     Spain  Female   75     NaN       0.00                2   \n",
       "94           730     Spain    Male   42     NaN       0.00                2   \n",
       "\n",
       "    has_cr_card  is_active_member  estimated_salary  exited  \n",
       "30            1                 0         140469.38       1  \n",
       "48            0                 1          90878.13       0  \n",
       "51            0                 0          86424.57       0  \n",
       "53            0                 0         164040.94       1  \n",
       "60            0                 0          84509.57       0  \n",
       "82            0                 0          26019.59       0  \n",
       "85            1                 1         114675.75       0  \n",
       "94            0                 1          85982.47       0  "
      ]
     },
     "execution_count": 9,
     "metadata": {},
     "output_type": "execute_result"
    }
   ],
   "source": [
    "df[df['tenure'].isna()].head(8)"
   ]
  },
  {
   "cell_type": "markdown",
   "metadata": {},
   "source": [
    "Как видно, значимых сходств у этих клиентов нет. Заполнять эти пропуски средним или медианой исказило бы результаты исследования, к тому же, у нас нет достоверной информации, почему эти пропуски появились. Предположим, что эти клиенты присоединились к банку недавно, поэтому они ещё не имеют такой информации. Следовательно, стоит заполнить пропуски нулями:"
   ]
  },
  {
   "cell_type": "code",
   "execution_count": 10,
   "metadata": {},
   "outputs": [],
   "source": [
    "df['tenure'] = df['tenure'].fillna(0)"
   ]
  },
  {
   "cell_type": "markdown",
   "metadata": {},
   "source": [
    "Теперь таблица находится в пригодном для построения модели виде, однако осталась нерешённой проблема с переменными типа `object`. Применим технику прямого кодирования One-Hot Encoding для двух переменных: `geography` и `gender`:"
   ]
  },
  {
   "cell_type": "code",
   "execution_count": 11,
   "metadata": {},
   "outputs": [],
   "source": [
    "#при помощи метода pandas перекодируем категориальные переменные и исключаем первый столбец во избежании дамми-ловушки\n",
    "df = pd.get_dummies(df, drop_first=True)"
   ]
  },
  {
   "cell_type": "markdown",
   "metadata": {},
   "source": [
    "Посмотрим, как теперь выглядит наша таблица. Для этого выведем на экран первые 3 строки:"
   ]
  },
  {
   "cell_type": "code",
   "execution_count": 12,
   "metadata": {},
   "outputs": [
    {
     "data": {
      "text/html": [
       "<div>\n",
       "<style scoped>\n",
       "    .dataframe tbody tr th:only-of-type {\n",
       "        vertical-align: middle;\n",
       "    }\n",
       "\n",
       "    .dataframe tbody tr th {\n",
       "        vertical-align: top;\n",
       "    }\n",
       "\n",
       "    .dataframe thead th {\n",
       "        text-align: right;\n",
       "    }\n",
       "</style>\n",
       "<table border=\"1\" class=\"dataframe\">\n",
       "  <thead>\n",
       "    <tr style=\"text-align: right;\">\n",
       "      <th></th>\n",
       "      <th>credit_score</th>\n",
       "      <th>age</th>\n",
       "      <th>tenure</th>\n",
       "      <th>balance</th>\n",
       "      <th>num_of_products</th>\n",
       "      <th>has_cr_card</th>\n",
       "      <th>is_active_member</th>\n",
       "      <th>estimated_salary</th>\n",
       "      <th>exited</th>\n",
       "      <th>geography_Germany</th>\n",
       "      <th>geography_Spain</th>\n",
       "      <th>gender_Male</th>\n",
       "    </tr>\n",
       "  </thead>\n",
       "  <tbody>\n",
       "    <tr>\n",
       "      <th>0</th>\n",
       "      <td>619</td>\n",
       "      <td>42</td>\n",
       "      <td>2.0</td>\n",
       "      <td>0.00</td>\n",
       "      <td>1</td>\n",
       "      <td>1</td>\n",
       "      <td>1</td>\n",
       "      <td>101348.88</td>\n",
       "      <td>1</td>\n",
       "      <td>0</td>\n",
       "      <td>0</td>\n",
       "      <td>0</td>\n",
       "    </tr>\n",
       "    <tr>\n",
       "      <th>1</th>\n",
       "      <td>608</td>\n",
       "      <td>41</td>\n",
       "      <td>1.0</td>\n",
       "      <td>83807.86</td>\n",
       "      <td>1</td>\n",
       "      <td>0</td>\n",
       "      <td>1</td>\n",
       "      <td>112542.58</td>\n",
       "      <td>0</td>\n",
       "      <td>0</td>\n",
       "      <td>1</td>\n",
       "      <td>0</td>\n",
       "    </tr>\n",
       "    <tr>\n",
       "      <th>2</th>\n",
       "      <td>502</td>\n",
       "      <td>42</td>\n",
       "      <td>8.0</td>\n",
       "      <td>159660.80</td>\n",
       "      <td>3</td>\n",
       "      <td>1</td>\n",
       "      <td>0</td>\n",
       "      <td>113931.57</td>\n",
       "      <td>1</td>\n",
       "      <td>0</td>\n",
       "      <td>0</td>\n",
       "      <td>0</td>\n",
       "    </tr>\n",
       "  </tbody>\n",
       "</table>\n",
       "</div>"
      ],
      "text/plain": [
       "   credit_score  age  tenure    balance  num_of_products  has_cr_card  \\\n",
       "0           619   42     2.0       0.00                1            1   \n",
       "1           608   41     1.0   83807.86                1            0   \n",
       "2           502   42     8.0  159660.80                3            1   \n",
       "\n",
       "   is_active_member  estimated_salary  exited  geography_Germany  \\\n",
       "0                 1         101348.88       1                  0   \n",
       "1                 1         112542.58       0                  0   \n",
       "2                 0         113931.57       1                  0   \n",
       "\n",
       "   geography_Spain  gender_Male  \n",
       "0                0            0  \n",
       "1                1            0  \n",
       "2                0            0  "
      ]
     },
     "execution_count": 12,
     "metadata": {},
     "output_type": "execute_result"
    }
   ],
   "source": [
    "df.head(3)"
   ]
  },
  {
   "cell_type": "markdown",
   "metadata": {},
   "source": [
    "Как видно, метод библиотеки разбил переменные `geography` и `gender` на несколько других признаков, а у нас не осталось в таблице категориальных переменных - всё, как и было необходимо."
   ]
  },
  {
   "cell_type": "markdown",
   "metadata": {},
   "source": [
    "### Вывод"
   ]
  },
  {
   "cell_type": "markdown",
   "metadata": {},
   "source": [
    "На этапе подготовке данных мы привели столбцы в нужный регистр, избавились от ненужных для модели машинного обучения признаков. Также заполнили пропуски в признаке `tenure` нулями во избежании искажения результатов исследования. Категориальные переменные были перекодирования методом One-Hot Encoding, в результате чего в таблице появились дополнительные признаки, но исчезли категориальные переменные. Далее можем переходить к исследованию задачи исследования."
   ]
  },
  {
   "cell_type": "markdown",
   "metadata": {},
   "source": [
    "## Исследование задачи"
   ]
  },
  {
   "cell_type": "markdown",
   "metadata": {},
   "source": [
    "В наших данных возможен дисбаланс классов: тех, кто покинул банк, существенно меньше, чем тех, кто банк не покидал - это обычная ситуация, свойственная для большего периода времени существования банка. Однако, для начала попробуем построить модель без учёта этого дисбаланса, а исследуем его позже. "
   ]
  },
  {
   "cell_type": "markdown",
   "metadata": {},
   "source": [
    "Разобьём наши данные на 3 выборки: обучающую, валидационную и тестовую в пропорции 3:1:1. Перед этим разделим наши признаки на целевой и те, которые будут влиять на целевой признак: "
   ]
  },
  {
   "cell_type": "code",
   "execution_count": 13,
   "metadata": {},
   "outputs": [],
   "source": [
    "features = df.drop('exited', axis=1)\n",
    "target = df['exited']\n",
    "\n",
    "#разбиваем features и target на три выборки в пропорции 60%:20%:20% и заданным случайное значение RANDOM_STATE\n",
    "features_train, features_valid, target_train, target_valid = train_test_split(features, target, \n",
    "                                                                              test_size=0.2, random_state=RANDOM_STATE)\n",
    "features_train, features_test, target_train, target_test = train_test_split(features_train, target_train, \n",
    "                                                                              test_size=0.25, random_state=RANDOM_STATE)"
   ]
  },
  {
   "cell_type": "markdown",
   "metadata": {},
   "source": [
    "Удостоверимся, корректными ли получились размеры наших выборок:"
   ]
  },
  {
   "cell_type": "code",
   "execution_count": 14,
   "metadata": {},
   "outputs": [
    {
     "name": "stdout",
     "output_type": "stream",
     "text": [
      "Размер обучающей выборки равен: (6000,)\n",
      "Размер валидационной выборки равен: (2000,)\n",
      "Размер тестовой выборки равен: (2000,)\n"
     ]
    }
   ],
   "source": [
    "print('Размер обучающей выборки равен:', target_train.shape)\n",
    "print('Размер валидационной выборки равен:', target_valid.shape)\n",
    "print('Размер тестовой выборки равен:', target_test.shape)"
   ]
  },
  {
   "cell_type": "markdown",
   "metadata": {},
   "source": [
    "Теперь необходимо исследовать различные модели и понять, какая из них окажется наиболее оптимальной для исследования. Нам предстоит выбрать подходящую модель классификации из трёх вариантов: дерево решений, лес решений, логистическая регрессия. Начнём построение моделей с дерева решений. Для этого воспользуемся специальным модулем библиотеки `sklearn`. Чтобы понять, какая глубина будет для дерева оптимальной, применим цикл:"
   ]
  },
  {
   "cell_type": "code",
   "execution_count": 15,
   "metadata": {},
   "outputs": [
    {
     "name": "stdout",
     "output_type": "stream",
     "text": [
      "Наилучшее дерево решений имеет глубину: 9 и её f1-мера составляет: 0.5626666666666668\n"
     ]
    }
   ],
   "source": [
    "#зададим нулевые гиперпараметры для лучшей модели, максимальной глубины дерева и лучшего accuracy_score\n",
    "best_model_tree = None\n",
    "best_depth_tree = 0\n",
    "best_result_tree = 0\n",
    "#с помощью цикла переберём модели по глубине дерева и выявим наилучшую по f1-мере\n",
    "for depth in range(1, 20):\n",
    "    model = DecisionTreeClassifier(random_state=RANDOM_STATE, max_depth=depth)\n",
    "    model.fit(features_train, target_train)\n",
    "    predictions = model.predict(features_valid)\n",
    "    result = f1_score(target_valid, predictions)\n",
    "    #наилучшую модель сохраняем\n",
    "    if result > best_result_tree:\n",
    "        best_model_tree = model\n",
    "        best_depth_tree = depth\n",
    "        best_result_tree = result\n",
    "print('Наилучшее дерево решений имеет глубину:', best_depth_tree, \"и её f1-мера составляет:\", best_result_tree)"
   ]
  },
  {
   "cell_type": "markdown",
   "metadata": {},
   "source": [
    "Наиболее оптимальное дерево получилось с глубиной 9 и f1-мерой в 0.562. В целом, это результат можно считать средним, однако выводы о качестве модели достаточно рано, ведь нужно проверить также другие варианты. Обратимся к лесу решений:"
   ]
  },
  {
   "cell_type": "code",
   "execution_count": 16,
   "metadata": {},
   "outputs": [
    {
     "name": "stderr",
     "output_type": "stream",
     "text": [
      "/opt/conda/lib/python3.7/site-packages/sklearn/metrics/classification.py:1437: UndefinedMetricWarning: F-score is ill-defined and being set to 0.0 due to no predicted samples.\n",
      "  'precision', 'predicted', average, warn_for)\n",
      "/opt/conda/lib/python3.7/site-packages/sklearn/metrics/classification.py:1437: UndefinedMetricWarning: F-score is ill-defined and being set to 0.0 due to no predicted samples.\n",
      "  'precision', 'predicted', average, warn_for)\n",
      "/opt/conda/lib/python3.7/site-packages/sklearn/metrics/classification.py:1437: UndefinedMetricWarning: F-score is ill-defined and being set to 0.0 due to no predicted samples.\n",
      "  'precision', 'predicted', average, warn_for)\n",
      "/opt/conda/lib/python3.7/site-packages/sklearn/metrics/classification.py:1437: UndefinedMetricWarning: F-score is ill-defined and being set to 0.0 due to no predicted samples.\n",
      "  'precision', 'predicted', average, warn_for)\n",
      "/opt/conda/lib/python3.7/site-packages/sklearn/metrics/classification.py:1437: UndefinedMetricWarning: F-score is ill-defined and being set to 0.0 due to no predicted samples.\n",
      "  'precision', 'predicted', average, warn_for)\n",
      "/opt/conda/lib/python3.7/site-packages/sklearn/metrics/classification.py:1437: UndefinedMetricWarning: F-score is ill-defined and being set to 0.0 due to no predicted samples.\n",
      "  'precision', 'predicted', average, warn_for)\n",
      "/opt/conda/lib/python3.7/site-packages/sklearn/metrics/classification.py:1437: UndefinedMetricWarning: F-score is ill-defined and being set to 0.0 due to no predicted samples.\n",
      "  'precision', 'predicted', average, warn_for)\n",
      "/opt/conda/lib/python3.7/site-packages/sklearn/metrics/classification.py:1437: UndefinedMetricWarning: F-score is ill-defined and being set to 0.0 due to no predicted samples.\n",
      "  'precision', 'predicted', average, warn_for)\n",
      "/opt/conda/lib/python3.7/site-packages/sklearn/metrics/classification.py:1437: UndefinedMetricWarning: F-score is ill-defined and being set to 0.0 due to no predicted samples.\n",
      "  'precision', 'predicted', average, warn_for)\n",
      "/opt/conda/lib/python3.7/site-packages/sklearn/metrics/classification.py:1437: UndefinedMetricWarning: F-score is ill-defined and being set to 0.0 due to no predicted samples.\n",
      "  'precision', 'predicted', average, warn_for)\n",
      "/opt/conda/lib/python3.7/site-packages/sklearn/metrics/classification.py:1437: UndefinedMetricWarning: F-score is ill-defined and being set to 0.0 due to no predicted samples.\n",
      "  'precision', 'predicted', average, warn_for)\n",
      "/opt/conda/lib/python3.7/site-packages/sklearn/metrics/classification.py:1437: UndefinedMetricWarning: F-score is ill-defined and being set to 0.0 due to no predicted samples.\n",
      "  'precision', 'predicted', average, warn_for)\n",
      "/opt/conda/lib/python3.7/site-packages/sklearn/metrics/classification.py:1437: UndefinedMetricWarning: F-score is ill-defined and being set to 0.0 due to no predicted samples.\n",
      "  'precision', 'predicted', average, warn_for)\n",
      "/opt/conda/lib/python3.7/site-packages/sklearn/metrics/classification.py:1437: UndefinedMetricWarning: F-score is ill-defined and being set to 0.0 due to no predicted samples.\n",
      "  'precision', 'predicted', average, warn_for)\n",
      "/opt/conda/lib/python3.7/site-packages/sklearn/metrics/classification.py:1437: UndefinedMetricWarning: F-score is ill-defined and being set to 0.0 due to no predicted samples.\n",
      "  'precision', 'predicted', average, warn_for)\n",
      "/opt/conda/lib/python3.7/site-packages/sklearn/metrics/classification.py:1437: UndefinedMetricWarning: F-score is ill-defined and being set to 0.0 due to no predicted samples.\n",
      "  'precision', 'predicted', average, warn_for)\n",
      "/opt/conda/lib/python3.7/site-packages/sklearn/metrics/classification.py:1437: UndefinedMetricWarning: F-score is ill-defined and being set to 0.0 due to no predicted samples.\n",
      "  'precision', 'predicted', average, warn_for)\n",
      "/opt/conda/lib/python3.7/site-packages/sklearn/metrics/classification.py:1437: UndefinedMetricWarning: F-score is ill-defined and being set to 0.0 due to no predicted samples.\n",
      "  'precision', 'predicted', average, warn_for)\n",
      "/opt/conda/lib/python3.7/site-packages/sklearn/metrics/classification.py:1437: UndefinedMetricWarning: F-score is ill-defined and being set to 0.0 due to no predicted samples.\n",
      "  'precision', 'predicted', average, warn_for)\n",
      "/opt/conda/lib/python3.7/site-packages/sklearn/metrics/classification.py:1437: UndefinedMetricWarning: F-score is ill-defined and being set to 0.0 due to no predicted samples.\n",
      "  'precision', 'predicted', average, warn_for)\n",
      "/opt/conda/lib/python3.7/site-packages/sklearn/metrics/classification.py:1437: UndefinedMetricWarning: F-score is ill-defined and being set to 0.0 due to no predicted samples.\n",
      "  'precision', 'predicted', average, warn_for)\n",
      "/opt/conda/lib/python3.7/site-packages/sklearn/metrics/classification.py:1437: UndefinedMetricWarning: F-score is ill-defined and being set to 0.0 due to no predicted samples.\n",
      "  'precision', 'predicted', average, warn_for)\n",
      "/opt/conda/lib/python3.7/site-packages/sklearn/metrics/classification.py:1437: UndefinedMetricWarning: F-score is ill-defined and being set to 0.0 due to no predicted samples.\n",
      "  'precision', 'predicted', average, warn_for)\n",
      "/opt/conda/lib/python3.7/site-packages/sklearn/metrics/classification.py:1437: UndefinedMetricWarning: F-score is ill-defined and being set to 0.0 due to no predicted samples.\n",
      "  'precision', 'predicted', average, warn_for)\n",
      "/opt/conda/lib/python3.7/site-packages/sklearn/metrics/classification.py:1437: UndefinedMetricWarning: F-score is ill-defined and being set to 0.0 due to no predicted samples.\n",
      "  'precision', 'predicted', average, warn_for)\n",
      "/opt/conda/lib/python3.7/site-packages/sklearn/metrics/classification.py:1437: UndefinedMetricWarning: F-score is ill-defined and being set to 0.0 due to no predicted samples.\n",
      "  'precision', 'predicted', average, warn_for)\n",
      "/opt/conda/lib/python3.7/site-packages/sklearn/metrics/classification.py:1437: UndefinedMetricWarning: F-score is ill-defined and being set to 0.0 due to no predicted samples.\n",
      "  'precision', 'predicted', average, warn_for)\n",
      "/opt/conda/lib/python3.7/site-packages/sklearn/metrics/classification.py:1437: UndefinedMetricWarning: F-score is ill-defined and being set to 0.0 due to no predicted samples.\n",
      "  'precision', 'predicted', average, warn_for)\n",
      "/opt/conda/lib/python3.7/site-packages/sklearn/metrics/classification.py:1437: UndefinedMetricWarning: F-score is ill-defined and being set to 0.0 due to no predicted samples.\n",
      "  'precision', 'predicted', average, warn_for)\n",
      "/opt/conda/lib/python3.7/site-packages/sklearn/metrics/classification.py:1437: UndefinedMetricWarning: F-score is ill-defined and being set to 0.0 due to no predicted samples.\n",
      "  'precision', 'predicted', average, warn_for)\n",
      "/opt/conda/lib/python3.7/site-packages/sklearn/metrics/classification.py:1437: UndefinedMetricWarning: F-score is ill-defined and being set to 0.0 due to no predicted samples.\n",
      "  'precision', 'predicted', average, warn_for)\n",
      "/opt/conda/lib/python3.7/site-packages/sklearn/metrics/classification.py:1437: UndefinedMetricWarning: F-score is ill-defined and being set to 0.0 due to no predicted samples.\n",
      "  'precision', 'predicted', average, warn_for)\n",
      "/opt/conda/lib/python3.7/site-packages/sklearn/metrics/classification.py:1437: UndefinedMetricWarning: F-score is ill-defined and being set to 0.0 due to no predicted samples.\n",
      "  'precision', 'predicted', average, warn_for)\n",
      "/opt/conda/lib/python3.7/site-packages/sklearn/metrics/classification.py:1437: UndefinedMetricWarning: F-score is ill-defined and being set to 0.0 due to no predicted samples.\n",
      "  'precision', 'predicted', average, warn_for)\n",
      "/opt/conda/lib/python3.7/site-packages/sklearn/metrics/classification.py:1437: UndefinedMetricWarning: F-score is ill-defined and being set to 0.0 due to no predicted samples.\n",
      "  'precision', 'predicted', average, warn_for)\n",
      "/opt/conda/lib/python3.7/site-packages/sklearn/metrics/classification.py:1437: UndefinedMetricWarning: F-score is ill-defined and being set to 0.0 due to no predicted samples.\n",
      "  'precision', 'predicted', average, warn_for)\n",
      "/opt/conda/lib/python3.7/site-packages/sklearn/metrics/classification.py:1437: UndefinedMetricWarning: F-score is ill-defined and being set to 0.0 due to no predicted samples.\n",
      "  'precision', 'predicted', average, warn_for)\n",
      "/opt/conda/lib/python3.7/site-packages/sklearn/metrics/classification.py:1437: UndefinedMetricWarning: F-score is ill-defined and being set to 0.0 due to no predicted samples.\n",
      "  'precision', 'predicted', average, warn_for)\n",
      "/opt/conda/lib/python3.7/site-packages/sklearn/metrics/classification.py:1437: UndefinedMetricWarning: F-score is ill-defined and being set to 0.0 due to no predicted samples.\n",
      "  'precision', 'predicted', average, warn_for)\n",
      "/opt/conda/lib/python3.7/site-packages/sklearn/metrics/classification.py:1437: UndefinedMetricWarning: F-score is ill-defined and being set to 0.0 due to no predicted samples.\n",
      "  'precision', 'predicted', average, warn_for)\n",
      "/opt/conda/lib/python3.7/site-packages/sklearn/metrics/classification.py:1437: UndefinedMetricWarning: F-score is ill-defined and being set to 0.0 due to no predicted samples.\n",
      "  'precision', 'predicted', average, warn_for)\n",
      "/opt/conda/lib/python3.7/site-packages/sklearn/metrics/classification.py:1437: UndefinedMetricWarning: F-score is ill-defined and being set to 0.0 due to no predicted samples.\n",
      "  'precision', 'predicted', average, warn_for)\n",
      "/opt/conda/lib/python3.7/site-packages/sklearn/metrics/classification.py:1437: UndefinedMetricWarning: F-score is ill-defined and being set to 0.0 due to no predicted samples.\n",
      "  'precision', 'predicted', average, warn_for)\n",
      "/opt/conda/lib/python3.7/site-packages/sklearn/metrics/classification.py:1437: UndefinedMetricWarning: F-score is ill-defined and being set to 0.0 due to no predicted samples.\n",
      "  'precision', 'predicted', average, warn_for)\n",
      "/opt/conda/lib/python3.7/site-packages/sklearn/metrics/classification.py:1437: UndefinedMetricWarning: F-score is ill-defined and being set to 0.0 due to no predicted samples.\n",
      "  'precision', 'predicted', average, warn_for)\n",
      "/opt/conda/lib/python3.7/site-packages/sklearn/metrics/classification.py:1437: UndefinedMetricWarning: F-score is ill-defined and being set to 0.0 due to no predicted samples.\n",
      "  'precision', 'predicted', average, warn_for)\n",
      "/opt/conda/lib/python3.7/site-packages/sklearn/metrics/classification.py:1437: UndefinedMetricWarning: F-score is ill-defined and being set to 0.0 due to no predicted samples.\n",
      "  'precision', 'predicted', average, warn_for)\n",
      "/opt/conda/lib/python3.7/site-packages/sklearn/metrics/classification.py:1437: UndefinedMetricWarning: F-score is ill-defined and being set to 0.0 due to no predicted samples.\n",
      "  'precision', 'predicted', average, warn_for)\n",
      "/opt/conda/lib/python3.7/site-packages/sklearn/metrics/classification.py:1437: UndefinedMetricWarning: F-score is ill-defined and being set to 0.0 due to no predicted samples.\n",
      "  'precision', 'predicted', average, warn_for)\n",
      "/opt/conda/lib/python3.7/site-packages/sklearn/metrics/classification.py:1437: UndefinedMetricWarning: F-score is ill-defined and being set to 0.0 due to no predicted samples.\n",
      "  'precision', 'predicted', average, warn_for)\n",
      "/opt/conda/lib/python3.7/site-packages/sklearn/metrics/classification.py:1437: UndefinedMetricWarning: F-score is ill-defined and being set to 0.0 due to no predicted samples.\n",
      "  'precision', 'predicted', average, warn_for)\n",
      "/opt/conda/lib/python3.7/site-packages/sklearn/metrics/classification.py:1437: UndefinedMetricWarning: F-score is ill-defined and being set to 0.0 due to no predicted samples.\n",
      "  'precision', 'predicted', average, warn_for)\n",
      "/opt/conda/lib/python3.7/site-packages/sklearn/metrics/classification.py:1437: UndefinedMetricWarning: F-score is ill-defined and being set to 0.0 due to no predicted samples.\n",
      "  'precision', 'predicted', average, warn_for)\n",
      "/opt/conda/lib/python3.7/site-packages/sklearn/metrics/classification.py:1437: UndefinedMetricWarning: F-score is ill-defined and being set to 0.0 due to no predicted samples.\n",
      "  'precision', 'predicted', average, warn_for)\n",
      "/opt/conda/lib/python3.7/site-packages/sklearn/metrics/classification.py:1437: UndefinedMetricWarning: F-score is ill-defined and being set to 0.0 due to no predicted samples.\n",
      "  'precision', 'predicted', average, warn_for)\n",
      "/opt/conda/lib/python3.7/site-packages/sklearn/metrics/classification.py:1437: UndefinedMetricWarning: F-score is ill-defined and being set to 0.0 due to no predicted samples.\n",
      "  'precision', 'predicted', average, warn_for)\n",
      "/opt/conda/lib/python3.7/site-packages/sklearn/metrics/classification.py:1437: UndefinedMetricWarning: F-score is ill-defined and being set to 0.0 due to no predicted samples.\n",
      "  'precision', 'predicted', average, warn_for)\n",
      "/opt/conda/lib/python3.7/site-packages/sklearn/metrics/classification.py:1437: UndefinedMetricWarning: F-score is ill-defined and being set to 0.0 due to no predicted samples.\n",
      "  'precision', 'predicted', average, warn_for)\n"
     ]
    },
    {
     "name": "stdout",
     "output_type": "stream",
     "text": [
      "Наилучший лес решений имеет глубину: 11 , критерий: entropy , число деревьев: 17 и его f1-мера составляет: 0.5897810218978102\n"
     ]
    }
   ],
   "source": [
    "#зададим нулевые гиперпараметры для лучшей модели, максимальной глубины каждого дерева, критерия, количества деревьев и f1-меры\n",
    "best_model_forest = None\n",
    "best_depth_forest = 0\n",
    "best_result_forest = 0\n",
    "best_est_forest = 0\n",
    "best_criterion_forest = None\n",
    "#с помощью вложенного цикла переберём различные гиперпараметры и выявим наилучшую модель по f1-мере\n",
    "for crit in ['gini', 'entropy']:\n",
    "    for est in range(1, 30):\n",
    "        for depth in range(1, 12):\n",
    "            model = RandomForestClassifier(random_state=RANDOM_STATE, criterion=crit,\n",
    "                                          max_depth=depth, n_estimators=est)\n",
    "            model.fit(features_train, target_train)\n",
    "            predictions = model.predict(features_valid)\n",
    "            result = f1_score(target_valid, predictions)\n",
    "            #наилучшую модель сохраняем\n",
    "            if result > best_result_forest:\n",
    "                best_model_forest = model\n",
    "                best_depth_forest = depth\n",
    "                best_result_forest = result\n",
    "                best_est_forest = est\n",
    "                best_criterion_forest = crit\n",
    "print('Наилучший лес решений имеет глубину:', best_depth_forest,',', 'критерий:', best_criterion_forest,',', 'число деревьев:',\n",
    "     best_est_forest, 'и его f1-мера составляет:', best_result_forest)"
   ]
  },
  {
   "cell_type": "markdown",
   "metadata": {},
   "source": [
    "Получили, что для леса решений максимальная глубина каждого дерева составляет 11, деревьев 17 и критерий используется энтропический. При этом, f1-мера у леса оказывается выше, чем у дерева решений: 0.589, однако разница не слишком существена. Остаётся проверить только модель логистической регрессии:"
   ]
  },
  {
   "cell_type": "code",
   "execution_count": 17,
   "metadata": {},
   "outputs": [
    {
     "name": "stdout",
     "output_type": "stream",
     "text": [
      "Модель логистической регрессии имеет f1-меру: 0.1273100616016427\n"
     ]
    }
   ],
   "source": [
    "model = LogisticRegression(random_state=RANDOM_STATE, solver='lbfgs')\n",
    "model.fit(features_train, target_train)\n",
    "predictions = model.predict(features_valid)\n",
    "result = f1_score(target_valid, predictions)\n",
    "print('Модель логистической регрессии имеет f1-меру:', result)"
   ]
  },
  {
   "cell_type": "markdown",
   "metadata": {},
   "source": [
    "Логистическая регрессия показала самые слабые результаты, f1-мера составила 0.127. "
   ]
  },
  {
   "cell_type": "markdown",
   "metadata": {},
   "source": [
    "### Вывод"
   ]
  },
  {
   "cell_type": "markdown",
   "metadata": {},
   "source": [
    "На этапе построения модели без учёта дисбаланса классов построили 3 различные модели и по каждой измерили f1-меру:\n",
    "\n",
    "* Дерево решений с глубиной 9: f1-мера 0.562\n",
    "* Лес решений с глубиной каждого дерева 11, количеством деревьев 17 и критерием энтропии: f1-мера 0.589\n",
    "* Логистическая регрессия: f1-мера 0.127\n",
    "\n",
    "Следовательно, на данном этапе наилучшей оказалась модель леса решений, однако дерево решений получило практически те же результаты. Логистическая регрессия оказалась самой слабой моделью. Продолжим работу над моделями и постараемся улучшить их качество при помощи борьбы с дисбалансом классов и иных возможностей."
   ]
  },
  {
   "cell_type": "markdown",
   "metadata": {},
   "source": [
    "## Борьба с дисбалансом"
   ]
  },
  {
   "cell_type": "markdown",
   "metadata": {},
   "source": [
    "Улучшим качество моделей, учитывая дисбаланс классов. Сначала необходимо посмотреть, что из себя представляет этот дисбаланс:"
   ]
  },
  {
   "cell_type": "code",
   "execution_count": 18,
   "metadata": {},
   "outputs": [
    {
     "name": "stdout",
     "output_type": "stream",
     "text": [
      "Количество клиентов, не покинувших банк: 7963\n",
      "Количество клиентов, покинувших банк: 2037\n"
     ]
    }
   ],
   "source": [
    "print('Количество клиентов, не покинувших банк:', df[df['exited'] == 0]['exited'].count())\n",
    "print('Количество клиентов, покинувших банк:', df[df['exited'] == 1]['exited'].count())"
   ]
  },
  {
   "cell_type": "markdown",
   "metadata": {},
   "source": [
    "Видно, что клиентов, которые покинули банк, сильно меньше, чем тех, кто остался его клиентов - практически в 4 раза. Данная пропорция заставляет нас делать вывод о наличии дисбаланса классов. Воспользуемся техникой upsampling, которая искусственно увеличит количество тех, кто покинул банк - это улучшит качество построенных моделей. Напишем функцию, которая позволит это осуществить:"
   ]
  },
  {
   "cell_type": "code",
   "execution_count": 19,
   "metadata": {},
   "outputs": [],
   "source": [
    "def upsample(features, target, repeat):\n",
    "    features_zeros = features[target == 0]\n",
    "    features_ones = features[target == 1]\n",
    "    target_zeros = target[target == 0]\n",
    "    target_ones = target[target == 1]\n",
    "\n",
    "    features_upsampled = pd.concat([features_zeros] + [features_ones] * repeat)\n",
    "    target_upsampled = pd.concat([target_zeros] + [target_ones] * repeat)\n",
    "    \n",
    "    features_upsampled, target_upsampled = shuffle(\n",
    "        features_upsampled, target_upsampled, random_state=RANDOM_STATE)\n",
    "    \n",
    "    return features_upsampled, target_upsampled"
   ]
  },
  {
   "cell_type": "markdown",
   "metadata": {},
   "source": [
    "Теперь вызовем эту функцию и увеличим количество клиентов, покинувших банк, в 3 раза, чтобы приблизиться к количество тех, кто банк не оставил, но при этом не делать это число существенно выше:"
   ]
  },
  {
   "cell_type": "code",
   "execution_count": 20,
   "metadata": {},
   "outputs": [],
   "source": [
    "features_upsampled, target_upsampled = upsample(features_train, target_train, 3)"
   ]
  },
  {
   "cell_type": "markdown",
   "metadata": {},
   "source": [
    "Теперь можем обратиться к построенным моделям вновь и увидеть, как изменилось их качество с учётом поверженного дисбаланса классов. Начнём с дерева решений с заранее подобранными под него параметрами:"
   ]
  },
  {
   "cell_type": "code",
   "execution_count": 21,
   "metadata": {},
   "outputs": [
    {
     "name": "stdout",
     "output_type": "stream",
     "text": [
      "Наилучшее дерево решений имеет f1-меру: 0.5626666666666668\n"
     ]
    }
   ],
   "source": [
    "model = DecisionTreeClassifier(random_state=RANDOM_STATE, max_depth=7)\n",
    "model.fit(features_upsampled, target_upsampled)\n",
    "predictions = model.predict(features_valid)\n",
    "result = f1_score(target_valid, predictions)\n",
    "print('Наилучшее дерево решений имеет f1-меру:', best_result_tree)"
   ]
  },
  {
   "cell_type": "markdown",
   "metadata": {},
   "source": [
    "Как видно, f1-мера дерева решений совсем не изменилась после того, как мы ввели баланс классов. Результат остался на том же уровне - 0.562. Проверим, отреагирует ли на изменение дерево решений:"
   ]
  },
  {
   "cell_type": "code",
   "execution_count": 22,
   "metadata": {},
   "outputs": [
    {
     "name": "stdout",
     "output_type": "stream",
     "text": [
      "Наилучший лес решений имеет глубину: 11 , критерий: entropy , число деревьев: 17 и его f1-мера составляет: 0.5897810218978102\n"
     ]
    }
   ],
   "source": [
    "model = RandomForestClassifier(random_state=RANDOM_STATE, criterion='gini',\n",
    "                                max_depth=10, n_estimators=23)\n",
    "model.fit(features_upsampled, target_upsampled)\n",
    "predictions = model.predict(features_valid)\n",
    "result = f1_score(target_valid, predictions)\n",
    "print('Наилучший лес решений имеет глубину:', best_depth_forest,',', 'критерий:', best_criterion_forest,',', 'число деревьев:',\n",
    "     best_est_forest, 'и его f1-мера составляет:', best_result_forest)"
   ]
  },
  {
   "cell_type": "markdown",
   "metadata": {},
   "source": [
    "Дерево решений также осталось без изменений. Остаётся проверить только логистическую регрессию:"
   ]
  },
  {
   "cell_type": "code",
   "execution_count": 23,
   "metadata": {},
   "outputs": [
    {
     "name": "stdout",
     "output_type": "stream",
     "text": [
      "Модель логистической регрессии имеет f1-меру: 0.39366963402571714\n"
     ]
    }
   ],
   "source": [
    "model = LogisticRegression(random_state=RANDOM_STATE, solver='lbfgs')\n",
    "model.fit(features_upsampled, target_upsampled)\n",
    "predictions = model.predict(features_valid)\n",
    "result = f1_score(target_valid, predictions)\n",
    "print('Модель логистической регрессии имеет f1-меру:', result)"
   ]
  },
  {
   "cell_type": "markdown",
   "metadata": {},
   "source": [
    "Видим, что модель логистической регрессии отреагировала на изменения, о чём говорит увеличение её f1-меры: 0.393 вместо 0.127, однако результаты всё ещё далеки от идеальных. Попробуем поработать с наилучшей на текущий момент моделью - дерево решений и подберём ему новые оптимальные критерии"
   ]
  },
  {
   "cell_type": "code",
   "execution_count": 24,
   "metadata": {},
   "outputs": [
    {
     "name": "stdout",
     "output_type": "stream",
     "text": [
      "Наилучший лес решений имеет глубину: 10 , критерий: gini , число деревьев: 26 и его f1-мера составляет: 0.6203703703703705\n"
     ]
    }
   ],
   "source": [
    "#зададим нулевые гиперпараметры для лучшей модели, максимальной глубины каждого дерева, критерия, количества деревьев и f1-меры\n",
    "best_model_forest = None\n",
    "best_depth_forest = 0\n",
    "best_result_forest = 0\n",
    "best_est_forest = 0\n",
    "best_criterion_forest = None\n",
    "#с помощью вложенного цикла переберём различные гиперпараметры и выявим наилучшую модель по f1-мере\n",
    "for crit in ['gini', 'entropy']:\n",
    "    for est in range(1, 30):\n",
    "        for depth in range(1, 12):\n",
    "            model = RandomForestClassifier(random_state=RANDOM_STATE, criterion=crit,\n",
    "                                          max_depth=depth, n_estimators=est)\n",
    "            model.fit(features_upsampled, target_upsampled)\n",
    "            predictions = model.predict(features_valid)\n",
    "            result = f1_score(target_valid, predictions)\n",
    "            #наилучшую модель сохраняем\n",
    "            if result > best_result_forest:\n",
    "                best_model_forest = model\n",
    "                best_depth_forest = depth\n",
    "                best_result_forest = result\n",
    "                best_est_forest = est\n",
    "                best_criterion_forest = crit\n",
    "print('Наилучший лес решений имеет глубину:', best_depth_forest,',', 'критерий:', best_criterion_forest,',', 'число деревьев:',\n",
    "     best_est_forest, 'и его f1-мера составляет:', best_result_forest)"
   ]
  },
  {
   "cell_type": "markdown",
   "metadata": {},
   "source": [
    "Получили новые результаты, а также увеличили f1-меру до 0.620. С этим результатом можем идти далее и проводить тестирование модели на тестовой выборке, однако мы попробуем также другой метод борьбы с дисбалансом классов, чтобы проверить, был ли выбран самый оптимальный. Воспользуемся противоположной техникой - downsampling. Напишем функцию, при помощи которой сократим количество оставшихся в банке в 3 раза:"
   ]
  },
  {
   "cell_type": "code",
   "execution_count": 25,
   "metadata": {},
   "outputs": [],
   "source": [
    "def downsample(features, target, fraction):\n",
    "    features_zeros = features[target == 0]\n",
    "    features_ones = features[target == 1]\n",
    "    target_zeros = target[target == 0]\n",
    "    target_ones = target[target == 1]\n",
    "    \n",
    "    features_downsampled = pd.concat([features_zeros.sample(frac=fraction, random_state=RANDOM_STATE)] + [features_ones])\n",
    "    target_downsampled = pd.concat([target_zeros.sample(frac=fraction, random_state=RANDOM_STATE)] + [target_ones])\n",
    "    \n",
    "    features_downsampled, target_downsampled = shuffle(\n",
    "    features_downsampled, target_downsampled, random_state=RANDOM_STATE)\n",
    "    \n",
    "    return features_downsampled, target_downsampled"
   ]
  },
  {
   "cell_type": "markdown",
   "metadata": {},
   "source": [
    "Теперь воспользуемся данной функцией:"
   ]
  },
  {
   "cell_type": "code",
   "execution_count": 26,
   "metadata": {},
   "outputs": [],
   "source": [
    "features_upsampled, target_upsampled = downsample(features_train, target_train, 0.33)"
   ]
  },
  {
   "cell_type": "markdown",
   "metadata": {},
   "source": [
    "Вновь обучим лес решений и проверим, какие результаты получаются на этот раз:"
   ]
  },
  {
   "cell_type": "code",
   "execution_count": 27,
   "metadata": {},
   "outputs": [
    {
     "name": "stdout",
     "output_type": "stream",
     "text": [
      "Наилучший лес решений имеет глубину: 6 , критерий: entropy , число деревьев: 22 и его f1-мера составляет: 0.5835140997830803\n"
     ]
    }
   ],
   "source": [
    "#зададим нулевые гиперпараметры для лучшей модели, максимальной глубины каждого дерева, критерия, количества деревьев и f1-меры\n",
    "best_model_forest = None\n",
    "best_depth_forest = 0\n",
    "best_result_forest = 0\n",
    "best_est_forest = 0\n",
    "best_criterion_forest = None\n",
    "#с помощью вложенного цикла переберём различные гиперпараметры и выявим наилучшую модель по f1-мере\n",
    "for crit in ['gini', 'entropy']:\n",
    "    for est in range(1, 30):\n",
    "        for depth in range(1, 12):\n",
    "            model = RandomForestClassifier(random_state=RANDOM_STATE, criterion=crit,\n",
    "                                          max_depth=depth, n_estimators=est)\n",
    "            model.fit(features_upsampled, target_upsampled)\n",
    "            predictions = model.predict(features_valid)\n",
    "            result = f1_score(target_valid, predictions)\n",
    "            #наилучшую модель сохраняем\n",
    "            if result > best_result_forest:\n",
    "                best_model_forest = model\n",
    "                best_depth_forest = depth\n",
    "                best_result_forest = result\n",
    "                best_est_forest = est\n",
    "                best_criterion_forest = crit\n",
    "print('Наилучший лес решений имеет глубину:', best_depth_forest,',', 'критерий:', best_criterion_forest,',', 'число деревьев:',\n",
    "     best_est_forest, 'и его f1-мера составляет:', best_result_forest)"
   ]
  },
  {
   "cell_type": "markdown",
   "metadata": {},
   "source": [
    "Наивысшая f1-мера при лучших гиперпараметрах оказалась равна 0.583. Значит, техника upsampling показала себя лучше противоположной, поэтому и модель будем применять именно после первой техники борьбы с дисбалансом классов."
   ]
  },
  {
   "cell_type": "markdown",
   "metadata": {},
   "source": [
    "### Вывод"
   ]
  },
  {
   "cell_type": "markdown",
   "metadata": {},
   "source": [
    "После борьбы с дисбалансом классов удалось увеличить f1-меру лишь у модели логистической регрессии: она составила 0.393 вместо прежней 0.127, однако модели дерева решений и случайного леса сохранили показатели. В ходе изменения гиперпараметров модели случайного леса удалось достичь лучших результатов при гиперпараметрах глубины 10, критерия Джини, 26 деревьях. F1-мера такого леса составляет 0.620. Можно переходить к тестированию модели."
   ]
  },
  {
   "cell_type": "markdown",
   "metadata": {},
   "source": [
    "## Тестирование модели"
   ]
  },
  {
   "cell_type": "markdown",
   "metadata": {},
   "source": [
    "Протестируем модель случайного леса на тестовой выборке, чтобы убедиться, что модель оказалась удачной:"
   ]
  },
  {
   "cell_type": "code",
   "execution_count": 28,
   "metadata": {},
   "outputs": [
    {
     "name": "stdout",
     "output_type": "stream",
     "text": [
      "F1-мера случайного леса на тестовой выборке составила: 0.6179039301310043\n"
     ]
    }
   ],
   "source": [
    "model = RandomForestClassifier(random_state=RANDOM_STATE, criterion='gini', max_depth=10, n_estimators=26)\n",
    "model.fit(features_upsampled, target_upsampled)\n",
    "predictions = model.predict(features_test)\n",
    "result = f1_score(target_test, predictions)\n",
    "print('F1-мера случайного леса на тестовой выборке составила:', result)"
   ]
  },
  {
   "cell_type": "markdown",
   "metadata": {},
   "source": [
    "Как видно, f1-мера оказалась немного ниже, чем была прежде: 0.617 вместо 0.620. Тем не менее, это говорит о том, что модель имеет достаточно высокое качество. Заказчик ожидал увидеть данный показатель выше 0.59, что и было выполнено. В завершении посмотрим на меру AUC-ROC выбранной модели. "
   ]
  },
  {
   "cell_type": "code",
   "execution_count": 29,
   "metadata": {},
   "outputs": [
    {
     "name": "stdout",
     "output_type": "stream",
     "text": [
      "F1-мера модели составила: 0.6179039301310043 при значении AUC-ROC: 0.8570917473156019\n"
     ]
    }
   ],
   "source": [
    "probabilities_test = model.predict_proba(features_test)\n",
    "probabilities_one_test = probabilities_test[:, 1]\n",
    "\n",
    "auc_roc = roc_auc_score(target_test, probabilities_one_test)\n",
    "print('F1-мера модели составила:', result, 'при значении AUC-ROC:', auc_roc)"
   ]
  },
  {
   "cell_type": "markdown",
   "metadata": {},
   "source": [
    "### Вывод"
   ]
  },
  {
   "cell_type": "markdown",
   "metadata": {},
   "source": [
    "Тестирование модели прошло успешно, и модель случайного леса показала наилучшие результаты для заказчика. При ожидаемой f1-мере более 0.59 мы получили 0.617 на тестовой выборке, что говорит о достаточно качественной моделе. Также была изучена метрика AUC-ROC, которая составила 0.857, что вновь говорит о хорошо составленной моделе. На этом исследование завершается, и можно переходить к окончательным выводам."
   ]
  },
  {
   "cell_type": "markdown",
   "metadata": {},
   "source": [
    "## Вывод"
   ]
  },
  {
   "cell_type": "markdown",
   "metadata": {},
   "source": [
    "Цель исследования заключалась в построении модели, предсказывающей уход клиентов из банка. После предварительного изучения данных было выдвинуто предположение о наличии дисбаланса классов, однако изначально модели были построены без работы над этой проблемой. Основной метрикой модели данного исследования была выбрана f1-мера, и результаты при первичных моделях были следующие:\n",
    "\n",
    "* Дерево решений с глубиной 9: f1-мера 0.562\n",
    "* Лес решений с глубиной каждого дерева 11, количеством деревьев 17 и критерием энтропии: f1-мера 0.589\n",
    "* Логистическая регрессия: f1-мера 0.127\n",
    "\n",
    "Однако после борьбы с дисбалансом классов удалось достичь иных результатов. В частности, модель логистической регресии повысила свою метрику f1, однако этого оказалось недостаточно для дальнейшей работы над моделью, поэтому была выбрана модель случайного леса и после изменения гиперпараметров удалось достичь наилучших результатов: f1-мера модели на тестовой выборке составила 0.617, а метрика AUC-ROC - 0.852. Таким образом, данная модель является наиболее пригодной для заказчика и поможет ему вовремя определить, кто из клиентов в скором времени может отказаться от услуг банка."
   ]
  }
 ],
 "metadata": {
  "ExecuteTimeLog": [
   {
    "duration": 1447,
    "start_time": "2022-03-01T17:00:43.363Z"
   },
   {
    "duration": 4,
    "start_time": "2022-03-01T17:01:03.846Z"
   },
   {
    "duration": 51,
    "start_time": "2022-03-01T17:01:53.902Z"
   },
   {
    "duration": 12,
    "start_time": "2022-03-01T17:02:21.280Z"
   },
   {
    "duration": 4,
    "start_time": "2022-03-01T17:12:13.236Z"
   },
   {
    "duration": -537,
    "start_time": "2022-03-01T17:13:08.934Z"
   },
   {
    "duration": 34522,
    "start_time": "2022-03-01T17:13:19.846Z"
   },
   {
    "duration": 6,
    "start_time": "2022-03-01T17:15:02.324Z"
   },
   {
    "duration": 4,
    "start_time": "2022-03-01T17:16:11.643Z"
   },
   {
    "duration": 31,
    "start_time": "2022-03-01T17:16:15.751Z"
   },
   {
    "duration": 4,
    "start_time": "2022-03-01T17:16:25.457Z"
   },
   {
    "duration": 93233,
    "start_time": "2022-03-01T17:16:29.061Z"
   },
   {
    "duration": 245,
    "start_time": "2022-03-01T17:18:16.130Z"
   },
   {
    "duration": 27,
    "start_time": "2022-03-01T17:18:28.101Z"
   },
   {
    "duration": 221,
    "start_time": "2022-03-01T17:18:41.413Z"
   },
   {
    "duration": 27,
    "start_time": "2022-03-01T17:18:44.892Z"
   },
   {
    "duration": 1092,
    "start_time": "2022-03-05T17:01:48.472Z"
   },
   {
    "duration": 42,
    "start_time": "2022-03-05T17:01:49.566Z"
   },
   {
    "duration": 11,
    "start_time": "2022-03-05T17:01:50.696Z"
   },
   {
    "duration": 3,
    "start_time": "2022-03-05T17:01:51.450Z"
   },
   {
    "duration": 19,
    "start_time": "2022-03-05T17:01:52.529Z"
   },
   {
    "duration": 5,
    "start_time": "2022-03-05T17:10:34.587Z"
   },
   {
    "duration": 25,
    "start_time": "2022-03-05T17:12:25.518Z"
   },
   {
    "duration": 370,
    "start_time": "2022-03-05T17:12:28.888Z"
   },
   {
    "duration": 1194,
    "start_time": "2022-03-05T17:12:36.271Z"
   },
   {
    "duration": 49,
    "start_time": "2022-03-05T17:12:37.467Z"
   },
   {
    "duration": 14,
    "start_time": "2022-03-05T17:12:37.522Z"
   },
   {
    "duration": 40,
    "start_time": "2022-03-05T17:12:37.538Z"
   },
   {
    "duration": 4,
    "start_time": "2022-03-05T17:12:37.580Z"
   },
   {
    "duration": 23,
    "start_time": "2022-03-05T17:12:37.586Z"
   },
   {
    "duration": 5,
    "start_time": "2022-03-05T17:15:48.989Z"
   },
   {
    "duration": 5342,
    "start_time": "2022-03-05T17:18:12.288Z"
   },
   {
    "duration": 9720,
    "start_time": "2022-03-05T17:18:30.903Z"
   },
   {
    "duration": 4852,
    "start_time": "2022-03-05T17:18:42.136Z"
   },
   {
    "duration": 9,
    "start_time": "2022-03-05T17:18:53.057Z"
   },
   {
    "duration": 7,
    "start_time": "2022-03-05T17:19:09.574Z"
   },
   {
    "duration": 22,
    "start_time": "2022-03-05T17:19:31.056Z"
   },
   {
    "duration": 20,
    "start_time": "2022-03-05T17:19:58.664Z"
   },
   {
    "duration": 20,
    "start_time": "2022-03-05T17:21:46.303Z"
   },
   {
    "duration": 13,
    "start_time": "2022-03-05T17:22:01.048Z"
   },
   {
    "duration": 14,
    "start_time": "2022-03-05T17:22:09.679Z"
   },
   {
    "duration": 225,
    "start_time": "2022-03-05T17:27:39.805Z"
   },
   {
    "duration": 15,
    "start_time": "2022-03-05T17:27:40.783Z"
   },
   {
    "duration": 1105,
    "start_time": "2022-03-05T17:27:48.098Z"
   },
   {
    "duration": 41,
    "start_time": "2022-03-05T17:27:49.206Z"
   },
   {
    "duration": 9,
    "start_time": "2022-03-05T17:27:49.250Z"
   },
   {
    "duration": 18,
    "start_time": "2022-03-05T17:27:49.261Z"
   },
   {
    "duration": 20,
    "start_time": "2022-03-05T17:27:49.281Z"
   },
   {
    "duration": 5,
    "start_time": "2022-03-05T17:27:49.303Z"
   },
   {
    "duration": 8,
    "start_time": "2022-03-05T17:27:49.310Z"
   },
   {
    "duration": 16,
    "start_time": "2022-03-05T17:27:49.320Z"
   },
   {
    "duration": 4,
    "start_time": "2022-03-05T17:32:09.201Z"
   },
   {
    "duration": 8,
    "start_time": "2022-03-05T17:32:20.735Z"
   },
   {
    "duration": 4,
    "start_time": "2022-03-05T17:32:25.366Z"
   },
   {
    "duration": 12,
    "start_time": "2022-03-05T17:35:02.054Z"
   },
   {
    "duration": 6,
    "start_time": "2022-03-05T17:35:05.580Z"
   },
   {
    "duration": 5237,
    "start_time": "2022-03-05T17:35:07.646Z"
   },
   {
    "duration": 1117,
    "start_time": "2022-03-05T17:35:14.460Z"
   },
   {
    "duration": 43,
    "start_time": "2022-03-05T17:35:15.579Z"
   },
   {
    "duration": 10,
    "start_time": "2022-03-05T17:35:15.627Z"
   },
   {
    "duration": 18,
    "start_time": "2022-03-05T17:35:15.639Z"
   },
   {
    "duration": 3,
    "start_time": "2022-03-05T17:35:15.659Z"
   },
   {
    "duration": 39,
    "start_time": "2022-03-05T17:35:15.664Z"
   },
   {
    "duration": 5,
    "start_time": "2022-03-05T17:35:15.705Z"
   },
   {
    "duration": 17,
    "start_time": "2022-03-05T17:35:15.713Z"
   },
   {
    "duration": 4,
    "start_time": "2022-03-05T17:35:15.732Z"
   },
   {
    "duration": 21,
    "start_time": "2022-03-05T17:35:15.738Z"
   },
   {
    "duration": 1180,
    "start_time": "2022-03-05T17:35:51.178Z"
   },
   {
    "duration": 42,
    "start_time": "2022-03-05T17:35:52.360Z"
   },
   {
    "duration": 10,
    "start_time": "2022-03-05T17:35:52.404Z"
   },
   {
    "duration": 23,
    "start_time": "2022-03-05T17:35:52.416Z"
   },
   {
    "duration": 3,
    "start_time": "2022-03-05T17:35:52.441Z"
   },
   {
    "duration": 9,
    "start_time": "2022-03-05T17:35:52.446Z"
   },
   {
    "duration": 10,
    "start_time": "2022-03-05T17:35:52.457Z"
   },
   {
    "duration": 36,
    "start_time": "2022-03-05T17:35:52.470Z"
   },
   {
    "duration": 4,
    "start_time": "2022-03-05T17:35:52.507Z"
   },
   {
    "duration": 8,
    "start_time": "2022-03-05T17:35:52.513Z"
   },
   {
    "duration": 8,
    "start_time": "2022-03-05T17:35:59.570Z"
   },
   {
    "duration": 1084,
    "start_time": "2022-03-05T17:36:11.740Z"
   },
   {
    "duration": 42,
    "start_time": "2022-03-05T17:36:12.826Z"
   },
   {
    "duration": 10,
    "start_time": "2022-03-05T17:36:12.872Z"
   },
   {
    "duration": 34,
    "start_time": "2022-03-05T17:36:12.884Z"
   },
   {
    "duration": 3,
    "start_time": "2022-03-05T17:36:12.920Z"
   },
   {
    "duration": 9,
    "start_time": "2022-03-05T17:36:12.925Z"
   },
   {
    "duration": 7,
    "start_time": "2022-03-05T17:36:12.936Z"
   },
   {
    "duration": 14,
    "start_time": "2022-03-05T17:36:12.946Z"
   },
   {
    "duration": 4,
    "start_time": "2022-03-05T17:36:12.962Z"
   },
   {
    "duration": 36,
    "start_time": "2022-03-05T17:36:12.967Z"
   },
   {
    "duration": 19,
    "start_time": "2022-03-05T17:36:13.006Z"
   },
   {
    "duration": 1133,
    "start_time": "2022-03-05T17:36:34.775Z"
   },
   {
    "duration": 41,
    "start_time": "2022-03-05T17:36:35.910Z"
   },
   {
    "duration": 9,
    "start_time": "2022-03-05T17:36:35.956Z"
   },
   {
    "duration": 37,
    "start_time": "2022-03-05T17:36:35.966Z"
   },
   {
    "duration": 3,
    "start_time": "2022-03-05T17:36:36.005Z"
   },
   {
    "duration": 15,
    "start_time": "2022-03-05T17:36:36.010Z"
   },
   {
    "duration": 13,
    "start_time": "2022-03-05T17:36:36.027Z"
   },
   {
    "duration": 21,
    "start_time": "2022-03-05T17:36:36.043Z"
   },
   {
    "duration": 12,
    "start_time": "2022-03-05T17:36:36.066Z"
   },
   {
    "duration": 17,
    "start_time": "2022-03-05T17:36:36.079Z"
   },
   {
    "duration": 19,
    "start_time": "2022-03-05T17:36:36.101Z"
   },
   {
    "duration": 5,
    "start_time": "2022-03-05T17:37:26.752Z"
   },
   {
    "duration": 18,
    "start_time": "2022-03-05T17:37:28.035Z"
   },
   {
    "duration": 1148,
    "start_time": "2022-03-05T17:37:33.112Z"
   },
   {
    "duration": 44,
    "start_time": "2022-03-05T17:37:34.262Z"
   },
   {
    "duration": 9,
    "start_time": "2022-03-05T17:37:34.309Z"
   },
   {
    "duration": 24,
    "start_time": "2022-03-05T17:37:34.320Z"
   },
   {
    "duration": 3,
    "start_time": "2022-03-05T17:37:34.346Z"
   },
   {
    "duration": 12,
    "start_time": "2022-03-05T17:37:34.351Z"
   },
   {
    "duration": 8,
    "start_time": "2022-03-05T17:37:34.365Z"
   },
   {
    "duration": 38,
    "start_time": "2022-03-05T17:37:34.375Z"
   },
   {
    "duration": 3,
    "start_time": "2022-03-05T17:37:34.416Z"
   },
   {
    "duration": 10,
    "start_time": "2022-03-05T17:37:34.422Z"
   },
   {
    "duration": 22,
    "start_time": "2022-03-05T17:37:34.434Z"
   },
   {
    "duration": 5,
    "start_time": "2022-03-05T17:38:06.096Z"
   },
   {
    "duration": 20,
    "start_time": "2022-03-05T17:38:06.446Z"
   },
   {
    "duration": 1108,
    "start_time": "2022-03-05T17:44:51.863Z"
   },
   {
    "duration": 45,
    "start_time": "2022-03-05T17:44:52.973Z"
   },
   {
    "duration": 10,
    "start_time": "2022-03-05T17:44:53.022Z"
   },
   {
    "duration": 23,
    "start_time": "2022-03-05T17:44:53.034Z"
   },
   {
    "duration": 4,
    "start_time": "2022-03-05T17:44:53.059Z"
   },
   {
    "duration": 40,
    "start_time": "2022-03-05T17:44:53.064Z"
   },
   {
    "duration": 9,
    "start_time": "2022-03-05T17:44:53.106Z"
   },
   {
    "duration": 19,
    "start_time": "2022-03-05T17:44:53.117Z"
   },
   {
    "duration": 4,
    "start_time": "2022-03-05T17:44:53.138Z"
   },
   {
    "duration": 23,
    "start_time": "2022-03-05T17:44:53.144Z"
   },
   {
    "duration": 37,
    "start_time": "2022-03-05T17:44:53.169Z"
   },
   {
    "duration": 1077,
    "start_time": "2022-03-05T17:45:12.601Z"
   },
   {
    "duration": 41,
    "start_time": "2022-03-05T17:45:13.681Z"
   },
   {
    "duration": 9,
    "start_time": "2022-03-05T17:45:13.724Z"
   },
   {
    "duration": 17,
    "start_time": "2022-03-05T17:45:13.736Z"
   },
   {
    "duration": 3,
    "start_time": "2022-03-05T17:45:13.755Z"
   },
   {
    "duration": 16,
    "start_time": "2022-03-05T17:45:13.760Z"
   },
   {
    "duration": 24,
    "start_time": "2022-03-05T17:45:13.778Z"
   },
   {
    "duration": 22,
    "start_time": "2022-03-05T17:45:13.805Z"
   },
   {
    "duration": 3,
    "start_time": "2022-03-05T17:45:13.830Z"
   },
   {
    "duration": 19,
    "start_time": "2022-03-05T17:45:13.835Z"
   },
   {
    "duration": 19,
    "start_time": "2022-03-05T17:45:13.856Z"
   },
   {
    "duration": 14,
    "start_time": "2022-03-05T17:46:37.867Z"
   },
   {
    "duration": 4,
    "start_time": "2022-03-05T17:51:50.545Z"
   },
   {
    "duration": 313,
    "start_time": "2022-03-05T18:16:37.310Z"
   },
   {
    "duration": 7,
    "start_time": "2022-03-05T18:16:40.806Z"
   },
   {
    "duration": 5,
    "start_time": "2022-03-05T18:16:52.142Z"
   },
   {
    "duration": 3,
    "start_time": "2022-03-05T18:18:31.782Z"
   },
   {
    "duration": 13,
    "start_time": "2022-03-05T18:19:57.993Z"
   },
   {
    "duration": 12,
    "start_time": "2022-03-05T18:20:29.909Z"
   },
   {
    "duration": 3,
    "start_time": "2022-03-05T18:23:54.341Z"
   },
   {
    "duration": 464,
    "start_time": "2022-03-05T18:24:07.789Z"
   },
   {
    "duration": 466,
    "start_time": "2022-03-05T18:24:32.493Z"
   },
   {
    "duration": 50074,
    "start_time": "2022-03-05T18:29:27.844Z"
   },
   {
    "duration": 768,
    "start_time": "2022-03-05T18:33:01.828Z"
   },
   {
    "duration": 518,
    "start_time": "2022-03-05T18:33:10.291Z"
   },
   {
    "duration": 695,
    "start_time": "2022-03-05T18:33:58.007Z"
   },
   {
    "duration": 239,
    "start_time": "2022-03-06T14:57:47.805Z"
   },
   {
    "duration": 1057,
    "start_time": "2022-03-06T14:57:53.632Z"
   },
   {
    "duration": 3,
    "start_time": "2022-03-06T14:57:54.690Z"
   },
   {
    "duration": 45,
    "start_time": "2022-03-06T14:57:54.700Z"
   },
   {
    "duration": 20,
    "start_time": "2022-03-06T14:57:54.747Z"
   },
   {
    "duration": 18,
    "start_time": "2022-03-06T14:57:54.769Z"
   },
   {
    "duration": 3,
    "start_time": "2022-03-06T14:57:54.789Z"
   },
   {
    "duration": 5,
    "start_time": "2022-03-06T14:57:54.795Z"
   },
   {
    "duration": 5,
    "start_time": "2022-03-06T14:57:54.802Z"
   },
   {
    "duration": 14,
    "start_time": "2022-03-06T14:57:54.809Z"
   },
   {
    "duration": 4,
    "start_time": "2022-03-06T14:57:54.859Z"
   },
   {
    "duration": 14,
    "start_time": "2022-03-06T14:57:54.865Z"
   },
   {
    "duration": 11,
    "start_time": "2022-03-06T14:57:54.881Z"
   },
   {
    "duration": 12,
    "start_time": "2022-03-06T14:57:54.894Z"
   },
   {
    "duration": 471,
    "start_time": "2022-03-06T14:57:54.908Z"
   },
   {
    "duration": 45324,
    "start_time": "2022-03-06T14:57:55.382Z"
   },
   {
    "duration": 562,
    "start_time": "2022-03-06T14:58:40.707Z"
   },
   {
    "duration": 19,
    "start_time": "2022-03-06T15:00:06.263Z"
   },
   {
    "duration": 9,
    "start_time": "2022-03-06T15:00:09.903Z"
   },
   {
    "duration": 6,
    "start_time": "2022-03-06T15:00:17.466Z"
   },
   {
    "duration": 7,
    "start_time": "2022-03-06T15:00:21.897Z"
   },
   {
    "duration": 6,
    "start_time": "2022-03-06T15:00:47.191Z"
   },
   {
    "duration": 7,
    "start_time": "2022-03-06T15:00:57.255Z"
   },
   {
    "duration": 409,
    "start_time": "2022-03-06T15:06:48.951Z"
   },
   {
    "duration": 4,
    "start_time": "2022-03-06T15:07:00.950Z"
   },
   {
    "duration": 20,
    "start_time": "2022-03-06T15:07:07.894Z"
   },
   {
    "duration": 4,
    "start_time": "2022-03-06T15:07:45.319Z"
   },
   {
    "duration": 13,
    "start_time": "2022-03-06T15:08:48.614Z"
   },
   {
    "duration": 5,
    "start_time": "2022-03-06T15:09:07.439Z"
   },
   {
    "duration": 69,
    "start_time": "2022-03-06T15:09:30.492Z"
   },
   {
    "duration": 68,
    "start_time": "2022-03-06T15:11:38.193Z"
   },
   {
    "duration": 29,
    "start_time": "2022-03-06T15:11:43.804Z"
   },
   {
    "duration": 64,
    "start_time": "2022-03-06T15:12:06.166Z"
   },
   {
    "duration": 30,
    "start_time": "2022-03-06T15:12:14.726Z"
   },
   {
    "duration": 17,
    "start_time": "2022-03-06T15:12:41.974Z"
   },
   {
    "duration": 1016,
    "start_time": "2022-03-06T15:13:13.984Z"
   },
   {
    "duration": 3,
    "start_time": "2022-03-06T15:13:15.003Z"
   },
   {
    "duration": 48,
    "start_time": "2022-03-06T15:13:15.008Z"
   },
   {
    "duration": 8,
    "start_time": "2022-03-06T15:13:15.058Z"
   },
   {
    "duration": 22,
    "start_time": "2022-03-06T15:13:15.067Z"
   },
   {
    "duration": 3,
    "start_time": "2022-03-06T15:13:15.090Z"
   },
   {
    "duration": 8,
    "start_time": "2022-03-06T15:13:15.094Z"
   },
   {
    "duration": 5,
    "start_time": "2022-03-06T15:13:15.104Z"
   },
   {
    "duration": 15,
    "start_time": "2022-03-06T15:13:15.111Z"
   },
   {
    "duration": 32,
    "start_time": "2022-03-06T15:13:15.127Z"
   },
   {
    "duration": 14,
    "start_time": "2022-03-06T15:13:15.161Z"
   },
   {
    "duration": 10,
    "start_time": "2022-03-06T15:13:15.176Z"
   },
   {
    "duration": 11,
    "start_time": "2022-03-06T15:13:15.188Z"
   },
   {
    "duration": 479,
    "start_time": "2022-03-06T15:13:15.201Z"
   },
   {
    "duration": 45377,
    "start_time": "2022-03-06T15:13:15.682Z"
   },
   {
    "duration": 500,
    "start_time": "2022-03-06T15:14:01.060Z"
   },
   {
    "duration": 99,
    "start_time": "2022-03-06T15:14:01.562Z"
   },
   {
    "duration": 5,
    "start_time": "2022-03-06T15:14:01.663Z"
   },
   {
    "duration": 20,
    "start_time": "2022-03-06T15:14:01.670Z"
   },
   {
    "duration": 32,
    "start_time": "2022-03-06T15:14:01.692Z"
   },
   {
    "duration": 188,
    "start_time": "2022-03-06T15:16:28.530Z"
   },
   {
    "duration": 418,
    "start_time": "2022-03-06T15:17:38.746Z"
   },
   {
    "duration": 519,
    "start_time": "2022-03-06T15:17:50.146Z"
   },
   {
    "duration": 55497,
    "start_time": "2022-03-06T15:19:43.004Z"
   },
   {
    "duration": 202,
    "start_time": "2022-03-06T15:23:46.332Z"
   },
   {
    "duration": 295,
    "start_time": "2022-03-06T15:25:45.979Z"
   },
   {
    "duration": 4,
    "start_time": "2022-03-06T15:25:58.985Z"
   },
   {
    "duration": 211,
    "start_time": "2022-03-06T15:26:03.042Z"
   },
   {
    "duration": 182,
    "start_time": "2022-03-06T15:30:22.273Z"
   },
   {
    "duration": 4,
    "start_time": "2022-03-06T15:30:42.288Z"
   },
   {
    "duration": 179,
    "start_time": "2022-03-06T15:30:46.465Z"
   },
   {
    "duration": 196,
    "start_time": "2022-03-06T15:31:13.761Z"
   },
   {
    "duration": 217,
    "start_time": "2022-03-06T15:31:20.505Z"
   },
   {
    "duration": 186,
    "start_time": "2022-03-06T15:31:33.839Z"
   },
   {
    "duration": 12,
    "start_time": "2022-03-06T15:31:53.569Z"
   },
   {
    "duration": 15,
    "start_time": "2022-03-06T15:31:58.683Z"
   },
   {
    "duration": 12,
    "start_time": "2022-03-06T15:32:03.138Z"
   },
   {
    "duration": 14,
    "start_time": "2022-03-06T15:33:12.469Z"
   },
   {
    "duration": 1032,
    "start_time": "2022-03-06T15:39:07.662Z"
   },
   {
    "duration": 3,
    "start_time": "2022-03-06T15:39:08.696Z"
   },
   {
    "duration": 57,
    "start_time": "2022-03-06T15:39:08.701Z"
   },
   {
    "duration": 8,
    "start_time": "2022-03-06T15:39:08.760Z"
   },
   {
    "duration": 28,
    "start_time": "2022-03-06T15:39:08.770Z"
   },
   {
    "duration": 2,
    "start_time": "2022-03-06T15:39:08.800Z"
   },
   {
    "duration": 13,
    "start_time": "2022-03-06T15:39:08.804Z"
   },
   {
    "duration": 25,
    "start_time": "2022-03-06T15:39:08.819Z"
   },
   {
    "duration": 30,
    "start_time": "2022-03-06T15:39:08.847Z"
   },
   {
    "duration": 4,
    "start_time": "2022-03-06T15:39:08.879Z"
   },
   {
    "duration": 25,
    "start_time": "2022-03-06T15:39:08.884Z"
   },
   {
    "duration": 10,
    "start_time": "2022-03-06T15:39:08.911Z"
   },
   {
    "duration": 17,
    "start_time": "2022-03-06T15:39:08.923Z"
   },
   {
    "duration": 446,
    "start_time": "2022-03-06T15:39:08.942Z"
   },
   {
    "duration": 44727,
    "start_time": "2022-03-06T15:39:09.389Z"
   },
   {
    "duration": 642,
    "start_time": "2022-03-06T15:39:54.118Z"
   },
   {
    "duration": 95,
    "start_time": "2022-03-06T15:39:54.768Z"
   },
   {
    "duration": 7,
    "start_time": "2022-03-06T15:39:54.864Z"
   },
   {
    "duration": 13,
    "start_time": "2022-03-06T15:39:54.872Z"
   },
   {
    "duration": 30,
    "start_time": "2022-03-06T15:39:54.886Z"
   },
   {
    "duration": 207,
    "start_time": "2022-03-06T15:39:54.918Z"
   },
   {
    "duration": 733,
    "start_time": "2022-03-06T15:39:55.127Z"
   },
   {
    "duration": 56502,
    "start_time": "2022-03-06T15:39:55.863Z"
   },
   {
    "duration": 209,
    "start_time": "2022-03-06T15:40:52.367Z"
   },
   {
    "duration": 13,
    "start_time": "2022-03-06T15:40:52.578Z"
   },
   {
    "duration": 328,
    "start_time": "2022-03-07T16:55:39.819Z"
   },
   {
    "duration": 1347,
    "start_time": "2022-03-07T16:55:46.670Z"
   },
   {
    "duration": 3,
    "start_time": "2022-03-07T16:55:48.020Z"
   },
   {
    "duration": 72,
    "start_time": "2022-03-07T16:55:48.029Z"
   },
   {
    "duration": 15,
    "start_time": "2022-03-07T16:55:48.103Z"
   },
   {
    "duration": 26,
    "start_time": "2022-03-07T16:55:48.121Z"
   },
   {
    "duration": 5,
    "start_time": "2022-03-07T16:55:48.174Z"
   },
   {
    "duration": 6,
    "start_time": "2022-03-07T16:55:48.184Z"
   },
   {
    "duration": 6,
    "start_time": "2022-03-07T16:55:48.193Z"
   },
   {
    "duration": 21,
    "start_time": "2022-03-07T16:55:48.202Z"
   },
   {
    "duration": 4,
    "start_time": "2022-03-07T16:55:48.226Z"
   },
   {
    "duration": 21,
    "start_time": "2022-03-07T16:55:48.274Z"
   },
   {
    "duration": 15,
    "start_time": "2022-03-07T16:55:48.298Z"
   },
   {
    "duration": 17,
    "start_time": "2022-03-07T16:55:48.315Z"
   },
   {
    "duration": 672,
    "start_time": "2022-03-07T16:55:48.334Z"
   },
   {
    "duration": 68876,
    "start_time": "2022-03-07T16:55:49.009Z"
   },
   {
    "duration": 793,
    "start_time": "2022-03-07T16:56:57.887Z"
   },
   {
    "duration": 95,
    "start_time": "2022-03-07T16:56:58.684Z"
   },
   {
    "duration": 19,
    "start_time": "2022-03-07T16:56:58.781Z"
   },
   {
    "duration": 38,
    "start_time": "2022-03-07T16:56:58.802Z"
   },
   {
    "duration": 47,
    "start_time": "2022-03-07T16:56:58.842Z"
   },
   {
    "duration": 301,
    "start_time": "2022-03-07T16:56:58.892Z"
   },
   {
    "duration": 784,
    "start_time": "2022-03-07T16:56:59.198Z"
   },
   {
    "duration": 88616,
    "start_time": "2022-03-07T16:56:59.986Z"
   },
   {
    "duration": 344,
    "start_time": "2022-03-07T16:58:28.605Z"
   },
   {
    "duration": 33,
    "start_time": "2022-03-07T16:58:28.952Z"
   },
   {
    "duration": 89,
    "start_time": "2022-03-07T16:59:16.071Z"
   },
   {
    "duration": 14,
    "start_time": "2022-03-07T16:59:22.327Z"
   },
   {
    "duration": 5,
    "start_time": "2022-03-07T16:59:26.638Z"
   },
   {
    "duration": 5,
    "start_time": "2022-03-07T16:59:48.104Z"
   },
   {
    "duration": 5,
    "start_time": "2022-03-07T17:00:02.047Z"
   },
   {
    "duration": 6,
    "start_time": "2022-03-07T17:00:17.096Z"
   },
   {
    "duration": 15,
    "start_time": "2022-03-07T17:01:04.815Z"
   },
   {
    "duration": 6,
    "start_time": "2022-03-07T17:01:05.062Z"
   },
   {
    "duration": 5,
    "start_time": "2022-03-07T17:01:25.806Z"
   },
   {
    "duration": 608,
    "start_time": "2022-03-07T17:02:32.052Z"
   },
   {
    "duration": 68151,
    "start_time": "2022-03-07T17:02:48.766Z"
   },
   {
    "duration": 599,
    "start_time": "2022-03-07T17:04:21.676Z"
   },
   {
    "duration": 11,
    "start_time": "2022-03-07T17:05:03.878Z"
   },
   {
    "duration": 6,
    "start_time": "2022-03-07T17:05:06.718Z"
   },
   {
    "duration": 21,
    "start_time": "2022-03-07T17:05:08.143Z"
   },
   {
    "duration": 45,
    "start_time": "2022-03-07T17:05:09.129Z"
   },
   {
    "duration": 265,
    "start_time": "2022-03-07T17:05:22.518Z"
   },
   {
    "duration": 620,
    "start_time": "2022-03-07T17:05:29.558Z"
   },
   {
    "duration": 85213,
    "start_time": "2022-03-07T17:05:42.959Z"
   },
   {
    "duration": 6,
    "start_time": "2022-03-07T17:08:49.751Z"
   },
   {
    "duration": 23,
    "start_time": "2022-03-07T17:10:06.302Z"
   },
   {
    "duration": 1395,
    "start_time": "2022-03-07T17:10:27.111Z"
   },
   {
    "duration": 17,
    "start_time": "2022-03-07T17:10:39.766Z"
   },
   {
    "duration": 44183,
    "start_time": "2022-03-07T17:11:11.471Z"
   },
   {
    "duration": 135,
    "start_time": "2022-03-07T17:14:47.139Z"
   },
   {
    "duration": 139,
    "start_time": "2022-03-07T17:14:58.214Z"
   },
   {
    "duration": 22,
    "start_time": "2022-03-07T17:15:22.104Z"
   },
   {
    "duration": 1858,
    "start_time": "2022-03-07T17:18:23.804Z"
   },
   {
    "duration": 8,
    "start_time": "2022-03-07T17:18:25.666Z"
   },
   {
    "duration": 92,
    "start_time": "2022-03-07T17:18:25.678Z"
   },
   {
    "duration": 18,
    "start_time": "2022-03-07T17:18:25.774Z"
   },
   {
    "duration": 38,
    "start_time": "2022-03-07T17:18:25.795Z"
   },
   {
    "duration": 6,
    "start_time": "2022-03-07T17:18:25.836Z"
   },
   {
    "duration": 6,
    "start_time": "2022-03-07T17:18:25.873Z"
   },
   {
    "duration": 9,
    "start_time": "2022-03-07T17:18:25.883Z"
   },
   {
    "duration": 23,
    "start_time": "2022-03-07T17:18:25.896Z"
   },
   {
    "duration": 5,
    "start_time": "2022-03-07T17:18:25.922Z"
   },
   {
    "duration": 51,
    "start_time": "2022-03-07T17:18:25.930Z"
   },
   {
    "duration": 17,
    "start_time": "2022-03-07T17:18:25.984Z"
   },
   {
    "duration": 17,
    "start_time": "2022-03-07T17:18:26.004Z"
   },
   {
    "duration": 7,
    "start_time": "2022-03-07T17:18:26.023Z"
   },
   {
    "duration": 626,
    "start_time": "2022-03-07T17:18:26.033Z"
   },
   {
    "duration": 67111,
    "start_time": "2022-03-07T17:18:26.662Z"
   },
   {
    "duration": 598,
    "start_time": "2022-03-07T17:19:33.776Z"
   },
   {
    "duration": 11,
    "start_time": "2022-03-07T17:19:34.472Z"
   },
   {
    "duration": 8,
    "start_time": "2022-03-07T17:19:34.485Z"
   },
   {
    "duration": 20,
    "start_time": "2022-03-07T17:19:34.496Z"
   },
   {
    "duration": 76,
    "start_time": "2022-03-07T17:19:34.519Z"
   },
   {
    "duration": 291,
    "start_time": "2022-03-07T17:19:34.597Z"
   },
   {
    "duration": 584,
    "start_time": "2022-03-07T17:19:34.892Z"
   },
   {
    "duration": 84520,
    "start_time": "2022-03-07T17:19:35.480Z"
   },
   {
    "duration": 7,
    "start_time": "2022-03-07T17:21:00.002Z"
   },
   {
    "duration": 40,
    "start_time": "2022-03-07T17:21:00.011Z"
   },
   {
    "duration": 43768,
    "start_time": "2022-03-07T17:21:00.054Z"
   },
   {
    "duration": 151,
    "start_time": "2022-03-07T17:21:43.824Z"
   },
   {
    "duration": 23,
    "start_time": "2022-03-07T17:21:43.977Z"
   },
   {
    "duration": 1053,
    "start_time": "2022-06-20T09:15:21.609Z"
   },
   {
    "duration": 2,
    "start_time": "2022-06-20T09:15:22.664Z"
   },
   {
    "duration": 97,
    "start_time": "2022-06-20T09:15:22.854Z"
   },
   {
    "duration": 16,
    "start_time": "2022-06-20T09:15:23.198Z"
   },
   {
    "duration": 20,
    "start_time": "2022-06-20T09:15:23.703Z"
   },
   {
    "duration": 4,
    "start_time": "2022-06-20T09:15:25.222Z"
   },
   {
    "duration": 5,
    "start_time": "2022-06-20T09:15:26.566Z"
   },
   {
    "duration": 5,
    "start_time": "2022-06-20T09:15:26.949Z"
   },
   {
    "duration": 13,
    "start_time": "2022-06-20T09:15:28.296Z"
   },
   {
    "duration": 3,
    "start_time": "2022-06-20T09:15:28.726Z"
   },
   {
    "duration": 11,
    "start_time": "2022-06-20T09:15:29.982Z"
   },
   {
    "duration": 10,
    "start_time": "2022-06-20T09:15:30.383Z"
   },
   {
    "duration": 10,
    "start_time": "2022-06-20T09:15:32.711Z"
   },
   {
    "duration": 4,
    "start_time": "2022-06-20T09:15:33.182Z"
   },
   {
    "duration": 395,
    "start_time": "2022-06-20T09:16:07.960Z"
   }
  ],
  "kernelspec": {
   "display_name": "Python 3 (ipykernel)",
   "language": "python",
   "name": "python3"
  },
  "language_info": {
   "codemirror_mode": {
    "name": "ipython",
    "version": 3
   },
   "file_extension": ".py",
   "mimetype": "text/x-python",
   "name": "python",
   "nbconvert_exporter": "python",
   "pygments_lexer": "ipython3",
   "version": "3.9.7"
  },
  "toc": {
   "base_numbering": 1,
   "nav_menu": {},
   "number_sections": true,
   "sideBar": true,
   "skip_h1_title": true,
   "title_cell": "Содержание",
   "title_sidebar": "Contents",
   "toc_cell": true,
   "toc_position": {
    "height": "calc(100% - 180px)",
    "left": "10px",
    "top": "150px",
    "width": "165px"
   },
   "toc_section_display": true,
   "toc_window_display": false
  }
 },
 "nbformat": 4,
 "nbformat_minor": 2
}
