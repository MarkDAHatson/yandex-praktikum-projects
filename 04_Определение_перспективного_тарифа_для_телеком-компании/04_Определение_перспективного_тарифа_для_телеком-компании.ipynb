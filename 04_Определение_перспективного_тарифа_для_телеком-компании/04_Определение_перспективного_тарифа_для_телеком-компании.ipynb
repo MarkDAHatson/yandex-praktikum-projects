{
 "cells": [
  {
   "cell_type": "markdown",
   "metadata": {},
   "source": [
    "# Определение перспективного тарифа для телеком-компании\n",
    "\n",
    "Заказчик исследования — компания \"Мегалайн\", федеральный оператор сотовой связи. Нужно разобраться, какой из двух представленных тарифных планов \"Смарт\" и \"Ультра\" приносит компании больше денег. Входные данные от компании — описание тарифов и статистика по 500 пользователям \"Мегалайна\" за 2018 год. Наша задача - по этим выборочным данным выявить оптимальный для компании тариф. \n",
    "\n",
    "Результаты исследования будут учтены при корректировке рекламного бюджета компании.\n",
    "\n",
    "**Цель исследования**: выявить оптимальный для прибыли компании тариф \"Смарт\" или \"Ультра\"\n",
    "\n",
    "**Ход исследования**:\n",
    "\n",
    "Входные данные от \"Мегалайна\" - статистика по 500 пользователям определённого тарифа за 2018 год, а также полные расценки всех возможных услуг в рамках двух представленных тарифов связи. О качестве данных ничего неизвестно, поэтому понадобится обзор данных. Полученные данные будут проверены на ошибки и, в случае необходимости, будут исправлены, далее подготовим данные в корректную под цель исследования форму, проведем исследовательский анализ и, в завершении, разберемся со статистическим анализом, тем самым ответив на цель исследования. \n",
    "\n",
    "Таким образом, исследование пройдёт в 4 этапа:\n",
    " \n",
    " 1. Изучение данных из файлов.\n",
    " 2. Предобработка данных.\n",
    " 3. Исследовательский анализ данных.\n",
    " 4. Статистический анализ данных."
   ]
  },
  {
   "cell_type": "markdown",
   "metadata": {},
   "source": [
    "## Изучение данных из файлов"
   ]
  },
  {
   "cell_type": "markdown",
   "metadata": {},
   "source": [
    "Перед тем, как приступать к изучение данных из файлов, импортируем все необходимые для проведения исследования библиотеки:"
   ]
  },
  {
   "cell_type": "code",
   "execution_count": 1,
   "metadata": {},
   "outputs": [],
   "source": [
    "#импортируем библиотеки pandas, numpy, stats\n",
    "import pandas as pd\n",
    "import numpy as np\n",
    "from scipy import stats as st "
   ]
  },
  {
   "cell_type": "markdown",
   "metadata": {},
   "source": [
    "Прочитаем полученные файлы из папки /datasets и сохраним их в переменных:"
   ]
  },
  {
   "cell_type": "code",
   "execution_count": 2,
   "metadata": {},
   "outputs": [],
   "source": [
    "users = pd.read_csv('/datasets/users.csv')\n",
    "calls = pd.read_csv('/datasets/calls.csv')\n",
    "internet = pd.read_csv('/datasets/internet.csv')\n",
    "messages = pd.read_csv('/datasets/messages.csv')\n",
    "tariffs = pd.read_csv('/datasets/tariffs.csv')"
   ]
  },
  {
   "cell_type": "markdown",
   "metadata": {},
   "source": [
    "Выведем на экран первые 5 строк каждой таблицы, чтобы ознакомиться с хранящимися в них данными подробнее. Начнём с таблицы `users`, в которой содержится информация о пользователях:"
   ]
  },
  {
   "cell_type": "code",
   "execution_count": 3,
   "metadata": {},
   "outputs": [
    {
     "data": {
      "text/html": [
       "<div>\n",
       "<style scoped>\n",
       "    .dataframe tbody tr th:only-of-type {\n",
       "        vertical-align: middle;\n",
       "    }\n",
       "\n",
       "    .dataframe tbody tr th {\n",
       "        vertical-align: top;\n",
       "    }\n",
       "\n",
       "    .dataframe thead th {\n",
       "        text-align: right;\n",
       "    }\n",
       "</style>\n",
       "<table border=\"1\" class=\"dataframe\">\n",
       "  <thead>\n",
       "    <tr style=\"text-align: right;\">\n",
       "      <th></th>\n",
       "      <th>user_id</th>\n",
       "      <th>age</th>\n",
       "      <th>churn_date</th>\n",
       "      <th>city</th>\n",
       "      <th>first_name</th>\n",
       "      <th>last_name</th>\n",
       "      <th>reg_date</th>\n",
       "      <th>tariff</th>\n",
       "    </tr>\n",
       "  </thead>\n",
       "  <tbody>\n",
       "    <tr>\n",
       "      <td>0</td>\n",
       "      <td>1000</td>\n",
       "      <td>52</td>\n",
       "      <td>NaN</td>\n",
       "      <td>Краснодар</td>\n",
       "      <td>Рафаил</td>\n",
       "      <td>Верещагин</td>\n",
       "      <td>2018-05-25</td>\n",
       "      <td>ultra</td>\n",
       "    </tr>\n",
       "    <tr>\n",
       "      <td>1</td>\n",
       "      <td>1001</td>\n",
       "      <td>41</td>\n",
       "      <td>NaN</td>\n",
       "      <td>Москва</td>\n",
       "      <td>Иван</td>\n",
       "      <td>Ежов</td>\n",
       "      <td>2018-11-01</td>\n",
       "      <td>smart</td>\n",
       "    </tr>\n",
       "    <tr>\n",
       "      <td>2</td>\n",
       "      <td>1002</td>\n",
       "      <td>59</td>\n",
       "      <td>NaN</td>\n",
       "      <td>Стерлитамак</td>\n",
       "      <td>Евгений</td>\n",
       "      <td>Абрамович</td>\n",
       "      <td>2018-06-17</td>\n",
       "      <td>smart</td>\n",
       "    </tr>\n",
       "    <tr>\n",
       "      <td>3</td>\n",
       "      <td>1003</td>\n",
       "      <td>23</td>\n",
       "      <td>NaN</td>\n",
       "      <td>Москва</td>\n",
       "      <td>Белла</td>\n",
       "      <td>Белякова</td>\n",
       "      <td>2018-08-17</td>\n",
       "      <td>ultra</td>\n",
       "    </tr>\n",
       "    <tr>\n",
       "      <td>4</td>\n",
       "      <td>1004</td>\n",
       "      <td>68</td>\n",
       "      <td>NaN</td>\n",
       "      <td>Новокузнецк</td>\n",
       "      <td>Татьяна</td>\n",
       "      <td>Авдеенко</td>\n",
       "      <td>2018-05-14</td>\n",
       "      <td>ultra</td>\n",
       "    </tr>\n",
       "  </tbody>\n",
       "</table>\n",
       "</div>"
      ],
      "text/plain": [
       "   user_id  age churn_date         city first_name  last_name    reg_date  \\\n",
       "0     1000   52        NaN    Краснодар     Рафаил  Верещагин  2018-05-25   \n",
       "1     1001   41        NaN       Москва       Иван       Ежов  2018-11-01   \n",
       "2     1002   59        NaN  Стерлитамак    Евгений  Абрамович  2018-06-17   \n",
       "3     1003   23        NaN       Москва      Белла   Белякова  2018-08-17   \n",
       "4     1004   68        NaN  Новокузнецк    Татьяна   Авдеенко  2018-05-14   \n",
       "\n",
       "  tariff  \n",
       "0  ultra  \n",
       "1  smart  \n",
       "2  smart  \n",
       "3  ultra  \n",
       "4  ultra  "
      ]
     },
     "execution_count": 3,
     "metadata": {},
     "output_type": "execute_result"
    }
   ],
   "source": [
    "users.head()"
   ]
  },
  {
   "cell_type": "markdown",
   "metadata": {},
   "source": [
    "Получим общую информацию о таблице:"
   ]
  },
  {
   "cell_type": "code",
   "execution_count": 4,
   "metadata": {},
   "outputs": [
    {
     "name": "stdout",
     "output_type": "stream",
     "text": [
      "<class 'pandas.core.frame.DataFrame'>\n",
      "RangeIndex: 500 entries, 0 to 499\n",
      "Data columns (total 8 columns):\n",
      "user_id       500 non-null int64\n",
      "age           500 non-null int64\n",
      "churn_date    38 non-null object\n",
      "city          500 non-null object\n",
      "first_name    500 non-null object\n",
      "last_name     500 non-null object\n",
      "reg_date      500 non-null object\n",
      "tariff        500 non-null object\n",
      "dtypes: int64(2), object(6)\n",
      "memory usage: 31.4+ KB\n"
     ]
    }
   ],
   "source": [
    "#получим общую информацию о users методом info()\n",
    "users.info()"
   ]
  },
  {
   "cell_type": "markdown",
   "metadata": {},
   "source": [
    "В данной таблице 8 столбцов данных двух типов: int, object. Столбцы `reg_date` и `churn_date` не представлены типом `datetime`, хотя мы видим, что тут должен быть именно он. Исправим это на этапе предобработки. Согласно документации:\n",
    "* `user_id` — уникальный идентификатор пользователя;\n",
    "* `first_name` — имя пользователя;\n",
    "* `last_name` — фамилия пользователя;\n",
    "* `age` — возраст пользователя (годы);\n",
    "* `reg_date` — дата подключения тарифа (день, месяц, год);\n",
    "* `churn_date` — дата прекращения пользования тарифом (если значение пропущено, то тариф ещё действовал на момент выгрузки данных);\n",
    "* `city` — город проживания пользователя;\n",
    "* `tarif` — название тарифного плана\n",
    "\n",
    "Как видно, в столбце `churn_date` всего 38 значений. Следовательно, пользователей, которые на момент выгрузки перестали пользоваться своим тарифом, не так много. Рассмотрим таблицу `calls`, в которой содержится информация о звонках пользователей:"
   ]
  },
  {
   "cell_type": "code",
   "execution_count": 5,
   "metadata": {},
   "outputs": [
    {
     "data": {
      "text/html": [
       "<div>\n",
       "<style scoped>\n",
       "    .dataframe tbody tr th:only-of-type {\n",
       "        vertical-align: middle;\n",
       "    }\n",
       "\n",
       "    .dataframe tbody tr th {\n",
       "        vertical-align: top;\n",
       "    }\n",
       "\n",
       "    .dataframe thead th {\n",
       "        text-align: right;\n",
       "    }\n",
       "</style>\n",
       "<table border=\"1\" class=\"dataframe\">\n",
       "  <thead>\n",
       "    <tr style=\"text-align: right;\">\n",
       "      <th></th>\n",
       "      <th>id</th>\n",
       "      <th>call_date</th>\n",
       "      <th>duration</th>\n",
       "      <th>user_id</th>\n",
       "    </tr>\n",
       "  </thead>\n",
       "  <tbody>\n",
       "    <tr>\n",
       "      <td>0</td>\n",
       "      <td>1000_0</td>\n",
       "      <td>2018-07-25</td>\n",
       "      <td>0.00</td>\n",
       "      <td>1000</td>\n",
       "    </tr>\n",
       "    <tr>\n",
       "      <td>1</td>\n",
       "      <td>1000_1</td>\n",
       "      <td>2018-08-17</td>\n",
       "      <td>0.00</td>\n",
       "      <td>1000</td>\n",
       "    </tr>\n",
       "    <tr>\n",
       "      <td>2</td>\n",
       "      <td>1000_2</td>\n",
       "      <td>2018-06-11</td>\n",
       "      <td>2.85</td>\n",
       "      <td>1000</td>\n",
       "    </tr>\n",
       "    <tr>\n",
       "      <td>3</td>\n",
       "      <td>1000_3</td>\n",
       "      <td>2018-09-21</td>\n",
       "      <td>13.80</td>\n",
       "      <td>1000</td>\n",
       "    </tr>\n",
       "    <tr>\n",
       "      <td>4</td>\n",
       "      <td>1000_4</td>\n",
       "      <td>2018-12-15</td>\n",
       "      <td>5.18</td>\n",
       "      <td>1000</td>\n",
       "    </tr>\n",
       "  </tbody>\n",
       "</table>\n",
       "</div>"
      ],
      "text/plain": [
       "       id   call_date  duration  user_id\n",
       "0  1000_0  2018-07-25      0.00     1000\n",
       "1  1000_1  2018-08-17      0.00     1000\n",
       "2  1000_2  2018-06-11      2.85     1000\n",
       "3  1000_3  2018-09-21     13.80     1000\n",
       "4  1000_4  2018-12-15      5.18     1000"
      ]
     },
     "execution_count": 5,
     "metadata": {},
     "output_type": "execute_result"
    }
   ],
   "source": [
    "calls.head()"
   ]
  },
  {
   "cell_type": "markdown",
   "metadata": {},
   "source": [
    "Получим общую информацию о таблице:"
   ]
  },
  {
   "cell_type": "code",
   "execution_count": 6,
   "metadata": {},
   "outputs": [
    {
     "name": "stdout",
     "output_type": "stream",
     "text": [
      "<class 'pandas.core.frame.DataFrame'>\n",
      "RangeIndex: 202607 entries, 0 to 202606\n",
      "Data columns (total 4 columns):\n",
      "id           202607 non-null object\n",
      "call_date    202607 non-null object\n",
      "duration     202607 non-null float64\n",
      "user_id      202607 non-null int64\n",
      "dtypes: float64(1), int64(1), object(2)\n",
      "memory usage: 6.2+ MB\n"
     ]
    }
   ],
   "source": [
    "#получим общую информацию о calls методом info()\n",
    "calls.info()"
   ]
  },
  {
   "cell_type": "markdown",
   "metadata": {},
   "source": [
    "В таблице 4 столбца и 3 типа данных: float, int, object. При этом коичество значений везде одинаковое, ни единого пропуска нет. Столбец `call_date` не представлен типом `datetime`, хотя видно, что его данные должны быть именно в таком формате. Придется исправить это позднее. Согласно документации:\n",
    "\n",
    "* `id` — уникальный номер звонка;\n",
    "* `call_date` — дата звонка;\n",
    "* `duration` — длительность звонка в минутах;\n",
    "* `user_id` — идентификатор пользователя, сделавшего звонок\n",
    "\n",
    "Рассмотрим таблицу `internet` с информацией об интернет-сессиях пользователей:"
   ]
  },
  {
   "cell_type": "code",
   "execution_count": 7,
   "metadata": {},
   "outputs": [
    {
     "data": {
      "text/html": [
       "<div>\n",
       "<style scoped>\n",
       "    .dataframe tbody tr th:only-of-type {\n",
       "        vertical-align: middle;\n",
       "    }\n",
       "\n",
       "    .dataframe tbody tr th {\n",
       "        vertical-align: top;\n",
       "    }\n",
       "\n",
       "    .dataframe thead th {\n",
       "        text-align: right;\n",
       "    }\n",
       "</style>\n",
       "<table border=\"1\" class=\"dataframe\">\n",
       "  <thead>\n",
       "    <tr style=\"text-align: right;\">\n",
       "      <th></th>\n",
       "      <th>Unnamed: 0</th>\n",
       "      <th>id</th>\n",
       "      <th>mb_used</th>\n",
       "      <th>session_date</th>\n",
       "      <th>user_id</th>\n",
       "    </tr>\n",
       "  </thead>\n",
       "  <tbody>\n",
       "    <tr>\n",
       "      <td>0</td>\n",
       "      <td>0</td>\n",
       "      <td>1000_0</td>\n",
       "      <td>112.95</td>\n",
       "      <td>2018-11-25</td>\n",
       "      <td>1000</td>\n",
       "    </tr>\n",
       "    <tr>\n",
       "      <td>1</td>\n",
       "      <td>1</td>\n",
       "      <td>1000_1</td>\n",
       "      <td>1052.81</td>\n",
       "      <td>2018-09-07</td>\n",
       "      <td>1000</td>\n",
       "    </tr>\n",
       "    <tr>\n",
       "      <td>2</td>\n",
       "      <td>2</td>\n",
       "      <td>1000_2</td>\n",
       "      <td>1197.26</td>\n",
       "      <td>2018-06-25</td>\n",
       "      <td>1000</td>\n",
       "    </tr>\n",
       "    <tr>\n",
       "      <td>3</td>\n",
       "      <td>3</td>\n",
       "      <td>1000_3</td>\n",
       "      <td>550.27</td>\n",
       "      <td>2018-08-22</td>\n",
       "      <td>1000</td>\n",
       "    </tr>\n",
       "    <tr>\n",
       "      <td>4</td>\n",
       "      <td>4</td>\n",
       "      <td>1000_4</td>\n",
       "      <td>302.56</td>\n",
       "      <td>2018-09-24</td>\n",
       "      <td>1000</td>\n",
       "    </tr>\n",
       "  </tbody>\n",
       "</table>\n",
       "</div>"
      ],
      "text/plain": [
       "   Unnamed: 0      id  mb_used session_date  user_id\n",
       "0           0  1000_0   112.95   2018-11-25     1000\n",
       "1           1  1000_1  1052.81   2018-09-07     1000\n",
       "2           2  1000_2  1197.26   2018-06-25     1000\n",
       "3           3  1000_3   550.27   2018-08-22     1000\n",
       "4           4  1000_4   302.56   2018-09-24     1000"
      ]
     },
     "execution_count": 7,
     "metadata": {},
     "output_type": "execute_result"
    }
   ],
   "source": [
    "internet.head()"
   ]
  },
  {
   "cell_type": "markdown",
   "metadata": {},
   "source": [
    "Получим общую информацию о таблице:"
   ]
  },
  {
   "cell_type": "code",
   "execution_count": 8,
   "metadata": {},
   "outputs": [
    {
     "name": "stdout",
     "output_type": "stream",
     "text": [
      "<class 'pandas.core.frame.DataFrame'>\n",
      "RangeIndex: 149396 entries, 0 to 149395\n",
      "Data columns (total 5 columns):\n",
      "Unnamed: 0      149396 non-null int64\n",
      "id              149396 non-null object\n",
      "mb_used         149396 non-null float64\n",
      "session_date    149396 non-null object\n",
      "user_id         149396 non-null int64\n",
      "dtypes: float64(1), int64(2), object(2)\n",
      "memory usage: 5.7+ MB\n"
     ]
    }
   ],
   "source": [
    "#получим общую информацию об internet методом info()\n",
    "internet.info()"
   ]
  },
  {
   "cell_type": "markdown",
   "metadata": {},
   "source": [
    "В этой таблице 5 столбцов с тремя типами данных: float, int, object. С форматом `datetime` в столбце `session_date` снова есть проблемы. Учтем это. Также в таблице есть непредвиденный столбец `Unnamed: 0`. Позже разберёмся с ним. Согласно документации:\n",
    "\n",
    "* `id` — уникальный номер сессии;\n",
    "* `mb_used` — объём потраченного за сессию интернет-трафика (в мегабайтах);\n",
    "* `session_date` — дата интернет-сессии;\n",
    "* `user_id` — идентификатор пользователя\n",
    "\n",
    "Взглянем на таблицу `messages` с информацией о сообщениях пользователей:"
   ]
  },
  {
   "cell_type": "code",
   "execution_count": 9,
   "metadata": {},
   "outputs": [
    {
     "data": {
      "text/html": [
       "<div>\n",
       "<style scoped>\n",
       "    .dataframe tbody tr th:only-of-type {\n",
       "        vertical-align: middle;\n",
       "    }\n",
       "\n",
       "    .dataframe tbody tr th {\n",
       "        vertical-align: top;\n",
       "    }\n",
       "\n",
       "    .dataframe thead th {\n",
       "        text-align: right;\n",
       "    }\n",
       "</style>\n",
       "<table border=\"1\" class=\"dataframe\">\n",
       "  <thead>\n",
       "    <tr style=\"text-align: right;\">\n",
       "      <th></th>\n",
       "      <th>id</th>\n",
       "      <th>message_date</th>\n",
       "      <th>user_id</th>\n",
       "    </tr>\n",
       "  </thead>\n",
       "  <tbody>\n",
       "    <tr>\n",
       "      <td>0</td>\n",
       "      <td>1000_0</td>\n",
       "      <td>2018-06-27</td>\n",
       "      <td>1000</td>\n",
       "    </tr>\n",
       "    <tr>\n",
       "      <td>1</td>\n",
       "      <td>1000_1</td>\n",
       "      <td>2018-10-08</td>\n",
       "      <td>1000</td>\n",
       "    </tr>\n",
       "    <tr>\n",
       "      <td>2</td>\n",
       "      <td>1000_2</td>\n",
       "      <td>2018-08-04</td>\n",
       "      <td>1000</td>\n",
       "    </tr>\n",
       "    <tr>\n",
       "      <td>3</td>\n",
       "      <td>1000_3</td>\n",
       "      <td>2018-06-16</td>\n",
       "      <td>1000</td>\n",
       "    </tr>\n",
       "    <tr>\n",
       "      <td>4</td>\n",
       "      <td>1000_4</td>\n",
       "      <td>2018-12-05</td>\n",
       "      <td>1000</td>\n",
       "    </tr>\n",
       "  </tbody>\n",
       "</table>\n",
       "</div>"
      ],
      "text/plain": [
       "       id message_date  user_id\n",
       "0  1000_0   2018-06-27     1000\n",
       "1  1000_1   2018-10-08     1000\n",
       "2  1000_2   2018-08-04     1000\n",
       "3  1000_3   2018-06-16     1000\n",
       "4  1000_4   2018-12-05     1000"
      ]
     },
     "execution_count": 9,
     "metadata": {},
     "output_type": "execute_result"
    }
   ],
   "source": [
    "messages.head()"
   ]
  },
  {
   "cell_type": "markdown",
   "metadata": {},
   "source": [
    "Получим общую информацию о таблице:"
   ]
  },
  {
   "cell_type": "code",
   "execution_count": 10,
   "metadata": {},
   "outputs": [
    {
     "name": "stdout",
     "output_type": "stream",
     "text": [
      "<class 'pandas.core.frame.DataFrame'>\n",
      "RangeIndex: 123036 entries, 0 to 123035\n",
      "Data columns (total 3 columns):\n",
      "id              123036 non-null object\n",
      "message_date    123036 non-null object\n",
      "user_id         123036 non-null int64\n",
      "dtypes: int64(1), object(2)\n",
      "memory usage: 2.8+ MB\n"
     ]
    }
   ],
   "source": [
    "#получим общую информацию о messages методом info()\n",
    "messages.info()"
   ]
  },
  {
   "cell_type": "markdown",
   "metadata": {},
   "source": [
    "В таблице 3 столбца типов int и object. С форматом `datetime` в столбце `message_date` те же проблемы, что и в прошлых таблицах. Согласно документации:\n",
    "\n",
    "* `id` — уникальный номер сообщения;\n",
    "* `message_date` — дата сообщения;\n",
    "* `user_id` — идентификатор пользователя, отправившего сообщение\n",
    "\n",
    "Осталось посмотреть последнюю таблицу `tariffs` с информацией о тарифах:"
   ]
  },
  {
   "cell_type": "code",
   "execution_count": 11,
   "metadata": {},
   "outputs": [
    {
     "data": {
      "text/html": [
       "<div>\n",
       "<style scoped>\n",
       "    .dataframe tbody tr th:only-of-type {\n",
       "        vertical-align: middle;\n",
       "    }\n",
       "\n",
       "    .dataframe tbody tr th {\n",
       "        vertical-align: top;\n",
       "    }\n",
       "\n",
       "    .dataframe thead th {\n",
       "        text-align: right;\n",
       "    }\n",
       "</style>\n",
       "<table border=\"1\" class=\"dataframe\">\n",
       "  <thead>\n",
       "    <tr style=\"text-align: right;\">\n",
       "      <th></th>\n",
       "      <th>messages_included</th>\n",
       "      <th>mb_per_month_included</th>\n",
       "      <th>minutes_included</th>\n",
       "      <th>rub_monthly_fee</th>\n",
       "      <th>rub_per_gb</th>\n",
       "      <th>rub_per_message</th>\n",
       "      <th>rub_per_minute</th>\n",
       "      <th>tariff_name</th>\n",
       "    </tr>\n",
       "  </thead>\n",
       "  <tbody>\n",
       "    <tr>\n",
       "      <td>0</td>\n",
       "      <td>50</td>\n",
       "      <td>15360</td>\n",
       "      <td>500</td>\n",
       "      <td>550</td>\n",
       "      <td>200</td>\n",
       "      <td>3</td>\n",
       "      <td>3</td>\n",
       "      <td>smart</td>\n",
       "    </tr>\n",
       "    <tr>\n",
       "      <td>1</td>\n",
       "      <td>1000</td>\n",
       "      <td>30720</td>\n",
       "      <td>3000</td>\n",
       "      <td>1950</td>\n",
       "      <td>150</td>\n",
       "      <td>1</td>\n",
       "      <td>1</td>\n",
       "      <td>ultra</td>\n",
       "    </tr>\n",
       "  </tbody>\n",
       "</table>\n",
       "</div>"
      ],
      "text/plain": [
       "   messages_included  mb_per_month_included  minutes_included  \\\n",
       "0                 50                  15360               500   \n",
       "1               1000                  30720              3000   \n",
       "\n",
       "   rub_monthly_fee  rub_per_gb  rub_per_message  rub_per_minute tariff_name  \n",
       "0              550         200                3               3       smart  \n",
       "1             1950         150                1               1       ultra  "
      ]
     },
     "execution_count": 11,
     "metadata": {},
     "output_type": "execute_result"
    }
   ],
   "source": [
    "tariffs"
   ]
  },
  {
   "cell_type": "markdown",
   "metadata": {},
   "source": [
    "Получим общую информацию о таблице:"
   ]
  },
  {
   "cell_type": "code",
   "execution_count": 12,
   "metadata": {},
   "outputs": [
    {
     "name": "stdout",
     "output_type": "stream",
     "text": [
      "<class 'pandas.core.frame.DataFrame'>\n",
      "RangeIndex: 2 entries, 0 to 1\n",
      "Data columns (total 8 columns):\n",
      "messages_included        2 non-null int64\n",
      "mb_per_month_included    2 non-null int64\n",
      "minutes_included         2 non-null int64\n",
      "rub_monthly_fee          2 non-null int64\n",
      "rub_per_gb               2 non-null int64\n",
      "rub_per_message          2 non-null int64\n",
      "rub_per_minute           2 non-null int64\n",
      "tariff_name              2 non-null object\n",
      "dtypes: int64(7), object(1)\n",
      "memory usage: 256.0+ bytes\n"
     ]
    }
   ],
   "source": [
    "#получим общую информацию о tariffs методом info()\n",
    "tariffs.info()"
   ]
  },
  {
   "cell_type": "markdown",
   "metadata": {},
   "source": [
    "В этой таблице 8 строк с двумя типами int, object, при этом никаких существенных ошибок в типах данных нет. Согласно документации:\n",
    "\n",
    "* `tariff_name` — название тарифа\n",
    "* `rub_monthly_fee` — ежемесячная абонентская плата в рублях\n",
    "* `minutes_included` — количество минут разговора в месяц, включённых в абонентскую плату\n",
    "* `messages_included` — количество сообщений в месяц, включённых в абонентскую плату\n",
    "* `mb_per_month_included` — объём интернет-трафика, включённого в абонентскую плату (в мегабайтах)\n",
    "* `rub_per_minute` — стоимость минуты разговора сверх тарифного пакета (например, если в тарифе 100 минут разговора в месяц, то со 101 минуты будет взиматься плата)\n",
    "* `rub_per_message` — стоимость отправки сообщения сверх тарифного пакета\n",
    "* `rub_per_gb` — стоимость дополнительного гигабайта интернет-трафика сверх тарифного пакета (1 гигабайт = 1024 мегабайта)"
   ]
  },
  {
   "cell_type": "markdown",
   "metadata": {},
   "source": [
    "### Вывод"
   ]
  },
  {
   "cell_type": "markdown",
   "metadata": {},
   "source": [
    "В каждой таблице содержатся данные о пользователях или об их операциях внутри тарифа сотовой связи. Одна таблица представляет собой количественные показатели, в том числе, цену по пакетам тарифов. \n",
    "\n",
    "Предварительно можно утверждать, что данных для выбора оптимального для прибыли компании тарифа достаточно. Однако, как удалось обнаружить, есть проблемы с типом данных: во всех таблицах был упущен тип `datetime`. Также одна таблица имеет неопознанный столбец, нуждающийся в удалении. Пропусков в таблицах нет, за исключением одного столбца, где они являются полностью корректными и не нуждаются в исправлениях. \n",
    "\n",
    "Таким образом, можем переходить в процедур предобработки наших данных к главным этапам исследования. "
   ]
  },
  {
   "cell_type": "markdown",
   "metadata": {},
   "source": [
    "## Предобработка данных"
   ]
  },
  {
   "cell_type": "markdown",
   "metadata": {},
   "source": [
    "Сначала избавимся от столбца в таблице `internet`. Можно предположить, что этот столбец предполагался как id строки, но нам это не понадобится. "
   ]
  },
  {
   "cell_type": "code",
   "execution_count": 13,
   "metadata": {},
   "outputs": [
    {
     "data": {
      "text/html": [
       "<div>\n",
       "<style scoped>\n",
       "    .dataframe tbody tr th:only-of-type {\n",
       "        vertical-align: middle;\n",
       "    }\n",
       "\n",
       "    .dataframe tbody tr th {\n",
       "        vertical-align: top;\n",
       "    }\n",
       "\n",
       "    .dataframe thead th {\n",
       "        text-align: right;\n",
       "    }\n",
       "</style>\n",
       "<table border=\"1\" class=\"dataframe\">\n",
       "  <thead>\n",
       "    <tr style=\"text-align: right;\">\n",
       "      <th></th>\n",
       "      <th>id</th>\n",
       "      <th>mb_used</th>\n",
       "      <th>session_date</th>\n",
       "      <th>user_id</th>\n",
       "    </tr>\n",
       "  </thead>\n",
       "  <tbody>\n",
       "    <tr>\n",
       "      <td>0</td>\n",
       "      <td>1000_0</td>\n",
       "      <td>112.95</td>\n",
       "      <td>2018-11-25</td>\n",
       "      <td>1000</td>\n",
       "    </tr>\n",
       "    <tr>\n",
       "      <td>1</td>\n",
       "      <td>1000_1</td>\n",
       "      <td>1052.81</td>\n",
       "      <td>2018-09-07</td>\n",
       "      <td>1000</td>\n",
       "    </tr>\n",
       "    <tr>\n",
       "      <td>2</td>\n",
       "      <td>1000_2</td>\n",
       "      <td>1197.26</td>\n",
       "      <td>2018-06-25</td>\n",
       "      <td>1000</td>\n",
       "    </tr>\n",
       "  </tbody>\n",
       "</table>\n",
       "</div>"
      ],
      "text/plain": [
       "       id  mb_used session_date  user_id\n",
       "0  1000_0   112.95   2018-11-25     1000\n",
       "1  1000_1  1052.81   2018-09-07     1000\n",
       "2  1000_2  1197.26   2018-06-25     1000"
      ]
     },
     "execution_count": 13,
     "metadata": {},
     "output_type": "execute_result"
    }
   ],
   "source": [
    "#избавляемся от ненужного столбца методом drop и выводим первые 3 строки\n",
    "internet = internet.drop(['Unnamed: 0'], axis=1)\n",
    "internet.head(3)"
   ]
  },
  {
   "cell_type": "markdown",
   "metadata": {},
   "source": [
    "Как видно, теперь ненужного столбца нет. Можно переходить к следующему этапу предобработки - замене типов данных."
   ]
  },
  {
   "cell_type": "markdown",
   "metadata": {},
   "source": [
    "### Замена типов данных"
   ]
  },
  {
   "cell_type": "markdown",
   "metadata": {},
   "source": [
    "Как мы уже убедились ранее, пропусков, нуждающихся в исправлении, в таблицах нет. Следовательно, можем переходить к замене типов данных там, где это необходимо. Заменим сразу во всех таблицах столбцы с датами на тип `datetime`: "
   ]
  },
  {
   "cell_type": "code",
   "execution_count": 14,
   "metadata": {},
   "outputs": [],
   "source": [
    "#заменяем столбца с датами во всех таблицах на тип datetime при помощи метода pandas\n",
    "users['churn_date'] = pd.to_datetime(users['churn_date'], format=\"%Y-%m-%d\")\n",
    "users['reg_date'] = pd.to_datetime(users['reg_date'], format=\"%Y-%m-%d\")\n",
    "calls['call_date'] = pd.to_datetime(calls['call_date'], format=\"%Y-%m-%d\")\n",
    "internet['session_date'] = pd.to_datetime(internet['session_date'], format=\"%Y-%m-%d\")\n",
    "messages['message_date'] = pd.to_datetime(messages['message_date'], format=\"%Y-%m-%d\")"
   ]
  },
  {
   "cell_type": "markdown",
   "metadata": {},
   "source": [
    "Также необходимо учитывать, что оператор берёт плату по звонкам особым образом. Данный показатель всегда округляется \"вверх\", то есть после минуты разговора любая секунда будет стоить пользователю так же, как и полноценная минута. Необходимо округлить нужным образом столбец с длительностью разговоров и перевести столбец в целочисленный формат. Сделаем это:"
   ]
  },
  {
   "cell_type": "code",
   "execution_count": 15,
   "metadata": {},
   "outputs": [],
   "source": [
    "#одной командой округляем значения \"вверх\" в столбце duration и оставляем целочисленный формат \n",
    "calls['duration'] = np.ceil(calls['duration']).astype('int')"
   ]
  },
  {
   "cell_type": "markdown",
   "metadata": {},
   "source": [
    "На этом замена типов данных завершена. Можем переходить к подготовке данных к следующим этапам исследования."
   ]
  },
  {
   "cell_type": "markdown",
   "metadata": {},
   "source": [
    "### Подготовка данных"
   ]
  },
  {
   "cell_type": "markdown",
   "metadata": {},
   "source": [
    "Посчитаем количество сделанных звонков и израсходованных минут разговора по месяцам для каждого пользователя. Для этого нам потребуется месяц каждого звонка пользователя. Добавим для этого отдельный столбец в таблицу `calls`:"
   ]
  },
  {
   "cell_type": "code",
   "execution_count": 16,
   "metadata": {},
   "outputs": [],
   "source": [
    "#создаём столбец с месяцем каждого звонка\n",
    "calls['month'] = calls['call_date'].dt.month"
   ]
  },
  {
   "cell_type": "markdown",
   "metadata": {},
   "source": [
    "Теперь можно посчитать количество сделанных звонков и минут разговора пользователей по месяцам. Для этого воспользуемся сводными таблицами:"
   ]
  },
  {
   "cell_type": "code",
   "execution_count": 17,
   "metadata": {},
   "outputs": [
    {
     "data": {
      "text/html": [
       "<div>\n",
       "<style scoped>\n",
       "    .dataframe tbody tr th:only-of-type {\n",
       "        vertical-align: middle;\n",
       "    }\n",
       "\n",
       "    .dataframe tbody tr th {\n",
       "        vertical-align: top;\n",
       "    }\n",
       "\n",
       "    .dataframe thead tr th {\n",
       "        text-align: left;\n",
       "    }\n",
       "</style>\n",
       "<table border=\"1\" class=\"dataframe\">\n",
       "  <thead>\n",
       "    <tr>\n",
       "      <th></th>\n",
       "      <th>user_id</th>\n",
       "      <th>month</th>\n",
       "      <th>count</th>\n",
       "      <th>sum</th>\n",
       "    </tr>\n",
       "    <tr>\n",
       "      <th></th>\n",
       "      <th></th>\n",
       "      <th></th>\n",
       "      <th>duration</th>\n",
       "      <th>duration</th>\n",
       "    </tr>\n",
       "  </thead>\n",
       "  <tbody>\n",
       "    <tr>\n",
       "      <td>0</td>\n",
       "      <td>1000</td>\n",
       "      <td>5</td>\n",
       "      <td>22</td>\n",
       "      <td>159</td>\n",
       "    </tr>\n",
       "    <tr>\n",
       "      <td>1</td>\n",
       "      <td>1000</td>\n",
       "      <td>6</td>\n",
       "      <td>43</td>\n",
       "      <td>172</td>\n",
       "    </tr>\n",
       "    <tr>\n",
       "      <td>2</td>\n",
       "      <td>1000</td>\n",
       "      <td>7</td>\n",
       "      <td>47</td>\n",
       "      <td>340</td>\n",
       "    </tr>\n",
       "    <tr>\n",
       "      <td>3</td>\n",
       "      <td>1000</td>\n",
       "      <td>8</td>\n",
       "      <td>52</td>\n",
       "      <td>408</td>\n",
       "    </tr>\n",
       "    <tr>\n",
       "      <td>4</td>\n",
       "      <td>1000</td>\n",
       "      <td>9</td>\n",
       "      <td>58</td>\n",
       "      <td>466</td>\n",
       "    </tr>\n",
       "    <tr>\n",
       "      <td>...</td>\n",
       "      <td>...</td>\n",
       "      <td>...</td>\n",
       "      <td>...</td>\n",
       "      <td>...</td>\n",
       "    </tr>\n",
       "    <tr>\n",
       "      <td>3169</td>\n",
       "      <td>1498</td>\n",
       "      <td>10</td>\n",
       "      <td>41</td>\n",
       "      <td>247</td>\n",
       "    </tr>\n",
       "    <tr>\n",
       "      <td>3170</td>\n",
       "      <td>1499</td>\n",
       "      <td>9</td>\n",
       "      <td>9</td>\n",
       "      <td>70</td>\n",
       "    </tr>\n",
       "    <tr>\n",
       "      <td>3171</td>\n",
       "      <td>1499</td>\n",
       "      <td>10</td>\n",
       "      <td>68</td>\n",
       "      <td>449</td>\n",
       "    </tr>\n",
       "    <tr>\n",
       "      <td>3172</td>\n",
       "      <td>1499</td>\n",
       "      <td>11</td>\n",
       "      <td>74</td>\n",
       "      <td>612</td>\n",
       "    </tr>\n",
       "    <tr>\n",
       "      <td>3173</td>\n",
       "      <td>1499</td>\n",
       "      <td>12</td>\n",
       "      <td>69</td>\n",
       "      <td>492</td>\n",
       "    </tr>\n",
       "  </tbody>\n",
       "</table>\n",
       "<p>3174 rows × 4 columns</p>\n",
       "</div>"
      ],
      "text/plain": [
       "     user_id month    count      sum\n",
       "                   duration duration\n",
       "0       1000     5       22      159\n",
       "1       1000     6       43      172\n",
       "2       1000     7       47      340\n",
       "3       1000     8       52      408\n",
       "4       1000     9       58      466\n",
       "...      ...   ...      ...      ...\n",
       "3169    1498    10       41      247\n",
       "3170    1499     9        9       70\n",
       "3171    1499    10       68      449\n",
       "3172    1499    11       74      612\n",
       "3173    1499    12       69      492\n",
       "\n",
       "[3174 rows x 4 columns]"
      ]
     },
     "execution_count": 17,
     "metadata": {},
     "output_type": "execute_result"
    }
   ],
   "source": [
    "#при помощи сводных таблиц создаём таблицу, где каждому пользователю соответствует количество \n",
    "# и продолжительность звонков по месяцам\n",
    "pivot_calls = pd.pivot_table(calls, index=['user_id', 'month'], values='duration', aggfunc=['count', 'sum'])\n",
    "pivot_calls = pivot_calls.reset_index()\n",
    "pivot_calls"
   ]
  },
  {
   "cell_type": "markdown",
   "metadata": {},
   "source": [
    "Таблица выглядит не слишком наглядно. Посмотрим на среднее количество звонков по всем пользователям за год:"
   ]
  },
  {
   "cell_type": "code",
   "execution_count": 18,
   "metadata": {},
   "outputs": [
    {
     "data": {
      "text/plain": [
       "duration    63.833333\n",
       "dtype: float64"
      ]
     },
     "execution_count": 18,
     "metadata": {},
     "output_type": "execute_result"
    }
   ],
   "source": [
    "pivot_calls['count'].mean()"
   ]
  },
  {
   "cell_type": "code",
   "execution_count": 19,
   "metadata": {},
   "outputs": [
    {
     "data": {
      "text/plain": [
       "duration    7.158198\n",
       "dtype: float64"
      ]
     },
     "execution_count": 19,
     "metadata": {},
     "output_type": "execute_result"
    }
   ],
   "source": [
    "#находим среднюю длительность одного разговора по всем пользователям\n",
    "pivot_calls['sum'].mean() / pivot_calls['count'].mean()"
   ]
  },
  {
   "cell_type": "markdown",
   "metadata": {},
   "source": [
    "В течение года длительность разговора среднего пользователя, по нашим данным, составляет чуть более 7 минут. Любопытная статистика, которая еще пригодится нам для дальнейшего исследования. Перед тем, как переходить далее, обращаем внимание, что в сводной таблице появились некорректные названия и мультииндексы, с которыми будет проблематично работать, поэтому переименуем столбцы таблицы:"
   ]
  },
  {
   "cell_type": "code",
   "execution_count": 20,
   "metadata": {},
   "outputs": [],
   "source": [
    "#сглаживаем мультииндексы, а затем переименовываем их на нужные \n",
    "pivot_calls.columns = pivot_calls.columns.to_flat_index()\n",
    "pivot_calls = pivot_calls.rename(columns={('user_id', ''): 'user_id', ('month', ''): 'month', \n",
    "                                          ('count', 'duration'): 'count_calls', ('sum', 'duration'): 'duration_calls'})"
   ]
  },
  {
   "cell_type": "markdown",
   "metadata": {},
   "source": [
    "Теперь найдём количество отправленных пользователями сообщений по месяцам. Сначала, для этого добавим в таблицу `messages` столбец с месяцем:"
   ]
  },
  {
   "cell_type": "code",
   "execution_count": 21,
   "metadata": {},
   "outputs": [],
   "source": [
    "#создаём столбец с месяцем каждого сообщения\n",
    "messages['month'] = messages['message_date'].dt.month"
   ]
  },
  {
   "cell_type": "markdown",
   "metadata": {},
   "source": [
    "Теперь применим сводные таблицы и рассчитаем количество отправленных пользователями сообщений по месяцам:"
   ]
  },
  {
   "cell_type": "code",
   "execution_count": 22,
   "metadata": {},
   "outputs": [
    {
     "data": {
      "text/html": [
       "<div>\n",
       "<style scoped>\n",
       "    .dataframe tbody tr th:only-of-type {\n",
       "        vertical-align: middle;\n",
       "    }\n",
       "\n",
       "    .dataframe tbody tr th {\n",
       "        vertical-align: top;\n",
       "    }\n",
       "\n",
       "    .dataframe thead th {\n",
       "        text-align: right;\n",
       "    }\n",
       "</style>\n",
       "<table border=\"1\" class=\"dataframe\">\n",
       "  <thead>\n",
       "    <tr style=\"text-align: right;\">\n",
       "      <th></th>\n",
       "      <th>user_id</th>\n",
       "      <th>month</th>\n",
       "      <th>id</th>\n",
       "    </tr>\n",
       "  </thead>\n",
       "  <tbody>\n",
       "    <tr>\n",
       "      <td>0</td>\n",
       "      <td>1000</td>\n",
       "      <td>5</td>\n",
       "      <td>22</td>\n",
       "    </tr>\n",
       "    <tr>\n",
       "      <td>1</td>\n",
       "      <td>1000</td>\n",
       "      <td>6</td>\n",
       "      <td>60</td>\n",
       "    </tr>\n",
       "    <tr>\n",
       "      <td>2</td>\n",
       "      <td>1000</td>\n",
       "      <td>7</td>\n",
       "      <td>75</td>\n",
       "    </tr>\n",
       "    <tr>\n",
       "      <td>3</td>\n",
       "      <td>1000</td>\n",
       "      <td>8</td>\n",
       "      <td>81</td>\n",
       "    </tr>\n",
       "    <tr>\n",
       "      <td>4</td>\n",
       "      <td>1000</td>\n",
       "      <td>9</td>\n",
       "      <td>57</td>\n",
       "    </tr>\n",
       "    <tr>\n",
       "      <td>...</td>\n",
       "      <td>...</td>\n",
       "      <td>...</td>\n",
       "      <td>...</td>\n",
       "    </tr>\n",
       "    <tr>\n",
       "      <td>2712</td>\n",
       "      <td>1498</td>\n",
       "      <td>10</td>\n",
       "      <td>42</td>\n",
       "    </tr>\n",
       "    <tr>\n",
       "      <td>2713</td>\n",
       "      <td>1499</td>\n",
       "      <td>9</td>\n",
       "      <td>11</td>\n",
       "    </tr>\n",
       "    <tr>\n",
       "      <td>2714</td>\n",
       "      <td>1499</td>\n",
       "      <td>10</td>\n",
       "      <td>48</td>\n",
       "    </tr>\n",
       "    <tr>\n",
       "      <td>2715</td>\n",
       "      <td>1499</td>\n",
       "      <td>11</td>\n",
       "      <td>59</td>\n",
       "    </tr>\n",
       "    <tr>\n",
       "      <td>2716</td>\n",
       "      <td>1499</td>\n",
       "      <td>12</td>\n",
       "      <td>66</td>\n",
       "    </tr>\n",
       "  </tbody>\n",
       "</table>\n",
       "<p>2717 rows × 3 columns</p>\n",
       "</div>"
      ],
      "text/plain": [
       "      user_id  month  id\n",
       "0        1000      5  22\n",
       "1        1000      6  60\n",
       "2        1000      7  75\n",
       "3        1000      8  81\n",
       "4        1000      9  57\n",
       "...       ...    ...  ..\n",
       "2712     1498     10  42\n",
       "2713     1499      9  11\n",
       "2714     1499     10  48\n",
       "2715     1499     11  59\n",
       "2716     1499     12  66\n",
       "\n",
       "[2717 rows x 3 columns]"
      ]
     },
     "execution_count": 22,
     "metadata": {},
     "output_type": "execute_result"
    }
   ],
   "source": [
    "#при помощи сводных таблиц создаём таблицу, где каждому пользователю соответствует количество сообщений по месяцам\n",
    "pivot_messages = pd.pivot_table(messages, index=['user_id', 'month'], values='id', aggfunc='count')\n",
    "pivot_messages = pivot_messages.reset_index()\n",
    "pivot_messages"
   ]
  },
  {
   "cell_type": "markdown",
   "metadata": {},
   "source": [
    "Чтобы далее не забыть, что значит данный столбец, сразу переименуем его в нужный:"
   ]
  },
  {
   "cell_type": "code",
   "execution_count": 23,
   "metadata": {},
   "outputs": [],
   "source": [
    "#переименовываем столбец id в count_messages\n",
    "pivot_messages = pivot_messages.rename(columns={'id': 'count_messages'})"
   ]
  },
  {
   "cell_type": "markdown",
   "metadata": {},
   "source": [
    "Теперь обратимся к объему израсходованного интернет-трафика пользователей по месяцам. Перед этим добавим в таблицу `internet` месяцы:"
   ]
  },
  {
   "cell_type": "code",
   "execution_count": 24,
   "metadata": {},
   "outputs": [],
   "source": [
    "#создаём столбец с месяцем каждого расхода интернет-трафика пользователями\n",
    "internet['month'] = internet['session_date'].dt.month"
   ]
  },
  {
   "cell_type": "markdown",
   "metadata": {},
   "source": [
    "Применим сводные таблицы и рассчитаем количество интернет-трафика по месяцам для каждого:"
   ]
  },
  {
   "cell_type": "code",
   "execution_count": 25,
   "metadata": {},
   "outputs": [
    {
     "data": {
      "text/html": [
       "<div>\n",
       "<style scoped>\n",
       "    .dataframe tbody tr th:only-of-type {\n",
       "        vertical-align: middle;\n",
       "    }\n",
       "\n",
       "    .dataframe tbody tr th {\n",
       "        vertical-align: top;\n",
       "    }\n",
       "\n",
       "    .dataframe thead th {\n",
       "        text-align: right;\n",
       "    }\n",
       "</style>\n",
       "<table border=\"1\" class=\"dataframe\">\n",
       "  <thead>\n",
       "    <tr style=\"text-align: right;\">\n",
       "      <th></th>\n",
       "      <th>user_id</th>\n",
       "      <th>month</th>\n",
       "      <th>mb_used</th>\n",
       "    </tr>\n",
       "  </thead>\n",
       "  <tbody>\n",
       "    <tr>\n",
       "      <td>0</td>\n",
       "      <td>1000</td>\n",
       "      <td>5</td>\n",
       "      <td>2253.49</td>\n",
       "    </tr>\n",
       "    <tr>\n",
       "      <td>1</td>\n",
       "      <td>1000</td>\n",
       "      <td>6</td>\n",
       "      <td>23233.77</td>\n",
       "    </tr>\n",
       "    <tr>\n",
       "      <td>2</td>\n",
       "      <td>1000</td>\n",
       "      <td>7</td>\n",
       "      <td>14003.64</td>\n",
       "    </tr>\n",
       "    <tr>\n",
       "      <td>3</td>\n",
       "      <td>1000</td>\n",
       "      <td>8</td>\n",
       "      <td>14055.93</td>\n",
       "    </tr>\n",
       "    <tr>\n",
       "      <td>4</td>\n",
       "      <td>1000</td>\n",
       "      <td>9</td>\n",
       "      <td>14568.91</td>\n",
       "    </tr>\n",
       "    <tr>\n",
       "      <td>...</td>\n",
       "      <td>...</td>\n",
       "      <td>...</td>\n",
       "      <td>...</td>\n",
       "    </tr>\n",
       "    <tr>\n",
       "      <td>3198</td>\n",
       "      <td>1498</td>\n",
       "      <td>10</td>\n",
       "      <td>20579.36</td>\n",
       "    </tr>\n",
       "    <tr>\n",
       "      <td>3199</td>\n",
       "      <td>1499</td>\n",
       "      <td>9</td>\n",
       "      <td>1845.75</td>\n",
       "    </tr>\n",
       "    <tr>\n",
       "      <td>3200</td>\n",
       "      <td>1499</td>\n",
       "      <td>10</td>\n",
       "      <td>17788.51</td>\n",
       "    </tr>\n",
       "    <tr>\n",
       "      <td>3201</td>\n",
       "      <td>1499</td>\n",
       "      <td>11</td>\n",
       "      <td>17963.31</td>\n",
       "    </tr>\n",
       "    <tr>\n",
       "      <td>3202</td>\n",
       "      <td>1499</td>\n",
       "      <td>12</td>\n",
       "      <td>13055.58</td>\n",
       "    </tr>\n",
       "  </tbody>\n",
       "</table>\n",
       "<p>3203 rows × 3 columns</p>\n",
       "</div>"
      ],
      "text/plain": [
       "      user_id  month   mb_used\n",
       "0        1000      5   2253.49\n",
       "1        1000      6  23233.77\n",
       "2        1000      7  14003.64\n",
       "3        1000      8  14055.93\n",
       "4        1000      9  14568.91\n",
       "...       ...    ...       ...\n",
       "3198     1498     10  20579.36\n",
       "3199     1499      9   1845.75\n",
       "3200     1499     10  17788.51\n",
       "3201     1499     11  17963.31\n",
       "3202     1499     12  13055.58\n",
       "\n",
       "[3203 rows x 3 columns]"
      ]
     },
     "execution_count": 25,
     "metadata": {},
     "output_type": "execute_result"
    }
   ],
   "source": [
    "#при помощи сводных таблиц создаём таблицу, где каждому пользователю соответствует интернет-трафик по месяцам\n",
    "pivot_internet = pd.pivot_table(internet, index=['user_id', 'month'], values='mb_used', aggfunc='sum')\n",
    "pivot_internet = pivot_internet.reset_index()\n",
    "pivot_internet"
   ]
  },
  {
   "cell_type": "markdown",
   "metadata": {},
   "source": [
    "По интернет-трафику у оператора существует следующее правило: если пользователь использовал хотя бы 1 МБ свыше первого ГБ, то оператор считает это как 2 ГБ. Следовательно, необходимо перевести МБ в нашей таблице в ГБ с округлением \"вверх\" и переводом в целочисленный формат. Сделаем это:"
   ]
  },
  {
   "cell_type": "code",
   "execution_count": 26,
   "metadata": {},
   "outputs": [
    {
     "data": {
      "text/html": [
       "<div>\n",
       "<style scoped>\n",
       "    .dataframe tbody tr th:only-of-type {\n",
       "        vertical-align: middle;\n",
       "    }\n",
       "\n",
       "    .dataframe tbody tr th {\n",
       "        vertical-align: top;\n",
       "    }\n",
       "\n",
       "    .dataframe thead th {\n",
       "        text-align: right;\n",
       "    }\n",
       "</style>\n",
       "<table border=\"1\" class=\"dataframe\">\n",
       "  <thead>\n",
       "    <tr style=\"text-align: right;\">\n",
       "      <th></th>\n",
       "      <th>user_id</th>\n",
       "      <th>month</th>\n",
       "      <th>mb_used</th>\n",
       "    </tr>\n",
       "  </thead>\n",
       "  <tbody>\n",
       "    <tr>\n",
       "      <td>0</td>\n",
       "      <td>1000</td>\n",
       "      <td>5</td>\n",
       "      <td>3</td>\n",
       "    </tr>\n",
       "    <tr>\n",
       "      <td>1</td>\n",
       "      <td>1000</td>\n",
       "      <td>6</td>\n",
       "      <td>23</td>\n",
       "    </tr>\n",
       "    <tr>\n",
       "      <td>2</td>\n",
       "      <td>1000</td>\n",
       "      <td>7</td>\n",
       "      <td>14</td>\n",
       "    </tr>\n",
       "    <tr>\n",
       "      <td>3</td>\n",
       "      <td>1000</td>\n",
       "      <td>8</td>\n",
       "      <td>14</td>\n",
       "    </tr>\n",
       "    <tr>\n",
       "      <td>4</td>\n",
       "      <td>1000</td>\n",
       "      <td>9</td>\n",
       "      <td>15</td>\n",
       "    </tr>\n",
       "    <tr>\n",
       "      <td>...</td>\n",
       "      <td>...</td>\n",
       "      <td>...</td>\n",
       "      <td>...</td>\n",
       "    </tr>\n",
       "    <tr>\n",
       "      <td>3198</td>\n",
       "      <td>1498</td>\n",
       "      <td>10</td>\n",
       "      <td>21</td>\n",
       "    </tr>\n",
       "    <tr>\n",
       "      <td>3199</td>\n",
       "      <td>1499</td>\n",
       "      <td>9</td>\n",
       "      <td>2</td>\n",
       "    </tr>\n",
       "    <tr>\n",
       "      <td>3200</td>\n",
       "      <td>1499</td>\n",
       "      <td>10</td>\n",
       "      <td>18</td>\n",
       "    </tr>\n",
       "    <tr>\n",
       "      <td>3201</td>\n",
       "      <td>1499</td>\n",
       "      <td>11</td>\n",
       "      <td>18</td>\n",
       "    </tr>\n",
       "    <tr>\n",
       "      <td>3202</td>\n",
       "      <td>1499</td>\n",
       "      <td>12</td>\n",
       "      <td>13</td>\n",
       "    </tr>\n",
       "  </tbody>\n",
       "</table>\n",
       "<p>3203 rows × 3 columns</p>\n",
       "</div>"
      ],
      "text/plain": [
       "      user_id  month  mb_used\n",
       "0        1000      5        3\n",
       "1        1000      6       23\n",
       "2        1000      7       14\n",
       "3        1000      8       14\n",
       "4        1000      9       15\n",
       "...       ...    ...      ...\n",
       "3198     1498     10       21\n",
       "3199     1499      9        2\n",
       "3200     1499     10       18\n",
       "3201     1499     11       18\n",
       "3202     1499     12       13\n",
       "\n",
       "[3203 rows x 3 columns]"
      ]
     },
     "execution_count": 26,
     "metadata": {},
     "output_type": "execute_result"
    }
   ],
   "source": [
    "#переводим МБ в ГБ в таблице и округляем значения \"вверх\" до целочисленного значения\n",
    "pivot_internet['mb_used'] = pivot_internet['mb_used'] / 1024\n",
    "pivot_internet['mb_used'] = np.ceil(pivot_internet['mb_used']).astype('int')\n",
    "pivot_internet"
   ]
  },
  {
   "cell_type": "markdown",
   "metadata": {},
   "source": [
    "Также стоит сменить название столбца в нашей столбце, так как мы изменили единицы измерения в ней:"
   ]
  },
  {
   "cell_type": "code",
   "execution_count": 27,
   "metadata": {},
   "outputs": [],
   "source": [
    "#меняем название столбца в таблице\n",
    "pivot_internet = pivot_internet.rename(columns={'mb_used': 'gb_used'})"
   ]
  },
  {
   "cell_type": "markdown",
   "metadata": {},
   "source": [
    "Наконец, необходимо найти помесячную выручку с каждого пользователя. Для этого вычтем бесплатный лимит из суммарного количества звонков, сообщений и интернет-трафика; остаток умножим на значение из тарифного плана и прибавим абонентскую плату по тарифу. Однако, для начала необходимо объединить три наши сводные таблицы воедино:"
   ]
  },
  {
   "cell_type": "code",
   "execution_count": 28,
   "metadata": {},
   "outputs": [
    {
     "data": {
      "text/html": [
       "<div>\n",
       "<style scoped>\n",
       "    .dataframe tbody tr th:only-of-type {\n",
       "        vertical-align: middle;\n",
       "    }\n",
       "\n",
       "    .dataframe tbody tr th {\n",
       "        vertical-align: top;\n",
       "    }\n",
       "\n",
       "    .dataframe thead th {\n",
       "        text-align: right;\n",
       "    }\n",
       "</style>\n",
       "<table border=\"1\" class=\"dataframe\">\n",
       "  <thead>\n",
       "    <tr style=\"text-align: right;\">\n",
       "      <th></th>\n",
       "      <th>user_id</th>\n",
       "      <th>month</th>\n",
       "      <th>count_calls</th>\n",
       "      <th>duration_calls</th>\n",
       "      <th>count_messages</th>\n",
       "      <th>gb_used</th>\n",
       "    </tr>\n",
       "  </thead>\n",
       "  <tbody>\n",
       "    <tr>\n",
       "      <td>0</td>\n",
       "      <td>1000</td>\n",
       "      <td>5</td>\n",
       "      <td>22.0</td>\n",
       "      <td>159.0</td>\n",
       "      <td>22.0</td>\n",
       "      <td>3.0</td>\n",
       "    </tr>\n",
       "    <tr>\n",
       "      <td>1</td>\n",
       "      <td>1000</td>\n",
       "      <td>6</td>\n",
       "      <td>43.0</td>\n",
       "      <td>172.0</td>\n",
       "      <td>60.0</td>\n",
       "      <td>23.0</td>\n",
       "    </tr>\n",
       "    <tr>\n",
       "      <td>2</td>\n",
       "      <td>1000</td>\n",
       "      <td>7</td>\n",
       "      <td>47.0</td>\n",
       "      <td>340.0</td>\n",
       "      <td>75.0</td>\n",
       "      <td>14.0</td>\n",
       "    </tr>\n",
       "    <tr>\n",
       "      <td>3</td>\n",
       "      <td>1000</td>\n",
       "      <td>8</td>\n",
       "      <td>52.0</td>\n",
       "      <td>408.0</td>\n",
       "      <td>81.0</td>\n",
       "      <td>14.0</td>\n",
       "    </tr>\n",
       "    <tr>\n",
       "      <td>4</td>\n",
       "      <td>1000</td>\n",
       "      <td>9</td>\n",
       "      <td>58.0</td>\n",
       "      <td>466.0</td>\n",
       "      <td>57.0</td>\n",
       "      <td>15.0</td>\n",
       "    </tr>\n",
       "    <tr>\n",
       "      <td>...</td>\n",
       "      <td>...</td>\n",
       "      <td>...</td>\n",
       "      <td>...</td>\n",
       "      <td>...</td>\n",
       "      <td>...</td>\n",
       "      <td>...</td>\n",
       "    </tr>\n",
       "    <tr>\n",
       "      <td>3209</td>\n",
       "      <td>1489</td>\n",
       "      <td>9</td>\n",
       "      <td>NaN</td>\n",
       "      <td>NaN</td>\n",
       "      <td>32.0</td>\n",
       "      <td>17.0</td>\n",
       "    </tr>\n",
       "    <tr>\n",
       "      <td>3210</td>\n",
       "      <td>1489</td>\n",
       "      <td>10</td>\n",
       "      <td>NaN</td>\n",
       "      <td>NaN</td>\n",
       "      <td>21.0</td>\n",
       "      <td>20.0</td>\n",
       "    </tr>\n",
       "    <tr>\n",
       "      <td>3211</td>\n",
       "      <td>1489</td>\n",
       "      <td>11</td>\n",
       "      <td>NaN</td>\n",
       "      <td>NaN</td>\n",
       "      <td>20.0</td>\n",
       "      <td>18.0</td>\n",
       "    </tr>\n",
       "    <tr>\n",
       "      <td>3212</td>\n",
       "      <td>1489</td>\n",
       "      <td>12</td>\n",
       "      <td>NaN</td>\n",
       "      <td>NaN</td>\n",
       "      <td>35.0</td>\n",
       "      <td>17.0</td>\n",
       "    </tr>\n",
       "    <tr>\n",
       "      <td>3213</td>\n",
       "      <td>1476</td>\n",
       "      <td>4</td>\n",
       "      <td>NaN</td>\n",
       "      <td>NaN</td>\n",
       "      <td>NaN</td>\n",
       "      <td>1.0</td>\n",
       "    </tr>\n",
       "  </tbody>\n",
       "</table>\n",
       "<p>3214 rows × 6 columns</p>\n",
       "</div>"
      ],
      "text/plain": [
       "      user_id  month  count_calls  duration_calls  count_messages  gb_used\n",
       "0        1000      5         22.0           159.0            22.0      3.0\n",
       "1        1000      6         43.0           172.0            60.0     23.0\n",
       "2        1000      7         47.0           340.0            75.0     14.0\n",
       "3        1000      8         52.0           408.0            81.0     14.0\n",
       "4        1000      9         58.0           466.0            57.0     15.0\n",
       "...       ...    ...          ...             ...             ...      ...\n",
       "3209     1489      9          NaN             NaN            32.0     17.0\n",
       "3210     1489     10          NaN             NaN            21.0     20.0\n",
       "3211     1489     11          NaN             NaN            20.0     18.0\n",
       "3212     1489     12          NaN             NaN            35.0     17.0\n",
       "3213     1476      4          NaN             NaN             NaN      1.0\n",
       "\n",
       "[3214 rows x 6 columns]"
      ]
     },
     "execution_count": 28,
     "metadata": {},
     "output_type": "execute_result"
    }
   ],
   "source": [
    "df = pivot_calls.merge(pivot_messages, on=['user_id', 'month'], how='outer')\n",
    "df = df.merge(pivot_internet, on=['user_id', 'month'], how='outer')\n",
    "df"
   ]
  },
  {
   "cell_type": "markdown",
   "metadata": {},
   "source": [
    "Получилось 3214 строк. Применив объединение с помощью `outer` мы не потеряли тех, кто, например, пользовался интернетом, но не совершал звонков. Теперь необходимо отличить различные тарифы пользователей. Для этого нужно соединить таблицу `users` с получившейся таблицей `df`. Тогда можно будет переходить к расчётам."
   ]
  },
  {
   "cell_type": "code",
   "execution_count": 29,
   "metadata": {},
   "outputs": [
    {
     "data": {
      "text/html": [
       "<div>\n",
       "<style scoped>\n",
       "    .dataframe tbody tr th:only-of-type {\n",
       "        vertical-align: middle;\n",
       "    }\n",
       "\n",
       "    .dataframe tbody tr th {\n",
       "        vertical-align: top;\n",
       "    }\n",
       "\n",
       "    .dataframe thead th {\n",
       "        text-align: right;\n",
       "    }\n",
       "</style>\n",
       "<table border=\"1\" class=\"dataframe\">\n",
       "  <thead>\n",
       "    <tr style=\"text-align: right;\">\n",
       "      <th></th>\n",
       "      <th>user_id</th>\n",
       "      <th>month</th>\n",
       "      <th>count_calls</th>\n",
       "      <th>duration_calls</th>\n",
       "      <th>count_messages</th>\n",
       "      <th>gb_used</th>\n",
       "      <th>age</th>\n",
       "      <th>churn_date</th>\n",
       "      <th>city</th>\n",
       "      <th>first_name</th>\n",
       "      <th>last_name</th>\n",
       "      <th>reg_date</th>\n",
       "      <th>tariff</th>\n",
       "    </tr>\n",
       "  </thead>\n",
       "  <tbody>\n",
       "    <tr>\n",
       "      <td>0</td>\n",
       "      <td>1000</td>\n",
       "      <td>5</td>\n",
       "      <td>22.0</td>\n",
       "      <td>159.0</td>\n",
       "      <td>22.0</td>\n",
       "      <td>3.0</td>\n",
       "      <td>52</td>\n",
       "      <td>NaT</td>\n",
       "      <td>Краснодар</td>\n",
       "      <td>Рафаил</td>\n",
       "      <td>Верещагин</td>\n",
       "      <td>2018-05-25</td>\n",
       "      <td>ultra</td>\n",
       "    </tr>\n",
       "    <tr>\n",
       "      <td>1</td>\n",
       "      <td>1000</td>\n",
       "      <td>6</td>\n",
       "      <td>43.0</td>\n",
       "      <td>172.0</td>\n",
       "      <td>60.0</td>\n",
       "      <td>23.0</td>\n",
       "      <td>52</td>\n",
       "      <td>NaT</td>\n",
       "      <td>Краснодар</td>\n",
       "      <td>Рафаил</td>\n",
       "      <td>Верещагин</td>\n",
       "      <td>2018-05-25</td>\n",
       "      <td>ultra</td>\n",
       "    </tr>\n",
       "    <tr>\n",
       "      <td>2</td>\n",
       "      <td>1000</td>\n",
       "      <td>7</td>\n",
       "      <td>47.0</td>\n",
       "      <td>340.0</td>\n",
       "      <td>75.0</td>\n",
       "      <td>14.0</td>\n",
       "      <td>52</td>\n",
       "      <td>NaT</td>\n",
       "      <td>Краснодар</td>\n",
       "      <td>Рафаил</td>\n",
       "      <td>Верещагин</td>\n",
       "      <td>2018-05-25</td>\n",
       "      <td>ultra</td>\n",
       "    </tr>\n",
       "    <tr>\n",
       "      <td>3</td>\n",
       "      <td>1000</td>\n",
       "      <td>8</td>\n",
       "      <td>52.0</td>\n",
       "      <td>408.0</td>\n",
       "      <td>81.0</td>\n",
       "      <td>14.0</td>\n",
       "      <td>52</td>\n",
       "      <td>NaT</td>\n",
       "      <td>Краснодар</td>\n",
       "      <td>Рафаил</td>\n",
       "      <td>Верещагин</td>\n",
       "      <td>2018-05-25</td>\n",
       "      <td>ultra</td>\n",
       "    </tr>\n",
       "    <tr>\n",
       "      <td>4</td>\n",
       "      <td>1000</td>\n",
       "      <td>9</td>\n",
       "      <td>58.0</td>\n",
       "      <td>466.0</td>\n",
       "      <td>57.0</td>\n",
       "      <td>15.0</td>\n",
       "      <td>52</td>\n",
       "      <td>NaT</td>\n",
       "      <td>Краснодар</td>\n",
       "      <td>Рафаил</td>\n",
       "      <td>Верещагин</td>\n",
       "      <td>2018-05-25</td>\n",
       "      <td>ultra</td>\n",
       "    </tr>\n",
       "  </tbody>\n",
       "</table>\n",
       "</div>"
      ],
      "text/plain": [
       "   user_id  month  count_calls  duration_calls  count_messages  gb_used  age  \\\n",
       "0     1000      5         22.0           159.0            22.0      3.0   52   \n",
       "1     1000      6         43.0           172.0            60.0     23.0   52   \n",
       "2     1000      7         47.0           340.0            75.0     14.0   52   \n",
       "3     1000      8         52.0           408.0            81.0     14.0   52   \n",
       "4     1000      9         58.0           466.0            57.0     15.0   52   \n",
       "\n",
       "  churn_date       city first_name  last_name   reg_date tariff  \n",
       "0        NaT  Краснодар     Рафаил  Верещагин 2018-05-25  ultra  \n",
       "1        NaT  Краснодар     Рафаил  Верещагин 2018-05-25  ultra  \n",
       "2        NaT  Краснодар     Рафаил  Верещагин 2018-05-25  ultra  \n",
       "3        NaT  Краснодар     Рафаил  Верещагин 2018-05-25  ultra  \n",
       "4        NaT  Краснодар     Рафаил  Верещагин 2018-05-25  ultra  "
      ]
     },
     "execution_count": 29,
     "metadata": {},
     "output_type": "execute_result"
    }
   ],
   "source": [
    "#объединяем таблицы с расчётами с таблицей users и выводим на экран первые 5 строк таблицы df\n",
    "df = df.merge(users, on='user_id', how='left')\n",
    "df.head()"
   ]
  },
  {
   "cell_type": "markdown",
   "metadata": {},
   "source": [
    "Наконец, пора что-то сделать с нашей последней стартовой таблицей - `tariffs`. Мы объединим её с таблицей `df`, чтобы информация по расценкам тарифов была сразу доступна из одного источника, но перед этим изменим имена столбцов `tariff_name` и `mb_per_month_included` в таблице `tariffs` на `tariff` для удачного объединения:"
   ]
  },
  {
   "cell_type": "code",
   "execution_count": 30,
   "metadata": {},
   "outputs": [
    {
     "data": {
      "text/html": [
       "<div>\n",
       "<style scoped>\n",
       "    .dataframe tbody tr th:only-of-type {\n",
       "        vertical-align: middle;\n",
       "    }\n",
       "\n",
       "    .dataframe tbody tr th {\n",
       "        vertical-align: top;\n",
       "    }\n",
       "\n",
       "    .dataframe thead th {\n",
       "        text-align: right;\n",
       "    }\n",
       "</style>\n",
       "<table border=\"1\" class=\"dataframe\">\n",
       "  <thead>\n",
       "    <tr style=\"text-align: right;\">\n",
       "      <th></th>\n",
       "      <th>messages_included</th>\n",
       "      <th>gb_per_month_included</th>\n",
       "      <th>minutes_included</th>\n",
       "      <th>rub_monthly_fee</th>\n",
       "      <th>rub_per_gb</th>\n",
       "      <th>rub_per_message</th>\n",
       "      <th>rub_per_minute</th>\n",
       "      <th>tariff</th>\n",
       "    </tr>\n",
       "  </thead>\n",
       "  <tbody>\n",
       "    <tr>\n",
       "      <td>0</td>\n",
       "      <td>50</td>\n",
       "      <td>15360</td>\n",
       "      <td>500</td>\n",
       "      <td>550</td>\n",
       "      <td>200</td>\n",
       "      <td>3</td>\n",
       "      <td>3</td>\n",
       "      <td>smart</td>\n",
       "    </tr>\n",
       "    <tr>\n",
       "      <td>1</td>\n",
       "      <td>1000</td>\n",
       "      <td>30720</td>\n",
       "      <td>3000</td>\n",
       "      <td>1950</td>\n",
       "      <td>150</td>\n",
       "      <td>1</td>\n",
       "      <td>1</td>\n",
       "      <td>ultra</td>\n",
       "    </tr>\n",
       "  </tbody>\n",
       "</table>\n",
       "</div>"
      ],
      "text/plain": [
       "   messages_included  gb_per_month_included  minutes_included  \\\n",
       "0                 50                  15360               500   \n",
       "1               1000                  30720              3000   \n",
       "\n",
       "   rub_monthly_fee  rub_per_gb  rub_per_message  rub_per_minute tariff  \n",
       "0              550         200                3               3  smart  \n",
       "1             1950         150                1               1  ultra  "
      ]
     },
     "execution_count": 30,
     "metadata": {},
     "output_type": "execute_result"
    }
   ],
   "source": [
    "#изменяем название столбца в таблице tariffs и выводим её на экран\n",
    "tariffs = tariffs.rename(columns={'messages_included': 'messages_included', \n",
    "                                  'mb_per_month_included': 'gb_per_month_included',\n",
    "                                  'minutes_included': 'minutes_included',\n",
    "                                  'rub_monthly_fee': 'rub_monthly_fee',\n",
    "                                  'rub_per_gb': 'rub_per_gb',\n",
    "                                  'rub_per_message': 'rub_per_message',\n",
    "                                  'rub_per_minute': 'rub_per_minute',\n",
    "                                  'tariff_name': 'tariff'})\n",
    "tariffs"
   ]
  },
  {
   "cell_type": "markdown",
   "metadata": {},
   "source": [
    "В таблице `tariffs` оператор указал плату поверх тарифа за интернет-трафик за МБ, хотя мы уже перевели их в `df` в ГБ и сразу переименовали столбец. Чтобы упростить жизнь, переведём их и в `tariffs`:"
   ]
  },
  {
   "cell_type": "code",
   "execution_count": 31,
   "metadata": {},
   "outputs": [],
   "source": [
    "#переводим МБ в таблице в ГБ и переводим столбец в целочисленный формат\n",
    "tariffs['gb_per_month_included'] = (tariffs['gb_per_month_included'] / 1024).astype('int')"
   ]
  },
  {
   "cell_type": "markdown",
   "metadata": {},
   "source": [
    "Теперь объединим таблицы `df` и `tariffs` в одну таблицу `df`:"
   ]
  },
  {
   "cell_type": "code",
   "execution_count": 32,
   "metadata": {},
   "outputs": [
    {
     "data": {
      "text/html": [
       "<div>\n",
       "<style scoped>\n",
       "    .dataframe tbody tr th:only-of-type {\n",
       "        vertical-align: middle;\n",
       "    }\n",
       "\n",
       "    .dataframe tbody tr th {\n",
       "        vertical-align: top;\n",
       "    }\n",
       "\n",
       "    .dataframe thead th {\n",
       "        text-align: right;\n",
       "    }\n",
       "</style>\n",
       "<table border=\"1\" class=\"dataframe\">\n",
       "  <thead>\n",
       "    <tr style=\"text-align: right;\">\n",
       "      <th></th>\n",
       "      <th>user_id</th>\n",
       "      <th>month</th>\n",
       "      <th>count_calls</th>\n",
       "      <th>duration_calls</th>\n",
       "      <th>count_messages</th>\n",
       "      <th>gb_used</th>\n",
       "      <th>age</th>\n",
       "      <th>churn_date</th>\n",
       "      <th>city</th>\n",
       "      <th>first_name</th>\n",
       "      <th>last_name</th>\n",
       "      <th>reg_date</th>\n",
       "      <th>tariff</th>\n",
       "      <th>messages_included</th>\n",
       "      <th>gb_per_month_included</th>\n",
       "      <th>minutes_included</th>\n",
       "      <th>rub_monthly_fee</th>\n",
       "      <th>rub_per_gb</th>\n",
       "      <th>rub_per_message</th>\n",
       "      <th>rub_per_minute</th>\n",
       "    </tr>\n",
       "  </thead>\n",
       "  <tbody>\n",
       "    <tr>\n",
       "      <td>0</td>\n",
       "      <td>1000</td>\n",
       "      <td>5</td>\n",
       "      <td>22.0</td>\n",
       "      <td>159.0</td>\n",
       "      <td>22.0</td>\n",
       "      <td>3.0</td>\n",
       "      <td>52</td>\n",
       "      <td>NaT</td>\n",
       "      <td>Краснодар</td>\n",
       "      <td>Рафаил</td>\n",
       "      <td>Верещагин</td>\n",
       "      <td>2018-05-25</td>\n",
       "      <td>ultra</td>\n",
       "      <td>1000</td>\n",
       "      <td>30</td>\n",
       "      <td>3000</td>\n",
       "      <td>1950</td>\n",
       "      <td>150</td>\n",
       "      <td>1</td>\n",
       "      <td>1</td>\n",
       "    </tr>\n",
       "    <tr>\n",
       "      <td>1</td>\n",
       "      <td>1000</td>\n",
       "      <td>6</td>\n",
       "      <td>43.0</td>\n",
       "      <td>172.0</td>\n",
       "      <td>60.0</td>\n",
       "      <td>23.0</td>\n",
       "      <td>52</td>\n",
       "      <td>NaT</td>\n",
       "      <td>Краснодар</td>\n",
       "      <td>Рафаил</td>\n",
       "      <td>Верещагин</td>\n",
       "      <td>2018-05-25</td>\n",
       "      <td>ultra</td>\n",
       "      <td>1000</td>\n",
       "      <td>30</td>\n",
       "      <td>3000</td>\n",
       "      <td>1950</td>\n",
       "      <td>150</td>\n",
       "      <td>1</td>\n",
       "      <td>1</td>\n",
       "    </tr>\n",
       "    <tr>\n",
       "      <td>2</td>\n",
       "      <td>1000</td>\n",
       "      <td>7</td>\n",
       "      <td>47.0</td>\n",
       "      <td>340.0</td>\n",
       "      <td>75.0</td>\n",
       "      <td>14.0</td>\n",
       "      <td>52</td>\n",
       "      <td>NaT</td>\n",
       "      <td>Краснодар</td>\n",
       "      <td>Рафаил</td>\n",
       "      <td>Верещагин</td>\n",
       "      <td>2018-05-25</td>\n",
       "      <td>ultra</td>\n",
       "      <td>1000</td>\n",
       "      <td>30</td>\n",
       "      <td>3000</td>\n",
       "      <td>1950</td>\n",
       "      <td>150</td>\n",
       "      <td>1</td>\n",
       "      <td>1</td>\n",
       "    </tr>\n",
       "  </tbody>\n",
       "</table>\n",
       "</div>"
      ],
      "text/plain": [
       "   user_id  month  count_calls  duration_calls  count_messages  gb_used  age  \\\n",
       "0     1000      5         22.0           159.0            22.0      3.0   52   \n",
       "1     1000      6         43.0           172.0            60.0     23.0   52   \n",
       "2     1000      7         47.0           340.0            75.0     14.0   52   \n",
       "\n",
       "  churn_date       city first_name  last_name   reg_date tariff  \\\n",
       "0        NaT  Краснодар     Рафаил  Верещагин 2018-05-25  ultra   \n",
       "1        NaT  Краснодар     Рафаил  Верещагин 2018-05-25  ultra   \n",
       "2        NaT  Краснодар     Рафаил  Верещагин 2018-05-25  ultra   \n",
       "\n",
       "   messages_included  gb_per_month_included  minutes_included  \\\n",
       "0               1000                     30              3000   \n",
       "1               1000                     30              3000   \n",
       "2               1000                     30              3000   \n",
       "\n",
       "   rub_monthly_fee  rub_per_gb  rub_per_message  rub_per_minute  \n",
       "0             1950         150                1               1  \n",
       "1             1950         150                1               1  \n",
       "2             1950         150                1               1  "
      ]
     },
     "execution_count": 32,
     "metadata": {},
     "output_type": "execute_result"
    }
   ],
   "source": [
    "#объединяем таблицы df и tariffs и выводим первые 3 строки на экран\n",
    "df = df.merge(tariffs, on='tariff', how='left')\n",
    "df.head(3)"
   ]
  },
  {
   "cell_type": "markdown",
   "metadata": {},
   "source": [
    "Наконец, можем рассчитывать выручку с каждого пользователя. Для этого по ранее описанному алгоритму составим следующую функцию:"
   ]
  },
  {
   "cell_type": "code",
   "execution_count": 33,
   "metadata": {},
   "outputs": [],
   "source": [
    "#составляем функцию по подсчёту выручку с пользователя в таблице\n",
    "def revenue_func(row):\n",
    "    revenue = row['rub_monthly_fee']\n",
    "    messages = (row['count_messages'] - row['messages_included']) * row['rub_per_message']\n",
    "    calls = (row['duration_calls'] - row['minutes_included']) * row['rub_per_minute']\n",
    "    internet = (row['gb_used'] - row['gb_per_month_included']) * row['rub_per_gb']\n",
    "    if messages > 0:\n",
    "        revenue += messages\n",
    "    if calls > 0:\n",
    "        revenue += calls\n",
    "    if internet > 0:\n",
    "         revenue += internet\n",
    "    return revenue"
   ]
  },
  {
   "cell_type": "markdown",
   "metadata": {},
   "source": [
    "Теперь нужно применить функцию к таблице `df` и получить сумму выручки по каждому пользователю:"
   ]
  },
  {
   "cell_type": "code",
   "execution_count": 34,
   "metadata": {},
   "outputs": [],
   "source": [
    "#создаём столбец 'revenue', где функция рассчитает прибыль с пользователя\n",
    "df['revenue'] = df.apply(revenue_func, axis=1)"
   ]
  },
  {
   "cell_type": "markdown",
   "metadata": {},
   "source": [
    "### Вывод"
   ]
  },
  {
   "cell_type": "markdown",
   "metadata": {},
   "source": [
    "На этапе предобработки мы избавились от ненужного столбца в таблице и заменили все некорректные типы переменных на нужные. После этого подготовили все наши таблицы, а затем склеили их в одну. Также рассчитали различные метрики по пользователям, которые пригодятся нам на следующем этапе исследования. Наконец, для каждого пользователя в таблицу была включена выручка с него для компании - важнейшая метрика данной работы! Несмотря на то, что данные прислали в качественном виде, над ними пришлось достаточно много поработать, чтобы подготовить их к основному этапу исследования."
   ]
  },
  {
   "cell_type": "markdown",
   "metadata": {},
   "source": [
    "## Исследовательский анализ данных"
   ]
  },
  {
   "cell_type": "markdown",
   "metadata": {},
   "source": [
    "Опишем поведения пользователя, исходя из выборки и наших полученных данных. У нас есть 2 тарифа, поэтому необходимо посмотреть, как отличается поведение пользователей в зависимости от их выбора. Начнём с изучения минут разговора, а для этого посчитаем некоторые статистики этого фактора:"
   ]
  },
  {
   "cell_type": "code",
   "execution_count": 35,
   "metadata": {},
   "outputs": [
    {
     "data": {
      "text/html": [
       "<div>\n",
       "<style scoped>\n",
       "    .dataframe tbody tr th:only-of-type {\n",
       "        vertical-align: middle;\n",
       "    }\n",
       "\n",
       "    .dataframe tbody tr th {\n",
       "        vertical-align: top;\n",
       "    }\n",
       "\n",
       "    .dataframe thead tr th {\n",
       "        text-align: left;\n",
       "    }\n",
       "\n",
       "    .dataframe thead tr:last-of-type th {\n",
       "        text-align: right;\n",
       "    }\n",
       "</style>\n",
       "<table border=\"1\" class=\"dataframe\">\n",
       "  <thead>\n",
       "    <tr>\n",
       "      <th></th>\n",
       "      <th colspan=\"3\" halign=\"left\">duration_calls</th>\n",
       "    </tr>\n",
       "    <tr>\n",
       "      <th></th>\n",
       "      <th>mean</th>\n",
       "      <th>var</th>\n",
       "      <th>std</th>\n",
       "    </tr>\n",
       "    <tr>\n",
       "      <th>tariff</th>\n",
       "      <th></th>\n",
       "      <th></th>\n",
       "      <th></th>\n",
       "    </tr>\n",
       "  </thead>\n",
       "  <tbody>\n",
       "    <tr>\n",
       "      <td>smart</td>\n",
       "      <td>419.062978</td>\n",
       "      <td>35844.189551</td>\n",
       "      <td>189.325618</td>\n",
       "    </tr>\n",
       "    <tr>\n",
       "      <td>ultra</td>\n",
       "      <td>545.451104</td>\n",
       "      <td>94203.418396</td>\n",
       "      <td>306.925754</td>\n",
       "    </tr>\n",
       "  </tbody>\n",
       "</table>\n",
       "</div>"
      ],
      "text/plain": [
       "       duration_calls                          \n",
       "                 mean           var         std\n",
       "tariff                                         \n",
       "smart      419.062978  35844.189551  189.325618\n",
       "ultra      545.451104  94203.418396  306.925754"
      ]
     },
     "execution_count": 35,
     "metadata": {},
     "output_type": "execute_result"
    }
   ],
   "source": [
    "#группируем таблицу по тарифу, а затем для потраченных минут считаем среднее, дисперсию и стандартное отклонение\n",
    "df.groupby('tariff').agg({'duration_calls': ['mean','var','std']})"
   ]
  },
  {
   "cell_type": "markdown",
   "metadata": {},
   "source": [
    "Таким образом, мы получили среднюю статистику за месяц по пользователям двух тарифов. Как видно, пользователи тарифа \"Ultra\" в среднем на 2 часа общаются больше, чем пользователи тарифа \"Smart\". Это можно объяснить тем, что этот тариф приобретают те, кому нужно больше минут для общения, поэтому они, как следствие, и общаются больше. С другой стороны, стандартное отклонение в данном тарифе довольно большое - почти 307. Если применить закон трёх сигм, становится очевидно, что пользователей, которые общаются в месяц более 1500 минут менее 1%, хотя в данном тарифе заложено 3000 бесплатных минут. Возможно, пользователи этого тарифа выбирали его за что-то другое, с чем мы еще поработаем далее. Перейдём к количеству сообщений:"
   ]
  },
  {
   "cell_type": "code",
   "execution_count": 36,
   "metadata": {},
   "outputs": [
    {
     "data": {
      "text/html": [
       "<div>\n",
       "<style scoped>\n",
       "    .dataframe tbody tr th:only-of-type {\n",
       "        vertical-align: middle;\n",
       "    }\n",
       "\n",
       "    .dataframe tbody tr th {\n",
       "        vertical-align: top;\n",
       "    }\n",
       "\n",
       "    .dataframe thead tr th {\n",
       "        text-align: left;\n",
       "    }\n",
       "\n",
       "    .dataframe thead tr:last-of-type th {\n",
       "        text-align: right;\n",
       "    }\n",
       "</style>\n",
       "<table border=\"1\" class=\"dataframe\">\n",
       "  <thead>\n",
       "    <tr>\n",
       "      <th></th>\n",
       "      <th colspan=\"3\" halign=\"left\">count_messages</th>\n",
       "    </tr>\n",
       "    <tr>\n",
       "      <th></th>\n",
       "      <th>mean</th>\n",
       "      <th>var</th>\n",
       "      <th>std</th>\n",
       "    </tr>\n",
       "    <tr>\n",
       "      <th>tariff</th>\n",
       "      <th></th>\n",
       "      <th></th>\n",
       "      <th></th>\n",
       "    </tr>\n",
       "  </thead>\n",
       "  <tbody>\n",
       "    <tr>\n",
       "      <td>smart</td>\n",
       "      <td>38.716441</td>\n",
       "      <td>717.594201</td>\n",
       "      <td>26.787949</td>\n",
       "    </tr>\n",
       "    <tr>\n",
       "      <td>ultra</td>\n",
       "      <td>61.161006</td>\n",
       "      <td>2109.659183</td>\n",
       "      <td>45.931026</td>\n",
       "    </tr>\n",
       "  </tbody>\n",
       "</table>\n",
       "</div>"
      ],
      "text/plain": [
       "       count_messages                        \n",
       "                 mean          var        std\n",
       "tariff                                       \n",
       "smart       38.716441   717.594201  26.787949\n",
       "ultra       61.161006  2109.659183  45.931026"
      ]
     },
     "execution_count": 36,
     "metadata": {},
     "output_type": "execute_result"
    }
   ],
   "source": [
    "#группируем таблицу по тарифу, а затем для количества сообщений считаем среднее, дисперсию и стандартное отклонение\n",
    "df.groupby('tariff').agg({'count_messages': ['mean','var','std']})"
   ]
  },
  {
   "cell_type": "markdown",
   "metadata": {},
   "source": [
    "В тарифе \"Smart\" заложено 50 бесплатных сообщений, и пользователи в среднем в месяц отправляют около 39. Они почти приближаются к границе, хотя казалось бы, что сейчас для этих сообщений есть множество мессенджеров. Пользователи тарифа \"Ultra\" не слишком сильно отклонились от первых и отправляют около 61 сообщения в месяц, при этом тут стандартное отклонение, как можно было ожидать после анализа звонков, снова выше, чем у пользователей \"Smart\". Тем не менее, близких к 1000 бесплатных сообщений пользователей вновь менее 1% (по закону трёх сигм). Рассмотрим объём интернет-трафика:"
   ]
  },
  {
   "cell_type": "code",
   "execution_count": 37,
   "metadata": {},
   "outputs": [
    {
     "data": {
      "text/html": [
       "<div>\n",
       "<style scoped>\n",
       "    .dataframe tbody tr th:only-of-type {\n",
       "        vertical-align: middle;\n",
       "    }\n",
       "\n",
       "    .dataframe tbody tr th {\n",
       "        vertical-align: top;\n",
       "    }\n",
       "\n",
       "    .dataframe thead tr th {\n",
       "        text-align: left;\n",
       "    }\n",
       "\n",
       "    .dataframe thead tr:last-of-type th {\n",
       "        text-align: right;\n",
       "    }\n",
       "</style>\n",
       "<table border=\"1\" class=\"dataframe\">\n",
       "  <thead>\n",
       "    <tr>\n",
       "      <th></th>\n",
       "      <th colspan=\"3\" halign=\"left\">gb_used</th>\n",
       "    </tr>\n",
       "    <tr>\n",
       "      <th></th>\n",
       "      <th>mean</th>\n",
       "      <th>var</th>\n",
       "      <th>std</th>\n",
       "    </tr>\n",
       "    <tr>\n",
       "      <th>tariff</th>\n",
       "      <th></th>\n",
       "      <th></th>\n",
       "      <th></th>\n",
       "    </tr>\n",
       "  </thead>\n",
       "  <tbody>\n",
       "    <tr>\n",
       "      <td>smart</td>\n",
       "      <td>16.336176</td>\n",
       "      <td>32.923756</td>\n",
       "      <td>5.737923</td>\n",
       "    </tr>\n",
       "    <tr>\n",
       "      <td>ultra</td>\n",
       "      <td>19.694359</td>\n",
       "      <td>94.146734</td>\n",
       "      <td>9.702924</td>\n",
       "    </tr>\n",
       "  </tbody>\n",
       "</table>\n",
       "</div>"
      ],
      "text/plain": [
       "          gb_used                     \n",
       "             mean        var       std\n",
       "tariff                                \n",
       "smart   16.336176  32.923756  5.737923\n",
       "ultra   19.694359  94.146734  9.702924"
      ]
     },
     "execution_count": 37,
     "metadata": {},
     "output_type": "execute_result"
    }
   ],
   "source": [
    "#группируем таблицу по тарифу, а затем для интернет-трафика считаем среднее, дисперсию и стандартное отклонение\n",
    "df.groupby('tariff').agg({'gb_used': ['mean','var','std']})"
   ]
  },
  {
   "cell_type": "markdown",
   "metadata": {},
   "source": [
    "Тут наша статистика вышла интереснее. В среднем пользователи тарифа \"Smart\" используют в месяц 16 ГБ при бесплатных 15. То есть, в среднем за 1 дополнительный ГБ им приходится доплачивать оператору, при этом стандартное отклонение говорит, что у нас имеется немало тех пользователей, кто платит за 6 дополнительных ГБ и даже больше. Пользователи тарифа \"Ultra\" в среднем используют 19.7 ГБ при бесплатных 30. С другой стороны, по закону трёх сигм мы понимаем, что у нас есть пользователи, которые доплачивают за дополнительные ГБ даже тут, о чём нам говорит стандартное отклонение. \n",
    "\n",
    "Перед построением гистограмм создадим 2 таблицы по различным тарифам:"
   ]
  },
  {
   "cell_type": "code",
   "execution_count": 38,
   "metadata": {},
   "outputs": [],
   "source": [
    "df_ultra = df[df['tariff'] == 'ultra']\n",
    "df_smart = df[df['tariff'] == 'smart']"
   ]
  },
  {
   "cell_type": "markdown",
   "metadata": {},
   "source": [
    "Теперь можем переходить к построению гистограммы потраченных пользователями минут:"
   ]
  },
  {
   "cell_type": "code",
   "execution_count": 39,
   "metadata": {},
   "outputs": [
    {
     "data": {
      "image/png": "[encoded data removed]",
      "text/plain": [
       "<Figure size 432x288 with 1 Axes>"
      ]
     },
     "metadata": {
      "needs_background": "light"
     },
     "output_type": "display_data"
    }
   ],
   "source": [
    "#строим гистограмму потраченных пользователями минут по различным тарифам\n",
    "plt_calls = df_ultra['duration_calls'].plot(kind='hist', alpha=0.4, bins=25, title='Histogram of minutes spent')\n",
    "plt_calls = df_smart['duration_calls'].plot(kind='hist', alpha=0.4, bins=25, grid=True)"
   ]
  },
  {
   "cell_type": "markdown",
   "metadata": {},
   "source": [
    "На гистограмме тут и далее синем цветом обозначен тариф \"Ultra\", бежевым - \"Smart\". По распределению видим, что распределение пользователей тарифа \"Smart\" похоже на нормальное, но имеет справа небольшой хвост. Пользователи \"Ultra\" имеют большой разброс, как мы уже отмечали ранее. Тем не менее, несмотря на существенную разницу в количестве бесплатных минут, средние значения у обоих групп находятся недалеко друг от друга. \n",
    "\n",
    "Рассмотрим гистограмму по сообщениям:"
   ]
  },
  {
   "cell_type": "code",
   "execution_count": 40,
   "metadata": {},
   "outputs": [
    {
     "data": {
      "image/png": "[encoded data removed]",
      "text/plain": [
       "<Figure size 432x288 with 1 Axes>"
      ]
     },
     "metadata": {
      "needs_background": "light"
     },
     "output_type": "display_data"
    }
   ],
   "source": [
    "#строим гистограмму отправленных пользователями сообщений по различным тарифам\n",
    "plt_messages = df_ultra['count_messages'].plot(kind='hist', alpha=0.4, bins=25, title='Histogram of sent messages')\n",
    "plt_messages = df_smart['count_messages'].plot(kind='hist', alpha=0.4, bins=25, grid=True)"
   ]
  },
  {
   "cell_type": "markdown",
   "metadata": {},
   "source": [
    "Тут распределения сильно далеки от нормальных, при этом у обоих групп среднее количество сообщений находится в пределах до 100, хотя пользователи \"Ultra\" всё-таки стараются реализовать свои деньги за тариф, и часть из них отправляют более 100 сообщений. Вероятно, как уже было отмечено, такие низкие статистики связаны с тем, что сегодня основная часть сообщений отправляется в мессенджерах, а не при помощи сообщений на телефоне. \n",
    "\n",
    "Рассмотрим гистограмму по интернет-трафику:"
   ]
  },
  {
   "cell_type": "code",
   "execution_count": 41,
   "metadata": {},
   "outputs": [
    {
     "data": {
      "image/png": "[encoded data removed]",
      "text/plain": [
       "<Figure size 432x288 with 1 Axes>"
      ]
     },
     "metadata": {
      "needs_background": "light"
     },
     "output_type": "display_data"
    }
   ],
   "source": [
    "#строим гистограмму интернет-трафика по различным тарифам\n",
    "plt_gb = df_ultra['gb_used'].plot(kind='hist', alpha=0.4, bins=25, title='Histogram of spent GB')\n",
    "plt_gb = df_smart['gb_used'].plot(kind='hist', alpha=0.4, bins=25, grid=True)"
   ]
  },
  {
   "cell_type": "markdown",
   "metadata": {},
   "source": [
    "Распределение по тарифу \"Ultra\" напоминает нормальное, а вот у \"Smart\" есть много скачков. Хвост тарифа \"Ultra\" демонстрирует нам, что тут пользователи пользуются интернетом больше, и их тариф позволяет им это, однако после 30 ГБ оба тарифа берут дополнительную плату за каждый ГБ, а пользователей, готовых за это платить, встречается немало."
   ]
  },
  {
   "cell_type": "markdown",
   "metadata": {},
   "source": [
    "### Вывод"
   ]
  },
  {
   "cell_type": "markdown",
   "metadata": {},
   "source": [
    "Исследовательский анализ продемонстрировал, на сколько похожи наши группы пользователей по тарифам по различным метрикам. Так, количество сообщений у обоих оказалось, в среднем, невысоким - до 70. Значит, мессенджеры вытесняют эту функцию операторов связи. Длительность разговора у пользователей разных тарифов не слишком отличается, чего нельзя сказать про интернет-трафик, на который и приходятся основные различия между группами. Несмотря на близкие значения, пользователи \"Smart\" чаще приобретают дополнительный трафик. \n",
    "\n",
    "Теперь можно переходить к статистическому анализу данных."
   ]
  },
  {
   "cell_type": "markdown",
   "metadata": {},
   "source": [
    "## Статистический анализ данных"
   ]
  },
  {
   "cell_type": "markdown",
   "metadata": {},
   "source": [
    "Проверим первую гипотезу нашего исследования: \"Средняя выручка пользователей тарифов 'Ультра' и 'Смарт' различаются. Для начала сформируем нулевую и альтернативную гипотезы. Нулевая гипотеза должна ставить между этими тарифами равенство, следовательно, различий в среднем быть не должно. Альтернативная противоречит нулевой, следовательно, различия (не имеет значения, какие именно) должны быть. \n",
    "* H0: \"Средняя выручка пользователей тарифов 'Ультра' и 'Смарт' не различается.\"\n",
    "* H1: \"Средняя выручка пользователей тарифов 'Ультра' и 'Смарт' различается.\n",
    "\n",
    "Для проверки потребуется использовать двусторонний t-тест, так как для проверки средних двух совокупностей необходимо применять t-тест, а двусторонний, так как нам не имеет значения, больше выручка от одного тарифа или меньше другого. Зададим уровень значимости в 0.01 для надёжных результатов. Найдём p-value и решим, отвергать ли нулевую гипотезу: "
   ]
  },
  {
   "cell_type": "code",
   "execution_count": 42,
   "metadata": {},
   "outputs": [
    {
     "name": "stdout",
     "output_type": "stream",
     "text": [
      "p-значение:  1.4229814360764067e-160\n",
      "Отвергаем нулевую гипотезу\n"
     ]
    }
   ],
   "source": [
    "#задаём уровень значимости и находим p-value для отвержения или принятия гипотезы\n",
    "alpha = .01\n",
    "results = st.ttest_ind(df_ultra['revenue'], df_smart['revenue'])\n",
    "print('p-значение: ', results.pvalue)\n",
    "if results.pvalue < alpha:\n",
    "    print(\"Отвергаем нулевую гипотезу\")\n",
    "else:\n",
    "    print(\"Не получилось отвергнуть нулевую гипотезу\") "
   ]
  },
  {
   "cell_type": "markdown",
   "metadata": {},
   "source": [
    "Таким образом, крайне маленький p-value заставляет нас отвергнуть нулевую гипотезу в пользу альтернативной. Значит, средняя выручка тарифов \"Ультра\" и \"Смарт\" различается. Перейдём ко второй гипотезе: \"Средняя выручка выручка пользователей из Москвы отличается от выручки пользователей из других регионов.\" Сформулируем гипотезы:\n",
    "* H0: \"Средняя выручка пользователей из Москвы не отличается от выручки пользователей из других регионов\"\n",
    "* H1: \"Средняя выручка пользователей из Москвы отличается от выручки пользователей из других регионов\"\n",
    "\n",
    "Для данной проверки вновь используем двусторонний t-тест для двух независимых выборок. Однако, для начала создадим две таблицы, где в первой будут жители Москвы, а во второй - все остальные:"
   ]
  },
  {
   "cell_type": "code",
   "execution_count": 43,
   "metadata": {},
   "outputs": [],
   "source": [
    "#создаём таблицы с пользователями из Москвы и не из Москвы\n",
    "df_Moscow = df[df['city'] == 'Москва']\n",
    "df_not_Moscow = df[df['city'] != 'Москва']"
   ]
  },
  {
   "cell_type": "markdown",
   "metadata": {},
   "source": [
    "Теперь можем перейти к стандартной проверке:"
   ]
  },
  {
   "cell_type": "code",
   "execution_count": 44,
   "metadata": {},
   "outputs": [
    {
     "name": "stdout",
     "output_type": "stream",
     "text": [
      "p-значение:  0.5440152911670224\n",
      "Не получилось отвергнуть нулевую гипотезу\n"
     ]
    }
   ],
   "source": [
    "#задаём уровень значимости и находим p-value для отвержения или принятия гипотезы\n",
    "alpha = .01\n",
    "results = st.ttest_ind(df_Moscow['revenue'], df_not_Moscow['revenue'])\n",
    "print('p-значение: ', results.pvalue)\n",
    "if results.pvalue < alpha:\n",
    "    print(\"Отвергаем нулевую гипотезу\")\n",
    "else:\n",
    "    print(\"Не получилось отвергнуть нулевую гипотезу\") "
   ]
  },
  {
   "cell_type": "markdown",
   "metadata": {},
   "source": [
    "Какой бы уровень значимости мы ни задали, всё равно наше p-value слишком велико. Значит, между пользователями из Москвы и из других регионов в нашем исследовании разницы нет, а мы не можем отвергнуть нулевую гипотезу. "
   ]
  },
  {
   "cell_type": "markdown",
   "metadata": {},
   "source": [
    "### Вывод"
   ]
  },
  {
   "cell_type": "markdown",
   "metadata": {},
   "source": [
    "В ходе статистической проверки двух гипотез нам удалось установить следующее:\n",
    "* Средняя выручка пользователей тарифа \"Ультра\" и \"Смарт\" различаются\n",
    "* Средняя выручка пользователей из Москвы не отличается от выручки пользователей из других регионов\n",
    "\n",
    "В обоих случаях мы применяли двусторонний t-тест для двух независимых выборок, так как наши пользователи различных тарифов никак не связаны друг с другом. На этом исследование подходит к своему завершению, и мы можем переходить к основному выводу."
   ]
  },
  {
   "cell_type": "markdown",
   "metadata": {},
   "source": [
    "## Вывод"
   ]
  },
  {
   "cell_type": "markdown",
   "metadata": {},
   "source": [
    "В ходе исследования удалось разобраться в пользователях сети \"Мегалайн\". При помощи добавления в итоговую таблицу нескольких новых метрик мы увидели, как именно различаются или сходятся между собой пользователи по различным параметрам. Так, имеем следующее:\n",
    "* В среднем пользователи обоих тарифов тратят не слишком отличающиеся друг от друга количества минут на разговоры. Пользователи \"Смарт\" - около 419 минут, \"Ультра\" - 545 минут. Это показывает, что, несмотря на широкие возможности минут у второго тарифа, эта опция не является наиболее важной при выборе пользователем тарифа.\n",
    "* Сообщения теряют свою актуальность, что видно в среднем количестве отправленных сообщений менее 70 в среднем для обоих тарифов. При этом, по закону трёх сигм, 99% используют не более 200 сообщений в месяц. Предполагается, что основные сообщения сегодня отправляются в мессенджерах, поэтому эта возможность, какой бы большой её не предоставлял оператор, спросом пользоваться не будет\n",
    "* Основное необходимое в тарифе сегодня - пакет интернет-трафика. Вероятно, пользователи \"Ультра\" выбирают тариф именно из-за его объема, превышающего доступный в \"Смарте\" в 2 раза. В среднем на тарифе \"Смарт\" тратят по 16 ГБ из доступных 15, значит, часто существует факт приобретения дополнительных ГБ, что выгодно оператору. В тарифе \"Ультра\" в среднем тратят по 19 ГБ, хотя стандартное отклонение чуть сильно выше, чем в \"Смарте\" - около 9 ГБ. \n",
    "\n",
    "Проверка гипотез показала, что средняя выручка пользователей тарифа \"Ультра\" и \"Смарт\" различаются. Можно говорить о том, что тариф \"Ультра\" приносит оператору больше денежных средств, однако стоит понимать, что основное внимание пользователей приковано именно к интернет-трафику, поэтому цену тарифа на рынке нужно регулировать, исходя из этого показателя, чтобы не встретить резкий отток пользователей. Также определённое снижение цены на тариф \"Ультра\" может привлечь новых клиентов, которые раньше использовали тариф \"Смарт\", ведь они и так часто приобретают дополнительные ГБ. Это может не только увеличить прибыль компании, но и увеличить лояльность потребителей продукта. "
   ]
  }
 ],
 "metadata": {
  "ExecuteTimeLog": [
   {
    "duration": 1419,
    "start_time": "2022-01-06T15:13:06.217Z"
   },
   {
    "duration": 396,
    "start_time": "2022-01-06T15:13:11.983Z"
   },
   {
    "duration": 119,
    "start_time": "2022-01-06T15:13:14.307Z"
   },
   {
    "duration": 3,
    "start_time": "2022-01-06T15:13:55.253Z"
   },
   {
    "duration": 620,
    "start_time": "2022-01-06T15:15:49.133Z"
   },
   {
    "duration": 519,
    "start_time": "2022-01-06T15:18:46.745Z"
   },
   {
    "duration": 529,
    "start_time": "2022-01-06T15:19:13.011Z"
   },
   {
    "duration": 16,
    "start_time": "2022-01-06T15:22:38.163Z"
   },
   {
    "duration": 501,
    "start_time": "2022-01-06T15:23:43.820Z"
   },
   {
    "duration": 15,
    "start_time": "2022-01-06T15:23:55.268Z"
   },
   {
    "duration": 15,
    "start_time": "2022-01-06T15:32:16.278Z"
   },
   {
    "duration": 10,
    "start_time": "2022-01-06T15:32:29.770Z"
   },
   {
    "duration": 23,
    "start_time": "2022-01-06T15:32:49.346Z"
   },
   {
    "duration": 14,
    "start_time": "2022-01-06T15:36:55.257Z"
   },
   {
    "duration": 10,
    "start_time": "2022-01-06T15:37:11.764Z"
   },
   {
    "duration": 15,
    "start_time": "2022-01-06T15:39:51.752Z"
   },
   {
    "duration": 12,
    "start_time": "2022-01-06T15:44:32.389Z"
   },
   {
    "duration": 11,
    "start_time": "2022-01-06T15:44:50.791Z"
   },
   {
    "duration": 27,
    "start_time": "2022-01-06T15:45:09.976Z"
   },
   {
    "duration": 12,
    "start_time": "2022-01-06T15:48:09.438Z"
   },
   {
    "duration": 23,
    "start_time": "2022-01-06T15:48:33.824Z"
   },
   {
    "duration": 11,
    "start_time": "2022-01-06T15:51:41.975Z"
   },
   {
    "duration": 12,
    "start_time": "2022-01-06T15:55:42.623Z"
   },
   {
    "duration": 20,
    "start_time": "2022-01-06T15:56:05.127Z"
   },
   {
    "duration": 12,
    "start_time": "2022-01-06T15:58:53.333Z"
   },
   {
    "duration": 12,
    "start_time": "2022-01-06T15:59:26.361Z"
   },
   {
    "duration": 11,
    "start_time": "2022-01-06T15:59:31.967Z"
   },
   {
    "duration": 13,
    "start_time": "2022-01-06T15:59:40.455Z"
   },
   {
    "duration": 190,
    "start_time": "2022-01-06T16:00:38.755Z"
   },
   {
    "duration": 9,
    "start_time": "2022-01-06T16:00:53.598Z"
   },
   {
    "duration": 463,
    "start_time": "2022-01-06T22:29:01.712Z"
   },
   {
    "duration": 1502,
    "start_time": "2022-01-06T22:29:22.664Z"
   },
   {
    "duration": 567,
    "start_time": "2022-01-06T22:29:24.168Z"
   },
   {
    "duration": 19,
    "start_time": "2022-01-06T22:29:24.738Z"
   },
   {
    "duration": 10,
    "start_time": "2022-01-06T22:29:24.759Z"
   },
   {
    "duration": 11,
    "start_time": "2022-01-06T22:29:24.772Z"
   },
   {
    "duration": 26,
    "start_time": "2022-01-06T22:29:24.786Z"
   },
   {
    "duration": 12,
    "start_time": "2022-01-06T22:29:24.815Z"
   },
   {
    "duration": 25,
    "start_time": "2022-01-06T22:29:24.863Z"
   },
   {
    "duration": 11,
    "start_time": "2022-01-06T22:29:24.891Z"
   },
   {
    "duration": 63,
    "start_time": "2022-01-06T22:29:24.905Z"
   },
   {
    "duration": 11,
    "start_time": "2022-01-06T22:29:24.970Z"
   },
   {
    "duration": 12,
    "start_time": "2022-01-06T22:29:24.984Z"
   },
   {
    "duration": 513,
    "start_time": "2022-01-06T22:29:25.000Z"
   },
   {
    "duration": 22,
    "start_time": "2022-01-06T22:29:32.952Z"
   },
   {
    "duration": 23,
    "start_time": "2022-01-06T22:29:51.096Z"
   },
   {
    "duration": 21,
    "start_time": "2022-01-06T22:29:58.913Z"
   },
   {
    "duration": 396,
    "start_time": "2022-01-06T22:30:07.672Z"
   },
   {
    "duration": 422,
    "start_time": "2022-01-06T22:30:22.600Z"
   },
   {
    "duration": 526,
    "start_time": "2022-01-06T22:31:16.936Z"
   },
   {
    "duration": 392,
    "start_time": "2022-01-06T22:31:24.615Z"
   },
   {
    "duration": 551,
    "start_time": "2022-01-06T22:31:30.768Z"
   },
   {
    "duration": 373,
    "start_time": "2022-01-06T22:31:35.375Z"
   },
   {
    "duration": 384,
    "start_time": "2022-01-06T22:31:39.839Z"
   },
   {
    "duration": 378,
    "start_time": "2022-01-06T22:31:42.791Z"
   },
   {
    "duration": 46,
    "start_time": "2022-01-06T22:31:53.344Z"
   },
   {
    "duration": 404,
    "start_time": "2022-01-06T22:32:03.607Z"
   },
   {
    "duration": 6,
    "start_time": "2022-01-06T22:33:06.919Z"
   },
   {
    "duration": 132,
    "start_time": "2022-01-06T22:33:15.680Z"
   },
   {
    "duration": 400,
    "start_time": "2022-01-06T22:33:20.032Z"
   },
   {
    "duration": 404,
    "start_time": "2022-01-06T22:33:43.999Z"
   },
   {
    "duration": 38,
    "start_time": "2022-01-06T22:33:52.143Z"
   },
   {
    "duration": 32,
    "start_time": "2022-01-06T22:33:59.935Z"
   },
   {
    "duration": 27,
    "start_time": "2022-01-06T22:34:08.343Z"
   },
   {
    "duration": 390,
    "start_time": "2022-01-06T22:34:30.527Z"
   },
   {
    "duration": 378,
    "start_time": "2022-01-06T22:34:36.239Z"
   },
   {
    "duration": 1511,
    "start_time": "2022-01-06T22:34:42.020Z"
   },
   {
    "duration": 723,
    "start_time": "2022-01-06T22:34:43.534Z"
   },
   {
    "duration": 25,
    "start_time": "2022-01-06T22:34:44.261Z"
   },
   {
    "duration": 11,
    "start_time": "2022-01-06T22:34:44.290Z"
   },
   {
    "duration": 13,
    "start_time": "2022-01-06T22:34:44.303Z"
   },
   {
    "duration": 55,
    "start_time": "2022-01-06T22:34:44.319Z"
   },
   {
    "duration": 12,
    "start_time": "2022-01-06T22:34:44.376Z"
   },
   {
    "duration": 23,
    "start_time": "2022-01-06T22:34:44.390Z"
   },
   {
    "duration": 10,
    "start_time": "2022-01-06T22:34:44.416Z"
   },
   {
    "duration": 18,
    "start_time": "2022-01-06T22:34:44.460Z"
   },
   {
    "duration": 10,
    "start_time": "2022-01-06T22:34:44.481Z"
   },
   {
    "duration": 10,
    "start_time": "2022-01-06T22:34:44.493Z"
   },
   {
    "duration": 56,
    "start_time": "2022-01-06T22:34:44.505Z"
   },
   {
    "duration": 148,
    "start_time": "2022-01-06T22:58:51.605Z"
   },
   {
    "duration": 43,
    "start_time": "2022-01-06T23:03:08.711Z"
   },
   {
    "duration": 607,
    "start_time": "2022-01-06T23:08:16.419Z"
   },
   {
    "duration": 12,
    "start_time": "2022-01-06T23:08:20.154Z"
   },
   {
    "duration": 1609,
    "start_time": "2022-01-07T13:41:36.129Z"
   },
   {
    "duration": 545,
    "start_time": "2022-01-07T13:41:37.741Z"
   },
   {
    "duration": 19,
    "start_time": "2022-01-07T13:41:38.289Z"
   },
   {
    "duration": 10,
    "start_time": "2022-01-07T13:41:38.311Z"
   },
   {
    "duration": 10,
    "start_time": "2022-01-07T13:41:38.323Z"
   },
   {
    "duration": 48,
    "start_time": "2022-01-07T13:41:38.335Z"
   },
   {
    "duration": 12,
    "start_time": "2022-01-07T13:41:38.386Z"
   },
   {
    "duration": 22,
    "start_time": "2022-01-07T13:41:38.400Z"
   },
   {
    "duration": 43,
    "start_time": "2022-01-07T13:41:38.424Z"
   },
   {
    "duration": 25,
    "start_time": "2022-01-07T13:41:38.470Z"
   },
   {
    "duration": 11,
    "start_time": "2022-01-07T13:41:38.498Z"
   },
   {
    "duration": 9,
    "start_time": "2022-01-07T13:41:38.512Z"
   },
   {
    "duration": 54,
    "start_time": "2022-01-07T13:41:38.523Z"
   },
   {
    "duration": 123,
    "start_time": "2022-01-07T13:41:38.580Z"
   },
   {
    "duration": 7,
    "start_time": "2022-01-07T13:46:53.937Z"
   },
   {
    "duration": 16,
    "start_time": "2022-01-07T13:46:57.352Z"
   },
   {
    "duration": 2347,
    "start_time": "2022-01-07T13:47:13.636Z"
   },
   {
    "duration": 553,
    "start_time": "2022-01-07T13:47:21.586Z"
   },
   {
    "duration": 8,
    "start_time": "2022-01-07T13:48:11.675Z"
   },
   {
    "duration": 16,
    "start_time": "2022-01-07T13:48:13.394Z"
   },
   {
    "duration": 14,
    "start_time": "2022-01-07T13:52:48.706Z"
   },
   {
    "duration": 17,
    "start_time": "2022-01-07T13:52:51.242Z"
   },
   {
    "duration": 6,
    "start_time": "2022-01-07T13:53:37.536Z"
   },
   {
    "duration": 26,
    "start_time": "2022-01-07T13:53:41.654Z"
   },
   {
    "duration": 9,
    "start_time": "2022-01-07T13:54:29.066Z"
   },
   {
    "duration": 27,
    "start_time": "2022-01-07T13:57:29.665Z"
   },
   {
    "duration": 16,
    "start_time": "2022-01-07T13:57:32.011Z"
   },
   {
    "duration": 95,
    "start_time": "2022-01-07T13:58:36.826Z"
   },
   {
    "duration": 34,
    "start_time": "2022-01-07T13:58:41.329Z"
   },
   {
    "duration": 17,
    "start_time": "2022-01-07T13:59:10.888Z"
   },
   {
    "duration": 12,
    "start_time": "2022-01-07T13:59:18.593Z"
   },
   {
    "duration": 14,
    "start_time": "2022-01-07T13:59:45.994Z"
   },
   {
    "duration": 15,
    "start_time": "2022-01-07T13:59:50.017Z"
   },
   {
    "duration": 14,
    "start_time": "2022-01-07T13:59:56.689Z"
   },
   {
    "duration": 14,
    "start_time": "2022-01-07T14:00:05.810Z"
   },
   {
    "duration": 113,
    "start_time": "2022-01-07T14:01:41.452Z"
   },
   {
    "duration": 1116,
    "start_time": "2022-01-07T14:05:44.775Z"
   },
   {
    "duration": 91,
    "start_time": "2022-01-07T14:05:58.145Z"
   },
   {
    "duration": 89,
    "start_time": "2022-01-07T14:06:19.192Z"
   },
   {
    "duration": 91,
    "start_time": "2022-01-07T14:06:27.306Z"
   },
   {
    "duration": 17,
    "start_time": "2022-01-07T14:06:28.118Z"
   },
   {
    "duration": 14,
    "start_time": "2022-01-07T14:06:34.112Z"
   },
   {
    "duration": 39,
    "start_time": "2022-01-07T14:06:34.616Z"
   },
   {
    "duration": 15,
    "start_time": "2022-01-07T14:06:39.512Z"
   },
   {
    "duration": 31,
    "start_time": "2022-01-07T14:06:48.330Z"
   },
   {
    "duration": 78,
    "start_time": "2022-01-07T14:07:52.187Z"
   },
   {
    "duration": 18,
    "start_time": "2022-01-07T14:07:52.545Z"
   },
   {
    "duration": 15,
    "start_time": "2022-01-07T14:07:52.816Z"
   },
   {
    "duration": 31,
    "start_time": "2022-01-07T14:07:53.009Z"
   },
   {
    "duration": 20,
    "start_time": "2022-01-07T14:08:49.041Z"
   },
   {
    "duration": 169,
    "start_time": "2022-01-07T14:11:17.954Z"
   },
   {
    "duration": 92,
    "start_time": "2022-01-07T14:11:27.152Z"
   },
   {
    "duration": 145,
    "start_time": "2022-01-07T14:12:09.641Z"
   },
   {
    "duration": 669,
    "start_time": "2022-01-07T14:13:14.871Z"
   },
   {
    "duration": 1539,
    "start_time": "2022-01-07T14:13:24.194Z"
   },
   {
    "duration": 555,
    "start_time": "2022-01-07T14:13:25.736Z"
   },
   {
    "duration": 19,
    "start_time": "2022-01-07T14:13:26.294Z"
   },
   {
    "duration": 9,
    "start_time": "2022-01-07T14:13:26.316Z"
   },
   {
    "duration": 33,
    "start_time": "2022-01-07T14:13:26.327Z"
   },
   {
    "duration": 28,
    "start_time": "2022-01-07T14:13:26.363Z"
   },
   {
    "duration": 12,
    "start_time": "2022-01-07T14:13:26.394Z"
   },
   {
    "duration": 59,
    "start_time": "2022-01-07T14:13:26.408Z"
   },
   {
    "duration": 10,
    "start_time": "2022-01-07T14:13:26.471Z"
   },
   {
    "duration": 20,
    "start_time": "2022-01-07T14:13:26.483Z"
   },
   {
    "duration": 11,
    "start_time": "2022-01-07T14:13:26.506Z"
   },
   {
    "duration": 45,
    "start_time": "2022-01-07T14:13:26.520Z"
   },
   {
    "duration": 17,
    "start_time": "2022-01-07T14:13:26.567Z"
   },
   {
    "duration": 131,
    "start_time": "2022-01-07T14:13:26.587Z"
   },
   {
    "duration": 7,
    "start_time": "2022-01-07T14:13:26.720Z"
   },
   {
    "duration": 14,
    "start_time": "2022-01-07T14:13:26.729Z"
   },
   {
    "duration": 130,
    "start_time": "2022-01-07T14:13:26.746Z"
   },
   {
    "duration": 21,
    "start_time": "2022-01-07T14:13:26.879Z"
   },
   {
    "duration": 196,
    "start_time": "2022-01-07T14:13:26.903Z"
   },
   {
    "duration": 48,
    "start_time": "2022-01-07T14:13:45.778Z"
   },
   {
    "duration": 26,
    "start_time": "2022-01-07T14:14:51.111Z"
   },
   {
    "duration": 26,
    "start_time": "2022-01-07T14:15:06.019Z"
   },
   {
    "duration": 28,
    "start_time": "2022-01-07T14:15:17.825Z"
   },
   {
    "duration": 29,
    "start_time": "2022-01-07T14:15:23.881Z"
   },
   {
    "duration": 559,
    "start_time": "2022-01-07T14:15:29.283Z"
   },
   {
    "duration": 25,
    "start_time": "2022-01-07T14:15:34.053Z"
   },
   {
    "duration": 305,
    "start_time": "2022-01-07T14:16:06.971Z"
   },
   {
    "duration": 26,
    "start_time": "2022-01-07T14:16:21.114Z"
   },
   {
    "duration": 28,
    "start_time": "2022-01-07T14:16:39.932Z"
   },
   {
    "duration": 23,
    "start_time": "2022-01-07T14:16:44.961Z"
   },
   {
    "duration": 19,
    "start_time": "2022-01-07T14:17:06.089Z"
   },
   {
    "duration": 23,
    "start_time": "2022-01-07T14:17:12.003Z"
   },
   {
    "duration": 85,
    "start_time": "2022-01-07T14:19:05.256Z"
   },
   {
    "duration": 108,
    "start_time": "2022-01-07T14:19:27.736Z"
   },
   {
    "duration": 89,
    "start_time": "2022-01-07T14:19:43.178Z"
   },
   {
    "duration": 146,
    "start_time": "2022-01-07T14:19:46.076Z"
   },
   {
    "duration": 93,
    "start_time": "2022-01-07T14:20:46.938Z"
   },
   {
    "duration": 122,
    "start_time": "2022-01-07T14:20:59.889Z"
   },
   {
    "duration": 408,
    "start_time": "2022-01-07T14:21:37.136Z"
   },
   {
    "duration": 93,
    "start_time": "2022-01-07T14:21:55.580Z"
   },
   {
    "duration": 81,
    "start_time": "2022-01-07T14:22:10.602Z"
   },
   {
    "duration": 430,
    "start_time": "2022-01-07T14:22:49.336Z"
   },
   {
    "duration": 95,
    "start_time": "2022-01-07T14:22:51.947Z"
   },
   {
    "duration": 52,
    "start_time": "2022-01-07T14:23:23.688Z"
   },
   {
    "duration": 57,
    "start_time": "2022-01-07T14:23:25.506Z"
   },
   {
    "duration": 56,
    "start_time": "2022-01-07T14:23:28.447Z"
   },
   {
    "duration": 32,
    "start_time": "2022-01-07T14:23:55.585Z"
   },
   {
    "duration": 55,
    "start_time": "2022-01-07T14:23:58.313Z"
   },
   {
    "duration": 108,
    "start_time": "2022-01-07T14:24:46.574Z"
   },
   {
    "duration": 55,
    "start_time": "2022-01-07T14:24:53.498Z"
   },
   {
    "duration": 2212,
    "start_time": "2022-01-07T14:26:54.415Z"
   },
   {
    "duration": 2664,
    "start_time": "2022-01-07T14:27:34.824Z"
   },
   {
    "duration": 2268,
    "start_time": "2022-01-07T14:28:14.967Z"
   },
   {
    "duration": 9,
    "start_time": "2022-01-07T14:29:43.433Z"
   },
   {
    "duration": 7,
    "start_time": "2022-01-07T14:29:49.599Z"
   },
   {
    "duration": 8,
    "start_time": "2022-01-07T14:30:48.440Z"
   },
   {
    "duration": 10,
    "start_time": "2022-01-07T14:31:19.182Z"
   },
   {
    "duration": 9,
    "start_time": "2022-01-07T14:31:29.118Z"
   },
   {
    "duration": 9,
    "start_time": "2022-01-07T14:31:30.855Z"
   },
   {
    "duration": 19,
    "start_time": "2022-01-07T14:31:34.287Z"
   },
   {
    "duration": 31,
    "start_time": "2022-01-07T14:34:41.845Z"
   },
   {
    "duration": 59,
    "start_time": "2022-01-07T14:34:42.328Z"
   },
   {
    "duration": 9,
    "start_time": "2022-01-07T14:34:43.008Z"
   },
   {
    "duration": 57,
    "start_time": "2022-01-07T14:34:59.245Z"
   },
   {
    "duration": 37,
    "start_time": "2022-01-07T14:35:06.464Z"
   },
   {
    "duration": 35,
    "start_time": "2022-01-07T14:35:07.976Z"
   },
   {
    "duration": 58,
    "start_time": "2022-01-07T14:35:19.414Z"
   },
   {
    "duration": 10,
    "start_time": "2022-01-07T14:37:24.062Z"
   },
   {
    "duration": 1806,
    "start_time": "2022-01-07T14:37:56.028Z"
   },
   {
    "duration": 543,
    "start_time": "2022-01-07T14:37:57.836Z"
   },
   {
    "duration": 20,
    "start_time": "2022-01-07T14:37:58.382Z"
   },
   {
    "duration": 9,
    "start_time": "2022-01-07T14:37:58.405Z"
   },
   {
    "duration": 11,
    "start_time": "2022-01-07T14:37:58.416Z"
   },
   {
    "duration": 50,
    "start_time": "2022-01-07T14:37:58.429Z"
   },
   {
    "duration": 12,
    "start_time": "2022-01-07T14:37:58.481Z"
   },
   {
    "duration": 25,
    "start_time": "2022-01-07T14:37:58.496Z"
   },
   {
    "duration": 11,
    "start_time": "2022-01-07T14:37:58.560Z"
   },
   {
    "duration": 22,
    "start_time": "2022-01-07T14:37:58.573Z"
   },
   {
    "duration": 11,
    "start_time": "2022-01-07T14:37:58.597Z"
   },
   {
    "duration": 11,
    "start_time": "2022-01-07T14:37:58.610Z"
   },
   {
    "duration": 48,
    "start_time": "2022-01-07T14:37:58.624Z"
   },
   {
    "duration": 134,
    "start_time": "2022-01-07T14:37:58.675Z"
   },
   {
    "duration": 9,
    "start_time": "2022-01-07T14:37:58.812Z"
   },
   {
    "duration": 112,
    "start_time": "2022-01-07T14:37:58.824Z"
   },
   {
    "duration": 119,
    "start_time": "2022-01-07T14:37:58.938Z"
   },
   {
    "duration": 19,
    "start_time": "2022-01-07T14:37:59.060Z"
   },
   {
    "duration": 41,
    "start_time": "2022-01-07T14:37:59.082Z"
   },
   {
    "duration": 128,
    "start_time": "2022-01-07T14:37:59.126Z"
   },
   {
    "duration": 9,
    "start_time": "2022-01-07T14:37:59.256Z"
   },
   {
    "duration": 60,
    "start_time": "2022-01-07T14:37:59.268Z"
   },
   {
    "duration": 32,
    "start_time": "2022-01-07T14:37:59.332Z"
   },
   {
    "duration": 26,
    "start_time": "2022-01-07T14:39:48.072Z"
   },
   {
    "duration": 8,
    "start_time": "2022-01-07T14:39:56.680Z"
   },
   {
    "duration": 10,
    "start_time": "2022-01-07T14:40:11.647Z"
   },
   {
    "duration": 9,
    "start_time": "2022-01-07T14:40:57.776Z"
   },
   {
    "duration": 308,
    "start_time": "2022-01-07T14:42:47.352Z"
   },
   {
    "duration": 37,
    "start_time": "2022-01-07T14:42:50.874Z"
   },
   {
    "duration": 16,
    "start_time": "2022-01-07T14:43:04.951Z"
   },
   {
    "duration": 93,
    "start_time": "2022-01-07T14:43:39.631Z"
   },
   {
    "duration": 20,
    "start_time": "2022-01-07T14:43:39.928Z"
   },
   {
    "duration": 31,
    "start_time": "2022-01-07T14:43:40.216Z"
   },
   {
    "duration": 96,
    "start_time": "2022-01-07T14:43:40.504Z"
   },
   {
    "duration": 9,
    "start_time": "2022-01-07T14:43:40.823Z"
   },
   {
    "duration": 54,
    "start_time": "2022-01-07T14:43:41.136Z"
   },
   {
    "duration": 9,
    "start_time": "2022-01-07T14:43:41.471Z"
   },
   {
    "duration": 9,
    "start_time": "2022-01-07T14:43:41.791Z"
   },
   {
    "duration": 222,
    "start_time": "2022-01-07T14:43:42.119Z"
   },
   {
    "duration": 43,
    "start_time": "2022-01-07T14:43:42.343Z"
   },
   {
    "duration": 15,
    "start_time": "2022-01-07T14:43:42.528Z"
   },
   {
    "duration": 457,
    "start_time": "2022-01-07T14:45:57.357Z"
   },
   {
    "duration": 1666,
    "start_time": "2022-01-07T14:46:03.582Z"
   },
   {
    "duration": 605,
    "start_time": "2022-01-07T14:46:05.251Z"
   },
   {
    "duration": 26,
    "start_time": "2022-01-07T14:46:05.859Z"
   },
   {
    "duration": 10,
    "start_time": "2022-01-07T14:46:05.889Z"
   },
   {
    "duration": 12,
    "start_time": "2022-01-07T14:46:05.902Z"
   },
   {
    "duration": 63,
    "start_time": "2022-01-07T14:46:05.917Z"
   },
   {
    "duration": 16,
    "start_time": "2022-01-07T14:46:05.983Z"
   },
   {
    "duration": 25,
    "start_time": "2022-01-07T14:46:06.005Z"
   },
   {
    "duration": 14,
    "start_time": "2022-01-07T14:46:06.058Z"
   },
   {
    "duration": 20,
    "start_time": "2022-01-07T14:46:06.075Z"
   },
   {
    "duration": 15,
    "start_time": "2022-01-07T14:46:06.098Z"
   },
   {
    "duration": 47,
    "start_time": "2022-01-07T14:46:06.116Z"
   },
   {
    "duration": 23,
    "start_time": "2022-01-07T14:46:06.166Z"
   },
   {
    "duration": 153,
    "start_time": "2022-01-07T14:46:06.193Z"
   },
   {
    "duration": 11,
    "start_time": "2022-01-07T14:46:06.348Z"
   },
   {
    "duration": 16,
    "start_time": "2022-01-07T14:46:06.362Z"
   },
   {
    "duration": 131,
    "start_time": "2022-01-07T14:46:06.381Z"
   },
   {
    "duration": 20,
    "start_time": "2022-01-07T14:46:06.514Z"
   },
   {
    "duration": 55,
    "start_time": "2022-01-07T14:46:06.537Z"
   },
   {
    "duration": 118,
    "start_time": "2022-01-07T14:46:06.595Z"
   },
   {
    "duration": 9,
    "start_time": "2022-01-07T14:46:06.715Z"
   },
   {
    "duration": 81,
    "start_time": "2022-01-07T14:46:06.726Z"
   },
   {
    "duration": 9,
    "start_time": "2022-01-07T14:46:06.811Z"
   },
   {
    "duration": 9,
    "start_time": "2022-01-07T14:46:06.822Z"
   },
   {
    "duration": 339,
    "start_time": "2022-01-07T14:46:06.860Z"
   },
   {
    "duration": 38,
    "start_time": "2022-01-07T14:46:07.201Z"
   },
   {
    "duration": 15,
    "start_time": "2022-01-07T14:46:19.962Z"
   },
   {
    "duration": 557,
    "start_time": "2022-01-07T14:46:29.728Z"
   },
   {
    "duration": 1494,
    "start_time": "2022-01-07T14:46:38.850Z"
   },
   {
    "duration": 517,
    "start_time": "2022-01-07T14:46:40.346Z"
   },
   {
    "duration": 18,
    "start_time": "2022-01-07T14:46:40.866Z"
   },
   {
    "duration": 10,
    "start_time": "2022-01-07T14:46:40.887Z"
   },
   {
    "duration": 13,
    "start_time": "2022-01-07T14:46:40.899Z"
   },
   {
    "duration": 56,
    "start_time": "2022-01-07T14:46:40.914Z"
   },
   {
    "duration": 12,
    "start_time": "2022-01-07T14:46:40.972Z"
   },
   {
    "duration": 23,
    "start_time": "2022-01-07T14:46:40.986Z"
   },
   {
    "duration": 10,
    "start_time": "2022-01-07T14:46:41.012Z"
   },
   {
    "duration": 19,
    "start_time": "2022-01-07T14:46:41.061Z"
   },
   {
    "duration": 15,
    "start_time": "2022-01-07T14:46:41.083Z"
   },
   {
    "duration": 9,
    "start_time": "2022-01-07T14:46:41.100Z"
   },
   {
    "duration": 53,
    "start_time": "2022-01-07T14:46:41.111Z"
   },
   {
    "duration": 116,
    "start_time": "2022-01-07T14:46:41.167Z"
   },
   {
    "duration": 7,
    "start_time": "2022-01-07T14:46:41.285Z"
   },
   {
    "duration": 15,
    "start_time": "2022-01-07T14:46:41.295Z"
   },
   {
    "duration": 125,
    "start_time": "2022-01-07T14:46:41.312Z"
   },
   {
    "duration": 28,
    "start_time": "2022-01-07T14:46:41.440Z"
   },
   {
    "duration": 33,
    "start_time": "2022-01-07T14:46:41.470Z"
   },
   {
    "duration": 119,
    "start_time": "2022-01-07T14:46:41.505Z"
   },
   {
    "duration": 7,
    "start_time": "2022-01-07T14:46:41.627Z"
   },
   {
    "duration": 72,
    "start_time": "2022-01-07T14:46:41.637Z"
   },
   {
    "duration": 8,
    "start_time": "2022-01-07T14:46:41.711Z"
   },
   {
    "duration": 14,
    "start_time": "2022-01-07T14:46:41.721Z"
   },
   {
    "duration": 1623,
    "start_time": "2022-01-07T14:47:09.727Z"
   },
   {
    "duration": 531,
    "start_time": "2022-01-07T14:47:11.353Z"
   },
   {
    "duration": 18,
    "start_time": "2022-01-07T14:47:11.887Z"
   },
   {
    "duration": 9,
    "start_time": "2022-01-07T14:47:11.908Z"
   },
   {
    "duration": 16,
    "start_time": "2022-01-07T14:47:11.919Z"
   },
   {
    "duration": 43,
    "start_time": "2022-01-07T14:47:11.937Z"
   },
   {
    "duration": 15,
    "start_time": "2022-01-07T14:47:11.982Z"
   },
   {
    "duration": 26,
    "start_time": "2022-01-07T14:47:12.000Z"
   },
   {
    "duration": 39,
    "start_time": "2022-01-07T14:47:12.029Z"
   },
   {
    "duration": 18,
    "start_time": "2022-01-07T14:47:12.071Z"
   },
   {
    "duration": 11,
    "start_time": "2022-01-07T14:47:12.091Z"
   },
   {
    "duration": 10,
    "start_time": "2022-01-07T14:47:12.104Z"
   },
   {
    "duration": 59,
    "start_time": "2022-01-07T14:47:12.117Z"
   },
   {
    "duration": 131,
    "start_time": "2022-01-07T14:47:12.178Z"
   },
   {
    "duration": 8,
    "start_time": "2022-01-07T14:47:12.312Z"
   },
   {
    "duration": 14,
    "start_time": "2022-01-07T14:47:12.323Z"
   },
   {
    "duration": 135,
    "start_time": "2022-01-07T14:47:12.339Z"
   },
   {
    "duration": 19,
    "start_time": "2022-01-07T14:47:12.476Z"
   },
   {
    "duration": 32,
    "start_time": "2022-01-07T14:47:12.498Z"
   },
   {
    "duration": 129,
    "start_time": "2022-01-07T14:47:12.532Z"
   },
   {
    "duration": 9,
    "start_time": "2022-01-07T14:47:12.663Z"
   },
   {
    "duration": 55,
    "start_time": "2022-01-07T14:47:12.674Z"
   },
   {
    "duration": 33,
    "start_time": "2022-01-07T14:47:12.732Z"
   },
   {
    "duration": 15,
    "start_time": "2022-01-07T14:47:12.768Z"
   },
   {
    "duration": 1407,
    "start_time": "2022-01-07T14:47:15.669Z"
   },
   {
    "duration": 1411,
    "start_time": "2022-01-07T14:47:15.670Z"
   },
   {
    "duration": 32,
    "start_time": "2022-01-07T14:47:18.362Z"
   },
   {
    "duration": 114,
    "start_time": "2022-01-07T14:47:28.154Z"
   },
   {
    "duration": 55,
    "start_time": "2022-01-07T14:47:31.553Z"
   },
   {
    "duration": 49,
    "start_time": "2022-01-07T14:47:59.523Z"
   },
   {
    "duration": 33,
    "start_time": "2022-01-07T14:48:01.260Z"
   },
   {
    "duration": 1668,
    "start_time": "2022-01-07T14:48:07.337Z"
   },
   {
    "duration": 606,
    "start_time": "2022-01-07T14:48:09.007Z"
   },
   {
    "duration": 19,
    "start_time": "2022-01-07T14:48:09.615Z"
   },
   {
    "duration": 12,
    "start_time": "2022-01-07T14:48:09.636Z"
   },
   {
    "duration": 12,
    "start_time": "2022-01-07T14:48:09.660Z"
   },
   {
    "duration": 30,
    "start_time": "2022-01-07T14:48:09.675Z"
   },
   {
    "duration": 11,
    "start_time": "2022-01-07T14:48:09.708Z"
   },
   {
    "duration": 53,
    "start_time": "2022-01-07T14:48:09.725Z"
   },
   {
    "duration": 9,
    "start_time": "2022-01-07T14:48:09.782Z"
   },
   {
    "duration": 19,
    "start_time": "2022-01-07T14:48:09.794Z"
   },
   {
    "duration": 49,
    "start_time": "2022-01-07T14:48:09.815Z"
   },
   {
    "duration": 9,
    "start_time": "2022-01-07T14:48:09.866Z"
   },
   {
    "duration": 18,
    "start_time": "2022-01-07T14:48:09.877Z"
   },
   {
    "duration": 140,
    "start_time": "2022-01-07T14:48:09.898Z"
   },
   {
    "duration": 18,
    "start_time": "2022-01-07T14:48:10.041Z"
   },
   {
    "duration": 17,
    "start_time": "2022-01-07T14:48:10.062Z"
   },
   {
    "duration": 131,
    "start_time": "2022-01-07T14:48:10.082Z"
   },
   {
    "duration": 18,
    "start_time": "2022-01-07T14:48:10.215Z"
   },
   {
    "duration": 50,
    "start_time": "2022-01-07T14:48:10.236Z"
   },
   {
    "duration": 130,
    "start_time": "2022-01-07T14:48:10.289Z"
   },
   {
    "duration": 10,
    "start_time": "2022-01-07T14:48:10.422Z"
   },
   {
    "duration": 72,
    "start_time": "2022-01-07T14:48:10.435Z"
   },
   {
    "duration": 8,
    "start_time": "2022-01-07T14:48:10.511Z"
   },
   {
    "duration": 9,
    "start_time": "2022-01-07T14:48:10.521Z"
   },
   {
    "duration": 52,
    "start_time": "2022-01-07T14:48:10.559Z"
   },
   {
    "duration": 64,
    "start_time": "2022-01-07T14:48:10.613Z"
   },
   {
    "duration": 3113,
    "start_time": "2022-01-07T14:48:17.290Z"
   },
   {
    "duration": 2046,
    "start_time": "2022-01-07T14:48:30.660Z"
   },
   {
    "duration": 372,
    "start_time": "2022-01-07T14:48:35.174Z"
   },
   {
    "duration": 1489,
    "start_time": "2022-01-07T14:48:39.845Z"
   },
   {
    "duration": 513,
    "start_time": "2022-01-07T14:48:41.337Z"
   },
   {
    "duration": 19,
    "start_time": "2022-01-07T14:48:41.853Z"
   },
   {
    "duration": 9,
    "start_time": "2022-01-07T14:48:41.875Z"
   },
   {
    "duration": 13,
    "start_time": "2022-01-07T14:48:41.887Z"
   },
   {
    "duration": 70,
    "start_time": "2022-01-07T14:48:41.903Z"
   },
   {
    "duration": 13,
    "start_time": "2022-01-07T14:48:41.976Z"
   },
   {
    "duration": 24,
    "start_time": "2022-01-07T14:48:41.992Z"
   },
   {
    "duration": 44,
    "start_time": "2022-01-07T14:48:42.021Z"
   },
   {
    "duration": 21,
    "start_time": "2022-01-07T14:48:42.068Z"
   },
   {
    "duration": 11,
    "start_time": "2022-01-07T14:48:42.091Z"
   },
   {
    "duration": 9,
    "start_time": "2022-01-07T14:48:42.105Z"
   },
   {
    "duration": 54,
    "start_time": "2022-01-07T14:48:42.117Z"
   },
   {
    "duration": 117,
    "start_time": "2022-01-07T14:48:42.173Z"
   },
   {
    "duration": 7,
    "start_time": "2022-01-07T14:48:42.292Z"
   },
   {
    "duration": 14,
    "start_time": "2022-01-07T14:48:42.302Z"
   },
   {
    "duration": 120,
    "start_time": "2022-01-07T14:48:42.318Z"
   },
   {
    "duration": 28,
    "start_time": "2022-01-07T14:48:42.440Z"
   },
   {
    "duration": 31,
    "start_time": "2022-01-07T14:48:42.471Z"
   },
   {
    "duration": 119,
    "start_time": "2022-01-07T14:48:42.504Z"
   },
   {
    "duration": 8,
    "start_time": "2022-01-07T14:48:42.625Z"
   },
   {
    "duration": 79,
    "start_time": "2022-01-07T14:48:42.636Z"
   },
   {
    "duration": 8,
    "start_time": "2022-01-07T14:48:42.717Z"
   },
   {
    "duration": 34,
    "start_time": "2022-01-07T14:48:42.727Z"
   },
   {
    "duration": 433,
    "start_time": "2022-01-07T14:50:28.594Z"
   },
   {
    "duration": 1476,
    "start_time": "2022-01-07T14:50:38.470Z"
   },
   {
    "duration": 545,
    "start_time": "2022-01-07T14:50:39.949Z"
   },
   {
    "duration": 19,
    "start_time": "2022-01-07T14:50:40.500Z"
   },
   {
    "duration": 10,
    "start_time": "2022-01-07T14:50:40.521Z"
   },
   {
    "duration": 28,
    "start_time": "2022-01-07T14:50:40.533Z"
   },
   {
    "duration": 26,
    "start_time": "2022-01-07T14:50:40.564Z"
   },
   {
    "duration": 12,
    "start_time": "2022-01-07T14:50:40.594Z"
   },
   {
    "duration": 57,
    "start_time": "2022-01-07T14:50:40.610Z"
   },
   {
    "duration": 10,
    "start_time": "2022-01-07T14:50:40.669Z"
   },
   {
    "duration": 42,
    "start_time": "2022-01-07T14:50:40.683Z"
   },
   {
    "duration": 31,
    "start_time": "2022-01-07T14:50:40.728Z"
   },
   {
    "duration": 9,
    "start_time": "2022-01-07T14:50:40.761Z"
   },
   {
    "duration": 34,
    "start_time": "2022-01-07T14:50:40.772Z"
   },
   {
    "duration": 119,
    "start_time": "2022-01-07T14:50:40.809Z"
   },
   {
    "duration": 7,
    "start_time": "2022-01-07T14:50:40.930Z"
   },
   {
    "duration": 28,
    "start_time": "2022-01-07T14:50:40.940Z"
   },
   {
    "duration": 115,
    "start_time": "2022-01-07T14:50:40.970Z"
   },
   {
    "duration": 20,
    "start_time": "2022-01-07T14:50:41.087Z"
   },
   {
    "duration": 588,
    "start_time": "2022-01-07T14:50:41.109Z"
   },
   {
    "duration": 1425,
    "start_time": "2022-01-07T14:50:40.274Z"
   },
   {
    "duration": 1419,
    "start_time": "2022-01-07T14:50:40.282Z"
   },
   {
    "duration": 1413,
    "start_time": "2022-01-07T14:50:40.289Z"
   },
   {
    "duration": 1403,
    "start_time": "2022-01-07T14:50:40.300Z"
   },
   {
    "duration": 1404,
    "start_time": "2022-01-07T14:50:40.301Z"
   },
   {
    "duration": 1404,
    "start_time": "2022-01-07T14:50:40.302Z"
   },
   {
    "duration": 1403,
    "start_time": "2022-01-07T14:50:40.304Z"
   },
   {
    "duration": 31,
    "start_time": "2022-01-07T14:50:50.278Z"
   },
   {
    "duration": 100,
    "start_time": "2022-01-07T14:50:51.788Z"
   },
   {
    "duration": 9,
    "start_time": "2022-01-07T14:50:53.211Z"
   },
   {
    "duration": 54,
    "start_time": "2022-01-07T14:50:53.908Z"
   },
   {
    "duration": 9,
    "start_time": "2022-01-07T14:50:54.580Z"
   },
   {
    "duration": 10,
    "start_time": "2022-01-07T14:50:55.251Z"
   },
   {
    "duration": 50,
    "start_time": "2022-01-07T14:50:55.814Z"
   },
   {
    "duration": 409,
    "start_time": "2022-01-07T14:50:57.425Z"
   },
   {
    "duration": 28,
    "start_time": "2022-01-07T14:51:05.779Z"
   },
   {
    "duration": 397,
    "start_time": "2022-01-07T14:52:13.622Z"
   },
   {
    "duration": 395,
    "start_time": "2022-01-07T14:53:00.415Z"
   },
   {
    "duration": 387,
    "start_time": "2022-01-07T14:53:10.133Z"
   },
   {
    "duration": 405,
    "start_time": "2022-01-07T14:53:24.595Z"
   },
   {
    "duration": 392,
    "start_time": "2022-01-07T14:53:48.523Z"
   },
   {
    "duration": 428,
    "start_time": "2022-01-07T14:53:54.043Z"
   },
   {
    "duration": 36,
    "start_time": "2022-01-07T15:10:38.259Z"
   },
   {
    "duration": 86,
    "start_time": "2022-01-07T15:11:00.330Z"
   },
   {
    "duration": 125,
    "start_time": "2022-01-07T15:11:04.522Z"
   },
   {
    "duration": 407,
    "start_time": "2022-01-07T15:11:17.370Z"
   },
   {
    "duration": 489,
    "start_time": "2022-01-07T15:11:36.546Z"
   },
   {
    "duration": 146,
    "start_time": "2022-01-07T15:11:41.003Z"
   },
   {
    "duration": 521,
    "start_time": "2022-01-07T15:11:48.617Z"
   },
   {
    "duration": 116,
    "start_time": "2022-01-07T15:14:53.249Z"
   },
   {
    "duration": 117,
    "start_time": "2022-01-07T15:14:59.275Z"
   },
   {
    "duration": 55,
    "start_time": "2022-01-07T15:14:59.395Z"
   },
   {
    "duration": 34,
    "start_time": "2022-01-07T15:14:59.453Z"
   },
   {
    "duration": 121,
    "start_time": "2022-01-07T15:14:59.681Z"
   },
   {
    "duration": 14,
    "start_time": "2022-01-07T15:15:00.001Z"
   },
   {
    "duration": 100,
    "start_time": "2022-01-07T15:15:00.453Z"
   },
   {
    "duration": 18,
    "start_time": "2022-01-07T15:15:00.787Z"
   },
   {
    "duration": 12,
    "start_time": "2022-01-07T15:15:01.088Z"
   },
   {
    "duration": 83,
    "start_time": "2022-01-07T15:15:01.607Z"
   },
   {
    "duration": 553,
    "start_time": "2022-01-07T15:15:01.777Z"
   },
   {
    "duration": 397,
    "start_time": "2022-01-07T15:25:07.775Z"
   },
   {
    "duration": 412,
    "start_time": "2022-01-07T15:25:17.335Z"
   },
   {
    "duration": 16,
    "start_time": "2022-01-07T15:27:35.798Z"
   },
   {
    "duration": 557,
    "start_time": "2022-01-07T15:30:59.293Z"
   },
   {
    "duration": 36,
    "start_time": "2022-01-07T15:31:17.911Z"
   },
   {
    "duration": 447,
    "start_time": "2022-01-07T15:31:24.142Z"
   },
   {
    "duration": 39,
    "start_time": "2022-01-07T15:31:30.846Z"
   },
   {
    "duration": 55,
    "start_time": "2022-01-07T15:37:49.120Z"
   },
   {
    "duration": 9,
    "start_time": "2022-01-07T15:37:51.476Z"
   },
   {
    "duration": 56,
    "start_time": "2022-01-07T15:37:52.238Z"
   },
   {
    "duration": 8,
    "start_time": "2022-01-07T15:37:52.693Z"
   },
   {
    "duration": 10,
    "start_time": "2022-01-07T15:37:53.060Z"
   },
   {
    "duration": 47,
    "start_time": "2022-01-07T15:38:28.021Z"
   },
   {
    "duration": 30,
    "start_time": "2022-01-07T15:38:33.541Z"
   },
   {
    "duration": 49,
    "start_time": "2022-01-07T15:39:20.365Z"
   },
   {
    "duration": 50,
    "start_time": "2022-01-07T15:39:23.989Z"
   },
   {
    "duration": 410,
    "start_time": "2022-01-07T17:30:14.647Z"
   },
   {
    "duration": 1560,
    "start_time": "2022-01-07T17:30:20.962Z"
   },
   {
    "duration": 530,
    "start_time": "2022-01-07T17:30:22.524Z"
   },
   {
    "duration": 19,
    "start_time": "2022-01-07T17:30:23.058Z"
   },
   {
    "duration": 11,
    "start_time": "2022-01-07T17:30:23.080Z"
   },
   {
    "duration": 30,
    "start_time": "2022-01-07T17:30:23.094Z"
   },
   {
    "duration": 31,
    "start_time": "2022-01-07T17:30:23.127Z"
   },
   {
    "duration": 13,
    "start_time": "2022-01-07T17:30:23.161Z"
   },
   {
    "duration": 57,
    "start_time": "2022-01-07T17:30:23.177Z"
   },
   {
    "duration": 10,
    "start_time": "2022-01-07T17:30:23.238Z"
   },
   {
    "duration": 20,
    "start_time": "2022-01-07T17:30:23.252Z"
   },
   {
    "duration": 12,
    "start_time": "2022-01-07T17:30:23.274Z"
   },
   {
    "duration": 11,
    "start_time": "2022-01-07T17:30:23.319Z"
   },
   {
    "duration": 21,
    "start_time": "2022-01-07T17:30:23.332Z"
   },
   {
    "duration": 131,
    "start_time": "2022-01-07T17:30:23.356Z"
   },
   {
    "duration": 6,
    "start_time": "2022-01-07T17:30:23.489Z"
   },
   {
    "duration": 31,
    "start_time": "2022-01-07T17:30:23.498Z"
   },
   {
    "duration": 104,
    "start_time": "2022-01-07T17:30:23.531Z"
   },
   {
    "duration": 19,
    "start_time": "2022-01-07T17:30:23.637Z"
   },
   {
    "duration": 37,
    "start_time": "2022-01-07T17:30:23.658Z"
   },
   {
    "duration": 128,
    "start_time": "2022-01-07T17:30:23.697Z"
   },
   {
    "duration": 436,
    "start_time": "2022-01-07T17:30:23.827Z"
   },
   {
    "duration": -63,
    "start_time": "2022-01-07T17:30:24.329Z"
   },
   {
    "duration": -63,
    "start_time": "2022-01-07T17:30:24.330Z"
   },
   {
    "duration": -63,
    "start_time": "2022-01-07T17:30:24.331Z"
   },
   {
    "duration": -62,
    "start_time": "2022-01-07T17:30:24.332Z"
   },
   {
    "duration": -62,
    "start_time": "2022-01-07T17:30:24.333Z"
   },
   {
    "duration": 465,
    "start_time": "2022-01-07T17:30:40.964Z"
   },
   {
    "duration": 45,
    "start_time": "2022-01-07T17:30:49.604Z"
   },
   {
    "duration": 73,
    "start_time": "2022-01-07T17:31:32.948Z"
   },
   {
    "duration": 9,
    "start_time": "2022-01-07T17:31:42.364Z"
   },
   {
    "duration": 57,
    "start_time": "2022-01-07T17:31:42.811Z"
   },
   {
    "duration": 8,
    "start_time": "2022-01-07T17:31:43.716Z"
   },
   {
    "duration": 1418,
    "start_time": "2022-01-07T18:10:15.470Z"
   },
   {
    "duration": 527,
    "start_time": "2022-01-07T18:10:16.891Z"
   },
   {
    "duration": 17,
    "start_time": "2022-01-07T18:10:17.421Z"
   },
   {
    "duration": 17,
    "start_time": "2022-01-07T18:10:17.441Z"
   },
   {
    "duration": 20,
    "start_time": "2022-01-07T18:10:17.461Z"
   },
   {
    "duration": 44,
    "start_time": "2022-01-07T18:10:17.483Z"
   },
   {
    "duration": 11,
    "start_time": "2022-01-07T18:10:17.530Z"
   },
   {
    "duration": 26,
    "start_time": "2022-01-07T18:10:17.545Z"
   },
   {
    "duration": 10,
    "start_time": "2022-01-07T18:10:17.573Z"
   },
   {
    "duration": 49,
    "start_time": "2022-01-07T18:10:17.585Z"
   },
   {
    "duration": 13,
    "start_time": "2022-01-07T18:10:17.637Z"
   },
   {
    "duration": 10,
    "start_time": "2022-01-07T18:10:17.652Z"
   },
   {
    "duration": 53,
    "start_time": "2022-01-07T18:10:17.665Z"
   },
   {
    "duration": 113,
    "start_time": "2022-01-07T18:10:17.720Z"
   },
   {
    "duration": 6,
    "start_time": "2022-01-07T18:10:17.836Z"
   },
   {
    "duration": 13,
    "start_time": "2022-01-07T18:10:17.845Z"
   },
   {
    "duration": 128,
    "start_time": "2022-01-07T18:10:17.860Z"
   },
   {
    "duration": 27,
    "start_time": "2022-01-07T18:10:17.990Z"
   },
   {
    "duration": 33,
    "start_time": "2022-01-07T18:10:18.019Z"
   },
   {
    "duration": 129,
    "start_time": "2022-01-07T18:10:18.055Z"
   },
   {
    "duration": 85,
    "start_time": "2022-01-07T18:10:18.186Z"
   },
   {
    "duration": 9,
    "start_time": "2022-01-07T18:10:18.273Z"
   },
   {
    "duration": 78,
    "start_time": "2022-01-07T18:10:18.287Z"
   },
   {
    "duration": 8,
    "start_time": "2022-01-07T18:10:18.367Z"
   },
   {
    "duration": 470,
    "start_time": "2022-01-07T18:10:18.377Z"
   },
   {
    "duration": -731,
    "start_time": "2022-01-07T18:10:19.581Z"
   },
   {
    "duration": 31,
    "start_time": "2022-01-07T18:17:28.775Z"
   },
   {
    "duration": 42,
    "start_time": "2022-01-07T18:17:34.824Z"
   },
   {
    "duration": 31,
    "start_time": "2022-01-07T18:17:38.257Z"
   },
   {
    "duration": 68,
    "start_time": "2022-01-07T18:17:58.856Z"
   },
   {
    "duration": 10,
    "start_time": "2022-01-07T18:19:17.609Z"
   },
   {
    "duration": 7,
    "start_time": "2022-01-07T18:20:15.642Z"
   },
   {
    "duration": 10,
    "start_time": "2022-01-07T18:21:19.943Z"
   },
   {
    "duration": 9,
    "start_time": "2022-01-07T18:21:26.255Z"
   },
   {
    "duration": 9,
    "start_time": "2022-01-07T18:21:38.239Z"
   },
   {
    "duration": 9,
    "start_time": "2022-01-07T18:22:16.535Z"
   },
   {
    "duration": 9,
    "start_time": "2022-01-07T18:22:30.390Z"
   },
   {
    "duration": 311,
    "start_time": "2022-01-07T18:22:54.274Z"
   },
   {
    "duration": 6,
    "start_time": "2022-01-07T18:22:55.854Z"
   },
   {
    "duration": 5,
    "start_time": "2022-01-07T18:25:45.310Z"
   },
   {
    "duration": 100,
    "start_time": "2022-01-07T18:26:21.318Z"
   },
   {
    "duration": 1519,
    "start_time": "2022-01-07T18:27:40.543Z"
   },
   {
    "duration": 4,
    "start_time": "2022-01-07T18:27:46.670Z"
   },
   {
    "duration": 19,
    "start_time": "2022-01-07T18:27:50.598Z"
   },
   {
    "duration": 6,
    "start_time": "2022-01-07T18:27:54.938Z"
   },
   {
    "duration": 102,
    "start_time": "2022-01-07T18:28:35.078Z"
   },
   {
    "duration": 415,
    "start_time": "2022-01-07T18:28:54.850Z"
   },
   {
    "duration": 120,
    "start_time": "2022-01-07T18:29:56.365Z"
   },
   {
    "duration": 134,
    "start_time": "2022-01-07T18:30:08.919Z"
   },
   {
    "duration": 150,
    "start_time": "2022-01-07T18:30:15.639Z"
   },
   {
    "duration": 23,
    "start_time": "2022-01-07T18:30:25.381Z"
   },
   {
    "duration": 22,
    "start_time": "2022-01-07T18:31:01.670Z"
   },
   {
    "duration": 22,
    "start_time": "2022-01-07T18:31:40.382Z"
   },
   {
    "duration": 18,
    "start_time": "2022-01-07T18:31:46.012Z"
   },
   {
    "duration": 8,
    "start_time": "2022-01-07T18:31:55.781Z"
   },
   {
    "duration": 20,
    "start_time": "2022-01-07T18:31:56.869Z"
   },
   {
    "duration": 14,
    "start_time": "2022-01-07T18:32:42.133Z"
   },
   {
    "duration": 20,
    "start_time": "2022-01-07T18:33:40.517Z"
   },
   {
    "duration": 17,
    "start_time": "2022-01-07T18:33:43.941Z"
   },
   {
    "duration": 322,
    "start_time": "2022-01-07T18:35:29.613Z"
   },
   {
    "duration": 17,
    "start_time": "2022-01-07T18:35:32.316Z"
   },
   {
    "duration": 45,
    "start_time": "2022-01-07T18:35:42.942Z"
   },
   {
    "duration": 6,
    "start_time": "2022-01-07T18:37:07.559Z"
   },
   {
    "duration": 21,
    "start_time": "2022-01-07T18:37:11.387Z"
   },
   {
    "duration": 569,
    "start_time": "2022-01-07T18:37:40.756Z"
   },
   {
    "duration": 20,
    "start_time": "2022-01-07T18:37:59.829Z"
   },
   {
    "duration": 307,
    "start_time": "2022-01-07T18:38:11.796Z"
   },
   {
    "duration": 32,
    "start_time": "2022-01-07T18:38:44.933Z"
   },
   {
    "duration": 71,
    "start_time": "2022-01-07T18:38:47.652Z"
   },
   {
    "duration": 8,
    "start_time": "2022-01-07T18:38:50.645Z"
   },
   {
    "duration": 9,
    "start_time": "2022-01-07T18:38:51.085Z"
   },
   {
    "duration": 8,
    "start_time": "2022-01-07T18:38:55.868Z"
   },
   {
    "duration": 21,
    "start_time": "2022-01-07T18:38:59.860Z"
   },
   {
    "duration": 48,
    "start_time": "2022-01-07T18:39:02.820Z"
   },
   {
    "duration": 4,
    "start_time": "2022-01-07T18:39:11.220Z"
   },
   {
    "duration": 30,
    "start_time": "2022-01-07T18:39:11.716Z"
   },
   {
    "duration": 8,
    "start_time": "2022-01-07T18:39:39.812Z"
   },
   {
    "duration": 15,
    "start_time": "2022-01-07T18:39:51.476Z"
   },
   {
    "duration": 9,
    "start_time": "2022-01-07T18:39:54.956Z"
   },
   {
    "duration": 424,
    "start_time": "2022-01-07T18:40:02.284Z"
   },
   {
    "duration": 19,
    "start_time": "2022-01-07T18:40:07.284Z"
   },
   {
    "duration": -749,
    "start_time": "2022-01-07T18:40:32.400Z"
   },
   {
    "duration": 20,
    "start_time": "2022-01-07T18:40:33.381Z"
   },
   {
    "duration": 18,
    "start_time": "2022-01-07T18:41:57.644Z"
   },
   {
    "duration": 24,
    "start_time": "2022-01-07T18:42:49.740Z"
   },
   {
    "duration": 186,
    "start_time": "2022-01-07T18:43:47.827Z"
   },
   {
    "duration": 48,
    "start_time": "2022-01-07T18:44:15.332Z"
   },
   {
    "duration": 17,
    "start_time": "2022-01-07T18:44:36.459Z"
   },
   {
    "duration": 37,
    "start_time": "2022-01-07T18:45:02.381Z"
   },
   {
    "duration": 1351,
    "start_time": "2022-01-07T23:06:53.365Z"
   },
   {
    "duration": 482,
    "start_time": "2022-01-07T23:06:54.718Z"
   },
   {
    "duration": 17,
    "start_time": "2022-01-07T23:06:55.203Z"
   },
   {
    "duration": 10,
    "start_time": "2022-01-07T23:06:55.223Z"
   },
   {
    "duration": 10,
    "start_time": "2022-01-07T23:06:55.235Z"
   },
   {
    "duration": 33,
    "start_time": "2022-01-07T23:06:55.248Z"
   },
   {
    "duration": 13,
    "start_time": "2022-01-07T23:06:55.323Z"
   },
   {
    "duration": 21,
    "start_time": "2022-01-07T23:06:55.340Z"
   },
   {
    "duration": 10,
    "start_time": "2022-01-07T23:06:55.363Z"
   },
   {
    "duration": 59,
    "start_time": "2022-01-07T23:06:55.375Z"
   },
   {
    "duration": 13,
    "start_time": "2022-01-07T23:06:55.437Z"
   },
   {
    "duration": 12,
    "start_time": "2022-01-07T23:06:55.453Z"
   },
   {
    "duration": 58,
    "start_time": "2022-01-07T23:06:55.467Z"
   },
   {
    "duration": 106,
    "start_time": "2022-01-07T23:06:55.527Z"
   },
   {
    "duration": 6,
    "start_time": "2022-01-07T23:06:55.636Z"
   },
   {
    "duration": 13,
    "start_time": "2022-01-07T23:06:55.644Z"
   },
   {
    "duration": 30,
    "start_time": "2022-01-07T23:06:55.659Z"
   },
   {
    "duration": 99,
    "start_time": "2022-01-07T23:06:55.723Z"
   },
   {
    "duration": 8,
    "start_time": "2022-01-07T23:06:55.824Z"
   },
   {
    "duration": 9,
    "start_time": "2022-01-07T23:06:55.835Z"
   },
   {
    "duration": 7,
    "start_time": "2022-01-07T23:06:55.847Z"
   },
   {
    "duration": 66,
    "start_time": "2022-01-07T23:06:55.857Z"
   },
   {
    "duration": 48,
    "start_time": "2022-01-07T23:06:55.927Z"
   },
   {
    "duration": 5,
    "start_time": "2022-01-07T23:06:55.978Z"
   },
   {
    "duration": 54,
    "start_time": "2022-01-07T23:06:55.985Z"
   },
   {
    "duration": 41,
    "start_time": "2022-01-07T23:06:56.041Z"
   },
   {
    "duration": 45,
    "start_time": "2022-01-07T23:06:56.084Z"
   },
   {
    "duration": 1389,
    "start_time": "2022-01-07T23:08:48.793Z"
   },
   {
    "duration": 466,
    "start_time": "2022-01-07T23:08:50.185Z"
   },
   {
    "duration": 20,
    "start_time": "2022-01-07T23:08:50.653Z"
   },
   {
    "duration": 11,
    "start_time": "2022-01-07T23:08:50.675Z"
   },
   {
    "duration": 36,
    "start_time": "2022-01-07T23:08:50.688Z"
   },
   {
    "duration": 29,
    "start_time": "2022-01-07T23:08:50.727Z"
   },
   {
    "duration": 12,
    "start_time": "2022-01-07T23:08:50.758Z"
   },
   {
    "duration": 59,
    "start_time": "2022-01-07T23:08:50.772Z"
   },
   {
    "duration": 10,
    "start_time": "2022-01-07T23:08:50.835Z"
   },
   {
    "duration": 18,
    "start_time": "2022-01-07T23:08:50.847Z"
   },
   {
    "duration": 10,
    "start_time": "2022-01-07T23:08:50.868Z"
   },
   {
    "duration": 50,
    "start_time": "2022-01-07T23:08:50.880Z"
   },
   {
    "duration": 19,
    "start_time": "2022-01-07T23:08:50.932Z"
   },
   {
    "duration": 130,
    "start_time": "2022-01-07T23:08:50.953Z"
   },
   {
    "duration": 6,
    "start_time": "2022-01-07T23:08:51.086Z"
   },
   {
    "duration": 47,
    "start_time": "2022-01-07T23:08:51.095Z"
   },
   {
    "duration": 98,
    "start_time": "2022-01-07T23:08:51.145Z"
   },
   {
    "duration": 7,
    "start_time": "2022-01-07T23:08:51.246Z"
   },
   {
    "duration": 16,
    "start_time": "2022-01-07T23:08:51.255Z"
   },
   {
    "duration": 7,
    "start_time": "2022-01-07T23:08:51.273Z"
   },
   {
    "duration": 54,
    "start_time": "2022-01-07T23:08:51.283Z"
   },
   {
    "duration": 43,
    "start_time": "2022-01-07T23:08:51.340Z"
   },
   {
    "duration": 5,
    "start_time": "2022-01-07T23:08:51.386Z"
   },
   {
    "duration": 25,
    "start_time": "2022-01-07T23:08:51.424Z"
   },
   {
    "duration": 44,
    "start_time": "2022-01-07T23:08:51.451Z"
   },
   {
    "duration": 41,
    "start_time": "2022-01-07T23:08:51.497Z"
   },
   {
    "duration": 19,
    "start_time": "2022-01-07T23:10:30.726Z"
   },
   {
    "duration": 45,
    "start_time": "2022-01-07T23:10:56.990Z"
   },
   {
    "duration": 7,
    "start_time": "2022-01-07T23:12:03.414Z"
   },
   {
    "duration": 19,
    "start_time": "2022-01-07T23:12:09.702Z"
   },
   {
    "duration": 1424,
    "start_time": "2022-01-07T23:12:33.254Z"
   },
   {
    "duration": 487,
    "start_time": "2022-01-07T23:12:34.682Z"
   },
   {
    "duration": 19,
    "start_time": "2022-01-07T23:12:35.172Z"
   },
   {
    "duration": 19,
    "start_time": "2022-01-07T23:12:35.193Z"
   },
   {
    "duration": 17,
    "start_time": "2022-01-07T23:12:35.215Z"
   },
   {
    "duration": 27,
    "start_time": "2022-01-07T23:12:35.234Z"
   },
   {
    "duration": 12,
    "start_time": "2022-01-07T23:12:35.264Z"
   },
   {
    "duration": 61,
    "start_time": "2022-01-07T23:12:35.278Z"
   },
   {
    "duration": 10,
    "start_time": "2022-01-07T23:12:35.341Z"
   },
   {
    "duration": 18,
    "start_time": "2022-01-07T23:12:35.356Z"
   },
   {
    "duration": 56,
    "start_time": "2022-01-07T23:12:35.377Z"
   },
   {
    "duration": 13,
    "start_time": "2022-01-07T23:12:35.435Z"
   },
   {
    "duration": 20,
    "start_time": "2022-01-07T23:12:35.450Z"
   },
   {
    "duration": 132,
    "start_time": "2022-01-07T23:12:35.472Z"
   },
   {
    "duration": 20,
    "start_time": "2022-01-07T23:12:35.607Z"
   },
   {
    "duration": 32,
    "start_time": "2022-01-07T23:12:35.630Z"
   },
   {
    "duration": 123,
    "start_time": "2022-01-07T23:12:35.664Z"
   },
   {
    "duration": 9,
    "start_time": "2022-01-07T23:12:35.790Z"
   },
   {
    "duration": 16,
    "start_time": "2022-01-07T23:12:35.822Z"
   },
   {
    "duration": 8,
    "start_time": "2022-01-07T23:12:35.840Z"
   },
   {
    "duration": 23,
    "start_time": "2022-01-07T23:12:35.850Z"
   },
   {
    "duration": 87,
    "start_time": "2022-01-07T23:12:35.875Z"
   },
   {
    "duration": 4,
    "start_time": "2022-01-07T23:12:35.965Z"
   },
   {
    "duration": 33,
    "start_time": "2022-01-07T23:12:35.972Z"
   },
   {
    "duration": 58,
    "start_time": "2022-01-07T23:12:36.007Z"
   },
   {
    "duration": 18,
    "start_time": "2022-01-07T23:12:36.067Z"
   },
   {
    "duration": 6,
    "start_time": "2022-01-07T23:14:01.622Z"
   },
   {
    "duration": 15,
    "start_time": "2022-01-07T23:16:06.410Z"
   },
   {
    "duration": 21,
    "start_time": "2022-01-07T23:16:07.681Z"
   },
   {
    "duration": 14,
    "start_time": "2022-01-07T23:16:28.044Z"
   },
   {
    "duration": 21,
    "start_time": "2022-01-07T23:16:30.066Z"
   },
   {
    "duration": 14,
    "start_time": "2022-01-07T23:18:14.276Z"
   },
   {
    "duration": 16,
    "start_time": "2022-01-07T23:18:20.489Z"
   },
   {
    "duration": 26,
    "start_time": "2022-01-07T23:18:21.877Z"
   },
   {
    "duration": 40,
    "start_time": "2022-01-07T23:19:13.027Z"
   },
   {
    "duration": 40,
    "start_time": "2022-01-07T23:19:33.091Z"
   },
   {
    "duration": 14,
    "start_time": "2022-01-07T23:23:18.329Z"
   },
   {
    "duration": 54,
    "start_time": "2022-01-07T23:23:20.429Z"
   },
   {
    "duration": 69,
    "start_time": "2022-01-07T23:26:04.481Z"
   },
   {
    "duration": 69,
    "start_time": "2022-01-07T23:26:12.338Z"
   },
   {
    "duration": 73,
    "start_time": "2022-01-07T23:26:38.585Z"
   },
   {
    "duration": 401,
    "start_time": "2022-01-07T23:28:31.097Z"
   },
   {
    "duration": 71,
    "start_time": "2022-01-07T23:28:35.097Z"
   },
   {
    "duration": 15,
    "start_time": "2022-01-07T23:29:07.674Z"
   },
   {
    "duration": 72,
    "start_time": "2022-01-07T23:29:43.753Z"
   },
   {
    "duration": 80,
    "start_time": "2022-01-07T23:29:47.384Z"
   },
   {
    "duration": 9,
    "start_time": "2022-01-07T23:29:52.664Z"
   },
   {
    "duration": -633,
    "start_time": "2022-01-07T23:30:15.428Z"
   },
   {
    "duration": 8,
    "start_time": "2022-01-07T23:30:15.528Z"
   },
   {
    "duration": 7,
    "start_time": "2022-01-07T23:30:30.448Z"
   },
   {
    "duration": 8,
    "start_time": "2022-01-07T23:30:30.656Z"
   },
   {
    "duration": 8,
    "start_time": "2022-01-07T23:30:38.841Z"
   },
   {
    "duration": 22,
    "start_time": "2022-01-07T23:30:44.903Z"
   },
   {
    "duration": 47,
    "start_time": "2022-01-07T23:30:59.408Z"
   },
   {
    "duration": 6,
    "start_time": "2022-01-07T23:31:04.895Z"
   },
   {
    "duration": 25,
    "start_time": "2022-01-07T23:31:06.087Z"
   },
   {
    "duration": 44,
    "start_time": "2022-01-07T23:31:17.140Z"
   },
   {
    "duration": 17,
    "start_time": "2022-01-07T23:31:20.248Z"
   },
   {
    "duration": 9,
    "start_time": "2022-01-07T23:31:39.312Z"
   },
   {
    "duration": 3804,
    "start_time": "2022-01-07T23:31:45.600Z"
   },
   {
    "duration": 42,
    "start_time": "2022-01-07T23:31:49.648Z"
   },
   {
    "duration": 17,
    "start_time": "2022-01-07T23:31:50.783Z"
   },
   {
    "duration": 16,
    "start_time": "2022-01-07T23:32:15.785Z"
   },
   {
    "duration": 45,
    "start_time": "2022-01-07T23:32:19.039Z"
   },
   {
    "duration": 16,
    "start_time": "2022-01-07T23:32:19.664Z"
   },
   {
    "duration": 6,
    "start_time": "2022-01-07T23:32:29.945Z"
   },
   {
    "duration": 291,
    "start_time": "2022-01-07T23:32:31.184Z"
   },
   {
    "duration": 296,
    "start_time": "2022-01-07T23:33:01.089Z"
   },
   {
    "duration": 1579,
    "start_time": "2022-01-07T23:33:12.695Z"
   },
   {
    "duration": 469,
    "start_time": "2022-01-07T23:33:14.277Z"
   },
   {
    "duration": 19,
    "start_time": "2022-01-07T23:33:14.749Z"
   },
   {
    "duration": 11,
    "start_time": "2022-01-07T23:33:14.771Z"
   },
   {
    "duration": 12,
    "start_time": "2022-01-07T23:33:14.784Z"
   },
   {
    "duration": 26,
    "start_time": "2022-01-07T23:33:14.823Z"
   },
   {
    "duration": 12,
    "start_time": "2022-01-07T23:33:14.851Z"
   },
   {
    "duration": 24,
    "start_time": "2022-01-07T23:33:14.865Z"
   },
   {
    "duration": 9,
    "start_time": "2022-01-07T23:33:14.926Z"
   },
   {
    "duration": 19,
    "start_time": "2022-01-07T23:33:14.938Z"
   },
   {
    "duration": 10,
    "start_time": "2022-01-07T23:33:14.959Z"
   },
   {
    "duration": 55,
    "start_time": "2022-01-07T23:33:14.972Z"
   },
   {
    "duration": 21,
    "start_time": "2022-01-07T23:33:15.029Z"
   },
   {
    "duration": 125,
    "start_time": "2022-01-07T23:33:15.052Z"
   },
   {
    "duration": 8,
    "start_time": "2022-01-07T23:33:15.179Z"
   },
   {
    "duration": 57,
    "start_time": "2022-01-07T23:33:15.189Z"
   },
   {
    "duration": 100,
    "start_time": "2022-01-07T23:33:15.248Z"
   },
   {
    "duration": 8,
    "start_time": "2022-01-07T23:33:15.350Z"
   },
   {
    "duration": 16,
    "start_time": "2022-01-07T23:33:15.360Z"
   },
   {
    "duration": 7,
    "start_time": "2022-01-07T23:33:15.378Z"
   },
   {
    "duration": 55,
    "start_time": "2022-01-07T23:33:15.387Z"
   },
   {
    "duration": 46,
    "start_time": "2022-01-07T23:33:15.444Z"
   },
   {
    "duration": 34,
    "start_time": "2022-01-07T23:33:15.493Z"
   },
   {
    "duration": 27,
    "start_time": "2022-01-07T23:33:15.530Z"
   },
   {
    "duration": 71,
    "start_time": "2022-01-07T23:33:15.559Z"
   },
   {
    "duration": 15,
    "start_time": "2022-01-07T23:33:15.633Z"
   },
   {
    "duration": 5,
    "start_time": "2022-01-07T23:33:15.653Z"
   },
   {
    "duration": 441,
    "start_time": "2022-01-07T23:33:15.660Z"
   },
   {
    "duration": -650,
    "start_time": "2022-01-07T23:33:16.754Z"
   },
   {
    "duration": 336,
    "start_time": "2022-01-07T23:34:02.088Z"
   },
   {
    "duration": 1357,
    "start_time": "2022-01-07T23:36:49.920Z"
   },
   {
    "duration": 471,
    "start_time": "2022-01-07T23:36:51.280Z"
   },
   {
    "duration": 19,
    "start_time": "2022-01-07T23:36:51.754Z"
   },
   {
    "duration": 11,
    "start_time": "2022-01-07T23:36:51.776Z"
   },
   {
    "duration": 35,
    "start_time": "2022-01-07T23:36:51.789Z"
   },
   {
    "duration": 26,
    "start_time": "2022-01-07T23:36:51.826Z"
   },
   {
    "duration": 11,
    "start_time": "2022-01-07T23:36:51.855Z"
   },
   {
    "duration": 63,
    "start_time": "2022-01-07T23:36:51.869Z"
   },
   {
    "duration": 10,
    "start_time": "2022-01-07T23:36:51.937Z"
   },
   {
    "duration": 19,
    "start_time": "2022-01-07T23:36:51.950Z"
   },
   {
    "duration": 11,
    "start_time": "2022-01-07T23:36:51.971Z"
   },
   {
    "duration": 8,
    "start_time": "2022-01-07T23:36:52.024Z"
   },
   {
    "duration": 21,
    "start_time": "2022-01-07T23:36:52.035Z"
   },
   {
    "duration": 127,
    "start_time": "2022-01-07T23:36:52.058Z"
   },
   {
    "duration": 7,
    "start_time": "2022-01-07T23:36:52.187Z"
   },
   {
    "duration": 47,
    "start_time": "2022-01-07T23:36:52.196Z"
   },
   {
    "duration": 101,
    "start_time": "2022-01-07T23:36:52.245Z"
   },
   {
    "duration": 11,
    "start_time": "2022-01-07T23:36:52.350Z"
   },
   {
    "duration": 15,
    "start_time": "2022-01-07T23:36:52.363Z"
   },
   {
    "duration": 43,
    "start_time": "2022-01-07T23:36:52.380Z"
   },
   {
    "duration": 19,
    "start_time": "2022-01-07T23:36:52.425Z"
   },
   {
    "duration": 44,
    "start_time": "2022-01-07T23:36:52.446Z"
   },
   {
    "duration": 33,
    "start_time": "2022-01-07T23:36:52.492Z"
   },
   {
    "duration": 28,
    "start_time": "2022-01-07T23:36:52.527Z"
   },
   {
    "duration": 70,
    "start_time": "2022-01-07T23:36:52.557Z"
   },
   {
    "duration": 18,
    "start_time": "2022-01-07T23:36:52.630Z"
   },
   {
    "duration": 6,
    "start_time": "2022-01-07T23:36:52.655Z"
   },
   {
    "duration": 443,
    "start_time": "2022-01-07T23:36:52.664Z"
   },
   {
    "duration": -657,
    "start_time": "2022-01-07T23:36:53.767Z"
   },
   {
    "duration": 342,
    "start_time": "2022-01-07T23:37:05.808Z"
   },
   {
    "duration": 14,
    "start_time": "2022-01-07T23:37:10.279Z"
   },
   {
    "duration": 25,
    "start_time": "2022-01-07T23:37:13.310Z"
   },
   {
    "duration": 430,
    "start_time": "2022-01-07T23:37:37.206Z"
   },
   {
    "duration": 15,
    "start_time": "2022-01-07T23:37:51.516Z"
   },
   {
    "duration": 14,
    "start_time": "2022-01-07T23:38:24.184Z"
   },
   {
    "duration": 265,
    "start_time": "2022-01-07T23:38:37.498Z"
   },
   {
    "duration": 7,
    "start_time": "2022-01-07T23:38:39.144Z"
   },
   {
    "duration": 6,
    "start_time": "2022-01-07T23:40:05.518Z"
   },
   {
    "duration": 15,
    "start_time": "2022-01-07T23:40:12.766Z"
   },
   {
    "duration": 6,
    "start_time": "2022-01-07T23:40:18.088Z"
   },
   {
    "duration": 20,
    "start_time": "2022-01-07T23:40:24.469Z"
   },
   {
    "duration": 47,
    "start_time": "2022-01-07T23:40:25.021Z"
   },
   {
    "duration": 6,
    "start_time": "2022-01-07T23:40:26.093Z"
   },
   {
    "duration": 23,
    "start_time": "2022-01-07T23:40:26.740Z"
   },
   {
    "duration": 39,
    "start_time": "2022-01-07T23:40:27.517Z"
   },
   {
    "duration": 16,
    "start_time": "2022-01-07T23:40:30.919Z"
   },
   {
    "duration": 6,
    "start_time": "2022-01-07T23:40:37.653Z"
   },
   {
    "duration": 17,
    "start_time": "2022-01-07T23:40:38.302Z"
   },
   {
    "duration": 40,
    "start_time": "2022-01-07T23:40:39.534Z"
   },
   {
    "duration": 19,
    "start_time": "2022-01-07T23:41:25.813Z"
   },
   {
    "duration": 36,
    "start_time": "2022-01-07T23:41:29.373Z"
   },
   {
    "duration": 40,
    "start_time": "2022-01-07T23:41:41.549Z"
   },
   {
    "duration": 52,
    "start_time": "2022-01-07T23:42:06.598Z"
   },
   {
    "duration": 46,
    "start_time": "2022-01-07T23:44:25.982Z"
   },
   {
    "duration": 315,
    "start_time": "2022-01-07T23:44:54.684Z"
   },
   {
    "duration": 50,
    "start_time": "2022-01-07T23:45:05.063Z"
   },
   {
    "duration": 1476,
    "start_time": "2022-01-07T23:45:09.710Z"
   },
   {
    "duration": 485,
    "start_time": "2022-01-07T23:45:11.189Z"
   },
   {
    "duration": 22,
    "start_time": "2022-01-07T23:45:11.677Z"
   },
   {
    "duration": 22,
    "start_time": "2022-01-07T23:45:11.702Z"
   },
   {
    "duration": 11,
    "start_time": "2022-01-07T23:45:11.727Z"
   },
   {
    "duration": 27,
    "start_time": "2022-01-07T23:45:11.740Z"
   },
   {
    "duration": 12,
    "start_time": "2022-01-07T23:45:11.770Z"
   },
   {
    "duration": 23,
    "start_time": "2022-01-07T23:45:11.824Z"
   },
   {
    "duration": 10,
    "start_time": "2022-01-07T23:45:11.851Z"
   },
   {
    "duration": 59,
    "start_time": "2022-01-07T23:45:11.864Z"
   },
   {
    "duration": 11,
    "start_time": "2022-01-07T23:45:11.926Z"
   },
   {
    "duration": 9,
    "start_time": "2022-01-07T23:45:11.940Z"
   },
   {
    "duration": 19,
    "start_time": "2022-01-07T23:45:11.951Z"
   },
   {
    "duration": 153,
    "start_time": "2022-01-07T23:45:11.972Z"
   },
   {
    "duration": 8,
    "start_time": "2022-01-07T23:45:12.127Z"
   },
   {
    "duration": 33,
    "start_time": "2022-01-07T23:45:12.137Z"
   },
   {
    "duration": 124,
    "start_time": "2022-01-07T23:45:12.172Z"
   },
   {
    "duration": 8,
    "start_time": "2022-01-07T23:45:12.298Z"
   },
   {
    "duration": 28,
    "start_time": "2022-01-07T23:45:12.308Z"
   },
   {
    "duration": 5,
    "start_time": "2022-01-07T23:45:12.338Z"
   },
   {
    "duration": 6,
    "start_time": "2022-01-07T23:45:12.345Z"
   },
   {
    "duration": 25,
    "start_time": "2022-01-07T23:45:12.354Z"
   },
   {
    "duration": 44,
    "start_time": "2022-01-07T23:45:12.423Z"
   },
   {
    "duration": 6,
    "start_time": "2022-01-07T23:45:12.469Z"
   },
   {
    "duration": 58,
    "start_time": "2022-01-07T23:45:12.478Z"
   },
   {
    "duration": 43,
    "start_time": "2022-01-07T23:45:12.539Z"
   },
   {
    "duration": 41,
    "start_time": "2022-01-07T23:45:12.586Z"
   },
   {
    "duration": 7,
    "start_time": "2022-01-07T23:45:12.630Z"
   },
   {
    "duration": 41,
    "start_time": "2022-01-07T23:45:12.640Z"
   },
   {
    "duration": 54,
    "start_time": "2022-01-07T23:45:12.683Z"
   },
   {
    "duration": 420,
    "start_time": "2022-01-07T23:45:12.739Z"
   },
   {
    "duration": 8,
    "start_time": "2022-01-07T23:46:25.989Z"
   },
   {
    "duration": 20,
    "start_time": "2022-01-07T23:46:27.290Z"
   },
   {
    "duration": 45,
    "start_time": "2022-01-07T23:46:27.660Z"
   },
   {
    "duration": 6,
    "start_time": "2022-01-07T23:46:28.402Z"
   },
   {
    "duration": 26,
    "start_time": "2022-01-07T23:46:28.803Z"
   },
   {
    "duration": 38,
    "start_time": "2022-01-07T23:46:29.227Z"
   },
   {
    "duration": 17,
    "start_time": "2022-01-07T23:46:29.571Z"
   },
   {
    "duration": 7,
    "start_time": "2022-01-07T23:46:29.932Z"
   },
   {
    "duration": 36,
    "start_time": "2022-01-07T23:46:30.315Z"
   },
   {
    "duration": 30,
    "start_time": "2022-01-07T23:46:30.739Z"
   },
   {
    "duration": 295,
    "start_time": "2022-01-07T23:46:31.333Z"
   },
   {
    "duration": 278,
    "start_time": "2022-01-07T23:46:45.725Z"
   },
   {
    "duration": 278,
    "start_time": "2022-01-07T23:47:12.762Z"
   },
   {
    "duration": 12,
    "start_time": "2022-01-07T23:48:01.975Z"
   },
   {
    "duration": 6,
    "start_time": "2022-01-07T23:48:31.059Z"
   },
   {
    "duration": 5,
    "start_time": "2022-01-07T23:51:17.771Z"
   },
   {
    "duration": 16,
    "start_time": "2022-01-07T23:51:48.233Z"
   },
   {
    "duration": 106,
    "start_time": "2022-01-07T23:51:50.434Z"
   },
   {
    "duration": 49,
    "start_time": "2022-01-07T23:51:52.146Z"
   },
   {
    "duration": 1446,
    "start_time": "2022-01-07T23:52:16.027Z"
   },
   {
    "duration": 478,
    "start_time": "2022-01-07T23:52:17.476Z"
   },
   {
    "duration": 19,
    "start_time": "2022-01-07T23:52:17.957Z"
   },
   {
    "duration": 12,
    "start_time": "2022-01-07T23:52:17.978Z"
   },
   {
    "duration": 31,
    "start_time": "2022-01-07T23:52:17.993Z"
   },
   {
    "duration": 26,
    "start_time": "2022-01-07T23:52:18.026Z"
   },
   {
    "duration": 15,
    "start_time": "2022-01-07T23:52:18.054Z"
   },
   {
    "duration": 58,
    "start_time": "2022-01-07T23:52:18.072Z"
   },
   {
    "duration": 10,
    "start_time": "2022-01-07T23:52:18.133Z"
   },
   {
    "duration": 21,
    "start_time": "2022-01-07T23:52:18.145Z"
   },
   {
    "duration": 11,
    "start_time": "2022-01-07T23:52:18.169Z"
   },
   {
    "duration": 48,
    "start_time": "2022-01-07T23:52:18.182Z"
   },
   {
    "duration": 22,
    "start_time": "2022-01-07T23:52:18.232Z"
   },
   {
    "duration": 150,
    "start_time": "2022-01-07T23:52:18.256Z"
   },
   {
    "duration": 15,
    "start_time": "2022-01-07T23:52:18.408Z"
   },
   {
    "duration": 34,
    "start_time": "2022-01-07T23:52:18.426Z"
   },
   {
    "duration": 107,
    "start_time": "2022-01-07T23:52:18.462Z"
   },
   {
    "duration": 8,
    "start_time": "2022-01-07T23:52:18.571Z"
   },
   {
    "duration": 15,
    "start_time": "2022-01-07T23:52:18.581Z"
   },
   {
    "duration": 26,
    "start_time": "2022-01-07T23:52:18.599Z"
   },
   {
    "duration": 9,
    "start_time": "2022-01-07T23:52:18.627Z"
   },
   {
    "duration": 20,
    "start_time": "2022-01-07T23:52:18.639Z"
   },
   {
    "duration": 80,
    "start_time": "2022-01-07T23:52:18.664Z"
   },
   {
    "duration": 6,
    "start_time": "2022-01-07T23:52:18.746Z"
   },
   {
    "duration": 28,
    "start_time": "2022-01-07T23:52:18.755Z"
   },
   {
    "duration": 78,
    "start_time": "2022-01-07T23:52:18.785Z"
   },
   {
    "duration": 17,
    "start_time": "2022-01-07T23:52:18.866Z"
   },
   {
    "duration": 37,
    "start_time": "2022-01-07T23:52:18.886Z"
   },
   {
    "duration": 40,
    "start_time": "2022-01-07T23:52:18.926Z"
   },
   {
    "duration": 74,
    "start_time": "2022-01-07T23:52:18.969Z"
   },
   {
    "duration": 6,
    "start_time": "2022-01-07T23:52:19.047Z"
   },
   {
    "duration": 12,
    "start_time": "2022-01-07T23:52:24.089Z"
   },
   {
    "duration": 32,
    "start_time": "2022-01-07T23:52:29.537Z"
   },
   {
    "duration": 11,
    "start_time": "2022-01-07T23:53:19.840Z"
   },
   {
    "duration": 31,
    "start_time": "2022-01-07T23:53:37.570Z"
   },
   {
    "duration": 32,
    "start_time": "2022-01-07T23:54:39.802Z"
   },
   {
    "duration": 1358,
    "start_time": "2022-01-07T23:55:28.644Z"
   },
   {
    "duration": 477,
    "start_time": "2022-01-07T23:55:30.005Z"
   },
   {
    "duration": 20,
    "start_time": "2022-01-07T23:55:30.488Z"
   },
   {
    "duration": 19,
    "start_time": "2022-01-07T23:55:30.511Z"
   },
   {
    "duration": 16,
    "start_time": "2022-01-07T23:55:30.533Z"
   },
   {
    "duration": 30,
    "start_time": "2022-01-07T23:55:30.551Z"
   },
   {
    "duration": 47,
    "start_time": "2022-01-07T23:55:30.585Z"
   },
   {
    "duration": 33,
    "start_time": "2022-01-07T23:55:30.635Z"
   },
   {
    "duration": 10,
    "start_time": "2022-01-07T23:55:30.670Z"
   },
   {
    "duration": 52,
    "start_time": "2022-01-07T23:55:30.682Z"
   },
   {
    "duration": 21,
    "start_time": "2022-01-07T23:55:30.737Z"
   },
   {
    "duration": 15,
    "start_time": "2022-01-07T23:55:30.761Z"
   },
   {
    "duration": 30,
    "start_time": "2022-01-07T23:55:30.779Z"
   },
   {
    "duration": 114,
    "start_time": "2022-01-07T23:55:30.811Z"
   },
   {
    "duration": 7,
    "start_time": "2022-01-07T23:55:30.928Z"
   },
   {
    "duration": 30,
    "start_time": "2022-01-07T23:55:30.937Z"
   },
   {
    "duration": 110,
    "start_time": "2022-01-07T23:55:30.969Z"
   },
   {
    "duration": 7,
    "start_time": "2022-01-07T23:55:31.082Z"
   },
   {
    "duration": 39,
    "start_time": "2022-01-07T23:55:31.092Z"
   },
   {
    "duration": 6,
    "start_time": "2022-01-07T23:55:31.133Z"
   },
   {
    "duration": 12,
    "start_time": "2022-01-07T23:55:31.141Z"
   },
   {
    "duration": 28,
    "start_time": "2022-01-07T23:55:31.157Z"
   },
   {
    "duration": 68,
    "start_time": "2022-01-07T23:55:31.188Z"
   },
   {
    "duration": 5,
    "start_time": "2022-01-07T23:55:31.258Z"
   },
   {
    "duration": 29,
    "start_time": "2022-01-07T23:55:31.265Z"
   },
   {
    "duration": 56,
    "start_time": "2022-01-07T23:55:31.297Z"
   },
   {
    "duration": 14,
    "start_time": "2022-01-07T23:55:31.355Z"
   },
   {
    "duration": 16,
    "start_time": "2022-01-07T23:55:31.372Z"
   },
   {
    "duration": 58,
    "start_time": "2022-01-07T23:55:31.391Z"
   },
   {
    "duration": 27,
    "start_time": "2022-01-07T23:55:31.452Z"
   },
   {
    "duration": 5,
    "start_time": "2022-01-07T23:55:31.481Z"
   },
   {
    "duration": 60,
    "start_time": "2022-01-07T23:55:31.489Z"
   },
   {
    "duration": 22,
    "start_time": "2022-01-07T23:59:28.235Z"
   },
   {
    "duration": 14,
    "start_time": "2022-01-08T00:06:34.800Z"
   },
   {
    "duration": 4895,
    "start_time": "2022-01-08T00:07:16.232Z"
   },
   {
    "duration": 5,
    "start_time": "2022-01-08T00:07:33.097Z"
   },
   {
    "duration": 13,
    "start_time": "2022-01-08T00:07:36.543Z"
   },
   {
    "duration": 1384,
    "start_time": "2022-01-08T00:07:54.277Z"
   },
   {
    "duration": 479,
    "start_time": "2022-01-08T00:07:55.663Z"
   },
   {
    "duration": 19,
    "start_time": "2022-01-08T00:07:56.148Z"
   },
   {
    "duration": 10,
    "start_time": "2022-01-08T00:07:56.170Z"
   },
   {
    "duration": 41,
    "start_time": "2022-01-08T00:07:56.182Z"
   },
   {
    "duration": 26,
    "start_time": "2022-01-08T00:07:56.225Z"
   },
   {
    "duration": 11,
    "start_time": "2022-01-08T00:07:56.255Z"
   },
   {
    "duration": 62,
    "start_time": "2022-01-08T00:07:56.269Z"
   },
   {
    "duration": 9,
    "start_time": "2022-01-08T00:07:56.333Z"
   },
   {
    "duration": 19,
    "start_time": "2022-01-08T00:07:56.345Z"
   },
   {
    "duration": 10,
    "start_time": "2022-01-08T00:07:56.367Z"
   },
   {
    "duration": 50,
    "start_time": "2022-01-08T00:07:56.379Z"
   },
   {
    "duration": 20,
    "start_time": "2022-01-08T00:07:56.431Z"
   },
   {
    "duration": 128,
    "start_time": "2022-01-08T00:07:56.453Z"
   },
   {
    "duration": 7,
    "start_time": "2022-01-08T00:07:56.583Z"
   },
   {
    "duration": 50,
    "start_time": "2022-01-08T00:07:56.592Z"
   },
   {
    "duration": 93,
    "start_time": "2022-01-08T00:07:56.644Z"
   },
   {
    "duration": 8,
    "start_time": "2022-01-08T00:07:56.739Z"
   },
   {
    "duration": 16,
    "start_time": "2022-01-08T00:07:56.749Z"
   },
   {
    "duration": 5,
    "start_time": "2022-01-08T00:07:56.767Z"
   },
   {
    "duration": 50,
    "start_time": "2022-01-08T00:07:56.774Z"
   },
   {
    "duration": 23,
    "start_time": "2022-01-08T00:07:56.828Z"
   },
   {
    "duration": 43,
    "start_time": "2022-01-08T00:07:56.853Z"
   },
   {
    "duration": 27,
    "start_time": "2022-01-08T00:07:56.898Z"
   },
   {
    "duration": 25,
    "start_time": "2022-01-08T00:07:56.927Z"
   },
   {
    "duration": 71,
    "start_time": "2022-01-08T00:07:56.953Z"
   },
   {
    "duration": 16,
    "start_time": "2022-01-08T00:07:57.026Z"
   },
   {
    "duration": 6,
    "start_time": "2022-01-08T00:07:57.044Z"
   },
   {
    "duration": 32,
    "start_time": "2022-01-08T00:07:57.052Z"
   },
   {
    "duration": 62,
    "start_time": "2022-01-08T00:07:57.086Z"
   },
   {
    "duration": 13,
    "start_time": "2022-01-08T00:07:57.150Z"
   },
   {
    "duration": 11,
    "start_time": "2022-01-08T00:07:57.166Z"
   },
   {
    "duration": 72,
    "start_time": "2022-01-08T00:07:57.180Z"
   },
   {
    "duration": 89,
    "start_time": "2022-01-08T00:07:57.255Z"
   },
   {
    "duration": 14,
    "start_time": "2022-01-08T00:08:11.776Z"
   },
   {
    "duration": 1395,
    "start_time": "2022-01-08T00:08:18.691Z"
   },
   {
    "duration": 495,
    "start_time": "2022-01-08T00:08:20.089Z"
   },
   {
    "duration": 19,
    "start_time": "2022-01-08T00:08:20.590Z"
   },
   {
    "duration": 9,
    "start_time": "2022-01-08T00:08:20.623Z"
   },
   {
    "duration": 15,
    "start_time": "2022-01-08T00:08:20.635Z"
   },
   {
    "duration": 27,
    "start_time": "2022-01-08T00:08:20.652Z"
   },
   {
    "duration": 49,
    "start_time": "2022-01-08T00:08:20.682Z"
   },
   {
    "duration": 25,
    "start_time": "2022-01-08T00:08:20.734Z"
   },
   {
    "duration": 10,
    "start_time": "2022-01-08T00:08:20.761Z"
   },
   {
    "duration": 63,
    "start_time": "2022-01-08T00:08:20.774Z"
   },
   {
    "duration": 12,
    "start_time": "2022-01-08T00:08:20.839Z"
   },
   {
    "duration": 15,
    "start_time": "2022-01-08T00:08:20.853Z"
   },
   {
    "duration": 20,
    "start_time": "2022-01-08T00:08:20.870Z"
   },
   {
    "duration": 107,
    "start_time": "2022-01-08T00:08:20.924Z"
   },
   {
    "duration": 7,
    "start_time": "2022-01-08T00:08:21.034Z"
   },
   {
    "duration": 32,
    "start_time": "2022-01-08T00:08:21.043Z"
   },
   {
    "duration": 119,
    "start_time": "2022-01-08T00:08:21.077Z"
   },
   {
    "duration": 8,
    "start_time": "2022-01-08T00:08:21.198Z"
   },
   {
    "duration": 22,
    "start_time": "2022-01-08T00:08:21.224Z"
   },
   {
    "duration": 6,
    "start_time": "2022-01-08T00:08:21.248Z"
   },
   {
    "duration": 9,
    "start_time": "2022-01-08T00:08:21.256Z"
   },
   {
    "duration": 57,
    "start_time": "2022-01-08T00:08:21.270Z"
   },
   {
    "duration": 45,
    "start_time": "2022-01-08T00:08:21.330Z"
   },
   {
    "duration": 6,
    "start_time": "2022-01-08T00:08:21.377Z"
   },
   {
    "duration": 55,
    "start_time": "2022-01-08T00:08:21.385Z"
   },
   {
    "duration": 42,
    "start_time": "2022-01-08T00:08:21.442Z"
   },
   {
    "duration": 41,
    "start_time": "2022-01-08T00:08:21.486Z"
   },
   {
    "duration": 5,
    "start_time": "2022-01-08T00:08:21.530Z"
   },
   {
    "duration": 44,
    "start_time": "2022-01-08T00:08:21.537Z"
   },
   {
    "duration": 57,
    "start_time": "2022-01-08T00:08:21.584Z"
   },
   {
    "duration": 15,
    "start_time": "2022-01-08T00:08:21.644Z"
   },
   {
    "duration": 13,
    "start_time": "2022-01-08T00:08:21.662Z"
   },
   {
    "duration": 70,
    "start_time": "2022-01-08T00:08:21.678Z"
   },
   {
    "duration": 97,
    "start_time": "2022-01-08T00:08:21.750Z"
   },
   {
    "duration": 5,
    "start_time": "2022-01-08T00:08:45.529Z"
   },
   {
    "duration": 34,
    "start_time": "2022-01-08T00:08:47.444Z"
   },
   {
    "duration": 1314,
    "start_time": "2022-01-08T00:08:52.165Z"
   },
   {
    "duration": 473,
    "start_time": "2022-01-08T00:08:53.482Z"
   },
   {
    "duration": 19,
    "start_time": "2022-01-08T00:08:53.958Z"
   },
   {
    "duration": 12,
    "start_time": "2022-01-08T00:08:53.979Z"
   },
   {
    "duration": 36,
    "start_time": "2022-01-08T00:08:53.993Z"
   },
   {
    "duration": 31,
    "start_time": "2022-01-08T00:08:54.032Z"
   },
   {
    "duration": 11,
    "start_time": "2022-01-08T00:08:54.066Z"
   },
   {
    "duration": 53,
    "start_time": "2022-01-08T00:08:54.081Z"
   },
   {
    "duration": 10,
    "start_time": "2022-01-08T00:08:54.137Z"
   },
   {
    "duration": 18,
    "start_time": "2022-01-08T00:08:54.149Z"
   },
   {
    "duration": 10,
    "start_time": "2022-01-08T00:08:54.170Z"
   },
   {
    "duration": 47,
    "start_time": "2022-01-08T00:08:54.183Z"
   },
   {
    "duration": 19,
    "start_time": "2022-01-08T00:08:54.232Z"
   },
   {
    "duration": 144,
    "start_time": "2022-01-08T00:08:54.254Z"
   },
   {
    "duration": 9,
    "start_time": "2022-01-08T00:08:54.400Z"
   },
   {
    "duration": 40,
    "start_time": "2022-01-08T00:08:54.411Z"
   },
   {
    "duration": 117,
    "start_time": "2022-01-08T00:08:54.453Z"
   },
   {
    "duration": 10,
    "start_time": "2022-01-08T00:08:54.573Z"
   },
   {
    "duration": 45,
    "start_time": "2022-01-08T00:08:54.587Z"
   },
   {
    "duration": 7,
    "start_time": "2022-01-08T00:08:54.635Z"
   },
   {
    "duration": 8,
    "start_time": "2022-01-08T00:08:54.645Z"
   },
   {
    "duration": 28,
    "start_time": "2022-01-08T00:08:54.655Z"
   },
   {
    "duration": 77,
    "start_time": "2022-01-08T00:08:54.687Z"
   },
   {
    "duration": 5,
    "start_time": "2022-01-08T00:08:54.767Z"
   },
   {
    "duration": 58,
    "start_time": "2022-01-08T00:08:54.774Z"
   },
   {
    "duration": 42,
    "start_time": "2022-01-08T00:08:54.834Z"
   },
   {
    "duration": 14,
    "start_time": "2022-01-08T00:08:54.879Z"
   },
   {
    "duration": 28,
    "start_time": "2022-01-08T00:08:54.895Z"
   },
   {
    "duration": 33,
    "start_time": "2022-01-08T00:08:54.925Z"
   },
   {
    "duration": 69,
    "start_time": "2022-01-08T00:08:54.960Z"
   },
   {
    "duration": 14,
    "start_time": "2022-01-08T00:08:55.031Z"
   },
   {
    "duration": 6,
    "start_time": "2022-01-08T00:08:55.047Z"
   },
   {
    "duration": 31,
    "start_time": "2022-01-08T00:08:55.055Z"
   },
   {
    "duration": 123,
    "start_time": "2022-01-08T00:08:55.124Z"
   },
   {
    "duration": 7,
    "start_time": "2022-01-08T00:11:04.920Z"
   },
   {
    "duration": 42,
    "start_time": "2022-01-08T00:11:08.479Z"
   },
   {
    "duration": 530,
    "start_time": "2022-01-08T00:13:30.938Z"
   },
   {
    "duration": 6,
    "start_time": "2022-01-08T00:14:21.952Z"
   },
   {
    "duration": 38,
    "start_time": "2022-01-08T00:14:25.184Z"
   },
   {
    "duration": 6,
    "start_time": "2022-01-08T00:14:56.040Z"
   },
   {
    "duration": 37,
    "start_time": "2022-01-08T00:14:56.769Z"
   },
   {
    "duration": 6,
    "start_time": "2022-01-08T00:15:27.407Z"
   },
   {
    "duration": 6,
    "start_time": "2022-01-08T00:15:43.087Z"
   },
   {
    "duration": 281,
    "start_time": "2022-01-08T00:15:47.833Z"
   },
   {
    "duration": 6,
    "start_time": "2022-01-08T00:16:26.488Z"
   },
   {
    "duration": 5,
    "start_time": "2022-01-08T00:16:27.039Z"
   },
   {
    "duration": 6,
    "start_time": "2022-01-08T00:16:53.520Z"
   },
   {
    "duration": 5,
    "start_time": "2022-01-08T00:16:54.623Z"
   },
   {
    "duration": 7,
    "start_time": "2022-01-08T00:17:00.032Z"
   },
   {
    "duration": 6,
    "start_time": "2022-01-08T00:17:06.775Z"
   },
   {
    "duration": 1596,
    "start_time": "2022-01-09T20:05:40.555Z"
   },
   {
    "duration": 516,
    "start_time": "2022-01-09T20:05:42.154Z"
   },
   {
    "duration": 19,
    "start_time": "2022-01-09T20:05:42.676Z"
   },
   {
    "duration": 13,
    "start_time": "2022-01-09T20:05:42.699Z"
   },
   {
    "duration": 16,
    "start_time": "2022-01-09T20:05:42.715Z"
   },
   {
    "duration": 31,
    "start_time": "2022-01-09T20:05:42.760Z"
   },
   {
    "duration": 12,
    "start_time": "2022-01-09T20:05:42.795Z"
   },
   {
    "duration": 55,
    "start_time": "2022-01-09T20:05:42.810Z"
   },
   {
    "duration": 10,
    "start_time": "2022-01-09T20:05:42.868Z"
   },
   {
    "duration": 20,
    "start_time": "2022-01-09T20:05:42.880Z"
   },
   {
    "duration": 11,
    "start_time": "2022-01-09T20:05:42.902Z"
   },
   {
    "duration": 48,
    "start_time": "2022-01-09T20:05:42.916Z"
   },
   {
    "duration": 20,
    "start_time": "2022-01-09T20:05:42.967Z"
   },
   {
    "duration": 126,
    "start_time": "2022-01-09T20:05:42.990Z"
   },
   {
    "duration": 6,
    "start_time": "2022-01-09T20:05:43.119Z"
   },
   {
    "duration": 45,
    "start_time": "2022-01-09T20:05:43.127Z"
   },
   {
    "duration": 96,
    "start_time": "2022-01-09T20:05:43.174Z"
   },
   {
    "duration": 8,
    "start_time": "2022-01-09T20:05:43.273Z"
   },
   {
    "duration": 13,
    "start_time": "2022-01-09T20:05:43.283Z"
   },
   {
    "duration": 5,
    "start_time": "2022-01-09T20:05:43.299Z"
   },
   {
    "duration": 8,
    "start_time": "2022-01-09T20:05:43.306Z"
   },
   {
    "duration": 61,
    "start_time": "2022-01-09T20:05:43.318Z"
   },
   {
    "duration": 47,
    "start_time": "2022-01-09T20:05:43.383Z"
   },
   {
    "duration": 7,
    "start_time": "2022-01-09T20:05:43.459Z"
   },
   {
    "duration": 28,
    "start_time": "2022-01-09T20:05:43.469Z"
   },
   {
    "duration": 69,
    "start_time": "2022-01-09T20:05:43.499Z"
   },
   {
    "duration": 17,
    "start_time": "2022-01-09T20:05:43.571Z"
   },
   {
    "duration": 8,
    "start_time": "2022-01-09T20:05:43.591Z"
   },
   {
    "duration": 68,
    "start_time": "2022-01-09T20:05:43.602Z"
   },
   {
    "duration": 34,
    "start_time": "2022-01-09T20:05:43.673Z"
   },
   {
    "duration": 13,
    "start_time": "2022-01-09T20:05:43.710Z"
   },
   {
    "duration": 35,
    "start_time": "2022-01-09T20:05:43.725Z"
   },
   {
    "duration": 32,
    "start_time": "2022-01-09T20:05:43.763Z"
   },
   {
    "duration": 6,
    "start_time": "2022-01-09T20:05:43.797Z"
   },
   {
    "duration": 8,
    "start_time": "2022-01-09T20:05:43.805Z"
   },
   {
    "duration": 503,
    "start_time": "2022-01-09T20:06:40.001Z"
   },
   {
    "duration": 6,
    "start_time": "2022-01-09T20:06:43.931Z"
   },
   {
    "duration": 1266,
    "start_time": "2022-01-09T20:06:44.858Z"
   },
   {
    "duration": 326,
    "start_time": "2022-01-09T21:55:45.052Z"
   },
   {
    "duration": 4,
    "start_time": "2022-01-09T21:55:46.503Z"
   },
   {
    "duration": 8,
    "start_time": "2022-01-09T21:55:46.752Z"
   },
   {
    "duration": 1185,
    "start_time": "2022-01-09T21:55:51.912Z"
   },
   {
    "duration": 584,
    "start_time": "2022-01-09T21:55:53.099Z"
   },
   {
    "duration": 19,
    "start_time": "2022-01-09T21:55:53.686Z"
   },
   {
    "duration": 9,
    "start_time": "2022-01-09T21:55:53.707Z"
   },
   {
    "duration": 13,
    "start_time": "2022-01-09T21:55:53.718Z"
   },
   {
    "duration": 47,
    "start_time": "2022-01-09T21:55:53.733Z"
   },
   {
    "duration": 11,
    "start_time": "2022-01-09T21:55:53.782Z"
   },
   {
    "duration": 28,
    "start_time": "2022-01-09T21:55:53.795Z"
   },
   {
    "duration": 9,
    "start_time": "2022-01-09T21:55:53.826Z"
   },
   {
    "duration": 15,
    "start_time": "2022-01-09T21:55:53.862Z"
   },
   {
    "duration": 9,
    "start_time": "2022-01-09T21:55:53.879Z"
   },
   {
    "duration": 11,
    "start_time": "2022-01-09T21:55:53.890Z"
   },
   {
    "duration": 19,
    "start_time": "2022-01-09T21:55:53.903Z"
   },
   {
    "duration": 94,
    "start_time": "2022-01-09T21:55:53.924Z"
   },
   {
    "duration": 6,
    "start_time": "2022-01-09T21:55:54.020Z"
   },
   {
    "duration": 37,
    "start_time": "2022-01-09T21:55:54.028Z"
   },
   {
    "duration": 69,
    "start_time": "2022-01-09T21:55:54.067Z"
   },
   {
    "duration": 6,
    "start_time": "2022-01-09T21:55:54.138Z"
   },
   {
    "duration": 11,
    "start_time": "2022-01-09T21:55:54.161Z"
   },
   {
    "duration": 5,
    "start_time": "2022-01-09T21:55:54.173Z"
   },
   {
    "duration": 8,
    "start_time": "2022-01-09T21:55:54.179Z"
   },
   {
    "duration": 20,
    "start_time": "2022-01-09T21:55:54.188Z"
   },
   {
    "duration": 61,
    "start_time": "2022-01-09T21:55:54.210Z"
   },
   {
    "duration": 5,
    "start_time": "2022-01-09T21:55:54.272Z"
   },
   {
    "duration": 21,
    "start_time": "2022-01-09T21:55:54.278Z"
   },
   {
    "duration": 34,
    "start_time": "2022-01-09T21:55:54.301Z"
   },
   {
    "duration": 32,
    "start_time": "2022-01-09T21:55:54.338Z"
   },
   {
    "duration": 4,
    "start_time": "2022-01-09T21:55:54.372Z"
   },
   {
    "duration": 28,
    "start_time": "2022-01-09T21:55:54.378Z"
   },
   {
    "duration": 19,
    "start_time": "2022-01-09T21:55:54.408Z"
   },
   {
    "duration": 41,
    "start_time": "2022-01-09T21:55:54.428Z"
   },
   {
    "duration": 5,
    "start_time": "2022-01-09T21:55:54.471Z"
   },
   {
    "duration": 28,
    "start_time": "2022-01-09T21:55:54.478Z"
   },
   {
    "duration": 4,
    "start_time": "2022-01-09T21:55:54.508Z"
   },
   {
    "duration": 14,
    "start_time": "2022-01-09T21:55:54.514Z"
   },
   {
    "duration": 4,
    "start_time": "2022-01-09T21:56:05.602Z"
   },
   {
    "duration": 4,
    "start_time": "2022-01-09T21:56:05.826Z"
   },
   {
    "duration": 850,
    "start_time": "2022-01-09T22:55:01.988Z"
   },
   {
    "duration": 1567,
    "start_time": "2022-01-09T22:55:07.940Z"
   },
   {
    "duration": 511,
    "start_time": "2022-01-09T22:55:09.510Z"
   },
   {
    "duration": 14,
    "start_time": "2022-01-09T22:55:10.024Z"
   },
   {
    "duration": 8,
    "start_time": "2022-01-09T22:55:10.040Z"
   },
   {
    "duration": 19,
    "start_time": "2022-01-09T22:55:10.050Z"
   },
   {
    "duration": 29,
    "start_time": "2022-01-09T22:55:10.070Z"
   },
   {
    "duration": 8,
    "start_time": "2022-01-09T22:55:10.101Z"
   },
   {
    "duration": 19,
    "start_time": "2022-01-09T22:55:10.111Z"
   },
   {
    "duration": 6,
    "start_time": "2022-01-09T22:55:10.133Z"
   },
   {
    "duration": 15,
    "start_time": "2022-01-09T22:55:10.162Z"
   },
   {
    "duration": 9,
    "start_time": "2022-01-09T22:55:10.179Z"
   },
   {
    "duration": 11,
    "start_time": "2022-01-09T22:55:10.190Z"
   },
   {
    "duration": 24,
    "start_time": "2022-01-09T22:55:10.203Z"
   },
   {
    "duration": 97,
    "start_time": "2022-01-09T22:55:10.229Z"
   },
   {
    "duration": 6,
    "start_time": "2022-01-09T22:55:10.328Z"
   },
   {
    "duration": 38,
    "start_time": "2022-01-09T22:55:10.335Z"
   },
   {
    "duration": 87,
    "start_time": "2022-01-09T22:55:10.375Z"
   },
   {
    "duration": 7,
    "start_time": "2022-01-09T22:55:10.463Z"
   },
   {
    "duration": 10,
    "start_time": "2022-01-09T22:55:10.471Z"
   },
   {
    "duration": 4,
    "start_time": "2022-01-09T22:55:10.483Z"
   },
   {
    "duration": 7,
    "start_time": "2022-01-09T22:55:10.489Z"
   },
   {
    "duration": 17,
    "start_time": "2022-01-09T22:55:10.498Z"
   },
   {
    "duration": 74,
    "start_time": "2022-01-09T22:55:10.517Z"
   },
   {
    "duration": 5,
    "start_time": "2022-01-09T22:55:10.593Z"
   },
   {
    "duration": 24,
    "start_time": "2022-01-09T22:55:10.599Z"
   },
   {
    "duration": 49,
    "start_time": "2022-01-09T22:55:10.625Z"
   },
   {
    "duration": 10,
    "start_time": "2022-01-09T22:55:10.677Z"
   },
   {
    "duration": 4,
    "start_time": "2022-01-09T22:55:10.690Z"
   },
   {
    "duration": 28,
    "start_time": "2022-01-09T22:55:10.695Z"
   },
   {
    "duration": 44,
    "start_time": "2022-01-09T22:55:10.724Z"
   },
   {
    "duration": 10,
    "start_time": "2022-01-09T22:55:10.770Z"
   },
   {
    "duration": 7,
    "start_time": "2022-01-09T22:55:10.782Z"
   },
   {
    "duration": 23,
    "start_time": "2022-01-09T22:55:10.791Z"
   },
   {
    "duration": 4,
    "start_time": "2022-01-09T22:55:10.816Z"
   },
   {
    "duration": 837,
    "start_time": "2022-01-09T22:55:10.821Z"
   },
   {
    "duration": 269,
    "start_time": "2022-01-09T22:57:18.869Z"
   },
   {
    "duration": 4,
    "start_time": "2022-01-09T22:59:15.108Z"
   },
   {
    "duration": 323,
    "start_time": "2022-01-09T22:59:15.500Z"
   },
   {
    "duration": 245,
    "start_time": "2022-01-09T22:59:33.916Z"
   },
   {
    "duration": 521,
    "start_time": "2022-01-09T22:59:40.683Z"
   },
   {
    "duration": 4,
    "start_time": "2022-01-09T22:59:45.748Z"
   },
   {
    "duration": 567,
    "start_time": "2022-01-09T22:59:46.252Z"
   },
   {
    "duration": 4,
    "start_time": "2022-01-09T22:59:53.733Z"
   },
   {
    "duration": 579,
    "start_time": "2022-01-09T22:59:53.907Z"
   },
   {
    "duration": 5,
    "start_time": "2022-01-09T22:59:59.819Z"
   },
   {
    "duration": 216,
    "start_time": "2022-01-09T23:00:00.075Z"
   },
   {
    "duration": 31,
    "start_time": "2022-01-09T23:00:02.565Z"
   },
   {
    "duration": 5,
    "start_time": "2022-01-09T23:00:17.245Z"
   },
   {
    "duration": 12,
    "start_time": "2022-01-09T23:00:22.996Z"
   },
   {
    "duration": 9,
    "start_time": "2022-01-09T23:00:41.070Z"
   },
   {
    "duration": 270,
    "start_time": "2022-01-09T23:01:06.380Z"
   },
   {
    "duration": 10,
    "start_time": "2022-01-09T23:01:09.147Z"
   },
   {
    "duration": 228,
    "start_time": "2022-01-09T23:01:29.843Z"
   },
   {
    "duration": 8,
    "start_time": "2022-01-09T23:01:30.131Z"
   },
   {
    "duration": 247,
    "start_time": "2022-01-09T23:01:32.876Z"
   },
   {
    "duration": 218,
    "start_time": "2022-01-09T23:06:47.675Z"
   },
   {
    "duration": 32,
    "start_time": "2022-01-09T23:12:07.585Z"
   },
   {
    "duration": 18,
    "start_time": "2022-01-09T23:14:06.985Z"
   },
   {
    "duration": 8,
    "start_time": "2022-01-09T23:14:25.689Z"
   },
   {
    "duration": 14,
    "start_time": "2022-01-09T23:18:00.529Z"
   },
   {
    "duration": 24,
    "start_time": "2022-01-09T23:18:23.625Z"
   },
   {
    "duration": 15,
    "start_time": "2022-01-09T23:19:29.731Z"
   },
   {
    "duration": 22,
    "start_time": "2022-01-09T23:19:41.161Z"
   },
   {
    "duration": 1347,
    "start_time": "2022-01-09T23:19:50.192Z"
   },
   {
    "duration": 341,
    "start_time": "2022-01-09T23:19:57.872Z"
   },
   {
    "duration": 17,
    "start_time": "2022-01-09T23:20:19.345Z"
   },
   {
    "duration": 180,
    "start_time": "2022-01-09T23:20:26.137Z"
   },
   {
    "duration": 15,
    "start_time": "2022-01-09T23:21:50.209Z"
   },
   {
    "duration": 15,
    "start_time": "2022-01-09T23:22:40.297Z"
   },
   {
    "duration": 14,
    "start_time": "2022-01-09T23:23:56.752Z"
   },
   {
    "duration": 20,
    "start_time": "2022-01-09T23:26:48.420Z"
   },
   {
    "duration": 44,
    "start_time": "2022-01-09T23:27:41.201Z"
   },
   {
    "duration": 13,
    "start_time": "2022-01-09T23:29:09.406Z"
   },
   {
    "duration": 13,
    "start_time": "2022-01-09T23:33:16.768Z"
   },
   {
    "duration": 12,
    "start_time": "2022-01-09T23:33:21.056Z"
   },
   {
    "duration": 13,
    "start_time": "2022-01-09T23:33:24.703Z"
   },
   {
    "duration": 15,
    "start_time": "2022-01-09T23:33:33.224Z"
   },
   {
    "duration": 308,
    "start_time": "2022-01-09T23:38:30.175Z"
   },
   {
    "duration": 172,
    "start_time": "2022-01-09T23:40:22.319Z"
   },
   {
    "duration": 82,
    "start_time": "2022-01-09T23:40:41.478Z"
   },
   {
    "duration": 188,
    "start_time": "2022-01-09T23:40:44.407Z"
   },
   {
    "duration": 220,
    "start_time": "2022-01-09T23:41:11.693Z"
   },
   {
    "duration": 451,
    "start_time": "2022-01-09T23:42:19.822Z"
   },
   {
    "duration": 186,
    "start_time": "2022-01-09T23:42:23.071Z"
   },
   {
    "duration": 235,
    "start_time": "2022-01-09T23:43:45.503Z"
   },
   {
    "duration": 383,
    "start_time": "2022-01-09T23:44:00.357Z"
   },
   {
    "duration": 367,
    "start_time": "2022-01-09T23:44:25.397Z"
   },
   {
    "duration": 6,
    "start_time": "2022-01-09T23:45:10.565Z"
   },
   {
    "duration": 20,
    "start_time": "2022-01-09T23:45:21.101Z"
   },
   {
    "duration": 15,
    "start_time": "2022-01-09T23:45:34.654Z"
   },
   {
    "duration": 39,
    "start_time": "2022-01-09T23:45:41.773Z"
   },
   {
    "duration": 6,
    "start_time": "2022-01-09T23:45:57.134Z"
   },
   {
    "duration": 6,
    "start_time": "2022-01-09T23:46:00.012Z"
   },
   {
    "duration": 5,
    "start_time": "2022-01-09T23:46:05.700Z"
   },
   {
    "duration": 5,
    "start_time": "2022-01-09T23:46:08.501Z"
   },
   {
    "duration": 4,
    "start_time": "2022-01-09T23:46:12.901Z"
   },
   {
    "duration": 5,
    "start_time": "2022-01-09T23:46:14.526Z"
   },
   {
    "duration": 114,
    "start_time": "2022-01-09T23:46:19.037Z"
   },
   {
    "duration": 219,
    "start_time": "2022-01-09T23:46:52.741Z"
   },
   {
    "duration": 5,
    "start_time": "2022-01-09T23:47:14.213Z"
   },
   {
    "duration": 223,
    "start_time": "2022-01-09T23:47:38.180Z"
   },
   {
    "duration": 28,
    "start_time": "2022-01-09T23:49:19.300Z"
   },
   {
    "duration": 6,
    "start_time": "2022-01-09T23:50:05.428Z"
   },
   {
    "duration": 7,
    "start_time": "2022-01-09T23:50:15.724Z"
   },
   {
    "duration": 7,
    "start_time": "2022-01-09T23:50:22.556Z"
   },
   {
    "duration": 7,
    "start_time": "2022-01-09T23:50:28.628Z"
   },
   {
    "duration": 7,
    "start_time": "2022-01-09T23:50:33.358Z"
   },
   {
    "duration": 6,
    "start_time": "2022-01-09T23:51:24.269Z"
   },
   {
    "duration": 27,
    "start_time": "2022-01-09T23:51:38.244Z"
   },
   {
    "duration": 5,
    "start_time": "2022-01-09T23:52:07.140Z"
   },
   {
    "duration": 28,
    "start_time": "2022-01-09T23:52:08.637Z"
   },
   {
    "duration": 1098,
    "start_time": "2022-01-09T23:52:31.484Z"
   },
   {
    "duration": 389,
    "start_time": "2022-01-09T23:52:32.584Z"
   },
   {
    "duration": 13,
    "start_time": "2022-01-09T23:52:32.975Z"
   },
   {
    "duration": 30,
    "start_time": "2022-01-09T23:52:32.989Z"
   },
   {
    "duration": 14,
    "start_time": "2022-01-09T23:52:33.021Z"
   },
   {
    "duration": 32,
    "start_time": "2022-01-09T23:52:33.037Z"
   },
   {
    "duration": 8,
    "start_time": "2022-01-09T23:52:33.071Z"
   },
   {
    "duration": 28,
    "start_time": "2022-01-09T23:52:33.080Z"
   },
   {
    "duration": 12,
    "start_time": "2022-01-09T23:52:33.111Z"
   },
   {
    "duration": 22,
    "start_time": "2022-01-09T23:52:33.125Z"
   },
   {
    "duration": 24,
    "start_time": "2022-01-09T23:52:33.149Z"
   },
   {
    "duration": 20,
    "start_time": "2022-01-09T23:52:33.175Z"
   },
   {
    "duration": 26,
    "start_time": "2022-01-09T23:52:33.196Z"
   },
   {
    "duration": 70,
    "start_time": "2022-01-09T23:52:33.223Z"
   },
   {
    "duration": 5,
    "start_time": "2022-01-09T23:52:33.295Z"
   },
   {
    "duration": 33,
    "start_time": "2022-01-09T23:52:33.302Z"
   },
   {
    "duration": 72,
    "start_time": "2022-01-09T23:52:33.337Z"
   },
   {
    "duration": 6,
    "start_time": "2022-01-09T23:52:33.410Z"
   },
   {
    "duration": 20,
    "start_time": "2022-01-09T23:52:33.417Z"
   },
   {
    "duration": 27,
    "start_time": "2022-01-09T23:52:33.438Z"
   },
   {
    "duration": 22,
    "start_time": "2022-01-09T23:52:33.467Z"
   },
   {
    "duration": 44,
    "start_time": "2022-01-09T23:52:33.490Z"
   },
   {
    "duration": 41,
    "start_time": "2022-01-09T23:52:33.535Z"
   },
   {
    "duration": 4,
    "start_time": "2022-01-09T23:52:33.578Z"
   },
   {
    "duration": 26,
    "start_time": "2022-01-09T23:52:33.583Z"
   },
   {
    "duration": 33,
    "start_time": "2022-01-09T23:52:33.610Z"
   },
   {
    "duration": 23,
    "start_time": "2022-01-09T23:52:33.646Z"
   },
   {
    "duration": 29,
    "start_time": "2022-01-09T23:52:33.670Z"
   },
   {
    "duration": 37,
    "start_time": "2022-01-09T23:52:33.701Z"
   },
   {
    "duration": 32,
    "start_time": "2022-01-09T23:52:33.740Z"
   },
   {
    "duration": 9,
    "start_time": "2022-01-09T23:52:33.774Z"
   },
   {
    "duration": 19,
    "start_time": "2022-01-09T23:52:33.785Z"
   },
   {
    "duration": 43,
    "start_time": "2022-01-09T23:52:33.805Z"
   },
   {
    "duration": 20,
    "start_time": "2022-01-09T23:52:33.850Z"
   },
   {
    "duration": 230,
    "start_time": "2022-01-09T23:52:33.871Z"
   },
   {
    "duration": 13,
    "start_time": "2022-01-09T23:52:34.103Z"
   },
   {
    "duration": 14,
    "start_time": "2022-01-09T23:52:34.117Z"
   },
   {
    "duration": 16,
    "start_time": "2022-01-09T23:52:34.133Z"
   },
   {
    "duration": 15,
    "start_time": "2022-01-09T23:52:34.151Z"
   },
   {
    "duration": 40,
    "start_time": "2022-01-09T23:52:34.168Z"
   },
   {
    "duration": 238,
    "start_time": "2022-01-09T23:52:34.210Z"
   },
   {
    "duration": 34,
    "start_time": "2022-01-09T23:52:34.451Z"
   },
   {
    "duration": 222,
    "start_time": "2022-01-10T00:04:13.362Z"
   },
   {
    "duration": 807,
    "start_time": "2022-01-10T00:04:33.387Z"
   },
   {
    "duration": 234,
    "start_time": "2022-01-10T00:04:47.652Z"
   },
   {
    "duration": 433,
    "start_time": "2022-01-10T00:05:46.292Z"
   },
   {
    "duration": 304,
    "start_time": "2022-01-10T00:05:53.443Z"
   },
   {
    "duration": 3,
    "start_time": "2022-01-10T00:06:28.756Z"
   },
   {
    "duration": 4,
    "start_time": "2022-01-10T00:06:31.340Z"
   },
   {
    "duration": 5,
    "start_time": "2022-01-10T00:06:48.754Z"
   },
   {
    "duration": 9,
    "start_time": "2022-01-10T00:07:28.757Z"
   },
   {
    "duration": 12,
    "start_time": "2022-01-10T00:08:05.363Z"
   },
   {
    "duration": 153,
    "start_time": "2022-01-10T00:08:23.427Z"
   },
   {
    "duration": 266,
    "start_time": "2022-01-10T00:11:03.554Z"
   },
   {
    "duration": 5,
    "start_time": "2022-01-10T00:12:06.680Z"
   },
   {
    "duration": 32,
    "start_time": "2022-01-10T00:12:10.025Z"
   },
   {
    "duration": 6253,
    "start_time": "2022-01-10T00:12:21.098Z"
   },
   {
    "duration": 28,
    "start_time": "2022-01-10T00:12:57.466Z"
   },
   {
    "duration": 28,
    "start_time": "2022-01-10T00:13:10.830Z"
   },
   {
    "duration": 6,
    "start_time": "2022-01-10T00:13:20.419Z"
   },
   {
    "duration": 30,
    "start_time": "2022-01-10T00:13:23.194Z"
   },
   {
    "duration": 183,
    "start_time": "2022-01-10T00:13:48.713Z"
   },
   {
    "duration": 195,
    "start_time": "2022-01-10T00:14:10.913Z"
   },
   {
    "duration": 192,
    "start_time": "2022-01-10T00:14:22.249Z"
   },
   {
    "duration": 227,
    "start_time": "2022-01-10T00:14:26.737Z"
   },
   {
    "duration": 201,
    "start_time": "2022-01-10T00:14:32.265Z"
   },
   {
    "duration": 185,
    "start_time": "2022-01-10T00:14:35.313Z"
   },
   {
    "duration": 194,
    "start_time": "2022-01-10T00:14:47.466Z"
   },
   {
    "duration": 212,
    "start_time": "2022-01-10T00:16:10.337Z"
   },
   {
    "duration": 267,
    "start_time": "2022-01-10T00:16:18.145Z"
   },
   {
    "duration": 208,
    "start_time": "2022-01-10T00:16:24.554Z"
   },
   {
    "duration": 210,
    "start_time": "2022-01-10T00:16:29.946Z"
   },
   {
    "duration": 200,
    "start_time": "2022-01-10T00:16:35.562Z"
   },
   {
    "duration": 545,
    "start_time": "2022-01-10T00:17:41.225Z"
   },
   {
    "duration": 531,
    "start_time": "2022-01-10T00:17:56.306Z"
   },
   {
    "duration": 195,
    "start_time": "2022-01-10T00:18:09.497Z"
   },
   {
    "duration": 199,
    "start_time": "2022-01-10T00:18:52.105Z"
   },
   {
    "duration": 231,
    "start_time": "2022-01-10T00:18:56.857Z"
   },
   {
    "duration": 251,
    "start_time": "2022-01-10T00:19:01.161Z"
   },
   {
    "duration": 218,
    "start_time": "2022-01-10T00:21:09.729Z"
   },
   {
    "duration": 320,
    "start_time": "2022-01-10T00:21:23.464Z"
   },
   {
    "duration": 200,
    "start_time": "2022-01-10T00:24:45.279Z"
   },
   {
    "duration": 215,
    "start_time": "2022-01-10T00:27:12.392Z"
   },
   {
    "duration": 208,
    "start_time": "2022-01-10T00:27:33.896Z"
   },
   {
    "duration": 219,
    "start_time": "2022-01-10T00:27:39.544Z"
   },
   {
    "duration": 210,
    "start_time": "2022-01-10T00:27:45.307Z"
   },
   {
    "duration": 257,
    "start_time": "2022-01-10T00:28:07.225Z"
   },
   {
    "duration": 365,
    "start_time": "2022-01-10T00:28:11.889Z"
   },
   {
    "duration": 251,
    "start_time": "2022-01-10T00:28:17.920Z"
   },
   {
    "duration": 8,
    "start_time": "2022-01-10T00:29:20.040Z"
   },
   {
    "duration": 245,
    "start_time": "2022-01-10T00:35:14.839Z"
   },
   {
    "duration": 1136,
    "start_time": "2022-01-10T00:35:58.904Z"
   },
   {
    "duration": 413,
    "start_time": "2022-01-10T00:36:00.042Z"
   },
   {
    "duration": 13,
    "start_time": "2022-01-10T00:36:00.458Z"
   },
   {
    "duration": 26,
    "start_time": "2022-01-10T00:36:00.473Z"
   },
   {
    "duration": 20,
    "start_time": "2022-01-10T00:36:00.501Z"
   },
   {
    "duration": 31,
    "start_time": "2022-01-10T00:36:00.523Z"
   },
   {
    "duration": 9,
    "start_time": "2022-01-10T00:36:00.555Z"
   },
   {
    "duration": 30,
    "start_time": "2022-01-10T00:36:00.567Z"
   },
   {
    "duration": 18,
    "start_time": "2022-01-10T00:36:00.600Z"
   },
   {
    "duration": 49,
    "start_time": "2022-01-10T00:36:00.620Z"
   },
   {
    "duration": 33,
    "start_time": "2022-01-10T00:36:00.671Z"
   },
   {
    "duration": 32,
    "start_time": "2022-01-10T00:36:00.705Z"
   },
   {
    "duration": 37,
    "start_time": "2022-01-10T00:36:00.739Z"
   },
   {
    "duration": 75,
    "start_time": "2022-01-10T00:36:00.777Z"
   },
   {
    "duration": 10,
    "start_time": "2022-01-10T00:36:00.853Z"
   },
   {
    "duration": 33,
    "start_time": "2022-01-10T00:36:00.865Z"
   },
   {
    "duration": 70,
    "start_time": "2022-01-10T00:36:00.900Z"
   },
   {
    "duration": 6,
    "start_time": "2022-01-10T00:36:00.971Z"
   },
   {
    "duration": 30,
    "start_time": "2022-01-10T00:36:00.979Z"
   },
   {
    "duration": 17,
    "start_time": "2022-01-10T00:36:01.011Z"
   },
   {
    "duration": 34,
    "start_time": "2022-01-10T00:36:01.030Z"
   },
   {
    "duration": 29,
    "start_time": "2022-01-10T00:36:01.066Z"
   },
   {
    "duration": 35,
    "start_time": "2022-01-10T00:36:01.098Z"
   },
   {
    "duration": 4,
    "start_time": "2022-01-10T00:36:01.135Z"
   },
   {
    "duration": 25,
    "start_time": "2022-01-10T00:36:01.140Z"
   },
   {
    "duration": 39,
    "start_time": "2022-01-10T00:36:01.167Z"
   },
   {
    "duration": 11,
    "start_time": "2022-01-10T00:36:01.207Z"
   },
   {
    "duration": 22,
    "start_time": "2022-01-10T00:36:01.220Z"
   },
   {
    "duration": 42,
    "start_time": "2022-01-10T00:36:01.244Z"
   },
   {
    "duration": 20,
    "start_time": "2022-01-10T00:36:01.288Z"
   },
   {
    "duration": 9,
    "start_time": "2022-01-10T00:36:01.310Z"
   },
   {
    "duration": 26,
    "start_time": "2022-01-10T00:36:01.321Z"
   },
   {
    "duration": 35,
    "start_time": "2022-01-10T00:36:01.348Z"
   },
   {
    "duration": 4,
    "start_time": "2022-01-10T00:36:01.384Z"
   },
   {
    "duration": 256,
    "start_time": "2022-01-10T00:36:01.390Z"
   },
   {
    "duration": 23,
    "start_time": "2022-01-10T00:36:01.648Z"
   },
   {
    "duration": 24,
    "start_time": "2022-01-10T00:36:01.673Z"
   },
   {
    "duration": 17,
    "start_time": "2022-01-10T00:36:01.699Z"
   },
   {
    "duration": 22,
    "start_time": "2022-01-10T00:36:01.718Z"
   },
   {
    "duration": 366,
    "start_time": "2022-01-10T00:36:01.742Z"
   },
   {
    "duration": 261,
    "start_time": "2022-01-10T00:36:02.110Z"
   },
   {
    "duration": 254,
    "start_time": "2022-01-10T00:39:21.471Z"
   },
   {
    "duration": 6,
    "start_time": "2022-01-10T00:54:34.917Z"
   },
   {
    "duration": 6,
    "start_time": "2022-01-10T00:56:04.501Z"
   },
   {
    "duration": 4,
    "start_time": "2022-01-10T01:01:29.435Z"
   },
   {
    "duration": 6,
    "start_time": "2022-01-10T01:01:41.994Z"
   },
   {
    "duration": 90,
    "start_time": "2022-01-10T01:02:09.291Z"
   },
   {
    "duration": 5,
    "start_time": "2022-01-10T01:02:44.532Z"
   },
   {
    "duration": 1209,
    "start_time": "2022-01-10T01:03:10.821Z"
   },
   {
    "duration": 425,
    "start_time": "2022-01-10T01:03:12.032Z"
   },
   {
    "duration": 12,
    "start_time": "2022-01-10T01:03:12.459Z"
   },
   {
    "duration": 22,
    "start_time": "2022-01-10T01:03:12.473Z"
   },
   {
    "duration": 37,
    "start_time": "2022-01-10T01:03:12.497Z"
   },
   {
    "duration": 33,
    "start_time": "2022-01-10T01:03:12.535Z"
   },
   {
    "duration": 8,
    "start_time": "2022-01-10T01:03:12.569Z"
   },
   {
    "duration": 36,
    "start_time": "2022-01-10T01:03:12.580Z"
   },
   {
    "duration": 7,
    "start_time": "2022-01-10T01:03:12.619Z"
   },
   {
    "duration": 25,
    "start_time": "2022-01-10T01:03:12.628Z"
   },
   {
    "duration": 20,
    "start_time": "2022-01-10T01:03:12.655Z"
   },
   {
    "duration": 15,
    "start_time": "2022-01-10T01:03:12.678Z"
   },
   {
    "duration": 17,
    "start_time": "2022-01-10T01:03:12.695Z"
   },
   {
    "duration": 95,
    "start_time": "2022-01-10T01:03:12.714Z"
   },
   {
    "duration": 6,
    "start_time": "2022-01-10T01:03:12.812Z"
   },
   {
    "duration": 41,
    "start_time": "2022-01-10T01:03:12.820Z"
   },
   {
    "duration": 107,
    "start_time": "2022-01-10T01:03:12.863Z"
   },
   {
    "duration": 7,
    "start_time": "2022-01-10T01:03:12.972Z"
   },
   {
    "duration": 35,
    "start_time": "2022-01-10T01:03:12.980Z"
   },
   {
    "duration": 26,
    "start_time": "2022-01-10T01:03:13.017Z"
   },
   {
    "duration": 34,
    "start_time": "2022-01-10T01:03:13.045Z"
   },
   {
    "duration": 49,
    "start_time": "2022-01-10T01:03:13.081Z"
   },
   {
    "duration": 52,
    "start_time": "2022-01-10T01:03:13.135Z"
   },
   {
    "duration": 6,
    "start_time": "2022-01-10T01:03:13.190Z"
   },
   {
    "duration": 39,
    "start_time": "2022-01-10T01:03:13.198Z"
   },
   {
    "duration": 33,
    "start_time": "2022-01-10T01:03:13.239Z"
   },
   {
    "duration": 12,
    "start_time": "2022-01-10T01:03:13.274Z"
   },
   {
    "duration": 13,
    "start_time": "2022-01-10T01:03:13.288Z"
   },
   {
    "duration": 47,
    "start_time": "2022-01-10T01:03:13.303Z"
   },
   {
    "duration": 20,
    "start_time": "2022-01-10T01:03:13.352Z"
   },
   {
    "duration": 10,
    "start_time": "2022-01-10T01:03:13.375Z"
   },
   {
    "duration": 13,
    "start_time": "2022-01-10T01:03:13.387Z"
   },
   {
    "duration": 31,
    "start_time": "2022-01-10T01:03:13.402Z"
   },
   {
    "duration": 4,
    "start_time": "2022-01-10T01:03:13.435Z"
   },
   {
    "duration": 244,
    "start_time": "2022-01-10T01:03:13.441Z"
   },
   {
    "duration": 14,
    "start_time": "2022-01-10T01:03:13.687Z"
   },
   {
    "duration": 40,
    "start_time": "2022-01-10T01:03:13.703Z"
   },
   {
    "duration": 28,
    "start_time": "2022-01-10T01:03:13.745Z"
   },
   {
    "duration": 23,
    "start_time": "2022-01-10T01:03:13.775Z"
   },
   {
    "duration": 270,
    "start_time": "2022-01-10T01:03:13.800Z"
   },
   {
    "duration": 257,
    "start_time": "2022-01-10T01:03:14.072Z"
   },
   {
    "duration": 268,
    "start_time": "2022-01-10T01:03:14.331Z"
   },
   {
    "duration": 7,
    "start_time": "2022-01-10T01:03:14.601Z"
   },
   {
    "duration": 15,
    "start_time": "2022-01-10T01:03:14.609Z"
   },
   {
    "duration": 20,
    "start_time": "2022-01-10T01:03:14.626Z"
   },
   {
    "duration": 35,
    "start_time": "2022-01-10T01:03:19.821Z"
   },
   {
    "duration": 13,
    "start_time": "2022-01-10T01:03:24.726Z"
   },
   {
    "duration": 28,
    "start_time": "2022-01-10T01:03:34.078Z"
   },
   {
    "duration": 7,
    "start_time": "2022-01-10T01:03:42.349Z"
   },
   {
    "duration": 5,
    "start_time": "2022-01-10T01:03:43.069Z"
   },
   {
    "duration": 219,
    "start_time": "2022-01-10T02:34:12.312Z"
   },
   {
    "duration": 1071,
    "start_time": "2022-01-10T02:34:17.550Z"
   },
   {
    "duration": 403,
    "start_time": "2022-01-10T02:34:18.623Z"
   },
   {
    "duration": 12,
    "start_time": "2022-01-10T02:34:19.028Z"
   },
   {
    "duration": 7,
    "start_time": "2022-01-10T02:34:19.042Z"
   },
   {
    "duration": 9,
    "start_time": "2022-01-10T02:34:19.051Z"
   },
   {
    "duration": 33,
    "start_time": "2022-01-10T02:34:19.062Z"
   },
   {
    "duration": 8,
    "start_time": "2022-01-10T02:34:19.096Z"
   },
   {
    "duration": 17,
    "start_time": "2022-01-10T02:34:19.107Z"
   },
   {
    "duration": 6,
    "start_time": "2022-01-10T02:34:19.126Z"
   },
   {
    "duration": 15,
    "start_time": "2022-01-10T02:34:19.134Z"
   },
   {
    "duration": 8,
    "start_time": "2022-01-10T02:34:19.151Z"
   },
   {
    "duration": 40,
    "start_time": "2022-01-10T02:34:19.161Z"
   },
   {
    "duration": 17,
    "start_time": "2022-01-10T02:34:19.203Z"
   },
   {
    "duration": 106,
    "start_time": "2022-01-10T02:34:19.222Z"
   },
   {
    "duration": 6,
    "start_time": "2022-01-10T02:34:19.330Z"
   },
   {
    "duration": 23,
    "start_time": "2022-01-10T02:34:19.338Z"
   },
   {
    "duration": 81,
    "start_time": "2022-01-10T02:34:19.363Z"
   },
   {
    "duration": 5,
    "start_time": "2022-01-10T02:34:19.446Z"
   },
   {
    "duration": 8,
    "start_time": "2022-01-10T02:34:19.453Z"
   },
   {
    "duration": 4,
    "start_time": "2022-01-10T02:34:19.463Z"
   },
   {
    "duration": 26,
    "start_time": "2022-01-10T02:34:19.469Z"
   },
   {
    "duration": 19,
    "start_time": "2022-01-10T02:34:19.496Z"
   },
   {
    "duration": 33,
    "start_time": "2022-01-10T02:34:19.518Z"
   },
   {
    "duration": 4,
    "start_time": "2022-01-10T02:34:19.553Z"
   },
   {
    "duration": 36,
    "start_time": "2022-01-10T02:34:19.558Z"
   },
   {
    "duration": 31,
    "start_time": "2022-01-10T02:34:19.596Z"
   },
   {
    "duration": 10,
    "start_time": "2022-01-10T02:34:19.629Z"
   },
   {
    "duration": 3,
    "start_time": "2022-01-10T02:34:19.641Z"
   },
   {
    "duration": 51,
    "start_time": "2022-01-10T02:34:19.646Z"
   },
   {
    "duration": 19,
    "start_time": "2022-01-10T02:34:19.698Z"
   },
   {
    "duration": 9,
    "start_time": "2022-01-10T02:34:19.719Z"
   },
   {
    "duration": 4,
    "start_time": "2022-01-10T02:34:19.730Z"
   },
   {
    "duration": 21,
    "start_time": "2022-01-10T02:34:19.736Z"
   },
   {
    "duration": 4,
    "start_time": "2022-01-10T02:34:19.758Z"
   },
   {
    "duration": 222,
    "start_time": "2022-01-10T02:34:19.792Z"
   },
   {
    "duration": 14,
    "start_time": "2022-01-10T02:34:20.016Z"
   },
   {
    "duration": 12,
    "start_time": "2022-01-10T02:34:20.032Z"
   },
   {
    "duration": 13,
    "start_time": "2022-01-10T02:34:20.046Z"
   },
   {
    "duration": 33,
    "start_time": "2022-01-10T02:34:20.060Z"
   },
   {
    "duration": 295,
    "start_time": "2022-01-10T02:34:20.094Z"
   },
   {
    "duration": 297,
    "start_time": "2022-01-10T02:34:20.390Z"
   },
   {
    "duration": 284,
    "start_time": "2022-01-10T02:34:20.691Z"
   },
   {
    "duration": 5,
    "start_time": "2022-01-10T02:34:20.976Z"
   },
   {
    "duration": 17,
    "start_time": "2022-01-10T02:34:20.990Z"
   },
   {
    "duration": 16,
    "start_time": "2022-01-10T02:34:21.008Z"
   },
   {
    "duration": 26,
    "start_time": "2022-01-10T02:34:21.025Z"
   },
   {
    "duration": 5,
    "start_time": "2022-01-10T02:34:27.049Z"
   },
   {
    "duration": 1082,
    "start_time": "2022-01-10T02:37:29.928Z"
   },
   {
    "duration": 427,
    "start_time": "2022-01-10T02:37:31.012Z"
   },
   {
    "duration": 13,
    "start_time": "2022-01-10T02:37:31.441Z"
   },
   {
    "duration": 9,
    "start_time": "2022-01-10T02:37:31.456Z"
   },
   {
    "duration": 11,
    "start_time": "2022-01-10T02:37:31.466Z"
   },
   {
    "duration": 31,
    "start_time": "2022-01-10T02:37:31.479Z"
   },
   {
    "duration": 9,
    "start_time": "2022-01-10T02:37:31.512Z"
   },
   {
    "duration": 23,
    "start_time": "2022-01-10T02:37:31.523Z"
   },
   {
    "duration": 7,
    "start_time": "2022-01-10T02:37:31.548Z"
   },
   {
    "duration": 46,
    "start_time": "2022-01-10T02:37:31.557Z"
   },
   {
    "duration": 7,
    "start_time": "2022-01-10T02:37:31.605Z"
   },
   {
    "duration": 13,
    "start_time": "2022-01-10T02:37:31.614Z"
   },
   {
    "duration": 23,
    "start_time": "2022-01-10T02:37:31.628Z"
   },
   {
    "duration": 90,
    "start_time": "2022-01-10T02:37:31.652Z"
   },
   {
    "duration": 6,
    "start_time": "2022-01-10T02:37:31.744Z"
   },
   {
    "duration": 24,
    "start_time": "2022-01-10T02:37:31.751Z"
   },
   {
    "duration": 65,
    "start_time": "2022-01-10T02:37:31.791Z"
   },
   {
    "duration": 5,
    "start_time": "2022-01-10T02:37:31.858Z"
   },
   {
    "duration": 29,
    "start_time": "2022-01-10T02:37:31.865Z"
   },
   {
    "duration": 4,
    "start_time": "2022-01-10T02:37:31.896Z"
   },
   {
    "duration": 10,
    "start_time": "2022-01-10T02:37:31.901Z"
   },
   {
    "duration": 22,
    "start_time": "2022-01-10T02:37:31.912Z"
   },
   {
    "duration": 33,
    "start_time": "2022-01-10T02:37:31.937Z"
   },
   {
    "duration": 22,
    "start_time": "2022-01-10T02:37:31.972Z"
   },
   {
    "duration": 21,
    "start_time": "2022-01-10T02:37:31.995Z"
   },
   {
    "duration": 32,
    "start_time": "2022-01-10T02:37:32.018Z"
   },
   {
    "duration": 10,
    "start_time": "2022-01-10T02:37:32.051Z"
   },
   {
    "duration": 28,
    "start_time": "2022-01-10T02:37:32.063Z"
   },
   {
    "duration": 32,
    "start_time": "2022-01-10T02:37:32.094Z"
   },
   {
    "duration": 20,
    "start_time": "2022-01-10T02:37:32.128Z"
   },
   {
    "duration": 9,
    "start_time": "2022-01-10T02:37:32.149Z"
   },
   {
    "duration": 5,
    "start_time": "2022-01-10T02:37:32.160Z"
   },
   {
    "duration": 21,
    "start_time": "2022-01-10T02:37:32.192Z"
   },
   {
    "duration": 4,
    "start_time": "2022-01-10T02:37:32.214Z"
   },
   {
    "duration": 238,
    "start_time": "2022-01-10T02:37:32.220Z"
   },
   {
    "duration": 13,
    "start_time": "2022-01-10T02:37:32.460Z"
   },
   {
    "duration": 26,
    "start_time": "2022-01-10T02:37:32.475Z"
   },
   {
    "duration": 12,
    "start_time": "2022-01-10T02:37:32.503Z"
   },
   {
    "duration": 7,
    "start_time": "2022-01-10T02:37:32.516Z"
   },
   {
    "duration": 304,
    "start_time": "2022-01-10T02:37:32.524Z"
   },
   {
    "duration": 284,
    "start_time": "2022-01-10T02:37:32.830Z"
   },
   {
    "duration": 280,
    "start_time": "2022-01-10T02:37:33.116Z"
   },
   {
    "duration": 5,
    "start_time": "2022-01-10T02:37:33.398Z"
   },
   {
    "duration": 8,
    "start_time": "2022-01-10T02:37:33.405Z"
   },
   {
    "duration": 6,
    "start_time": "2022-01-10T02:37:33.415Z"
   },
   {
    "duration": 921,
    "start_time": "2022-01-11T15:27:00.320Z"
   },
   {
    "duration": 435,
    "start_time": "2022-01-11T15:27:01.244Z"
   },
   {
    "duration": 18,
    "start_time": "2022-01-11T15:27:01.681Z"
   },
   {
    "duration": 18,
    "start_time": "2022-01-11T15:27:01.701Z"
   },
   {
    "duration": 36,
    "start_time": "2022-01-11T15:27:01.721Z"
   },
   {
    "duration": 64,
    "start_time": "2022-01-11T15:27:01.759Z"
   },
   {
    "duration": 11,
    "start_time": "2022-01-11T15:27:01.825Z"
   },
   {
    "duration": 50,
    "start_time": "2022-01-11T15:27:01.839Z"
   },
   {
    "duration": 28,
    "start_time": "2022-01-11T15:27:01.892Z"
   },
   {
    "duration": 49,
    "start_time": "2022-01-11T15:27:01.923Z"
   },
   {
    "duration": 53,
    "start_time": "2022-01-11T15:27:01.974Z"
   },
   {
    "duration": 48,
    "start_time": "2022-01-11T15:27:02.029Z"
   },
   {
    "duration": 49,
    "start_time": "2022-01-11T15:27:02.079Z"
   },
   {
    "duration": 122,
    "start_time": "2022-01-11T15:27:02.130Z"
   },
   {
    "duration": 6,
    "start_time": "2022-01-11T15:27:02.254Z"
   },
   {
    "duration": 40,
    "start_time": "2022-01-11T15:27:02.262Z"
   },
   {
    "duration": 62,
    "start_time": "2022-01-11T15:27:02.304Z"
   },
   {
    "duration": 24,
    "start_time": "2022-01-11T15:27:02.368Z"
   },
   {
    "duration": 21,
    "start_time": "2022-01-11T15:27:02.394Z"
   },
   {
    "duration": 47,
    "start_time": "2022-01-11T15:27:02.417Z"
   },
   {
    "duration": 41,
    "start_time": "2022-01-11T15:27:02.466Z"
   },
   {
    "duration": 72,
    "start_time": "2022-01-11T15:27:02.509Z"
   },
   {
    "duration": 47,
    "start_time": "2022-01-11T15:27:02.582Z"
   },
   {
    "duration": 11,
    "start_time": "2022-01-11T15:27:02.630Z"
   },
   {
    "duration": 52,
    "start_time": "2022-01-11T15:27:02.642Z"
   },
   {
    "duration": 68,
    "start_time": "2022-01-11T15:27:02.695Z"
   },
   {
    "duration": 43,
    "start_time": "2022-01-11T15:27:02.768Z"
   },
   {
    "duration": 73,
    "start_time": "2022-01-11T15:27:02.814Z"
   },
   {
    "duration": 78,
    "start_time": "2022-01-11T15:27:02.888Z"
   },
   {
    "duration": 24,
    "start_time": "2022-01-11T15:27:02.967Z"
   },
   {
    "duration": 12,
    "start_time": "2022-01-11T15:27:02.993Z"
   },
   {
    "duration": 31,
    "start_time": "2022-01-11T15:27:03.007Z"
   },
   {
    "duration": 57,
    "start_time": "2022-01-11T15:27:03.040Z"
   },
   {
    "duration": 19,
    "start_time": "2022-01-11T15:27:03.099Z"
   },
   {
    "duration": 274,
    "start_time": "2022-01-11T15:27:03.120Z"
   },
   {
    "duration": 17,
    "start_time": "2022-01-11T15:27:03.396Z"
   },
   {
    "duration": 28,
    "start_time": "2022-01-11T15:27:03.415Z"
   },
   {
    "duration": 37,
    "start_time": "2022-01-11T15:27:03.445Z"
   },
   {
    "duration": 24,
    "start_time": "2022-01-11T15:27:03.484Z"
   },
   {
    "duration": 425,
    "start_time": "2022-01-11T15:27:03.510Z"
   },
   {
    "duration": 309,
    "start_time": "2022-01-11T15:27:03.937Z"
   },
   {
    "duration": 318,
    "start_time": "2022-01-11T15:27:04.248Z"
   },
   {
    "duration": 6,
    "start_time": "2022-01-11T15:27:04.568Z"
   },
   {
    "duration": 111,
    "start_time": "2022-01-11T15:27:04.575Z"
   },
   {
    "duration": 57,
    "start_time": "2022-01-11T15:27:04.688Z"
   },
   {
    "duration": 286,
    "start_time": "2022-01-11T15:27:12.536Z"
   },
   {
    "duration": 311,
    "start_time": "2022-01-11T15:27:26.662Z"
   },
   {
    "duration": 325,
    "start_time": "2022-01-11T15:28:47.935Z"
   },
   {
    "duration": 318,
    "start_time": "2022-01-11T15:28:53.278Z"
   },
   {
    "duration": 1003,
    "start_time": "2022-01-11T15:28:58.523Z"
   },
   {
    "duration": 518,
    "start_time": "2022-01-11T15:28:59.529Z"
   },
   {
    "duration": 17,
    "start_time": "2022-01-11T15:29:00.049Z"
   },
   {
    "duration": 21,
    "start_time": "2022-01-11T15:29:00.068Z"
   },
   {
    "duration": 25,
    "start_time": "2022-01-11T15:29:00.091Z"
   },
   {
    "duration": 33,
    "start_time": "2022-01-11T15:29:00.118Z"
   },
   {
    "duration": 9,
    "start_time": "2022-01-11T15:29:00.153Z"
   },
   {
    "duration": 33,
    "start_time": "2022-01-11T15:29:00.164Z"
   },
   {
    "duration": 13,
    "start_time": "2022-01-11T15:29:00.200Z"
   },
   {
    "duration": 24,
    "start_time": "2022-01-11T15:29:00.215Z"
   },
   {
    "duration": 16,
    "start_time": "2022-01-11T15:29:00.241Z"
   },
   {
    "duration": 17,
    "start_time": "2022-01-11T15:29:00.259Z"
   },
   {
    "duration": 34,
    "start_time": "2022-01-11T15:29:00.278Z"
   },
   {
    "duration": 78,
    "start_time": "2022-01-11T15:29:00.314Z"
   },
   {
    "duration": 6,
    "start_time": "2022-01-11T15:29:00.394Z"
   },
   {
    "duration": 35,
    "start_time": "2022-01-11T15:29:00.402Z"
   },
   {
    "duration": 85,
    "start_time": "2022-01-11T15:29:00.439Z"
   },
   {
    "duration": 7,
    "start_time": "2022-01-11T15:29:00.525Z"
   },
   {
    "duration": 14,
    "start_time": "2022-01-11T15:29:00.534Z"
   },
   {
    "duration": 8,
    "start_time": "2022-01-11T15:29:00.550Z"
   },
   {
    "duration": 14,
    "start_time": "2022-01-11T15:29:00.560Z"
   },
   {
    "duration": 32,
    "start_time": "2022-01-11T15:29:00.575Z"
   },
   {
    "duration": 37,
    "start_time": "2022-01-11T15:29:00.611Z"
   },
   {
    "duration": 4,
    "start_time": "2022-01-11T15:29:00.650Z"
   },
   {
    "duration": 34,
    "start_time": "2022-01-11T15:29:00.656Z"
   },
   {
    "duration": 44,
    "start_time": "2022-01-11T15:29:00.693Z"
   },
   {
    "duration": 18,
    "start_time": "2022-01-11T15:29:00.739Z"
   },
   {
    "duration": 32,
    "start_time": "2022-01-11T15:29:00.758Z"
   },
   {
    "duration": 54,
    "start_time": "2022-01-11T15:29:00.792Z"
   },
   {
    "duration": 24,
    "start_time": "2022-01-11T15:29:00.848Z"
   },
   {
    "duration": 21,
    "start_time": "2022-01-11T15:29:00.874Z"
   },
   {
    "duration": 20,
    "start_time": "2022-01-11T15:29:00.897Z"
   },
   {
    "duration": 40,
    "start_time": "2022-01-11T15:29:00.918Z"
   },
   {
    "duration": 4,
    "start_time": "2022-01-11T15:29:00.960Z"
   },
   {
    "duration": 255,
    "start_time": "2022-01-11T15:29:00.966Z"
   },
   {
    "duration": 16,
    "start_time": "2022-01-11T15:29:01.223Z"
   },
   {
    "duration": 16,
    "start_time": "2022-01-11T15:29:01.241Z"
   },
   {
    "duration": 43,
    "start_time": "2022-01-11T15:29:01.259Z"
   },
   {
    "duration": 8,
    "start_time": "2022-01-11T15:29:01.305Z"
   },
   {
    "duration": 479,
    "start_time": "2022-01-11T15:29:01.315Z"
   },
   {
    "duration": 326,
    "start_time": "2022-01-11T15:29:01.797Z"
   },
   {
    "duration": 327,
    "start_time": "2022-01-11T15:29:02.125Z"
   },
   {
    "duration": 6,
    "start_time": "2022-01-11T15:29:02.454Z"
   },
   {
    "duration": 10,
    "start_time": "2022-01-11T15:29:02.462Z"
   },
   {
    "duration": 25,
    "start_time": "2022-01-11T15:29:02.474Z"
   },
   {
    "duration": 311,
    "start_time": "2022-01-11T15:29:14.924Z"
   },
   {
    "duration": 596,
    "start_time": "2022-01-11T15:29:17.763Z"
   },
   {
    "duration": 324,
    "start_time": "2022-01-11T15:29:26.643Z"
   },
   {
    "duration": 306,
    "start_time": "2022-01-11T15:30:48.547Z"
   },
   {
    "duration": 377,
    "start_time": "2022-01-11T15:31:32.435Z"
   },
   {
    "duration": 310,
    "start_time": "2022-01-11T15:32:03.284Z"
   },
   {
    "duration": 286,
    "start_time": "2022-01-11T15:33:28.690Z"
   },
   {
    "duration": 303,
    "start_time": "2022-01-11T15:33:39.960Z"
   },
   {
    "duration": 276,
    "start_time": "2022-01-11T15:33:51.832Z"
   },
   {
    "duration": 284,
    "start_time": "2022-01-11T15:34:10.156Z"
   },
   {
    "duration": 57,
    "start_time": "2022-01-11T15:34:51.591Z"
   },
   {
    "duration": 2,
    "start_time": "2022-01-11T15:37:38.437Z"
   },
   {
    "duration": 328,
    "start_time": "2022-01-11T15:37:46.111Z"
   },
   {
    "duration": 3,
    "start_time": "2022-01-11T15:38:01.422Z"
   },
   {
    "duration": 1920,
    "start_time": "2022-01-11T15:38:01.670Z"
   },
   {
    "duration": 289,
    "start_time": "2022-01-11T22:58:23.096Z"
   },
   {
    "duration": 1162,
    "start_time": "2022-01-11T22:58:27.968Z"
   },
   {
    "duration": 548,
    "start_time": "2022-01-11T22:58:29.133Z"
   },
   {
    "duration": 23,
    "start_time": "2022-01-11T22:58:29.684Z"
   },
   {
    "duration": 14,
    "start_time": "2022-01-11T22:58:29.710Z"
   },
   {
    "duration": 17,
    "start_time": "2022-01-11T22:58:29.726Z"
   },
   {
    "duration": 34,
    "start_time": "2022-01-11T22:58:29.746Z"
   },
   {
    "duration": 37,
    "start_time": "2022-01-11T22:58:29.782Z"
   },
   {
    "duration": 24,
    "start_time": "2022-01-11T22:58:29.823Z"
   },
   {
    "duration": 10,
    "start_time": "2022-01-11T22:58:29.850Z"
   },
   {
    "duration": 19,
    "start_time": "2022-01-11T22:58:29.863Z"
   },
   {
    "duration": 41,
    "start_time": "2022-01-11T22:58:29.884Z"
   },
   {
    "duration": 9,
    "start_time": "2022-01-11T22:58:29.928Z"
   },
   {
    "duration": 26,
    "start_time": "2022-01-11T22:58:29.940Z"
   },
   {
    "duration": 136,
    "start_time": "2022-01-11T22:58:29.968Z"
   },
   {
    "duration": 7,
    "start_time": "2022-01-11T22:58:30.106Z"
   },
   {
    "duration": 35,
    "start_time": "2022-01-11T22:58:30.118Z"
   },
   {
    "duration": 113,
    "start_time": "2022-01-11T22:58:30.155Z"
   },
   {
    "duration": 9,
    "start_time": "2022-01-11T22:58:30.270Z"
   },
   {
    "duration": 18,
    "start_time": "2022-01-11T22:58:30.281Z"
   },
   {
    "duration": 19,
    "start_time": "2022-01-11T22:58:30.301Z"
   },
   {
    "duration": 17,
    "start_time": "2022-01-11T22:58:30.323Z"
   },
   {
    "duration": 27,
    "start_time": "2022-01-11T22:58:30.342Z"
   },
   {
    "duration": 71,
    "start_time": "2022-01-11T22:58:30.377Z"
   },
   {
    "duration": 6,
    "start_time": "2022-01-11T22:58:30.452Z"
   },
   {
    "duration": 27,
    "start_time": "2022-01-11T22:58:30.461Z"
   },
   {
    "duration": 65,
    "start_time": "2022-01-11T22:58:30.490Z"
   },
   {
    "duration": 17,
    "start_time": "2022-01-11T22:58:30.558Z"
   },
   {
    "duration": 39,
    "start_time": "2022-01-11T22:58:30.578Z"
   },
   {
    "duration": 34,
    "start_time": "2022-01-11T22:58:30.620Z"
   },
   {
    "duration": 30,
    "start_time": "2022-01-11T22:58:30.656Z"
   },
   {
    "duration": 39,
    "start_time": "2022-01-11T22:58:30.690Z"
   },
   {
    "duration": 11,
    "start_time": "2022-01-11T22:58:30.731Z"
   },
   {
    "duration": 42,
    "start_time": "2022-01-11T22:58:30.744Z"
   },
   {
    "duration": 6,
    "start_time": "2022-01-11T22:58:30.788Z"
   },
   {
    "duration": 386,
    "start_time": "2022-01-11T22:58:30.796Z"
   },
   {
    "duration": 20,
    "start_time": "2022-01-11T22:58:31.184Z"
   },
   {
    "duration": 20,
    "start_time": "2022-01-11T22:58:31.218Z"
   },
   {
    "duration": 19,
    "start_time": "2022-01-11T22:58:31.240Z"
   },
   {
    "duration": 11,
    "start_time": "2022-01-11T22:58:31.262Z"
   },
   {
    "duration": 631,
    "start_time": "2022-01-11T22:58:31.276Z"
   },
   {
    "duration": 528,
    "start_time": "2022-01-11T22:58:31.909Z"
   },
   {
    "duration": 542,
    "start_time": "2022-01-11T22:58:32.439Z"
   },
   {
    "duration": 9,
    "start_time": "2022-01-11T22:58:32.984Z"
   },
   {
    "duration": 29,
    "start_time": "2022-01-11T22:58:32.996Z"
   },
   {
    "duration": 8,
    "start_time": "2022-01-11T22:58:33.028Z"
   },
   {
    "duration": 1093,
    "start_time": "2022-01-11T23:05:35.472Z"
   },
   {
    "duration": 1176,
    "start_time": "2022-01-11T23:05:39.151Z"
   },
   {
    "duration": 553,
    "start_time": "2022-01-11T23:05:40.374Z"
   },
   {
    "duration": 24,
    "start_time": "2022-01-11T23:05:41.387Z"
   },
   {
    "duration": 9,
    "start_time": "2022-01-11T23:05:41.679Z"
   },
   {
    "duration": 11,
    "start_time": "2022-01-11T23:05:42.327Z"
   },
   {
    "duration": 27,
    "start_time": "2022-01-11T23:05:43.095Z"
   },
   {
    "duration": 12,
    "start_time": "2022-01-11T23:05:43.951Z"
   },
   {
    "duration": 23,
    "start_time": "2022-01-11T23:05:44.759Z"
   },
   {
    "duration": 31,
    "start_time": "2022-01-11T23:06:00.884Z"
   },
   {
    "duration": 351,
    "start_time": "2022-01-11T23:06:40.129Z"
   },
   {
    "duration": 253,
    "start_time": "2022-01-11T23:06:47.960Z"
   },
   {
    "duration": 251,
    "start_time": "2022-01-11T23:07:07.625Z"
   },
   {
    "duration": 30,
    "start_time": "2022-01-11T23:07:47.110Z"
   },
   {
    "duration": 1266,
    "start_time": "2022-01-11T23:20:27.965Z"
   },
   {
    "duration": 549,
    "start_time": "2022-01-11T23:20:29.233Z"
   },
   {
    "duration": 25,
    "start_time": "2022-01-11T23:20:29.785Z"
   },
   {
    "duration": 10,
    "start_time": "2022-01-11T23:20:29.812Z"
   },
   {
    "duration": 14,
    "start_time": "2022-01-11T23:20:29.825Z"
   },
   {
    "duration": 26,
    "start_time": "2022-01-11T23:20:29.841Z"
   },
   {
    "duration": 49,
    "start_time": "2022-01-11T23:20:29.870Z"
   },
   {
    "duration": 22,
    "start_time": "2022-01-11T23:20:29.923Z"
   },
   {
    "duration": 10,
    "start_time": "2022-01-11T23:20:29.948Z"
   },
   {
    "duration": 58,
    "start_time": "2022-01-11T23:20:29.960Z"
   },
   {
    "duration": 11,
    "start_time": "2022-01-11T23:20:30.020Z"
   },
   {
    "duration": 24,
    "start_time": "2022-01-11T23:20:30.034Z"
   },
   {
    "duration": 27,
    "start_time": "2022-01-11T23:20:30.060Z"
   },
   {
    "duration": 107,
    "start_time": "2022-01-11T23:20:30.117Z"
   },
   {
    "duration": 7,
    "start_time": "2022-01-11T23:20:30.227Z"
   },
   {
    "duration": 36,
    "start_time": "2022-01-11T23:20:30.237Z"
   },
   {
    "duration": 117,
    "start_time": "2022-01-11T23:20:30.275Z"
   },
   {
    "duration": 26,
    "start_time": "2022-01-11T23:20:30.394Z"
   },
   {
    "duration": 19,
    "start_time": "2022-01-11T23:20:30.422Z"
   },
   {
    "duration": 14,
    "start_time": "2022-01-11T23:20:30.444Z"
   },
   {
    "duration": 33,
    "start_time": "2022-01-11T23:20:30.461Z"
   },
   {
    "duration": 64,
    "start_time": "2022-01-11T23:20:30.496Z"
   },
   {
    "duration": 6,
    "start_time": "2022-01-11T23:20:30.565Z"
   },
   {
    "duration": 45,
    "start_time": "2022-01-11T23:20:30.574Z"
   },
   {
    "duration": 42,
    "start_time": "2022-01-11T23:20:30.621Z"
   },
   {
    "duration": 14,
    "start_time": "2022-01-11T23:20:30.666Z"
   },
   {
    "duration": 36,
    "start_time": "2022-01-11T23:20:30.683Z"
   },
   {
    "duration": 38,
    "start_time": "2022-01-11T23:20:30.721Z"
   },
   {
    "duration": 29,
    "start_time": "2022-01-11T23:20:30.762Z"
   },
   {
    "duration": 34,
    "start_time": "2022-01-11T23:20:30.794Z"
   },
   {
    "duration": 11,
    "start_time": "2022-01-11T23:20:30.831Z"
   },
   {
    "duration": 35,
    "start_time": "2022-01-11T23:20:30.845Z"
   },
   {
    "duration": 5,
    "start_time": "2022-01-11T23:20:30.883Z"
   },
   {
    "duration": 401,
    "start_time": "2022-01-11T23:20:30.891Z"
   },
   {
    "duration": 31,
    "start_time": "2022-01-11T23:20:31.295Z"
   },
   {
    "duration": 21,
    "start_time": "2022-01-11T23:20:31.329Z"
   },
   {
    "duration": 21,
    "start_time": "2022-01-11T23:20:31.353Z"
   },
   {
    "duration": 48,
    "start_time": "2022-01-11T23:20:31.377Z"
   },
   {
    "duration": 611,
    "start_time": "2022-01-11T23:20:31.428Z"
   },
   {
    "duration": 431,
    "start_time": "2022-01-11T23:20:32.042Z"
   },
   {
    "duration": 422,
    "start_time": "2022-01-11T23:20:32.476Z"
   },
   {
    "duration": 17,
    "start_time": "2022-01-11T23:20:32.901Z"
   },
   {
    "duration": 15,
    "start_time": "2022-01-11T23:20:32.921Z"
   },
   {
    "duration": 9,
    "start_time": "2022-01-11T23:20:32.939Z"
   }
  ],
  "kernelspec": {
   "display_name": "Python 3 (ipykernel)",
   "language": "python",
   "name": "python3"
  },
  "language_info": {
   "codemirror_mode": {
    "name": "ipython",
    "version": 3
   },
   "file_extension": ".py",
   "mimetype": "text/x-python",
   "name": "python",
   "nbconvert_exporter": "python",
   "pygments_lexer": "ipython3",
   "version": "3.9.7"
  },
  "toc": {
   "base_numbering": 1,
   "nav_menu": {},
   "number_sections": true,
   "sideBar": true,
   "skip_h1_title": true,
   "title_cell": "Table of Contents",
   "title_sidebar": "Contents",
   "toc_cell": false,
   "toc_position": {},
   "toc_section_display": true,
   "toc_window_display": false
  }
 },
 "nbformat": 4,
 "nbformat_minor": 2
}
