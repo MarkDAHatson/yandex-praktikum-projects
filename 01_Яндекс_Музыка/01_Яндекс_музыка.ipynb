{
 "cells": [
  {
   "cell_type": "markdown",
   "metadata": {},
   "source": [
    "<div class=\"alert alert-success\">\n",
    "<b> Комментарий от ревьюера 2</b>\n",
    "\n",
    "Привет еще раз. Спасибо, что доделал работу. Оформление комментариев по работе сохраняется. Только обозначим, что это вторая итерация. \n",
    "\n",
    "</div>"
   ]
  },
  {
   "cell_type": "markdown",
   "metadata": {},
   "source": [
    "<b>Комментарий от ревьюера</b>\n",
    "\n",
    "Привет! Меня зовут Ярослав Кальманов, я буду делать ревью твоего проекта. Давай будем общаться на «ты».\n",
    "\n",
    "Мои комментарии будут в ячейках \"Комментарий от ревьюера\".\n",
    "\n",
    "<div class=\"alert alert-danger\"> \n",
    "Красным цветом обозначены комментарии, на которые тебе нужно обратить внимание в первую очередь, чтобы я принял проект. \n",
    "</div>\n",
    "<div class=\"alert alert-warning\">\n",
    "Желтым цветом отмечено то, что ты можешь сделать немного по-другому. Ты можешь учесть эти комментарии при выполнении следующих проектов.\n",
    "</div>\n",
    "<div class=\"alert alert-success\">\n",
    "Зелёным цветом обозначены твои удачные решения, которые ты без сомнения можешь применять в будущих проектах.  \n",
    "</div>\n",
    "\n",
    "Если ты вносишь изменения в проект по моим рекомендациям, указывай, пожалуйста, это в своих комментариях. Будет удобно, если обозначишь свои комментарии заметным цветом или поместишь \n",
    "\n",
    "<div class=\"alert alert-info\">\n",
    "    \n",
    "в такую ячейку\n",
    "</div>\n",
    "\n",
    "Давай при работе с проектом мы будем общаться с тобой в диалоге, поэтому не удаляй и не перемещай мои комментарии, это поможет мне сделать повторную  проверку проекта быстрее.\n",
    "___"
   ]
  },
  {
   "cell_type": "markdown",
   "metadata": {
    "id": "E0vqbgi9ay0H"
   },
   "source": [
    "# Яндекс.Музыка"
   ]
  },
  {
   "cell_type": "markdown",
   "metadata": {
    "id": "VUC88oWjTJw2"
   },
   "source": [
    "Сравнение Москвы и Петербурга окружено мифами. Например:\n",
    " * Москва — мегаполис, подчинённый жёсткому ритму рабочей недели;\n",
    " * Петербург — культурная столица, со своими вкусами.\n",
    "\n",
    "На данных Яндекс.Музыки вы сравните поведение пользователей двух столиц.\n",
    "\n",
    "**Цель исследования** — проверьте три гипотезы:\n",
    "1. Активность пользователей зависит от дня недели. Причём в Москве и Петербурге это проявляется по-разному.\n",
    "2. В понедельник утром в Москве преобладают одни жанры, а в Петербурге — другие. Так же и вечером пятницы преобладают разные жанры — в зависимости от города. \n",
    "3. Москва и Петербург предпочитают разные жанры музыки. В Москве чаще слушают поп-музыку, в Петербурге — русский рэп.\n",
    "\n",
    "**Ход исследования**\n",
    "\n",
    "Данные о поведении пользователей вы получите из файла `yandex_music_project.csv`. О качестве данных ничего не известно. Поэтому перед проверкой гипотез понадобится обзор данных. \n",
    "\n",
    "Вы проверите данные на ошибки и оцените их влияние на исследование. Затем, на этапе предобработки вы поищете возможность исправить самые критичные ошибки данных.\n",
    " \n",
    "Таким образом, исследование пройдёт в три этапа:\n",
    " 1. Обзор данных.\n",
    " 2. Предобработка данных.\n",
    " 3. Проверка гипотез.\n",
    "\n"
   ]
  },
  {
   "cell_type": "markdown",
   "metadata": {
    "id": "Ml1hmfXC_Zcs"
   },
   "source": [
    "## Обзор данных\n",
    "\n",
    "Составьте первое представление о данных Яндекс.Музыки.\n",
    "\n",
    "\n"
   ]
  },
  {
   "cell_type": "markdown",
   "metadata": {
    "id": "57eAOGIz_Zcs"
   },
   "source": [
    "Основной инструмент аналитика — `pandas`. Импортируйте эту библиотеку."
   ]
  },
  {
   "cell_type": "code",
   "execution_count": 1,
   "metadata": {
    "id": "AXN7PHPN_Zcs"
   },
   "outputs": [],
   "source": [
    "# импорт библиотеки pandas\n",
    "import pandas as pd"
   ]
  },
  {
   "cell_type": "markdown",
   "metadata": {},
   "source": [
    "<div class=\"alert alert-success\">\n",
    "    \n",
    "<b> Комментарий от ревьюера</b>\n",
    "    \n",
    "Очень здорово, что ты используешь сокращение pd для Pandas, это общепринятое сокращение для этой библиотеки для удобной дальнейшей работы.\n",
    "</div>"
   ]
  },
  {
   "cell_type": "markdown",
   "metadata": {
    "id": "SG23P8tt_Zcs"
   },
   "source": [
    "Прочитайте файл `yandex_music_project.csv` из папки `/datasets` и сохраните его в переменной `df`:"
   ]
  },
  {
   "cell_type": "code",
   "execution_count": 2,
   "metadata": {
    "id": "fFVu7vqh_Zct"
   },
   "outputs": [],
   "source": [
    "# чтение файла с данными и сохранение в df\n",
    "df = pd.read_csv('/datasets/yandex_music_project.csv')"
   ]
  },
  {
   "cell_type": "markdown",
   "metadata": {
    "id": "rDoOMd3uTqnZ"
   },
   "source": [
    "Выведите на экран первые десять строк таблицы:"
   ]
  },
  {
   "cell_type": "code",
   "execution_count": 3,
   "metadata": {
    "id": "oWTVX3gW_Zct"
   },
   "outputs": [
    {
     "data": {
      "text/html": [
       "<div>\n",
       "<style scoped>\n",
       "    .dataframe tbody tr th:only-of-type {\n",
       "        vertical-align: middle;\n",
       "    }\n",
       "\n",
       "    .dataframe tbody tr th {\n",
       "        vertical-align: top;\n",
       "    }\n",
       "\n",
       "    .dataframe thead th {\n",
       "        text-align: right;\n",
       "    }\n",
       "</style>\n",
       "<table border=\"1\" class=\"dataframe\">\n",
       "  <thead>\n",
       "    <tr style=\"text-align: right;\">\n",
       "      <th></th>\n",
       "      <th>userID</th>\n",
       "      <th>Track</th>\n",
       "      <th>artist</th>\n",
       "      <th>genre</th>\n",
       "      <th>City</th>\n",
       "      <th>time</th>\n",
       "      <th>Day</th>\n",
       "    </tr>\n",
       "  </thead>\n",
       "  <tbody>\n",
       "    <tr>\n",
       "      <td>0</td>\n",
       "      <td>FFB692EC</td>\n",
       "      <td>Kamigata To Boots</td>\n",
       "      <td>The Mass Missile</td>\n",
       "      <td>rock</td>\n",
       "      <td>Saint-Petersburg</td>\n",
       "      <td>20:28:33</td>\n",
       "      <td>Wednesday</td>\n",
       "    </tr>\n",
       "    <tr>\n",
       "      <td>1</td>\n",
       "      <td>55204538</td>\n",
       "      <td>Delayed Because of Accident</td>\n",
       "      <td>Andreas Rönnberg</td>\n",
       "      <td>rock</td>\n",
       "      <td>Moscow</td>\n",
       "      <td>14:07:09</td>\n",
       "      <td>Friday</td>\n",
       "    </tr>\n",
       "    <tr>\n",
       "      <td>2</td>\n",
       "      <td>20EC38</td>\n",
       "      <td>Funiculì funiculà</td>\n",
       "      <td>Mario Lanza</td>\n",
       "      <td>pop</td>\n",
       "      <td>Saint-Petersburg</td>\n",
       "      <td>20:58:07</td>\n",
       "      <td>Wednesday</td>\n",
       "    </tr>\n",
       "    <tr>\n",
       "      <td>3</td>\n",
       "      <td>A3DD03C9</td>\n",
       "      <td>Dragons in the Sunset</td>\n",
       "      <td>Fire + Ice</td>\n",
       "      <td>folk</td>\n",
       "      <td>Saint-Petersburg</td>\n",
       "      <td>08:37:09</td>\n",
       "      <td>Monday</td>\n",
       "    </tr>\n",
       "    <tr>\n",
       "      <td>4</td>\n",
       "      <td>E2DC1FAE</td>\n",
       "      <td>Soul People</td>\n",
       "      <td>Space Echo</td>\n",
       "      <td>dance</td>\n",
       "      <td>Moscow</td>\n",
       "      <td>08:34:34</td>\n",
       "      <td>Monday</td>\n",
       "    </tr>\n",
       "    <tr>\n",
       "      <td>5</td>\n",
       "      <td>842029A1</td>\n",
       "      <td>Преданная</td>\n",
       "      <td>IMPERVTOR</td>\n",
       "      <td>rusrap</td>\n",
       "      <td>Saint-Petersburg</td>\n",
       "      <td>13:09:41</td>\n",
       "      <td>Friday</td>\n",
       "    </tr>\n",
       "    <tr>\n",
       "      <td>6</td>\n",
       "      <td>4CB90AA5</td>\n",
       "      <td>True</td>\n",
       "      <td>Roman Messer</td>\n",
       "      <td>dance</td>\n",
       "      <td>Moscow</td>\n",
       "      <td>13:00:07</td>\n",
       "      <td>Wednesday</td>\n",
       "    </tr>\n",
       "    <tr>\n",
       "      <td>7</td>\n",
       "      <td>F03E1C1F</td>\n",
       "      <td>Feeling This Way</td>\n",
       "      <td>Polina Griffith</td>\n",
       "      <td>dance</td>\n",
       "      <td>Moscow</td>\n",
       "      <td>20:47:49</td>\n",
       "      <td>Wednesday</td>\n",
       "    </tr>\n",
       "    <tr>\n",
       "      <td>8</td>\n",
       "      <td>8FA1D3BE</td>\n",
       "      <td>И вновь продолжается бой</td>\n",
       "      <td>NaN</td>\n",
       "      <td>ruspop</td>\n",
       "      <td>Moscow</td>\n",
       "      <td>09:17:40</td>\n",
       "      <td>Friday</td>\n",
       "    </tr>\n",
       "    <tr>\n",
       "      <td>9</td>\n",
       "      <td>E772D5C0</td>\n",
       "      <td>Pessimist</td>\n",
       "      <td>NaN</td>\n",
       "      <td>dance</td>\n",
       "      <td>Saint-Petersburg</td>\n",
       "      <td>21:20:49</td>\n",
       "      <td>Wednesday</td>\n",
       "    </tr>\n",
       "  </tbody>\n",
       "</table>\n",
       "</div>"
      ],
      "text/plain": [
       "     userID                        Track            artist   genre  \\\n",
       "0  FFB692EC            Kamigata To Boots  The Mass Missile    rock   \n",
       "1  55204538  Delayed Because of Accident  Andreas Rönnberg    rock   \n",
       "2    20EC38            Funiculì funiculà       Mario Lanza     pop   \n",
       "3  A3DD03C9        Dragons in the Sunset        Fire + Ice    folk   \n",
       "4  E2DC1FAE                  Soul People        Space Echo   dance   \n",
       "5  842029A1                    Преданная         IMPERVTOR  rusrap   \n",
       "6  4CB90AA5                         True      Roman Messer   dance   \n",
       "7  F03E1C1F             Feeling This Way   Polina Griffith   dance   \n",
       "8  8FA1D3BE     И вновь продолжается бой               NaN  ruspop   \n",
       "9  E772D5C0                    Pessimist               NaN   dance   \n",
       "\n",
       "             City        time        Day  \n",
       "0  Saint-Petersburg  20:28:33  Wednesday  \n",
       "1            Moscow  14:07:09     Friday  \n",
       "2  Saint-Petersburg  20:58:07  Wednesday  \n",
       "3  Saint-Petersburg  08:37:09     Monday  \n",
       "4            Moscow  08:34:34     Monday  \n",
       "5  Saint-Petersburg  13:09:41     Friday  \n",
       "6            Moscow  13:00:07  Wednesday  \n",
       "7            Moscow  20:47:49  Wednesday  \n",
       "8            Moscow  09:17:40     Friday  \n",
       "9  Saint-Petersburg  21:20:49  Wednesday  "
      ]
     },
     "execution_count": 3,
     "metadata": {},
     "output_type": "execute_result"
    }
   ],
   "source": [
    "# получение первых 10 строк таблицы df\n",
    "df.head(10)"
   ]
  },
  {
   "cell_type": "markdown",
   "metadata": {},
   "source": [
    "<div class=\"alert alert-warning\">\n",
    "    \n",
    "<b> Комментарий от ревьюера</b>\n",
    "    \n",
    "В последней строке ячейки можно не использовать функции print/display. Результат работы кода и без них будет выведен на экран\n",
    "</div>"
   ]
  },
  {
   "cell_type": "markdown",
   "metadata": {},
   "source": [
    "<div class=\"alert alert-info\">\n",
    "    \n",
    "Мне показалось, что было бы хорошо показать умение отличать display от print, но согласен, что тут оно не совсем удалось. Исправлено\n",
    "\n",
    "</div>"
   ]
  },
  {
   "cell_type": "markdown",
   "metadata": {},
   "source": [
    "<div class=\"alert alert-success\">\n",
    "    \n",
    "<b> Комментарий от ревьюера 2</b>\n",
    "\n",
    "👍\n",
    "\n",
    "</div>\n"
   ]
  },
  {
   "cell_type": "markdown",
   "metadata": {
    "id": "EO73Kwic_Zct"
   },
   "source": [
    "Одной командой получить общую информацию о таблице:"
   ]
  },
  {
   "cell_type": "code",
   "execution_count": 4,
   "metadata": {
    "id": "DSf2kIb-_Zct"
   },
   "outputs": [
    {
     "name": "stdout",
     "output_type": "stream",
     "text": [
      "<class 'pandas.core.frame.DataFrame'>\n",
      "RangeIndex: 65079 entries, 0 to 65078\n",
      "Data columns (total 7 columns):\n",
      "  userID    65079 non-null object\n",
      "Track       63848 non-null object\n",
      "artist      57876 non-null object\n",
      "genre       63881 non-null object\n",
      "  City      65079 non-null object\n",
      "time        65079 non-null object\n",
      "Day         65079 non-null object\n",
      "dtypes: object(7)\n",
      "memory usage: 3.5+ MB\n"
     ]
    }
   ],
   "source": [
    "# получение общей информации о данных в таблице df\n",
    "df.info()"
   ]
  },
  {
   "cell_type": "markdown",
   "metadata": {
    "id": "TaQ2Iwbr_Zct"
   },
   "source": [
    "Итак, в таблице семь столбцов. Тип данных во всех столбцах — `object`.\n",
    "\n",
    "Согласно документации к данным:\n",
    "* `userID` — идентификатор пользователя;\n",
    "* `Track` — название трека;  \n",
    "* `artist` — имя исполнителя;\n",
    "* `genre` — название жанра;\n",
    "* `City` — город пользователя;\n",
    "* `time` — время начала прослушивания;\n",
    "* `Day` — день недели.\n",
    "\n",
    "В названиях колонок видны три нарушения стиля:\n",
    "1. Строчные буквы сочетаются с прописными.\n",
    "2. Встречаются пробелы.\n",
    "3. Змеиный_регистр заменен слитным написанием двух слов.\n",
    "\n",
    "\n",
    "\n",
    "Количество значений в столбцах различается. Значит, в данных есть пропущенные значения.\n"
   ]
  },
  {
   "cell_type": "markdown",
   "metadata": {},
   "source": [
    "<div class=\"alert alert-success\">\n",
    "    \n",
    "<b> Комментарий от ревьюера</b>\n",
    "    \n",
    "Ты абсолютно правильно ответил на вопрос в этом задании! Отличная работа!\n",
    "</div>"
   ]
  },
  {
   "cell_type": "markdown",
   "metadata": {
    "id": "MCB6-dXG_Zct"
   },
   "source": [
    "**Выводы**\n",
    "\n",
    "В каждой строке таблицы — данные о прослушанном треке. Часть колонок описывает саму композицию: название, исполнителя и жанр. Остальные данные рассказывают о пользователе: из какого он города, когда он слушал музыку. \n",
    "\n",
    "Предварительно можно утверждать, что, данных достаточно для проверки гипотез. Но встречаются пропуски в данных, а в названиях колонок — расхождения с хорошим стилем.\n",
    "\n",
    "Чтобы двигаться дальше, нужно устранить проблемы в данных."
   ]
  },
  {
   "cell_type": "markdown",
   "metadata": {
    "id": "SjYF6Ub9_Zct"
   },
   "source": [
    "## Предобработка данных\n",
    "Исправьте стиль в заголовках столбцов, исключите пропуски. Затем проверьте данные на дубликаты."
   ]
  },
  {
   "cell_type": "markdown",
   "metadata": {
    "id": "dIaKXr29_Zct"
   },
   "source": [
    "### Стиль заголовков\n",
    "Выведите на экран названия столбцов:"
   ]
  },
  {
   "cell_type": "code",
   "execution_count": 5,
   "metadata": {
    "id": "oKOTdF_Q_Zct"
   },
   "outputs": [
    {
     "name": "stdout",
     "output_type": "stream",
     "text": [
      "Index(['  userID', 'Track', 'artist', 'genre', '  City  ', 'time', 'Day'], dtype='object')\n"
     ]
    }
   ],
   "source": [
    "# перечень названий столбцов таблицы df\n",
    "print(df.columns)"
   ]
  },
  {
   "cell_type": "markdown",
   "metadata": {
    "id": "FPZA3ki8xe7T"
   },
   "source": []
  },
  {
   "cell_type": "markdown",
   "metadata": {
    "id": "zj5534cv_Zct"
   },
   "source": [
    "Приведите названия в соответствие с хорошим стилем:\n",
    "* несколько слов в названии запишите в «змеином_регистре»,\n",
    "* все символы сделайте строчными,\n",
    "* устраните пробелы.\n",
    "\n",
    "Для этого переименуйте колонки так:\n",
    "* `'  userID'` → `'user_id'`;\n",
    "* `'Track'` → `'track'`;\n",
    "* `'  City  '` → `'city'`;\n",
    "* `'Day'` → `'day'`."
   ]
  },
  {
   "cell_type": "code",
   "execution_count": 6,
   "metadata": {
    "id": "ISlFqs5y_Zct"
   },
   "outputs": [],
   "source": [
    "# переименование столбцов\n",
    "df = df.rename(columns={'  userID': 'user_id', 'Track': 'track', '  City  ': 'city', 'Day': 'day'})"
   ]
  },
  {
   "cell_type": "markdown",
   "metadata": {
    "id": "1dqbh00J_Zct"
   },
   "source": [
    "Проверьте результат. Для этого ещё раз выведите на экран названия столбцов:"
   ]
  },
  {
   "cell_type": "code",
   "execution_count": 7,
   "metadata": {
    "id": "d4NOAmTW_Zct"
   },
   "outputs": [
    {
     "name": "stdout",
     "output_type": "stream",
     "text": [
      "Index(['user_id', 'track', 'artist', 'genre', 'city', 'time', 'day'], dtype='object')\n"
     ]
    }
   ],
   "source": [
    "# проверка результатов - перечень названий столбцов\n",
    "print(df.columns)"
   ]
  },
  {
   "cell_type": "markdown",
   "metadata": {},
   "source": [
    "<div class=\"alert alert-success\">\n",
    "    \n",
    "<b> Комментарий от ревьюера</b>\n",
    "    \n",
    "Отлично! С новыми названиями признаков будет намного удобнее работать\n",
    "</div>"
   ]
  },
  {
   "cell_type": "markdown",
   "metadata": {
    "id": "5ISfbcfY_Zct"
   },
   "source": [
    "### Пропуски значений\n",
    "Сначала посчитайте, сколько в таблице пропущенных значений. Для этого достаточно двух методов `pandas`:"
   ]
  },
  {
   "cell_type": "code",
   "execution_count": 8,
   "metadata": {
    "id": "RskX29qr_Zct"
   },
   "outputs": [
    {
     "data": {
      "text/plain": [
       "user_id       0\n",
       "track      1231\n",
       "artist     7203\n",
       "genre      1198\n",
       "city          0\n",
       "time          0\n",
       "day           0\n",
       "dtype: int64"
      ]
     },
     "execution_count": 8,
     "metadata": {},
     "output_type": "execute_result"
    }
   ],
   "source": [
    "# подсчёт пропусков\n",
    "df.isna().sum()"
   ]
  },
  {
   "cell_type": "markdown",
   "metadata": {
    "id": "qubhgnlO_Zct"
   },
   "source": [
    "Не все пропущенные значения влияют на исследование. Так в `track` и `artist` пропуски не важны для вашей работы. Достаточно заменить их явными обозначениями.\n",
    "\n",
    "Но пропуски в `genre` могут помешать сравнению музыкальных вкусов в Москве и Санкт-Петербурге. На практике было бы правильно установить причину пропусков и восстановить данные. Такой возможности нет в учебном проекте. Придётся:\n",
    "* заполнить и эти пропуски явными обозначениями,\n",
    "* оценить, насколько они повредят расчётам. "
   ]
  },
  {
   "cell_type": "markdown",
   "metadata": {
    "id": "fSv2laPA_Zct"
   },
   "source": [
    "Замените пропущенные значения в столбцах `track`, `artist` и `genre` на строку `'unknown'`. Для этого создайте список `columns_to_replace`, переберите его элементы циклом `for` и для каждого столбца выполните замену пропущенных значений:"
   ]
  },
  {
   "cell_type": "code",
   "execution_count": 9,
   "metadata": {
    "id": "KplB5qWs_Zct"
   },
   "outputs": [],
   "source": [
    "# перебор названий столбцов в цикле и замена пропущенных значений на 'unknown'\n",
    "columns_to_replace = ['track', 'artist', 'genre']\n",
    "\n",
    "for column in columns_to_replace:\n",
    "    df[column] = df[column].fillna('unknown')"
   ]
  },
  {
   "cell_type": "markdown",
   "metadata": {
    "id": "Ilsm-MZo_Zct"
   },
   "source": [
    "Убедитесь, что в таблице не осталось пропусков. Для этого ещё раз посчитайте пропущенные значения."
   ]
  },
  {
   "cell_type": "code",
   "execution_count": 10,
   "metadata": {
    "id": "Tq4nYRX4_Zct"
   },
   "outputs": [
    {
     "data": {
      "text/plain": [
       "user_id    0\n",
       "track      0\n",
       "artist     0\n",
       "genre      0\n",
       "city       0\n",
       "time       0\n",
       "day        0\n",
       "dtype: int64"
      ]
     },
     "execution_count": 10,
     "metadata": {},
     "output_type": "execute_result"
    }
   ],
   "source": [
    "# подсчёт пропусков\n",
    "df.isna().sum()"
   ]
  },
  {
   "cell_type": "markdown",
   "metadata": {},
   "source": [
    "<div class=\"alert alert-success\">\n",
    "    \n",
    "<b> Комментарий от ревьюера</b>\n",
    "    \n",
    "Все верно\n",
    "</div>"
   ]
  },
  {
   "cell_type": "markdown",
   "metadata": {
    "id": "BWKRtBJ3_Zct"
   },
   "source": [
    "### Дубликаты\n",
    "Посчитайте явные дубликаты в таблице одной командой:"
   ]
  },
  {
   "cell_type": "code",
   "execution_count": 11,
   "metadata": {
    "id": "36eES_S0_Zct"
   },
   "outputs": [
    {
     "data": {
      "text/plain": [
       "3826"
      ]
     },
     "execution_count": 11,
     "metadata": {},
     "output_type": "execute_result"
    }
   ],
   "source": [
    "# подсчёт явных дубликатов\n",
    "df.duplicated().sum()"
   ]
  },
  {
   "cell_type": "markdown",
   "metadata": {
    "id": "Ot25h6XR_Zct"
   },
   "source": [
    "Вызовите специальный метод `pandas`, чтобы удалить явные дубликаты:"
   ]
  },
  {
   "cell_type": "code",
   "execution_count": 12,
   "metadata": {
    "id": "exFHq6tt_Zct"
   },
   "outputs": [],
   "source": [
    "# удаление явных дубликатов (с удалением старых индексов и формированием новых)\n",
    "df = df.drop_duplicates().reset_index(drop=True)"
   ]
  },
  {
   "cell_type": "markdown",
   "metadata": {
    "id": "Im2YwBEG_Zct"
   },
   "source": [
    "Ещё раз посчитайте явные дубликаты в таблице — убедитесь, что полностью от них избавились:"
   ]
  },
  {
   "cell_type": "code",
   "execution_count": 13,
   "metadata": {
    "id": "-8PuNWQ0_Zct"
   },
   "outputs": [
    {
     "data": {
      "text/plain": [
       "0"
      ]
     },
     "execution_count": 13,
     "metadata": {},
     "output_type": "execute_result"
    }
   ],
   "source": [
    "# проверка на отсутствие дубликатов\n",
    "df.duplicated().sum()"
   ]
  },
  {
   "cell_type": "markdown",
   "metadata": {
    "id": "QlFBsxAr_Zct"
   },
   "source": [
    "Теперь избавьтесь от неявных дубликатов в колонке `genre`. Например, название одного и того же жанра может быть записано немного по-разному. Такие ошибки тоже повлияют на результат исследования."
   ]
  },
  {
   "cell_type": "markdown",
   "metadata": {
    "id": "eSjWwsOh_Zct"
   },
   "source": [
    "Выведите на экран список уникальных названий жанров, отсортированный в алфавитном порядке. Для этого:\n",
    "* извлеките нужный столбец датафрейма, \n",
    "* примените к нему метод сортировки,\n",
    "* для отсортированного столбца вызовите метод, который вернёт уникальные значения из столбца."
   ]
  },
  {
   "cell_type": "code",
   "execution_count": 14,
   "metadata": {
    "id": "JIUcqzZN_Zct"
   },
   "outputs": [
    {
     "data": {
      "text/plain": [
       "array(['acid', 'acoustic', 'action', 'adult', 'africa', 'afrikaans',\n",
       "       'alternative', 'alternativepunk', 'ambient', 'americana',\n",
       "       'animated', 'anime', 'arabesk', 'arabic', 'arena',\n",
       "       'argentinetango', 'art', 'audiobook', 'author', 'avantgarde',\n",
       "       'axé', 'baile', 'balkan', 'beats', 'bigroom', 'black', 'bluegrass',\n",
       "       'blues', 'bollywood', 'bossa', 'brazilian', 'breakbeat', 'breaks',\n",
       "       'broadway', 'cantautori', 'cantopop', 'canzone', 'caribbean',\n",
       "       'caucasian', 'celtic', 'chamber', 'chanson', 'children', 'chill',\n",
       "       'chinese', 'choral', 'christian', 'christmas', 'classical',\n",
       "       'classicmetal', 'club', 'colombian', 'comedy', 'conjazz',\n",
       "       'contemporary', 'country', 'cuban', 'dance', 'dancehall',\n",
       "       'dancepop', 'dark', 'death', 'deep', 'deutschrock', 'deutschspr',\n",
       "       'dirty', 'disco', 'dnb', 'documentary', 'downbeat', 'downtempo',\n",
       "       'drum', 'dub', 'dubstep', 'eastern', 'easy', 'electronic',\n",
       "       'electropop', 'emo', 'entehno', 'epicmetal', 'estrada', 'ethnic',\n",
       "       'eurofolk', 'european', 'experimental', 'extrememetal', 'fado',\n",
       "       'fairytail', 'film', 'fitness', 'flamenco', 'folk', 'folklore',\n",
       "       'folkmetal', 'folkrock', 'folktronica', 'forró', 'frankreich',\n",
       "       'französisch', 'french', 'funk', 'future', 'gangsta', 'garage',\n",
       "       'german', 'ghazal', 'gitarre', 'glitch', 'gospel', 'gothic',\n",
       "       'grime', 'grunge', 'gypsy', 'handsup', \"hard'n'heavy\", 'hardcore',\n",
       "       'hardstyle', 'hardtechno', 'hip', 'hip-hop', 'hiphop',\n",
       "       'historisch', 'holiday', 'hop', 'horror', 'house', 'hymn', 'idm',\n",
       "       'independent', 'indian', 'indie', 'indipop', 'industrial',\n",
       "       'inspirational', 'instrumental', 'international', 'irish', 'jam',\n",
       "       'japanese', 'jazz', 'jewish', 'jpop', 'jungle', 'k-pop',\n",
       "       'karadeniz', 'karaoke', 'kayokyoku', 'korean', 'laiko', 'latin',\n",
       "       'latino', 'leftfield', 'local', 'lounge', 'loungeelectronic',\n",
       "       'lovers', 'malaysian', 'mandopop', 'marschmusik', 'meditative',\n",
       "       'mediterranean', 'melodic', 'metal', 'metalcore', 'mexican',\n",
       "       'middle', 'minimal', 'miscellaneous', 'modern', 'mood', 'mpb',\n",
       "       'muslim', 'native', 'neoklassik', 'neue', 'new', 'newage',\n",
       "       'newwave', 'nu', 'nujazz', 'numetal', 'oceania', 'old', 'opera',\n",
       "       'orchestral', 'other', 'piano', 'podcasts', 'pop', 'popdance',\n",
       "       'popelectronic', 'popeurodance', 'poprussian', 'post',\n",
       "       'posthardcore', 'postrock', 'power', 'progmetal', 'progressive',\n",
       "       'psychedelic', 'punjabi', 'punk', 'quebecois', 'ragga', 'ram',\n",
       "       'rancheras', 'rap', 'rave', 'reggae', 'reggaeton', 'regional',\n",
       "       'relax', 'religious', 'retro', 'rhythm', 'rnb', 'rnr', 'rock',\n",
       "       'rockabilly', 'rockalternative', 'rockindie', 'rockother',\n",
       "       'romance', 'roots', 'ruspop', 'rusrap', 'rusrock', 'russian',\n",
       "       'salsa', 'samba', 'scenic', 'schlager', 'self', 'sertanejo',\n",
       "       'shanson', 'shoegazing', 'showtunes', 'singer', 'ska', 'skarock',\n",
       "       'slow', 'smooth', 'soft', 'soul', 'soulful', 'sound', 'soundtrack',\n",
       "       'southern', 'specialty', 'speech', 'spiritual', 'sport',\n",
       "       'stonerrock', 'surf', 'swing', 'synthpop', 'synthrock',\n",
       "       'sängerportrait', 'tango', 'tanzorchester', 'taraftar', 'tatar',\n",
       "       'tech', 'techno', 'teen', 'thrash', 'top', 'traditional',\n",
       "       'tradjazz', 'trance', 'tribal', 'trip', 'triphop', 'tropical',\n",
       "       'türk', 'türkçe', 'ukrrock', 'unknown', 'urban', 'uzbek',\n",
       "       'variété', 'vi', 'videogame', 'vocal', 'western', 'world',\n",
       "       'worldbeat', 'ïîï', 'электроника'], dtype=object)"
      ]
     },
     "execution_count": 14,
     "metadata": {},
     "output_type": "execute_result"
    }
   ],
   "source": [
    "# Просмотр уникальных названий жанров\n",
    "df['genre'].sort_values().unique()"
   ]
  },
  {
   "cell_type": "markdown",
   "metadata": {
    "id": "qej-Qmuo_Zct"
   },
   "source": [
    "Просмотрите список и найдите неявные дубликаты названия `hiphop`. Это могут быть названия с ошибками или альтернативные названия того же жанра.\n",
    "\n",
    "Вы увидите следующие неявные дубликаты:\n",
    "* *hip*,\n",
    "* *hop*,\n",
    "* *hip-hop*.\n",
    "\n",
    "Чтобы очистить от них таблицу, напишите функцию `replace_wrong_genres()` с двумя параметрами: \n",
    "* `wrong_genres` — список дубликатов,\n",
    "* `correct_genre` — строка с правильным значением.\n",
    "\n",
    "Функция должна исправить колонку `genre` в таблице `df`: заменить каждое значение из списка `wrong_genres` на значение из `correct_genre`."
   ]
  },
  {
   "cell_type": "code",
   "execution_count": 15,
   "metadata": {
    "id": "ErNDkmns_Zct"
   },
   "outputs": [],
   "source": [
    "# Функция для замены неявных дубликатов\n",
    "def replace_wrong_genres(wrong_genres, correct_genre):\n",
    "    for genre in wrong_genres:\n",
    "        df['genre'] = df['genre'].replace(genre, correct_genre)"
   ]
  },
  {
   "cell_type": "markdown",
   "metadata": {
    "id": "aDoBJxbA_Zct"
   },
   "source": [
    "Вызовите `replace_wrong_genres()` и передайте ей такие аргументы, чтобы она устранила неявные дубликаты: вместо `hip`, `hop` и `hip-hop` в таблице должно быть значение `hiphop`:"
   ]
  },
  {
   "cell_type": "code",
   "execution_count": 16,
   "metadata": {
    "id": "YN5i2hpmSo09"
   },
   "outputs": [],
   "source": [
    "# Устранение неявных дубликатов\n",
    "hip_hop_wrong_genres = ['hip', 'hop', 'hip-hop']\n",
    "replace_wrong_genres(hip_hop_wrong_genres, 'hiphop')"
   ]
  },
  {
   "cell_type": "markdown",
   "metadata": {
    "id": "zQKF16_RG15m"
   },
   "source": [
    "Проверьте, что заменили неправильные названия:\n",
    "\n",
    "*   hip\n",
    "*   hop\n",
    "*   hip-hop\n",
    "\n",
    "Выведите отсортированный список уникальных значений столбца `genre`:"
   ]
  },
  {
   "cell_type": "code",
   "execution_count": 17,
   "metadata": {
    "id": "wvixALnFG15m"
   },
   "outputs": [
    {
     "data": {
      "text/plain": [
       "array(['acid', 'acoustic', 'action', 'adult', 'africa', 'afrikaans',\n",
       "       'alternative', 'alternativepunk', 'ambient', 'americana',\n",
       "       'animated', 'anime', 'arabesk', 'arabic', 'arena',\n",
       "       'argentinetango', 'art', 'audiobook', 'author', 'avantgarde',\n",
       "       'axé', 'baile', 'balkan', 'beats', 'bigroom', 'black', 'bluegrass',\n",
       "       'blues', 'bollywood', 'bossa', 'brazilian', 'breakbeat', 'breaks',\n",
       "       'broadway', 'cantautori', 'cantopop', 'canzone', 'caribbean',\n",
       "       'caucasian', 'celtic', 'chamber', 'chanson', 'children', 'chill',\n",
       "       'chinese', 'choral', 'christian', 'christmas', 'classical',\n",
       "       'classicmetal', 'club', 'colombian', 'comedy', 'conjazz',\n",
       "       'contemporary', 'country', 'cuban', 'dance', 'dancehall',\n",
       "       'dancepop', 'dark', 'death', 'deep', 'deutschrock', 'deutschspr',\n",
       "       'dirty', 'disco', 'dnb', 'documentary', 'downbeat', 'downtempo',\n",
       "       'drum', 'dub', 'dubstep', 'eastern', 'easy', 'electronic',\n",
       "       'electropop', 'emo', 'entehno', 'epicmetal', 'estrada', 'ethnic',\n",
       "       'eurofolk', 'european', 'experimental', 'extrememetal', 'fado',\n",
       "       'fairytail', 'film', 'fitness', 'flamenco', 'folk', 'folklore',\n",
       "       'folkmetal', 'folkrock', 'folktronica', 'forró', 'frankreich',\n",
       "       'französisch', 'french', 'funk', 'future', 'gangsta', 'garage',\n",
       "       'german', 'ghazal', 'gitarre', 'glitch', 'gospel', 'gothic',\n",
       "       'grime', 'grunge', 'gypsy', 'handsup', \"hard'n'heavy\", 'hardcore',\n",
       "       'hardstyle', 'hardtechno', 'hiphop', 'historisch', 'holiday',\n",
       "       'horror', 'house', 'hymn', 'idm', 'independent', 'indian', 'indie',\n",
       "       'indipop', 'industrial', 'inspirational', 'instrumental',\n",
       "       'international', 'irish', 'jam', 'japanese', 'jazz', 'jewish',\n",
       "       'jpop', 'jungle', 'k-pop', 'karadeniz', 'karaoke', 'kayokyoku',\n",
       "       'korean', 'laiko', 'latin', 'latino', 'leftfield', 'local',\n",
       "       'lounge', 'loungeelectronic', 'lovers', 'malaysian', 'mandopop',\n",
       "       'marschmusik', 'meditative', 'mediterranean', 'melodic', 'metal',\n",
       "       'metalcore', 'mexican', 'middle', 'minimal', 'miscellaneous',\n",
       "       'modern', 'mood', 'mpb', 'muslim', 'native', 'neoklassik', 'neue',\n",
       "       'new', 'newage', 'newwave', 'nu', 'nujazz', 'numetal', 'oceania',\n",
       "       'old', 'opera', 'orchestral', 'other', 'piano', 'podcasts', 'pop',\n",
       "       'popdance', 'popelectronic', 'popeurodance', 'poprussian', 'post',\n",
       "       'posthardcore', 'postrock', 'power', 'progmetal', 'progressive',\n",
       "       'psychedelic', 'punjabi', 'punk', 'quebecois', 'ragga', 'ram',\n",
       "       'rancheras', 'rap', 'rave', 'reggae', 'reggaeton', 'regional',\n",
       "       'relax', 'religious', 'retro', 'rhythm', 'rnb', 'rnr', 'rock',\n",
       "       'rockabilly', 'rockalternative', 'rockindie', 'rockother',\n",
       "       'romance', 'roots', 'ruspop', 'rusrap', 'rusrock', 'russian',\n",
       "       'salsa', 'samba', 'scenic', 'schlager', 'self', 'sertanejo',\n",
       "       'shanson', 'shoegazing', 'showtunes', 'singer', 'ska', 'skarock',\n",
       "       'slow', 'smooth', 'soft', 'soul', 'soulful', 'sound', 'soundtrack',\n",
       "       'southern', 'specialty', 'speech', 'spiritual', 'sport',\n",
       "       'stonerrock', 'surf', 'swing', 'synthpop', 'synthrock',\n",
       "       'sängerportrait', 'tango', 'tanzorchester', 'taraftar', 'tatar',\n",
       "       'tech', 'techno', 'teen', 'thrash', 'top', 'traditional',\n",
       "       'tradjazz', 'trance', 'tribal', 'trip', 'triphop', 'tropical',\n",
       "       'türk', 'türkçe', 'ukrrock', 'unknown', 'urban', 'uzbek',\n",
       "       'variété', 'vi', 'videogame', 'vocal', 'western', 'world',\n",
       "       'worldbeat', 'ïîï', 'электроника'], dtype=object)"
      ]
     },
     "execution_count": 17,
     "metadata": {},
     "output_type": "execute_result"
    }
   ],
   "source": [
    "# Проверка на неявные дубликаты\n",
    "df['genre'].sort_values().unique()"
   ]
  },
  {
   "cell_type": "markdown",
   "metadata": {
    "id": "jz6a9-7HQUDd"
   },
   "source": [
    "**Выводы**\n",
    "\n",
    "Предобработка обнаружила три проблемы в данных:\n",
    "\n",
    "- нарушения в стиле заголовков,\n",
    "- пропущенные значения,\n",
    "- дубликаты — явные и неявные.\n",
    "\n",
    "Вы исправили заголовки, чтобы упростить работу с таблицей. Без дубликатов исследование станет более точным.\n",
    "\n",
    "Пропущенные значения вы заменили на `'unknown'`. Ещё предстоит увидеть, не повредят ли исследованию пропуски в колонке `genre`.\n",
    "\n",
    "Теперь можно перейти к проверке гипотез. "
   ]
  },
  {
   "cell_type": "markdown",
   "metadata": {},
   "source": [
    "<div class=\"alert alert-success\">\n",
    "    \n",
    "<b> Комментарий от ревьюера</b>\n",
    "    \n",
    "Ты отлично справился с обработкой явных и неявных дубликатов\n",
    "</div>"
   ]
  },
  {
   "cell_type": "markdown",
   "metadata": {
    "id": "WttZHXH0SqKk"
   },
   "source": [
    "## Проверка гипотез"
   ]
  },
  {
   "cell_type": "markdown",
   "metadata": {
    "id": "Im936VVi_Zcu"
   },
   "source": [
    "### Сравнение поведения пользователей двух столиц"
   ]
  },
  {
   "cell_type": "markdown",
   "metadata": {
    "id": "nwt_MuaL_Zcu"
   },
   "source": [
    "Первая гипотеза утверждает, что пользователи по-разному слушают музыку в Москве и Санкт-Петербурге. Проверьте это предположение по данным о трёх днях недели — понедельнике, среде и пятнице. Для этого:\n",
    "\n",
    "* Разделите пользователей Москвы и Санкт-Петербурга\n",
    "* Сравните, сколько треков послушала каждая группа пользователей в понедельник, среду и пятницу.\n"
   ]
  },
  {
   "cell_type": "markdown",
   "metadata": {
    "id": "8Dw_YMmT_Zcu"
   },
   "source": [
    "Для тренировки сначала выполните каждый из расчётов по отдельности. \n",
    "\n",
    "Оцените активность пользователей в каждом городе. Сгруппируйте данные по городу и посчитайте прослушивания в каждой группе.\n",
    "\n"
   ]
  },
  {
   "cell_type": "code",
   "execution_count": 18,
   "metadata": {
    "id": "0_Qs96oh_Zcu"
   },
   "outputs": [
    {
     "data": {
      "text/plain": [
       "city\n",
       "Moscow              42741\n",
       "Saint-Petersburg    18512\n",
       "Name: track, dtype: int64"
      ]
     },
     "execution_count": 18,
     "metadata": {},
     "output_type": "execute_result"
    }
   ],
   "source": [
    "# Подсчёт прослушиваний в каждом городе\n",
    "df.groupby('city')['track'].count()"
   ]
  },
  {
   "cell_type": "markdown",
   "metadata": {
    "id": "dzli3w8o_Zcu"
   },
   "source": [
    "В Москве прослушиваний больше, чем в Петербурге. Из этого не следует, что московские пользователи чаще слушают музыку. Просто самих пользователей в Москве больше.\n",
    "\n",
    "Теперь сгруппируйте данные по дню недели и подсчитайте прослушивания в понедельник, среду и пятницу. Учтите, что в данных есть информация только о прослушиваниях только за эти дни.\n"
   ]
  },
  {
   "cell_type": "code",
   "execution_count": 19,
   "metadata": {
    "id": "uZMKjiJz_Zcu"
   },
   "outputs": [
    {
     "data": {
      "text/plain": [
       "day\n",
       "Friday       21840\n",
       "Monday       21354\n",
       "Wednesday    18059\n",
       "Name: track, dtype: int64"
      ]
     },
     "execution_count": 19,
     "metadata": {},
     "output_type": "execute_result"
    }
   ],
   "source": [
    "# Подсчёт прослушиваний в каждый из трёх дней\n",
    "df.groupby('day')['track'].count()"
   ]
  },
  {
   "cell_type": "markdown",
   "metadata": {
    "id": "cC2tNrlL_Zcu"
   },
   "source": [
    "В среднем пользователи из двух городов менее активны по средам. Но картина может измениться, если рассмотреть каждый город в отдельности."
   ]
  },
  {
   "cell_type": "markdown",
   "metadata": {
    "id": "POzs8bGa_Zcu"
   },
   "source": [
    "Вы видели, как работает группировка по городу и по дням недели. Теперь напишите функцию, которая объединит два эти расчёта.\n",
    "\n",
    "Создайте функцию `number_tracks()`, которая посчитает прослушивания для заданного дня и города. Ей понадобятся два параметра:\n",
    "* день недели,\n",
    "* название города.\n",
    "\n",
    "В функции сохраните в переменную строки исходной таблицы, у которых значение:\n",
    "  * в колонке `day` равно параметру `day`,\n",
    "  * в колонке `city` равно параметру `city`.\n",
    "\n",
    "Для этого примените последовательную фильтрацию с логической индексацией.\n",
    "\n",
    "Затем посчитайте значения в столбце `user_id` получившейся таблицы. Результат сохраните в новую переменную. Верните эту переменную из функции."
   ]
  },
  {
   "cell_type": "code",
   "execution_count": 20,
   "metadata": {
    "id": "Nz3GdQB1_Zcu"
   },
   "outputs": [],
   "source": [
    "# <создание функции number_tracks()>\n",
    "# Объявляется функция с двумя параметрами: day, city.\n",
    "def number_tracks(day, city):\n",
    "# В переменной track_list сохраняются те строки таблицы df, для которых \n",
    "# значение в столбце 'day' равно параметру day и одновременно значение\n",
    "# в столбце 'city' равно параметру city (используйте последовательную фильтрацию\n",
    "# с помощью логической индексации).\n",
    "    track_list = df[df['day'] == day]\n",
    "    track_list = track_list[track_list['city'] == city]\n",
    "# В переменной track_list_count сохраняется число значений столбца 'user_id',\n",
    "# рассчитанное методом count() для таблицы track_list.\n",
    "    track_list_count = track_list['user_id'].count()\n",
    "# Функция возвращает число - значение track_list_count.\n",
    "    return track_list_count\n",
    "# Функция для подсчёта прослушиваний для конкретного города и дня.\n",
    "# С помощью последовательной фильтрации с логической индексацией она \n",
    "# сначала получит из исходной таблицы строки с нужным днём,\n",
    "# затем из результата отфильтрует строки с нужным городом,\n",
    "# методом count() посчитает количество значений в колонке user_id. \n",
    "# Это количество функция вернёт в качестве результата"
   ]
  },
  {
   "cell_type": "markdown",
   "metadata": {},
   "source": [
    "<div class=\"alert alert-success\">\n",
    "    \n",
    "<b> Комментарий от ревьюера</b>\n",
    "    \n",
    "Ты все сделал правильно. Кстати, можно использовать сразу несколько условий для фильтрации:  \n",
    "`df[(df.day==day) & (df.city==city)]`\n",
    "</div>"
   ]
  },
  {
   "cell_type": "markdown",
   "metadata": {
    "id": "ytf7xFrFJQ2r"
   },
   "source": [
    "Вызовите `number_tracks()` шесть раз, меняя значение параметров — так, чтобы получить данные для каждого города в каждый из трёх дней."
   ]
  },
  {
   "cell_type": "code",
   "execution_count": 21,
   "metadata": {
    "id": "rJcRATNQ_Zcu"
   },
   "outputs": [
    {
     "name": "stdout",
     "output_type": "stream",
     "text": [
      "Количество прослушиваний в Москве по понедельникам: 15740\n"
     ]
    }
   ],
   "source": [
    "# количество прослушиваний в Москве по понедельникам\n",
    "print('Количество прослушиваний в Москве по понедельникам:', number_tracks('Monday', 'Moscow'))"
   ]
  },
  {
   "cell_type": "markdown",
   "metadata": {},
   "source": [
    "<div class=\"alert alert-warning\">\n",
    "    \n",
    "<b> Комментарий от ревьюера</b>\n",
    "    \n",
    "Лучше подписывать числа, которые выводишь на экран, так их будет легче воспринимать. Например, так:  \n",
    "`print('Количество прослушиваний в Москве в понедельник: ', number_tracks('Monday', 'Moscow'))`\n",
    "</div>"
   ]
  },
  {
   "cell_type": "markdown",
   "metadata": {},
   "source": [
    "<div class=\"alert alert-info\">\n",
    "    \n",
    "Понял, исправлено!\n",
    "    \n",
    "</div>"
   ]
  },
  {
   "cell_type": "markdown",
   "metadata": {},
   "source": [
    "<div class=\"alert alert-success\">\n",
    "    \n",
    "<b> Комментарий от ревьюера 2</b>\n",
    "\n",
    "Молодец, что добавил подписи\n",
    "\n",
    "</div>"
   ]
  },
  {
   "cell_type": "code",
   "execution_count": 22,
   "metadata": {
    "id": "hq_ncZ5T_Zcu"
   },
   "outputs": [
    {
     "name": "stdout",
     "output_type": "stream",
     "text": [
      "Количество прослушиваний в Санкт-Петербурге по понедельникам: 5614\n"
     ]
    }
   ],
   "source": [
    "# количество прослушиваний в Санкт-Петербурге по понедельникам\n",
    "print('Количество прослушиваний в Санкт-Петербурге по понедельникам:', number_tracks('Monday', 'Saint-Petersburg'))"
   ]
  },
  {
   "cell_type": "code",
   "execution_count": 23,
   "metadata": {
    "id": "_NTy2VPU_Zcu"
   },
   "outputs": [
    {
     "name": "stdout",
     "output_type": "stream",
     "text": [
      "Количество прослушиваний в Москве по средам: 11056\n"
     ]
    }
   ],
   "source": [
    "# количество прослушиваний в Москве по средам\n",
    "print('Количество прослушиваний в Москве по средам:', number_tracks('Wednesday', 'Moscow'))"
   ]
  },
  {
   "cell_type": "code",
   "execution_count": 24,
   "metadata": {
    "id": "j2y3TAwo_Zcu"
   },
   "outputs": [
    {
     "name": "stdout",
     "output_type": "stream",
     "text": [
      "Количество прослушиваний в Санкт-Петербурге по средам: 7003\n"
     ]
    }
   ],
   "source": [
    "# количество прослушиваний в Санкт-Петербурге по средам\n",
    "print('Количество прослушиваний в Санкт-Петербурге по средам:', number_tracks('Wednesday', 'Saint-Petersburg'))"
   ]
  },
  {
   "cell_type": "code",
   "execution_count": 25,
   "metadata": {
    "id": "vYDw5u_K_Zcu"
   },
   "outputs": [
    {
     "name": "stdout",
     "output_type": "stream",
     "text": [
      "Количество прослушиваний в Москве по пятницам: 15945\n"
     ]
    }
   ],
   "source": [
    "# количество прослушиваний в Москве по пятницам\n",
    "print('Количество прослушиваний в Москве по пятницам:', number_tracks('Friday', 'Moscow'))"
   ]
  },
  {
   "cell_type": "code",
   "execution_count": 26,
   "metadata": {
    "id": "8_yzFtW3_Zcu"
   },
   "outputs": [
    {
     "name": "stdout",
     "output_type": "stream",
     "text": [
      "Количество прослушиваний в Санкт-Петербурге по пятницам: 5895\n"
     ]
    }
   ],
   "source": [
    "# количество прослушиваний в Санкт-Петербурге по пятницам\n",
    "print('Количество прослушиваний в Санкт-Петербурге по пятницам:', number_tracks('Friday', 'Saint-Petersburg'))"
   ]
  },
  {
   "cell_type": "markdown",
   "metadata": {
    "id": "7QXffbO-_Zcu"
   },
   "source": [
    "Создайте c помощью конструктора `pd.DataFrame` таблицу, где\n",
    "* названия колонок — `['city', 'monday', 'wednesday', 'friday']`;\n",
    "* данные — результаты, которые вы получили с помощью `number_tracks`."
   ]
  },
  {
   "cell_type": "code",
   "execution_count": 27,
   "metadata": {
    "id": "APAcLpOr_Zcu"
   },
   "outputs": [
    {
     "data": {
      "text/html": [
       "<div>\n",
       "<style scoped>\n",
       "    .dataframe tbody tr th:only-of-type {\n",
       "        vertical-align: middle;\n",
       "    }\n",
       "\n",
       "    .dataframe tbody tr th {\n",
       "        vertical-align: top;\n",
       "    }\n",
       "\n",
       "    .dataframe thead th {\n",
       "        text-align: right;\n",
       "    }\n",
       "</style>\n",
       "<table border=\"1\" class=\"dataframe\">\n",
       "  <thead>\n",
       "    <tr style=\"text-align: right;\">\n",
       "      <th></th>\n",
       "      <th>city</th>\n",
       "      <th>monday</th>\n",
       "      <th>wednesday</th>\n",
       "      <th>friday</th>\n",
       "    </tr>\n",
       "  </thead>\n",
       "  <tbody>\n",
       "    <tr>\n",
       "      <td>0</td>\n",
       "      <td>Moscow</td>\n",
       "      <td>15740</td>\n",
       "      <td>11056</td>\n",
       "      <td>15945</td>\n",
       "    </tr>\n",
       "    <tr>\n",
       "      <td>1</td>\n",
       "      <td>Saint-Petersburg</td>\n",
       "      <td>5614</td>\n",
       "      <td>7003</td>\n",
       "      <td>5895</td>\n",
       "    </tr>\n",
       "  </tbody>\n",
       "</table>\n",
       "</div>"
      ],
      "text/plain": [
       "               city  monday  wednesday  friday\n",
       "0            Moscow   15740      11056   15945\n",
       "1  Saint-Petersburg    5614       7003    5895"
      ]
     },
     "metadata": {},
     "output_type": "display_data"
    }
   ],
   "source": [
    "# Таблица с результатами\n",
    "data = [\n",
    "    ['Moscow', 15740, 11056, 15945],\n",
    "    ['Saint-Petersburg', 5614, 7003, 5895]\n",
    "]\n",
    "columns = ['city', 'monday', 'wednesday', 'friday']\n",
    "\n",
    "city_day_track_list = pd.DataFrame(data=data, columns=columns)\n",
    "display(city_day_track_list)"
   ]
  },
  {
   "cell_type": "markdown",
   "metadata": {
    "id": "-EgPIHYu_Zcu"
   },
   "source": [
    "**Выводы**\n",
    "\n",
    "Данные показывают разницу поведения пользователей:\n",
    "\n",
    "- В Москве пик прослушиваний приходится на понедельник и пятницу, а в среду заметен спад.\n",
    "- В Петербурге, наоборот, больше слушают музыку по средам. Активность в понедельник и пятницу здесь почти в равной мере уступает среде.\n",
    "\n",
    "Значит, данные говорят в пользу первой гипотезы."
   ]
  },
  {
   "cell_type": "markdown",
   "metadata": {
    "id": "atZAxtq4_Zcu"
   },
   "source": [
    "### Музыка в начале и в конце недели"
   ]
  },
  {
   "cell_type": "markdown",
   "metadata": {
    "id": "eXrQqXFH_Zcu"
   },
   "source": [
    "Согласно второй гипотезе, утром в понедельник в Москве преобладают одни жанры, а в Петербурге — другие. Так же и вечером пятницы преобладают разные жанры — в зависимости от города."
   ]
  },
  {
   "cell_type": "markdown",
   "metadata": {
    "id": "S8UcW6Hw_Zcu"
   },
   "source": [
    "Сохраните таблицы с данными в две переменные:\n",
    "* по Москве — в `moscow_general`;\n",
    "* по Санкт-Петербургу — в `spb_general`."
   ]
  },
  {
   "cell_type": "code",
   "execution_count": 28,
   "metadata": {
    "id": "qeaFfM_P_Zcu"
   },
   "outputs": [],
   "source": [
    "# получение таблицы moscow_general из тех строк таблицы df, \n",
    "# для которых значение в столбце 'city' равно 'Moscow'\n",
    "moscow_general = df[df['city'] == 'Moscow']"
   ]
  },
  {
   "cell_type": "code",
   "execution_count": 29,
   "metadata": {
    "id": "ORaVRKto_Zcu"
   },
   "outputs": [],
   "source": [
    "# получение таблицы spb_general из тех строк таблицы df,\n",
    "# для которых значение в столбце 'city' равно 'Saint-Petersburg'\n",
    "spb_general = df[df['city'] == 'Saint-Petersburg']"
   ]
  },
  {
   "cell_type": "markdown",
   "metadata": {},
   "source": [
    "<div class=\"alert alert-success\">\n",
    "    \n",
    "<b> Комментарий от ревьюера</b>\n",
    "    \n",
    "Все верно\n",
    "</div>\n",
    "\n"
   ]
  },
  {
   "cell_type": "markdown",
   "metadata": {
    "id": "MEJV-CX2_Zcu"
   },
   "source": [
    "Создайте функцию `genre_weekday()` с четырьмя параметрами:\n",
    "* таблица (датафрейм) с данными,\n",
    "* день недели,\n",
    "* начальная временная метка в формате 'hh:mm', \n",
    "* последняя временная метка в формате 'hh:mm'.\n",
    "\n",
    "Функция должна вернуть информацию о топ-10 жанров тех треков, которые прослушивали в указанный день, в промежутке между двумя отметками времени."
   ]
  },
  {
   "cell_type": "code",
   "execution_count": 30,
   "metadata": {
    "id": "laJT9BYl_Zcu"
   },
   "outputs": [],
   "source": [
    "# Объявление функции genre_weekday() с параметрами table, day, time1, time2,\n",
    "# которая возвращает информацию о самых популярных жанрах в указанный день в\n",
    "# заданное время:\n",
    "def genre_weekday(table, day, time1, time2):\n",
    "# 1) в переменную genre_df сохраняются те строки переданного датафрейма table, для\n",
    "#    которых одновременно:\n",
    "#    - значение в столбце day равно значению аргумента day\n",
    "#    - значение в столбце time больше значения аргумента time1\n",
    "#    - значение в столбце time меньше значения аргумента time2\n",
    "#    Используйте последовательную фильтрацию с помощью логической индексации.\n",
    "    genre_df = table[table['day'] == day]\n",
    "    genre_df = genre_df[genre_df['time'] > time1]\n",
    "    genre_df = genre_df[genre_df['time'] < time2]\n",
    "# 2) сгруппировать датафрейм genre_df по столбцу genre, взять один из его\n",
    "#    столбцов и посчитать методом count() количество записей для каждого из\n",
    "#    присутствующих жанров, получившийся Series записать в переменную\n",
    "#    genre_df_count\n",
    "    genre_df_count = genre_df.groupby(by = 'genre')['genre'].count()\n",
    "# 3) отсортировать genre_df_count по убыванию встречаемости и сохранить\n",
    "#    в переменную genre_df_sorted\n",
    "    genre_df_sorted = genre_df_count.sort_values(ascending=False)\n",
    "# 4) вернуть Series из 10 первых значений genre_df_sorted, это будут топ-10\n",
    "#    популярных жанров (в указанный день, в заданное время)\n",
    "    return genre_df_sorted.head(10)"
   ]
  },
  {
   "cell_type": "markdown",
   "metadata": {},
   "source": [
    "\n",
    "<div class=\"alert alert-danger\">\n",
    "    \n",
    "<b> Комментарий от ревьюера</b>\n",
    "    \n",
    "> **genre_fg** = genre_df[genre_df['time'] < time2]\n",
    "                                                 \n",
    "Похоже, у нас в коде опечатка. Поправь, пожалуйста\n",
    "</div>\n"
   ]
  },
  {
   "cell_type": "markdown",
   "metadata": {},
   "source": [
    "<div class=\"alert alert-info\">\n",
    "\n",
    "Исправлено\n",
    "</div>"
   ]
  },
  {
   "cell_type": "markdown",
   "metadata": {},
   "source": [
    "<div class=\"alert alert-success\">\n",
    "    \n",
    "<b> Комментарий от ревьюера 2</b>\n",
    "\n",
    "Молодец, что поправил код\n",
    "\n",
    "</div>"
   ]
  },
  {
   "cell_type": "markdown",
   "metadata": {
    "id": "la2s2_PF_Zcu"
   },
   "source": [
    "Cравните результаты функции `genre_weekday()` для Москвы и Санкт-Петербурга в понедельник утром (с 7:00 до 11:00) и в пятницу вечером (с 17:00 до 23:00):"
   ]
  },
  {
   "cell_type": "code",
   "execution_count": 31,
   "metadata": {
    "id": "yz7itPUQ_Zcu"
   },
   "outputs": [
    {
     "data": {
      "text/plain": [
       "genre\n",
       "pop            781\n",
       "dance          549\n",
       "electronic     480\n",
       "rock           474\n",
       "hiphop         286\n",
       "ruspop         186\n",
       "world          181\n",
       "rusrap         175\n",
       "alternative    164\n",
       "unknown        161\n",
       "Name: genre, dtype: int64"
      ]
     },
     "execution_count": 31,
     "metadata": {},
     "output_type": "execute_result"
    }
   ],
   "source": [
    "# вызов функции для утра понедельника в Москве (вместо df — таблица moscow_general)\n",
    "# объекты, хранящие время, являются строками и сравниваются как строки\n",
    "# пример вызова: genre_weekday(moscow_general, 'Monday', '07:00', '11:00')\n",
    "genre_weekday(moscow_general, 'Monday', '07:00', '11:00')"
   ]
  },
  {
   "cell_type": "code",
   "execution_count": 32,
   "metadata": {
    "id": "kwUcHPdy_Zcu"
   },
   "outputs": [
    {
     "data": {
      "text/plain": [
       "genre\n",
       "pop            218\n",
       "dance          182\n",
       "rock           162\n",
       "electronic     147\n",
       "hiphop          80\n",
       "ruspop          64\n",
       "alternative     58\n",
       "rusrap          55\n",
       "jazz            44\n",
       "classical       40\n",
       "Name: genre, dtype: int64"
      ]
     },
     "execution_count": 32,
     "metadata": {},
     "output_type": "execute_result"
    }
   ],
   "source": [
    "# вызов функции для утра понедельника в Петербурге (вместо df — таблица spb_general)\n",
    "genre_weekday(spb_general, 'Monday', '07:00', '11:00')"
   ]
  },
  {
   "cell_type": "code",
   "execution_count": 33,
   "metadata": {
    "id": "EzXVRE1o_Zcu"
   },
   "outputs": [
    {
     "data": {
      "text/plain": [
       "genre\n",
       "pop            713\n",
       "rock           517\n",
       "dance          495\n",
       "electronic     482\n",
       "hiphop         273\n",
       "world          208\n",
       "ruspop         170\n",
       "alternative    163\n",
       "classical      163\n",
       "rusrap         142\n",
       "Name: genre, dtype: int64"
      ]
     },
     "execution_count": 33,
     "metadata": {},
     "output_type": "execute_result"
    }
   ],
   "source": [
    "# вызов функции для вечера пятницы в Москве\n",
    "genre_weekday(moscow_general, 'Friday', '17:00', '23:00')"
   ]
  },
  {
   "cell_type": "code",
   "execution_count": 34,
   "metadata": {
    "id": "JZaEKu5v_Zcu"
   },
   "outputs": [
    {
     "data": {
      "text/plain": [
       "genre\n",
       "pop            256\n",
       "rock           216\n",
       "electronic     216\n",
       "dance          210\n",
       "hiphop          97\n",
       "alternative     63\n",
       "jazz            61\n",
       "classical       60\n",
       "rusrap          59\n",
       "world           54\n",
       "Name: genre, dtype: int64"
      ]
     },
     "execution_count": 34,
     "metadata": {},
     "output_type": "execute_result"
    }
   ],
   "source": [
    "# вызов функции для вечера пятницы в Петербурге\n",
    "genre_weekday(spb_general, 'Friday', '17:00', '23:00')"
   ]
  },
  {
   "cell_type": "markdown",
   "metadata": {
    "id": "wrCe4MNX_Zcu"
   },
   "source": [
    "**Выводы**\n",
    "\n",
    "Если сравнить топ-10 жанров в понедельник утром, можно сделать такие выводы:\n",
    "\n",
    "1. В Москве и Петербурге слушают похожую музыку. Единственное отличие — в московский рейтинг вошёл жанр “world”, а в петербургский — джаз и классика.\n",
    "\n",
    "2. В Москве пропущенных значений оказалось так много, что значение `'unknown'` заняло десятое место среди самых популярных жанров. Значит, пропущенные значения занимают существенную долю в данных и угрожают достоверности исследования.\n",
    "\n",
    "Вечер пятницы не меняет эту картину. Некоторые жанры поднимаются немного выше, другие спускаются, но в целом топ-10 остаётся тем же самым.\n",
    "\n",
    "Таким образом, вторая гипотеза подтвердилась лишь частично:\n",
    "* Пользователи слушают похожую музыку в начале недели и в конце.\n",
    "* Разница между Москвой и Петербургом не слишком выражена. В Москве чаще слушают русскую популярную музыку, в Петербурге — джаз.\n",
    "\n",
    "Однако пропуски в данных ставят под сомнение этот результат. В Москве их так много, что рейтинг топ-10 мог бы выглядеть иначе, если бы не утерянные  данные о жанрах."
   ]
  },
  {
   "cell_type": "markdown",
   "metadata": {
    "id": "JolODAqr_Zcu"
   },
   "source": [
    "### Жанровые предпочтения в Москве и Петербурге\n",
    "\n",
    "Гипотеза: Петербург — столица рэпа, музыку этого жанра там слушают чаще, чем в Москве.  А Москва — город контрастов, в котором, тем не менее, преобладает поп-музыка."
   ]
  },
  {
   "cell_type": "markdown",
   "metadata": {
    "id": "DlegSvaT_Zcu"
   },
   "source": [
    "Сгруппируйте таблицу `moscow_general` по жанру и посчитайте прослушивания треков каждого жанра методом `count()`. Затем отсортируйте результат в порядке убывания и сохраните его в таблице `moscow_genres`."
   ]
  },
  {
   "cell_type": "code",
   "execution_count": 35,
   "metadata": {
    "id": "r19lIPke_Zcu"
   },
   "outputs": [],
   "source": [
    "# одной строкой: группировка таблицы moscow_general по столбцу 'genre', \n",
    "# подсчёт числа значений 'genre' в этой группировке методом count(), \n",
    "# сортировка получившегося Series в порядке убывания и сохранение в moscow_genres\n",
    "moscow_genres = moscow_general.groupby(by='genre')['genre'].count().sort_values(ascending=False)"
   ]
  },
  {
   "cell_type": "markdown",
   "metadata": {
    "id": "6kMuomxTiIr8"
   },
   "source": [
    "Выведите на экран первые десять строк `moscow_genres`:"
   ]
  },
  {
   "cell_type": "code",
   "execution_count": 36,
   "metadata": {
    "id": "WhCSooF8_Zcv"
   },
   "outputs": [
    {
     "data": {
      "text/plain": [
       "genre\n",
       "pop            5892\n",
       "dance          4435\n",
       "rock           3965\n",
       "electronic     3786\n",
       "hiphop         2096\n",
       "classical      1616\n",
       "world          1432\n",
       "alternative    1379\n",
       "ruspop         1372\n",
       "rusrap         1161\n",
       "Name: genre, dtype: int64"
      ]
     },
     "execution_count": 36,
     "metadata": {},
     "output_type": "execute_result"
    }
   ],
   "source": [
    "# просмотр первых 10 строк moscow_genres\n",
    "moscow_genres.head(10)"
   ]
  },
  {
   "cell_type": "markdown",
   "metadata": {},
   "source": [
    "<div class=\"alert alert-success\">\n",
    "    \n",
    "<b> Комментарий от ревьюера</b>\n",
    "    \n",
    "Все правильно\n",
    "</div>\n",
    "\n"
   ]
  },
  {
   "cell_type": "markdown",
   "metadata": {
    "id": "cnPG2vnN_Zcv"
   },
   "source": [
    "Теперь повторите то же и для Петербурга.\n",
    "\n",
    "Сгруппируйте таблицу `spb_general` по жанру. Посчитайте прослушивания треков каждого жанра. Результат отсортируйте в порядке убывания и сохраните в таблице `spb_genres`:\n"
   ]
  },
  {
   "cell_type": "code",
   "execution_count": 37,
   "metadata": {
    "id": "gluLIpE7_Zcv"
   },
   "outputs": [],
   "source": [
    "# одной строкой: группировка таблицы spb_general по столбцу 'genre', \n",
    "# подсчёт числа значений 'genre' в этой группировке методом count(), \n",
    "# сортировка получившегося Series в порядке убывания и сохранение в spb_genres\n",
    "spb_genres = spb_general.groupby(by='genre')['genre'].count().sort_values(ascending=False)"
   ]
  },
  {
   "cell_type": "markdown",
   "metadata": {
    "id": "5Doha_ODgyQ8"
   },
   "source": [
    "Выведите на экран первые десять строк `spb_genres`:"
   ]
  },
  {
   "cell_type": "code",
   "execution_count": 38,
   "metadata": {
    "id": "uaGJHjVU_Zcv"
   },
   "outputs": [
    {
     "data": {
      "text/plain": [
       "genre\n",
       "pop            2431\n",
       "dance          1932\n",
       "rock           1879\n",
       "electronic     1736\n",
       "hiphop          960\n",
       "alternative     649\n",
       "classical       646\n",
       "rusrap          564\n",
       "ruspop          538\n",
       "world           515\n",
       "Name: genre, dtype: int64"
      ]
     },
     "execution_count": 38,
     "metadata": {},
     "output_type": "execute_result"
    }
   ],
   "source": [
    "# просмотр первых 10 строк spb_genres\n",
    "spb_genres.head(10)"
   ]
  },
  {
   "cell_type": "markdown",
   "metadata": {
    "id": "RY51YJYu_Zcv"
   },
   "source": [
    "**Выводы**"
   ]
  },
  {
   "cell_type": "markdown",
   "metadata": {
    "id": "nVhnJEm__Zcv"
   },
   "source": [
    "Гипотеза частично подтвердилась:\n",
    "* Поп-музыка — самый популярный жанр в Москве, как и предполагала гипотеза. Более того, в топ-10 жанров встречается близкий жанр — русская популярная музыка.\n",
    "* Вопреки ожиданиям, рэп одинаково популярен в Москве и Петербурге. \n"
   ]
  },
  {
   "cell_type": "markdown",
   "metadata": {},
   "source": [
    "<div class=\"alert alert-success\">\n",
    "<b> Комментарий от ревьюера</b>\n",
    "\n",
    "Спасибо за твою работу. Вижу, ты отлично освоил материал первого спринта и без проблем применяешь методы pandas'а для обработки данных.\n",
    "       \n",
    "Поправь, пожалуйста, опечатку в коде, задай вопросы (если есть), и я приму проект.\n",
    "    \n",
    "Жду твои исправления:)\n",
    "\n",
    "____\n",
    "    \n",
    "Отдельно хочу обратить твое внимание на структуру проекта. Будет здорово, если в своих следующих проектах ты тоже будешь указывать цель исследования в начале работы, рассуждения и промежуточные выводы в середине работы и общий вывод в конце (подробнее об оформлении проектов можешь узнать из методички, она есть у кураторов). Про синтаксис Markdown можешь посмотреть [тут](https://paulradzkov.com/2014/markdown_cheatsheet/).\n",
    "    \n",
    "</div>\n"
   ]
  },
  {
   "cell_type": "markdown",
   "metadata": {},
   "source": [
    "<div class=\"alert alert-info\">\n",
    "\n",
    "Вопросов нет, все понятно, а ошибки исправлены. Большое спасибо за ревью!\n",
    "</div>"
   ]
  },
  {
   "cell_type": "markdown",
   "metadata": {},
   "source": [
    "<div class=\"alert alert-success\">\n",
    "<b> Комментарий от ревьюера 2</b>\n",
    "\n",
    "Спасибо, что учел мои комментарии. Надеюсь, эта работа была полезна для тебя. Я принимаю проект и желаю удачи в прохождении курса!\n",
    "\n",
    "</div>"
   ]
  },
  {
   "cell_type": "markdown",
   "metadata": {
    "id": "ykKQ0N65_Zcv"
   },
   "source": [
    "## Итоги исследования"
   ]
  },
  {
   "cell_type": "markdown",
   "metadata": {
    "id": "tjUwbHb3_Zcv"
   },
   "source": [
    "Вы проверили три гипотезы и установили:\n",
    "\n",
    "1. День недели по-разному влияет на активность пользователей в Москве и Петербурге. \n",
    "\n",
    "Первая гипотеза полностью подтвердилась.\n",
    "\n",
    "2. Музыкальные предпочтения не сильно меняются в течение недели — будь то Москва или Петербург. Небольшие различия заметны в начале недели, по понедельникам:\n",
    "* в Москве слушают музыку жанра “world”,\n",
    "* в Петербурге — джаз и классику.\n",
    "\n",
    "Таким образом, вторая гипотеза подтвердилась лишь отчасти. Этот результат мог оказаться иным, если бы не пропуски в данных.\n",
    "\n",
    "3. Во вкусах пользователей Москвы и Петербурга больше общего чем различий. Вопреки ожиданиям, предпочтения жанров в Петербурге напоминают московские.\n",
    "\n",
    "Третья гипотеза не подтвердилась. Если различия в предпочтениях и существуют, на основной массе пользователей они незаметны.\n",
    "\n",
    "**На практике исследования содержат проверки статистических гипотез.**\n",
    "Из данных одного сервиса не всегда можно сделать вывод о всех жителях города.\n",
    "Проверки статистических гипотез покажут, насколько они достоверны, исходя из имеющихся данных. \n",
    "С методами проверок гипотез вы ещё познакомитесь в следующих темах."
   ]
  }
 ],
 "metadata": {
  "ExecuteTimeLog": [
   {
    "duration": 780,
    "start_time": "2021-10-04T07:14:15.136Z"
   },
   {
    "duration": 191,
    "start_time": "2021-10-04T07:14:45.226Z"
   },
   {
    "duration": 25,
    "start_time": "2021-10-04T07:15:08.413Z"
   },
   {
    "duration": 33,
    "start_time": "2021-10-04T07:15:35.394Z"
   },
   {
    "duration": 534,
    "start_time": "2021-10-04T07:19:50.882Z"
   },
   {
    "duration": 827,
    "start_time": "2021-10-04T07:20:02.663Z"
   },
   {
    "duration": 5,
    "start_time": "2021-10-04T07:20:08.659Z"
   },
   {
    "duration": 4,
    "start_time": "2021-10-04T07:20:24.928Z"
   },
   {
    "duration": 398,
    "start_time": "2021-10-04T07:23:09.318Z"
   },
   {
    "duration": 83,
    "start_time": "2021-10-04T07:23:31.983Z"
   },
   {
    "duration": 4,
    "start_time": "2021-10-04T07:24:06.478Z"
   },
   {
    "duration": 78,
    "start_time": "2021-10-04T07:24:27.809Z"
   },
   {
    "duration": 38,
    "start_time": "2021-10-04T07:24:56.517Z"
   },
   {
    "duration": 4,
    "start_time": "2021-10-04T07:25:14.013Z"
   },
   {
    "duration": 44,
    "start_time": "2021-10-04T07:25:18.035Z"
   },
   {
    "duration": 5,
    "start_time": "2021-10-04T07:25:19.496Z"
   },
   {
    "duration": 22,
    "start_time": "2021-10-04T07:25:32.665Z"
   },
   {
    "duration": 4,
    "start_time": "2021-10-04T07:25:34.841Z"
   },
   {
    "duration": 62,
    "start_time": "2021-10-04T07:26:11.370Z"
   },
   {
    "duration": 42,
    "start_time": "2021-10-04T07:26:17.343Z"
   },
   {
    "duration": 30,
    "start_time": "2021-10-04T07:26:29.771Z"
   },
   {
    "duration": 8972,
    "start_time": "2021-10-04T07:31:38.362Z"
   },
   {
    "duration": 46,
    "start_time": "2021-10-04T07:31:54.582Z"
   },
   {
    "duration": 19,
    "start_time": "2021-10-04T07:32:19.002Z"
   },
   {
    "duration": 41,
    "start_time": "2021-10-04T07:32:29.170Z"
   },
   {
    "duration": 32,
    "start_time": "2021-10-04T07:32:50.403Z"
   },
   {
    "duration": 18,
    "start_time": "2021-10-04T07:32:52.353Z"
   },
   {
    "duration": 32,
    "start_time": "2021-10-04T07:32:57.130Z"
   },
   {
    "duration": 8524,
    "start_time": "2021-10-04T07:33:06.008Z"
   },
   {
    "duration": 115,
    "start_time": "2021-10-04T07:33:14.419Z"
   },
   {
    "duration": 8922,
    "start_time": "2021-10-04T07:33:23.316Z"
   },
   {
    "duration": 73,
    "start_time": "2021-10-04T07:33:32.168Z"
   },
   {
    "duration": 3,
    "start_time": "2021-10-04T07:33:37.776Z"
   },
   {
    "duration": 189,
    "start_time": "2021-10-04T07:33:38.185Z"
   },
   {
    "duration": 16,
    "start_time": "2021-10-04T07:33:38.432Z"
   },
   {
    "duration": 35,
    "start_time": "2021-10-04T07:33:38.937Z"
   },
   {
    "duration": 5,
    "start_time": "2021-10-04T07:33:40.395Z"
   },
   {
    "duration": 24,
    "start_time": "2021-10-04T07:33:41.820Z"
   },
   {
    "duration": 5,
    "start_time": "2021-10-04T07:33:42.484Z"
   },
   {
    "duration": 35,
    "start_time": "2021-10-04T07:33:43.343Z"
   },
   {
    "duration": 24,
    "start_time": "2021-10-04T07:33:45.074Z"
   },
   {
    "duration": 32,
    "start_time": "2021-10-04T07:33:48.062Z"
   },
   {
    "duration": 79,
    "start_time": "2021-10-04T07:34:15.906Z"
   },
   {
    "duration": 378,
    "start_time": "2021-10-04T07:35:55.950Z"
   },
   {
    "duration": 475,
    "start_time": "2021-10-04T07:36:09.407Z"
   },
   {
    "duration": 206,
    "start_time": "2021-10-04T07:38:33.363Z"
   },
   {
    "duration": 81,
    "start_time": "2021-10-04T07:39:24.309Z"
   },
   {
    "duration": 91,
    "start_time": "2021-10-04T07:40:02.961Z"
   },
   {
    "duration": 74,
    "start_time": "2021-10-04T07:40:06.637Z"
   },
   {
    "duration": 361,
    "start_time": "2021-10-04T07:40:48.159Z"
   },
   {
    "duration": 363,
    "start_time": "2021-10-04T07:41:47.468Z"
   },
   {
    "duration": 434,
    "start_time": "2021-10-04T07:43:01.285Z"
   },
   {
    "duration": 9,
    "start_time": "2021-10-04T07:43:16.528Z"
   },
   {
    "duration": 9,
    "start_time": "2021-10-04T07:43:27.079Z"
   },
   {
    "duration": 4,
    "start_time": "2021-10-04T07:49:58.127Z"
   },
   {
    "duration": 13,
    "start_time": "2021-10-04T07:51:32.797Z"
   },
   {
    "duration": 379,
    "start_time": "2021-10-04T07:52:33.232Z"
   },
   {
    "duration": 350,
    "start_time": "2021-10-04T07:52:48.990Z"
   },
   {
    "duration": 57,
    "start_time": "2021-10-04T07:53:02.257Z"
   },
   {
    "duration": 4,
    "start_time": "2021-10-04T07:54:04.410Z"
   },
   {
    "duration": 14,
    "start_time": "2021-10-04T07:54:05.535Z"
   },
   {
    "duration": 404,
    "start_time": "2021-10-04T07:54:08.391Z"
   },
   {
    "duration": 56,
    "start_time": "2021-10-04T07:54:13.178Z"
   },
   {
    "duration": 372,
    "start_time": "2021-10-04T07:57:03.649Z"
   },
   {
    "duration": 7651,
    "start_time": "2021-10-04T07:57:09.275Z"
   },
   {
    "duration": 44,
    "start_time": "2021-10-04T07:57:26.398Z"
   },
   {
    "duration": 149,
    "start_time": "2021-10-04T07:58:18.155Z"
   },
   {
    "duration": 15,
    "start_time": "2021-10-04T07:58:25.486Z"
   },
   {
    "duration": 3,
    "start_time": "2021-10-04T08:14:23.709Z"
   },
   {
    "duration": 358,
    "start_time": "2021-10-04T08:15:21.235Z"
   },
   {
    "duration": 358,
    "start_time": "2021-10-04T08:15:35.264Z"
   },
   {
    "duration": 37,
    "start_time": "2021-10-04T08:15:57.745Z"
   },
   {
    "duration": 43,
    "start_time": "2021-10-04T08:16:04.274Z"
   },
   {
    "duration": 141,
    "start_time": "2021-10-04T08:16:16.034Z"
   },
   {
    "duration": 15,
    "start_time": "2021-10-04T08:16:20.199Z"
   },
   {
    "duration": 825,
    "start_time": "2021-10-04T15:24:27.380Z"
   },
   {
    "duration": 193,
    "start_time": "2021-10-04T15:24:28.208Z"
   },
   {
    "duration": 25,
    "start_time": "2021-10-04T15:24:28.404Z"
   },
   {
    "duration": 35,
    "start_time": "2021-10-04T15:24:28.441Z"
   },
   {
    "duration": 5,
    "start_time": "2021-10-04T15:24:29.492Z"
   },
   {
    "duration": 32,
    "start_time": "2021-10-04T15:24:30.212Z"
   },
   {
    "duration": 5,
    "start_time": "2021-10-04T15:24:30.782Z"
   },
   {
    "duration": 30,
    "start_time": "2021-10-04T15:24:31.530Z"
   },
   {
    "duration": 23,
    "start_time": "2021-10-04T15:24:32.496Z"
   },
   {
    "duration": 30,
    "start_time": "2021-10-04T15:24:33.059Z"
   },
   {
    "duration": 85,
    "start_time": "2021-10-04T15:24:33.387Z"
   },
   {
    "duration": 103,
    "start_time": "2021-10-04T15:24:33.720Z"
   },
   {
    "duration": 78,
    "start_time": "2021-10-04T15:24:34.077Z"
   },
   {
    "duration": 58,
    "start_time": "2021-10-04T15:24:34.714Z"
   },
   {
    "duration": 4,
    "start_time": "2021-10-04T15:24:35.263Z"
   },
   {
    "duration": 14,
    "start_time": "2021-10-04T15:24:35.711Z"
   },
   {
    "duration": 59,
    "start_time": "2021-10-04T15:24:36.418Z"
   },
   {
    "duration": 17,
    "start_time": "2021-10-04T15:24:39.497Z"
   },
   {
    "duration": 18,
    "start_time": "2021-10-04T15:24:40.264Z"
   },
   {
    "duration": 6,
    "start_time": "2021-10-04T15:24:41.734Z"
   },
   {
    "duration": 30,
    "start_time": "2021-10-04T15:25:06.677Z"
   },
   {
    "duration": 29,
    "start_time": "2021-10-04T15:25:26.738Z"
   },
   {
    "duration": 30,
    "start_time": "2021-10-04T15:25:44.762Z"
   },
   {
    "duration": 25,
    "start_time": "2021-10-04T15:26:07.825Z"
   },
   {
    "duration": 16,
    "start_time": "2021-10-04T15:26:25.777Z"
   },
   {
    "duration": 30,
    "start_time": "2021-10-04T15:26:37.256Z"
   },
   {
    "duration": 27,
    "start_time": "2021-10-04T15:26:51.938Z"
   },
   {
    "duration": 5,
    "start_time": "2021-10-04T15:27:13.442Z"
   },
   {
    "duration": 23,
    "start_time": "2021-10-04T15:27:14.832Z"
   },
   {
    "duration": 20,
    "start_time": "2021-10-04T15:27:15.324Z"
   },
   {
    "duration": 20,
    "start_time": "2021-10-04T15:27:15.795Z"
   },
   {
    "duration": 18,
    "start_time": "2021-10-04T15:27:16.228Z"
   },
   {
    "duration": 22,
    "start_time": "2021-10-04T15:27:16.617Z"
   },
   {
    "duration": 28,
    "start_time": "2021-10-04T15:27:16.935Z"
   },
   {
    "duration": 6,
    "start_time": "2021-10-04T15:30:33.861Z"
   },
   {
    "duration": 13,
    "start_time": "2021-10-04T15:30:51.842Z"
   },
   {
    "duration": 13,
    "start_time": "2021-10-04T15:31:15.177Z"
   },
   {
    "duration": 16,
    "start_time": "2021-10-04T15:32:15.887Z"
   },
   {
    "duration": 137,
    "start_time": "2021-10-04T15:32:40.867Z"
   },
   {
    "duration": 13,
    "start_time": "2021-10-04T15:32:50.328Z"
   },
   {
    "duration": 6,
    "start_time": "2021-10-04T15:51:08.266Z"
   },
   {
    "duration": 957,
    "start_time": "2021-10-04T15:53:14.581Z"
   },
   {
    "duration": 6,
    "start_time": "2021-10-04T15:54:11.747Z"
   },
   {
    "duration": 884,
    "start_time": "2021-10-04T15:54:14.132Z"
   },
   {
    "duration": 6,
    "start_time": "2021-10-04T15:55:24.211Z"
   },
   {
    "duration": 827,
    "start_time": "2021-10-04T15:55:25.041Z"
   },
   {
    "duration": 6,
    "start_time": "2021-10-04T15:56:52.789Z"
   },
   {
    "duration": 841,
    "start_time": "2021-10-04T15:56:53.469Z"
   },
   {
    "duration": 7,
    "start_time": "2021-10-04T15:57:50.982Z"
   },
   {
    "duration": 1086,
    "start_time": "2021-10-04T15:57:51.597Z"
   },
   {
    "duration": 12,
    "start_time": "2021-10-04T15:58:01.541Z"
   },
   {
    "duration": 5,
    "start_time": "2021-10-04T15:58:09.852Z"
   },
   {
    "duration": 870,
    "start_time": "2021-10-04T15:58:10.263Z"
   },
   {
    "duration": 5,
    "start_time": "2021-10-04T15:58:19.111Z"
   },
   {
    "duration": 25,
    "start_time": "2021-10-04T15:58:19.569Z"
   },
   {
    "duration": 25,
    "start_time": "2021-10-04T15:58:30.846Z"
   },
   {
    "duration": 6,
    "start_time": "2021-10-04T15:58:54.003Z"
   },
   {
    "duration": 26,
    "start_time": "2021-10-04T15:58:54.549Z"
   },
   {
    "duration": 6,
    "start_time": "2021-10-04T15:59:01.018Z"
   },
   {
    "duration": 27,
    "start_time": "2021-10-04T15:59:01.755Z"
   },
   {
    "duration": 26,
    "start_time": "2021-10-04T15:59:20.205Z"
   },
   {
    "duration": 29,
    "start_time": "2021-10-04T16:00:54.773Z"
   },
   {
    "duration": 16,
    "start_time": "2021-10-04T16:01:35.843Z"
   },
   {
    "duration": 18,
    "start_time": "2021-10-04T16:01:53.821Z"
   },
   {
    "duration": 24,
    "start_time": "2021-10-04T16:02:33.753Z"
   },
   {
    "duration": 17,
    "start_time": "2021-10-04T16:03:07.486Z"
   },
   {
    "duration": 6,
    "start_time": "2021-10-04T16:06:50.492Z"
   },
   {
    "duration": 28,
    "start_time": "2021-10-04T16:06:50.942Z"
   },
   {
    "duration": 18,
    "start_time": "2021-10-04T16:06:51.223Z"
   },
   {
    "duration": 24,
    "start_time": "2021-10-04T16:06:52.241Z"
   },
   {
    "duration": 18,
    "start_time": "2021-10-04T16:06:52.893Z"
   },
   {
    "duration": 6,
    "start_time": "2021-10-04T16:07:11.429Z"
   },
   {
    "duration": 26,
    "start_time": "2021-10-04T16:07:11.926Z"
   },
   {
    "duration": 19,
    "start_time": "2021-10-04T16:07:12.736Z"
   },
   {
    "duration": 23,
    "start_time": "2021-10-04T16:07:13.101Z"
   },
   {
    "duration": 17,
    "start_time": "2021-10-04T16:07:13.355Z"
   },
   {
    "duration": 13,
    "start_time": "2021-10-04T16:11:58.568Z"
   },
   {
    "duration": 7,
    "start_time": "2021-10-04T16:12:10.261Z"
   },
   {
    "duration": 7,
    "start_time": "2021-10-04T16:13:54.675Z"
   },
   {
    "duration": 7,
    "start_time": "2021-10-04T16:16:02.820Z"
   },
   {
    "duration": 565,
    "start_time": "2021-10-07T18:03:31.484Z"
   },
   {
    "duration": 145,
    "start_time": "2021-10-07T18:03:32.052Z"
   },
   {
    "duration": 18,
    "start_time": "2021-10-07T18:03:32.200Z"
   },
   {
    "duration": 52,
    "start_time": "2021-10-07T18:03:32.220Z"
   },
   {
    "duration": 6,
    "start_time": "2021-10-07T18:03:32.274Z"
   },
   {
    "duration": 22,
    "start_time": "2021-10-07T18:03:32.282Z"
   },
   {
    "duration": 3,
    "start_time": "2021-10-07T18:03:32.306Z"
   },
   {
    "duration": 47,
    "start_time": "2021-10-07T18:03:32.312Z"
   },
   {
    "duration": 17,
    "start_time": "2021-10-07T18:03:32.362Z"
   },
   {
    "duration": 20,
    "start_time": "2021-10-07T18:03:32.381Z"
   },
   {
    "duration": 80,
    "start_time": "2021-10-07T18:03:32.403Z"
   },
   {
    "duration": 79,
    "start_time": "2021-10-07T18:03:32.485Z"
   },
   {
    "duration": 47,
    "start_time": "2021-10-07T18:03:32.567Z"
   },
   {
    "duration": 57,
    "start_time": "2021-10-07T18:03:32.615Z"
   },
   {
    "duration": 4,
    "start_time": "2021-10-07T18:03:32.674Z"
   },
   {
    "duration": 17,
    "start_time": "2021-10-07T18:03:32.679Z"
   },
   {
    "duration": 53,
    "start_time": "2021-10-07T18:03:32.698Z"
   },
   {
    "duration": 12,
    "start_time": "2021-10-07T18:03:32.754Z"
   },
   {
    "duration": 16,
    "start_time": "2021-10-07T18:03:32.767Z"
   },
   {
    "duration": 3,
    "start_time": "2021-10-07T18:03:32.784Z"
   },
   {
    "duration": 24,
    "start_time": "2021-10-07T18:03:32.789Z"
   },
   {
    "duration": 31,
    "start_time": "2021-10-07T18:03:32.815Z"
   },
   {
    "duration": 17,
    "start_time": "2021-10-07T18:03:32.850Z"
   },
   {
    "duration": 13,
    "start_time": "2021-10-07T18:03:32.869Z"
   },
   {
    "duration": 25,
    "start_time": "2021-10-07T18:03:32.883Z"
   },
   {
    "duration": 35,
    "start_time": "2021-10-07T18:03:32.910Z"
   },
   {
    "duration": 12,
    "start_time": "2021-10-07T18:03:32.948Z"
   },
   {
    "duration": 27,
    "start_time": "2021-10-07T18:03:32.962Z"
   },
   {
    "duration": 19,
    "start_time": "2021-10-07T18:03:32.991Z"
   },
   {
    "duration": 13,
    "start_time": "2021-10-07T18:03:33.012Z"
   },
   {
    "duration": 49,
    "start_time": "2021-10-07T18:03:33.027Z"
   },
   {
    "duration": 12,
    "start_time": "2021-10-07T18:03:33.078Z"
   },
   {
    "duration": 15,
    "start_time": "2021-10-07T18:03:33.091Z"
   },
   {
    "duration": 15,
    "start_time": "2021-10-07T18:03:33.108Z"
   },
   {
    "duration": 10,
    "start_time": "2021-10-07T18:03:33.125Z"
   },
   {
    "duration": 23,
    "start_time": "2021-10-07T18:03:33.137Z"
   },
   {
    "duration": 17,
    "start_time": "2021-10-07T18:03:33.162Z"
   },
   {
    "duration": 19,
    "start_time": "2021-10-07T18:03:33.180Z"
   },
   {
    "duration": 3,
    "start_time": "2021-10-07T18:03:40.105Z"
   },
   {
    "duration": 636,
    "start_time": "2021-10-07T18:03:46.481Z"
   },
   {
    "duration": 181,
    "start_time": "2021-10-07T18:03:47.118Z"
   },
   {
    "duration": 17,
    "start_time": "2021-10-07T18:03:47.301Z"
   },
   {
    "duration": 46,
    "start_time": "2021-10-07T18:03:47.320Z"
   },
   {
    "duration": 3,
    "start_time": "2021-10-07T18:03:47.368Z"
   },
   {
    "duration": 30,
    "start_time": "2021-10-07T18:03:47.373Z"
   },
   {
    "duration": 9,
    "start_time": "2021-10-07T18:03:47.405Z"
   },
   {
    "duration": 40,
    "start_time": "2021-10-07T18:03:47.416Z"
   },
   {
    "duration": 26,
    "start_time": "2021-10-07T18:03:47.459Z"
   },
   {
    "duration": 25,
    "start_time": "2021-10-07T18:03:47.488Z"
   },
   {
    "duration": 77,
    "start_time": "2021-10-07T18:03:47.515Z"
   },
   {
    "duration": 87,
    "start_time": "2021-10-07T18:03:47.594Z"
   },
   {
    "duration": 50,
    "start_time": "2021-10-07T18:03:47.683Z"
   },
   {
    "duration": 58,
    "start_time": "2021-10-07T18:03:47.735Z"
   },
   {
    "duration": 3,
    "start_time": "2021-10-07T18:03:47.795Z"
   },
   {
    "duration": 11,
    "start_time": "2021-10-07T18:03:47.800Z"
   },
   {
    "duration": 62,
    "start_time": "2021-10-07T18:03:47.813Z"
   },
   {
    "duration": 12,
    "start_time": "2021-10-07T18:03:47.877Z"
   },
   {
    "duration": 11,
    "start_time": "2021-10-07T18:03:47.890Z"
   },
   {
    "duration": 3,
    "start_time": "2021-10-07T18:03:47.903Z"
   },
   {
    "duration": 39,
    "start_time": "2021-10-07T18:03:47.908Z"
   },
   {
    "duration": 19,
    "start_time": "2021-10-07T18:03:47.949Z"
   },
   {
    "duration": 15,
    "start_time": "2021-10-07T18:03:47.971Z"
   },
   {
    "duration": 13,
    "start_time": "2021-10-07T18:03:47.988Z"
   },
   {
    "duration": 46,
    "start_time": "2021-10-07T18:03:48.002Z"
   },
   {
    "duration": 20,
    "start_time": "2021-10-07T18:03:48.050Z"
   },
   {
    "duration": 8,
    "start_time": "2021-10-07T18:03:48.072Z"
   },
   {
    "duration": 12,
    "start_time": "2021-10-07T18:03:48.082Z"
   },
   {
    "duration": 8,
    "start_time": "2021-10-07T18:03:48.096Z"
   },
   {
    "duration": 4,
    "start_time": "2021-10-07T18:03:48.106Z"
   },
   {
    "duration": 56,
    "start_time": "2021-10-07T18:03:48.111Z"
   },
   {
    "duration": 13,
    "start_time": "2021-10-07T18:03:48.168Z"
   },
   {
    "duration": 17,
    "start_time": "2021-10-07T18:03:48.182Z"
   },
   {
    "duration": 12,
    "start_time": "2021-10-07T18:03:48.201Z"
   },
   {
    "duration": 39,
    "start_time": "2021-10-07T18:03:48.214Z"
   },
   {
    "duration": 8,
    "start_time": "2021-10-07T18:03:48.256Z"
   },
   {
    "duration": 8,
    "start_time": "2021-10-07T18:03:48.265Z"
   },
   {
    "duration": 5,
    "start_time": "2021-10-07T18:03:48.275Z"
   },
   {
    "duration": 12,
    "start_time": "2021-10-07T19:03:06.583Z"
   },
   {
    "duration": 1037,
    "start_time": "2021-10-07T19:03:31.154Z"
   },
   {
    "duration": 21,
    "start_time": "2021-10-07T19:03:44.807Z"
   },
   {
    "duration": 745,
    "start_time": "2021-10-08T09:23:40.690Z"
   },
   {
    "duration": 196,
    "start_time": "2021-10-08T09:23:41.943Z"
   },
   {
    "duration": 28,
    "start_time": "2021-10-08T09:23:44.651Z"
   },
   {
    "duration": 16,
    "start_time": "2021-10-08T09:23:52.754Z"
   },
   {
    "duration": 36,
    "start_time": "2021-10-08T09:27:06.446Z"
   },
   {
    "duration": 5,
    "start_time": "2021-10-08T09:29:27.289Z"
   },
   {
    "duration": 27,
    "start_time": "2021-10-08T09:29:29.053Z"
   },
   {
    "duration": 5,
    "start_time": "2021-10-08T09:29:38.206Z"
   },
   {
    "duration": 31,
    "start_time": "2021-10-08T09:29:40.328Z"
   },
   {
    "duration": 24,
    "start_time": "2021-10-08T09:29:41.843Z"
   },
   {
    "duration": 30,
    "start_time": "2021-10-08T09:29:42.858Z"
   },
   {
    "duration": 84,
    "start_time": "2021-10-08T09:29:51.142Z"
   },
   {
    "duration": 101,
    "start_time": "2021-10-08T09:29:51.879Z"
   },
   {
    "duration": 80,
    "start_time": "2021-10-08T09:29:52.745Z"
   },
   {
    "duration": 59,
    "start_time": "2021-10-08T09:29:53.897Z"
   },
   {
    "duration": 4,
    "start_time": "2021-10-08T09:29:55.308Z"
   },
   {
    "duration": 14,
    "start_time": "2021-10-08T09:29:55.936Z"
   },
   {
    "duration": 58,
    "start_time": "2021-10-08T09:29:56.756Z"
   },
   {
    "duration": 17,
    "start_time": "2021-10-08T09:30:02.963Z"
   },
   {
    "duration": 16,
    "start_time": "2021-10-08T09:30:03.921Z"
   },
   {
    "duration": 4,
    "start_time": "2021-10-08T09:30:05.334Z"
   },
   {
    "duration": 24,
    "start_time": "2021-10-08T09:30:41.978Z"
   },
   {
    "duration": 21,
    "start_time": "2021-10-08T09:32:02.484Z"
   },
   {
    "duration": 21,
    "start_time": "2021-10-08T09:32:07.681Z"
   },
   {
    "duration": 95,
    "start_time": "2021-10-08T09:32:36.215Z"
   },
   {
    "duration": 21,
    "start_time": "2021-10-08T09:33:05.595Z"
   },
   {
    "duration": 20,
    "start_time": "2021-10-08T09:33:20.668Z"
   },
   {
    "duration": 19,
    "start_time": "2021-10-08T09:33:27.942Z"
   },
   {
    "duration": 20,
    "start_time": "2021-10-08T09:33:28.469Z"
   },
   {
    "duration": 19,
    "start_time": "2021-10-08T09:33:35.207Z"
   },
   {
    "duration": 19,
    "start_time": "2021-10-08T09:34:05.887Z"
   },
   {
    "duration": 19,
    "start_time": "2021-10-08T09:34:33.627Z"
   },
   {
    "duration": 21,
    "start_time": "2021-10-08T09:34:42.685Z"
   },
   {
    "duration": 22,
    "start_time": "2021-10-08T09:34:47.081Z"
   },
   {
    "duration": 21,
    "start_time": "2021-10-08T09:35:08.299Z"
   },
   {
    "duration": 19,
    "start_time": "2021-10-08T09:35:18.909Z"
   },
   {
    "duration": 21,
    "start_time": "2021-10-08T09:35:44.392Z"
   },
   {
    "duration": 22,
    "start_time": "2021-10-08T09:36:34.736Z"
   },
   {
    "duration": 24,
    "start_time": "2021-10-08T09:37:02.804Z"
   },
   {
    "duration": 29,
    "start_time": "2021-10-08T09:37:03.544Z"
   },
   {
    "duration": 12,
    "start_time": "2021-10-08T09:37:13.996Z"
   },
   {
    "duration": 15,
    "start_time": "2021-10-08T09:37:16.629Z"
   },
   {
    "duration": 12,
    "start_time": "2021-10-08T09:37:16.955Z"
   },
   {
    "duration": 6,
    "start_time": "2021-10-08T09:37:20.125Z"
   },
   {
    "duration": 6,
    "start_time": "2021-10-08T09:38:28.180Z"
   },
   {
    "duration": 27,
    "start_time": "2021-10-08T09:39:23.063Z"
   },
   {
    "duration": 18,
    "start_time": "2021-10-08T09:39:28.014Z"
   },
   {
    "duration": 23,
    "start_time": "2021-10-08T09:39:28.615Z"
   },
   {
    "duration": 17,
    "start_time": "2021-10-08T09:39:29.263Z"
   },
   {
    "duration": 12,
    "start_time": "2021-10-08T09:39:31.278Z"
   },
   {
    "duration": 7,
    "start_time": "2021-10-08T09:39:35.561Z"
   },
   {
    "duration": 9,
    "start_time": "2021-10-08T09:39:36.901Z"
   },
   {
    "duration": 7,
    "start_time": "2021-10-08T09:39:37.824Z"
   },
   {
    "duration": 515,
    "start_time": "2021-10-08T14:24:44.422Z"
   },
   {
    "duration": 136,
    "start_time": "2021-10-08T14:24:44.941Z"
   },
   {
    "duration": 21,
    "start_time": "2021-10-08T14:24:45.079Z"
   },
   {
    "duration": 22,
    "start_time": "2021-10-08T14:24:45.102Z"
   },
   {
    "duration": 5,
    "start_time": "2021-10-08T14:24:45.126Z"
   },
   {
    "duration": 26,
    "start_time": "2021-10-08T14:24:45.133Z"
   },
   {
    "duration": 3,
    "start_time": "2021-10-08T14:24:45.162Z"
   },
   {
    "duration": 42,
    "start_time": "2021-10-08T14:24:45.167Z"
   },
   {
    "duration": 18,
    "start_time": "2021-10-08T14:24:45.211Z"
   },
   {
    "duration": 22,
    "start_time": "2021-10-08T14:24:45.231Z"
   },
   {
    "duration": 79,
    "start_time": "2021-10-08T14:24:45.255Z"
   },
   {
    "duration": 76,
    "start_time": "2021-10-08T14:24:45.336Z"
   },
   {
    "duration": 48,
    "start_time": "2021-10-08T14:24:45.413Z"
   },
   {
    "duration": 50,
    "start_time": "2021-10-08T14:24:45.463Z"
   },
   {
    "duration": 3,
    "start_time": "2021-10-08T14:24:45.514Z"
   },
   {
    "duration": 17,
    "start_time": "2021-10-08T14:24:45.518Z"
   },
   {
    "duration": 47,
    "start_time": "2021-10-08T14:24:45.537Z"
   },
   {
    "duration": 21,
    "start_time": "2021-10-08T14:24:45.586Z"
   },
   {
    "duration": 10,
    "start_time": "2021-10-08T14:24:45.609Z"
   },
   {
    "duration": 3,
    "start_time": "2021-10-08T14:24:45.621Z"
   },
   {
    "duration": 23,
    "start_time": "2021-10-08T14:24:45.626Z"
   },
   {
    "duration": 14,
    "start_time": "2021-10-08T14:24:45.652Z"
   },
   {
    "duration": 38,
    "start_time": "2021-10-08T14:24:45.668Z"
   },
   {
    "duration": 11,
    "start_time": "2021-10-08T14:24:45.708Z"
   },
   {
    "duration": 15,
    "start_time": "2021-10-08T14:24:45.721Z"
   },
   {
    "duration": 12,
    "start_time": "2021-10-08T14:24:45.738Z"
   },
   {
    "duration": 7,
    "start_time": "2021-10-08T14:24:45.752Z"
   },
   {
    "duration": 43,
    "start_time": "2021-10-08T14:24:45.761Z"
   },
   {
    "duration": 9,
    "start_time": "2021-10-08T14:24:45.806Z"
   },
   {
    "duration": 4,
    "start_time": "2021-10-08T14:24:45.816Z"
   },
   {
    "duration": 27,
    "start_time": "2021-10-08T14:24:45.822Z"
   },
   {
    "duration": 13,
    "start_time": "2021-10-08T14:24:45.850Z"
   },
   {
    "duration": 35,
    "start_time": "2021-10-08T14:24:45.865Z"
   },
   {
    "duration": 11,
    "start_time": "2021-10-08T14:24:45.902Z"
   },
   {
    "duration": 7,
    "start_time": "2021-10-08T14:24:45.914Z"
   },
   {
    "duration": 6,
    "start_time": "2021-10-08T14:24:45.922Z"
   },
   {
    "duration": 10,
    "start_time": "2021-10-08T14:24:45.929Z"
   },
   {
    "duration": 11,
    "start_time": "2021-10-08T14:24:45.940Z"
   }
  ],
  "colab": {
   "collapsed_sections": [
    "E0vqbgi9ay0H",
    "VUC88oWjTJw2"
   ],
   "name": "yandex_music_project_2021.2.ipynb",
   "provenance": []
  },
  "kernelspec": {
   "display_name": "Python 3 (ipykernel)",
   "language": "python",
   "name": "python3"
  },
  "language_info": {
   "codemirror_mode": {
    "name": "ipython",
    "version": 3
   },
   "file_extension": ".py",
   "mimetype": "text/x-python",
   "name": "python",
   "nbconvert_exporter": "python",
   "pygments_lexer": "ipython3",
   "version": "3.9.5"
  },
  "toc": {
   "base_numbering": 1,
   "nav_menu": {},
   "number_sections": true,
   "sideBar": true,
   "skip_h1_title": true,
   "title_cell": "Table of Contents",
   "title_sidebar": "Contents",
   "toc_cell": false,
   "toc_position": {
    "height": "calc(100% - 180px)",
    "left": "10px",
    "top": "150px",
    "width": "165px"
   },
   "toc_section_display": true,
   "toc_window_display": false
  }
 },
 "nbformat": 4,
 "nbformat_minor": 1
}
