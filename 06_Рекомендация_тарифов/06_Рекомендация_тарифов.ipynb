{
 "cells": [
  {
   "cell_type": "markdown",
   "metadata": {},
   "source": [
    "# Рекомендация тарифов"
   ]
  },
  {
   "cell_type": "markdown",
   "metadata": {},
   "source": [
    "Заказчик исследования - оператор мобильной связи \"Мегалайн\". Оператор выяснил, что многие клиенты пользуются архивными тарифами, однако они хотели бы предложить им выбор из двух существующих: \"Смарт\" или \"Ультра\". Входные данные от компании -  данные о поведении клиентов, которые уже перешли на эти тарифы. Нужно построить модель для задачи классификации, которая выберет подходящий тариф. Предобработка данных не понадобится — мы её уже сделали.\n",
    "\n",
    "Результаты исследования будут использованы заказчиком в коммерческих целях.\n",
    "\n",
    "**Цель исследования**: построить модель, которая будет выбирать пользователю подходящий тариф\n",
    "\n",
    "Ход исследования:\n",
    "\n",
    "Входные данные от компании - статистика поведения пользователей за месяц. Данные прошли предварительную обработку данных, поэтому преодобработка не потребуется. Изучим данные и акцентируем внимание на построение качественной модели для классификации. Для выбора такой модели придется разбить данные на выборки, после чего исследовать различные варианты моделей. После этого проверим модель на тестовой выборке и, наконец, проверим её на адекватность.\n",
    "\n",
    "Таким образом, исследование пройдёт в 5 этапов:\n",
    "\n",
    "* 1. Изучение данных из файла.\n",
    "* 2. Разбиение данных на выборки.\n",
    "* 3. Исследование моделей.\n",
    "* 4. Проверка модели на тестовой выборке.\n",
    "* 5. Проверка модели на адекватность.\n"
   ]
  },
  {
   "cell_type": "markdown",
   "metadata": {},
   "source": [
    "## Изучение данных из файла"
   ]
  },
  {
   "cell_type": "markdown",
   "metadata": {},
   "source": [
    "Перед тем, как приступить к изучению данных из файла, импортируем все нужные для текущего исследования библиотеки и модули:"
   ]
  },
  {
   "cell_type": "code",
   "execution_count": 1,
   "metadata": {},
   "outputs": [],
   "source": [
    "import pandas as pd\n",
    "import seaborn as sns\n",
    "from sklearn.model_selection import train_test_split\n",
    "from sklearn.tree import DecisionTreeClassifier\n",
    "from sklearn.ensemble import RandomForestClassifier\n",
    "from sklearn.linear_model import LogisticRegression\n",
    "from sklearn.metrics import accuracy_score"
   ]
  },
  {
   "cell_type": "markdown",
   "metadata": {},
   "source": [
    "Прочитаем полученные данные и сохраним их в таблице `df`, после чего выведем на экран первые 5 строк:"
   ]
  },
  {
   "cell_type": "code",
   "execution_count": 2,
   "metadata": {},
   "outputs": [
    {
     "data": {
      "text/html": [
       "<div>\n",
       "<style scoped>\n",
       "    .dataframe tbody tr th:only-of-type {\n",
       "        vertical-align: middle;\n",
       "    }\n",
       "\n",
       "    .dataframe tbody tr th {\n",
       "        vertical-align: top;\n",
       "    }\n",
       "\n",
       "    .dataframe thead th {\n",
       "        text-align: right;\n",
       "    }\n",
       "</style>\n",
       "<table border=\"1\" class=\"dataframe\">\n",
       "  <thead>\n",
       "    <tr style=\"text-align: right;\">\n",
       "      <th></th>\n",
       "      <th>calls</th>\n",
       "      <th>minutes</th>\n",
       "      <th>messages</th>\n",
       "      <th>mb_used</th>\n",
       "      <th>is_ultra</th>\n",
       "    </tr>\n",
       "  </thead>\n",
       "  <tbody>\n",
       "    <tr>\n",
       "      <td>0</td>\n",
       "      <td>40.0</td>\n",
       "      <td>311.90</td>\n",
       "      <td>83.0</td>\n",
       "      <td>19915.42</td>\n",
       "      <td>0</td>\n",
       "    </tr>\n",
       "    <tr>\n",
       "      <td>1</td>\n",
       "      <td>85.0</td>\n",
       "      <td>516.75</td>\n",
       "      <td>56.0</td>\n",
       "      <td>22696.96</td>\n",
       "      <td>0</td>\n",
       "    </tr>\n",
       "    <tr>\n",
       "      <td>2</td>\n",
       "      <td>77.0</td>\n",
       "      <td>467.66</td>\n",
       "      <td>86.0</td>\n",
       "      <td>21060.45</td>\n",
       "      <td>0</td>\n",
       "    </tr>\n",
       "    <tr>\n",
       "      <td>3</td>\n",
       "      <td>106.0</td>\n",
       "      <td>745.53</td>\n",
       "      <td>81.0</td>\n",
       "      <td>8437.39</td>\n",
       "      <td>1</td>\n",
       "    </tr>\n",
       "    <tr>\n",
       "      <td>4</td>\n",
       "      <td>66.0</td>\n",
       "      <td>418.74</td>\n",
       "      <td>1.0</td>\n",
       "      <td>14502.75</td>\n",
       "      <td>0</td>\n",
       "    </tr>\n",
       "  </tbody>\n",
       "</table>\n",
       "</div>"
      ],
      "text/plain": [
       "   calls  minutes  messages   mb_used  is_ultra\n",
       "0   40.0   311.90      83.0  19915.42         0\n",
       "1   85.0   516.75      56.0  22696.96         0\n",
       "2   77.0   467.66      86.0  21060.45         0\n",
       "3  106.0   745.53      81.0   8437.39         1\n",
       "4   66.0   418.74       1.0  14502.75         0"
      ]
     },
     "execution_count": 2,
     "metadata": {},
     "output_type": "execute_result"
    }
   ],
   "source": [
    "df = pd.read_csv('/datasets/users_behavior.csv')\n",
    "df.head(5)"
   ]
  },
  {
   "cell_type": "markdown",
   "metadata": {},
   "source": [
    "Получим общую информацию о таблице:"
   ]
  },
  {
   "cell_type": "code",
   "execution_count": 3,
   "metadata": {},
   "outputs": [
    {
     "name": "stdout",
     "output_type": "stream",
     "text": [
      "<class 'pandas.core.frame.DataFrame'>\n",
      "RangeIndex: 3214 entries, 0 to 3213\n",
      "Data columns (total 5 columns):\n",
      "calls       3214 non-null float64\n",
      "minutes     3214 non-null float64\n",
      "messages    3214 non-null float64\n",
      "mb_used     3214 non-null float64\n",
      "is_ultra    3214 non-null int64\n",
      "dtypes: float64(4), int64(1)\n",
      "memory usage: 125.7 KB\n"
     ]
    }
   ],
   "source": [
    "df.info()"
   ]
  },
  {
   "cell_type": "markdown",
   "metadata": {},
   "source": [
    "В таблице имеется 3214 строк и 5 столбцов. 4 из этих столбцов имеют тип `float`, 1 - `int`. Как нам известно, данные уже обработаны и в их качестве в текущем исследовании можно не сомневаться, значит, предобработка не потребуется. Согласно документации к данным:\n",
    "\n",
    "* `сalls` — количество звонков;\n",
    "* `minutes` — суммарная длительность звонков в минутах;\n",
    "* `messages` — количество sms-сообщений;\n",
    "* `mb_used` — израсходованный интернет-трафик в Мб;\n",
    "* `is_ultra` — каким тарифом пользовался в течение месяца («Ультра» — 1, «Смарт» — 0)."
   ]
  },
  {
   "cell_type": "markdown",
   "metadata": {},
   "source": [
    "Посмотрим на корреляции в данных и их распределения. Для этого применим специальный метод библиотеки `seaborn`:"
   ]
  },
  {
   "cell_type": "code",
   "execution_count": 4,
   "metadata": {},
   "outputs": [
    {
     "name": "stderr",
     "output_type": "stream",
     "text": [
      "/opt/conda/lib/python3.7/site-packages/statsmodels/nonparametric/kde.py:487: RuntimeWarning: invalid value encountered in true_divide\n",
      "  binned = fast_linbin(X, a, b, gridsize) / (delta * nobs)\n",
      "/opt/conda/lib/python3.7/site-packages/statsmodels/nonparametric/kdetools.py:34: RuntimeWarning: invalid value encountered in double_scalars\n",
      "  FAC1 = 2*(np.pi*bw/RANGE)**2\n"
     ]
    },
    {
     "data": {
      "text/plain": [
       "<seaborn.axisgrid.PairGrid at 0x7fdf286bfcd0>"
      ]
     },
     "execution_count": 4,
     "metadata": {},
     "output_type": "execute_result"
    },
    {
     "data": {
      "image/png": "[encoded data removed]",
      "text/plain": [
       "<Figure size 764.5x720 with 30 Axes>"
      ]
     },
     "metadata": {
      "needs_background": "light"
     },
     "output_type": "display_data"
    }
   ],
   "source": [
    "sns.pairplot(df, hue='is_ultra', height=2)"
   ]
  },
  {
   "cell_type": "markdown",
   "metadata": {},
   "source": [
    "Видно, что пользователи различных тарифов отличаются своим поведением. Пользователи \"Ультра\" в среднем используют свои пакеты услуг в большей степени, и это логично, ведь сам тариф подразмевает это. Видна сильная зависимость между количеством звонов и их продолжительностью. Это говорит о том, что средние продолжительности звонков у пользователей стремятся к некоторому единому среднему, а выбросов, где пользователь совершает 100 звонков, но их продолжительность в сумме даёт 4 минуты, нет. "
   ]
  },
  {
   "cell_type": "markdown",
   "metadata": {},
   "source": [
    "### Вывод"
   ]
  },
  {
   "cell_type": "markdown",
   "metadata": {},
   "source": [
    "В таблице имеются данные по 3214 пользователям \"Мегалайна\". Для каждого из них представлена месячная статистика основных параметров тарифов: количество звонков, их длительность, количество отправленных сообщений, использованный трафик и их тариф (\"Смарт\" или \"Ультра). Можно утверждать, что выборка достаточна для построения качественной модели классификации. Поведение пользователей двух тарифов отличается, что демонстрируют построенные графики. Предобработка данных не потребуется, поэтому можем переходить к разбиению данных на выборки."
   ]
  },
  {
   "cell_type": "markdown",
   "metadata": {},
   "source": [
    "## Разбиение данных на выборки"
   ]
  },
  {
   "cell_type": "markdown",
   "metadata": {},
   "source": [
    "Перед разбиением данных на выборки необходимо организовать 2 переменные, где в первой будут храниться наши признаки, а во второй - целевой признак:"
   ]
  },
  {
   "cell_type": "code",
   "execution_count": 5,
   "metadata": {},
   "outputs": [],
   "source": [
    "features = df.drop(['is_ultra'], axis=1)\n",
    "target = df['is_ultra']"
   ]
  },
  {
   "cell_type": "markdown",
   "metadata": {},
   "source": [
    "Теперь данные необходимо разбить на 3 выборки: обучающую, валидационную и тестовую. Для этого используем стандартные правила разбиения для такого случая: пропорцию 3:1:1:"
   ]
  },
  {
   "cell_type": "code",
   "execution_count": 6,
   "metadata": {},
   "outputs": [],
   "source": [
    "#разбиваем features и target на три выборки в пропорции 60%:20%:20% и заданным случайное значение 28 тут и далее\n",
    "RANDOM_STATE = 28\n",
    "features_train, features_valid, target_train, target_valid = train_test_split(features, target, \n",
    "                                                                              test_size=0.2, random_state=RANDOM_STATE)\n",
    "features_train, features_test, target_train, target_test = train_test_split(features_train, target_train, \n",
    "                                                                              test_size=0.2, random_state=RANDOM_STATE)"
   ]
  },
  {
   "cell_type": "markdown",
   "metadata": {},
   "source": [
    "### Вывод"
   ]
  },
  {
   "cell_type": "markdown",
   "metadata": {},
   "source": [
    "Мы разбили наши данные на 3 выборки: обучающую, валидационную и тестовую в пропорции 3:1:1. Данные выборки потребуются нам для обучения модели и её проверках. Теперь необходимо исследовать различные модели классификации, чтобы далее выбрать наиболее оптимальную под исследование."
   ]
  },
  {
   "cell_type": "markdown",
   "metadata": {},
   "source": [
    "## Исследование моделей"
   ]
  },
  {
   "cell_type": "markdown",
   "metadata": {},
   "source": [
    "Нам предстоит выбрать подходящую модель классификации из трёх вариантов: дерево решений, лес решений, логистическая регрессия. Начнём построение моделей с дерева решений. Для этого воспользуемся специальным модулем библиотеки `sklearn`. Чтобы понять, какая глубина будет для дерева оптимальной, применим цикл:"
   ]
  },
  {
   "cell_type": "code",
   "execution_count": 7,
   "metadata": {},
   "outputs": [
    {
     "name": "stdout",
     "output_type": "stream",
     "text": [
      "Наилучшее дерево решений имеет глубину: 3 и её accuracy составляет: 0.80248833592535\n"
     ]
    }
   ],
   "source": [
    "#зададим нулевые гиперпараметры для лучшей модели, максимальной глубины дерева и лучшего accuracy_score\n",
    "best_model_tree = None\n",
    "best_depth_tree = 0\n",
    "best_result_tree = 0\n",
    "#с помощью цикла переберём модели по глубине дерева и выявим наилучшую по accuracy_score\n",
    "for depth in range(1, 5):\n",
    "    model = DecisionTreeClassifier(random_state=RANDOM_STATE, max_depth=depth)\n",
    "    model.fit(features_train, target_train)\n",
    "    predictions = model.predict(features_valid)\n",
    "    result = accuracy_score(target_valid, predictions)\n",
    "    #наилучшую модель сохраняем\n",
    "    if result > best_result_tree:\n",
    "        best_model_tree = model\n",
    "        best_depth_tree = depth\n",
    "        best_result_tree = result\n",
    "print('Наилучшее дерево решений имеет глубину:', best_depth_tree, \"и её accuracy составляет:\", best_result_tree)"
   ]
  },
  {
   "cell_type": "markdown",
   "metadata": {},
   "source": [
    "У нас имелось 4 признака, но наилучшее дерево решений применяет лишь 3 из них. Вероятно, один из факторов является для него незначимым. `Accuracy_score` равен чуть более 0.8, что является хорошим показателем для модели, однако выводы делать рано - далее построим модель леса решений. "
   ]
  },
  {
   "cell_type": "code",
   "execution_count": 8,
   "metadata": {},
   "outputs": [
    {
     "name": "stdout",
     "output_type": "stream",
     "text": [
      "Наилучший лес решений имеет глубину: 4 , критерий: gini , число деревьев: 22 и его accuracy составляет: 0.8149300155520995\n"
     ]
    }
   ],
   "source": [
    "#зададим нулевые гиперпараметры для лучшей модели, максимальной глубины каждого дерева, критерия, количества деревьев и accuracy\n",
    "best_model_forest = None\n",
    "best_depth_forest = 0\n",
    "best_result_forest = 0\n",
    "best_est_forest = 0\n",
    "best_criterion_forest = None\n",
    "#с помощью вложенного цикла переберём различные гиперпараметры и выявим наилучшую модель по accuracy\n",
    "for crit in ['gini', 'entropy']:\n",
    "    for est in range(1, 30):\n",
    "        for depth in range(1, 5):\n",
    "            model = RandomForestClassifier(random_state=RANDOM_STATE, criterion=crit,\n",
    "                                          max_depth=depth, n_estimators=est)\n",
    "            model.fit(features_train, target_train)\n",
    "            predictions = model.predict(features_valid)\n",
    "            result = accuracy_score(target_valid, predictions)\n",
    "            #наилучшую модель сохраняем\n",
    "            if result > best_result_forest:\n",
    "                best_model_forest = model\n",
    "                best_depth_forest = depth\n",
    "                best_result_forest = result\n",
    "                best_est_forest = est\n",
    "                best_criterion_forest = crit\n",
    "print('Наилучший лес решений имеет глубину:', best_depth_forest,',', 'критерий:', best_criterion_forest,',', 'число деревьев:',\n",
    "     best_est_forest, 'и его accuracy составляет:', best_result_forest)"
   ]
  },
  {
   "cell_type": "markdown",
   "metadata": {},
   "source": [
    "Получили, что для леса решений максимальная глубина каждого дерева 4, деревьев 22 и критерий используется Джини. При этом, `accuracy_score` у леса оказывается выше, чем у дерева решений: 0.814. Остаётся проверить только модель логистической регрессии:"
   ]
  },
  {
   "cell_type": "code",
   "execution_count": 9,
   "metadata": {},
   "outputs": [
    {
     "name": "stdout",
     "output_type": "stream",
     "text": [
      "Модель логистической регрессии имеет accuracy_score: 0.7200622083981337\n"
     ]
    }
   ],
   "source": [
    "model = LogisticRegression(random_state=RANDOM_STATE, solver='lbfgs')\n",
    "model.fit(features_train, target_train)\n",
    "predictions = model.predict(features_valid)\n",
    "result = accuracy_score(target_valid, predictions)\n",
    "print('Модель логистической регрессии имеет accuracy_score:', result)"
   ]
  },
  {
   "cell_type": "markdown",
   "metadata": {},
   "source": [
    "### Вывод"
   ]
  },
  {
   "cell_type": "markdown",
   "metadata": {},
   "source": [
    "Таким образом, получили три различных модели и их `accuracy_score`. Наихудший показатель представлен у модели логистической регрессии - 0.72. Далее по возрастанию идёт модель дерева решений с показателем в 0.8, но наилучший результат был достигнут у леса решений, и он составил 0.814. Возможно, это связано с тем, что именно дереву решений было дано больший разброс в гиперпараметрах для подбора качественной модели. Далее нужно модель леса решений проверить на тестовой выборке и убедиться, что она адекватна."
   ]
  },
  {
   "cell_type": "markdown",
   "metadata": {},
   "source": [
    "## Проверка модели на тестовой выборке"
   ]
  },
  {
   "cell_type": "markdown",
   "metadata": {},
   "source": [
    "Возьмём наш лес решений с наиболее оптимальными параметрами, которые нам уже известны, и проверим модель на тестовой выборке:"
   ]
  },
  {
   "cell_type": "code",
   "execution_count": 10,
   "metadata": {},
   "outputs": [
    {
     "name": "stdout",
     "output_type": "stream",
     "text": [
      "Accuracy случайного леса на тестовой выборке составил: 0.8038834951456311\n"
     ]
    }
   ],
   "source": [
    "model = RandomForestClassifier(random_state=RANDOM_STATE, criterion='entropy', max_depth=4, n_estimators=3)\n",
    "model.fit(features_train, target_train)\n",
    "predictions = model.predict(features_test)\n",
    "result = accuracy_score(target_test, predictions)\n",
    "print('Accuracy случайного леса на тестовой выборке составил:', result)"
   ]
  },
  {
   "cell_type": "markdown",
   "metadata": {},
   "source": [
    "### Вывод"
   ]
  },
  {
   "cell_type": "markdown",
   "metadata": {},
   "source": [
    "`Accuracy_score` леса решений на тестовой выборке составил 0.803, что чуть ниже, чем на валидационной выборке. Следовательно, наша модель успешно прошла все тесты и может использоваться для предсказания лучшего тарифа для пользователя. Мы не выявили у неё ни переобучения, ни недоучения. Однако, дополнительно мы можем в завершении проверить модель на адекватность."
   ]
  },
  {
   "cell_type": "markdown",
   "metadata": {},
   "source": [
    "## Проверка модели на адекватность"
   ]
  },
  {
   "cell_type": "markdown",
   "metadata": {},
   "source": [
    "Чтобы проверить модель на адекватность, сравним её `accuracy_score` со случайной моделью:"
   ]
  },
  {
   "cell_type": "code",
   "execution_count": 11,
   "metadata": {},
   "outputs": [
    {
     "name": "stdout",
     "output_type": "stream",
     "text": [
      "Accuracy случайной модели на тестовой выборке составил: 0.8\n"
     ]
    },
    {
     "name": "stderr",
     "output_type": "stream",
     "text": [
      "/opt/conda/lib/python3.7/site-packages/sklearn/ensemble/forest.py:245: FutureWarning: The default value of n_estimators will change from 10 in version 0.20 to 100 in 0.22.\n",
      "  \"10 in version 0.20 to 100 in 0.22.\", FutureWarning)\n"
     ]
    }
   ],
   "source": [
    "model = RandomForestClassifier()\n",
    "model.fit(features_train, target_train)\n",
    "predictions = model.predict(features_test)\n",
    "result = accuracy_score(target_test, predictions)\n",
    "print('Accuracy случайной модели на тестовой выборке составил:', result)"
   ]
  },
  {
   "cell_type": "markdown",
   "metadata": {},
   "source": [
    "### Вывод"
   ]
  },
  {
   "cell_type": "markdown",
   "metadata": {},
   "source": [
    "`Accuracy_score` в нашей модели леса решений при проверке на тестовой выборке составил 0.803, когда случайная модель даёт значение 0.782. В целом, это хорошие качественные результаты, поэтому можем говорить об адекватности выбранной модели."
   ]
  },
  {
   "cell_type": "markdown",
   "metadata": {},
   "source": [
    "## Вывод"
   ]
  },
  {
   "cell_type": "markdown",
   "metadata": {},
   "source": [
    "В исследовании было необходимо построить модель, которая сможет выбирать пользователям подходящий тариф \"Смарт\" или \"Ультра\". Для этого было решено проверить три модели:\n",
    "\n",
    "* Дерево решений - accuracy 0.802\n",
    "* Лес решений - accuracy 0.814\n",
    "* Логистическая регрессия - accuracy 0.72\n",
    "\n",
    "Таким образом, для дальнейших тестов был выбран лес решений, который показал хорошие результаты на тестовой выборке. В данном случае accuracy составил 0.803. Также модель прошла проверка на адекватность, доказав своё превосходство перед случайной моделью. Компания \"Мегалайн\" может спокойно использовать лес решений и получать минимальное количество ошибок при выборке для пользователя подходящего тарифа."
   ]
  }
 ],
 "metadata": {
  "ExecuteTimeLog": [
   {
    "duration": 1251,
    "start_time": "2022-02-13T08:08:26.246Z"
   },
   {
    "duration": 198,
    "start_time": "2022-02-13T08:08:34.321Z"
   },
   {
    "duration": 34,
    "start_time": "2022-02-13T08:08:38.397Z"
   },
   {
    "duration": 28,
    "start_time": "2022-02-13T08:09:21.370Z"
   },
   {
    "duration": 20,
    "start_time": "2022-02-13T08:09:26.601Z"
   },
   {
    "duration": 7,
    "start_time": "2022-02-13T08:10:04.317Z"
   },
   {
    "duration": 4,
    "start_time": "2022-02-13T08:20:06.235Z"
   },
   {
    "duration": 3,
    "start_time": "2022-02-13T08:20:19.719Z"
   },
   {
    "duration": 6,
    "start_time": "2022-02-13T08:25:33.184Z"
   },
   {
    "duration": 191,
    "start_time": "2022-02-13T08:28:39.152Z"
   },
   {
    "duration": 6,
    "start_time": "2022-02-13T08:28:45.519Z"
   },
   {
    "duration": 11,
    "start_time": "2022-02-13T08:30:14.320Z"
   },
   {
    "duration": 10,
    "start_time": "2022-02-13T08:30:20.503Z"
   },
   {
    "duration": 11,
    "start_time": "2022-02-13T08:30:24.136Z"
   },
   {
    "duration": 7,
    "start_time": "2022-02-13T08:32:32.568Z"
   },
   {
    "duration": 8,
    "start_time": "2022-02-13T08:33:29.775Z"
   },
   {
    "duration": 214,
    "start_time": "2022-02-13T08:43:15.612Z"
   },
   {
    "duration": 193,
    "start_time": "2022-02-13T08:43:28.396Z"
   },
   {
    "duration": 218,
    "start_time": "2022-02-13T08:43:42.302Z"
   },
   {
    "duration": 31,
    "start_time": "2022-02-13T08:44:22.311Z"
   },
   {
    "duration": 248,
    "start_time": "2022-02-13T08:46:06.517Z"
   },
   {
    "duration": 27,
    "start_time": "2022-02-13T08:46:20.134Z"
   },
   {
    "duration": 21,
    "start_time": "2022-02-13T08:46:46.438Z"
   },
   {
    "duration": 22,
    "start_time": "2022-02-13T08:47:35.382Z"
   },
   {
    "duration": 22,
    "start_time": "2022-02-13T08:47:39.021Z"
   },
   {
    "duration": 22,
    "start_time": "2022-02-13T08:47:46.358Z"
   },
   {
    "duration": 1010,
    "start_time": "2022-02-13T08:48:07.231Z"
   },
   {
    "duration": 25,
    "start_time": "2022-02-13T08:48:08.243Z"
   },
   {
    "duration": 6,
    "start_time": "2022-02-13T08:48:08.270Z"
   },
   {
    "duration": 5,
    "start_time": "2022-02-13T08:48:08.278Z"
   },
   {
    "duration": 8,
    "start_time": "2022-02-13T08:48:08.285Z"
   },
   {
    "duration": 298,
    "start_time": "2022-02-13T08:48:08.294Z"
   },
   {
    "duration": 21,
    "start_time": "2022-02-13T08:48:15.784Z"
   },
   {
    "duration": 21,
    "start_time": "2022-02-13T08:49:34.721Z"
   },
   {
    "duration": 1300,
    "start_time": "2022-02-14T13:13:37.107Z"
   },
   {
    "duration": 38,
    "start_time": "2022-02-14T13:13:38.410Z"
   },
   {
    "duration": 9,
    "start_time": "2022-02-14T13:13:38.452Z"
   },
   {
    "duration": 9,
    "start_time": "2022-02-14T13:13:38.464Z"
   },
   {
    "duration": 11,
    "start_time": "2022-02-14T13:13:38.476Z"
   },
   {
    "duration": 70,
    "start_time": "2022-02-14T13:13:38.490Z"
   },
   {
    "duration": 498,
    "start_time": "2022-02-14T13:25:58.890Z"
   },
   {
    "duration": 11260,
    "start_time": "2022-02-14T13:26:07.088Z"
   },
   {
    "duration": 11022,
    "start_time": "2022-02-14T13:27:04.545Z"
   },
   {
    "duration": 94272,
    "start_time": "2022-02-14T13:27:51.521Z"
   },
   {
    "duration": 10809,
    "start_time": "2022-02-14T13:29:50.479Z"
   },
   {
    "duration": 34,
    "start_time": "2022-02-14T13:32:51.463Z"
   },
   {
    "duration": 27,
    "start_time": "2022-02-14T13:34:05.984Z"
   },
   {
    "duration": 628,
    "start_time": "2022-02-14T13:34:30.696Z"
   },
   {
    "duration": 29,
    "start_time": "2022-02-14T13:34:55.912Z"
   },
   {
    "duration": 3,
    "start_time": "2022-02-14T13:37:20.833Z"
   },
   {
    "duration": 26,
    "start_time": "2022-02-14T13:37:28.864Z"
   },
   {
    "duration": 29,
    "start_time": "2022-02-14T13:37:32.974Z"
   },
   {
    "duration": 4,
    "start_time": "2022-02-14T13:37:38.607Z"
   },
   {
    "duration": 28,
    "start_time": "2022-02-14T13:38:06.696Z"
   },
   {
    "duration": 1548,
    "start_time": "2022-02-14T13:39:02.724Z"
   },
   {
    "duration": 111,
    "start_time": "2022-02-14T13:39:04.282Z"
   },
   {
    "duration": 79,
    "start_time": "2022-02-14T13:39:04.406Z"
   },
   {
    "duration": 74,
    "start_time": "2022-02-14T13:39:04.489Z"
   },
   {
    "duration": 18,
    "start_time": "2022-02-14T13:39:04.566Z"
   },
   {
    "duration": 39,
    "start_time": "2022-02-14T13:39:04.587Z"
   },
   {
    "duration": 11333,
    "start_time": "2022-02-14T13:39:04.629Z"
   },
   {
    "duration": 27,
    "start_time": "2022-02-14T13:39:15.965Z"
   },
   {
    "duration": 25,
    "start_time": "2022-02-14T13:40:36.473Z"
   },
   {
    "duration": 26,
    "start_time": "2022-02-14T13:41:13.160Z"
   },
   {
    "duration": 390,
    "start_time": "2022-02-14T13:42:18.063Z"
   },
   {
    "duration": 462,
    "start_time": "2022-02-14T13:47:07.430Z"
   },
   {
    "duration": 339,
    "start_time": "2022-02-14T13:47:31.014Z"
   },
   {
    "duration": 446,
    "start_time": "2022-02-14T13:48:21.512Z"
   },
   {
    "duration": 346,
    "start_time": "2022-02-14T13:49:01.775Z"
   },
   {
    "duration": 26,
    "start_time": "2022-02-14T13:49:13.199Z"
   },
   {
    "duration": 24,
    "start_time": "2022-02-14T13:49:27.049Z"
   },
   {
    "duration": 21,
    "start_time": "2022-02-14T13:51:19.647Z"
   },
   {
    "duration": 74,
    "start_time": "2022-02-14T13:58:12.923Z"
   },
   {
    "duration": 82,
    "start_time": "2022-02-14T13:59:10.070Z"
   },
   {
    "duration": 76,
    "start_time": "2022-02-14T13:59:12.798Z"
   },
   {
    "duration": 75,
    "start_time": "2022-02-14T13:59:15.622Z"
   },
   {
    "duration": 962,
    "start_time": "2022-02-14T16:03:22.286Z"
   },
   {
    "duration": 29,
    "start_time": "2022-02-14T16:03:23.250Z"
   },
   {
    "duration": 7,
    "start_time": "2022-02-14T16:03:23.281Z"
   },
   {
    "duration": 6,
    "start_time": "2022-02-14T16:03:23.289Z"
   },
   {
    "duration": 9,
    "start_time": "2022-02-14T16:03:23.297Z"
   },
   {
    "duration": 32,
    "start_time": "2022-02-14T16:03:23.307Z"
   },
   {
    "duration": 6486,
    "start_time": "2022-02-14T16:03:23.341Z"
   },
   {
    "duration": 200,
    "start_time": "2022-02-14T16:03:29.829Z"
   },
   {
    "duration": 101,
    "start_time": "2022-02-14T16:03:30.031Z"
   },
   {
    "duration": 49,
    "start_time": "2022-02-14T16:03:30.134Z"
   },
   {
    "duration": 8,
    "start_time": "2022-02-14T16:04:40.703Z"
   },
   {
    "duration": 19,
    "start_time": "2022-02-14T16:04:42.874Z"
   },
   {
    "duration": 6037,
    "start_time": "2022-02-14T16:04:44.554Z"
   },
   {
    "duration": 18,
    "start_time": "2022-02-14T16:04:50.593Z"
   },
   {
    "duration": 24,
    "start_time": "2022-02-14T16:04:50.613Z"
   },
   {
    "duration": 9504,
    "start_time": "2022-02-14T16:07:42.746Z"
   },
   {
    "duration": 13,
    "start_time": "2022-02-14T16:08:35.753Z"
   },
   {
    "duration": 13,
    "start_time": "2022-02-14T16:08:36.769Z"
   },
   {
    "duration": 14,
    "start_time": "2022-02-14T16:08:37.729Z"
   },
   {
    "duration": 14,
    "start_time": "2022-02-14T16:08:41.369Z"
   },
   {
    "duration": 13,
    "start_time": "2022-02-14T16:09:22.385Z"
   },
   {
    "duration": 43,
    "start_time": "2022-02-14T16:10:05.275Z"
   },
   {
    "duration": 42,
    "start_time": "2022-02-14T16:10:07.281Z"
   },
   {
    "duration": 41,
    "start_time": "2022-02-14T16:10:11.978Z"
   },
   {
    "duration": 48,
    "start_time": "2022-02-14T16:10:12.706Z"
   },
   {
    "duration": 43,
    "start_time": "2022-02-14T16:10:13.417Z"
   },
   {
    "duration": 44,
    "start_time": "2022-02-14T16:10:14.040Z"
   },
   {
    "duration": 42,
    "start_time": "2022-02-14T16:10:14.740Z"
   },
   {
    "duration": 43,
    "start_time": "2022-02-14T16:10:15.489Z"
   },
   {
    "duration": 1327,
    "start_time": "2022-02-14T17:03:48.659Z"
   },
   {
    "duration": 38,
    "start_time": "2022-02-14T17:03:49.989Z"
   },
   {
    "duration": 10,
    "start_time": "2022-02-14T17:03:50.030Z"
   },
   {
    "duration": 17,
    "start_time": "2022-02-14T17:03:50.042Z"
   },
   {
    "duration": 10,
    "start_time": "2022-02-14T17:03:50.062Z"
   },
   {
    "duration": 16,
    "start_time": "2022-02-14T17:03:52.197Z"
   },
   {
    "duration": 16,
    "start_time": "2022-02-14T17:03:54.220Z"
   },
   {
    "duration": 1217,
    "start_time": "2022-02-15T06:57:49.647Z"
   },
   {
    "duration": 278,
    "start_time": "2022-02-15T06:58:08.092Z"
   },
   {
    "duration": 3,
    "start_time": "2022-02-15T06:58:12.613Z"
   },
   {
    "duration": 22,
    "start_time": "2022-02-15T06:58:13.227Z"
   },
   {
    "duration": 7,
    "start_time": "2022-02-15T06:58:13.619Z"
   },
   {
    "duration": 8042,
    "start_time": "2022-02-15T06:58:14.274Z"
   },
   {
    "duration": 7371,
    "start_time": "2022-02-15T06:59:57.204Z"
   },
   {
    "duration": 7205,
    "start_time": "2022-02-15T07:00:23.972Z"
   },
   {
    "duration": -1722,
    "start_time": "2022-02-15T07:01:40.735Z"
   },
   {
    "duration": 4157,
    "start_time": "2022-02-15T07:01:49.147Z"
   },
   {
    "duration": 20,
    "start_time": "2022-02-15T07:02:00.417Z"
   },
   {
    "duration": 7,
    "start_time": "2022-02-15T07:02:00.795Z"
   },
   {
    "duration": 4042,
    "start_time": "2022-02-15T07:02:01.500Z"
   },
   {
    "duration": 9293,
    "start_time": "2022-02-15T07:02:11.924Z"
   },
   {
    "duration": 305,
    "start_time": "2022-02-15T07:03:42.083Z"
   },
   {
    "duration": 9222,
    "start_time": "2022-02-15T07:04:15.231Z"
   },
   {
    "duration": 8919,
    "start_time": "2022-02-15T07:04:29.811Z"
   },
   {
    "duration": 8695,
    "start_time": "2022-02-15T07:05:30.854Z"
   },
   {
    "duration": 9796,
    "start_time": "2022-02-15T07:05:43.763Z"
   },
   {
    "duration": 188,
    "start_time": "2022-02-15T07:17:04.161Z"
   },
   {
    "duration": 1198,
    "start_time": "2022-02-15T07:17:11.129Z"
   },
   {
    "duration": 23,
    "start_time": "2022-02-15T07:17:12.329Z"
   },
   {
    "duration": 7,
    "start_time": "2022-02-15T07:17:12.358Z"
   },
   {
    "duration": 9121,
    "start_time": "2022-02-15T07:17:12.367Z"
   },
   {
    "duration": 5,
    "start_time": "2022-02-15T07:17:21.490Z"
   },
   {
    "duration": 8,
    "start_time": "2022-02-15T07:17:21.498Z"
   },
   {
    "duration": 21,
    "start_time": "2022-02-15T07:17:21.508Z"
   },
   {
    "duration": 6428,
    "start_time": "2022-02-15T07:17:21.532Z"
   },
   {
    "duration": 19,
    "start_time": "2022-02-15T07:17:27.962Z"
   },
   {
    "duration": 7,
    "start_time": "2022-02-15T07:17:27.983Z"
   },
   {
    "duration": 263,
    "start_time": "2022-02-15T07:17:27.992Z"
   },
   {
    "duration": -1692,
    "start_time": "2022-02-15T07:17:29.949Z"
   },
   {
    "duration": 5,
    "start_time": "2022-02-15T07:18:26.902Z"
   },
   {
    "duration": 185,
    "start_time": "2022-02-15T07:18:27.741Z"
   },
   {
    "duration": 177,
    "start_time": "2022-02-15T07:18:55.105Z"
   },
   {
    "duration": 190,
    "start_time": "2022-02-15T07:18:55.817Z"
   },
   {
    "duration": 1193,
    "start_time": "2022-02-15T07:19:00.462Z"
   },
   {
    "duration": 22,
    "start_time": "2022-02-15T07:19:01.656Z"
   },
   {
    "duration": 28,
    "start_time": "2022-02-15T07:19:01.680Z"
   },
   {
    "duration": 9120,
    "start_time": "2022-02-15T07:19:01.710Z"
   },
   {
    "duration": 5,
    "start_time": "2022-02-15T07:19:10.831Z"
   },
   {
    "duration": 11,
    "start_time": "2022-02-15T07:19:10.837Z"
   },
   {
    "duration": 20,
    "start_time": "2022-02-15T07:19:10.859Z"
   },
   {
    "duration": 6408,
    "start_time": "2022-02-15T07:19:10.882Z"
   },
   {
    "duration": 21,
    "start_time": "2022-02-15T07:19:17.292Z"
   },
   {
    "duration": 321,
    "start_time": "2022-02-15T07:19:17.315Z"
   },
   {
    "duration": -1687,
    "start_time": "2022-02-15T07:19:19.325Z"
   },
   {
    "duration": -1692,
    "start_time": "2022-02-15T07:19:19.332Z"
   },
   {
    "duration": 199,
    "start_time": "2022-02-15T07:19:28.807Z"
   },
   {
    "duration": 181,
    "start_time": "2022-02-15T07:20:25.238Z"
   },
   {
    "duration": 1471,
    "start_time": "2022-02-15T07:20:31.673Z"
   },
   {
    "duration": 22,
    "start_time": "2022-02-15T07:20:33.146Z"
   },
   {
    "duration": 6,
    "start_time": "2022-02-15T07:20:33.169Z"
   },
   {
    "duration": 8947,
    "start_time": "2022-02-15T07:20:33.177Z"
   },
   {
    "duration": 4,
    "start_time": "2022-02-15T07:20:42.126Z"
   },
   {
    "duration": 11,
    "start_time": "2022-02-15T07:20:42.131Z"
   },
   {
    "duration": 33,
    "start_time": "2022-02-15T07:20:42.144Z"
   },
   {
    "duration": 6501,
    "start_time": "2022-02-15T07:20:42.179Z"
   },
   {
    "duration": 21,
    "start_time": "2022-02-15T07:20:48.683Z"
   },
   {
    "duration": 15,
    "start_time": "2022-02-15T07:20:48.706Z"
   },
   {
    "duration": 74,
    "start_time": "2022-02-15T07:20:48.723Z"
   },
   {
    "duration": 1496,
    "start_time": "2022-02-15T08:28:21.652Z"
   },
   {
    "duration": 29,
    "start_time": "2022-02-15T08:28:23.151Z"
   },
   {
    "duration": 8,
    "start_time": "2022-02-15T08:28:23.182Z"
   },
   {
    "duration": 9998,
    "start_time": "2022-02-15T08:28:24.661Z"
   },
   {
    "duration": 5,
    "start_time": "2022-02-15T08:28:47.630Z"
   },
   {
    "duration": 8,
    "start_time": "2022-02-15T08:28:48.025Z"
   },
   {
    "duration": 5,
    "start_time": "2022-02-15T08:28:56.972Z"
   },
   {
    "duration": 4,
    "start_time": "2022-02-15T08:29:10.139Z"
   }
  ],
  "kernelspec": {
   "display_name": "Python 3 (ipykernel)",
   "language": "python",
   "name": "python3"
  },
  "language_info": {
   "codemirror_mode": {
    "name": "ipython",
    "version": 3
   },
   "file_extension": ".py",
   "mimetype": "text/x-python",
   "name": "python",
   "nbconvert_exporter": "python",
   "pygments_lexer": "ipython3",
   "version": "3.9.7"
  },
  "toc": {
   "base_numbering": 1,
   "nav_menu": {},
   "number_sections": true,
   "sideBar": true,
   "skip_h1_title": true,
   "title_cell": "Table of Contents",
   "title_sidebar": "Contents",
   "toc_cell": false,
   "toc_position": {},
   "toc_section_display": true,
   "toc_window_display": false
  }
 },
 "nbformat": 4,
 "nbformat_minor": 2
}
